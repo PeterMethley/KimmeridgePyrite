{
 "cells": [
  {
   "cell_type": "code",
   "execution_count": 4,
   "metadata": {},
   "outputs": [],
   "source": [
    "import numpy as np\n",
    "import ipywidgets as wdg\n",
    "from plotly_default import go"
   ]
  },
  {
   "cell_type": "code",
   "execution_count": 6,
   "metadata": {},
   "outputs": [
    {
     "data": {
      "application/vnd.jupyter.widget-view+json": {
       "model_id": "98f76d4af7724637bfeca0b64cadfb50",
       "version_major": 2,
       "version_minor": 0
      },
      "text/plain": [
       "interactive(children=(FloatSlider(value=5.0, description='a', max=10.0), FloatSlider(value=5.0, description='b…"
      ]
     },
     "metadata": {},
     "output_type": "display_data"
    }
   ],
   "source": [
    "fig1 = go.FigureWidget()\n",
    "fig1.add_trace(go.Scatter())\n",
    "\n",
    "fig1.add_hline(1)\n",
    "\n",
    "xx = np.linspace(-2*np.pi, 2*np.pi, 1000)\n",
    "\n",
    "@wdg.interact(a=(0., 10.), b=(0., 10.))\n",
    "def interactive_sine(a, b):\n",
    "    yy = np.sin(a*xx) * np.cos(b*xx)\n",
    "    fig1.update_traces(x=xx, y=yy)\n",
    "    fig1.show()"
   ]
  },
  {
   "cell_type": "code",
   "execution_count": null,
   "metadata": {},
   "outputs": [],
   "source": []
  }
 ],
 "metadata": {
  "kernelspec": {
   "display_name": "Python 3",
   "language": "python",
   "name": "python3"
  },
  "language_info": {
   "codemirror_mode": {
    "name": "ipython",
    "version": 3
   },
   "file_extension": ".py",
   "mimetype": "text/x-python",
   "name": "python",
   "nbconvert_exporter": "python",
   "pygments_lexer": "ipython3",
   "version": "3.7.4"
  }
 },
 "nbformat": 4,
 "nbformat_minor": 4
}
