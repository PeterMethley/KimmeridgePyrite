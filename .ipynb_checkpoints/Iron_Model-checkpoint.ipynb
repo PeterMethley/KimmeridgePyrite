{
 "cells": [
  {
   "cell_type": "markdown",
   "metadata": {
    "presto": {
     "id": "f122c9f4-8270-4134-b7a1-c968ad159bca"
    },
    "tags": []
   },
   "source": [
    "# Iron Speciation Model\n",
    "This assumes that the system is sulphide-limited, with plenty of highly-reactive iron available. Therefore, the amount of pyrite produced is equal to the amount of H<sub>2</sub>S that entered the system (divided by 2, since 1 FeS<sub>2</sub> is made from 2 H<sub>2</sub>S). I assume a constant sulphide flux, $q_\\mathrm{H_2S}$, so pyrite is being generated at a constant rate $d_\\mathrm{py}$ for a time $t$.\n",
    "\n",
    "$$\\frac{\\partial\\mathrm{[Fe_{py}]}}{\\partial t} = d_\\mathrm{py}$$\n",
    "\n",
    "$$\\mathrm{[Fe_{py}]}=\\int d_\\mathrm{py}\\,\\mathrm{d}t = d_\\mathrm{py}\\,t+\\mathrm{[Fe_{py}]}_0$$\n",
    "\n",
    "$$\\left(\\frac{\\mathrm{[Fe_{py}]}}{\\mathrm{[Fe_{HR}]}}\\right)_t = \\left(\\frac{\\mathrm{[Fe_{py}]}}{\\mathrm{[Fe_{HR}]}}\\right)_0 + \\frac{d_\\mathrm{py}\\,t}{\\mathrm{[Fe_{HR}]}}$$\n",
    "\n",
    "Note that this is equivalent to an exponentially-decaying sulphide flux integrated over infinite time:\n",
    "$$\\frac{\\partial\\mathrm{[Fe_{py}]}}{\\partial t} = d_0 e^{-\\lambda t}$$\n",
    "where $d_\\mathrm{py}\\cdot t = \\frac{d_0}{\\lambda}$.\n",
    "\n",
    "To convert $q_\\mathrm{H_2S}$ to $d_\\mathrm{py}$:\n",
    "$$d_\\mathrm{py} = \\frac{q_\\mathrm{H_2S} \\cdot M_r(\\mathrm{Fe})}{2\\rho_s}$$\n",
    "where $M_r(\\mathrm{Fe})$ is the relative atomic mass of iron (55.845 g/mol), and $\\rho_s$ is the density of freshly-deposited sediment (about 1.7 g/cm³). This means that a typical H₂S flux of 200 pmol cm⁻³ day⁻¹ is equivalent to a pyrite production rate of 0.12 wt% per ka."
   ]
  },
  {
   "cell_type": "code",
   "execution_count": 1,
   "metadata": {
    "autorun": false,
    "tags": []
   },
   "outputs": [],
   "source": [
    "from plotly_default import go, graph_config, sel_trace\n",
    "import pandas as pd\n",
    "import numpy as np\n",
    "import ipywidgets as wdg\n",
    "from plotly.subplots import make_subplots"
   ]
  },
  {
   "cell_type": "code",
   "execution_count": 2,
   "metadata": {},
   "outputs": [],
   "source": [
    "def wt_to_M(wt, Mr=55.845, density=1.7):\n",
    "    '''Converts a weight percent of a substance with molar mass Mr (default iron) into a molar concentration\n",
    "    in a sediment of specified density (default 1.7 g/cm³)'''\n",
    "    # g/dm³  = 1000 * g/cm³ = 1000 * density * wt% / 100 = 10 * density * wt%\n",
    "    return 10. * density * wt / Mr\n",
    "\n",
    "def M_to_wt(M, Mr=55.845, density=1.7):\n",
    "    return M * Mr / (10. * density)\n",
    "\n",
    "slider_style=dict(description_width='initial')"
   ]
  },
  {
   "cell_type": "code",
   "execution_count": 3,
   "metadata": {},
   "outputs": [
    {
     "data": {
      "text/plain": [
       "0.5256"
      ]
     },
     "execution_count": 3,
     "metadata": {},
     "output_type": "execute_result"
    }
   ],
   "source": [
    "M_to_wt(0.16)"
   ]
  },
  {
   "cell_type": "code",
   "execution_count": 4,
   "metadata": {},
   "outputs": [],
   "source": [
    "# Read in data\n",
    "species_types=pd.read_csv('./Data/Species_types.csv')\n",
    "log_df=pd.read_csv('./Data/Log_data_combined.csv',index_col=0)\n",
    "\n",
    "try:\n",
    "    log_df.insert(loc=9, column='Constant', value=1) #\n",
    "except ValueError:\n",
    "    pass # do nothing if column already exists\n",
    "\n",
    "data_types = species_types.append(pd.DataFrame({'header': ['Constant', 'height'], 'label': ['', '<i>h</i> / m']}), ignore_index=True, sort=False)\n",
    "\n",
    "axis_options = list(data_types.header)\n",
    "size_options = [i for i in axis_options if i != 'd34S']"
   ]
  },
  {
   "cell_type": "code",
   "execution_count": 5,
   "metadata": {},
   "outputs": [],
   "source": [
    "# categories = list(set(log_df.category))\n",
    "# categories = ['Stratigraphic sequence', 'Pervasively pyritised regions', 'Bed 22']\n",
    "cat_symbols = {'Mudstone': 'circle',\n",
    "               'Carbonate': 'star',\n",
    "               'Pervasively pyritised regions': 'square',\n",
    "               'Bed 22': 'diamond'}\n",
    "categories = list(cat_symbols.keys())\n",
    "\n",
    "def init_biv_plot():\n",
    "    plot = go.FigureWidget()\n",
    "    \n",
    "    for category in categories:   \n",
    "        plot.add_trace(go.Scatter(mode='markers',\n",
    "                                  marker_line={'color': 'Black', 'width': 1},\n",
    "                                  marker_symbol=cat_symbols[category],\n",
    "                                  marker_coloraxis='coloraxis',\n",
    "                                  name=category))\n",
    "        \n",
    "    # Add diagonal line\n",
    "    plot.add_shape(type='line', x0=-100, y0=-100, x1=100, y1=100, visible=False, line_width=0.5, name='Diagonal')\n",
    "\n",
    "    plot.update_layout(height=700, width=740,\n",
    "                       legend=dict(orientation=\"h\",\n",
    "                                   yanchor=\"bottom\",\n",
    "                                   y=1.01,\n",
    "                                   xanchor=\"left\",\n",
    "                                   x=0,\n",
    "                                   itemsizing='constant'),\n",
    "                       coloraxis=dict(colorscale='viridis_r', colorbar_ticks='outside'))\n",
    "    \n",
    "    return plot\n",
    "\n",
    "axis_options = list(data_types.header)\n",
    "size_options = [i for i in axis_options if i != 'd34S']\n",
    "\n",
    "base_errorbar = dict(type='data', thickness=1, color='DarkGrey')\n",
    "\n",
    "\n",
    "def update_biv_traces(x, y, colour, size, diagonal, plot_errors, plot):\n",
    "    \n",
    "    with plot.batch_update():\n",
    "\n",
    "        for category in categories:\n",
    "            cat_df = log_df[log_df.category == category]\n",
    "\n",
    "            if plot_errors:\n",
    "                x_errorbars = {**base_errorbar, 'array': cat_df[x+'_err']}\n",
    "                y_errorbars = {**base_errorbar, 'array': cat_df[y+'_err']}\n",
    "            else:\n",
    "                x_errorbars = None\n",
    "                y_errorbars = None\n",
    "\n",
    "            graph_texts = []\n",
    "            for d in cat_df.iterrows():\n",
    "                graph_texts.append(d[1]['name'] + '<br>' +\n",
    "                                   data_types.loc[data_types.header==size, 'label'].iloc[0] + ': {:.2f}<br>'.format(d[1][size]) +\n",
    "                                   data_types.loc[data_types.header==colour, 'label'].iloc[0] + ': {:.2f}'.format(d[1][colour]))\n",
    "\n",
    "            cat_trace = sel_trace(plot, category)\n",
    "            cat_trace.x=cat_df[x]\n",
    "            cat_trace.y=cat_df[y]\n",
    "            cat_trace.error_x=x_errorbars\n",
    "            cat_trace.error_y=y_errorbars\n",
    "            cat_trace.marker.size=cat_df[size]\n",
    "            cat_trace.marker.sizemin=4\n",
    "            cat_trace.marker.sizeref=3*np.mean(log_df[size]/(6.**2))\n",
    "            cat_trace.marker.color=cat_df[colour]\n",
    "            cat_trace.text=graph_texts\n",
    "\n",
    "\n",
    "        if diagonal:\n",
    "            line_bottom_left = min(log_df[x].min(), log_df[y].min())\n",
    "            line_top_right = max(log_df[x].max(), log_df[y].max())\n",
    "            plot.update_shapes(selector=dict(name='Diagonal'),\n",
    "                               visible=True, x0 = line_bottom_left, y0 = line_bottom_left,\n",
    "                               x1 = line_top_right, y1 = line_top_right)\n",
    "        else:\n",
    "            plot.update_shapes(selector=dict(name='Diagonal'), visible=False)\n",
    "\n",
    "    #     plot.update_layout(xaxis_title=data_types.loc[data_types.header==x, 'label'].iloc[0],\n",
    "    #                        yaxis_title=data_types.loc[data_types.header==y, 'label'].iloc[0],\n",
    "    #                        coloraxis_colorbar_title=data_types.loc[data_types.header==colour, 'label'].iloc[0])\n",
    "\n",
    "        plot.layout.xaxis.title = data_types.loc[data_types.header==x, 'label'].iloc[0]\n",
    "        plot.layout.yaxis.title = data_types.loc[data_types.header==y, 'label'].iloc[0]\n",
    "        plot.layout.coloraxis.colorbar.title = data_types.loc[data_types.header==colour, 'label'].iloc[0]"
   ]
  },
  {
   "cell_type": "code",
   "execution_count": 6,
   "metadata": {},
   "outputs": [
    {
     "data": {
      "application/vnd.jupyter.widget-view+json": {
       "model_id": "3d965f65d9014adab4fc3bad6f4b5be7",
       "version_major": 2,
       "version_minor": 0
      },
      "text/plain": [
       "interactive(children=(Dropdown(description='x', index=3, options=('HR_to_tot', 'py_to_HR', 'py_to_tot', 'Fe_py…"
      ]
     },
     "metadata": {},
     "output_type": "display_data"
    },
    {
     "data": {
      "application/vnd.jupyter.widget-view+json": {
       "model_id": "994a9b9a92304a72988076282dbbe131",
       "version_major": 2,
       "version_minor": 0
      },
      "text/plain": [
       "FigureWidget({\n",
       "    'data': [{'error_x': {},\n",
       "              'error_y': {},\n",
       "              'marker': {'color': arr…"
      ]
     },
     "metadata": {},
     "output_type": "display_data"
    }
   ],
   "source": [
    "# Customisable bivariate plot\n",
    "biv_plot = init_biv_plot()\n",
    "\n",
    "wdg.interact(update_biv_traces,\n",
    "             x=wdg.Dropdown(options=axis_options, value='Fe_py'),\n",
    "             y=wdg.Dropdown(options=axis_options, value='d34S'),\n",
    "             colour=wdg.Dropdown(options=axis_options, value='height'),\n",
    "             size=wdg.Dropdown(options=size_options, value='Constant'),\n",
    "             diagonal=False,\n",
    "             plot_errors=False,\n",
    "             plot=wdg.fixed(biv_plot));\n",
    "\n",
    "biv_plot"
   ]
  },
  {
   "cell_type": "code",
   "execution_count": 7,
   "metadata": {},
   "outputs": [
    {
     "data": {
      "application/vnd.jupyter.widget-view+json": {
       "model_id": "0faf4e7c5f714cca88efef049276ffe5",
       "version_major": 2,
       "version_minor": 0
      },
      "text/plain": [
       "interactive(children=(Dropdown(description='colour', index=10, options=('HR_to_tot', 'py_to_HR', 'py_to_tot', …"
      ]
     },
     "metadata": {},
     "output_type": "display_data"
    },
    {
     "data": {
      "application/vnd.jupyter.widget-view+json": {
       "model_id": "ac42c8a55cb948bbb1188d3c51991197",
       "version_major": 2,
       "version_minor": 0
      },
      "text/plain": [
       "FigureWidget({\n",
       "    'data': [{'error_x': {},\n",
       "              'error_y': {},\n",
       "              'marker': {'color': arr…"
      ]
     },
     "metadata": {},
     "output_type": "display_data"
    }
   ],
   "source": [
    "# Fe speciation plot\n",
    "spec_plot=init_biv_plot()\n",
    "spec_plot.update_layout(xaxis_range=[0,1], yaxis_range=[0,1])\n",
    "spec_plot.add_hline(0.8, line_width=1, line_dash='dash')\n",
    "spec_plot.add_vline(0.38, line_width=1, line_dash='dash')\n",
    "\n",
    "wdg.interact(update_biv_traces,\n",
    "             x=wdg.fixed('HR_to_tot'),\n",
    "             y=wdg.fixed('py_to_HR'),\n",
    "             colour=wdg.Dropdown(options=axis_options, value='d34S'),\n",
    "             size=wdg.Dropdown(options=size_options, value='Constant'),\n",
    "             diagonal=wdg.fixed(False),\n",
    "             plot_errors=False,\n",
    "             plot=wdg.fixed(spec_plot));\n",
    "\n",
    "spec_plot"
   ]
  },
  {
   "cell_type": "code",
   "execution_count": 9,
   "metadata": {},
   "outputs": [
    {
     "data": {
      "application/vnd.jupyter.widget-view+json": {
       "model_id": "eef2043a18fb4cc28294ea0c3c6729a6",
       "version_major": 2,
       "version_minor": 0
      },
      "text/plain": [
       "interactive(children=(FloatSlider(value=5.0, description='[Fe<sub>tot</sub>] / wt%', layout=Layout(width='75%'…"
      ]
     },
     "metadata": {},
     "output_type": "display_data"
    },
    {
     "data": {
      "application/vnd.jupyter.widget-view+json": {
       "model_id": "df8b60132866415689669a3a2cb42f1b",
       "version_major": 2,
       "version_minor": 0
      },
      "text/plain": [
       "FigureWidget({\n",
       "    'data': [{'name': 'Constant q<sub>H2S</sub>',\n",
       "              'type': 'scatter',\n",
       "            …"
      ]
     },
     "metadata": {},
     "output_type": "display_data"
    }
   ],
   "source": [
    "# Test model\n",
    "HR_tot_0 = np.linspace(0.01,1,100)\n",
    "py_HR_0 = np.zeros(50)\n",
    "\n",
    "model_test=go.FigureWidget()\n",
    "model_test.add_trace(go.Scatter(name='Constant q<sub>H2S</sub>', x=HR_tot_0))\n",
    "#model_test.add_trace(go.Scatter(name='Decaying q<sub>H2S</sub>'))\n",
    "model_test.update_layout(xaxis_range=[0,1], yaxis_range=[0,1],\n",
    "                         width=700, height=700)\n",
    "model_test.add_hline(0.8, line_width=1, line_dash='dash')\n",
    "model_test.add_vline(0.38, line_width=1, line_dash='dash')\n",
    "model_test.update_layout(xaxis_title='[Fe<sub>HR</sub>]/[Fe<sub>tot</sub>]',\n",
    "                         yaxis_title='[Fe<sub>py</sub>]/[Fe<sub>HR</sub>]')\n",
    "\n",
    "\n",
    "@wdg.interact(Fe_tot=wdg.FloatSlider(value=5, min=0, max=15, description='[Fe<sub>tot</sub>] / wt%', style=slider_style, layout=wdg.Layout(width='75%')),\n",
    "              py_0 = wdg.FloatSlider(value=0, min=0, max=5, step=0.1, description='[Fe<sub>py</sub>]<sub>0</sub> / wt%', style=slider_style, layout=wdg.Layout(width='75%')),\n",
    "              n_H2S=wdg.FloatSlider(value=0, min=0, max=1.5, step=0.01, description='H<sub>2</sub>S added / mol', style=slider_style, layout=wdg.Layout(width='75%')),\n",
    "              plot=wdg.fixed(model_test))\n",
    "def update_Fe_model(Fe_tot, py_0, n_H2S, plot):\n",
    "    \n",
    "    with plot.batch_update():\n",
    "        \n",
    "        d_py = M_to_wt(0.5*n_H2S)\n",
    "        HR_0 = HR_tot_0 * Fe_tot\n",
    "\n",
    "        py_HR_t = (py_0 + d_py)/HR_0\n",
    "\n",
    "        model_line = sel_trace(plot, 'Constant q<sub>H2S</sub>')\n",
    "        model_line.y = py_HR_t\n",
    "    \n",
    "    \n",
    "model_test"
   ]
  },
  {
   "cell_type": "code",
   "execution_count": 12,
   "metadata": {},
   "outputs": [
    {
     "data": {
      "application/vnd.jupyter.widget-view+json": {
       "model_id": "ee73b67b6e4b4b7f882a603506209721",
       "version_major": 2,
       "version_minor": 0
      },
      "text/plain": [
       "interactive(children=(FloatSlider(value=5.11, description='[Fe<sub>tot</sub>] / wt%', layout=Layout(width='75%…"
      ]
     },
     "metadata": {},
     "output_type": "display_data"
    },
    {
     "data": {
      "application/vnd.jupyter.widget-view+json": {
       "model_id": "617f2225d47944278d548ce1b2627fdb",
       "version_major": 2,
       "version_minor": 0
      },
      "text/plain": [
       "FigureWidget({\n",
       "    'data': [{'legendgroup': 'Mudstone',\n",
       "              'marker': {'color': 'LightPink', 'symbol…"
      ]
     },
     "metadata": {},
     "output_type": "display_data"
    }
   ],
   "source": [
    "# Modelling pyritisation of real data\n",
    "psn_model=go.FigureWidget()\n",
    "\n",
    "# for HR_to_tot in list(log_df.HR_to_tot):\n",
    "#     psn_model.add_vline(HR_to_tot, line_width=0.5, line_color='Lavender')\n",
    "\n",
    "for category in categories: \n",
    "    \n",
    "    cat_df = log_df[log_df.category == category]\n",
    "\n",
    "    graph_texts = []\n",
    "    for d in cat_df.iterrows():\n",
    "        graph_texts.append(d[1]['name'])\n",
    "    \n",
    "    # Current locations of samples in Fe speciation space\n",
    "    \n",
    "    psn_model.add_trace(go.Scatter(x=cat_df['HR_to_tot'],\n",
    "                                   mode='markers',\n",
    "                                   marker_symbol=cat_symbols[category],\n",
    "                                   marker_color='LightPink',\n",
    "                                   name=category+' (pre-diagenesis)',\n",
    "                                   text=graph_texts,\n",
    "                                   legendgroup=category))\n",
    "    \n",
    "    psn_model.add_trace(go.Scatter(x=cat_df['HR_to_tot'],\n",
    "                                   mode='markers',\n",
    "                                   marker_symbol=cat_symbols[category],\n",
    "                                   marker_color='LawnGreen',\n",
    "                                   name=category+' (half way)',\n",
    "                                   marker_opacity=0.8,\n",
    "                                   text=graph_texts,\n",
    "                                   legendgroup=category))\n",
    "    \n",
    "    psn_model.add_trace(go.Scatter(x=cat_df['HR_to_tot'],\n",
    "                                   mode='markers',\n",
    "                                   marker_symbol=cat_symbols[category],\n",
    "                                   marker_color='Green',\n",
    "                                   name=category+' (modelled)',\n",
    "                                   text=graph_texts,\n",
    "                                   legendgroup=category))\n",
    "\n",
    "    psn_model.add_trace(go.Scatter(x=cat_df['HR_to_tot'], y=cat_df['py_to_HR'],\n",
    "                                   mode='markers',\n",
    "                                   marker_symbol=cat_symbols[category],\n",
    "                                   marker_color='Blue',\n",
    "                                   marker_opacity=0.3,\n",
    "                                   name=category+' (post-diagenesis)',\n",
    "                                   text=graph_texts,\n",
    "                                   legendgroup=category))    \n",
    "    \n",
    "\n",
    "# for model line\n",
    "HR_tot_0 = np.linspace(0.01,1,50) # Increase last number for higher resolution\n",
    "py_HR_0 = np.zeros(len(HR_tot_0))\n",
    "\n",
    "psn_model.add_trace(go.Scatter(name='model (const. total Fe)', x=HR_tot_0,\n",
    "                               line_color='LightGreen'))\n",
    "\n",
    "psn_model.update_layout(xaxis_range=[0,1], yaxis_range=[0,1],\n",
    "                        width=900, height=650)\n",
    "psn_model.add_hline(0.8, line_width=1, line_dash='dash')\n",
    "psn_model.add_vline(0.38, line_width=1, line_dash='dash')\n",
    "psn_model.update_layout(xaxis_title='[Fe<sub>HR</sub>]/[Fe<sub>tot</sub>]',\n",
    "                        yaxis_title='[Fe<sub>py</sub>]/[Fe<sub>HR</sub>]',\n",
    "                        legend=dict(#itemsizing='constant',\n",
    "                                    font_size=11))\n",
    "\n",
    "\n",
    "\n",
    "@wdg.interact(Fe_tot=wdg.FloatSlider(value=5.11, min=0, max=15, description='[Fe<sub>tot</sub>] / wt%', style=slider_style, layout=wdg.Layout(width='75%')),\n",
    "              py_0 = wdg.FloatSlider(value=0, min=0, max=5, step=0.1, description='[Fe<sub>py</sub>]<sub>0</sub> / wt%', style=slider_style, layout=wdg.Layout(width='75%')),\n",
    "              n_H2S=wdg.FloatSlider(value=0, min=0, max=1.5, step=0.01, description='H<sub>2</sub>S added / mol', style=slider_style, layout=wdg.Layout(width='75%')),\n",
    "              alter_py_0=wdg.Checkbox(value=False, description='Correct model by changing [Fe<sub>py</sub>]<sub>0</sub>', style=slider_style),\n",
    "              plot=wdg.fixed(psn_model))\n",
    "def update_Fe_data(Fe_tot, py_0, n_H2S, alter_py_0, plot):\n",
    "    \n",
    "    with plot.batch_update():\n",
    "        \n",
    "        # update model line\n",
    "        d_py = M_to_wt(0.5*n_H2S)\n",
    "        HR_0 = HR_tot_0 * Fe_tot\n",
    "\n",
    "        py_HR_t = (py_0 + d_py)/HR_0\n",
    "\n",
    "        # Update y coordinates of line\n",
    "        sel_trace(plot, 'model (const. total Fe)').y = py_HR_t\n",
    "\n",
    "\n",
    "        # update data points\n",
    "        for category in categories:\n",
    "            cat_df = log_df[log_df.category == category]\n",
    "\n",
    "            py_HR_points = list((py_0 + d_py)/cat_df['Fe_HR'])\n",
    "\n",
    "            for i in range(len(py_HR_points)):\n",
    "                if py_HR_points[i] > 1:\n",
    "                    py_HR_points[i] = 1\n",
    "\n",
    "            # Update y coordinates of modelled points\n",
    "            sel_trace(plot, category+' (modelled)').y=py_HR_points\n",
    "\n",
    "            sel_trace(plot, category+' (half way)').y = [0.5* i for i in py_HR_points]\n",
    "\n",
    "            if alter_py_0:\n",
    "\n",
    "                py_0s = cat_df['py_to_HR'] - py_HR_points\n",
    "\n",
    "                sel_trace(plot, category+' (pre-diagenesis)').y=py_0s\n",
    "            else:\n",
    "                sel_trace(plot, category+' (pre-diagenesis)').y=py_0/cat_df['Fe_HR']\n",
    "    \n",
    "#     if alter_py_0:\n",
    "#         plot.update_layout(yaxis_range=[-0.5,1])\n",
    "#     else:\n",
    "#         plot.update_layout(yaxis_range=[0,1])\n",
    "    \n",
    "    \n",
    "psn_model"
   ]
  },
  {
   "cell_type": "code",
   "execution_count": 10,
   "metadata": {},
   "outputs": [],
   "source": [
    "# Increase marker size for export\n",
    "for trace in psn_model.data:\n",
    "    trace.marker.size = 8"
   ]
  },
  {
   "cell_type": "code",
   "execution_count": 11,
   "metadata": {},
   "outputs": [],
   "source": [
    "# psn_model.write_image('./images/Fe_spec_test.svg')"
   ]
  },
  {
   "cell_type": "code",
   "execution_count": null,
   "metadata": {},
   "outputs": [],
   "source": []
  }
 ],
 "metadata": {
  "kernelspec": {
   "display_name": "Python 3 (ipykernel)",
   "language": "python",
   "name": "python3"
  },
  "language_info": {
   "codemirror_mode": {
    "name": "ipython",
    "version": 3
   },
   "file_extension": ".py",
   "mimetype": "text/x-python",
   "name": "python",
   "nbconvert_exporter": "python",
   "pygments_lexer": "ipython3",
   "version": "3.9.1"
  },
  "presto": {
   "id": "70a48a7c-46b4-4623-bacf-81a8600b8579"
  },
  "toc-showmarkdowntxt": false,
  "toc-showtags": false,
  "widgets": {
   "application/vnd.jupyter.widget-state+json": {
    "state": {
     "021b526b4f8d4cdc94acf0a78296791f": {
      "model_module": "@jupyter-widgets/controls",
      "model_module_version": "1.5.0",
      "model_name": "CheckboxModel",
      "state": {
       "description": "plot_errors",
       "disabled": false,
       "layout": "IPY_MODEL_1ea66ca2062e47c5a6e516d87cae5b35",
       "style": "IPY_MODEL_9d146067cdc9473fb05374dc5db316b9",
       "value": false
      }
     },
     "02c195a85eda4362937ef7722dbc8cfe": {
      "model_module": "@jupyter-widgets/controls",
      "model_module_version": "1.5.0",
      "model_name": "FloatSliderModel",
      "state": {
       "description": "H<sub>2</sub>S added / mol",
       "layout": "IPY_MODEL_4819fb46b0fb4a3fb7f2f4515be74413",
       "max": 1.5,
       "step": 0.01,
       "style": "IPY_MODEL_f60bda3376e4465ebf8f8f4ac5f516bd",
       "value": 0.07
      }
     },
     "02cf92846e9b471e9373f30844a583fb": {
      "model_module": "@jupyter-widgets/controls",
      "model_module_version": "1.5.0",
      "model_name": "DropdownModel",
      "state": {
       "_options_labels": [
        "HR_to_tot",
        "py_to_HR",
        "py_to_tot",
        "Fe_py",
        "Fe_ox",
        "Fe_mag",
        "Fe_carb",
        "Fe_UR",
        "Fe_HR",
        "Fe_tot",
        "H2S_decay",
        "fossil_index",
        "py_index",
        "phi",
        "biodiversity",
        "Constant",
        "height"
       ],
       "description": "size",
       "index": 15,
       "layout": "IPY_MODEL_7d34e0a8cc454250902e06242ef87374",
       "style": "IPY_MODEL_2659c74a51a34384910a00b4e5cadcd3"
      }
     },
     "03231b8b05f648f6bf3750c2548a81b5": {
      "model_module": "@jupyter-widgets/controls",
      "model_module_version": "1.5.0",
      "model_name": "DescriptionStyleModel",
      "state": {
       "description_width": "initial"
      }
     },
     "0bcd045cf98847d2a9ac32cecc2aa3d5": {
      "model_module": "@jupyter-widgets/base",
      "model_module_version": "1.2.0",
      "model_name": "LayoutModel",
      "state": {}
     },
     "0c270034c5154d7094d9975f7652d046": {
      "model_module": "@jupyter-widgets/controls",
      "model_module_version": "1.5.0",
      "model_name": "CheckboxModel",
      "state": {
       "description": "diagonal",
       "disabled": false,
       "layout": "IPY_MODEL_e8402aefebbe480a86cda120e26301d2",
       "style": "IPY_MODEL_c8e1b6e27768410cb752b1f0e8773eef",
       "value": false
      }
     },
     "0faf4e7c5f714cca88efef049276ffe5": {
      "model_module": "@jupyter-widgets/controls",
      "model_module_version": "1.5.0",
      "model_name": "VBoxModel",
      "state": {
       "_dom_classes": [
        "widget-interact"
       ],
       "children": [
        "IPY_MODEL_76c27721c9b54a6bbf2d2bb91d68da92",
        "IPY_MODEL_02cf92846e9b471e9373f30844a583fb",
        "IPY_MODEL_39fc885ec86e44728c350431a99f5e72",
        "IPY_MODEL_d085fb6cd1794dbfb91128d708067b5d"
       ],
       "layout": "IPY_MODEL_f9c6b2f8801841b8be0bb321e2535a1d"
      }
     },
     "103c9cc7d7c64826b6614aa38236e4eb": {
      "model_module": "@jupyter-widgets/controls",
      "model_module_version": "1.5.0",
      "model_name": "SliderStyleModel",
      "state": {
       "description_width": "initial"
      }
     },
     "125a6e7f51a6416fad961ad580e872d4": {
      "model_module": "@jupyter-widgets/controls",
      "model_module_version": "1.5.0",
      "model_name": "FloatSliderModel",
      "state": {
       "description": "[Fe<sub>py</sub>]<sub>0</sub> / wt%",
       "layout": "IPY_MODEL_89feb45ed7d64441b3869b805c95537c",
       "max": 5,
       "step": 0.1,
       "style": "IPY_MODEL_92d035524d77465bbdfcf2f84fe520e3"
      }
     },
     "18db4c6c84c34e7d88e44eb23b3e04f8": {
      "model_module": "@jupyter-widgets/controls",
      "model_module_version": "1.5.0",
      "model_name": "FloatSliderModel",
      "state": {
       "description": "[Fe<sub>tot</sub>] / wt%",
       "layout": "IPY_MODEL_df181ad647e94937afb2d829dbffe469",
       "max": 15,
       "step": 0.1,
       "style": "IPY_MODEL_f6c006e647c642c6a2c96705e8a58061",
       "value": 5.11
      }
     },
     "19cd1d819b5b4658b3297401b5f1a09f": {
      "model_module": "@jupyter-widgets/base",
      "model_module_version": "1.2.0",
      "model_name": "LayoutModel",
      "state": {
       "width": "75%"
      }
     },
     "1ea66ca2062e47c5a6e516d87cae5b35": {
      "model_module": "@jupyter-widgets/base",
      "model_module_version": "1.2.0",
      "model_name": "LayoutModel",
      "state": {}
     },
     "2659c74a51a34384910a00b4e5cadcd3": {
      "model_module": "@jupyter-widgets/controls",
      "model_module_version": "1.5.0",
      "model_name": "DescriptionStyleModel",
      "state": {
       "description_width": ""
      }
     },
     "27732d712c874829a0b040b3ed364dc3": {
      "model_module": "@jupyter-widgets/output",
      "model_module_version": "1.0.0",
      "model_name": "OutputModel",
      "state": {
       "layout": "IPY_MODEL_eeaea2d6af6049ffbd8fc3087e7419d9"
      }
     },
     "2d2e33473cfd4be995dc5af9cb015b50": {
      "model_module": "@jupyter-widgets/base",
      "model_module_version": "1.2.0",
      "model_name": "LayoutModel",
      "state": {}
     },
     "2fa360f6b3374d0da428303830cf31df": {
      "model_module": "@jupyter-widgets/controls",
      "model_module_version": "1.5.0",
      "model_name": "SliderStyleModel",
      "state": {
       "description_width": "initial"
      }
     },
     "33789b4f064e44ef8376b1f88cf1bf71": {
      "model_module": "@jupyter-widgets/base",
      "model_module_version": "1.2.0",
      "model_name": "LayoutModel",
      "state": {
       "width": "75%"
      }
     },
     "34a616ea44eb4f268846a63e5479b064": {
      "model_module": "@jupyter-widgets/controls",
      "model_module_version": "1.5.0",
      "model_name": "CheckboxModel",
      "state": {
       "description": "Correct model by changing [Fe<sub>py</sub>]<sub>0</sub>",
       "disabled": false,
       "layout": "IPY_MODEL_9725a002deeb412184b352130b52a229",
       "style": "IPY_MODEL_03231b8b05f648f6bf3750c2548a81b5",
       "value": false
      }
     },
     "36fbe3e574314fbaa1d9f67be43a0416": {
      "model_module": "@jupyter-widgets/controls",
      "model_module_version": "1.5.0",
      "model_name": "FloatSliderModel",
      "state": {
       "description": "H<sub>2</sub>S added / mol",
       "layout": "IPY_MODEL_d63672a07b1d48829a98cbfa87737ecd",
       "max": 1.5,
       "step": 0.01,
       "style": "IPY_MODEL_7e4e40fb3a3b4c7299651a1eb975c1eb"
      }
     },
     "383b30db602646dd8a2d562de5bacc11": {
      "model_module": "@jupyter-widgets/controls",
      "model_module_version": "1.5.0",
      "model_name": "FloatSliderModel",
      "state": {
       "description": "[Fe<sub>tot</sub>] / wt%",
       "layout": "IPY_MODEL_3d18efe4b2ea4a3ca8e50067dc32778e",
       "max": 15,
       "step": 0.1,
       "style": "IPY_MODEL_adcf00b1c53144109945627c89375316",
       "value": 5
      }
     },
     "39fc885ec86e44728c350431a99f5e72": {
      "model_module": "@jupyter-widgets/controls",
      "model_module_version": "1.5.0",
      "model_name": "CheckboxModel",
      "state": {
       "description": "plot_errors",
       "disabled": false,
       "layout": "IPY_MODEL_6671ebdcca0245129e1fd15e41eec53e",
       "style": "IPY_MODEL_c7263c24bee544b28207cb7b9cc0b948",
       "value": false
      }
     },
     "3bf2461f8ad64eed898f5dee9ff7ef39": {
      "model_module": "@jupyter-widgets/output",
      "model_module_version": "1.0.0",
      "model_name": "OutputModel",
      "state": {
       "layout": "IPY_MODEL_85a15119e028424fa2d58c96e9350e8d"
      }
     },
     "3d18efe4b2ea4a3ca8e50067dc32778e": {
      "model_module": "@jupyter-widgets/base",
      "model_module_version": "1.2.0",
      "model_name": "LayoutModel",
      "state": {
       "width": "75%"
      }
     },
     "3d965f65d9014adab4fc3bad6f4b5be7": {
      "model_module": "@jupyter-widgets/controls",
      "model_module_version": "1.5.0",
      "model_name": "VBoxModel",
      "state": {
       "_dom_classes": [
        "widget-interact"
       ],
       "children": [
        "IPY_MODEL_b447389863ce4d3198f599ddf6de27d4",
        "IPY_MODEL_ac0d5d976f4e445a9e2d2652abb0f29d",
        "IPY_MODEL_e7437336ccec4270bfc670720958ff2e",
        "IPY_MODEL_bb05864d61a547acb999b5a7a1a7ccb4",
        "IPY_MODEL_0c270034c5154d7094d9975f7652d046",
        "IPY_MODEL_021b526b4f8d4cdc94acf0a78296791f",
        "IPY_MODEL_9e40f5f8933f470eb152b6ebc3e9bbe4"
       ],
       "layout": "IPY_MODEL_9819f7560733409ab309f1d7a7d32161"
      }
     },
     "41b2242d66e946b9b7836ecf1254a03b": {
      "model_module": "@jupyter-widgets/base",
      "model_module_version": "1.2.0",
      "model_name": "LayoutModel",
      "state": {}
     },
     "41c1e2e0f0324545b98fec7c766804bb": {
      "model_module": "@jupyter-widgets/controls",
      "model_module_version": "1.5.0",
      "model_name": "CheckboxModel",
      "state": {
       "description": "Correct model by changing [Fe<sub>py</sub>]<sub>0</sub>",
       "disabled": false,
       "layout": "IPY_MODEL_441fdf9e56974e92bfda0619f148ef4a",
       "style": "IPY_MODEL_9356b8f830fc4832a621001923467cc7",
       "value": false
      }
     },
     "441fdf9e56974e92bfda0619f148ef4a": {
      "model_module": "@jupyter-widgets/base",
      "model_module_version": "1.2.0",
      "model_name": "LayoutModel",
      "state": {}
     },
     "459bdf2e3cec4759ba2cb7f367e30544": {
      "model_module": "@jupyter-widgets/controls",
      "model_module_version": "1.5.0",
      "model_name": "FloatSliderModel",
      "state": {
       "description": "H<sub>2</sub>S added / mol",
       "layout": "IPY_MODEL_b58ce2c9031c446d9b59617af1ecc578",
       "max": 1.5,
       "step": 0.01,
       "style": "IPY_MODEL_8d95aa3cae82476d8a943fbe65a6608e",
       "value": 0.49
      }
     },
     "4819fb46b0fb4a3fb7f2f4515be74413": {
      "model_module": "@jupyter-widgets/base",
      "model_module_version": "1.2.0",
      "model_name": "LayoutModel",
      "state": {
       "width": "75%"
      }
     },
     "48dc935327594dab8b0ce9ece2a22ea6": {
      "model_module": "@jupyter-widgets/base",
      "model_module_version": "1.2.0",
      "model_name": "LayoutModel",
      "state": {
       "width": "75%"
      }
     },
     "4fe94663c82543409b885f666009d74b": {
      "model_module": "@jupyter-widgets/output",
      "model_module_version": "1.0.0",
      "model_name": "OutputModel",
      "state": {
       "layout": "IPY_MODEL_2d2e33473cfd4be995dc5af9cb015b50"
      }
     },
     "507036aa74d946f3bce511510bc0ad80": {
      "buffers": [
       {
        "data": "XFpQhZJ17D9b/Jw93n7fP+i1AE/bJ+U/COOO8seB5T9UIVbvVIjlP/MSfp9MYOk/YWEw5OqV4j9vjvTiq5frP34pYmErnOg/JwmWh+si6T86iSG/wLvpP+AZe2LoueQ/oky2XYDC6z8VMB/ILizmP31ENZuxbew/leBQ+fVw4T/XZFmTZU3mP2NCE/0qa+Y/m5fEvhcf3T9GRXYeekHoP3Z5XCXJGe0/Iehdp+E33D/Gee6rKInoP5aLiHIAx+A/rkb+MVY86j8TBt9pCuzgPxBDdWroROM/WAljs6Da6z/5psodzi/iP98IkaMLBuc/DOpCMlxN4z8a/V1dqE7nPxhaRmnw2ec/NsF4K/sc4j+byUeerbLiP9Bf0a/DSOg/UQ9OXHM75j8=",
        "encoding": "base64",
        "path": [
         "_data",
         0,
         "x",
         "value"
        ]
       },
       {
        "data": "AAAAAAAAAAAAAAAAAAAAAAAAAAAAAAAAAAAAAAAAAAAAAAAAAAAAAAAAAAAAAAAAAAAAAAAAAAAAAAAAAAAAAAAAAAAAAAAAAAAAAAAAAAAAAAAAAAAAAAAAAAAAAAAAAAAAAAAAAAAAAAAAAAAAAAAAAAAAAAAAAAAAAAAAAAAAAAAAAAAAAAAAAAAAAAAAAAAAAAAAAAAAAAAAAAAAAAAAAAAAAAAAAAAAAAAAAAAAAAAAAAAAAAAAAAAAAAAAAAAAAAAAAAAAAAAAAAAAAAAAAAAAAAAAAAAAAAAAAAAAAAAAAAAAAAAAAAAAAAAAAAAAAAAAAAAAAAAAAAAAAAAAAAAAAAAAAAAAAAAAAAAAAAAAAAAAAAAAAAAAAAAAAAAAAAAAAAA=",
        "encoding": "base64",
        "path": [
         "_data",
         0,
         "y",
         "value"
        ]
       },
       {
        "data": "XFpQhZJ17D9b/Jw93n7fP+i1AE/bJ+U/COOO8seB5T9UIVbvVIjlP/MSfp9MYOk/YWEw5OqV4j9vjvTiq5frP34pYmErnOg/JwmWh+si6T86iSG/wLvpP+AZe2LoueQ/oky2XYDC6z8VMB/ILizmP31ENZuxbew/leBQ+fVw4T/XZFmTZU3mP2NCE/0qa+Y/m5fEvhcf3T9GRXYeekHoP3Z5XCXJGe0/Iehdp+E33D/Gee6rKInoP5aLiHIAx+A/rkb+MVY86j8TBt9pCuzgPxBDdWroROM/WAljs6Da6z/5psodzi/iP98IkaMLBuc/DOpCMlxN4z8a/V1dqE7nPxhaRmnw2ec/NsF4K/sc4j+byUeerbLiP9Bf0a/DSOg/UQ9OXHM75j8=",
        "encoding": "base64",
        "path": [
         "_data",
         1,
         "x",
         "value"
        ]
       },
       {
        "data": "XFpQhZJ17D9b/Jw93n7fP+i1AE/bJ+U/COOO8seB5T9UIVbvVIjlP/MSfp9MYOk/YWEw5OqV4j9vjvTiq5frP34pYmErnOg/JwmWh+si6T86iSG/wLvpP+AZe2LoueQ/oky2XYDC6z8VMB/ILizmP31ENZuxbew/leBQ+fVw4T/XZFmTZU3mP2NCE/0qa+Y/m5fEvhcf3T9GRXYeekHoP3Z5XCXJGe0/Iehdp+E33D/Gee6rKInoP5aLiHIAx+A/rkb+MVY86j8TBt9pCuzgPxBDdWroROM/WAljs6Da6z/5psodzi/iP98IkaMLBuc/DOpCMlxN4z8a/V1dqE7nPxhaRmnw2ec/NsF4K/sc4j+byUeerbLiP9Bf0a/DSOg/UQ9OXHM75j8=",
        "encoding": "base64",
        "path": [
         "_data",
         2,
         "x",
         "value"
        ]
       },
       {
        "data": "XFpQhZJ17D9b/Jw93n7fP+i1AE/bJ+U/COOO8seB5T9UIVbvVIjlP/MSfp9MYOk/YWEw5OqV4j9vjvTiq5frP34pYmErnOg/JwmWh+si6T86iSG/wLvpP+AZe2LoueQ/oky2XYDC6z8VMB/ILizmP31ENZuxbew/leBQ+fVw4T/XZFmTZU3mP2NCE/0qa+Y/m5fEvhcf3T9GRXYeekHoP3Z5XCXJGe0/Iehdp+E33D/Gee6rKInoP5aLiHIAx+A/rkb+MVY86j8TBt9pCuzgPxBDdWroROM/WAljs6Da6z/5psodzi/iP98IkaMLBuc/DOpCMlxN4z8a/V1dqE7nPxhaRmnw2ec/NsF4K/sc4j+byUeerbLiP9Bf0a/DSOg/UQ9OXHM75j8=",
        "encoding": "base64",
        "path": [
         "_data",
         3,
         "x",
         "value"
        ]
       },
       {
        "data": "AAAAAACAvz///////3/nP+NZRvQB1dE/AAAAAAAA5z/Cbn4LAaPkPxVQARVQAdU/6VCD3ZmM5j+KU7/nljjVP7IVQcNJ3dc/9onqQSPv3D/6j++FCMTMP1HrVwrU+uU/mJIpmZIp2T9e3MVd3MXdP+iiiy666OI/v9wQA9Kx5D8OePzhgMffP4v2m/JcAtk/GHqhF3qh5z/sPtwCCqPaPzP8l0DotdM/MwTraPM+5T8z/iMwPTjLP1VVVVVVVeU/1YGPuYn2zT9IgzRIgzToP3mFV3iFV9g/MQpR/UjY0T+yH/uxH/vhP0Qn7YNkQN0/eXh4eHh46D+/TTFq+NvkP0dY7mmE5c4/nYM1S4xP6T/A/HWW+hnQP0UXXXTRRdc/Ce0ltJfQ4j8=",
        "encoding": "base64",
        "path": [
         "_data",
         3,
         "y",
         "value"
        ]
       },
       {
        "data": "T0KGcHbH7j86EYT0pwfwPw==",
        "encoding": "base64",
        "path": [
         "_data",
         4,
         "x",
         "value"
        ]
       },
       {
        "data": "AAAAAAAAAAAAAAAAAAAAAA==",
        "encoding": "base64",
        "path": [
         "_data",
         4,
         "y",
         "value"
        ]
       },
       {
        "data": "T0KGcHbH7j86EYT0pwfwPw==",
        "encoding": "base64",
        "path": [
         "_data",
         5,
         "x",
         "value"
        ]
       },
       {
        "data": "T0KGcHbH7j86EYT0pwfwPw==",
        "encoding": "base64",
        "path": [
         "_data",
         6,
         "x",
         "value"
        ]
       },
       {
        "data": "T0KGcHbH7j86EYT0pwfwPw==",
        "encoding": "base64",
        "path": [
         "_data",
         7,
         "x",
         "value"
        ]
       },
       {
        "data": "mPMp6AFctz9Gt/CrMZGOPw==",
        "encoding": "base64",
        "path": [
         "_data",
         7,
         "y",
         "value"
        ]
       },
       {
        "data": "5AmIzlf36D+65iBDdp3kP16ZmlI0GO4/",
        "encoding": "base64",
        "path": [
         "_data",
         8,
         "x",
         "value"
        ]
       },
       {
        "data": "AAAAAAAAAAAAAAAAAAAAAAAAAAAAAAAA",
        "encoding": "base64",
        "path": [
         "_data",
         8,
         "y",
         "value"
        ]
       },
       {
        "data": "5AmIzlf36D+65iBDdp3kP16ZmlI0GO4/",
        "encoding": "base64",
        "path": [
         "_data",
         9,
         "x",
         "value"
        ]
       },
       {
        "data": "5AmIzlf36D+65iBDdp3kP16ZmlI0GO4/",
        "encoding": "base64",
        "path": [
         "_data",
         10,
         "x",
         "value"
        ]
       },
       {
        "data": "5AmIzlf36D+65iBDdp3kP16ZmlI0GO4/",
        "encoding": "base64",
        "path": [
         "_data",
         11,
         "x",
         "value"
        ]
       },
       {
        "data": "rLid02c/4D8rMl+aOIzlPx7wNU2qHuA/",
        "encoding": "base64",
        "path": [
         "_data",
         11,
         "y",
         "value"
        ]
       },
       {
        "data": "+k0Z2ieF6z9n8Jvo6dzuP83MzMzMzOw/iSoyRzZm7j9XXkDVXgfpPx8Fm/+4E+4/kvh/CifL6j8B6oqXvM3kP0+KscuHWuQ/SHgHzFPJ7z8RvCr8pHPiPw==",
        "encoding": "base64",
        "path": [
         "_data",
         12,
         "x",
         "value"
        ]
       },
       {
        "data": "AAAAAAAAAAAAAAAAAAAAAAAAAAAAAAAAAAAAAAAAAAAAAAAAAAAAAAAAAAAAAAAAAAAAAAAAAAAAAAAAAAAAAAAAAAAAAAAAAAAAAAAAAAAAAAAAAAAAAA==",
        "encoding": "base64",
        "path": [
         "_data",
         12,
         "y",
         "value"
        ]
       },
       {
        "data": "+k0Z2ieF6z9n8Jvo6dzuP83MzMzMzOw/iSoyRzZm7j9XXkDVXgfpPx8Fm/+4E+4/kvh/CifL6j8B6oqXvM3kP0+KscuHWuQ/SHgHzFPJ7z8RvCr8pHPiPw==",
        "encoding": "base64",
        "path": [
         "_data",
         13,
         "x",
         "value"
        ]
       },
       {
        "data": "+k0Z2ieF6z9n8Jvo6dzuP83MzMzMzOw/iSoyRzZm7j9XXkDVXgfpPx8Fm/+4E+4/kvh/CifL6j8B6oqXvM3kP0+KscuHWuQ/SHgHzFPJ7z8RvCr8pHPiPw==",
        "encoding": "base64",
        "path": [
         "_data",
         14,
         "x",
         "value"
        ]
       },
       {
        "data": "+k0Z2ieF6z9n8Jvo6dzuP83MzMzMzOw/iSoyRzZm7j9XXkDVXgfpPx8Fm/+4E+4/kvh/CifL6j8B6oqXvM3kP0+KscuHWuQ/SHgHzFPJ7z8RvCr8pHPiPw==",
        "encoding": "base64",
        "path": [
         "_data",
         15,
         "x",
         "value"
        ]
       },
       {
        "data": "Ju+ND7gs4T8UO7ETO7HTP6jeOcE/89g/M8lF7VnLuT/UM5XrjhfbPyguGYJ1tMk/23eiGVIR2j8dz6mkgITfP/SuxWgy79o//P//////zD+BMYmD963hPw==",
        "encoding": "base64",
        "path": [
         "_data",
         15,
         "y",
         "value"
        ]
       },
       {
        "data": "exSuR+F6hD8Yl0Wb0e2eP/kRWkkZz6k/M6yI4qQTsj9pT2QgvT+3P5/yP17Va7w/68oNzvbLwD+HnPvsAmLDPyJu6QsP+MU/vT/XKhuOyD9YEcVJJyTLP/Tismgzus0/R1rQwx8o0D8VQ0fTJXPRP+MrvuIrvtI/sBQ18jEJ1D9+/asBOFTVP0zmIhE+n9Y/Gc+ZIETq1z/ntxAwSjXZP7Sghz9QgNo/gon+TlbL2z9QcnVeXBbdPx1b7G1iYd4/60NjfWis3z9cFm1Gt3vgP8OKKE46IeE/Kv/jVb3G4T+Rc59dQGziP/jnWmXDEeM/XlwWbUa34z/F0NF0yVzkPyxFjXxMAuU/k7lIhM+n5T/6LQSMUk3mP2Civ5PV8uY/xxZ7m1iY5z8uizaj2z3oP5X/8ape4+g//HOtsuGI6T9i6Gi6ZC7qP8lcJMLn0+o/MNHfyWp56z+XRZvR7R7sP/65VtlwxOw/ZS4S4fNp7T/Los3odg/uPzIXifD5tO4/mYtE+Hxa7z8AAAAAAADwPw==",
        "encoding": "base64",
        "path": [
         "_data",
         16,
         "x",
         "value"
        ]
       },
       {
        "data": "I0mSJEmSJEDis24wRT4LQC4FHTzqUgBAD2m9gG1O9z8hqeKuEB/yP6alpaWlpe0/uBDy4BkV6T/Y55CaYLzlP6YK9QNbLeM/qmkdb04o4T8QUdmSlAvfP4HgdcouWNw/c36pGXQT2j+HAelYyiTYP3kWpmdhetY/PLQcVgIH1T/zbOmPqsDTPwXWdmehn9I/QnfdsNmd0T9VmaYchLbQPwrc8FeDy88/DOU1lNdQzj/K+fGd1vfMP3TzyvIzvMs/TVetxlaayj/MOCzFNo/JPwiZIM5AmMg/JVZWpUGzxz+iZSAfVd7GP31hKbnYF8Y/DHJd1mBexT8nyeEHsLDEP06R/vGvDcQ/Dubjdmt0wz8twSnlCeTCP4Qa0vbKW8I/tuXOeAPbwT+nEZZ7GmHBP0pt1/OG7cA/U6x0t81/wD9Z5MjGfxfAPwvwv6pxaL8/B55VDzyrvj/uhFK6ufa9PwJRFoBUSr0/gIwJaYOlvD8HtCFGyQe8Pzd4UHOzcLs/tV89wdjfuj/mPruA2FS6Pw==",
        "encoding": "base64",
        "path": [
         "_data",
         16,
         "y",
         "value"
        ]
       }
      ],
      "model_module": "jupyterlab-plotly",
      "model_module_version": "^5.1.0",
      "model_name": "FigureModel",
      "state": {
       "_config": {
        "plotlyServerURL": "https://plot.ly"
       },
       "_data": [
        {
         "legendgroup": "Mudstone",
         "marker": {
          "color": "LightPink",
          "symbol": "circle"
         },
         "mode": "markers",
         "name": "Mudstone (pre-diagenesis)",
         "text": [
          "KC-2-1",
          "KC-2-2",
          "KC-2-2.5",
          "KC-2-3",
          "KC-2-3.5",
          "KC-2-4.5",
          "KC-2-5",
          "KC-2-6",
          "KC-2-6.5",
          "KC-2-7",
          "KC-2-8",
          "KC-2-9",
          "KC-2-10",
          "KC-2-11",
          "KC-2-12",
          "KC-2-13",
          "KC-2-14",
          "KC-2-14.5",
          "KC-2-15",
          "KC-2-15.5",
          "KC-2-16",
          "KC-2-17",
          "KC-2-18",
          "KC-2-19",
          "KC-2-20",
          "KC-2-21",
          "KC-2-21.5",
          "KC-2-22",
          "KC-2-23",
          "KC-2-24",
          "KC-2-25",
          "KC-2-25.5",
          "KC-2-26",
          "KC-2-26.5",
          "KC-2-27",
          "KC-2-28",
          "KC-2-29"
         ],
         "type": "scatter",
         "uid": "1921ec2c-acda-43eb-bf3f-62cc4ef5253a",
         "x": {
          "dtype": "float64",
          "shape": [
           37
          ]
         },
         "y": {
          "dtype": "float64",
          "shape": [
           37
          ]
         }
        },
        {
         "legendgroup": "Mudstone",
         "marker": {
          "color": "LawnGreen",
          "opacity": 0.8,
          "symbol": "circle"
         },
         "mode": "markers",
         "name": "Mudstone (half way)",
         "text": [
          "KC-2-1",
          "KC-2-2",
          "KC-2-2.5",
          "KC-2-3",
          "KC-2-3.5",
          "KC-2-4.5",
          "KC-2-5",
          "KC-2-6",
          "KC-2-6.5",
          "KC-2-7",
          "KC-2-8",
          "KC-2-9",
          "KC-2-10",
          "KC-2-11",
          "KC-2-12",
          "KC-2-13",
          "KC-2-14",
          "KC-2-14.5",
          "KC-2-15",
          "KC-2-15.5",
          "KC-2-16",
          "KC-2-17",
          "KC-2-18",
          "KC-2-19",
          "KC-2-20",
          "KC-2-21",
          "KC-2-21.5",
          "KC-2-22",
          "KC-2-23",
          "KC-2-24",
          "KC-2-25",
          "KC-2-25.5",
          "KC-2-26",
          "KC-2-26.5",
          "KC-2-27",
          "KC-2-28",
          "KC-2-29"
         ],
         "type": "scatter",
         "uid": "339287ae-3eca-48f4-9b89-8cec2a0cc879",
         "x": {
          "dtype": "float64",
          "shape": [
           37
          ]
         },
         "y": [
          0.051328124999999995,
          0.20531249999999998,
          0.10030534351145037,
          0.10265624999999999,
          0.10726530612244896,
          0.06738461538461538,
          0.13616580310880827,
          0.0691578947368421,
          0.07423728813559322,
          0.07868263473053892,
          0.03124851367419738,
          0.13272727272727272,
          0.032087912087912084,
          0.09626373626373626,
          0.03318181818181818,
          0.15736526946107784,
          0.0906206896551724,
          0.08086153846153846,
          0.20215384615384616,
          0.07340782122905028,
          0.0487569573283859,
          0.21540983606557376,
          0.046186291739894546,
          0.1752,
          0.05396303901437371,
          0.16846153846153844,
          0.1123076923076923,
          0.0550943396226415,
          0.12514285714285714,
          0.08061349693251534,
          0.1288235294117647,
          0.09733333333333331,
          0.06970822281167108,
          0.14847457627118643,
          0.05556025369978857,
          0.05972727272727272,
          0.12166666666666665
         ]
        },
        {
         "legendgroup": "Mudstone",
         "marker": {
          "color": "Green",
          "symbol": "circle"
         },
         "mode": "markers",
         "name": "Mudstone (modelled)",
         "text": [
          "KC-2-1",
          "KC-2-2",
          "KC-2-2.5",
          "KC-2-3",
          "KC-2-3.5",
          "KC-2-4.5",
          "KC-2-5",
          "KC-2-6",
          "KC-2-6.5",
          "KC-2-7",
          "KC-2-8",
          "KC-2-9",
          "KC-2-10",
          "KC-2-11",
          "KC-2-12",
          "KC-2-13",
          "KC-2-14",
          "KC-2-14.5",
          "KC-2-15",
          "KC-2-15.5",
          "KC-2-16",
          "KC-2-17",
          "KC-2-18",
          "KC-2-19",
          "KC-2-20",
          "KC-2-21",
          "KC-2-21.5",
          "KC-2-22",
          "KC-2-23",
          "KC-2-24",
          "KC-2-25",
          "KC-2-25.5",
          "KC-2-26",
          "KC-2-26.5",
          "KC-2-27",
          "KC-2-28",
          "KC-2-29"
         ],
         "type": "scatter",
         "uid": "73a52b37-d8e4-402b-a6d6-e08785028dbc",
         "x": {
          "dtype": "float64",
          "shape": [
           37
          ]
         },
         "y": [
          0.10265624999999999,
          0.41062499999999996,
          0.20061068702290075,
          0.20531249999999998,
          0.21453061224489792,
          0.13476923076923075,
          0.27233160621761654,
          0.1383157894736842,
          0.14847457627118643,
          0.15736526946107784,
          0.06249702734839476,
          0.26545454545454544,
          0.06417582417582417,
          0.19252747252747252,
          0.06636363636363636,
          0.3147305389221557,
          0.1812413793103448,
          0.1617230769230769,
          0.4043076923076923,
          0.14681564245810055,
          0.0975139146567718,
          0.4308196721311475,
          0.09237258347978909,
          0.3504,
          0.10792607802874742,
          0.3369230769230769,
          0.2246153846153846,
          0.110188679245283,
          0.2502857142857143,
          0.16122699386503067,
          0.2576470588235294,
          0.19466666666666663,
          0.13941644562334216,
          0.29694915254237286,
          0.11112050739957714,
          0.11945454545454544,
          0.2433333333333333
         ]
        },
        {
         "legendgroup": "Mudstone",
         "marker": {
          "color": "Blue",
          "opacity": 0.3,
          "symbol": "circle"
         },
         "mode": "markers",
         "name": "Mudstone (post-diagenesis)",
         "text": [
          "KC-2-1",
          "KC-2-2",
          "KC-2-2.5",
          "KC-2-3",
          "KC-2-3.5",
          "KC-2-4.5",
          "KC-2-5",
          "KC-2-6",
          "KC-2-6.5",
          "KC-2-7",
          "KC-2-8",
          "KC-2-9",
          "KC-2-10",
          "KC-2-11",
          "KC-2-12",
          "KC-2-13",
          "KC-2-14",
          "KC-2-14.5",
          "KC-2-15",
          "KC-2-15.5",
          "KC-2-16",
          "KC-2-17",
          "KC-2-18",
          "KC-2-19",
          "KC-2-20",
          "KC-2-21",
          "KC-2-21.5",
          "KC-2-22",
          "KC-2-23",
          "KC-2-24",
          "KC-2-25",
          "KC-2-25.5",
          "KC-2-26",
          "KC-2-26.5",
          "KC-2-27",
          "KC-2-28",
          "KC-2-29"
         ],
         "type": "scatter",
         "uid": "63d6b135-ce8e-4178-9e45-c549af6222f6",
         "x": {
          "dtype": "float64",
          "shape": [
           37
          ]
         },
         "y": {
          "dtype": "float64",
          "shape": [
           37
          ]
         }
        },
        {
         "legendgroup": "Carbonate",
         "marker": {
          "color": "LightPink",
          "symbol": "star"
         },
         "mode": "markers",
         "name": "Carbonate (pre-diagenesis)",
         "text": [
          "KC-2-0",
          "KC-2-30"
         ],
         "type": "scatter",
         "uid": "320bcdca-5d8f-4496-9631-4cb0bddda3d8",
         "x": {
          "dtype": "float64",
          "shape": [
           2
          ]
         },
         "y": {
          "dtype": "float64",
          "shape": [
           2
          ]
         }
        },
        {
         "legendgroup": "Carbonate",
         "marker": {
          "color": "LawnGreen",
          "opacity": 0.8,
          "symbol": "star"
         },
         "mode": "markers",
         "name": "Carbonate (half way)",
         "text": [
          "KC-2-0",
          "KC-2-30"
         ],
         "type": "scatter",
         "uid": "7c916b1a-06ad-4482-88f6-dd2ecf13c690",
         "x": {
          "dtype": "float64",
          "shape": [
           2
          ]
         },
         "y": [
          0.04893854748603352,
          0.0980597014925373
         ]
        },
        {
         "legendgroup": "Carbonate",
         "marker": {
          "color": "Green",
          "symbol": "star"
         },
         "mode": "markers",
         "name": "Carbonate (modelled)",
         "text": [
          "KC-2-0",
          "KC-2-30"
         ],
         "type": "scatter",
         "uid": "984c55e7-0eb3-4b30-be94-ce563877c0ab",
         "x": {
          "dtype": "float64",
          "shape": [
           2
          ]
         },
         "y": [
          0.09787709497206704,
          0.1961194029850746
         ]
        },
        {
         "legendgroup": "Carbonate",
         "marker": {
          "color": "Blue",
          "opacity": 0.3,
          "symbol": "star"
         },
         "mode": "markers",
         "name": "Carbonate (post-diagenesis)",
         "text": [
          "KC-2-0",
          "KC-2-30"
         ],
         "type": "scatter",
         "uid": "d8b3a62b-bc9f-481c-8b63-052c3560dc94",
         "x": {
          "dtype": "float64",
          "shape": [
           2
          ]
         },
         "y": {
          "dtype": "float64",
          "shape": [
           2
          ]
         }
        },
        {
         "legendgroup": "Pervasively pyritised regions",
         "marker": {
          "color": "LightPink",
          "symbol": "square"
         },
         "mode": "markers",
         "name": "Pervasively pyritised regions (pre-diagenesis)",
         "text": [
          "KC-2-6p",
          "KC-2-9p",
          "KC-2-22p"
         ],
         "type": "scatter",
         "uid": "ccb5d86d-2267-4a9b-97c6-fe4d45139fc9",
         "x": {
          "dtype": "float64",
          "shape": [
           3
          ]
         },
         "y": {
          "dtype": "float64",
          "shape": [
           3
          ]
         }
        },
        {
         "legendgroup": "Pervasively pyritised regions",
         "marker": {
          "color": "LawnGreen",
          "opacity": 0.8,
          "symbol": "square"
         },
         "mode": "markers",
         "name": "Pervasively pyritised regions (half way)",
         "text": [
          "KC-2-6p",
          "KC-2-9p",
          "KC-2-22p"
         ],
         "type": "scatter",
         "uid": "300d8e31-243b-48cf-9cdf-4763d9edd22b",
         "x": {
          "dtype": "float64",
          "shape": [
           3
          ]
         },
         "y": [
          0.08136222910216719,
          0.13206030150753767,
          0.028106951871657754
         ]
        },
        {
         "legendgroup": "Pervasively pyritised regions",
         "marker": {
          "color": "Green",
          "symbol": "square"
         },
         "mode": "markers",
         "name": "Pervasively pyritised regions (modelled)",
         "text": [
          "KC-2-6p",
          "KC-2-9p",
          "KC-2-22p"
         ],
         "type": "scatter",
         "uid": "edb90ddc-f549-420c-b73c-ef7bdffbe0e0",
         "x": {
          "dtype": "float64",
          "shape": [
           3
          ]
         },
         "y": [
          0.16272445820433437,
          0.26412060301507534,
          0.05621390374331551
         ]
        },
        {
         "legendgroup": "Pervasively pyritised regions",
         "marker": {
          "color": "Blue",
          "opacity": 0.3,
          "symbol": "square"
         },
         "mode": "markers",
         "name": "Pervasively pyritised regions (post-diagenesis)",
         "text": [
          "KC-2-6p",
          "KC-2-9p",
          "KC-2-22p"
         ],
         "type": "scatter",
         "uid": "e0ad691f-2abf-430b-8fe2-ad328489ee10",
         "x": {
          "dtype": "float64",
          "shape": [
           3
          ]
         },
         "y": {
          "dtype": "float64",
          "shape": [
           3
          ]
         }
        },
        {
         "legendgroup": "Bed 22",
         "marker": {
          "color": "LightPink",
          "symbol": "diamond"
         },
         "mode": "markers",
         "name": "Bed 22 (pre-diagenesis)",
         "text": [
          "KC-3-A",
          "KC-3-B",
          "KC-3-C",
          "KC-3-D",
          "KC-3-E",
          "KC-3-F",
          "KC-3-G",
          "KC-3-H",
          "KC-3-I",
          "KC-3-J",
          "KC-3-K"
         ],
         "type": "scatter",
         "uid": "269e706e-58d8-4b44-b2c4-8b7644ab69d6",
         "x": {
          "dtype": "float64",
          "shape": [
           11
          ]
         },
         "y": {
          "dtype": "float64",
          "shape": [
           11
          ]
         }
        },
        {
         "legendgroup": "Bed 22",
         "marker": {
          "color": "LawnGreen",
          "opacity": 0.8,
          "symbol": "diamond"
         },
         "mode": "markers",
         "name": "Bed 22 (half way)",
         "text": [
          "KC-3-A",
          "KC-3-B",
          "KC-3-C",
          "KC-3-D",
          "KC-3-E",
          "KC-3-F",
          "KC-3-G",
          "KC-3-H",
          "KC-3-I",
          "KC-3-J",
          "KC-3-K"
         ],
         "type": "scatter",
         "uid": "ff178b85-7971-4026-ab6b-19eeff606a1b",
         "x": {
          "dtype": "float64",
          "shape": [
           11
          ]
         },
         "y": [
          0.06653164556962024,
          0.05319838056680161,
          0.02517241379310345,
          0.018136645962732914,
          0.08061349693251534,
          0.05385245901639345,
          0.035561569688768606,
          0.13206030150753767,
          0.10146718146718146,
          0.041062499999999995,
          0.14519337016574585
         ]
        },
        {
         "legendgroup": "Bed 22",
         "marker": {
          "color": "Green",
          "symbol": "diamond"
         },
         "mode": "markers",
         "name": "Bed 22 (modelled)",
         "text": [
          "KC-3-A",
          "KC-3-B",
          "KC-3-C",
          "KC-3-D",
          "KC-3-E",
          "KC-3-F",
          "KC-3-G",
          "KC-3-H",
          "KC-3-I",
          "KC-3-J",
          "KC-3-K"
         ],
         "type": "scatter",
         "uid": "e3955484-23fd-48e7-bf59-368eb9e6d7f4",
         "x": {
          "dtype": "float64",
          "shape": [
           11
          ]
         },
         "y": [
          0.13306329113924048,
          0.10639676113360322,
          0.0503448275862069,
          0.03627329192546583,
          0.16122699386503067,
          0.1077049180327869,
          0.07112313937753721,
          0.26412060301507534,
          0.20293436293436293,
          0.08212499999999999,
          0.2903867403314917
         ]
        },
        {
         "legendgroup": "Bed 22",
         "marker": {
          "color": "Blue",
          "opacity": 0.3,
          "symbol": "diamond"
         },
         "mode": "markers",
         "name": "Bed 22 (post-diagenesis)",
         "text": [
          "KC-3-A",
          "KC-3-B",
          "KC-3-C",
          "KC-3-D",
          "KC-3-E",
          "KC-3-F",
          "KC-3-G",
          "KC-3-H",
          "KC-3-I",
          "KC-3-J",
          "KC-3-K"
         ],
         "type": "scatter",
         "uid": "fc827da9-0b9f-477d-8718-3f966e997e34",
         "x": {
          "dtype": "float64",
          "shape": [
           11
          ]
         },
         "y": {
          "dtype": "float64",
          "shape": [
           11
          ]
         }
        },
        {
         "line": {
          "color": "LightGreen"
         },
         "name": "model (const. total Fe)",
         "type": "scatter",
         "uid": "fe2667ec-6b9e-4c07-8c45-c905dfcfa1d9",
         "x": {
          "dtype": "float64",
          "shape": [
           50
          ]
         },
         "y": {
          "dtype": "float64",
          "shape": [
           50
          ]
         }
        }
       ],
       "_js2py_pointsCallback": {},
       "_js2py_relayout": {},
       "_js2py_restyle": {},
       "_js2py_update": {},
       "_last_layout_edit_id": 68,
       "_last_trace_edit_id": 64,
       "_layout": {
        "height": 650,
        "legend": {
         "font": {
          "size": 11
         }
        },
        "shapes": [
         {
          "line": {
           "dash": "dash",
           "width": 1
          },
          "type": "line",
          "x0": 0,
          "x1": 1,
          "xref": "x domain",
          "y0": 0.8,
          "y1": 0.8,
          "yref": "y"
         },
         {
          "line": {
           "dash": "dash",
           "width": 1
          },
          "type": "line",
          "x0": 0.38,
          "x1": 0.38,
          "xref": "x",
          "y0": 0,
          "y1": 1,
          "yref": "y domain"
         }
        ],
        "template": {
         "layout": {
          "bargap": 0.05,
          "bargroupgap": 0,
          "font": {
           "color": "black",
           "family": "Arial",
           "size": 16
          },
          "height": 700,
          "hovermode": "closest",
          "margin": {
           "b": 60,
           "l": 60,
           "r": 30,
           "t": 30
          },
          "scene": {
           "xaxis": {
            "color": "black",
            "linewidth": 2,
            "showline": true,
            "ticks": "outside"
           },
           "yaxis": {
            "color": "black",
            "linewidth": 2,
            "showline": true,
            "ticks": "outside"
           },
           "zaxis": {
            "color": "black",
            "linewidth": 2,
            "showline": true,
            "ticks": "outside"
           }
          },
          "xaxis": {
           "color": "black",
           "linewidth": 1.3,
           "mirror": true,
           "showgrid": true,
           "showline": true,
           "ticks": "outside",
           "zeroline": true
          },
          "yaxis": {
           "color": "black",
           "linewidth": 1.3,
           "mirror": true,
           "showgrid": true,
           "showline": true,
           "ticks": "outside",
           "zeroline": true
          }
         }
        },
        "width": 900,
        "xaxis": {
         "range": [
          0,
          1
         ],
         "title": {
          "text": "[Fe<sub>HR</sub>]/[Fe<sub>tot</sub>]"
         }
        },
        "yaxis": {
         "range": [
          0,
          1
         ],
         "title": {
          "text": "[Fe<sub>py</sub>]/[Fe<sub>HR</sub>]"
         }
        }
       },
       "_py2js_deleteTraces": {},
       "_py2js_moveTraces": {},
       "_py2js_removeLayoutProps": {},
       "_py2js_removeTraceProps": {},
       "_py2js_restyle": {},
       "_view_count": 0
      }
     },
     "5424c8bf498148d3bce426ee7eb8004f": {
      "model_module": "@jupyter-widgets/base",
      "model_module_version": "1.2.0",
      "model_name": "LayoutModel",
      "state": {}
     },
     "5583e43b97fc4a94802fc0813b0b3ad9": {
      "model_module": "@jupyter-widgets/controls",
      "model_module_version": "1.5.0",
      "model_name": "FloatSliderModel",
      "state": {
       "description": "[Fe<sub>py</sub>]<sub>0</sub> / wt%",
       "layout": "IPY_MODEL_e51c081cb7da4556b9a355c0a80cd61c",
       "max": 5,
       "step": 0.1,
       "style": "IPY_MODEL_a13e60761266461e9389dd2e6f667df8"
      }
     },
     "577cc264171e4859a442031709a68072": {
      "model_module": "@jupyter-widgets/controls",
      "model_module_version": "1.5.0",
      "model_name": "SliderStyleModel",
      "state": {
       "description_width": "initial"
      }
     },
     "5b137c19b7334ec5aedd320b81566c11": {
      "model_module": "@jupyter-widgets/controls",
      "model_module_version": "1.5.0",
      "model_name": "SliderStyleModel",
      "state": {
       "description_width": "initial"
      }
     },
     "5fbaa442485a45b5a0290464ce93ad64": {
      "model_module": "@jupyter-widgets/base",
      "model_module_version": "1.2.0",
      "model_name": "LayoutModel",
      "state": {}
     },
     "617f2225d47944278d548ce1b2627fdb": {
      "buffers": [
       {
        "data": "XFpQhZJ17D9b/Jw93n7fP+i1AE/bJ+U/COOO8seB5T9UIVbvVIjlP/MSfp9MYOk/YWEw5OqV4j9vjvTiq5frP34pYmErnOg/JwmWh+si6T86iSG/wLvpP+AZe2LoueQ/oky2XYDC6z8VMB/ILizmP31ENZuxbew/leBQ+fVw4T/XZFmTZU3mP2NCE/0qa+Y/m5fEvhcf3T9GRXYeekHoP3Z5XCXJGe0/Iehdp+E33D/Gee6rKInoP5aLiHIAx+A/rkb+MVY86j8TBt9pCuzgPxBDdWroROM/WAljs6Da6z/5psodzi/iP98IkaMLBuc/DOpCMlxN4z8a/V1dqE7nPxhaRmnw2ec/NsF4K/sc4j+byUeerbLiP9Bf0a/DSOg/UQ9OXHM75j8=",
        "encoding": "base64",
        "path": [
         "_data",
         0,
         "x",
         "value"
        ]
       },
       {
        "data": "AAAAAAAAAAAAAAAAAAAAAAAAAAAAAAAAAAAAAAAAAAAAAAAAAAAAAAAAAAAAAAAAAAAAAAAAAAAAAAAAAAAAAAAAAAAAAAAAAAAAAAAAAAAAAAAAAAAAAAAAAAAAAAAAAAAAAAAAAAAAAAAAAAAAAAAAAAAAAAAAAAAAAAAAAAAAAAAAAAAAAAAAAAAAAAAAAAAAAAAAAAAAAAAAAAAAAAAAAAAAAAAAAAAAAAAAAAAAAAAAAAAAAAAAAAAAAAAAAAAAAAAAAAAAAAAAAAAAAAAAAAAAAAAAAAAAAAAAAAAAAAAAAAAAAAAAAAAAAAAAAAAAAAAAAAAAAAAAAAAAAAAAAAAAAAAAAAAAAAAAAAAAAAAAAAAAAAAAAAAAAAAAAAAAAAAAAAA=",
        "encoding": "base64",
        "path": [
         "_data",
         0,
         "y",
         "value"
        ]
       },
       {
        "data": "XFpQhZJ17D9b/Jw93n7fP+i1AE/bJ+U/COOO8seB5T9UIVbvVIjlP/MSfp9MYOk/YWEw5OqV4j9vjvTiq5frP34pYmErnOg/JwmWh+si6T86iSG/wLvpP+AZe2LoueQ/oky2XYDC6z8VMB/ILizmP31ENZuxbew/leBQ+fVw4T/XZFmTZU3mP2NCE/0qa+Y/m5fEvhcf3T9GRXYeekHoP3Z5XCXJGe0/Iehdp+E33D/Gee6rKInoP5aLiHIAx+A/rkb+MVY86j8TBt9pCuzgPxBDdWroROM/WAljs6Da6z/5psodzi/iP98IkaMLBuc/DOpCMlxN4z8a/V1dqE7nPxhaRmnw2ec/NsF4K/sc4j+byUeerbLiP9Bf0a/DSOg/UQ9OXHM75j8=",
        "encoding": "base64",
        "path": [
         "_data",
         1,
         "x",
         "value"
        ]
       },
       {
        "data": "XFpQhZJ17D9b/Jw93n7fP+i1AE/bJ+U/COOO8seB5T9UIVbvVIjlP/MSfp9MYOk/YWEw5OqV4j9vjvTiq5frP34pYmErnOg/JwmWh+si6T86iSG/wLvpP+AZe2LoueQ/oky2XYDC6z8VMB/ILizmP31ENZuxbew/leBQ+fVw4T/XZFmTZU3mP2NCE/0qa+Y/m5fEvhcf3T9GRXYeekHoP3Z5XCXJGe0/Iehdp+E33D/Gee6rKInoP5aLiHIAx+A/rkb+MVY86j8TBt9pCuzgPxBDdWroROM/WAljs6Da6z/5psodzi/iP98IkaMLBuc/DOpCMlxN4z8a/V1dqE7nPxhaRmnw2ec/NsF4K/sc4j+byUeerbLiP9Bf0a/DSOg/UQ9OXHM75j8=",
        "encoding": "base64",
        "path": [
         "_data",
         2,
         "x",
         "value"
        ]
       },
       {
        "data": "XFpQhZJ17D9b/Jw93n7fP+i1AE/bJ+U/COOO8seB5T9UIVbvVIjlP/MSfp9MYOk/YWEw5OqV4j9vjvTiq5frP34pYmErnOg/JwmWh+si6T86iSG/wLvpP+AZe2LoueQ/oky2XYDC6z8VMB/ILizmP31ENZuxbew/leBQ+fVw4T/XZFmTZU3mP2NCE/0qa+Y/m5fEvhcf3T9GRXYeekHoP3Z5XCXJGe0/Iehdp+E33D/Gee6rKInoP5aLiHIAx+A/rkb+MVY86j8TBt9pCuzgPxBDdWroROM/WAljs6Da6z/5psodzi/iP98IkaMLBuc/DOpCMlxN4z8a/V1dqE7nPxhaRmnw2ec/NsF4K/sc4j+byUeerbLiP9Bf0a/DSOg/UQ9OXHM75j8=",
        "encoding": "base64",
        "path": [
         "_data",
         3,
         "x",
         "value"
        ]
       },
       {
        "data": "AAAAAACAvz///////3/nP+NZRvQB1dE/AAAAAAAA5z/Cbn4LAaPkPxVQARVQAdU/6VCD3ZmM5j+KU7/nljjVP7IVQcNJ3dc/9onqQSPv3D/6j++FCMTMP1HrVwrU+uU/mJIpmZIp2T9e3MVd3MXdP+iiiy666OI/v9wQA9Kx5D8OePzhgMffP4v2m/JcAtk/GHqhF3qh5z/sPtwCCqPaPzP8l0DotdM/MwTraPM+5T8z/iMwPTjLP1VVVVVVVeU/1YGPuYn2zT9IgzRIgzToP3mFV3iFV9g/MQpR/UjY0T+yH/uxH/vhP0Qn7YNkQN0/eXh4eHh46D+/TTFq+NvkP0dY7mmE5c4/nYM1S4xP6T/A/HWW+hnQP0UXXXTRRdc/Ce0ltJfQ4j8=",
        "encoding": "base64",
        "path": [
         "_data",
         3,
         "y",
         "value"
        ]
       },
       {
        "data": "T0KGcHbH7j86EYT0pwfwPw==",
        "encoding": "base64",
        "path": [
         "_data",
         4,
         "x",
         "value"
        ]
       },
       {
        "data": "AAAAAAAAAAAAAAAAAAAAAA==",
        "encoding": "base64",
        "path": [
         "_data",
         4,
         "y",
         "value"
        ]
       },
       {
        "data": "T0KGcHbH7j86EYT0pwfwPw==",
        "encoding": "base64",
        "path": [
         "_data",
         5,
         "x",
         "value"
        ]
       },
       {
        "data": "T0KGcHbH7j86EYT0pwfwPw==",
        "encoding": "base64",
        "path": [
         "_data",
         6,
         "x",
         "value"
        ]
       },
       {
        "data": "T0KGcHbH7j86EYT0pwfwPw==",
        "encoding": "base64",
        "path": [
         "_data",
         7,
         "x",
         "value"
        ]
       },
       {
        "data": "mPMp6AFctz9Gt/CrMZGOPw==",
        "encoding": "base64",
        "path": [
         "_data",
         7,
         "y",
         "value"
        ]
       },
       {
        "data": "5AmIzlf36D+65iBDdp3kP16ZmlI0GO4/",
        "encoding": "base64",
        "path": [
         "_data",
         8,
         "x",
         "value"
        ]
       },
       {
        "data": "AAAAAAAAAAAAAAAAAAAAAAAAAAAAAAAA",
        "encoding": "base64",
        "path": [
         "_data",
         8,
         "y",
         "value"
        ]
       },
       {
        "data": "5AmIzlf36D+65iBDdp3kP16ZmlI0GO4/",
        "encoding": "base64",
        "path": [
         "_data",
         9,
         "x",
         "value"
        ]
       },
       {
        "data": "5AmIzlf36D+65iBDdp3kP16ZmlI0GO4/",
        "encoding": "base64",
        "path": [
         "_data",
         10,
         "x",
         "value"
        ]
       },
       {
        "data": "5AmIzlf36D+65iBDdp3kP16ZmlI0GO4/",
        "encoding": "base64",
        "path": [
         "_data",
         11,
         "x",
         "value"
        ]
       },
       {
        "data": "rLid02c/4D8rMl+aOIzlPx7wNU2qHuA/",
        "encoding": "base64",
        "path": [
         "_data",
         11,
         "y",
         "value"
        ]
       },
       {
        "data": "+k0Z2ieF6z9n8Jvo6dzuP83MzMzMzOw/iSoyRzZm7j9XXkDVXgfpPx8Fm/+4E+4/kvh/CifL6j8B6oqXvM3kP0+KscuHWuQ/SHgHzFPJ7z8RvCr8pHPiPw==",
        "encoding": "base64",
        "path": [
         "_data",
         12,
         "x",
         "value"
        ]
       },
       {
        "data": "AAAAAAAAAAAAAAAAAAAAAAAAAAAAAAAAAAAAAAAAAAAAAAAAAAAAAAAAAAAAAAAAAAAAAAAAAAAAAAAAAAAAAAAAAAAAAAAAAAAAAAAAAAAAAAAAAAAAAA==",
        "encoding": "base64",
        "path": [
         "_data",
         12,
         "y",
         "value"
        ]
       },
       {
        "data": "+k0Z2ieF6z9n8Jvo6dzuP83MzMzMzOw/iSoyRzZm7j9XXkDVXgfpPx8Fm/+4E+4/kvh/CifL6j8B6oqXvM3kP0+KscuHWuQ/SHgHzFPJ7z8RvCr8pHPiPw==",
        "encoding": "base64",
        "path": [
         "_data",
         13,
         "x",
         "value"
        ]
       },
       {
        "data": "+k0Z2ieF6z9n8Jvo6dzuP83MzMzMzOw/iSoyRzZm7j9XXkDVXgfpPx8Fm/+4E+4/kvh/CifL6j8B6oqXvM3kP0+KscuHWuQ/SHgHzFPJ7z8RvCr8pHPiPw==",
        "encoding": "base64",
        "path": [
         "_data",
         14,
         "x",
         "value"
        ]
       },
       {
        "data": "+k0Z2ieF6z9n8Jvo6dzuP83MzMzMzOw/iSoyRzZm7j9XXkDVXgfpPx8Fm/+4E+4/kvh/CifL6j8B6oqXvM3kP0+KscuHWuQ/SHgHzFPJ7z8RvCr8pHPiPw==",
        "encoding": "base64",
        "path": [
         "_data",
         15,
         "x",
         "value"
        ]
       },
       {
        "data": "Ju+ND7gs4T8UO7ETO7HTP6jeOcE/89g/M8lF7VnLuT/UM5XrjhfbPyguGYJ1tMk/23eiGVIR2j8dz6mkgITfP/SuxWgy79o//P//////zD+BMYmD963hPw==",
        "encoding": "base64",
        "path": [
         "_data",
         15,
         "y",
         "value"
        ]
       },
       {
        "data": "exSuR+F6hD8Yl0Wb0e2eP/kRWkkZz6k/M6yI4qQTsj9pT2QgvT+3P5/yP17Va7w/68oNzvbLwD+HnPvsAmLDPyJu6QsP+MU/vT/XKhuOyD9YEcVJJyTLP/Tismgzus0/R1rQwx8o0D8VQ0fTJXPRP+MrvuIrvtI/sBQ18jEJ1D9+/asBOFTVP0zmIhE+n9Y/Gc+ZIETq1z/ntxAwSjXZP7Sghz9QgNo/gon+TlbL2z9QcnVeXBbdPx1b7G1iYd4/60NjfWis3z9cFm1Gt3vgP8OKKE46IeE/Kv/jVb3G4T+Rc59dQGziP/jnWmXDEeM/XlwWbUa34z/F0NF0yVzkPyxFjXxMAuU/k7lIhM+n5T/6LQSMUk3mP2Civ5PV8uY/xxZ7m1iY5z8uizaj2z3oP5X/8ape4+g//HOtsuGI6T9i6Gi6ZC7qP8lcJMLn0+o/MNHfyWp56z+XRZvR7R7sP/65VtlwxOw/ZS4S4fNp7T/Los3odg/uPzIXifD5tO4/mYtE+Hxa7z8AAAAAAADwPw==",
        "encoding": "base64",
        "path": [
         "_data",
         16,
         "x",
         "value"
        ]
       },
       {
        "data": "AAAAAAAAAAAAAAAAAAAAAAAAAAAAAAAAAAAAAAAAAAAAAAAAAAAAAAAAAAAAAAAAAAAAAAAAAAAAAAAAAAAAAAAAAAAAAAAAAAAAAAAAAAAAAAAAAAAAAAAAAAAAAAAAAAAAAAAAAAAAAAAAAAAAAAAAAAAAAAAAAAAAAAAAAAAAAAAAAAAAAAAAAAAAAAAAAAAAAAAAAAAAAAAAAAAAAAAAAAAAAAAAAAAAAAAAAAAAAAAAAAAAAAAAAAAAAAAAAAAAAAAAAAAAAAAAAAAAAAAAAAAAAAAAAAAAAAAAAAAAAAAAAAAAAAAAAAAAAAAAAAAAAAAAAAAAAAAAAAAAAAAAAAAAAAAAAAAAAAAAAAAAAAAAAAAAAAAAAAAAAAAAAAAAAAAAAAAAAAAAAAAAAAAAAAAAAAAAAAAAAAAAAAAAAAAAAAAAAAAAAAAAAAAAAAAAAAAAAAAAAAAAAAAAAAAAAAAAAAAAAAAAAAAAAAAAAAAAAAAAAAAAAAAAAAAAAAAAAAAAAAAAAAAAAAAAAA==",
        "encoding": "base64",
        "path": [
         "_data",
         16,
         "y",
         "value"
        ]
       }
      ],
      "model_module": "jupyterlab-plotly",
      "model_module_version": "^5.1.0",
      "model_name": "FigureModel",
      "state": {
       "_config": {
        "plotlyServerURL": "https://plot.ly"
       },
       "_data": [
        {
         "legendgroup": "Mudstone",
         "marker": {
          "color": "LightPink",
          "symbol": "circle"
         },
         "mode": "markers",
         "name": "Mudstone (pre-diagenesis)",
         "text": [
          "KC-2-1",
          "KC-2-2",
          "KC-2-2.5",
          "KC-2-3",
          "KC-2-3.5",
          "KC-2-4.5",
          "KC-2-5",
          "KC-2-6",
          "KC-2-6.5",
          "KC-2-7",
          "KC-2-8",
          "KC-2-9",
          "KC-2-10",
          "KC-2-11",
          "KC-2-12",
          "KC-2-13",
          "KC-2-14",
          "KC-2-14.5",
          "KC-2-15",
          "KC-2-15.5",
          "KC-2-16",
          "KC-2-17",
          "KC-2-18",
          "KC-2-19",
          "KC-2-20",
          "KC-2-21",
          "KC-2-21.5",
          "KC-2-22",
          "KC-2-23",
          "KC-2-24",
          "KC-2-25",
          "KC-2-25.5",
          "KC-2-26",
          "KC-2-26.5",
          "KC-2-27",
          "KC-2-28",
          "KC-2-29"
         ],
         "type": "scatter",
         "uid": "0220b4ba-e1f9-4c38-82c5-95097915294e",
         "x": {
          "dtype": "float64",
          "shape": [
           37
          ]
         },
         "y": {
          "dtype": "float64",
          "shape": [
           37
          ]
         }
        },
        {
         "legendgroup": "Mudstone",
         "marker": {
          "color": "LawnGreen",
          "opacity": 0.8,
          "symbol": "circle"
         },
         "mode": "markers",
         "name": "Mudstone (half way)",
         "text": [
          "KC-2-1",
          "KC-2-2",
          "KC-2-2.5",
          "KC-2-3",
          "KC-2-3.5",
          "KC-2-4.5",
          "KC-2-5",
          "KC-2-6",
          "KC-2-6.5",
          "KC-2-7",
          "KC-2-8",
          "KC-2-9",
          "KC-2-10",
          "KC-2-11",
          "KC-2-12",
          "KC-2-13",
          "KC-2-14",
          "KC-2-14.5",
          "KC-2-15",
          "KC-2-15.5",
          "KC-2-16",
          "KC-2-17",
          "KC-2-18",
          "KC-2-19",
          "KC-2-20",
          "KC-2-21",
          "KC-2-21.5",
          "KC-2-22",
          "KC-2-23",
          "KC-2-24",
          "KC-2-25",
          "KC-2-25.5",
          "KC-2-26",
          "KC-2-26.5",
          "KC-2-27",
          "KC-2-28",
          "KC-2-29"
         ],
         "type": "scatter",
         "uid": "3273d794-0366-4c96-a344-7718e0d34cf2",
         "x": {
          "dtype": "float64",
          "shape": [
           37
          ]
         },
         "y": [
          0,
          0,
          0,
          0,
          0,
          0,
          0,
          0,
          0,
          0,
          0,
          0,
          0,
          0,
          0,
          0,
          0,
          0,
          0,
          0,
          0,
          0,
          0,
          0,
          0,
          0,
          0,
          0,
          0,
          0,
          0,
          0,
          0,
          0,
          0,
          0,
          0
         ]
        },
        {
         "legendgroup": "Mudstone",
         "marker": {
          "color": "Green",
          "symbol": "circle"
         },
         "mode": "markers",
         "name": "Mudstone (modelled)",
         "text": [
          "KC-2-1",
          "KC-2-2",
          "KC-2-2.5",
          "KC-2-3",
          "KC-2-3.5",
          "KC-2-4.5",
          "KC-2-5",
          "KC-2-6",
          "KC-2-6.5",
          "KC-2-7",
          "KC-2-8",
          "KC-2-9",
          "KC-2-10",
          "KC-2-11",
          "KC-2-12",
          "KC-2-13",
          "KC-2-14",
          "KC-2-14.5",
          "KC-2-15",
          "KC-2-15.5",
          "KC-2-16",
          "KC-2-17",
          "KC-2-18",
          "KC-2-19",
          "KC-2-20",
          "KC-2-21",
          "KC-2-21.5",
          "KC-2-22",
          "KC-2-23",
          "KC-2-24",
          "KC-2-25",
          "KC-2-25.5",
          "KC-2-26",
          "KC-2-26.5",
          "KC-2-27",
          "KC-2-28",
          "KC-2-29"
         ],
         "type": "scatter",
         "uid": "4cd5f84b-ace8-4e24-a6a0-65b8e83d2df6",
         "x": {
          "dtype": "float64",
          "shape": [
           37
          ]
         },
         "y": [
          0,
          0,
          0,
          0,
          0,
          0,
          0,
          0,
          0,
          0,
          0,
          0,
          0,
          0,
          0,
          0,
          0,
          0,
          0,
          0,
          0,
          0,
          0,
          0,
          0,
          0,
          0,
          0,
          0,
          0,
          0,
          0,
          0,
          0,
          0,
          0,
          0
         ]
        },
        {
         "legendgroup": "Mudstone",
         "marker": {
          "color": "Blue",
          "opacity": 0.3,
          "symbol": "circle"
         },
         "mode": "markers",
         "name": "Mudstone (post-diagenesis)",
         "text": [
          "KC-2-1",
          "KC-2-2",
          "KC-2-2.5",
          "KC-2-3",
          "KC-2-3.5",
          "KC-2-4.5",
          "KC-2-5",
          "KC-2-6",
          "KC-2-6.5",
          "KC-2-7",
          "KC-2-8",
          "KC-2-9",
          "KC-2-10",
          "KC-2-11",
          "KC-2-12",
          "KC-2-13",
          "KC-2-14",
          "KC-2-14.5",
          "KC-2-15",
          "KC-2-15.5",
          "KC-2-16",
          "KC-2-17",
          "KC-2-18",
          "KC-2-19",
          "KC-2-20",
          "KC-2-21",
          "KC-2-21.5",
          "KC-2-22",
          "KC-2-23",
          "KC-2-24",
          "KC-2-25",
          "KC-2-25.5",
          "KC-2-26",
          "KC-2-26.5",
          "KC-2-27",
          "KC-2-28",
          "KC-2-29"
         ],
         "type": "scatter",
         "uid": "ddfd7c9d-e821-45be-86e9-5d6e63e6154d",
         "x": {
          "dtype": "float64",
          "shape": [
           37
          ]
         },
         "y": {
          "dtype": "float64",
          "shape": [
           37
          ]
         }
        },
        {
         "legendgroup": "Carbonate",
         "marker": {
          "color": "LightPink",
          "symbol": "star"
         },
         "mode": "markers",
         "name": "Carbonate (pre-diagenesis)",
         "text": [
          "KC-2-0",
          "KC-2-30"
         ],
         "type": "scatter",
         "uid": "d7cd87f0-d632-46b5-a36d-9c4058ee715d",
         "x": {
          "dtype": "float64",
          "shape": [
           2
          ]
         },
         "y": {
          "dtype": "float64",
          "shape": [
           2
          ]
         }
        },
        {
         "legendgroup": "Carbonate",
         "marker": {
          "color": "LawnGreen",
          "opacity": 0.8,
          "symbol": "star"
         },
         "mode": "markers",
         "name": "Carbonate (half way)",
         "text": [
          "KC-2-0",
          "KC-2-30"
         ],
         "type": "scatter",
         "uid": "3a47a5ae-f070-430a-afc4-449b91e48978",
         "x": {
          "dtype": "float64",
          "shape": [
           2
          ]
         },
         "y": [
          0,
          0
         ]
        },
        {
         "legendgroup": "Carbonate",
         "marker": {
          "color": "Green",
          "symbol": "star"
         },
         "mode": "markers",
         "name": "Carbonate (modelled)",
         "text": [
          "KC-2-0",
          "KC-2-30"
         ],
         "type": "scatter",
         "uid": "cfb95f87-fd23-4880-b199-47619dbeeb0c",
         "x": {
          "dtype": "float64",
          "shape": [
           2
          ]
         },
         "y": [
          0,
          0
         ]
        },
        {
         "legendgroup": "Carbonate",
         "marker": {
          "color": "Blue",
          "opacity": 0.3,
          "symbol": "star"
         },
         "mode": "markers",
         "name": "Carbonate (post-diagenesis)",
         "text": [
          "KC-2-0",
          "KC-2-30"
         ],
         "type": "scatter",
         "uid": "37430876-5da8-4d6f-a5cf-2269280dc279",
         "x": {
          "dtype": "float64",
          "shape": [
           2
          ]
         },
         "y": {
          "dtype": "float64",
          "shape": [
           2
          ]
         }
        },
        {
         "legendgroup": "Pervasively pyritised regions",
         "marker": {
          "color": "LightPink",
          "symbol": "square"
         },
         "mode": "markers",
         "name": "Pervasively pyritised regions (pre-diagenesis)",
         "text": [
          "KC-2-6p",
          "KC-2-9p",
          "KC-2-22p"
         ],
         "type": "scatter",
         "uid": "2c9c2da6-5c77-47dd-a67c-428238eb1bfd",
         "x": {
          "dtype": "float64",
          "shape": [
           3
          ]
         },
         "y": {
          "dtype": "float64",
          "shape": [
           3
          ]
         }
        },
        {
         "legendgroup": "Pervasively pyritised regions",
         "marker": {
          "color": "LawnGreen",
          "opacity": 0.8,
          "symbol": "square"
         },
         "mode": "markers",
         "name": "Pervasively pyritised regions (half way)",
         "text": [
          "KC-2-6p",
          "KC-2-9p",
          "KC-2-22p"
         ],
         "type": "scatter",
         "uid": "423e8759-b07e-4b1f-b408-645b1afb696a",
         "x": {
          "dtype": "float64",
          "shape": [
           3
          ]
         },
         "y": [
          0,
          0,
          0
         ]
        },
        {
         "legendgroup": "Pervasively pyritised regions",
         "marker": {
          "color": "Green",
          "symbol": "square"
         },
         "mode": "markers",
         "name": "Pervasively pyritised regions (modelled)",
         "text": [
          "KC-2-6p",
          "KC-2-9p",
          "KC-2-22p"
         ],
         "type": "scatter",
         "uid": "b08be398-3cbe-4ca0-8833-8ace8534cae4",
         "x": {
          "dtype": "float64",
          "shape": [
           3
          ]
         },
         "y": [
          0,
          0,
          0
         ]
        },
        {
         "legendgroup": "Pervasively pyritised regions",
         "marker": {
          "color": "Blue",
          "opacity": 0.3,
          "symbol": "square"
         },
         "mode": "markers",
         "name": "Pervasively pyritised regions (post-diagenesis)",
         "text": [
          "KC-2-6p",
          "KC-2-9p",
          "KC-2-22p"
         ],
         "type": "scatter",
         "uid": "ab57ac75-12ee-45a4-af3d-113f3d9500e4",
         "x": {
          "dtype": "float64",
          "shape": [
           3
          ]
         },
         "y": {
          "dtype": "float64",
          "shape": [
           3
          ]
         }
        },
        {
         "legendgroup": "Bed 22",
         "marker": {
          "color": "LightPink",
          "symbol": "diamond"
         },
         "mode": "markers",
         "name": "Bed 22 (pre-diagenesis)",
         "text": [
          "KC-3-A",
          "KC-3-B",
          "KC-3-C",
          "KC-3-D",
          "KC-3-E",
          "KC-3-F",
          "KC-3-G",
          "KC-3-H",
          "KC-3-I",
          "KC-3-J",
          "KC-3-K"
         ],
         "type": "scatter",
         "uid": "09d0dd14-1c08-4be8-b7d7-bc72e834258c",
         "x": {
          "dtype": "float64",
          "shape": [
           11
          ]
         },
         "y": {
          "dtype": "float64",
          "shape": [
           11
          ]
         }
        },
        {
         "legendgroup": "Bed 22",
         "marker": {
          "color": "LawnGreen",
          "opacity": 0.8,
          "symbol": "diamond"
         },
         "mode": "markers",
         "name": "Bed 22 (half way)",
         "text": [
          "KC-3-A",
          "KC-3-B",
          "KC-3-C",
          "KC-3-D",
          "KC-3-E",
          "KC-3-F",
          "KC-3-G",
          "KC-3-H",
          "KC-3-I",
          "KC-3-J",
          "KC-3-K"
         ],
         "type": "scatter",
         "uid": "ed34017c-eb9c-4bcc-910c-a6dd71ae155e",
         "x": {
          "dtype": "float64",
          "shape": [
           11
          ]
         },
         "y": [
          0,
          0,
          0,
          0,
          0,
          0,
          0,
          0,
          0,
          0,
          0
         ]
        },
        {
         "legendgroup": "Bed 22",
         "marker": {
          "color": "Green",
          "symbol": "diamond"
         },
         "mode": "markers",
         "name": "Bed 22 (modelled)",
         "text": [
          "KC-3-A",
          "KC-3-B",
          "KC-3-C",
          "KC-3-D",
          "KC-3-E",
          "KC-3-F",
          "KC-3-G",
          "KC-3-H",
          "KC-3-I",
          "KC-3-J",
          "KC-3-K"
         ],
         "type": "scatter",
         "uid": "6346b7ff-bf35-40bd-bba3-f81188dc9462",
         "x": {
          "dtype": "float64",
          "shape": [
           11
          ]
         },
         "y": [
          0,
          0,
          0,
          0,
          0,
          0,
          0,
          0,
          0,
          0,
          0
         ]
        },
        {
         "legendgroup": "Bed 22",
         "marker": {
          "color": "Blue",
          "opacity": 0.3,
          "symbol": "diamond"
         },
         "mode": "markers",
         "name": "Bed 22 (post-diagenesis)",
         "text": [
          "KC-3-A",
          "KC-3-B",
          "KC-3-C",
          "KC-3-D",
          "KC-3-E",
          "KC-3-F",
          "KC-3-G",
          "KC-3-H",
          "KC-3-I",
          "KC-3-J",
          "KC-3-K"
         ],
         "type": "scatter",
         "uid": "63a0348f-45c7-417f-a37f-f0a01493f464",
         "x": {
          "dtype": "float64",
          "shape": [
           11
          ]
         },
         "y": {
          "dtype": "float64",
          "shape": [
           11
          ]
         }
        },
        {
         "line": {
          "color": "LightGreen"
         },
         "name": "model (const. total Fe)",
         "type": "scatter",
         "uid": "e33ab6a4-b226-446a-b656-409ff260ccae",
         "x": {
          "dtype": "float64",
          "shape": [
           50
          ]
         },
         "y": {
          "dtype": "float64",
          "shape": [
           50
          ]
         }
        }
       ],
       "_js2py_pointsCallback": {},
       "_js2py_relayout": {},
       "_js2py_restyle": {},
       "_js2py_update": {},
       "_last_layout_edit_id": 26,
       "_last_trace_edit_id": 22,
       "_layout": {
        "height": 650,
        "legend": {
         "font": {
          "size": 11
         }
        },
        "shapes": [
         {
          "line": {
           "dash": "dash",
           "width": 1
          },
          "type": "line",
          "x0": 0,
          "x1": 1,
          "xref": "x domain",
          "y0": 0.8,
          "y1": 0.8,
          "yref": "y"
         },
         {
          "line": {
           "dash": "dash",
           "width": 1
          },
          "type": "line",
          "x0": 0.38,
          "x1": 0.38,
          "xref": "x",
          "y0": 0,
          "y1": 1,
          "yref": "y domain"
         }
        ],
        "template": {
         "layout": {
          "bargap": 0.05,
          "bargroupgap": 0,
          "font": {
           "color": "black",
           "family": "Arial",
           "size": 16
          },
          "height": 700,
          "hovermode": "closest",
          "margin": {
           "b": 60,
           "l": 60,
           "r": 30,
           "t": 30
          },
          "scene": {
           "xaxis": {
            "color": "black",
            "linewidth": 2,
            "showline": true,
            "ticks": "outside"
           },
           "yaxis": {
            "color": "black",
            "linewidth": 2,
            "showline": true,
            "ticks": "outside"
           },
           "zaxis": {
            "color": "black",
            "linewidth": 2,
            "showline": true,
            "ticks": "outside"
           }
          },
          "xaxis": {
           "color": "black",
           "linewidth": 1.3,
           "mirror": true,
           "showgrid": true,
           "showline": true,
           "ticks": "outside",
           "zeroline": true
          },
          "yaxis": {
           "color": "black",
           "linewidth": 1.3,
           "mirror": true,
           "showgrid": true,
           "showline": true,
           "ticks": "outside",
           "zeroline": true
          }
         }
        },
        "width": 900,
        "xaxis": {
         "range": [
          0,
          1
         ],
         "title": {
          "text": "[Fe<sub>HR</sub>]/[Fe<sub>tot</sub>]"
         }
        },
        "yaxis": {
         "range": [
          0,
          1
         ],
         "title": {
          "text": "[Fe<sub>py</sub>]/[Fe<sub>HR</sub>]"
         }
        }
       },
       "_py2js_animate": {},
       "_py2js_deleteTraces": {},
       "_py2js_moveTraces": {},
       "_py2js_removeLayoutProps": {},
       "_py2js_removeTraceProps": {},
       "_py2js_restyle": {},
       "_view_count": 1
      }
     },
     "650b3d0ee7f94a4c99dde3708de5091d": {
      "model_module": "@jupyter-widgets/controls",
      "model_module_version": "1.5.0",
      "model_name": "FloatSliderModel",
      "state": {
       "description": "[Fe<sub>tot</sub>] / wt%",
       "layout": "IPY_MODEL_dab52c1007064d12885a52a05cea156d",
       "max": 15,
       "step": 0.1,
       "style": "IPY_MODEL_5b137c19b7334ec5aedd320b81566c11",
       "value": 5
      }
     },
     "6671ebdcca0245129e1fd15e41eec53e": {
      "model_module": "@jupyter-widgets/base",
      "model_module_version": "1.2.0",
      "model_name": "LayoutModel",
      "state": {}
     },
     "668290f18fd34e03b4c9622008c24358": {
      "model_module": "@jupyter-widgets/base",
      "model_module_version": "1.2.0",
      "model_name": "LayoutModel",
      "state": {}
     },
     "66b1aa26faf1403bad2fb25e5b1da99e": {
      "model_module": "@jupyter-widgets/controls",
      "model_module_version": "1.5.0",
      "model_name": "SliderStyleModel",
      "state": {
       "description_width": "initial"
      }
     },
     "76c27721c9b54a6bbf2d2bb91d68da92": {
      "model_module": "@jupyter-widgets/controls",
      "model_module_version": "1.5.0",
      "model_name": "DropdownModel",
      "state": {
       "_options_labels": [
        "HR_to_tot",
        "py_to_HR",
        "py_to_tot",
        "Fe_py",
        "Fe_ox",
        "Fe_mag",
        "Fe_carb",
        "Fe_UR",
        "Fe_HR",
        "Fe_tot",
        "d34S",
        "H2S_decay",
        "fossil_index",
        "py_index",
        "phi",
        "biodiversity",
        "Constant",
        "height"
       ],
       "description": "colour",
       "index": 10,
       "layout": "IPY_MODEL_f0bed6254b334af8947784c50b72383b",
       "style": "IPY_MODEL_b03a43c73a044232ab79a25f94193377"
      }
     },
     "7d34e0a8cc454250902e06242ef87374": {
      "model_module": "@jupyter-widgets/base",
      "model_module_version": "1.2.0",
      "model_name": "LayoutModel",
      "state": {}
     },
     "7e4e40fb3a3b4c7299651a1eb975c1eb": {
      "model_module": "@jupyter-widgets/controls",
      "model_module_version": "1.5.0",
      "model_name": "SliderStyleModel",
      "state": {
       "description_width": "initial"
      }
     },
     "7eb18d55e04643b889c227fdc54d398a": {
      "model_module": "@jupyter-widgets/output",
      "model_module_version": "1.0.0",
      "model_name": "OutputModel",
      "state": {
       "layout": "IPY_MODEL_9a138de7d373424086527ff93c8ad0b4"
      }
     },
     "7fe7cb25e82046f48db94d448a92f144": {
      "model_module": "@jupyter-widgets/base",
      "model_module_version": "1.2.0",
      "model_name": "LayoutModel",
      "state": {}
     },
     "85a15119e028424fa2d58c96e9350e8d": {
      "model_module": "@jupyter-widgets/base",
      "model_module_version": "1.2.0",
      "model_name": "LayoutModel",
      "state": {}
     },
     "86b79e00d2734b6b8a1bd993653946f1": {
      "model_module": "@jupyter-widgets/controls",
      "model_module_version": "1.5.0",
      "model_name": "VBoxModel",
      "state": {
       "_dom_classes": [
        "widget-interact"
       ],
       "children": [
        "IPY_MODEL_afae15dc96954fafaafb3e65b0dc8cde",
        "IPY_MODEL_948b5bcb553943ff9a55aa2236341810",
        "IPY_MODEL_9cd51a8be7014e9fab67498b10de06ea",
        "IPY_MODEL_41c1e2e0f0324545b98fec7c766804bb",
        "IPY_MODEL_4fe94663c82543409b885f666009d74b"
       ],
       "layout": "IPY_MODEL_d4b1294c21d9474586f29b0ecef85916"
      }
     },
     "89feb45ed7d64441b3869b805c95537c": {
      "model_module": "@jupyter-widgets/base",
      "model_module_version": "1.2.0",
      "model_name": "LayoutModel",
      "state": {
       "width": "75%"
      }
     },
     "8d95aa3cae82476d8a943fbe65a6608e": {
      "model_module": "@jupyter-widgets/controls",
      "model_module_version": "1.5.0",
      "model_name": "SliderStyleModel",
      "state": {
       "description_width": "initial"
      }
     },
     "91af818e1fd14cec8c21cf01a8474600": {
      "model_module": "@jupyter-widgets/controls",
      "model_module_version": "1.5.0",
      "model_name": "FloatSliderModel",
      "state": {
       "description": "[Fe<sub>py</sub>]<sub>0</sub> / wt%",
       "layout": "IPY_MODEL_33789b4f064e44ef8376b1f88cf1bf71",
       "max": 5,
       "step": 0.1,
       "style": "IPY_MODEL_bd9d4ba0da5a4a61863821c8fd53f5d6"
      }
     },
     "92af306873e8410085cd6922c6c54137": {
      "model_module": "@jupyter-widgets/controls",
      "model_module_version": "1.5.0",
      "model_name": "SliderStyleModel",
      "state": {
       "description_width": "initial"
      }
     },
     "92d035524d77465bbdfcf2f84fe520e3": {
      "model_module": "@jupyter-widgets/controls",
      "model_module_version": "1.5.0",
      "model_name": "SliderStyleModel",
      "state": {
       "description_width": "initial"
      }
     },
     "9356b8f830fc4832a621001923467cc7": {
      "model_module": "@jupyter-widgets/controls",
      "model_module_version": "1.5.0",
      "model_name": "DescriptionStyleModel",
      "state": {
       "description_width": "initial"
      }
     },
     "948b5bcb553943ff9a55aa2236341810": {
      "model_module": "@jupyter-widgets/controls",
      "model_module_version": "1.5.0",
      "model_name": "FloatSliderModel",
      "state": {
       "description": "[Fe<sub>py</sub>]<sub>0</sub> / wt%",
       "layout": "IPY_MODEL_19cd1d819b5b4658b3297401b5f1a09f",
       "max": 5,
       "step": 0.1,
       "style": "IPY_MODEL_66b1aa26faf1403bad2fb25e5b1da99e"
      }
     },
     "9611b40c85b04dd2b7b11dbeaaacc761": {
      "model_module": "@jupyter-widgets/base",
      "model_module_version": "1.2.0",
      "model_name": "LayoutModel",
      "state": {}
     },
     "9725a002deeb412184b352130b52a229": {
      "model_module": "@jupyter-widgets/base",
      "model_module_version": "1.2.0",
      "model_name": "LayoutModel",
      "state": {}
     },
     "9819f7560733409ab309f1d7a7d32161": {
      "model_module": "@jupyter-widgets/base",
      "model_module_version": "1.2.0",
      "model_name": "LayoutModel",
      "state": {}
     },
     "994a9b9a92304a72988076282dbbe131": {
      "buffers": [
       {
        "data": "FK5H4XoU9j/hehSuR+H6PwrXo3A9CgFAzczMzMzMBEAAAAAAAAAIQArXo3A9ChJApHA9CtejFECamZmZmZkYQAAAAAAAABpAFK5H4XoUHUDXo3A9CtceQGZmZmZmZiBASOF6FK5HIUBxPQrXo/AiQFK4HoXr0SNA9ihcj8J1JUDhehSuR2EmQFK4HoXrUSdAZmZmZmZmKECPwvUoXI8pQI/C9ShcjypA4XoUrkdhK0A9CtejcD0sQNejcD0KVy1APQrXo3A9LkC4HoXrUTgvQPYoXI/CNTBAw/UoXI8CMUDsUbgehWsxQPYoXI/CNTJAexSuR+H6MkAUrkfhelQzQHsUrkfhujNAKVyPwvUoNEDXo3A9Ctc0QHE9CtejcDVAhetRuB7FNUA=",
        "encoding": "base64",
        "path": [
         "_data",
         0,
         "marker",
         "color",
         "value"
        ]
       },
       {
        "data": "KVyPwvUo5D8UrkfhehTuP1yPwvUoXOc/cT0K16Nw/T9I4XoUrkf5P3sUrkfhevQ/w/UoXI/C9T8pXI/C9Sj0Px+F61G4HvU/KVyPwvUo+D89CtejcD3+P8P1KFyPwvU/w/UoXI/CCUBSuB6F61H0P7gehetRuBJASOF6FK5H8T8K16NwPQr3P1K4HoXrUfQ/uB6F61G47j/Xo3A9Ctf3P4/C9Shcj/o/7FG4HoXr6T9cj8L1KFzzPwAAAAAAAPA/PQrXo3A98j/hehSuR+HyP3sUrkfheuw/SOF6FK5H9T/hehSuR+HyP9ejcD0K1/c/9ihcj8L1+D8pXI/C9Sj8Px+F61G4Hu0/ZmZmZmZm9j8K16NwPQrzP5qZmZmZmfk/UrgehetR9D8=",
        "encoding": "base64",
        "path": [
         "_data",
         0,
         "x",
         "value"
        ]
       },
       {
        "data": "Rwd4wKP9NcDD/ACOXgkwwMEuJT+MjyrA/jMJIdu/L8BTmBt0ZCcywDKRuNYj7DLAQFPtOgpRNMB4L4ehp1EuwKu1c0F4mzTAUHW0UVYANsAFJ7EOl7gmwFFBx24I4jPAj9E3cp7+I8CEuSjx9+UywAQFkeNMMhbA2TVfjqU7MMDVZnrukJwywH6jqudgGyzAp/ZymVzMNMAKO9kXTeI0wDalBdnBcjXAwoQpRBDLNMBBT3jre2A4wI4TYoJFczPALO/3XeG7NMDgYpUCNDczwN/G4xE5UTTAzsaJukrVLsDwGDRs5AY2wNgFvnI7yTbAG4Yfg/CcNcB+hirdR4o1wNmKIT+GOjPAcr7WsPMGOcA0gtMIOBQ2wOYGKnLaIzXAGh4S+eZWL8A=",
        "encoding": "base64",
        "path": [
         "_data",
         0,
         "y",
         "value"
        ]
       },
       {
        "data": "FK5H4XoU7j/2KFyPwjU2QA==",
        "encoding": "base64",
        "path": [
         "_data",
         1,
         "marker",
         "color",
         "value"
        ]
       },
       {
        "data": "XI/C9Shc3z97FK5H4XqkPw==",
        "encoding": "base64",
        "path": [
         "_data",
         1,
         "x",
         "value"
        ]
       },
       {
        "data": "cLVTVzbTM8AAAAAAAAD4fw==",
        "encoding": "base64",
        "path": [
         "_data",
         1,
         "y",
         "value"
        ]
       },
       {
        "data": "mpmZmZmZGEBmZmZmZmYgQMP1KFyPAjFA",
        "encoding": "base64",
        "path": [
         "_data",
         2,
         "marker",
         "color",
         "value"
        ]
       },
       {
        "data": "PQrXo3A9+j9xPQrXo3D1P9ejcD0K1xJA",
        "encoding": "base64",
        "path": [
         "_data",
         2,
         "x",
         "value"
        ]
       },
       {
        "data": "ovup9wEPLcAgl5iD0rI0wKT/J+OQfB3A",
        "encoding": "base64",
        "path": [
         "_data",
         2,
         "y",
         "value"
        ]
       },
       {
        "data": "UrgehetRJ0BSuB6F61EnQFK4HoXrUSdAUrgehetRJ0BSuB6F61EnQFK4HoXrUSdAUrgehetRJ0BSuB6F61EnQFK4HoXrUSdAUrgehetRJ0BSuB6F61EnQA==",
        "encoding": "base64",
        "path": [
         "_data",
         3,
         "marker",
         "color",
         "value"
        ]
       },
       {
        "data": "9ihcj8L1AEBSuB6F61H4P0jhehSuRxBAXI/C9Shc9z8UrkfhehT2P1yPwvUoXO8/FK5H4XoUCEBcj8L1KFzvP3E9CtejcPE/MzMzMzMz9z8AAAAAAADwPw==",
        "encoding": "base64",
        "path": [
         "_data",
         3,
         "x",
         "value"
        ]
       },
       {
        "data": "LnRyTCwKLcCYbbVBaekpwIDQerKveiDAKCD9rhZYI8BeyxW7L38wwNQynejnmCrAhEeFPsdBIsDGEL3bpnUxwJyLhhnAnzTAegDWAACoI8ASyWyzaP8wwA==",
        "encoding": "base64",
        "path": [
         "_data",
         3,
         "y",
         "value"
        ]
       }
      ],
      "model_module": "jupyterlab-plotly",
      "model_module_version": "^5.1.0",
      "model_name": "FigureModel",
      "state": {
       "_config": {
        "plotlyServerURL": "https://plot.ly"
       },
       "_data": [
        {
         "marker": {
          "color": {
           "dtype": "float64",
           "shape": [
            37
           ]
          },
          "coloraxis": "coloraxis",
          "line": {
           "color": "Black",
           "width": 1
          },
          "size": [
           1,
           1,
           1,
           1,
           1,
           1,
           1,
           1,
           1,
           1,
           1,
           1,
           1,
           1,
           1,
           1,
           1,
           1,
           1,
           1,
           1,
           1,
           1,
           1,
           1,
           1,
           1,
           1,
           1,
           1,
           1,
           1,
           1,
           1,
           1,
           1,
           1
          ],
          "sizemin": 4,
          "sizeref": 0.08333333333333326,
          "symbol": "circle"
         },
         "mode": "markers",
         "name": "Mudstone",
         "text": [
          "KC-2-1<br>: 1.00<br><i>h</i> / m: 1.38",
          "KC-2-2<br>: 1.00<br><i>h</i> / m: 1.68",
          "KC-2-2.5<br>: 1.00<br><i>h</i> / m: 2.13",
          "KC-2-3<br>: 1.00<br><i>h</i> / m: 2.60",
          "KC-2-3.5<br>: 1.00<br><i>h</i> / m: 3.00",
          "KC-2-4.5<br>: 1.00<br><i>h</i> / m: 4.51",
          "KC-2-5<br>: 1.00<br><i>h</i> / m: 5.16",
          "KC-2-6<br>: 1.00<br><i>h</i> / m: 6.15",
          "KC-2-6.5<br>: 1.00<br><i>h</i> / m: 6.50",
          "KC-2-7<br>: 1.00<br><i>h</i> / m: 7.27",
          "KC-2-8<br>: 1.00<br><i>h</i> / m: 7.71",
          "KC-2-9<br>: 1.00<br><i>h</i> / m: 8.20",
          "KC-2-10<br>: 1.00<br><i>h</i> / m: 8.64",
          "KC-2-11<br>: 1.00<br><i>h</i> / m: 9.47",
          "KC-2-12<br>: 1.00<br><i>h</i> / m: 9.91",
          "KC-2-13<br>: 1.00<br><i>h</i> / m: 10.73",
          "KC-2-14<br>: 1.00<br><i>h</i> / m: 11.19",
          "KC-2-14.5<br>: 1.00<br><i>h</i> / m: 11.66",
          "KC-2-15<br>: 1.00<br><i>h</i> / m: 12.20",
          "KC-2-15.5<br>: 1.00<br><i>h</i> / m: 12.78",
          "KC-2-16<br>: 1.00<br><i>h</i> / m: 13.28",
          "KC-2-17<br>: 1.00<br><i>h</i> / m: 13.69",
          "KC-2-18<br>: 1.00<br><i>h</i> / m: 14.12",
          "KC-2-19<br>: 1.00<br><i>h</i> / m: 14.67",
          "KC-2-20<br>: 1.00<br><i>h</i> / m: 15.12",
          "KC-2-21<br>: 1.00<br><i>h</i> / m: 15.61",
          "KC-2-21.5<br>: 1.00<br><i>h</i> / m: 16.21",
          "KC-2-22<br>: 1.00<br><i>h</i> / m: 17.01",
          "KC-2-23<br>: 1.00<br><i>h</i> / m: 17.42",
          "KC-2-24<br>: 1.00<br><i>h</i> / m: 18.21",
          "KC-2-25<br>: 1.00<br><i>h</i> / m: 18.98",
          "KC-2-25.5<br>: 1.00<br><i>h</i> / m: 19.33",
          "KC-2-26<br>: 1.00<br><i>h</i> / m: 19.73",
          "KC-2-26.5<br>: 1.00<br><i>h</i> / m: 20.16",
          "KC-2-27<br>: 1.00<br><i>h</i> / m: 20.84",
          "KC-2-28<br>: 1.00<br><i>h</i> / m: 21.44",
          "KC-2-29<br>: 1.00<br><i>h</i> / m: 21.77"
         ],
         "type": "scatter",
         "uid": "5b9d3db3-f3c6-4c48-9786-6e119848928f",
         "x": {
          "dtype": "float64",
          "shape": [
           37
          ]
         },
         "y": {
          "dtype": "float64",
          "shape": [
           37
          ]
         }
        },
        {
         "marker": {
          "color": {
           "dtype": "float64",
           "shape": [
            2
           ]
          },
          "coloraxis": "coloraxis",
          "line": {
           "color": "Black",
           "width": 1
          },
          "size": [
           1,
           1
          ],
          "sizemin": 4,
          "sizeref": 0.08333333333333326,
          "symbol": "star"
         },
         "mode": "markers",
         "name": "Carbonate",
         "text": [
          "KC-2-0<br>: 1.00<br><i>h</i> / m: 0.94",
          "KC-2-30<br>: 1.00<br><i>h</i> / m: 22.21"
         ],
         "type": "scatter",
         "uid": "0b036899-412a-4458-8e3c-7df25af0ce54",
         "x": {
          "dtype": "float64",
          "shape": [
           2
          ]
         },
         "y": {
          "dtype": "float64",
          "shape": [
           2
          ]
         }
        },
        {
         "marker": {
          "color": {
           "dtype": "float64",
           "shape": [
            3
           ]
          },
          "coloraxis": "coloraxis",
          "line": {
           "color": "Black",
           "width": 1
          },
          "size": [
           1,
           1,
           1
          ],
          "sizemin": 4,
          "sizeref": 0.08333333333333326,
          "symbol": "square"
         },
         "mode": "markers",
         "name": "Pervasively pyritised regions",
         "text": [
          "KC-2-6p<br>: 1.00<br><i>h</i> / m: 6.15",
          "KC-2-9p<br>: 1.00<br><i>h</i> / m: 8.20",
          "KC-2-22p<br>: 1.00<br><i>h</i> / m: 17.01"
         ],
         "type": "scatter",
         "uid": "3250bf93-8dc7-4a80-b63d-eaa0d0c3e0ad",
         "x": {
          "dtype": "float64",
          "shape": [
           3
          ]
         },
         "y": {
          "dtype": "float64",
          "shape": [
           3
          ]
         }
        },
        {
         "marker": {
          "color": {
           "dtype": "float64",
           "shape": [
            11
           ]
          },
          "coloraxis": "coloraxis",
          "line": {
           "color": "Black",
           "width": 1
          },
          "size": [
           1,
           1,
           1,
           1,
           1,
           1,
           1,
           1,
           1,
           1,
           1
          ],
          "sizemin": 4,
          "sizeref": 0.08333333333333326,
          "symbol": "diamond"
         },
         "mode": "markers",
         "name": "Bed 22",
         "text": [
          "KC-3-A<br>: 1.00<br><i>h</i> / m: 11.66",
          "KC-3-B<br>: 1.00<br><i>h</i> / m: 11.66",
          "KC-3-C<br>: 1.00<br><i>h</i> / m: 11.66",
          "KC-3-D<br>: 1.00<br><i>h</i> / m: 11.66",
          "KC-3-E<br>: 1.00<br><i>h</i> / m: 11.66",
          "KC-3-F<br>: 1.00<br><i>h</i> / m: 11.66",
          "KC-3-G<br>: 1.00<br><i>h</i> / m: 11.66",
          "KC-3-H<br>: 1.00<br><i>h</i> / m: 11.66",
          "KC-3-I<br>: 1.00<br><i>h</i> / m: 11.66",
          "KC-3-J<br>: 1.00<br><i>h</i> / m: 11.66",
          "KC-3-K<br>: 1.00<br><i>h</i> / m: 11.66"
         ],
         "type": "scatter",
         "uid": "664019f9-58ed-4e27-aa98-c1860392f30b",
         "x": {
          "dtype": "float64",
          "shape": [
           11
          ]
         },
         "y": {
          "dtype": "float64",
          "shape": [
           11
          ]
         }
        }
       ],
       "_js2py_restyle": {},
       "_js2py_update": {},
       "_last_layout_edit_id": 8,
       "_last_trace_edit_id": 6,
       "_layout": {
        "coloraxis": {
         "colorbar": {
          "ticks": "outside",
          "title": {
           "text": "<i>h</i> / m"
          }
         },
         "colorscale": [
          [
           0,
           "#fde725"
          ],
          [
           0.1111111111111111,
           "#b5de2b"
          ],
          [
           0.2222222222222222,
           "#6ece58"
          ],
          [
           0.3333333333333333,
           "#35b779"
          ],
          [
           0.4444444444444444,
           "#1f9e89"
          ],
          [
           0.5555555555555556,
           "#26828e"
          ],
          [
           0.6666666666666666,
           "#31688e"
          ],
          [
           0.7777777777777778,
           "#3e4989"
          ],
          [
           0.8888888888888888,
           "#482878"
          ],
          [
           1,
           "#440154"
          ]
         ]
        },
        "height": 700,
        "legend": {
         "itemsizing": "constant",
         "orientation": "h",
         "x": 0,
         "xanchor": "left",
         "y": 1.01,
         "yanchor": "bottom"
        },
        "shapes": [
         {
          "line": {
           "width": 0.5
          },
          "name": "Diagonal",
          "type": "line",
          "visible": false,
          "x0": -100,
          "x1": 100,
          "y0": -100,
          "y1": 100
         }
        ],
        "template": {
         "layout": {
          "bargap": 0.05,
          "bargroupgap": 0,
          "font": {
           "color": "black",
           "family": "Arial",
           "size": 16
          },
          "height": 700,
          "hovermode": "closest",
          "margin": {
           "b": 60,
           "l": 60,
           "r": 30,
           "t": 30
          },
          "scene": {
           "xaxis": {
            "color": "black",
            "linewidth": 2,
            "showline": true,
            "ticks": "outside"
           },
           "yaxis": {
            "color": "black",
            "linewidth": 2,
            "showline": true,
            "ticks": "outside"
           },
           "zaxis": {
            "color": "black",
            "linewidth": 2,
            "showline": true,
            "ticks": "outside"
           }
          },
          "xaxis": {
           "color": "black",
           "linewidth": 1.3,
           "mirror": true,
           "showgrid": true,
           "showline": true,
           "ticks": "outside",
           "zeroline": true
          },
          "yaxis": {
           "color": "black",
           "linewidth": 1.3,
           "mirror": true,
           "showgrid": true,
           "showline": true,
           "ticks": "outside",
           "zeroline": true
          }
         }
        },
        "width": 740,
        "xaxis": {
         "range": [
          -0.006866644748856565,
          5.046339656194428
         ],
         "title": {
          "text": "[Fe<sub>py</sub>] (wt%)"
         }
        },
        "yaxis": {
         "title": {
          "text": "δ<sup>34</sup>S (‰)"
         }
        }
       },
       "_py2js_animate": {},
       "_py2js_deleteTraces": {},
       "_py2js_moveTraces": {},
       "_py2js_removeLayoutProps": {},
       "_py2js_restyle": {},
       "_view_count": 1
      }
     },
     "9a138de7d373424086527ff93c8ad0b4": {
      "model_module": "@jupyter-widgets/base",
      "model_module_version": "1.2.0",
      "model_name": "LayoutModel",
      "state": {}
     },
     "9cd51a8be7014e9fab67498b10de06ea": {
      "model_module": "@jupyter-widgets/controls",
      "model_module_version": "1.5.0",
      "model_name": "FloatSliderModel",
      "state": {
       "description": "H<sub>2</sub>S added / mol",
       "layout": "IPY_MODEL_c0721954d00f48e89018759a927f7ef4",
       "max": 1.5,
       "step": 0.01,
       "style": "IPY_MODEL_92af306873e8410085cd6922c6c54137",
       "value": 0.32
      }
     },
     "9d146067cdc9473fb05374dc5db316b9": {
      "model_module": "@jupyter-widgets/controls",
      "model_module_version": "1.5.0",
      "model_name": "DescriptionStyleModel",
      "state": {
       "description_width": ""
      }
     },
     "9e40f5f8933f470eb152b6ebc3e9bbe4": {
      "model_module": "@jupyter-widgets/output",
      "model_module_version": "1.0.0",
      "model_name": "OutputModel",
      "state": {
       "layout": "IPY_MODEL_0bcd045cf98847d2a9ac32cecc2aa3d5"
      }
     },
     "a13e60761266461e9389dd2e6f667df8": {
      "model_module": "@jupyter-widgets/controls",
      "model_module_version": "1.5.0",
      "model_name": "SliderStyleModel",
      "state": {
       "description_width": "initial"
      }
     },
     "a316e6ad6f114879b26928c7950dccff": {
      "model_module": "@jupyter-widgets/controls",
      "model_module_version": "1.5.0",
      "model_name": "DescriptionStyleModel",
      "state": {
       "description_width": ""
      }
     },
     "a3d3d31316e1492fa576e85985c8a096": {
      "model_module": "@jupyter-widgets/controls",
      "model_module_version": "1.5.0",
      "model_name": "DescriptionStyleModel",
      "state": {
       "description_width": ""
      }
     },
     "a61cee32b9004222a7ebdab3cb484373": {
      "model_module": "@jupyter-widgets/controls",
      "model_module_version": "1.5.0",
      "model_name": "VBoxModel",
      "state": {
       "_dom_classes": [
        "widget-interact"
       ],
       "children": [
        "IPY_MODEL_383b30db602646dd8a2d562de5bacc11",
        "IPY_MODEL_5583e43b97fc4a94802fc0813b0b3ad9",
        "IPY_MODEL_459bdf2e3cec4759ba2cb7f367e30544",
        "IPY_MODEL_27732d712c874829a0b040b3ed364dc3"
       ],
       "layout": "IPY_MODEL_dc612999f16f490aac4ca7a61dd5d457"
      }
     },
     "ac0d5d976f4e445a9e2d2652abb0f29d": {
      "model_module": "@jupyter-widgets/controls",
      "model_module_version": "1.5.0",
      "model_name": "DropdownModel",
      "state": {
       "_options_labels": [
        "HR_to_tot",
        "py_to_HR",
        "py_to_tot",
        "Fe_py",
        "Fe_ox",
        "Fe_mag",
        "Fe_carb",
        "Fe_UR",
        "Fe_HR",
        "Fe_tot",
        "d34S",
        "H2S_decay",
        "fossil_index",
        "py_index",
        "phi",
        "biodiversity",
        "Constant",
        "height"
       ],
       "description": "y",
       "index": 10,
       "layout": "IPY_MODEL_668290f18fd34e03b4c9622008c24358",
       "style": "IPY_MODEL_f759d3a0554c4442937edae3839d8e39"
      }
     },
     "ac42c8a55cb948bbb1188d3c51991197": {
      "buffers": [
       {
        "data": "Rwd4wKP9NcDD/ACOXgkwwMEuJT+MjyrA/jMJIdu/L8BTmBt0ZCcywDKRuNYj7DLAQFPtOgpRNMB4L4ehp1EuwKu1c0F4mzTAUHW0UVYANsAFJ7EOl7gmwFFBx24I4jPAj9E3cp7+I8CEuSjx9+UywAQFkeNMMhbA2TVfjqU7MMDVZnrukJwywH6jqudgGyzAp/ZymVzMNMAKO9kXTeI0wDalBdnBcjXAwoQpRBDLNMBBT3jre2A4wI4TYoJFczPALO/3XeG7NMDgYpUCNDczwN/G4xE5UTTAzsaJukrVLsDwGDRs5AY2wNgFvnI7yTbAG4Yfg/CcNcB+hirdR4o1wNmKIT+GOjPAcr7WsPMGOcA0gtMIOBQ2wOYGKnLaIzXAGh4S+eZWL8A=",
        "encoding": "base64",
        "path": [
         "_data",
         0,
         "marker",
         "color",
         "value"
        ]
       },
       {
        "data": "XFpQhZJ17D9b/Jw93n7fP+i1AE/bJ+U/COOO8seB5T9UIVbvVIjlP/MSfp9MYOk/YWEw5OqV4j9vjvTiq5frP34pYmErnOg/JwmWh+si6T86iSG/wLvpP+AZe2LoueQ/oky2XYDC6z8VMB/ILizmP31ENZuxbew/leBQ+fVw4T/XZFmTZU3mP2NCE/0qa+Y/m5fEvhcf3T9GRXYeekHoP3Z5XCXJGe0/Iehdp+E33D/Gee6rKInoP5aLiHIAx+A/rkb+MVY86j8TBt9pCuzgPxBDdWroROM/WAljs6Da6z/5psodzi/iP98IkaMLBuc/DOpCMlxN4z8a/V1dqE7nPxhaRmnw2ec/NsF4K/sc4j+byUeerbLiP9Bf0a/DSOg/UQ9OXHM75j8=",
        "encoding": "base64",
        "path": [
         "_data",
         0,
         "x",
         "value"
        ]
       },
       {
        "data": "AAAAAACAvz///////3/nP+NZRvQB1dE/AAAAAAAA5z/Cbn4LAaPkPxVQARVQAdU/6VCD3ZmM5j+KU7/nljjVP7IVQcNJ3dc/9onqQSPv3D/6j++FCMTMP1HrVwrU+uU/mJIpmZIp2T9e3MVd3MXdP+iiiy666OI/v9wQA9Kx5D8OePzhgMffP4v2m/JcAtk/GHqhF3qh5z/sPtwCCqPaPzP8l0DotdM/MwTraPM+5T8z/iMwPTjLP1VVVVVVVeU/1YGPuYn2zT9IgzRIgzToP3mFV3iFV9g/MQpR/UjY0T+yH/uxH/vhP0Qn7YNkQN0/eXh4eHh46D+/TTFq+NvkP0dY7mmE5c4/nYM1S4xP6T/A/HWW+hnQP0UXXXTRRdc/Ce0ltJfQ4j8=",
        "encoding": "base64",
        "path": [
         "_data",
         0,
         "y",
         "value"
        ]
       },
       {
        "data": "cLVTVzbTM8AAAAAAAAD4fw==",
        "encoding": "base64",
        "path": [
         "_data",
         1,
         "marker",
         "color",
         "value"
        ]
       },
       {
        "data": "T0KGcHbH7j86EYT0pwfwPw==",
        "encoding": "base64",
        "path": [
         "_data",
         1,
         "x",
         "value"
        ]
       },
       {
        "data": "mPMp6AFctz9Gt/CrMZGOPw==",
        "encoding": "base64",
        "path": [
         "_data",
         1,
         "y",
         "value"
        ]
       },
       {
        "data": "ovup9wEPLcAgl5iD0rI0wKT/J+OQfB3A",
        "encoding": "base64",
        "path": [
         "_data",
         2,
         "marker",
         "color",
         "value"
        ]
       },
       {
        "data": "5AmIzlf36D+65iBDdp3kP16ZmlI0GO4/",
        "encoding": "base64",
        "path": [
         "_data",
         2,
         "x",
         "value"
        ]
       },
       {
        "data": "rLid02c/4D8rMl+aOIzlPx7wNU2qHuA/",
        "encoding": "base64",
        "path": [
         "_data",
         2,
         "y",
         "value"
        ]
       },
       {
        "data": "LnRyTCwKLcCYbbVBaekpwIDQerKveiDAKCD9rhZYI8BeyxW7L38wwNQynejnmCrAhEeFPsdBIsDGEL3bpnUxwJyLhhnAnzTAegDWAACoI8ASyWyzaP8wwA==",
        "encoding": "base64",
        "path": [
         "_data",
         3,
         "marker",
         "color",
         "value"
        ]
       },
       {
        "data": "+k0Z2ieF6z9n8Jvo6dzuP83MzMzMzOw/iSoyRzZm7j9XXkDVXgfpPx8Fm/+4E+4/kvh/CifL6j8B6oqXvM3kP0+KscuHWuQ/SHgHzFPJ7z8RvCr8pHPiPw==",
        "encoding": "base64",
        "path": [
         "_data",
         3,
         "x",
         "value"
        ]
       },
       {
        "data": "Ju+ND7gs4T8UO7ETO7HTP6jeOcE/89g/M8lF7VnLuT/UM5XrjhfbPyguGYJ1tMk/23eiGVIR2j8dz6mkgITfP/SuxWgy79o//P//////zD+BMYmD963hPw==",
        "encoding": "base64",
        "path": [
         "_data",
         3,
         "y",
         "value"
        ]
       }
      ],
      "model_module": "jupyterlab-plotly",
      "model_module_version": "^5.1.0",
      "model_name": "FigureModel",
      "state": {
       "_config": {
        "plotlyServerURL": "https://plot.ly"
       },
       "_data": [
        {
         "marker": {
          "color": {
           "dtype": "float64",
           "shape": [
            37
           ]
          },
          "coloraxis": "coloraxis",
          "line": {
           "color": "Black",
           "width": 1
          },
          "size": [
           1,
           1,
           1,
           1,
           1,
           1,
           1,
           1,
           1,
           1,
           1,
           1,
           1,
           1,
           1,
           1,
           1,
           1,
           1,
           1,
           1,
           1,
           1,
           1,
           1,
           1,
           1,
           1,
           1,
           1,
           1,
           1,
           1,
           1,
           1,
           1,
           1
          ],
          "sizemin": 4,
          "sizeref": 0.08333333333333326,
          "symbol": "circle"
         },
         "mode": "markers",
         "name": "Mudstone",
         "text": [
          "KC-2-1<br>: 1.00<br>δ<sup>34</sup>S (‰): -21.99",
          "KC-2-2<br>: 1.00<br>δ<sup>34</sup>S (‰): -16.04",
          "KC-2-2.5<br>: 1.00<br>δ<sup>34</sup>S (‰): -13.28",
          "KC-2-3<br>: 1.00<br>δ<sup>34</sup>S (‰): -15.87",
          "KC-2-3.5<br>: 1.00<br>δ<sup>34</sup>S (‰): -18.15",
          "KC-2-4.5<br>: 1.00<br>δ<sup>34</sup>S (‰): -18.92",
          "KC-2-5<br>: 1.00<br>δ<sup>34</sup>S (‰): -20.32",
          "KC-2-6<br>: 1.00<br>δ<sup>34</sup>S (‰): -15.16",
          "KC-2-6.5<br>: 1.00<br>δ<sup>34</sup>S (‰): -20.61",
          "KC-2-7<br>: 1.00<br>δ<sup>34</sup>S (‰): -22.00",
          "KC-2-8<br>: 1.00<br>δ<sup>34</sup>S (‰): -11.36",
          "KC-2-9<br>: 1.00<br>δ<sup>34</sup>S (‰): -19.88",
          "KC-2-10<br>: 1.00<br>δ<sup>34</sup>S (‰): -10.00",
          "KC-2-11<br>: 1.00<br>δ<sup>34</sup>S (‰): -18.90",
          "KC-2-12<br>: 1.00<br>δ<sup>34</sup>S (‰): -5.55",
          "KC-2-13<br>: 1.00<br>δ<sup>34</sup>S (‰): -16.23",
          "KC-2-14<br>: 1.00<br>δ<sup>34</sup>S (‰): -18.61",
          "KC-2-14.5<br>: 1.00<br>δ<sup>34</sup>S (‰): -14.05",
          "KC-2-15<br>: 1.00<br>δ<sup>34</sup>S (‰): -20.80",
          "KC-2-15.5<br>: 1.00<br>δ<sup>34</sup>S (‰): -20.88",
          "KC-2-16<br>: 1.00<br>δ<sup>34</sup>S (‰): -21.45",
          "KC-2-17<br>: 1.00<br>δ<sup>34</sup>S (‰): -20.79",
          "KC-2-18<br>: 1.00<br>δ<sup>34</sup>S (‰): -24.38",
          "KC-2-19<br>: 1.00<br>δ<sup>34</sup>S (‰): -19.45",
          "KC-2-20<br>: 1.00<br>δ<sup>34</sup>S (‰): -20.73",
          "KC-2-21<br>: 1.00<br>δ<sup>34</sup>S (‰): -19.22",
          "KC-2-21.5<br>: 1.00<br>δ<sup>34</sup>S (‰): -20.32",
          "KC-2-22<br>: 1.00<br>δ<sup>34</sup>S (‰): -15.42",
          "KC-2-23<br>: 1.00<br>δ<sup>34</sup>S (‰): -22.03",
          "KC-2-24<br>: 1.00<br>δ<sup>34</sup>S (‰): -22.79",
          "KC-2-25<br>: 1.00<br>δ<sup>34</sup>S (‰): -21.61",
          "KC-2-25.5<br>: 1.00<br>δ<sup>34</sup>S (‰): -21.54",
          "KC-2-26<br>: 1.00<br>δ<sup>34</sup>S (‰): -19.23",
          "KC-2-26.5<br>: 1.00<br>δ<sup>34</sup>S (‰): -25.03",
          "KC-2-27<br>: 1.00<br>δ<sup>34</sup>S (‰): -22.08",
          "KC-2-28<br>: 1.00<br>δ<sup>34</sup>S (‰): -21.14",
          "KC-2-29<br>: 1.00<br>δ<sup>34</sup>S (‰): -15.67"
         ],
         "type": "scatter",
         "uid": "67dc63b2-3c6e-4327-9453-3c3ee9388ee8",
         "x": {
          "dtype": "float64",
          "shape": [
           37
          ]
         },
         "y": {
          "dtype": "float64",
          "shape": [
           37
          ]
         }
        },
        {
         "marker": {
          "color": {
           "dtype": "float64",
           "shape": [
            2
           ]
          },
          "coloraxis": "coloraxis",
          "line": {
           "color": "Black",
           "width": 1
          },
          "size": [
           1,
           1
          ],
          "sizemin": 4,
          "sizeref": 0.08333333333333326,
          "symbol": "star"
         },
         "mode": "markers",
         "name": "Carbonate",
         "text": [
          "KC-2-0<br>: 1.00<br>δ<sup>34</sup>S (‰): -19.83",
          "KC-2-30<br>: 1.00<br>δ<sup>34</sup>S (‰): nan"
         ],
         "type": "scatter",
         "uid": "e166bc39-3ed3-4c8c-a66f-ad1e388b4a56",
         "x": {
          "dtype": "float64",
          "shape": [
           2
          ]
         },
         "y": {
          "dtype": "float64",
          "shape": [
           2
          ]
         }
        },
        {
         "marker": {
          "color": {
           "dtype": "float64",
           "shape": [
            3
           ]
          },
          "coloraxis": "coloraxis",
          "line": {
           "color": "Black",
           "width": 1
          },
          "size": [
           1,
           1,
           1
          ],
          "sizemin": 4,
          "sizeref": 0.08333333333333326,
          "symbol": "square"
         },
         "mode": "markers",
         "name": "Pervasively pyritised regions",
         "text": [
          "KC-2-6p<br>: 1.00<br>δ<sup>34</sup>S (‰): -14.53",
          "KC-2-9p<br>: 1.00<br>δ<sup>34</sup>S (‰): -20.70",
          "KC-2-22p<br>: 1.00<br>δ<sup>34</sup>S (‰): -7.37"
         ],
         "type": "scatter",
         "uid": "e33f19ea-6b7f-4bb3-ba91-182cb4a96e76",
         "x": {
          "dtype": "float64",
          "shape": [
           3
          ]
         },
         "y": {
          "dtype": "float64",
          "shape": [
           3
          ]
         }
        },
        {
         "marker": {
          "color": {
           "dtype": "float64",
           "shape": [
            11
           ]
          },
          "coloraxis": "coloraxis",
          "line": {
           "color": "Black",
           "width": 1
          },
          "size": [
           1,
           1,
           1,
           1,
           1,
           1,
           1,
           1,
           1,
           1,
           1
          ],
          "sizemin": 4,
          "sizeref": 0.08333333333333326,
          "symbol": "diamond"
         },
         "mode": "markers",
         "name": "Bed 22",
         "text": [
          "KC-3-A<br>: 1.00<br>δ<sup>34</sup>S (‰): -14.52",
          "KC-3-B<br>: 1.00<br>δ<sup>34</sup>S (‰): -12.96",
          "KC-3-C<br>: 1.00<br>δ<sup>34</sup>S (‰): -8.24",
          "KC-3-D<br>: 1.00<br>δ<sup>34</sup>S (‰): -9.67",
          "KC-3-E<br>: 1.00<br>δ<sup>34</sup>S (‰): -16.50",
          "KC-3-F<br>: 1.00<br>δ<sup>34</sup>S (‰): -13.30",
          "KC-3-G<br>: 1.00<br>δ<sup>34</sup>S (‰): -9.13",
          "KC-3-H<br>: 1.00<br>δ<sup>34</sup>S (‰): -17.46",
          "KC-3-I<br>: 1.00<br>δ<sup>34</sup>S (‰): -20.62",
          "KC-3-J<br>: 1.00<br>δ<sup>34</sup>S (‰): -9.83",
          "KC-3-K<br>: 1.00<br>δ<sup>34</sup>S (‰): -17.00"
         ],
         "type": "scatter",
         "uid": "8be8a724-2508-42fb-8573-0d88e026a1fc",
         "x": {
          "dtype": "float64",
          "shape": [
           11
          ]
         },
         "y": {
          "dtype": "float64",
          "shape": [
           11
          ]
         }
        }
       ],
       "_js2py_pointsCallback": {},
       "_js2py_relayout": {},
       "_js2py_restyle": {},
       "_js2py_update": {},
       "_last_layout_edit_id": 14,
       "_last_trace_edit_id": 9,
       "_layout": {
        "coloraxis": {
         "colorbar": {
          "ticks": "outside",
          "title": {
           "text": "δ<sup>34</sup>S (‰)"
          }
         },
         "colorscale": [
          [
           0,
           "#fde725"
          ],
          [
           0.1111111111111111,
           "#b5de2b"
          ],
          [
           0.2222222222222222,
           "#6ece58"
          ],
          [
           0.3333333333333333,
           "#35b779"
          ],
          [
           0.4444444444444444,
           "#1f9e89"
          ],
          [
           0.5555555555555556,
           "#26828e"
          ],
          [
           0.6666666666666666,
           "#31688e"
          ],
          [
           0.7777777777777778,
           "#3e4989"
          ],
          [
           0.8888888888888888,
           "#482878"
          ],
          [
           1,
           "#440154"
          ]
         ]
        },
        "height": 700,
        "legend": {
         "itemsizing": "constant",
         "orientation": "h",
         "x": 0,
         "xanchor": "left",
         "y": 1.01,
         "yanchor": "bottom"
        },
        "shapes": [
         {
          "line": {
           "width": 0.5
          },
          "name": "Diagonal",
          "type": "line",
          "visible": false,
          "x0": -100,
          "x1": 100,
          "y0": -100,
          "y1": 100
         },
         {
          "line": {
           "dash": "dash",
           "width": 1
          },
          "type": "line",
          "x0": 0,
          "x1": 1,
          "xref": "x domain",
          "y0": 0.8,
          "y1": 0.8,
          "yref": "y"
         },
         {
          "line": {
           "dash": "dash",
           "width": 1
          },
          "type": "line",
          "x0": 0.38,
          "x1": 0.38,
          "xref": "x",
          "y0": 0,
          "y1": 1,
          "yref": "y domain"
         }
        ],
        "template": {
         "layout": {
          "bargap": 0.05,
          "bargroupgap": 0,
          "font": {
           "color": "black",
           "family": "Arial",
           "size": 16
          },
          "height": 700,
          "hovermode": "closest",
          "margin": {
           "b": 60,
           "l": 60,
           "r": 30,
           "t": 30
          },
          "scene": {
           "xaxis": {
            "color": "black",
            "linewidth": 2,
            "showline": true,
            "ticks": "outside"
           },
           "yaxis": {
            "color": "black",
            "linewidth": 2,
            "showline": true,
            "ticks": "outside"
           },
           "zaxis": {
            "color": "black",
            "linewidth": 2,
            "showline": true,
            "ticks": "outside"
           }
          },
          "xaxis": {
           "color": "black",
           "linewidth": 1.3,
           "mirror": true,
           "showgrid": true,
           "showline": true,
           "ticks": "outside",
           "zeroline": true
          },
          "yaxis": {
           "color": "black",
           "linewidth": 1.3,
           "mirror": true,
           "showgrid": true,
           "showline": true,
           "ticks": "outside",
           "zeroline": true
          }
         }
        },
        "width": 740,
        "xaxis": {
         "range": [
          0,
          1
         ],
         "title": {
          "text": "[Fe<sub>HR</sub>]/[Fe<sub>tot</sub>]"
         }
        },
        "yaxis": {
         "range": [
          0,
          1
         ],
         "title": {
          "text": "[Fe<sub>py</sub>]/[Fe<sub>HR</sub>]"
         }
        }
       },
       "_py2js_animate": {},
       "_py2js_deleteTraces": {},
       "_py2js_moveTraces": {},
       "_py2js_removeLayoutProps": {},
       "_py2js_restyle": {},
       "_view_count": 1
      }
     },
     "adcf00b1c53144109945627c89375316": {
      "model_module": "@jupyter-widgets/controls",
      "model_module_version": "1.5.0",
      "model_name": "SliderStyleModel",
      "state": {
       "description_width": "initial"
      }
     },
     "afae15dc96954fafaafb3e65b0dc8cde": {
      "model_module": "@jupyter-widgets/controls",
      "model_module_version": "1.5.0",
      "model_name": "FloatSliderModel",
      "state": {
       "description": "[Fe<sub>tot</sub>] / wt%",
       "layout": "IPY_MODEL_afb7ed324b354f5093f9a89f12cdfa54",
       "max": 15,
       "step": 0.1,
       "style": "IPY_MODEL_beccbf7d5a2a40a7bca79067077ef1d3",
       "value": 5.11
      }
     },
     "afb7ed324b354f5093f9a89f12cdfa54": {
      "model_module": "@jupyter-widgets/base",
      "model_module_version": "1.2.0",
      "model_name": "LayoutModel",
      "state": {
       "width": "75%"
      }
     },
     "b03a43c73a044232ab79a25f94193377": {
      "model_module": "@jupyter-widgets/controls",
      "model_module_version": "1.5.0",
      "model_name": "DescriptionStyleModel",
      "state": {
       "description_width": ""
      }
     },
     "b1d088aed51d46b0beaf929d896e1dd2": {
      "model_module": "@jupyter-widgets/base",
      "model_module_version": "1.2.0",
      "model_name": "LayoutModel",
      "state": {
       "width": "75%"
      }
     },
     "b447389863ce4d3198f599ddf6de27d4": {
      "model_module": "@jupyter-widgets/controls",
      "model_module_version": "1.5.0",
      "model_name": "DropdownModel",
      "state": {
       "_options_labels": [
        "HR_to_tot",
        "py_to_HR",
        "py_to_tot",
        "Fe_py",
        "Fe_ox",
        "Fe_mag",
        "Fe_carb",
        "Fe_UR",
        "Fe_HR",
        "Fe_tot",
        "d34S",
        "H2S_decay",
        "fossil_index",
        "py_index",
        "phi",
        "biodiversity",
        "Constant",
        "height"
       ],
       "description": "x",
       "index": 3,
       "layout": "IPY_MODEL_ebd58d6fc7b441e6b2695f1a5e60f560",
       "style": "IPY_MODEL_a316e6ad6f114879b26928c7950dccff"
      }
     },
     "b58ce2c9031c446d9b59617af1ecc578": {
      "model_module": "@jupyter-widgets/base",
      "model_module_version": "1.2.0",
      "model_name": "LayoutModel",
      "state": {
       "width": "75%"
      }
     },
     "bb05864d61a547acb999b5a7a1a7ccb4": {
      "model_module": "@jupyter-widgets/controls",
      "model_module_version": "1.5.0",
      "model_name": "DropdownModel",
      "state": {
       "_options_labels": [
        "HR_to_tot",
        "py_to_HR",
        "py_to_tot",
        "Fe_py",
        "Fe_ox",
        "Fe_mag",
        "Fe_carb",
        "Fe_UR",
        "Fe_HR",
        "Fe_tot",
        "H2S_decay",
        "fossil_index",
        "py_index",
        "phi",
        "biodiversity",
        "Constant",
        "height"
       ],
       "description": "size",
       "index": 15,
       "layout": "IPY_MODEL_c27b6f5b3be4447489cdc44d0110e9d7",
       "style": "IPY_MODEL_c0b6a2005e664080928c56689be1d3ef"
      }
     },
     "bc10132337404094a193d369b1252500": {
      "model_module": "@jupyter-widgets/controls",
      "model_module_version": "1.5.0",
      "model_name": "FloatSliderModel",
      "state": {
       "description": "[Fe<sub>tot</sub>] / wt%",
       "layout": "IPY_MODEL_48dc935327594dab8b0ce9ece2a22ea6",
       "max": 15,
       "step": 0.1,
       "style": "IPY_MODEL_2fa360f6b3374d0da428303830cf31df",
       "value": 5.11
      }
     },
     "bd9d4ba0da5a4a61863821c8fd53f5d6": {
      "model_module": "@jupyter-widgets/controls",
      "model_module_version": "1.5.0",
      "model_name": "SliderStyleModel",
      "state": {
       "description_width": "initial"
      }
     },
     "beccbf7d5a2a40a7bca79067077ef1d3": {
      "model_module": "@jupyter-widgets/controls",
      "model_module_version": "1.5.0",
      "model_name": "SliderStyleModel",
      "state": {
       "description_width": "initial"
      }
     },
     "c0721954d00f48e89018759a927f7ef4": {
      "model_module": "@jupyter-widgets/base",
      "model_module_version": "1.2.0",
      "model_name": "LayoutModel",
      "state": {
       "width": "75%"
      }
     },
     "c0b6a2005e664080928c56689be1d3ef": {
      "model_module": "@jupyter-widgets/controls",
      "model_module_version": "1.5.0",
      "model_name": "DescriptionStyleModel",
      "state": {
       "description_width": ""
      }
     },
     "c27b6f5b3be4447489cdc44d0110e9d7": {
      "model_module": "@jupyter-widgets/base",
      "model_module_version": "1.2.0",
      "model_name": "LayoutModel",
      "state": {}
     },
     "c656d436fe2146339c6b9fc33e779d63": {
      "model_module": "@jupyter-widgets/base",
      "model_module_version": "1.2.0",
      "model_name": "LayoutModel",
      "state": {
       "width": "75%"
      }
     },
     "c7263c24bee544b28207cb7b9cc0b948": {
      "model_module": "@jupyter-widgets/controls",
      "model_module_version": "1.5.0",
      "model_name": "DescriptionStyleModel",
      "state": {
       "description_width": ""
      }
     },
     "c8e1b6e27768410cb752b1f0e8773eef": {
      "model_module": "@jupyter-widgets/controls",
      "model_module_version": "1.5.0",
      "model_name": "DescriptionStyleModel",
      "state": {
       "description_width": ""
      }
     },
     "c941685e46b341bbb6f49b67396b74aa": {
      "buffers": [
       {
        "data": "exSuR+F6hD97FK5H4XqUP7gehetRuJ4/exSuR+F6pD+amZmZmZmpP7kehetRuK4/61G4HoXrsT97FK5H4Xq0PwrXo3A9Crc/mZmZmZmZuT8pXI/C9Si8P7gehetRuL4/pHA9CtejwD/sUbgehevBPzQzMzMzM8M/exSuR+F6xD/D9Shcj8LFPwvXo3A9Csc/UrgehetRyD+amZmZmZnJP+J6FK5H4co/KVyPwvUozD9xPQrXo3DNP7kehetRuM4/AAAAAAAA0D+kcD0K16PQP0jhehSuR9E/7FG4HoXr0T+QwvUoXI/SPzMzMzMzM9M/16NwPQrX0z97FK5H4XrUPx+F61G4HtU/w/UoXI/C1T9nZmZmZmbWPwvXo3A9Ctc/rkfhehSu1z9SuB6F61HYP/YoXI/C9dg/mpmZmZmZ2T8+CtejcD3aP+J6FK5H4do/hetRuB6F2z8pXI/C9SjcP83MzMzMzNw/cT0K16Nw3T8VrkfhehTeP7kehetRuN4/XI/C9Shc3z8AAAAAAADgP1K4HoXrUeA/pHA9Ctej4D/2KFyPwvXgP0jhehSuR+E/mpmZmZmZ4T/sUbgehevhPz4K16NwPeI/kML1KFyP4j/hehSuR+HiPzMzMzMzM+M/hetRuB6F4z/Xo3A9CtfjPylcj8L1KOQ/exSuR+F65D/NzMzMzMzkPx+F61G4HuU/cT0K16Nw5T/D9Shcj8LlPxWuR+F6FOY/Z2ZmZmZm5j+5HoXrUbjmPwrXo3A9Cuc/XI/C9Shc5z+uR+F6FK7nPwAAAAAAAOg/UrgehetR6D+kcD0K16PoP/YoXI/C9eg/SOF6FK5H6T+amZmZmZnpP+xRuB6F6+k/PgrXo3A96j+QwvUoXI/qP+J6FK5H4eo/MzMzMzMz6z+F61G4HoXrP9ejcD0K1+s/KVyPwvUo7D97FK5H4XrsP83MzMzMzOw/H4XrUbge7T9xPQrXo3DtP8P1KFyPwu0/Fa5H4XoU7j9nZmZmZmbuP7kehetRuO4/CtejcD0K7z9cj8L1KFzvP65H4XoUru8/AAAAAAAA8D8=",
        "encoding": "base64",
        "path": [
         "_data",
         0,
         "x",
         "value"
        ]
       },
       {
        "data": "YhBYObQYMEBiEFg5tBggQIPAyqFFdhVAYhBYObQYEEA3GsBbIMEJQILAyqFFdgVATDeJQWBlAkBiEFg5tBgAQAVWDi2ynfw/OBrAWyDB+T8D0mhTwGn3P4PAyqFFdvU/2ye7vKLP8z9LN4lBYGXyP89m1edqK/E/YhBYObQY8D/lLQ+KnkzuPwNWDi2ynew/SL28DyIc6z83GsBbIMHpP7pJDAIrh+g/A9JoU8Bp5z+qC6dEJ2XmP4LAyqFFduU/X3tmSYCa5D/bJ7u8os/jP62OCR7ME+M/SzeJQWBl4j+zWFjV+8LhP89m1edqK+E/0a1zQ6Gd4D9iEFg5tBjgPwQY4RmrN98/5S0Pip5M3j+si9toAG/dPwNWDi2yndw/9pGDR7TX2z9IvbwPIhzbP3mK+VAuato/NxrAWyDB2T+GSziFUSDZP7pJDAIrh9g/BEjoDST11z8D0mhTwGnXP2recYqO5NY/qgunRCdl1j/+NibhK+vVP4LAyqFFdtU/nxov3SQG1T9fe2ZJgJrUP5oeClwUM9Q/2ye7vKLP0z9GIqnH8W/TP62OCR7ME9M/nEG6QgC70j9LN4lBYGXSP9ko01/BEtI/s1hY1fvC0T/PK06M6nXRP89m1edqK9E/Wz8ZkFzj0D/RrXNDoZ3QPycxCKwcWtA/YhBYObQY0D+SDMX6nbLPPwQY4RmrN88/oe1uxWPAzj/lLQ+KnkzOP+NkiVs03M0/rIvbaABvzT+JHQD03wTNPwVWDi2yncw/001iEFg5zD/2kYNHtNfLP3+kiAyreMs/SL28DyIcyz8oOVNfAMLKP3mK+VAuaso/rEQdbZUUyj83GsBbIMHJP+Zot9K6b8k/hks4hVEgyT+aJZQU0tLIP7pJDAIrh8g/Ur6loUs9yD8ESOgNJPXHP5rLdRylrsc/A9JoU8Bpxz/ehGrfZybHP2recYqO5MY/+wgfsyekxj+qC6dEJ2XGP8HnRK+BJ8Y//jYm4SvrxT8GMco/G7DFP4LAyqFFdsU/ggAISaE9xT+fGi/dJAbFPwMQlmbHz8Q/X3tmSYCaxD8=",
        "encoding": "base64",
        "path": [
         "_data",
         0,
         "y",
         "value"
        ]
       }
      ],
      "model_module": "jupyterlab-plotly",
      "model_module_version": "^5.1.0",
      "model_name": "FigureModel",
      "state": {
       "_config": {
        "plotlyServerURL": "https://plot.ly"
       },
       "_data": [
        {
         "name": "Constant q<sub>H2S</sub>",
         "type": "scatter",
         "uid": "27bc18d2-c1c6-4028-a127-5e272a39e2fc",
         "x": {
          "dtype": "float64",
          "shape": [
           100
          ]
         },
         "y": {
          "dtype": "float64",
          "shape": [
           100
          ]
         }
        }
       ],
       "_js2py_pointsCallback": {},
       "_js2py_relayout": {},
       "_js2py_restyle": {},
       "_js2py_update": {},
       "_last_layout_edit_id": 57,
       "_last_trace_edit_id": 53,
       "_layout": {
        "height": 700,
        "shapes": [
         {
          "line": {
           "dash": "dash",
           "width": 1
          },
          "type": "line",
          "x0": 0,
          "x1": 1,
          "xref": "x domain",
          "y0": 0.8,
          "y1": 0.8,
          "yref": "y"
         },
         {
          "line": {
           "dash": "dash",
           "width": 1
          },
          "type": "line",
          "x0": 0.38,
          "x1": 0.38,
          "xref": "x",
          "y0": 0,
          "y1": 1,
          "yref": "y domain"
         }
        ],
        "template": {
         "layout": {
          "bargap": 0.05,
          "bargroupgap": 0,
          "font": {
           "color": "black",
           "family": "Arial",
           "size": 16
          },
          "height": 700,
          "hovermode": "closest",
          "margin": {
           "b": 60,
           "l": 60,
           "r": 30,
           "t": 30
          },
          "scene": {
           "xaxis": {
            "color": "black",
            "linewidth": 2,
            "showline": true,
            "ticks": "outside"
           },
           "yaxis": {
            "color": "black",
            "linewidth": 2,
            "showline": true,
            "ticks": "outside"
           },
           "zaxis": {
            "color": "black",
            "linewidth": 2,
            "showline": true,
            "ticks": "outside"
           }
          },
          "xaxis": {
           "color": "black",
           "linewidth": 1.3,
           "mirror": true,
           "showgrid": true,
           "showline": true,
           "ticks": "outside",
           "zeroline": true
          },
          "yaxis": {
           "color": "black",
           "linewidth": 1.3,
           "mirror": true,
           "showgrid": true,
           "showline": true,
           "ticks": "outside",
           "zeroline": true
          }
         }
        },
        "width": 700,
        "xaxis": {
         "range": [
          0,
          1
         ],
         "title": {
          "text": "[Fe<sub>HR</sub>]/[Fe<sub>tot</sub>]"
         }
        },
        "yaxis": {
         "range": [
          0,
          1
         ],
         "title": {
          "text": "[Fe<sub>py</sub>]/[Fe<sub>HR</sub>]"
         }
        }
       },
       "_py2js_deleteTraces": {},
       "_py2js_moveTraces": {},
       "_py2js_removeLayoutProps": {},
       "_py2js_removeTraceProps": {},
       "_py2js_restyle": {},
       "_view_count": 0
      }
     },
     "cc320bfb43f94af98eeba57603c382ea": {
      "buffers": [
       {
        "data": "XFpQhZJ17D9b/Jw93n7fP+i1AE/bJ+U/COOO8seB5T9UIVbvVIjlP/MSfp9MYOk/YWEw5OqV4j9vjvTiq5frP34pYmErnOg/JwmWh+si6T86iSG/wLvpP+AZe2LoueQ/oky2XYDC6z8VMB/ILizmP31ENZuxbew/leBQ+fVw4T/XZFmTZU3mP2NCE/0qa+Y/m5fEvhcf3T9GRXYeekHoP3Z5XCXJGe0/Iehdp+E33D/Gee6rKInoP5aLiHIAx+A/rkb+MVY86j8TBt9pCuzgPxBDdWroROM/WAljs6Da6z/5psodzi/iP98IkaMLBuc/DOpCMlxN4z8a/V1dqE7nPxhaRmnw2ec/NsF4K/sc4j+byUeerbLiP9Bf0a/DSOg/UQ9OXHM75j8=",
        "encoding": "base64",
        "path": [
         "_data",
         0,
         "x",
         "value"
        ]
       },
       {
        "data": "AAAAAAAAAAAAAAAAAAAAAAAAAAAAAAAAAAAAAAAAAAAAAAAAAAAAAAAAAAAAAAAAAAAAAAAAAAAAAAAAAAAAAAAAAAAAAAAAAAAAAAAAAAAAAAAAAAAAAAAAAAAAAAAAAAAAAAAAAAAAAAAAAAAAAAAAAAAAAAAAAAAAAAAAAAAAAAAAAAAAAAAAAAAAAAAAAAAAAAAAAAAAAAAAAAAAAAAAAAAAAAAAAAAAAAAAAAAAAAAAAAAAAAAAAAAAAAAAAAAAAAAAAAAAAAAAAAAAAAAAAAAAAAAAAAAAAAAAAAAAAAAAAAAAAAAAAAAAAAAAAAAAAAAAAAAAAAAAAAAAAAAAAAAAAAAAAAAAAAAAAAAAAAAAAAAAAAAAAAAAAAAAAAAAAAAAAAA=",
        "encoding": "base64",
        "path": [
         "_data",
         0,
         "y",
         "value"
        ]
       },
       {
        "data": "XFpQhZJ17D9b/Jw93n7fP+i1AE/bJ+U/COOO8seB5T9UIVbvVIjlP/MSfp9MYOk/YWEw5OqV4j9vjvTiq5frP34pYmErnOg/JwmWh+si6T86iSG/wLvpP+AZe2LoueQ/oky2XYDC6z8VMB/ILizmP31ENZuxbew/leBQ+fVw4T/XZFmTZU3mP2NCE/0qa+Y/m5fEvhcf3T9GRXYeekHoP3Z5XCXJGe0/Iehdp+E33D/Gee6rKInoP5aLiHIAx+A/rkb+MVY86j8TBt9pCuzgPxBDdWroROM/WAljs6Da6z/5psodzi/iP98IkaMLBuc/DOpCMlxN4z8a/V1dqE7nPxhaRmnw2ec/NsF4K/sc4j+byUeerbLiP9Bf0a/DSOg/UQ9OXHM75j8=",
        "encoding": "base64",
        "path": [
         "_data",
         1,
         "x",
         "value"
        ]
       },
       {
        "data": "XFpQhZJ17D9b/Jw93n7fP+i1AE/bJ+U/COOO8seB5T9UIVbvVIjlP/MSfp9MYOk/YWEw5OqV4j9vjvTiq5frP34pYmErnOg/JwmWh+si6T86iSG/wLvpP+AZe2LoueQ/oky2XYDC6z8VMB/ILizmP31ENZuxbew/leBQ+fVw4T/XZFmTZU3mP2NCE/0qa+Y/m5fEvhcf3T9GRXYeekHoP3Z5XCXJGe0/Iehdp+E33D/Gee6rKInoP5aLiHIAx+A/rkb+MVY86j8TBt9pCuzgPxBDdWroROM/WAljs6Da6z/5psodzi/iP98IkaMLBuc/DOpCMlxN4z8a/V1dqE7nPxhaRmnw2ec/NsF4K/sc4j+byUeerbLiP9Bf0a/DSOg/UQ9OXHM75j8=",
        "encoding": "base64",
        "path": [
         "_data",
         2,
         "x",
         "value"
        ]
       },
       {
        "data": "XFpQhZJ17D9b/Jw93n7fP+i1AE/bJ+U/COOO8seB5T9UIVbvVIjlP/MSfp9MYOk/YWEw5OqV4j9vjvTiq5frP34pYmErnOg/JwmWh+si6T86iSG/wLvpP+AZe2LoueQ/oky2XYDC6z8VMB/ILizmP31ENZuxbew/leBQ+fVw4T/XZFmTZU3mP2NCE/0qa+Y/m5fEvhcf3T9GRXYeekHoP3Z5XCXJGe0/Iehdp+E33D/Gee6rKInoP5aLiHIAx+A/rkb+MVY86j8TBt9pCuzgPxBDdWroROM/WAljs6Da6z/5psodzi/iP98IkaMLBuc/DOpCMlxN4z8a/V1dqE7nPxhaRmnw2ec/NsF4K/sc4j+byUeerbLiP9Bf0a/DSOg/UQ9OXHM75j8=",
        "encoding": "base64",
        "path": [
         "_data",
         3,
         "x",
         "value"
        ]
       },
       {
        "data": "AAAAAACAvz///////3/nP+NZRvQB1dE/AAAAAAAA5z/Cbn4LAaPkPxVQARVQAdU/6VCD3ZmM5j+KU7/nljjVP7IVQcNJ3dc/9onqQSPv3D/6j++FCMTMP1HrVwrU+uU/mJIpmZIp2T9e3MVd3MXdP+iiiy666OI/v9wQA9Kx5D8OePzhgMffP4v2m/JcAtk/GHqhF3qh5z/sPtwCCqPaPzP8l0DotdM/MwTraPM+5T8z/iMwPTjLP1VVVVVVVeU/1YGPuYn2zT9IgzRIgzToP3mFV3iFV9g/MQpR/UjY0T+yH/uxH/vhP0Qn7YNkQN0/eXh4eHh46D+/TTFq+NvkP0dY7mmE5c4/nYM1S4xP6T/A/HWW+hnQP0UXXXTRRdc/Ce0ltJfQ4j8=",
        "encoding": "base64",
        "path": [
         "_data",
         3,
         "y",
         "value"
        ]
       },
       {
        "data": "T0KGcHbH7j86EYT0pwfwPw==",
        "encoding": "base64",
        "path": [
         "_data",
         4,
         "x",
         "value"
        ]
       },
       {
        "data": "AAAAAAAAAAAAAAAAAAAAAA==",
        "encoding": "base64",
        "path": [
         "_data",
         4,
         "y",
         "value"
        ]
       },
       {
        "data": "T0KGcHbH7j86EYT0pwfwPw==",
        "encoding": "base64",
        "path": [
         "_data",
         5,
         "x",
         "value"
        ]
       },
       {
        "data": "T0KGcHbH7j86EYT0pwfwPw==",
        "encoding": "base64",
        "path": [
         "_data",
         6,
         "x",
         "value"
        ]
       },
       {
        "data": "T0KGcHbH7j86EYT0pwfwPw==",
        "encoding": "base64",
        "path": [
         "_data",
         7,
         "x",
         "value"
        ]
       },
       {
        "data": "mPMp6AFctz9Gt/CrMZGOPw==",
        "encoding": "base64",
        "path": [
         "_data",
         7,
         "y",
         "value"
        ]
       },
       {
        "data": "5AmIzlf36D+65iBDdp3kP16ZmlI0GO4/",
        "encoding": "base64",
        "path": [
         "_data",
         8,
         "x",
         "value"
        ]
       },
       {
        "data": "AAAAAAAAAAAAAAAAAAAAAAAAAAAAAAAA",
        "encoding": "base64",
        "path": [
         "_data",
         8,
         "y",
         "value"
        ]
       },
       {
        "data": "5AmIzlf36D+65iBDdp3kP16ZmlI0GO4/",
        "encoding": "base64",
        "path": [
         "_data",
         9,
         "x",
         "value"
        ]
       },
       {
        "data": "5AmIzlf36D+65iBDdp3kP16ZmlI0GO4/",
        "encoding": "base64",
        "path": [
         "_data",
         10,
         "x",
         "value"
        ]
       },
       {
        "data": "5AmIzlf36D+65iBDdp3kP16ZmlI0GO4/",
        "encoding": "base64",
        "path": [
         "_data",
         11,
         "x",
         "value"
        ]
       },
       {
        "data": "rLid02c/4D8rMl+aOIzlPx7wNU2qHuA/",
        "encoding": "base64",
        "path": [
         "_data",
         11,
         "y",
         "value"
        ]
       },
       {
        "data": "+k0Z2ieF6z9n8Jvo6dzuP83MzMzMzOw/iSoyRzZm7j9XXkDVXgfpPx8Fm/+4E+4/kvh/CifL6j8B6oqXvM3kP0+KscuHWuQ/SHgHzFPJ7z8RvCr8pHPiPw==",
        "encoding": "base64",
        "path": [
         "_data",
         12,
         "x",
         "value"
        ]
       },
       {
        "data": "AAAAAAAAAAAAAAAAAAAAAAAAAAAAAAAAAAAAAAAAAAAAAAAAAAAAAAAAAAAAAAAAAAAAAAAAAAAAAAAAAAAAAAAAAAAAAAAAAAAAAAAAAAAAAAAAAAAAAA==",
        "encoding": "base64",
        "path": [
         "_data",
         12,
         "y",
         "value"
        ]
       },
       {
        "data": "+k0Z2ieF6z9n8Jvo6dzuP83MzMzMzOw/iSoyRzZm7j9XXkDVXgfpPx8Fm/+4E+4/kvh/CifL6j8B6oqXvM3kP0+KscuHWuQ/SHgHzFPJ7z8RvCr8pHPiPw==",
        "encoding": "base64",
        "path": [
         "_data",
         13,
         "x",
         "value"
        ]
       },
       {
        "data": "+k0Z2ieF6z9n8Jvo6dzuP83MzMzMzOw/iSoyRzZm7j9XXkDVXgfpPx8Fm/+4E+4/kvh/CifL6j8B6oqXvM3kP0+KscuHWuQ/SHgHzFPJ7z8RvCr8pHPiPw==",
        "encoding": "base64",
        "path": [
         "_data",
         14,
         "x",
         "value"
        ]
       },
       {
        "data": "+k0Z2ieF6z9n8Jvo6dzuP83MzMzMzOw/iSoyRzZm7j9XXkDVXgfpPx8Fm/+4E+4/kvh/CifL6j8B6oqXvM3kP0+KscuHWuQ/SHgHzFPJ7z8RvCr8pHPiPw==",
        "encoding": "base64",
        "path": [
         "_data",
         15,
         "x",
         "value"
        ]
       },
       {
        "data": "Ju+ND7gs4T8UO7ETO7HTP6jeOcE/89g/M8lF7VnLuT/UM5XrjhfbPyguGYJ1tMk/23eiGVIR2j8dz6mkgITfP/SuxWgy79o//P//////zD+BMYmD963hPw==",
        "encoding": "base64",
        "path": [
         "_data",
         15,
         "y",
         "value"
        ]
       },
       {
        "data": "exSuR+F6hD8Yl0Wb0e2eP/kRWkkZz6k/M6yI4qQTsj9pT2QgvT+3P5/yP17Va7w/68oNzvbLwD+HnPvsAmLDPyJu6QsP+MU/vT/XKhuOyD9YEcVJJyTLP/Tismgzus0/R1rQwx8o0D8VQ0fTJXPRP+MrvuIrvtI/sBQ18jEJ1D9+/asBOFTVP0zmIhE+n9Y/Gc+ZIETq1z/ntxAwSjXZP7Sghz9QgNo/gon+TlbL2z9QcnVeXBbdPx1b7G1iYd4/60NjfWis3z9cFm1Gt3vgP8OKKE46IeE/Kv/jVb3G4T+Rc59dQGziP/jnWmXDEeM/XlwWbUa34z/F0NF0yVzkPyxFjXxMAuU/k7lIhM+n5T/6LQSMUk3mP2Civ5PV8uY/xxZ7m1iY5z8uizaj2z3oP5X/8ape4+g//HOtsuGI6T9i6Gi6ZC7qP8lcJMLn0+o/MNHfyWp56z+XRZvR7R7sP/65VtlwxOw/ZS4S4fNp7T/Los3odg/uPzIXifD5tO4/mYtE+Hxa7z8AAAAAAADwPw==",
        "encoding": "base64",
        "path": [
         "_data",
         16,
         "x",
         "value"
        ]
       },
       {
        "data": "AAAAAAAAAkBn3WCKfNbnPxLJMukZkdw/7rul0J9k1D/8pwwyXbbPP/Lw8PDw8Mk/os7TpHbyxT/dyj6H1ATDP1JpdqOvx8A/7HhzQokGvj/vJn4AIiq7P3IkJ/Eozbg/pk50lgXRtj9X4csNMSC1P6tTsToVq7M/tR1ZCyJmsj9WP+w9lUixP0X7hzqtS7A/tZCD9TzUrj9WjCMyZz+tP4rA8uwS0qs/ayivobyGqj+SujPK21ipPwaVcXStRKg/ZKzX7QtHpz+zsYbsT12mP+iFXLQ4haU/YYurcNm8pD/uWDx7igKkP041BKLdVKM/zMORu5Syoj8DkOUGmhqiPyW/vvP5i6E/TWkHCN4FoT8IiYSoiIegPzTX95dREKA/ABJqE0Y/nz/mnkZY7mmeP0L/uCqsn50/ki0MAajfnD+dj9+bHymcPwvyZ3Vje5s/SOpqjdTVmj9RNAiD4jeaP+OGE/AJoZk/8Vro+9IQmT+HfV0d0IaYPzFp5gSdApg/wLMVqd2Dlz8K16NwPQqXPw==",
        "encoding": "base64",
        "path": [
         "_data",
         16,
         "y",
         "value"
        ]
       }
      ],
      "model_module": "jupyterlab-plotly",
      "model_module_version": "^5.1.0",
      "model_name": "FigureModel",
      "state": {
       "_config": {
        "plotlyServerURL": "https://plot.ly"
       },
       "_data": [
        {
         "legendgroup": "Mudstone",
         "marker": {
          "color": "LightPink",
          "symbol": "circle"
         },
         "mode": "markers",
         "name": "Mudstone (pre-diagenesis)",
         "text": [
          "KC-2-1",
          "KC-2-2",
          "KC-2-2.5",
          "KC-2-3",
          "KC-2-3.5",
          "KC-2-4.5",
          "KC-2-5",
          "KC-2-6",
          "KC-2-6.5",
          "KC-2-7",
          "KC-2-8",
          "KC-2-9",
          "KC-2-10",
          "KC-2-11",
          "KC-2-12",
          "KC-2-13",
          "KC-2-14",
          "KC-2-14.5",
          "KC-2-15",
          "KC-2-15.5",
          "KC-2-16",
          "KC-2-17",
          "KC-2-18",
          "KC-2-19",
          "KC-2-20",
          "KC-2-21",
          "KC-2-21.5",
          "KC-2-22",
          "KC-2-23",
          "KC-2-24",
          "KC-2-25",
          "KC-2-25.5",
          "KC-2-26",
          "KC-2-26.5",
          "KC-2-27",
          "KC-2-28",
          "KC-2-29"
         ],
         "type": "scatter",
         "uid": "8b7b4d5a-e770-4e25-a65c-a050da25e2f5",
         "x": {
          "dtype": "float64",
          "shape": [
           37
          ]
         },
         "y": {
          "dtype": "float64",
          "shape": [
           37
          ]
         }
        },
        {
         "legendgroup": "Mudstone",
         "marker": {
          "color": "LawnGreen",
          "opacity": 0.8,
          "symbol": "circle"
         },
         "mode": "markers",
         "name": "Mudstone (half way)",
         "text": [
          "KC-2-1",
          "KC-2-2",
          "KC-2-2.5",
          "KC-2-3",
          "KC-2-3.5",
          "KC-2-4.5",
          "KC-2-5",
          "KC-2-6",
          "KC-2-6.5",
          "KC-2-7",
          "KC-2-8",
          "KC-2-9",
          "KC-2-10",
          "KC-2-11",
          "KC-2-12",
          "KC-2-13",
          "KC-2-14",
          "KC-2-14.5",
          "KC-2-15",
          "KC-2-15.5",
          "KC-2-16",
          "KC-2-17",
          "KC-2-18",
          "KC-2-19",
          "KC-2-20",
          "KC-2-21",
          "KC-2-21.5",
          "KC-2-22",
          "KC-2-23",
          "KC-2-24",
          "KC-2-25",
          "KC-2-25.5",
          "KC-2-26",
          "KC-2-26.5",
          "KC-2-27",
          "KC-2-28",
          "KC-2-29"
         ],
         "type": "scatter",
         "uid": "40a16d73-c66b-4f9b-a813-10e91e40ef3c",
         "x": {
          "dtype": "float64",
          "shape": [
           37
          ]
         },
         "y": [
          0.01122802734375,
          0.044912109375,
          0.021941793893129773,
          0.0224560546875,
          0.023464285714285715,
          0.014740384615384617,
          0.029786269430051818,
          0.015128289473684213,
          0.016239406779661018,
          0.017211826347305392,
          0.006835612366230678,
          0.029034090909090912,
          0.007019230769230769,
          0.02105769230769231,
          0.007258522727272728,
          0.034423652694610785,
          0.019823275862068966,
          0.01768846153846154,
          0.044221153846153854,
          0.01605796089385475,
          0.010665584415584416,
          0.047120901639344265,
          0.010103251318101933,
          0.038325000000000005,
          0.011804414784394252,
          0.03685096153846154,
          0.024567307692307694,
          0.01205188679245283,
          0.027375,
          0.01763420245398773,
          0.028180147058823532,
          0.021291666666666667,
          0.015248673740053051,
          0.032478813559322035,
          0.012153805496828752,
          0.013065340909090908,
          0.026614583333333334
         ]
        },
        {
         "legendgroup": "Mudstone",
         "marker": {
          "color": "Green",
          "symbol": "circle"
         },
         "mode": "markers",
         "name": "Mudstone (modelled)",
         "text": [
          "KC-2-1",
          "KC-2-2",
          "KC-2-2.5",
          "KC-2-3",
          "KC-2-3.5",
          "KC-2-4.5",
          "KC-2-5",
          "KC-2-6",
          "KC-2-6.5",
          "KC-2-7",
          "KC-2-8",
          "KC-2-9",
          "KC-2-10",
          "KC-2-11",
          "KC-2-12",
          "KC-2-13",
          "KC-2-14",
          "KC-2-14.5",
          "KC-2-15",
          "KC-2-15.5",
          "KC-2-16",
          "KC-2-17",
          "KC-2-18",
          "KC-2-19",
          "KC-2-20",
          "KC-2-21",
          "KC-2-21.5",
          "KC-2-22",
          "KC-2-23",
          "KC-2-24",
          "KC-2-25",
          "KC-2-25.5",
          "KC-2-26",
          "KC-2-26.5",
          "KC-2-27",
          "KC-2-28",
          "KC-2-29"
         ],
         "type": "scatter",
         "uid": "fc4168ff-98fc-413e-b9c2-35467abd62bb",
         "x": {
          "dtype": "float64",
          "shape": [
           37
          ]
         },
         "y": [
          0.0224560546875,
          0.08982421875,
          0.043883587786259545,
          0.044912109375,
          0.04692857142857143,
          0.029480769230769234,
          0.059572538860103635,
          0.030256578947368426,
          0.032478813559322035,
          0.034423652694610785,
          0.013671224732461356,
          0.058068181818181824,
          0.014038461538461538,
          0.04211538461538462,
          0.014517045454545456,
          0.06884730538922157,
          0.03964655172413793,
          0.03537692307692308,
          0.08844230769230771,
          0.0321159217877095,
          0.021331168831168833,
          0.09424180327868853,
          0.020206502636203865,
          0.07665000000000001,
          0.023608829568788504,
          0.07370192307692308,
          0.04913461538461539,
          0.02410377358490566,
          0.05475,
          0.03526840490797546,
          0.056360294117647064,
          0.042583333333333334,
          0.030497347480106102,
          0.06495762711864407,
          0.024307610993657504,
          0.026130681818181817,
          0.05322916666666667
         ]
        },
        {
         "legendgroup": "Mudstone",
         "marker": {
          "color": "Blue",
          "opacity": 0.3,
          "symbol": "circle"
         },
         "mode": "markers",
         "name": "Mudstone (post-diagenesis)",
         "text": [
          "KC-2-1",
          "KC-2-2",
          "KC-2-2.5",
          "KC-2-3",
          "KC-2-3.5",
          "KC-2-4.5",
          "KC-2-5",
          "KC-2-6",
          "KC-2-6.5",
          "KC-2-7",
          "KC-2-8",
          "KC-2-9",
          "KC-2-10",
          "KC-2-11",
          "KC-2-12",
          "KC-2-13",
          "KC-2-14",
          "KC-2-14.5",
          "KC-2-15",
          "KC-2-15.5",
          "KC-2-16",
          "KC-2-17",
          "KC-2-18",
          "KC-2-19",
          "KC-2-20",
          "KC-2-21",
          "KC-2-21.5",
          "KC-2-22",
          "KC-2-23",
          "KC-2-24",
          "KC-2-25",
          "KC-2-25.5",
          "KC-2-26",
          "KC-2-26.5",
          "KC-2-27",
          "KC-2-28",
          "KC-2-29"
         ],
         "type": "scatter",
         "uid": "ab967ab6-f23e-4f0d-b787-f44fea011248",
         "x": {
          "dtype": "float64",
          "shape": [
           37
          ]
         },
         "y": {
          "dtype": "float64",
          "shape": [
           37
          ]
         }
        },
        {
         "legendgroup": "Carbonate",
         "marker": {
          "color": "LightPink",
          "symbol": "star"
         },
         "mode": "markers",
         "name": "Carbonate (pre-diagenesis)",
         "text": [
          "KC-2-0",
          "KC-2-30"
         ],
         "type": "scatter",
         "uid": "4b2d3b74-c455-40cc-bc21-a210de2d0407",
         "x": {
          "dtype": "float64",
          "shape": [
           2
          ]
         },
         "y": {
          "dtype": "float64",
          "shape": [
           2
          ]
         }
        },
        {
         "legendgroup": "Carbonate",
         "marker": {
          "color": "LawnGreen",
          "opacity": 0.8,
          "symbol": "star"
         },
         "mode": "markers",
         "name": "Carbonate (half way)",
         "text": [
          "KC-2-0",
          "KC-2-30"
         ],
         "type": "scatter",
         "uid": "1e71d79d-a925-40e0-af1f-62c516dd0dc2",
         "x": {
          "dtype": "float64",
          "shape": [
           2
          ]
         },
         "y": [
          0.010705307262569833,
          0.02145055970149254
         ]
        },
        {
         "legendgroup": "Carbonate",
         "marker": {
          "color": "Green",
          "symbol": "star"
         },
         "mode": "markers",
         "name": "Carbonate (modelled)",
         "text": [
          "KC-2-0",
          "KC-2-30"
         ],
         "type": "scatter",
         "uid": "a65dafc7-6c9a-4a83-be3e-79960f5a1783",
         "x": {
          "dtype": "float64",
          "shape": [
           2
          ]
         },
         "y": [
          0.021410614525139666,
          0.04290111940298508
         ]
        },
        {
         "legendgroup": "Carbonate",
         "marker": {
          "color": "Blue",
          "opacity": 0.3,
          "symbol": "star"
         },
         "mode": "markers",
         "name": "Carbonate (post-diagenesis)",
         "text": [
          "KC-2-0",
          "KC-2-30"
         ],
         "type": "scatter",
         "uid": "a8a4b84b-c530-4a8f-8587-cd6a7da68da2",
         "x": {
          "dtype": "float64",
          "shape": [
           2
          ]
         },
         "y": {
          "dtype": "float64",
          "shape": [
           2
          ]
         }
        },
        {
         "legendgroup": "Pervasively pyritised regions",
         "marker": {
          "color": "LightPink",
          "symbol": "square"
         },
         "mode": "markers",
         "name": "Pervasively pyritised regions (pre-diagenesis)",
         "text": [
          "KC-2-6p",
          "KC-2-9p",
          "KC-2-22p"
         ],
         "type": "scatter",
         "uid": "ee9e3733-74a8-48f0-96ec-be3f9fbe64e3",
         "x": {
          "dtype": "float64",
          "shape": [
           3
          ]
         },
         "y": {
          "dtype": "float64",
          "shape": [
           3
          ]
         }
        },
        {
         "legendgroup": "Pervasively pyritised regions",
         "marker": {
          "color": "LawnGreen",
          "opacity": 0.8,
          "symbol": "square"
         },
         "mode": "markers",
         "name": "Pervasively pyritised regions (half way)",
         "text": [
          "KC-2-6p",
          "KC-2-9p",
          "KC-2-22p"
         ],
         "type": "scatter",
         "uid": "fe68a943-a154-4fec-94b5-e9c3aa6a4225",
         "x": {
          "dtype": "float64",
          "shape": [
           3
          ]
         },
         "y": [
          0.017797987616099076,
          0.028888190954773872,
          0.006148395721925134
         ]
        },
        {
         "legendgroup": "Pervasively pyritised regions",
         "marker": {
          "color": "Green",
          "symbol": "square"
         },
         "mode": "markers",
         "name": "Pervasively pyritised regions (modelled)",
         "text": [
          "KC-2-6p",
          "KC-2-9p",
          "KC-2-22p"
         ],
         "type": "scatter",
         "uid": "7111941e-1cf4-4943-aade-6a6b26ec9017",
         "x": {
          "dtype": "float64",
          "shape": [
           3
          ]
         },
         "y": [
          0.03559597523219815,
          0.057776381909547744,
          0.012296791443850269
         ]
        },
        {
         "legendgroup": "Pervasively pyritised regions",
         "marker": {
          "color": "Blue",
          "opacity": 0.3,
          "symbol": "square"
         },
         "mode": "markers",
         "name": "Pervasively pyritised regions (post-diagenesis)",
         "text": [
          "KC-2-6p",
          "KC-2-9p",
          "KC-2-22p"
         ],
         "type": "scatter",
         "uid": "b7826f11-98c1-4011-ad69-b983f3e1fd63",
         "x": {
          "dtype": "float64",
          "shape": [
           3
          ]
         },
         "y": {
          "dtype": "float64",
          "shape": [
           3
          ]
         }
        },
        {
         "legendgroup": "Bed 22",
         "marker": {
          "color": "LightPink",
          "symbol": "diamond"
         },
         "mode": "markers",
         "name": "Bed 22 (pre-diagenesis)",
         "text": [
          "KC-3-A",
          "KC-3-B",
          "KC-3-C",
          "KC-3-D",
          "KC-3-E",
          "KC-3-F",
          "KC-3-G",
          "KC-3-H",
          "KC-3-I",
          "KC-3-J",
          "KC-3-K"
         ],
         "type": "scatter",
         "uid": "1bdc92cc-43f7-4a38-a591-e5d5a6a72732",
         "x": {
          "dtype": "float64",
          "shape": [
           11
          ]
         },
         "y": {
          "dtype": "float64",
          "shape": [
           11
          ]
         }
        },
        {
         "legendgroup": "Bed 22",
         "marker": {
          "color": "LawnGreen",
          "opacity": 0.8,
          "symbol": "diamond"
         },
         "mode": "markers",
         "name": "Bed 22 (half way)",
         "text": [
          "KC-3-A",
          "KC-3-B",
          "KC-3-C",
          "KC-3-D",
          "KC-3-E",
          "KC-3-F",
          "KC-3-G",
          "KC-3-H",
          "KC-3-I",
          "KC-3-J",
          "KC-3-K"
         ],
         "type": "scatter",
         "uid": "ac1c74ff-3bc9-4ec6-aa19-742d5537c307",
         "x": {
          "dtype": "float64",
          "shape": [
           11
          ]
         },
         "y": [
          0.01455379746835443,
          0.011637145748987854,
          0.00550646551724138,
          0.003967391304347825,
          0.01763420245398773,
          0.011780225409836068,
          0.007779093369418133,
          0.028888190954773872,
          0.022195945945945948,
          0.008982421875,
          0.03176104972375691
         ]
        },
        {
         "legendgroup": "Bed 22",
         "marker": {
          "color": "Green",
          "symbol": "diamond"
         },
         "mode": "markers",
         "name": "Bed 22 (modelled)",
         "text": [
          "KC-3-A",
          "KC-3-B",
          "KC-3-C",
          "KC-3-D",
          "KC-3-E",
          "KC-3-F",
          "KC-3-G",
          "KC-3-H",
          "KC-3-I",
          "KC-3-J",
          "KC-3-K"
         ],
         "type": "scatter",
         "uid": "94ef50fe-cf18-4ae0-8a8f-9ba08277db2c",
         "x": {
          "dtype": "float64",
          "shape": [
           11
          ]
         },
         "y": [
          0.02910759493670886,
          0.02327429149797571,
          0.01101293103448276,
          0.00793478260869565,
          0.03526840490797546,
          0.023560450819672136,
          0.015558186738836266,
          0.057776381909547744,
          0.044391891891891896,
          0.01796484375,
          0.06352209944751382
         ]
        },
        {
         "legendgroup": "Bed 22",
         "marker": {
          "color": "Blue",
          "opacity": 0.3,
          "symbol": "diamond"
         },
         "mode": "markers",
         "name": "Bed 22 (post-diagenesis)",
         "text": [
          "KC-3-A",
          "KC-3-B",
          "KC-3-C",
          "KC-3-D",
          "KC-3-E",
          "KC-3-F",
          "KC-3-G",
          "KC-3-H",
          "KC-3-I",
          "KC-3-J",
          "KC-3-K"
         ],
         "type": "scatter",
         "uid": "aaf62386-6d57-4d1b-b039-7b2eb0e13401",
         "x": {
          "dtype": "float64",
          "shape": [
           11
          ]
         },
         "y": {
          "dtype": "float64",
          "shape": [
           11
          ]
         }
        },
        {
         "line": {
          "color": "LightGreen"
         },
         "name": "model (const. total Fe)",
         "type": "scatter",
         "uid": "1f7623b3-73ac-42a9-a53b-4a9bd88ba8b5",
         "x": {
          "dtype": "float64",
          "shape": [
           50
          ]
         },
         "y": {
          "dtype": "float64",
          "shape": [
           50
          ]
         }
        }
       ],
       "_js2py_pointsCallback": {},
       "_js2py_relayout": {},
       "_js2py_restyle": {},
       "_js2py_update": {},
       "_last_layout_edit_id": 92,
       "_last_trace_edit_id": 88,
       "_layout": {
        "height": 650,
        "legend": {
         "font": {
          "size": 11
         }
        },
        "shapes": [
         {
          "line": {
           "dash": "dash",
           "width": 1
          },
          "type": "line",
          "x0": 0,
          "x1": 1,
          "xref": "x domain",
          "y0": 0.8,
          "y1": 0.8,
          "yref": "y"
         },
         {
          "line": {
           "dash": "dash",
           "width": 1
          },
          "type": "line",
          "x0": 0.38,
          "x1": 0.38,
          "xref": "x",
          "y0": 0,
          "y1": 1,
          "yref": "y domain"
         }
        ],
        "template": {
         "layout": {
          "bargap": 0.05,
          "bargroupgap": 0,
          "font": {
           "color": "black",
           "family": "Arial",
           "size": 16
          },
          "height": 700,
          "hovermode": "closest",
          "margin": {
           "b": 60,
           "l": 60,
           "r": 30,
           "t": 30
          },
          "scene": {
           "xaxis": {
            "color": "black",
            "linewidth": 2,
            "showline": true,
            "ticks": "outside"
           },
           "yaxis": {
            "color": "black",
            "linewidth": 2,
            "showline": true,
            "ticks": "outside"
           },
           "zaxis": {
            "color": "black",
            "linewidth": 2,
            "showline": true,
            "ticks": "outside"
           }
          },
          "xaxis": {
           "color": "black",
           "linewidth": 1.3,
           "mirror": true,
           "showgrid": true,
           "showline": true,
           "ticks": "outside",
           "zeroline": true
          },
          "yaxis": {
           "color": "black",
           "linewidth": 1.3,
           "mirror": true,
           "showgrid": true,
           "showline": true,
           "ticks": "outside",
           "zeroline": true
          }
         }
        },
        "width": 900,
        "xaxis": {
         "range": [
          0,
          1
         ],
         "title": {
          "text": "[Fe<sub>HR</sub>]/[Fe<sub>tot</sub>]"
         }
        },
        "yaxis": {
         "range": [
          0,
          1
         ],
         "title": {
          "text": "[Fe<sub>py</sub>]/[Fe<sub>HR</sub>]"
         }
        }
       },
       "_py2js_animate": {},
       "_py2js_deleteTraces": {},
       "_py2js_moveTraces": {},
       "_py2js_removeLayoutProps": {},
       "_py2js_removeTraceProps": {},
       "_py2js_restyle": {},
       "_view_count": 0
      }
     },
     "d085fb6cd1794dbfb91128d708067b5d": {
      "model_module": "@jupyter-widgets/output",
      "model_module_version": "1.0.0",
      "model_name": "OutputModel",
      "state": {
       "layout": "IPY_MODEL_7fe7cb25e82046f48db94d448a92f144"
      }
     },
     "d4b1294c21d9474586f29b0ecef85916": {
      "model_module": "@jupyter-widgets/base",
      "model_module_version": "1.2.0",
      "model_name": "LayoutModel",
      "state": {}
     },
     "d63672a07b1d48829a98cbfa87737ecd": {
      "model_module": "@jupyter-widgets/base",
      "model_module_version": "1.2.0",
      "model_name": "LayoutModel",
      "state": {
       "width": "75%"
      }
     },
     "dab52c1007064d12885a52a05cea156d": {
      "model_module": "@jupyter-widgets/base",
      "model_module_version": "1.2.0",
      "model_name": "LayoutModel",
      "state": {
       "width": "75%"
      }
     },
     "dc612999f16f490aac4ca7a61dd5d457": {
      "model_module": "@jupyter-widgets/base",
      "model_module_version": "1.2.0",
      "model_name": "LayoutModel",
      "state": {}
     },
     "df181ad647e94937afb2d829dbffe469": {
      "model_module": "@jupyter-widgets/base",
      "model_module_version": "1.2.0",
      "model_name": "LayoutModel",
      "state": {
       "width": "75%"
      }
     },
     "df8b60132866415689669a3a2cb42f1b": {
      "buffers": [
       {
        "data": "exSuR+F6hD97FK5H4XqUP7gehetRuJ4/exSuR+F6pD+amZmZmZmpP7kehetRuK4/61G4HoXrsT97FK5H4Xq0PwrXo3A9Crc/mZmZmZmZuT8pXI/C9Si8P7gehetRuL4/pHA9CtejwD/sUbgehevBPzQzMzMzM8M/exSuR+F6xD/D9Shcj8LFPwvXo3A9Csc/UrgehetRyD+amZmZmZnJP+J6FK5H4co/KVyPwvUozD9xPQrXo3DNP7kehetRuM4/AAAAAAAA0D+kcD0K16PQP0jhehSuR9E/7FG4HoXr0T+QwvUoXI/SPzMzMzMzM9M/16NwPQrX0z97FK5H4XrUPx+F61G4HtU/w/UoXI/C1T9nZmZmZmbWPwvXo3A9Ctc/rkfhehSu1z9SuB6F61HYP/YoXI/C9dg/mpmZmZmZ2T8+CtejcD3aP+J6FK5H4do/hetRuB6F2z8pXI/C9SjcP83MzMzMzNw/cT0K16Nw3T8VrkfhehTeP7kehetRuN4/XI/C9Shc3z8AAAAAAADgP1K4HoXrUeA/pHA9Ctej4D/2KFyPwvXgP0jhehSuR+E/mpmZmZmZ4T/sUbgehevhPz4K16NwPeI/kML1KFyP4j/hehSuR+HiPzMzMzMzM+M/hetRuB6F4z/Xo3A9CtfjPylcj8L1KOQ/exSuR+F65D/NzMzMzMzkPx+F61G4HuU/cT0K16Nw5T/D9Shcj8LlPxWuR+F6FOY/Z2ZmZmZm5j+5HoXrUbjmPwrXo3A9Cuc/XI/C9Shc5z+uR+F6FK7nPwAAAAAAAOg/UrgehetR6D+kcD0K16PoP/YoXI/C9eg/SOF6FK5H6T+amZmZmZnpP+xRuB6F6+k/PgrXo3A96j+QwvUoXI/qP+J6FK5H4eo/MzMzMzMz6z+F61G4HoXrP9ejcD0K1+s/KVyPwvUo7D97FK5H4XrsP83MzMzMzOw/H4XrUbge7T9xPQrXo3DtP8P1KFyPwu0/Fa5H4XoU7j9nZmZmZmbuP7kehetRuO4/CtejcD0K7z9cj8L1KFzvP65H4XoUru8/AAAAAAAA8D8=",
        "encoding": "base64",
        "path": [
         "_data",
         0,
         "x",
         "value"
        ]
       },
       {
        "data": "xks3iUFAPEDGSzeJQUAsQC/dJAaB1SJAxks3iUFAHEDSb18HzpkWQC7dJAaB1RJABJkfvLckEEDGSzeJQUAMQOomMQisHAlA029fB86ZBkC+wlaS0osEQC/dJAaB1QJAU0LTe55iAUADmR+8tyQAQBeV1AloIv4/xks3iUFA/D/Jv+hE1Jb6P+gmMQisHPk/SU21IlLK9z/Sb18Hzpn2P1ohKlBKhvU/vsJWktKL9D+VKbd1IqfzPy7dJAaB1fI/27+y0qQU8j9TQtN7nmLxP/EZdgXIvfA/A5kfvLck8D8pBD2gayzvPxiV1AloIu4/9kX/+I0p7T/GSzeJQUDsP/5YHsMYZes/yb/oRNSW6j84W/8sWdTpP+gmMQisHOk/SlZZkuxu6D9JTbUiUsrnP8OtGaUoLuc/0m9fB86Z5j/ZZjEHsAzmP1ohKlBKhuU/oBov3SQG5T++wlaS0ovkP7u4jQbwFuQ/lSm3dSKn4z/k4UDVFjzjPy7dJAaB1eI/lhwkIBtz4j/bv7LSpBTiP4cqm9jiueE/U0LTe55i4T/ALWAnpQ7hP/EZdgXIveA/mWhFqNtv4D8DmR+8tyTgPwpnnINtuN8/KQQ9oGss3z88bI63KKXePxiV1AloIt4/cKMc0/Cj3T/2Rf/4jSndP3ksOMANs9w/xks3iUFA3D9RneuS/dDbP/5YHsMYZds/wdXJc2z82j/Jv+hE1JbaP8eMSfItNNo/OFv/LFnU2T/M/xR4N3fZP+omMQisHNk/+FPjpZvE2D9KVlmS7G7YP3qqQ26GG9g/SU21IlLK1z+R3tDLOXvXP8OtGaUoLtc/9XpD9wrj1j/Sb18HzpnWP5UiSAdgUtY/2WYxB7AM1j8EUEPorcjVP1ohKlBKhtU/1f+GnXZF1T+gGi/dJAbVP3KtKMBHyNQ/vsJWktKL1D8198UxuVDUP7u4jQbwFtQ/8ZQ6+2ve0z+VKbd1IqfTP6QuqlAJcdM/5OFA1RY80z9t1121QQjTPy7dJAaB1dI/6jndOsyj0j+WHCQgG3PSP6qQaddlQ9I/27+y0qQU0j8=",
        "encoding": "base64",
        "path": [
         "_data",
         0,
         "y",
         "value"
        ]
       }
      ],
      "model_module": "jupyterlab-plotly",
      "model_module_version": "^5.1.0",
      "model_name": "FigureModel",
      "state": {
       "_config": {
        "plotlyServerURL": "https://plot.ly"
       },
       "_data": [
        {
         "name": "Constant q<sub>H2S</sub>",
         "type": "scatter",
         "uid": "6b6e564e-ca18-4b56-8fbd-231fa4cac189",
         "x": {
          "dtype": "float64",
          "shape": [
           100
          ]
         },
         "y": {
          "dtype": "float64",
          "shape": [
           100
          ]
         }
        }
       ],
       "_js2py_pointsCallback": {},
       "_js2py_relayout": {},
       "_js2py_restyle": {},
       "_js2py_update": {},
       "_last_layout_edit_id": 123,
       "_last_trace_edit_id": 119,
       "_layout": {
        "height": 700,
        "shapes": [
         {
          "line": {
           "dash": "dash",
           "width": 1
          },
          "type": "line",
          "x0": 0,
          "x1": 1,
          "xref": "x domain",
          "y0": 0.8,
          "y1": 0.8,
          "yref": "y"
         },
         {
          "line": {
           "dash": "dash",
           "width": 1
          },
          "type": "line",
          "x0": 0.38,
          "x1": 0.38,
          "xref": "x",
          "y0": 0,
          "y1": 1,
          "yref": "y domain"
         }
        ],
        "template": {
         "layout": {
          "bargap": 0.05,
          "bargroupgap": 0,
          "font": {
           "color": "black",
           "family": "Arial",
           "size": 16
          },
          "height": 700,
          "hovermode": "closest",
          "margin": {
           "b": 60,
           "l": 60,
           "r": 30,
           "t": 30
          },
          "scene": {
           "xaxis": {
            "color": "black",
            "linewidth": 2,
            "showline": true,
            "ticks": "outside"
           },
           "yaxis": {
            "color": "black",
            "linewidth": 2,
            "showline": true,
            "ticks": "outside"
           },
           "zaxis": {
            "color": "black",
            "linewidth": 2,
            "showline": true,
            "ticks": "outside"
           }
          },
          "xaxis": {
           "color": "black",
           "linewidth": 1.3,
           "mirror": true,
           "showgrid": true,
           "showline": true,
           "ticks": "outside",
           "zeroline": true
          },
          "yaxis": {
           "color": "black",
           "linewidth": 1.3,
           "mirror": true,
           "showgrid": true,
           "showline": true,
           "ticks": "outside",
           "zeroline": true
          }
         }
        },
        "width": 700,
        "xaxis": {
         "range": [
          0,
          1
         ],
         "title": {
          "text": "[Fe<sub>HR</sub>]/[Fe<sub>tot</sub>]"
         }
        },
        "yaxis": {
         "range": [
          0,
          1
         ],
         "title": {
          "text": "[Fe<sub>py</sub>]/[Fe<sub>HR</sub>]"
         }
        }
       },
       "_py2js_animate": {},
       "_py2js_deleteTraces": {},
       "_py2js_moveTraces": {},
       "_py2js_removeLayoutProps": {},
       "_py2js_removeTraceProps": {},
       "_py2js_restyle": {},
       "_view_count": 1
      }
     },
     "e2899aefd23d4f5c98eae4085b13242b": {
      "model_module": "@jupyter-widgets/controls",
      "model_module_version": "1.5.0",
      "model_name": "FloatSliderModel",
      "state": {
       "description": "[Fe<sub>py</sub>]<sub>0</sub> / wt%",
       "layout": "IPY_MODEL_b1d088aed51d46b0beaf929d896e1dd2",
       "max": 5,
       "step": 0.1,
       "style": "IPY_MODEL_577cc264171e4859a442031709a68072"
      }
     },
     "e292e8f05912434f9397670b6ed29b6f": {
      "model_module": "@jupyter-widgets/controls",
      "model_module_version": "1.5.0",
      "model_name": "DescriptionStyleModel",
      "state": {
       "description_width": "initial"
      }
     },
     "e51c081cb7da4556b9a355c0a80cd61c": {
      "model_module": "@jupyter-widgets/base",
      "model_module_version": "1.2.0",
      "model_name": "LayoutModel",
      "state": {
       "width": "75%"
      }
     },
     "e7437336ccec4270bfc670720958ff2e": {
      "model_module": "@jupyter-widgets/controls",
      "model_module_version": "1.5.0",
      "model_name": "DropdownModel",
      "state": {
       "_options_labels": [
        "HR_to_tot",
        "py_to_HR",
        "py_to_tot",
        "Fe_py",
        "Fe_ox",
        "Fe_mag",
        "Fe_carb",
        "Fe_UR",
        "Fe_HR",
        "Fe_tot",
        "d34S",
        "H2S_decay",
        "fossil_index",
        "py_index",
        "phi",
        "biodiversity",
        "Constant",
        "height"
       ],
       "description": "colour",
       "index": 17,
       "layout": "IPY_MODEL_fe207b555e8f459a81821b0643e6cae6",
       "style": "IPY_MODEL_a3d3d31316e1492fa576e85985c8a096"
      }
     },
     "e8402aefebbe480a86cda120e26301d2": {
      "model_module": "@jupyter-widgets/base",
      "model_module_version": "1.2.0",
      "model_name": "LayoutModel",
      "state": {}
     },
     "eb810af02629424aa68f8e14d885e304": {
      "model_module": "@jupyter-widgets/output",
      "model_module_version": "1.0.0",
      "model_name": "OutputModel",
      "state": {
       "layout": "IPY_MODEL_fc28bd833b6f4517bdba9843e0af49e7"
      }
     },
     "ebd58d6fc7b441e6b2695f1a5e60f560": {
      "model_module": "@jupyter-widgets/base",
      "model_module_version": "1.2.0",
      "model_name": "LayoutModel",
      "state": {}
     },
     "ee73b67b6e4b4b7f882a603506209721": {
      "model_module": "@jupyter-widgets/controls",
      "model_module_version": "1.5.0",
      "model_name": "VBoxModel",
      "state": {
       "_dom_classes": [
        "widget-interact"
       ],
       "children": [
        "IPY_MODEL_bc10132337404094a193d369b1252500",
        "IPY_MODEL_e2899aefd23d4f5c98eae4085b13242b",
        "IPY_MODEL_36fbe3e574314fbaa1d9f67be43a0416",
        "IPY_MODEL_fd245bb26dbd4929a405989b1624b9e7",
        "IPY_MODEL_7eb18d55e04643b889c227fdc54d398a"
       ],
       "layout": "IPY_MODEL_41b2242d66e946b9b7836ecf1254a03b"
      }
     },
     "eeaea2d6af6049ffbd8fc3087e7419d9": {
      "model_module": "@jupyter-widgets/base",
      "model_module_version": "1.2.0",
      "model_name": "LayoutModel",
      "state": {}
     },
     "eef2043a18fb4cc28294ea0c3c6729a6": {
      "model_module": "@jupyter-widgets/controls",
      "model_module_version": "1.5.0",
      "model_name": "VBoxModel",
      "state": {
       "_dom_classes": [
        "widget-interact"
       ],
       "children": [
        "IPY_MODEL_650b3d0ee7f94a4c99dde3708de5091d",
        "IPY_MODEL_125a6e7f51a6416fad961ad580e872d4",
        "IPY_MODEL_f40550dd392c480c903b4f46f921c2d6",
        "IPY_MODEL_3bf2461f8ad64eed898f5dee9ff7ef39"
       ],
       "layout": "IPY_MODEL_9611b40c85b04dd2b7b11dbeaaacc761"
      }
     },
     "f0bed6254b334af8947784c50b72383b": {
      "model_module": "@jupyter-widgets/base",
      "model_module_version": "1.2.0",
      "model_name": "LayoutModel",
      "state": {}
     },
     "f40550dd392c480c903b4f46f921c2d6": {
      "model_module": "@jupyter-widgets/controls",
      "model_module_version": "1.5.0",
      "model_name": "FloatSliderModel",
      "state": {
       "description": "H<sub>2</sub>S added / mol",
       "layout": "IPY_MODEL_c656d436fe2146339c6b9fc33e779d63",
       "max": 1.5,
       "step": 0.01,
       "style": "IPY_MODEL_103c9cc7d7c64826b6614aa38236e4eb",
       "value": 0.86
      }
     },
     "f60bda3376e4465ebf8f8f4ac5f516bd": {
      "model_module": "@jupyter-widgets/controls",
      "model_module_version": "1.5.0",
      "model_name": "SliderStyleModel",
      "state": {
       "description_width": "initial"
      }
     },
     "f6c006e647c642c6a2c96705e8a58061": {
      "model_module": "@jupyter-widgets/controls",
      "model_module_version": "1.5.0",
      "model_name": "SliderStyleModel",
      "state": {
       "description_width": "initial"
      }
     },
     "f759d3a0554c4442937edae3839d8e39": {
      "model_module": "@jupyter-widgets/controls",
      "model_module_version": "1.5.0",
      "model_name": "DescriptionStyleModel",
      "state": {
       "description_width": ""
      }
     },
     "f9c6b2f8801841b8be0bb321e2535a1d": {
      "model_module": "@jupyter-widgets/base",
      "model_module_version": "1.2.0",
      "model_name": "LayoutModel",
      "state": {}
     },
     "fc28bd833b6f4517bdba9843e0af49e7": {
      "model_module": "@jupyter-widgets/base",
      "model_module_version": "1.2.0",
      "model_name": "LayoutModel",
      "state": {}
     },
     "fd245bb26dbd4929a405989b1624b9e7": {
      "model_module": "@jupyter-widgets/controls",
      "model_module_version": "1.5.0",
      "model_name": "CheckboxModel",
      "state": {
       "description": "Correct model by changing [Fe<sub>py</sub>]<sub>0</sub>",
       "disabled": false,
       "layout": "IPY_MODEL_5424c8bf498148d3bce426ee7eb8004f",
       "style": "IPY_MODEL_e292e8f05912434f9397670b6ed29b6f",
       "value": false
      }
     },
     "fe207b555e8f459a81821b0643e6cae6": {
      "model_module": "@jupyter-widgets/base",
      "model_module_version": "1.2.0",
      "model_name": "LayoutModel",
      "state": {}
     },
     "feb42d2c6ec4476fa466e1a501cccbe5": {
      "model_module": "@jupyter-widgets/controls",
      "model_module_version": "1.5.0",
      "model_name": "VBoxModel",
      "state": {
       "_dom_classes": [
        "widget-interact"
       ],
       "children": [
        "IPY_MODEL_18db4c6c84c34e7d88e44eb23b3e04f8",
        "IPY_MODEL_91af818e1fd14cec8c21cf01a8474600",
        "IPY_MODEL_02c195a85eda4362937ef7722dbc8cfe",
        "IPY_MODEL_34a616ea44eb4f268846a63e5479b064",
        "IPY_MODEL_eb810af02629424aa68f8e14d885e304"
       ],
       "layout": "IPY_MODEL_5fbaa442485a45b5a0290464ce93ad64"
      }
     }
    },
    "version_major": 2,
    "version_minor": 0
   }
  }
 },
 "nbformat": 4,
 "nbformat_minor": 4
}
