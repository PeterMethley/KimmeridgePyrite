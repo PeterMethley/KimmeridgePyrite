{
 "cells": [
  {
   "cell_type": "code",
   "execution_count": 1,
   "metadata": {},
   "outputs": [],
   "source": [
    "import numpy as np\n",
    "import ipywidgets as wdg\n",
    "from plotly_default import go, sel_trace"
   ]
  },
  {
   "cell_type": "code",
   "execution_count": 2,
   "metadata": {},
   "outputs": [
    {
     "data": {
      "application/vnd.jupyter.widget-view+json": {
       "model_id": "2c0ffe9a31a44c68a56a00885a7d237e",
       "version_major": 2,
       "version_minor": 0
      },
      "text/plain": [
       "interactive(children=(FloatSlider(value=5.0, description='a', max=10.0), FloatSlider(value=5.0, description='b…"
      ]
     },
     "metadata": {},
     "output_type": "display_data"
    }
   ],
   "source": [
    "fig1 = go.FigureWidget()\n",
    "fig1.add_trace(go.Scatter())\n",
    "\n",
    "fig1.add_hline(1)\n",
    "\n",
    "xx = np.linspace(-2*np.pi, 2*np.pi, 1000)\n",
    "\n",
    "@wdg.interact(a=(0., 10.), b=(0., 10.))\n",
    "def interactive_sine(a, b):\n",
    "    yy = np.sin(a*xx) * np.cos(b*xx)\n",
    "    fig1.update_traces(x=xx, y=yy)\n",
    "    fig1.show()"
   ]
  },
  {
   "cell_type": "code",
   "execution_count": 3,
   "metadata": {},
   "outputs": [
    {
     "data": {
      "application/vnd.jupyter.widget-view+json": {
       "model_id": "d3fe54a4c89c4d689680859e2fea313e",
       "version_major": 2,
       "version_minor": 0
      },
      "text/plain": [
       "FigureWidget({\n",
       "    'data': [{'name': 'trace1',\n",
       "              'type': 'scatter',\n",
       "              'uid': 'ed956e37…"
      ]
     },
     "metadata": {},
     "output_type": "display_data"
    }
   ],
   "source": [
    "fig2 = go.FigureWidget()\n",
    "fig2.add_trace(go.Scatter(x=[0,2,6], y=[1,-4,2], name='trace1'))\n",
    "fig2.add_scatter()"
   ]
  },
  {
   "cell_type": "code",
   "execution_count": 4,
   "metadata": {},
   "outputs": [],
   "source": [
    "trace1 = sel_trace(fig2, 'trace1')"
   ]
  },
  {
   "cell_type": "code",
   "execution_count": 6,
   "metadata": {},
   "outputs": [
    {
     "data": {
      "text/plain": [
       "Scatter({\n",
       "    'name': 'trace1', 'uid': '7165e950-de37-472b-baa2-6353e8bf40cb', 'x': [0, 2, 6], 'y': [1, -4, 2]\n",
       "})"
      ]
     },
     "execution_count": 6,
     "metadata": {},
     "output_type": "execute_result"
    }
   ],
   "source": [
    "trace1"
   ]
  },
  {
   "cell_type": "markdown",
   "metadata": {},
   "source": []
  }
 ],
 "metadata": {
  "kernelspec": {
   "display_name": "Python 3",
   "language": "python",
   "name": "python3"
  },
  "language_info": {
   "codemirror_mode": {
    "name": "ipython",
    "version": 3
   },
   "file_extension": ".py",
   "mimetype": "text/x-python",
   "name": "python",
   "nbconvert_exporter": "python",
   "pygments_lexer": "ipython3",
   "version": "3.9.1"
  },
  "widgets": {
   "application/vnd.jupyter.widget-state+json": {
    "state": {},
    "version_major": 2,
    "version_minor": 0
   }
  }
 },
 "nbformat": 4,
 "nbformat_minor": 4
}
