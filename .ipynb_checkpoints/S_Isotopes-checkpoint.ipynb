{
 "cells": [
  {
   "cell_type": "markdown",
   "metadata": {},
   "source": [
    "# Sulphur Isotope Analysis\n",
    "This notebook takes the raw $\\mathrm{\\delta^{34}S}$ (`d34S`) data from the mass spectrometer, and corrects the drift in the isotopic composition of the standards using linear interpolation. Then, the true $\\mathrm{\\delta^{34}S}$ of the samples are calculated relative to the standards."
   ]
  },
  {
   "cell_type": "code",
   "execution_count": 1,
   "metadata": {},
   "outputs": [],
   "source": [
    "# Import libraries\n",
    "import numpy as np\n",
    "import pandas as pd\n",
    "import scipy.interpolate as itp\n",
    "from plotly_default import go # Custom graph style"
   ]
  },
  {
   "cell_type": "code",
   "execution_count": 7,
   "metadata": {},
   "outputs": [],
   "source": [
    "# True d34S values of standards\n",
    "true_std = {'NBS': 20.3,\n",
    "            'S3' : -32.2}"
   ]
  },
  {
   "cell_type": "code",
   "execution_count": 15,
   "metadata": {},
   "outputs": [
    {
     "data": {
      "text/html": [
       "<div>\n",
       "<style scoped>\n",
       "    .dataframe tbody tr th:only-of-type {\n",
       "        vertical-align: middle;\n",
       "    }\n",
       "\n",
       "    .dataframe tbody tr th {\n",
       "        vertical-align: top;\n",
       "    }\n",
       "\n",
       "    .dataframe thead th {\n",
       "        text-align: right;\n",
       "    }\n",
       "</style>\n",
       "<table border=\"1\" class=\"dataframe\">\n",
       "  <thead>\n",
       "    <tr style=\"text-align: right;\">\n",
       "      <th></th>\n",
       "      <th>run_no</th>\n",
       "      <th>name</th>\n",
       "      <th>data_type</th>\n",
       "      <th>group</th>\n",
       "      <th>height</th>\n",
       "      <th>d34S_raw</th>\n",
       "    </tr>\n",
       "  </thead>\n",
       "  <tbody>\n",
       "    <tr>\n",
       "      <th>0</th>\n",
       "      <td>1</td>\n",
       "      <td>NBS</td>\n",
       "      <td>standard</td>\n",
       "      <td>0</td>\n",
       "      <td>NaN</td>\n",
       "      <td>26.039</td>\n",
       "    </tr>\n",
       "    <tr>\n",
       "      <th>1</th>\n",
       "      <td>2</td>\n",
       "      <td>NBS</td>\n",
       "      <td>standard</td>\n",
       "      <td>0</td>\n",
       "      <td>NaN</td>\n",
       "      <td>26.379</td>\n",
       "    </tr>\n",
       "    <tr>\n",
       "      <th>2</th>\n",
       "      <td>3</td>\n",
       "      <td>NBS</td>\n",
       "      <td>standard</td>\n",
       "      <td>0</td>\n",
       "      <td>NaN</td>\n",
       "      <td>26.557</td>\n",
       "    </tr>\n",
       "    <tr>\n",
       "      <th>3</th>\n",
       "      <td>4</td>\n",
       "      <td>NBS</td>\n",
       "      <td>standard</td>\n",
       "      <td>0</td>\n",
       "      <td>NaN</td>\n",
       "      <td>26.531</td>\n",
       "    </tr>\n",
       "    <tr>\n",
       "      <th>4</th>\n",
       "      <td>5</td>\n",
       "      <td>NBS</td>\n",
       "      <td>standard</td>\n",
       "      <td>0</td>\n",
       "      <td>NaN</td>\n",
       "      <td>26.797</td>\n",
       "    </tr>\n",
       "  </tbody>\n",
       "</table>\n",
       "</div>"
      ],
      "text/plain": [
       "   run_no name data_type  group  height  d34S_raw\n",
       "0       1  NBS  standard      0     NaN    26.039\n",
       "1       2  NBS  standard      0     NaN    26.379\n",
       "2       3  NBS  standard      0     NaN    26.557\n",
       "3       4  NBS  standard      0     NaN    26.531\n",
       "4       5  NBS  standard      0     NaN    26.797"
      ]
     },
     "execution_count": 15,
     "metadata": {},
     "output_type": "execute_result"
    }
   ],
   "source": [
    "# Read in MS data\n",
    "raw_isotopes = pd.read_csv('./Data/S_isotopes_raw.csv')\n",
    "raw_isotopes.head()"
   ]
  },
  {
   "cell_type": "code",
   "execution_count": 14,
   "metadata": {},
   "outputs": [
    {
     "data": {
      "application/vnd.plotly.v1+json": {
       "config": {
        "plotlyServerURL": "https://plot.ly"
       },
       "data": [
        {
         "marker": {
          "color": "RoyalBlue"
         },
         "name": "NBS",
         "type": "scatter",
         "x": [
          1,
          2,
          3,
          4,
          5,
          6,
          34,
          35,
          36,
          37,
          64,
          65,
          66,
          85,
          86,
          87
         ],
         "y": [
          26.039,
          26.379,
          26.557,
          26.531,
          26.796999999999997,
          26.941999999999997,
          26.191999999999997,
          26.95,
          27.094,
          26.961,
          26.581999999999997,
          26.319000000000003,
          25.089000000000002,
          24.614,
          28.255,
          26.631
         ]
        },
        {
         "marker": {
          "color": "green"
         },
         "name": "S3",
         "type": "scatter",
         "x": [
          8,
          9,
          10,
          39,
          40,
          41,
          68,
          69,
          70,
          89,
          90,
          91
         ],
         "y": [
          -22.098000000000003,
          -21.627,
          -22.241999999999997,
          -19.158,
          -21.391,
          -21.288,
          -19.074,
          -20.763,
          -20.798000000000002,
          -19.69,
          -18.607,
          -20.154
         ]
        }
       ],
       "layout": {
        "autosize": true,
        "shapes": [
         {
          "line": {
           "color": "RoyalBlue",
           "dash": "dash",
           "width": 2
          },
          "type": "line",
          "x0": 0,
          "x1": 1,
          "xref": "x domain",
          "y0": 20.3,
          "y1": 20.3,
          "yref": "y"
         },
         {
          "line": {
           "color": "green",
           "dash": "dash",
           "width": 2
          },
          "type": "line",
          "x0": 0,
          "x1": 1,
          "xref": "x domain",
          "y0": -32.2,
          "y1": -32.2,
          "yref": "y"
         }
        ],
        "template": {
         "layout": {
          "bargap": 0.05,
          "bargroupgap": 0,
          "font": {
           "family": "Arial",
           "size": 16
          },
          "height": 700,
          "hovermode": "closest",
          "margin": {
           "b": 60,
           "l": 60,
           "r": 30,
           "t": 30
          },
          "scene": {
           "xaxis": {
            "color": "black",
            "linewidth": 2,
            "showline": true,
            "ticks": "outside"
           },
           "yaxis": {
            "color": "black",
            "linewidth": 2,
            "showline": true,
            "ticks": "outside"
           },
           "zaxis": {
            "color": "black",
            "linewidth": 2,
            "showline": true,
            "ticks": "outside"
           }
          },
          "xaxis": {
           "linewidth": 1.3,
           "mirror": true,
           "showgrid": true,
           "showline": true,
           "ticks": "outside",
           "zeroline": true
          },
          "yaxis": {
           "linewidth": 1.3,
           "mirror": true,
           "showgrid": true,
           "showline": true,
           "ticks": "outside",
           "zeroline": true
          }
         }
        },
        "xaxis": {
         "autorange": true,
         "range": [
          0,
          96.3597396412129
         ],
         "rangemode": "tozero",
         "title": {
          "text": "Run number"
         },
         "type": "linear"
        },
        "yaxis": {
         "autorange": true,
         "range": [
          -32.30518486298391,
          31.85758155719878
         ],
         "title": {
          "text": "δ<sup>34</sup>S / ‰"
         },
         "type": "linear"
        }
       }
      },
      "image/png": "[encoded data removed]",
      "text/html": [
       "<div>                            <div id=\"e502dd4e-b25b-4b2b-aad6-e514499ac905\" class=\"plotly-graph-div\" style=\"height:700px; width:100%;\"></div>            <script type=\"text/javascript\">                require([\"plotly\"], function(Plotly) {                    window.PLOTLYENV=window.PLOTLYENV || {};                                    if (document.getElementById(\"e502dd4e-b25b-4b2b-aad6-e514499ac905\")) {                    Plotly.newPlot(                        \"e502dd4e-b25b-4b2b-aad6-e514499ac905\",                        [{\"marker\": {\"color\": \"RoyalBlue\"}, \"name\": \"NBS\", \"type\": \"scatter\", \"x\": [1, 2, 3, 4, 5, 6, 34, 35, 36, 37, 64, 65, 66, 85, 86, 87], \"y\": [26.039, 26.379, 26.557, 26.531, 26.796999999999997, 26.941999999999997, 26.191999999999997, 26.95, 27.094, 26.961, 26.581999999999997, 26.319000000000003, 25.089000000000002, 24.614, 28.255, 26.631]}, {\"marker\": {\"color\": \"green\"}, \"name\": \"S3\", \"type\": \"scatter\", \"x\": [8, 9, 10, 39, 40, 41, 68, 69, 70, 89, 90, 91], \"y\": [-22.098000000000003, -21.627, -22.241999999999997, -19.158, -21.391, -21.288, -19.074, -20.763, -20.798000000000002, -19.69, -18.607, -20.154]}],                        {\"shapes\": [{\"line\": {\"color\": \"RoyalBlue\", \"dash\": \"dash\", \"width\": 2}, \"type\": \"line\", \"x0\": 0, \"x1\": 1, \"xref\": \"x domain\", \"y0\": 20.3, \"y1\": 20.3, \"yref\": \"y\"}, {\"line\": {\"color\": \"green\", \"dash\": \"dash\", \"width\": 2}, \"type\": \"line\", \"x0\": 0, \"x1\": 1, \"xref\": \"x domain\", \"y0\": -32.2, \"y1\": -32.2, \"yref\": \"y\"}], \"template\": {\"layout\": {\"bargap\": 0.05, \"bargroupgap\": 0, \"font\": {\"family\": \"Arial\", \"size\": 16}, \"height\": 700, \"hovermode\": \"closest\", \"margin\": {\"b\": 60, \"l\": 60, \"r\": 30, \"t\": 30}, \"scene\": {\"xaxis\": {\"color\": \"black\", \"linewidth\": 2, \"showline\": true, \"ticks\": \"outside\"}, \"yaxis\": {\"color\": \"black\", \"linewidth\": 2, \"showline\": true, \"ticks\": \"outside\"}, \"zaxis\": {\"color\": \"black\", \"linewidth\": 2, \"showline\": true, \"ticks\": \"outside\"}}, \"xaxis\": {\"linewidth\": 1.3, \"mirror\": true, \"showgrid\": true, \"showline\": true, \"ticks\": \"outside\", \"zeroline\": true}, \"yaxis\": {\"linewidth\": 1.3, \"mirror\": true, \"showgrid\": true, \"showline\": true, \"ticks\": \"outside\", \"zeroline\": true}}}, \"xaxis\": {\"rangemode\": \"tozero\", \"title\": {\"text\": \"Run number\"}}, \"yaxis\": {\"title\": {\"text\": \"\\u03b4<sup>34</sup>S / \\u2030\"}}},                        {\"responsive\": true}                    ).then(function(){\n",
       "                            \n",
       "var gd = document.getElementById('e502dd4e-b25b-4b2b-aad6-e514499ac905');\n",
       "var x = new MutationObserver(function (mutations, observer) {{\n",
       "        var display = window.getComputedStyle(gd).display;\n",
       "        if (!display || display === 'none') {{\n",
       "            console.log([gd, 'removed!']);\n",
       "            Plotly.purge(gd);\n",
       "            observer.disconnect();\n",
       "        }}\n",
       "}});\n",
       "\n",
       "// Listen for the removal of the full notebook cells\n",
       "var notebookContainer = gd.closest('#notebook-container');\n",
       "if (notebookContainer) {{\n",
       "    x.observe(notebookContainer, {childList: true});\n",
       "}}\n",
       "\n",
       "// Listen for the clearing of the current output cell\n",
       "var outputEl = gd.closest('.output');\n",
       "if (outputEl) {{\n",
       "    x.observe(outputEl, {childList: true});\n",
       "}}\n",
       "\n",
       "                        })                };                });            </script>        </div>"
      ]
     },
     "metadata": {},
     "output_type": "display_data"
    }
   ],
   "source": [
    "std_plot = go.Figure()\n",
    "\n",
    "for standard, colour in zip(['NBS', 'S3'], ['RoyalBlue', 'green']):\n",
    "    std_isotopes = raw_isotopes[raw_isotopes.name==standard]\n",
    "    std_plot.add_trace(go.Scatter(x=std_isotopes.run_no, y=std_isotopes.d34S_raw,\n",
    "                                  name=standard, marker_color=colour))\n",
    "    std_plot.add_hline(true_std[standard], line_width=2, line_color=colour, line_dash='dash')\n",
    "\n",
    "std_plot.update_layout(xaxis_title = 'Run number',\n",
    "                       xaxis_rangemode = 'tozero',\n",
    "                       yaxis_title = 'δ<sup>34</sup>S / ‰')    \n",
    "\n",
    "std_plot.show()"
   ]
  },
  {
   "cell_type": "code",
   "execution_count": null,
   "metadata": {},
   "outputs": [],
   "source": []
  }
 ],
 "metadata": {
  "kernelspec": {
   "display_name": "Python 3",
   "language": "python",
   "name": "python3"
  },
  "language_info": {
   "codemirror_mode": {
    "name": "ipython",
    "version": 3
   },
   "file_extension": ".py",
   "mimetype": "text/x-python",
   "name": "python",
   "nbconvert_exporter": "python",
   "pygments_lexer": "ipython3",
   "version": "3.8.5"
  }
 },
 "nbformat": 4,
 "nbformat_minor": 4
}
