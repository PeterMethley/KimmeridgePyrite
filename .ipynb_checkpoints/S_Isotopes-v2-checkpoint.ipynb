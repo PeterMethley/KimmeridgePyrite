{
 "cells": [
  {
   "cell_type": "markdown",
   "metadata": {},
   "source": [
    "# Sulphur Isotope Analysis\n",
    "This notebook takes the raw $\\mathrm{\\delta^{34}S}$ (`d34S`) data from the mass spectrometer, and corrects the drift in the isotopic composition of the standards using linear interpolation. Then, the true $\\mathrm{\\delta^{34}S}$ of the samples are calculated relative to the standards.\n",
    "\n",
    "## Version 2\n",
    "This uses the second run of sulphur isotope data, collected from the same samples in March 2021, when the mass spec was behaving a bit better."
   ]
  },
  {
   "cell_type": "code",
   "execution_count": 1,
   "metadata": {},
   "outputs": [],
   "source": [
    "# Import libraries\n",
    "import numpy as np\n",
    "import pandas as pd\n",
    "import scipy.interpolate as itp\n",
    "import ipywidgets as wdg\n",
    "from plotly_default import go, graph_config, sel_trace# Custom graph style"
   ]
  },
  {
   "cell_type": "code",
   "execution_count": 3,
   "metadata": {},
   "outputs": [],
   "source": [
    "# True d34S values of standards\n",
    "true_std = {'NBS': 20.3,\n",
    "            'S3' : -32.49}\n",
    "\n",
    "standards = list(true_std.keys()) # list of standard names"
   ]
  },
  {
   "cell_type": "code",
   "execution_count": 4,
   "metadata": {},
   "outputs": [
    {
     "data": {
      "text/html": [
       "<div>\n",
       "<style scoped>\n",
       "    .dataframe tbody tr th:only-of-type {\n",
       "        vertical-align: middle;\n",
       "    }\n",
       "\n",
       "    .dataframe tbody tr th {\n",
       "        vertical-align: top;\n",
       "    }\n",
       "\n",
       "    .dataframe thead th {\n",
       "        text-align: right;\n",
       "    }\n",
       "</style>\n",
       "<table border=\"1\" class=\"dataframe\">\n",
       "  <thead>\n",
       "    <tr style=\"text-align: right;\">\n",
       "      <th></th>\n",
       "      <th>run_no</th>\n",
       "      <th>name</th>\n",
       "      <th>data_type</th>\n",
       "      <th>group</th>\n",
       "      <th>height</th>\n",
       "      <th>d34S_raw</th>\n",
       "    </tr>\n",
       "  </thead>\n",
       "  <tbody>\n",
       "    <tr>\n",
       "      <th>0</th>\n",
       "      <td>1</td>\n",
       "      <td>NBS</td>\n",
       "      <td>standard</td>\n",
       "      <td>0</td>\n",
       "      <td>0</td>\n",
       "      <td>21.181</td>\n",
       "    </tr>\n",
       "    <tr>\n",
       "      <th>1</th>\n",
       "      <td>2</td>\n",
       "      <td>NBS</td>\n",
       "      <td>standard</td>\n",
       "      <td>0</td>\n",
       "      <td>0</td>\n",
       "      <td>21.236</td>\n",
       "    </tr>\n",
       "    <tr>\n",
       "      <th>2</th>\n",
       "      <td>3</td>\n",
       "      <td>NBS</td>\n",
       "      <td>standard</td>\n",
       "      <td>0</td>\n",
       "      <td>0</td>\n",
       "      <td>21.475</td>\n",
       "    </tr>\n",
       "    <tr>\n",
       "      <th>3</th>\n",
       "      <td>4</td>\n",
       "      <td>NBS</td>\n",
       "      <td>standard</td>\n",
       "      <td>0</td>\n",
       "      <td>0</td>\n",
       "      <td>21.258</td>\n",
       "    </tr>\n",
       "    <tr>\n",
       "      <th>4</th>\n",
       "      <td>5</td>\n",
       "      <td>NBS</td>\n",
       "      <td>standard</td>\n",
       "      <td>0</td>\n",
       "      <td>0</td>\n",
       "      <td>21.423</td>\n",
       "    </tr>\n",
       "    <tr>\n",
       "      <th>5</th>\n",
       "      <td>6</td>\n",
       "      <td>NBS</td>\n",
       "      <td>standard</td>\n",
       "      <td>0</td>\n",
       "      <td>0</td>\n",
       "      <td>21.576</td>\n",
       "    </tr>\n",
       "    <tr>\n",
       "      <th>6</th>\n",
       "      <td>8</td>\n",
       "      <td>S3</td>\n",
       "      <td>standard</td>\n",
       "      <td>0</td>\n",
       "      <td>0</td>\n",
       "      <td>-26.387</td>\n",
       "    </tr>\n",
       "    <tr>\n",
       "      <th>7</th>\n",
       "      <td>9</td>\n",
       "      <td>S3</td>\n",
       "      <td>standard</td>\n",
       "      <td>0</td>\n",
       "      <td>0</td>\n",
       "      <td>-27.226</td>\n",
       "    </tr>\n",
       "    <tr>\n",
       "      <th>8</th>\n",
       "      <td>10</td>\n",
       "      <td>S3</td>\n",
       "      <td>standard</td>\n",
       "      <td>0</td>\n",
       "      <td>0</td>\n",
       "      <td>-27.837</td>\n",
       "    </tr>\n",
       "    <tr>\n",
       "      <th>9</th>\n",
       "      <td>12</td>\n",
       "      <td>KC-2-0</td>\n",
       "      <td>normal</td>\n",
       "      <td>1</td>\n",
       "      <td>0</td>\n",
       "      <td>-15.482</td>\n",
       "    </tr>\n",
       "    <tr>\n",
       "      <th>10</th>\n",
       "      <td>13</td>\n",
       "      <td>KC-2-1</td>\n",
       "      <td>normal</td>\n",
       "      <td>1</td>\n",
       "      <td>0</td>\n",
       "      <td>-17.459</td>\n",
       "    </tr>\n",
       "    <tr>\n",
       "      <th>11</th>\n",
       "      <td>14</td>\n",
       "      <td>KC-2-2</td>\n",
       "      <td>normal</td>\n",
       "      <td>1</td>\n",
       "      <td>0</td>\n",
       "      <td>-12.231</td>\n",
       "    </tr>\n",
       "    <tr>\n",
       "      <th>12</th>\n",
       "      <td>16</td>\n",
       "      <td>KC-2-2.5</td>\n",
       "      <td>normal</td>\n",
       "      <td>1</td>\n",
       "      <td>0</td>\n",
       "      <td>-9.473</td>\n",
       "    </tr>\n",
       "    <tr>\n",
       "      <th>13</th>\n",
       "      <td>17</td>\n",
       "      <td>KC-2-3</td>\n",
       "      <td>normal</td>\n",
       "      <td>1</td>\n",
       "      <td>0</td>\n",
       "      <td>-11.809</td>\n",
       "    </tr>\n",
       "    <tr>\n",
       "      <th>14</th>\n",
       "      <td>18</td>\n",
       "      <td>KC-2-3.5</td>\n",
       "      <td>normal</td>\n",
       "      <td>1</td>\n",
       "      <td>0</td>\n",
       "      <td>-13.888</td>\n",
       "    </tr>\n",
       "    <tr>\n",
       "      <th>15</th>\n",
       "      <td>19</td>\n",
       "      <td>KC-2-4.5</td>\n",
       "      <td>normal</td>\n",
       "      <td>1</td>\n",
       "      <td>0</td>\n",
       "      <td>-14.582</td>\n",
       "    </tr>\n",
       "    <tr>\n",
       "      <th>16</th>\n",
       "      <td>20</td>\n",
       "      <td>KC-2-6</td>\n",
       "      <td>normal</td>\n",
       "      <td>1</td>\n",
       "      <td>0</td>\n",
       "      <td>-11.126</td>\n",
       "    </tr>\n",
       "    <tr>\n",
       "      <th>17</th>\n",
       "      <td>21</td>\n",
       "      <td>KC-2-6.5</td>\n",
       "      <td>normal</td>\n",
       "      <td>1</td>\n",
       "      <td>0</td>\n",
       "      <td>-16.104</td>\n",
       "    </tr>\n",
       "    <tr>\n",
       "      <th>18</th>\n",
       "      <td>22</td>\n",
       "      <td>KC-2-6p</td>\n",
       "      <td>duplicate</td>\n",
       "      <td>1</td>\n",
       "      <td>0</td>\n",
       "      <td>-10.531</td>\n",
       "    </tr>\n",
       "    <tr>\n",
       "      <th>19</th>\n",
       "      <td>23</td>\n",
       "      <td>KC-2-7</td>\n",
       "      <td>normal</td>\n",
       "      <td>1</td>\n",
       "      <td>0</td>\n",
       "      <td>-17.358</td>\n",
       "    </tr>\n",
       "  </tbody>\n",
       "</table>\n",
       "</div>"
      ],
      "text/plain": [
       "    run_no      name  data_type  group  height  d34S_raw\n",
       "0        1       NBS   standard      0       0    21.181\n",
       "1        2       NBS   standard      0       0    21.236\n",
       "2        3       NBS   standard      0       0    21.475\n",
       "3        4       NBS   standard      0       0    21.258\n",
       "4        5       NBS   standard      0       0    21.423\n",
       "5        6       NBS   standard      0       0    21.576\n",
       "6        8        S3   standard      0       0   -26.387\n",
       "7        9        S3   standard      0       0   -27.226\n",
       "8       10        S3   standard      0       0   -27.837\n",
       "9       12    KC-2-0     normal      1       0   -15.482\n",
       "10      13    KC-2-1     normal      1       0   -17.459\n",
       "11      14    KC-2-2     normal      1       0   -12.231\n",
       "12      16  KC-2-2.5     normal      1       0    -9.473\n",
       "13      17    KC-2-3     normal      1       0   -11.809\n",
       "14      18  KC-2-3.5     normal      1       0   -13.888\n",
       "15      19  KC-2-4.5     normal      1       0   -14.582\n",
       "16      20    KC-2-6     normal      1       0   -11.126\n",
       "17      21  KC-2-6.5     normal      1       0   -16.104\n",
       "18      22   KC-2-6p  duplicate      1       0   -10.531\n",
       "19      23    KC-2-7     normal      1       0   -17.358"
      ]
     },
     "execution_count": 4,
     "metadata": {},
     "output_type": "execute_result"
    }
   ],
   "source": [
    "# Read in MS data\n",
    "isotope_df = pd.read_csv('./Data/S_isotopes_raw_v2.csv')\n",
    "isotope_df.head(20)"
   ]
  },
  {
   "cell_type": "code",
   "execution_count": 5,
   "metadata": {},
   "outputs": [],
   "source": [
    "# Set up dictionary for average of each cluster of standards\n",
    "cal_points = {std: {'avg_run':[], 'd34S_raw': [], 'd34S_corrected': []} for std in standards}\n",
    "\n",
    "for standard in standards:\n",
    "    # selects all groups of standard\n",
    "    for sample_group in range(isotope_df.group.min(), isotope_df.group.max()+1, 2):\n",
    "        group_df = isotope_df[(isotope_df.group == sample_group) & (isotope_df.name == standard)]\n",
    "        # caluclate average run number\n",
    "        cal_points[standard]['avg_run'].append(group_df.run_no.mean())\n",
    "        # calculate average d34S\n",
    "        cal_points[standard]['d34S_raw'].append(group_df.d34S_raw.mean())\n",
    "        # If this all works, these d34S values should correct to the true values\n",
    "        cal_points[standard]['d34S_corrected'].append(true_std[standard])"
   ]
  },
  {
   "cell_type": "code",
   "execution_count": 6,
   "metadata": {},
   "outputs": [],
   "source": [
    "# Interpolate standard d34S\n",
    "for standard in standards:\n",
    "    # Interpolate linearly between calibration points\n",
    "    itp_fn = itp.interp1d(x=cal_points[standard]['avg_run'],\n",
    "                          y=cal_points[standard]['d34S_raw'],\n",
    "                          fill_value='extrapolate')\n",
    "    \n",
    "    # Evaluate interpolation function at each data point\n",
    "    itp_values = itp_fn(isotope_df.run_no)\n",
    "    isotope_df[standard+'_itp'] = itp_values"
   ]
  },
  {
   "cell_type": "markdown",
   "metadata": {},
   "source": [
    "![S isotope correction](images/Isotope_correction.png)"
   ]
  },
  {
   "cell_type": "code",
   "execution_count": 7,
   "metadata": {},
   "outputs": [],
   "source": [
    "Delta_true = true_std['NBS'] - true_std['S3']\n",
    "\n",
    "d34Ss_corrected = [] # empty list to store corrected d34S\n",
    "\n",
    "# Correct isotope values\n",
    "for sample in isotope_df.iterrows():\n",
    "    Delta_NBS = sample[1].NBS_itp - sample[1].d34S_raw\n",
    "    Delta_S3 = sample[1].d34S_raw - sample[1].S3_itp\n",
    "    Delta_S3_corrected = Delta_S3 * Delta_true / (Delta_NBS + Delta_S3)\n",
    "    d34Ss_corrected.append(true_std['S3'] + Delta_S3_corrected)\n",
    "    \n",
    "isotope_df['d34S_corrected'] = d34Ss_corrected"
   ]
  },
  {
   "cell_type": "code",
   "execution_count": 8,
   "metadata": {},
   "outputs": [],
   "source": [
    "# Calculate errors\n",
    "std_NBS = isotope_df[isotope_df.name == 'NBS'].d34S_raw.std() # σ of NBS samples. Normalised n-1 by default.\n",
    "std_S3 = isotope_df[isotope_df.name == 'S3'].d34S_raw.std()\n",
    "\n",
    "av_err = (std_NBS + std_S3)/2\n",
    "\n",
    "isotope_df['d34S_err'] = av_err"
   ]
  },
  {
   "cell_type": "code",
   "execution_count": 9,
   "metadata": {},
   "outputs": [
    {
     "data": {
      "text/html": [
       "<div>\n",
       "<style scoped>\n",
       "    .dataframe tbody tr th:only-of-type {\n",
       "        vertical-align: middle;\n",
       "    }\n",
       "\n",
       "    .dataframe tbody tr th {\n",
       "        vertical-align: top;\n",
       "    }\n",
       "\n",
       "    .dataframe thead th {\n",
       "        text-align: right;\n",
       "    }\n",
       "</style>\n",
       "<table border=\"1\" class=\"dataframe\">\n",
       "  <thead>\n",
       "    <tr style=\"text-align: right;\">\n",
       "      <th></th>\n",
       "      <th>run_no</th>\n",
       "      <th>name</th>\n",
       "      <th>data_type</th>\n",
       "      <th>group</th>\n",
       "      <th>height</th>\n",
       "      <th>d34S_raw</th>\n",
       "      <th>NBS_itp</th>\n",
       "      <th>S3_itp</th>\n",
       "      <th>d34S_corrected</th>\n",
       "      <th>d34S_err</th>\n",
       "    </tr>\n",
       "  </thead>\n",
       "  <tbody>\n",
       "    <tr>\n",
       "      <th>0</th>\n",
       "      <td>1</td>\n",
       "      <td>NBS</td>\n",
       "      <td>standard</td>\n",
       "      <td>0</td>\n",
       "      <td>0</td>\n",
       "      <td>21.181</td>\n",
       "      <td>21.360171</td>\n",
       "      <td>-27.262079</td>\n",
       "      <td>20.105470</td>\n",
       "      <td>0.538145</td>\n",
       "    </tr>\n",
       "    <tr>\n",
       "      <th>1</th>\n",
       "      <td>2</td>\n",
       "      <td>NBS</td>\n",
       "      <td>standard</td>\n",
       "      <td>0</td>\n",
       "      <td>0</td>\n",
       "      <td>21.236</td>\n",
       "      <td>21.359370</td>\n",
       "      <td>-27.248069</td>\n",
       "      <td>20.166015</td>\n",
       "      <td>0.538145</td>\n",
       "    </tr>\n",
       "    <tr>\n",
       "      <th>2</th>\n",
       "      <td>3</td>\n",
       "      <td>NBS</td>\n",
       "      <td>standard</td>\n",
       "      <td>0</td>\n",
       "      <td>0</td>\n",
       "      <td>21.475</td>\n",
       "      <td>21.358568</td>\n",
       "      <td>-27.234059</td>\n",
       "      <td>20.426490</td>\n",
       "      <td>0.538145</td>\n",
       "    </tr>\n",
       "    <tr>\n",
       "      <th>3</th>\n",
       "      <td>4</td>\n",
       "      <td>NBS</td>\n",
       "      <td>standard</td>\n",
       "      <td>0</td>\n",
       "      <td>0</td>\n",
       "      <td>21.258</td>\n",
       "      <td>21.357766</td>\n",
       "      <td>-27.220050</td>\n",
       "      <td>20.191584</td>\n",
       "      <td>0.538145</td>\n",
       "    </tr>\n",
       "    <tr>\n",
       "      <th>4</th>\n",
       "      <td>5</td>\n",
       "      <td>NBS</td>\n",
       "      <td>standard</td>\n",
       "      <td>0</td>\n",
       "      <td>0</td>\n",
       "      <td>21.423</td>\n",
       "      <td>21.356964</td>\n",
       "      <td>-27.206040</td>\n",
       "      <td>20.371784</td>\n",
       "      <td>0.538145</td>\n",
       "    </tr>\n",
       "    <tr>\n",
       "      <th>5</th>\n",
       "      <td>6</td>\n",
       "      <td>NBS</td>\n",
       "      <td>standard</td>\n",
       "      <td>0</td>\n",
       "      <td>0</td>\n",
       "      <td>21.576</td>\n",
       "      <td>21.356162</td>\n",
       "      <td>-27.192030</td>\n",
       "      <td>20.539046</td>\n",
       "      <td>0.538145</td>\n",
       "    </tr>\n",
       "    <tr>\n",
       "      <th>6</th>\n",
       "      <td>8</td>\n",
       "      <td>S3</td>\n",
       "      <td>standard</td>\n",
       "      <td>0</td>\n",
       "      <td>0</td>\n",
       "      <td>-26.387</td>\n",
       "      <td>21.354558</td>\n",
       "      <td>-27.164010</td>\n",
       "      <td>-31.644584</td>\n",
       "      <td>0.538145</td>\n",
       "    </tr>\n",
       "    <tr>\n",
       "      <th>7</th>\n",
       "      <td>9</td>\n",
       "      <td>S3</td>\n",
       "      <td>standard</td>\n",
       "      <td>0</td>\n",
       "      <td>0</td>\n",
       "      <td>-27.226</td>\n",
       "      <td>21.353756</td>\n",
       "      <td>-27.150000</td>\n",
       "      <td>-32.572716</td>\n",
       "      <td>0.538145</td>\n",
       "    </tr>\n",
       "    <tr>\n",
       "      <th>8</th>\n",
       "      <td>10</td>\n",
       "      <td>S3</td>\n",
       "      <td>standard</td>\n",
       "      <td>0</td>\n",
       "      <td>0</td>\n",
       "      <td>-27.837</td>\n",
       "      <td>21.352954</td>\n",
       "      <td>-27.135990</td>\n",
       "      <td>-33.253191</td>\n",
       "      <td>0.538145</td>\n",
       "    </tr>\n",
       "    <tr>\n",
       "      <th>9</th>\n",
       "      <td>12</td>\n",
       "      <td>KC-2-0</td>\n",
       "      <td>normal</td>\n",
       "      <td>1</td>\n",
       "      <td>0</td>\n",
       "      <td>-15.482</td>\n",
       "      <td>21.351350</td>\n",
       "      <td>-27.107970</td>\n",
       "      <td>-19.825048</td>\n",
       "      <td>0.538145</td>\n",
       "    </tr>\n",
       "    <tr>\n",
       "      <th>10</th>\n",
       "      <td>13</td>\n",
       "      <td>KC-2-1</td>\n",
       "      <td>normal</td>\n",
       "      <td>1</td>\n",
       "      <td>0</td>\n",
       "      <td>-17.459</td>\n",
       "      <td>21.350548</td>\n",
       "      <td>-27.093960</td>\n",
       "      <td>-21.990780</td>\n",
       "      <td>0.538145</td>\n",
       "    </tr>\n",
       "    <tr>\n",
       "      <th>11</th>\n",
       "      <td>14</td>\n",
       "      <td>KC-2-2</td>\n",
       "      <td>normal</td>\n",
       "      <td>1</td>\n",
       "      <td>0</td>\n",
       "      <td>-12.231</td>\n",
       "      <td>21.349746</td>\n",
       "      <td>-27.079950</td>\n",
       "      <td>-16.304144</td>\n",
       "      <td>0.538145</td>\n",
       "    </tr>\n",
       "    <tr>\n",
       "      <th>12</th>\n",
       "      <td>16</td>\n",
       "      <td>KC-2-2.5</td>\n",
       "      <td>normal</td>\n",
       "      <td>1</td>\n",
       "      <td>0</td>\n",
       "      <td>-9.473</td>\n",
       "      <td>21.348143</td>\n",
       "      <td>-27.051931</td>\n",
       "      <td>-13.316646</td>\n",
       "      <td>0.538145</td>\n",
       "    </tr>\n",
       "    <tr>\n",
       "      <th>13</th>\n",
       "      <td>17</td>\n",
       "      <td>KC-2-3</td>\n",
       "      <td>normal</td>\n",
       "      <td>1</td>\n",
       "      <td>0</td>\n",
       "      <td>-11.809</td>\n",
       "      <td>21.347341</td>\n",
       "      <td>-27.037921</td>\n",
       "      <td>-15.874719</td>\n",
       "      <td>0.538145</td>\n",
       "    </tr>\n",
       "    <tr>\n",
       "      <th>14</th>\n",
       "      <td>18</td>\n",
       "      <td>KC-2-3.5</td>\n",
       "      <td>normal</td>\n",
       "      <td>1</td>\n",
       "      <td>0</td>\n",
       "      <td>-13.888</td>\n",
       "      <td>21.346539</td>\n",
       "      <td>-27.023911</td>\n",
       "      <td>-18.153877</td>\n",
       "      <td>0.538145</td>\n",
       "    </tr>\n",
       "    <tr>\n",
       "      <th>15</th>\n",
       "      <td>19</td>\n",
       "      <td>KC-2-4.5</td>\n",
       "      <td>normal</td>\n",
       "      <td>1</td>\n",
       "      <td>0</td>\n",
       "      <td>-14.582</td>\n",
       "      <td>21.345737</td>\n",
       "      <td>-27.009901</td>\n",
       "      <td>-18.922422</td>\n",
       "      <td>0.538145</td>\n",
       "    </tr>\n",
       "    <tr>\n",
       "      <th>16</th>\n",
       "      <td>20</td>\n",
       "      <td>KC-2-6</td>\n",
       "      <td>normal</td>\n",
       "      <td>1</td>\n",
       "      <td>0</td>\n",
       "      <td>-11.126</td>\n",
       "      <td>21.344935</td>\n",
       "      <td>-26.995891</td>\n",
       "      <td>-15.159482</td>\n",
       "      <td>0.538145</td>\n",
       "    </tr>\n",
       "    <tr>\n",
       "      <th>17</th>\n",
       "      <td>21</td>\n",
       "      <td>KC-2-6.5</td>\n",
       "      <td>normal</td>\n",
       "      <td>1</td>\n",
       "      <td>0</td>\n",
       "      <td>-16.104</td>\n",
       "      <td>21.344133</td>\n",
       "      <td>-26.981881</td>\n",
       "      <td>-20.607304</td>\n",
       "      <td>0.538145</td>\n",
       "    </tr>\n",
       "    <tr>\n",
       "      <th>18</th>\n",
       "      <td>22</td>\n",
       "      <td>KC-2-6p</td>\n",
       "      <td>duplicate</td>\n",
       "      <td>1</td>\n",
       "      <td>0</td>\n",
       "      <td>-10.531</td>\n",
       "      <td>21.343331</td>\n",
       "      <td>-26.967871</td>\n",
       "      <td>-14.529312</td>\n",
       "      <td>0.538145</td>\n",
       "    </tr>\n",
       "    <tr>\n",
       "      <th>19</th>\n",
       "      <td>23</td>\n",
       "      <td>KC-2-7</td>\n",
       "      <td>normal</td>\n",
       "      <td>1</td>\n",
       "      <td>0</td>\n",
       "      <td>-17.358</td>\n",
       "      <td>21.342529</td>\n",
       "      <td>-26.953861</td>\n",
       "      <td>-22.001317</td>\n",
       "      <td>0.538145</td>\n",
       "    </tr>\n",
       "  </tbody>\n",
       "</table>\n",
       "</div>"
      ],
      "text/plain": [
       "    run_no      name  data_type  group  height  d34S_raw    NBS_itp  \\\n",
       "0        1       NBS   standard      0       0    21.181  21.360171   \n",
       "1        2       NBS   standard      0       0    21.236  21.359370   \n",
       "2        3       NBS   standard      0       0    21.475  21.358568   \n",
       "3        4       NBS   standard      0       0    21.258  21.357766   \n",
       "4        5       NBS   standard      0       0    21.423  21.356964   \n",
       "5        6       NBS   standard      0       0    21.576  21.356162   \n",
       "6        8        S3   standard      0       0   -26.387  21.354558   \n",
       "7        9        S3   standard      0       0   -27.226  21.353756   \n",
       "8       10        S3   standard      0       0   -27.837  21.352954   \n",
       "9       12    KC-2-0     normal      1       0   -15.482  21.351350   \n",
       "10      13    KC-2-1     normal      1       0   -17.459  21.350548   \n",
       "11      14    KC-2-2     normal      1       0   -12.231  21.349746   \n",
       "12      16  KC-2-2.5     normal      1       0    -9.473  21.348143   \n",
       "13      17    KC-2-3     normal      1       0   -11.809  21.347341   \n",
       "14      18  KC-2-3.5     normal      1       0   -13.888  21.346539   \n",
       "15      19  KC-2-4.5     normal      1       0   -14.582  21.345737   \n",
       "16      20    KC-2-6     normal      1       0   -11.126  21.344935   \n",
       "17      21  KC-2-6.5     normal      1       0   -16.104  21.344133   \n",
       "18      22   KC-2-6p  duplicate      1       0   -10.531  21.343331   \n",
       "19      23    KC-2-7     normal      1       0   -17.358  21.342529   \n",
       "\n",
       "       S3_itp  d34S_corrected  d34S_err  \n",
       "0  -27.262079       20.105470  0.538145  \n",
       "1  -27.248069       20.166015  0.538145  \n",
       "2  -27.234059       20.426490  0.538145  \n",
       "3  -27.220050       20.191584  0.538145  \n",
       "4  -27.206040       20.371784  0.538145  \n",
       "5  -27.192030       20.539046  0.538145  \n",
       "6  -27.164010      -31.644584  0.538145  \n",
       "7  -27.150000      -32.572716  0.538145  \n",
       "8  -27.135990      -33.253191  0.538145  \n",
       "9  -27.107970      -19.825048  0.538145  \n",
       "10 -27.093960      -21.990780  0.538145  \n",
       "11 -27.079950      -16.304144  0.538145  \n",
       "12 -27.051931      -13.316646  0.538145  \n",
       "13 -27.037921      -15.874719  0.538145  \n",
       "14 -27.023911      -18.153877  0.538145  \n",
       "15 -27.009901      -18.922422  0.538145  \n",
       "16 -26.995891      -15.159482  0.538145  \n",
       "17 -26.981881      -20.607304  0.538145  \n",
       "18 -26.967871      -14.529312  0.538145  \n",
       "19 -26.953861      -22.001317  0.538145  "
      ]
     },
     "execution_count": 9,
     "metadata": {},
     "output_type": "execute_result"
    }
   ],
   "source": [
    "isotope_df.head(20)"
   ]
  },
  {
   "cell_type": "code",
   "execution_count": 30,
   "metadata": {},
   "outputs": [
    {
     "data": {
      "application/vnd.jupyter.widget-view+json": {
       "model_id": "4245328a0cf341eab419a35e077fe65b",
       "version_major": 2,
       "version_minor": 0
      },
      "text/plain": [
       "FigureWidget({\n",
       "    'data': [{'error_y': {'thickness': 1.5, 'type': 'constant', 'value': 0.5381447352028924},\n",
       " …"
      ]
     },
     "metadata": {},
     "output_type": "display_data"
    }
   ],
   "source": [
    "errorbar = dict(type='constant', value=av_err, thickness=1.5)\n",
    "\n",
    "\n",
    "std_plot = go.FigureWidget();\n",
    "\n",
    "for standard, colour in zip(standards, ['RoyalBlue', 'green']):\n",
    "    std_df = isotope_df[isotope_df.name==standard]\n",
    "    std_plot.add_trace(go.Scatter(error_y = errorbar,\n",
    "                                  name=standard, marker_color=colour))\n",
    "\n",
    "    std_plot.add_trace(go.Scatter(name=standard+' (average)',\n",
    "                                  marker_color=colour, marker_symbol='square',\n",
    "                                  opacity=0.5))\n",
    "\n",
    "    std_plot.add_hline(true_std[standard], line_width=2, line_color=colour, line_dash='dash')\n",
    "\n",
    "std_plot.update_layout(xaxis_title = 'Run number',\n",
    "                       xaxis_rangemode = 'tozero',\n",
    "                       yaxis_title = 'δ<sup>34</sup>S (‰)',\n",
    "                       width=900, height=500)   \n",
    "\n",
    "std_plot.add_trace(go.Scatter(error_y = errorbar,\n",
    "                              name='Samples', marker_color='GoldenRod',\n",
    "                              mode='markers+lines'))\n",
    "\n",
    "\n",
    "# std_plot.show(config=graph_config)"
   ]
  },
  {
   "cell_type": "code",
   "execution_count": 31,
   "metadata": {},
   "outputs": [
    {
     "data": {
      "application/vnd.jupyter.widget-view+json": {
       "model_id": "dec6927cefda4bbb9ba255b7065ae3d8",
       "version_major": 2,
       "version_minor": 0
      },
      "text/plain": [
       "interactive(children=(Checkbox(value=False, description='corrected'), Output()), _dom_classes=('widget-interac…"
      ]
     },
     "metadata": {},
     "output_type": "display_data"
    },
    {
     "data": {
      "application/vnd.jupyter.widget-view+json": {
       "model_id": "4245328a0cf341eab419a35e077fe65b",
       "version_major": 2,
       "version_minor": 0
      },
      "text/plain": [
       "FigureWidget({\n",
       "    'data': [{'error_y': {'thickness': 1.5, 'type': 'constant', 'value': 0.5381447352028924},\n",
       " …"
      ]
     },
     "metadata": {},
     "output_type": "display_data"
    }
   ],
   "source": [
    "@wdg.interact(corrected = False)\n",
    "def update_std_plot(corrected):\n",
    "    if corrected:\n",
    "        plot_col = 'd34S_corrected'\n",
    "    else:\n",
    "        plot_col = 'd34S_raw'\n",
    "    \n",
    "    # Set standards x and y\n",
    "    for standard, colour in zip(standards, ['RoyalBlue', 'green']):\n",
    "        std_df = isotope_df[isotope_df.name==standard]\n",
    "        std_points = sel_trace(std_plot, standard)\n",
    "        std_points.x = std_df.run_no\n",
    "        std_points.y = std_df[plot_col]\n",
    "        \n",
    "        # Set standard averages x and y\n",
    "        avg_points = sel_trace(std_plot, standard+' (average)')\n",
    "        x=cal_points[standard]['avg_run']\n",
    "        y=cal_points[standard][plot_col]        \n",
    "    \n",
    "    \n",
    "    # Set samples x and y\n",
    "    sample_isotopes=isotope_df[isotope_df.data_type.isin(['normal', 'duplicate', 'repeat'])]\n",
    "    samples_points = sel_trace(std_plot, 'Samples')\n",
    "    samples_points.x = sample_isotopes['run_no']\n",
    "    samples_points.y = sample_isotopes[plot_col]\n",
    "    \n",
    "std_plot"
   ]
  },
  {
   "cell_type": "code",
   "execution_count": 41,
   "metadata": {},
   "outputs": [
    {
     "data": {
      "text/html": [
       "<div>\n",
       "<style scoped>\n",
       "    .dataframe tbody tr th:only-of-type {\n",
       "        vertical-align: middle;\n",
       "    }\n",
       "\n",
       "    .dataframe tbody tr th {\n",
       "        vertical-align: top;\n",
       "    }\n",
       "\n",
       "    .dataframe thead th {\n",
       "        text-align: right;\n",
       "    }\n",
       "</style>\n",
       "<table border=\"1\" class=\"dataframe\">\n",
       "  <thead>\n",
       "    <tr style=\"text-align: right;\">\n",
       "      <th></th>\n",
       "      <th>d34S</th>\n",
       "      <th>d34S_err</th>\n",
       "    </tr>\n",
       "    <tr>\n",
       "      <th>name</th>\n",
       "      <th></th>\n",
       "      <th></th>\n",
       "    </tr>\n",
       "  </thead>\n",
       "  <tbody>\n",
       "    <tr>\n",
       "      <th>KC-2-0</th>\n",
       "      <td>-19.825048</td>\n",
       "      <td>0.538145</td>\n",
       "    </tr>\n",
       "    <tr>\n",
       "      <th>KC-2-1</th>\n",
       "      <td>-21.990780</td>\n",
       "      <td>0.538145</td>\n",
       "    </tr>\n",
       "    <tr>\n",
       "      <th>KC-2-10</th>\n",
       "      <td>-9.997303</td>\n",
       "      <td>0.538145</td>\n",
       "    </tr>\n",
       "    <tr>\n",
       "      <th>KC-2-11</th>\n",
       "      <td>-18.898315</td>\n",
       "      <td>0.538145</td>\n",
       "    </tr>\n",
       "    <tr>\n",
       "      <th>KC-2-12</th>\n",
       "      <td>-5.549121</td>\n",
       "      <td>0.538145</td>\n",
       "    </tr>\n",
       "    <tr>\n",
       "      <th>KC-2-13</th>\n",
       "      <td>-16.232995</td>\n",
       "      <td>0.538145</td>\n",
       "    </tr>\n",
       "    <tr>\n",
       "      <th>KC-2-14</th>\n",
       "      <td>-18.611586</td>\n",
       "      <td>0.538145</td>\n",
       "    </tr>\n",
       "    <tr>\n",
       "      <th>KC-2-14.5</th>\n",
       "      <td>-14.053474</td>\n",
       "      <td>0.538145</td>\n",
       "    </tr>\n",
       "    <tr>\n",
       "      <th>KC-2-15</th>\n",
       "      <td>-20.798288</td>\n",
       "      <td>0.538145</td>\n",
       "    </tr>\n",
       "    <tr>\n",
       "      <th>KC-2-15.5</th>\n",
       "      <td>-20.883989</td>\n",
       "      <td>0.538145</td>\n",
       "    </tr>\n",
       "    <tr>\n",
       "      <th>KC-2-16</th>\n",
       "      <td>-21.448270</td>\n",
       "      <td>0.538145</td>\n",
       "    </tr>\n",
       "    <tr>\n",
       "      <th>KC-2-17</th>\n",
       "      <td>-20.793217</td>\n",
       "      <td>0.538145</td>\n",
       "    </tr>\n",
       "    <tr>\n",
       "      <th>KC-2-18</th>\n",
       "      <td>-24.376891</td>\n",
       "      <td>0.538145</td>\n",
       "    </tr>\n",
       "    <tr>\n",
       "      <th>KC-2-19</th>\n",
       "      <td>-19.450279</td>\n",
       "      <td>0.538145</td>\n",
       "    </tr>\n",
       "    <tr>\n",
       "      <th>KC-2-2</th>\n",
       "      <td>-16.036599</td>\n",
       "      <td>0.538145</td>\n",
       "    </tr>\n",
       "    <tr>\n",
       "      <th>KC-2-2.5</th>\n",
       "      <td>-13.280367</td>\n",
       "      <td>0.538145</td>\n",
       "    </tr>\n",
       "    <tr>\n",
       "      <th>KC-2-20</th>\n",
       "      <td>-20.733908</td>\n",
       "      <td>0.538145</td>\n",
       "    </tr>\n",
       "    <tr>\n",
       "      <th>KC-2-21</th>\n",
       "      <td>-19.215637</td>\n",
       "      <td>0.538145</td>\n",
       "    </tr>\n",
       "    <tr>\n",
       "      <th>KC-2-21.5</th>\n",
       "      <td>-20.317277</td>\n",
       "      <td>0.538145</td>\n",
       "    </tr>\n",
       "    <tr>\n",
       "      <th>KC-2-22</th>\n",
       "      <td>-15.416586</td>\n",
       "      <td>0.538145</td>\n",
       "    </tr>\n",
       "    <tr>\n",
       "      <th>KC-2-22p</th>\n",
       "      <td>-7.371646</td>\n",
       "      <td>0.538145</td>\n",
       "    </tr>\n",
       "    <tr>\n",
       "      <th>KC-2-23</th>\n",
       "      <td>-22.026923</td>\n",
       "      <td>0.538145</td>\n",
       "    </tr>\n",
       "    <tr>\n",
       "      <th>KC-2-24</th>\n",
       "      <td>-22.786063</td>\n",
       "      <td>0.538145</td>\n",
       "    </tr>\n",
       "    <tr>\n",
       "      <th>KC-2-25</th>\n",
       "      <td>-21.613045</td>\n",
       "      <td>0.538145</td>\n",
       "    </tr>\n",
       "    <tr>\n",
       "      <th>KC-2-25.5</th>\n",
       "      <td>-21.540159</td>\n",
       "      <td>0.538145</td>\n",
       "    </tr>\n",
       "    <tr>\n",
       "      <th>KC-2-26</th>\n",
       "      <td>-19.228611</td>\n",
       "      <td>0.538145</td>\n",
       "    </tr>\n",
       "    <tr>\n",
       "      <th>KC-2-26.5</th>\n",
       "      <td>-25.027156</td>\n",
       "      <td>0.538145</td>\n",
       "    </tr>\n",
       "    <tr>\n",
       "      <th>KC-2-27</th>\n",
       "      <td>-22.078980</td>\n",
       "      <td>0.538145</td>\n",
       "    </tr>\n",
       "    <tr>\n",
       "      <th>KC-2-28</th>\n",
       "      <td>-21.140052</td>\n",
       "      <td>0.538145</td>\n",
       "    </tr>\n",
       "    <tr>\n",
       "      <th>KC-2-29</th>\n",
       "      <td>-15.669731</td>\n",
       "      <td>0.538145</td>\n",
       "    </tr>\n",
       "    <tr>\n",
       "      <th>KC-2-3</th>\n",
       "      <td>-15.874719</td>\n",
       "      <td>0.538145</td>\n",
       "    </tr>\n",
       "    <tr>\n",
       "      <th>KC-2-3.5</th>\n",
       "      <td>-18.153877</td>\n",
       "      <td>0.538145</td>\n",
       "    </tr>\n",
       "    <tr>\n",
       "      <th>KC-2-4.5</th>\n",
       "      <td>-18.922422</td>\n",
       "      <td>0.538145</td>\n",
       "    </tr>\n",
       "    <tr>\n",
       "      <th>KC-2-5</th>\n",
       "      <td>-20.316562</td>\n",
       "      <td>0.538145</td>\n",
       "    </tr>\n",
       "    <tr>\n",
       "      <th>KC-2-6</th>\n",
       "      <td>-15.159482</td>\n",
       "      <td>0.538145</td>\n",
       "    </tr>\n",
       "    <tr>\n",
       "      <th>KC-2-6.5</th>\n",
       "      <td>-20.607304</td>\n",
       "      <td>0.538145</td>\n",
       "    </tr>\n",
       "    <tr>\n",
       "      <th>KC-2-6p</th>\n",
       "      <td>-14.529312</td>\n",
       "      <td>0.538145</td>\n",
       "    </tr>\n",
       "    <tr>\n",
       "      <th>KC-2-7</th>\n",
       "      <td>-22.001317</td>\n",
       "      <td>0.538145</td>\n",
       "    </tr>\n",
       "    <tr>\n",
       "      <th>KC-2-8</th>\n",
       "      <td>-11.360527</td>\n",
       "      <td>0.538145</td>\n",
       "    </tr>\n",
       "    <tr>\n",
       "      <th>KC-2-9</th>\n",
       "      <td>-19.882941</td>\n",
       "      <td>0.538145</td>\n",
       "    </tr>\n",
       "    <tr>\n",
       "      <th>KC-2-9p</th>\n",
       "      <td>-20.698525</td>\n",
       "      <td>0.538145</td>\n",
       "    </tr>\n",
       "    <tr>\n",
       "      <th>KC-3-A</th>\n",
       "      <td>-14.519869</td>\n",
       "      <td>0.538145</td>\n",
       "    </tr>\n",
       "    <tr>\n",
       "      <th>KC-3-B</th>\n",
       "      <td>-12.955881</td>\n",
       "      <td>0.538145</td>\n",
       "    </tr>\n",
       "    <tr>\n",
       "      <th>KC-3-C</th>\n",
       "      <td>-8.239622</td>\n",
       "      <td>0.538145</td>\n",
       "    </tr>\n",
       "    <tr>\n",
       "      <th>KC-3-D</th>\n",
       "      <td>-9.672048</td>\n",
       "      <td>0.538145</td>\n",
       "    </tr>\n",
       "    <tr>\n",
       "      <th>KC-3-E</th>\n",
       "      <td>-16.496822</td>\n",
       "      <td>0.538145</td>\n",
       "    </tr>\n",
       "    <tr>\n",
       "      <th>KC-3-F</th>\n",
       "      <td>-13.298644</td>\n",
       "      <td>0.538145</td>\n",
       "    </tr>\n",
       "    <tr>\n",
       "      <th>KC-3-H</th>\n",
       "      <td>-17.459577</td>\n",
       "      <td>0.538145</td>\n",
       "    </tr>\n",
       "    <tr>\n",
       "      <th>KC-3-I</th>\n",
       "      <td>-20.624025</td>\n",
       "      <td>0.538145</td>\n",
       "    </tr>\n",
       "    <tr>\n",
       "      <th>KC-3-J</th>\n",
       "      <td>-9.828125</td>\n",
       "      <td>0.538145</td>\n",
       "    </tr>\n",
       "    <tr>\n",
       "      <th>KC-3-K</th>\n",
       "      <td>-16.997691</td>\n",
       "      <td>0.538145</td>\n",
       "    </tr>\n",
       "    <tr>\n",
       "      <th>KC-3G</th>\n",
       "      <td>-9.128473</td>\n",
       "      <td>0.538145</td>\n",
       "    </tr>\n",
       "  </tbody>\n",
       "</table>\n",
       "</div>"
      ],
      "text/plain": [
       "                d34S  d34S_err\n",
       "name                          \n",
       "KC-2-0    -19.825048  0.538145\n",
       "KC-2-1    -21.990780  0.538145\n",
       "KC-2-10    -9.997303  0.538145\n",
       "KC-2-11   -18.898315  0.538145\n",
       "KC-2-12    -5.549121  0.538145\n",
       "KC-2-13   -16.232995  0.538145\n",
       "KC-2-14   -18.611586  0.538145\n",
       "KC-2-14.5 -14.053474  0.538145\n",
       "KC-2-15   -20.798288  0.538145\n",
       "KC-2-15.5 -20.883989  0.538145\n",
       "KC-2-16   -21.448270  0.538145\n",
       "KC-2-17   -20.793217  0.538145\n",
       "KC-2-18   -24.376891  0.538145\n",
       "KC-2-19   -19.450279  0.538145\n",
       "KC-2-2    -16.036599  0.538145\n",
       "KC-2-2.5  -13.280367  0.538145\n",
       "KC-2-20   -20.733908  0.538145\n",
       "KC-2-21   -19.215637  0.538145\n",
       "KC-2-21.5 -20.317277  0.538145\n",
       "KC-2-22   -15.416586  0.538145\n",
       "KC-2-22p   -7.371646  0.538145\n",
       "KC-2-23   -22.026923  0.538145\n",
       "KC-2-24   -22.786063  0.538145\n",
       "KC-2-25   -21.613045  0.538145\n",
       "KC-2-25.5 -21.540159  0.538145\n",
       "KC-2-26   -19.228611  0.538145\n",
       "KC-2-26.5 -25.027156  0.538145\n",
       "KC-2-27   -22.078980  0.538145\n",
       "KC-2-28   -21.140052  0.538145\n",
       "KC-2-29   -15.669731  0.538145\n",
       "KC-2-3    -15.874719  0.538145\n",
       "KC-2-3.5  -18.153877  0.538145\n",
       "KC-2-4.5  -18.922422  0.538145\n",
       "KC-2-5    -20.316562  0.538145\n",
       "KC-2-6    -15.159482  0.538145\n",
       "KC-2-6.5  -20.607304  0.538145\n",
       "KC-2-6p   -14.529312  0.538145\n",
       "KC-2-7    -22.001317  0.538145\n",
       "KC-2-8    -11.360527  0.538145\n",
       "KC-2-9    -19.882941  0.538145\n",
       "KC-2-9p   -20.698525  0.538145\n",
       "KC-3-A    -14.519869  0.538145\n",
       "KC-3-B    -12.955881  0.538145\n",
       "KC-3-C     -8.239622  0.538145\n",
       "KC-3-D     -9.672048  0.538145\n",
       "KC-3-E    -16.496822  0.538145\n",
       "KC-3-F    -13.298644  0.538145\n",
       "KC-3-H    -17.459577  0.538145\n",
       "KC-3-I    -20.624025  0.538145\n",
       "KC-3-J     -9.828125  0.538145\n",
       "KC-3-K    -16.997691  0.538145\n",
       "KC-3G      -9.128473  0.538145"
      ]
     },
     "execution_count": 41,
     "metadata": {},
     "output_type": "execute_result"
    }
   ],
   "source": [
    "# Remove standards, remove unnecessary columns and average repeats of same sample\n",
    "S_corrected = isotope_df[isotope_df.data_type != 'standard'].loc[:,['name', 'd34S_corrected', 'd34S_err']].rename(columns={'d34S_corrected': 'd34S'}).groupby(['name']).mean()\n",
    "S_corrected"
   ]
  },
  {
   "cell_type": "code",
   "execution_count": 42,
   "metadata": {},
   "outputs": [],
   "source": [
    "S_corrected.to_csv('Data/S_isotopes_processed_v2.csv')"
   ]
  },
  {
   "cell_type": "code",
   "execution_count": null,
   "metadata": {},
   "outputs": [],
   "source": []
  }
 ],
 "metadata": {
  "kernelspec": {
   "display_name": "Python 3",
   "language": "python",
   "name": "python3"
  },
  "language_info": {
   "codemirror_mode": {
    "name": "ipython",
    "version": 3
   },
   "file_extension": ".py",
   "mimetype": "text/x-python",
   "name": "python",
   "nbconvert_exporter": "python",
   "pygments_lexer": "ipython3",
   "version": "3.9.1"
  },
  "toc-showcode": true,
  "toc-showmarkdowntxt": false,
  "toc-showtags": false,
  "widgets": {
   "application/vnd.jupyter.widget-state+json": {
    "state": {
     "02ee20e9ab934beca3ef711d0502541a": {
      "buffers": [
       {
        "data": "dZMYBFYuNUAj2/l+ajw1QJqZmZmZeTVANV66SQxCNUA/NV66SWw1QPp+arx0kzVAcT0K16MQNUA730+Nl241QAIrhxbZjjVAMQisHFpENUD0/dR46SY1QCPb+X5qHDVAZmZmZmaGNUAdWmQ73y81QLbz/dR46TVARIts5/sJNkCamZmZmdk1QG8Sg8DKATZA001iEFgZNkDn+6nx0g02QHNoke18HzZAuB6F61EYNkBt5/up8RI2QKwcWmQ7PzZA",
        "encoding": "base64",
        "path": [
         "_data",
         0,
         "y",
         "value"
        ]
       },
       {
        "data": "UI2XbhJjOsBg5dAi2zk7wIPAyqFF1jvAbef7qfFyOsBQjZduEgM7wG3n+6nxkjrAsHJoke08O8B7FK5H4Xo6wJhuEoPA6jvAsHJoke18OcBKDAIrh3Y6wFYOLbKdzznAkxgEVg6tOsDByqFFtpM6wA==",
        "encoding": "base64",
        "path": [
         "_data",
         2,
         "y",
         "value"
        ]
       },
       {
        "data": "EFg5tMj2LsAv3SQGgXUxwIPAyqFFdijAGQRWDi3yIsCR7Xw/NZ4nwC2yne+nxivARIts5/spLcCNl24Sg0AmwLTIdr6fGjDAHVpkO98PJcDP91PjpVsxwLx0kxgE1h3APzVeuknMLsD8qfHSTSIwwOF6FK5HYRnA/tR46SYxAsA/NV66SQwowKwcWmQ7XyzA1XjpJjEIJMB3vp8aLz0wwAisHFpkuzDAObTIdr4fMMC8dJMYBFYzwClcj8L1CDDA30+Nl27SLMAEVg4tsl0vwBBYObTIdibA9ihcj8L1McBI4XoUrucwwKjGSzeJ4TDAarx0kxiELcAdWmQ73w80wL6fGi/dpDHAXrpJDAKLMMCsHFpkOx8nwNV46SYxCCbARrbz/dT4IsDTTWIQWDkTwBsv3SQGgRjANV66SQzCKMBOYhBYOfQiwH9qvHSTmCrAfT81XrpJGcAOLbKd76chwDvfT42Xbi7ATmIQWDm0H8AK16NwPQojwNv5fmq8dCXAObTIdr7fLcCq8dJNYlArwD81XrpJzC7Ad76fGi9dLMBeukkMAoswwLgehetRWDDAL90kBoGVCMAzMzMzMzMTwCcxCKwc2i/A3SQGgZUDKMD4U+OlmyQwwNV46SYxiCLAVg4tsp1vJsBiEFg5tMgKwC2yne+nhi3A",
        "encoding": "base64",
        "path": [
         "_data",
         4,
         "y",
         "value"
        ]
       }
      ],
      "model_module": "jupyterlab-plotly",
      "model_module_version": "^5.1.0",
      "model_name": "FigureModel",
      "state": {
       "_config": {
        "plotlyServerURL": "https://plot.ly"
       },
       "_data": [
        {
         "error_y": {
          "thickness": 1.5,
          "type": "constant",
          "value": 0.5381447352028924
         },
         "marker": {
          "color": "RoyalBlue"
         },
         "name": "NBS",
         "type": "scatter",
         "uid": "b6a995e5-a2ab-4abc-979f-790451fd70f8",
         "x": [
          1,
          2,
          3,
          4,
          5,
          6,
          36,
          37,
          39,
          40,
          76,
          77,
          78,
          79,
          80,
          81,
          82,
          83,
          84,
          85,
          104,
          105,
          106,
          107
         ],
         "y": {
          "dtype": "float64",
          "shape": [
           24
          ]
         }
        },
        {
         "marker": {
          "color": "RoyalBlue",
          "symbol": "square"
         },
         "name": "NBS (average)",
         "opacity": 0.5,
         "type": "scatter",
         "uid": "c6f27df8-2e4a-463f-bd87-76a58214180a",
         "x": [
          3.5,
          38,
          77.5,
          82.5,
          105.5
         ],
         "y": [
          21.358166666666666,
          21.3305,
          21.243750000000002,
          21.9935,
          22.13475
         ]
        },
        {
         "error_y": {
          "thickness": 1.5,
          "type": "constant",
          "value": 0.5381447352028924
         },
         "marker": {
          "color": "green"
         },
         "name": "S3",
         "type": "scatter",
         "uid": "4fbbda30-46c8-4846-9d3e-4eb4f8d79e69",
         "x": [
          8,
          9,
          10,
          41,
          43,
          44,
          73,
          74,
          75,
          86,
          87,
          108,
          109,
          110
         ],
         "y": {
          "dtype": "float64",
          "shape": [
           14
          ]
         }
        },
        {
         "marker": {
          "color": "green",
          "symbol": "square"
         },
         "name": "S3 (average)",
         "opacity": 0.5,
         "type": "scatter",
         "uid": "7bcfe362-52f6-4dae-83ec-f37a98f4f7ab",
         "x": [
          9,
          42.666666666666664,
          74,
          86.5,
          109
         ],
         "y": [
          -27.150000000000002,
          -26.67833333333333,
          -27.21166666666667,
          -25.9755,
          -26.354666666666663
         ]
        },
        {
         "error_y": {
          "thickness": 1.5,
          "type": "constant",
          "value": 0.5381447352028924
         },
         "marker": {
          "color": "GoldenRod"
         },
         "mode": "markers+lines",
         "name": "Samples",
         "type": "scatter",
         "uid": "38948bf8-7f2b-43dd-b386-28ccd7f828ed",
         "x": [
          12,
          13,
          14,
          16,
          17,
          18,
          19,
          20,
          21,
          22,
          23,
          24,
          25,
          26,
          27,
          28,
          29,
          30,
          31,
          32,
          34,
          35,
          45,
          46,
          47,
          48,
          49,
          50,
          51,
          52,
          53,
          54,
          55,
          56,
          57,
          58,
          59,
          60,
          61,
          62,
          64,
          65,
          66,
          68,
          69,
          70,
          72,
          88,
          89,
          90,
          91,
          92,
          93,
          94,
          95,
          96,
          97,
          98,
          99,
          100,
          101,
          102,
          103
         ],
         "y": {
          "dtype": "float64",
          "shape": [
           63
          ]
         }
        }
       ],
       "_js2py_relayout": {},
       "_js2py_restyle": {},
       "_js2py_update": {},
       "_last_layout_edit_id": 18,
       "_last_trace_edit_id": 14,
       "_layout": {
        "shapes": [
         {
          "line": {
           "color": "RoyalBlue",
           "dash": "dash",
           "width": 2
          },
          "type": "line",
          "x0": 0,
          "x1": 1,
          "xref": "x domain",
          "y0": 20.3,
          "y1": 20.3,
          "yref": "y"
         },
         {
          "line": {
           "color": "green",
           "dash": "dash",
           "width": 2
          },
          "type": "line",
          "x0": 0,
          "x1": 1,
          "xref": "x domain",
          "y0": -32.49,
          "y1": -32.49,
          "yref": "y"
         }
        ],
        "template": {
         "layout": {
          "bargap": 0.05,
          "bargroupgap": 0,
          "font": {
           "color": "black",
           "family": "Arial",
           "size": 16
          },
          "height": 700,
          "hovermode": "closest",
          "margin": {
           "b": 60,
           "l": 60,
           "r": 30,
           "t": 30
          },
          "scene": {
           "xaxis": {
            "color": "black",
            "linewidth": 2,
            "showline": true,
            "ticks": "outside"
           },
           "yaxis": {
            "color": "black",
            "linewidth": 2,
            "showline": true,
            "ticks": "outside"
           },
           "zaxis": {
            "color": "black",
            "linewidth": 2,
            "showline": true,
            "ticks": "outside"
           }
          },
          "xaxis": {
           "color": "black",
           "linewidth": 1.3,
           "mirror": true,
           "showgrid": true,
           "showline": true,
           "ticks": "outside",
           "zeroline": true
          },
          "yaxis": {
           "color": "black",
           "linewidth": 1.3,
           "mirror": true,
           "showgrid": true,
           "showline": true,
           "ticks": "outside",
           "zeroline": true
          }
         }
        },
        "xaxis": {
         "rangemode": "tozero",
         "title": {
          "text": "Run number"
         }
        },
        "yaxis": {
         "title": {
          "text": "δ<sup>34</sup>S / ‰"
         }
        }
       },
       "_py2js_animate": {},
       "_py2js_deleteTraces": {},
       "_py2js_moveTraces": {},
       "_py2js_removeLayoutProps": {},
       "_py2js_removeTraceProps": {},
       "_view_count": 0
      }
     },
     "05039947430a44189a6a36cec665cf1c": {
      "model_module": "@jupyter-widgets/base",
      "model_module_version": "1.2.0",
      "model_name": "LayoutModel",
      "state": {}
     },
     "066e80bbc2ff4ecd9565165520889a63": {
      "model_module": "@jupyter-widgets/controls",
      "model_module_version": "1.5.0",
      "model_name": "CheckboxModel",
      "state": {
       "description": "corrected",
       "disabled": false,
       "layout": "IPY_MODEL_70631dd1601e4486a5d31cd914e12f2c",
       "style": "IPY_MODEL_228c7ac656cc4187aad82aa779f53ec4",
       "value": true
      }
     },
     "09df305572734d38865162a134112fc5": {
      "model_module": "@jupyter-widgets/controls",
      "model_module_version": "1.5.0",
      "model_name": "CheckboxModel",
      "state": {
       "description": "corrected",
       "disabled": false,
       "layout": "IPY_MODEL_c8950301a6504894a1d97f2e3f572aca",
       "style": "IPY_MODEL_e548d0795b0e4a15812bbc74bdc589be",
       "value": false
      }
     },
     "0b1f7abb380847319c94911c453d18f9": {
      "model_module": "@jupyter-widgets/base",
      "model_module_version": "1.2.0",
      "model_name": "LayoutModel",
      "state": {}
     },
     "1125e494d8fd4b82b8af0e9e3f58acce": {
      "model_module": "@jupyter-widgets/controls",
      "model_module_version": "1.5.0",
      "model_name": "VBoxModel",
      "state": {
       "_dom_classes": [
        "widget-interact"
       ],
       "children": [
        "IPY_MODEL_066e80bbc2ff4ecd9565165520889a63",
        "IPY_MODEL_d65dab9beb61482b9d561b20761c75c0"
       ],
       "layout": "IPY_MODEL_22b23a083dc84c9385be432f35b764dc"
      }
     },
     "12787bff6df542e7846109823cd0ee9d": {
      "model_module": "@jupyter-widgets/base",
      "model_module_version": "1.2.0",
      "model_name": "LayoutModel",
      "state": {}
     },
     "12eddf42573249df903436eae55dd14e": {
      "model_module": "@jupyter-widgets/base",
      "model_module_version": "1.2.0",
      "model_name": "LayoutModel",
      "state": {}
     },
     "13004c5e900b4bc8b4c1a15c15c8c4d9": {
      "model_module": "@jupyter-widgets/controls",
      "model_module_version": "1.5.0",
      "model_name": "CheckboxModel",
      "state": {
       "description": "corrected",
       "disabled": false,
       "layout": "IPY_MODEL_52a2b60d71b145799f8cb1227bad5249",
       "style": "IPY_MODEL_5f3f5ac85ebc4546b82b214ea8513467",
       "value": false
      }
     },
     "1422fa99768545e28ef4cd88d8ce1d0b": {
      "model_module": "jupyterlab-plotly",
      "model_module_version": "^5.1.0",
      "model_name": "FigureModel",
      "state": {
       "_config": {
        "plotlyServerURL": "https://plot.ly"
       },
       "_data": [
        {
         "error_y": {
          "thickness": 1.5,
          "type": "constant",
          "value": 0.5381447352028924
         },
         "marker": {
          "color": "RoyalBlue"
         },
         "name": "NBS",
         "type": "scatter",
         "uid": "49109ad2-b735-4cc7-aac9-b435576f0776"
        },
        {
         "marker": {
          "color": "RoyalBlue",
          "symbol": "square"
         },
         "name": "NBS (average)",
         "opacity": 0.5,
         "type": "scatter",
         "uid": "8a0d0580-7588-40a0-b163-337bd3661a6a"
        },
        {
         "error_y": {
          "thickness": 1.5,
          "type": "constant",
          "value": 0.5381447352028924
         },
         "marker": {
          "color": "green"
         },
         "name": "S3",
         "type": "scatter",
         "uid": "49cf39e3-b185-4bf9-9f21-d645b8417724"
        },
        {
         "marker": {
          "color": "green",
          "symbol": "square"
         },
         "name": "S3 (average)",
         "opacity": 0.5,
         "type": "scatter",
         "uid": "c5eab6f9-d2a8-4839-baf3-726053795827"
        },
        {
         "error_y": {
          "thickness": 1.5,
          "type": "constant",
          "value": 0.5381447352028924
         },
         "marker": {
          "color": "GoldenRod"
         },
         "mode": "markers+lines",
         "name": "Samples",
         "type": "scatter",
         "uid": "71558b19-9181-47fa-aba7-3aadfbb3da41"
        }
       ],
       "_js2py_pointsCallback": {},
       "_js2py_relayout": {},
       "_js2py_restyle": {},
       "_js2py_update": {},
       "_last_layout_edit_id": 12,
       "_last_trace_edit_id": 8,
       "_layout": {
        "shapes": [
         {
          "line": {
           "color": "RoyalBlue",
           "dash": "dash",
           "width": 2
          },
          "type": "line",
          "x0": 0,
          "x1": 1,
          "xref": "x domain",
          "y0": 20.3,
          "y1": 20.3,
          "yref": "y"
         },
         {
          "line": {
           "color": "green",
           "dash": "dash",
           "width": 2
          },
          "type": "line",
          "x0": 0,
          "x1": 1,
          "xref": "x domain",
          "y0": -32.49,
          "y1": -32.49,
          "yref": "y"
         }
        ],
        "template": {
         "layout": {
          "bargap": 0.05,
          "bargroupgap": 0,
          "font": {
           "color": "black",
           "family": "Arial",
           "size": 16
          },
          "height": 700,
          "hovermode": "closest",
          "margin": {
           "b": 60,
           "l": 60,
           "r": 30,
           "t": 30
          },
          "scene": {
           "xaxis": {
            "color": "black",
            "linewidth": 2,
            "showline": true,
            "ticks": "outside"
           },
           "yaxis": {
            "color": "black",
            "linewidth": 2,
            "showline": true,
            "ticks": "outside"
           },
           "zaxis": {
            "color": "black",
            "linewidth": 2,
            "showline": true,
            "ticks": "outside"
           }
          },
          "xaxis": {
           "color": "black",
           "linewidth": 1.3,
           "mirror": true,
           "showgrid": true,
           "showline": true,
           "ticks": "outside",
           "zeroline": true
          },
          "yaxis": {
           "color": "black",
           "linewidth": 1.3,
           "mirror": true,
           "showgrid": true,
           "showline": true,
           "ticks": "outside",
           "zeroline": true
          }
         }
        },
        "xaxis": {
         "rangemode": "tozero",
         "title": {
          "text": "Run number"
         }
        },
        "yaxis": {
         "title": {
          "text": "δ<sup>34</sup>S (‰)"
         }
        }
       },
       "_py2js_animate": {},
       "_py2js_deleteTraces": {},
       "_py2js_moveTraces": {},
       "_py2js_removeLayoutProps": {},
       "_py2js_removeTraceProps": {},
       "_py2js_restyle": {},
       "_view_count": 0
      }
     },
     "16d9b1868720462ebf80355e3cea203d": {
      "model_module": "@jupyter-widgets/base",
      "model_module_version": "1.2.0",
      "model_name": "LayoutModel",
      "state": {}
     },
     "170a202b6deb4d19834c7cbb40c283d9": {
      "model_module": "@jupyter-widgets/controls",
      "model_module_version": "1.5.0",
      "model_name": "VBoxModel",
      "state": {
       "_dom_classes": [
        "widget-interact"
       ],
       "children": [
        "IPY_MODEL_09df305572734d38865162a134112fc5",
        "IPY_MODEL_bec8b92819ab4196a439f4ff716cd9c2"
       ],
       "layout": "IPY_MODEL_12eddf42573249df903436eae55dd14e"
      }
     },
     "194f97a270674c758c99ce9e19c2d189": {
      "model_module": "@jupyter-widgets/controls",
      "model_module_version": "1.5.0",
      "model_name": "VBoxModel",
      "state": {
       "_dom_classes": [
        "widget-interact"
       ],
       "children": [
        "IPY_MODEL_bcfc90965d534f41a0508bd1201573e0",
        "IPY_MODEL_24e3b1e09fcc445f9ebff7b56c81a08c"
       ],
       "layout": "IPY_MODEL_33d447dc06fd4e409b3ad11b562a0e3d"
      }
     },
     "1a1e8439fa9c49efa8bbf087976f9731": {
      "model_module": "@jupyter-widgets/controls",
      "model_module_version": "1.5.0",
      "model_name": "VBoxModel",
      "state": {
       "_dom_classes": [
        "widget-interact"
       ],
       "children": [
        "IPY_MODEL_60f47673801547488e06434e993f038e",
        "IPY_MODEL_45ae07de403c4c40aebcab9b532b16d5"
       ],
       "layout": "IPY_MODEL_59c6a1c3ba9141cdb64c13bf7871e18a"
      }
     },
     "1a30029fc4b9435287700f8dfa59966d": {
      "model_module": "@jupyter-widgets/base",
      "model_module_version": "1.2.0",
      "model_name": "LayoutModel",
      "state": {}
     },
     "1da58510802e415197fb670667a2f7e8": {
      "model_module": "@jupyter-widgets/controls",
      "model_module_version": "1.5.0",
      "model_name": "DescriptionStyleModel",
      "state": {
       "description_width": ""
      }
     },
     "1dad353f75b74a449a824c6828daaf75": {
      "model_module": "@jupyter-widgets/base",
      "model_module_version": "1.2.0",
      "model_name": "LayoutModel",
      "state": {}
     },
     "21f326feeb0f4a9a90dcf3700d1975a7": {
      "buffers": [
       {
        "data": "VsLuHAAbNEBGM37xfyo0QEQmE20ubTRA5BCenwsxNEAE/Y8+LV80QAz6JO3+iTRA2uPAl8IBNEAKrLlFGWk0QIbHbmNkjTRA6mhbRSw8NEB+KsVtLzI0QCh2yJY9JzRAKFHXn7aGNEC+7S4fzf0zQLZ1Azj+njRAklV3sXuYNEACUfpvpDk0QIYzB463TzRAxlCMaMhnNEBie8LSeVk0QFgkYF0XTDRArDu9+Y9CNEDYqLXU/jo0QPgrER+IaTRA",
        "encoding": "base64",
        "path": [
         "_data",
         0,
         "y",
         "value"
        ]
       },
       {
        "data": "6uI5fAOlP8CdvZfCTklAwOo1xo1ooEDAUu7V+yobQMD+QcOm42xAwOrXeznYLEDA0j+VRsREQMAlyqQAabE/wATjtREWr0DAacWX4GPmP8ApLLZbJ4JAwLG/zQyc6j/AWWOOj3prQMCB2a7+U1tAwA==",
        "encoding": "base64",
        "path": [
         "_data",
         2,
         "y",
         "value"
        ]
       },
       {
        "data": "cLVTVzbTM8BHB3jAo/01wEh3pGLcTTDALpLmYh+iKsD+Mwkh278vwFOYG3RkJzLAMpG41iPsMsB4L4ehp1EuwKm1c0F4mzTAovup9wEPLcBQdbRRVgA2wMgJsxtRYSbAUkHHbgjiM8Agl5iD0rI0wI7RN3Ke/iPABAWR40wyFsDZNV+OpTswwNVmeu6QnDLAfqOq52AbLMAKO9kXTeI0wDalBdnBcjXAwoQpRBDLNMBBT3jre2A4wCzv913huzTAqpb/dWPvMsDfxuMROVE0wM7GibpK1S7A2AW+cjvJNsAbhh+D8Jw1wPQyA9BHkjXA2oohP4Y6M8Byvtaw8wY5wIBSeJWMXDbA5gYqctojNcAaHhL55lYvwBgj98aPHi7A/BlhqIi+KsCA0Hqyr3ogwCgg/a4WWCPAXssVuy9/MMDUMp3o55gqwMYQvdumdTHAegDWAACoI8A2wQnbSRQpwBcvK48EfzPAQkSvAd0PJ8BUy2Mb+XwqwIy4c3vnZy/APlPtOgpRNMCEuSjx9+UywKf2cplczDTAjRNigkVzM8DuGDRs5AY2wOmxLnzjyzXAvEEDCcD5HMCER4U+x0EiwHJF5eo+TDXAEslss2j/MMAI2lHqR4I1wETF7dHI9SvAu6KkiUsaMMCMvUy9Yf8dwMTRJ0hB8zPA",
        "encoding": "base64",
        "path": [
         "_data",
         4,
         "y",
         "value"
        ]
       }
      ],
      "model_module": "jupyterlab-plotly",
      "model_module_version": "^5.1.0",
      "model_name": "FigureModel",
      "state": {
       "_config": {
        "plotlyServerURL": "https://plot.ly"
       },
       "_data": [
        {
         "error_y": {
          "thickness": 1.5,
          "type": "constant",
          "value": 0.5381447352028924
         },
         "marker": {
          "color": "RoyalBlue"
         },
         "name": "NBS",
         "type": "scatter",
         "uid": "8ad8cd40-a54b-4c57-9f4f-2b55d4c2ace3",
         "x": [
          1,
          2,
          3,
          4,
          5,
          6,
          36,
          37,
          39,
          40,
          76,
          77,
          78,
          79,
          80,
          81,
          82,
          83,
          84,
          85,
          104,
          105,
          106,
          107
         ],
         "y": {
          "dtype": "float64",
          "shape": [
           24
          ]
         }
        },
        {
         "marker": {
          "color": "RoyalBlue",
          "symbol": "square"
         },
         "name": "NBS (average)",
         "opacity": 0.5,
         "type": "scatter",
         "uid": "701407c3-93d6-41e2-ae7d-32128cf72122"
        },
        {
         "error_y": {
          "thickness": 1.5,
          "type": "constant",
          "value": 0.5381447352028924
         },
         "marker": {
          "color": "green"
         },
         "name": "S3",
         "type": "scatter",
         "uid": "3794e767-43f8-449b-a1b3-313313d15e01",
         "x": [
          8,
          9,
          10,
          41,
          43,
          44,
          73,
          74,
          75,
          86,
          87,
          108,
          109,
          110
         ],
         "y": {
          "dtype": "float64",
          "shape": [
           14
          ]
         }
        },
        {
         "marker": {
          "color": "green",
          "symbol": "square"
         },
         "name": "S3 (average)",
         "opacity": 0.5,
         "type": "scatter",
         "uid": "0bcd8ca3-68cf-4fb2-aade-27132b91c9b6"
        },
        {
         "error_y": {
          "thickness": 1.5,
          "type": "constant",
          "value": 0.5381447352028924
         },
         "marker": {
          "color": "GoldenRod"
         },
         "mode": "markers+lines",
         "name": "Samples",
         "type": "scatter",
         "uid": "a6ed6273-5f10-4689-867c-bf1c90300705",
         "x": [
          12,
          13,
          14,
          16,
          17,
          18,
          19,
          20,
          21,
          22,
          23,
          24,
          25,
          26,
          27,
          28,
          29,
          30,
          31,
          32,
          34,
          35,
          45,
          46,
          47,
          48,
          49,
          50,
          51,
          52,
          53,
          54,
          55,
          56,
          57,
          58,
          59,
          60,
          61,
          62,
          64,
          65,
          66,
          68,
          69,
          70,
          72,
          88,
          89,
          90,
          91,
          92,
          93,
          94,
          95,
          96,
          97,
          98,
          99,
          100,
          101,
          102,
          103
         ],
         "y": {
          "dtype": "float64",
          "shape": [
           63
          ]
         }
        }
       ],
       "_js2py_relayout": {},
       "_js2py_restyle": {},
       "_js2py_update": {},
       "_last_layout_edit_id": 51,
       "_last_trace_edit_id": 47,
       "_layout": {
        "shapes": [
         {
          "line": {
           "color": "RoyalBlue",
           "dash": "dash",
           "width": 2
          },
          "type": "line",
          "x0": 0,
          "x1": 1,
          "xref": "x domain",
          "y0": 20.3,
          "y1": 20.3,
          "yref": "y"
         },
         {
          "line": {
           "color": "green",
           "dash": "dash",
           "width": 2
          },
          "type": "line",
          "x0": 0,
          "x1": 1,
          "xref": "x domain",
          "y0": -32.49,
          "y1": -32.49,
          "yref": "y"
         }
        ],
        "template": {
         "layout": {
          "bargap": 0.05,
          "bargroupgap": 0,
          "font": {
           "color": "black",
           "family": "Arial",
           "size": 16
          },
          "height": 700,
          "hovermode": "closest",
          "margin": {
           "b": 60,
           "l": 60,
           "r": 30,
           "t": 30
          },
          "scene": {
           "xaxis": {
            "color": "black",
            "linewidth": 2,
            "showline": true,
            "ticks": "outside"
           },
           "yaxis": {
            "color": "black",
            "linewidth": 2,
            "showline": true,
            "ticks": "outside"
           },
           "zaxis": {
            "color": "black",
            "linewidth": 2,
            "showline": true,
            "ticks": "outside"
           }
          },
          "xaxis": {
           "color": "black",
           "linewidth": 1.3,
           "mirror": true,
           "showgrid": true,
           "showline": true,
           "ticks": "outside",
           "zeroline": true
          },
          "yaxis": {
           "color": "black",
           "linewidth": 1.3,
           "mirror": true,
           "showgrid": true,
           "showline": true,
           "ticks": "outside",
           "zeroline": true
          }
         }
        },
        "xaxis": {
         "rangemode": "tozero",
         "title": {
          "text": "Run number"
         }
        },
        "yaxis": {
         "title": {
          "text": "δ<sup>34</sup>S (‰)"
         }
        }
       },
       "_py2js_animate": {},
       "_py2js_deleteTraces": {},
       "_py2js_moveTraces": {},
       "_py2js_removeLayoutProps": {},
       "_py2js_removeTraceProps": {},
       "_view_count": 0
      }
     },
     "228c7ac656cc4187aad82aa779f53ec4": {
      "model_module": "@jupyter-widgets/controls",
      "model_module_version": "1.5.0",
      "model_name": "DescriptionStyleModel",
      "state": {
       "description_width": ""
      }
     },
     "22b23a083dc84c9385be432f35b764dc": {
      "model_module": "@jupyter-widgets/base",
      "model_module_version": "1.2.0",
      "model_name": "LayoutModel",
      "state": {}
     },
     "22de58bc96e54748880d7ef43d696243": {
      "model_module": "@jupyter-widgets/controls",
      "model_module_version": "1.5.0",
      "model_name": "CheckboxModel",
      "state": {
       "description": "corrected",
       "disabled": false,
       "layout": "IPY_MODEL_1dad353f75b74a449a824c6828daaf75",
       "style": "IPY_MODEL_6247d641580b402f92e5ac9b630722a9",
       "value": false
      }
     },
     "24806dcb9d50443e8322c0760e5608c9": {
      "model_module": "@jupyter-widgets/output",
      "model_module_version": "1.0.0",
      "model_name": "OutputModel",
      "state": {
       "layout": "IPY_MODEL_3d1f3dc8bb824a3287eae3c89be498c1"
      }
     },
     "24e3b1e09fcc445f9ebff7b56c81a08c": {
      "model_module": "@jupyter-widgets/output",
      "model_module_version": "1.0.0",
      "model_name": "OutputModel",
      "state": {
       "layout": "IPY_MODEL_3572c3791e9649cf9a382032d55ba2eb",
       "outputs": [
        {
         "ename": "KeyError",
         "evalue": "'d34S_raw'",
         "output_type": "error",
         "traceback": [
          "\u001b[1;31m---------------------------------------------------------------------------\u001b[0m",
          "\u001b[1;31mKeyError\u001b[0m                                  Traceback (most recent call last)",
          "\u001b[1;32m~\\miniconda3\\lib\\site-packages\\pandas\\core\\indexes\\base.py\u001b[0m in \u001b[0;36mget_loc\u001b[1;34m(self, key, method, tolerance)\u001b[0m\n\u001b[0;32m   3080\u001b[0m             \u001b[1;32mtry\u001b[0m\u001b[1;33m:\u001b[0m\u001b[1;33m\u001b[0m\u001b[1;33m\u001b[0m\u001b[0m\n\u001b[1;32m-> 3081\u001b[1;33m                 \u001b[1;32mreturn\u001b[0m \u001b[0mself\u001b[0m\u001b[1;33m.\u001b[0m\u001b[0m_engine\u001b[0m\u001b[1;33m.\u001b[0m\u001b[0mget_loc\u001b[0m\u001b[1;33m(\u001b[0m\u001b[0mcasted_key\u001b[0m\u001b[1;33m)\u001b[0m\u001b[1;33m\u001b[0m\u001b[1;33m\u001b[0m\u001b[0m\n\u001b[0m\u001b[0;32m   3082\u001b[0m             \u001b[1;32mexcept\u001b[0m \u001b[0mKeyError\u001b[0m \u001b[1;32mas\u001b[0m \u001b[0merr\u001b[0m\u001b[1;33m:\u001b[0m\u001b[1;33m\u001b[0m\u001b[1;33m\u001b[0m\u001b[0m\n",
          "\u001b[1;32mpandas\\_libs\\index.pyx\u001b[0m in \u001b[0;36mpandas._libs.index.IndexEngine.get_loc\u001b[1;34m()\u001b[0m\n",
          "\u001b[1;32mpandas\\_libs\\index.pyx\u001b[0m in \u001b[0;36mpandas._libs.index.IndexEngine.get_loc\u001b[1;34m()\u001b[0m\n",
          "\u001b[1;32mpandas\\_libs\\hashtable_class_helper.pxi\u001b[0m in \u001b[0;36mpandas._libs.hashtable.PyObjectHashTable.get_item\u001b[1;34m()\u001b[0m\n",
          "\u001b[1;32mpandas\\_libs\\hashtable_class_helper.pxi\u001b[0m in \u001b[0;36mpandas._libs.hashtable.PyObjectHashTable.get_item\u001b[1;34m()\u001b[0m\n",
          "\u001b[1;31mKeyError\u001b[0m: 'd34S_raw'",
          "\nThe above exception was the direct cause of the following exception:\n",
          "\u001b[1;31mKeyError\u001b[0m                                  Traceback (most recent call last)",
          "\u001b[1;32m~\\miniconda3\\lib\\site-packages\\ipywidgets\\widgets\\interaction.py\u001b[0m in \u001b[0;36mupdate\u001b[1;34m(self, *args)\u001b[0m\n\u001b[0;32m    254\u001b[0m                     \u001b[0mvalue\u001b[0m \u001b[1;33m=\u001b[0m \u001b[0mwidget\u001b[0m\u001b[1;33m.\u001b[0m\u001b[0mget_interact_value\u001b[0m\u001b[1;33m(\u001b[0m\u001b[1;33m)\u001b[0m\u001b[1;33m\u001b[0m\u001b[1;33m\u001b[0m\u001b[0m\n\u001b[0;32m    255\u001b[0m                     \u001b[0mself\u001b[0m\u001b[1;33m.\u001b[0m\u001b[0mkwargs\u001b[0m\u001b[1;33m[\u001b[0m\u001b[0mwidget\u001b[0m\u001b[1;33m.\u001b[0m\u001b[0m_kwarg\u001b[0m\u001b[1;33m]\u001b[0m \u001b[1;33m=\u001b[0m \u001b[0mvalue\u001b[0m\u001b[1;33m\u001b[0m\u001b[1;33m\u001b[0m\u001b[0m\n\u001b[1;32m--> 256\u001b[1;33m                 \u001b[0mself\u001b[0m\u001b[1;33m.\u001b[0m\u001b[0mresult\u001b[0m \u001b[1;33m=\u001b[0m \u001b[0mself\u001b[0m\u001b[1;33m.\u001b[0m\u001b[0mf\u001b[0m\u001b[1;33m(\u001b[0m\u001b[1;33m**\u001b[0m\u001b[0mself\u001b[0m\u001b[1;33m.\u001b[0m\u001b[0mkwargs\u001b[0m\u001b[1;33m)\u001b[0m\u001b[1;33m\u001b[0m\u001b[1;33m\u001b[0m\u001b[0m\n\u001b[0m\u001b[0;32m    257\u001b[0m                 \u001b[0mshow_inline_matplotlib_plots\u001b[0m\u001b[1;33m(\u001b[0m\u001b[1;33m)\u001b[0m\u001b[1;33m\u001b[0m\u001b[1;33m\u001b[0m\u001b[0m\n\u001b[0;32m    258\u001b[0m                 \u001b[1;32mif\u001b[0m \u001b[0mself\u001b[0m\u001b[1;33m.\u001b[0m\u001b[0mauto_display\u001b[0m \u001b[1;32mand\u001b[0m \u001b[0mself\u001b[0m\u001b[1;33m.\u001b[0m\u001b[0mresult\u001b[0m \u001b[1;32mis\u001b[0m \u001b[1;32mnot\u001b[0m \u001b[1;32mNone\u001b[0m\u001b[1;33m:\u001b[0m\u001b[1;33m\u001b[0m\u001b[1;33m\u001b[0m\u001b[0m\n",
          "\u001b[1;32m<ipython-input-14-c14b3f29cf6b>\u001b[0m in \u001b[0;36mupdate_std_plot\u001b[1;34m(corrected)\u001b[0m\n\u001b[0;32m      7\u001b[0m \u001b[1;33m\u001b[0m\u001b[0m\n\u001b[0;32m      8\u001b[0m     \u001b[0msample_isotopes\u001b[0m\u001b[1;33m=\u001b[0m\u001b[0misotope_df\u001b[0m\u001b[1;33m[\u001b[0m\u001b[0misotope_df\u001b[0m\u001b[1;33m.\u001b[0m\u001b[0mdata_type\u001b[0m\u001b[1;33m.\u001b[0m\u001b[0mfilter\u001b[0m\u001b[1;33m(\u001b[0m\u001b[1;33m[\u001b[0m\u001b[1;34m'normal'\u001b[0m\u001b[1;33m,\u001b[0m \u001b[1;34m'duplicate'\u001b[0m\u001b[1;33m]\u001b[0m\u001b[1;33m)\u001b[0m\u001b[1;33m]\u001b[0m\u001b[1;33m\u001b[0m\u001b[1;33m\u001b[0m\u001b[0m\n\u001b[1;32m----> 9\u001b[1;33m     \u001b[0msel_trace\u001b[0m\u001b[1;33m(\u001b[0m\u001b[0mstd_plot\u001b[0m\u001b[1;33m,\u001b[0m \u001b[1;34m'Samples'\u001b[0m\u001b[1;33m)\u001b[0m\u001b[1;33m.\u001b[0m\u001b[0my\u001b[0m \u001b[1;33m=\u001b[0m \u001b[0msample_isotopes\u001b[0m\u001b[1;33m[\u001b[0m\u001b[0mplot_col\u001b[0m\u001b[1;33m]\u001b[0m\u001b[1;33m\u001b[0m\u001b[1;33m\u001b[0m\u001b[0m\n\u001b[0m",
          "\u001b[1;32m~\\miniconda3\\lib\\site-packages\\pandas\\core\\frame.py\u001b[0m in \u001b[0;36m__getitem__\u001b[1;34m(self, key)\u001b[0m\n\u001b[0;32m   3022\u001b[0m             \u001b[1;32mif\u001b[0m \u001b[0mself\u001b[0m\u001b[1;33m.\u001b[0m\u001b[0mcolumns\u001b[0m\u001b[1;33m.\u001b[0m\u001b[0mnlevels\u001b[0m \u001b[1;33m>\u001b[0m \u001b[1;36m1\u001b[0m\u001b[1;33m:\u001b[0m\u001b[1;33m\u001b[0m\u001b[1;33m\u001b[0m\u001b[0m\n\u001b[0;32m   3023\u001b[0m                 \u001b[1;32mreturn\u001b[0m \u001b[0mself\u001b[0m\u001b[1;33m.\u001b[0m\u001b[0m_getitem_multilevel\u001b[0m\u001b[1;33m(\u001b[0m\u001b[0mkey\u001b[0m\u001b[1;33m)\u001b[0m\u001b[1;33m\u001b[0m\u001b[1;33m\u001b[0m\u001b[0m\n\u001b[1;32m-> 3024\u001b[1;33m             \u001b[0mindexer\u001b[0m \u001b[1;33m=\u001b[0m \u001b[0mself\u001b[0m\u001b[1;33m.\u001b[0m\u001b[0mcolumns\u001b[0m\u001b[1;33m.\u001b[0m\u001b[0mget_loc\u001b[0m\u001b[1;33m(\u001b[0m\u001b[0mkey\u001b[0m\u001b[1;33m)\u001b[0m\u001b[1;33m\u001b[0m\u001b[1;33m\u001b[0m\u001b[0m\n\u001b[0m\u001b[0;32m   3025\u001b[0m             \u001b[1;32mif\u001b[0m \u001b[0mis_integer\u001b[0m\u001b[1;33m(\u001b[0m\u001b[0mindexer\u001b[0m\u001b[1;33m)\u001b[0m\u001b[1;33m:\u001b[0m\u001b[1;33m\u001b[0m\u001b[1;33m\u001b[0m\u001b[0m\n\u001b[0;32m   3026\u001b[0m                 \u001b[0mindexer\u001b[0m \u001b[1;33m=\u001b[0m \u001b[1;33m[\u001b[0m\u001b[0mindexer\u001b[0m\u001b[1;33m]\u001b[0m\u001b[1;33m\u001b[0m\u001b[1;33m\u001b[0m\u001b[0m\n",
          "\u001b[1;32m~\\miniconda3\\lib\\site-packages\\pandas\\core\\indexes\\base.py\u001b[0m in \u001b[0;36mget_loc\u001b[1;34m(self, key, method, tolerance)\u001b[0m\n\u001b[0;32m   3081\u001b[0m                 \u001b[1;32mreturn\u001b[0m \u001b[0mself\u001b[0m\u001b[1;33m.\u001b[0m\u001b[0m_engine\u001b[0m\u001b[1;33m.\u001b[0m\u001b[0mget_loc\u001b[0m\u001b[1;33m(\u001b[0m\u001b[0mcasted_key\u001b[0m\u001b[1;33m)\u001b[0m\u001b[1;33m\u001b[0m\u001b[1;33m\u001b[0m\u001b[0m\n\u001b[0;32m   3082\u001b[0m             \u001b[1;32mexcept\u001b[0m \u001b[0mKeyError\u001b[0m \u001b[1;32mas\u001b[0m \u001b[0merr\u001b[0m\u001b[1;33m:\u001b[0m\u001b[1;33m\u001b[0m\u001b[1;33m\u001b[0m\u001b[0m\n\u001b[1;32m-> 3083\u001b[1;33m                 \u001b[1;32mraise\u001b[0m \u001b[0mKeyError\u001b[0m\u001b[1;33m(\u001b[0m\u001b[0mkey\u001b[0m\u001b[1;33m)\u001b[0m \u001b[1;32mfrom\u001b[0m \u001b[0merr\u001b[0m\u001b[1;33m\u001b[0m\u001b[1;33m\u001b[0m\u001b[0m\n\u001b[0m\u001b[0;32m   3084\u001b[0m \u001b[1;33m\u001b[0m\u001b[0m\n\u001b[0;32m   3085\u001b[0m         \u001b[1;32mif\u001b[0m \u001b[0mtolerance\u001b[0m \u001b[1;32mis\u001b[0m \u001b[1;32mnot\u001b[0m \u001b[1;32mNone\u001b[0m\u001b[1;33m:\u001b[0m\u001b[1;33m\u001b[0m\u001b[1;33m\u001b[0m\u001b[0m\n",
          "\u001b[1;31mKeyError\u001b[0m: 'd34S_raw'"
         ]
        }
       ]
      }
     },
     "2693a8949c334e2d8e5b62337617c8a9": {
      "model_module": "@jupyter-widgets/controls",
      "model_module_version": "1.5.0",
      "model_name": "DescriptionStyleModel",
      "state": {
       "description_width": ""
      }
     },
     "2942be6e7e5741b289f6915e4f467714": {
      "model_module": "@jupyter-widgets/controls",
      "model_module_version": "1.5.0",
      "model_name": "VBoxModel",
      "state": {
       "_dom_classes": [
        "widget-interact"
       ],
       "children": [
        "IPY_MODEL_8ea23444f7184922a1dd9de13479ff66",
        "IPY_MODEL_d486101396fc47059e35493df0983f10"
       ],
       "layout": "IPY_MODEL_cc4f68c8ea36444e8c629f80727981c4"
      }
     },
     "2f97c77fe5a0465a9c06c454b55d9dc1": {
      "model_module": "@jupyter-widgets/output",
      "model_module_version": "1.0.0",
      "model_name": "OutputModel",
      "state": {
       "layout": "IPY_MODEL_61bd9983622141329e56fe66e11e0e86"
      }
     },
     "316de38fc7424112a63575b25fb24bc2": {
      "model_module": "@jupyter-widgets/controls",
      "model_module_version": "1.5.0",
      "model_name": "DescriptionStyleModel",
      "state": {
       "description_width": ""
      }
     },
     "33d447dc06fd4e409b3ad11b562a0e3d": {
      "model_module": "@jupyter-widgets/base",
      "model_module_version": "1.2.0",
      "model_name": "LayoutModel",
      "state": {}
     },
     "3572c3791e9649cf9a382032d55ba2eb": {
      "model_module": "@jupyter-widgets/base",
      "model_module_version": "1.2.0",
      "model_name": "LayoutModel",
      "state": {}
     },
     "3789ddcc2f29471a9f0e8dcd6bc384be": {
      "model_module": "@jupyter-widgets/controls",
      "model_module_version": "1.5.0",
      "model_name": "CheckboxModel",
      "state": {
       "description": "corrected",
       "disabled": false,
       "layout": "IPY_MODEL_a246bdee50664d06bd4eb3836e16ca1c",
       "style": "IPY_MODEL_1da58510802e415197fb670667a2f7e8",
       "value": true
      }
     },
     "3d1f3dc8bb824a3287eae3c89be498c1": {
      "model_module": "@jupyter-widgets/base",
      "model_module_version": "1.2.0",
      "model_name": "LayoutModel",
      "state": {}
     },
     "3d548a97c63f42139c11b14c300b7214": {
      "model_module": "@jupyter-widgets/base",
      "model_module_version": "1.2.0",
      "model_name": "LayoutModel",
      "state": {}
     },
     "4023ba7bdd46472abcbadc90389d2ce9": {
      "model_module": "@jupyter-widgets/output",
      "model_module_version": "1.0.0",
      "model_name": "OutputModel",
      "state": {
       "layout": "IPY_MODEL_68143837d155453f9bd8702c55f4dae9"
      }
     },
     "4245328a0cf341eab419a35e077fe65b": {
      "buffers": [
       {
        "data": "VsLuHAAbNEBGM37xfyo0QEQmE20ubTRA5BCenwsxNEAE/Y8+LV80QAz6JO3+iTRA2uPAl8IBNEAKrLlFGWk0QIbHbmNkjTRA6mhbRSw8NEB+KsVtLzI0QCh2yJY9JzRAKFHXn7aGNEC+7S4fzf0zQLZ1Azj+njRAklV3sXuYNEACUfpvpDk0QIYzB463TzRAxlCMaMhnNEBie8LSeVk0QFgkYF0XTDRArDu9+Y9CNEDYqLXU/jo0QPgrER+IaTRA",
        "encoding": "base64",
        "path": [
         "_data",
         0,
         "y",
         "value"
        ]
       },
       {
        "data": "6uI5fAOlP8CdvZfCTklAwOo1xo1ooEDAUu7V+yobQMD+QcOm42xAwOrXeznYLEDA0j+VRsREQMAlyqQAabE/wATjtREWr0DAacWX4GPmP8ApLLZbJ4JAwLG/zQyc6j/AWWOOj3prQMCB2a7+U1tAwA==",
        "encoding": "base64",
        "path": [
         "_data",
         2,
         "y",
         "value"
        ]
       },
       {
        "data": "cLVTVzbTM8BHB3jAo/01wEh3pGLcTTDALpLmYh+iKsD+Mwkh278vwFOYG3RkJzLAMpG41iPsMsB4L4ehp1EuwKm1c0F4mzTAovup9wEPLcBQdbRRVgA2wMgJsxtRYSbAUkHHbgjiM8Agl5iD0rI0wI7RN3Ke/iPABAWR40wyFsDZNV+OpTswwNVmeu6QnDLAfqOq52AbLMAKO9kXTeI0wDalBdnBcjXAwoQpRBDLNMBBT3jre2A4wCzv913huzTAqpb/dWPvMsDfxuMROVE0wM7GibpK1S7A2AW+cjvJNsAbhh+D8Jw1wPQyA9BHkjXA2oohP4Y6M8Byvtaw8wY5wIBSeJWMXDbA5gYqctojNcAaHhL55lYvwBgj98aPHi7A/BlhqIi+KsCA0Hqyr3ogwCgg/a4WWCPAXssVuy9/MMDUMp3o55gqwMYQvdumdTHAegDWAACoI8A2wQnbSRQpwBcvK48EfzPAQkSvAd0PJ8BUy2Mb+XwqwIy4c3vnZy/APlPtOgpRNMCEuSjx9+UywKf2cplczDTAjRNigkVzM8DuGDRs5AY2wOmxLnzjyzXAvEEDCcD5HMCER4U+x0EiwHJF5eo+TDXAEslss2j/MMAI2lHqR4I1wETF7dHI9SvAu6KkiUsaMMCMvUy9Yf8dwMTRJ0hB8zPA",
        "encoding": "base64",
        "path": [
         "_data",
         4,
         "y",
         "value"
        ]
       }
      ],
      "model_module": "jupyterlab-plotly",
      "model_module_version": "^5.1.0",
      "model_name": "FigureModel",
      "state": {
       "_config": {
        "plotlyServerURL": "https://plot.ly"
       },
       "_data": [
        {
         "error_y": {
          "thickness": 1.5,
          "type": "constant",
          "value": 0.5381447352028924
         },
         "marker": {
          "color": "RoyalBlue"
         },
         "name": "NBS",
         "type": "scatter",
         "uid": "5274eb2f-4b39-448f-9b2e-815e72fa2bb0",
         "x": [
          1,
          2,
          3,
          4,
          5,
          6,
          36,
          37,
          39,
          40,
          76,
          77,
          78,
          79,
          80,
          81,
          82,
          83,
          84,
          85,
          104,
          105,
          106,
          107
         ],
         "y": {
          "dtype": "float64",
          "shape": [
           24
          ]
         }
        },
        {
         "marker": {
          "color": "RoyalBlue",
          "symbol": "square"
         },
         "name": "NBS (average)",
         "opacity": 0.5,
         "type": "scatter",
         "uid": "e936ec4e-d376-4f56-b679-cec09c1bdf90"
        },
        {
         "error_y": {
          "thickness": 1.5,
          "type": "constant",
          "value": 0.5381447352028924
         },
         "marker": {
          "color": "green"
         },
         "name": "S3",
         "type": "scatter",
         "uid": "ad38699a-fc06-4ad2-b2ee-548499ba2b79",
         "x": [
          8,
          9,
          10,
          41,
          43,
          44,
          73,
          74,
          75,
          86,
          87,
          108,
          109,
          110
         ],
         "y": {
          "dtype": "float64",
          "shape": [
           14
          ]
         }
        },
        {
         "marker": {
          "color": "green",
          "symbol": "square"
         },
         "name": "S3 (average)",
         "opacity": 0.5,
         "type": "scatter",
         "uid": "5f2d417a-2742-41ad-904f-c3707562b1ef"
        },
        {
         "error_y": {
          "thickness": 1.5,
          "type": "constant",
          "value": 0.5381447352028924
         },
         "marker": {
          "color": "GoldenRod"
         },
         "mode": "markers+lines",
         "name": "Samples",
         "type": "scatter",
         "uid": "0d79e796-cdd0-4e7d-b72f-d72b62942f3e",
         "x": [
          12,
          13,
          14,
          16,
          17,
          18,
          19,
          20,
          21,
          22,
          23,
          24,
          25,
          26,
          27,
          28,
          29,
          30,
          31,
          32,
          34,
          35,
          45,
          46,
          47,
          48,
          49,
          50,
          51,
          52,
          53,
          54,
          55,
          56,
          57,
          58,
          59,
          60,
          61,
          62,
          64,
          65,
          66,
          68,
          69,
          70,
          72,
          88,
          89,
          90,
          91,
          92,
          93,
          94,
          95,
          96,
          97,
          98,
          99,
          100,
          101,
          102,
          103
         ],
         "y": {
          "dtype": "float64",
          "shape": [
           63
          ]
         }
        }
       ],
       "_js2py_restyle": {},
       "_js2py_update": {},
       "_last_layout_edit_id": 47,
       "_last_trace_edit_id": 41,
       "_layout": {
        "height": 500,
        "shapes": [
         {
          "line": {
           "color": "RoyalBlue",
           "dash": "dash",
           "width": 2
          },
          "type": "line",
          "x0": 0,
          "x1": 1,
          "xref": "x domain",
          "y0": 20.3,
          "y1": 20.3,
          "yref": "y"
         },
         {
          "line": {
           "color": "green",
           "dash": "dash",
           "width": 2
          },
          "type": "line",
          "x0": 0,
          "x1": 1,
          "xref": "x domain",
          "y0": -32.49,
          "y1": -32.49,
          "yref": "y"
         }
        ],
        "template": {
         "layout": {
          "bargap": 0.05,
          "bargroupgap": 0,
          "font": {
           "color": "black",
           "family": "Arial",
           "size": 16
          },
          "height": 700,
          "hovermode": "closest",
          "margin": {
           "b": 60,
           "l": 60,
           "r": 30,
           "t": 30
          },
          "scene": {
           "xaxis": {
            "color": "black",
            "linewidth": 2,
            "showline": true,
            "ticks": "outside"
           },
           "yaxis": {
            "color": "black",
            "linewidth": 2,
            "showline": true,
            "ticks": "outside"
           },
           "zaxis": {
            "color": "black",
            "linewidth": 2,
            "showline": true,
            "ticks": "outside"
           }
          },
          "xaxis": {
           "color": "black",
           "linewidth": 1.3,
           "mirror": true,
           "showgrid": true,
           "showline": true,
           "ticks": "outside",
           "zeroline": true
          },
          "yaxis": {
           "color": "black",
           "linewidth": 1.3,
           "mirror": true,
           "showgrid": true,
           "showline": true,
           "ticks": "outside",
           "zeroline": true
          }
         }
        },
        "width": 900,
        "xaxis": {
         "autorange": true,
         "rangemode": "tozero",
         "showspikes": false,
         "title": {
          "text": "Run number"
         }
        },
        "yaxis": {
         "autorange": true,
         "showspikes": false,
         "title": {
          "text": "δ<sup>34</sup>S (‰)"
         }
        }
       },
       "_py2js_animate": {},
       "_py2js_deleteTraces": {},
       "_py2js_moveTraces": {},
       "_py2js_removeTraceProps": {},
       "_view_count": 2
      }
     },
     "45430471d6f94160b9ba21f4a7d656bc": {
      "model_module": "jupyterlab-plotly",
      "model_module_version": "^5.1.0",
      "model_name": "FigureModel",
      "state": {
       "_config": {
        "plotlyServerURL": "https://plot.ly"
       },
       "_data": [
        {
         "error_y": {
          "thickness": 1.5,
          "type": "constant",
          "value": 0.5381447352028924
         },
         "marker": {
          "color": "RoyalBlue"
         },
         "name": "NBS",
         "type": "scatter",
         "uid": "f924fa79-0a35-46fa-a688-d87bea0d75a2"
        },
        {
         "marker": {
          "color": "RoyalBlue",
          "symbol": "square"
         },
         "name": "NBS (average)",
         "opacity": 0.5,
         "type": "scatter",
         "uid": "7b1b39a0-cb5b-480e-a892-fac40b27925f"
        },
        {
         "error_y": {
          "thickness": 1.5,
          "type": "constant",
          "value": 0.5381447352028924
         },
         "marker": {
          "color": "green"
         },
         "name": "S3",
         "type": "scatter",
         "uid": "73e0d82d-2465-410e-9603-988320d9c0a9"
        },
        {
         "marker": {
          "color": "green",
          "symbol": "square"
         },
         "name": "S3 (average)",
         "opacity": 0.5,
         "type": "scatter",
         "uid": "56728498-a759-43dd-b11a-0b9decf0fb99"
        },
        {
         "error_y": {
          "thickness": 1.5,
          "type": "constant",
          "value": 0.5381447352028924
         },
         "marker": {
          "color": "GoldenRod"
         },
         "mode": "markers+lines",
         "name": "Samples",
         "type": "scatter",
         "uid": "09dd76ae-5291-4c7d-9b66-33990f9ccae3"
        }
       ],
       "_js2py_pointsCallback": {},
       "_js2py_relayout": {},
       "_js2py_restyle": {},
       "_js2py_update": {},
       "_last_layout_edit_id": 12,
       "_last_trace_edit_id": 8,
       "_layout": {
        "height": 400,
        "shapes": [
         {
          "line": {
           "color": "RoyalBlue",
           "dash": "dash",
           "width": 2
          },
          "type": "line",
          "x0": 0,
          "x1": 1,
          "xref": "x domain",
          "y0": 20.3,
          "y1": 20.3,
          "yref": "y"
         },
         {
          "line": {
           "color": "green",
           "dash": "dash",
           "width": 2
          },
          "type": "line",
          "x0": 0,
          "x1": 1,
          "xref": "x domain",
          "y0": -32.49,
          "y1": -32.49,
          "yref": "y"
         }
        ],
        "template": {
         "layout": {
          "bargap": 0.05,
          "bargroupgap": 0,
          "font": {
           "color": "black",
           "family": "Arial",
           "size": 16
          },
          "height": 700,
          "hovermode": "closest",
          "margin": {
           "b": 60,
           "l": 60,
           "r": 30,
           "t": 30
          },
          "scene": {
           "xaxis": {
            "color": "black",
            "linewidth": 2,
            "showline": true,
            "ticks": "outside"
           },
           "yaxis": {
            "color": "black",
            "linewidth": 2,
            "showline": true,
            "ticks": "outside"
           },
           "zaxis": {
            "color": "black",
            "linewidth": 2,
            "showline": true,
            "ticks": "outside"
           }
          },
          "xaxis": {
           "color": "black",
           "linewidth": 1.3,
           "mirror": true,
           "showgrid": true,
           "showline": true,
           "ticks": "outside",
           "zeroline": true
          },
          "yaxis": {
           "color": "black",
           "linewidth": 1.3,
           "mirror": true,
           "showgrid": true,
           "showline": true,
           "ticks": "outside",
           "zeroline": true
          }
         }
        },
        "width": 700,
        "xaxis": {
         "rangemode": "tozero",
         "title": {
          "text": "Run number"
         }
        },
        "yaxis": {
         "title": {
          "text": "δ<sup>34</sup>S (‰)"
         }
        }
       },
       "_py2js_animate": {},
       "_py2js_deleteTraces": {},
       "_py2js_moveTraces": {},
       "_py2js_removeLayoutProps": {},
       "_py2js_removeTraceProps": {},
       "_py2js_restyle": {},
       "_view_count": 0
      }
     },
     "45ae07de403c4c40aebcab9b532b16d5": {
      "model_module": "@jupyter-widgets/output",
      "model_module_version": "1.0.0",
      "model_name": "OutputModel",
      "state": {
       "layout": "IPY_MODEL_05039947430a44189a6a36cec665cf1c"
      }
     },
     "494c51756fd74c69b7ef8cd74b818de3": {
      "model_module": "@jupyter-widgets/base",
      "model_module_version": "1.2.0",
      "model_name": "LayoutModel",
      "state": {}
     },
     "4e259774c00e474ab7413ec76409773b": {
      "model_module": "@jupyter-widgets/base",
      "model_module_version": "1.2.0",
      "model_name": "LayoutModel",
      "state": {}
     },
     "52a2b60d71b145799f8cb1227bad5249": {
      "model_module": "@jupyter-widgets/base",
      "model_module_version": "1.2.0",
      "model_name": "LayoutModel",
      "state": {}
     },
     "53d5f8bc977940d0b9a31f9927a6a12a": {
      "model_module": "@jupyter-widgets/base",
      "model_module_version": "1.2.0",
      "model_name": "LayoutModel",
      "state": {}
     },
     "59c6a1c3ba9141cdb64c13bf7871e18a": {
      "model_module": "@jupyter-widgets/base",
      "model_module_version": "1.2.0",
      "model_name": "LayoutModel",
      "state": {}
     },
     "5f3f5ac85ebc4546b82b214ea8513467": {
      "model_module": "@jupyter-widgets/controls",
      "model_module_version": "1.5.0",
      "model_name": "DescriptionStyleModel",
      "state": {
       "description_width": ""
      }
     },
     "60f47673801547488e06434e993f038e": {
      "model_module": "@jupyter-widgets/controls",
      "model_module_version": "1.5.0",
      "model_name": "CheckboxModel",
      "state": {
       "description": "corrected",
       "disabled": false,
       "layout": "IPY_MODEL_6c3a324b97eb49c5bf99bfa33f543c93",
       "style": "IPY_MODEL_316de38fc7424112a63575b25fb24bc2",
       "value": false
      }
     },
     "61bd9983622141329e56fe66e11e0e86": {
      "model_module": "@jupyter-widgets/base",
      "model_module_version": "1.2.0",
      "model_name": "LayoutModel",
      "state": {}
     },
     "6247d641580b402f92e5ac9b630722a9": {
      "model_module": "@jupyter-widgets/controls",
      "model_module_version": "1.5.0",
      "model_name": "DescriptionStyleModel",
      "state": {
       "description_width": ""
      }
     },
     "629d78f0cbba4fca9a9635127488bff7": {
      "buffers": [
       {
        "data": "dZMYBFYuNUAj2/l+ajw1QJqZmZmZeTVANV66SQxCNUA/NV66SWw1QPp+arx0kzVAcT0K16MQNUA730+Nl241QAIrhxbZjjVAMQisHFpENUD0/dR46SY1QCPb+X5qHDVAZmZmZmaGNUAdWmQ73y81QLbz/dR46TVARIts5/sJNkCamZmZmdk1QG8Sg8DKATZA001iEFgZNkDn+6nx0g02QHNoke18HzZAuB6F61EYNkBt5/up8RI2QKwcWmQ7PzZA",
        "encoding": "base64",
        "path": [
         "_data",
         0,
         "y",
         "value"
        ]
       },
       {
        "data": "UI2XbhJjOsBg5dAi2zk7wIPAyqFF1jvAbef7qfFyOsBQjZduEgM7wG3n+6nxkjrAsHJoke08O8B7FK5H4Xo6wJhuEoPA6jvAsHJoke18OcBKDAIrh3Y6wFYOLbKdzznAkxgEVg6tOsDByqFFtpM6wA==",
        "encoding": "base64",
        "path": [
         "_data",
         2,
         "y",
         "value"
        ]
       },
       {
        "data": "EFg5tMj2LsAv3SQGgXUxwIPAyqFFdijAGQRWDi3yIsCR7Xw/NZ4nwC2yne+nxivARIts5/spLcCNl24Sg0AmwLTIdr6fGjDAHVpkO98PJcDP91PjpVsxwLx0kxgE1h3APzVeuknMLsD8qfHSTSIwwOF6FK5HYRnA/tR46SYxAsA/NV66SQwowKwcWmQ7XyzA1XjpJjEIJMB3vp8aLz0wwAisHFpkuzDAObTIdr4fMMC8dJMYBFYzwClcj8L1CDDA30+Nl27SLMAEVg4tsl0vwBBYObTIdibA9ihcj8L1McBI4XoUrucwwKjGSzeJ4TDAarx0kxiELcAdWmQ73w80wL6fGi/dpDHAXrpJDAKLMMCsHFpkOx8nwNV46SYxCCbARrbz/dT4IsDTTWIQWDkTwBsv3SQGgRjANV66SQzCKMBOYhBYOfQiwH9qvHSTmCrAfT81XrpJGcAOLbKd76chwDvfT42Xbi7ATmIQWDm0H8AK16NwPQojwNv5fmq8dCXAObTIdr7fLcCq8dJNYlArwD81XrpJzC7Ad76fGi9dLMBeukkMAoswwLgehetRWDDAL90kBoGVCMAzMzMzMzMTwCcxCKwc2i/A3SQGgZUDKMD4U+OlmyQwwNV46SYxiCLAVg4tsp1vJsBiEFg5tMgKwC2yne+nhi3A",
        "encoding": "base64",
        "path": [
         "_data",
         4,
         "y",
         "value"
        ]
       }
      ],
      "model_module": "jupyterlab-plotly",
      "model_module_version": "^5.1.0",
      "model_name": "FigureModel",
      "state": {
       "_config": {
        "plotlyServerURL": "https://plot.ly"
       },
       "_data": [
        {
         "error_y": {
          "thickness": 1.5,
          "type": "constant",
          "value": 0.5381447352028924
         },
         "marker": {
          "color": "RoyalBlue"
         },
         "name": "NBS",
         "type": "scatter",
         "uid": "a982cb37-6d6f-46d9-8b71-7b10bc24fdf2",
         "x": [
          1,
          2,
          3,
          4,
          5,
          6,
          36,
          37,
          39,
          40,
          76,
          77,
          78,
          79,
          80,
          81,
          82,
          83,
          84,
          85,
          104,
          105,
          106,
          107
         ],
         "y": {
          "dtype": "float64",
          "shape": [
           24
          ]
         }
        },
        {
         "marker": {
          "color": "RoyalBlue",
          "symbol": "square"
         },
         "name": "NBS (average)",
         "opacity": 0.5,
         "type": "scatter",
         "uid": "e1a759e8-afa4-4ff2-9690-33916dc6580e",
         "x": [
          3.5,
          38,
          77.5,
          82.5,
          105.5
         ],
         "y": [
          21.358166666666666,
          21.3305,
          21.243750000000002,
          21.9935,
          22.13475
         ]
        },
        {
         "error_y": {
          "thickness": 1.5,
          "type": "constant",
          "value": 0.5381447352028924
         },
         "marker": {
          "color": "green"
         },
         "name": "S3",
         "type": "scatter",
         "uid": "69f9100e-3014-4cc4-a6ea-a0b5315f722c",
         "x": [
          8,
          9,
          10,
          41,
          43,
          44,
          73,
          74,
          75,
          86,
          87,
          108,
          109,
          110
         ],
         "y": {
          "dtype": "float64",
          "shape": [
           14
          ]
         }
        },
        {
         "marker": {
          "color": "green",
          "symbol": "square"
         },
         "name": "S3 (average)",
         "opacity": 0.5,
         "type": "scatter",
         "uid": "fc6f3442-3553-4302-824e-fba3deed8ba1",
         "x": [
          9,
          42.666666666666664,
          74,
          86.5,
          109
         ],
         "y": [
          -27.150000000000002,
          -26.67833333333333,
          -27.21166666666667,
          -25.9755,
          -26.354666666666663
         ]
        },
        {
         "error_y": {
          "thickness": 1.5,
          "type": "constant",
          "value": 0.5381447352028924
         },
         "marker": {
          "color": "GoldenRod"
         },
         "mode": "markers+lines",
         "name": "Samples",
         "type": "scatter",
         "uid": "6f6a2782-9a56-49ee-98a7-0a2757220a8b",
         "x": [
          12,
          13,
          14,
          16,
          17,
          18,
          19,
          20,
          21,
          22,
          23,
          24,
          25,
          26,
          27,
          28,
          29,
          30,
          31,
          32,
          34,
          35,
          45,
          46,
          47,
          48,
          49,
          50,
          51,
          52,
          53,
          54,
          55,
          56,
          57,
          58,
          59,
          60,
          61,
          62,
          64,
          65,
          66,
          68,
          69,
          70,
          72,
          88,
          89,
          90,
          91,
          92,
          93,
          94,
          95,
          96,
          97,
          98,
          99,
          100,
          101,
          102,
          103
         ],
         "y": {
          "dtype": "float64",
          "shape": [
           63
          ]
         }
        }
       ],
       "_js2py_relayout": {},
       "_js2py_restyle": {},
       "_js2py_update": {},
       "_last_layout_edit_id": 18,
       "_last_trace_edit_id": 14,
       "_layout": {
        "shapes": [
         {
          "line": {
           "color": "RoyalBlue",
           "dash": "dash",
           "width": 2
          },
          "type": "line",
          "x0": 0,
          "x1": 1,
          "xref": "x domain",
          "y0": 20.3,
          "y1": 20.3,
          "yref": "y"
         },
         {
          "line": {
           "color": "green",
           "dash": "dash",
           "width": 2
          },
          "type": "line",
          "x0": 0,
          "x1": 1,
          "xref": "x domain",
          "y0": -32.49,
          "y1": -32.49,
          "yref": "y"
         }
        ],
        "template": {
         "layout": {
          "bargap": 0.05,
          "bargroupgap": 0,
          "font": {
           "color": "black",
           "family": "Arial",
           "size": 16
          },
          "height": 700,
          "hovermode": "closest",
          "margin": {
           "b": 60,
           "l": 60,
           "r": 30,
           "t": 30
          },
          "scene": {
           "xaxis": {
            "color": "black",
            "linewidth": 2,
            "showline": true,
            "ticks": "outside"
           },
           "yaxis": {
            "color": "black",
            "linewidth": 2,
            "showline": true,
            "ticks": "outside"
           },
           "zaxis": {
            "color": "black",
            "linewidth": 2,
            "showline": true,
            "ticks": "outside"
           }
          },
          "xaxis": {
           "color": "black",
           "linewidth": 1.3,
           "mirror": true,
           "showgrid": true,
           "showline": true,
           "ticks": "outside",
           "zeroline": true
          },
          "yaxis": {
           "color": "black",
           "linewidth": 1.3,
           "mirror": true,
           "showgrid": true,
           "showline": true,
           "ticks": "outside",
           "zeroline": true
          }
         }
        },
        "xaxis": {
         "rangemode": "tozero",
         "title": {
          "text": "Run number"
         }
        },
        "yaxis": {
         "title": {
          "text": "δ<sup>34</sup>S (‰)"
         }
        }
       },
       "_py2js_animate": {},
       "_py2js_deleteTraces": {},
       "_py2js_moveTraces": {},
       "_py2js_removeLayoutProps": {},
       "_py2js_removeTraceProps": {},
       "_view_count": 0
      }
     },
     "6529fbeb18804652b951f3ed0d7de1ab": {
      "model_module": "@jupyter-widgets/base",
      "model_module_version": "1.2.0",
      "model_name": "LayoutModel",
      "state": {}
     },
     "68143837d155453f9bd8702c55f4dae9": {
      "model_module": "@jupyter-widgets/base",
      "model_module_version": "1.2.0",
      "model_name": "LayoutModel",
      "state": {}
     },
     "6c3a324b97eb49c5bf99bfa33f543c93": {
      "model_module": "@jupyter-widgets/base",
      "model_module_version": "1.2.0",
      "model_name": "LayoutModel",
      "state": {}
     },
     "6c7024b7b7bc4eb7a51eab2f6ac6e522": {
      "model_module": "@jupyter-widgets/output",
      "model_module_version": "1.0.0",
      "model_name": "OutputModel",
      "state": {
       "layout": "IPY_MODEL_a7fe3fd7e8614025856d7262f4c89696"
      }
     },
     "70631dd1601e4486a5d31cd914e12f2c": {
      "model_module": "@jupyter-widgets/base",
      "model_module_version": "1.2.0",
      "model_name": "LayoutModel",
      "state": {}
     },
     "73f704ac07014378a0ad5f72866484a1": {
      "model_module": "@jupyter-widgets/controls",
      "model_module_version": "1.5.0",
      "model_name": "DescriptionStyleModel",
      "state": {
       "description_width": ""
      }
     },
     "7507672266a64f4f9e09e4d553c98687": {
      "model_module": "@jupyter-widgets/controls",
      "model_module_version": "1.5.0",
      "model_name": "VBoxModel",
      "state": {
       "_dom_classes": [
        "widget-interact"
       ],
       "children": [
        "IPY_MODEL_13004c5e900b4bc8b4c1a15c15c8c4d9",
        "IPY_MODEL_4023ba7bdd46472abcbadc90389d2ce9"
       ],
       "layout": "IPY_MODEL_494c51756fd74c69b7ef8cd74b818de3"
      }
     },
     "806459e1b1d145058b8bbf8c9e738ce6": {
      "model_module": "@jupyter-widgets/base",
      "model_module_version": "1.2.0",
      "model_name": "LayoutModel",
      "state": {}
     },
     "8868a1e5493f469684001ef446d4a43f": {
      "model_module": "@jupyter-widgets/output",
      "model_module_version": "1.0.0",
      "model_name": "OutputModel",
      "state": {
       "layout": "IPY_MODEL_53d5f8bc977940d0b9a31f9927a6a12a"
      }
     },
     "8ea23444f7184922a1dd9de13479ff66": {
      "model_module": "@jupyter-widgets/controls",
      "model_module_version": "1.5.0",
      "model_name": "CheckboxModel",
      "state": {
       "description": "corrected",
       "disabled": false,
       "layout": "IPY_MODEL_12787bff6df542e7846109823cd0ee9d",
       "style": "IPY_MODEL_73f704ac07014378a0ad5f72866484a1",
       "value": false
      }
     },
     "a246bdee50664d06bd4eb3836e16ca1c": {
      "model_module": "@jupyter-widgets/base",
      "model_module_version": "1.2.0",
      "model_name": "LayoutModel",
      "state": {}
     },
     "a330631bff3649f2870f03b215c97b07": {
      "model_module": "@jupyter-widgets/controls",
      "model_module_version": "1.5.0",
      "model_name": "CheckboxModel",
      "state": {
       "description": "corrected",
       "disabled": false,
       "layout": "IPY_MODEL_16d9b1868720462ebf80355e3cea203d",
       "style": "IPY_MODEL_c934899d6e01430da8c6def9c1c295d5",
       "value": true
      }
     },
     "a7fe3fd7e8614025856d7262f4c89696": {
      "model_module": "@jupyter-widgets/base",
      "model_module_version": "1.2.0",
      "model_name": "LayoutModel",
      "state": {}
     },
     "ae64e39d3dd84c82bb5450ca65c64817": {
      "model_module": "@jupyter-widgets/controls",
      "model_module_version": "1.5.0",
      "model_name": "VBoxModel",
      "state": {
       "_dom_classes": [
        "widget-interact"
       ],
       "children": [
        "IPY_MODEL_3789ddcc2f29471a9f0e8dcd6bc384be",
        "IPY_MODEL_24806dcb9d50443e8322c0760e5608c9"
       ],
       "layout": "IPY_MODEL_6529fbeb18804652b951f3ed0d7de1ab"
      }
     },
     "b0f167652cc3411cbd84a68b79cf3fe1": {
      "model_module": "@jupyter-widgets/controls",
      "model_module_version": "1.5.0",
      "model_name": "CheckboxModel",
      "state": {
       "description": "corrected",
       "disabled": false,
       "layout": "IPY_MODEL_d3b7a32af6704d6aa9b1df315fe6f50d",
       "style": "IPY_MODEL_2693a8949c334e2d8e5b62337617c8a9",
       "value": false
      }
     },
     "b753efdcc42949749d0b4fec5f20415d": {
      "model_module": "@jupyter-widgets/controls",
      "model_module_version": "1.5.0",
      "model_name": "DescriptionStyleModel",
      "state": {
       "description_width": ""
      }
     },
     "bcfc90965d534f41a0508bd1201573e0": {
      "model_module": "@jupyter-widgets/controls",
      "model_module_version": "1.5.0",
      "model_name": "CheckboxModel",
      "state": {
       "description": "corrected",
       "disabled": false,
       "layout": "IPY_MODEL_f5a607d1502e48758fbb69b4e65b3524",
       "style": "IPY_MODEL_b753efdcc42949749d0b4fec5f20415d",
       "value": false
      }
     },
     "bec8b92819ab4196a439f4ff716cd9c2": {
      "model_module": "@jupyter-widgets/output",
      "model_module_version": "1.0.0",
      "model_name": "OutputModel",
      "state": {
       "layout": "IPY_MODEL_0b1f7abb380847319c94911c453d18f9"
      }
     },
     "c76e20d2cab0453a9aa3be667d7c145b": {
      "model_module": "@jupyter-widgets/base",
      "model_module_version": "1.2.0",
      "model_name": "LayoutModel",
      "state": {}
     },
     "c8950301a6504894a1d97f2e3f572aca": {
      "model_module": "@jupyter-widgets/base",
      "model_module_version": "1.2.0",
      "model_name": "LayoutModel",
      "state": {}
     },
     "c934899d6e01430da8c6def9c1c295d5": {
      "model_module": "@jupyter-widgets/controls",
      "model_module_version": "1.5.0",
      "model_name": "DescriptionStyleModel",
      "state": {
       "description_width": ""
      }
     },
     "cc4f68c8ea36444e8c629f80727981c4": {
      "model_module": "@jupyter-widgets/base",
      "model_module_version": "1.2.0",
      "model_name": "LayoutModel",
      "state": {}
     },
     "d3b7a32af6704d6aa9b1df315fe6f50d": {
      "model_module": "@jupyter-widgets/base",
      "model_module_version": "1.2.0",
      "model_name": "LayoutModel",
      "state": {}
     },
     "d486101396fc47059e35493df0983f10": {
      "model_module": "@jupyter-widgets/output",
      "model_module_version": "1.0.0",
      "model_name": "OutputModel",
      "state": {
       "layout": "IPY_MODEL_c76e20d2cab0453a9aa3be667d7c145b"
      }
     },
     "d65dab9beb61482b9d561b20761c75c0": {
      "model_module": "@jupyter-widgets/output",
      "model_module_version": "1.0.0",
      "model_name": "OutputModel",
      "state": {
       "layout": "IPY_MODEL_806459e1b1d145058b8bbf8c9e738ce6"
      }
     },
     "dc5b5dd4387644c888c6dd13bfcff959": {
      "model_module": "@jupyter-widgets/controls",
      "model_module_version": "1.5.0",
      "model_name": "VBoxModel",
      "state": {
       "_dom_classes": [
        "widget-interact"
       ],
       "children": [
        "IPY_MODEL_b0f167652cc3411cbd84a68b79cf3fe1",
        "IPY_MODEL_2f97c77fe5a0465a9c06c454b55d9dc1"
       ],
       "layout": "IPY_MODEL_4e259774c00e474ab7413ec76409773b"
      }
     },
     "dec6927cefda4bbb9ba255b7065ae3d8": {
      "model_module": "@jupyter-widgets/controls",
      "model_module_version": "1.5.0",
      "model_name": "VBoxModel",
      "state": {
       "_dom_classes": [
        "widget-interact"
       ],
       "children": [
        "IPY_MODEL_a330631bff3649f2870f03b215c97b07",
        "IPY_MODEL_8868a1e5493f469684001ef446d4a43f"
       ],
       "layout": "IPY_MODEL_1a30029fc4b9435287700f8dfa59966d"
      }
     },
     "e35b8abb1ad74c079edbd9ca3c2c244e": {
      "buffers": [
       {
        "data": "dZMYBFYuNUAj2/l+ajw1QJqZmZmZeTVANV66SQxCNUA/NV66SWw1QPp+arx0kzVAcT0K16MQNUA730+Nl241QAIrhxbZjjVAMQisHFpENUD0/dR46SY1QCPb+X5qHDVAZmZmZmaGNUAdWmQ73y81QLbz/dR46TVARIts5/sJNkCamZmZmdk1QG8Sg8DKATZA001iEFgZNkDn+6nx0g02QHNoke18HzZAuB6F61EYNkBt5/up8RI2QKwcWmQ7PzZA",
        "encoding": "base64",
        "path": [
         "_data",
         0,
         "y",
         "value"
        ]
       },
       {
        "data": "UI2XbhJjOsBg5dAi2zk7wIPAyqFF1jvAbef7qfFyOsBQjZduEgM7wG3n+6nxkjrAsHJoke08O8B7FK5H4Xo6wJhuEoPA6jvAsHJoke18OcBKDAIrh3Y6wFYOLbKdzznAkxgEVg6tOsDByqFFtpM6wA==",
        "encoding": "base64",
        "path": [
         "_data",
         2,
         "y",
         "value"
        ]
       },
       {
        "data": "EFg5tMj2LsAv3SQGgXUxwIPAyqFFdijAGQRWDi3yIsCR7Xw/NZ4nwC2yne+nxivARIts5/spLcCNl24Sg0AmwLTIdr6fGjDAz/dT46VbMcC8dJMYBNYdwD81XrpJzC7A4XoUrkdhGcD+1HjpJjECwD81XrpJDCjArBxaZDtfLMDVeOkmMQgkwHe+nxovPTDACKwcWmS7MMA5tMh2vh8wwLx0kxgEVjPAKVyPwvUIMMDfT42XbtIswARWDi2yXS/AEFg5tMh2JsD2KFyPwvUxwEjhehSu5zDAqMZLN4nhMMBqvHSTGIQtwB1aZDvfDzTAvp8aL92kMcBeukkMAoswwKwcWmQ7HyfADi2yne+nIcA730+Nl24uwE5iEFg5tB/ACtejcD0KI8Db+X5qvHQlwDm0yHa+3y3AqvHSTWJQK8A/NV66ScwuwHe+nxovXSzAXrpJDAKLMMC4HoXrUVgwwPhT46WbJDDA1XjpJjGIIsBWDi2ynW8mwGIQWDm0yArALbKd76eGLcA=",
        "encoding": "base64",
        "path": [
         "_data",
         4,
         "y",
         "value"
        ]
       }
      ],
      "model_module": "jupyterlab-plotly",
      "model_module_version": "^5.1.0",
      "model_name": "FigureModel",
      "state": {
       "_config": {
        "plotlyServerURL": "https://plot.ly"
       },
       "_data": [
        {
         "error_y": {
          "thickness": 1.5,
          "type": "constant",
          "value": 0.5381447352028924
         },
         "marker": {
          "color": "RoyalBlue"
         },
         "name": "NBS",
         "type": "scatter",
         "uid": "4ad2764c-6198-4ed9-9eb0-15d66e9f3a4d",
         "x": [
          1,
          2,
          3,
          4,
          5,
          6,
          36,
          37,
          39,
          40,
          76,
          77,
          78,
          79,
          80,
          81,
          82,
          83,
          84,
          85,
          104,
          105,
          106,
          107
         ],
         "y": {
          "dtype": "float64",
          "shape": [
           24
          ]
         }
        },
        {
         "marker": {
          "color": "RoyalBlue",
          "symbol": "square"
         },
         "name": "NBS (average)",
         "opacity": 0.5,
         "type": "scatter",
         "uid": "1da3a253-4443-426f-a1f4-00ffb14d2ffd",
         "x": [
          3.5,
          38,
          77.5,
          82.5,
          105.5
         ],
         "y": [
          21.358166666666666,
          21.3305,
          21.243750000000002,
          21.9935,
          22.13475
         ]
        },
        {
         "error_y": {
          "thickness": 1.5,
          "type": "constant",
          "value": 0.5381447352028924
         },
         "marker": {
          "color": "green"
         },
         "name": "S3",
         "type": "scatter",
         "uid": "5dc4633d-479c-488e-8956-809b6cb4ac9a",
         "x": [
          8,
          9,
          10,
          41,
          43,
          44,
          73,
          74,
          75,
          86,
          87,
          108,
          109,
          110
         ],
         "y": {
          "dtype": "float64",
          "shape": [
           14
          ]
         }
        },
        {
         "marker": {
          "color": "green",
          "symbol": "square"
         },
         "name": "S3 (average)",
         "opacity": 0.5,
         "type": "scatter",
         "uid": "638d63c5-c2e1-422f-82e9-84539317cd69",
         "x": [
          9,
          42.666666666666664,
          74,
          86.5,
          109
         ],
         "y": [
          -27.150000000000002,
          -26.67833333333333,
          -27.21166666666667,
          -25.9755,
          -26.354666666666663
         ]
        },
        {
         "error_y": {
          "thickness": 1.5,
          "type": "constant",
          "value": 0.5381447352028924
         },
         "marker": {
          "color": "GoldenRod"
         },
         "mode": "markers+lines",
         "name": "Samples",
         "type": "scatter",
         "uid": "2134b456-164f-4df0-a997-4e87c5a28a84",
         "x": [
          12,
          13,
          14,
          16,
          17,
          18,
          19,
          20,
          21,
          22,
          23,
          24,
          25,
          26,
          27,
          28,
          29,
          30,
          31,
          32,
          34,
          35,
          45,
          46,
          47,
          48,
          49,
          50,
          51,
          52,
          53,
          54,
          55,
          56,
          57,
          58,
          59,
          60,
          61,
          62,
          64,
          65,
          66,
          89,
          90,
          91,
          92,
          93,
          95,
          96,
          97,
          98
         ],
         "y": {
          "dtype": "float64",
          "shape": [
           49
          ]
         }
        }
       ],
       "_js2py_relayout": {},
       "_js2py_restyle": {},
       "_js2py_update": {},
       "_last_layout_edit_id": 21,
       "_last_trace_edit_id": 17,
       "_layout": {
        "shapes": [
         {
          "line": {
           "color": "RoyalBlue",
           "dash": "dash",
           "width": 2
          },
          "type": "line",
          "x0": 0,
          "x1": 1,
          "xref": "x domain",
          "y0": 20.3,
          "y1": 20.3,
          "yref": "y"
         },
         {
          "line": {
           "color": "green",
           "dash": "dash",
           "width": 2
          },
          "type": "line",
          "x0": 0,
          "x1": 1,
          "xref": "x domain",
          "y0": -32.49,
          "y1": -32.49,
          "yref": "y"
         }
        ],
        "template": {
         "layout": {
          "bargap": 0.05,
          "bargroupgap": 0,
          "font": {
           "color": "black",
           "family": "Arial",
           "size": 16
          },
          "height": 700,
          "hovermode": "closest",
          "margin": {
           "b": 60,
           "l": 60,
           "r": 30,
           "t": 30
          },
          "scene": {
           "xaxis": {
            "color": "black",
            "linewidth": 2,
            "showline": true,
            "ticks": "outside"
           },
           "yaxis": {
            "color": "black",
            "linewidth": 2,
            "showline": true,
            "ticks": "outside"
           },
           "zaxis": {
            "color": "black",
            "linewidth": 2,
            "showline": true,
            "ticks": "outside"
           }
          },
          "xaxis": {
           "color": "black",
           "linewidth": 1.3,
           "mirror": true,
           "showgrid": true,
           "showline": true,
           "ticks": "outside",
           "zeroline": true
          },
          "yaxis": {
           "color": "black",
           "linewidth": 1.3,
           "mirror": true,
           "showgrid": true,
           "showline": true,
           "ticks": "outside",
           "zeroline": true
          }
         }
        },
        "xaxis": {
         "rangemode": "tozero",
         "title": {
          "text": "Run number"
         }
        },
        "yaxis": {
         "title": {
          "text": "δ<sup>34</sup>S / ‰"
         }
        }
       },
       "_py2js_animate": {},
       "_py2js_deleteTraces": {},
       "_py2js_moveTraces": {},
       "_py2js_removeLayoutProps": {},
       "_py2js_removeTraceProps": {},
       "_view_count": 0
      }
     },
     "e548d0795b0e4a15812bbc74bdc589be": {
      "model_module": "@jupyter-widgets/controls",
      "model_module_version": "1.5.0",
      "model_name": "DescriptionStyleModel",
      "state": {
       "description_width": ""
      }
     },
     "f5a607d1502e48758fbb69b4e65b3524": {
      "model_module": "@jupyter-widgets/base",
      "model_module_version": "1.2.0",
      "model_name": "LayoutModel",
      "state": {}
     },
     "f61dbbc0787442f6a04e0a84c1b75df0": {
      "buffers": [
       {
        "data": "VsLuHAAbNEBGM37xfyo0QEQmE20ubTRA5BCenwsxNEAE/Y8+LV80QAz6JO3+iTRA2uPAl8IBNEAKrLlFGWk0QIbHbmNkjTRA6mhbRSw8NEB+KsVtLzI0QCh2yJY9JzRAKFHXn7aGNEC+7S4fzf0zQLZ1Azj+njRAklV3sXuYNEACUfpvpDk0QIYzB463TzRAxlCMaMhnNEBie8LSeVk0QFgkYF0XTDRArDu9+Y9CNEDYqLXU/jo0QPgrER+IaTRA",
        "encoding": "base64",
        "path": [
         "_data",
         0,
         "y",
         "value"
        ]
       },
       {
        "data": "6uI5fAOlP8CdvZfCTklAwOo1xo1ooEDAUu7V+yobQMD+QcOm42xAwOrXeznYLEDA0j+VRsREQMAlyqQAabE/wATjtREWr0DAacWX4GPmP8ApLLZbJ4JAwLG/zQyc6j/AWWOOj3prQMCB2a7+U1tAwA==",
        "encoding": "base64",
        "path": [
         "_data",
         2,
         "y",
         "value"
        ]
       },
       {
        "data": "cLVTVzbTM8BHB3jAo/01wEh3pGLcTTDALpLmYh+iKsD+Mwkh278vwFOYG3RkJzLAMpG41iPsMsB4L4ehp1EuwKm1c0F4mzTAovup9wEPLcBQdbRRVgA2wMgJsxtRYSbAUkHHbgjiM8Agl5iD0rI0wI7RN3Ke/iPABAWR40wyFsDZNV+OpTswwNVmeu6QnDLAfqOq52AbLMAKO9kXTeI0wDalBdnBcjXAwoQpRBDLNMBBT3jre2A4wCzv913huzTAqpb/dWPvMsDfxuMROVE0wM7GibpK1S7A2AW+cjvJNsAbhh+D8Jw1wPQyA9BHkjXA2oohP4Y6M8Byvtaw8wY5wIBSeJWMXDbA5gYqctojNcAaHhL55lYvwBgj98aPHi7A/BlhqIi+KsCA0Hqyr3ogwCgg/a4WWCPAXssVuy9/MMDUMp3o55gqwMYQvdumdTHAegDWAACoI8A2wQnbSRQpwBcvK48EfzPAQkSvAd0PJ8BUy2Mb+XwqwIy4c3vnZy/APlPtOgpRNMCEuSjx9+UywKf2cplczDTAjRNigkVzM8DuGDRs5AY2wOmxLnzjyzXAvEEDCcD5HMCER4U+x0EiwHJF5eo+TDXAEslss2j/MMAI2lHqR4I1wETF7dHI9SvAu6KkiUsaMMCMvUy9Yf8dwMTRJ0hB8zPA",
        "encoding": "base64",
        "path": [
         "_data",
         4,
         "y",
         "value"
        ]
       }
      ],
      "model_module": "jupyterlab-plotly",
      "model_module_version": "^5.1.0",
      "model_name": "FigureModel",
      "state": {
       "_config": {
        "plotlyServerURL": "https://plot.ly"
       },
       "_data": [
        {
         "error_y": {
          "thickness": 1.5,
          "type": "constant",
          "value": 0.5381447352028924
         },
         "marker": {
          "color": "RoyalBlue"
         },
         "name": "NBS",
         "type": "scatter",
         "uid": "d6476399-9f8e-4e00-8752-89430e4af013",
         "x": [
          1,
          2,
          3,
          4,
          5,
          6,
          36,
          37,
          39,
          40,
          76,
          77,
          78,
          79,
          80,
          81,
          82,
          83,
          84,
          85,
          104,
          105,
          106,
          107
         ],
         "y": {
          "dtype": "float64",
          "shape": [
           24
          ]
         }
        },
        {
         "marker": {
          "color": "RoyalBlue",
          "symbol": "square"
         },
         "name": "NBS (average)",
         "opacity": 0.5,
         "type": "scatter",
         "uid": "107ba436-17dc-4d18-a1a7-f0d489baeb85"
        },
        {
         "error_y": {
          "thickness": 1.5,
          "type": "constant",
          "value": 0.5381447352028924
         },
         "marker": {
          "color": "green"
         },
         "name": "S3",
         "type": "scatter",
         "uid": "0e51d5bf-9d7f-47f3-99f7-8a265110a320",
         "x": [
          8,
          9,
          10,
          41,
          43,
          44,
          73,
          74,
          75,
          86,
          87,
          108,
          109,
          110
         ],
         "y": {
          "dtype": "float64",
          "shape": [
           14
          ]
         }
        },
        {
         "marker": {
          "color": "green",
          "symbol": "square"
         },
         "name": "S3 (average)",
         "opacity": 0.5,
         "type": "scatter",
         "uid": "38c5f5cf-6904-4bf2-b048-5b10935eb0cc"
        },
        {
         "error_y": {
          "thickness": 1.5,
          "type": "constant",
          "value": 0.5381447352028924
         },
         "marker": {
          "color": "GoldenRod"
         },
         "mode": "markers+lines",
         "name": "Samples",
         "type": "scatter",
         "uid": "3ef4b52e-9e8c-45ac-9818-1606d8441c16",
         "x": [
          12,
          13,
          14,
          16,
          17,
          18,
          19,
          20,
          21,
          22,
          23,
          24,
          25,
          26,
          27,
          28,
          29,
          30,
          31,
          32,
          34,
          35,
          45,
          46,
          47,
          48,
          49,
          50,
          51,
          52,
          53,
          54,
          55,
          56,
          57,
          58,
          59,
          60,
          61,
          62,
          64,
          65,
          66,
          68,
          69,
          70,
          72,
          88,
          89,
          90,
          91,
          92,
          93,
          94,
          95,
          96,
          97,
          98,
          99,
          100,
          101,
          102,
          103
         ],
         "y": {
          "dtype": "float64",
          "shape": [
           63
          ]
         }
        }
       ],
       "_js2py_relayout": {},
       "_js2py_restyle": {},
       "_js2py_update": {},
       "_last_layout_edit_id": 33,
       "_last_trace_edit_id": 29,
       "_layout": {
        "shapes": [
         {
          "line": {
           "color": "RoyalBlue",
           "dash": "dash",
           "width": 2
          },
          "type": "line",
          "x0": 0,
          "x1": 1,
          "xref": "x domain",
          "y0": 20.3,
          "y1": 20.3,
          "yref": "y"
         },
         {
          "line": {
           "color": "green",
           "dash": "dash",
           "width": 2
          },
          "type": "line",
          "x0": 0,
          "x1": 1,
          "xref": "x domain",
          "y0": -32.49,
          "y1": -32.49,
          "yref": "y"
         }
        ],
        "template": {
         "layout": {
          "bargap": 0.05,
          "bargroupgap": 0,
          "font": {
           "color": "black",
           "family": "Arial",
           "size": 16
          },
          "height": 700,
          "hovermode": "closest",
          "margin": {
           "b": 60,
           "l": 60,
           "r": 30,
           "t": 30
          },
          "scene": {
           "xaxis": {
            "color": "black",
            "linewidth": 2,
            "showline": true,
            "ticks": "outside"
           },
           "yaxis": {
            "color": "black",
            "linewidth": 2,
            "showline": true,
            "ticks": "outside"
           },
           "zaxis": {
            "color": "black",
            "linewidth": 2,
            "showline": true,
            "ticks": "outside"
           }
          },
          "xaxis": {
           "color": "black",
           "linewidth": 1.3,
           "mirror": true,
           "showgrid": true,
           "showline": true,
           "ticks": "outside",
           "zeroline": true
          },
          "yaxis": {
           "color": "black",
           "linewidth": 1.3,
           "mirror": true,
           "showgrid": true,
           "showline": true,
           "ticks": "outside",
           "zeroline": true
          }
         }
        },
        "xaxis": {
         "rangemode": "tozero",
         "title": {
          "text": "Run number"
         }
        },
        "yaxis": {
         "title": {
          "text": "δ<sup>34</sup>S (‰)"
         }
        }
       },
       "_py2js_animate": {},
       "_py2js_deleteTraces": {},
       "_py2js_moveTraces": {},
       "_py2js_removeLayoutProps": {},
       "_py2js_removeTraceProps": {},
       "_view_count": 0
      }
     },
     "ffa40ecf41fd49008d55e9f404390013": {
      "model_module": "@jupyter-widgets/controls",
      "model_module_version": "1.5.0",
      "model_name": "VBoxModel",
      "state": {
       "_dom_classes": [
        "widget-interact"
       ],
       "children": [
        "IPY_MODEL_22de58bc96e54748880d7ef43d696243",
        "IPY_MODEL_6c7024b7b7bc4eb7a51eab2f6ac6e522"
       ],
       "layout": "IPY_MODEL_3d548a97c63f42139c11b14c300b7214"
      }
     }
    },
    "version_major": 2,
    "version_minor": 0
   }
  }
 },
 "nbformat": 4,
 "nbformat_minor": 4
}
