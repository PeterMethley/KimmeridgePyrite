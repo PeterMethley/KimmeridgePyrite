{
 "cells": [
  {
   "cell_type": "code",
   "execution_count": 1,
   "metadata": {},
   "outputs": [],
   "source": [
    "# Import libraries\n",
    "import pandas as pd\n",
    "import numpy as np\n",
    "import ipywidgets as wdg\n",
    "from plotly_default import go, graph_config, sel_trace\n",
    "from plotly.subplots import make_subplots"
   ]
  },
  {
   "cell_type": "code",
   "execution_count": 2,
   "metadata": {},
   "outputs": [],
   "source": [
    "log_df = pd.read_csv('./Data/Log_data_combined.csv')\n",
    "species_types=pd.read_csv('./Controls/Species_types.csv')"
   ]
  },
  {
   "cell_type": "code",
   "execution_count": 3,
   "metadata": {},
   "outputs": [],
   "source": [
    "cat_symbols = {'Mudstone': 'circle',\n",
    "               'Carbonate': 'star',\n",
    "               'Pervasively pyritised regions': 'square',\n",
    "               'Bed 22': 'diamond'}\n",
    "categories = list(cat_symbols.keys())\n",
    "\n",
    "def init_biv_plot():\n",
    "    plot = go.FigureWidget()\n",
    "    \n",
    "    for category in categories:   \n",
    "        plot.add_trace(go.Scatter(mode='markers',\n",
    "                                  marker_line={'color': 'Black', 'width': 1},\n",
    "                                  marker_symbol=cat_symbols[category],\n",
    "                                  marker_coloraxis='coloraxis',\n",
    "                                  name=category))\n",
    "        \n",
    "    # Add diagonal line\n",
    "    plot.add_shape(type='line', x0=-100, y0=-100, x1=100, y1=100, visible=False, line_width=0.5, name='Diagonal')\n",
    "\n",
    "    plot.update_layout(height=650, width=800,\n",
    "                       showlegend = False,\n",
    "                       legend=dict(orientation=\"h\",\n",
    "                                   yanchor=\"bottom\",\n",
    "                                   y=1.01,\n",
    "                                   xanchor=\"left\",\n",
    "                                   x=0,\n",
    "                                   itemsizing='constant'),\n",
    "                       coloraxis=dict(colorscale='viridis_r', colorbar_ticks='outside'))\n",
    "    \n",
    "    return plot"
   ]
  },
  {
   "cell_type": "code",
   "execution_count": 4,
   "metadata": {},
   "outputs": [
    {
     "data": {
      "application/vnd.jupyter.widget-view+json": {
       "model_id": "de96755bd70c4a27b611542964db70f9",
       "version_major": 2,
       "version_minor": 0
      },
      "text/plain": [
       "interactive(children=(FloatSlider(value=4.0, description='C_to_py', max=8.0, step=0.001), FloatSlider(value=6.…"
      ]
     },
     "metadata": {},
     "output_type": "display_data"
    },
    {
     "data": {
      "application/vnd.jupyter.widget-view+json": {
       "model_id": "fffd08065293467386ab569e8940fb47",
       "version_major": 2,
       "version_minor": 0
      },
      "text/plain": [
       "FigureWidget({\n",
       "    'data': [{'marker': {'color': array([-21.9907799 , -16.03659904, -13.28036687, -15.8747187 …"
      ]
     },
     "metadata": {},
     "output_type": "display_data"
    }
   ],
   "source": [
    "fig1 = init_biv_plot()\n",
    "\n",
    "@wdg.interact(C_to_py = wdg.FloatSlider(value=4, min=0, max=8, step=0.001),\n",
    "              C_to_N = wdg.FloatSlider(value=106/16, min=0, max=40),\n",
    "              progress = wdg.FloatSlider(value=1, min=0, max=1, step = 0.001))\n",
    "def update_C_plot(C_to_py, C_to_N, progress):\n",
    "    \n",
    "    with fig1.batch_update():\n",
    "        for category in categories:\n",
    "            cat_df = log_df[log_df.category == category]\n",
    "            \n",
    "            C_mes = np.array(cat_df['TOC'])\n",
    "            N_mes = np.array(cat_df['TN'])\n",
    "            py_mes = np.array(cat_df['Fe_py'])\n",
    "            d34S_mes = np.array(cat_df['d34S'])\n",
    "            \n",
    "            C_N_mass = C_to_N * 12.011/14.007\n",
    "            \n",
    "            dC_i = py_mes * C_to_py * 12.011/55.845\n",
    "            C_i = C_mes + dC_i\n",
    "            N_i = N_mes + dC_i/C_N_mass\n",
    "            \n",
    "            dC = dC_i * progress\n",
    "            Cs = C_i - dC\n",
    "            Ns = N_i - dC/C_N_mass\n",
    "            \n",
    "            pys = py_mes * progress\n",
    "            \n",
    "            Cs_to_Ns = Cs / Ns\n",
    "\n",
    "            graph_texts = []\n",
    "            i = 0\n",
    "            for d in cat_df.iterrows():\n",
    "                graph_texts.append(d[1]['name'] + '<br>' +\n",
    "                                   '[Fe<sub>py</sub>] (wt%)' + ': {:.2f}<br>'.format(pys[i]) +\n",
    "                                   'δ<sup>34</sup>S<sub>py</sub> (‰)' + ': {:.2f}'.format(d34S_mes[i]))\n",
    "                i += 1\n",
    "\n",
    "            cat_trace = sel_trace(fig1, category)\n",
    "            cat_trace.x=Cs\n",
    "            cat_trace.y=Cs_to_Ns\n",
    "            cat_trace.marker.size=pys\n",
    "            cat_trace.marker.sizemin=4\n",
    "            cat_trace.marker.sizeref=3*np.mean(py_mes/(6.**2))\n",
    "            cat_trace.marker.color=d34S_mes\n",
    "            cat_trace.text=graph_texts\n",
    "            \n",
    "        # Only concentration axes should go to zero\n",
    "        fig1.layout.xaxis.rangemode = 'tozero'\n",
    "\n",
    "        fig1.layout.xaxis.title = 'TOC (wt%)'\n",
    "        fig1.layout.yaxis.title = 'TOC/TN'\n",
    "        fig1.layout.coloraxis.colorbar.title = 'δ<sup>34</sup>S<sub>py</sub> (‰)'\n",
    "        \n",
    "fig1"
   ]
  },
  {
   "cell_type": "code",
   "execution_count": 10,
   "metadata": {},
   "outputs": [
    {
     "data": {
      "application/vnd.jupyter.widget-view+json": {
       "model_id": "e7e886bc77f14105b9f4f73c5b3230c5",
       "version_major": 2,
       "version_minor": 0
      },
      "text/plain": [
       "interactive(children=(FloatSlider(value=0.05, description='TN_silicate', layout=Layout(width='60%'), max=1.0, …"
      ]
     },
     "metadata": {},
     "output_type": "display_data"
    },
    {
     "data": {
      "application/vnd.jupyter.widget-view+json": {
       "model_id": "d26287f213f44f54b8f61e4e8b314485",
       "version_major": 2,
       "version_minor": 0
      },
      "text/plain": [
       "FigureWidget({\n",
       "    'data': [{'marker': {'coloraxis': 'coloraxis', 'line': {'color': 'Black', 'width': 1}, 'sym…"
      ]
     },
     "metadata": {},
     "output_type": "display_data"
    }
   ],
   "source": [
    "fig2 = init_biv_plot()\n",
    "\n",
    "for category in categories:\n",
    "    cat_df = log_df[log_df.category == category]\n",
    "    \n",
    "    cat_trace = sel_trace(fig2, category)\n",
    "    cat_trace.x = cat_df['TOC']\n",
    "    cat_trace.y = (cat_df['TOC']/12.011)/(cat_df['TN']/14.007)\n",
    "    \n",
    "fig2.add_trace(go.Scatter(mode='lines', line_color='black', name='model'))\n",
    "\n",
    "fig2.layout.xaxis.rangemode = 'tozero'\n",
    "\n",
    "fig2.layout.xaxis.title = 'TOC (wt%)'\n",
    "fig2.layout.yaxis.title = 'TOC/TN'\n",
    "    \n",
    "\n",
    "@wdg.interact(TN_silicate = wdg.FloatSlider(value=0.05, min=0, max=1, step=0.001, layout=wdg.Layout(width='60%')),\n",
    "              CN_kerogen = wdg.FloatSlider(value=50, min=0, max=100, step = 0.001, layout=wdg.Layout(width='60%')))\n",
    "def Kipp_model(TN_silicate, CN_kerogen):\n",
    "    \n",
    "    with fig2.batch_update():\n",
    "        \n",
    "        TOCs = np.arange(1,20, 0.05)\n",
    "        \n",
    "        CNs = (TOCs/12.011)/((TN_silicate+((TOCs*14.01)/(CN_kerogen*12.01)))/14.007)\n",
    "        \n",
    "        tr = sel_trace(fig2, 'model')\n",
    "\n",
    "        tr.x = TOCs\n",
    "        tr.y=CNs\n",
    "        \n",
    "fig2"
   ]
  },
  {
   "cell_type": "code",
   "execution_count": null,
   "metadata": {},
   "outputs": [],
   "source": []
  }
 ],
 "metadata": {
  "interpreter": {
   "hash": "d3702d2af4e531f32f7797dcaec7f7ba450ae5cfd85cc4844bdb09d9ae1d097f"
  },
  "kernelspec": {
   "display_name": "Python 3.9.7 ('CarbChem')",
   "language": "python",
   "name": "python3"
  },
  "language_info": {
   "codemirror_mode": {
    "name": "ipython",
    "version": 3
   },
   "file_extension": ".py",
   "mimetype": "text/x-python",
   "name": "python",
   "nbconvert_exporter": "python",
   "pygments_lexer": "ipython3",
   "version": "3.9.7"
  },
  "orig_nbformat": 4
 },
 "nbformat": 4,
 "nbformat_minor": 2
}
