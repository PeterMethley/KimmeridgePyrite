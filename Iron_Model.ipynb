{
 "cells": [
  {
   "cell_type": "markdown",
   "metadata": {
    "presto": {
     "id": "f122c9f4-8270-4134-b7a1-c968ad159bca"
    },
    "tags": []
   },
   "source": [
    "# Iron Speciation Model\n",
    "This assumes that the system is sulphide-limited, with plenty of highly-reactive iron available. Therefore, the amount of pyrite produced is equal to the amount of H<sub>2</sub>S that entered the system (divided by 2, since 1 FeS<sub>2</sub> is made from 2 H<sub>2</sub>S). I assume a constant sulphide flux, $q_\\mathrm{H_2S}$, so pyrite is being generated at a constant rate $d_\\mathrm{py}$ for a time $t$.\n",
    "\n",
    "$$\\frac{\\partial\\mathrm{[Fe_{py}]}}{\\partial t} = d_\\mathrm{py}$$\n",
    "\n",
    "$$\\mathrm{[Fe_{py}]}=\\int d_\\mathrm{py}\\,\\mathrm{d}t = d_\\mathrm{py}\\,t+\\mathrm{[Fe_{py}]}_0$$\n",
    "\n",
    "$$\\left(\\frac{\\mathrm{[Fe_{py}]}}{\\mathrm{[Fe_{HR}]}}\\right)_t = \\left(\\frac{\\mathrm{[Fe_{py}]}}{\\mathrm{[Fe_{HR}]}}\\right)_0 + \\frac{d_\\mathrm{py}\\,t}{\\mathrm{[Fe_{HR}]}}$$\n",
    "\n",
    "Note that this is equivalent to an exponentially-decaying sulphide flux integrated over infinite time:\n",
    "$$\\frac{\\partial\\mathrm{[Fe_{py}]}}{\\partial t} = d_0 e^{-\\lambda t}$$\n",
    "where $d_\\mathrm{py}\\cdot t = \\frac{d_0}{\\lambda}$.\n",
    "\n",
    "To convert $q_\\mathrm{H_2S}$ to $d_\\mathrm{py}$:\n",
    "$$d_\\mathrm{py} = \\frac{q_\\mathrm{H_2S} \\cdot M_r(\\mathrm{Fe})}{2\\rho_s}$$\n",
    "where $M_r(\\mathrm{Fe})$ is the relative atomic mass of iron (55.845 g/mol), and $\\rho_s$ is the density of freshly-deposited sediment (about 1.7 g/cm³). This means that a typical H₂S flux of 200 pmol cm⁻³ day⁻¹ is equivalent to a pyrite production rate of 0.12 wt% per ka."
   ]
  },
  {
   "cell_type": "code",
   "execution_count": 1,
   "metadata": {
    "autorun": false,
    "tags": []
   },
   "outputs": [],
   "source": [
    "from plotly_default import go, graph_config, sel_trace\n",
    "import pandas as pd\n",
    "import numpy as np\n",
    "import ipywidgets as wdg\n",
    "from plotly.subplots import make_subplots"
   ]
  },
  {
   "cell_type": "code",
   "execution_count": 2,
   "metadata": {},
   "outputs": [],
   "source": [
    "def wt_to_M(wt, Mr=55.845, density=1.7):\n",
    "    '''Converts a weight percent of a substance with molar mass Mr (default iron) into a molar concentration\n",
    "    in a sediment of specified density (default 1.7 g/cm³)'''\n",
    "    # g/dm³  = 1000 * g/cm³ = 1000 * density * wt% / 100 = 10 * density * wt%\n",
    "    return 10. * density * wt / Mr\n",
    "\n",
    "def M_to_wt(M, Mr=55.845, density=1.7):\n",
    "    return M * Mr / (10. * density)\n",
    "\n",
    "slider_style=dict(description_width='initial')"
   ]
  },
  {
   "cell_type": "code",
   "execution_count": 3,
   "metadata": {},
   "outputs": [
    {
     "data": {
      "text/plain": [
       "0.5256"
      ]
     },
     "execution_count": 3,
     "metadata": {},
     "output_type": "execute_result"
    }
   ],
   "source": [
    "M_to_wt(0.16)"
   ]
  },
  {
   "cell_type": "code",
   "execution_count": 4,
   "metadata": {},
   "outputs": [],
   "source": [
    "# Read in data\n",
    "species_types=pd.read_csv('./Controls/Species_types.csv')\n",
    "log_df=pd.read_csv('./Data/Log_data_combined.csv',index_col=0)\n",
    "\n",
    "try:\n",
    "    log_df.insert(loc=9, column='Constant', value=1) #\n",
    "except ValueError:\n",
    "    pass # do nothing if column already exists\n",
    "\n",
    "data_types = species_types.append(pd.DataFrame({'header': ['Constant', 'height'], 'label': ['', '<i>h</i> / m']}), ignore_index=True, sort=False)\n",
    "\n",
    "axis_options = list(data_types.header)\n",
    "size_options = [i for i in axis_options if i != 'd34S']\n",
    "\n",
    "def axis_mode(species):\n",
    "    if species.startswith('Fe') or species.startswith('py_to') or species.startswith('T'):\n",
    "        return 'tozero'\n",
    "    else:\n",
    "        return 'normal'"
   ]
  },
  {
   "cell_type": "code",
   "execution_count": 5,
   "metadata": {},
   "outputs": [],
   "source": [
    "# categories = list(set(log_df.category))\n",
    "# categories = ['Stratigraphic sequence', 'Pervasively pyritised regions', 'Bed 22']\n",
    "cat_symbols = {'Mudstone': 'circle',\n",
    "               'Carbonate': 'star',\n",
    "               'Pervasively pyritised regions': 'square',\n",
    "               'Bed 22': 'diamond'}\n",
    "categories = list(cat_symbols.keys())\n",
    "\n",
    "def init_biv_plot():\n",
    "    plot = go.FigureWidget()\n",
    "    \n",
    "    for category in categories:   \n",
    "        plot.add_trace(go.Scatter(mode='markers',\n",
    "                                  marker_line={'color': 'Black', 'width': 1},\n",
    "                                  marker_symbol=cat_symbols[category],\n",
    "                                  marker_coloraxis='coloraxis',\n",
    "                                  name=category))\n",
    "        \n",
    "    # Add diagonal line\n",
    "    plot.add_shape(type='line', x0=-100, y0=-100, x1=100, y1=100, visible=False, line_width=0.5, name='Diagonal')\n",
    "\n",
    "    plot.update_layout(height=700, width=740,\n",
    "                       legend=dict(orientation=\"h\",\n",
    "                                   yanchor=\"bottom\",\n",
    "                                   y=1.01,\n",
    "                                   xanchor=\"left\",\n",
    "                                   x=0,\n",
    "                                   itemsizing='constant'),\n",
    "                       coloraxis=dict(colorscale='viridis_r', colorbar_ticks='outside'))\n",
    "    \n",
    "    return plot\n",
    "\n",
    "axis_options = list(data_types.header)\n",
    "size_options = [i for i in axis_options if i != 'd34S']\n",
    "\n",
    "base_errorbar = dict(type='data', thickness=1, color='DarkGrey')\n",
    "\n",
    "\n",
    "def update_biv_traces(x, y, colour, size, diagonal, plot_errors, plot):\n",
    "    \n",
    "    with plot.batch_update():\n",
    "\n",
    "        for category in categories:\n",
    "            cat_df = log_df[log_df.category == category]\n",
    "\n",
    "            if plot_errors:\n",
    "                x_errorbars = {**base_errorbar, 'array': cat_df[x+'_err']}\n",
    "                y_errorbars = {**base_errorbar, 'array': cat_df[y+'_err']}\n",
    "            else:\n",
    "                x_errorbars = None\n",
    "                y_errorbars = None\n",
    "\n",
    "            graph_texts = []\n",
    "            for d in cat_df.iterrows():\n",
    "                graph_texts.append(d[1]['name'] + '<br>' +\n",
    "                                   data_types.loc[data_types.header==size, 'label'].iloc[0] + ': {:.2f}<br>'.format(d[1][size]) +\n",
    "                                   data_types.loc[data_types.header==colour, 'label'].iloc[0] + ': {:.2f}'.format(d[1][colour]))\n",
    "\n",
    "            cat_trace = sel_trace(plot, category)\n",
    "            cat_trace.x=cat_df[x]\n",
    "            cat_trace.y=cat_df[y]\n",
    "            cat_trace.error_x=x_errorbars\n",
    "            cat_trace.error_y=y_errorbars\n",
    "            cat_trace.marker.size=cat_df[size]\n",
    "            cat_trace.marker.sizemin=4\n",
    "            cat_trace.marker.sizeref=3*np.mean(log_df[size]/(6.**2))\n",
    "            cat_trace.marker.color=cat_df[colour]\n",
    "            cat_trace.text=graph_texts\n",
    "\n",
    "\n",
    "        if diagonal:\n",
    "            line_bottom_left = min(log_df[x].min(), log_df[y].min())\n",
    "            line_top_right = max(log_df[x].max(), log_df[y].max())\n",
    "            plot.update_shapes(selector=dict(name='Diagonal'),\n",
    "                               visible=True, x0 = line_bottom_left, y0 = line_bottom_left,\n",
    "                               x1 = line_top_right, y1 = line_top_right)\n",
    "        else:\n",
    "            plot.update_shapes(selector=dict(name='Diagonal'), visible=False)\n",
    "            \n",
    "    \n",
    "        # Only concentration axes should go to zero\n",
    "        plot.layout.xaxis.rangemode = axis_mode(x)\n",
    "        plot.layout.yaxis.rangemode = axis_mode(y)\n",
    "\n",
    "        plot.layout.xaxis.title = data_types.loc[data_types.header==x, 'label'].iloc[0]\n",
    "        plot.layout.yaxis.title = data_types.loc[data_types.header==y, 'label'].iloc[0]\n",
    "        plot.layout.coloraxis.colorbar.title = data_types.loc[data_types.header==colour, 'label'].iloc[0]"
   ]
  },
  {
   "cell_type": "code",
   "execution_count": 6,
   "metadata": {},
   "outputs": [
    {
     "data": {
      "application/vnd.jupyter.widget-view+json": {
       "model_id": "c8b3b9e6b0ba4ab1b66eb280a1575a08",
       "version_major": 2,
       "version_minor": 0
      },
      "text/plain": [
       "interactive(children=(Dropdown(description='x', index=3, options=('HR_to_tot', 'py_to_HR', 'py_to_tot', 'Fe_py…"
      ]
     },
     "metadata": {},
     "output_type": "display_data"
    },
    {
     "data": {
      "application/vnd.jupyter.widget-view+json": {
       "model_id": "261a46f3969a4761a7cc78387f9ccf90",
       "version_major": 2,
       "version_minor": 0
      },
      "text/plain": [
       "FigureWidget({\n",
       "    'data': [{'error_x': {},\n",
       "              'error_y': {},\n",
       "              'marker': {'color': arr…"
      ]
     },
     "metadata": {},
     "output_type": "display_data"
    }
   ],
   "source": [
    "# Customisable bivariate plot\n",
    "biv_plot = init_biv_plot()\n",
    "\n",
    "wdg.interact(update_biv_traces,\n",
    "             x=wdg.Dropdown(options=axis_options, value='Fe_py'),\n",
    "             y=wdg.Dropdown(options=axis_options, value='d34S'),\n",
    "             colour=wdg.Dropdown(options=axis_options, value='height'),\n",
    "             size=wdg.Dropdown(options=size_options, value='Constant'),\n",
    "             diagonal=False,\n",
    "             plot_errors=False,\n",
    "             plot=wdg.fixed(biv_plot));\n",
    "\n",
    "biv_plot"
   ]
  },
  {
   "cell_type": "code",
   "execution_count": 7,
   "metadata": {},
   "outputs": [
    {
     "data": {
      "application/vnd.jupyter.widget-view+json": {
       "model_id": "a84a09a0e7aa43dcbe796da502402bd2",
       "version_major": 2,
       "version_minor": 0
      },
      "text/plain": [
       "interactive(children=(Dropdown(description='colour', index=10, options=('HR_to_tot', 'py_to_HR', 'py_to_tot', …"
      ]
     },
     "metadata": {},
     "output_type": "display_data"
    },
    {
     "data": {
      "application/vnd.jupyter.widget-view+json": {
       "model_id": "92beb33c71d2436eb2c150696a8a7e8c",
       "version_major": 2,
       "version_minor": 0
      },
      "text/plain": [
       "FigureWidget({\n",
       "    'data': [{'error_x': {},\n",
       "              'error_y': {},\n",
       "              'marker': {'color': arr…"
      ]
     },
     "metadata": {},
     "output_type": "display_data"
    }
   ],
   "source": [
    "# Fe speciation plot\n",
    "spec_plot=init_biv_plot()\n",
    "spec_plot.update_layout(xaxis_range=[0,1], yaxis_range=[0,1])\n",
    "spec_plot.add_hline(0.8, line_width=1, line_dash='dash')\n",
    "spec_plot.add_vline(0.38, line_width=1, line_dash='dash')\n",
    "\n",
    "wdg.interact(update_biv_traces,\n",
    "             x=wdg.fixed('HR_to_tot'),\n",
    "             y=wdg.fixed('py_to_HR'),\n",
    "             colour=wdg.Dropdown(options=axis_options, value='d34S'),\n",
    "             size=wdg.Dropdown(options=size_options, value='Constant'),\n",
    "             diagonal=wdg.fixed(False),\n",
    "             plot_errors=False,\n",
    "             plot=wdg.fixed(spec_plot));\n",
    "\n",
    "spec_plot"
   ]
  },
  {
   "cell_type": "code",
   "execution_count": 8,
   "metadata": {},
   "outputs": [
    {
     "data": {
      "application/vnd.jupyter.widget-view+json": {
       "model_id": "cc71e786789b420bb374a9fee9a2cb84",
       "version_major": 2,
       "version_minor": 0
      },
      "text/plain": [
       "interactive(children=(FloatSlider(value=5.0, description='[Fe<sub>tot</sub>] / wt%', layout=Layout(width='75%'…"
      ]
     },
     "metadata": {},
     "output_type": "display_data"
    },
    {
     "data": {
      "application/vnd.jupyter.widget-view+json": {
       "model_id": "1ed4428698e74f5e8080d4d993fdb9f8",
       "version_major": 2,
       "version_minor": 0
      },
      "text/plain": [
       "FigureWidget({\n",
       "    'data': [{'name': 'Constant q<sub>H2S</sub>',\n",
       "              'type': 'scatter',\n",
       "            …"
      ]
     },
     "metadata": {},
     "output_type": "display_data"
    }
   ],
   "source": [
    "# Test model\n",
    "HR_tot_0 = np.linspace(0.01,1,100)\n",
    "py_HR_0 = np.zeros(50)\n",
    "\n",
    "model_test=go.FigureWidget()\n",
    "model_test.add_trace(go.Scatter(name='Constant q<sub>H2S</sub>', x=HR_tot_0))\n",
    "#model_test.add_trace(go.Scatter(name='Decaying q<sub>H2S</sub>'))\n",
    "model_test.update_layout(xaxis_range=[0,1], yaxis_range=[0,1],\n",
    "                         width=700, height=700)\n",
    "model_test.add_hline(0.8, line_width=1, line_dash='dash')\n",
    "model_test.add_vline(0.38, line_width=1, line_dash='dash')\n",
    "model_test.update_layout(xaxis_title='[Fe<sub>HR</sub>]/[Fe<sub>tot</sub>]',\n",
    "                         yaxis_title='[Fe<sub>py</sub>]/[Fe<sub>HR</sub>]')\n",
    "\n",
    "\n",
    "@wdg.interact(Fe_tot=wdg.FloatSlider(value=5, min=0, max=15, description='[Fe<sub>tot</sub>] / wt%', style=slider_style, layout=wdg.Layout(width='75%')),\n",
    "              py_0 = wdg.FloatSlider(value=0, min=0, max=5, step=0.1, description='[Fe<sub>py</sub>]<sub>0</sub> / wt%', style=slider_style, layout=wdg.Layout(width='75%')),\n",
    "              n_H2S=wdg.FloatSlider(value=0, min=0, max=1.5, step=0.01, description='H<sub>2</sub>S added / mol', style=slider_style, layout=wdg.Layout(width='75%')),\n",
    "              plot=wdg.fixed(model_test))\n",
    "def update_Fe_model(Fe_tot, py_0, n_H2S, plot):\n",
    "    \n",
    "    with plot.batch_update():\n",
    "        \n",
    "        d_py = M_to_wt(0.5*n_H2S)\n",
    "        HR_0 = HR_tot_0 * Fe_tot\n",
    "\n",
    "        py_HR_t = (py_0 + d_py)/HR_0\n",
    "\n",
    "        model_line = sel_trace(plot, 'Constant q<sub>H2S</sub>')\n",
    "        model_line.y = py_HR_t\n",
    "    \n",
    "    \n",
    "model_test"
   ]
  },
  {
   "cell_type": "code",
   "execution_count": 12,
   "metadata": {},
   "outputs": [
    {
     "data": {
      "application/vnd.jupyter.widget-view+json": {
       "model_id": "2c68cd8de45c4cdd8e77309ee8d7e4f8",
       "version_major": 2,
       "version_minor": 0
      },
      "text/plain": [
       "interactive(children=(FloatSlider(value=5.11, description='[Fe<sub>tot</sub>] / wt%', layout=Layout(width='75%…"
      ]
     },
     "metadata": {},
     "output_type": "display_data"
    },
    {
     "data": {
      "application/vnd.jupyter.widget-view+json": {
       "model_id": "d65722e96a714785a39a10abbbb1a5e9",
       "version_major": 2,
       "version_minor": 0
      },
      "text/plain": [
       "FigureWidget({\n",
       "    'data': [{'legendgroup': 'Mudstone',\n",
       "              'marker': {'color': 'LightPink', 'symbol…"
      ]
     },
     "metadata": {},
     "output_type": "display_data"
    }
   ],
   "source": [
    "# Modelling pyritisation of real data\n",
    "psn_model=go.FigureWidget()\n",
    "\n",
    "# for HR_to_tot in list(log_df.HR_to_tot):\n",
    "#     psn_model.add_vline(HR_to_tot, line_width=0.5, line_color='Lavender')\n",
    "\n",
    "for category in categories: \n",
    "    \n",
    "    cat_df = log_df[log_df.category == category]\n",
    "\n",
    "    graph_texts = []\n",
    "    for d in cat_df.iterrows():\n",
    "        graph_texts.append(d[1]['name'])\n",
    "    \n",
    "    # Current locations of samples in Fe speciation space\n",
    "    \n",
    "    psn_model.add_trace(go.Scatter(x=cat_df['HR_to_tot'],\n",
    "                                   mode='markers',\n",
    "                                   marker_symbol=cat_symbols[category],\n",
    "                                   marker_color='LightPink',\n",
    "                                   name=category+' (pre-diagenesis)',\n",
    "                                   text=graph_texts,\n",
    "                                   legendgroup=category))\n",
    "    \n",
    "    psn_model.add_trace(go.Scatter(x=cat_df['HR_to_tot'],\n",
    "                                   mode='markers',\n",
    "                                   marker_symbol=cat_symbols[category],\n",
    "                                   marker_color='LawnGreen',\n",
    "                                   name=category+' (half way)',\n",
    "                                   marker_opacity=0.8,\n",
    "                                   text=graph_texts,\n",
    "                                   legendgroup=category))\n",
    "    \n",
    "    psn_model.add_trace(go.Scatter(x=cat_df['HR_to_tot'],\n",
    "                                   mode='markers',\n",
    "                                   marker_symbol=cat_symbols[category],\n",
    "                                   marker_color='Green',\n",
    "                                   name=category+' (modelled)',\n",
    "                                   text=graph_texts,\n",
    "                                   legendgroup=category))\n",
    "\n",
    "    psn_model.add_trace(go.Scatter(x=cat_df['HR_to_tot'], y=cat_df['py_to_HR'],\n",
    "                                   mode='markers',\n",
    "                                   marker_symbol=cat_symbols[category],\n",
    "                                   marker_color='Blue',\n",
    "                                   marker_opacity=0.3,\n",
    "                                   name=category+' (post-diagenesis)',\n",
    "                                   text=graph_texts,\n",
    "                                   legendgroup=category))    \n",
    "    \n",
    "\n",
    "# for model line\n",
    "HR_tot_0 = np.linspace(0.01,1,50) # Increase last number for higher resolution\n",
    "py_HR_0 = np.zeros(len(HR_tot_0))\n",
    "\n",
    "psn_model.add_trace(go.Scatter(name='model (const. total Fe)', x=HR_tot_0,\n",
    "                               line_color='LightGreen'))\n",
    "\n",
    "psn_model.update_layout(xaxis_range=[0,1], yaxis_range=[0,1],\n",
    "                        width=900, height=650)\n",
    "psn_model.add_hline(0.8, line_width=1, line_dash='dash')\n",
    "psn_model.add_vline(0.38, line_width=1, line_dash='dash')\n",
    "psn_model.update_layout(xaxis_title='[Fe<sub>HR</sub>]/[Fe<sub>tot</sub>]',\n",
    "                        yaxis_title='[Fe<sub>py</sub>]/[Fe<sub>HR</sub>]',\n",
    "                        legend=dict(#itemsizing='constant',\n",
    "                                    font_size=11))\n",
    "\n",
    "\n",
    "\n",
    "@wdg.interact(Fe_tot=wdg.FloatSlider(value=5.11, min=0, max=15, description='[Fe<sub>tot</sub>] / wt%', style=slider_style, layout=wdg.Layout(width='75%')),\n",
    "              py_0 = wdg.FloatSlider(value=0, min=0, max=5, step=0.1, description='[Fe<sub>py</sub>]<sub>0</sub> / wt%', style=slider_style, layout=wdg.Layout(width='75%')),\n",
    "              n_H2S=wdg.FloatSlider(value=0, min=0, max=1.5, step=0.01, description='H<sub>2</sub>S added / mol', style=slider_style, layout=wdg.Layout(width='75%')),\n",
    "              alter_py_0=wdg.Checkbox(value=False, description='Correct model by changing [Fe<sub>py</sub>]<sub>0</sub>', style=slider_style),\n",
    "              plot=wdg.fixed(psn_model))\n",
    "def update_Fe_data(Fe_tot, py_0, n_H2S, alter_py_0, plot):\n",
    "    \n",
    "    with plot.batch_update():\n",
    "        \n",
    "        # update model line\n",
    "        d_py = M_to_wt(0.5*n_H2S)\n",
    "        HR_0 = HR_tot_0 * Fe_tot\n",
    "\n",
    "        py_HR_t = (py_0 + d_py)/HR_0\n",
    "\n",
    "        # Update y coordinates of line\n",
    "        sel_trace(plot, 'model (const. total Fe)').y = py_HR_t\n",
    "\n",
    "\n",
    "        # update data points\n",
    "        for category in categories:\n",
    "            cat_df = log_df[log_df.category == category]\n",
    "\n",
    "            py_HR_points = list((py_0 + d_py)/cat_df['Fe_HR'])\n",
    "\n",
    "            for i in range(len(py_HR_points)):\n",
    "                if py_HR_points[i] > 1:\n",
    "                    py_HR_points[i] = 1\n",
    "\n",
    "            # Update y coordinates of modelled points\n",
    "            sel_trace(plot, category+' (modelled)').y=py_HR_points\n",
    "\n",
    "            sel_trace(plot, category+' (half way)').y = [0.5* i for i in py_HR_points]\n",
    "\n",
    "            if alter_py_0:\n",
    "\n",
    "                py_0s = cat_df['py_to_HR'] - py_HR_points\n",
    "\n",
    "                sel_trace(plot, category+' (pre-diagenesis)').y=py_0s\n",
    "            else:\n",
    "                sel_trace(plot, category+' (pre-diagenesis)').y=py_0/cat_df['Fe_HR']\n",
    "    \n",
    "#     if alter_py_0:\n",
    "#         plot.update_layout(yaxis_range=[-0.5,1])\n",
    "#     else:\n",
    "#         plot.update_layout(yaxis_range=[0,1])\n",
    "    \n",
    "    \n",
    "psn_model"
   ]
  },
  {
   "cell_type": "code",
   "execution_count": 10,
   "metadata": {},
   "outputs": [],
   "source": [
    "# Increase marker size for export\n",
    "for trace in psn_model.data:\n",
    "    trace.marker.size = 8"
   ]
  },
  {
   "cell_type": "code",
   "execution_count": 11,
   "metadata": {},
   "outputs": [],
   "source": [
    "# psn_model.write_image('./images/Fe_spec_test.svg')"
   ]
  },
  {
   "cell_type": "code",
   "execution_count": null,
   "metadata": {},
   "outputs": [],
   "source": []
  }
 ],
 "metadata": {
  "kernelspec": {
   "display_name": "Python 3 (ipykernel)",
   "language": "python",
   "name": "python3"
  },
  "language_info": {
   "codemirror_mode": {
    "name": "ipython",
    "version": 3
   },
   "file_extension": ".py",
   "mimetype": "text/x-python",
   "name": "python",
   "nbconvert_exporter": "python",
   "pygments_lexer": "ipython3",
   "version": "3.9.7"
  },
  "presto": {
   "id": "70a48a7c-46b4-4623-bacf-81a8600b8579"
  },
  "toc-showmarkdowntxt": false,
  "toc-showtags": false,
  "widgets": {
   "application/vnd.jupyter.widget-state+json": {
    "state": {},
    "version_major": 2,
    "version_minor": 0
   }
  }
 },
 "nbformat": 4,
 "nbformat_minor": 4
}
