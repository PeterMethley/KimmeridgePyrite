{
 "cells": [
  {
   "cell_type": "markdown",
   "metadata": {},
   "source": [
    "# Iron Speciation Model\n",
    "This assumes that the system is sulphide-limited, with plenty of highly-reactive iron available. Therefore, the amount of pyrite produced is equal to the amount of H<sub>2</sub>S that entered the system (divided by 2, since 1 FeS<sub>2</sub> is made from 2 H<sub>2</sub>S). I assume a constant sulphide flux, $q_\\mathrm{H_2S}$, so pyrite is being generated at a constant rate $d_\\mathrm{py}$ for a time $t$.\n",
    "\n",
    "$$\\frac{\\partial\\mathrm{[Fe_{py}]}}{\\partial t} = d_\\mathrm{py}$$\n",
    "\n",
    "$$\\mathrm{[Fe_{py}]}=\\int d_\\mathrm{py}\\,\\mathrm{d}t = d_\\mathrm{py}\\,t+\\mathrm{[Fe_{py}]}_0$$\n",
    "\n",
    "$$\\left(\\frac{\\mathrm{[Fe_{py}]}}{\\mathrm{[Fe_{HR}]}}\\right)_t = \\left(\\frac{\\mathrm{[Fe_{py}]}}{\\mathrm{[Fe_{HR}]}}\\right)_0 + \\frac{d_\\mathrm{py}\\,t}{\\mathrm{[Fe_{HR}]}}$$\n",
    "\n",
    "Note that this is equivalent to an exponentially-decaying sulphide flux integrated over infinite time:\n",
    "$$\\frac{\\partial\\mathrm{[Fe_{py}]}}{\\partial t} = d_0 e^{-\\lambda t}$$\n",
    "where $d_\\mathrm{py}\\cdot t = \\frac{d_0}{\\lambda}$.\n",
    "\n",
    "To convert $q_\\mathrm{H_2S}$ to $d_\\mathrm{py}$:\n",
    "$$d_\\mathrm{py} = \\frac{q_\\mathrm{H_2S} \\cdot M_r(\\mathrm{Fe})}{2\\rho_s}$$\n",
    "where $M_r(\\mathrm{Fe})$ is the relative atomic mass of iron (55.845 g/mol), and $\\rho_s$ is the density of freshly-deposited sediment (about 1.7 g/cm³). This means that a typical H₂S flux of 200 pmol cm⁻³ day⁻¹ is equivalent to a pyrite production rate of 0.12 wt% per ka."
   ]
  },
  {
   "cell_type": "code",
   "execution_count": 1,
   "metadata": {},
   "outputs": [],
   "source": [
    "from plotly_default import go, graph_config, sel_trace\n",
    "import pandas as pd\n",
    "import numpy as np\n",
    "import ipywidgets as wdg\n",
    "from plotly.subplots import make_subplots"
   ]
  },
  {
   "cell_type": "code",
   "execution_count": 2,
   "metadata": {},
   "outputs": [],
   "source": [
    "def wt_to_M(wt, Mr=55.845, density=1.7):\n",
    "    '''Converts a weight percent of a substance with molar mass Mr (default iron) into a molar concentration\n",
    "    in a sediment of specified density (default 1.7 g/cm³)'''\n",
    "    # g/dm³  = 1000 * g/cm³ = 1000 * density * wt% / 100 = 10 * density * wt%\n",
    "    return 10. * density * wt / Mr\n",
    "\n",
    "def M_to_wt(M, Mr=55.845, density=1.7):\n",
    "    return M * Mr / (10. * density)\n",
    "\n",
    "slider_style=dict(description_width='initial')"
   ]
  },
  {
   "cell_type": "code",
   "execution_count": 3,
   "metadata": {},
   "outputs": [
    {
     "data": {
      "text/plain": [
       "0.5256"
      ]
     },
     "execution_count": 3,
     "metadata": {},
     "output_type": "execute_result"
    }
   ],
   "source": [
    "M_to_wt(0.16)"
   ]
  },
  {
   "cell_type": "code",
   "execution_count": 4,
   "metadata": {},
   "outputs": [],
   "source": [
    "# Read in data\n",
    "species_types=pd.read_csv('./Data/Species_types.csv')\n",
    "log_df=pd.read_csv('./Data/Log_data_combined.csv',index_col=0)\n",
    "\n",
    "try:\n",
    "    log_df.insert(loc=9, column='Constant', value=1) #\n",
    "except ValueError:\n",
    "    pass # do nothing if column already exists\n",
    "\n",
    "data_types = species_types.append(pd.DataFrame({'header': ['Constant', 'height'], 'label': ['', '<i>h</i> / m']}), ignore_index=True, sort=False)\n",
    "\n",
    "axis_options = list(data_types.header)\n",
    "size_options = [i for i in axis_options if i != 'd34S']"
   ]
  },
  {
   "cell_type": "code",
   "execution_count": 5,
   "metadata": {},
   "outputs": [],
   "source": [
    "# categories = list(set(log_df.category))\n",
    "# categories = ['Stratigraphic sequence', 'Pervasively pyritised regions', 'Bed 22']\n",
    "cat_symbols = {'Mudstone': 'circle',\n",
    "               'Carbonate': 'star',\n",
    "               'Pervasively pyritised regions': 'square',\n",
    "               'Bed 22': 'diamond'}\n",
    "categories = list(cat_symbols.keys())\n",
    "\n",
    "def init_biv_plot():\n",
    "    plot = go.FigureWidget()\n",
    "    \n",
    "    for category in categories:   \n",
    "        plot.add_trace(go.Scatter(mode='markers',\n",
    "                                  marker_line={'color': 'Black', 'width': 1},\n",
    "                                  marker_symbol=cat_symbols[category],\n",
    "                                  marker_coloraxis='coloraxis',\n",
    "                                  name=category))\n",
    "        \n",
    "    # Add diagonal line\n",
    "    plot.add_shape(type='line', x0=-100, y0=-100, x1=100, y1=100, visible=False, line_width=0.5, name='Diagonal')\n",
    "\n",
    "    plot.update_layout(height=700, width=740,\n",
    "                       legend=dict(orientation=\"h\",\n",
    "                                   yanchor=\"bottom\",\n",
    "                                   y=1.01,\n",
    "                                   xanchor=\"left\",\n",
    "                                   x=0,\n",
    "                                   itemsizing='constant'),\n",
    "                       coloraxis=dict(colorscale='viridis_r', colorbar_ticks='outside'))\n",
    "    \n",
    "    return plot\n",
    "\n",
    "axis_options = list(data_types.header)\n",
    "size_options = [i for i in axis_options if i != 'd34S']\n",
    "\n",
    "base_errorbar = dict(type='data', thickness=1, color='DarkGrey')\n",
    "\n",
    "\n",
    "def update_biv_traces(x, y, colour, size, diagonal, plot_errors, plot):\n",
    "    \n",
    "    for category in categories:\n",
    "        cat_df = log_df[log_df.category == category]\n",
    "        \n",
    "        if plot_errors:\n",
    "            x_errorbars = {**base_errorbar, 'array': cat_df[x+'_err']}\n",
    "            y_errorbars = {**base_errorbar, 'array': cat_df[y+'_err']}\n",
    "        else:\n",
    "            x_errorbars = None\n",
    "            y_errorbars = None\n",
    "        \n",
    "        graph_texts = []\n",
    "        for d in cat_df.iterrows():\n",
    "            graph_texts.append(d[1]['name'] + '<br>' +\n",
    "                               data_types.loc[data_types.header==size, 'label'].iloc[0] + ': {:.2f}<br>'.format(d[1][size]) +\n",
    "                               data_types.loc[data_types.header==colour, 'label'].iloc[0] + ': {:.2f}'.format(d[1][colour]))\n",
    "        \n",
    "        cat_trace = sel_trace(plot, category)\n",
    "        cat_trace.x=cat_df[x]\n",
    "        cat_trace.y=cat_df[y]\n",
    "        cat_trace.error_x=x_errorbars\n",
    "        cat_trace.error_y=y_errorbars\n",
    "        cat_trace.marker.size=cat_df[size]\n",
    "        cat_trace.marker.sizemin=4\n",
    "        cat_trace.marker.sizeref=3*np.mean(log_df[size]/(6.**2))\n",
    "        cat_trace.marker.color=cat_df[colour]\n",
    "        cat_trace.text=graph_texts\n",
    "        \n",
    "    \n",
    "    if diagonal:\n",
    "        line_bottom_left = min(log_df[x].min(), log_df[y].min())\n",
    "        line_top_right = max(log_df[x].max(), log_df[y].max())\n",
    "        plot.update_shapes(selector=dict(name='Diagonal'),\n",
    "                           visible=True, x0 = line_bottom_left, y0 = line_bottom_left,\n",
    "                           x1 = line_top_right, y1 = line_top_right)\n",
    "    else:\n",
    "        plot.update_shapes(selector=dict(name='Diagonal'), visible=False)\n",
    "    \n",
    "#     plot.update_layout(xaxis_title=data_types.loc[data_types.header==x, 'label'].iloc[0],\n",
    "#                        yaxis_title=data_types.loc[data_types.header==y, 'label'].iloc[0],\n",
    "#                        coloraxis_colorbar_title=data_types.loc[data_types.header==colour, 'label'].iloc[0])\n",
    "    \n",
    "    plot.layout.xaxis.title = data_types.loc[data_types.header==x, 'label'].iloc[0]\n",
    "    plot.layout.yaxis.title = data_types.loc[data_types.header==y, 'label'].iloc[0]\n",
    "    plot.layout.coloraxis.colorbar.title = data_types.loc[data_types.header==colour, 'label'].iloc[0]\n",
    "    \n",
    "    \n",
    "#    plot.show(config=graph_config)"
   ]
  },
  {
   "cell_type": "code",
   "execution_count": 6,
   "metadata": {},
   "outputs": [
    {
     "data": {
      "application/vnd.jupyter.widget-view+json": {
       "model_id": "be36881513834e1ebd3f45c5da52fcf7",
       "version_major": 2,
       "version_minor": 0
      },
      "text/plain": [
       "interactive(children=(Dropdown(description='x', index=3, options=('HR_to_tot', 'py_to_HR', 'py_to_tot', 'Fe_py…"
      ]
     },
     "metadata": {},
     "output_type": "display_data"
    },
    {
     "data": {
      "application/vnd.jupyter.widget-view+json": {
       "model_id": "eada050a684448cf96e15f5a1aa24383",
       "version_major": 2,
       "version_minor": 0
      },
      "text/plain": [
       "FigureWidget({\n",
       "    'data': [{'marker': {'color': array([ 1.38,  1.68,  2.13,  2.6 ,  3.  ,  4.51,  5.16,  6.15…"
      ]
     },
     "metadata": {},
     "output_type": "display_data"
    }
   ],
   "source": [
    "# Customisable bivariate plot\n",
    "biv_plot = init_biv_plot()\n",
    "\n",
    "wdg.interact(update_biv_traces,\n",
    "             x=wdg.Dropdown(options=axis_options, value='Fe_py'),\n",
    "             y=wdg.Dropdown(options=axis_options, value='d34S'),\n",
    "             colour=wdg.Dropdown(options=axis_options, value='height'),\n",
    "             size=wdg.Dropdown(options=size_options, value='Constant'),\n",
    "             diagonal=False,\n",
    "             plot_errors=False,\n",
    "             plot=wdg.fixed(biv_plot));\n",
    "\n",
    "biv_plot"
   ]
  },
  {
   "cell_type": "code",
   "execution_count": 7,
   "metadata": {},
   "outputs": [
    {
     "data": {
      "application/vnd.jupyter.widget-view+json": {
       "model_id": "971cf2c3bfa84655b6991daf108ebea6",
       "version_major": 2,
       "version_minor": 0
      },
      "text/plain": [
       "interactive(children=(Dropdown(description='colour', index=10, options=('HR_to_tot', 'py_to_HR', 'py_to_tot', …"
      ]
     },
     "metadata": {},
     "output_type": "display_data"
    },
    {
     "data": {
      "application/vnd.jupyter.widget-view+json": {
       "model_id": "68450ab474df4327835439954ffafd35",
       "version_major": 2,
       "version_minor": 0
      },
      "text/plain": [
       "FigureWidget({\n",
       "    'data': [{'marker': {'color': array([-21.9907799 , -16.03659904, -13.28036687, -15.8747187 …"
      ]
     },
     "metadata": {},
     "output_type": "display_data"
    }
   ],
   "source": [
    "# Fe speciation plot\n",
    "spec_plot=init_biv_plot()\n",
    "spec_plot.update_layout(xaxis_range=[0,1], yaxis_range=[0,1])\n",
    "spec_plot.add_hline(0.8, line_width=1, line_dash='dash')\n",
    "spec_plot.add_vline(0.38, line_width=1, line_dash='dash')\n",
    "\n",
    "wdg.interact(update_biv_traces,\n",
    "             x=wdg.fixed('HR_to_tot'),\n",
    "             y=wdg.fixed('py_to_HR'),\n",
    "             colour=wdg.Dropdown(options=axis_options, value='d34S'),\n",
    "             size=wdg.Dropdown(options=size_options, value='Constant'),\n",
    "             diagonal=wdg.fixed(False),\n",
    "             plot_errors=False,\n",
    "             plot=wdg.fixed(spec_plot));\n",
    "\n",
    "spec_plot"
   ]
  },
  {
   "cell_type": "code",
   "execution_count": 8,
   "metadata": {},
   "outputs": [
    {
     "data": {
      "application/vnd.jupyter.widget-view+json": {
       "model_id": "418807cc3b70404c8dba402c44a717c8",
       "version_major": 2,
       "version_minor": 0
      },
      "text/plain": [
       "interactive(children=(FloatSlider(value=5.0, description='[Fe<sub>tot</sub>] / wt%', layout=Layout(width='75%'…"
      ]
     },
     "metadata": {},
     "output_type": "display_data"
    },
    {
     "data": {
      "application/vnd.jupyter.widget-view+json": {
       "model_id": "e33c6c98e97445ca84a6364222f7ee55",
       "version_major": 2,
       "version_minor": 0
      },
      "text/plain": [
       "FigureWidget({\n",
       "    'data': [{'name': 'Constant q<sub>H2S</sub>',\n",
       "              'type': 'scatter',\n",
       "            …"
      ]
     },
     "metadata": {},
     "output_type": "display_data"
    }
   ],
   "source": [
    "# Test model\n",
    "HR_tot_0 = np.linspace(0.01,1,100)\n",
    "py_HR_0 = np.zeros(50)\n",
    "\n",
    "model_test=go.FigureWidget()\n",
    "model_test.add_trace(go.Scatter(name='Constant q<sub>H2S</sub>', x=HR_tot_0))\n",
    "#model_test.add_trace(go.Scatter(name='Decaying q<sub>H2S</sub>'))\n",
    "model_test.update_layout(xaxis_range=[0,1], yaxis_range=[0,1],\n",
    "                         width=700, height=700)\n",
    "model_test.add_hline(0.8, line_width=1, line_dash='dash')\n",
    "model_test.add_vline(0.38, line_width=1, line_dash='dash')\n",
    "model_test.update_layout(xaxis_title='[Fe<sub>HR</sub>]/[Fe<sub>tot</sub>]',\n",
    "                         yaxis_title='[Fe<sub>py</sub>]/[Fe<sub>HR</sub>]')\n",
    "\n",
    "\n",
    "@wdg.interact(Fe_tot=wdg.FloatSlider(value=5, min=0, max=15, description='[Fe<sub>tot</sub>] / wt%', style=slider_style, layout=wdg.Layout(width='75%')),\n",
    "              py_0 = wdg.FloatSlider(value=0, min=0, max=5, step=0.1, description='[Fe<sub>py</sub>]<sub>0</sub> / wt%', style=slider_style, layout=wdg.Layout(width='75%')),\n",
    "              n_H2S=wdg.FloatSlider(value=0, min=0, max=1.5, step=0.01, description='H<sub>2</sub>S added / mol', style=slider_style, layout=wdg.Layout(width='75%')),\n",
    "              plot=wdg.fixed(model_test))\n",
    "def update_Fe_model(Fe_tot, py_0, n_H2S, plot):\n",
    "    \n",
    "    d_py = M_to_wt(0.5*n_H2S)\n",
    "    HR_0 = HR_tot_0 * Fe_tot\n",
    "    \n",
    "    py_HR_t = (py_0 + d_py)/HR_0\n",
    "    \n",
    "    model_line = sel_trace(plot, 'Constant q<sub>H2S</sub>')\n",
    "    model_line.y = py_HR_t\n",
    "    \n",
    "    \n",
    "model_test"
   ]
  },
  {
   "cell_type": "code",
   "execution_count": 9,
   "metadata": {},
   "outputs": [
    {
     "data": {
      "application/vnd.jupyter.widget-view+json": {
       "model_id": "3bc9e273236849f0836e7886f0e9afc0",
       "version_major": 2,
       "version_minor": 0
      },
      "text/plain": [
       "interactive(children=(FloatSlider(value=5.11, description='[Fe<sub>tot</sub>] / wt%', layout=Layout(width='75%…"
      ]
     },
     "metadata": {},
     "output_type": "display_data"
    },
    {
     "data": {
      "application/vnd.jupyter.widget-view+json": {
       "model_id": "9cac4065bbc6462e9c850625e6ac8827",
       "version_major": 2,
       "version_minor": 0
      },
      "text/plain": [
       "FigureWidget({\n",
       "    'data': [{'legendgroup': 'Mudstone',\n",
       "              'marker': {'color': 'LightPink', 'symbol…"
      ]
     },
     "metadata": {},
     "output_type": "display_data"
    }
   ],
   "source": [
    "# Modelling pyritisation of real data\n",
    "psn_model=go.FigureWidget()\n",
    "\n",
    "# for HR_to_tot in list(log_df.HR_to_tot):\n",
    "#     psn_model.add_vline(HR_to_tot, line_width=0.5, line_color='Lavender')\n",
    "\n",
    "for category in categories: \n",
    "    \n",
    "    cat_df = log_df[log_df.category == category]\n",
    "\n",
    "    graph_texts = []\n",
    "    for d in cat_df.iterrows():\n",
    "        graph_texts.append(d[1]['name'])\n",
    "    \n",
    "    # Current locations of samples in Fe speciation space\n",
    "    \n",
    "    psn_model.add_trace(go.Scatter(x=cat_df['HR_to_tot'],\n",
    "                                   mode='markers',\n",
    "                                   marker_symbol=cat_symbols[category],\n",
    "                                   marker_color='LightPink',\n",
    "                                   name=category+' (pre-diagenesis)',\n",
    "                                   text=graph_texts,\n",
    "                                   legendgroup=category))\n",
    "    \n",
    "    psn_model.add_trace(go.Scatter(x=cat_df['HR_to_tot'],\n",
    "                                   mode='markers',\n",
    "                                   marker_symbol=cat_symbols[category],\n",
    "                                   marker_color='LawnGreen',\n",
    "                                   name=category+' (half way)',\n",
    "                                   marker_opacity=0.8,\n",
    "                                   text=graph_texts,\n",
    "                                   legendgroup=category))\n",
    "    \n",
    "    psn_model.add_trace(go.Scatter(x=cat_df['HR_to_tot'],\n",
    "                                   mode='markers',\n",
    "                                   marker_symbol=cat_symbols[category],\n",
    "                                   marker_color='Green',\n",
    "                                   name=category+' (modelled)',\n",
    "                                   text=graph_texts,\n",
    "                                   legendgroup=category))\n",
    "\n",
    "    psn_model.add_trace(go.Scatter(x=cat_df['HR_to_tot'], y=cat_df['py_to_HR'],\n",
    "                                   mode='markers',\n",
    "                                   marker_symbol=cat_symbols[category],\n",
    "                                   marker_color='Blue',\n",
    "                                   marker_opacity=0.3,\n",
    "                                   name=category+' (post-diagenesis)',\n",
    "                                   text=graph_texts,\n",
    "                                   legendgroup=category))    \n",
    "    \n",
    "\n",
    "# for model line\n",
    "HR_tot_0 = np.linspace(0.01,1,50) # Increase last number for higher resolution\n",
    "py_HR_0 = np.zeros(len(HR_tot_0))\n",
    "\n",
    "psn_model.add_trace(go.Scatter(name='model (const. total Fe)', x=HR_tot_0,\n",
    "                               line_color='LightGreen'))\n",
    "\n",
    "psn_model.update_layout(xaxis_range=[0,1], yaxis_range=[0,1],\n",
    "                        width=900, height=650)\n",
    "psn_model.add_hline(0.8, line_width=1, line_dash='dash')\n",
    "psn_model.add_vline(0.38, line_width=1, line_dash='dash')\n",
    "psn_model.update_layout(xaxis_title='[Fe<sub>HR</sub>]/[Fe<sub>tot</sub>]',\n",
    "                        yaxis_title='[Fe<sub>py</sub>]/[Fe<sub>HR</sub>]',\n",
    "                        legend=dict(#itemsizing='constant',\n",
    "                                    font_size=11))\n",
    "\n",
    "\n",
    "\n",
    "@wdg.interact(Fe_tot=wdg.FloatSlider(value=5.11, min=0, max=15, description='[Fe<sub>tot</sub>] / wt%', style=slider_style, layout=wdg.Layout(width='75%')),\n",
    "              py_0 = wdg.FloatSlider(value=0, min=0, max=5, step=0.1, description='[Fe<sub>py</sub>]<sub>0</sub> / wt%', style=slider_style, layout=wdg.Layout(width='75%')),\n",
    "              n_H2S=wdg.FloatSlider(value=0, min=0, max=1.5, step=0.01, description='H<sub>2</sub>S added / mol', style=slider_style, layout=wdg.Layout(width='75%')),\n",
    "              alter_py_0=wdg.Checkbox(value=False, description='Correct model by changing [Fe<sub>py</sub>]<sub>0</sub>', style=slider_style),\n",
    "              plot=wdg.fixed(psn_model))\n",
    "def update_Fe_data(Fe_tot, py_0, n_H2S, alter_py_0, plot):\n",
    "    \n",
    "    # update model line\n",
    "    d_py = M_to_wt(0.5*n_H2S)\n",
    "    HR_0 = HR_tot_0 * Fe_tot\n",
    "    \n",
    "    py_HR_t = (py_0 + d_py)/HR_0\n",
    "    \n",
    "    # Update y coordinates of line\n",
    "    sel_trace(plot, 'model (const. total Fe)').y = py_HR_t\n",
    "    \n",
    "    \n",
    "    # update data points\n",
    "    for category in categories:\n",
    "        cat_df = log_df[log_df.category == category]\n",
    "        \n",
    "        py_HR_points = list((py_0 + d_py)/cat_df['Fe_HR'])\n",
    "        \n",
    "        for i in range(len(py_HR_points)):\n",
    "            if py_HR_points[i] > 1:\n",
    "                py_HR_points[i] = 1\n",
    "        \n",
    "        # Update y coordinates of modelled points\n",
    "        sel_trace(plot, category+' (modelled)').y=py_HR_points\n",
    "        \n",
    "        sel_trace(plot, category+' (half way)').y = [0.5* i for i in py_HR_points]\n",
    "    \n",
    "        if alter_py_0:\n",
    "\n",
    "            py_0s = cat_df['py_to_HR'] - py_HR_points\n",
    "            \n",
    "            sel_trace(plot, category+' (pre-diagenesis)').y=py_0s\n",
    "        else:\n",
    "            sel_trace(plot, category+' (pre-diagenesis)').y=py_0/cat_df['Fe_HR']\n",
    "    \n",
    "#     if alter_py_0:\n",
    "#         plot.update_layout(yaxis_range=[-0.5,1])\n",
    "#     else:\n",
    "#         plot.update_layout(yaxis_range=[0,1])\n",
    "    \n",
    "    \n",
    "psn_model"
   ]
  },
  {
   "cell_type": "code",
   "execution_count": 10,
   "metadata": {},
   "outputs": [],
   "source": [
    "# Increase marker size for export\n",
    "for trace in psn_model.data:\n",
    "    trace.marker.size = 8"
   ]
  },
  {
   "cell_type": "code",
   "execution_count": 11,
   "metadata": {},
   "outputs": [],
   "source": [
    "# psn_model.write_image('./images/Fe_spec_test.svg')"
   ]
  },
  {
   "cell_type": "code",
   "execution_count": null,
   "metadata": {},
   "outputs": [],
   "source": []
  }
 ],
 "metadata": {
  "kernelspec": {
   "display_name": "Python 3",
   "language": "python",
   "name": "python3"
  },
  "language_info": {
   "codemirror_mode": {
    "name": "ipython",
    "version": 3
   },
   "file_extension": ".py",
   "mimetype": "text/x-python",
   "name": "python",
   "nbconvert_exporter": "python",
   "pygments_lexer": "ipython3",
   "version": "3.9.1"
  },
  "widgets": {
   "application/vnd.jupyter.widget-state+json": {
    "state": {
     "0071d0b2e0bd400eb16f571e881214d4": {
      "model_module": "@jupyter-widgets/controls",
      "model_module_version": "1.5.0",
      "model_name": "DropdownModel",
      "state": {
       "_options_labels": [
        "HR_to_tot",
        "py_to_HR",
        "py_to_tot",
        "Fe_py",
        "Fe_ox",
        "Fe_mag",
        "Fe_carb",
        "Fe_UR",
        "Fe_HR",
        "Fe_tot",
        "d34S",
        "H2S_decay",
        "fossil_index",
        "py_index",
        "phi",
        "biodiversity",
        "Constant",
        "height"
       ],
       "description": "y",
       "index": 10,
       "layout": "IPY_MODEL_49b6033027a84678be08f0f2573dac76",
       "style": "IPY_MODEL_267c52a3356b4908a9c9bcb32121be5b"
      }
     },
     "01adf1ccd78d46bdab9b8f54e34eeeec": {
      "model_module": "@jupyter-widgets/controls",
      "model_module_version": "1.5.0",
      "model_name": "DescriptionStyleModel",
      "state": {
       "description_width": "initial"
      }
     },
     "02e3ce56a75c47be9e93780edd748686": {
      "model_module": "@jupyter-widgets/controls",
      "model_module_version": "1.5.0",
      "model_name": "DescriptionStyleModel",
      "state": {
       "description_width": ""
      }
     },
     "0b66ac8ea6654937bb15f03b9b36034c": {
      "model_module": "@jupyter-widgets/controls",
      "model_module_version": "1.5.0",
      "model_name": "DescriptionStyleModel",
      "state": {
       "description_width": ""
      }
     },
     "11c60169573a47c8bdaa70196b233a30": {
      "model_module": "@jupyter-widgets/output",
      "model_module_version": "1.0.0",
      "model_name": "OutputModel",
      "state": {
       "layout": "IPY_MODEL_7e7512559191424ea39af4c05cb9b92a"
      }
     },
     "191a8ec21cd346a8b431f0ba31a87144": {
      "model_module": "@jupyter-widgets/controls",
      "model_module_version": "1.5.0",
      "model_name": "SliderStyleModel",
      "state": {
       "description_width": "initial"
      }
     },
     "1a9f5cb17b734a519ecbbabe3a60cc08": {
      "model_module": "@jupyter-widgets/base",
      "model_module_version": "1.2.0",
      "model_name": "LayoutModel",
      "state": {
       "width": "75%"
      }
     },
     "23cb4df07c9040eb90ebdf6e6ca9cbee": {
      "model_module": "@jupyter-widgets/output",
      "model_module_version": "1.0.0",
      "model_name": "OutputModel",
      "state": {
       "layout": "IPY_MODEL_6263dd7bdea3405c8f97c3093ef9383a"
      }
     },
     "241a882e69794203ab6af45eb1c832b2": {
      "model_module": "@jupyter-widgets/output",
      "model_module_version": "1.0.0",
      "model_name": "OutputModel",
      "state": {
       "layout": "IPY_MODEL_e6841839c7f9457babcc7a41a3fdd8b9"
      }
     },
     "267c52a3356b4908a9c9bcb32121be5b": {
      "model_module": "@jupyter-widgets/controls",
      "model_module_version": "1.5.0",
      "model_name": "DescriptionStyleModel",
      "state": {
       "description_width": ""
      }
     },
     "287aa06a3adb4ad9be015fa4b34d6721": {
      "model_module": "@jupyter-widgets/controls",
      "model_module_version": "1.5.0",
      "model_name": "SliderStyleModel",
      "state": {
       "description_width": "initial"
      }
     },
     "2c7874be6c5946ba93d494c79263d2a8": {
      "model_module": "@jupyter-widgets/controls",
      "model_module_version": "1.5.0",
      "model_name": "DropdownModel",
      "state": {
       "_options_labels": [
        "HR_to_tot",
        "py_to_HR",
        "py_to_tot",
        "Fe_py",
        "Fe_ox",
        "Fe_mag",
        "Fe_carb",
        "Fe_UR",
        "Fe_HR",
        "Fe_tot",
        "H2S_decay",
        "fossil_index",
        "py_index",
        "phi",
        "biodiversity",
        "Constant",
        "height"
       ],
       "description": "size",
       "index": 15,
       "layout": "IPY_MODEL_3bf800dd87f84fed94e4f9c660392405",
       "style": "IPY_MODEL_e27c6a11c87146b0b7540cb541274860"
      }
     },
     "2f693e9b17604ddba38b653cce126d91": {
      "model_module": "@jupyter-widgets/controls",
      "model_module_version": "1.5.0",
      "model_name": "DescriptionStyleModel",
      "state": {
       "description_width": ""
      }
     },
     "2fb5e52f23e742ff91383fc9fc780df0": {
      "model_module": "@jupyter-widgets/controls",
      "model_module_version": "1.5.0",
      "model_name": "CheckboxModel",
      "state": {
       "description": "plot_errors",
       "disabled": false,
       "layout": "IPY_MODEL_46f796c77f204970a2713d0675dbe2ff",
       "style": "IPY_MODEL_58b38aaf789746079415b89a3af1b819",
       "value": false
      }
     },
     "3099eaa90f08487f987849f6186efab6": {
      "model_module": "@jupyter-widgets/controls",
      "model_module_version": "1.5.0",
      "model_name": "SliderStyleModel",
      "state": {
       "description_width": "initial"
      }
     },
     "30e7bb242e824819b1f6c31407970d64": {
      "model_module": "@jupyter-widgets/controls",
      "model_module_version": "1.5.0",
      "model_name": "FloatSliderModel",
      "state": {
       "description": "[Fe<sub>tot</sub>] / wt%",
       "layout": "IPY_MODEL_76d6aa0e3bff4a67aa3a036d31a0aa46",
       "max": 15,
       "step": 0.1,
       "style": "IPY_MODEL_191a8ec21cd346a8b431f0ba31a87144",
       "value": 5
      }
     },
     "3bc9e273236849f0836e7886f0e9afc0": {
      "model_module": "@jupyter-widgets/controls",
      "model_module_version": "1.5.0",
      "model_name": "VBoxModel",
      "state": {
       "_dom_classes": [
        "widget-interact"
       ],
       "children": [
        "IPY_MODEL_990efd0acd234762a06031bdecf41653",
        "IPY_MODEL_57a476d6c5b148d09769a6b393c980bb",
        "IPY_MODEL_f920a22e482546988cedd9703e934aee",
        "IPY_MODEL_afe54185244b4b579b5213f477a42cea",
        "IPY_MODEL_11c60169573a47c8bdaa70196b233a30"
       ],
       "layout": "IPY_MODEL_c282b4c36b7243069d281dc02bfae530"
      }
     },
     "3bf800dd87f84fed94e4f9c660392405": {
      "model_module": "@jupyter-widgets/base",
      "model_module_version": "1.2.0",
      "model_name": "LayoutModel",
      "state": {}
     },
     "418807cc3b70404c8dba402c44a717c8": {
      "model_module": "@jupyter-widgets/controls",
      "model_module_version": "1.5.0",
      "model_name": "VBoxModel",
      "state": {
       "_dom_classes": [
        "widget-interact"
       ],
       "children": [
        "IPY_MODEL_30e7bb242e824819b1f6c31407970d64",
        "IPY_MODEL_7c4c8e3add2a445d97e0889509884757",
        "IPY_MODEL_af61c81a43e3426191d377e6cc530a9f",
        "IPY_MODEL_a7cb7ce002d04dfa8358ba3ef3eb66b4"
       ],
       "layout": "IPY_MODEL_5287dc36328f49dc8e914037636a34a2"
      }
     },
     "46f796c77f204970a2713d0675dbe2ff": {
      "model_module": "@jupyter-widgets/base",
      "model_module_version": "1.2.0",
      "model_name": "LayoutModel",
      "state": {}
     },
     "49b6033027a84678be08f0f2573dac76": {
      "model_module": "@jupyter-widgets/base",
      "model_module_version": "1.2.0",
      "model_name": "LayoutModel",
      "state": {}
     },
     "5287dc36328f49dc8e914037636a34a2": {
      "model_module": "@jupyter-widgets/base",
      "model_module_version": "1.2.0",
      "model_name": "LayoutModel",
      "state": {}
     },
     "557e984c929d4a87ad9e96488bb46663": {
      "model_module": "@jupyter-widgets/base",
      "model_module_version": "1.2.0",
      "model_name": "LayoutModel",
      "state": {}
     },
     "57a476d6c5b148d09769a6b393c980bb": {
      "model_module": "@jupyter-widgets/controls",
      "model_module_version": "1.5.0",
      "model_name": "FloatSliderModel",
      "state": {
       "description": "[Fe<sub>py</sub>]<sub>0</sub> / wt%",
       "layout": "IPY_MODEL_9139e94154844280bd9fed262c0db474",
       "max": 5,
       "step": 0.1,
       "style": "IPY_MODEL_70b8099b9f1a43b29635c1f1a3069682"
      }
     },
     "58b38aaf789746079415b89a3af1b819": {
      "model_module": "@jupyter-widgets/controls",
      "model_module_version": "1.5.0",
      "model_name": "DescriptionStyleModel",
      "state": {
       "description_width": ""
      }
     },
     "5c899da90ee34c0b87bf5b91cd7b92b5": {
      "model_module": "@jupyter-widgets/controls",
      "model_module_version": "1.5.0",
      "model_name": "CheckboxModel",
      "state": {
       "description": "plot_errors",
       "disabled": false,
       "layout": "IPY_MODEL_ce644c45ccc9474aa520fec25d2fd7da",
       "style": "IPY_MODEL_ebcfb41c2a9247cc8c68d50750bcad7e",
       "value": false
      }
     },
     "6263dd7bdea3405c8f97c3093ef9383a": {
      "model_module": "@jupyter-widgets/base",
      "model_module_version": "1.2.0",
      "model_name": "LayoutModel",
      "state": {}
     },
     "67b18363519d4ea5b9d61aff65de655d": {
      "model_module": "@jupyter-widgets/controls",
      "model_module_version": "1.5.0",
      "model_name": "DescriptionStyleModel",
      "state": {
       "description_width": ""
      }
     },
     "68450ab474df4327835439954ffafd35": {
      "buffers": [
       {
        "data": "Rwd4wKP9NcDD/ACOXgkwwMEuJT+MjyrA/jMJIdu/L8BTmBt0ZCcywDKRuNYj7DLAQFPtOgpRNMB4L4ehp1EuwKu1c0F4mzTAUHW0UVYANsAFJ7EOl7gmwFFBx24I4jPAj9E3cp7+I8CEuSjx9+UywAQFkeNMMhbA2TVfjqU7MMDVZnrukJwywH6jqudgGyzAp/ZymVzMNMAKO9kXTeI0wDalBdnBcjXAwoQpRBDLNMBBT3jre2A4wI4TYoJFczPALO/3XeG7NMDgYpUCNDczwN/G4xE5UTTAzsaJukrVLsDwGDRs5AY2wNgFvnI7yTbAG4Yfg/CcNcB+hirdR4o1wNmKIT+GOjPAcr7WsPMGOcA0gtMIOBQ2wOYGKnLaIzXAGh4S+eZWL8A=",
        "encoding": "base64",
        "path": [
         "_data",
         0,
         "marker",
         "color",
         "value"
        ]
       },
       {
        "data": "XFpQhZJ17D9b/Jw93n7fP+i1AE/bJ+U/COOO8seB5T9UIVbvVIjlP/MSfp9MYOk/YWEw5OqV4j9vjvTiq5frP34pYmErnOg/JwmWh+si6T86iSG/wLvpP+AZe2LoueQ/oky2XYDC6z8VMB/ILizmP31ENZuxbew/leBQ+fVw4T/XZFmTZU3mP2NCE/0qa+Y/m5fEvhcf3T9GRXYeekHoP3Z5XCXJGe0/Iehdp+E33D/Gee6rKInoP5aLiHIAx+A/rkb+MVY86j8TBt9pCuzgPxBDdWroROM/WAljs6Da6z/5psodzi/iP98IkaMLBuc/DOpCMlxN4z8a/V1dqE7nPxhaRmnw2ec/NsF4K/sc4j+byUeerbLiP9Bf0a/DSOg/UQ9OXHM75j8=",
        "encoding": "base64",
        "path": [
         "_data",
         0,
         "x",
         "value"
        ]
       },
       {
        "data": "AAAAAACAvz///////3/nP+NZRvQB1dE/AAAAAAAA5z/Cbn4LAaPkPxVQARVQAdU/6VCD3ZmM5j+KU7/nljjVP7IVQcNJ3dc/9onqQSPv3D/6j++FCMTMP1HrVwrU+uU/mJIpmZIp2T9e3MVd3MXdP+iiiy666OI/v9wQA9Kx5D8OePzhgMffP4v2m/JcAtk/GHqhF3qh5z/sPtwCCqPaPzP8l0DotdM/MwTraPM+5T8z/iMwPTjLP1VVVVVVVeU/1YGPuYn2zT9IgzRIgzToP3mFV3iFV9g/MQpR/UjY0T+yH/uxH/vhP0Qn7YNkQN0/eXh4eHh46D+/TTFq+NvkP0dY7mmE5c4/nYM1S4xP6T/A/HWW+hnQP0UXXXTRRdc/Ce0ltJfQ4j8=",
        "encoding": "base64",
        "path": [
         "_data",
         0,
         "y",
         "value"
        ]
       },
       {
        "data": "cLVTVzbTM8AAAAAAAAD4fw==",
        "encoding": "base64",
        "path": [
         "_data",
         1,
         "marker",
         "color",
         "value"
        ]
       },
       {
        "data": "T0KGcHbH7j86EYT0pwfwPw==",
        "encoding": "base64",
        "path": [
         "_data",
         1,
         "x",
         "value"
        ]
       },
       {
        "data": "mPMp6AFctz9Gt/CrMZGOPw==",
        "encoding": "base64",
        "path": [
         "_data",
         1,
         "y",
         "value"
        ]
       },
       {
        "data": "ovup9wEPLcAgl5iD0rI0wKT/J+OQfB3A",
        "encoding": "base64",
        "path": [
         "_data",
         2,
         "marker",
         "color",
         "value"
        ]
       },
       {
        "data": "5AmIzlf36D+65iBDdp3kP16ZmlI0GO4/",
        "encoding": "base64",
        "path": [
         "_data",
         2,
         "x",
         "value"
        ]
       },
       {
        "data": "rLid02c/4D8rMl+aOIzlPx7wNU2qHuA/",
        "encoding": "base64",
        "path": [
         "_data",
         2,
         "y",
         "value"
        ]
       },
       {
        "data": "LnRyTCwKLcCYbbVBaekpwIDQerKveiDAKCD9rhZYI8BeyxW7L38wwNQynejnmCrAhEeFPsdBIsDGEL3bpnUxwJyLhhnAnzTAegDWAACoI8ASyWyzaP8wwA==",
        "encoding": "base64",
        "path": [
         "_data",
         3,
         "marker",
         "color",
         "value"
        ]
       },
       {
        "data": "+k0Z2ieF6z9n8Jvo6dzuP83MzMzMzOw/iSoyRzZm7j9XXkDVXgfpPx8Fm/+4E+4/kvh/CifL6j8B6oqXvM3kP0+KscuHWuQ/SHgHzFPJ7z8RvCr8pHPiPw==",
        "encoding": "base64",
        "path": [
         "_data",
         3,
         "x",
         "value"
        ]
       },
       {
        "data": "Ju+ND7gs4T8UO7ETO7HTP6jeOcE/89g/M8lF7VnLuT/UM5XrjhfbPyguGYJ1tMk/23eiGVIR2j8dz6mkgITfP/SuxWgy79o//P//////zD+BMYmD963hPw==",
        "encoding": "base64",
        "path": [
         "_data",
         3,
         "y",
         "value"
        ]
       }
      ],
      "model_module": "jupyterlab-plotly",
      "model_module_version": "^5.1.0",
      "model_name": "FigureModel",
      "state": {
       "_config": {
        "plotlyServerURL": "https://plot.ly"
       },
       "_data": [
        {
         "error_x": {},
         "error_y": {},
         "marker": {
          "color": {
           "dtype": "float64",
           "shape": [
            37
           ]
          },
          "coloraxis": "coloraxis",
          "line": {
           "color": "Black",
           "width": 1
          },
          "size": [
           1,
           1,
           1,
           1,
           1,
           1,
           1,
           1,
           1,
           1,
           1,
           1,
           1,
           1,
           1,
           1,
           1,
           1,
           1,
           1,
           1,
           1,
           1,
           1,
           1,
           1,
           1,
           1,
           1,
           1,
           1,
           1,
           1,
           1,
           1,
           1,
           1
          ],
          "sizemin": 4,
          "sizeref": 0.08333333333333326,
          "symbol": "circle"
         },
         "mode": "markers",
         "name": "Mudstone",
         "text": [
          "KC-2-1<br>: 1.00<br>δ<sup>34</sup>S (‰): -21.99",
          "KC-2-2<br>: 1.00<br>δ<sup>34</sup>S (‰): -16.04",
          "KC-2-2.5<br>: 1.00<br>δ<sup>34</sup>S (‰): -13.28",
          "KC-2-3<br>: 1.00<br>δ<sup>34</sup>S (‰): -15.87",
          "KC-2-3.5<br>: 1.00<br>δ<sup>34</sup>S (‰): -18.15",
          "KC-2-4.5<br>: 1.00<br>δ<sup>34</sup>S (‰): -18.92",
          "KC-2-5<br>: 1.00<br>δ<sup>34</sup>S (‰): -20.32",
          "KC-2-6<br>: 1.00<br>δ<sup>34</sup>S (‰): -15.16",
          "KC-2-6.5<br>: 1.00<br>δ<sup>34</sup>S (‰): -20.61",
          "KC-2-7<br>: 1.00<br>δ<sup>34</sup>S (‰): -22.00",
          "KC-2-8<br>: 1.00<br>δ<sup>34</sup>S (‰): -11.36",
          "KC-2-9<br>: 1.00<br>δ<sup>34</sup>S (‰): -19.88",
          "KC-2-10<br>: 1.00<br>δ<sup>34</sup>S (‰): -10.00",
          "KC-2-11<br>: 1.00<br>δ<sup>34</sup>S (‰): -18.90",
          "KC-2-12<br>: 1.00<br>δ<sup>34</sup>S (‰): -5.55",
          "KC-2-13<br>: 1.00<br>δ<sup>34</sup>S (‰): -16.23",
          "KC-2-14<br>: 1.00<br>δ<sup>34</sup>S (‰): -18.61",
          "KC-2-14.5<br>: 1.00<br>δ<sup>34</sup>S (‰): -14.05",
          "KC-2-15<br>: 1.00<br>δ<sup>34</sup>S (‰): -20.80",
          "KC-2-15.5<br>: 1.00<br>δ<sup>34</sup>S (‰): -20.88",
          "KC-2-16<br>: 1.00<br>δ<sup>34</sup>S (‰): -21.45",
          "KC-2-17<br>: 1.00<br>δ<sup>34</sup>S (‰): -20.79",
          "KC-2-18<br>: 1.00<br>δ<sup>34</sup>S (‰): -24.38",
          "KC-2-19<br>: 1.00<br>δ<sup>34</sup>S (‰): -19.45",
          "KC-2-20<br>: 1.00<br>δ<sup>34</sup>S (‰): -20.73",
          "KC-2-21<br>: 1.00<br>δ<sup>34</sup>S (‰): -19.22",
          "KC-2-21.5<br>: 1.00<br>δ<sup>34</sup>S (‰): -20.32",
          "KC-2-22<br>: 1.00<br>δ<sup>34</sup>S (‰): -15.42",
          "KC-2-23<br>: 1.00<br>δ<sup>34</sup>S (‰): -22.03",
          "KC-2-24<br>: 1.00<br>δ<sup>34</sup>S (‰): -22.79",
          "KC-2-25<br>: 1.00<br>δ<sup>34</sup>S (‰): -21.61",
          "KC-2-25.5<br>: 1.00<br>δ<sup>34</sup>S (‰): -21.54",
          "KC-2-26<br>: 1.00<br>δ<sup>34</sup>S (‰): -19.23",
          "KC-2-26.5<br>: 1.00<br>δ<sup>34</sup>S (‰): -25.03",
          "KC-2-27<br>: 1.00<br>δ<sup>34</sup>S (‰): -22.08",
          "KC-2-28<br>: 1.00<br>δ<sup>34</sup>S (‰): -21.14",
          "KC-2-29<br>: 1.00<br>δ<sup>34</sup>S (‰): -15.67"
         ],
         "type": "scatter",
         "uid": "62ac965d-fb7e-4c0f-b22b-e2494a659cd4",
         "x": {
          "dtype": "float64",
          "shape": [
           37
          ]
         },
         "y": {
          "dtype": "float64",
          "shape": [
           37
          ]
         }
        },
        {
         "error_x": {},
         "error_y": {},
         "marker": {
          "color": {
           "dtype": "float64",
           "shape": [
            2
           ]
          },
          "coloraxis": "coloraxis",
          "line": {
           "color": "Black",
           "width": 1
          },
          "size": [
           1,
           1
          ],
          "sizemin": 4,
          "sizeref": 0.08333333333333326,
          "symbol": "star"
         },
         "mode": "markers",
         "name": "Carbonate",
         "text": [
          "KC-2-0<br>: 1.00<br>δ<sup>34</sup>S (‰): -19.83",
          "KC-2-30<br>: 1.00<br>δ<sup>34</sup>S (‰): nan"
         ],
         "type": "scatter",
         "uid": "fd24971e-0ce8-4eda-9637-81fd013fc9f4",
         "x": {
          "dtype": "float64",
          "shape": [
           2
          ]
         },
         "y": {
          "dtype": "float64",
          "shape": [
           2
          ]
         }
        },
        {
         "error_x": {},
         "error_y": {},
         "marker": {
          "color": {
           "dtype": "float64",
           "shape": [
            3
           ]
          },
          "coloraxis": "coloraxis",
          "line": {
           "color": "Black",
           "width": 1
          },
          "size": [
           1,
           1,
           1
          ],
          "sizemin": 4,
          "sizeref": 0.08333333333333326,
          "symbol": "square"
         },
         "mode": "markers",
         "name": "Pervasively pyritised regions",
         "text": [
          "KC-2-6p<br>: 1.00<br>δ<sup>34</sup>S (‰): -14.53",
          "KC-2-9p<br>: 1.00<br>δ<sup>34</sup>S (‰): -20.70",
          "KC-2-22p<br>: 1.00<br>δ<sup>34</sup>S (‰): -7.37"
         ],
         "type": "scatter",
         "uid": "c743d48f-ce2e-4855-9c58-732e24a77521",
         "x": {
          "dtype": "float64",
          "shape": [
           3
          ]
         },
         "y": {
          "dtype": "float64",
          "shape": [
           3
          ]
         }
        },
        {
         "error_x": {},
         "error_y": {},
         "marker": {
          "color": {
           "dtype": "float64",
           "shape": [
            11
           ]
          },
          "coloraxis": "coloraxis",
          "line": {
           "color": "Black",
           "width": 1
          },
          "size": [
           1,
           1,
           1,
           1,
           1,
           1,
           1,
           1,
           1,
           1,
           1
          ],
          "sizemin": 4,
          "sizeref": 0.08333333333333326,
          "symbol": "diamond"
         },
         "mode": "markers",
         "name": "Bed 22",
         "text": [
          "KC-3-A<br>: 1.00<br>δ<sup>34</sup>S (‰): -14.52",
          "KC-3-B<br>: 1.00<br>δ<sup>34</sup>S (‰): -12.96",
          "KC-3-C<br>: 1.00<br>δ<sup>34</sup>S (‰): -8.24",
          "KC-3-D<br>: 1.00<br>δ<sup>34</sup>S (‰): -9.67",
          "KC-3-E<br>: 1.00<br>δ<sup>34</sup>S (‰): -16.50",
          "KC-3-F<br>: 1.00<br>δ<sup>34</sup>S (‰): -13.30",
          "KC-3-G<br>: 1.00<br>δ<sup>34</sup>S (‰): -9.13",
          "KC-3-H<br>: 1.00<br>δ<sup>34</sup>S (‰): -17.46",
          "KC-3-I<br>: 1.00<br>δ<sup>34</sup>S (‰): -20.62",
          "KC-3-J<br>: 1.00<br>δ<sup>34</sup>S (‰): -9.83",
          "KC-3-K<br>: 1.00<br>δ<sup>34</sup>S (‰): -17.00"
         ],
         "type": "scatter",
         "uid": "dc81d37f-3f39-40dd-bc8d-7d22775a0f1d",
         "x": {
          "dtype": "float64",
          "shape": [
           11
          ]
         },
         "y": {
          "dtype": "float64",
          "shape": [
           11
          ]
         }
        }
       ],
       "_js2py_pointsCallback": {},
       "_js2py_relayout": {},
       "_js2py_restyle": {},
       "_js2py_update": {},
       "_last_layout_edit_id": 52,
       "_last_trace_edit_id": 44,
       "_layout": {
        "coloraxis": {
         "colorbar": {
          "ticks": "outside",
          "title": {
           "text": "δ<sup>34</sup>S (‰)"
          }
         },
         "colorscale": [
          [
           0,
           "#fde725"
          ],
          [
           0.1111111111111111,
           "#b5de2b"
          ],
          [
           0.2222222222222222,
           "#6ece58"
          ],
          [
           0.3333333333333333,
           "#35b779"
          ],
          [
           0.4444444444444444,
           "#1f9e89"
          ],
          [
           0.5555555555555556,
           "#26828e"
          ],
          [
           0.6666666666666666,
           "#31688e"
          ],
          [
           0.7777777777777778,
           "#3e4989"
          ],
          [
           0.8888888888888888,
           "#482878"
          ],
          [
           1,
           "#440154"
          ]
         ]
        },
        "height": 700,
        "legend": {
         "itemsizing": "constant",
         "orientation": "h",
         "x": 0,
         "xanchor": "left",
         "y": 1.01,
         "yanchor": "bottom"
        },
        "shapes": [
         {
          "line": {
           "width": 0.5
          },
          "name": "Diagonal",
          "type": "line",
          "visible": false,
          "x0": -100,
          "x1": 100,
          "y0": -100,
          "y1": 100
         },
         {
          "line": {
           "dash": "dash",
           "width": 1
          },
          "type": "line",
          "x0": 0,
          "x1": 1,
          "xref": "x domain",
          "y0": 0.8,
          "y1": 0.8,
          "yref": "y"
         },
         {
          "line": {
           "dash": "dash",
           "width": 1
          },
          "type": "line",
          "x0": 0.38,
          "x1": 0.38,
          "xref": "x",
          "y0": 0,
          "y1": 1,
          "yref": "y domain"
         }
        ],
        "template": {
         "layout": {
          "bargap": 0.05,
          "bargroupgap": 0,
          "font": {
           "color": "black",
           "family": "Arial",
           "size": 16
          },
          "height": 700,
          "hovermode": "closest",
          "margin": {
           "b": 60,
           "l": 60,
           "r": 30,
           "t": 30
          },
          "scene": {
           "xaxis": {
            "color": "black",
            "linewidth": 2,
            "showline": true,
            "ticks": "outside"
           },
           "yaxis": {
            "color": "black",
            "linewidth": 2,
            "showline": true,
            "ticks": "outside"
           },
           "zaxis": {
            "color": "black",
            "linewidth": 2,
            "showline": true,
            "ticks": "outside"
           }
          },
          "xaxis": {
           "color": "black",
           "linewidth": 1.3,
           "mirror": true,
           "showgrid": true,
           "showline": true,
           "ticks": "outside",
           "zeroline": true
          },
          "yaxis": {
           "color": "black",
           "linewidth": 1.3,
           "mirror": true,
           "showgrid": true,
           "showline": true,
           "ticks": "outside",
           "zeroline": true
          }
         }
        },
        "width": 740,
        "xaxis": {
         "range": [
          0,
          1
         ],
         "title": {
          "text": "[Fe<sub>HR</sub>]/[Fe<sub>tot</sub>]"
         }
        },
        "yaxis": {
         "range": [
          0,
          1
         ],
         "title": {
          "text": "[Fe<sub>py</sub>]/[Fe<sub>HR</sub>]"
         }
        }
       },
       "_py2js_animate": {},
       "_py2js_deleteTraces": {},
       "_py2js_moveTraces": {},
       "_py2js_removeLayoutProps": {},
       "_py2js_removeTraceProps": {},
       "_view_count": 1
      }
     },
     "6fa35faf1c2840ad8c30f434721a4d31": {
      "model_module": "@jupyter-widgets/base",
      "model_module_version": "1.2.0",
      "model_name": "LayoutModel",
      "state": {}
     },
     "70b8099b9f1a43b29635c1f1a3069682": {
      "model_module": "@jupyter-widgets/controls",
      "model_module_version": "1.5.0",
      "model_name": "SliderStyleModel",
      "state": {
       "description_width": "initial"
      }
     },
     "749091e2ebe845369adb0c97403224ea": {
      "model_module": "@jupyter-widgets/base",
      "model_module_version": "1.2.0",
      "model_name": "LayoutModel",
      "state": {}
     },
     "76d6aa0e3bff4a67aa3a036d31a0aa46": {
      "model_module": "@jupyter-widgets/base",
      "model_module_version": "1.2.0",
      "model_name": "LayoutModel",
      "state": {
       "width": "75%"
      }
     },
     "7c4c8e3add2a445d97e0889509884757": {
      "model_module": "@jupyter-widgets/controls",
      "model_module_version": "1.5.0",
      "model_name": "FloatSliderModel",
      "state": {
       "description": "[Fe<sub>py</sub>]<sub>0</sub> / wt%",
       "layout": "IPY_MODEL_1a9f5cb17b734a519ecbbabe3a60cc08",
       "max": 5,
       "step": 0.1,
       "style": "IPY_MODEL_3099eaa90f08487f987849f6186efab6"
      }
     },
     "7cce180780f041b7940a463a8052336e": {
      "model_module": "@jupyter-widgets/controls",
      "model_module_version": "1.5.0",
      "model_name": "DescriptionStyleModel",
      "state": {
       "description_width": ""
      }
     },
     "7e7512559191424ea39af4c05cb9b92a": {
      "model_module": "@jupyter-widgets/base",
      "model_module_version": "1.2.0",
      "model_name": "LayoutModel",
      "state": {}
     },
     "8afb107106924ec6ab899b6657b3790e": {
      "model_module": "@jupyter-widgets/controls",
      "model_module_version": "1.5.0",
      "model_name": "CheckboxModel",
      "state": {
       "description": "diagonal",
       "disabled": false,
       "layout": "IPY_MODEL_aa575c7cdb834a6f80b388deb055bf2f",
       "style": "IPY_MODEL_2f693e9b17604ddba38b653cce126d91",
       "value": false
      }
     },
     "8fd1c618c8ce4801a34254dae229a6f9": {
      "model_module": "@jupyter-widgets/base",
      "model_module_version": "1.2.0",
      "model_name": "LayoutModel",
      "state": {}
     },
     "9139e94154844280bd9fed262c0db474": {
      "model_module": "@jupyter-widgets/base",
      "model_module_version": "1.2.0",
      "model_name": "LayoutModel",
      "state": {
       "width": "75%"
      }
     },
     "93269a2a07034ae5af5a6899b0a168d2": {
      "model_module": "@jupyter-widgets/controls",
      "model_module_version": "1.5.0",
      "model_name": "DropdownModel",
      "state": {
       "_options_labels": [
        "HR_to_tot",
        "py_to_HR",
        "py_to_tot",
        "Fe_py",
        "Fe_ox",
        "Fe_mag",
        "Fe_carb",
        "Fe_UR",
        "Fe_HR",
        "Fe_tot",
        "d34S",
        "H2S_decay",
        "fossil_index",
        "py_index",
        "phi",
        "biodiversity",
        "Constant",
        "height"
       ],
       "description": "colour",
       "index": 10,
       "layout": "IPY_MODEL_6fa35faf1c2840ad8c30f434721a4d31",
       "style": "IPY_MODEL_7cce180780f041b7940a463a8052336e"
      }
     },
     "971cf2c3bfa84655b6991daf108ebea6": {
      "model_module": "@jupyter-widgets/controls",
      "model_module_version": "1.5.0",
      "model_name": "VBoxModel",
      "state": {
       "_dom_classes": [
        "widget-interact"
       ],
       "children": [
        "IPY_MODEL_93269a2a07034ae5af5a6899b0a168d2",
        "IPY_MODEL_2c7874be6c5946ba93d494c79263d2a8",
        "IPY_MODEL_5c899da90ee34c0b87bf5b91cd7b92b5",
        "IPY_MODEL_23cb4df07c9040eb90ebdf6e6ca9cbee"
       ],
       "layout": "IPY_MODEL_e57f46b9baec40afa4e1cda7ead5b6a1"
      }
     },
     "990efd0acd234762a06031bdecf41653": {
      "model_module": "@jupyter-widgets/controls",
      "model_module_version": "1.5.0",
      "model_name": "FloatSliderModel",
      "state": {
       "description": "[Fe<sub>tot</sub>] / wt%",
       "layout": "IPY_MODEL_b0d61e19474a4e1a8f574a31aa01d306",
       "max": 15,
       "step": 0.1,
       "style": "IPY_MODEL_aa8cf0e0f4f647b7a5a9c2adb863b161",
       "value": 5.11
      }
     },
     "9cac4065bbc6462e9c850625e6ac8827": {
      "buffers": [
       {
        "data": "XFpQhZJ17D9b/Jw93n7fP+i1AE/bJ+U/COOO8seB5T9UIVbvVIjlP/MSfp9MYOk/YWEw5OqV4j9vjvTiq5frP34pYmErnOg/JwmWh+si6T86iSG/wLvpP+AZe2LoueQ/oky2XYDC6z8VMB/ILizmP31ENZuxbew/leBQ+fVw4T/XZFmTZU3mP2NCE/0qa+Y/m5fEvhcf3T9GRXYeekHoP3Z5XCXJGe0/Iehdp+E33D/Gee6rKInoP5aLiHIAx+A/rkb+MVY86j8TBt9pCuzgPxBDdWroROM/WAljs6Da6z/5psodzi/iP98IkaMLBuc/DOpCMlxN4z8a/V1dqE7nPxhaRmnw2ec/NsF4K/sc4j+byUeerbLiP9Bf0a/DSOg/UQ9OXHM75j8=",
        "encoding": "base64",
        "path": [
         "_data",
         0,
         "x",
         "value"
        ]
       },
       {
        "data": "AAAAAAAAAAAAAAAAAAAAAAAAAAAAAAAAAAAAAAAAAAAAAAAAAAAAAAAAAAAAAAAAAAAAAAAAAAAAAAAAAAAAAAAAAAAAAAAAAAAAAAAAAAAAAAAAAAAAAAAAAAAAAAAAAAAAAAAAAAAAAAAAAAAAAAAAAAAAAAAAAAAAAAAAAAAAAAAAAAAAAAAAAAAAAAAAAAAAAAAAAAAAAAAAAAAAAAAAAAAAAAAAAAAAAAAAAAAAAAAAAAAAAAAAAAAAAAAAAAAAAAAAAAAAAAAAAAAAAAAAAAAAAAAAAAAAAAAAAAAAAAAAAAAAAAAAAAAAAAAAAAAAAAAAAAAAAAAAAAAAAAAAAAAAAAAAAAAAAAAAAAAAAAAAAAAAAAAAAAAAAAAAAAAAAAAAAAA=",
        "encoding": "base64",
        "path": [
         "_data",
         0,
         "y",
         "value"
        ]
       },
       {
        "data": "XFpQhZJ17D9b/Jw93n7fP+i1AE/bJ+U/COOO8seB5T9UIVbvVIjlP/MSfp9MYOk/YWEw5OqV4j9vjvTiq5frP34pYmErnOg/JwmWh+si6T86iSG/wLvpP+AZe2LoueQ/oky2XYDC6z8VMB/ILizmP31ENZuxbew/leBQ+fVw4T/XZFmTZU3mP2NCE/0qa+Y/m5fEvhcf3T9GRXYeekHoP3Z5XCXJGe0/Iehdp+E33D/Gee6rKInoP5aLiHIAx+A/rkb+MVY86j8TBt9pCuzgPxBDdWroROM/WAljs6Da6z/5psodzi/iP98IkaMLBuc/DOpCMlxN4z8a/V1dqE7nPxhaRmnw2ec/NsF4K/sc4j+byUeerbLiP9Bf0a/DSOg/UQ9OXHM75j8=",
        "encoding": "base64",
        "path": [
         "_data",
         1,
         "x",
         "value"
        ]
       },
       {
        "data": "XFpQhZJ17D9b/Jw93n7fP+i1AE/bJ+U/COOO8seB5T9UIVbvVIjlP/MSfp9MYOk/YWEw5OqV4j9vjvTiq5frP34pYmErnOg/JwmWh+si6T86iSG/wLvpP+AZe2LoueQ/oky2XYDC6z8VMB/ILizmP31ENZuxbew/leBQ+fVw4T/XZFmTZU3mP2NCE/0qa+Y/m5fEvhcf3T9GRXYeekHoP3Z5XCXJGe0/Iehdp+E33D/Gee6rKInoP5aLiHIAx+A/rkb+MVY86j8TBt9pCuzgPxBDdWroROM/WAljs6Da6z/5psodzi/iP98IkaMLBuc/DOpCMlxN4z8a/V1dqE7nPxhaRmnw2ec/NsF4K/sc4j+byUeerbLiP9Bf0a/DSOg/UQ9OXHM75j8=",
        "encoding": "base64",
        "path": [
         "_data",
         2,
         "x",
         "value"
        ]
       },
       {
        "data": "XFpQhZJ17D9b/Jw93n7fP+i1AE/bJ+U/COOO8seB5T9UIVbvVIjlP/MSfp9MYOk/YWEw5OqV4j9vjvTiq5frP34pYmErnOg/JwmWh+si6T86iSG/wLvpP+AZe2LoueQ/oky2XYDC6z8VMB/ILizmP31ENZuxbew/leBQ+fVw4T/XZFmTZU3mP2NCE/0qa+Y/m5fEvhcf3T9GRXYeekHoP3Z5XCXJGe0/Iehdp+E33D/Gee6rKInoP5aLiHIAx+A/rkb+MVY86j8TBt9pCuzgPxBDdWroROM/WAljs6Da6z/5psodzi/iP98IkaMLBuc/DOpCMlxN4z8a/V1dqE7nPxhaRmnw2ec/NsF4K/sc4j+byUeerbLiP9Bf0a/DSOg/UQ9OXHM75j8=",
        "encoding": "base64",
        "path": [
         "_data",
         3,
         "x",
         "value"
        ]
       },
       {
        "data": "AAAAAACAvz///////3/nP+NZRvQB1dE/AAAAAAAA5z/Cbn4LAaPkPxVQARVQAdU/6VCD3ZmM5j+KU7/nljjVP7IVQcNJ3dc/9onqQSPv3D/6j++FCMTMP1HrVwrU+uU/mJIpmZIp2T9e3MVd3MXdP+iiiy666OI/v9wQA9Kx5D8OePzhgMffP4v2m/JcAtk/GHqhF3qh5z/sPtwCCqPaPzP8l0DotdM/MwTraPM+5T8z/iMwPTjLP1VVVVVVVeU/1YGPuYn2zT9IgzRIgzToP3mFV3iFV9g/MQpR/UjY0T+yH/uxH/vhP0Qn7YNkQN0/eXh4eHh46D+/TTFq+NvkP0dY7mmE5c4/nYM1S4xP6T/A/HWW+hnQP0UXXXTRRdc/Ce0ltJfQ4j8=",
        "encoding": "base64",
        "path": [
         "_data",
         3,
         "y",
         "value"
        ]
       },
       {
        "data": "T0KGcHbH7j86EYT0pwfwPw==",
        "encoding": "base64",
        "path": [
         "_data",
         4,
         "x",
         "value"
        ]
       },
       {
        "data": "AAAAAAAAAAAAAAAAAAAAAA==",
        "encoding": "base64",
        "path": [
         "_data",
         4,
         "y",
         "value"
        ]
       },
       {
        "data": "T0KGcHbH7j86EYT0pwfwPw==",
        "encoding": "base64",
        "path": [
         "_data",
         5,
         "x",
         "value"
        ]
       },
       {
        "data": "T0KGcHbH7j86EYT0pwfwPw==",
        "encoding": "base64",
        "path": [
         "_data",
         6,
         "x",
         "value"
        ]
       },
       {
        "data": "T0KGcHbH7j86EYT0pwfwPw==",
        "encoding": "base64",
        "path": [
         "_data",
         7,
         "x",
         "value"
        ]
       },
       {
        "data": "mPMp6AFctz9Gt/CrMZGOPw==",
        "encoding": "base64",
        "path": [
         "_data",
         7,
         "y",
         "value"
        ]
       },
       {
        "data": "5AmIzlf36D+65iBDdp3kP16ZmlI0GO4/",
        "encoding": "base64",
        "path": [
         "_data",
         8,
         "x",
         "value"
        ]
       },
       {
        "data": "AAAAAAAAAAAAAAAAAAAAAAAAAAAAAAAA",
        "encoding": "base64",
        "path": [
         "_data",
         8,
         "y",
         "value"
        ]
       },
       {
        "data": "5AmIzlf36D+65iBDdp3kP16ZmlI0GO4/",
        "encoding": "base64",
        "path": [
         "_data",
         9,
         "x",
         "value"
        ]
       },
       {
        "data": "5AmIzlf36D+65iBDdp3kP16ZmlI0GO4/",
        "encoding": "base64",
        "path": [
         "_data",
         10,
         "x",
         "value"
        ]
       },
       {
        "data": "5AmIzlf36D+65iBDdp3kP16ZmlI0GO4/",
        "encoding": "base64",
        "path": [
         "_data",
         11,
         "x",
         "value"
        ]
       },
       {
        "data": "rLid02c/4D8rMl+aOIzlPx7wNU2qHuA/",
        "encoding": "base64",
        "path": [
         "_data",
         11,
         "y",
         "value"
        ]
       },
       {
        "data": "+k0Z2ieF6z9n8Jvo6dzuP83MzMzMzOw/iSoyRzZm7j9XXkDVXgfpPx8Fm/+4E+4/kvh/CifL6j8B6oqXvM3kP0+KscuHWuQ/SHgHzFPJ7z8RvCr8pHPiPw==",
        "encoding": "base64",
        "path": [
         "_data",
         12,
         "x",
         "value"
        ]
       },
       {
        "data": "AAAAAAAAAAAAAAAAAAAAAAAAAAAAAAAAAAAAAAAAAAAAAAAAAAAAAAAAAAAAAAAAAAAAAAAAAAAAAAAAAAAAAAAAAAAAAAAAAAAAAAAAAAAAAAAAAAAAAA==",
        "encoding": "base64",
        "path": [
         "_data",
         12,
         "y",
         "value"
        ]
       },
       {
        "data": "+k0Z2ieF6z9n8Jvo6dzuP83MzMzMzOw/iSoyRzZm7j9XXkDVXgfpPx8Fm/+4E+4/kvh/CifL6j8B6oqXvM3kP0+KscuHWuQ/SHgHzFPJ7z8RvCr8pHPiPw==",
        "encoding": "base64",
        "path": [
         "_data",
         13,
         "x",
         "value"
        ]
       },
       {
        "data": "+k0Z2ieF6z9n8Jvo6dzuP83MzMzMzOw/iSoyRzZm7j9XXkDVXgfpPx8Fm/+4E+4/kvh/CifL6j8B6oqXvM3kP0+KscuHWuQ/SHgHzFPJ7z8RvCr8pHPiPw==",
        "encoding": "base64",
        "path": [
         "_data",
         14,
         "x",
         "value"
        ]
       },
       {
        "data": "+k0Z2ieF6z9n8Jvo6dzuP83MzMzMzOw/iSoyRzZm7j9XXkDVXgfpPx8Fm/+4E+4/kvh/CifL6j8B6oqXvM3kP0+KscuHWuQ/SHgHzFPJ7z8RvCr8pHPiPw==",
        "encoding": "base64",
        "path": [
         "_data",
         15,
         "x",
         "value"
        ]
       },
       {
        "data": "Ju+ND7gs4T8UO7ETO7HTP6jeOcE/89g/M8lF7VnLuT/UM5XrjhfbPyguGYJ1tMk/23eiGVIR2j8dz6mkgITfP/SuxWgy79o//P//////zD+BMYmD963hPw==",
        "encoding": "base64",
        "path": [
         "_data",
         15,
         "y",
         "value"
        ]
       },
       {
        "data": "exSuR+F6hD8Yl0Wb0e2eP/kRWkkZz6k/M6yI4qQTsj9pT2QgvT+3P5/yP17Va7w/68oNzvbLwD+HnPvsAmLDPyJu6QsP+MU/vT/XKhuOyD9YEcVJJyTLP/Tismgzus0/R1rQwx8o0D8VQ0fTJXPRP+MrvuIrvtI/sBQ18jEJ1D9+/asBOFTVP0zmIhE+n9Y/Gc+ZIETq1z/ntxAwSjXZP7Sghz9QgNo/gon+TlbL2z9QcnVeXBbdPx1b7G1iYd4/60NjfWis3z9cFm1Gt3vgP8OKKE46IeE/Kv/jVb3G4T+Rc59dQGziP/jnWmXDEeM/XlwWbUa34z/F0NF0yVzkPyxFjXxMAuU/k7lIhM+n5T/6LQSMUk3mP2Civ5PV8uY/xxZ7m1iY5z8uizaj2z3oP5X/8ape4+g//HOtsuGI6T9i6Gi6ZC7qP8lcJMLn0+o/MNHfyWp56z+XRZvR7R7sP/65VtlwxOw/ZS4S4fNp7T/Los3odg/uPzIXifD5tO4/mYtE+Hxa7z8AAAAAAADwPw==",
        "encoding": "base64",
        "path": [
         "_data",
         16,
         "x",
         "value"
        ]
       },
       {
        "data": "AAAAAAAAAAAAAAAAAAAAAAAAAAAAAAAAAAAAAAAAAAAAAAAAAAAAAAAAAAAAAAAAAAAAAAAAAAAAAAAAAAAAAAAAAAAAAAAAAAAAAAAAAAAAAAAAAAAAAAAAAAAAAAAAAAAAAAAAAAAAAAAAAAAAAAAAAAAAAAAAAAAAAAAAAAAAAAAAAAAAAAAAAAAAAAAAAAAAAAAAAAAAAAAAAAAAAAAAAAAAAAAAAAAAAAAAAAAAAAAAAAAAAAAAAAAAAAAAAAAAAAAAAAAAAAAAAAAAAAAAAAAAAAAAAAAAAAAAAAAAAAAAAAAAAAAAAAAAAAAAAAAAAAAAAAAAAAAAAAAAAAAAAAAAAAAAAAAAAAAAAAAAAAAAAAAAAAAAAAAAAAAAAAAAAAAAAAAAAAAAAAAAAAAAAAAAAAAAAAAAAAAAAAAAAAAAAAAAAAAAAAAAAAAAAAAAAAAAAAAAAAAAAAAAAAAAAAAAAAAAAAAAAAAAAAAAAAAAAAAAAAAAAAAAAAAAAAAAAAAAAAAAAAAAAAAAAA==",
        "encoding": "base64",
        "path": [
         "_data",
         16,
         "y",
         "value"
        ]
       }
      ],
      "model_module": "jupyterlab-plotly",
      "model_module_version": "^5.1.0",
      "model_name": "FigureModel",
      "state": {
       "_config": {
        "plotlyServerURL": "https://plot.ly"
       },
       "_data": [
        {
         "legendgroup": "Mudstone",
         "marker": {
          "color": "LightPink",
          "size": 8,
          "symbol": "circle"
         },
         "mode": "markers",
         "name": "Mudstone (pre-diagenesis)",
         "text": [
          "KC-2-1",
          "KC-2-2",
          "KC-2-2.5",
          "KC-2-3",
          "KC-2-3.5",
          "KC-2-4.5",
          "KC-2-5",
          "KC-2-6",
          "KC-2-6.5",
          "KC-2-7",
          "KC-2-8",
          "KC-2-9",
          "KC-2-10",
          "KC-2-11",
          "KC-2-12",
          "KC-2-13",
          "KC-2-14",
          "KC-2-14.5",
          "KC-2-15",
          "KC-2-15.5",
          "KC-2-16",
          "KC-2-17",
          "KC-2-18",
          "KC-2-19",
          "KC-2-20",
          "KC-2-21",
          "KC-2-21.5",
          "KC-2-22",
          "KC-2-23",
          "KC-2-24",
          "KC-2-25",
          "KC-2-25.5",
          "KC-2-26",
          "KC-2-26.5",
          "KC-2-27",
          "KC-2-28",
          "KC-2-29"
         ],
         "type": "scatter",
         "uid": "0ae6b3ba-2a02-4c63-9ea5-be371b0a2907",
         "x": {
          "dtype": "float64",
          "shape": [
           37
          ]
         },
         "y": {
          "dtype": "float64",
          "shape": [
           37
          ]
         }
        },
        {
         "legendgroup": "Mudstone",
         "marker": {
          "color": "LawnGreen",
          "opacity": 0.8,
          "size": 8,
          "symbol": "circle"
         },
         "mode": "markers",
         "name": "Mudstone (half way)",
         "text": [
          "KC-2-1",
          "KC-2-2",
          "KC-2-2.5",
          "KC-2-3",
          "KC-2-3.5",
          "KC-2-4.5",
          "KC-2-5",
          "KC-2-6",
          "KC-2-6.5",
          "KC-2-7",
          "KC-2-8",
          "KC-2-9",
          "KC-2-10",
          "KC-2-11",
          "KC-2-12",
          "KC-2-13",
          "KC-2-14",
          "KC-2-14.5",
          "KC-2-15",
          "KC-2-15.5",
          "KC-2-16",
          "KC-2-17",
          "KC-2-18",
          "KC-2-19",
          "KC-2-20",
          "KC-2-21",
          "KC-2-21.5",
          "KC-2-22",
          "KC-2-23",
          "KC-2-24",
          "KC-2-25",
          "KC-2-25.5",
          "KC-2-26",
          "KC-2-26.5",
          "KC-2-27",
          "KC-2-28",
          "KC-2-29"
         ],
         "type": "scatter",
         "uid": "7135d15c-c233-4d3a-9a8f-ea25cfaf720f",
         "x": {
          "dtype": "float64",
          "shape": [
           37
          ]
         },
         "y": [
          0,
          0,
          0,
          0,
          0,
          0,
          0,
          0,
          0,
          0,
          0,
          0,
          0,
          0,
          0,
          0,
          0,
          0,
          0,
          0,
          0,
          0,
          0,
          0,
          0,
          0,
          0,
          0,
          0,
          0,
          0,
          0,
          0,
          0,
          0,
          0,
          0
         ]
        },
        {
         "legendgroup": "Mudstone",
         "marker": {
          "color": "Green",
          "size": 8,
          "symbol": "circle"
         },
         "mode": "markers",
         "name": "Mudstone (modelled)",
         "text": [
          "KC-2-1",
          "KC-2-2",
          "KC-2-2.5",
          "KC-2-3",
          "KC-2-3.5",
          "KC-2-4.5",
          "KC-2-5",
          "KC-2-6",
          "KC-2-6.5",
          "KC-2-7",
          "KC-2-8",
          "KC-2-9",
          "KC-2-10",
          "KC-2-11",
          "KC-2-12",
          "KC-2-13",
          "KC-2-14",
          "KC-2-14.5",
          "KC-2-15",
          "KC-2-15.5",
          "KC-2-16",
          "KC-2-17",
          "KC-2-18",
          "KC-2-19",
          "KC-2-20",
          "KC-2-21",
          "KC-2-21.5",
          "KC-2-22",
          "KC-2-23",
          "KC-2-24",
          "KC-2-25",
          "KC-2-25.5",
          "KC-2-26",
          "KC-2-26.5",
          "KC-2-27",
          "KC-2-28",
          "KC-2-29"
         ],
         "type": "scatter",
         "uid": "22626d93-21be-4280-b050-c25faff4ee3e",
         "x": {
          "dtype": "float64",
          "shape": [
           37
          ]
         },
         "y": [
          0,
          0,
          0,
          0,
          0,
          0,
          0,
          0,
          0,
          0,
          0,
          0,
          0,
          0,
          0,
          0,
          0,
          0,
          0,
          0,
          0,
          0,
          0,
          0,
          0,
          0,
          0,
          0,
          0,
          0,
          0,
          0,
          0,
          0,
          0,
          0,
          0
         ]
        },
        {
         "legendgroup": "Mudstone",
         "marker": {
          "color": "Blue",
          "opacity": 0.3,
          "size": 8,
          "symbol": "circle"
         },
         "mode": "markers",
         "name": "Mudstone (post-diagenesis)",
         "text": [
          "KC-2-1",
          "KC-2-2",
          "KC-2-2.5",
          "KC-2-3",
          "KC-2-3.5",
          "KC-2-4.5",
          "KC-2-5",
          "KC-2-6",
          "KC-2-6.5",
          "KC-2-7",
          "KC-2-8",
          "KC-2-9",
          "KC-2-10",
          "KC-2-11",
          "KC-2-12",
          "KC-2-13",
          "KC-2-14",
          "KC-2-14.5",
          "KC-2-15",
          "KC-2-15.5",
          "KC-2-16",
          "KC-2-17",
          "KC-2-18",
          "KC-2-19",
          "KC-2-20",
          "KC-2-21",
          "KC-2-21.5",
          "KC-2-22",
          "KC-2-23",
          "KC-2-24",
          "KC-2-25",
          "KC-2-25.5",
          "KC-2-26",
          "KC-2-26.5",
          "KC-2-27",
          "KC-2-28",
          "KC-2-29"
         ],
         "type": "scatter",
         "uid": "12cfbe1e-9215-443e-aafb-b2839074b529",
         "x": {
          "dtype": "float64",
          "shape": [
           37
          ]
         },
         "y": {
          "dtype": "float64",
          "shape": [
           37
          ]
         }
        },
        {
         "legendgroup": "Carbonate",
         "marker": {
          "color": "LightPink",
          "size": 8,
          "symbol": "star"
         },
         "mode": "markers",
         "name": "Carbonate (pre-diagenesis)",
         "text": [
          "KC-2-0",
          "KC-2-30"
         ],
         "type": "scatter",
         "uid": "dcd7a120-20e0-481f-8759-46baa2145b8b",
         "x": {
          "dtype": "float64",
          "shape": [
           2
          ]
         },
         "y": {
          "dtype": "float64",
          "shape": [
           2
          ]
         }
        },
        {
         "legendgroup": "Carbonate",
         "marker": {
          "color": "LawnGreen",
          "opacity": 0.8,
          "size": 8,
          "symbol": "star"
         },
         "mode": "markers",
         "name": "Carbonate (half way)",
         "text": [
          "KC-2-0",
          "KC-2-30"
         ],
         "type": "scatter",
         "uid": "3bcab565-f558-418d-b0e5-f18fefd50098",
         "x": {
          "dtype": "float64",
          "shape": [
           2
          ]
         },
         "y": [
          0,
          0
         ]
        },
        {
         "legendgroup": "Carbonate",
         "marker": {
          "color": "Green",
          "size": 8,
          "symbol": "star"
         },
         "mode": "markers",
         "name": "Carbonate (modelled)",
         "text": [
          "KC-2-0",
          "KC-2-30"
         ],
         "type": "scatter",
         "uid": "456e8178-47e1-4ec9-91c2-351f8c60daf0",
         "x": {
          "dtype": "float64",
          "shape": [
           2
          ]
         },
         "y": [
          0,
          0
         ]
        },
        {
         "legendgroup": "Carbonate",
         "marker": {
          "color": "Blue",
          "opacity": 0.3,
          "size": 8,
          "symbol": "star"
         },
         "mode": "markers",
         "name": "Carbonate (post-diagenesis)",
         "text": [
          "KC-2-0",
          "KC-2-30"
         ],
         "type": "scatter",
         "uid": "b4db6f20-c726-4fcd-8c9b-06c3076cfdf4",
         "x": {
          "dtype": "float64",
          "shape": [
           2
          ]
         },
         "y": {
          "dtype": "float64",
          "shape": [
           2
          ]
         }
        },
        {
         "legendgroup": "Pervasively pyritised regions",
         "marker": {
          "color": "LightPink",
          "size": 8,
          "symbol": "square"
         },
         "mode": "markers",
         "name": "Pervasively pyritised regions (pre-diagenesis)",
         "text": [
          "KC-2-6p",
          "KC-2-9p",
          "KC-2-22p"
         ],
         "type": "scatter",
         "uid": "f6b24379-4976-4c6c-a0b7-b2db6f6e4af7",
         "x": {
          "dtype": "float64",
          "shape": [
           3
          ]
         },
         "y": {
          "dtype": "float64",
          "shape": [
           3
          ]
         }
        },
        {
         "legendgroup": "Pervasively pyritised regions",
         "marker": {
          "color": "LawnGreen",
          "opacity": 0.8,
          "size": 8,
          "symbol": "square"
         },
         "mode": "markers",
         "name": "Pervasively pyritised regions (half way)",
         "text": [
          "KC-2-6p",
          "KC-2-9p",
          "KC-2-22p"
         ],
         "type": "scatter",
         "uid": "d65d23e3-8de6-4bea-9272-220f03812848",
         "x": {
          "dtype": "float64",
          "shape": [
           3
          ]
         },
         "y": [
          0,
          0,
          0
         ]
        },
        {
         "legendgroup": "Pervasively pyritised regions",
         "marker": {
          "color": "Green",
          "size": 8,
          "symbol": "square"
         },
         "mode": "markers",
         "name": "Pervasively pyritised regions (modelled)",
         "text": [
          "KC-2-6p",
          "KC-2-9p",
          "KC-2-22p"
         ],
         "type": "scatter",
         "uid": "2254a9e8-1185-41ab-b12a-bffec22fbb2d",
         "x": {
          "dtype": "float64",
          "shape": [
           3
          ]
         },
         "y": [
          0,
          0,
          0
         ]
        },
        {
         "legendgroup": "Pervasively pyritised regions",
         "marker": {
          "color": "Blue",
          "opacity": 0.3,
          "size": 8,
          "symbol": "square"
         },
         "mode": "markers",
         "name": "Pervasively pyritised regions (post-diagenesis)",
         "text": [
          "KC-2-6p",
          "KC-2-9p",
          "KC-2-22p"
         ],
         "type": "scatter",
         "uid": "e77b5e00-fc3f-45ff-92bd-f1a36f2a04aa",
         "x": {
          "dtype": "float64",
          "shape": [
           3
          ]
         },
         "y": {
          "dtype": "float64",
          "shape": [
           3
          ]
         }
        },
        {
         "legendgroup": "Bed 22",
         "marker": {
          "color": "LightPink",
          "size": 8,
          "symbol": "diamond"
         },
         "mode": "markers",
         "name": "Bed 22 (pre-diagenesis)",
         "text": [
          "KC-3-A",
          "KC-3-B",
          "KC-3-C",
          "KC-3-D",
          "KC-3-E",
          "KC-3-F",
          "KC-3-G",
          "KC-3-H",
          "KC-3-I",
          "KC-3-J",
          "KC-3-K"
         ],
         "type": "scatter",
         "uid": "42ef073a-09e7-479f-a85c-4f8189e2f05b",
         "x": {
          "dtype": "float64",
          "shape": [
           11
          ]
         },
         "y": {
          "dtype": "float64",
          "shape": [
           11
          ]
         }
        },
        {
         "legendgroup": "Bed 22",
         "marker": {
          "color": "LawnGreen",
          "opacity": 0.8,
          "size": 8,
          "symbol": "diamond"
         },
         "mode": "markers",
         "name": "Bed 22 (half way)",
         "text": [
          "KC-3-A",
          "KC-3-B",
          "KC-3-C",
          "KC-3-D",
          "KC-3-E",
          "KC-3-F",
          "KC-3-G",
          "KC-3-H",
          "KC-3-I",
          "KC-3-J",
          "KC-3-K"
         ],
         "type": "scatter",
         "uid": "a6a2ce19-182b-470a-8a00-441a24a6cf6f",
         "x": {
          "dtype": "float64",
          "shape": [
           11
          ]
         },
         "y": [
          0,
          0,
          0,
          0,
          0,
          0,
          0,
          0,
          0,
          0,
          0
         ]
        },
        {
         "legendgroup": "Bed 22",
         "marker": {
          "color": "Green",
          "size": 8,
          "symbol": "diamond"
         },
         "mode": "markers",
         "name": "Bed 22 (modelled)",
         "text": [
          "KC-3-A",
          "KC-3-B",
          "KC-3-C",
          "KC-3-D",
          "KC-3-E",
          "KC-3-F",
          "KC-3-G",
          "KC-3-H",
          "KC-3-I",
          "KC-3-J",
          "KC-3-K"
         ],
         "type": "scatter",
         "uid": "bd0afc0e-f003-457d-960d-b835a63fc594",
         "x": {
          "dtype": "float64",
          "shape": [
           11
          ]
         },
         "y": [
          0,
          0,
          0,
          0,
          0,
          0,
          0,
          0,
          0,
          0,
          0
         ]
        },
        {
         "legendgroup": "Bed 22",
         "marker": {
          "color": "Blue",
          "opacity": 0.3,
          "size": 8,
          "symbol": "diamond"
         },
         "mode": "markers",
         "name": "Bed 22 (post-diagenesis)",
         "text": [
          "KC-3-A",
          "KC-3-B",
          "KC-3-C",
          "KC-3-D",
          "KC-3-E",
          "KC-3-F",
          "KC-3-G",
          "KC-3-H",
          "KC-3-I",
          "KC-3-J",
          "KC-3-K"
         ],
         "type": "scatter",
         "uid": "0d48fd48-5d9c-4ad1-a9a9-6a33007d499b",
         "x": {
          "dtype": "float64",
          "shape": [
           11
          ]
         },
         "y": {
          "dtype": "float64",
          "shape": [
           11
          ]
         }
        },
        {
         "line": {
          "color": "LightGreen"
         },
         "marker": {
          "size": 8
         },
         "name": "model (const. total Fe)",
         "type": "scatter",
         "uid": "78520daf-e38f-4998-aab4-01384ebe675b",
         "x": {
          "dtype": "float64",
          "shape": [
           50
          ]
         },
         "y": {
          "dtype": "float64",
          "shape": [
           50
          ]
         }
        }
       ],
       "_js2py_pointsCallback": {},
       "_js2py_relayout": {},
       "_js2py_restyle": {},
       "_js2py_update": {},
       "_last_layout_edit_id": 55,
       "_last_trace_edit_id": 51,
       "_layout": {
        "height": 650,
        "legend": {
         "font": {
          "size": 11
         }
        },
        "shapes": [
         {
          "line": {
           "dash": "dash",
           "width": 1
          },
          "type": "line",
          "x0": 0,
          "x1": 1,
          "xref": "x domain",
          "y0": 0.8,
          "y1": 0.8,
          "yref": "y"
         },
         {
          "line": {
           "dash": "dash",
           "width": 1
          },
          "type": "line",
          "x0": 0.38,
          "x1": 0.38,
          "xref": "x",
          "y0": 0,
          "y1": 1,
          "yref": "y domain"
         }
        ],
        "template": {
         "layout": {
          "bargap": 0.05,
          "bargroupgap": 0,
          "font": {
           "color": "black",
           "family": "Arial",
           "size": 16
          },
          "height": 700,
          "hovermode": "closest",
          "margin": {
           "b": 60,
           "l": 60,
           "r": 30,
           "t": 30
          },
          "scene": {
           "xaxis": {
            "color": "black",
            "linewidth": 2,
            "showline": true,
            "ticks": "outside"
           },
           "yaxis": {
            "color": "black",
            "linewidth": 2,
            "showline": true,
            "ticks": "outside"
           },
           "zaxis": {
            "color": "black",
            "linewidth": 2,
            "showline": true,
            "ticks": "outside"
           }
          },
          "xaxis": {
           "color": "black",
           "linewidth": 1.3,
           "mirror": true,
           "showgrid": true,
           "showline": true,
           "ticks": "outside",
           "zeroline": true
          },
          "yaxis": {
           "color": "black",
           "linewidth": 1.3,
           "mirror": true,
           "showgrid": true,
           "showline": true,
           "ticks": "outside",
           "zeroline": true
          }
         }
        },
        "width": 900,
        "xaxis": {
         "range": [
          0,
          1
         ],
         "title": {
          "text": "[Fe<sub>HR</sub>]/[Fe<sub>tot</sub>]"
         }
        },
        "yaxis": {
         "range": [
          0,
          1
         ],
         "title": {
          "text": "[Fe<sub>py</sub>]/[Fe<sub>HR</sub>]"
         }
        }
       },
       "_py2js_animate": {},
       "_py2js_deleteTraces": {},
       "_py2js_moveTraces": {},
       "_py2js_removeLayoutProps": {},
       "_py2js_removeTraceProps": {},
       "_view_count": 1
      }
     },
     "9d1bdf8814c44960848607eddfbf1d2d": {
      "model_module": "@jupyter-widgets/controls",
      "model_module_version": "1.5.0",
      "model_name": "DropdownModel",
      "state": {
       "_options_labels": [
        "HR_to_tot",
        "py_to_HR",
        "py_to_tot",
        "Fe_py",
        "Fe_ox",
        "Fe_mag",
        "Fe_carb",
        "Fe_UR",
        "Fe_HR",
        "Fe_tot",
        "H2S_decay",
        "fossil_index",
        "py_index",
        "phi",
        "biodiversity",
        "Constant",
        "height"
       ],
       "description": "size",
       "index": 15,
       "layout": "IPY_MODEL_adf168018b6749a7b4b0878086e9e46a",
       "style": "IPY_MODEL_02e3ce56a75c47be9e93780edd748686"
      }
     },
     "a4de86fc393641639a74a05fad766e65": {
      "model_module": "@jupyter-widgets/base",
      "model_module_version": "1.2.0",
      "model_name": "LayoutModel",
      "state": {
       "width": "75%"
      }
     },
     "a7cb7ce002d04dfa8358ba3ef3eb66b4": {
      "model_module": "@jupyter-widgets/output",
      "model_module_version": "1.0.0",
      "model_name": "OutputModel",
      "state": {
       "layout": "IPY_MODEL_8fd1c618c8ce4801a34254dae229a6f9"
      }
     },
     "aa575c7cdb834a6f80b388deb055bf2f": {
      "model_module": "@jupyter-widgets/base",
      "model_module_version": "1.2.0",
      "model_name": "LayoutModel",
      "state": {}
     },
     "aa8cf0e0f4f647b7a5a9c2adb863b161": {
      "model_module": "@jupyter-widgets/controls",
      "model_module_version": "1.5.0",
      "model_name": "SliderStyleModel",
      "state": {
       "description_width": "initial"
      }
     },
     "adf168018b6749a7b4b0878086e9e46a": {
      "model_module": "@jupyter-widgets/base",
      "model_module_version": "1.2.0",
      "model_name": "LayoutModel",
      "state": {}
     },
     "af61c81a43e3426191d377e6cc530a9f": {
      "model_module": "@jupyter-widgets/controls",
      "model_module_version": "1.5.0",
      "model_name": "FloatSliderModel",
      "state": {
       "description": "H<sub>2</sub>S added / mol",
       "layout": "IPY_MODEL_a4de86fc393641639a74a05fad766e65",
       "max": 1.5,
       "step": 0.01,
       "style": "IPY_MODEL_287aa06a3adb4ad9be015fa4b34d6721"
      }
     },
     "afe54185244b4b579b5213f477a42cea": {
      "model_module": "@jupyter-widgets/controls",
      "model_module_version": "1.5.0",
      "model_name": "CheckboxModel",
      "state": {
       "description": "Correct model by changing [Fe<sub>py</sub>]<sub>0</sub>",
       "disabled": false,
       "layout": "IPY_MODEL_557e984c929d4a87ad9e96488bb46663",
       "style": "IPY_MODEL_01adf1ccd78d46bdab9b8f54e34eeeec",
       "value": false
      }
     },
     "b0d61e19474a4e1a8f574a31aa01d306": {
      "model_module": "@jupyter-widgets/base",
      "model_module_version": "1.2.0",
      "model_name": "LayoutModel",
      "state": {
       "width": "75%"
      }
     },
     "be36881513834e1ebd3f45c5da52fcf7": {
      "model_module": "@jupyter-widgets/controls",
      "model_module_version": "1.5.0",
      "model_name": "VBoxModel",
      "state": {
       "_dom_classes": [
        "widget-interact"
       ],
       "children": [
        "IPY_MODEL_c441aad4dc4b4da7ab3098b9a9feee62",
        "IPY_MODEL_0071d0b2e0bd400eb16f571e881214d4",
        "IPY_MODEL_e6c749e24d65478e83230a9096b83323",
        "IPY_MODEL_9d1bdf8814c44960848607eddfbf1d2d",
        "IPY_MODEL_8afb107106924ec6ab899b6657b3790e",
        "IPY_MODEL_2fb5e52f23e742ff91383fc9fc780df0",
        "IPY_MODEL_241a882e69794203ab6af45eb1c832b2"
       ],
       "layout": "IPY_MODEL_c31cfbf4b1004bb0ad00ffc071ab4a2f"
      }
     },
     "c282b4c36b7243069d281dc02bfae530": {
      "model_module": "@jupyter-widgets/base",
      "model_module_version": "1.2.0",
      "model_name": "LayoutModel",
      "state": {}
     },
     "c31cfbf4b1004bb0ad00ffc071ab4a2f": {
      "model_module": "@jupyter-widgets/base",
      "model_module_version": "1.2.0",
      "model_name": "LayoutModel",
      "state": {}
     },
     "c441aad4dc4b4da7ab3098b9a9feee62": {
      "model_module": "@jupyter-widgets/controls",
      "model_module_version": "1.5.0",
      "model_name": "DropdownModel",
      "state": {
       "_options_labels": [
        "HR_to_tot",
        "py_to_HR",
        "py_to_tot",
        "Fe_py",
        "Fe_ox",
        "Fe_mag",
        "Fe_carb",
        "Fe_UR",
        "Fe_HR",
        "Fe_tot",
        "d34S",
        "H2S_decay",
        "fossil_index",
        "py_index",
        "phi",
        "biodiversity",
        "Constant",
        "height"
       ],
       "description": "x",
       "index": 3,
       "layout": "IPY_MODEL_749091e2ebe845369adb0c97403224ea",
       "style": "IPY_MODEL_67b18363519d4ea5b9d61aff65de655d"
      }
     },
     "ce644c45ccc9474aa520fec25d2fd7da": {
      "model_module": "@jupyter-widgets/base",
      "model_module_version": "1.2.0",
      "model_name": "LayoutModel",
      "state": {}
     },
     "e27c6a11c87146b0b7540cb541274860": {
      "model_module": "@jupyter-widgets/controls",
      "model_module_version": "1.5.0",
      "model_name": "DescriptionStyleModel",
      "state": {
       "description_width": ""
      }
     },
     "e33c6c98e97445ca84a6364222f7ee55": {
      "buffers": [
       {
        "data": "exSuR+F6hD97FK5H4XqUP7gehetRuJ4/exSuR+F6pD+amZmZmZmpP7kehetRuK4/61G4HoXrsT97FK5H4Xq0PwrXo3A9Crc/mZmZmZmZuT8pXI/C9Si8P7gehetRuL4/pHA9CtejwD/sUbgehevBPzQzMzMzM8M/exSuR+F6xD/D9Shcj8LFPwvXo3A9Csc/UrgehetRyD+amZmZmZnJP+J6FK5H4co/KVyPwvUozD9xPQrXo3DNP7kehetRuM4/AAAAAAAA0D+kcD0K16PQP0jhehSuR9E/7FG4HoXr0T+QwvUoXI/SPzMzMzMzM9M/16NwPQrX0z97FK5H4XrUPx+F61G4HtU/w/UoXI/C1T9nZmZmZmbWPwvXo3A9Ctc/rkfhehSu1z9SuB6F61HYP/YoXI/C9dg/mpmZmZmZ2T8+CtejcD3aP+J6FK5H4do/hetRuB6F2z8pXI/C9SjcP83MzMzMzNw/cT0K16Nw3T8VrkfhehTeP7kehetRuN4/XI/C9Shc3z8AAAAAAADgP1K4HoXrUeA/pHA9Ctej4D/2KFyPwvXgP0jhehSuR+E/mpmZmZmZ4T/sUbgehevhPz4K16NwPeI/kML1KFyP4j/hehSuR+HiPzMzMzMzM+M/hetRuB6F4z/Xo3A9CtfjPylcj8L1KOQ/exSuR+F65D/NzMzMzMzkPx+F61G4HuU/cT0K16Nw5T/D9Shcj8LlPxWuR+F6FOY/Z2ZmZmZm5j+5HoXrUbjmPwrXo3A9Cuc/XI/C9Shc5z+uR+F6FK7nPwAAAAAAAOg/UrgehetR6D+kcD0K16PoP/YoXI/C9eg/SOF6FK5H6T+amZmZmZnpP+xRuB6F6+k/PgrXo3A96j+QwvUoXI/qP+J6FK5H4eo/MzMzMzMz6z+F61G4HoXrP9ejcD0K1+s/KVyPwvUo7D97FK5H4XrsP83MzMzMzOw/H4XrUbge7T9xPQrXo3DtP8P1KFyPwu0/Fa5H4XoU7j9nZmZmZmbuP7kehetRuO4/CtejcD0K7z9cj8L1KFzvP65H4XoUru8/AAAAAAAA8D8=",
        "encoding": "base64",
        "path": [
         "_data",
         0,
         "x",
         "value"
        ]
       },
       {
        "data": "AAAAAAAAAAAAAAAAAAAAAAAAAAAAAAAAAAAAAAAAAAAAAAAAAAAAAAAAAAAAAAAAAAAAAAAAAAAAAAAAAAAAAAAAAAAAAAAAAAAAAAAAAAAAAAAAAAAAAAAAAAAAAAAAAAAAAAAAAAAAAAAAAAAAAAAAAAAAAAAAAAAAAAAAAAAAAAAAAAAAAAAAAAAAAAAAAAAAAAAAAAAAAAAAAAAAAAAAAAAAAAAAAAAAAAAAAAAAAAAAAAAAAAAAAAAAAAAAAAAAAAAAAAAAAAAAAAAAAAAAAAAAAAAAAAAAAAAAAAAAAAAAAAAAAAAAAAAAAAAAAAAAAAAAAAAAAAAAAAAAAAAAAAAAAAAAAAAAAAAAAAAAAAAAAAAAAAAAAAAAAAAAAAAAAAAAAAAAAAAAAAAAAAAAAAAAAAAAAAAAAAAAAAAAAAAAAAAAAAAAAAAAAAAAAAAAAAAAAAAAAAAAAAAAAAAAAAAAAAAAAAAAAAAAAAAAAAAAAAAAAAAAAAAAAAAAAAAAAAAAAAAAAAAAAAAAAAAAAAAAAAAAAAAAAAAAAAAAAAAAAAAAAAAAAAAAAAAAAAAAAAAAAAAAAAAAAAAAAAAAAAAAAAAAAAAAAAAAAAAAAAAAAAAAAAAAAAAAAAAAAAAAAAAAAAAAAAAAAAAAAAAAAAAAAAAAAAAAAAAAAAAAAAAAAAAAAAAAAAAAAAAAAAAAAAAAAAAAAAAAAAAAAAAAAAAAAAAAAAAAAAAAAAAAAAAAAAAAAAAAAAAAAAAAAAAAAAAAAAAAAAAAAAAAAAAAAAAAAAAAAAAAAAAAAAAAAAAAAAAAAAAAAAAAAAAAAAAAAAAAAAAAAAAAAAAAAAAAAAAAAAAAAAAAAAAAAAAAAAAAAAAAAAAAAAAAAAAAAAAAAAAAAAAAAAAAAAAAAAAAAAAAAAAAAAAAAAAAAAAAAAAAAAAAAAAAAAAAAAAAAAAAAAAAAAAAAAAAAAAAAAAAAAAAAAAAAAAAAAAAAAAAAAAAAAAAAAAAAAAAAAAAAAAAAAAAAAAAAAAAAAAAAAAAAAAAAAAAAAAAAAAAAAA=",
        "encoding": "base64",
        "path": [
         "_data",
         0,
         "y",
         "value"
        ]
       }
      ],
      "model_module": "jupyterlab-plotly",
      "model_module_version": "^5.1.0",
      "model_name": "FigureModel",
      "state": {
       "_config": {
        "plotlyServerURL": "https://plot.ly"
       },
       "_data": [
        {
         "name": "Constant q<sub>H2S</sub>",
         "type": "scatter",
         "uid": "dca19bf9-2735-4ae6-99ed-51629a80021f",
         "x": {
          "dtype": "float64",
          "shape": [
           100
          ]
         },
         "y": {
          "dtype": "float64",
          "shape": [
           100
          ]
         }
        }
       ],
       "_js2py_pointsCallback": {},
       "_js2py_relayout": {},
       "_js2py_restyle": {},
       "_js2py_update": {},
       "_last_layout_edit_id": 10,
       "_last_trace_edit_id": 6,
       "_layout": {
        "height": 700,
        "shapes": [
         {
          "line": {
           "dash": "dash",
           "width": 1
          },
          "type": "line",
          "x0": 0,
          "x1": 1,
          "xref": "x domain",
          "y0": 0.8,
          "y1": 0.8,
          "yref": "y"
         },
         {
          "line": {
           "dash": "dash",
           "width": 1
          },
          "type": "line",
          "x0": 0.38,
          "x1": 0.38,
          "xref": "x",
          "y0": 0,
          "y1": 1,
          "yref": "y domain"
         }
        ],
        "template": {
         "layout": {
          "bargap": 0.05,
          "bargroupgap": 0,
          "font": {
           "color": "black",
           "family": "Arial",
           "size": 16
          },
          "height": 700,
          "hovermode": "closest",
          "margin": {
           "b": 60,
           "l": 60,
           "r": 30,
           "t": 30
          },
          "scene": {
           "xaxis": {
            "color": "black",
            "linewidth": 2,
            "showline": true,
            "ticks": "outside"
           },
           "yaxis": {
            "color": "black",
            "linewidth": 2,
            "showline": true,
            "ticks": "outside"
           },
           "zaxis": {
            "color": "black",
            "linewidth": 2,
            "showline": true,
            "ticks": "outside"
           }
          },
          "xaxis": {
           "color": "black",
           "linewidth": 1.3,
           "mirror": true,
           "showgrid": true,
           "showline": true,
           "ticks": "outside",
           "zeroline": true
          },
          "yaxis": {
           "color": "black",
           "linewidth": 1.3,
           "mirror": true,
           "showgrid": true,
           "showline": true,
           "ticks": "outside",
           "zeroline": true
          }
         }
        },
        "width": 700,
        "xaxis": {
         "range": [
          0,
          1
         ],
         "title": {
          "text": "[Fe<sub>HR</sub>]/[Fe<sub>tot</sub>]"
         }
        },
        "yaxis": {
         "range": [
          0,
          1
         ],
         "title": {
          "text": "[Fe<sub>py</sub>]/[Fe<sub>HR</sub>]"
         }
        }
       },
       "_py2js_animate": {},
       "_py2js_deleteTraces": {},
       "_py2js_moveTraces": {},
       "_py2js_removeLayoutProps": {},
       "_py2js_removeTraceProps": {},
       "_view_count": 1
      }
     },
     "e57f46b9baec40afa4e1cda7ead5b6a1": {
      "model_module": "@jupyter-widgets/base",
      "model_module_version": "1.2.0",
      "model_name": "LayoutModel",
      "state": {}
     },
     "e6841839c7f9457babcc7a41a3fdd8b9": {
      "model_module": "@jupyter-widgets/base",
      "model_module_version": "1.2.0",
      "model_name": "LayoutModel",
      "state": {}
     },
     "e6c749e24d65478e83230a9096b83323": {
      "model_module": "@jupyter-widgets/controls",
      "model_module_version": "1.5.0",
      "model_name": "DropdownModel",
      "state": {
       "_options_labels": [
        "HR_to_tot",
        "py_to_HR",
        "py_to_tot",
        "Fe_py",
        "Fe_ox",
        "Fe_mag",
        "Fe_carb",
        "Fe_UR",
        "Fe_HR",
        "Fe_tot",
        "d34S",
        "H2S_decay",
        "fossil_index",
        "py_index",
        "phi",
        "biodiversity",
        "Constant",
        "height"
       ],
       "description": "colour",
       "index": 17,
       "layout": "IPY_MODEL_e7815edc0a8944518eef12ad7129ad9a",
       "style": "IPY_MODEL_0b66ac8ea6654937bb15f03b9b36034c"
      }
     },
     "e7815edc0a8944518eef12ad7129ad9a": {
      "model_module": "@jupyter-widgets/base",
      "model_module_version": "1.2.0",
      "model_name": "LayoutModel",
      "state": {}
     },
     "eada050a684448cf96e15f5a1aa24383": {
      "buffers": [
       {
        "data": "FK5H4XoU9j/hehSuR+H6PwrXo3A9CgFAzczMzMzMBEAAAAAAAAAIQArXo3A9ChJApHA9CtejFECamZmZmZkYQAAAAAAAABpAFK5H4XoUHUDXo3A9CtceQGZmZmZmZiBASOF6FK5HIUBxPQrXo/AiQFK4HoXr0SNA9ihcj8J1JUDhehSuR2EmQFK4HoXrUSdAZmZmZmZmKECPwvUoXI8pQI/C9ShcjypA4XoUrkdhK0A9CtejcD0sQNejcD0KVy1APQrXo3A9LkC4HoXrUTgvQPYoXI/CNTBAw/UoXI8CMUDsUbgehWsxQPYoXI/CNTJAexSuR+H6MkAUrkfhelQzQHsUrkfhujNAKVyPwvUoNEDXo3A9Ctc0QHE9CtejcDVAhetRuB7FNUA=",
        "encoding": "base64",
        "path": [
         "_data",
         0,
         "marker",
         "color",
         "value"
        ]
       },
       {
        "data": "KVyPwvUo5D8UrkfhehTuP1yPwvUoXOc/cT0K16Nw/T9I4XoUrkf5P3sUrkfhevQ/w/UoXI/C9T8pXI/C9Sj0Px+F61G4HvU/KVyPwvUo+D89CtejcD3+P8P1KFyPwvU/w/UoXI/CCUBSuB6F61H0P7gehetRuBJASOF6FK5H8T8K16NwPQr3P1K4HoXrUfQ/uB6F61G47j/Xo3A9Ctf3P4/C9Shcj/o/7FG4HoXr6T9cj8L1KFzzPwAAAAAAAPA/PQrXo3A98j/hehSuR+HyP3sUrkfheuw/SOF6FK5H9T/hehSuR+HyP9ejcD0K1/c/9ihcj8L1+D8pXI/C9Sj8Px+F61G4Hu0/ZmZmZmZm9j8K16NwPQrzP5qZmZmZmfk/UrgehetR9D8=",
        "encoding": "base64",
        "path": [
         "_data",
         0,
         "x",
         "value"
        ]
       },
       {
        "data": "Rwd4wKP9NcDD/ACOXgkwwMEuJT+MjyrA/jMJIdu/L8BTmBt0ZCcywDKRuNYj7DLAQFPtOgpRNMB4L4ehp1EuwKu1c0F4mzTAUHW0UVYANsAFJ7EOl7gmwFFBx24I4jPAj9E3cp7+I8CEuSjx9+UywAQFkeNMMhbA2TVfjqU7MMDVZnrukJwywH6jqudgGyzAp/ZymVzMNMAKO9kXTeI0wDalBdnBcjXAwoQpRBDLNMBBT3jre2A4wI4TYoJFczPALO/3XeG7NMDgYpUCNDczwN/G4xE5UTTAzsaJukrVLsDwGDRs5AY2wNgFvnI7yTbAG4Yfg/CcNcB+hirdR4o1wNmKIT+GOjPAcr7WsPMGOcA0gtMIOBQ2wOYGKnLaIzXAGh4S+eZWL8A=",
        "encoding": "base64",
        "path": [
         "_data",
         0,
         "y",
         "value"
        ]
       },
       {
        "data": "FK5H4XoU7j/2KFyPwjU2QA==",
        "encoding": "base64",
        "path": [
         "_data",
         1,
         "marker",
         "color",
         "value"
        ]
       },
       {
        "data": "XI/C9Shc3z97FK5H4XqkPw==",
        "encoding": "base64",
        "path": [
         "_data",
         1,
         "x",
         "value"
        ]
       },
       {
        "data": "cLVTVzbTM8AAAAAAAAD4fw==",
        "encoding": "base64",
        "path": [
         "_data",
         1,
         "y",
         "value"
        ]
       },
       {
        "data": "mpmZmZmZGEBmZmZmZmYgQMP1KFyPAjFA",
        "encoding": "base64",
        "path": [
         "_data",
         2,
         "marker",
         "color",
         "value"
        ]
       },
       {
        "data": "PQrXo3A9+j9xPQrXo3D1P9ejcD0K1xJA",
        "encoding": "base64",
        "path": [
         "_data",
         2,
         "x",
         "value"
        ]
       },
       {
        "data": "ovup9wEPLcAgl5iD0rI0wKT/J+OQfB3A",
        "encoding": "base64",
        "path": [
         "_data",
         2,
         "y",
         "value"
        ]
       },
       {
        "data": "UrgehetRJ0BSuB6F61EnQFK4HoXrUSdAUrgehetRJ0BSuB6F61EnQFK4HoXrUSdAUrgehetRJ0BSuB6F61EnQFK4HoXrUSdAUrgehetRJ0BSuB6F61EnQA==",
        "encoding": "base64",
        "path": [
         "_data",
         3,
         "marker",
         "color",
         "value"
        ]
       },
       {
        "data": "9ihcj8L1AEBSuB6F61H4P0jhehSuRxBAXI/C9Shc9z8UrkfhehT2P1yPwvUoXO8/FK5H4XoUCEBcj8L1KFzvP3E9CtejcPE/MzMzMzMz9z8AAAAAAADwPw==",
        "encoding": "base64",
        "path": [
         "_data",
         3,
         "x",
         "value"
        ]
       },
       {
        "data": "LnRyTCwKLcCYbbVBaekpwIDQerKveiDAKCD9rhZYI8BeyxW7L38wwNQynejnmCrAhEeFPsdBIsDGEL3bpnUxwJyLhhnAnzTAegDWAACoI8ASyWyzaP8wwA==",
        "encoding": "base64",
        "path": [
         "_data",
         3,
         "y",
         "value"
        ]
       }
      ],
      "model_module": "jupyterlab-plotly",
      "model_module_version": "^5.1.0",
      "model_name": "FigureModel",
      "state": {
       "_config": {
        "plotlyServerURL": "https://plot.ly"
       },
       "_data": [
        {
         "error_x": {},
         "error_y": {},
         "marker": {
          "color": {
           "dtype": "float64",
           "shape": [
            37
           ]
          },
          "coloraxis": "coloraxis",
          "line": {
           "color": "Black",
           "width": 1
          },
          "size": [
           1,
           1,
           1,
           1,
           1,
           1,
           1,
           1,
           1,
           1,
           1,
           1,
           1,
           1,
           1,
           1,
           1,
           1,
           1,
           1,
           1,
           1,
           1,
           1,
           1,
           1,
           1,
           1,
           1,
           1,
           1,
           1,
           1,
           1,
           1,
           1,
           1
          ],
          "sizemin": 4,
          "sizeref": 0.08333333333333326,
          "symbol": "circle"
         },
         "mode": "markers",
         "name": "Mudstone",
         "text": [
          "KC-2-1<br>: 1.00<br><i>h</i> / m: 1.38",
          "KC-2-2<br>: 1.00<br><i>h</i> / m: 1.68",
          "KC-2-2.5<br>: 1.00<br><i>h</i> / m: 2.13",
          "KC-2-3<br>: 1.00<br><i>h</i> / m: 2.60",
          "KC-2-3.5<br>: 1.00<br><i>h</i> / m: 3.00",
          "KC-2-4.5<br>: 1.00<br><i>h</i> / m: 4.51",
          "KC-2-5<br>: 1.00<br><i>h</i> / m: 5.16",
          "KC-2-6<br>: 1.00<br><i>h</i> / m: 6.15",
          "KC-2-6.5<br>: 1.00<br><i>h</i> / m: 6.50",
          "KC-2-7<br>: 1.00<br><i>h</i> / m: 7.27",
          "KC-2-8<br>: 1.00<br><i>h</i> / m: 7.71",
          "KC-2-9<br>: 1.00<br><i>h</i> / m: 8.20",
          "KC-2-10<br>: 1.00<br><i>h</i> / m: 8.64",
          "KC-2-11<br>: 1.00<br><i>h</i> / m: 9.47",
          "KC-2-12<br>: 1.00<br><i>h</i> / m: 9.91",
          "KC-2-13<br>: 1.00<br><i>h</i> / m: 10.73",
          "KC-2-14<br>: 1.00<br><i>h</i> / m: 11.19",
          "KC-2-14.5<br>: 1.00<br><i>h</i> / m: 11.66",
          "KC-2-15<br>: 1.00<br><i>h</i> / m: 12.20",
          "KC-2-15.5<br>: 1.00<br><i>h</i> / m: 12.78",
          "KC-2-16<br>: 1.00<br><i>h</i> / m: 13.28",
          "KC-2-17<br>: 1.00<br><i>h</i> / m: 13.69",
          "KC-2-18<br>: 1.00<br><i>h</i> / m: 14.12",
          "KC-2-19<br>: 1.00<br><i>h</i> / m: 14.67",
          "KC-2-20<br>: 1.00<br><i>h</i> / m: 15.12",
          "KC-2-21<br>: 1.00<br><i>h</i> / m: 15.61",
          "KC-2-21.5<br>: 1.00<br><i>h</i> / m: 16.21",
          "KC-2-22<br>: 1.00<br><i>h</i> / m: 17.01",
          "KC-2-23<br>: 1.00<br><i>h</i> / m: 17.42",
          "KC-2-24<br>: 1.00<br><i>h</i> / m: 18.21",
          "KC-2-25<br>: 1.00<br><i>h</i> / m: 18.98",
          "KC-2-25.5<br>: 1.00<br><i>h</i> / m: 19.33",
          "KC-2-26<br>: 1.00<br><i>h</i> / m: 19.73",
          "KC-2-26.5<br>: 1.00<br><i>h</i> / m: 20.16",
          "KC-2-27<br>: 1.00<br><i>h</i> / m: 20.84",
          "KC-2-28<br>: 1.00<br><i>h</i> / m: 21.44",
          "KC-2-29<br>: 1.00<br><i>h</i> / m: 21.77"
         ],
         "type": "scatter",
         "uid": "ea7d94eb-7f99-49ee-8210-95c11f3fd5ed",
         "x": {
          "dtype": "float64",
          "shape": [
           37
          ]
         },
         "y": {
          "dtype": "float64",
          "shape": [
           37
          ]
         }
        },
        {
         "error_x": {},
         "error_y": {},
         "marker": {
          "color": {
           "dtype": "float64",
           "shape": [
            2
           ]
          },
          "coloraxis": "coloraxis",
          "line": {
           "color": "Black",
           "width": 1
          },
          "size": [
           1,
           1
          ],
          "sizemin": 4,
          "sizeref": 0.08333333333333326,
          "symbol": "star"
         },
         "mode": "markers",
         "name": "Carbonate",
         "text": [
          "KC-2-0<br>: 1.00<br><i>h</i> / m: 0.94",
          "KC-2-30<br>: 1.00<br><i>h</i> / m: 22.21"
         ],
         "type": "scatter",
         "uid": "62a8b1a3-7e6c-4234-b3c7-525f11cc848b",
         "x": {
          "dtype": "float64",
          "shape": [
           2
          ]
         },
         "y": {
          "dtype": "float64",
          "shape": [
           2
          ]
         }
        },
        {
         "error_x": {},
         "error_y": {},
         "marker": {
          "color": {
           "dtype": "float64",
           "shape": [
            3
           ]
          },
          "coloraxis": "coloraxis",
          "line": {
           "color": "Black",
           "width": 1
          },
          "size": [
           1,
           1,
           1
          ],
          "sizemin": 4,
          "sizeref": 0.08333333333333326,
          "symbol": "square"
         },
         "mode": "markers",
         "name": "Pervasively pyritised regions",
         "text": [
          "KC-2-6p<br>: 1.00<br><i>h</i> / m: 6.15",
          "KC-2-9p<br>: 1.00<br><i>h</i> / m: 8.20",
          "KC-2-22p<br>: 1.00<br><i>h</i> / m: 17.01"
         ],
         "type": "scatter",
         "uid": "18f6bf48-9095-4ff0-8822-d38664ebfcd8",
         "x": {
          "dtype": "float64",
          "shape": [
           3
          ]
         },
         "y": {
          "dtype": "float64",
          "shape": [
           3
          ]
         }
        },
        {
         "error_x": {},
         "error_y": {},
         "marker": {
          "color": {
           "dtype": "float64",
           "shape": [
            11
           ]
          },
          "coloraxis": "coloraxis",
          "line": {
           "color": "Black",
           "width": 1
          },
          "size": [
           1,
           1,
           1,
           1,
           1,
           1,
           1,
           1,
           1,
           1,
           1
          ],
          "sizemin": 4,
          "sizeref": 0.08333333333333326,
          "symbol": "diamond"
         },
         "mode": "markers",
         "name": "Bed 22",
         "text": [
          "KC-3-A<br>: 1.00<br><i>h</i> / m: 11.66",
          "KC-3-B<br>: 1.00<br><i>h</i> / m: 11.66",
          "KC-3-C<br>: 1.00<br><i>h</i> / m: 11.66",
          "KC-3-D<br>: 1.00<br><i>h</i> / m: 11.66",
          "KC-3-E<br>: 1.00<br><i>h</i> / m: 11.66",
          "KC-3-F<br>: 1.00<br><i>h</i> / m: 11.66",
          "KC-3-G<br>: 1.00<br><i>h</i> / m: 11.66",
          "KC-3-H<br>: 1.00<br><i>h</i> / m: 11.66",
          "KC-3-I<br>: 1.00<br><i>h</i> / m: 11.66",
          "KC-3-J<br>: 1.00<br><i>h</i> / m: 11.66",
          "KC-3-K<br>: 1.00<br><i>h</i> / m: 11.66"
         ],
         "type": "scatter",
         "uid": "06fe6b66-9fb8-4aea-ae60-150e24e1edf1",
         "x": {
          "dtype": "float64",
          "shape": [
           11
          ]
         },
         "y": {
          "dtype": "float64",
          "shape": [
           11
          ]
         }
        }
       ],
       "_js2py_pointsCallback": {},
       "_js2py_relayout": {},
       "_js2py_restyle": {},
       "_js2py_update": {},
       "_last_layout_edit_id": 45,
       "_last_trace_edit_id": 41,
       "_layout": {
        "coloraxis": {
         "colorbar": {
          "ticks": "outside",
          "title": {
           "text": "<i>h</i> / m"
          }
         },
         "colorscale": [
          [
           0,
           "#fde725"
          ],
          [
           0.1111111111111111,
           "#b5de2b"
          ],
          [
           0.2222222222222222,
           "#6ece58"
          ],
          [
           0.3333333333333333,
           "#35b779"
          ],
          [
           0.4444444444444444,
           "#1f9e89"
          ],
          [
           0.5555555555555556,
           "#26828e"
          ],
          [
           0.6666666666666666,
           "#31688e"
          ],
          [
           0.7777777777777778,
           "#3e4989"
          ],
          [
           0.8888888888888888,
           "#482878"
          ],
          [
           1,
           "#440154"
          ]
         ]
        },
        "height": 700,
        "legend": {
         "itemsizing": "constant",
         "orientation": "h",
         "x": 0,
         "xanchor": "left",
         "y": 1.01,
         "yanchor": "bottom"
        },
        "shapes": [
         {
          "line": {
           "width": 0.5
          },
          "name": "Diagonal",
          "type": "line",
          "visible": false,
          "x0": -100,
          "x1": 100,
          "y0": -100,
          "y1": 100
         }
        ],
        "template": {
         "layout": {
          "bargap": 0.05,
          "bargroupgap": 0,
          "font": {
           "color": "black",
           "family": "Arial",
           "size": 16
          },
          "height": 700,
          "hovermode": "closest",
          "margin": {
           "b": 60,
           "l": 60,
           "r": 30,
           "t": 30
          },
          "scene": {
           "xaxis": {
            "color": "black",
            "linewidth": 2,
            "showline": true,
            "ticks": "outside"
           },
           "yaxis": {
            "color": "black",
            "linewidth": 2,
            "showline": true,
            "ticks": "outside"
           },
           "zaxis": {
            "color": "black",
            "linewidth": 2,
            "showline": true,
            "ticks": "outside"
           }
          },
          "xaxis": {
           "color": "black",
           "linewidth": 1.3,
           "mirror": true,
           "showgrid": true,
           "showline": true,
           "ticks": "outside",
           "zeroline": true
          },
          "yaxis": {
           "color": "black",
           "linewidth": 1.3,
           "mirror": true,
           "showgrid": true,
           "showline": true,
           "ticks": "outside",
           "zeroline": true
          }
         }
        },
        "width": 740,
        "xaxis": {
         "title": {
          "text": "[Fe<sub>py</sub>] (wt%)"
         }
        },
        "yaxis": {
         "title": {
          "text": "δ<sup>34</sup>S (‰)"
         }
        }
       },
       "_py2js_animate": {},
       "_py2js_deleteTraces": {},
       "_py2js_moveTraces": {},
       "_py2js_removeLayoutProps": {},
       "_py2js_removeTraceProps": {},
       "_view_count": 1
      }
     },
     "ebcfb41c2a9247cc8c68d50750bcad7e": {
      "model_module": "@jupyter-widgets/controls",
      "model_module_version": "1.5.0",
      "model_name": "DescriptionStyleModel",
      "state": {
       "description_width": ""
      }
     },
     "ec6e3d739fa7403296c45fa8bd9bbd59": {
      "model_module": "@jupyter-widgets/base",
      "model_module_version": "1.2.0",
      "model_name": "LayoutModel",
      "state": {
       "width": "75%"
      }
     },
     "f43e348dd0874da4ab080d20387b4fab": {
      "model_module": "@jupyter-widgets/controls",
      "model_module_version": "1.5.0",
      "model_name": "SliderStyleModel",
      "state": {
       "description_width": "initial"
      }
     },
     "f920a22e482546988cedd9703e934aee": {
      "model_module": "@jupyter-widgets/controls",
      "model_module_version": "1.5.0",
      "model_name": "FloatSliderModel",
      "state": {
       "description": "H<sub>2</sub>S added / mol",
       "layout": "IPY_MODEL_ec6e3d739fa7403296c45fa8bd9bbd59",
       "max": 1.5,
       "step": 0.01,
       "style": "IPY_MODEL_f43e348dd0874da4ab080d20387b4fab"
      }
     }
    },
    "version_major": 2,
    "version_minor": 0
   }
  }
 },
 "nbformat": 4,
 "nbformat_minor": 4
}
