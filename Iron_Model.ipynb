{
 "cells": [
  {
   "cell_type": "markdown",
   "metadata": {
    "presto": {
     "id": "f122c9f4-8270-4134-b7a1-c968ad159bca"
    },
    "tags": []
   },
   "source": [
    "# Iron Speciation Model\n",
    "This assumes that the system is sulphide-limited, with plenty of highly-reactive iron available. Therefore, the amount of pyrite produced is equal to the amount of H<sub>2</sub>S that entered the system (divided by 2, since 1 FeS<sub>2</sub> is made from 2 H<sub>2</sub>S). I assume a constant sulphide flux, $q_\\mathrm{H_2S}$, so pyrite is being generated at a constant rate $d_\\mathrm{py}$ for a time $t$.\n",
    "\n",
    "$$\\frac{\\partial\\mathrm{[Fe_{py}]}}{\\partial t} = d_\\mathrm{py}$$\n",
    "\n",
    "$$\\mathrm{[Fe_{py}]}=\\int d_\\mathrm{py}\\,\\mathrm{d}t = d_\\mathrm{py}\\,t+\\mathrm{[Fe_{py}]}_0$$\n",
    "\n",
    "$$\\left(\\frac{\\mathrm{[Fe_{py}]}}{\\mathrm{[Fe_{HR}]}}\\right)_t = \\left(\\frac{\\mathrm{[Fe_{py}]}}{\\mathrm{[Fe_{HR}]}}\\right)_0 + \\frac{d_\\mathrm{py}\\,t}{\\mathrm{[Fe_{HR}]}}$$\n",
    "\n",
    "Note that this is equivalent to an exponentially-decaying sulphide flux integrated over infinite time:\n",
    "$$\\frac{\\partial\\mathrm{[Fe_{py}]}}{\\partial t} = d_0 e^{-\\lambda t}$$\n",
    "where $d_\\mathrm{py}\\cdot t = \\frac{d_0}{\\lambda}$.\n",
    "\n",
    "To convert $q_\\mathrm{H_2S}$ to $d_\\mathrm{py}$:\n",
    "$$d_\\mathrm{py} = \\frac{q_\\mathrm{H_2S} \\cdot M_r(\\mathrm{Fe})}{2\\rho_s}$$\n",
    "where $M_r(\\mathrm{Fe})$ is the relative atomic mass of iron (55.845 g/mol), and $\\rho_s$ is the density of freshly-deposited sediment (about 1.7 g/cm³). This means that a typical H₂S flux of 200 pmol cm⁻³ day⁻¹ is equivalent to a pyrite production rate of 0.12 wt% per ka."
   ]
  },
  {
   "cell_type": "code",
   "execution_count": 4,
   "metadata": {
    "autorun": false,
    "tags": []
   },
   "outputs": [],
   "source": [
    "from plotly_default import go, graph_config, sel_trace\n",
    "import pandas as pd\n",
    "import numpy as np\n",
    "import ipywidgets as wdg\n",
    "from plotly.subplots import make_subplots"
   ]
  },
  {
   "cell_type": "code",
   "execution_count": 5,
   "metadata": {},
   "outputs": [],
   "source": [
    "def wt_to_M(wt, Mr=55.845, density=1.7):\n",
    "    '''Converts a weight percent of a substance with molar mass Mr (default iron) into a molar concentration\n",
    "    in a sediment of specified density (default 1.7 g/cm³)'''\n",
    "    # g/dm³  = 1000 * g/cm³ = 1000 * density * wt% / 100 = 10 * density * wt%\n",
    "    return 10. * density * wt / Mr\n",
    "\n",
    "def M_to_wt(M, Mr=55.845, density=1.7):\n",
    "    return M * Mr / (10. * density)\n",
    "\n",
    "slider_style=dict(description_width='initial')"
   ]
  },
  {
   "cell_type": "code",
   "execution_count": 6,
   "metadata": {},
   "outputs": [
    {
     "data": {
      "text/plain": [
       "0.5256"
      ]
     },
     "execution_count": 6,
     "metadata": {},
     "output_type": "execute_result"
    }
   ],
   "source": [
    "M_to_wt(0.16)"
   ]
  },
  {
   "cell_type": "code",
   "execution_count": 7,
   "metadata": {},
   "outputs": [],
   "source": [
    "# Read in data\n",
    "species_types=pd.read_csv('./Data/Species_types.csv')\n",
    "log_df=pd.read_csv('./Data/Log_data_combined.csv',index_col=0)\n",
    "\n",
    "try:\n",
    "    log_df.insert(loc=9, column='Constant', value=1) #\n",
    "except ValueError:\n",
    "    pass # do nothing if column already exists\n",
    "\n",
    "data_types = species_types.append(pd.DataFrame({'header': ['Constant', 'height'], 'label': ['', '<i>h</i> / m']}), ignore_index=True, sort=False)\n",
    "\n",
    "axis_options = list(data_types.header)\n",
    "size_options = [i for i in axis_options if i != 'd34S']\n",
    "\n",
    "def axis_mode(species):\n",
    "    if species.startswith('Fe') or species.startswith('py_to') or species.startswith('T'):\n",
    "        return 'tozero'\n",
    "    else:\n",
    "        return 'normal'"
   ]
  },
  {
   "cell_type": "code",
   "execution_count": 8,
   "metadata": {},
   "outputs": [],
   "source": [
    "# categories = list(set(log_df.category))\n",
    "# categories = ['Stratigraphic sequence', 'Pervasively pyritised regions', 'Bed 22']\n",
    "cat_symbols = {'Mudstone': 'circle',\n",
    "               'Carbonate': 'star',\n",
    "               'Pervasively pyritised regions': 'square',\n",
    "               'Bed 22': 'diamond'}\n",
    "categories = list(cat_symbols.keys())\n",
    "\n",
    "def init_biv_plot():\n",
    "    plot = go.FigureWidget()\n",
    "    \n",
    "    for category in categories:   \n",
    "        plot.add_trace(go.Scatter(mode='markers',\n",
    "                                  marker_line={'color': 'Black', 'width': 1},\n",
    "                                  marker_symbol=cat_symbols[category],\n",
    "                                  marker_coloraxis='coloraxis',\n",
    "                                  name=category))\n",
    "        \n",
    "    # Add diagonal line\n",
    "    plot.add_shape(type='line', x0=-100, y0=-100, x1=100, y1=100, visible=False, line_width=0.5, name='Diagonal')\n",
    "\n",
    "    plot.update_layout(height=700, width=740,\n",
    "                       legend=dict(orientation=\"h\",\n",
    "                                   yanchor=\"bottom\",\n",
    "                                   y=1.01,\n",
    "                                   xanchor=\"left\",\n",
    "                                   x=0,\n",
    "                                   itemsizing='constant'),\n",
    "                       coloraxis=dict(colorscale='viridis_r', colorbar_ticks='outside'))\n",
    "    \n",
    "    return plot\n",
    "\n",
    "axis_options = list(data_types.header)\n",
    "size_options = [i for i in axis_options if i != 'd34S']\n",
    "\n",
    "base_errorbar = dict(type='data', thickness=1, color='DarkGrey')\n",
    "\n",
    "\n",
    "def update_biv_traces(x, y, colour, size, diagonal, plot_errors, plot):\n",
    "    \n",
    "    with plot.batch_update():\n",
    "\n",
    "        for category in categories:\n",
    "            cat_df = log_df[log_df.category == category]\n",
    "\n",
    "            if plot_errors:\n",
    "                x_errorbars = {**base_errorbar, 'array': cat_df[x+'_err']}\n",
    "                y_errorbars = {**base_errorbar, 'array': cat_df[y+'_err']}\n",
    "            else:\n",
    "                x_errorbars = None\n",
    "                y_errorbars = None\n",
    "\n",
    "            graph_texts = []\n",
    "            for d in cat_df.iterrows():\n",
    "                graph_texts.append(d[1]['name'] + '<br>' +\n",
    "                                   data_types.loc[data_types.header==size, 'label'].iloc[0] + ': {:.2f}<br>'.format(d[1][size]) +\n",
    "                                   data_types.loc[data_types.header==colour, 'label'].iloc[0] + ': {:.2f}'.format(d[1][colour]))\n",
    "\n",
    "            cat_trace = sel_trace(plot, category)\n",
    "            cat_trace.x=cat_df[x]\n",
    "            cat_trace.y=cat_df[y]\n",
    "            cat_trace.error_x=x_errorbars\n",
    "            cat_trace.error_y=y_errorbars\n",
    "            cat_trace.marker.size=cat_df[size]\n",
    "            cat_trace.marker.sizemin=4\n",
    "            cat_trace.marker.sizeref=3*np.mean(log_df[size]/(6.**2))\n",
    "            cat_trace.marker.color=cat_df[colour]\n",
    "            cat_trace.text=graph_texts\n",
    "\n",
    "\n",
    "        if diagonal:\n",
    "            line_bottom_left = min(log_df[x].min(), log_df[y].min())\n",
    "            line_top_right = max(log_df[x].max(), log_df[y].max())\n",
    "            plot.update_shapes(selector=dict(name='Diagonal'),\n",
    "                               visible=True, x0 = line_bottom_left, y0 = line_bottom_left,\n",
    "                               x1 = line_top_right, y1 = line_top_right)\n",
    "        else:\n",
    "            plot.update_shapes(selector=dict(name='Diagonal'), visible=False)\n",
    "            \n",
    "    \n",
    "        # Only concentration axes should go to zero\n",
    "        plot.layout.xaxis.rangemode = axis_mode(x)\n",
    "        plot.layout.yaxis.rangemode = axis_mode(y)\n",
    "\n",
    "        plot.layout.xaxis.title = data_types.loc[data_types.header==x, 'label'].iloc[0]\n",
    "        plot.layout.yaxis.title = data_types.loc[data_types.header==y, 'label'].iloc[0]\n",
    "        plot.layout.coloraxis.colorbar.title = data_types.loc[data_types.header==colour, 'label'].iloc[0]"
   ]
  },
  {
   "cell_type": "code",
   "execution_count": 9,
   "metadata": {},
   "outputs": [
    {
     "data": {
      "application/vnd.jupyter.widget-view+json": {
       "model_id": "882d1c5aa13c4a2693e530dd2cc61b99",
       "version_major": 2,
       "version_minor": 0
      },
      "text/plain": [
       "interactive(children=(Dropdown(description='x', index=3, options=('HR_to_tot', 'py_to_HR', 'py_to_tot', 'Fe_py…"
      ]
     },
     "metadata": {},
     "output_type": "display_data"
    },
    {
     "data": {
      "application/vnd.jupyter.widget-view+json": {
       "model_id": "5a8924c1f2d344b19b7f89bd9be3b742",
       "version_major": 2,
       "version_minor": 0
      },
      "text/plain": [
       "FigureWidget({\n",
       "    'data': [{'error_x': {},\n",
       "              'error_y': {},\n",
       "              'marker': {'color': arr…"
      ]
     },
     "metadata": {},
     "output_type": "display_data"
    }
   ],
   "source": [
    "# Customisable bivariate plot\n",
    "biv_plot = init_biv_plot()\n",
    "\n",
    "wdg.interact(update_biv_traces,\n",
    "             x=wdg.Dropdown(options=axis_options, value='Fe_py'),\n",
    "             y=wdg.Dropdown(options=axis_options, value='d34S'),\n",
    "             colour=wdg.Dropdown(options=axis_options, value='height'),\n",
    "             size=wdg.Dropdown(options=size_options, value='Constant'),\n",
    "             diagonal=False,\n",
    "             plot_errors=False,\n",
    "             plot=wdg.fixed(biv_plot));\n",
    "\n",
    "biv_plot"
   ]
  },
  {
   "cell_type": "code",
   "execution_count": 10,
   "metadata": {},
   "outputs": [
    {
     "data": {
      "application/vnd.jupyter.widget-view+json": {
       "model_id": "0f5816e1f92b40ba9496eefd6899a711",
       "version_major": 2,
       "version_minor": 0
      },
      "text/plain": [
       "interactive(children=(Dropdown(description='colour', index=10, options=('HR_to_tot', 'py_to_HR', 'py_to_tot', …"
      ]
     },
     "metadata": {},
     "output_type": "display_data"
    },
    {
     "data": {
      "application/vnd.jupyter.widget-view+json": {
       "model_id": "80895a2e520a44878f92edae5297160e",
       "version_major": 2,
       "version_minor": 0
      },
      "text/plain": [
       "FigureWidget({\n",
       "    'data': [{'error_x': {},\n",
       "              'error_y': {},\n",
       "              'marker': {'color': arr…"
      ]
     },
     "metadata": {},
     "output_type": "display_data"
    }
   ],
   "source": [
    "# Fe speciation plot\n",
    "spec_plot=init_biv_plot()\n",
    "spec_plot.update_layout(xaxis_range=[0,1], yaxis_range=[0,1])\n",
    "spec_plot.add_hline(0.8, line_width=1, line_dash='dash')\n",
    "spec_plot.add_vline(0.38, line_width=1, line_dash='dash')\n",
    "\n",
    "wdg.interact(update_biv_traces,\n",
    "             x=wdg.fixed('HR_to_tot'),\n",
    "             y=wdg.fixed('py_to_HR'),\n",
    "             colour=wdg.Dropdown(options=axis_options, value='d34S'),\n",
    "             size=wdg.Dropdown(options=size_options, value='Constant'),\n",
    "             diagonal=wdg.fixed(False),\n",
    "             plot_errors=False,\n",
    "             plot=wdg.fixed(spec_plot));\n",
    "\n",
    "spec_plot"
   ]
  },
  {
   "cell_type": "code",
   "execution_count": 9,
   "metadata": {},
   "outputs": [
    {
     "data": {
      "application/vnd.jupyter.widget-view+json": {
       "model_id": "eef2043a18fb4cc28294ea0c3c6729a6",
       "version_major": 2,
       "version_minor": 0
      },
      "text/plain": [
       "interactive(children=(FloatSlider(value=5.0, description='[Fe<sub>tot</sub>] / wt%', layout=Layout(width='75%'…"
      ]
     },
     "metadata": {},
     "output_type": "display_data"
    },
    {
     "data": {
      "application/vnd.jupyter.widget-view+json": {
       "model_id": "df8b60132866415689669a3a2cb42f1b",
       "version_major": 2,
       "version_minor": 0
      },
      "text/plain": [
       "FigureWidget({\n",
       "    'data': [{'name': 'Constant q<sub>H2S</sub>',\n",
       "              'type': 'scatter',\n",
       "            …"
      ]
     },
     "metadata": {},
     "output_type": "display_data"
    }
   ],
   "source": [
    "# Test model\n",
    "HR_tot_0 = np.linspace(0.01,1,100)\n",
    "py_HR_0 = np.zeros(50)\n",
    "\n",
    "model_test=go.FigureWidget()\n",
    "model_test.add_trace(go.Scatter(name='Constant q<sub>H2S</sub>', x=HR_tot_0))\n",
    "#model_test.add_trace(go.Scatter(name='Decaying q<sub>H2S</sub>'))\n",
    "model_test.update_layout(xaxis_range=[0,1], yaxis_range=[0,1],\n",
    "                         width=700, height=700)\n",
    "model_test.add_hline(0.8, line_width=1, line_dash='dash')\n",
    "model_test.add_vline(0.38, line_width=1, line_dash='dash')\n",
    "model_test.update_layout(xaxis_title='[Fe<sub>HR</sub>]/[Fe<sub>tot</sub>]',\n",
    "                         yaxis_title='[Fe<sub>py</sub>]/[Fe<sub>HR</sub>]')\n",
    "\n",
    "\n",
    "@wdg.interact(Fe_tot=wdg.FloatSlider(value=5, min=0, max=15, description='[Fe<sub>tot</sub>] / wt%', style=slider_style, layout=wdg.Layout(width='75%')),\n",
    "              py_0 = wdg.FloatSlider(value=0, min=0, max=5, step=0.1, description='[Fe<sub>py</sub>]<sub>0</sub> / wt%', style=slider_style, layout=wdg.Layout(width='75%')),\n",
    "              n_H2S=wdg.FloatSlider(value=0, min=0, max=1.5, step=0.01, description='H<sub>2</sub>S added / mol', style=slider_style, layout=wdg.Layout(width='75%')),\n",
    "              plot=wdg.fixed(model_test))\n",
    "def update_Fe_model(Fe_tot, py_0, n_H2S, plot):\n",
    "    \n",
    "    with plot.batch_update():\n",
    "        \n",
    "        d_py = M_to_wt(0.5*n_H2S)\n",
    "        HR_0 = HR_tot_0 * Fe_tot\n",
    "\n",
    "        py_HR_t = (py_0 + d_py)/HR_0\n",
    "\n",
    "        model_line = sel_trace(plot, 'Constant q<sub>H2S</sub>')\n",
    "        model_line.y = py_HR_t\n",
    "    \n",
    "    \n",
    "model_test"
   ]
  },
  {
   "cell_type": "code",
   "execution_count": 12,
   "metadata": {},
   "outputs": [
    {
     "data": {
      "application/vnd.jupyter.widget-view+json": {
       "model_id": "ee73b67b6e4b4b7f882a603506209721",
       "version_major": 2,
       "version_minor": 0
      },
      "text/plain": [
       "interactive(children=(FloatSlider(value=5.11, description='[Fe<sub>tot</sub>] / wt%', layout=Layout(width='75%…"
      ]
     },
     "metadata": {},
     "output_type": "display_data"
    },
    {
     "data": {
      "application/vnd.jupyter.widget-view+json": {
       "model_id": "617f2225d47944278d548ce1b2627fdb",
       "version_major": 2,
       "version_minor": 0
      },
      "text/plain": [
       "FigureWidget({\n",
       "    'data': [{'legendgroup': 'Mudstone',\n",
       "              'marker': {'color': 'LightPink', 'symbol…"
      ]
     },
     "metadata": {},
     "output_type": "display_data"
    }
   ],
   "source": [
    "# Modelling pyritisation of real data\n",
    "psn_model=go.FigureWidget()\n",
    "\n",
    "# for HR_to_tot in list(log_df.HR_to_tot):\n",
    "#     psn_model.add_vline(HR_to_tot, line_width=0.5, line_color='Lavender')\n",
    "\n",
    "for category in categories: \n",
    "    \n",
    "    cat_df = log_df[log_df.category == category]\n",
    "\n",
    "    graph_texts = []\n",
    "    for d in cat_df.iterrows():\n",
    "        graph_texts.append(d[1]['name'])\n",
    "    \n",
    "    # Current locations of samples in Fe speciation space\n",
    "    \n",
    "    psn_model.add_trace(go.Scatter(x=cat_df['HR_to_tot'],\n",
    "                                   mode='markers',\n",
    "                                   marker_symbol=cat_symbols[category],\n",
    "                                   marker_color='LightPink',\n",
    "                                   name=category+' (pre-diagenesis)',\n",
    "                                   text=graph_texts,\n",
    "                                   legendgroup=category))\n",
    "    \n",
    "    psn_model.add_trace(go.Scatter(x=cat_df['HR_to_tot'],\n",
    "                                   mode='markers',\n",
    "                                   marker_symbol=cat_symbols[category],\n",
    "                                   marker_color='LawnGreen',\n",
    "                                   name=category+' (half way)',\n",
    "                                   marker_opacity=0.8,\n",
    "                                   text=graph_texts,\n",
    "                                   legendgroup=category))\n",
    "    \n",
    "    psn_model.add_trace(go.Scatter(x=cat_df['HR_to_tot'],\n",
    "                                   mode='markers',\n",
    "                                   marker_symbol=cat_symbols[category],\n",
    "                                   marker_color='Green',\n",
    "                                   name=category+' (modelled)',\n",
    "                                   text=graph_texts,\n",
    "                                   legendgroup=category))\n",
    "\n",
    "    psn_model.add_trace(go.Scatter(x=cat_df['HR_to_tot'], y=cat_df['py_to_HR'],\n",
    "                                   mode='markers',\n",
    "                                   marker_symbol=cat_symbols[category],\n",
    "                                   marker_color='Blue',\n",
    "                                   marker_opacity=0.3,\n",
    "                                   name=category+' (post-diagenesis)',\n",
    "                                   text=graph_texts,\n",
    "                                   legendgroup=category))    \n",
    "    \n",
    "\n",
    "# for model line\n",
    "HR_tot_0 = np.linspace(0.01,1,50) # Increase last number for higher resolution\n",
    "py_HR_0 = np.zeros(len(HR_tot_0))\n",
    "\n",
    "psn_model.add_trace(go.Scatter(name='model (const. total Fe)', x=HR_tot_0,\n",
    "                               line_color='LightGreen'))\n",
    "\n",
    "psn_model.update_layout(xaxis_range=[0,1], yaxis_range=[0,1],\n",
    "                        width=900, height=650)\n",
    "psn_model.add_hline(0.8, line_width=1, line_dash='dash')\n",
    "psn_model.add_vline(0.38, line_width=1, line_dash='dash')\n",
    "psn_model.update_layout(xaxis_title='[Fe<sub>HR</sub>]/[Fe<sub>tot</sub>]',\n",
    "                        yaxis_title='[Fe<sub>py</sub>]/[Fe<sub>HR</sub>]',\n",
    "                        legend=dict(#itemsizing='constant',\n",
    "                                    font_size=11))\n",
    "\n",
    "\n",
    "\n",
    "@wdg.interact(Fe_tot=wdg.FloatSlider(value=5.11, min=0, max=15, description='[Fe<sub>tot</sub>] / wt%', style=slider_style, layout=wdg.Layout(width='75%')),\n",
    "              py_0 = wdg.FloatSlider(value=0, min=0, max=5, step=0.1, description='[Fe<sub>py</sub>]<sub>0</sub> / wt%', style=slider_style, layout=wdg.Layout(width='75%')),\n",
    "              n_H2S=wdg.FloatSlider(value=0, min=0, max=1.5, step=0.01, description='H<sub>2</sub>S added / mol', style=slider_style, layout=wdg.Layout(width='75%')),\n",
    "              alter_py_0=wdg.Checkbox(value=False, description='Correct model by changing [Fe<sub>py</sub>]<sub>0</sub>', style=slider_style),\n",
    "              plot=wdg.fixed(psn_model))\n",
    "def update_Fe_data(Fe_tot, py_0, n_H2S, alter_py_0, plot):\n",
    "    \n",
    "    with plot.batch_update():\n",
    "        \n",
    "        # update model line\n",
    "        d_py = M_to_wt(0.5*n_H2S)\n",
    "        HR_0 = HR_tot_0 * Fe_tot\n",
    "\n",
    "        py_HR_t = (py_0 + d_py)/HR_0\n",
    "\n",
    "        # Update y coordinates of line\n",
    "        sel_trace(plot, 'model (const. total Fe)').y = py_HR_t\n",
    "\n",
    "\n",
    "        # update data points\n",
    "        for category in categories:\n",
    "            cat_df = log_df[log_df.category == category]\n",
    "\n",
    "            py_HR_points = list((py_0 + d_py)/cat_df['Fe_HR'])\n",
    "\n",
    "            for i in range(len(py_HR_points)):\n",
    "                if py_HR_points[i] > 1:\n",
    "                    py_HR_points[i] = 1\n",
    "\n",
    "            # Update y coordinates of modelled points\n",
    "            sel_trace(plot, category+' (modelled)').y=py_HR_points\n",
    "\n",
    "            sel_trace(plot, category+' (half way)').y = [0.5* i for i in py_HR_points]\n",
    "\n",
    "            if alter_py_0:\n",
    "\n",
    "                py_0s = cat_df['py_to_HR'] - py_HR_points\n",
    "\n",
    "                sel_trace(plot, category+' (pre-diagenesis)').y=py_0s\n",
    "            else:\n",
    "                sel_trace(plot, category+' (pre-diagenesis)').y=py_0/cat_df['Fe_HR']\n",
    "    \n",
    "#     if alter_py_0:\n",
    "#         plot.update_layout(yaxis_range=[-0.5,1])\n",
    "#     else:\n",
    "#         plot.update_layout(yaxis_range=[0,1])\n",
    "    \n",
    "    \n",
    "psn_model"
   ]
  },
  {
   "cell_type": "code",
   "execution_count": 10,
   "metadata": {},
   "outputs": [],
   "source": [
    "# Increase marker size for export\n",
    "for trace in psn_model.data:\n",
    "    trace.marker.size = 8"
   ]
  },
  {
   "cell_type": "code",
   "execution_count": 11,
   "metadata": {},
   "outputs": [],
   "source": [
    "# psn_model.write_image('./images/Fe_spec_test.svg')"
   ]
  },
  {
   "cell_type": "code",
   "execution_count": null,
   "metadata": {},
   "outputs": [],
   "source": []
  }
 ],
 "metadata": {
  "kernelspec": {
   "display_name": "Python 3 (ipykernel)",
   "language": "python",
   "name": "python3"
  },
  "language_info": {
   "codemirror_mode": {
    "name": "ipython",
    "version": 3
   },
   "file_extension": ".py",
   "mimetype": "text/x-python",
   "name": "python",
   "nbconvert_exporter": "python",
   "pygments_lexer": "ipython3",
   "version": "3.9.1"
  },
  "presto": {
   "id": "70a48a7c-46b4-4623-bacf-81a8600b8579"
  },
  "toc-showmarkdowntxt": false,
  "toc-showtags": false,
  "widgets": {
   "application/vnd.jupyter.widget-state+json": {
    "state": {
     "02cd923a47184481beca93efc69a1d6e": {
      "model_module": "@jupyter-widgets/controls",
      "model_module_version": "1.5.0",
      "model_name": "DescriptionStyleModel",
      "state": {
       "description_width": ""
      }
     },
     "035ed08b176b487185f8f743be8bbbc4": {
      "model_module": "@jupyter-widgets/controls",
      "model_module_version": "1.5.0",
      "model_name": "DescriptionStyleModel",
      "state": {
       "description_width": ""
      }
     },
     "0853e3764d1c47f6a77ecb55d52c3875": {
      "model_module": "@jupyter-widgets/base",
      "model_module_version": "1.2.0",
      "model_name": "LayoutModel",
      "state": {}
     },
     "0e929345ed484f4599c8bff88123404c": {
      "model_module": "@jupyter-widgets/base",
      "model_module_version": "1.2.0",
      "model_name": "LayoutModel",
      "state": {}
     },
     "0f5816e1f92b40ba9496eefd6899a711": {
      "model_module": "@jupyter-widgets/controls",
      "model_module_version": "1.5.0",
      "model_name": "VBoxModel",
      "state": {
       "_dom_classes": [
        "widget-interact"
       ],
       "children": [
        "IPY_MODEL_c299ab202ff84087998d1aef67bb31ae",
        "IPY_MODEL_32fe08fb4c3b4877aaf2254d13d87378",
        "IPY_MODEL_b0badef2a15646678568f72dcb0df65e",
        "IPY_MODEL_96c662a2d0a74b9c9efb809ae0a85d10"
       ],
       "layout": "IPY_MODEL_5b6e6098c799444e959403d8838331bc"
      }
     },
     "16eba95861d146bd8d401a48f2a2b8ac": {
      "model_module": "@jupyter-widgets/base",
      "model_module_version": "1.2.0",
      "model_name": "LayoutModel",
      "state": {}
     },
     "31f028dc344c49caa2d3a882767704dd": {
      "model_module": "@jupyter-widgets/base",
      "model_module_version": "1.2.0",
      "model_name": "LayoutModel",
      "state": {}
     },
     "32fe08fb4c3b4877aaf2254d13d87378": {
      "model_module": "@jupyter-widgets/controls",
      "model_module_version": "1.5.0",
      "model_name": "DropdownModel",
      "state": {
       "_options_labels": [
        "HR_to_tot",
        "py_to_HR",
        "py_to_tot",
        "Fe_py",
        "Fe_ox",
        "Fe_mag",
        "Fe_carb",
        "Fe_UR",
        "Fe_HR",
        "Fe_tot",
        "TOC",
        "TN",
        "d13Corg",
        "H2S_decay",
        "fossil_index",
        "py_index",
        "phi",
        "biodiversity",
        "Constant",
        "height"
       ],
       "description": "size",
       "index": 18,
       "layout": "IPY_MODEL_0853e3764d1c47f6a77ecb55d52c3875",
       "style": "IPY_MODEL_035ed08b176b487185f8f743be8bbbc4"
      }
     },
     "3650cea8608e4b19bd130d36767cb7ab": {
      "model_module": "@jupyter-widgets/controls",
      "model_module_version": "1.5.0",
      "model_name": "CheckboxModel",
      "state": {
       "description": "plot_errors",
       "disabled": false,
       "layout": "IPY_MODEL_5649eeb39e4449f788cdc2cd7ae320e9",
       "style": "IPY_MODEL_e005c9df4cb6437592fbc8b76acf3f36",
       "value": false
      }
     },
     "388376ef3ef14c2a8a95b49597e48713": {
      "model_module": "@jupyter-widgets/controls",
      "model_module_version": "1.5.0",
      "model_name": "DescriptionStyleModel",
      "state": {
       "description_width": ""
      }
     },
     "410bcf2db65a4170aaf21172a387e61c": {
      "model_module": "@jupyter-widgets/base",
      "model_module_version": "1.2.0",
      "model_name": "LayoutModel",
      "state": {}
     },
     "4cf3dddc84d74ebb8b62189a4c13e5a1": {
      "model_module": "@jupyter-widgets/base",
      "model_module_version": "1.2.0",
      "model_name": "LayoutModel",
      "state": {}
     },
     "4dc2e3471bae4f2e82ba91ab90b41731": {
      "model_module": "@jupyter-widgets/controls",
      "model_module_version": "1.5.0",
      "model_name": "DescriptionStyleModel",
      "state": {
       "description_width": ""
      }
     },
     "5649eeb39e4449f788cdc2cd7ae320e9": {
      "model_module": "@jupyter-widgets/base",
      "model_module_version": "1.2.0",
      "model_name": "LayoutModel",
      "state": {}
     },
     "5a8924c1f2d344b19b7f89bd9be3b742": {
      "buffers": [
       {
        "data": "FK5H4XoU9j/hehSuR+H6PwrXo3A9CgFAzczMzMzMBEAAAAAAAAAIQArXo3A9ChJApHA9CtejFECamZmZmZkYQAAAAAAAABpAFK5H4XoUHUDXo3A9CtceQGZmZmZmZiBASOF6FK5HIUBxPQrXo/AiQFK4HoXr0SNA9ihcj8J1JUDhehSuR2EmQFK4HoXrUSdAZmZmZmZmKECPwvUoXI8pQI/C9ShcjypA4XoUrkdhK0A9CtejcD0sQNejcD0KVy1APQrXo3A9LkC4HoXrUTgvQPYoXI/CNTBAw/UoXI8CMUDsUbgehWsxQPYoXI/CNTJAexSuR+H6MkAUrkfhelQzQHsUrkfhujNAKVyPwvUoNEDXo3A9Ctc0QHE9CtejcDVAhetRuB7FNUA=",
        "encoding": "base64",
        "path": [
         "_data",
         0,
         "marker",
         "color",
         "value"
        ]
       },
       {
        "data": "wA737BQGtD+Gwgwybg/BP8iQCDKncNE/VxBeFm7U0D8pXI/C9SjMP8/+9itTgsk//gS8cffeyj+Azd6+s+LNPw8O9iaG5NE/n2BaL+Er3z8r+dhdoKTJP8v5vag4acs/8K2jBcMU0T8joS3nUtzZP5qHAmz29ss/abFvgspTzT/DnKBNDp/RP4blz7cFS9k/4olqW95mxz8+CjJd4w7SP6K4401+C9g/XAr+bQUDxT8ZjXxe8dTZP+s7GuKz0M4/L4CV6NH5yz+BZsaRvZTEP7BOOjanN9U/IGi7+JERzz8/olOhy+XVP/O1HQnqyt0/9v5QevAkzz/ZWl8ktOXZP12ZAXhVMd4/FDpU+NgCzD9j4qDOJtHPP3s1myIbo9E/nVK55BMNyj8=",
        "encoding": "base64",
        "path": [
         "_data",
         0,
         "x",
         "value"
        ]
       },
       {
        "data": "Rwd4wKP9NcDD/ACOXgkwwMEuJT+MjyrA/jMJIdu/L8BTmBt0ZCcywDKRuNYj7DLAQFPtOgpRNMB4L4ehp1EuwKu1c0F4mzTAUHW0UVYANsAFJ7EOl7gmwFFBx24I4jPAj9E3cp7+I8CEuSjx9+UywAQFkeNMMhbA2TVfjqU7MMDVZnrukJwywH6jqudgGyzAp/ZymVzMNMAKO9kXTeI0wDalBdnBcjXAwoQpRBDLNMBBT3jre2A4wI4TYoJFczPALO/3XeG7NMDgYpUCNDczwN/G4xE5UTTAzsaJukrVLsDwGDRs5AY2wNgFvnI7yTbAG4Yfg/CcNcB+hirdR4o1wNmKIT+GOjPAcr7WsPMGOcA0gtMIOBQ2wOYGKnLaIzXAGh4S+eZWL8A=",
        "encoding": "base64",
        "path": [
         "_data",
         0,
         "y",
         "value"
        ]
       },
       {
        "data": "FK5H4XoU7j/2KFyPwjU2QA==",
        "encoding": "base64",
        "path": [
         "_data",
         1,
         "marker",
         "color",
         "value"
        ]
       },
       {
        "data": "yWZY1kfxvT+7UK9K2G20Pw==",
        "encoding": "base64",
        "path": [
         "_data",
         1,
         "x",
         "value"
        ]
       },
       {
        "data": "cLVTVzbTM8AAAAAAAAD4fw==",
        "encoding": "base64",
        "path": [
         "_data",
         1,
         "y",
         "value"
        ]
       },
       {
        "data": "mpmZmZmZGEDD9ShcjwIxQA==",
        "encoding": "base64",
        "path": [
         "_data",
         2,
         "marker",
         "color",
         "value"
        ]
       },
       {
        "data": "NjQK7qyCyj/49H3djhXAPw==",
        "encoding": "base64",
        "path": [
         "_data",
         2,
         "x",
         "value"
        ]
       },
       {
        "data": "ovup9wEPLcCk/yfjkHwdwA==",
        "encoding": "base64",
        "path": [
         "_data",
         2,
         "y",
         "value"
        ]
       },
       {
        "data": "UrgehetRJ0BSuB6F61EnQFK4HoXrUSdAUrgehetRJ0BSuB6F61EnQFK4HoXrUSdAUrgehetRJ0BSuB6F61EnQFK4HoXrUSdAUrgehetRJ0BSuB6F61EnQA==",
        "encoding": "base64",
        "path": [
         "_data",
         3,
         "marker",
         "color",
         "value"
        ]
       },
       {
        "data": "kPHN230z0z+to6oJou7NPwji4eJNI8g/xfcPM0XKvj8CJapcTUPWPypv7H66JtU/WX4quGl9zj9f4W5aOjDRP71+d+G92dE/w9idSfZjzD9z2eicn2LSPw==",
        "encoding": "base64",
        "path": [
         "_data",
         3,
         "x",
         "value"
        ]
       },
       {
        "data": "LnRyTCwKLcCYbbVBaekpwIDQerKveiDAKCD9rhZYI8BeyxW7L38wwNQynejnmCrAhEeFPsdBIsDGEL3bpnUxwJyLhhnAnzTAegDWAACoI8ASyWyzaP8wwA==",
        "encoding": "base64",
        "path": [
         "_data",
         3,
         "y",
         "value"
        ]
       }
      ],
      "model_module": "jupyterlab-plotly",
      "model_module_version": "^5.1.0",
      "model_name": "FigureModel",
      "state": {
       "_config": {
        "plotlyServerURL": "https://plot.ly"
       },
       "_data": [
        {
         "marker": {
          "color": {
           "dtype": "float64",
           "shape": [
            37
           ]
          },
          "coloraxis": "coloraxis",
          "line": {
           "color": "Black",
           "width": 1
          },
          "size": [
           1,
           1,
           1,
           1,
           1,
           1,
           1,
           1,
           1,
           1,
           1,
           1,
           1,
           1,
           1,
           1,
           1,
           1,
           1,
           1,
           1,
           1,
           1,
           1,
           1,
           1,
           1,
           1,
           1,
           1,
           1,
           1,
           1,
           1,
           1,
           1,
           1
          ],
          "sizemin": 4,
          "sizeref": 0.08333333333333326,
          "symbol": "circle"
         },
         "mode": "markers",
         "name": "Mudstone",
         "text": [
          "KC-2-1<br>: 1.00<br><i>h</i> / m: 1.38",
          "KC-2-2<br>: 1.00<br><i>h</i> / m: 1.68",
          "KC-2-2.5<br>: 1.00<br><i>h</i> / m: 2.13",
          "KC-2-3<br>: 1.00<br><i>h</i> / m: 2.60",
          "KC-2-3.5<br>: 1.00<br><i>h</i> / m: 3.00",
          "KC-2-4.5<br>: 1.00<br><i>h</i> / m: 4.51",
          "KC-2-5<br>: 1.00<br><i>h</i> / m: 5.16",
          "KC-2-6<br>: 1.00<br><i>h</i> / m: 6.15",
          "KC-2-6.5<br>: 1.00<br><i>h</i> / m: 6.50",
          "KC-2-7<br>: 1.00<br><i>h</i> / m: 7.27",
          "KC-2-8<br>: 1.00<br><i>h</i> / m: 7.71",
          "KC-2-9<br>: 1.00<br><i>h</i> / m: 8.20",
          "KC-2-10<br>: 1.00<br><i>h</i> / m: 8.64",
          "KC-2-11<br>: 1.00<br><i>h</i> / m: 9.47",
          "KC-2-12<br>: 1.00<br><i>h</i> / m: 9.91",
          "KC-2-13<br>: 1.00<br><i>h</i> / m: 10.73",
          "KC-2-14<br>: 1.00<br><i>h</i> / m: 11.19",
          "KC-2-14.5<br>: 1.00<br><i>h</i> / m: 11.66",
          "KC-2-15<br>: 1.00<br><i>h</i> / m: 12.20",
          "KC-2-15.5<br>: 1.00<br><i>h</i> / m: 12.78",
          "KC-2-16<br>: 1.00<br><i>h</i> / m: 13.28",
          "KC-2-17<br>: 1.00<br><i>h</i> / m: 13.69",
          "KC-2-18<br>: 1.00<br><i>h</i> / m: 14.12",
          "KC-2-19<br>: 1.00<br><i>h</i> / m: 14.67",
          "KC-2-20<br>: 1.00<br><i>h</i> / m: 15.12",
          "KC-2-21<br>: 1.00<br><i>h</i> / m: 15.61",
          "KC-2-21.5<br>: 1.00<br><i>h</i> / m: 16.21",
          "KC-2-22<br>: 1.00<br><i>h</i> / m: 17.01",
          "KC-2-23<br>: 1.00<br><i>h</i> / m: 17.42",
          "KC-2-24<br>: 1.00<br><i>h</i> / m: 18.21",
          "KC-2-25<br>: 1.00<br><i>h</i> / m: 18.98",
          "KC-2-25.5<br>: 1.00<br><i>h</i> / m: 19.33",
          "KC-2-26<br>: 1.00<br><i>h</i> / m: 19.73",
          "KC-2-26.5<br>: 1.00<br><i>h</i> / m: 20.16",
          "KC-2-27<br>: 1.00<br><i>h</i> / m: 20.84",
          "KC-2-28<br>: 1.00<br><i>h</i> / m: 21.44",
          "KC-2-29<br>: 1.00<br><i>h</i> / m: 21.77"
         ],
         "type": "scatter",
         "uid": "22a44f51-0e93-4756-87c4-4deae95326eb",
         "x": {
          "dtype": "float64",
          "shape": [
           37
          ]
         },
         "y": {
          "dtype": "float64",
          "shape": [
           37
          ]
         }
        },
        {
         "marker": {
          "color": {
           "dtype": "float64",
           "shape": [
            2
           ]
          },
          "coloraxis": "coloraxis",
          "line": {
           "color": "Black",
           "width": 1
          },
          "size": [
           1,
           1
          ],
          "sizemin": 4,
          "sizeref": 0.08333333333333326,
          "symbol": "star"
         },
         "mode": "markers",
         "name": "Carbonate",
         "text": [
          "KC-2-0<br>: 1.00<br><i>h</i> / m: 0.94",
          "KC-2-30<br>: 1.00<br><i>h</i> / m: 22.21"
         ],
         "type": "scatter",
         "uid": "b7fb5460-3847-475f-8613-8a46a250b6e4",
         "x": {
          "dtype": "float64",
          "shape": [
           2
          ]
         },
         "y": {
          "dtype": "float64",
          "shape": [
           2
          ]
         }
        },
        {
         "marker": {
          "color": {
           "dtype": "float64",
           "shape": [
            2
           ]
          },
          "coloraxis": "coloraxis",
          "line": {
           "color": "Black",
           "width": 1
          },
          "size": [
           1,
           1
          ],
          "sizemin": 4,
          "sizeref": 0.08333333333333326,
          "symbol": "square"
         },
         "mode": "markers",
         "name": "Pervasively pyritised regions",
         "text": [
          "KC-2-6p<br>: 1.00<br><i>h</i> / m: 6.15",
          "KC-2-22p<br>: 1.00<br><i>h</i> / m: 17.01"
         ],
         "type": "scatter",
         "uid": "155809c3-b301-45d6-b3db-6882591a6d34",
         "x": {
          "dtype": "float64",
          "shape": [
           2
          ]
         },
         "y": {
          "dtype": "float64",
          "shape": [
           2
          ]
         }
        },
        {
         "marker": {
          "color": {
           "dtype": "float64",
           "shape": [
            11
           ]
          },
          "coloraxis": "coloraxis",
          "line": {
           "color": "Black",
           "width": 1
          },
          "size": [
           1,
           1,
           1,
           1,
           1,
           1,
           1,
           1,
           1,
           1,
           1
          ],
          "sizemin": 4,
          "sizeref": 0.08333333333333326,
          "symbol": "diamond"
         },
         "mode": "markers",
         "name": "Bed 22",
         "text": [
          "KC-3-A<br>: 1.00<br><i>h</i> / m: 11.66",
          "KC-3-B<br>: 1.00<br><i>h</i> / m: 11.66",
          "KC-3-C<br>: 1.00<br><i>h</i> / m: 11.66",
          "KC-3-D<br>: 1.00<br><i>h</i> / m: 11.66",
          "KC-3-E<br>: 1.00<br><i>h</i> / m: 11.66",
          "KC-3-F<br>: 1.00<br><i>h</i> / m: 11.66",
          "KC-3-G<br>: 1.00<br><i>h</i> / m: 11.66",
          "KC-3-H<br>: 1.00<br><i>h</i> / m: 11.66",
          "KC-3-I<br>: 1.00<br><i>h</i> / m: 11.66",
          "KC-3-J<br>: 1.00<br><i>h</i> / m: 11.66",
          "KC-3-K<br>: 1.00<br><i>h</i> / m: 11.66"
         ],
         "type": "scatter",
         "uid": "a83aae4e-ee40-4796-be68-bac80a005332",
         "x": {
          "dtype": "float64",
          "shape": [
           11
          ]
         },
         "y": {
          "dtype": "float64",
          "shape": [
           11
          ]
         }
        }
       ],
       "_js2py_pointsCallback": {},
       "_js2py_relayout": {},
       "_js2py_restyle": {},
       "_js2py_update": {},
       "_last_layout_edit_id": 10,
       "_last_trace_edit_id": 9,
       "_layout": {
        "coloraxis": {
         "colorbar": {
          "ticks": "outside",
          "title": {
           "text": "<i>h</i> / m"
          }
         },
         "colorscale": [
          [
           0,
           "#fde725"
          ],
          [
           0.1111111111111111,
           "#b5de2b"
          ],
          [
           0.2222222222222222,
           "#6ece58"
          ],
          [
           0.3333333333333333,
           "#35b779"
          ],
          [
           0.4444444444444444,
           "#1f9e89"
          ],
          [
           0.5555555555555556,
           "#26828e"
          ],
          [
           0.6666666666666666,
           "#31688e"
          ],
          [
           0.7777777777777778,
           "#3e4989"
          ],
          [
           0.8888888888888888,
           "#482878"
          ],
          [
           1,
           "#440154"
          ]
         ]
        },
        "height": 700,
        "legend": {
         "itemsizing": "constant",
         "orientation": "h",
         "x": 0,
         "xanchor": "left",
         "y": 1.01,
         "yanchor": "bottom"
        },
        "shapes": [
         {
          "line": {
           "width": 0.5
          },
          "name": "Diagonal",
          "type": "line",
          "visible": false,
          "x0": -100,
          "x1": 100,
          "y0": -100,
          "y1": 100
         }
        ],
        "template": {
         "layout": {
          "bargap": 0.05,
          "bargroupgap": 0,
          "font": {
           "color": "black",
           "family": "Arial",
           "size": 16
          },
          "height": 700,
          "hovermode": "closest",
          "margin": {
           "b": 60,
           "l": 60,
           "r": 30,
           "t": 30
          },
          "scene": {
           "xaxis": {
            "color": "black",
            "linewidth": 2,
            "showline": true,
            "ticks": "outside"
           },
           "yaxis": {
            "color": "black",
            "linewidth": 2,
            "showline": true,
            "ticks": "outside"
           },
           "zaxis": {
            "color": "black",
            "linewidth": 2,
            "showline": true,
            "ticks": "outside"
           }
          },
          "xaxis": {
           "color": "black",
           "linewidth": 1.3,
           "mirror": true,
           "showgrid": true,
           "showline": true,
           "ticks": "outside",
           "zeroline": true
          },
          "yaxis": {
           "color": "black",
           "linewidth": 1.3,
           "mirror": true,
           "showgrid": true,
           "showline": true,
           "ticks": "outside",
           "zeroline": true
          }
         }
        },
        "width": 740,
        "xaxis": {
         "rangemode": "tozero",
         "title": {
          "text": "TN (wt%)"
         }
        },
        "yaxis": {
         "rangemode": "normal",
         "title": {
          "text": "δ<sup>34</sup>S (‰)"
         }
        }
       },
       "_py2js_animate": {},
       "_py2js_deleteTraces": {},
       "_py2js_moveTraces": {},
       "_py2js_removeLayoutProps": {},
       "_py2js_restyle": {},
       "_view_count": 1
      }
     },
     "5b6e6098c799444e959403d8838331bc": {
      "model_module": "@jupyter-widgets/base",
      "model_module_version": "1.2.0",
      "model_name": "LayoutModel",
      "state": {}
     },
     "6f0fc3042cc74cc6939b6fd081f39d18": {
      "model_module": "@jupyter-widgets/base",
      "model_module_version": "1.2.0",
      "model_name": "LayoutModel",
      "state": {}
     },
     "70d659a35fb44313b4654def6e53a9d8": {
      "model_module": "@jupyter-widgets/controls",
      "model_module_version": "1.5.0",
      "model_name": "DescriptionStyleModel",
      "state": {
       "description_width": ""
      }
     },
     "72a1c5ae88c246ddb694010fd82d1e0c": {
      "model_module": "@jupyter-widgets/controls",
      "model_module_version": "1.5.0",
      "model_name": "DescriptionStyleModel",
      "state": {
       "description_width": ""
      }
     },
     "7754594b49404ed79cc0d6053f824bc2": {
      "model_module": "@jupyter-widgets/controls",
      "model_module_version": "1.5.0",
      "model_name": "DescriptionStyleModel",
      "state": {
       "description_width": ""
      }
     },
     "80895a2e520a44878f92edae5297160e": {
      "buffers": [
       {
        "data": "5/up8dJtOcBt5/up8ZI6wOkmMQisfDfAz/dT46W7OMCmm8QgsLI4wIXrUbgepTjACtejcD0KOcDRItv5fmo3wHE9Ctej0DnAqMZLN4khOMDsUbgehUs4wCcxCKwc2jnA5/up8dItOMCPwvUoXM83wHE9CtejcDnAJzEIrBx6OcBEi2zn+8k5wL6fGi/d5DfAYhBYObToOcCYbhKDwCo5wMdLN4lBwDjA9P3UeOlmOsDByqFFthM5wBSuR+F61DnAwcqhRbZTOsDRItv5fso6wPT91HjppjjA6SYxCKx8N8BaZDvfTw05wDVeukkMwjfACKwcWmQbOcB56SYxCMw2wCcxCKwcGjfA001iEFjZOMA/NV66Sew4wHE9CtejsDjAg8DKoUX2OMA=",
        "encoding": "base64",
        "path": [
         "_data",
         0,
         "marker",
         "color",
         "value"
        ]
       },
       {
        "data": "XFpQhZJ17D9b/Jw93n7fP+i1AE/bJ+U/COOO8seB5T9UIVbvVIjlP/MSfp9MYOk/YWEw5OqV4j9vjvTiq5frP34pYmErnOg/JwmWh+si6T86iSG/wLvpP+AZe2LoueQ/oky2XYDC6z8VMB/ILizmP31ENZuxbew/leBQ+fVw4T/XZFmTZU3mP2NCE/0qa+Y/m5fEvhcf3T9GRXYeekHoP3Z5XCXJGe0/Iehdp+E33D/Gee6rKInoP5aLiHIAx+A/rkb+MVY86j8TBt9pCuzgPxBDdWroROM/WAljs6Da6z/5psodzi/iP98IkaMLBuc/DOpCMlxN4z8a/V1dqE7nPxhaRmnw2ec/NsF4K/sc4j+byUeerbLiP9Bf0a/DSOg/UQ9OXHM75j8=",
        "encoding": "base64",
        "path": [
         "_data",
         0,
         "x",
         "value"
        ]
       },
       {
        "data": "AAAAAACAvz///////3/nP+NZRvQB1dE/AAAAAAAA5z/Cbn4LAaPkPxVQARVQAdU/6VCD3ZmM5j+KU7/nljjVP7IVQcNJ3dc/9onqQSPv3D/6j++FCMTMP1HrVwrU+uU/mJIpmZIp2T9e3MVd3MXdP+iiiy666OI/v9wQA9Kx5D8OePzhgMffP4v2m/JcAtk/GHqhF3qh5z/sPtwCCqPaPzP8l0DotdM/MwTraPM+5T8z/iMwPTjLP1VVVVVVVeU/1YGPuYn2zT9IgzRIgzToP3mFV3iFV9g/MQpR/UjY0T+yH/uxH/vhP0Qn7YNkQN0/eXh4eHh46D+/TTFq+NvkP0dY7mmE5c4/nYM1S4xP6T/A/HWW+hnQP0UXXXTRRdc/Ce0ltJfQ4j8=",
        "encoding": "base64",
        "path": [
         "_data",
         0,
         "y",
         "value"
        ]
       },
       {
        "data": "8KfGSzfJN8ApXI/C9Wg2wA==",
        "encoding": "base64",
        "path": [
         "_data",
         1,
         "marker",
         "color",
         "value"
        ]
       },
       {
        "data": "T0KGcHbH7j86EYT0pwfwPw==",
        "encoding": "base64",
        "path": [
         "_data",
         1,
         "x",
         "value"
        ]
       },
       {
        "data": "mPMp6AFctz9Gt/CrMZGOPw==",
        "encoding": "base64",
        "path": [
         "_data",
         1,
         "y",
         "value"
        ]
       },
       {
        "data": "i2zn+6lROMDdJAaBlaM2wA==",
        "encoding": "base64",
        "path": [
         "_data",
         2,
         "marker",
         "color",
         "value"
        ]
       },
       {
        "data": "5AmIzlf36D9emZpSNBjuPw==",
        "encoding": "base64",
        "path": [
         "_data",
         2,
         "x",
         "value"
        ]
       },
       {
        "data": "rLid02c/4D8e8DVNqh7gPw==",
        "encoding": "base64",
        "path": [
         "_data",
         2,
         "y",
         "value"
        ]
       },
       {
        "data": "30+Nl25SOMDP91Pjpbs3wGiR7Xw/NTfAuB6F61H4N8A3iUFg5XA4wOXQItv5njfA/Knx0k2COMD0/dR46aY5wJ7vp8ZL1znAObTIdr5/N8CcxCCwcog3wA==",
        "encoding": "base64",
        "path": [
         "_data",
         3,
         "marker",
         "color",
         "value"
        ]
       },
       {
        "data": "+k0Z2ieF6z9n8Jvo6dzuP83MzMzMzOw/iSoyRzZm7j9XXkDVXgfpPx8Fm/+4E+4/kvh/CifL6j8B6oqXvM3kP0+KscuHWuQ/SHgHzFPJ7z8RvCr8pHPiPw==",
        "encoding": "base64",
        "path": [
         "_data",
         3,
         "x",
         "value"
        ]
       },
       {
        "data": "Ju+ND7gs4T8UO7ETO7HTP6jeOcE/89g/M8lF7VnLuT/UM5XrjhfbPyguGYJ1tMk/23eiGVIR2j8dz6mkgITfP/SuxWgy79o//P//////zD+BMYmD963hPw==",
        "encoding": "base64",
        "path": [
         "_data",
         3,
         "y",
         "value"
        ]
       }
      ],
      "model_module": "jupyterlab-plotly",
      "model_module_version": "^5.1.0",
      "model_name": "FigureModel",
      "state": {
       "_config": {
        "plotlyServerURL": "https://plot.ly"
       },
       "_data": [
        {
         "marker": {
          "color": {
           "dtype": "float64",
           "shape": [
            37
           ]
          },
          "coloraxis": "coloraxis",
          "line": {
           "color": "Black",
           "width": 1
          },
          "size": [
           1,
           1,
           1,
           1,
           1,
           1,
           1,
           1,
           1,
           1,
           1,
           1,
           1,
           1,
           1,
           1,
           1,
           1,
           1,
           1,
           1,
           1,
           1,
           1,
           1,
           1,
           1,
           1,
           1,
           1,
           1,
           1,
           1,
           1,
           1,
           1,
           1
          ],
          "sizemin": 4,
          "sizeref": 0.08333333333333326,
          "symbol": "circle"
         },
         "mode": "markers",
         "name": "Mudstone",
         "text": [
          "KC-2-1<br>: 1.00<br>δ<sup>13</sup>C<sub>org</sub> (‰): -25.43",
          "KC-2-2<br>: 1.00<br>δ<sup>13</sup>C<sub>org</sub> (‰): -26.57",
          "KC-2-2.5<br>: 1.00<br>δ<sup>13</sup>C<sub>org</sub> (‰): -23.49",
          "KC-2-3<br>: 1.00<br>δ<sup>13</sup>C<sub>org</sub> (‰): -24.73",
          "KC-2-3.5<br>: 1.00<br>δ<sup>13</sup>C<sub>org</sub> (‰): -24.70",
          "KC-2-4.5<br>: 1.00<br>δ<sup>13</sup>C<sub>org</sub> (‰): -24.64",
          "KC-2-5<br>: 1.00<br>δ<sup>13</sup>C<sub>org</sub> (‰): -25.04",
          "KC-2-6<br>: 1.00<br>δ<sup>13</sup>C<sub>org</sub> (‰): -23.42",
          "KC-2-6.5<br>: 1.00<br>δ<sup>13</sup>C<sub>org</sub> (‰): -25.82",
          "KC-2-7<br>: 1.00<br>δ<sup>13</sup>C<sub>org</sub> (‰): -24.13",
          "KC-2-8<br>: 1.00<br>δ<sup>13</sup>C<sub>org</sub> (‰): -24.30",
          "KC-2-9<br>: 1.00<br>δ<sup>13</sup>C<sub>org</sub> (‰): -25.85",
          "KC-2-10<br>: 1.00<br>δ<sup>13</sup>C<sub>org</sub> (‰): -24.18",
          "KC-2-11<br>: 1.00<br>δ<sup>13</sup>C<sub>org</sub> (‰): -23.81",
          "KC-2-12<br>: 1.00<br>δ<sup>13</sup>C<sub>org</sub> (‰): -25.44",
          "KC-2-13<br>: 1.00<br>δ<sup>13</sup>C<sub>org</sub> (‰): -25.48",
          "KC-2-14<br>: 1.00<br>δ<sup>13</sup>C<sub>org</sub> (‰): -25.79",
          "KC-2-14.5<br>: 1.00<br>δ<sup>13</sup>C<sub>org</sub> (‰): -23.89",
          "KC-2-15<br>: 1.00<br>δ<sup>13</sup>C<sub>org</sub> (‰): -25.91",
          "KC-2-15.5<br>: 1.00<br>δ<sup>13</sup>C<sub>org</sub> (‰): -25.17",
          "KC-2-16<br>: 1.00<br>δ<sup>13</sup>C<sub>org</sub> (‰): -24.75",
          "KC-2-17<br>: 1.00<br>δ<sup>13</sup>C<sub>org</sub> (‰): -26.40",
          "KC-2-18<br>: 1.00<br>δ<sup>13</sup>C<sub>org</sub> (‰): -25.08",
          "KC-2-19<br>: 1.00<br>δ<sup>13</sup>C<sub>org</sub> (‰): -25.83",
          "KC-2-20<br>: 1.00<br>δ<sup>13</sup>C<sub>org</sub> (‰): -26.33",
          "KC-2-21<br>: 1.00<br>δ<sup>13</sup>C<sub>org</sub> (‰): -26.79",
          "KC-2-21.5<br>: 1.00<br>δ<sup>13</sup>C<sub>org</sub> (‰): -24.65",
          "KC-2-22<br>: 1.00<br>δ<sup>13</sup>C<sub>org</sub> (‰): -23.49",
          "KC-2-23<br>: 1.00<br>δ<sup>13</sup>C<sub>org</sub> (‰): -25.05",
          "KC-2-24<br>: 1.00<br>δ<sup>13</sup>C<sub>org</sub> (‰): -23.76",
          "KC-2-25<br>: 1.00<br>δ<sup>13</sup>C<sub>org</sub> (‰): -25.11",
          "KC-2-25.5<br>: 1.00<br>δ<sup>13</sup>C<sub>org</sub> (‰): -22.80",
          "KC-2-26<br>: 1.00<br>δ<sup>13</sup>C<sub>org</sub> (‰): -23.10",
          "KC-2-26.5<br>: 1.00<br>δ<sup>13</sup>C<sub>org</sub> (‰): -24.85",
          "KC-2-27<br>: 1.00<br>δ<sup>13</sup>C<sub>org</sub> (‰): -24.92",
          "KC-2-28<br>: 1.00<br>δ<sup>13</sup>C<sub>org</sub> (‰): -24.69",
          "KC-2-29<br>: 1.00<br>δ<sup>13</sup>C<sub>org</sub> (‰): -24.96"
         ],
         "type": "scatter",
         "uid": "304a4c64-0398-4cbe-a144-a76e5588c108",
         "x": {
          "dtype": "float64",
          "shape": [
           37
          ]
         },
         "y": {
          "dtype": "float64",
          "shape": [
           37
          ]
         }
        },
        {
         "marker": {
          "color": {
           "dtype": "float64",
           "shape": [
            2
           ]
          },
          "coloraxis": "coloraxis",
          "line": {
           "color": "Black",
           "width": 1
          },
          "size": [
           1,
           1
          ],
          "sizemin": 4,
          "sizeref": 0.08333333333333326,
          "symbol": "star"
         },
         "mode": "markers",
         "name": "Carbonate",
         "text": [
          "KC-2-0<br>: 1.00<br>δ<sup>13</sup>C<sub>org</sub> (‰): -23.79",
          "KC-2-30<br>: 1.00<br>δ<sup>13</sup>C<sub>org</sub> (‰): -22.41"
         ],
         "type": "scatter",
         "uid": "37b9328a-e957-4112-9075-1334da8479d8",
         "x": {
          "dtype": "float64",
          "shape": [
           2
          ]
         },
         "y": {
          "dtype": "float64",
          "shape": [
           2
          ]
         }
        },
        {
         "marker": {
          "color": {
           "dtype": "float64",
           "shape": [
            2
           ]
          },
          "coloraxis": "coloraxis",
          "line": {
           "color": "Black",
           "width": 1
          },
          "size": [
           1,
           1
          ],
          "sizemin": 4,
          "sizeref": 0.08333333333333326,
          "symbol": "square"
         },
         "mode": "markers",
         "name": "Pervasively pyritised regions",
         "text": [
          "KC-2-6p<br>: 1.00<br>δ<sup>13</sup>C<sub>org</sub> (‰): -24.32",
          "KC-2-22p<br>: 1.00<br>δ<sup>13</sup>C<sub>org</sub> (‰): -22.64"
         ],
         "type": "scatter",
         "uid": "fefb7dd6-2fe6-41a4-a676-4824732441b6",
         "x": {
          "dtype": "float64",
          "shape": [
           2
          ]
         },
         "y": {
          "dtype": "float64",
          "shape": [
           2
          ]
         }
        },
        {
         "marker": {
          "color": {
           "dtype": "float64",
           "shape": [
            11
           ]
          },
          "coloraxis": "coloraxis",
          "line": {
           "color": "Black",
           "width": 1
          },
          "size": [
           1,
           1,
           1,
           1,
           1,
           1,
           1,
           1,
           1,
           1,
           1
          ],
          "sizemin": 4,
          "sizeref": 0.08333333333333326,
          "symbol": "diamond"
         },
         "mode": "markers",
         "name": "Bed 22",
         "text": [
          "KC-3-A<br>: 1.00<br>δ<sup>13</sup>C<sub>org</sub> (‰): -24.32",
          "KC-3-B<br>: 1.00<br>δ<sup>13</sup>C<sub>org</sub> (‰): -23.73",
          "KC-3-C<br>: 1.00<br>δ<sup>13</sup>C<sub>org</sub> (‰): -23.21",
          "KC-3-D<br>: 1.00<br>δ<sup>13</sup>C<sub>org</sub> (‰): -23.97",
          "KC-3-E<br>: 1.00<br>δ<sup>13</sup>C<sub>org</sub> (‰): -24.44",
          "KC-3-F<br>: 1.00<br>δ<sup>13</sup>C<sub>org</sub> (‰): -23.62",
          "KC-3-G<br>: 1.00<br>δ<sup>13</sup>C<sub>org</sub> (‰): -24.51",
          "KC-3-H<br>: 1.00<br>δ<sup>13</sup>C<sub>org</sub> (‰): -25.65",
          "KC-3-I<br>: 1.00<br>δ<sup>13</sup>C<sub>org</sub> (‰): -25.84",
          "KC-3-J<br>: 1.00<br>δ<sup>13</sup>C<sub>org</sub> (‰): -23.50",
          "KC-3-K<br>: 1.00<br>δ<sup>13</sup>C<sub>org</sub> (‰): -23.53"
         ],
         "type": "scatter",
         "uid": "28fa5960-05b4-42bc-b676-910e9d000ca2",
         "x": {
          "dtype": "float64",
          "shape": [
           11
          ]
         },
         "y": {
          "dtype": "float64",
          "shape": [
           11
          ]
         }
        }
       ],
       "_js2py_pointsCallback": {},
       "_js2py_relayout": {},
       "_js2py_restyle": {},
       "_js2py_update": {},
       "_last_layout_edit_id": 15,
       "_last_trace_edit_id": 10,
       "_layout": {
        "coloraxis": {
         "colorbar": {
          "ticks": "outside",
          "title": {
           "text": "δ<sup>13</sup>C<sub>org</sub> (‰)"
          }
         },
         "colorscale": [
          [
           0,
           "#fde725"
          ],
          [
           0.1111111111111111,
           "#b5de2b"
          ],
          [
           0.2222222222222222,
           "#6ece58"
          ],
          [
           0.3333333333333333,
           "#35b779"
          ],
          [
           0.4444444444444444,
           "#1f9e89"
          ],
          [
           0.5555555555555556,
           "#26828e"
          ],
          [
           0.6666666666666666,
           "#31688e"
          ],
          [
           0.7777777777777778,
           "#3e4989"
          ],
          [
           0.8888888888888888,
           "#482878"
          ],
          [
           1,
           "#440154"
          ]
         ]
        },
        "height": 700,
        "legend": {
         "itemsizing": "constant",
         "orientation": "h",
         "x": 0,
         "xanchor": "left",
         "y": 1.01,
         "yanchor": "bottom"
        },
        "shapes": [
         {
          "line": {
           "width": 0.5
          },
          "name": "Diagonal",
          "type": "line",
          "visible": false,
          "x0": -100,
          "x1": 100,
          "y0": -100,
          "y1": 100
         },
         {
          "line": {
           "dash": "dash",
           "width": 1
          },
          "type": "line",
          "x0": 0,
          "x1": 1,
          "xref": "x domain",
          "y0": 0.8,
          "y1": 0.8,
          "yref": "y"
         },
         {
          "line": {
           "dash": "dash",
           "width": 1
          },
          "type": "line",
          "x0": 0.38,
          "x1": 0.38,
          "xref": "x",
          "y0": 0,
          "y1": 1,
          "yref": "y domain"
         }
        ],
        "template": {
         "layout": {
          "bargap": 0.05,
          "bargroupgap": 0,
          "font": {
           "color": "black",
           "family": "Arial",
           "size": 16
          },
          "height": 700,
          "hovermode": "closest",
          "margin": {
           "b": 60,
           "l": 60,
           "r": 30,
           "t": 30
          },
          "scene": {
           "xaxis": {
            "color": "black",
            "linewidth": 2,
            "showline": true,
            "ticks": "outside"
           },
           "yaxis": {
            "color": "black",
            "linewidth": 2,
            "showline": true,
            "ticks": "outside"
           },
           "zaxis": {
            "color": "black",
            "linewidth": 2,
            "showline": true,
            "ticks": "outside"
           }
          },
          "xaxis": {
           "color": "black",
           "linewidth": 1.3,
           "mirror": true,
           "showgrid": true,
           "showline": true,
           "ticks": "outside",
           "zeroline": true
          },
          "yaxis": {
           "color": "black",
           "linewidth": 1.3,
           "mirror": true,
           "showgrid": true,
           "showline": true,
           "ticks": "outside",
           "zeroline": true
          }
         }
        },
        "width": 740,
        "xaxis": {
         "range": [
          0,
          1
         ],
         "rangemode": "normal",
         "title": {
          "text": "[Fe<sub>HR</sub>]/[Fe<sub>tot</sub>]"
         }
        },
        "yaxis": {
         "range": [
          0,
          1
         ],
         "rangemode": "tozero",
         "title": {
          "text": "[Fe<sub>py</sub>]/[Fe<sub>HR</sub>]"
         }
        }
       },
       "_py2js_animate": {},
       "_py2js_deleteTraces": {},
       "_py2js_moveTraces": {},
       "_py2js_removeLayoutProps": {},
       "_py2js_restyle": {},
       "_view_count": 1
      }
     },
     "856b796769f24beda39fac9e7e7586ed": {
      "model_module": "@jupyter-widgets/base",
      "model_module_version": "1.2.0",
      "model_name": "LayoutModel",
      "state": {}
     },
     "882d1c5aa13c4a2693e530dd2cc61b99": {
      "model_module": "@jupyter-widgets/controls",
      "model_module_version": "1.5.0",
      "model_name": "VBoxModel",
      "state": {
       "_dom_classes": [
        "widget-interact"
       ],
       "children": [
        "IPY_MODEL_ed21c805549d4b5ca988f77a82bf0e5a",
        "IPY_MODEL_dcd4fedc4ab044538ec7ba6ed7e290ee",
        "IPY_MODEL_8b5b3e3deb0449ada68495dacc4eee88",
        "IPY_MODEL_a636fe5f76c14791a0f0495a8c2146f2",
        "IPY_MODEL_d4cac167b8134b52a90444f82bebc5ec",
        "IPY_MODEL_3650cea8608e4b19bd130d36767cb7ab",
        "IPY_MODEL_e7ea9c86a6fe4491b844ddc83a8db698"
       ],
       "layout": "IPY_MODEL_daef218a2ccf4ef1a059f52b0cdb670a"
      }
     },
     "8b5b3e3deb0449ada68495dacc4eee88": {
      "model_module": "@jupyter-widgets/controls",
      "model_module_version": "1.5.0",
      "model_name": "DropdownModel",
      "state": {
       "_options_labels": [
        "HR_to_tot",
        "py_to_HR",
        "py_to_tot",
        "Fe_py",
        "Fe_ox",
        "Fe_mag",
        "Fe_carb",
        "Fe_UR",
        "Fe_HR",
        "Fe_tot",
        "d34S",
        "TOC",
        "TN",
        "d13Corg",
        "H2S_decay",
        "fossil_index",
        "py_index",
        "phi",
        "biodiversity",
        "Constant",
        "height"
       ],
       "description": "colour",
       "index": 20,
       "layout": "IPY_MODEL_4cf3dddc84d74ebb8b62189a4c13e5a1",
       "style": "IPY_MODEL_388376ef3ef14c2a8a95b49597e48713"
      }
     },
     "96c662a2d0a74b9c9efb809ae0a85d10": {
      "model_module": "@jupyter-widgets/output",
      "model_module_version": "1.0.0",
      "model_name": "OutputModel",
      "state": {
       "layout": "IPY_MODEL_6f0fc3042cc74cc6939b6fd081f39d18"
      }
     },
     "a636fe5f76c14791a0f0495a8c2146f2": {
      "model_module": "@jupyter-widgets/controls",
      "model_module_version": "1.5.0",
      "model_name": "DropdownModel",
      "state": {
       "_options_labels": [
        "HR_to_tot",
        "py_to_HR",
        "py_to_tot",
        "Fe_py",
        "Fe_ox",
        "Fe_mag",
        "Fe_carb",
        "Fe_UR",
        "Fe_HR",
        "Fe_tot",
        "TOC",
        "TN",
        "d13Corg",
        "H2S_decay",
        "fossil_index",
        "py_index",
        "phi",
        "biodiversity",
        "Constant",
        "height"
       ],
       "description": "size",
       "index": 18,
       "layout": "IPY_MODEL_0e929345ed484f4599c8bff88123404c",
       "style": "IPY_MODEL_02cd923a47184481beca93efc69a1d6e"
      }
     },
     "aa4b7feee51641de8aaf912c4d0c8b6b": {
      "model_module": "@jupyter-widgets/controls",
      "model_module_version": "1.5.0",
      "model_name": "DescriptionStyleModel",
      "state": {
       "description_width": ""
      }
     },
     "b0badef2a15646678568f72dcb0df65e": {
      "model_module": "@jupyter-widgets/controls",
      "model_module_version": "1.5.0",
      "model_name": "CheckboxModel",
      "state": {
       "description": "plot_errors",
       "disabled": false,
       "layout": "IPY_MODEL_410bcf2db65a4170aaf21172a387e61c",
       "style": "IPY_MODEL_72a1c5ae88c246ddb694010fd82d1e0c",
       "value": false
      }
     },
     "b57abcb0bfe3427787ec644fa032d4ca": {
      "model_module": "@jupyter-widgets/base",
      "model_module_version": "1.2.0",
      "model_name": "LayoutModel",
      "state": {}
     },
     "c299ab202ff84087998d1aef67bb31ae": {
      "model_module": "@jupyter-widgets/controls",
      "model_module_version": "1.5.0",
      "model_name": "DropdownModel",
      "state": {
       "_options_labels": [
        "HR_to_tot",
        "py_to_HR",
        "py_to_tot",
        "Fe_py",
        "Fe_ox",
        "Fe_mag",
        "Fe_carb",
        "Fe_UR",
        "Fe_HR",
        "Fe_tot",
        "d34S",
        "TOC",
        "TN",
        "d13Corg",
        "H2S_decay",
        "fossil_index",
        "py_index",
        "phi",
        "biodiversity",
        "Constant",
        "height"
       ],
       "description": "colour",
       "index": 13,
       "layout": "IPY_MODEL_b57abcb0bfe3427787ec644fa032d4ca",
       "style": "IPY_MODEL_70d659a35fb44313b4654def6e53a9d8"
      }
     },
     "d4cac167b8134b52a90444f82bebc5ec": {
      "model_module": "@jupyter-widgets/controls",
      "model_module_version": "1.5.0",
      "model_name": "CheckboxModel",
      "state": {
       "description": "diagonal",
       "disabled": false,
       "layout": "IPY_MODEL_16eba95861d146bd8d401a48f2a2b8ac",
       "style": "IPY_MODEL_7754594b49404ed79cc0d6053f824bc2",
       "value": false
      }
     },
     "daef218a2ccf4ef1a059f52b0cdb670a": {
      "model_module": "@jupyter-widgets/base",
      "model_module_version": "1.2.0",
      "model_name": "LayoutModel",
      "state": {}
     },
     "dcd4fedc4ab044538ec7ba6ed7e290ee": {
      "model_module": "@jupyter-widgets/controls",
      "model_module_version": "1.5.0",
      "model_name": "DropdownModel",
      "state": {
       "_options_labels": [
        "HR_to_tot",
        "py_to_HR",
        "py_to_tot",
        "Fe_py",
        "Fe_ox",
        "Fe_mag",
        "Fe_carb",
        "Fe_UR",
        "Fe_HR",
        "Fe_tot",
        "d34S",
        "TOC",
        "TN",
        "d13Corg",
        "H2S_decay",
        "fossil_index",
        "py_index",
        "phi",
        "biodiversity",
        "Constant",
        "height"
       ],
       "description": "y",
       "index": 10,
       "layout": "IPY_MODEL_31f028dc344c49caa2d3a882767704dd",
       "style": "IPY_MODEL_4dc2e3471bae4f2e82ba91ab90b41731"
      }
     },
     "dec4ae8ab1d445dfb4b32bc05260f175": {
      "model_module": "@jupyter-widgets/base",
      "model_module_version": "1.2.0",
      "model_name": "LayoutModel",
      "state": {}
     },
     "e005c9df4cb6437592fbc8b76acf3f36": {
      "model_module": "@jupyter-widgets/controls",
      "model_module_version": "1.5.0",
      "model_name": "DescriptionStyleModel",
      "state": {
       "description_width": ""
      }
     },
     "e7ea9c86a6fe4491b844ddc83a8db698": {
      "model_module": "@jupyter-widgets/output",
      "model_module_version": "1.0.0",
      "model_name": "OutputModel",
      "state": {
       "layout": "IPY_MODEL_dec4ae8ab1d445dfb4b32bc05260f175"
      }
     },
     "ed21c805549d4b5ca988f77a82bf0e5a": {
      "model_module": "@jupyter-widgets/controls",
      "model_module_version": "1.5.0",
      "model_name": "DropdownModel",
      "state": {
       "_options_labels": [
        "HR_to_tot",
        "py_to_HR",
        "py_to_tot",
        "Fe_py",
        "Fe_ox",
        "Fe_mag",
        "Fe_carb",
        "Fe_UR",
        "Fe_HR",
        "Fe_tot",
        "d34S",
        "TOC",
        "TN",
        "d13Corg",
        "H2S_decay",
        "fossil_index",
        "py_index",
        "phi",
        "biodiversity",
        "Constant",
        "height"
       ],
       "description": "x",
       "index": 12,
       "layout": "IPY_MODEL_856b796769f24beda39fac9e7e7586ed",
       "style": "IPY_MODEL_aa4b7feee51641de8aaf912c4d0c8b6b"
      }
     }
    },
    "version_major": 2,
    "version_minor": 0
   }
  }
 },
 "nbformat": 4,
 "nbformat_minor": 4
}
