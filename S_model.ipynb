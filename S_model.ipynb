{
 "cells": [
  {
   "cell_type": "markdown",
   "metadata": {},
   "source": [
    "# Sulphur Isotope Model"
   ]
  },
  {
   "cell_type": "markdown",
   "metadata": {
    "tags": []
   },
   "source": [
    "## General definitions"
   ]
  },
  {
   "cell_type": "code",
   "execution_count": 1,
   "metadata": {},
   "outputs": [],
   "source": [
    "import numpy as np\n",
    "import pandas as pd\n",
    "import ipywidgets as wdg\n",
    "from plotly_default import go, graph_config, sel_trace\n",
    "from plotly.subplots import make_subplots\n",
    "from scipy.integrate import solve_bvp\n",
    "import random\n",
    "# import plotly.io as pio"
   ]
  },
  {
   "cell_type": "code",
   "execution_count": 2,
   "metadata": {},
   "outputs": [],
   "source": [
    "# Conversion between isotope ratios and delta notation\n",
    "\n",
    "VCDT = 0.0441626 # vienna canyon diablo troilite standard 34S/32S ratio\n",
    "\n",
    "def delta_to_R(delta, std=VCDT):\n",
    "    '''Takes in a d34S; outputs a 34S/32S ratio'''\n",
    "    return std * ((delta/1000) + 1)\n",
    "\n",
    "def R_to_delta(R, std=VCDT):\n",
    "    '''Takes in a 34S/32S ratio; outputs the d34S'''\n",
    "    return 1000*((R/std) - 1)\n",
    "\n",
    "def wt_to_M(wt, Mr=55.845, density=1.7):\n",
    "    '''Converts a weight percent of a substance with molar mass Mr (default iron) into a molar concentration\n",
    "    in a sediment of specified density (default 1.7 g/cm³)'''\n",
    "    # g/dm³  = 1000 * g/cm³ = 1000 * density * wt% / 100 = 10 * density * wt%\n",
    "    return 10. * density * wt / Mr\n",
    "\n",
    "def M_to_wt(M, Mr=55.845, density=1.7):\n",
    "    return M * Mr / (10. * density)\n",
    "\n",
    "def ratio_to_concs(R, C):\n",
    "    '''Takes a ratio of two concentrations R = a/b\n",
    "    and a total concentration C = a + b\n",
    "    and returns an (a, b) tuple'''\n",
    "    return (C/(1 + 1/R) , C/(1+R))\n",
    "\n",
    "# The number of seconds in 1 thousand years\n",
    "s_in_ka = 1000 * 365.24 * 24 * 60 * 60"
   ]
  },
  {
   "cell_type": "code",
   "execution_count": 3,
   "metadata": {
    "tags": []
   },
   "outputs": [],
   "source": [
    "# Read in real data\n",
    "log_df=pd.read_csv('./Data/Log_data_combined.csv', index_col=0)\n",
    "\n",
    "cat_symbols = {'Mudstone': 'circle',\n",
    "               'Carbonate': 'star',\n",
    "               'Pervasively pyritised regions': 'square',\n",
    "               'Bed 22': 'diamond'}\n",
    "categories = list(cat_symbols.keys())\n",
    "\n",
    "# log_df"
   ]
  },
  {
   "cell_type": "code",
   "execution_count": 4,
   "metadata": {
    "tags": []
   },
   "outputs": [],
   "source": [
    "# Set up widgets\n",
    "w_df = pd.read_csv('./Data/GDE_parameters_v2.csv')\n",
    "\n",
    "\n",
    "def create_sliders(w_df, prefix='w'):\n",
    "    w_dict = {}\n",
    "\n",
    "    for w in w_df.iterrows():\n",
    "\n",
    "        # Make a new variable for each widget\n",
    "        vars()[prefix+'_'+w[1].var_name] = wdg.FloatSlider(value = w[1].value,\n",
    "                                                     min = w[1].start,\n",
    "                                                     max = w[1].stop,\n",
    "                                                     step = w[1].step,\n",
    "                                                     description = w[1].display_name,\n",
    "                                                     layout=wdg.Layout(width='100%')\n",
    "                                                    )\n",
    "\n",
    "        # Add to a dictionary of original variables and widgets\n",
    "        w_dict[w[1].var_name] = vars()[prefix+'_'+w[1].var_name]\n",
    "    \n",
    "    return w_dict"
   ]
  },
  {
   "cell_type": "markdown",
   "metadata": {},
   "source": [
    "## Solving the steady-state General Diagenetic Equation\n",
    "\n",
    "$y$  | represents   | <div style=\"width:100px\">value at $z=0$</div> | <div style=\"width:100px\"> value at $z=z_\\mathrm{max}$</div>\n",
    "-----|--------------------------------------------------|--------------------------|-----------------------------\n",
    "$y_0$|$[\\mathrm{^{34}SO_4}]$                            |$[\\mathrm{^{34}SO_4}]_0$  |?? $(\\approx 0)$\n",
    "$y_1$|$\\frac{\\partial[\\mathrm{^{34}SO_4}]}{\\partial z}$ |??                        |$0$\n",
    "$y_2$|$[\\mathrm{^{32}SO_4}]$                            |$[\\mathrm{^{32}SO_4}]_0$  |?? $(\\approx 0)$\n",
    "$y_3$|$\\frac{\\partial[\\mathrm{^{32}SO_4}]}{\\partial z}$ |??                        |$0$\n",
    "$y_4$|$[\\mathrm{Fe^{34}S_2}]$                           |$[\\mathrm{Fe^{34}S_2}]_0$ |??\n",
    "$y_5$|$[\\mathrm{Fe^{32}S_2}]$                           |$[\\mathrm{Fe^{32}S_2}]_0$ |??\n",
    "\n",
    "$$\\frac{\\partial y_0}{\\partial z} = y_1$$\n",
    "\n",
    "$$\\frac{\\partial y_1}{\\partial z} = \\left( vy_1 + \\frac{k_\\mathrm{MSR}\\left(y_0 y_2 + y_0^2\\right)}{\\frac{y_2}{\\alpha} + y_0} \\right)/D_{34}$$\n",
    "\n",
    "$$\\frac{\\partial y_2}{\\partial z} = y_3$$\n",
    "\n",
    "$$\\frac{\\partial y_3}{\\partial z} = \\left( vy_3 + \\frac{k_\\mathrm{MSR}\\left(y_2^2 + y_0 y_2\\right)}{\\alpha y_0 + y_2} \\right)/D_{32}$$\n",
    "\n",
    "$$\\frac{\\partial y_4}{\\partial z} = \\frac{k_\\mathrm{MSR}\\left(y_0 y_2 + y_0^2\\right)}{2v\\left(\\frac{y_2}{\\alpha} + y_0\\right)}$$\n",
    "\n",
    "$$\\frac{\\partial y_5}{\\partial z} = \\frac{k_\\mathrm{MSR}\\left(y_2^2 + y_0 y_2\\right)}{2v\\left(\\alpha y_0 + y_2\\right)}$$"
   ]
  },
  {
   "cell_type": "code",
   "execution_count": 5,
   "metadata": {},
   "outputs": [],
   "source": [
    "def solve_GDE(zs, SO4_0, py_0, d34S_SO4_0, epsilon_MSR, k_MSR, beta, D_32, v):\n",
    "    '''Solves the system of general diagenetic equations listed above,\n",
    "    for the array of depths in zs, and returns a 2D array of y values\n",
    "    (rows for each yi; cols are values of yi for each z)'''\n",
    "    \n",
    "    R_SO4_0 = delta_to_R(d34S_SO4_0) \n",
    "    a_MSR = delta_to_R(d34S_SO4_0 - epsilon_MSR)/R_SO4_0 # MSR fractionation factor    \n",
    "    R_py_0 = delta_to_R(d34S_SO4_0)*a_MSR # add ability to tweak in future?\n",
    "    \n",
    "    # weight-dependent diffusion coefficients (Wortmann & Chernyavsky, 2011)\n",
    "    D_34 = D_32 * (98/96)**(-beta)\n",
    "    \n",
    "    SO4_34_0 , SO4_32_0 = ratio_to_concs(R_SO4_0, SO4_0)\n",
    "    py_34_0  , py_32_0  = ratio_to_concs(R_py_0, py_0)\n",
    "    \n",
    "    # Define the ODEs and boundary conditions for the chosen parameters\n",
    "    def SS_ODEs(x,y):\n",
    "        '''The right-hand side of the steady state general diagenetic equations'''\n",
    "        return np.vstack([\n",
    "            y[1,:], # = dy[0,:]/dz\n",
    "            (v*y[1,:] + k_MSR*(y[0,:]*y[2,:] + y[0,:]**2)/((y[2,:]/a_MSR) + y[0,:]))/D_34, # = dy[1,:]/dz\n",
    "            y[3,:], # = dy[2,:]/dz\n",
    "            (v*y[3,:] + k_MSR*(y[2,:]**2 + y[0,:]*y[2,:])/((a_MSR*y[0,:]) + y[2,:]))/D_32, # = dy[3,:]/dz\n",
    "            k_MSR*(y[0,:]*y[2,:] + y[0,:]**2)/(2*v*((y[2,:]/a_MSR) + y[0,:])), # = dy[4,:]/dz\n",
    "            k_MSR*(y[2,:]**2 + y[0,:]*y[2,:])/(2*v*((a_MSR*y[0,:]) + y[2,:])) # = dy[5,:]/dz\n",
    "        ])    \n",
    "    \n",
    "    def SS_bcs(ya, yb):\n",
    "        '''The GDE boundary condition residuals, i.e. all the terms involving ya should be\n",
    "        zero at z=0, and all the terms involving yb should be zero at z=max_z'''\n",
    "        return np.array([\n",
    "            ya[0] - SO4_34_0,\n",
    "            yb[1] - 0,\n",
    "            ya[2] - SO4_32_0,\n",
    "            yb[3] - 0,\n",
    "            ya[4] - py_34_0,\n",
    "            ya[5] - py_32_0\n",
    "        ])\n",
    "    \n",
    "    # Set up initial array of concentrations to iterate the solution from\n",
    "    y0s = np.ones((6,len(zs)))\n",
    "    \n",
    "    # Use SciPy's boundary value problem solver to solve the steady state ODEs\n",
    "    SS_sol = solve_bvp(SS_ODEs, SS_bcs, zs, y0s)\n",
    "    \n",
    "    # Extract the yi from the solution and return it\n",
    "    return SS_sol.y\n",
    "\n",
    "\n",
    "\n",
    "def update_GDE_plot(plot, SO4_0, py_0, d34S_SO4_0, epsilon_MSR, k_MSR, beta, D_32, v, max_z, dz=0.01, plot_time=False):\n",
    "    \n",
    "    with plot.batch_update():\n",
    "\n",
    "        zs = np.arange(0, max_z, dz) # values of z to plot over.\n",
    "\n",
    "        concs = solve_GDE(zs, SO4_0, py_0, d34S_SO4_0, epsilon_MSR, k_MSR, beta, D_32, v)\n",
    "\n",
    "        SO4_34s = concs[0,:]\n",
    "        SO4_32s = concs[2,:]\n",
    "        py_34s  = concs[4,:]\n",
    "        py_32s  = concs[5,:]\n",
    "\n",
    "\n",
    "        # Convert to concentrations and d34S\n",
    "        SO4s = SO4_34s + SO4_32s\n",
    "        pys = py_34s + py_32s\n",
    "\n",
    "        d34S_SO4s = []\n",
    "        d34S_pys = []\n",
    "\n",
    "        isotope_tolerance = 1e-12 # mol/dm^3: if numbers below this point, add none to d34S list\n",
    "        max_SO4_d34S = 100 # don't plot any sulphate isotopes larger than this\n",
    "        # (n.b. this doesn't affect calculations of other quantities)\n",
    "        SO4_d34S_valid = True\n",
    "\n",
    "        for SO4_34, SO4_32, py_34, py_32 in zip(SO4_34s, SO4_32s, py_34s, py_32s):\n",
    "            if (SO4_32 > isotope_tolerance) and SO4_d34S_valid:\n",
    "                d34S_SO4 = R_to_delta(SO4_34/SO4_32)\n",
    "                d34S_SO4s.append(d34S_SO4)\n",
    "                if d34S_SO4 > max_SO4_d34S: # once threshold is exceeded stop plotting d34S_SO4\n",
    "                    SO4_d34S_valid = False\n",
    "            else:\n",
    "                d34S_SO4s.append(None)\n",
    "\n",
    "            if py_32 > isotope_tolerance:\n",
    "                d34S_pys.append(R_to_delta(py_34/py_32))\n",
    "            else:\n",
    "                d34S_pys.append(None)\n",
    "\n",
    "        if plot_time:\n",
    "            zs = zs/v\n",
    "            plot.update_layout(yaxis_title='Time after burial, <i>t</i> / ka')\n",
    "        else:\n",
    "            plot.update_layout(yaxis_title='Depth, <i>z</i> / m')\n",
    "\n",
    "        # Get the traces of the graph we want to modify\n",
    "        traces_list = sel_trace(plot, ['[SO<sub>4</sub>]', '[FeS<sub>2</sub>]', 'δ<sup>34</sup>S<sub>SO4</sub>', 'δ<sup>34</sup>S<sub>py</sub>'])\n",
    "        # Unpack into their own variables\n",
    "        SO4_tr, py_tr, d34S_SO4_tr, d34S_py_tr = traces_list\n",
    "\n",
    "        # Set x coordinates\n",
    "        SO4_tr.x = SO4s\n",
    "        py_tr.x = pys\n",
    "        d34S_SO4_tr.x = d34S_SO4s\n",
    "        d34S_py_tr.x = d34S_pys\n",
    "\n",
    "        # Set y coordinates\n",
    "        for tr in traces_list:\n",
    "            tr.y = zs\n",
    "\n",
    "        # final_py, final_d34S = get_py_d34S(SO4_0, py_0, d34S_SO4_0, epsilon_MSR, k_MSR, beta, D_32, v, dz, max_z)\n",
    "        print('Final [py]: {:.4f}'.format(pys[-1]))\n",
    "        print('Final d34S: {:.4f}'.format(d34S_pys[-1]))"
   ]
  },
  {
   "cell_type": "markdown",
   "metadata": {},
   "source": [
    "#### Parameters\n",
    "\n",
    "Quantity | Name in Code | Value | Unit | Reference\n",
    "----:----|------:-------|------:|:-----|----:-----\n",
    "Sulphate concentration in seawater | `SO4_0` | 0.0105 | mol dm<sup>−3</sup> | Horita *et al.* (2002)\n",
    "Concentration of syn-depositional pyrite in sediment | `py_0` | ?? | mol dm<sup>−3</sup> |\n",
    "Isotopic composition of seawater sulphate | `d34S_SO4_0` | 15 ~ 17 | ‰ | Kampschulte & Strauss (2004)\n",
    "Microbial sulphate reduction fractionation amount at surface |`epsilon_MSR` | 0 ~ 66 | ‰ | Fike *et al.* (2016)\n",
    "Rate constant for sulphate reduction | `k_MSR` | 7 | ka<sup>−1</sup> | Egger *et al.* (2016)\n",
    "Amount of mass dependency for diffusion coefficients | `beta` | 0 ~ 0.05 | (dimensionless) | Wortmann & Chernyavsky (2011)\n",
    "Diffusivity of <sup>32</sup>SO<sub>4</sub> | `D_32` | ≈ 0.126 | m<sup>2 </sup>ka<sup>−1</sup> | Jørgensen (1979)\n",
    "Sedimentation rate | `v` | ≈ 0.08 | m ka<sup>−1</sup> | Gallois (2004)\n",
    "Max depth to run simulation to | `max_z` | (until δ<sup>34</sup>S<sub>py</sub> stabilises)| m |"
   ]
  },
  {
   "cell_type": "code",
   "execution_count": 6,
   "metadata": {},
   "outputs": [
    {
     "data": {
      "application/vnd.jupyter.widget-view+json": {
       "model_id": "69f9fee3aadc43a7b700fa0bd052fc41",
       "version_major": 2,
       "version_minor": 0
      },
      "text/plain": [
       "VBox(children=(HBox(children=(FloatSlider(value=0.0105, description='[SO<sub>4</sub>]<sub>0</sub>', layout=Lay…"
      ]
     },
     "metadata": {},
     "output_type": "display_data"
    },
    {
     "data": {
      "application/vnd.jupyter.widget-view+json": {
       "model_id": "a1b2fcfd711640b09448900500f80f66",
       "version_major": 2,
       "version_minor": 0
      },
      "text/plain": [
       "Output()"
      ]
     },
     "metadata": {},
     "output_type": "display_data"
    },
    {
     "data": {
      "application/vnd.jupyter.widget-view+json": {
       "model_id": "ec89949a34424d9da85a715b60d30758",
       "version_major": 2,
       "version_minor": 0
      },
      "text/plain": [
       "FigureWidget({\n",
       "    'data': [{'marker': {'color': 'RoyalBlue'},\n",
       "              'mode': 'lines',\n",
       "              'n…"
      ]
     },
     "metadata": {},
     "output_type": "display_data"
    }
   ],
   "source": [
    "GDE_plot = go.FigureWidget(make_subplots(rows=1, cols=2, shared_yaxes=True, horizontal_spacing=0.01))\n",
    "GDE_plot.add_trace(go.Scatter(name='[SO<sub>4</sub>]', marker_color='RoyalBlue', mode='lines'), row=1, col=1)\n",
    "GDE_plot.add_trace(go.Scatter(name='[FeS<sub>2</sub>]', marker_color='MediumSeaGreen', mode='lines'), row=1, col=1)\n",
    "GDE_plot.add_trace(go.Scatter(name='δ<sup>34</sup>S<sub>SO4</sub>', marker_color='Navy', mode='lines'), row=1, col=2)\n",
    "GDE_plot.add_trace(go.Scatter(name='δ<sup>34</sup>S<sub>py</sub>', marker_color='DarkGreen', mode='lines'), row=1, col=2)\n",
    "\n",
    "GDE_plot.update_layout(\n",
    "    yaxis=dict(autorange='reversed', rangemode='tozero', title='Depth, <i>z</i> / m'),\n",
    "    hovermode='y',\n",
    "    margin=dict(t=60),\n",
    "    width=1000, height=600\n",
    "    )\n",
    "\n",
    "GDE_plot.update_xaxes(title_text='Concentration / mol dm<sup>−3</sup>', row=1, col=1)\n",
    "GDE_plot.update_xaxes(title_text='δ<sup>34</sup>S (‰)', row=1, col=2)\n",
    "\n",
    "# create widgets\n",
    "w_d = create_sliders(w_df, prefix='w')\n",
    "\n",
    "w_plot_time = wdg.Checkbox(value=False, description='Plot time on y axis')\n",
    "\n",
    "# set up widget layout\n",
    "GDE_ui = wdg.VBox([wdg.HBox([w_d['SO4_0'], w_d['d34S_SO4_0']]),\n",
    "                   wdg.HBox([w_d['py_0'], w_d['v']]),\n",
    "                   wdg.HBox([w_d['epsilon_MSR'], w_d['k_MSR']]),\n",
    "                   wdg.HBox([w_d['D_32'], w_d['beta']]),\n",
    "                   wdg.HBox([w_d['max_z'], w_d['dz']]),\n",
    "                   w_plot_time\n",
    "                  ])\n",
    "\n",
    "GDE_args = {**w_d, \n",
    "            'plot': wdg.fixed(GDE_plot),\n",
    "            'plot_time': w_plot_time}\n",
    "\n",
    "GDE_output = wdg.interactive_output(update_GDE_plot, GDE_args)\n",
    "\n",
    "display(GDE_ui, GDE_output)\n",
    "\n",
    "GDE_plot"
   ]
  },
  {
   "cell_type": "code",
   "execution_count": 7,
   "metadata": {},
   "outputs": [],
   "source": [
    "# GDE_plot.update_xaxes(row=1, col=1, range=[0,0.3])"
   ]
  },
  {
   "cell_type": "code",
   "execution_count": 8,
   "metadata": {
    "tags": []
   },
   "outputs": [],
   "source": [
    "#GDE_plot.write_image('./images/GDE_example.svg')"
   ]
  },
  {
   "cell_type": "code",
   "execution_count": 9,
   "metadata": {
    "tags": []
   },
   "outputs": [],
   "source": [
    "def get_py_d34S(SO4_0, py_0, d34S_SO4_0, epsilon_MSR, k_MSR, beta, D_32, v, dz, max_z):\n",
    "    '''Returns the final pyrite concentration and its d34S given the appropriate initial conditions'''\n",
    "    \n",
    "    zs = np.arange(0, max_z, dz) # values of z to plot over.\n",
    "    \n",
    "    concs = solve_GDE(zs, SO4_0, py_0, d34S_SO4_0, epsilon_MSR, k_MSR, beta, D_32, v)\n",
    "    \n",
    "    # Final amounts of py32 and py34\n",
    "    py_34  = concs[4,-1]\n",
    "    py_32  = concs[5,-1]\n",
    "    \n",
    "    py = py_34 + py_32\n",
    "    d34S = R_to_delta(py_34/py_32)\n",
    "    \n",
    "    return py, d34S\n",
    "\n",
    "\n",
    "def update_var_plot(plot, varying, vstart, vstop, vstep, SO4_0, py_0, d34S_SO4_0, epsilon_MSR, k_MSR, beta, D_32, v, dz, max_z, plot_SDP, plot_noSDP):\n",
    "    \n",
    "    with plot.batch_update():\n",
    "    \n",
    "        # Create dictionary of parameters\n",
    "        params = {}\n",
    "        for w in w_df.iterrows():\n",
    "            param = w[1].var_name\n",
    "            params[param] = locals()[param] # locals() get the actual variables put into the function\n",
    "\n",
    "    #     print(params)\n",
    "\n",
    "        pys = []\n",
    "        d34Ss = []\n",
    "        texts = []\n",
    "\n",
    "        vary_range = np.arange(vstart, vstop, vstep)\n",
    "\n",
    "        for var in vary_range:\n",
    "\n",
    "            # Update the appropriate parameter to its value in the iterations\n",
    "            params[varying] = var\n",
    "\n",
    "            py, d34S = get_py_d34S(**params)\n",
    "\n",
    "            pys.append(py)\n",
    "            d34Ss.append(d34S)\n",
    "            texts.append('{}: {:.5f}'.format(varying, var))\n",
    "\n",
    "    #         print('{}: {:.5f}'.format(varying, vars()[varying]))\n",
    "    #         print('[py]: {:.4f}'.format(py))\n",
    "    #         print('d34S: {:.4f}\\n'.format(d34S))\n",
    "\n",
    "        model_tr = sel_trace(plot, 'Model')\n",
    "\n",
    "        # plot.update_traces(x=pys, y=d34Ss, text=texts, marker_color=vary_range, selector=dict(name='Model'))\n",
    "        model_tr.x = pys\n",
    "        model_tr.y = d34Ss\n",
    "        model_tr.text = texts\n",
    "        model_tr.marker.color = vary_range\n",
    "\n",
    "        SDP_tr = sel_trace(plot, 'Syn-Depositional Pyrite')\n",
    "        if plot_SDP:\n",
    "            SDP_tr.x = [py_0]\n",
    "            SDP_tr.y = [d34S_SO4_0 - epsilon_MSR]\n",
    "            SDP_tr.text = ['{:.2f} wt% Fe<sub>py, 0</sub>'.format(M_to_wt(py_0))]\n",
    "            SDP_tr.visible = True\n",
    "\n",
    "        else:\n",
    "            SDP_tr.visible = False\n",
    "\n",
    "\n",
    "        noSDP_tr = sel_trace(plot, 'Model (no py<sub>0</sub>)')\n",
    "        if plot_noSDP:\n",
    "            # recalculate model with no syn-depositional pyrite\n",
    "            pys_na = []\n",
    "            d34Ss_na = []\n",
    "            texts_na = []\n",
    "\n",
    "            params_na = params\n",
    "            params_na['py_0'] = 0 # set to no syn-depositional pyrite\n",
    "\n",
    "            for var in vary_range:\n",
    "\n",
    "                # Update the appropriate parameter to its value in the iterations\n",
    "                params_na[varying] = var\n",
    "\n",
    "                py, d34S = get_py_d34S(**params_na)\n",
    "\n",
    "                pys_na.append(py)\n",
    "                d34Ss_na.append(d34S)\n",
    "                texts_na.append('{}: {:.5f}'.format(varying, var))\n",
    "\n",
    "    #         plot.update_traces(x=pys_na, y=d34Ss_na, text=texts_na, marker_color=vary_range,\n",
    "    #                            visible=True, selector=dict(name='Model (no py<sub>0</sub>)'))\n",
    "            noSDP_tr.x = pys_na\n",
    "            noSDP_tr.y = d34Ss_na\n",
    "            noSDP_tr.text = texts_na\n",
    "            noSDP_tr.marker.color = vary_range\n",
    "            noSDP_tr.visible = True\n",
    "\n",
    "        else:\n",
    "            noSDP_tr.visible = False\n",
    "\n",
    "        # change colour bar title\n",
    "        plot.layout.coloraxis.colorbar.title = list(w_df[w_df.var_name==varying].display_name)[0]"
   ]
  },
  {
   "cell_type": "code",
   "execution_count": 10,
   "metadata": {},
   "outputs": [
    {
     "data": {
      "application/vnd.jupyter.widget-view+json": {
       "model_id": "b09daaca47f942029afe3634d9f3f640",
       "version_major": 2,
       "version_minor": 0
      },
      "text/plain": [
       "VBox(children=(HBox(children=(FloatSlider(value=0.0105, description='[SO<sub>4</sub>]<sub>0</sub>', layout=Lay…"
      ]
     },
     "metadata": {},
     "output_type": "display_data"
    },
    {
     "data": {
      "application/vnd.jupyter.widget-view+json": {
       "model_id": "12b53a20ad4b460c94c013fa63a95295",
       "version_major": 2,
       "version_minor": 0
      },
      "text/plain": [
       "Output()"
      ]
     },
     "metadata": {},
     "output_type": "display_data"
    },
    {
     "data": {
      "application/vnd.jupyter.widget-view+json": {
       "model_id": "b1032286523744f48655acbb4fe9c1de",
       "version_major": 2,
       "version_minor": 0
      },
      "text/plain": [
       "FigureWidget({\n",
       "    'data': [{'marker': {'color': 'Blue', 'opacity': 0.3, 'symbol': 'circle'},\n",
       "              'm…"
      ]
     },
     "metadata": {},
     "output_type": "display_data"
    }
   ],
   "source": [
    "# Set up plot\n",
    "var_plot=go.FigureWidget()\n",
    "\n",
    "var_plot.update_layout(\n",
    "    yaxis=dict(title='δ<sup>34</sup>S<sub>py</sub> (‰)'),\n",
    "    xaxis=dict(title='[FeS<sub>2</sub>] / mol dm<sup>−3</sup>', rangemode='tozero'),\n",
    "    legend=dict(yanchor=\"top\", y=1, xanchor=\"left\", x=1.2),\n",
    "    margin=dict(l=100),\n",
    "    width=1000, height=600,\n",
    "    coloraxis=dict(colorscale='viridis_r', colorbar_ticks='outside')\n",
    "    )\n",
    "\n",
    "# Add the real data\n",
    "for category in categories:\n",
    "    cat_df = log_df[log_df.category == category]\n",
    "    var_plot.add_trace(go.Scatter(x = cat_df.Fe_py.apply(wt_to_M), y=cat_df.d34S,\n",
    "                                  text = cat_df.name,\n",
    "                                  mode='markers',\n",
    "                                  marker_color='Blue',\n",
    "                                  marker_opacity=0.3,\n",
    "                                  marker_symbol=cat_symbols[category],\n",
    "                                  name=category))\n",
    "\n",
    "var_plot.add_trace(go.Scatter(name='Model', mode='lines+markers', marker_coloraxis='coloraxis',\n",
    "                              marker_line_color='DarkGreen', marker_line_width=1, line_color='DarkGreen'))\n",
    "var_plot.add_trace(go.Scatter(name='Model (no py<sub>0</sub>)', mode='lines+markers', marker_coloraxis='coloraxis',\n",
    "                              marker_line_color='Orange', marker_line_width=1, line_color='Orange'))\n",
    "var_plot.add_trace(go.Scatter(name='Syn-Depositional Pyrite', mode='markers',\n",
    "                              marker_color='Purple', marker_symbol='square'))\n",
    "\n",
    "# create widgets\n",
    "field_layout = wdg.Layout(width='200px')\n",
    "\n",
    "v_d = create_sliders(w_df, prefix='v')\n",
    "v_varying=wdg.Dropdown(options=w_df.var_name, description='Vary', layout=field_layout, value='v')\n",
    "v_vstart=wdg.FloatText(value=0.005, step=0.01, description='from', layout=field_layout)\n",
    "v_vstop=wdg.FloatText(value=0.2, step=0.1, description='to', layout=field_layout)\n",
    "v_vstep=wdg.FloatText(value=0.005, step=0.01, description='step', layout=field_layout)\n",
    "v_plot_SDP = wdg.Checkbox(value=True, description='Plot syn-depositional pyrite')\n",
    "v_plot_noSDP = wdg.Checkbox(value=False, description='Plot curve w/o syn-depositional pyrite')\n",
    "\n",
    "# set up widget layout\n",
    "var_ui = wdg.VBox([wdg.HBox([v_d['SO4_0'], v_d['d34S_SO4_0']]),\n",
    "                   wdg.HBox([v_d['py_0'], v_d['v']]),\n",
    "                   wdg.HBox([v_d['epsilon_MSR'], v_d['k_MSR']]),\n",
    "                   wdg.HBox([v_d['D_32'], v_d['beta']]),\n",
    "                   wdg.HBox([v_d['max_z'], v_d['dz']]),\n",
    "                   wdg.HBox([v_varying, v_vstart, v_vstop, v_vstep]),\n",
    "                   wdg.HBox([v_plot_SDP, v_plot_noSDP])\n",
    "                  ])\n",
    "\n",
    "var_args = {**v_d, \n",
    "            'plot': wdg.fixed(var_plot),\n",
    "            'varying':v_varying,\n",
    "            'vstart':v_vstart,\n",
    "            'vstop':v_vstop,\n",
    "            'vstep':v_vstep,\n",
    "            'plot_SDP': v_plot_SDP,\n",
    "            'plot_noSDP': v_plot_noSDP\n",
    "           }\n",
    "\n",
    "var_output = wdg.interactive_output(update_var_plot, var_args)\n",
    "\n",
    "display(var_ui, var_output)\n",
    "\n",
    "var_plot"
   ]
  },
  {
   "cell_type": "code",
   "execution_count": 11,
   "metadata": {},
   "outputs": [],
   "source": [
    "# var_plot.write_image('./images/varying_SO4.svg')"
   ]
  },
  {
   "cell_type": "markdown",
   "metadata": {},
   "source": [
    "### Modelling Iron Speciation with the same parameters"
   ]
  },
  {
   "cell_type": "code",
   "execution_count": 12,
   "metadata": {},
   "outputs": [],
   "source": [
    "def update_Fe_spec(plot, SO4_0, py_0, d34S_SO4_0, epsilon_MSR, k_MSR, beta, D_32, v, dz, max_z, Fe_tot, plot_residuals):\n",
    "    \n",
    "    with plot.batch_update():\n",
    "\n",
    "        # Calculate how much pyrite is produced\n",
    "        py, d34S = get_py_d34S(SO4_0, py_0, d34S_SO4_0, epsilon_MSR, k_MSR, beta, D_32, v, dz, max_z)\n",
    "        Fe_py = M_to_wt(py)\n",
    "        Fe_py_0 = M_to_wt(py_0)\n",
    "\n",
    "        # update model line\n",
    "        HR_tot_0 = np.linspace(0.01,1,50) # Increase last number for higher resolution\n",
    "\n",
    "        HR_0 = HR_tot_0 * Fe_tot\n",
    "        py_HR_t = py/HR_0\n",
    "        \n",
    "        model_tr = sel_trace(plot, 'model (const. total Fe)')\n",
    "        model_tr.x = HR_tot_0\n",
    "        model_tr.y = py_HR_t\n",
    "\n",
    "\n",
    "        # update data points\n",
    "        for category in categories:\n",
    "            cat_df = log_df[log_df.category == category]\n",
    "\n",
    "            py_HR_points = list(Fe_py/cat_df['Fe_HR'])\n",
    "\n",
    "            py_0_HR = list(Fe_py_0/cat_df['Fe_HR'])\n",
    "\n",
    "            for i in range(len(py_HR_points)):\n",
    "                if py_HR_points[i] > 1:\n",
    "                    py_HR_points[i] = 1\n",
    "                    \n",
    "            modelled_tr = sel_trace(plot, category+' (modelled)')\n",
    "            modelled_tr.x = cat_df['HR_to_tot']\n",
    "            modelled_tr.y = py_HR_points\n",
    "\n",
    "            plot.update_traces(selector=dict(name=category+' (pre-diagenesis)'),\n",
    "                               x=cat_df['HR_to_tot'], y=py_0_HR)\n",
    "            \n",
    "            pre_dia_tr = sel_trace(plot, category+' (pre-diagenesis)')\n",
    "            pre_dia_tr.x = cat_df['HR_to_tot']\n",
    "            pre_dia_tr.y = py_0_HR\n",
    "            \n",
    "            residuals = sel_trace(plot, category+' (residuals)')\n",
    "            if plot_residuals:\n",
    "                residuals.x = cat_df['HR_to_tot']\n",
    "                residuals.y = cat_df['py_to_HR'] - py_HR_points\n",
    "                residuals.visible = True\n",
    "            else:\n",
    "                residuals.visible = False\n",
    "\n",
    "#         if plot_residuals:\n",
    "#             plot.update_layout(yaxis_range=[-0.5,1])\n",
    "#         else:\n",
    "#             plot.update_layout(yaxis_range=[0,1])\n",
    "    \n",
    "    # plot.show(config=graph_config)"
   ]
  },
  {
   "cell_type": "code",
   "execution_count": 13,
   "metadata": {},
   "outputs": [
    {
     "data": {
      "application/vnd.jupyter.widget-view+json": {
       "model_id": "b24938386fc04d24b023238f86445130",
       "version_major": 2,
       "version_minor": 0
      },
      "text/plain": [
       "VBox(children=(HBox(children=(FloatSlider(value=0.0105, description='[SO<sub>4</sub>]<sub>0</sub>', layout=Lay…"
      ]
     },
     "metadata": {},
     "output_type": "display_data"
    },
    {
     "data": {
      "application/vnd.jupyter.widget-view+json": {
       "model_id": "820498eb50474bc79bc78d83d9cacdab",
       "version_major": 2,
       "version_minor": 0
      },
      "text/plain": [
       "Output()"
      ]
     },
     "metadata": {},
     "output_type": "display_data"
    },
    {
     "data": {
      "application/vnd.jupyter.widget-view+json": {
       "model_id": "21e9265d9ecb4c1284f9f48638f0e4e3",
       "version_major": 2,
       "version_minor": 0
      },
      "text/plain": [
       "FigureWidget({\n",
       "    'data': [{'legendgroup': 'Mudstone',\n",
       "              'marker': {'color': 'Purple', 'opacity':…"
      ]
     },
     "metadata": {},
     "output_type": "display_data"
    }
   ],
   "source": [
    "# Modelling pyritisation of real data\n",
    "psn_model=go.FigureWidget()\n",
    "\n",
    "# for HR_to_tot in list(log_df.HR_to_tot):\n",
    "#     psn_model.add_vline(HR_to_tot, line_width=0.5, line_color='Lavender')\n",
    "\n",
    "for category in categories: \n",
    "    \n",
    "    cat_df = log_df[log_df.category == category]\n",
    "\n",
    "    graph_texts = []\n",
    "    for d in cat_df.iterrows():\n",
    "        graph_texts.append(d[1]['name'])\n",
    "    \n",
    "    # Current locations of samples in Fe speciation space\n",
    "    \n",
    "    psn_model.add_trace(go.Scatter(mode='markers',\n",
    "                                   marker_symbol=cat_symbols[category],\n",
    "                                   marker_color='Purple',\n",
    "                                   marker_opacity=0.3,\n",
    "                                   name=category+' (pre-diagenesis)',\n",
    "                                   text=graph_texts,\n",
    "                                   legendgroup=category))\n",
    "    \n",
    "    psn_model.add_trace(go.Scatter(mode='markers',\n",
    "                                   marker_symbol=cat_symbols[category],\n",
    "                                   marker_color='Green',\n",
    "                                   name=category+' (modelled)',\n",
    "                                   text=graph_texts,\n",
    "                                   legendgroup=category))\n",
    "\n",
    "    psn_model.add_trace(go.Scatter(x=cat_df['HR_to_tot'], y=cat_df['py_to_HR'],\n",
    "                                   mode='markers',\n",
    "                                   marker_symbol=cat_symbols[category],\n",
    "                                   marker_color='Blue',\n",
    "                                   marker_opacity=0.3,\n",
    "                                   name=category+' (post-diagenesis)',\n",
    "                                   text=graph_texts,\n",
    "                                   legendgroup=category))    \n",
    "    \n",
    "    psn_model.add_trace(go.Scatter(mode='markers',\n",
    "                                   marker_symbol=cat_symbols[category],\n",
    "                                   marker_color='FireBrick',\n",
    "                                   name=category+' (residuals)',\n",
    "                                   text=graph_texts,\n",
    "                                   legendgroup=category))\n",
    "    \n",
    "    \n",
    "psn_model.add_trace(go.Scatter(name='model (const. total Fe)',\n",
    "                               line_color='LightGreen'))\n",
    "\n",
    "psn_model.update_layout(xaxis_range=[0,1], yaxis_range=[0,1],\n",
    "                        width=900, height=600)\n",
    "psn_model.add_hline(0.8, line_width=1, line_dash='dash')\n",
    "psn_model.add_vline(0.38, line_width=1, line_dash='dash')\n",
    "psn_model.update_layout(xaxis_title='[Fe<sub>HR</sub>]/[Fe<sub>tot</sub>]',\n",
    "                        yaxis_title='[Fe<sub>py</sub>]/[Fe<sub>HR</sub>]',\n",
    "                        legend=dict(#itemsizing='constant',\n",
    "                                    font_size=11))\n",
    "\n",
    "\n",
    "# Create widgets\n",
    "s_d = create_sliders(w_df, prefix='s')\n",
    "s_Fe_tot=wdg.FloatSlider(value=4, min=0, max=15, description='[Fe<sub>tot</sub>]', layout=wdg.Layout(width='100%')) # Total Fe for simple model curve\n",
    "s_plot_residuals=wdg.Checkbox(value=False, description='Plot Residuals')\n",
    "\n",
    "spec_ui = wdg.VBox([wdg.HBox([s_d['SO4_0'], s_d['d34S_SO4_0']]),\n",
    "                   wdg.HBox([s_d['py_0'], s_d['v']]),\n",
    "                   wdg.HBox([s_d['epsilon_MSR'], s_d['k_MSR']]),\n",
    "                   wdg.HBox([s_d['D_32'], s_d['beta']]),\n",
    "                   wdg.HBox([s_d['max_z'], s_d['dz']]),\n",
    "                   wdg.HBox([s_Fe_tot, s_plot_residuals])])\n",
    "\n",
    "spec_args={**s_d, 'Fe_tot': s_Fe_tot, 'plot_residuals': s_plot_residuals, 'plot': wdg.fixed(psn_model)}\n",
    "\n",
    "spec_out = wdg.interactive_output(update_Fe_spec, spec_args)\n",
    "\n",
    "display(spec_ui, spec_out)\n",
    "\n",
    "psn_model"
   ]
  },
  {
   "cell_type": "markdown",
   "metadata": {},
   "source": [
    "## Monte-Carlo Simulation"
   ]
  },
  {
   "cell_type": "code",
   "execution_count": 14,
   "metadata": {},
   "outputs": [],
   "source": [
    "def create_range_sliders(w_df, prefix='wr'):\n",
    "    w_dict = {}\n",
    "\n",
    "    for w in w_df.iterrows():\n",
    "\n",
    "        # Make a new variable for each widget\n",
    "        vars()[prefix+'_'+w[1].var_name] = wdg.FloatRangeSlider(value = [w[1].dr_min, w[1].dr_max],\n",
    "                                                                min = w[1].start,\n",
    "                                                                max = w[1].stop,\n",
    "                                                                step = w[1].step,\n",
    "                                                                description = w[1].display_name,\n",
    "                                                                layout=wdg.Layout(width='100%'),\n",
    "                                                                continuous_update=False\n",
    "                                                               )\n",
    "\n",
    "        # Add to a dictionary of original variables and widgets\n",
    "        w_dict[w[1].var_name] = vars()[prefix+'_'+w[1].var_name]\n",
    "    \n",
    "    return w_dict"
   ]
  },
  {
   "cell_type": "code",
   "execution_count": 15,
   "metadata": {},
   "outputs": [
    {
     "data": {
      "text/html": [
       "<div>\n",
       "<style scoped>\n",
       "    .dataframe tbody tr th:only-of-type {\n",
       "        vertical-align: middle;\n",
       "    }\n",
       "\n",
       "    .dataframe tbody tr th {\n",
       "        vertical-align: top;\n",
       "    }\n",
       "\n",
       "    .dataframe thead th {\n",
       "        text-align: right;\n",
       "    }\n",
       "</style>\n",
       "<table border=\"1\" class=\"dataframe\">\n",
       "  <thead>\n",
       "    <tr style=\"text-align: right;\">\n",
       "      <th></th>\n",
       "      <th>var_name</th>\n",
       "      <th>value</th>\n",
       "      <th>start</th>\n",
       "      <th>stop</th>\n",
       "      <th>step</th>\n",
       "      <th>display_name</th>\n",
       "      <th>dr_min</th>\n",
       "      <th>dr_max</th>\n",
       "    </tr>\n",
       "  </thead>\n",
       "  <tbody>\n",
       "    <tr>\n",
       "      <th>0</th>\n",
       "      <td>SO4_0</td>\n",
       "      <td>0.0105</td>\n",
       "      <td>0.001</td>\n",
       "      <td>0.30</td>\n",
       "      <td>0.0010</td>\n",
       "      <td>[SO&lt;sub&gt;4&lt;/sub&gt;]&lt;sub&gt;0&lt;/sub&gt;</td>\n",
       "      <td>0.008</td>\n",
       "      <td>0.013</td>\n",
       "    </tr>\n",
       "    <tr>\n",
       "      <th>1</th>\n",
       "      <td>py_0</td>\n",
       "      <td>0.1600</td>\n",
       "      <td>0.000</td>\n",
       "      <td>1.00</td>\n",
       "      <td>0.0025</td>\n",
       "      <td>[FeS&lt;sub&gt;2&lt;/sub&gt;]&lt;sub&gt;0&lt;/sub&gt;</td>\n",
       "      <td>0.100</td>\n",
       "      <td>0.250</td>\n",
       "    </tr>\n",
       "    <tr>\n",
       "      <th>2</th>\n",
       "      <td>d34S_SO4_0</td>\n",
       "      <td>23.0000</td>\n",
       "      <td>0.000</td>\n",
       "      <td>30.00</td>\n",
       "      <td>0.1000</td>\n",
       "      <td>δ&lt;sup&gt;34&lt;/sup&gt;S&lt;sub&gt;SO4, 0&lt;/sub&gt;</td>\n",
       "      <td>14.000</td>\n",
       "      <td>18.000</td>\n",
       "    </tr>\n",
       "    <tr>\n",
       "      <th>3</th>\n",
       "      <td>epsilon_MSR</td>\n",
       "      <td>54.0000</td>\n",
       "      <td>0.000</td>\n",
       "      <td>100.00</td>\n",
       "      <td>1.0000</td>\n",
       "      <td>ε&lt;sub&gt;MSR&lt;/sub&gt;</td>\n",
       "      <td>40.000</td>\n",
       "      <td>55.000</td>\n",
       "    </tr>\n",
       "    <tr>\n",
       "      <th>4</th>\n",
       "      <td>k_MSR</td>\n",
       "      <td>10.0000</td>\n",
       "      <td>0.000</td>\n",
       "      <td>40.00</td>\n",
       "      <td>0.1000</td>\n",
       "      <td>k&lt;sub&gt;MSR&lt;/sub&gt;</td>\n",
       "      <td>5.000</td>\n",
       "      <td>15.000</td>\n",
       "    </tr>\n",
       "    <tr>\n",
       "      <th>5</th>\n",
       "      <td>v</td>\n",
       "      <td>0.1200</td>\n",
       "      <td>0.001</td>\n",
       "      <td>0.50</td>\n",
       "      <td>0.0010</td>\n",
       "      <td>v&lt;sub&gt;sed&lt;/sub&gt;</td>\n",
       "      <td>0.005</td>\n",
       "      <td>0.200</td>\n",
       "    </tr>\n",
       "    <tr>\n",
       "      <th>6</th>\n",
       "      <td>D_32</td>\n",
       "      <td>0.2000</td>\n",
       "      <td>0.001</td>\n",
       "      <td>0.30</td>\n",
       "      <td>0.0010</td>\n",
       "      <td>D&lt;sub&gt;32&lt;/sub&gt;</td>\n",
       "      <td>0.100</td>\n",
       "      <td>0.300</td>\n",
       "    </tr>\n",
       "    <tr>\n",
       "      <th>7</th>\n",
       "      <td>beta</td>\n",
       "      <td>0.0250</td>\n",
       "      <td>0.000</td>\n",
       "      <td>0.05</td>\n",
       "      <td>0.0010</td>\n",
       "      <td>β</td>\n",
       "      <td>0.000</td>\n",
       "      <td>0.050</td>\n",
       "    </tr>\n",
       "  </tbody>\n",
       "</table>\n",
       "</div>"
      ],
      "text/plain": [
       "      var_name    value  start    stop    step  \\\n",
       "0        SO4_0   0.0105  0.001    0.30  0.0010   \n",
       "1         py_0   0.1600  0.000    1.00  0.0025   \n",
       "2   d34S_SO4_0  23.0000  0.000   30.00  0.1000   \n",
       "3  epsilon_MSR  54.0000  0.000  100.00  1.0000   \n",
       "4        k_MSR  10.0000  0.000   40.00  0.1000   \n",
       "5            v   0.1200  0.001    0.50  0.0010   \n",
       "6         D_32   0.2000  0.001    0.30  0.0010   \n",
       "7         beta   0.0250  0.000    0.05  0.0010   \n",
       "\n",
       "                       display_name  dr_min  dr_max  \n",
       "0      [SO<sub>4</sub>]<sub>0</sub>   0.008   0.013  \n",
       "1     [FeS<sub>2</sub>]<sub>0</sub>   0.100   0.250  \n",
       "2  δ<sup>34</sup>S<sub>SO4, 0</sub>  14.000  18.000  \n",
       "3                   ε<sub>MSR</sub>  40.000  55.000  \n",
       "4                   k<sub>MSR</sub>   5.000  15.000  \n",
       "5                   v<sub>sed</sub>   0.005   0.200  \n",
       "6                    D<sub>32</sub>   0.100   0.300  \n",
       "7                                 β   0.000   0.050  "
      ]
     },
     "execution_count": 15,
     "metadata": {},
     "output_type": "execute_result"
    }
   ],
   "source": [
    "# Dataframe of only parameters we want to vary in Monte-Carlo simulation\n",
    "monte_df = w_df[~w_df.var_name.isin(['max_z', 'dz'])]\n",
    "monte_df"
   ]
  },
  {
   "cell_type": "code",
   "execution_count": 16,
   "metadata": {
    "tags": []
   },
   "outputs": [],
   "source": [
    "def update_monte_plot(plot, SO4_0, py_0, d34S_SO4_0, epsilon_MSR, k_MSR, beta, D_32, v, dz, max_z, n_trials): # , colour_param):\n",
    "    \n",
    "    with plot.batch_update():\n",
    "    \n",
    "        params_list = []\n",
    "\n",
    "#         pys = []\n",
    "#         d34Ss = []\n",
    "#         texts = []\n",
    "#         colours = []\n",
    "        \n",
    "        # Loop for each trial in Monte Carlo\n",
    "        for trial in range(n_trials):\n",
    "            \n",
    "            # Create dictionary for this run's parameters\n",
    "            params = {}\n",
    "            \n",
    "            # Randomise the parameters\n",
    "            for row in monte_df.iterrows():\n",
    "                param_name = row[1].var_name\n",
    "                param_range = locals()[param_name] # locals() returns dictionary of the actual variables put into the function\n",
    "                \n",
    "                param = random.uniform(*param_range) # Picks a random float within the parameter range (inclusive)\n",
    "                \n",
    "                # Update the appropriate parameter in the dictionary\n",
    "                params[param_name] = param\n",
    "\n",
    "            # After randomising all parameters, put them into the function (and add those we didn't randomise)\n",
    "            py, d34S = get_py_d34S(**params, dz=dz, max_z=max_z)\n",
    "            \n",
    "#             params['Trial_No'] = trial\n",
    "            params['py'] = py\n",
    "            params['d34S'] = d34S\n",
    "\n",
    "#             pys.append(py)\n",
    "#             d34Ss.append(d34S)\n",
    "#             texts.append(f'Trial {trial}')\n",
    "#             colours.append(params[colour_param])\n",
    "            \n",
    "            params_list.append(params)\n",
    "\n",
    "        # After iteration, convert the parameter list into a dataframe, stroed in the global variable params_df\n",
    "        global params_df\n",
    "        params_df = pd.DataFrame(params_list)\n",
    "        \n",
    "        \n",
    "        model_tr = sel_trace(plot, 'Trials')\n",
    "\n",
    "        model_tr.x = params_df.py\n",
    "        model_tr.y = params_df.d34S\n",
    "        \n",
    "        # Get the parameter used for colour without forcing it to update this function\n",
    "        model_tr.marker.color = params_df[r_colour.value]\n",
    "        \n",
    "        model_tr.text = params_df.index\n",
    "\n",
    "\n",
    "#         SDP_tr = sel_trace(plot, 'Syn-Depositional Pyrite')\n",
    "#         if plot_SDP:\n",
    "#             SDP_tr.x = [py_0]\n",
    "#             SDP_tr.y = [d34S_SO4_0 - epsilon_MSR]\n",
    "#             SDP_tr.text = ['{:.2f} wt% Fe<sub>py, 0</sub>'.format(M_to_wt(py_0))]\n",
    "#             SDP_tr.visible = True\n",
    "\n",
    "#         else:\n",
    "#             SDP_tr.visible = False\n",
    "\n",
    "\n",
    "#         noSDP_tr = sel_trace(plot, 'Model (no py<sub>0</sub>)')\n",
    "#         if plot_noSDP:\n",
    "#             # recalculate model with no syn-depositional pyrite\n",
    "#             pys_na = []\n",
    "#             d34Ss_na = []\n",
    "#             texts_na = []\n",
    "\n",
    "#             params_na = params\n",
    "#             params_na['py_0'] = 0 # set to no syn-depositional pyrite\n",
    "\n",
    "#             for var in vary_range:\n",
    "\n",
    "#                 # Update the appropriate parameter to its value in the iterations\n",
    "#                 params_na[varying] = var\n",
    "\n",
    "#                 py, d34S = get_py_d34S(**params_na)\n",
    "\n",
    "#                 pys_na.append(py)\n",
    "#                 d34Ss_na.append(d34S)\n",
    "#                 texts_na.append('{}: {:.5f}'.format(varying, var))\n",
    "\n",
    "#     #         plot.update_traces(x=pys_na, y=d34Ss_na, text=texts_na, marker_color=vary_range,\n",
    "#     #                            visible=True, selector=dict(name='Model (no py<sub>0</sub>)'))\n",
    "#             noSDP_tr.x = pys_na\n",
    "#             noSDP_tr.y = d34Ss_na\n",
    "#             noSDP_tr.text = texts_na\n",
    "#             noSDP_tr.marker.color = vary_range\n",
    "#             noSDP_tr.visible = True\n",
    "\n",
    "#         else:\n",
    "#             noSDP_tr.visible = False\n",
    "\n",
    "        # change colour bar title\n",
    "#         plot.layout.coloraxis.colorbar.title = list(monte_df[monte_df.var_name==colour_param].display_name)[0]"
   ]
  },
  {
   "cell_type": "code",
   "execution_count": 17,
   "metadata": {},
   "outputs": [],
   "source": [
    "def tweak_plot(marker_size, marker_opacity, colour_param, trace, plot):\n",
    "    trace.marker.size = marker_size\n",
    "    trace.marker.opacity = marker_opacity\n",
    "    trace.marker.color = params_df[colour_param]\n",
    "    plot.layout.coloraxis.colorbar.title = list(monte_df[monte_df.var_name==colour_param].display_name)[0]"
   ]
  },
  {
   "cell_type": "code",
   "execution_count": 18,
   "metadata": {},
   "outputs": [],
   "source": [
    "r_details = wdg.Output()\n",
    "\n",
    "def monte_hover(trace, points, state):\n",
    "    if points.point_inds: # Makes sure we're hovering over the right trace. The wrong trace will give point_inds = [].\n",
    "        ind = points.point_inds[0]\n",
    "        \n",
    "        details = params_df.iloc[ind].to_frame() # creates summary dataframe\n",
    "        \n",
    "        with r_details:\n",
    "            display(details) # displays dataframe in output widget\n",
    "            \n",
    "        r_details.clear_output(wait=True) # Clears the output when a new point is selected.\n",
    "    else:\n",
    "        pass"
   ]
  },
  {
   "cell_type": "code",
   "execution_count": 19,
   "metadata": {},
   "outputs": [
    {
     "data": {
      "application/vnd.jupyter.widget-view+json": {
       "model_id": "72c942042e64433a92437ab8a18fa305",
       "version_major": 2,
       "version_minor": 0
      },
      "text/plain": [
       "VBox(children=(VBox(children=(HBox(children=(FloatRangeSlider(value=(0.008, 0.013), continuous_update=False, d…"
      ]
     },
     "metadata": {},
     "output_type": "display_data"
    },
    {
     "data": {
      "application/vnd.jupyter.widget-view+json": {
       "model_id": "7b3e4b59ca9f4e2d837b67f82136caba",
       "version_major": 2,
       "version_minor": 0
      },
      "text/plain": [
       "Output()"
      ]
     },
     "metadata": {},
     "output_type": "display_data"
    },
    {
     "data": {
      "application/vnd.jupyter.widget-view+json": {
       "model_id": "31d4b2eb328d4940ac47da46a1c62cb6",
       "version_major": 2,
       "version_minor": 0
      },
      "text/plain": [
       "Output()"
      ]
     },
     "metadata": {},
     "output_type": "display_data"
    }
   ],
   "source": [
    "# Set up plot\n",
    "monte_plot=go.FigureWidget()\n",
    "\n",
    "monte_plot.update_layout(yaxis=dict(title='δ<sup>34</sup>S<sub>py</sub> (‰)'),\n",
    "                         xaxis=dict(title='[FeS<sub>2</sub>] / mol dm<sup>−3</sup>', rangemode='tozero'),\n",
    "                         legend=dict(yanchor=\"top\", y=1, xanchor=\"left\", x=1.2),\n",
    "                         margin=dict(l=100),\n",
    "                         width=1000, height=600,\n",
    "                         coloraxis=dict(colorscale='viridis_r', colorbar_ticks='outside')\n",
    "                         )\n",
    "\n",
    "# Add the real data\n",
    "for category in categories:\n",
    "    cat_df = log_df[log_df.category == category]\n",
    "    monte_plot.add_scatter(x = cat_df.Fe_py.apply(wt_to_M), y=cat_df.d34S,\n",
    "                           text = cat_df.name,\n",
    "                           mode='markers',\n",
    "                           marker_color='Blue',\n",
    "                           marker_opacity=0.3,\n",
    "                           marker_symbol=cat_symbols[category],\n",
    "                           name=category)\n",
    "\n",
    "monte_plot.add_trace(go.Scatter(name='Trials', mode='markers', marker_coloraxis='coloraxis',\n",
    "                                marker_line={'color': 'Black', 'width': 1}))\n",
    "# monte_plot.add_trace(go.Scatter(name='Model (no py<sub>0</sub>)', mode='lines+markers', marker_coloraxis='coloraxis',\n",
    "#                                 marker_line_color='Orange', marker_line_width=1, line_color='Orange'))\n",
    "# monte_plot.add_trace(go.Scatter(name='Syn-Depositional Pyrite', mode='markers',\n",
    "#                                 marker_color='Purple', marker_symbol='square'))\n",
    "\n",
    "# create widgets\n",
    "field_layout = wdg.Layout(width='200px')\n",
    "\n",
    "r_d = create_range_sliders(monte_df, prefix='r')\n",
    "r_d2 = create_sliders(w_df[w_df.var_name.isin(['max_z', 'dz'])], prefix='r')\n",
    "\n",
    "r_n_trials = wdg.IntSlider(value = 400, min = 1, max = 1000, description = '№ of Trials', layout=wdg.Layout(width='100%'), continuous_update=False)\n",
    "\n",
    "r_colour=wdg.Dropdown(options=monte_df.var_name, description='Colour', layout=field_layout, value='v')\n",
    "r_marker_size = wdg.FloatSlider(value=8, min=0, max=20, step=0.1, description='Marker Size', layout=wdg.Layout(width='100%'))\n",
    "r_opacity = wdg.FloatSlider(value=0.7, min=0, max=1, step=0.01, description='Opacity', layout=wdg.Layout(width='100%'))\n",
    "\n",
    "# v_plot_SDP = wdg.Checkbox(value=True, description='Plot syn-depositional pyrite')\n",
    "# v_plot_noSDP = wdg.Checkbox(value=False, description='Plot curve w/o syn-depositional pyrite')\n",
    "\n",
    "# set up widget layout\n",
    "monte_ui = wdg.VBox([wdg.HBox([r_d['SO4_0'], r_d['d34S_SO4_0']]),\n",
    "                     wdg.HBox([r_d['py_0'], r_d['v']]),\n",
    "                     wdg.HBox([r_d['epsilon_MSR'], r_d['k_MSR']]),\n",
    "                     wdg.HBox([r_d['D_32'], r_d['beta']]),\n",
    "                     wdg.HBox([r_d2['max_z'], r_d2['dz']]),\n",
    "                     wdg.HBox([r_n_trials]),\n",
    "                     wdg.HBox([r_colour, r_marker_size, r_opacity])\n",
    "#                      wdg.HBox([v_plot_SDP, v_plot_noSDP])\n",
    "                    ])\n",
    "\n",
    "monte_args = {**r_d, **r_d2,\n",
    "              'plot': wdg.fixed(monte_plot),\n",
    "              'n_trials': r_n_trials,\n",
    "#              'colour_param': r_colour,\n",
    "#               'plot_SDP': v_plot_SDP,\n",
    "#               'plot_noSDP': v_plot_noSDP\n",
    "             }\n",
    "\n",
    "monte_output = wdg.interactive_output(update_monte_plot, monte_args)\n",
    "\n",
    "tweak_args = {'trace': wdg.fixed(sel_trace(monte_plot, 'Trials')),\n",
    "              'plot': wdg.fixed(monte_plot),\n",
    "              'marker_size': r_marker_size,\n",
    "              'marker_opacity': r_opacity,\n",
    "              'colour_param': r_colour\n",
    "             }\n",
    "tweak_output = wdg.interactive_output(tweak_plot, tweak_args)\n",
    "\n",
    "sel_trace(monte_plot, 'Trials').on_hover(monte_hover)\n",
    "\n",
    "monte_dashboard = wdg.VBox([monte_ui,\n",
    "                            wdg.HBox([monte_plot, r_details])\n",
    "                           ])\n",
    "\n",
    "display(monte_dashboard, monte_output, tweak_output)"
   ]
  },
  {
   "cell_type": "code",
   "execution_count": 20,
   "metadata": {},
   "outputs": [],
   "source": [
    "# monte_plot.write_image('images/monte_plot_test.svg')"
   ]
  },
  {
   "cell_type": "code",
   "execution_count": null,
   "metadata": {},
   "outputs": [],
   "source": []
  },
  {
   "cell_type": "code",
   "execution_count": null,
   "metadata": {},
   "outputs": [],
   "source": []
  }
 ],
 "metadata": {
  "kernelspec": {
   "display_name": "Python 3 (ipykernel)",
   "language": "python",
   "name": "python3"
  },
  "language_info": {
   "codemirror_mode": {
    "name": "ipython",
    "version": 3
   },
   "file_extension": ".py",
   "mimetype": "text/x-python",
   "name": "python",
   "nbconvert_exporter": "python",
   "pygments_lexer": "ipython3",
   "version": "3.9.1"
  },
  "widgets": {
   "application/vnd.jupyter.widget-state+json": {
    "state": {
     "0129caf27df54832933063564822385f": {
      "model_module": "@jupyter-widgets/controls",
      "model_module_version": "1.5.0",
      "model_name": "SliderStyleModel",
      "state": {
       "description_width": ""
      }
     },
     "023743ceee52466eb3a39231ce05560c": {
      "model_module": "@jupyter-widgets/base",
      "model_module_version": "1.2.0",
      "model_name": "LayoutModel",
      "state": {
       "width": "100%"
      }
     },
     "0287b223e76242bc91e30bdd1b8f23c7": {
      "model_module": "@jupyter-widgets/base",
      "model_module_version": "1.2.0",
      "model_name": "LayoutModel",
      "state": {
       "width": "100%"
      }
     },
     "02b61e454fc4457bb517c8eb8644c7ec": {
      "model_module": "@jupyter-widgets/controls",
      "model_module_version": "1.5.0",
      "model_name": "SliderStyleModel",
      "state": {
       "description_width": ""
      }
     },
     "031610a06feb47abbe9601975f57f616": {
      "model_module": "@jupyter-widgets/controls",
      "model_module_version": "1.5.0",
      "model_name": "HBoxModel",
      "state": {
       "children": [
        "IPY_MODEL_b28a0aba24824bef98071b2adae7167b",
        "IPY_MODEL_c0a5470bee3240c39d784fdcf7460fef"
       ],
       "layout": "IPY_MODEL_c55dcd1596c0470a9b1c25338dc3a946"
      }
     },
     "04418bb109d744a387f0973637067155": {
      "model_module": "@jupyter-widgets/controls",
      "model_module_version": "1.5.0",
      "model_name": "HBoxModel",
      "state": {
       "children": [
        "IPY_MODEL_8073958f5cb949119a21a9e9a5c665d8",
        "IPY_MODEL_339c4e4a3caa414db8ceb85e2bc8f84d"
       ],
       "layout": "IPY_MODEL_dcbd102a73454620babbffaa97ebddd6"
      }
     },
     "0519c5d996684c6b9c5a578a544240d1": {
      "model_module": "@jupyter-widgets/base",
      "model_module_version": "1.2.0",
      "model_name": "LayoutModel",
      "state": {}
     },
     "08612bcf71ed486db57b51f82bcd8bb7": {
      "model_module": "@jupyter-widgets/controls",
      "model_module_version": "1.5.0",
      "model_name": "SliderStyleModel",
      "state": {
       "description_width": ""
      }
     },
     "08837b23c32a4041b3bfe529d6cfee1f": {
      "model_module": "@jupyter-widgets/base",
      "model_module_version": "1.2.0",
      "model_name": "LayoutModel",
      "state": {
       "width": "100%"
      }
     },
     "092727a65dde438f9432e5d1ba08add0": {
      "model_module": "@jupyter-widgets/controls",
      "model_module_version": "1.5.0",
      "model_name": "FloatSliderModel",
      "state": {
       "description": "δ<sup>34</sup>S<sub>SO4, 0</sub>",
       "layout": "IPY_MODEL_1b929a5893ca40fbba611b8c4cdfd256",
       "max": 30,
       "step": 0.1,
       "style": "IPY_MODEL_e77bcd25c60a485cb1fd036f6d4b18fa",
       "value": 23
      }
     },
     "0a0033fee2054e4aabec09aa945babb8": {
      "model_module": "@jupyter-widgets/controls",
      "model_module_version": "1.5.0",
      "model_name": "FloatRangeSliderModel",
      "state": {
       "_model_name": "FloatRangeSliderModel",
       "_view_name": "FloatRangeSliderView",
       "continuous_update": false,
       "description": "v<sub>sed</sub>",
       "layout": "IPY_MODEL_14194797365c45e4b06263ffbde31204",
       "max": 0.5,
       "min": 0.001,
       "step": 0.001,
       "style": "IPY_MODEL_d558acc42c314d00b4b4ec4ba4307555",
       "value": [
        0.005,
        0.2
       ]
      }
     },
     "0b4a8267f1fc40a689be840679351b67": {
      "model_module": "@jupyter-widgets/base",
      "model_module_version": "1.2.0",
      "model_name": "LayoutModel",
      "state": {
       "width": "100%"
      }
     },
     "0cdb947136ea4c558a162e1ff93ab29c": {
      "model_module": "@jupyter-widgets/base",
      "model_module_version": "1.2.0",
      "model_name": "LayoutModel",
      "state": {}
     },
     "0fb44703ecb7450f8078eead0aa39a1b": {
      "model_module": "@jupyter-widgets/controls",
      "model_module_version": "1.5.0",
      "model_name": "FloatRangeSliderModel",
      "state": {
       "_model_name": "FloatRangeSliderModel",
       "_view_name": "FloatRangeSliderView",
       "continuous_update": false,
       "description": "δ<sup>34</sup>S<sub>SO4, 0</sub>",
       "layout": "IPY_MODEL_8a6979b7f2f344e98d4a670d3f1e0b0b",
       "max": 30,
       "step": 0.1,
       "style": "IPY_MODEL_c10fa6dbd5b04f1889c328f649938589",
       "value": [
        14,
        18
       ]
      }
     },
     "120228abe14c438d9cc00353a8e4beaa": {
      "model_module": "@jupyter-widgets/controls",
      "model_module_version": "1.5.0",
      "model_name": "SliderStyleModel",
      "state": {
       "description_width": ""
      }
     },
     "121d1b4d9a2d4efbb1681ef2cd450540": {
      "model_module": "@jupyter-widgets/controls",
      "model_module_version": "1.5.0",
      "model_name": "FloatSliderModel",
      "state": {
       "description": "δ<sup>34</sup>S<sub>SO4, 0</sub>",
       "layout": "IPY_MODEL_38d910f57f674257a8051964cdb3f351",
       "max": 30,
       "step": 0.1,
       "style": "IPY_MODEL_c7c923a68b9f49cfb88b03978c4c8175",
       "value": 23
      }
     },
     "12b53a20ad4b460c94c013fa63a95295": {
      "model_module": "@jupyter-widgets/output",
      "model_module_version": "1.0.0",
      "model_name": "OutputModel",
      "state": {
       "layout": "IPY_MODEL_7b0113220936448baa97882c5b471850"
      }
     },
     "12c1f942ba044af787a2f26d3d306468": {
      "model_module": "@jupyter-widgets/controls",
      "model_module_version": "1.5.0",
      "model_name": "HBoxModel",
      "state": {
       "children": [
        "IPY_MODEL_7ebe21d9f85e4fdba12aa2e5bc5c1686",
        "IPY_MODEL_092727a65dde438f9432e5d1ba08add0"
       ],
       "layout": "IPY_MODEL_bf3bf134c9224d9f88bfac3c2015901d"
      }
     },
     "1309f789a0dd49c2b8afcf36dee2f2b4": {
      "model_module": "@jupyter-widgets/base",
      "model_module_version": "1.2.0",
      "model_name": "LayoutModel",
      "state": {}
     },
     "14194797365c45e4b06263ffbde31204": {
      "model_module": "@jupyter-widgets/base",
      "model_module_version": "1.2.0",
      "model_name": "LayoutModel",
      "state": {
       "width": "100%"
      }
     },
     "144a359b9fda491699ca2ac79c58f284": {
      "model_module": "@jupyter-widgets/controls",
      "model_module_version": "1.5.0",
      "model_name": "CheckboxModel",
      "state": {
       "description": "Plot curve w/o syn-depositional pyrite",
       "disabled": false,
       "layout": "IPY_MODEL_284c0e3e724b4023bf98e5a691e018e8",
       "style": "IPY_MODEL_ee34ad6bb8cd4c7aa6f790787a5532cc",
       "value": false
      }
     },
     "147eff89965642fda13da9bfffe0af47": {
      "model_module": "@jupyter-widgets/controls",
      "model_module_version": "1.5.0",
      "model_name": "HBoxModel",
      "state": {
       "children": [
        "IPY_MODEL_1a8c9cc32ae14012b05afdb53890274d"
       ],
       "layout": "IPY_MODEL_fbe08a65b1074f44aa3e1fb7b88dc901"
      }
     },
     "16db3b202b5a4c34814882620f0b0a3e": {
      "model_module": "@jupyter-widgets/controls",
      "model_module_version": "1.5.0",
      "model_name": "SliderStyleModel",
      "state": {
       "description_width": ""
      }
     },
     "173a1cc9bd864a198557e878c27d5e61": {
      "model_module": "@jupyter-widgets/base",
      "model_module_version": "1.2.0",
      "model_name": "LayoutModel",
      "state": {
       "width": "100%"
      }
     },
     "174928529cf54573a43e1cd48b4d5e05": {
      "model_module": "@jupyter-widgets/base",
      "model_module_version": "1.2.0",
      "model_name": "LayoutModel",
      "state": {}
     },
     "1831990d2c3647a8b606b82771480004": {
      "model_module": "@jupyter-widgets/controls",
      "model_module_version": "1.5.0",
      "model_name": "FloatSliderModel",
      "state": {
       "description": "z<sub>max</sub>",
       "layout": "IPY_MODEL_430dadd88e504ef1ba265267162af8d4",
       "max": 10,
       "min": 0.01,
       "step": 0.01,
       "style": "IPY_MODEL_4d2135be1d174e4996ba1558a3a0b322",
       "value": 1.5
      }
     },
     "1a1749f2633e41aa96933731272050a1": {
      "model_module": "@jupyter-widgets/base",
      "model_module_version": "1.2.0",
      "model_name": "LayoutModel",
      "state": {
       "width": "100%"
      }
     },
     "1a59baf9044642809858ce3213c185b0": {
      "model_module": "@jupyter-widgets/base",
      "model_module_version": "1.2.0",
      "model_name": "LayoutModel",
      "state": {}
     },
     "1a8c9cc32ae14012b05afdb53890274d": {
      "model_module": "@jupyter-widgets/controls",
      "model_module_version": "1.5.0",
      "model_name": "IntSliderModel",
      "state": {
       "continuous_update": false,
       "description": "№ of Trials",
       "layout": "IPY_MODEL_bd2512f488ef46a5b73bca89085294a8",
       "max": 1000,
       "min": 1,
       "style": "IPY_MODEL_9591e4db1ee349c2940d04b2ac6a3a34",
       "value": 400
      }
     },
     "1b929a5893ca40fbba611b8c4cdfd256": {
      "model_module": "@jupyter-widgets/base",
      "model_module_version": "1.2.0",
      "model_name": "LayoutModel",
      "state": {
       "width": "100%"
      }
     },
     "1db07abbd9c849d8ad77543bb96edb1b": {
      "model_module": "@jupyter-widgets/controls",
      "model_module_version": "1.5.0",
      "model_name": "SliderStyleModel",
      "state": {
       "description_width": ""
      }
     },
     "1fc608122705463e861b5d4c9d3755b5": {
      "model_module": "@jupyter-widgets/controls",
      "model_module_version": "1.5.0",
      "model_name": "FloatSliderModel",
      "state": {
       "description": "v<sub>sed</sub>",
       "layout": "IPY_MODEL_290f797c96c0401abcc2358691d2bb94",
       "max": 0.5,
       "min": 0.001,
       "step": 0.001,
       "style": "IPY_MODEL_5879289e6bf247428a6591cead59ad29",
       "value": 0.12
      }
     },
     "21e9265d9ecb4c1284f9f48638f0e4e3": {
      "buffers": [
       {
        "data": "XFpQhZJ17D9b/Jw93n7fP+i1AE/bJ+U/COOO8seB5T9UIVbvVIjlP/MSfp9MYOk/YWEw5OqV4j9vjvTiq5frP34pYmErnOg/JwmWh+si6T86iSG/wLvpP+AZe2LoueQ/oky2XYDC6z8VMB/ILizmP31ENZuxbew/leBQ+fVw4T/XZFmTZU3mP2NCE/0qa+Y/m5fEvhcf3T9GRXYeekHoP3Z5XCXJGe0/Iehdp+E33D/Gee6rKInoP5aLiHIAx+A/rkb+MVY86j8TBt9pCuzgPxBDdWroROM/WAljs6Da6z/5psodzi/iP98IkaMLBuc/DOpCMlxN4z8a/V1dqE7nPxhaRmnw2ec/NsF4K/sc4j+byUeerbLiP9Bf0a/DSOg/UQ9OXHM75j8=",
        "encoding": "base64",
        "path": [
         "_data",
         0,
         "x",
         "value"
        ]
       },
       {
        "data": "XFpQhZJ17D9b/Jw93n7fP+i1AE/bJ+U/COOO8seB5T9UIVbvVIjlP/MSfp9MYOk/YWEw5OqV4j9vjvTiq5frP34pYmErnOg/JwmWh+si6T86iSG/wLvpP+AZe2LoueQ/oky2XYDC6z8VMB/ILizmP31ENZuxbew/leBQ+fVw4T/XZFmTZU3mP2NCE/0qa+Y/m5fEvhcf3T9GRXYeekHoP3Z5XCXJGe0/Iehdp+E33D/Gee6rKInoP5aLiHIAx+A/rkb+MVY86j8TBt9pCuzgPxBDdWroROM/WAljs6Da6z/5psodzi/iP98IkaMLBuc/DOpCMlxN4z8a/V1dqE7nPxhaRmnw2ec/NsF4K/sc4j+byUeerbLiP9Bf0a/DSOg/UQ9OXHM75j8=",
        "encoding": "base64",
        "path": [
         "_data",
         1,
         "x",
         "value"
        ]
       },
       {
        "data": "XFpQhZJ17D9b/Jw93n7fP+i1AE/bJ+U/COOO8seB5T9UIVbvVIjlP/MSfp9MYOk/YWEw5OqV4j9vjvTiq5frP34pYmErnOg/JwmWh+si6T86iSG/wLvpP+AZe2LoueQ/oky2XYDC6z8VMB/ILizmP31ENZuxbew/leBQ+fVw4T/XZFmTZU3mP2NCE/0qa+Y/m5fEvhcf3T9GRXYeekHoP3Z5XCXJGe0/Iehdp+E33D/Gee6rKInoP5aLiHIAx+A/rkb+MVY86j8TBt9pCuzgPxBDdWroROM/WAljs6Da6z/5psodzi/iP98IkaMLBuc/DOpCMlxN4z8a/V1dqE7nPxhaRmnw2ec/NsF4K/sc4j+byUeerbLiP9Bf0a/DSOg/UQ9OXHM75j8=",
        "encoding": "base64",
        "path": [
         "_data",
         2,
         "x",
         "value"
        ]
       },
       {
        "data": "AAAAAACAvz///////3/nP+NZRvQB1dE/AAAAAAAA5z/Cbn4LAaPkPxVQARVQAdU/6VCD3ZmM5j+KU7/nljjVP7IVQcNJ3dc/9onqQSPv3D/6j++FCMTMP1HrVwrU+uU/mJIpmZIp2T9e3MVd3MXdP+iiiy666OI/v9wQA9Kx5D8OePzhgMffP4v2m/JcAtk/GHqhF3qh5z/sPtwCCqPaPzP8l0DotdM/MwTraPM+5T8z/iMwPTjLP1VVVVVVVeU/1YGPuYn2zT9IgzRIgzToP3mFV3iFV9g/MQpR/UjY0T+yH/uxH/vhP0Qn7YNkQN0/eXh4eHh46D+/TTFq+NvkP0dY7mmE5c4/nYM1S4xP6T/A/HWW+hnQP0UXXXTRRdc/Ce0ltJfQ4j8=",
        "encoding": "base64",
        "path": [
         "_data",
         2,
         "y",
         "value"
        ]
       },
       {
        "data": "T0KGcHbH7j86EYT0pwfwPw==",
        "encoding": "base64",
        "path": [
         "_data",
         4,
         "x",
         "value"
        ]
       },
       {
        "data": "T0KGcHbH7j86EYT0pwfwPw==",
        "encoding": "base64",
        "path": [
         "_data",
         5,
         "x",
         "value"
        ]
       },
       {
        "data": "T0KGcHbH7j86EYT0pwfwPw==",
        "encoding": "base64",
        "path": [
         "_data",
         6,
         "x",
         "value"
        ]
       },
       {
        "data": "mPMp6AFctz9Gt/CrMZGOPw==",
        "encoding": "base64",
        "path": [
         "_data",
         6,
         "y",
         "value"
        ]
       },
       {
        "data": "5AmIzlf36D9emZpSNBjuPw==",
        "encoding": "base64",
        "path": [
         "_data",
         8,
         "x",
         "value"
        ]
       },
       {
        "data": "5AmIzlf36D9emZpSNBjuPw==",
        "encoding": "base64",
        "path": [
         "_data",
         9,
         "x",
         "value"
        ]
       },
       {
        "data": "5AmIzlf36D9emZpSNBjuPw==",
        "encoding": "base64",
        "path": [
         "_data",
         10,
         "x",
         "value"
        ]
       },
       {
        "data": "rLid02c/4D8e8DVNqh7gPw==",
        "encoding": "base64",
        "path": [
         "_data",
         10,
         "y",
         "value"
        ]
       },
       {
        "data": "+k0Z2ieF6z9n8Jvo6dzuP83MzMzMzOw/iSoyRzZm7j9XXkDVXgfpPx8Fm/+4E+4/kvh/CifL6j8B6oqXvM3kP0+KscuHWuQ/SHgHzFPJ7z8RvCr8pHPiPw==",
        "encoding": "base64",
        "path": [
         "_data",
         12,
         "x",
         "value"
        ]
       },
       {
        "data": "+k0Z2ieF6z9n8Jvo6dzuP83MzMzMzOw/iSoyRzZm7j9XXkDVXgfpPx8Fm/+4E+4/kvh/CifL6j8B6oqXvM3kP0+KscuHWuQ/SHgHzFPJ7z8RvCr8pHPiPw==",
        "encoding": "base64",
        "path": [
         "_data",
         13,
         "x",
         "value"
        ]
       },
       {
        "data": "+k0Z2ieF6z9n8Jvo6dzuP83MzMzMzOw/iSoyRzZm7j9XXkDVXgfpPx8Fm/+4E+4/kvh/CifL6j8B6oqXvM3kP0+KscuHWuQ/SHgHzFPJ7z8RvCr8pHPiPw==",
        "encoding": "base64",
        "path": [
         "_data",
         14,
         "x",
         "value"
        ]
       },
       {
        "data": "Ju+ND7gs4T8UO7ETO7HTP6jeOcE/89g/M8lF7VnLuT/UM5XrjhfbPyguGYJ1tMk/23eiGVIR2j8dz6mkgITfP/SuxWgy79o//P//////zD+BMYmD963hPw==",
        "encoding": "base64",
        "path": [
         "_data",
         14,
         "y",
         "value"
        ]
       },
       {
        "data": "exSuR+F6hD8Yl0Wb0e2eP/kRWkkZz6k/M6yI4qQTsj9pT2QgvT+3P5/yP17Va7w/68oNzvbLwD+HnPvsAmLDPyJu6QsP+MU/vT/XKhuOyD9YEcVJJyTLP/Tismgzus0/R1rQwx8o0D8VQ0fTJXPRP+MrvuIrvtI/sBQ18jEJ1D9+/asBOFTVP0zmIhE+n9Y/Gc+ZIETq1z/ntxAwSjXZP7Sghz9QgNo/gon+TlbL2z9QcnVeXBbdPx1b7G1iYd4/60NjfWis3z9cFm1Gt3vgP8OKKE46IeE/Kv/jVb3G4T+Rc59dQGziP/jnWmXDEeM/XlwWbUa34z/F0NF0yVzkPyxFjXxMAuU/k7lIhM+n5T/6LQSMUk3mP2Civ5PV8uY/xxZ7m1iY5z8uizaj2z3oP5X/8ape4+g//HOtsuGI6T9i6Gi6ZC7qP8lcJMLn0+o/MNHfyWp56z+XRZvR7R7sP/65VtlwxOw/ZS4S4fNp7T/Los3odg/uPzIXifD5tO4/mYtE+Hxa7z8AAAAAAADwPw==",
        "encoding": "base64",
        "path": [
         "_data",
         16,
         "x",
         "value"
        ]
       },
       {
        "data": "yQo2HoR0FkDv1oVR5rz9P5t7H1WT0fE/SlASCcVw6T9V2imC3MfjP10e1CRQLuA/GpiBwBNh2z+fr7Ze57nXP/OTw+vm7tQ/lyjxzIG60j8Y6UHmqvHQP9PLnHGg8M4/fEPMcLh2zD+XIL3qwlrKP927fy1Oicg/cUhYg+3zxj/yqYaws4/FPyxaqAYzVMQ/3reJftA6wz+RoaAITD7CP8j0ZudrWsE/oql4qr+LwD+f2WXg5p6/P9Cs8yhdRr4/hnltEfUJvT8RIN4uX+a7PxY6DwbM2Lo/0jiUx9TeuT9qHvHxaPa4Py4KOrC/Hbg/P6OdGUxTtz8/PhGus5W2P0M6qJTG47U/bAedPXk8tT8Aq90f3560P8lEMlomCrQ/arxVDJR9sz8UPqlFgfiyPwwxTm5YerI/ZwD1FJMCsj/oNfgPuJCxP1GXtuNZJLE/Oy/EYhW9sD+GQaN+kFqwPzA/xYLy+K8/kASt0wlFrz/sc2xK3piuP2hUk8Py860/TPUQbtRVrT+HLEXAGb6sPw==",
        "encoding": "base64",
        "path": [
         "_data",
         16,
         "y",
         "value"
        ]
       }
      ],
      "model_module": "jupyterlab-plotly",
      "model_module_version": "^5.1.0",
      "model_name": "FigureModel",
      "state": {
       "_config": {
        "plotlyServerURL": "https://plot.ly"
       },
       "_data": [
        {
         "legendgroup": "Mudstone",
         "marker": {
          "color": "Purple",
          "opacity": 0.3,
          "symbol": "circle"
         },
         "mode": "markers",
         "name": "Mudstone (pre-diagenesis)",
         "text": [
          "KC-2-1",
          "KC-2-2",
          "KC-2-2.5",
          "KC-2-3",
          "KC-2-3.5",
          "KC-2-4.5",
          "KC-2-5",
          "KC-2-6",
          "KC-2-6.5",
          "KC-2-7",
          "KC-2-8",
          "KC-2-9",
          "KC-2-10",
          "KC-2-11",
          "KC-2-12",
          "KC-2-13",
          "KC-2-14",
          "KC-2-14.5",
          "KC-2-15",
          "KC-2-15.5",
          "KC-2-16",
          "KC-2-17",
          "KC-2-18",
          "KC-2-19",
          "KC-2-20",
          "KC-2-21",
          "KC-2-21.5",
          "KC-2-22",
          "KC-2-23",
          "KC-2-24",
          "KC-2-25",
          "KC-2-25.5",
          "KC-2-26",
          "KC-2-26.5",
          "KC-2-27",
          "KC-2-28",
          "KC-2-29"
         ],
         "type": "scatter",
         "uid": "5474114f-3f81-446e-bad8-8072e28c4599",
         "x": {
          "dtype": "float64",
          "shape": [
           37
          ]
         },
         "y": [
          0.10265624999999999,
          0.41062499999999996,
          0.20061068702290075,
          0.20531249999999998,
          0.21453061224489792,
          0.13476923076923075,
          0.27233160621761654,
          0.1383157894736842,
          0.14847457627118643,
          0.15736526946107784,
          0.06249702734839476,
          0.26545454545454544,
          0.06417582417582417,
          0.19252747252747252,
          0.06636363636363636,
          0.3147305389221557,
          0.1812413793103448,
          0.1617230769230769,
          0.4043076923076923,
          0.14681564245810055,
          0.0975139146567718,
          0.4308196721311475,
          0.09237258347978909,
          0.3504,
          0.10792607802874742,
          0.3369230769230769,
          0.2246153846153846,
          0.110188679245283,
          0.2502857142857143,
          0.16122699386503067,
          0.2576470588235294,
          0.19466666666666663,
          0.13941644562334216,
          0.29694915254237286,
          0.11112050739957714,
          0.11945454545454544,
          0.2433333333333333
         ]
        },
        {
         "legendgroup": "Mudstone",
         "marker": {
          "color": "Green",
          "symbol": "circle"
         },
         "mode": "markers",
         "name": "Mudstone (modelled)",
         "text": [
          "KC-2-1",
          "KC-2-2",
          "KC-2-2.5",
          "KC-2-3",
          "KC-2-3.5",
          "KC-2-4.5",
          "KC-2-5",
          "KC-2-6",
          "KC-2-6.5",
          "KC-2-7",
          "KC-2-8",
          "KC-2-9",
          "KC-2-10",
          "KC-2-11",
          "KC-2-12",
          "KC-2-13",
          "KC-2-14",
          "KC-2-14.5",
          "KC-2-15",
          "KC-2-15.5",
          "KC-2-16",
          "KC-2-17",
          "KC-2-18",
          "KC-2-19",
          "KC-2-20",
          "KC-2-21",
          "KC-2-21.5",
          "KC-2-22",
          "KC-2-23",
          "KC-2-24",
          "KC-2-25",
          "KC-2-25.5",
          "KC-2-26",
          "KC-2-26.5",
          "KC-2-27",
          "KC-2-28",
          "KC-2-29"
         ],
         "type": "scatter",
         "uid": "19c3ed3d-a0d0-423c-a5b7-19426980e9db",
         "x": {
          "dtype": "float64",
          "shape": [
           37
          ]
         },
         "y": [
          0.14407253526657243,
          0.5762901410662897,
          0.2815463284598667,
          0.28814507053314486,
          0.3010821961489187,
          0.18914137963201302,
          0.38220278785743567,
          0.19411878435917126,
          0.2083760962047601,
          0.22085370675594337,
          0.08771122242150425,
          0.3725512023054802,
          0.0900673236342919,
          0.27020197090287573,
          0.09313780057637006,
          0.44170741351188675,
          0.25436254502236233,
          0.22696965555841564,
          0.5674241388960392,
          0.20604787166615943,
          0.13685554370405395,
          0.6046322791515171,
          0.1296399614349474,
          0.49176758704323387,
          0.15146845596814185,
          0.4728534490800326,
          0.31523563272002175,
          0.1546438952966144,
          0.35126256217373847,
          0.2262734296211199,
          0.36159381400237783,
          0.2732042150240188,
          0.19566349617104795,
          0.4167521924095202,
          0.1559516660813638,
          0.16764804103746608,
          0.3415052687800235
         ]
        },
        {
         "legendgroup": "Mudstone",
         "marker": {
          "color": "Blue",
          "opacity": 0.3,
          "symbol": "circle"
         },
         "mode": "markers",
         "name": "Mudstone (post-diagenesis)",
         "text": [
          "KC-2-1",
          "KC-2-2",
          "KC-2-2.5",
          "KC-2-3",
          "KC-2-3.5",
          "KC-2-4.5",
          "KC-2-5",
          "KC-2-6",
          "KC-2-6.5",
          "KC-2-7",
          "KC-2-8",
          "KC-2-9",
          "KC-2-10",
          "KC-2-11",
          "KC-2-12",
          "KC-2-13",
          "KC-2-14",
          "KC-2-14.5",
          "KC-2-15",
          "KC-2-15.5",
          "KC-2-16",
          "KC-2-17",
          "KC-2-18",
          "KC-2-19",
          "KC-2-20",
          "KC-2-21",
          "KC-2-21.5",
          "KC-2-22",
          "KC-2-23",
          "KC-2-24",
          "KC-2-25",
          "KC-2-25.5",
          "KC-2-26",
          "KC-2-26.5",
          "KC-2-27",
          "KC-2-28",
          "KC-2-29"
         ],
         "type": "scatter",
         "uid": "924afc39-5aa3-457d-9006-43023ed91891",
         "x": {
          "dtype": "float64",
          "shape": [
           37
          ]
         },
         "y": {
          "dtype": "float64",
          "shape": [
           37
          ]
         }
        },
        {
         "legendgroup": "Mudstone",
         "marker": {
          "color": "FireBrick",
          "symbol": "circle"
         },
         "mode": "markers",
         "name": "Mudstone (residuals)",
         "text": [
          "KC-2-1",
          "KC-2-2",
          "KC-2-2.5",
          "KC-2-3",
          "KC-2-3.5",
          "KC-2-4.5",
          "KC-2-5",
          "KC-2-6",
          "KC-2-6.5",
          "KC-2-7",
          "KC-2-8",
          "KC-2-9",
          "KC-2-10",
          "KC-2-11",
          "KC-2-12",
          "KC-2-13",
          "KC-2-14",
          "KC-2-14.5",
          "KC-2-15",
          "KC-2-15.5",
          "KC-2-16",
          "KC-2-17",
          "KC-2-18",
          "KC-2-19",
          "KC-2-20",
          "KC-2-21",
          "KC-2-21.5",
          "KC-2-22",
          "KC-2-23",
          "KC-2-24",
          "KC-2-25",
          "KC-2-25.5",
          "KC-2-26",
          "KC-2-26.5",
          "KC-2-27",
          "KC-2-28",
          "KC-2-29"
         ],
         "type": "scatter",
         "uid": "fbe9a6a2-3a16-4e9d-bd7e-dd9546dc7167",
         "visible": false
        },
        {
         "legendgroup": "Carbonate",
         "marker": {
          "color": "Purple",
          "opacity": 0.3,
          "symbol": "star"
         },
         "mode": "markers",
         "name": "Carbonate (pre-diagenesis)",
         "text": [
          "KC-2-0",
          "KC-2-30"
         ],
         "type": "scatter",
         "uid": "bb4e25e2-4c13-430d-ab2e-36ee2ed0440e",
         "x": {
          "dtype": "float64",
          "shape": [
           2
          ]
         },
         "y": [
          0.09787709497206704,
          0.1961194029850746
         ]
        },
        {
         "legendgroup": "Carbonate",
         "marker": {
          "color": "Green",
          "symbol": "star"
         },
         "mode": "markers",
         "name": "Carbonate (modelled)",
         "text": [
          "KC-2-0",
          "KC-2-30"
         ],
         "type": "scatter",
         "uid": "c2db1b66-9605-42de-9ebc-51264df2c440",
         "x": {
          "dtype": "float64",
          "shape": [
           2
          ]
         },
         "y": [
          0.13736524777743964,
          0.2752430524495712
         ]
        },
        {
         "legendgroup": "Carbonate",
         "marker": {
          "color": "Blue",
          "opacity": 0.3,
          "symbol": "star"
         },
         "mode": "markers",
         "name": "Carbonate (post-diagenesis)",
         "text": [
          "KC-2-0",
          "KC-2-30"
         ],
         "type": "scatter",
         "uid": "52022372-e4d4-49ff-9d62-9b1dba13a456",
         "x": {
          "dtype": "float64",
          "shape": [
           2
          ]
         },
         "y": {
          "dtype": "float64",
          "shape": [
           2
          ]
         }
        },
        {
         "legendgroup": "Carbonate",
         "marker": {
          "color": "FireBrick",
          "symbol": "star"
         },
         "mode": "markers",
         "name": "Carbonate (residuals)",
         "text": [
          "KC-2-0",
          "KC-2-30"
         ],
         "type": "scatter",
         "uid": "fff533ca-2969-4a43-b401-a7fa37d5920b",
         "visible": false
        },
        {
         "legendgroup": "Pervasively pyritised regions",
         "marker": {
          "color": "Purple",
          "opacity": 0.3,
          "symbol": "square"
         },
         "mode": "markers",
         "name": "Pervasively pyritised regions (pre-diagenesis)",
         "text": [
          "KC-2-6p",
          "KC-2-22p"
         ],
         "type": "scatter",
         "uid": "3a7c4267-c191-42d3-84b4-43076962ff16",
         "x": {
          "dtype": "float64",
          "shape": [
           2
          ]
         },
         "y": [
          0.16272445820433437,
          0.05621390374331551
         ]
        },
        {
         "legendgroup": "Pervasively pyritised regions",
         "marker": {
          "color": "Green",
          "symbol": "square"
         },
         "mode": "markers",
         "name": "Pervasively pyritised regions (modelled)",
         "text": [
          "KC-2-6p",
          "KC-2-22p"
         ],
         "type": "scatter",
         "uid": "fd91928a-6d04-4a08-b5cf-d42f32dd1665",
         "x": {
          "dtype": "float64",
          "shape": [
           2
          ]
         },
         "y": [
          0.22837504042255447,
          0.07889319578233699
         ]
        },
        {
         "legendgroup": "Pervasively pyritised regions",
         "marker": {
          "color": "Blue",
          "opacity": 0.3,
          "symbol": "square"
         },
         "mode": "markers",
         "name": "Pervasively pyritised regions (post-diagenesis)",
         "text": [
          "KC-2-6p",
          "KC-2-22p"
         ],
         "type": "scatter",
         "uid": "fbace3fa-a29a-4f50-ade9-b2924f4bdc5b",
         "x": {
          "dtype": "float64",
          "shape": [
           2
          ]
         },
         "y": {
          "dtype": "float64",
          "shape": [
           2
          ]
         }
        },
        {
         "legendgroup": "Pervasively pyritised regions",
         "marker": {
          "color": "FireBrick",
          "symbol": "square"
         },
         "mode": "markers",
         "name": "Pervasively pyritised regions (residuals)",
         "text": [
          "KC-2-6p",
          "KC-2-22p"
         ],
         "type": "scatter",
         "uid": "df87d4f4-5bf1-4f31-ae55-ff64d5bd2241",
         "visible": false
        },
        {
         "legendgroup": "Bed 22",
         "marker": {
          "color": "Purple",
          "opacity": 0.3,
          "symbol": "diamond"
         },
         "mode": "markers",
         "name": "Bed 22 (pre-diagenesis)",
         "text": [
          "KC-3-A",
          "KC-3-B",
          "KC-3-C",
          "KC-3-D",
          "KC-3-E",
          "KC-3-F",
          "KC-3-G",
          "KC-3-H",
          "KC-3-I",
          "KC-3-J",
          "KC-3-K"
         ],
         "type": "scatter",
         "uid": "1c952031-50a7-4234-bbb4-1b0a1a4f5f86",
         "x": {
          "dtype": "float64",
          "shape": [
           11
          ]
         },
         "y": [
          0.13306329113924048,
          0.10639676113360322,
          0.0503448275862069,
          0.03627329192546583,
          0.16122699386503067,
          0.1077049180327869,
          0.07112313937753721,
          0.26412060301507534,
          0.20293436293436293,
          0.08212499999999999,
          0.2903867403314917
         ]
        },
        {
         "legendgroup": "Bed 22",
         "marker": {
          "color": "Green",
          "symbol": "diamond"
         },
         "mode": "markers",
         "name": "Bed 22 (modelled)",
         "text": [
          "KC-3-A",
          "KC-3-B",
          "KC-3-C",
          "KC-3-D",
          "KC-3-E",
          "KC-3-F",
          "KC-3-G",
          "KC-3-H",
          "KC-3-I",
          "KC-3-J",
          "KC-3-K"
         ],
         "type": "scatter",
         "uid": "26202bde-f881-4dc6-bbe1-00675e19f387",
         "x": {
          "dtype": "float64",
          "shape": [
           11
          ]
         },
         "y": [
          0.18674718495312678,
          0.14932214181474712,
          0.07065626250621176,
          0.0509076177063389,
          0.2262734296211199,
          0.1511580697878793,
          0.09981750751892433,
          0.3706790857109803,
          0.28480748284357177,
          0.11525802821325794,
          0.4075421992070999
         ]
        },
        {
         "legendgroup": "Bed 22",
         "marker": {
          "color": "Blue",
          "opacity": 0.3,
          "symbol": "diamond"
         },
         "mode": "markers",
         "name": "Bed 22 (post-diagenesis)",
         "text": [
          "KC-3-A",
          "KC-3-B",
          "KC-3-C",
          "KC-3-D",
          "KC-3-E",
          "KC-3-F",
          "KC-3-G",
          "KC-3-H",
          "KC-3-I",
          "KC-3-J",
          "KC-3-K"
         ],
         "type": "scatter",
         "uid": "a813802d-eec8-42c8-8ec5-f07d899d27db",
         "x": {
          "dtype": "float64",
          "shape": [
           11
          ]
         },
         "y": {
          "dtype": "float64",
          "shape": [
           11
          ]
         }
        },
        {
         "legendgroup": "Bed 22",
         "marker": {
          "color": "FireBrick",
          "symbol": "diamond"
         },
         "mode": "markers",
         "name": "Bed 22 (residuals)",
         "text": [
          "KC-3-A",
          "KC-3-B",
          "KC-3-C",
          "KC-3-D",
          "KC-3-E",
          "KC-3-F",
          "KC-3-G",
          "KC-3-H",
          "KC-3-I",
          "KC-3-J",
          "KC-3-K"
         ],
         "type": "scatter",
         "uid": "19b15f82-b515-4822-8683-ce35857311d3",
         "visible": false
        },
        {
         "line": {
          "color": "LightGreen"
         },
         "name": "model (const. total Fe)",
         "type": "scatter",
         "uid": "24ff2181-208c-4b68-beee-f3f60a266926",
         "x": {
          "dtype": "float64",
          "shape": [
           50
          ]
         },
         "y": {
          "dtype": "float64",
          "shape": [
           50
          ]
         }
        }
       ],
       "_js2py_pointsCallback": {},
       "_js2py_relayout": {},
       "_js2py_restyle": {},
       "_js2py_update": {},
       "_last_layout_edit_id": 26,
       "_last_trace_edit_id": 22,
       "_layout": {
        "height": 600,
        "legend": {
         "font": {
          "size": 11
         }
        },
        "shapes": [
         {
          "line": {
           "dash": "dash",
           "width": 1
          },
          "type": "line",
          "x0": 0,
          "x1": 1,
          "xref": "x domain",
          "y0": 0.8,
          "y1": 0.8,
          "yref": "y"
         },
         {
          "line": {
           "dash": "dash",
           "width": 1
          },
          "type": "line",
          "x0": 0.38,
          "x1": 0.38,
          "xref": "x",
          "y0": 0,
          "y1": 1,
          "yref": "y domain"
         }
        ],
        "template": {
         "layout": {
          "bargap": 0.05,
          "bargroupgap": 0,
          "font": {
           "color": "black",
           "family": "Segoe UI",
           "size": 17
          },
          "height": 700,
          "hovermode": "closest",
          "margin": {
           "b": 60,
           "l": 90,
           "r": 30,
           "t": 30
          },
          "scene": {
           "xaxis": {
            "color": "black",
            "linewidth": 2,
            "showline": true,
            "ticks": "outside"
           },
           "yaxis": {
            "color": "black",
            "linewidth": 2,
            "showline": true,
            "ticks": "outside"
           },
           "zaxis": {
            "color": "black",
            "linewidth": 2,
            "showline": true,
            "ticks": "outside"
           }
          },
          "xaxis": {
           "color": "black",
           "linewidth": 1.3,
           "mirror": true,
           "showgrid": true,
           "showline": true,
           "ticks": "outside",
           "zeroline": true
          },
          "yaxis": {
           "color": "black",
           "linewidth": 1.3,
           "mirror": true,
           "showgrid": true,
           "showline": true,
           "ticks": "outside",
           "zeroline": true
          }
         }
        },
        "width": 900,
        "xaxis": {
         "range": [
          0,
          1
         ],
         "title": {
          "text": "[Fe<sub>HR</sub>]/[Fe<sub>tot</sub>]"
         }
        },
        "yaxis": {
         "range": [
          0,
          1
         ],
         "title": {
          "text": "[Fe<sub>py</sub>]/[Fe<sub>HR</sub>]"
         }
        }
       },
       "_py2js_animate": {},
       "_py2js_deleteTraces": {},
       "_py2js_moveTraces": {},
       "_py2js_removeLayoutProps": {},
       "_py2js_removeTraceProps": {},
       "_py2js_restyle": {},
       "_view_count": 1
      }
     },
     "24369b7897494a5bafc55c5565d71a2e": {
      "model_module": "@jupyter-widgets/base",
      "model_module_version": "1.2.0",
      "model_name": "LayoutModel",
      "state": {}
     },
     "284c0e3e724b4023bf98e5a691e018e8": {
      "model_module": "@jupyter-widgets/base",
      "model_module_version": "1.2.0",
      "model_name": "LayoutModel",
      "state": {}
     },
     "290f797c96c0401abcc2358691d2bb94": {
      "model_module": "@jupyter-widgets/base",
      "model_module_version": "1.2.0",
      "model_name": "LayoutModel",
      "state": {
       "width": "100%"
      }
     },
     "2af12b06697744bdb8aad1f1f7cdc012": {
      "model_module": "@jupyter-widgets/controls",
      "model_module_version": "1.5.0",
      "model_name": "HBoxModel",
      "state": {
       "children": [
        "IPY_MODEL_31040caa25414e179dac421343051b2d",
        "IPY_MODEL_2f98f8f2bdf5420f87beca306c2c990b"
       ],
       "layout": "IPY_MODEL_c346815105a748abb5d5abbcd1e65c29"
      }
     },
     "2e57aaaacd3c4afabbc6d8e64fd184ee": {
      "model_module": "@jupyter-widgets/controls",
      "model_module_version": "1.5.0",
      "model_name": "HBoxModel",
      "state": {
       "children": [
        "IPY_MODEL_608e093e1f634c489a5eb7ce9d60e669",
        "IPY_MODEL_deaade8a3d9148a59e09772f1fe41686",
        "IPY_MODEL_3b03e7967c384638bb072ba2dc100af4"
       ],
       "layout": "IPY_MODEL_c9b5b791725343108bffd61767ec99e8"
      }
     },
     "2f98f8f2bdf5420f87beca306c2c990b": {
      "model_module": "@jupyter-widgets/controls",
      "model_module_version": "1.5.0",
      "model_name": "FloatSliderModel",
      "state": {
       "description": "k<sub>MSR</sub>",
       "layout": "IPY_MODEL_023743ceee52466eb3a39231ce05560c",
       "max": 40,
       "step": 0.1,
       "style": "IPY_MODEL_b8f65bbb1c774d88a90863e470ae75a0",
       "value": 10
      }
     },
     "304d5507a15042589a86e8218f64e088": {
      "model_module": "@jupyter-widgets/base",
      "model_module_version": "1.2.0",
      "model_name": "LayoutModel",
      "state": {
       "width": "100%"
      }
     },
     "308d102a346249abb19cfba13d63df52": {
      "model_module": "@jupyter-widgets/controls",
      "model_module_version": "1.5.0",
      "model_name": "FloatSliderModel",
      "state": {
       "description": "[SO<sub>4</sub>]<sub>0</sub>",
       "layout": "IPY_MODEL_4d1d38d58c59410a9f3101b1182c7e24",
       "max": 0.3,
       "min": 0.001,
       "step": 0.001,
       "style": "IPY_MODEL_51c4165bc7974cc4b76625682787228e",
       "value": 0.0105
      }
     },
     "31040caa25414e179dac421343051b2d": {
      "model_module": "@jupyter-widgets/controls",
      "model_module_version": "1.5.0",
      "model_name": "FloatSliderModel",
      "state": {
       "description": "ε<sub>MSR</sub>",
       "layout": "IPY_MODEL_ac3359a2c0cf4d0fbaefa229d82f17ff",
       "style": "IPY_MODEL_7c1e41b1c7304bf19d32722cdc4d867c",
       "value": 54
      }
     },
     "31186069ef474fa380c2708ab55eadcd": {
      "model_module": "@jupyter-widgets/base",
      "model_module_version": "1.2.0",
      "model_name": "LayoutModel",
      "state": {
       "width": "100%"
      }
     },
     "31405a981b4c4a09995a5654d95607b6": {
      "model_module": "@jupyter-widgets/controls",
      "model_module_version": "1.5.0",
      "model_name": "DropdownModel",
      "state": {
       "_options_labels": [
        "SO4_0",
        "py_0",
        "d34S_SO4_0",
        "epsilon_MSR",
        "k_MSR",
        "v",
        "D_32",
        "beta",
        "max_z",
        "dz"
       ],
       "description": "Vary",
       "index": 5,
       "layout": "IPY_MODEL_6030f27343ff4053a30e57eea98adbf2",
       "style": "IPY_MODEL_a6f16a2403624603a967b4f5104aa0be"
      }
     },
     "31bb1a9b40cd4c889d743f1f5f5688b0": {
      "model_module": "@jupyter-widgets/controls",
      "model_module_version": "1.5.0",
      "model_name": "CheckboxModel",
      "state": {
       "description": "Plot syn-depositional pyrite",
       "disabled": false,
       "layout": "IPY_MODEL_3284b4903ff9456bbec8921598f99a40",
       "style": "IPY_MODEL_f91ed0d7fa50401bbc4c8ec354699ad4",
       "value": true
      }
     },
     "31d4b2eb328d4940ac47da46a1c62cb6": {
      "model_module": "@jupyter-widgets/output",
      "model_module_version": "1.0.0",
      "model_name": "OutputModel",
      "state": {
       "layout": "IPY_MODEL_42a744f5df414e31ac99f850daef2e27"
      }
     },
     "321851f154c54c69b19f1f7b7dd042f1": {
      "model_module": "@jupyter-widgets/base",
      "model_module_version": "1.2.0",
      "model_name": "LayoutModel",
      "state": {}
     },
     "3284b4903ff9456bbec8921598f99a40": {
      "model_module": "@jupyter-widgets/base",
      "model_module_version": "1.2.0",
      "model_name": "LayoutModel",
      "state": {}
     },
     "339c4e4a3caa414db8ceb85e2bc8f84d": {
      "model_module": "@jupyter-widgets/controls",
      "model_module_version": "1.5.0",
      "model_name": "FloatSliderModel",
      "state": {
       "description": "β",
       "layout": "IPY_MODEL_fca456c596684bbebf2f694d6620029d",
       "max": 0.05,
       "step": 0.001,
       "style": "IPY_MODEL_c100c41a14bd4b5eab52ea861601b328",
       "value": 0.025
      }
     },
     "3777f189a7954db6affb23d09b5ead6c": {
      "model_module": "@jupyter-widgets/base",
      "model_module_version": "1.2.0",
      "model_name": "LayoutModel",
      "state": {}
     },
     "378021d43f814fe8ae13cfa0eb953b4e": {
      "model_module": "@jupyter-widgets/controls",
      "model_module_version": "1.5.0",
      "model_name": "DescriptionStyleModel",
      "state": {
       "description_width": ""
      }
     },
     "37e086c833684e8784988a712634fe18": {
      "model_module": "@jupyter-widgets/controls",
      "model_module_version": "1.5.0",
      "model_name": "SliderStyleModel",
      "state": {
       "description_width": ""
      }
     },
     "38d910f57f674257a8051964cdb3f351": {
      "model_module": "@jupyter-widgets/base",
      "model_module_version": "1.2.0",
      "model_name": "LayoutModel",
      "state": {
       "width": "100%"
      }
     },
     "390dcc442d62428f98e0350539f5cabd": {
      "model_module": "@jupyter-widgets/controls",
      "model_module_version": "1.5.0",
      "model_name": "FloatSliderModel",
      "state": {
       "description": "k<sub>MSR</sub>",
       "layout": "IPY_MODEL_485efc199cb14a3ba4a8a15a5e7902c3",
       "max": 40,
       "step": 0.1,
       "style": "IPY_MODEL_f6161c3e76ec4f469f22de242492d989",
       "value": 10
      }
     },
     "3b03e7967c384638bb072ba2dc100af4": {
      "model_module": "@jupyter-widgets/controls",
      "model_module_version": "1.5.0",
      "model_name": "FloatSliderModel",
      "state": {
       "description": "Opacity",
       "layout": "IPY_MODEL_949e6160463f4972a17b2a3228e0627c",
       "max": 1,
       "step": 0.01,
       "style": "IPY_MODEL_6229e4b8ae144ecd989eccd737be5c83",
       "value": 0.7
      }
     },
     "3b0ef1c97a32452494b9f03ded7ce057": {
      "model_module": "@jupyter-widgets/base",
      "model_module_version": "1.2.0",
      "model_name": "LayoutModel",
      "state": {
       "width": "100%"
      }
     },
     "3fa938ec20f046ff9287a0d4c784e8d4": {
      "model_module": "@jupyter-widgets/controls",
      "model_module_version": "1.5.0",
      "model_name": "FloatSliderModel",
      "state": {
       "description": "k<sub>MSR</sub>",
       "layout": "IPY_MODEL_be13d7d23cc14a61a5d38e5f8edd32f0",
       "max": 40,
       "step": 0.1,
       "style": "IPY_MODEL_16db3b202b5a4c34814882620f0b0a3e",
       "value": 10
      }
     },
     "40158f7c1d8d47a8b3730e40341d45eb": {
      "model_module": "@jupyter-widgets/base",
      "model_module_version": "1.2.0",
      "model_name": "LayoutModel",
      "state": {
       "width": "100%"
      }
     },
     "42a744f5df414e31ac99f850daef2e27": {
      "model_module": "@jupyter-widgets/base",
      "model_module_version": "1.2.0",
      "model_name": "LayoutModel",
      "state": {}
     },
     "430dadd88e504ef1ba265267162af8d4": {
      "model_module": "@jupyter-widgets/base",
      "model_module_version": "1.2.0",
      "model_name": "LayoutModel",
      "state": {
       "width": "100%"
      }
     },
     "440a562c7f1b4268a1a86b6f19d10940": {
      "model_module": "@jupyter-widgets/base",
      "model_module_version": "1.2.0",
      "model_name": "LayoutModel",
      "state": {}
     },
     "443a28000fb148909f53f56827cfb8d2": {
      "model_module": "@jupyter-widgets/base",
      "model_module_version": "1.2.0",
      "model_name": "LayoutModel",
      "state": {
       "width": "100%"
      }
     },
     "444d72c979a442c7bfb5e3594f3ebc06": {
      "model_module": "@jupyter-widgets/controls",
      "model_module_version": "1.5.0",
      "model_name": "SliderStyleModel",
      "state": {
       "description_width": ""
      }
     },
     "45ec31823ffe44ed858d71290205ed84": {
      "model_module": "@jupyter-widgets/controls",
      "model_module_version": "1.5.0",
      "model_name": "SliderStyleModel",
      "state": {
       "description_width": ""
      }
     },
     "485efc199cb14a3ba4a8a15a5e7902c3": {
      "model_module": "@jupyter-widgets/base",
      "model_module_version": "1.2.0",
      "model_name": "LayoutModel",
      "state": {
       "width": "100%"
      }
     },
     "48fe2ea8b10d4c4d895a1166e7e8b71c": {
      "model_module": "@jupyter-widgets/base",
      "model_module_version": "1.2.0",
      "model_name": "LayoutModel",
      "state": {}
     },
     "4ad6b1dc676d4409866e7867ffb628b5": {
      "model_module": "@jupyter-widgets/controls",
      "model_module_version": "1.5.0",
      "model_name": "HBoxModel",
      "state": {
       "children": [
        "IPY_MODEL_c68c45af6b154949b679afb848077c0b",
        "IPY_MODEL_390dcc442d62428f98e0350539f5cabd"
       ],
       "layout": "IPY_MODEL_7bf8ea7714e743ddac71e07865a0b360"
      }
     },
     "4af03ea0360e40d6816a26f6ee8b9e94": {
      "model_module": "@jupyter-widgets/base",
      "model_module_version": "1.2.0",
      "model_name": "LayoutModel",
      "state": {
       "width": "100%"
      }
     },
     "4d1d38d58c59410a9f3101b1182c7e24": {
      "model_module": "@jupyter-widgets/base",
      "model_module_version": "1.2.0",
      "model_name": "LayoutModel",
      "state": {
       "width": "100%"
      }
     },
     "4d2135be1d174e4996ba1558a3a0b322": {
      "model_module": "@jupyter-widgets/controls",
      "model_module_version": "1.5.0",
      "model_name": "SliderStyleModel",
      "state": {
       "description_width": ""
      }
     },
     "5033f898e43a499d954d4d5574d606a9": {
      "model_module": "@jupyter-widgets/controls",
      "model_module_version": "1.5.0",
      "model_name": "FloatSliderModel",
      "state": {
       "description": "dz",
       "layout": "IPY_MODEL_1a1749f2633e41aa96933731272050a1",
       "max": 0.1,
       "min": 0.001,
       "step": 0.001,
       "style": "IPY_MODEL_83e26703a4a5456bba70794407448362",
       "value": 0.01
      }
     },
     "50f589ac9e8649d080f26462de1bceaf": {
      "model_module": "@jupyter-widgets/controls",
      "model_module_version": "1.5.0",
      "model_name": "SliderStyleModel",
      "state": {
       "description_width": ""
      }
     },
     "51c4165bc7974cc4b76625682787228e": {
      "model_module": "@jupyter-widgets/controls",
      "model_module_version": "1.5.0",
      "model_name": "SliderStyleModel",
      "state": {
       "description_width": ""
      }
     },
     "51da733f05a449f9a931bd1092f66f73": {
      "model_module": "@jupyter-widgets/controls",
      "model_module_version": "1.5.0",
      "model_name": "FloatSliderModel",
      "state": {
       "description": "[FeS<sub>2</sub>]<sub>0</sub>",
       "layout": "IPY_MODEL_40158f7c1d8d47a8b3730e40341d45eb",
       "max": 1,
       "step": 0.0025,
       "style": "IPY_MODEL_6caf6c66a5234965a2d5ceec0d9fb7f6",
       "value": 0.16
      }
     },
     "5659ad219271466db5d49fa7e33f65c1": {
      "model_module": "@jupyter-widgets/controls",
      "model_module_version": "1.5.0",
      "model_name": "SliderStyleModel",
      "state": {
       "description_width": ""
      }
     },
     "5669bd9883264f5cac669218ae1a78fc": {
      "model_module": "@jupyter-widgets/controls",
      "model_module_version": "1.5.0",
      "model_name": "SliderStyleModel",
      "state": {
       "description_width": ""
      }
     },
     "572cb8914adc4ba8b81aa04f311327fa": {
      "model_module": "@jupyter-widgets/controls",
      "model_module_version": "1.5.0",
      "model_name": "SliderStyleModel",
      "state": {
       "description_width": ""
      }
     },
     "574a03c659c942498489e8b10941ea2a": {
      "model_module": "@jupyter-widgets/base",
      "model_module_version": "1.2.0",
      "model_name": "LayoutModel",
      "state": {
       "width": "100%"
      }
     },
     "5879289e6bf247428a6591cead59ad29": {
      "model_module": "@jupyter-widgets/controls",
      "model_module_version": "1.5.0",
      "model_name": "SliderStyleModel",
      "state": {
       "description_width": ""
      }
     },
     "5998d1325a2d4900b183b0315a430752": {
      "model_module": "@jupyter-widgets/controls",
      "model_module_version": "1.5.0",
      "model_name": "FloatRangeSliderModel",
      "state": {
       "_model_name": "FloatRangeSliderModel",
       "_view_name": "FloatRangeSliderView",
       "continuous_update": false,
       "description": "β",
       "layout": "IPY_MODEL_703bd8ce05f7405d9cd258241684ccb0",
       "max": 0.05,
       "step": 0.001,
       "style": "IPY_MODEL_5d3131d3e6504484a5ff15e56b6bab4b",
       "value": [
        0,
        0.05
       ]
      }
     },
     "5b9cc6d47a6c4657af8c8248f19eb764": {
      "model_module": "@jupyter-widgets/controls",
      "model_module_version": "1.5.0",
      "model_name": "FloatSliderModel",
      "state": {
       "description": "z<sub>max</sub>",
       "layout": "IPY_MODEL_69ed10d7c8e7412d87cf8d02a5a58f80",
       "max": 10,
       "min": 0.01,
       "step": 0.01,
       "style": "IPY_MODEL_ae45b7e299174911a6e55114a7fb7d64",
       "value": 1.5
      }
     },
     "5d3131d3e6504484a5ff15e56b6bab4b": {
      "model_module": "@jupyter-widgets/controls",
      "model_module_version": "1.5.0",
      "model_name": "SliderStyleModel",
      "state": {
       "description_width": ""
      }
     },
     "5d8d9dfc0870461ca5ae59d245d571b9": {
      "model_module": "@jupyter-widgets/controls",
      "model_module_version": "1.5.0",
      "model_name": "SliderStyleModel",
      "state": {
       "description_width": ""
      }
     },
     "5dd9439d1e994909893a7446e597024b": {
      "model_module": "@jupyter-widgets/base",
      "model_module_version": "1.2.0",
      "model_name": "LayoutModel",
      "state": {}
     },
     "5dec6c94d8dd4a66bb6b77cf8947f068": {
      "model_module": "@jupyter-widgets/controls",
      "model_module_version": "1.5.0",
      "model_name": "HBoxModel",
      "state": {
       "children": [
        "IPY_MODEL_69a868e5e1d243b99728420a78b616b0",
        "IPY_MODEL_0a0033fee2054e4aabec09aa945babb8"
       ],
       "layout": "IPY_MODEL_5dd9439d1e994909893a7446e597024b"
      }
     },
     "5f057134b1ae4da7b9d5a548d0222883": {
      "model_module": "@jupyter-widgets/controls",
      "model_module_version": "1.5.0",
      "model_name": "HBoxModel",
      "state": {
       "children": [
        "IPY_MODEL_7981329051be44b6a2ee93548bcd59de",
        "IPY_MODEL_121d1b4d9a2d4efbb1681ef2cd450540"
       ],
       "layout": "IPY_MODEL_174928529cf54573a43e1cd48b4d5e05"
      }
     },
     "5f3dfda09659493cb22cca85119c5e14": {
      "model_module": "@jupyter-widgets/base",
      "model_module_version": "1.2.0",
      "model_name": "LayoutModel",
      "state": {}
     },
     "6030f27343ff4053a30e57eea98adbf2": {
      "model_module": "@jupyter-widgets/base",
      "model_module_version": "1.2.0",
      "model_name": "LayoutModel",
      "state": {
       "width": "200px"
      }
     },
     "608e093e1f634c489a5eb7ce9d60e669": {
      "model_module": "@jupyter-widgets/controls",
      "model_module_version": "1.5.0",
      "model_name": "DropdownModel",
      "state": {
       "_options_labels": [
        "SO4_0",
        "py_0",
        "d34S_SO4_0",
        "epsilon_MSR",
        "k_MSR",
        "v",
        "D_32",
        "beta"
       ],
       "description": "Colour",
       "index": 5,
       "layout": "IPY_MODEL_7c52d3ddf53542228c13b0131635c862",
       "style": "IPY_MODEL_973d118253c5452797f423d2eea6fb9f"
      }
     },
     "6229e4b8ae144ecd989eccd737be5c83": {
      "model_module": "@jupyter-widgets/controls",
      "model_module_version": "1.5.0",
      "model_name": "SliderStyleModel",
      "state": {
       "description_width": ""
      }
     },
     "62810a5b2fdf4187affb4117090695d6": {
      "model_module": "@jupyter-widgets/controls",
      "model_module_version": "1.5.0",
      "model_name": "FloatSliderModel",
      "state": {
       "description": "[FeS<sub>2</sub>]<sub>0</sub>",
       "layout": "IPY_MODEL_0287b223e76242bc91e30bdd1b8f23c7",
       "max": 1,
       "step": 0.0025,
       "style": "IPY_MODEL_b3ca43d5445147eabfc8511559f38c4d",
       "value": 0.16
      }
     },
     "62994e457ffc48ee91d1eb826667e60b": {
      "model_module": "@jupyter-widgets/controls",
      "model_module_version": "1.5.0",
      "model_name": "DescriptionStyleModel",
      "state": {
       "description_width": ""
      }
     },
     "62aa2ce2c762409197697b223b675b8a": {
      "model_module": "@jupyter-widgets/base",
      "model_module_version": "1.2.0",
      "model_name": "LayoutModel",
      "state": {
       "width": "100%"
      }
     },
     "6364f6e464d041579cf55db7eb24120d": {
      "model_module": "@jupyter-widgets/base",
      "model_module_version": "1.2.0",
      "model_name": "LayoutModel",
      "state": {}
     },
     "66524cd6e6d44c5ca6a8250536304d45": {
      "model_module": "@jupyter-widgets/controls",
      "model_module_version": "1.5.0",
      "model_name": "SliderStyleModel",
      "state": {
       "description_width": ""
      }
     },
     "67d269bf09824932b8045afbf6695440": {
      "model_module": "@jupyter-widgets/controls",
      "model_module_version": "1.5.0",
      "model_name": "FloatSliderModel",
      "state": {
       "description": "v<sub>sed</sub>",
       "layout": "IPY_MODEL_6d9e1c5d481049f68af59c14a348167e",
       "max": 0.5,
       "min": 0.001,
       "step": 0.001,
       "style": "IPY_MODEL_37e086c833684e8784988a712634fe18",
       "value": 0.12
      }
     },
     "68d33e5e02d94b04acfffab607b6d6c3": {
      "model_module": "@jupyter-widgets/controls",
      "model_module_version": "1.5.0",
      "model_name": "SliderStyleModel",
      "state": {
       "description_width": ""
      }
     },
     "69a868e5e1d243b99728420a78b616b0": {
      "model_module": "@jupyter-widgets/controls",
      "model_module_version": "1.5.0",
      "model_name": "FloatRangeSliderModel",
      "state": {
       "_model_name": "FloatRangeSliderModel",
       "_view_name": "FloatRangeSliderView",
       "continuous_update": false,
       "description": "[FeS<sub>2</sub>]<sub>0</sub>",
       "layout": "IPY_MODEL_ccecde0c2e874a879366de2126845f41",
       "max": 1,
       "step": 0.0025,
       "style": "IPY_MODEL_572cb8914adc4ba8b81aa04f311327fa",
       "value": [
        0.1,
        0.25
       ]
      }
     },
     "69ed10d7c8e7412d87cf8d02a5a58f80": {
      "model_module": "@jupyter-widgets/base",
      "model_module_version": "1.2.0",
      "model_name": "LayoutModel",
      "state": {
       "width": "100%"
      }
     },
     "69f9fee3aadc43a7b700fa0bd052fc41": {
      "model_module": "@jupyter-widgets/controls",
      "model_module_version": "1.5.0",
      "model_name": "VBoxModel",
      "state": {
       "children": [
        "IPY_MODEL_5f057134b1ae4da7b9d5a548d0222883",
        "IPY_MODEL_bf5b4180c52b4b2498baac9d67fff885",
        "IPY_MODEL_2af12b06697744bdb8aad1f1f7cdc012",
        "IPY_MODEL_c9ff97d14a504a978d07e17906bf6eb7",
        "IPY_MODEL_ba7e59c2e54446b5961843df31bfa4b6",
        "IPY_MODEL_ca8a3f34dd18408ebda367f3308dd06c"
       ],
       "layout": "IPY_MODEL_3777f189a7954db6affb23d09b5ead6c"
      }
     },
     "6c63d6bbb7b448b49171208828ec5893": {
      "model_module": "@jupyter-widgets/base",
      "model_module_version": "1.2.0",
      "model_name": "LayoutModel",
      "state": {
       "width": "100%"
      }
     },
     "6caf6c66a5234965a2d5ceec0d9fb7f6": {
      "model_module": "@jupyter-widgets/controls",
      "model_module_version": "1.5.0",
      "model_name": "SliderStyleModel",
      "state": {
       "description_width": ""
      }
     },
     "6d317a120b824f598db62ead07b1f739": {
      "model_module": "@jupyter-widgets/controls",
      "model_module_version": "1.5.0",
      "model_name": "FloatTextModel",
      "state": {
       "description": "from",
       "layout": "IPY_MODEL_6030f27343ff4053a30e57eea98adbf2",
       "step": 0.01,
       "style": "IPY_MODEL_e1f7fe0fd01a48e4beb8d251b49d3628",
       "value": 0.005
      }
     },
     "6d9e1c5d481049f68af59c14a348167e": {
      "model_module": "@jupyter-widgets/base",
      "model_module_version": "1.2.0",
      "model_name": "LayoutModel",
      "state": {
       "width": "100%"
      }
     },
     "6db8a90afd2b43a892f915e12857a778": {
      "model_module": "@jupyter-widgets/base",
      "model_module_version": "1.2.0",
      "model_name": "LayoutModel",
      "state": {
       "width": "100%"
      }
     },
     "7038268dd5294bc3806286cd86becab9": {
      "model_module": "@jupyter-widgets/controls",
      "model_module_version": "1.5.0",
      "model_name": "FloatTextModel",
      "state": {
       "description": "step",
       "layout": "IPY_MODEL_6030f27343ff4053a30e57eea98adbf2",
       "step": 0.01,
       "style": "IPY_MODEL_378021d43f814fe8ae13cfa0eb953b4e",
       "value": 0.005
      }
     },
     "703bd8ce05f7405d9cd258241684ccb0": {
      "model_module": "@jupyter-widgets/base",
      "model_module_version": "1.2.0",
      "model_name": "LayoutModel",
      "state": {
       "width": "100%"
      }
     },
     "72a5d1778b2b47eeb36520003558fc04": {
      "model_module": "@jupyter-widgets/base",
      "model_module_version": "1.2.0",
      "model_name": "LayoutModel",
      "state": {
       "width": "100%"
      }
     },
     "72c942042e64433a92437ab8a18fa305": {
      "model_module": "@jupyter-widgets/controls",
      "model_module_version": "1.5.0",
      "model_name": "VBoxModel",
      "state": {
       "children": [
        "IPY_MODEL_869f9d000a87499bb8c7876f1521e5e9",
        "IPY_MODEL_ca77edbbaf9e45c99a7baa8b06b45183"
       ],
       "layout": "IPY_MODEL_1a59baf9044642809858ce3213c185b0"
      }
     },
     "74976c3a3c75467f9a5bf2e1c64668cd": {
      "model_module": "@jupyter-widgets/controls",
      "model_module_version": "1.5.0",
      "model_name": "FloatSliderModel",
      "state": {
       "description": "dz",
       "layout": "IPY_MODEL_6c63d6bbb7b448b49171208828ec5893",
       "max": 0.1,
       "min": 0.001,
       "step": 0.001,
       "style": "IPY_MODEL_02b61e454fc4457bb517c8eb8644c7ec",
       "value": 0.01
      }
     },
     "7981329051be44b6a2ee93548bcd59de": {
      "model_module": "@jupyter-widgets/controls",
      "model_module_version": "1.5.0",
      "model_name": "FloatSliderModel",
      "state": {
       "description": "[SO<sub>4</sub>]<sub>0</sub>",
       "layout": "IPY_MODEL_3b0ef1c97a32452494b9f03ded7ce057",
       "max": 0.3,
       "min": 0.001,
       "step": 0.001,
       "style": "IPY_MODEL_b6f0890569d74955acc5a66062cab9cb",
       "value": 0.0105
      }
     },
     "7b0113220936448baa97882c5b471850": {
      "model_module": "@jupyter-widgets/base",
      "model_module_version": "1.2.0",
      "model_name": "LayoutModel",
      "state": {}
     },
     "7b3e4b59ca9f4e2d837b67f82136caba": {
      "model_module": "@jupyter-widgets/output",
      "model_module_version": "1.0.0",
      "model_name": "OutputModel",
      "state": {
       "layout": "IPY_MODEL_d240313a72bd483a83ee57d6a48a22e8"
      }
     },
     "7bf8ea7714e743ddac71e07865a0b360": {
      "model_module": "@jupyter-widgets/base",
      "model_module_version": "1.2.0",
      "model_name": "LayoutModel",
      "state": {}
     },
     "7c1e41b1c7304bf19d32722cdc4d867c": {
      "model_module": "@jupyter-widgets/controls",
      "model_module_version": "1.5.0",
      "model_name": "SliderStyleModel",
      "state": {
       "description_width": ""
      }
     },
     "7c52d3ddf53542228c13b0131635c862": {
      "model_module": "@jupyter-widgets/base",
      "model_module_version": "1.2.0",
      "model_name": "LayoutModel",
      "state": {
       "width": "200px"
      }
     },
     "7dec4a0c60b54ca48f677058dfc455c8": {
      "model_module": "@jupyter-widgets/output",
      "model_module_version": "1.0.0",
      "model_name": "OutputModel",
      "state": {
       "layout": "IPY_MODEL_f88e1e0be1714874b6141b6eaafc8e4b"
      }
     },
     "7ebe21d9f85e4fdba12aa2e5bc5c1686": {
      "model_module": "@jupyter-widgets/controls",
      "model_module_version": "1.5.0",
      "model_name": "FloatSliderModel",
      "state": {
       "description": "[SO<sub>4</sub>]<sub>0</sub>",
       "layout": "IPY_MODEL_90e634114ba0426997749752a1ca204c",
       "max": 0.3,
       "min": 0.001,
       "step": 0.001,
       "style": "IPY_MODEL_68d33e5e02d94b04acfffab607b6d6c3",
       "value": 0.0105
      }
     },
     "8061458cb6da4ebbae5efe6a708c0c2e": {
      "model_module": "@jupyter-widgets/controls",
      "model_module_version": "1.5.0",
      "model_name": "HBoxModel",
      "state": {
       "children": [
        "IPY_MODEL_d4814927d8564b2b8d88387e9da77560",
        "IPY_MODEL_95e316fa8092457fa2a52b9c709feb8a"
       ],
       "layout": "IPY_MODEL_84667a6e5dce42e1a5a31b38d4273083"
      }
     },
     "8073958f5cb949119a21a9e9a5c665d8": {
      "model_module": "@jupyter-widgets/controls",
      "model_module_version": "1.5.0",
      "model_name": "FloatSliderModel",
      "state": {
       "description": "D<sub>32</sub>",
       "layout": "IPY_MODEL_173a1cc9bd864a198557e878c27d5e61",
       "max": 0.3,
       "min": 0.001,
       "step": 0.001,
       "style": "IPY_MODEL_5669bd9883264f5cac669218ae1a78fc",
       "value": 0.2
      }
     },
     "820498eb50474bc79bc78d83d9cacdab": {
      "model_module": "@jupyter-widgets/output",
      "model_module_version": "1.0.0",
      "model_name": "OutputModel",
      "state": {
       "layout": "IPY_MODEL_8e8bd0467ce64d01b18257292cd8a654"
      }
     },
     "822276c6b4b349bd8052a475b6480840": {
      "model_module": "@jupyter-widgets/controls",
      "model_module_version": "1.5.0",
      "model_name": "FloatSliderModel",
      "state": {
       "description": "D<sub>32</sub>",
       "layout": "IPY_MODEL_cb35edeb0bc24679adbd1f6a8e469bb4",
       "max": 0.3,
       "min": 0.001,
       "step": 0.001,
       "style": "IPY_MODEL_120228abe14c438d9cc00353a8e4beaa",
       "value": 0.2
      }
     },
     "82401ec269dc4b8e8450bad3dabaaf57": {
      "model_module": "@jupyter-widgets/base",
      "model_module_version": "1.2.0",
      "model_name": "LayoutModel",
      "state": {}
     },
     "831b86bef8194dd9bde90b3e00978713": {
      "model_module": "@jupyter-widgets/controls",
      "model_module_version": "1.5.0",
      "model_name": "HBoxModel",
      "state": {
       "children": [
        "IPY_MODEL_8eb56c2c739041a0b1a38dc4c0477c1c",
        "IPY_MODEL_0fb44703ecb7450f8078eead0aa39a1b"
       ],
       "layout": "IPY_MODEL_1309f789a0dd49c2b8afcf36dee2f2b4"
      }
     },
     "83e26703a4a5456bba70794407448362": {
      "model_module": "@jupyter-widgets/controls",
      "model_module_version": "1.5.0",
      "model_name": "SliderStyleModel",
      "state": {
       "description_width": ""
      }
     },
     "84667a6e5dce42e1a5a31b38d4273083": {
      "model_module": "@jupyter-widgets/base",
      "model_module_version": "1.2.0",
      "model_name": "LayoutModel",
      "state": {}
     },
     "869f9d000a87499bb8c7876f1521e5e9": {
      "model_module": "@jupyter-widgets/controls",
      "model_module_version": "1.5.0",
      "model_name": "VBoxModel",
      "state": {
       "children": [
        "IPY_MODEL_831b86bef8194dd9bde90b3e00978713",
        "IPY_MODEL_5dec6c94d8dd4a66bb6b77cf8947f068",
        "IPY_MODEL_bb7eb9de759443768bcc2ff40ff74e70",
        "IPY_MODEL_9c5db72a13774e84ac81e3dc07803716",
        "IPY_MODEL_bbc7bdb8835d4e098702535655970196",
        "IPY_MODEL_147eff89965642fda13da9bfffe0af47",
        "IPY_MODEL_2e57aaaacd3c4afabbc6d8e64fd184ee"
       ],
       "layout": "IPY_MODEL_eec2698074fb4daa8878e110ee858df8"
      }
     },
     "86b90f1f7fe64d429acf1ad6e68822d7": {
      "model_module": "@jupyter-widgets/controls",
      "model_module_version": "1.5.0",
      "model_name": "DescriptionStyleModel",
      "state": {
       "description_width": ""
      }
     },
     "8a6979b7f2f344e98d4a670d3f1e0b0b": {
      "model_module": "@jupyter-widgets/base",
      "model_module_version": "1.2.0",
      "model_name": "LayoutModel",
      "state": {
       "width": "100%"
      }
     },
     "8ae952a5f06541dc8fbda1b47a363ad0": {
      "model_module": "@jupyter-widgets/controls",
      "model_module_version": "1.5.0",
      "model_name": "FloatSliderModel",
      "state": {
       "description": "[FeS<sub>2</sub>]<sub>0</sub>",
       "layout": "IPY_MODEL_b5ffd5ee5b4a49aea6cc3d2458f1a9f3",
       "max": 1,
       "step": 0.0025,
       "style": "IPY_MODEL_45ec31823ffe44ed858d71290205ed84",
       "value": 0.16
      }
     },
     "8c15dac783f9459dad803b248db46c9d": {
      "model_module": "@jupyter-widgets/base",
      "model_module_version": "1.2.0",
      "model_name": "LayoutModel",
      "state": {
       "width": "100%"
      }
     },
     "8c80180de6704268a9ea1133ccd0a885": {
      "model_module": "@jupyter-widgets/base",
      "model_module_version": "1.2.0",
      "model_name": "LayoutModel",
      "state": {}
     },
     "8d232434e5224a198e64a32c69042ff6": {
      "model_module": "@jupyter-widgets/controls",
      "model_module_version": "1.5.0",
      "model_name": "SliderStyleModel",
      "state": {
       "description_width": ""
      }
     },
     "8e3dd30ae0014ca19bbf3705240d0a47": {
      "model_module": "@jupyter-widgets/controls",
      "model_module_version": "1.5.0",
      "model_name": "HBoxModel",
      "state": {
       "children": [
        "IPY_MODEL_51da733f05a449f9a931bd1092f66f73",
        "IPY_MODEL_e09de4eeb77f43dc86c86aa3fe90d362"
       ],
       "layout": "IPY_MODEL_440a562c7f1b4268a1a86b6f19d10940"
      }
     },
     "8e8bd0467ce64d01b18257292cd8a654": {
      "model_module": "@jupyter-widgets/base",
      "model_module_version": "1.2.0",
      "model_name": "LayoutModel",
      "state": {}
     },
     "8eb56c2c739041a0b1a38dc4c0477c1c": {
      "model_module": "@jupyter-widgets/controls",
      "model_module_version": "1.5.0",
      "model_name": "FloatRangeSliderModel",
      "state": {
       "_model_name": "FloatRangeSliderModel",
       "_view_name": "FloatRangeSliderView",
       "continuous_update": false,
       "description": "[SO<sub>4</sub>]<sub>0</sub>",
       "layout": "IPY_MODEL_e227b44e6c964388baf348efacf9c89f",
       "max": 0.3,
       "min": 0.001,
       "step": 0.001,
       "style": "IPY_MODEL_444d72c979a442c7bfb5e3594f3ebc06",
       "value": [
        0.008,
        0.013
       ]
      }
     },
     "905ce9832ea242a58222c68468c0b2ee": {
      "model_module": "@jupyter-widgets/base",
      "model_module_version": "1.2.0",
      "model_name": "LayoutModel",
      "state": {
       "width": "100%"
      }
     },
     "90e634114ba0426997749752a1ca204c": {
      "model_module": "@jupyter-widgets/base",
      "model_module_version": "1.2.0",
      "model_name": "LayoutModel",
      "state": {
       "width": "100%"
      }
     },
     "9213dfdf018b4532aa09ec8098b8a20b": {
      "model_module": "@jupyter-widgets/base",
      "model_module_version": "1.2.0",
      "model_name": "LayoutModel",
      "state": {}
     },
     "949e6160463f4972a17b2a3228e0627c": {
      "model_module": "@jupyter-widgets/base",
      "model_module_version": "1.2.0",
      "model_name": "LayoutModel",
      "state": {
       "width": "100%"
      }
     },
     "9591e4db1ee349c2940d04b2ac6a3a34": {
      "model_module": "@jupyter-widgets/controls",
      "model_module_version": "1.5.0",
      "model_name": "SliderStyleModel",
      "state": {
       "description_width": ""
      }
     },
     "95e316fa8092457fa2a52b9c709feb8a": {
      "model_module": "@jupyter-widgets/controls",
      "model_module_version": "1.5.0",
      "model_name": "FloatSliderModel",
      "state": {
       "description": "β",
       "layout": "IPY_MODEL_31186069ef474fa380c2708ab55eadcd",
       "max": 0.05,
       "step": 0.001,
       "style": "IPY_MODEL_a22c3fa5e43e4cfa805ebdbfdb6c1e30",
       "value": 0.025
      }
     },
     "95f5be51100b4e81a9223ab1e2da129f": {
      "model_module": "@jupyter-widgets/controls",
      "model_module_version": "1.5.0",
      "model_name": "SliderStyleModel",
      "state": {
       "description_width": ""
      }
     },
     "96deeba0483d4117b67d43c2e01a2ff3": {
      "model_module": "@jupyter-widgets/controls",
      "model_module_version": "1.5.0",
      "model_name": "FloatSliderModel",
      "state": {
       "description": "dz",
       "layout": "IPY_MODEL_72a5d1778b2b47eeb36520003558fc04",
       "max": 0.1,
       "min": 0.001,
       "step": 0.001,
       "style": "IPY_MODEL_a23cc8d90d8d4460bd0d81c2742921ee",
       "value": 0.01
      }
     },
     "973d118253c5452797f423d2eea6fb9f": {
      "model_module": "@jupyter-widgets/controls",
      "model_module_version": "1.5.0",
      "model_name": "DescriptionStyleModel",
      "state": {
       "description_width": ""
      }
     },
     "9753b71e170d4802a9b008cd7aababe6": {
      "model_module": "@jupyter-widgets/base",
      "model_module_version": "1.2.0",
      "model_name": "LayoutModel",
      "state": {
       "width": "100%"
      }
     },
     "98fb2a34bed4433f9e9bda6a55fd3223": {
      "model_module": "@jupyter-widgets/controls",
      "model_module_version": "1.5.0",
      "model_name": "HBoxModel",
      "state": {
       "children": [
        "IPY_MODEL_31bb1a9b40cd4c889d743f1f5f5688b0",
        "IPY_MODEL_144a359b9fda491699ca2ac79c58f284"
       ],
       "layout": "IPY_MODEL_f2d85beba28448d7aeb2a79cd4868f7b"
      }
     },
     "9c5db72a13774e84ac81e3dc07803716": {
      "model_module": "@jupyter-widgets/controls",
      "model_module_version": "1.5.0",
      "model_name": "HBoxModel",
      "state": {
       "children": [
        "IPY_MODEL_cd1f4085367844dab37799d822495514",
        "IPY_MODEL_5998d1325a2d4900b183b0315a430752"
       ],
       "layout": "IPY_MODEL_df525dda363c4a93b35ac162f552c9df"
      }
     },
     "a039369f77314bdcba12349ef4330f61": {
      "model_module": "@jupyter-widgets/controls",
      "model_module_version": "1.5.0",
      "model_name": "FloatSliderModel",
      "state": {
       "description": "z<sub>max</sub>",
       "layout": "IPY_MODEL_905ce9832ea242a58222c68468c0b2ee",
       "max": 10,
       "min": 0.01,
       "step": 0.01,
       "style": "IPY_MODEL_5659ad219271466db5d49fa7e33f65c1",
       "value": 1.5
      }
     },
     "a1b2fcfd711640b09448900500f80f66": {
      "model_module": "@jupyter-widgets/output",
      "model_module_version": "1.0.0",
      "model_name": "OutputModel",
      "state": {
       "layout": "IPY_MODEL_0cdb947136ea4c558a162e1ff93ab29c",
       "outputs": [
        {
         "name": "stdout",
         "output_type": "stream",
         "text": "Final [py]: 0.2246\nFinal d34S: -23.0985\n"
        }
       ]
      }
     },
     "a1e6b87cfd7b4799bdf8181f674d5e35": {
      "model_module": "@jupyter-widgets/base",
      "model_module_version": "1.2.0",
      "model_name": "LayoutModel",
      "state": {}
     },
     "a22c3fa5e43e4cfa805ebdbfdb6c1e30": {
      "model_module": "@jupyter-widgets/controls",
      "model_module_version": "1.5.0",
      "model_name": "SliderStyleModel",
      "state": {
       "description_width": ""
      }
     },
     "a23cc8d90d8d4460bd0d81c2742921ee": {
      "model_module": "@jupyter-widgets/controls",
      "model_module_version": "1.5.0",
      "model_name": "SliderStyleModel",
      "state": {
       "description_width": ""
      }
     },
     "a6f16a2403624603a967b4f5104aa0be": {
      "model_module": "@jupyter-widgets/controls",
      "model_module_version": "1.5.0",
      "model_name": "DescriptionStyleModel",
      "state": {
       "description_width": ""
      }
     },
     "a99ba9019dba480596a6775c9cc5784f": {
      "model_module": "@jupyter-widgets/base",
      "model_module_version": "1.2.0",
      "model_name": "LayoutModel",
      "state": {}
     },
     "a9ddd2815fdb481ea6052cf7e5866e5a": {
      "model_module": "@jupyter-widgets/controls",
      "model_module_version": "1.5.0",
      "model_name": "HBoxModel",
      "state": {
       "children": [
        "IPY_MODEL_ac9349d79ac947d99ac4829ab825725c",
        "IPY_MODEL_3fa938ec20f046ff9287a0d4c784e8d4"
       ],
       "layout": "IPY_MODEL_b2ceddeadb824159a8a018e8ce1ab94a"
      }
     },
     "ac3359a2c0cf4d0fbaefa229d82f17ff": {
      "model_module": "@jupyter-widgets/base",
      "model_module_version": "1.2.0",
      "model_name": "LayoutModel",
      "state": {
       "width": "100%"
      }
     },
     "ac9349d79ac947d99ac4829ab825725c": {
      "model_module": "@jupyter-widgets/controls",
      "model_module_version": "1.5.0",
      "model_name": "FloatSliderModel",
      "state": {
       "description": "ε<sub>MSR</sub>",
       "layout": "IPY_MODEL_bcdf2d9a43f145a5811a6a0461ccc807",
       "style": "IPY_MODEL_1db07abbd9c849d8ad77543bb96edb1b",
       "value": 54
      }
     },
     "ae45b7e299174911a6e55114a7fb7d64": {
      "model_module": "@jupyter-widgets/controls",
      "model_module_version": "1.5.0",
      "model_name": "SliderStyleModel",
      "state": {
       "description_width": ""
      }
     },
     "ae53178919ac4e3ba064ff31bdec77f0": {
      "model_module": "@jupyter-widgets/controls",
      "model_module_version": "1.5.0",
      "model_name": "HBoxModel",
      "state": {
       "children": [
        "IPY_MODEL_308d102a346249abb19cfba13d63df52",
        "IPY_MODEL_f52da2cd48724f61b77d97495547b9cd"
       ],
       "layout": "IPY_MODEL_b4bc5df2f38a439998767353b5f680d7"
      }
     },
     "af4b6f836fef46988d482ed1d44ec52e": {
      "model_module": "@jupyter-widgets/controls",
      "model_module_version": "1.5.0",
      "model_name": "HBoxModel",
      "state": {
       "children": [
        "IPY_MODEL_31405a981b4c4a09995a5654d95607b6",
        "IPY_MODEL_6d317a120b824f598db62ead07b1f739",
        "IPY_MODEL_b983f16e533342d19519ceb19cfdd81e",
        "IPY_MODEL_7038268dd5294bc3806286cd86becab9"
       ],
       "layout": "IPY_MODEL_a99ba9019dba480596a6775c9cc5784f"
      }
     },
     "b09daaca47f942029afe3634d9f3f640": {
      "model_module": "@jupyter-widgets/controls",
      "model_module_version": "1.5.0",
      "model_name": "VBoxModel",
      "state": {
       "children": [
        "IPY_MODEL_ae53178919ac4e3ba064ff31bdec77f0",
        "IPY_MODEL_8e3dd30ae0014ca19bbf3705240d0a47",
        "IPY_MODEL_a9ddd2815fdb481ea6052cf7e5866e5a",
        "IPY_MODEL_04418bb109d744a387f0973637067155",
        "IPY_MODEL_b26cdd8b4d074426b1ba578fd9f991b3",
        "IPY_MODEL_af4b6f836fef46988d482ed1d44ec52e",
        "IPY_MODEL_98fb2a34bed4433f9e9bda6a55fd3223"
       ],
       "layout": "IPY_MODEL_cd920341dbd94d859964ca4dc7ba67bb"
      }
     },
     "b1032286523744f48655acbb4fe9c1de": {
      "buffers": [
       {
        "data": "xYgRI0aMyD8EJRGURFDSPx3HcRzHccw/yR4he4Ts4T+E7BGyR8jePwGPATwG8Ng/8afBnwZ/2j/FiBEjRozYP3mb4W2Gt9k/s9bJWidr3T+TJk2aNGniP/GnwZ8Gf9o/3/V51+dd7z/ii4kvJr7YP7ds2bJly/Y/qFChQoUK1T/hwIEDBw7cP+KLiS8mvtg/QCsBrQS00j920NlBZwfdP7oC6QqkK+A//vjx48ePzz8vebnk5ZLXP7g34d6Ee9M/XGNxjcU11j/Ub1G/Rf3WP28VuVXkVtE/lp5Zembp2T/Ub1G/Rf3WP3bQ2UFnB90/SeYhmYdk3j9REkFJBCXhP6sbqW6kutE/aLSh0YZG2z/zcsnLJS/XP8LyAcsHLN8/4ouJLya+2D8=",
        "encoding": "base64",
        "path": [
         "_data",
         0,
         "x",
         "value"
        ]
       },
       {
        "data": "Rwd4wKP9NcDD/ACOXgkwwMEuJT+MjyrA/jMJIdu/L8BTmBt0ZCcywDKRuNYj7DLAQFPtOgpRNMB4L4ehp1EuwKu1c0F4mzTAUHW0UVYANsAFJ7EOl7gmwFFBx24I4jPAj9E3cp7+I8CEuSjx9+UywAQFkeNMMhbA2TVfjqU7MMDVZnrukJwywH6jqudgGyzAp/ZymVzMNMAKO9kXTeI0wDalBdnBcjXAwoQpRBDLNMBBT3jre2A4wI4TYoJFczPALO/3XeG7NMDgYpUCNDczwN/G4xE5UTTAzsaJukrVLsDwGDRs5AY2wNgFvnI7yTbAG4Yfg/CcNcB+hirdR4o1wNmKIT+GOjPAcr7WsPMGOcA0gtMIOBQ2wOYGKnLaIzXAGh4S+eZWL8A=",
        "encoding": "base64",
        "path": [
         "_data",
         0,
         "y",
         "value"
        ]
       },
       {
        "data": "fDHxxcQXwz8BjwE8BvCIPw==",
        "encoding": "base64",
        "path": [
         "_data",
         1,
         "x",
         "value"
        ]
       },
       {
        "data": "cLVTVzbTM8AAAAAAAAD4fw==",
        "encoding": "base64",
        "path": [
         "_data",
         1,
         "y",
         "value"
        ]
       },
       {
        "data": "OP/h/Ifz3z8MbzO8zfD2Pw==",
        "encoding": "base64",
        "path": [
         "_data",
         2,
         "x",
         "value"
        ]
       },
       {
        "data": "ovup9wEPLcCk/yfjkHwdwA==",
        "encoding": "base64",
        "path": [
         "_data",
         2,
         "y",
         "value"
        ]
       },
       {
        "data": "bEqxKcWm5D/R2UFnB53dPy09s/TM0vM/HcdxHMdx3D8srrG4xuLaP3wx8cXEF9M/I9WNVDdS7T98MfHFxBfTP8dTGU9lPNU//sP5D+c/3D+4N+HehHvTPw==",
        "encoding": "base64",
        "path": [
         "_data",
         3,
         "x",
         "value"
        ]
       },
       {
        "data": "LnRyTCwKLcCYbbVBaekpwIDQerKveiDAKCD9rhZYI8BeyxW7L38wwNQynejnmCrAhEeFPsdBIsDGEL3bpnUxwJyLhhnAnzTAegDWAACoI8ASyWyzaP8wwA==",
        "encoding": "base64",
        "path": [
         "_data",
         3,
         "y",
         "value"
        ]
       },
       {
        "data": "exSuR+F6dD97FK5H4XqEP7gehetRuI4/exSuR+F6lD+amZmZmZmZP7kehetRuJ4/61G4HoXroT97FK5H4XqkPwrXo3A9Cqc/mZmZmZmZqT8pXI/C9SisP7gehetRuK4/pHA9CtejsD/sUbgeheuxPzQzMzMzM7M/exSuR+F6tD/D9Shcj8K1PwvXo3A9Crc/UrgehetRuD+amZmZmZm5P+J6FK5H4bo/KVyPwvUovD9xPQrXo3C9P7kehetRuL4/AAAAAAAAwD+kcD0K16PAP0jhehSuR8E/7FG4HoXrwT+QwvUoXI/CPzMzMzMzM8M/16NwPQrXwz97FK5H4XrEPx+F61G4HsU/w/UoXI/CxT9nZmZmZmbGPwvXo3A9Csc/rkfhehSuxz9SuB6F61HIP/YoXI/C9cg/",
        "encoding": "base64",
        "path": [
         "_data",
         4,
         "marker",
         "color",
         "value"
        ]
       }
      ],
      "model_module": "jupyterlab-plotly",
      "model_module_version": "^5.1.0",
      "model_name": "FigureModel",
      "state": {
       "_config": {
        "plotlyServerURL": "https://plot.ly"
       },
       "_data": [
        {
         "marker": {
          "color": "Blue",
          "opacity": 0.3,
          "symbol": "circle"
         },
         "mode": "markers",
         "name": "Mudstone",
         "text": [
          "KC-2-1",
          "KC-2-2",
          "KC-2-2.5",
          "KC-2-3",
          "KC-2-3.5",
          "KC-2-4.5",
          "KC-2-5",
          "KC-2-6",
          "KC-2-6.5",
          "KC-2-7",
          "KC-2-8",
          "KC-2-9",
          "KC-2-10",
          "KC-2-11",
          "KC-2-12",
          "KC-2-13",
          "KC-2-14",
          "KC-2-14.5",
          "KC-2-15",
          "KC-2-15.5",
          "KC-2-16",
          "KC-2-17",
          "KC-2-18",
          "KC-2-19",
          "KC-2-20",
          "KC-2-21",
          "KC-2-21.5",
          "KC-2-22",
          "KC-2-23",
          "KC-2-24",
          "KC-2-25",
          "KC-2-25.5",
          "KC-2-26",
          "KC-2-26.5",
          "KC-2-27",
          "KC-2-28",
          "KC-2-29"
         ],
         "type": "scatter",
         "uid": "f2e07b50-3377-4a62-8c7f-2649cb039f25",
         "x": {
          "dtype": "float64",
          "shape": [
           37
          ]
         },
         "y": {
          "dtype": "float64",
          "shape": [
           37
          ]
         }
        },
        {
         "marker": {
          "color": "Blue",
          "opacity": 0.3,
          "symbol": "star"
         },
         "mode": "markers",
         "name": "Carbonate",
         "text": [
          "KC-2-0",
          "KC-2-30"
         ],
         "type": "scatter",
         "uid": "49eee1e1-0a8f-4a6e-8e77-7090da794568",
         "x": {
          "dtype": "float64",
          "shape": [
           2
          ]
         },
         "y": {
          "dtype": "float64",
          "shape": [
           2
          ]
         }
        },
        {
         "marker": {
          "color": "Blue",
          "opacity": 0.3,
          "symbol": "square"
         },
         "mode": "markers",
         "name": "Pervasively pyritised regions",
         "text": [
          "KC-2-6p",
          "KC-2-22p"
         ],
         "type": "scatter",
         "uid": "e1fdd01d-aa64-4329-8af5-ddfda45c939f",
         "x": {
          "dtype": "float64",
          "shape": [
           2
          ]
         },
         "y": {
          "dtype": "float64",
          "shape": [
           2
          ]
         }
        },
        {
         "marker": {
          "color": "Blue",
          "opacity": 0.3,
          "symbol": "diamond"
         },
         "mode": "markers",
         "name": "Bed 22",
         "text": [
          "KC-3-A",
          "KC-3-B",
          "KC-3-C",
          "KC-3-D",
          "KC-3-E",
          "KC-3-F",
          "KC-3-G",
          "KC-3-H",
          "KC-3-I",
          "KC-3-J",
          "KC-3-K"
         ],
         "type": "scatter",
         "uid": "65b951e2-8bdd-4bc4-a8af-53008bbb6533",
         "x": {
          "dtype": "float64",
          "shape": [
           11
          ]
         },
         "y": {
          "dtype": "float64",
          "shape": [
           11
          ]
         }
        },
        {
         "line": {
          "color": "DarkGreen"
         },
         "marker": {
          "color": {
           "dtype": "float64",
           "shape": [
            39
           ]
          },
          "coloraxis": "coloraxis",
          "line": {
           "color": "DarkGreen",
           "width": 1
          }
         },
         "mode": "lines+markers",
         "name": "Model",
         "text": [
          "v: 0.00500",
          "v: 0.01000",
          "v: 0.01500",
          "v: 0.02000",
          "v: 0.02500",
          "v: 0.03000",
          "v: 0.03500",
          "v: 0.04000",
          "v: 0.04500",
          "v: 0.05000",
          "v: 0.05500",
          "v: 0.06000",
          "v: 0.06500",
          "v: 0.07000",
          "v: 0.07500",
          "v: 0.08000",
          "v: 0.08500",
          "v: 0.09000",
          "v: 0.09500",
          "v: 0.10000",
          "v: 0.10500",
          "v: 0.11000",
          "v: 0.11500",
          "v: 0.12000",
          "v: 0.12500",
          "v: 0.13000",
          "v: 0.13500",
          "v: 0.14000",
          "v: 0.14500",
          "v: 0.15000",
          "v: 0.15500",
          "v: 0.16000",
          "v: 0.16500",
          "v: 0.17000",
          "v: 0.17500",
          "v: 0.18000",
          "v: 0.18500",
          "v: 0.19000",
          "v: 0.19500"
         ],
         "type": "scatter",
         "uid": "7a95d837-925a-4bab-83af-a8b0f4c9445d",
         "x": [
          1.6475349496151064,
          0.9050833088805128,
          0.6576009721380095,
          0.5338609613137576,
          0.45961788077946286,
          0.410123265319512,
          0.37477062983534304,
          0.34825673177012795,
          0.327635325254538,
          0.3111386627619486,
          0.2976418140445749,
          0.28639482559919993,
          0.2768784988433808,
          0.2687219776426893,
          0.26165330082947175,
          0.2554684975253419,
          0.25001158999546913,
          0.24516126222262366,
          0.24082173840094911,
          0.23691639788264113,
          0.23338321442781834,
          0.23017143929185913,
          0.2272391495967542,
          0.22455140960878256,
          0.2220788733102713,
          0.21979670945302698,
          0.217683765490723,
          0.2157219106679622,
          0.2138955150208344,
          0.21219103257984254,
          0.21059666524055845,
          0.20910208966006677,
          0.20769823380834332,
          0.20637709295179765,
          0.20513157718188282,
          0.20395538435663876,
          0.202842893645153,
          0.20178907588194228,
          0.2007894177119861
         ],
         "y": [
          -7.176703092740988,
          -9.240500444293032,
          -10.963615145375805,
          -12.42395177550426,
          -13.67728039040439,
          -14.76471121578371,
          -15.717099204285656,
          -16.55811243173233,
          -17.306176798352226,
          -17.975882551363508,
          -18.57891810471335,
          -19.12473496211975,
          -19.621101566122846,
          -20.074441604590376,
          -20.490105215693056,
          -20.872574237043583,
          -21.225677070841332,
          -21.55266827422264,
          -21.85630675859407,
          -22.139021775158916,
          -22.402888803899845,
          -22.649727877219526,
          -22.881127096178734,
          -23.09848040680995,
          -23.303030036116002,
          -23.495872846526765,
          -23.677967437458204,
          -23.850192147092166,
          -24.013328702196745,
          -24.168060362454334,
          -24.315023226778365,
          -24.454784355658397,
          -24.5878597172009,
          -24.714704576381475,
          -24.835750990532922,
          -24.95138428831567,
          -25.061953884527256,
          -25.1677793540096,
          -25.26916196854423
         ]
        },
        {
         "line": {
          "color": "Orange"
         },
         "marker": {
          "coloraxis": "coloraxis",
          "line": {
           "color": "Orange",
           "width": 1
          }
         },
         "mode": "lines+markers",
         "name": "Model (no py<sub>0</sub>)",
         "type": "scatter",
         "uid": "14362fec-908e-4c23-b8bd-16a28ec413fa",
         "visible": false
        },
        {
         "marker": {
          "color": "Purple",
          "symbol": "square"
         },
         "mode": "markers",
         "name": "Syn-Depositional Pyrite",
         "text": [
          "0.53 wt% Fe<sub>py, 0</sub>"
         ],
         "type": "scatter",
         "uid": "2fca221f-54f7-48ab-8126-3a8b6e365b72",
         "visible": true,
         "x": [
          0.16
         ],
         "y": [
          -31
         ]
        }
       ],
       "_js2py_pointsCallback": {},
       "_js2py_relayout": {},
       "_js2py_restyle": {},
       "_js2py_update": {},
       "_last_layout_edit_id": 9,
       "_last_trace_edit_id": 9,
       "_layout": {
        "coloraxis": {
         "colorbar": {
          "ticks": "outside",
          "title": {
           "text": "v<sub>sed</sub>"
          }
         },
         "colorscale": [
          [
           0,
           "#fde725"
          ],
          [
           0.1111111111111111,
           "#b5de2b"
          ],
          [
           0.2222222222222222,
           "#6ece58"
          ],
          [
           0.3333333333333333,
           "#35b779"
          ],
          [
           0.4444444444444444,
           "#1f9e89"
          ],
          [
           0.5555555555555556,
           "#26828e"
          ],
          [
           0.6666666666666666,
           "#31688e"
          ],
          [
           0.7777777777777778,
           "#3e4989"
          ],
          [
           0.8888888888888888,
           "#482878"
          ],
          [
           1,
           "#440154"
          ]
         ]
        },
        "height": 600,
        "legend": {
         "x": 1.2,
         "xanchor": "left",
         "y": 1,
         "yanchor": "top"
        },
        "margin": {
         "l": 100
        },
        "template": {
         "layout": {
          "bargap": 0.05,
          "bargroupgap": 0,
          "font": {
           "color": "black",
           "family": "Segoe UI",
           "size": 17
          },
          "height": 700,
          "hovermode": "closest",
          "margin": {
           "b": 60,
           "l": 90,
           "r": 30,
           "t": 30
          },
          "scene": {
           "xaxis": {
            "color": "black",
            "linewidth": 2,
            "showline": true,
            "ticks": "outside"
           },
           "yaxis": {
            "color": "black",
            "linewidth": 2,
            "showline": true,
            "ticks": "outside"
           },
           "zaxis": {
            "color": "black",
            "linewidth": 2,
            "showline": true,
            "ticks": "outside"
           }
          },
          "xaxis": {
           "color": "black",
           "linewidth": 1.3,
           "mirror": true,
           "showgrid": true,
           "showline": true,
           "ticks": "outside",
           "zeroline": true
          },
          "yaxis": {
           "color": "black",
           "linewidth": 1.3,
           "mirror": true,
           "showgrid": true,
           "showline": true,
           "ticks": "outside",
           "zeroline": true
          }
         }
        },
        "width": 1000,
        "xaxis": {
         "rangemode": "tozero",
         "title": {
          "text": "[FeS<sub>2</sub>] / mol dm<sup>−3</sup>"
         }
        },
        "yaxis": {
         "title": {
          "text": "δ<sup>34</sup>S<sub>py</sub> (‰)"
         }
        }
       },
       "_py2js_animate": {},
       "_py2js_deleteTraces": {},
       "_py2js_moveTraces": {},
       "_py2js_removeLayoutProps": {},
       "_py2js_removeTraceProps": {},
       "_py2js_restyle": {},
       "_view_count": 1
      }
     },
     "b24938386fc04d24b023238f86445130": {
      "model_module": "@jupyter-widgets/controls",
      "model_module_version": "1.5.0",
      "model_name": "VBoxModel",
      "state": {
       "children": [
        "IPY_MODEL_12c1f942ba044af787a2f26d3d306468",
        "IPY_MODEL_e6dc2ceea2c04658a09c1d4a0d605911",
        "IPY_MODEL_4ad6b1dc676d4409866e7867ffb628b5",
        "IPY_MODEL_8061458cb6da4ebbae5efe6a708c0c2e",
        "IPY_MODEL_fdab52d5a4784d5084673f4ae385775c",
        "IPY_MODEL_031610a06feb47abbe9601975f57f616"
       ],
       "layout": "IPY_MODEL_ff01ed01fdf94bddb0c6890abf7817f7"
      }
     },
     "b26cdd8b4d074426b1ba578fd9f991b3": {
      "model_module": "@jupyter-widgets/controls",
      "model_module_version": "1.5.0",
      "model_name": "HBoxModel",
      "state": {
       "children": [
        "IPY_MODEL_5b9cc6d47a6c4657af8c8248f19eb764",
        "IPY_MODEL_96deeba0483d4117b67d43c2e01a2ff3"
       ],
       "layout": "IPY_MODEL_a1e6b87cfd7b4799bdf8181f674d5e35"
      }
     },
     "b28a0aba24824bef98071b2adae7167b": {
      "model_module": "@jupyter-widgets/controls",
      "model_module_version": "1.5.0",
      "model_name": "FloatSliderModel",
      "state": {
       "description": "[Fe<sub>tot</sub>]",
       "layout": "IPY_MODEL_4af03ea0360e40d6816a26f6ee8b9e94",
       "max": 15,
       "step": 0.1,
       "style": "IPY_MODEL_c552d80e41004f5a94a81f750e21f7be",
       "value": 4
      }
     },
     "b2ceddeadb824159a8a018e8ce1ab94a": {
      "model_module": "@jupyter-widgets/base",
      "model_module_version": "1.2.0",
      "model_name": "LayoutModel",
      "state": {}
     },
     "b3ca43d5445147eabfc8511559f38c4d": {
      "model_module": "@jupyter-widgets/controls",
      "model_module_version": "1.5.0",
      "model_name": "SliderStyleModel",
      "state": {
       "description_width": ""
      }
     },
     "b4bc5df2f38a439998767353b5f680d7": {
      "model_module": "@jupyter-widgets/base",
      "model_module_version": "1.2.0",
      "model_name": "LayoutModel",
      "state": {}
     },
     "b5ffd5ee5b4a49aea6cc3d2458f1a9f3": {
      "model_module": "@jupyter-widgets/base",
      "model_module_version": "1.2.0",
      "model_name": "LayoutModel",
      "state": {
       "width": "100%"
      }
     },
     "b6f0890569d74955acc5a66062cab9cb": {
      "model_module": "@jupyter-widgets/controls",
      "model_module_version": "1.5.0",
      "model_name": "SliderStyleModel",
      "state": {
       "description_width": ""
      }
     },
     "b8f65bbb1c774d88a90863e470ae75a0": {
      "model_module": "@jupyter-widgets/controls",
      "model_module_version": "1.5.0",
      "model_name": "SliderStyleModel",
      "state": {
       "description_width": ""
      }
     },
     "b983f16e533342d19519ceb19cfdd81e": {
      "model_module": "@jupyter-widgets/controls",
      "model_module_version": "1.5.0",
      "model_name": "FloatTextModel",
      "state": {
       "description": "to",
       "layout": "IPY_MODEL_6030f27343ff4053a30e57eea98adbf2",
       "step": 0.1,
       "style": "IPY_MODEL_86b90f1f7fe64d429acf1ad6e68822d7",
       "value": 0.2
      }
     },
     "ba7e59c2e54446b5961843df31bfa4b6": {
      "model_module": "@jupyter-widgets/controls",
      "model_module_version": "1.5.0",
      "model_name": "HBoxModel",
      "state": {
       "children": [
        "IPY_MODEL_1831990d2c3647a8b606b82771480004",
        "IPY_MODEL_5033f898e43a499d954d4d5574d606a9"
       ],
       "layout": "IPY_MODEL_0519c5d996684c6b9c5a578a544240d1"
      }
     },
     "bb7eb9de759443768bcc2ff40ff74e70": {
      "model_module": "@jupyter-widgets/controls",
      "model_module_version": "1.5.0",
      "model_name": "HBoxModel",
      "state": {
       "children": [
        "IPY_MODEL_d6101dd0de674f2ca89603cb0ee376e5",
        "IPY_MODEL_c3bed1fc9c3c4a2da25410438bc7bf2a"
       ],
       "layout": "IPY_MODEL_24369b7897494a5bafc55c5565d71a2e"
      }
     },
     "bbc7bdb8835d4e098702535655970196": {
      "model_module": "@jupyter-widgets/controls",
      "model_module_version": "1.5.0",
      "model_name": "HBoxModel",
      "state": {
       "children": [
        "IPY_MODEL_f284f4efa79d4adead98556ae43f93c6",
        "IPY_MODEL_74976c3a3c75467f9a5bf2e1c64668cd"
       ],
       "layout": "IPY_MODEL_8c80180de6704268a9ea1133ccd0a885"
      }
     },
     "bcdf2d9a43f145a5811a6a0461ccc807": {
      "model_module": "@jupyter-widgets/base",
      "model_module_version": "1.2.0",
      "model_name": "LayoutModel",
      "state": {
       "width": "100%"
      }
     },
     "bd2512f488ef46a5b73bca89085294a8": {
      "model_module": "@jupyter-widgets/base",
      "model_module_version": "1.2.0",
      "model_name": "LayoutModel",
      "state": {
       "width": "100%"
      }
     },
     "be13d7d23cc14a61a5d38e5f8edd32f0": {
      "model_module": "@jupyter-widgets/base",
      "model_module_version": "1.2.0",
      "model_name": "LayoutModel",
      "state": {
       "width": "100%"
      }
     },
     "bf3bf134c9224d9f88bfac3c2015901d": {
      "model_module": "@jupyter-widgets/base",
      "model_module_version": "1.2.0",
      "model_name": "LayoutModel",
      "state": {}
     },
     "bf5b4180c52b4b2498baac9d67fff885": {
      "model_module": "@jupyter-widgets/controls",
      "model_module_version": "1.5.0",
      "model_name": "HBoxModel",
      "state": {
       "children": [
        "IPY_MODEL_62810a5b2fdf4187affb4117090695d6",
        "IPY_MODEL_67d269bf09824932b8045afbf6695440"
       ],
       "layout": "IPY_MODEL_5f3dfda09659493cb22cca85119c5e14"
      }
     },
     "c0a5470bee3240c39d784fdcf7460fef": {
      "model_module": "@jupyter-widgets/controls",
      "model_module_version": "1.5.0",
      "model_name": "CheckboxModel",
      "state": {
       "description": "Plot Residuals",
       "disabled": false,
       "layout": "IPY_MODEL_48fe2ea8b10d4c4d895a1166e7e8b71c",
       "style": "IPY_MODEL_62994e457ffc48ee91d1eb826667e60b",
       "value": false
      }
     },
     "c100c41a14bd4b5eab52ea861601b328": {
      "model_module": "@jupyter-widgets/controls",
      "model_module_version": "1.5.0",
      "model_name": "SliderStyleModel",
      "state": {
       "description_width": ""
      }
     },
     "c10fa6dbd5b04f1889c328f649938589": {
      "model_module": "@jupyter-widgets/controls",
      "model_module_version": "1.5.0",
      "model_name": "SliderStyleModel",
      "state": {
       "description_width": ""
      }
     },
     "c346815105a748abb5d5abbcd1e65c29": {
      "model_module": "@jupyter-widgets/base",
      "model_module_version": "1.2.0",
      "model_name": "LayoutModel",
      "state": {}
     },
     "c3bed1fc9c3c4a2da25410438bc7bf2a": {
      "model_module": "@jupyter-widgets/controls",
      "model_module_version": "1.5.0",
      "model_name": "FloatRangeSliderModel",
      "state": {
       "_model_name": "FloatRangeSliderModel",
       "_view_name": "FloatRangeSliderView",
       "continuous_update": false,
       "description": "k<sub>MSR</sub>",
       "layout": "IPY_MODEL_ec35a20f5d1041bca89bdcb0850be493",
       "max": 40,
       "step": 0.1,
       "style": "IPY_MODEL_c8a9e707e1144b438a5e8104415a85c0",
       "value": [
        5,
        15
       ]
      }
     },
     "c552d80e41004f5a94a81f750e21f7be": {
      "model_module": "@jupyter-widgets/controls",
      "model_module_version": "1.5.0",
      "model_name": "SliderStyleModel",
      "state": {
       "description_width": ""
      }
     },
     "c55dcd1596c0470a9b1c25338dc3a946": {
      "model_module": "@jupyter-widgets/base",
      "model_module_version": "1.2.0",
      "model_name": "LayoutModel",
      "state": {}
     },
     "c5b547ac95f34020a0312774957fcbee": {
      "model_module": "@jupyter-widgets/base",
      "model_module_version": "1.2.0",
      "model_name": "LayoutModel",
      "state": {}
     },
     "c68c45af6b154949b679afb848077c0b": {
      "model_module": "@jupyter-widgets/controls",
      "model_module_version": "1.5.0",
      "model_name": "FloatSliderModel",
      "state": {
       "description": "ε<sub>MSR</sub>",
       "layout": "IPY_MODEL_6db8a90afd2b43a892f915e12857a778",
       "style": "IPY_MODEL_0129caf27df54832933063564822385f",
       "value": 54
      }
     },
     "c7c923a68b9f49cfb88b03978c4c8175": {
      "model_module": "@jupyter-widgets/controls",
      "model_module_version": "1.5.0",
      "model_name": "SliderStyleModel",
      "state": {
       "description_width": ""
      }
     },
     "c8a9e707e1144b438a5e8104415a85c0": {
      "model_module": "@jupyter-widgets/controls",
      "model_module_version": "1.5.0",
      "model_name": "SliderStyleModel",
      "state": {
       "description_width": ""
      }
     },
     "c9b2d6c0b0ba4f1ca3b1d1a808e3a644": {
      "model_module": "@jupyter-widgets/base",
      "model_module_version": "1.2.0",
      "model_name": "LayoutModel",
      "state": {
       "width": "100%"
      }
     },
     "c9b5b791725343108bffd61767ec99e8": {
      "model_module": "@jupyter-widgets/base",
      "model_module_version": "1.2.0",
      "model_name": "LayoutModel",
      "state": {}
     },
     "c9ff97d14a504a978d07e17906bf6eb7": {
      "model_module": "@jupyter-widgets/controls",
      "model_module_version": "1.5.0",
      "model_name": "HBoxModel",
      "state": {
       "children": [
        "IPY_MODEL_822276c6b4b349bd8052a475b6480840",
        "IPY_MODEL_fdd48402bc6b4cd3b81360efc7cdc38d"
       ],
       "layout": "IPY_MODEL_321851f154c54c69b19f1f7b7dd042f1"
      }
     },
     "ca77edbbaf9e45c99a7baa8b06b45183": {
      "model_module": "@jupyter-widgets/controls",
      "model_module_version": "1.5.0",
      "model_name": "HBoxModel",
      "state": {
       "children": [
        "IPY_MODEL_f76f74b304714c55a6fbe03cb155c2df",
        "IPY_MODEL_7dec4a0c60b54ca48f677058dfc455c8"
       ],
       "layout": "IPY_MODEL_6364f6e464d041579cf55db7eb24120d"
      }
     },
     "ca8a3f34dd18408ebda367f3308dd06c": {
      "model_module": "@jupyter-widgets/controls",
      "model_module_version": "1.5.0",
      "model_name": "CheckboxModel",
      "state": {
       "description": "Plot time on y axis",
       "disabled": false,
       "layout": "IPY_MODEL_82401ec269dc4b8e8450bad3dabaaf57",
       "style": "IPY_MODEL_d462aaf2984647a79696c190d58c96cf",
       "value": false
      }
     },
     "cb35edeb0bc24679adbd1f6a8e469bb4": {
      "model_module": "@jupyter-widgets/base",
      "model_module_version": "1.2.0",
      "model_name": "LayoutModel",
      "state": {
       "width": "100%"
      }
     },
     "ccecde0c2e874a879366de2126845f41": {
      "model_module": "@jupyter-widgets/base",
      "model_module_version": "1.2.0",
      "model_name": "LayoutModel",
      "state": {
       "width": "100%"
      }
     },
     "cd1f4085367844dab37799d822495514": {
      "model_module": "@jupyter-widgets/controls",
      "model_module_version": "1.5.0",
      "model_name": "FloatRangeSliderModel",
      "state": {
       "_model_name": "FloatRangeSliderModel",
       "_view_name": "FloatRangeSliderView",
       "continuous_update": false,
       "description": "D<sub>32</sub>",
       "layout": "IPY_MODEL_62aa2ce2c762409197697b223b675b8a",
       "max": 0.3,
       "min": 0.001,
       "step": 0.001,
       "style": "IPY_MODEL_95f5be51100b4e81a9223ab1e2da129f",
       "value": [
        0.1,
        0.3
       ]
      }
     },
     "cd920341dbd94d859964ca4dc7ba67bb": {
      "model_module": "@jupyter-widgets/base",
      "model_module_version": "1.2.0",
      "model_name": "LayoutModel",
      "state": {}
     },
     "cf7ff292120444fa9f19f144be315868": {
      "model_module": "@jupyter-widgets/controls",
      "model_module_version": "1.5.0",
      "model_name": "SliderStyleModel",
      "state": {
       "description_width": ""
      }
     },
     "d240313a72bd483a83ee57d6a48a22e8": {
      "model_module": "@jupyter-widgets/base",
      "model_module_version": "1.2.0",
      "model_name": "LayoutModel",
      "state": {}
     },
     "d462aaf2984647a79696c190d58c96cf": {
      "model_module": "@jupyter-widgets/controls",
      "model_module_version": "1.5.0",
      "model_name": "DescriptionStyleModel",
      "state": {
       "description_width": ""
      }
     },
     "d4814927d8564b2b8d88387e9da77560": {
      "model_module": "@jupyter-widgets/controls",
      "model_module_version": "1.5.0",
      "model_name": "FloatSliderModel",
      "state": {
       "description": "D<sub>32</sub>",
       "layout": "IPY_MODEL_574a03c659c942498489e8b10941ea2a",
       "max": 0.3,
       "min": 0.001,
       "step": 0.001,
       "style": "IPY_MODEL_8d232434e5224a198e64a32c69042ff6",
       "value": 0.2
      }
     },
     "d558acc42c314d00b4b4ec4ba4307555": {
      "model_module": "@jupyter-widgets/controls",
      "model_module_version": "1.5.0",
      "model_name": "SliderStyleModel",
      "state": {
       "description_width": ""
      }
     },
     "d6101dd0de674f2ca89603cb0ee376e5": {
      "model_module": "@jupyter-widgets/controls",
      "model_module_version": "1.5.0",
      "model_name": "FloatRangeSliderModel",
      "state": {
       "_model_name": "FloatRangeSliderModel",
       "_view_name": "FloatRangeSliderView",
       "continuous_update": false,
       "description": "ε<sub>MSR</sub>",
       "layout": "IPY_MODEL_0b4a8267f1fc40a689be840679351b67",
       "style": "IPY_MODEL_f2454f3ec5894f639ccf7ace570110a9",
       "value": [
        40,
        55
       ]
      }
     },
     "dcbd102a73454620babbffaa97ebddd6": {
      "model_module": "@jupyter-widgets/base",
      "model_module_version": "1.2.0",
      "model_name": "LayoutModel",
      "state": {}
     },
     "deaade8a3d9148a59e09772f1fe41686": {
      "model_module": "@jupyter-widgets/controls",
      "model_module_version": "1.5.0",
      "model_name": "FloatSliderModel",
      "state": {
       "description": "Marker Size",
       "layout": "IPY_MODEL_8c15dac783f9459dad803b248db46c9d",
       "max": 20,
       "step": 0.1,
       "style": "IPY_MODEL_5d8d9dfc0870461ca5ae59d245d571b9",
       "value": 8
      }
     },
     "df525dda363c4a93b35ac162f552c9df": {
      "model_module": "@jupyter-widgets/base",
      "model_module_version": "1.2.0",
      "model_name": "LayoutModel",
      "state": {}
     },
     "e09de4eeb77f43dc86c86aa3fe90d362": {
      "model_module": "@jupyter-widgets/controls",
      "model_module_version": "1.5.0",
      "model_name": "FloatSliderModel",
      "state": {
       "description": "v<sub>sed</sub>",
       "layout": "IPY_MODEL_443a28000fb148909f53f56827cfb8d2",
       "max": 0.5,
       "min": 0.001,
       "step": 0.001,
       "style": "IPY_MODEL_08612bcf71ed486db57b51f82bcd8bb7",
       "value": 0.12
      }
     },
     "e1f7fe0fd01a48e4beb8d251b49d3628": {
      "model_module": "@jupyter-widgets/controls",
      "model_module_version": "1.5.0",
      "model_name": "DescriptionStyleModel",
      "state": {
       "description_width": ""
      }
     },
     "e227b44e6c964388baf348efacf9c89f": {
      "model_module": "@jupyter-widgets/base",
      "model_module_version": "1.2.0",
      "model_name": "LayoutModel",
      "state": {
       "width": "100%"
      }
     },
     "e6dc2ceea2c04658a09c1d4a0d605911": {
      "model_module": "@jupyter-widgets/controls",
      "model_module_version": "1.5.0",
      "model_name": "HBoxModel",
      "state": {
       "children": [
        "IPY_MODEL_8ae952a5f06541dc8fbda1b47a363ad0",
        "IPY_MODEL_1fc608122705463e861b5d4c9d3755b5"
       ],
       "layout": "IPY_MODEL_c5b547ac95f34020a0312774957fcbee"
      }
     },
     "e77bcd25c60a485cb1fd036f6d4b18fa": {
      "model_module": "@jupyter-widgets/controls",
      "model_module_version": "1.5.0",
      "model_name": "SliderStyleModel",
      "state": {
       "description_width": ""
      }
     },
     "ec35a20f5d1041bca89bdcb0850be493": {
      "model_module": "@jupyter-widgets/base",
      "model_module_version": "1.2.0",
      "model_name": "LayoutModel",
      "state": {
       "width": "100%"
      }
     },
     "ec89949a34424d9da85a715b60d30758": {
      "buffers": [
       {
        "data": "Gi/dJAaBhT922lqkSBiEP851Drwux4I/PJ6G3SuMgT/zzL52zWWAP1JzY3xypX4/xEf5NlejfD+7m2hV7MJ6P1G1V7H8AXk/JzIWLXhedz9VYlpGcdZ1P3eTtNEaaHQ/zVoN3MURcz9BrrCv39FxPwJukfrvpnA/DSkwJy4fbz/0j+e5GBVtP9ZPDoM5LWs/zStUl1JlaT/GCC+nS7tnP3Rg9IcvLWY/Gl1K5im5ZD9DFDsfhV1jPwXJYT2oGGI/RZbUFxXpYD99IikhzZpfP6QU5+CdiF0/wnMCvSyZWz+wEmTiMspZP2DXH6+PGVg/LQDEMUaFVj8hTaTSegtVPwbAYCRxqlM/dM0V2YlgUj+F+c7ZQCxRP0Uo/X0rDFA/Eiavwe39TT+SCmOlzAZMP1rN38ijMEo/VqbQFkp5SD8VdCC4ut5GPyGl+rMSX0U/8pGjt474Qz8K64sDialCP/uqLnt3cEE/Sulx1elLQD8pVNLWD3U+P+YG90Ygdjw/zK4i7quYOj+RLBkigdo4P+VP1waTOTc/GbQkJfezNT+TU5sp40c0P7wWfsmq8zI/Qh3kyr21MT+FEOgtpowwPyNJY+kM7i4/GXGnEDDnLD8O4zZxUwIrP2i4GKo8PSk/t3/GutaVJz8N8ymQLwomP6gmsbp1mCQ/KO3HSvY+Iz9WWTLRGvwhP8h67oBnziA/KMfV4PJoHz+rwQjwCVodP9GBv1eobRs/HmOp3oqhGT+Xp3lAlPMXPzR8LLHKYRY/U9IFilXqFD+5HI4de4sTP1bc/q+eQxI/08a7kT4RET8PvTqz5OUPP1OD7nnSzg0/ouHOBtHaCz8W+TgplAcKP8gpvjz2Ugg/0QGQovW6Bj9/YExlsj0FP9gLYwRs2QM/CYx8ZH+MAj+tqHXiZFUBP0SSq4auMgA/fov1rAxG/j7lfeyDWUr8PoSC+1fub/o+/wfyFZ20+D7SGzVBXBb3PgBGUI5Ek/U+iPO/pY4p9D72K1MMkdfyPhKIri6+m/E+A7SjjaJ08D7ozW4SxsHuPuemp5B2vuw+aZ+Odvjc6j4l+ZxuFRvpPoJTDVO8duc+UICBv/7t5T6Sco3LDn/kPhV0e+s8KOM+UsnK9PXn4T6M9hNEwbzgPhFOSgR+St8+xOqbDE1A3T4YXOiniVjbPqCGVmP2kNk+fWRMsHvn1z45W+9uJVrWPpZPXaIg59Q+HMzrS7mM0z5ShuhqWEnSPqqQgR6CG9E+isaj59MB0D4mWYcRBvbNPmqIUAO2C8w+0bXgSnhCyj7qnlOSNJjIPh+R3hL3Csc+hhM4S+6YxT6UK37eaEDEPuJ9HZnT/8I+coVombfVwT4dYbiZuMDAPij0MLQmf78+Jm5HTziivT4mdLr/eui7Puno35ztT7o+i66/h7bWuD7gX6qHIXu3PnYCjtOdO7Y+Uv3HRbwWtT7/uma4LQu0Ppkj/ofBF7M+GMhgO2Q7sj5yZLxOHnWxPlyAwyATxLA+e6O3AIAnsD6U+p+4dj2vPg55PxloUq4+aZyLguGMrT7PFKsSH+ysPo9GGvOKb6w+11En37wWrD7GozrkeeGrPqpG81u0z6s+",
        "encoding": "base64",
        "path": [
         "_data",
         0,
         "x",
         "value"
        ]
       },
       {
        "data": "AAAAAAAAAAB7FK5H4XqEP3sUrkfhepQ/uB6F61G4nj97FK5H4XqkP5qZmZmZmak/uB6F61G4rj/sUbgeheuxP3sUrkfherQ/CtejcD0Ktz+amZmZmZm5Pylcj8L1KLw/uB6F61G4vj+kcD0K16PAP+xRuB6F68E/MzMzMzMzwz97FK5H4XrEP8P1KFyPwsU/CtejcD0Kxz9SuB6F61HIP5qZmZmZmck/4XoUrkfhyj8pXI/C9SjMP3E9CtejcM0/uB6F61G4zj8AAAAAAADQP6RwPQrXo9A/SOF6FK5H0T/sUbgehevRP4/C9Shcj9I/MzMzMzMz0z/Xo3A9CtfTP3sUrkfhetQ/H4XrUbge1T/D9Shcj8LVP2dmZmZmZtY/CtejcD0K1z+uR+F6FK7XP1K4HoXrUdg/9ihcj8L12D+amZmZmZnZPz4K16NwPdo/4XoUrkfh2j+F61G4HoXbPylcj8L1KNw/zczMzMzM3D9xPQrXo3DdPxWuR+F6FN4/uB6F61G43j9cj8L1KFzfPwAAAAAAAOA/UrgehetR4D+kcD0K16PgP/YoXI/C9eA/SOF6FK5H4T+amZmZmZnhP+xRuB6F6+E/PgrXo3A94j+PwvUoXI/iP+F6FK5H4eI/MzMzMzMz4z+F61G4HoXjP9ejcD0K1+M/KVyPwvUo5D97FK5H4XrkP83MzMzMzOQ/H4XrUbge5T9xPQrXo3DlP8P1KFyPwuU/Fa5H4XoU5j9nZmZmZmbmP7gehetRuOY/CtejcD0K5z9cj8L1KFznP65H4XoUruc/AAAAAAAA6D9SuB6F61HoP6RwPQrXo+g/9ihcj8L16D9I4XoUrkfpP5qZmZmZmek/7FG4HoXr6T8+CtejcD3qP5DC9Shcj+o/4XoUrkfh6j8zMzMzMzPrP4XrUbgehes/16NwPQrX6z8pXI/C9SjsP3sUrkfheuw/zczMzMzM7D8fhetRuB7tP3E9CtejcO0/w/UoXI/C7T8VrkfhehTuP2dmZmZmZu4/uB6F61G47j8K16NwPQrvP1yPwvUoXO8/rkfhehSu7z8AAAAAAADwPylcj8L1KPA/UrgehetR8D97FK5H4XrwP6RwPQrXo/A/zczMzMzM8D/2KFyPwvXwPx+F61G4HvE/SOF6FK5H8T9xPQrXo3DxP5qZmZmZmfE/w/UoXI/C8T/sUbgehevxPxWuR+F6FPI/PgrXo3A98j9nZmZmZmbyP4/C9Shcj/I/uB6F61G48j/hehSuR+HyPwrXo3A9CvM/MzMzMzMz8z9cj8L1KFzzP4XrUbgehfM/rkfhehSu8z/Xo3A9CtfzPwAAAAAAAPQ/KVyPwvUo9D9SuB6F61H0P3sUrkfhevQ/pHA9Ctej9D/NzMzMzMz0P/YoXI/C9fQ/H4XrUbge9T9I4XoUrkf1P3E9CtejcPU/mpmZmZmZ9T/D9Shcj8L1P+xRuB6F6/U/Fa5H4XoU9j8+CtejcD32P2dmZmZmZvY/j8L1KFyP9j+4HoXrUbj2P+F6FK5H4fY/CtejcD0K9z8zMzMzMzP3P1yPwvUoXPc/hetRuB6F9z+uR+F6FK73P9ejcD0K1/c/",
        "encoding": "base64",
        "path": [
         "_data",
         0,
         "y",
         "value"
        ]
       },
       {
        "data": "exSuR+F6xD8X0sBjfQXFP3gmUkAEh8U/tIyPPA4Axj/eHIq7KXHGP3KKtsvb2sY/Tj5zw6A9xz+HrUzT7JnHP4n9q44s8Mc/a7+Qa8VAyD8jA+w5FozIP64qKZN30sg/57FnQjwUyT+bhuClsVHJP96D6Qkgi8k/UCEC/srAyT8jY02k8fLJPzuJ1vvOIco/X9v3JZpNyj/TNjWnhnbKPxmo1qPEnMo/0FuKGIHAyj+bhVAP5uHKP2t+79AaAcs/OkcqE0Qeyz8xze8jhDnLP2q8tRH7Uss/HVou0cZqyz/EwoVgA4HLP4sAUOjKlcs/7rZO2jWpyz+mljIOW7vLP5dtetxPzMs/NW+PNyjcyz9OPzzD9urLP9VZmurM+Ms/C6OP9LoFzD/TOvQW0BHMP4oZd4gaHcw/2IJWkacnzD/3+f+agzHMP8YYqj66Osw/0nb5UlZDzD9ArcD4YUvMP0h36qbmUsw/WvObNe1ZzD/tHZzofWDMPxjDDHmgZsw/BleAHlxszD8+ZXeXt3HMP4iTTzG5dsw/pI2tz2Z7zD+PkmrzxX/MP5vJDcHbg8w/Cf3YBq2HzD8E2G9CPovMP4ROIKaTjsw/92XSHbGRzD9vLaVTmpTMP49SPrRSl8w/dGXRct2ZzD+7iOOMPZzMP1f7z811nsw/hp8R0oigzD/wXFUKeaLMP+L6WL5IpMw/QdOZD/qlzD/phdb7jqfMP2ufZl8Jqcw/h/Rq92qqzD+eRdljtavMPxCSZSnqrMw/PFtLswquzD/j8PhUGK/MP869nksUsMw/RGqkv/+wzD9YiwXG27HMPzh5l2Gpssw/1cs5hGmzzD8I5PIPHbTMP/bP+dfEtMw/dsOuoWG1zD/XSIMl9LXMPxQ70w99tsw/voivAf22zD81rpuRdLfMP/TFPkzkt8w/Yf8ItUy4zD+qPs5GrrjMP6abVnQJucw/uWnlqF65zD+DZ7dIrrnMP+uqeLH4ucw/FtSyOj66zD8iCTQ2f7rMP5wzb/C7usw/DvHVsPS6zD9loCy6KbvMPwnv2Epbu8w/LUIrnYm7zD+eUqPntLvMP85LMF3du8w/oblsLQO8zD9Yi9aEJrzMP61tA41HvMw/n7nRbGa8zD+RMZZIg7zMP37CRkKevMw/rHuiebe8zD/Q61YMz7zMP7gPIxblvMw/evv3sPm8zD+3ZBf1DL3MP9wxMPkevcw/ADB50i+9zD/dDsqUP73MP0DAslJOvcw/oFaRHVy9zD9qfKYFab3MP1icKBp1vcw/SNFVaYC9zD/IsoQAi73MPyYSNOyUvcw/oroZOJ69zD8aRjDvpr3MP6gWxBuvvcw/ZIR/x7a9zD/dTXb7vb3MP7dYMMDEvcw/O8+zHcu9zD/ipo4b0b3MPyab38DWvcw/RadeFNy9zD8jCWUc4b3MP9HW9N7lvcw/zC/AYeq9zD+mEjCq7r3MP0Lfar3yvcw/h41aoPa9zD8UoLJX+r3MPyLa9ef9vcw/pL97VQG+zD9C5nWkBL7MP+Ed9dgHvsw/83bu9gq+zD/sLEACDr7MP/h6tv4Qvsw/9mAQ8BO+zD/hXgTaFr7MP4csRcAZvsw/",
        "encoding": "base64",
        "path": [
         "_data",
         1,
         "x",
         "value"
        ]
       },
       {
        "data": "AAAAAAAAAAB7FK5H4XqEP3sUrkfhepQ/uB6F61G4nj97FK5H4XqkP5qZmZmZmak/uB6F61G4rj/sUbgeheuxP3sUrkfherQ/CtejcD0Ktz+amZmZmZm5Pylcj8L1KLw/uB6F61G4vj+kcD0K16PAP+xRuB6F68E/MzMzMzMzwz97FK5H4XrEP8P1KFyPwsU/CtejcD0Kxz9SuB6F61HIP5qZmZmZmck/4XoUrkfhyj8pXI/C9SjMP3E9CtejcM0/uB6F61G4zj8AAAAAAADQP6RwPQrXo9A/SOF6FK5H0T/sUbgehevRP4/C9Shcj9I/MzMzMzMz0z/Xo3A9CtfTP3sUrkfhetQ/H4XrUbge1T/D9Shcj8LVP2dmZmZmZtY/CtejcD0K1z+uR+F6FK7XP1K4HoXrUdg/9ihcj8L12D+amZmZmZnZPz4K16NwPdo/4XoUrkfh2j+F61G4HoXbPylcj8L1KNw/zczMzMzM3D9xPQrXo3DdPxWuR+F6FN4/uB6F61G43j9cj8L1KFzfPwAAAAAAAOA/UrgehetR4D+kcD0K16PgP/YoXI/C9eA/SOF6FK5H4T+amZmZmZnhP+xRuB6F6+E/PgrXo3A94j+PwvUoXI/iP+F6FK5H4eI/MzMzMzMz4z+F61G4HoXjP9ejcD0K1+M/KVyPwvUo5D97FK5H4XrkP83MzMzMzOQ/H4XrUbge5T9xPQrXo3DlP8P1KFyPwuU/Fa5H4XoU5j9nZmZmZmbmP7gehetRuOY/CtejcD0K5z9cj8L1KFznP65H4XoUruc/AAAAAAAA6D9SuB6F61HoP6RwPQrXo+g/9ihcj8L16D9I4XoUrkfpP5qZmZmZmek/7FG4HoXr6T8+CtejcD3qP5DC9Shcj+o/4XoUrkfh6j8zMzMzMzPrP4XrUbgehes/16NwPQrX6z8pXI/C9SjsP3sUrkfheuw/zczMzMzM7D8fhetRuB7tP3E9CtejcO0/w/UoXI/C7T8VrkfhehTuP2dmZmZmZu4/uB6F61G47j8K16NwPQrvP1yPwvUoXO8/rkfhehSu7z8AAAAAAADwPylcj8L1KPA/UrgehetR8D97FK5H4XrwP6RwPQrXo/A/zczMzMzM8D/2KFyPwvXwPx+F61G4HvE/SOF6FK5H8T9xPQrXo3DxP5qZmZmZmfE/w/UoXI/C8T/sUbgehevxPxWuR+F6FPI/PgrXo3A98j9nZmZmZmbyP4/C9Shcj/I/uB6F61G48j/hehSuR+HyPwrXo3A9CvM/MzMzMzMz8z9cj8L1KFzzP4XrUbgehfM/rkfhehSu8z/Xo3A9CtfzPwAAAAAAAPQ/KVyPwvUo9D9SuB6F61H0P3sUrkfhevQ/pHA9Ctej9D/NzMzMzMz0P/YoXI/C9fQ/H4XrUbge9T9I4XoUrkf1P3E9CtejcPU/mpmZmZmZ9T/D9Shcj8L1P+xRuB6F6/U/Fa5H4XoU9j8+CtejcD32P2dmZmZmZvY/j8L1KFyP9j+4HoXrUbj2P+F6FK5H4fY/CtejcD0K9z8zMzMzMzP3P1yPwvUoXPc/hetRuB6F9z+uR+F6FK73P9ejcD0K1/c/",
        "encoding": "base64",
        "path": [
         "_data",
         1,
         "y",
         "value"
        ]
       },
       {
        "data": "AAAAAAAAAAB7FK5H4XqEP3sUrkfhepQ/uB6F61G4nj97FK5H4XqkP5qZmZmZmak/uB6F61G4rj/sUbgeheuxP3sUrkfherQ/CtejcD0Ktz+amZmZmZm5Pylcj8L1KLw/uB6F61G4vj+kcD0K16PAP+xRuB6F68E/MzMzMzMzwz97FK5H4XrEP8P1KFyPwsU/CtejcD0Kxz9SuB6F61HIP5qZmZmZmck/4XoUrkfhyj8pXI/C9SjMP3E9CtejcM0/uB6F61G4zj8AAAAAAADQP6RwPQrXo9A/SOF6FK5H0T/sUbgehevRP4/C9Shcj9I/MzMzMzMz0z/Xo3A9CtfTP3sUrkfhetQ/H4XrUbge1T/D9Shcj8LVP2dmZmZmZtY/CtejcD0K1z+uR+F6FK7XP1K4HoXrUdg/9ihcj8L12D+amZmZmZnZPz4K16NwPdo/4XoUrkfh2j+F61G4HoXbPylcj8L1KNw/zczMzMzM3D9xPQrXo3DdPxWuR+F6FN4/uB6F61G43j9cj8L1KFzfPwAAAAAAAOA/UrgehetR4D+kcD0K16PgP/YoXI/C9eA/SOF6FK5H4T+amZmZmZnhP+xRuB6F6+E/PgrXo3A94j+PwvUoXI/iP+F6FK5H4eI/MzMzMzMz4z+F61G4HoXjP9ejcD0K1+M/KVyPwvUo5D97FK5H4XrkP83MzMzMzOQ/H4XrUbge5T9xPQrXo3DlP8P1KFyPwuU/Fa5H4XoU5j9nZmZmZmbmP7gehetRuOY/CtejcD0K5z9cj8L1KFznP65H4XoUruc/AAAAAAAA6D9SuB6F61HoP6RwPQrXo+g/9ihcj8L16D9I4XoUrkfpP5qZmZmZmek/7FG4HoXr6T8+CtejcD3qP5DC9Shcj+o/4XoUrkfh6j8zMzMzMzPrP4XrUbgehes/16NwPQrX6z8pXI/C9SjsP3sUrkfheuw/zczMzMzM7D8fhetRuB7tP3E9CtejcO0/w/UoXI/C7T8VrkfhehTuP2dmZmZmZu4/uB6F61G47j8K16NwPQrvP1yPwvUoXO8/rkfhehSu7z8AAAAAAADwPylcj8L1KPA/UrgehetR8D97FK5H4XrwP6RwPQrXo/A/zczMzMzM8D/2KFyPwvXwPx+F61G4HvE/SOF6FK5H8T9xPQrXo3DxP5qZmZmZmfE/w/UoXI/C8T/sUbgehevxPxWuR+F6FPI/PgrXo3A98j9nZmZmZmbyP4/C9Shcj/I/uB6F61G48j/hehSuR+HyPwrXo3A9CvM/MzMzMzMz8z9cj8L1KFzzP4XrUbgehfM/rkfhehSu8z/Xo3A9CtfzPwAAAAAAAPQ/KVyPwvUo9D9SuB6F61H0P3sUrkfhevQ/pHA9Ctej9D/NzMzMzMz0P/YoXI/C9fQ/H4XrUbge9T9I4XoUrkf1P3E9CtejcPU/mpmZmZmZ9T/D9Shcj8L1P+xRuB6F6/U/Fa5H4XoU9j8+CtejcD32P2dmZmZmZvY/j8L1KFyP9j+4HoXrUbj2P+F6FK5H4fY/CtejcD0K9z8zMzMzMzP3P1yPwvUoXPc/hetRuB6F9z+uR+F6FK73P9ejcD0K1/c/",
        "encoding": "base64",
        "path": [
         "_data",
         2,
         "y",
         "value"
        ]
       },
       {
        "data": "AAAAAAAAAAB7FK5H4XqEP3sUrkfhepQ/uB6F61G4nj97FK5H4XqkP5qZmZmZmak/uB6F61G4rj/sUbgeheuxP3sUrkfherQ/CtejcD0Ktz+amZmZmZm5Pylcj8L1KLw/uB6F61G4vj+kcD0K16PAP+xRuB6F68E/MzMzMzMzwz97FK5H4XrEP8P1KFyPwsU/CtejcD0Kxz9SuB6F61HIP5qZmZmZmck/4XoUrkfhyj8pXI/C9SjMP3E9CtejcM0/uB6F61G4zj8AAAAAAADQP6RwPQrXo9A/SOF6FK5H0T/sUbgehevRP4/C9Shcj9I/MzMzMzMz0z/Xo3A9CtfTP3sUrkfhetQ/H4XrUbge1T/D9Shcj8LVP2dmZmZmZtY/CtejcD0K1z+uR+F6FK7XP1K4HoXrUdg/9ihcj8L12D+amZmZmZnZPz4K16NwPdo/4XoUrkfh2j+F61G4HoXbPylcj8L1KNw/zczMzMzM3D9xPQrXo3DdPxWuR+F6FN4/uB6F61G43j9cj8L1KFzfPwAAAAAAAOA/UrgehetR4D+kcD0K16PgP/YoXI/C9eA/SOF6FK5H4T+amZmZmZnhP+xRuB6F6+E/PgrXo3A94j+PwvUoXI/iP+F6FK5H4eI/MzMzMzMz4z+F61G4HoXjP9ejcD0K1+M/KVyPwvUo5D97FK5H4XrkP83MzMzMzOQ/H4XrUbge5T9xPQrXo3DlP8P1KFyPwuU/Fa5H4XoU5j9nZmZmZmbmP7gehetRuOY/CtejcD0K5z9cj8L1KFznP65H4XoUruc/AAAAAAAA6D9SuB6F61HoP6RwPQrXo+g/9ihcj8L16D9I4XoUrkfpP5qZmZmZmek/7FG4HoXr6T8+CtejcD3qP5DC9Shcj+o/4XoUrkfh6j8zMzMzMzPrP4XrUbgehes/16NwPQrX6z8pXI/C9SjsP3sUrkfheuw/zczMzMzM7D8fhetRuB7tP3E9CtejcO0/w/UoXI/C7T8VrkfhehTuP2dmZmZmZu4/uB6F61G47j8K16NwPQrvP1yPwvUoXO8/rkfhehSu7z8AAAAAAADwPylcj8L1KPA/UrgehetR8D97FK5H4XrwP6RwPQrXo/A/zczMzMzM8D/2KFyPwvXwPx+F61G4HvE/SOF6FK5H8T9xPQrXo3DxP5qZmZmZmfE/w/UoXI/C8T/sUbgehevxPxWuR+F6FPI/PgrXo3A98j9nZmZmZmbyP4/C9Shcj/I/uB6F61G48j/hehSuR+HyPwrXo3A9CvM/MzMzMzMz8z9cj8L1KFzzP4XrUbgehfM/rkfhehSu8z/Xo3A9CtfzPwAAAAAAAPQ/KVyPwvUo9D9SuB6F61H0P3sUrkfhevQ/pHA9Ctej9D/NzMzMzMz0P/YoXI/C9fQ/H4XrUbge9T9I4XoUrkf1P3E9CtejcPU/mpmZmZmZ9T/D9Shcj8L1P+xRuB6F6/U/Fa5H4XoU9j8+CtejcD32P2dmZmZmZvY/j8L1KFyP9j+4HoXrUbj2P+F6FK5H4fY/CtejcD0K9z8zMzMzMzP3P1yPwvUoXPc/hetRuB6F9z+uR+F6FK73P9ejcD0K1/c/",
        "encoding": "base64",
        "path": [
         "_data",
         3,
         "y",
         "value"
        ]
       }
      ],
      "model_module": "jupyterlab-plotly",
      "model_module_version": "^5.1.0",
      "model_name": "FigureModel",
      "state": {
       "_config": {
        "plotlyServerURL": "https://plot.ly"
       },
       "_data": [
        {
         "marker": {
          "color": "RoyalBlue"
         },
         "mode": "lines",
         "name": "[SO<sub>4</sub>]",
         "type": "scatter",
         "uid": "a1a0548f-6430-4e5a-b719-0ba0e8177b81",
         "x": {
          "dtype": "float64",
          "shape": [
           150
          ]
         },
         "xaxis": "x",
         "y": {
          "dtype": "float64",
          "shape": [
           150
          ]
         },
         "yaxis": "y"
        },
        {
         "marker": {
          "color": "MediumSeaGreen"
         },
         "mode": "lines",
         "name": "[FeS<sub>2</sub>]",
         "type": "scatter",
         "uid": "15a576df-be2a-415d-b7d4-c0524275f700",
         "x": {
          "dtype": "float64",
          "shape": [
           150
          ]
         },
         "xaxis": "x",
         "y": {
          "dtype": "float64",
          "shape": [
           150
          ]
         },
         "yaxis": "y"
        },
        {
         "marker": {
          "color": "Navy"
         },
         "mode": "lines",
         "name": "δ<sup>34</sup>S<sub>SO4</sub>",
         "type": "scatter",
         "uid": "978f5634-7d81-46cc-9bf8-303fba06e625",
         "x": [
          23.00000000000013,
          24.923534044210438,
          26.85108477632525,
          28.78268572579845,
          30.71837039660319,
          32.65817226709466,
          34.60212478987823,
          36.55026139167528,
          38.50261547318401,
          40.459220408944674,
          42.42010954720299,
          44.38531620976938,
          46.354873691886624,
          48.32881526209243,
          50.30717416208663,
          52.28998360660175,
          54.27727678327798,
          56.2690868525435,
          58.265446947502355,
          60.26639017383184,
          62.27194960969329,
          64.28215830565564,
          66.29704928463731,
          68.31665554187039,
          70.34101004489268,
          72.37014573356481,
          74.4040955201335,
          76.44289228933032,
          78.48656889852856,
          80.53515817795653,
          82.58869293098581,
          84.64720593450137,
          86.71072993936812,
          88.779297671014,
          90.85294183014203,
          92.93169509359522,
          95.01559011540017,
          97.10465952801117,
          99.19893594379437,
          101.2984519567779,
          null,
          null,
          null,
          null,
          null,
          null,
          null,
          null,
          null,
          null,
          null,
          null,
          null,
          null,
          null,
          null,
          null,
          null,
          null,
          null,
          null,
          null,
          null,
          null,
          null,
          null,
          null,
          null,
          null,
          null,
          null,
          null,
          null,
          null,
          null,
          null,
          null,
          null,
          null,
          null,
          null,
          null,
          null,
          null,
          null,
          null,
          null,
          null,
          null,
          null,
          null,
          null,
          null,
          null,
          null,
          null,
          null,
          null,
          null,
          null,
          null,
          null,
          null,
          null,
          null,
          null,
          null,
          null,
          null,
          null,
          null,
          null,
          null,
          null,
          null,
          null,
          null,
          null,
          null,
          null,
          null,
          null,
          null,
          null,
          null,
          null,
          null,
          null,
          null,
          null,
          null,
          null,
          null,
          null,
          null,
          null,
          null,
          null,
          null,
          null,
          null,
          null,
          null,
          null,
          null,
          null,
          null,
          null,
          null,
          null
         ],
         "xaxis": "x2",
         "y": {
          "dtype": "float64",
          "shape": [
           150
          ]
         },
         "yaxis": "y2"
        },
        {
         "marker": {
          "color": "DarkGreen"
         },
         "mode": "lines",
         "name": "δ<sup>34</sup>S<sub>py</sub>",
         "type": "scatter",
         "uid": "499f9f7a-3d5e-4a3c-be06-4d20d509ac2d",
         "x": [
          -31.00000000000003,
          -30.976879910796008,
          -30.91360618991068,
          -30.817986029536225,
          -30.69637715960949,
          -30.553996306072364,
          -30.3951519430824,
          -30.22342221399321,
          -30.041792565632775,
          -29.852763390592727,
          -29.658435070003986,
          -29.460575795973497,
          -29.260676135970833,
          -29.059993290946107,
          -28.859587269336906,
          -28.660350666261714,
          -28.463033343867018,
          -28.268263015564177,
          -28.07656251626034,
          -27.888364373195085,
          -27.704023163854675,
          -27.523826048600153,
          -27.34800178887142,
          -27.176728501817514,
          -27.010140354921997,
          -26.84833336679615,
          -26.691370450476203,
          -26.5392858117075,
          -26.392088795447744,
          -26.24976725828376,
          -26.112290531780992,
          -25.979612031461485,
          -25.851671557607816,
          -25.728397327105522,
          -25.609707769735923,
          -25.49551311752396,
          -25.385716811721192,
          -25.28021674864045,
          -25.17890638272324,
          -25.0816757028246,
          -24.988412095674594,
          -24.899001108742326,
          -24.81332712325579,
          -24.731273946861254,
          -24.6527253343114,
          -24.577565443638427,
          -24.505679234435362,
          -24.43695281416747,
          -24.371273737805566,
          -24.308531265531563,
          -24.248616582775217,
          -24.1914229864294,
          -24.136846040701766,
          -24.084783705730306,
          -24.03513644179267,
          -23.98780729166461,
          -23.94270194345527,
          -23.89972877601021,
          -23.858798888803268,
          -23.819826118040787,
          -23.78272704055395,
          -23.747420966907406,
          -23.713829925017805,
          -23.681878635462006,
          -23.651494479540514,
          -23.622607461062593,
          -23.59515016273317,
          -23.56905769793116,
          -23.544267658601626,
          -23.520720059905354,
          -23.49835728221217,
          -23.477124010966467,
          -23.45696717489476,
          -23.437835882979428,
          -23.419681360581592,
          -23.402456885048608,
          -23.38611772110677,
          -23.370621056311492,
          -23.355925936783706,
          -23.341993203446766,
          -23.32878542894101,
          -23.31626685537458,
          -23.304403333050615,
          -23.293162260283108,
          -23.28251252440228,
          -23.272424444035433,
          -23.262869712726065,
          -23.25382134395493,
          -23.245253617598436,
          -23.237142027863644,
          -23.22946323272157,
          -23.222195004852786,
          -23.21531618411543,
          -23.208806631533683,
          -23.202647184804803,
          -23.196819615310392,
          -23.191306586621828,
          -23.186091614475156,
          -23.181159028198284,
          -23.176493933561805,
          -23.1720821770246,
          -23.167910311348017,
          -23.163965562541634,
          -23.160235798110552,
          -23.15670949656745,
          -23.15337571817444,
          -23.15022407687861,
          -23.14724471340357,
          -23.144428269459727,
          -23.141765863037065,
          -23.139249064742074,
          -23.136869875140963,
          -23.134620703074482,
          -23.132494344905275,
          -23.130483964662663,
          -23.12858307504817,
          -23.126785519270054,
          -23.12508545366598,
          -23.123477331086217,
          -23.121955884999657,
          -23.12051611429378,
          -23.119153268731594,
          -23.117862835040135,
          -23.116640523596523,
          -23.115482255681165,
          -23.11438415127276,
          -23.11334251735342,
          -23.112353836697075,
          -23.111414757114645,
          -23.110522081129623,
          -23.10967275605713,
          -23.10886386446409,
          -23.10809261498259,
          -23.1073563334524,
          -23.106652454375155,
          -23.105978512646953,
          -23.105332135554768,
          -23.104711035012883,
          -23.10411300001247,
          -23.103535889270944,
          -23.102977624050002,
          -23.10243618112928,
          -23.10190958591074,
          -23.10139590563276,
          -23.100893242673614,
          -23.100399727923214,
          -23.099913514203706,
          -23.099432769715158,
          -23.098955671488785,
          -23.098480398823117
         ],
         "xaxis": "x2",
         "y": {
          "dtype": "float64",
          "shape": [
           150
          ]
         },
         "yaxis": "y2"
        }
       ],
       "_js2py_pointsCallback": {},
       "_js2py_relayout": {},
       "_js2py_restyle": {},
       "_js2py_update": {},
       "_last_layout_edit_id": 8,
       "_last_trace_edit_id": 8,
       "_layout": {
        "height": 600,
        "hovermode": "y",
        "margin": {
         "t": 60
        },
        "template": {
         "layout": {
          "bargap": 0.05,
          "bargroupgap": 0,
          "font": {
           "color": "black",
           "family": "Segoe UI",
           "size": 17
          },
          "height": 700,
          "hovermode": "closest",
          "margin": {
           "b": 60,
           "l": 90,
           "r": 30,
           "t": 30
          },
          "scene": {
           "xaxis": {
            "color": "black",
            "linewidth": 2,
            "showline": true,
            "ticks": "outside"
           },
           "yaxis": {
            "color": "black",
            "linewidth": 2,
            "showline": true,
            "ticks": "outside"
           },
           "zaxis": {
            "color": "black",
            "linewidth": 2,
            "showline": true,
            "ticks": "outside"
           }
          },
          "xaxis": {
           "color": "black",
           "linewidth": 1.3,
           "mirror": true,
           "showgrid": true,
           "showline": true,
           "ticks": "outside",
           "zeroline": true
          },
          "yaxis": {
           "color": "black",
           "linewidth": 1.3,
           "mirror": true,
           "showgrid": true,
           "showline": true,
           "ticks": "outside",
           "zeroline": true
          }
         }
        },
        "width": 1000,
        "xaxis": {
         "anchor": "y",
         "domain": [
          0,
          0.495
         ],
         "title": {
          "text": "Concentration / mol dm<sup>−3</sup>"
         }
        },
        "xaxis2": {
         "anchor": "y2",
         "domain": [
          0.505,
          1
         ],
         "title": {
          "text": "δ<sup>34</sup>S (‰)"
         }
        },
        "yaxis": {
         "anchor": "x",
         "domain": [
          0,
          1
         ],
         "rangemode": "tozero",
         "title": {
          "text": "Depth, <i>z</i> / m"
         }
        },
        "yaxis2": {
         "anchor": "x2",
         "domain": [
          0,
          1
         ],
         "matches": "y",
         "showticklabels": false
        }
       },
       "_py2js_animate": {},
       "_py2js_deleteTraces": {},
       "_py2js_moveTraces": {},
       "_py2js_relayout": {},
       "_py2js_removeTraceProps": {},
       "_py2js_restyle": {},
       "_view_count": 1
      }
     },
     "ee34ad6bb8cd4c7aa6f790787a5532cc": {
      "model_module": "@jupyter-widgets/controls",
      "model_module_version": "1.5.0",
      "model_name": "DescriptionStyleModel",
      "state": {
       "description_width": ""
      }
     },
     "eec2698074fb4daa8878e110ee858df8": {
      "model_module": "@jupyter-widgets/base",
      "model_module_version": "1.2.0",
      "model_name": "LayoutModel",
      "state": {}
     },
     "f2454f3ec5894f639ccf7ace570110a9": {
      "model_module": "@jupyter-widgets/controls",
      "model_module_version": "1.5.0",
      "model_name": "SliderStyleModel",
      "state": {
       "description_width": ""
      }
     },
     "f25a6e5f17c84075a44135795cfbde73": {
      "model_module": "@jupyter-widgets/controls",
      "model_module_version": "1.5.0",
      "model_name": "FloatSliderModel",
      "state": {
       "description": "dz",
       "layout": "IPY_MODEL_9753b71e170d4802a9b008cd7aababe6",
       "max": 0.1,
       "min": 0.001,
       "step": 0.001,
       "style": "IPY_MODEL_50f589ac9e8649d080f26462de1bceaf",
       "value": 0.01
      }
     },
     "f284f4efa79d4adead98556ae43f93c6": {
      "model_module": "@jupyter-widgets/controls",
      "model_module_version": "1.5.0",
      "model_name": "FloatSliderModel",
      "state": {
       "description": "z<sub>max</sub>",
       "layout": "IPY_MODEL_304d5507a15042589a86e8218f64e088",
       "max": 10,
       "min": 0.01,
       "step": 0.01,
       "style": "IPY_MODEL_f6f27b57836e45cfbd17d6d12077e319",
       "value": 1.5
      }
     },
     "f2d85beba28448d7aeb2a79cd4868f7b": {
      "model_module": "@jupyter-widgets/base",
      "model_module_version": "1.2.0",
      "model_name": "LayoutModel",
      "state": {}
     },
     "f52da2cd48724f61b77d97495547b9cd": {
      "model_module": "@jupyter-widgets/controls",
      "model_module_version": "1.5.0",
      "model_name": "FloatSliderModel",
      "state": {
       "description": "δ<sup>34</sup>S<sub>SO4, 0</sub>",
       "layout": "IPY_MODEL_08837b23c32a4041b3bfe529d6cfee1f",
       "max": 30,
       "step": 0.1,
       "style": "IPY_MODEL_cf7ff292120444fa9f19f144be315868",
       "value": 23
      }
     },
     "f6161c3e76ec4f469f22de242492d989": {
      "model_module": "@jupyter-widgets/controls",
      "model_module_version": "1.5.0",
      "model_name": "SliderStyleModel",
      "state": {
       "description_width": ""
      }
     },
     "f6f27b57836e45cfbd17d6d12077e319": {
      "model_module": "@jupyter-widgets/controls",
      "model_module_version": "1.5.0",
      "model_name": "SliderStyleModel",
      "state": {
       "description_width": ""
      }
     },
     "f76f74b304714c55a6fbe03cb155c2df": {
      "buffers": [
       {
        "data": "xYgRI0aMyD8EJRGURFDSPx3HcRzHccw/yR4he4Ts4T+E7BGyR8jePwGPATwG8Ng/8afBnwZ/2j/FiBEjRozYP3mb4W2Gt9k/s9bJWidr3T+TJk2aNGniP/GnwZ8Gf9o/3/V51+dd7z/ii4kvJr7YP7ds2bJly/Y/qFChQoUK1T/hwIEDBw7cP+KLiS8mvtg/QCsBrQS00j920NlBZwfdP7oC6QqkK+A//vjx48ePzz8vebnk5ZLXP7g34d6Ee9M/XGNxjcU11j/Ub1G/Rf3WP28VuVXkVtE/lp5Zembp2T/Ub1G/Rf3WP3bQ2UFnB90/SeYhmYdk3j9REkFJBCXhP6sbqW6kutE/aLSh0YZG2z/zcsnLJS/XP8LyAcsHLN8/4ouJLya+2D8=",
        "encoding": "base64",
        "path": [
         "_data",
         0,
         "x",
         "value"
        ]
       },
       {
        "data": "Rwd4wKP9NcDD/ACOXgkwwMEuJT+MjyrA/jMJIdu/L8BTmBt0ZCcywDKRuNYj7DLAQFPtOgpRNMB4L4ehp1EuwKu1c0F4mzTAUHW0UVYANsAFJ7EOl7gmwFFBx24I4jPAj9E3cp7+I8CEuSjx9+UywAQFkeNMMhbA2TVfjqU7MMDVZnrukJwywH6jqudgGyzAp/ZymVzMNMAKO9kXTeI0wDalBdnBcjXAwoQpRBDLNMBBT3jre2A4wI4TYoJFczPALO/3XeG7NMDgYpUCNDczwN/G4xE5UTTAzsaJukrVLsDwGDRs5AY2wNgFvnI7yTbAG4Yfg/CcNcB+hirdR4o1wNmKIT+GOjPAcr7WsPMGOcA0gtMIOBQ2wOYGKnLaIzXAGh4S+eZWL8A=",
        "encoding": "base64",
        "path": [
         "_data",
         0,
         "y",
         "value"
        ]
       },
       {
        "data": "fDHxxcQXwz8BjwE8BvCIPw==",
        "encoding": "base64",
        "path": [
         "_data",
         1,
         "x",
         "value"
        ]
       },
       {
        "data": "cLVTVzbTM8AAAAAAAAD4fw==",
        "encoding": "base64",
        "path": [
         "_data",
         1,
         "y",
         "value"
        ]
       },
       {
        "data": "OP/h/Ifz3z8MbzO8zfD2Pw==",
        "encoding": "base64",
        "path": [
         "_data",
         2,
         "x",
         "value"
        ]
       },
       {
        "data": "ovup9wEPLcCk/yfjkHwdwA==",
        "encoding": "base64",
        "path": [
         "_data",
         2,
         "y",
         "value"
        ]
       },
       {
        "data": "bEqxKcWm5D/R2UFnB53dPy09s/TM0vM/HcdxHMdx3D8srrG4xuLaP3wx8cXEF9M/I9WNVDdS7T98MfHFxBfTP8dTGU9lPNU//sP5D+c/3D+4N+HehHvTPw==",
        "encoding": "base64",
        "path": [
         "_data",
         3,
         "x",
         "value"
        ]
       },
       {
        "data": "LnRyTCwKLcCYbbVBaekpwIDQerKveiDAKCD9rhZYI8BeyxW7L38wwNQynejnmCrAhEeFPsdBIsDGEL3bpnUxwJyLhhnAnzTAegDWAACoI8ASyWyzaP8wwA==",
        "encoding": "base64",
        "path": [
         "_data",
         3,
         "y",
         "value"
        ]
       },
       {
        "data": "vbWTCX+bhz8M6Ak/mRzDP2OBGMdpJMk/hmKUehKIwj/oZHmgDJC4P8EoG6FKUaU/JoXMkzIVsT+FbwFXBmycP0KB1/iQRb4/YOPEZJhIxj+N8/nFAKTDP5KS//Ntib8/b4SYepAwtT+vJQglzAi7P6KVKXTh28I/xw4CFhTqwT/rc9Qdz7WnP4fPtN6WfsU/zJ7P6FUcvj+lKthTSizHP7TQEpOmPrg/lUdaCQmjtz9zmU5RLmizP1zkMUKjnX4/b2rhTiZJwj+G6Ioa+5etP3d8y1OuprI/qV9P7beNqD9EdSnpLjCRP+GIYTq4i8M/6hNXsTWqnT9I+JK9DS+ZP2zdTbF7I5Y/bHXb1yvTtT/RULtjW4bCP/9jv5zJR8A/ioVYCLizwD91Dv5JtJvIPzhI3kEuIbM/d8YL9ouusD8eCY3qs0C7Pym3QMMF8rQ/DqeSPXKQwT/HJJ3C85mjP0VelvY0QcM/SIfuih27tT+714o/NgbJP+TtfK6llMY/ccqezPWvwj/VgI1O5UbAP0KRWMXPrL0/3aMw+wbzyD9mZFYKOwXCPwxET7MkTrQ/eqlQww+Vkj/ltuv6NN6uP0rvnZAzQr4/wp/2rTY8rj8M9gWMkp63P6F/5KBf/8Q/PtQzQrIUsT+EvFIRa6rIPzllFCmNpcg/zD0prw89wz89EPUevk+wP0I27mwxncA/Iti+WH32jj9ZY/634x+iPwCPUUiADrw/wfg/3utvvD/5oH0GUDvEP2mz7RHNi7U/LuLTr9ozyT9KO2td4Vt5P7L94hqhOZI/39nzJ649lT9jDCxjfffAP/atJfQnwLg/eofiY305vT/JAWcbn9aqPxhpguAY35o/MU8BanC2kj+C5XSwkYGbP9ssZwhERr0/xIYLPDD2yD9ANFcNQL24P+YB142HP7k/ShO3mE1Vuj+0gFNdu5KqP/b0tfQiGb0/J/PKkyVauD+sA2lKl2/CPynsNrXKDqE/m5TvxYZuxz8h82CaBzCjP2bHr2ksNsY/wTyawjkbuj+v6Yyn0w2lP/AMxGcC78Y/YcdgEZepuD/DeQIYzE+xP+/B9zSAe8g/Yx32PMWEtj9XzJ6UggmzP22DykahNKE/qHh3an+twz8MjgZ+P0a+P3QTFQ0Utbc/8g4GK1tvoz88kPTTuHvDP6kSKuGBVaA/kpc1p6BpoT8plJ/9KoCwP08kiR1uC7M/zR+xjKEyxz+ODmUzs8DEP4kGy/ZauaQ/oLeOh/o2xz8LzY5651KsP7Lcha4C6Ik/R4Aebo/Vnj/3rsoFcpG/P5lt2hwHlKw//upe2NgMvz8TPR/Fxu3HP3HZrIxzH8I/HIB2/svrvD/0LjJiLiKuP40tB9ciubo/A0XZLCSxwT8NGhjrN9q0P1QOspif+5U/5SUfBJg1qT8MbdjtW2XDP0a5K4zUwMQ/9jSRtY3Hxj83XIFSI1zAP/E96mfjprI/xr3fEtmkgz/E8/kvfnfCP7iPG+Qq5sI/uIMIbtZUxT/o8MXvRq3IP6l8PklZNrI/G3w/f7DswT+kHWjOFAaPP/jf/Rxkm4Y/DG9Y6GbLxT/TZHQztvbBP2t9FRqV2bQ/5VsaPXPjlD+qNdR/ksiDP/yv6DC4KrI/h+VTDha1wD9ZwMHDebG0P1gv3HvBcZk/EVnrx/S/yD9VrmmfVgSzPw8n+2PZS5I/I6nV/lN1sD+63V/Bx/XCP50ncuyM9qM/OuTG7/Hbrz/D3T/AaD6IP2JoDuiR3cQ/CikBaJXMwD94znXXnMTBPxex8Qd0D7w/ZR4vevVarj+Po/fgxuDAP+8RNdr0+rA/YgfVbi76pj9iM1bRzXSwP5jHjWcBVHo/ixN6jxJctD8Ks9Ay79bCP+dGn7ajysg/8FETjhtzwj//gVBSqVLDP2M/ynE8t7E/6NLGCkJwwz+V+bxcI6a6P9rdmNE8qKY/HRbm51F2xT8wZmOEthfBP3PtYNkNWpY/0/oYoqDKqj/hdxVd3PK8PxFVJGCZR7w/MzdjZslLtT919FMnzj6xP35TI51Jarg/569nf8oZuT/AauVITzGgP6dVElZ2K7I/LOGn6bJIoD/sPa6da1q9Py3+6+BMLMY/hooI/DOqtD9z8gsTtHW7P+ja8lbrNLU/PIrPYVpIfz8oG3RlhmejP4l85/conbc/SBpBGvZevz9M88lY2XiyPxhAe2sidqk/GadsmdPUvj8B03Itj0jAP9Y4CBtEEqo/MP6bEE+qwj+6dL2jv86gP7DorUorWsA/NUItCDCCsD9CfD7T6A6vP0oW1S0cm7M/ZwLYQqkLvj8OCm2Qo0zGP0oCl3zoC7U/4QHC2vL/xz8IRNedzge+P79HNs2+0b4/c7aAqvMGxz8VY08Rti2wP6AGe4mSC5A/lyGHmTQnxz/uFGQW7xyhPwAzByk5K5Y/s7gb0oZaxD/ws+VSf6/HP3/JETUJ1cQ/HJ6wroVZtj/eaKNH6Cq7P+GL8xVg/ZI/dsLTBABXvD/UevBO2rK2Pz1WCKL13MY/GHqIuqmuvD8FcLUKWLvDP3bNZkIxusM/VcPYJPbNqj+Ce0EqN8GaP0rCp0rO+r0/Y5wBiG8twj9A6WdV17+1PzgGk20nZr4/IhFcmPvKiz/TxzpBdbm6P8OR6/b0Jp8/a3bhjS8DsT9LWctoFt6zPxCM6E0VDp0/elldEJCkwD/uqJD+Bw2XPxCdQHe0HrE/CidkBjxBgT/liXPg4YisP2bXEkLJnMU/cHx5dWMssD/H+pjxiumgP2yR2NYH/cQ/lXMuTu+Zsz+3LhI4HfC2P+Tzl4A/HLI/9QFwp/s/xD9BnO5NwrjFP2PqFyuF274/7cfBABJHpz9iFN8AyPCnP4WLYZTqRZU/H42sj39jxT+8RehUT2DHP5GgRUtT8sY/EsQj59VJwz+AI2g4HCOjP9jv2ApPs5k/FIZJuBGbwD9aX9mkFcTEP1qq5UfutsA/OuUJJ7hDwj8CJ7pgmaPFP2MEYqZLQac/CyORUEzSuz+cyzi9xuK7P7XNrl0ByMg/z4nca6m+hz9Os6gteki2PwHxrIKVccE/u2K6q7gUwj9198iIHxy0P+mFsrBzG7c/pnyFlSM5xD+liUahREvDPyxftYXpc5M/FSMFShYLwj+lMRBxZRi9P/+N5yQ/Kb4/vUFoevQFvD9N/5bxWgW2P/CdEdIm1qc/BMdK88x9oD+IoJBYSLKOP2n0JhZwbaE/qX6bVceZqD/FYAsjwCjFPwR3ssLyB6Y/FdW5DtNPxz83MlZk04m9PwCE0EF8+8A/xNBdz6Mqtj96aKPItFicP3bP4Naw58M/L2bYsbVrqD+7tjoHmC25P3I11OPFVrI/lkeUYklPsD+S4BA5hqWtP5v5yJM9T7s/rLAiY2aKoD+yVSgY6MerP21FoRxX5bg/Q/ESXOrdtT+r3BZIxtXAP0d8Swq8Yrc/D7GyFBK3yD8l0nzjK3jGP+BnqKTBUKk/MbnD1L95gT/fsq3l7SLJP84KF0gGz8A/DOJcpzY6xT/AmJpimA+jPz/hSeGMkrM/yn2Ild0Awj8evI68zne0P3MB91AFKpc/kRdgoiiNxj9WJRAqBUa5P7AqJx2Flrg/r33Ua+YYwT+1BvmK5jOsP2RXC6BJLME/ZCZtnw3Bxz8gmc9my+KcPzKE2T8cHMg/JcVudozqnT9RItittTfEPzvjZJ8J8rI/jipe4GL3pD+9tjuBLACrP6zDX2bHJL8/w0OoyqSoxz+PiSq2KPvGP5g5xnhAo70/uxor+MKvvz9DvxdrriPIP0oYzdYfL8k/ouMQ5SkwtD/TWousnSmVPy1lBJ0mEsU/7yHwCzJ4kz8nqN1ibBzHPxeqfSuSk6A/0dZsjJzbpz8FaZa338ayPx25wHX0f7Q/NrhoU4semT+HpEHvn6WkPzndKeGNcK0/BW+QzjwFyT/5npxnOWHDP3K2RQ0mV7s/BAssktJFuz+7mJMOAuasP9A2Coq6ILY/hfTIQTY1yT8XBh2qzAekP0zSDIXxDrI/6m6qBvbOwj9f5+GMVm7EP/bwYQsfR8E/L3mB69DYvj+xRqByV5urP7wG/EwLeLw/d0nsb9u0xD/DnAWCKWS0P6pZc+LmMsk/0xNN6ZPNtj+Tu0cpdF67P/HPClGihJc/enaaAc61sz9qgFnHdW2iPzCLUYunsb8/v2P4DX2ksT/7lJ9yIRzFP6m3W13XVsU/l00lQGOKwz/P3O0SPwDEP2uSMNHgxq4/KXfxWuy2sz8=",
        "encoding": "base64",
        "path": [
         "_data",
         4,
         "marker",
         "color",
         "value"
        ]
       },
       {
        "data": "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",
        "encoding": "base64",
        "path": [
         "_data",
         4,
         "x",
         "value"
        ]
       },
       {
        "data": "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",
        "encoding": "base64",
        "path": [
         "_data",
         4,
         "y",
         "value"
        ]
       }
      ],
      "model_module": "jupyterlab-plotly",
      "model_module_version": "^5.1.0",
      "model_name": "FigureModel",
      "state": {
       "_config": {
        "plotlyServerURL": "https://plot.ly"
       },
       "_data": [
        {
         "marker": {
          "color": "Blue",
          "opacity": 0.3,
          "symbol": "circle"
         },
         "mode": "markers",
         "name": "Mudstone",
         "text": [
          "KC-2-1",
          "KC-2-2",
          "KC-2-2.5",
          "KC-2-3",
          "KC-2-3.5",
          "KC-2-4.5",
          "KC-2-5",
          "KC-2-6",
          "KC-2-6.5",
          "KC-2-7",
          "KC-2-8",
          "KC-2-9",
          "KC-2-10",
          "KC-2-11",
          "KC-2-12",
          "KC-2-13",
          "KC-2-14",
          "KC-2-14.5",
          "KC-2-15",
          "KC-2-15.5",
          "KC-2-16",
          "KC-2-17",
          "KC-2-18",
          "KC-2-19",
          "KC-2-20",
          "KC-2-21",
          "KC-2-21.5",
          "KC-2-22",
          "KC-2-23",
          "KC-2-24",
          "KC-2-25",
          "KC-2-25.5",
          "KC-2-26",
          "KC-2-26.5",
          "KC-2-27",
          "KC-2-28",
          "KC-2-29"
         ],
         "type": "scatter",
         "uid": "81ed367d-985c-4d7f-bf4e-d7d5db91ad98",
         "x": {
          "dtype": "float64",
          "shape": [
           37
          ]
         },
         "y": {
          "dtype": "float64",
          "shape": [
           37
          ]
         }
        },
        {
         "marker": {
          "color": "Blue",
          "opacity": 0.3,
          "symbol": "star"
         },
         "mode": "markers",
         "name": "Carbonate",
         "text": [
          "KC-2-0",
          "KC-2-30"
         ],
         "type": "scatter",
         "uid": "629f4059-2ff9-439d-bece-80387e14d5ca",
         "x": {
          "dtype": "float64",
          "shape": [
           2
          ]
         },
         "y": {
          "dtype": "float64",
          "shape": [
           2
          ]
         }
        },
        {
         "marker": {
          "color": "Blue",
          "opacity": 0.3,
          "symbol": "square"
         },
         "mode": "markers",
         "name": "Pervasively pyritised regions",
         "text": [
          "KC-2-6p",
          "KC-2-22p"
         ],
         "type": "scatter",
         "uid": "1a4bf59c-b7c6-416d-89c0-e35a5f31c24d",
         "x": {
          "dtype": "float64",
          "shape": [
           2
          ]
         },
         "y": {
          "dtype": "float64",
          "shape": [
           2
          ]
         }
        },
        {
         "marker": {
          "color": "Blue",
          "opacity": 0.3,
          "symbol": "diamond"
         },
         "mode": "markers",
         "name": "Bed 22",
         "text": [
          "KC-3-A",
          "KC-3-B",
          "KC-3-C",
          "KC-3-D",
          "KC-3-E",
          "KC-3-F",
          "KC-3-G",
          "KC-3-H",
          "KC-3-I",
          "KC-3-J",
          "KC-3-K"
         ],
         "type": "scatter",
         "uid": "7ebd72a3-d9c0-4bb4-8769-567869b644dd",
         "x": {
          "dtype": "float64",
          "shape": [
           11
          ]
         },
         "y": {
          "dtype": "float64",
          "shape": [
           11
          ]
         }
        },
        {
         "marker": {
          "color": {
           "dtype": "float64",
           "shape": [
            400
           ]
          },
          "coloraxis": "coloraxis",
          "line": {
           "color": "Black",
           "width": 1
          },
          "opacity": 0.7,
          "size": 8
         },
         "mode": "markers",
         "name": "Trials",
         "text": [
          "0",
          "1",
          "2",
          "3",
          "4",
          "5",
          "6",
          "7",
          "8",
          "9",
          "10",
          "11",
          "12",
          "13",
          "14",
          "15",
          "16",
          "17",
          "18",
          "19",
          "20",
          "21",
          "22",
          "23",
          "24",
          "25",
          "26",
          "27",
          "28",
          "29",
          "30",
          "31",
          "32",
          "33",
          "34",
          "35",
          "36",
          "37",
          "38",
          "39",
          "40",
          "41",
          "42",
          "43",
          "44",
          "45",
          "46",
          "47",
          "48",
          "49",
          "50",
          "51",
          "52",
          "53",
          "54",
          "55",
          "56",
          "57",
          "58",
          "59",
          "60",
          "61",
          "62",
          "63",
          "64",
          "65",
          "66",
          "67",
          "68",
          "69",
          "70",
          "71",
          "72",
          "73",
          "74",
          "75",
          "76",
          "77",
          "78",
          "79",
          "80",
          "81",
          "82",
          "83",
          "84",
          "85",
          "86",
          "87",
          "88",
          "89",
          "90",
          "91",
          "92",
          "93",
          "94",
          "95",
          "96",
          "97",
          "98",
          "99",
          "100",
          "101",
          "102",
          "103",
          "104",
          "105",
          "106",
          "107",
          "108",
          "109",
          "110",
          "111",
          "112",
          "113",
          "114",
          "115",
          "116",
          "117",
          "118",
          "119",
          "120",
          "121",
          "122",
          "123",
          "124",
          "125",
          "126",
          "127",
          "128",
          "129",
          "130",
          "131",
          "132",
          "133",
          "134",
          "135",
          "136",
          "137",
          "138",
          "139",
          "140",
          "141",
          "142",
          "143",
          "144",
          "145",
          "146",
          "147",
          "148",
          "149",
          "150",
          "151",
          "152",
          "153",
          "154",
          "155",
          "156",
          "157",
          "158",
          "159",
          "160",
          "161",
          "162",
          "163",
          "164",
          "165",
          "166",
          "167",
          "168",
          "169",
          "170",
          "171",
          "172",
          "173",
          "174",
          "175",
          "176",
          "177",
          "178",
          "179",
          "180",
          "181",
          "182",
          "183",
          "184",
          "185",
          "186",
          "187",
          "188",
          "189",
          "190",
          "191",
          "192",
          "193",
          "194",
          "195",
          "196",
          "197",
          "198",
          "199",
          "200",
          "201",
          "202",
          "203",
          "204",
          "205",
          "206",
          "207",
          "208",
          "209",
          "210",
          "211",
          "212",
          "213",
          "214",
          "215",
          "216",
          "217",
          "218",
          "219",
          "220",
          "221",
          "222",
          "223",
          "224",
          "225",
          "226",
          "227",
          "228",
          "229",
          "230",
          "231",
          "232",
          "233",
          "234",
          "235",
          "236",
          "237",
          "238",
          "239",
          "240",
          "241",
          "242",
          "243",
          "244",
          "245",
          "246",
          "247",
          "248",
          "249",
          "250",
          "251",
          "252",
          "253",
          "254",
          "255",
          "256",
          "257",
          "258",
          "259",
          "260",
          "261",
          "262",
          "263",
          "264",
          "265",
          "266",
          "267",
          "268",
          "269",
          "270",
          "271",
          "272",
          "273",
          "274",
          "275",
          "276",
          "277",
          "278",
          "279",
          "280",
          "281",
          "282",
          "283",
          "284",
          "285",
          "286",
          "287",
          "288",
          "289",
          "290",
          "291",
          "292",
          "293",
          "294",
          "295",
          "296",
          "297",
          "298",
          "299",
          "300",
          "301",
          "302",
          "303",
          "304",
          "305",
          "306",
          "307",
          "308",
          "309",
          "310",
          "311",
          "312",
          "313",
          "314",
          "315",
          "316",
          "317",
          "318",
          "319",
          "320",
          "321",
          "322",
          "323",
          "324",
          "325",
          "326",
          "327",
          "328",
          "329",
          "330",
          "331",
          "332",
          "333",
          "334",
          "335",
          "336",
          "337",
          "338",
          "339",
          "340",
          "341",
          "342",
          "343",
          "344",
          "345",
          "346",
          "347",
          "348",
          "349",
          "350",
          "351",
          "352",
          "353",
          "354",
          "355",
          "356",
          "357",
          "358",
          "359",
          "360",
          "361",
          "362",
          "363",
          "364",
          "365",
          "366",
          "367",
          "368",
          "369",
          "370",
          "371",
          "372",
          "373",
          "374",
          "375",
          "376",
          "377",
          "378",
          "379",
          "380",
          "381",
          "382",
          "383",
          "384",
          "385",
          "386",
          "387",
          "388",
          "389",
          "390",
          "391",
          "392",
          "393",
          "394",
          "395",
          "396",
          "397",
          "398",
          "399"
         ],
         "type": "scatter",
         "uid": "8bff370b-1072-4790-beae-70e1e269319a",
         "x": {
          "dtype": "float64",
          "shape": [
           400
          ]
         },
         "y": {
          "dtype": "float64",
          "shape": [
           400
          ]
         }
        }
       ],
       "_js2py_pointsCallback": {},
       "_js2py_relayout": {},
       "_js2py_restyle": {},
       "_js2py_update": {},
       "_last_layout_edit_id": 10,
       "_last_trace_edit_id": 9,
       "_layout": {
        "coloraxis": {
         "colorbar": {
          "ticks": "outside",
          "title": {
           "text": "v<sub>sed</sub>"
          }
         },
         "colorscale": [
          [
           0,
           "#fde725"
          ],
          [
           0.1111111111111111,
           "#b5de2b"
          ],
          [
           0.2222222222222222,
           "#6ece58"
          ],
          [
           0.3333333333333333,
           "#35b779"
          ],
          [
           0.4444444444444444,
           "#1f9e89"
          ],
          [
           0.5555555555555556,
           "#26828e"
          ],
          [
           0.6666666666666666,
           "#31688e"
          ],
          [
           0.7777777777777778,
           "#3e4989"
          ],
          [
           0.8888888888888888,
           "#482878"
          ],
          [
           1,
           "#440154"
          ]
         ]
        },
        "height": 600,
        "legend": {
         "x": 1.2,
         "xanchor": "left",
         "y": 1,
         "yanchor": "top"
        },
        "margin": {
         "l": 100
        },
        "template": {
         "layout": {
          "bargap": 0.05,
          "bargroupgap": 0,
          "font": {
           "color": "black",
           "family": "Segoe UI",
           "size": 17
          },
          "height": 700,
          "hovermode": "closest",
          "margin": {
           "b": 60,
           "l": 90,
           "r": 30,
           "t": 30
          },
          "scene": {
           "xaxis": {
            "color": "black",
            "linewidth": 2,
            "showline": true,
            "ticks": "outside"
           },
           "yaxis": {
            "color": "black",
            "linewidth": 2,
            "showline": true,
            "ticks": "outside"
           },
           "zaxis": {
            "color": "black",
            "linewidth": 2,
            "showline": true,
            "ticks": "outside"
           }
          },
          "xaxis": {
           "color": "black",
           "linewidth": 1.3,
           "mirror": true,
           "showgrid": true,
           "showline": true,
           "ticks": "outside",
           "zeroline": true
          },
          "yaxis": {
           "color": "black",
           "linewidth": 1.3,
           "mirror": true,
           "showgrid": true,
           "showline": true,
           "ticks": "outside",
           "zeroline": true
          }
         }
        },
        "width": 1000,
        "xaxis": {
         "rangemode": "tozero",
         "title": {
          "text": "[FeS<sub>2</sub>] / mol dm<sup>−3</sup>"
         }
        },
        "yaxis": {
         "title": {
          "text": "δ<sup>34</sup>S<sub>py</sub> (‰)"
         }
        }
       },
       "_py2js_animate": {},
       "_py2js_deleteTraces": {},
       "_py2js_moveTraces": {},
       "_py2js_removeLayoutProps": {},
       "_py2js_removeTraceProps": {},
       "_view_count": 1
      }
     },
     "f88e1e0be1714874b6141b6eaafc8e4b": {
      "model_module": "@jupyter-widgets/base",
      "model_module_version": "1.2.0",
      "model_name": "LayoutModel",
      "state": {}
     },
     "f91ed0d7fa50401bbc4c8ec354699ad4": {
      "model_module": "@jupyter-widgets/controls",
      "model_module_version": "1.5.0",
      "model_name": "DescriptionStyleModel",
      "state": {
       "description_width": ""
      }
     },
     "fbe08a65b1074f44aa3e1fb7b88dc901": {
      "model_module": "@jupyter-widgets/base",
      "model_module_version": "1.2.0",
      "model_name": "LayoutModel",
      "state": {}
     },
     "fca456c596684bbebf2f694d6620029d": {
      "model_module": "@jupyter-widgets/base",
      "model_module_version": "1.2.0",
      "model_name": "LayoutModel",
      "state": {
       "width": "100%"
      }
     },
     "fdab52d5a4784d5084673f4ae385775c": {
      "model_module": "@jupyter-widgets/controls",
      "model_module_version": "1.5.0",
      "model_name": "HBoxModel",
      "state": {
       "children": [
        "IPY_MODEL_a039369f77314bdcba12349ef4330f61",
        "IPY_MODEL_f25a6e5f17c84075a44135795cfbde73"
       ],
       "layout": "IPY_MODEL_9213dfdf018b4532aa09ec8098b8a20b"
      }
     },
     "fdd48402bc6b4cd3b81360efc7cdc38d": {
      "model_module": "@jupyter-widgets/controls",
      "model_module_version": "1.5.0",
      "model_name": "FloatSliderModel",
      "state": {
       "description": "β",
       "layout": "IPY_MODEL_c9b2d6c0b0ba4f1ca3b1d1a808e3a644",
       "max": 0.05,
       "step": 0.001,
       "style": "IPY_MODEL_66524cd6e6d44c5ca6a8250536304d45",
       "value": 0.025
      }
     },
     "ff01ed01fdf94bddb0c6890abf7817f7": {
      "model_module": "@jupyter-widgets/base",
      "model_module_version": "1.2.0",
      "model_name": "LayoutModel",
      "state": {}
     }
    },
    "version_major": 2,
    "version_minor": 0
   }
  }
 },
 "nbformat": 4,
 "nbformat_minor": 4
}
