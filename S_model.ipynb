{
 "cells": [
  {
   "cell_type": "markdown",
   "metadata": {},
   "source": [
    "# Sulphur Isotope Model"
   ]
  },
  {
   "cell_type": "markdown",
   "metadata": {
    "tags": []
   },
   "source": [
    "## General definitions"
   ]
  },
  {
   "cell_type": "code",
   "execution_count": 1,
   "metadata": {},
   "outputs": [],
   "source": [
    "import numpy as np\n",
    "import pandas as pd\n",
    "import ipywidgets as wdg\n",
    "from plotly_default import go, graph_config, sel_trace\n",
    "from plotly.subplots import make_subplots\n",
    "from scipy.integrate import solve_bvp\n",
    "# import plotly.io as pio"
   ]
  },
  {
   "cell_type": "code",
   "execution_count": 2,
   "metadata": {},
   "outputs": [],
   "source": [
    "# Conversion between isotope ratios and delta notation\n",
    "\n",
    "VCDT = 0.0441626 # vienna canyon diablo troilite standard 34S/32S ratio\n",
    "\n",
    "def delta_to_R(delta, std=VCDT):\n",
    "    '''Takes in a d34S; outputs a 34S/32S ratio'''\n",
    "    return std * ((delta/1000) + 1)\n",
    "\n",
    "def R_to_delta(R, std=VCDT):\n",
    "    '''Takes in a 34S/32S ratio; outputs the d34S'''\n",
    "    return 1000*((R/std) - 1)\n",
    "\n",
    "def wt_to_M(wt, Mr=55.845, density=1.7):\n",
    "    '''Converts a weight percent of a substance with molar mass Mr (default iron) into a molar concentration\n",
    "    in a sediment of specified density (default 1.7 g/cm³)'''\n",
    "    # g/dm³  = 1000 * g/cm³ = 1000 * density * wt% / 100 = 10 * density * wt%\n",
    "    return 10. * density * wt / Mr\n",
    "\n",
    "def M_to_wt(M, Mr=55.845, density=1.7):\n",
    "    return M * Mr / (10. * density)\n",
    "\n",
    "def ratio_to_concs(R, C):\n",
    "    '''Takes a ratio of two concentrations R = a/b\n",
    "    and a total concentration C = a + b\n",
    "    and returns an (a, b) tuple'''\n",
    "    return (C/(1 + 1/R) , C/(1+R))\n",
    "\n",
    "# The number of seconds in 1 thousand years\n",
    "s_in_ka = 1000 * 365.24 * 24 * 60 * 60"
   ]
  },
  {
   "cell_type": "code",
   "execution_count": 3,
   "metadata": {
    "tags": []
   },
   "outputs": [],
   "source": [
    "# Read in real data\n",
    "log_df=pd.read_csv('./Data/Log_data_combined.csv', index_col=0)\n",
    "\n",
    "cat_symbols = {'Mudstone': 'circle',\n",
    "               'Carbonate': 'star',\n",
    "               'Pervasively pyritised regions': 'square',\n",
    "               'Bed 22': 'diamond'}\n",
    "categories = list(cat_symbols.keys())\n",
    "\n",
    "# log_df"
   ]
  },
  {
   "cell_type": "code",
   "execution_count": 4,
   "metadata": {
    "tags": []
   },
   "outputs": [],
   "source": [
    "# Set up widgets\n",
    "w_df = pd.read_csv('./Data/GDE_parameters_v2.csv')\n",
    "\n",
    "\n",
    "def create_sliders(w_df, prefix='w'):\n",
    "    w_dict = {}\n",
    "\n",
    "    for w in w_df.iterrows():\n",
    "\n",
    "        # Make a new variable for each widget\n",
    "        vars()[prefix+'_'+w[1].var_name] = wdg.FloatSlider(value = w[1].value,\n",
    "                                                     min = w[1].start,\n",
    "                                                     max = w[1].stop,\n",
    "                                                     step = w[1].step,\n",
    "                                                     description = w[1].display_name,\n",
    "                                                     layout=wdg.Layout(width='100%')\n",
    "                                                    )\n",
    "\n",
    "        # Add to a dictionary of original variables and widgets\n",
    "        w_dict[w[1].var_name] = vars()[prefix+'_'+w[1].var_name]\n",
    "    \n",
    "    return w_dict"
   ]
  },
  {
   "cell_type": "markdown",
   "metadata": {},
   "source": [
    "## Solving the steady-state General Diagenetic Equation\n",
    "\n",
    "$y$  | represents   | <div style=\"width:100px\">value at $z=0$</div> | <div style=\"width:100px\"> value at $z=z_\\mathrm{max}$</div>\n",
    "-----|--------------------------------------------------|--------------------------|-----------------------------\n",
    "$y_0$|$[\\mathrm{^{34}SO_4}]$                            |$[\\mathrm{^{34}SO_4}]_0$  |?? $(\\approx 0)$\n",
    "$y_1$|$\\frac{\\partial[\\mathrm{^{34}SO_4}]}{\\partial z}$ |??                        |$0$\n",
    "$y_2$|$[\\mathrm{^{32}SO_4}]$                            |$[\\mathrm{^{32}SO_4}]_0$  |?? $(\\approx 0)$\n",
    "$y_3$|$\\frac{\\partial[\\mathrm{^{32}SO_4}]}{\\partial z}$ |??                        |$0$\n",
    "$y_4$|$[\\mathrm{Fe^{34}S_2}]$                           |$[\\mathrm{Fe^{34}S_2}]_0$ |??\n",
    "$y_5$|$[\\mathrm{Fe^{32}S_2}]$                           |$[\\mathrm{Fe^{32}S_2}]_0$ |??\n",
    "\n",
    "$$\\frac{\\partial y_0}{\\partial z} = y_1$$\n",
    "\n",
    "$$\\frac{\\partial y_1}{\\partial z} = \\left( vy_1 + \\frac{k_\\mathrm{MSR}\\left(y_0 y_2 + y_0^2\\right)}{\\frac{y_2}{\\alpha} + y_0} \\right)/D_{34}$$\n",
    "\n",
    "$$\\frac{\\partial y_2}{\\partial z} = y_3$$\n",
    "\n",
    "$$\\frac{\\partial y_3}{\\partial z} = \\left( vy_3 + \\frac{k_\\mathrm{MSR}\\left(y_2^2 + y_0 y_2\\right)}{\\alpha y_0 + y_2} \\right)/D_{32}$$\n",
    "\n",
    "$$\\frac{\\partial y_4}{\\partial z} = \\frac{k_\\mathrm{MSR}\\left(y_0 y_2 + y_0^2\\right)}{2v\\left(\\frac{y_2}{\\alpha} + y_0\\right)}$$\n",
    "\n",
    "$$\\frac{\\partial y_5}{\\partial z} = \\frac{k_\\mathrm{MSR}\\left(y_2^2 + y_0 y_2\\right)}{2v\\left(\\alpha y_0 + y_2\\right)}$$"
   ]
  },
  {
   "cell_type": "code",
   "execution_count": 5,
   "metadata": {},
   "outputs": [],
   "source": [
    "def solve_GDE(zs, SO4_0, py_0, d34S_SO4_0, epsilon_MSR, k_MSR, beta, D_32, v):\n",
    "    '''Solves the system of general diagenetic equations listed above,\n",
    "    for the array of depths in zs, and returns a 2D array of y values\n",
    "    (rows for each yi; cols are values of yi for each z)'''\n",
    "    \n",
    "    R_SO4_0 = delta_to_R(d34S_SO4_0) \n",
    "    a_MSR = delta_to_R(d34S_SO4_0 - epsilon_MSR)/R_SO4_0 # MSR fractionation factor    \n",
    "    R_py_0 = delta_to_R(d34S_SO4_0)*a_MSR # add ability to tweak in future?\n",
    "    \n",
    "    # weight-dependent diffusion coefficients (Wortmann & Chernyavsky, 2011)\n",
    "    D_34 = D_32 * (98/96)**(-beta)\n",
    "    \n",
    "    SO4_34_0 , SO4_32_0 = ratio_to_concs(R_SO4_0, SO4_0)\n",
    "    py_34_0  , py_32_0  = ratio_to_concs(R_py_0, py_0)\n",
    "    \n",
    "    # Define the ODEs and boundary conditions for the chosen parameters\n",
    "    def SS_ODEs(x,y):\n",
    "        '''The right-hand side of the steady state general diagenetic equations'''\n",
    "        return np.vstack([\n",
    "            y[1,:], # = dy[0,:]/dz\n",
    "            (v*y[1,:] + k_MSR*(y[0,:]*y[2,:] + y[0,:]**2)/((y[2,:]/a_MSR) + y[0,:]))/D_34, # = dy[1,:]/dz\n",
    "            y[3,:], # = dy[2,:]/dz\n",
    "            (v*y[3,:] + k_MSR*(y[2,:]**2 + y[0,:]*y[2,:])/((a_MSR*y[0,:]) + y[2,:]))/D_32, # = dy[3,:]/dz\n",
    "            k_MSR*(y[0,:]*y[2,:] + y[0,:]**2)/(2*v*((y[2,:]/a_MSR) + y[0,:])), # = dy[4,:]/dz\n",
    "            k_MSR*(y[2,:]**2 + y[0,:]*y[2,:])/(2*v*((a_MSR*y[0,:]) + y[2,:])) # = dy[5,:]/dz\n",
    "        ])    \n",
    "    \n",
    "    def SS_bcs(ya, yb):\n",
    "        '''The GDE boundary condition residuals, i.e. all the terms involving ya should be\n",
    "        zero at z=0, and all the terms involving yb should be zero at z=max_z'''\n",
    "        return np.array([\n",
    "            ya[0] - SO4_34_0,\n",
    "            yb[1] - 0,\n",
    "            ya[2] - SO4_32_0,\n",
    "            yb[3] - 0,\n",
    "            ya[4] - py_34_0,\n",
    "            ya[5] - py_32_0\n",
    "        ])\n",
    "    \n",
    "    # Set up initial array of concentrations to iterate the solution from\n",
    "    y0s = np.ones((6,len(zs)))\n",
    "    \n",
    "    # Use SciPy's boundary value problem solver to solve the steady state ODEs\n",
    "    SS_sol = solve_bvp(SS_ODEs, SS_bcs, zs, y0s)\n",
    "    \n",
    "    # Extract the yi from the solution and return it\n",
    "    return SS_sol.y\n",
    "\n",
    "\n",
    "\n",
    "def update_GDE_plot(plot, SO4_0, py_0, d34S_SO4_0, epsilon_MSR, k_MSR, beta, D_32, v, max_z, dz=0.01, plot_time=False):\n",
    "    \n",
    "    with plot.batch_update():\n",
    "\n",
    "        zs = np.arange(0, max_z, dz) # values of z to plot over.\n",
    "\n",
    "        concs = solve_GDE(zs, SO4_0, py_0, d34S_SO4_0, epsilon_MSR, k_MSR, beta, D_32, v)\n",
    "\n",
    "        SO4_34s = concs[0,:]\n",
    "        SO4_32s = concs[2,:]\n",
    "        py_34s  = concs[4,:]\n",
    "        py_32s  = concs[5,:]\n",
    "\n",
    "\n",
    "        # Convert to concentrations and d34S\n",
    "        SO4s = SO4_34s + SO4_32s\n",
    "        pys = py_34s + py_32s\n",
    "\n",
    "        d34S_SO4s = []\n",
    "        d34S_pys = []\n",
    "\n",
    "        isotope_tolerance = 1e-12 # mol/dm^3: if numbers below this point, add none to d34S list\n",
    "        max_SO4_d34S = 100 # don't plot any sulphate isotopes larger than this\n",
    "        # (n.b. this doesn't affect calculations of other quantities)\n",
    "        SO4_d34S_valid = True\n",
    "\n",
    "        for SO4_34, SO4_32, py_34, py_32 in zip(SO4_34s, SO4_32s, py_34s, py_32s):\n",
    "            if (SO4_32 > isotope_tolerance) and SO4_d34S_valid:\n",
    "                d34S_SO4 = R_to_delta(SO4_34/SO4_32)\n",
    "                d34S_SO4s.append(d34S_SO4)\n",
    "                if d34S_SO4 > max_SO4_d34S: # once threshold is exceeded stop plotting d34S_SO4\n",
    "                    SO4_d34S_valid = False\n",
    "            else:\n",
    "                d34S_SO4s.append(None)\n",
    "\n",
    "            if py_32 > isotope_tolerance:\n",
    "                d34S_pys.append(R_to_delta(py_34/py_32))\n",
    "            else:\n",
    "                d34S_pys.append(None)\n",
    "\n",
    "        if plot_time:\n",
    "            zs = zs/v\n",
    "            plot.update_layout(yaxis_title='Time after burial, <i>t</i> / ka')\n",
    "        else:\n",
    "            plot.update_layout(yaxis_title='Depth, <i>z</i> / m')\n",
    "\n",
    "        # Get the traces of the graph we want to modify\n",
    "        traces_list = sel_trace(plot, ['[SO<sub>4</sub>]', '[FeS<sub>2</sub>]', 'δ<sup>34</sup>S<sub>SO4</sub>', 'δ<sup>34</sup>S<sub>py</sub>'])\n",
    "        # Unpack into their own variables\n",
    "        SO4_tr, py_tr, d34S_SO4_tr, d34S_py_tr = traces_list\n",
    "\n",
    "        # Set x coordinates\n",
    "        SO4_tr.x = SO4s\n",
    "        py_tr.x = pys\n",
    "        d34S_SO4_tr.x = d34S_SO4s\n",
    "        d34S_py_tr.x = d34S_pys\n",
    "\n",
    "        # Set y coordinates\n",
    "        for tr in traces_list:\n",
    "            tr.y = zs\n",
    "\n",
    "        # final_py, final_d34S = get_py_d34S(SO4_0, py_0, d34S_SO4_0, epsilon_MSR, k_MSR, beta, D_32, v, dz, max_z)\n",
    "        print('Final [py]: {:.4f}'.format(pys[-1]))\n",
    "        print('Final d34S: {:.4f}'.format(d34S_pys[-1]))"
   ]
  },
  {
   "cell_type": "markdown",
   "metadata": {},
   "source": [
    "#### Parameters\n",
    "\n",
    "Quantity | Name in Code | Value | Unit | Reference\n",
    "----:----|------:-------|------:|:-----|----:-----\n",
    "Sulphate concentration in seawater | `SO4_0` | 0.0105 | mol dm<sup>−3</sup> | Horita *et al.* (2002)\n",
    "Concentration of syn-depositional pyrite in sediment | `py_0` | ?? | mol dm<sup>−3</sup> |\n",
    "Isotopic composition of seawater sulphate | `d34S_SO4_0` | 15 ~ 17 | ‰ | Kampschulte & Strauss (2004)\n",
    "Microbial sulphate reduction fractionation amount at surface |`epsilon_MSR` | 0 ~ 66 | ‰ | Fike *et al.* (2016)\n",
    "Rate constant for sulphate reduction | `k_MSR` | 7 | ka<sup>−1</sup> | Egger *et al.* (2016)\n",
    "Amount of mass dependency for diffusion coefficients | `beta` | 0 ~ 0.05 | (dimensionless) | Wortmann & Chernyavsky (2011)\n",
    "Diffusivity of <sup>32</sup>SO<sub>4</sub> | `D_32` | ≈ 0.126 | m<sup>2 </sup>ka<sup>−1</sup> | Jørgensen (1979)\n",
    "Sedimentation rate | `v` | ≈ 0.08 | m ka<sup>−1</sup> | Gallois (2004)\n",
    "Max depth to run simulation to | `max_z` | (until δ<sup>34</sup>S<sub>py</sub> stabilises)| m |"
   ]
  },
  {
   "cell_type": "code",
   "execution_count": 6,
   "metadata": {},
   "outputs": [
    {
     "data": {
      "application/vnd.jupyter.widget-view+json": {
       "model_id": "3b0d600b124b44c0b6e304efb6874086",
       "version_major": 2,
       "version_minor": 0
      },
      "text/plain": [
       "VBox(children=(HBox(children=(FloatSlider(value=0.0105, description='[SO<sub>4</sub>]<sub>0</sub>', layout=Lay…"
      ]
     },
     "metadata": {},
     "output_type": "display_data"
    },
    {
     "data": {
      "application/vnd.jupyter.widget-view+json": {
       "model_id": "6b4cfba179bd45baa96fea1920c99ccd",
       "version_major": 2,
       "version_minor": 0
      },
      "text/plain": [
       "Output()"
      ]
     },
     "metadata": {},
     "output_type": "display_data"
    },
    {
     "data": {
      "application/vnd.jupyter.widget-view+json": {
       "model_id": "31f4a5a5833048348701f1212ebe607e",
       "version_major": 2,
       "version_minor": 0
      },
      "text/plain": [
       "FigureWidget({\n",
       "    'data': [{'marker': {'color': 'RoyalBlue'},\n",
       "              'mode': 'lines',\n",
       "              'n…"
      ]
     },
     "metadata": {},
     "output_type": "display_data"
    }
   ],
   "source": [
    "GDE_plot = go.FigureWidget(make_subplots(rows=1, cols=2, shared_yaxes=True, horizontal_spacing=0.01))\n",
    "GDE_plot.add_trace(go.Scatter(name='[SO<sub>4</sub>]', marker_color='RoyalBlue', mode='lines'), row=1, col=1)\n",
    "GDE_plot.add_trace(go.Scatter(name='[FeS<sub>2</sub>]', marker_color='MediumSeaGreen', mode='lines'), row=1, col=1)\n",
    "GDE_plot.add_trace(go.Scatter(name='δ<sup>34</sup>S<sub>SO4</sub>', marker_color='Navy', mode='lines'), row=1, col=2)\n",
    "GDE_plot.add_trace(go.Scatter(name='δ<sup>34</sup>S<sub>py</sub>', marker_color='DarkGreen', mode='lines'), row=1, col=2)\n",
    "\n",
    "GDE_plot.update_layout(\n",
    "    yaxis=dict(autorange='reversed', rangemode='tozero', title='Depth, <i>z</i> / m'),\n",
    "    hovermode='y',\n",
    "    margin=dict(t=60),\n",
    "    width=1000, height=600\n",
    "    )\n",
    "\n",
    "GDE_plot.update_xaxes(title_text='Concentration / mol dm<sup>−3</sup>', row=1, col=1)\n",
    "GDE_plot.update_xaxes(title_text='δ<sup>34</sup>S (‰)', row=1, col=2)\n",
    "\n",
    "# create widgets\n",
    "w_d = create_sliders(w_df, prefix='w')\n",
    "\n",
    "w_plot_time = wdg.Checkbox(value=False, description='Plot time on y axis')\n",
    "\n",
    "# set up widget layout\n",
    "GDE_ui = wdg.VBox([wdg.HBox([w_d['SO4_0'], w_d['d34S_SO4_0']]),\n",
    "                   wdg.HBox([w_d['py_0'], w_d['v']]),\n",
    "                   wdg.HBox([w_d['epsilon_MSR'], w_d['k_MSR']]),\n",
    "                   wdg.HBox([w_d['D_32'], w_d['beta']]),\n",
    "                   wdg.HBox([w_d['max_z'], w_d['dz']]),\n",
    "                   w_plot_time\n",
    "                  ])\n",
    "\n",
    "GDE_args = {**w_d, \n",
    "            'plot': wdg.fixed(GDE_plot),\n",
    "            'plot_time': w_plot_time}\n",
    "\n",
    "GDE_output = wdg.interactive_output(update_GDE_plot, GDE_args)\n",
    "\n",
    "display(GDE_ui, GDE_output)\n",
    "\n",
    "GDE_plot"
   ]
  },
  {
   "cell_type": "code",
   "execution_count": 7,
   "metadata": {},
   "outputs": [],
   "source": [
    "# GDE_plot.update_xaxes(row=1, col=1, range=[0,0.3])"
   ]
  },
  {
   "cell_type": "code",
   "execution_count": 8,
   "metadata": {
    "tags": []
   },
   "outputs": [],
   "source": [
    "#GDE_plot.write_image('./images/GDE_example.svg')"
   ]
  },
  {
   "cell_type": "code",
   "execution_count": 9,
   "metadata": {
    "tags": []
   },
   "outputs": [],
   "source": [
    "def get_py_d34S(SO4_0, py_0, d34S_SO4_0, epsilon_MSR, k_MSR, beta, D_32, v, dz, max_z):\n",
    "    '''Returns the final pyrite concentration and its d34S given the appropriate initial conditions'''\n",
    "    \n",
    "    zs = np.arange(0, max_z, dz) # values of z to plot over.\n",
    "    \n",
    "    concs = solve_GDE(zs, SO4_0, py_0, d34S_SO4_0, epsilon_MSR, k_MSR, beta, D_32, v)\n",
    "    \n",
    "    # Final amounts of py32 and py34\n",
    "    py_34  = concs[4,-1]\n",
    "    py_32  = concs[5,-1]\n",
    "    \n",
    "    py = py_34 + py_32\n",
    "    d34S = R_to_delta(py_34/py_32)\n",
    "    \n",
    "    return py, d34S\n",
    "\n",
    "\n",
    "def update_var_plot(plot, varying, vstart, vstop, vstep, SO4_0, py_0, d34S_SO4_0, epsilon_MSR, k_MSR, beta, D_32, v, dz, max_z, plot_SDP, plot_noSDP):\n",
    "    \n",
    "    with plot.batch_update():\n",
    "    \n",
    "        # Create dictionary of parameters\n",
    "        params = {}\n",
    "        for w in w_df.iterrows():\n",
    "            param = w[1].var_name\n",
    "            params[param] = locals()[param] # locals() get the actual variables put into the function\n",
    "\n",
    "    #     print(params)\n",
    "\n",
    "        pys = []\n",
    "        d34Ss = []\n",
    "        texts = []\n",
    "\n",
    "        vary_range = np.arange(vstart, vstop, vstep)\n",
    "\n",
    "        for var in vary_range:\n",
    "\n",
    "            # Update the appropriate parameter to its value in the iterations\n",
    "            params[varying] = var\n",
    "\n",
    "            py, d34S = get_py_d34S(**params)\n",
    "\n",
    "            pys.append(py)\n",
    "            d34Ss.append(d34S)\n",
    "            texts.append('{}: {:.5f}'.format(varying, var))\n",
    "\n",
    "    #         print('{}: {:.5f}'.format(varying, vars()[varying]))\n",
    "    #         print('[py]: {:.4f}'.format(py))\n",
    "    #         print('d34S: {:.4f}\\n'.format(d34S))\n",
    "\n",
    "        model_tr = sel_trace(plot, 'Model')\n",
    "\n",
    "        # plot.update_traces(x=pys, y=d34Ss, text=texts, marker_color=vary_range, selector=dict(name='Model'))\n",
    "        model_tr.x = pys\n",
    "        model_tr.y = d34Ss\n",
    "        model_tr.text = texts\n",
    "        model_tr.marker.color = vary_range\n",
    "\n",
    "        SDP_tr = sel_trace(plot, 'Syn-Depositional Pyrite')\n",
    "        if plot_SDP:\n",
    "            SDP_tr.x = [py_0]\n",
    "            SDP_tr.y = [d34S_SO4_0 - epsilon_MSR]\n",
    "            SDP_tr.text = ['{:.2f} wt% Fe<sub>py, 0</sub>'.format(M_to_wt(py_0))]\n",
    "            SDP_tr.visible = True\n",
    "\n",
    "        else:\n",
    "            SDP_tr.visible = False\n",
    "\n",
    "\n",
    "        noSDP_tr = sel_trace(plot, 'Model (no py<sub>0</sub>)')\n",
    "        if plot_noSDP:\n",
    "            # recalculate model with no syn-depositional pyrite\n",
    "            pys_na = []\n",
    "            d34Ss_na = []\n",
    "            texts_na = []\n",
    "\n",
    "            params_na = params\n",
    "            params_na['py_0'] = 0 # set to no syn-depositional pyrite\n",
    "\n",
    "            for var in vary_range:\n",
    "\n",
    "                # Update the appropriate parameter to its value in the iterations\n",
    "                params_na[varying] = var\n",
    "\n",
    "                py, d34S = get_py_d34S(**params_na)\n",
    "\n",
    "                pys_na.append(py)\n",
    "                d34Ss_na.append(d34S)\n",
    "                texts_na.append('{}: {:.5f}'.format(varying, var))\n",
    "\n",
    "    #         plot.update_traces(x=pys_na, y=d34Ss_na, text=texts_na, marker_color=vary_range,\n",
    "    #                            visible=True, selector=dict(name='Model (no py<sub>0</sub>)'))\n",
    "            noSDP_tr.x = pys_na\n",
    "            noSDP_tr.y = d34Ss_na\n",
    "            noSDP_tr.text = texts_na\n",
    "            noSDP_tr.marker.color = vary_range\n",
    "            noSDP_tr.visible = True\n",
    "\n",
    "        else:\n",
    "            noSDP_tr.visible = False\n",
    "\n",
    "        # change colour bar title\n",
    "        plot.layout.coloraxis.colorbar.title = list(w_df[w_df.var_name==varying].display_name)[0]"
   ]
  },
  {
   "cell_type": "code",
   "execution_count": 10,
   "metadata": {},
   "outputs": [
    {
     "data": {
      "application/vnd.jupyter.widget-view+json": {
       "model_id": "53dadfa955644ea58d18b5efae724ce6",
       "version_major": 2,
       "version_minor": 0
      },
      "text/plain": [
       "VBox(children=(HBox(children=(FloatSlider(value=0.0105, description='[SO<sub>4</sub>]<sub>0</sub>', layout=Lay…"
      ]
     },
     "metadata": {},
     "output_type": "display_data"
    },
    {
     "data": {
      "application/vnd.jupyter.widget-view+json": {
       "model_id": "ad7a4355d234421599333a898d85e966",
       "version_major": 2,
       "version_minor": 0
      },
      "text/plain": [
       "Output()"
      ]
     },
     "metadata": {},
     "output_type": "display_data"
    },
    {
     "data": {
      "application/vnd.jupyter.widget-view+json": {
       "model_id": "71e7ee8b9c284a94b8cba3e9ca92f432",
       "version_major": 2,
       "version_minor": 0
      },
      "text/plain": [
       "FigureWidget({\n",
       "    'data': [{'marker': {'color': 'Blue', 'opacity': 0.3, 'symbol': 'circle'},\n",
       "              'm…"
      ]
     },
     "metadata": {},
     "output_type": "display_data"
    }
   ],
   "source": [
    "# Set up plot\n",
    "var_plot=go.FigureWidget()\n",
    "\n",
    "var_plot.update_layout(\n",
    "    yaxis=dict(title='δ<sup>34</sup>S<sub>py</sub> (‰)'),\n",
    "    xaxis=dict(title='[FeS<sub>2</sub>] / mol dm<sup>−3</sup>', rangemode='tozero'),\n",
    "    legend=dict(yanchor=\"top\", y=1, xanchor=\"left\", x=1.2),\n",
    "    margin=dict(l=100),\n",
    "    width=1000, height=600,\n",
    "    coloraxis=dict(colorscale='viridis_r', colorbar_ticks='outside')\n",
    "    )\n",
    "\n",
    "# Add the real data\n",
    "for category in categories:\n",
    "    cat_df = log_df[log_df.category == category]\n",
    "    var_plot.add_trace(go.Scatter(x = cat_df.Fe_py.apply(wt_to_M), y=cat_df.d34S,\n",
    "                                  text = cat_df.name,\n",
    "                                  mode='markers',\n",
    "                                  marker_color='Blue',\n",
    "                                  marker_opacity=0.3,\n",
    "                                  marker_symbol=cat_symbols[category],\n",
    "                                  name=category))\n",
    "\n",
    "var_plot.add_trace(go.Scatter(name='Model', mode='lines+markers', marker_coloraxis='coloraxis',\n",
    "                              marker_line_color='DarkGreen', marker_line_width=1, line_color='DarkGreen'))\n",
    "var_plot.add_trace(go.Scatter(name='Model (no py<sub>0</sub>)', mode='lines+markers', marker_coloraxis='coloraxis',\n",
    "                              marker_line_color='Orange', marker_line_width=1, line_color='Orange'))\n",
    "var_plot.add_trace(go.Scatter(name='Syn-Depositional Pyrite', mode='markers',\n",
    "                              marker_color='Purple', marker_symbol='square'))\n",
    "\n",
    "# create widgets\n",
    "field_layout = wdg.Layout(width='200px')\n",
    "\n",
    "v_d = create_sliders(w_df, prefix='v')\n",
    "v_varying=wdg.Dropdown(options=w_df.var_name, description='Vary', layout=field_layout, value='v')\n",
    "v_vstart=wdg.FloatText(value=0.005, step=0.01, description='from', layout=field_layout)\n",
    "v_vstop=wdg.FloatText(value=0.2, step=0.1, description='to', layout=field_layout)\n",
    "v_vstep=wdg.FloatText(value=0.005, step=0.01, description='step', layout=field_layout)\n",
    "v_plot_SDP = wdg.Checkbox(value=True, description='Plot syn-depositional pyrite')\n",
    "v_plot_noSDP = wdg.Checkbox(value=False, description='Plot curve w/o syn-depositional pyrite')\n",
    "\n",
    "# set up widget layout\n",
    "var_ui = wdg.VBox([wdg.HBox([v_d['SO4_0'], v_d['d34S_SO4_0']]),\n",
    "                   wdg.HBox([v_d['py_0'], v_d['v']]),\n",
    "                   wdg.HBox([v_d['epsilon_MSR'], v_d['k_MSR']]),\n",
    "                   wdg.HBox([v_d['D_32'], v_d['beta']]),\n",
    "                   wdg.HBox([v_d['max_z'], v_d['dz']]),\n",
    "                   wdg.HBox([v_varying, v_vstart, v_vstop, v_vstep]),\n",
    "                   wdg.HBox([v_plot_SDP, v_plot_noSDP])\n",
    "                  ])\n",
    "\n",
    "var_args = {**v_d, \n",
    "            'plot': wdg.fixed(var_plot),\n",
    "            'varying':v_varying,\n",
    "            'vstart':v_vstart,\n",
    "            'vstop':v_vstop,\n",
    "            'vstep':v_vstep,\n",
    "            'plot_SDP': v_plot_SDP,\n",
    "            'plot_noSDP': v_plot_noSDP\n",
    "           }\n",
    "\n",
    "var_output = wdg.interactive_output(update_var_plot, var_args)\n",
    "\n",
    "display(var_ui, var_output)\n",
    "\n",
    "var_plot"
   ]
  },
  {
   "cell_type": "code",
   "execution_count": 11,
   "metadata": {},
   "outputs": [],
   "source": [
    "# var_plot.write_image('./images/varying_SO4.svg')"
   ]
  },
  {
   "cell_type": "markdown",
   "metadata": {},
   "source": [
    "### Modelling Iron Speciation with the same parameters"
   ]
  },
  {
   "cell_type": "code",
   "execution_count": 12,
   "metadata": {},
   "outputs": [],
   "source": [
    "def update_Fe_spec(plot, SO4_0, py_0, d34S_SO4_0, epsilon_MSR, k_MSR, beta, D_32, v, dz, max_z, Fe_tot, plot_residuals):\n",
    "    \n",
    "    with plot.batch_update():\n",
    "\n",
    "        # Calculate how much pyrite is produced\n",
    "        py, d34S = get_py_d34S(SO4_0, py_0, d34S_SO4_0, epsilon_MSR, k_MSR, beta, D_32, v, dz, max_z)\n",
    "        Fe_py = M_to_wt(py)\n",
    "        Fe_py_0 = M_to_wt(py_0)\n",
    "\n",
    "        # update model line\n",
    "        HR_tot_0 = np.linspace(0.01,1,50) # Increase last number for higher resolution\n",
    "\n",
    "        HR_0 = HR_tot_0 * Fe_tot\n",
    "        py_HR_t = py/HR_0\n",
    "        \n",
    "        model_tr = sel_trace(plot, 'model (const. total Fe)')\n",
    "        model_tr.x = HR_tot_0\n",
    "        model_tr.y = py_HR_t\n",
    "\n",
    "\n",
    "        # update data points\n",
    "        for category in categories:\n",
    "            cat_df = log_df[log_df.category == category]\n",
    "\n",
    "            py_HR_points = list(Fe_py/cat_df['Fe_HR'])\n",
    "\n",
    "            py_0_HR = list(Fe_py_0/cat_df['Fe_HR'])\n",
    "\n",
    "            for i in range(len(py_HR_points)):\n",
    "                if py_HR_points[i] > 1:\n",
    "                    py_HR_points[i] = 1\n",
    "                    \n",
    "            modelled_tr = sel_trace(plot, category+' (modelled)')\n",
    "            modelled_tr.x = cat_df['HR_to_tot']\n",
    "            modelled_tr.y = py_HR_points\n",
    "\n",
    "            plot.update_traces(selector=dict(name=category+' (pre-diagenesis)'),\n",
    "                               x=cat_df['HR_to_tot'], y=py_0_HR)\n",
    "            \n",
    "            pre_dia_tr = sel_trace(plot, category+' (pre-diagenesis)')\n",
    "            pre_dia_tr.x = cat_df['HR_to_tot']\n",
    "            pre_dia_tr.y = py_0_HR\n",
    "            \n",
    "            residuals = sel_trace(plot, category+' (residuals)')\n",
    "            if plot_residuals:\n",
    "                residuals.x = cat_df['HR_to_tot']\n",
    "                residuals.y = cat_df['py_to_HR'] - py_HR_points\n",
    "                residuals.visible = True\n",
    "            else:\n",
    "                residuals.visible = False\n",
    "\n",
    "#         if plot_residuals:\n",
    "#             plot.update_layout(yaxis_range=[-0.5,1])\n",
    "#         else:\n",
    "#             plot.update_layout(yaxis_range=[0,1])\n",
    "    \n",
    "    # plot.show(config=graph_config)"
   ]
  },
  {
   "cell_type": "code",
   "execution_count": 13,
   "metadata": {},
   "outputs": [
    {
     "data": {
      "application/vnd.jupyter.widget-view+json": {
       "model_id": "786e6c255df64eb2b70867f7397d631b",
       "version_major": 2,
       "version_minor": 0
      },
      "text/plain": [
       "VBox(children=(HBox(children=(FloatSlider(value=0.0105, description='[SO<sub>4</sub>]<sub>0</sub>', layout=Lay…"
      ]
     },
     "metadata": {},
     "output_type": "display_data"
    },
    {
     "data": {
      "application/vnd.jupyter.widget-view+json": {
       "model_id": "c894d55143054b20950fd09b5207be3d",
       "version_major": 2,
       "version_minor": 0
      },
      "text/plain": [
       "Output()"
      ]
     },
     "metadata": {},
     "output_type": "display_data"
    },
    {
     "data": {
      "application/vnd.jupyter.widget-view+json": {
       "model_id": "69d35ab77ac64104bb546bdbcb1de463",
       "version_major": 2,
       "version_minor": 0
      },
      "text/plain": [
       "FigureWidget({\n",
       "    'data': [{'legendgroup': 'Mudstone',\n",
       "              'marker': {'color': 'Purple', 'opacity':…"
      ]
     },
     "metadata": {},
     "output_type": "display_data"
    }
   ],
   "source": [
    "# Modelling pyritisation of real data\n",
    "psn_model=go.FigureWidget()\n",
    "\n",
    "# for HR_to_tot in list(log_df.HR_to_tot):\n",
    "#     psn_model.add_vline(HR_to_tot, line_width=0.5, line_color='Lavender')\n",
    "\n",
    "for category in categories: \n",
    "    \n",
    "    cat_df = log_df[log_df.category == category]\n",
    "\n",
    "    graph_texts = []\n",
    "    for d in cat_df.iterrows():\n",
    "        graph_texts.append(d[1]['name'])\n",
    "    \n",
    "    # Current locations of samples in Fe speciation space\n",
    "    \n",
    "    psn_model.add_trace(go.Scatter(mode='markers',\n",
    "                                   marker_symbol=cat_symbols[category],\n",
    "                                   marker_color='Purple',\n",
    "                                   marker_opacity=0.3,\n",
    "                                   name=category+' (pre-diagenesis)',\n",
    "                                   text=graph_texts,\n",
    "                                   legendgroup=category))\n",
    "    \n",
    "    psn_model.add_trace(go.Scatter(mode='markers',\n",
    "                                   marker_symbol=cat_symbols[category],\n",
    "                                   marker_color='Green',\n",
    "                                   name=category+' (modelled)',\n",
    "                                   text=graph_texts,\n",
    "                                   legendgroup=category))\n",
    "\n",
    "    psn_model.add_trace(go.Scatter(x=cat_df['HR_to_tot'], y=cat_df['py_to_HR'],\n",
    "                                   mode='markers',\n",
    "                                   marker_symbol=cat_symbols[category],\n",
    "                                   marker_color='Blue',\n",
    "                                   marker_opacity=0.3,\n",
    "                                   name=category+' (post-diagenesis)',\n",
    "                                   text=graph_texts,\n",
    "                                   legendgroup=category))    \n",
    "    \n",
    "    psn_model.add_trace(go.Scatter(mode='markers',\n",
    "                                   marker_symbol=cat_symbols[category],\n",
    "                                   marker_color='FireBrick',\n",
    "                                   name=category+' (residuals)',\n",
    "                                   text=graph_texts,\n",
    "                                   legendgroup=category))\n",
    "    \n",
    "    \n",
    "psn_model.add_trace(go.Scatter(name='model (const. total Fe)',\n",
    "                               line_color='LightGreen'))\n",
    "\n",
    "psn_model.update_layout(xaxis_range=[0,1], yaxis_range=[0,1],\n",
    "                        width=900, height=600)\n",
    "psn_model.add_hline(0.8, line_width=1, line_dash='dash')\n",
    "psn_model.add_vline(0.38, line_width=1, line_dash='dash')\n",
    "psn_model.update_layout(xaxis_title='[Fe<sub>HR</sub>]/[Fe<sub>tot</sub>]',\n",
    "                        yaxis_title='[Fe<sub>py</sub>]/[Fe<sub>HR</sub>]',\n",
    "                        legend=dict(#itemsizing='constant',\n",
    "                                    font_size=11))\n",
    "\n",
    "\n",
    "# Create widgets\n",
    "s_d = create_sliders(w_df, prefix='s')\n",
    "s_Fe_tot=wdg.FloatSlider(value=4, min=0, max=15, description='[Fe<sub>tot</sub>]', layout=wdg.Layout(width='100%')) # Total Fe for simple model curve\n",
    "s_plot_residuals=wdg.Checkbox(value=False, description='Plot Residuals')\n",
    "\n",
    "spec_ui = wdg.VBox([wdg.HBox([s_d['SO4_0'], s_d['d34S_SO4_0']]),\n",
    "                   wdg.HBox([s_d['py_0'], s_d['v']]),\n",
    "                   wdg.HBox([s_d['epsilon_MSR'], s_d['k_MSR']]),\n",
    "                   wdg.HBox([s_d['D_32'], s_d['beta']]),\n",
    "                   wdg.HBox([s_d['max_z'], s_d['dz']]),\n",
    "                   wdg.HBox([s_Fe_tot, s_plot_residuals])])\n",
    "\n",
    "spec_args={**s_d, 'Fe_tot': s_Fe_tot, 'plot_residuals': s_plot_residuals, 'plot': wdg.fixed(psn_model)}\n",
    "\n",
    "spec_out = wdg.interactive_output(update_Fe_spec, spec_args)\n",
    "\n",
    "display(spec_ui, spec_out)\n",
    "\n",
    "psn_model"
   ]
  }
 ],
 "metadata": {
  "kernelspec": {
   "display_name": "Python 3 (ipykernel)",
   "language": "python",
   "name": "python3"
  },
  "language_info": {
   "codemirror_mode": {
    "name": "ipython",
    "version": 3
   },
   "file_extension": ".py",
   "mimetype": "text/x-python",
   "name": "python",
   "nbconvert_exporter": "python",
   "pygments_lexer": "ipython3",
   "version": "3.9.1"
  },
  "widgets": {
   "application/vnd.jupyter.widget-state+json": {
    "state": {},
    "version_major": 2,
    "version_minor": 0
   }
  }
 },
 "nbformat": 4,
 "nbformat_minor": 4
}
