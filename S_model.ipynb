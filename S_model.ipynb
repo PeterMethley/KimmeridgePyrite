{
 "cells": [
  {
   "cell_type": "markdown",
   "metadata": {},
   "source": [
    "# Sulphur Isotope Model"
   ]
  },
  {
   "cell_type": "markdown",
   "metadata": {
    "tags": []
   },
   "source": [
    "## General definitions"
   ]
  },
  {
   "cell_type": "code",
   "execution_count": 1,
   "metadata": {},
   "outputs": [],
   "source": [
    "import numpy as np\n",
    "import pandas as pd\n",
    "import ipywidgets as wdg\n",
    "from plotly_default import go, graph_config, sel_trace\n",
    "from plotly.subplots import make_subplots\n",
    "from scipy.integrate import solve_bvp\n",
    "import random\n",
    "# import plotly.io as pio"
   ]
  },
  {
   "cell_type": "code",
   "execution_count": 2,
   "metadata": {},
   "outputs": [],
   "source": [
    "# Conversion between isotope ratios and delta notation\n",
    "\n",
    "VCDT = 0.0441626 # vienna canyon diablo troilite standard 34S/32S ratio\n",
    "\n",
    "def delta_to_R(delta, std=VCDT):\n",
    "    '''Takes in a d34S; outputs a 34S/32S ratio'''\n",
    "    return std * ((delta/1000) + 1)\n",
    "\n",
    "def R_to_delta(R, std=VCDT):\n",
    "    '''Takes in a 34S/32S ratio; outputs the d34S'''\n",
    "    return 1000*((R/std) - 1)\n",
    "\n",
    "def wt_to_M(wt, Mr=55.845, density=1.7):\n",
    "    '''Converts a weight percent of a substance with molar mass Mr (default iron) into a molar concentration\n",
    "    in a sediment of specified density (default 1.7 g/cm³)'''\n",
    "    # g/dm³  = 1000 * g/cm³ = 1000 * density * wt% / 100 = 10 * density * wt%\n",
    "    return 10. * density * wt / Mr\n",
    "\n",
    "def M_to_wt(M, Mr=55.845, density=1.7):\n",
    "    return M * Mr / (10. * density)\n",
    "\n",
    "def ratio_to_concs(R, C):\n",
    "    '''Takes a ratio of two concentrations R = a/b\n",
    "    and a total concentration C = a + b\n",
    "    and returns an (a, b) tuple'''\n",
    "    return (C/(1 + 1/R) , C/(1+R))\n",
    "\n",
    "# The number of seconds in 1 thousand years\n",
    "s_in_ka = 1000 * 365.24 * 24 * 60 * 60"
   ]
  },
  {
   "cell_type": "code",
   "execution_count": 3,
   "metadata": {
    "tags": []
   },
   "outputs": [],
   "source": [
    "# Read in real data\n",
    "log_df=pd.read_csv('./Data/Log_data_combined.csv', index_col=0)\n",
    "\n",
    "cat_symbols = {'Mudstone': 'circle',\n",
    "               'Carbonate': 'star',\n",
    "               'Pervasively pyritised regions': 'square',\n",
    "               'Bed 22': 'diamond'}\n",
    "categories = list(cat_symbols.keys())\n",
    "\n",
    "# log_df"
   ]
  },
  {
   "cell_type": "code",
   "execution_count": 4,
   "metadata": {
    "tags": []
   },
   "outputs": [],
   "source": [
    "# Set up widgets\n",
    "w_df = pd.read_csv('./Data/GDE_parameters_v2.csv')\n",
    "\n",
    "\n",
    "def create_sliders(w_df, prefix='w'):\n",
    "    w_dict = {}\n",
    "\n",
    "    for w in w_df.iterrows():\n",
    "\n",
    "        # Make a new variable for each widget\n",
    "        vars()[prefix+'_'+w[1].var_name] = wdg.FloatSlider(value = w[1].value,\n",
    "                                                     min = w[1].start,\n",
    "                                                     max = w[1].stop,\n",
    "                                                     step = w[1].step,\n",
    "                                                     description = w[1].display_name,\n",
    "                                                     layout=wdg.Layout(width='100%')\n",
    "                                                    )\n",
    "\n",
    "        # Add to a dictionary of original variables and widgets\n",
    "        w_dict[w[1].var_name] = vars()[prefix+'_'+w[1].var_name]\n",
    "    \n",
    "    return w_dict"
   ]
  },
  {
   "cell_type": "markdown",
   "metadata": {},
   "source": [
    "## Solving the steady-state General Diagenetic Equation\n",
    "\n",
    "$y$  | represents   | <div style=\"width:100px\">value at $z=0$</div> | <div style=\"width:100px\"> value at $z=z_\\mathrm{max}$</div>\n",
    "-----|--------------------------------------------------|--------------------------|-----------------------------\n",
    "$y_0$|$[\\mathrm{^{34}SO_4}]$                            |$[\\mathrm{^{34}SO_4}]_0$  |?? $(\\approx 0)$\n",
    "$y_1$|$\\frac{\\partial[\\mathrm{^{34}SO_4}]}{\\partial z}$ |??                        |$0$\n",
    "$y_2$|$[\\mathrm{^{32}SO_4}]$                            |$[\\mathrm{^{32}SO_4}]_0$  |?? $(\\approx 0)$\n",
    "$y_3$|$\\frac{\\partial[\\mathrm{^{32}SO_4}]}{\\partial z}$ |??                        |$0$\n",
    "$y_4$|$[\\mathrm{Fe^{34}S_2}]$                           |$[\\mathrm{Fe^{34}S_2}]_0$ |??\n",
    "$y_5$|$[\\mathrm{Fe^{32}S_2}]$                           |$[\\mathrm{Fe^{32}S_2}]_0$ |??\n",
    "\n",
    "$$\\frac{\\partial y_0}{\\partial z} = y_1$$\n",
    "\n",
    "$$\\frac{\\partial y_1}{\\partial z} = \\left( vy_1 + \\frac{k_\\mathrm{MSR}\\left(y_0 y_2 + y_0^2\\right)}{\\frac{y_2}{\\alpha} + y_0} \\right)/D_{34}$$\n",
    "\n",
    "$$\\frac{\\partial y_2}{\\partial z} = y_3$$\n",
    "\n",
    "$$\\frac{\\partial y_3}{\\partial z} = \\left( vy_3 + \\frac{k_\\mathrm{MSR}\\left(y_2^2 + y_0 y_2\\right)}{\\alpha y_0 + y_2} \\right)/D_{32}$$\n",
    "\n",
    "$$\\frac{\\partial y_4}{\\partial z} = \\frac{k_\\mathrm{MSR}\\left(y_0 y_2 + y_0^2\\right)}{2v\\left(\\frac{y_2}{\\alpha} + y_0\\right)}$$\n",
    "\n",
    "$$\\frac{\\partial y_5}{\\partial z} = \\frac{k_\\mathrm{MSR}\\left(y_2^2 + y_0 y_2\\right)}{2v\\left(\\alpha y_0 + y_2\\right)}$$"
   ]
  },
  {
   "cell_type": "code",
   "execution_count": 5,
   "metadata": {},
   "outputs": [],
   "source": [
    "def solve_GDE(zs, SO4_0, py_0, d34S_SO4_0, epsilon_MSR, k_MSR, beta, D_32, v):\n",
    "    '''Solves the system of general diagenetic equations listed above,\n",
    "    for the array of depths in zs, and returns a 2D array of y values\n",
    "    (rows for each yi; cols are values of yi for each z)'''\n",
    "    \n",
    "    R_SO4_0 = delta_to_R(d34S_SO4_0) \n",
    "    a_MSR = delta_to_R(d34S_SO4_0 - epsilon_MSR)/R_SO4_0 # MSR fractionation factor    \n",
    "    R_py_0 = delta_to_R(d34S_SO4_0)*a_MSR # add ability to tweak in future?\n",
    "    \n",
    "    # weight-dependent diffusion coefficients (Wortmann & Chernyavsky, 2011)\n",
    "    D_34 = D_32 * (98/96)**(-beta)\n",
    "    \n",
    "    SO4_34_0 , SO4_32_0 = ratio_to_concs(R_SO4_0, SO4_0)\n",
    "    py_34_0  , py_32_0  = ratio_to_concs(R_py_0, py_0)\n",
    "    \n",
    "    # Define the ODEs and boundary conditions for the chosen parameters\n",
    "    def SS_ODEs(x,y):\n",
    "        '''The right-hand side of the steady state general diagenetic equations'''\n",
    "        return np.vstack([\n",
    "            y[1,:], # = dy[0,:]/dz\n",
    "            (v*y[1,:] + k_MSR*(y[0,:]*y[2,:] + y[0,:]**2)/((y[2,:]/a_MSR) + y[0,:]))/D_34, # = dy[1,:]/dz\n",
    "            y[3,:], # = dy[2,:]/dz\n",
    "            (v*y[3,:] + k_MSR*(y[2,:]**2 + y[0,:]*y[2,:])/((a_MSR*y[0,:]) + y[2,:]))/D_32, # = dy[3,:]/dz\n",
    "            k_MSR*(y[0,:]*y[2,:] + y[0,:]**2)/(2*v*((y[2,:]/a_MSR) + y[0,:])), # = dy[4,:]/dz\n",
    "            k_MSR*(y[2,:]**2 + y[0,:]*y[2,:])/(2*v*((a_MSR*y[0,:]) + y[2,:])) # = dy[5,:]/dz\n",
    "        ])    \n",
    "    \n",
    "    def SS_bcs(ya, yb):\n",
    "        '''The GDE boundary condition residuals, i.e. all the terms involving ya should be\n",
    "        zero at z=0, and all the terms involving yb should be zero at z=max_z'''\n",
    "        return np.array([\n",
    "            ya[0] - SO4_34_0,\n",
    "            yb[1] - 0,\n",
    "            ya[2] - SO4_32_0,\n",
    "            yb[3] - 0,\n",
    "            ya[4] - py_34_0,\n",
    "            ya[5] - py_32_0\n",
    "        ])\n",
    "    \n",
    "    # Set up initial array of concentrations to iterate the solution from\n",
    "    y0s = np.ones((6,len(zs)))\n",
    "    \n",
    "    # Use SciPy's boundary value problem solver to solve the steady state ODEs\n",
    "    SS_sol = solve_bvp(SS_ODEs, SS_bcs, zs, y0s)\n",
    "    \n",
    "    # Extract the yi from the solution and return it\n",
    "    return SS_sol.y\n",
    "\n",
    "\n",
    "\n",
    "def update_GDE_plot(plot, SO4_0, py_0, d34S_SO4_0, epsilon_MSR, k_MSR, beta, D_32, v, max_z, dz=0.01, plot_time=False):\n",
    "    \n",
    "    with plot.batch_update():\n",
    "\n",
    "        zs = np.arange(0, max_z, dz) # values of z to plot over.\n",
    "\n",
    "        concs = solve_GDE(zs, SO4_0, py_0, d34S_SO4_0, epsilon_MSR, k_MSR, beta, D_32, v)\n",
    "\n",
    "        SO4_34s = concs[0,:]\n",
    "        SO4_32s = concs[2,:]\n",
    "        py_34s  = concs[4,:]\n",
    "        py_32s  = concs[5,:]\n",
    "\n",
    "\n",
    "        # Convert to concentrations and d34S\n",
    "        SO4s = SO4_34s + SO4_32s\n",
    "        pys = py_34s + py_32s\n",
    "\n",
    "        d34S_SO4s = []\n",
    "        d34S_pys = []\n",
    "\n",
    "        isotope_tolerance = 1e-12 # mol/dm^3: if numbers below this point, add none to d34S list\n",
    "        max_SO4_d34S = 100 # don't plot any sulphate isotopes larger than this\n",
    "        # (n.b. this doesn't affect calculations of other quantities)\n",
    "        SO4_d34S_valid = True\n",
    "\n",
    "        for SO4_34, SO4_32, py_34, py_32 in zip(SO4_34s, SO4_32s, py_34s, py_32s):\n",
    "            if (SO4_32 > isotope_tolerance) and SO4_d34S_valid:\n",
    "                d34S_SO4 = R_to_delta(SO4_34/SO4_32)\n",
    "                d34S_SO4s.append(d34S_SO4)\n",
    "                if d34S_SO4 > max_SO4_d34S: # once threshold is exceeded stop plotting d34S_SO4\n",
    "                    SO4_d34S_valid = False\n",
    "            else:\n",
    "                d34S_SO4s.append(None)\n",
    "\n",
    "            if py_32 > isotope_tolerance:\n",
    "                d34S_pys.append(R_to_delta(py_34/py_32))\n",
    "            else:\n",
    "                d34S_pys.append(None)\n",
    "\n",
    "        if plot_time:\n",
    "            zs = zs/v\n",
    "            plot.update_layout(yaxis_title='Time after burial, <i>t</i> / ka')\n",
    "        else:\n",
    "            plot.update_layout(yaxis_title='Depth, <i>z</i> / m')\n",
    "\n",
    "        # Get the traces of the graph we want to modify\n",
    "        traces_list = sel_trace(plot, ['[SO<sub>4</sub>]', '[FeS<sub>2</sub>]', 'δ<sup>34</sup>S<sub>SO4</sub>', 'δ<sup>34</sup>S<sub>py</sub>'])\n",
    "        # Unpack into their own variables\n",
    "        SO4_tr, py_tr, d34S_SO4_tr, d34S_py_tr = traces_list\n",
    "\n",
    "        # Set x coordinates\n",
    "        SO4_tr.x = SO4s\n",
    "        py_tr.x = pys\n",
    "        d34S_SO4_tr.x = d34S_SO4s\n",
    "        d34S_py_tr.x = d34S_pys\n",
    "\n",
    "        # Set y coordinates\n",
    "        for tr in traces_list:\n",
    "            tr.y = zs\n",
    "\n",
    "        # final_py, final_d34S = get_py_d34S(SO4_0, py_0, d34S_SO4_0, epsilon_MSR, k_MSR, beta, D_32, v, dz, max_z)\n",
    "        print('Final [py]: {:.4f}'.format(pys[-1]))\n",
    "        print('Final d34S: {:.4f}'.format(d34S_pys[-1]))"
   ]
  },
  {
   "cell_type": "markdown",
   "metadata": {},
   "source": [
    "#### Parameters\n",
    "\n",
    "Quantity | Name in Code | Value | Unit | Reference\n",
    "----:----|------:-------|------:|:-----|----:-----\n",
    "Sulphate concentration in seawater | `SO4_0` | 0.0105 | mol dm<sup>−3</sup> | Horita *et al.* (2002)\n",
    "Concentration of syn-depositional pyrite in sediment | `py_0` | ?? | mol dm<sup>−3</sup> |\n",
    "Isotopic composition of seawater sulphate | `d34S_SO4_0` | 15 ~ 17 | ‰ | Kampschulte & Strauss (2004)\n",
    "Microbial sulphate reduction fractionation amount at surface |`epsilon_MSR` | 0 ~ 66 | ‰ | Fike *et al.* (2016)\n",
    "Rate constant for sulphate reduction | `k_MSR` | 7 | ka<sup>−1</sup> | Egger *et al.* (2016)\n",
    "Amount of mass dependency for diffusion coefficients | `beta` | 0 ~ 0.05 | (dimensionless) | Wortmann & Chernyavsky (2011)\n",
    "Diffusivity of <sup>32</sup>SO<sub>4</sub> | `D_32` | ≈ 0.126 | m<sup>2 </sup>ka<sup>−1</sup> | Jørgensen (1979)\n",
    "Sedimentation rate | `v` | ≈ 0.08 | m ka<sup>−1</sup> | Gallois (2004)\n",
    "Max depth to run simulation to | `max_z` | (until δ<sup>34</sup>S<sub>py</sub> stabilises)| m |"
   ]
  },
  {
   "cell_type": "code",
   "execution_count": 6,
   "metadata": {},
   "outputs": [
    {
     "data": {
      "application/vnd.jupyter.widget-view+json": {
       "model_id": "1e0ec2a9350c4a1ab1118bf81a6cd758",
       "version_major": 2,
       "version_minor": 0
      },
      "text/plain": [
       "VBox(children=(HBox(children=(FloatSlider(value=0.0105, description='[SO<sub>4</sub>]<sub>0</sub>', layout=Lay…"
      ]
     },
     "metadata": {},
     "output_type": "display_data"
    },
    {
     "data": {
      "application/vnd.jupyter.widget-view+json": {
       "model_id": "f10655779947414bb39e99273d0acdd6",
       "version_major": 2,
       "version_minor": 0
      },
      "text/plain": [
       "Output()"
      ]
     },
     "metadata": {},
     "output_type": "display_data"
    },
    {
     "data": {
      "application/vnd.jupyter.widget-view+json": {
       "model_id": "1349ed543cfe48b0a8555192e0c5b84f",
       "version_major": 2,
       "version_minor": 0
      },
      "text/plain": [
       "FigureWidget({\n",
       "    'data': [{'marker': {'color': 'RoyalBlue'},\n",
       "              'mode': 'lines',\n",
       "              'n…"
      ]
     },
     "metadata": {},
     "output_type": "display_data"
    }
   ],
   "source": [
    "GDE_plot = go.FigureWidget(make_subplots(rows=1, cols=2, shared_yaxes=True, horizontal_spacing=0.01))\n",
    "GDE_plot.add_trace(go.Scatter(name='[SO<sub>4</sub>]', marker_color='RoyalBlue', mode='lines'), row=1, col=1)\n",
    "GDE_plot.add_trace(go.Scatter(name='[FeS<sub>2</sub>]', marker_color='MediumSeaGreen', mode='lines'), row=1, col=1)\n",
    "GDE_plot.add_trace(go.Scatter(name='δ<sup>34</sup>S<sub>SO4</sub>', marker_color='Navy', mode='lines'), row=1, col=2)\n",
    "GDE_plot.add_trace(go.Scatter(name='δ<sup>34</sup>S<sub>py</sub>', marker_color='DarkGreen', mode='lines'), row=1, col=2)\n",
    "\n",
    "GDE_plot.update_layout(\n",
    "    yaxis=dict(autorange='reversed', rangemode='tozero', title='Depth, <i>z</i> / m'),\n",
    "    hovermode='y',\n",
    "    margin=dict(t=60),\n",
    "    width=1000, height=600\n",
    "    )\n",
    "\n",
    "GDE_plot.update_xaxes(title_text='Concentration / mol dm<sup>−3</sup>', row=1, col=1)\n",
    "GDE_plot.update_xaxes(title_text='δ<sup>34</sup>S (‰)', row=1, col=2)\n",
    "\n",
    "# create widgets\n",
    "w_d = create_sliders(w_df, prefix='w')\n",
    "\n",
    "w_plot_time = wdg.Checkbox(value=False, description='Plot time on y axis')\n",
    "\n",
    "# set up widget layout\n",
    "GDE_ui = wdg.VBox([wdg.HBox([w_d['SO4_0'], w_d['d34S_SO4_0']]),\n",
    "                   wdg.HBox([w_d['py_0'], w_d['v']]),\n",
    "                   wdg.HBox([w_d['epsilon_MSR'], w_d['k_MSR']]),\n",
    "                   wdg.HBox([w_d['D_32'], w_d['beta']]),\n",
    "                   wdg.HBox([w_d['max_z'], w_d['dz']]),\n",
    "                   w_plot_time\n",
    "                  ])\n",
    "\n",
    "GDE_args = {**w_d, \n",
    "            'plot': wdg.fixed(GDE_plot),\n",
    "            'plot_time': w_plot_time}\n",
    "\n",
    "GDE_output = wdg.interactive_output(update_GDE_plot, GDE_args)\n",
    "\n",
    "display(GDE_ui, GDE_output)\n",
    "\n",
    "GDE_plot"
   ]
  },
  {
   "cell_type": "code",
   "execution_count": 7,
   "metadata": {},
   "outputs": [],
   "source": [
    "# GDE_plot.update_xaxes(row=1, col=1, range=[0,0.3])"
   ]
  },
  {
   "cell_type": "code",
   "execution_count": 8,
   "metadata": {
    "tags": []
   },
   "outputs": [],
   "source": [
    "#GDE_plot.write_image('./images/GDE_example.svg')"
   ]
  },
  {
   "cell_type": "code",
   "execution_count": 9,
   "metadata": {
    "tags": []
   },
   "outputs": [],
   "source": [
    "def get_py_d34S(SO4_0, py_0, d34S_SO4_0, epsilon_MSR, k_MSR, beta, D_32, v, dz, max_z):\n",
    "    '''Returns the final pyrite concentration and its d34S given the appropriate initial conditions'''\n",
    "    \n",
    "    zs = np.arange(0, max_z, dz) # values of z to plot over.\n",
    "    \n",
    "    concs = solve_GDE(zs, SO4_0, py_0, d34S_SO4_0, epsilon_MSR, k_MSR, beta, D_32, v)\n",
    "    \n",
    "    # Final amounts of py32 and py34\n",
    "    py_34  = concs[4,-1]\n",
    "    py_32  = concs[5,-1]\n",
    "    \n",
    "    py = py_34 + py_32\n",
    "    d34S = R_to_delta(py_34/py_32)\n",
    "    \n",
    "    return py, d34S\n",
    "\n",
    "\n",
    "def update_var_plot(plot, varying, vstart, vstop, vstep, SO4_0, py_0, d34S_SO4_0, epsilon_MSR, k_MSR, beta, D_32, v, dz, max_z, plot_SDP, plot_noSDP):\n",
    "    \n",
    "    with plot.batch_update():\n",
    "    \n",
    "        # Create dictionary of parameters\n",
    "        params = {}\n",
    "        for w in w_df.iterrows():\n",
    "            param = w[1].var_name\n",
    "            params[param] = locals()[param] # locals() get the actual variables put into the function\n",
    "\n",
    "    #     print(params)\n",
    "\n",
    "        pys = []\n",
    "        d34Ss = []\n",
    "        texts = []\n",
    "\n",
    "        vary_range = np.arange(vstart, vstop, vstep)\n",
    "\n",
    "        for var in vary_range:\n",
    "\n",
    "            # Update the appropriate parameter to its value in the iterations\n",
    "            params[varying] = var\n",
    "\n",
    "            py, d34S = get_py_d34S(**params)\n",
    "\n",
    "            pys.append(py)\n",
    "            d34Ss.append(d34S)\n",
    "            texts.append('{}: {:.5f}'.format(varying, var))\n",
    "\n",
    "    #         print('{}: {:.5f}'.format(varying, vars()[varying]))\n",
    "    #         print('[py]: {:.4f}'.format(py))\n",
    "    #         print('d34S: {:.4f}\\n'.format(d34S))\n",
    "\n",
    "        model_tr = sel_trace(plot, 'Model')\n",
    "\n",
    "        # plot.update_traces(x=pys, y=d34Ss, text=texts, marker_color=vary_range, selector=dict(name='Model'))\n",
    "        model_tr.x = pys\n",
    "        model_tr.y = d34Ss\n",
    "        model_tr.text = texts\n",
    "        model_tr.marker.color = vary_range\n",
    "\n",
    "        SDP_tr = sel_trace(plot, 'Syn-Depositional Pyrite')\n",
    "        if plot_SDP:\n",
    "            SDP_tr.x = [py_0]\n",
    "            SDP_tr.y = [d34S_SO4_0 - epsilon_MSR]\n",
    "            SDP_tr.text = ['{:.2f} wt% Fe<sub>py, 0</sub>'.format(M_to_wt(py_0))]\n",
    "            SDP_tr.visible = True\n",
    "\n",
    "        else:\n",
    "            SDP_tr.visible = False\n",
    "\n",
    "\n",
    "        noSDP_tr = sel_trace(plot, 'Model (no py<sub>0</sub>)')\n",
    "        if plot_noSDP:\n",
    "            # recalculate model with no syn-depositional pyrite\n",
    "            pys_na = []\n",
    "            d34Ss_na = []\n",
    "            texts_na = []\n",
    "\n",
    "            params_na = params\n",
    "            params_na['py_0'] = 0 # set to no syn-depositional pyrite\n",
    "\n",
    "            for var in vary_range:\n",
    "\n",
    "                # Update the appropriate parameter to its value in the iterations\n",
    "                params_na[varying] = var\n",
    "\n",
    "                py, d34S = get_py_d34S(**params_na)\n",
    "\n",
    "                pys_na.append(py)\n",
    "                d34Ss_na.append(d34S)\n",
    "                texts_na.append('{}: {:.5f}'.format(varying, var))\n",
    "\n",
    "    #         plot.update_traces(x=pys_na, y=d34Ss_na, text=texts_na, marker_color=vary_range,\n",
    "    #                            visible=True, selector=dict(name='Model (no py<sub>0</sub>)'))\n",
    "            noSDP_tr.x = pys_na\n",
    "            noSDP_tr.y = d34Ss_na\n",
    "            noSDP_tr.text = texts_na\n",
    "            noSDP_tr.marker.color = vary_range\n",
    "            noSDP_tr.visible = True\n",
    "\n",
    "        else:\n",
    "            noSDP_tr.visible = False\n",
    "\n",
    "        # change colour bar title\n",
    "        plot.layout.coloraxis.colorbar.title = list(w_df[w_df.var_name==varying].display_name)[0]"
   ]
  },
  {
   "cell_type": "code",
   "execution_count": 10,
   "metadata": {},
   "outputs": [
    {
     "data": {
      "application/vnd.jupyter.widget-view+json": {
       "model_id": "570f4dc8d63644408220c4a6b5448cb1",
       "version_major": 2,
       "version_minor": 0
      },
      "text/plain": [
       "VBox(children=(HBox(children=(FloatSlider(value=0.0105, description='[SO<sub>4</sub>]<sub>0</sub>', layout=Lay…"
      ]
     },
     "metadata": {},
     "output_type": "display_data"
    },
    {
     "data": {
      "application/vnd.jupyter.widget-view+json": {
       "model_id": "2e12a367019c4930b1e32a0bbc974c24",
       "version_major": 2,
       "version_minor": 0
      },
      "text/plain": [
       "Output()"
      ]
     },
     "metadata": {},
     "output_type": "display_data"
    },
    {
     "data": {
      "application/vnd.jupyter.widget-view+json": {
       "model_id": "955c320f06ac4afca7a5139dcbe95553",
       "version_major": 2,
       "version_minor": 0
      },
      "text/plain": [
       "FigureWidget({\n",
       "    'data': [{'marker': {'color': 'Blue', 'opacity': 0.3, 'symbol': 'circle'},\n",
       "              'm…"
      ]
     },
     "metadata": {},
     "output_type": "display_data"
    }
   ],
   "source": [
    "# Set up plot\n",
    "var_plot=go.FigureWidget()\n",
    "\n",
    "var_plot.update_layout(\n",
    "    yaxis=dict(title='δ<sup>34</sup>S<sub>py</sub> (‰)'),\n",
    "    xaxis=dict(title='[FeS<sub>2</sub>] / mol dm<sup>−3</sup>', rangemode='tozero'),\n",
    "    legend=dict(yanchor=\"top\", y=1, xanchor=\"left\", x=1.2),\n",
    "    margin=dict(l=100),\n",
    "    width=1000, height=600,\n",
    "    coloraxis=dict(colorscale='viridis_r', colorbar_ticks='outside')\n",
    "    )\n",
    "\n",
    "# Add the real data\n",
    "for category in categories:\n",
    "    cat_df = log_df[log_df.category == category]\n",
    "    var_plot.add_trace(go.Scatter(x = cat_df.Fe_py.apply(wt_to_M), y=cat_df.d34S,\n",
    "                                  text = cat_df.name,\n",
    "                                  mode='markers',\n",
    "                                  marker_color='Blue',\n",
    "                                  marker_opacity=0.3,\n",
    "                                  marker_symbol=cat_symbols[category],\n",
    "                                  name=category))\n",
    "\n",
    "var_plot.add_trace(go.Scatter(name='Model', mode='lines+markers', marker_coloraxis='coloraxis',\n",
    "                              marker_line_color='DarkGreen', marker_line_width=1, line_color='DarkGreen'))\n",
    "var_plot.add_trace(go.Scatter(name='Model (no py<sub>0</sub>)', mode='lines+markers', marker_coloraxis='coloraxis',\n",
    "                              marker_line_color='Orange', marker_line_width=1, line_color='Orange'))\n",
    "var_plot.add_trace(go.Scatter(name='Syn-Depositional Pyrite', mode='markers',\n",
    "                              marker_color='Purple', marker_symbol='square'))\n",
    "\n",
    "# create widgets\n",
    "field_layout = wdg.Layout(width='200px')\n",
    "\n",
    "v_d = create_sliders(w_df, prefix='v')\n",
    "v_varying=wdg.Dropdown(options=w_df.var_name, description='Vary', layout=field_layout, value='v')\n",
    "v_vstart=wdg.FloatText(value=0.005, step=0.01, description='from', layout=field_layout)\n",
    "v_vstop=wdg.FloatText(value=0.2, step=0.1, description='to', layout=field_layout)\n",
    "v_vstep=wdg.FloatText(value=0.005, step=0.01, description='step', layout=field_layout)\n",
    "v_plot_SDP = wdg.Checkbox(value=True, description='Plot syn-depositional pyrite')\n",
    "v_plot_noSDP = wdg.Checkbox(value=False, description='Plot curve w/o syn-depositional pyrite')\n",
    "\n",
    "# set up widget layout\n",
    "var_ui = wdg.VBox([wdg.HBox([v_d['SO4_0'], v_d['d34S_SO4_0']]),\n",
    "                   wdg.HBox([v_d['py_0'], v_d['v']]),\n",
    "                   wdg.HBox([v_d['epsilon_MSR'], v_d['k_MSR']]),\n",
    "                   wdg.HBox([v_d['D_32'], v_d['beta']]),\n",
    "                   wdg.HBox([v_d['max_z'], v_d['dz']]),\n",
    "                   wdg.HBox([v_varying, v_vstart, v_vstop, v_vstep]),\n",
    "                   wdg.HBox([v_plot_SDP, v_plot_noSDP])\n",
    "                  ])\n",
    "\n",
    "var_args = {**v_d, \n",
    "            'plot': wdg.fixed(var_plot),\n",
    "            'varying':v_varying,\n",
    "            'vstart':v_vstart,\n",
    "            'vstop':v_vstop,\n",
    "            'vstep':v_vstep,\n",
    "            'plot_SDP': v_plot_SDP,\n",
    "            'plot_noSDP': v_plot_noSDP\n",
    "           }\n",
    "\n",
    "var_output = wdg.interactive_output(update_var_plot, var_args)\n",
    "\n",
    "display(var_ui, var_output)\n",
    "\n",
    "var_plot"
   ]
  },
  {
   "cell_type": "code",
   "execution_count": 11,
   "metadata": {},
   "outputs": [],
   "source": [
    "# var_plot.write_image('./images/varying_SO4.svg')"
   ]
  },
  {
   "cell_type": "markdown",
   "metadata": {},
   "source": [
    "### Modelling Iron Speciation with the same parameters"
   ]
  },
  {
   "cell_type": "code",
   "execution_count": 12,
   "metadata": {},
   "outputs": [],
   "source": [
    "def update_Fe_spec(plot, SO4_0, py_0, d34S_SO4_0, epsilon_MSR, k_MSR, beta, D_32, v, dz, max_z, Fe_tot, plot_residuals):\n",
    "    \n",
    "    with plot.batch_update():\n",
    "\n",
    "        # Calculate how much pyrite is produced\n",
    "        py, d34S = get_py_d34S(SO4_0, py_0, d34S_SO4_0, epsilon_MSR, k_MSR, beta, D_32, v, dz, max_z)\n",
    "        Fe_py = M_to_wt(py)\n",
    "        Fe_py_0 = M_to_wt(py_0)\n",
    "\n",
    "        # update model line\n",
    "        HR_tot_0 = np.linspace(0.01,1,50) # Increase last number for higher resolution\n",
    "\n",
    "        HR_0 = HR_tot_0 * Fe_tot\n",
    "        py_HR_t = py/HR_0\n",
    "        \n",
    "        model_tr = sel_trace(plot, 'model (const. total Fe)')\n",
    "        model_tr.x = HR_tot_0\n",
    "        model_tr.y = py_HR_t\n",
    "\n",
    "\n",
    "        # update data points\n",
    "        for category in categories:\n",
    "            cat_df = log_df[log_df.category == category]\n",
    "\n",
    "            py_HR_points = list(Fe_py/cat_df['Fe_HR'])\n",
    "\n",
    "            py_0_HR = list(Fe_py_0/cat_df['Fe_HR'])\n",
    "\n",
    "            for i in range(len(py_HR_points)):\n",
    "                if py_HR_points[i] > 1:\n",
    "                    py_HR_points[i] = 1\n",
    "                    \n",
    "            modelled_tr = sel_trace(plot, category+' (modelled)')\n",
    "            modelled_tr.x = cat_df['HR_to_tot']\n",
    "            modelled_tr.y = py_HR_points\n",
    "\n",
    "            plot.update_traces(selector=dict(name=category+' (pre-diagenesis)'),\n",
    "                               x=cat_df['HR_to_tot'], y=py_0_HR)\n",
    "            \n",
    "            pre_dia_tr = sel_trace(plot, category+' (pre-diagenesis)')\n",
    "            pre_dia_tr.x = cat_df['HR_to_tot']\n",
    "            pre_dia_tr.y = py_0_HR\n",
    "            \n",
    "            residuals = sel_trace(plot, category+' (residuals)')\n",
    "            if plot_residuals:\n",
    "                residuals.x = cat_df['HR_to_tot']\n",
    "                residuals.y = cat_df['py_to_HR'] - py_HR_points\n",
    "                residuals.visible = True\n",
    "            else:\n",
    "                residuals.visible = False\n",
    "\n",
    "#         if plot_residuals:\n",
    "#             plot.update_layout(yaxis_range=[-0.5,1])\n",
    "#         else:\n",
    "#             plot.update_layout(yaxis_range=[0,1])\n",
    "    \n",
    "    # plot.show(config=graph_config)"
   ]
  },
  {
   "cell_type": "code",
   "execution_count": 13,
   "metadata": {},
   "outputs": [
    {
     "data": {
      "application/vnd.jupyter.widget-view+json": {
       "model_id": "91cece12be7244a791ae43bc11a9293f",
       "version_major": 2,
       "version_minor": 0
      },
      "text/plain": [
       "VBox(children=(HBox(children=(FloatSlider(value=0.0105, description='[SO<sub>4</sub>]<sub>0</sub>', layout=Lay…"
      ]
     },
     "metadata": {},
     "output_type": "display_data"
    },
    {
     "data": {
      "application/vnd.jupyter.widget-view+json": {
       "model_id": "16f0f336573245129d649f07558f2957",
       "version_major": 2,
       "version_minor": 0
      },
      "text/plain": [
       "Output()"
      ]
     },
     "metadata": {},
     "output_type": "display_data"
    },
    {
     "data": {
      "application/vnd.jupyter.widget-view+json": {
       "model_id": "3281b6b99dd04cfca693d5a5e242a3bc",
       "version_major": 2,
       "version_minor": 0
      },
      "text/plain": [
       "FigureWidget({\n",
       "    'data': [{'legendgroup': 'Mudstone',\n",
       "              'marker': {'color': 'Purple', 'opacity':…"
      ]
     },
     "metadata": {},
     "output_type": "display_data"
    }
   ],
   "source": [
    "# Modelling pyritisation of real data\n",
    "psn_model=go.FigureWidget()\n",
    "\n",
    "# for HR_to_tot in list(log_df.HR_to_tot):\n",
    "#     psn_model.add_vline(HR_to_tot, line_width=0.5, line_color='Lavender')\n",
    "\n",
    "for category in categories: \n",
    "    \n",
    "    cat_df = log_df[log_df.category == category]\n",
    "\n",
    "    graph_texts = []\n",
    "    for d in cat_df.iterrows():\n",
    "        graph_texts.append(d[1]['name'])\n",
    "    \n",
    "    # Current locations of samples in Fe speciation space\n",
    "    \n",
    "    psn_model.add_trace(go.Scatter(mode='markers',\n",
    "                                   marker_symbol=cat_symbols[category],\n",
    "                                   marker_color='Purple',\n",
    "                                   marker_opacity=0.3,\n",
    "                                   name=category+' (pre-diagenesis)',\n",
    "                                   text=graph_texts,\n",
    "                                   legendgroup=category))\n",
    "    \n",
    "    psn_model.add_trace(go.Scatter(mode='markers',\n",
    "                                   marker_symbol=cat_symbols[category],\n",
    "                                   marker_color='Green',\n",
    "                                   name=category+' (modelled)',\n",
    "                                   text=graph_texts,\n",
    "                                   legendgroup=category))\n",
    "\n",
    "    psn_model.add_trace(go.Scatter(x=cat_df['HR_to_tot'], y=cat_df['py_to_HR'],\n",
    "                                   mode='markers',\n",
    "                                   marker_symbol=cat_symbols[category],\n",
    "                                   marker_color='Blue',\n",
    "                                   marker_opacity=0.3,\n",
    "                                   name=category+' (post-diagenesis)',\n",
    "                                   text=graph_texts,\n",
    "                                   legendgroup=category))    \n",
    "    \n",
    "    psn_model.add_trace(go.Scatter(mode='markers',\n",
    "                                   marker_symbol=cat_symbols[category],\n",
    "                                   marker_color='FireBrick',\n",
    "                                   name=category+' (residuals)',\n",
    "                                   text=graph_texts,\n",
    "                                   legendgroup=category))\n",
    "    \n",
    "    \n",
    "psn_model.add_trace(go.Scatter(name='model (const. total Fe)',\n",
    "                               line_color='LightGreen'))\n",
    "\n",
    "psn_model.update_layout(xaxis_range=[0,1], yaxis_range=[0,1],\n",
    "                        width=900, height=600)\n",
    "psn_model.add_hline(0.8, line_width=1, line_dash='dash')\n",
    "psn_model.add_vline(0.38, line_width=1, line_dash='dash')\n",
    "psn_model.update_layout(xaxis_title='[Fe<sub>HR</sub>]/[Fe<sub>tot</sub>]',\n",
    "                        yaxis_title='[Fe<sub>py</sub>]/[Fe<sub>HR</sub>]',\n",
    "                        legend=dict(#itemsizing='constant',\n",
    "                                    font_size=11))\n",
    "\n",
    "\n",
    "# Create widgets\n",
    "s_d = create_sliders(w_df, prefix='s')\n",
    "s_Fe_tot=wdg.FloatSlider(value=4, min=0, max=15, description='[Fe<sub>tot</sub>]', layout=wdg.Layout(width='100%')) # Total Fe for simple model curve\n",
    "s_plot_residuals=wdg.Checkbox(value=False, description='Plot Residuals')\n",
    "\n",
    "spec_ui = wdg.VBox([wdg.HBox([s_d['SO4_0'], s_d['d34S_SO4_0']]),\n",
    "                   wdg.HBox([s_d['py_0'], s_d['v']]),\n",
    "                   wdg.HBox([s_d['epsilon_MSR'], s_d['k_MSR']]),\n",
    "                   wdg.HBox([s_d['D_32'], s_d['beta']]),\n",
    "                   wdg.HBox([s_d['max_z'], s_d['dz']]),\n",
    "                   wdg.HBox([s_Fe_tot, s_plot_residuals])])\n",
    "\n",
    "spec_args={**s_d, 'Fe_tot': s_Fe_tot, 'plot_residuals': s_plot_residuals, 'plot': wdg.fixed(psn_model)}\n",
    "\n",
    "spec_out = wdg.interactive_output(update_Fe_spec, spec_args)\n",
    "\n",
    "display(spec_ui, spec_out)\n",
    "\n",
    "psn_model"
   ]
  },
  {
   "cell_type": "markdown",
   "metadata": {},
   "source": [
    "## Monte-Carlo Simulation"
   ]
  },
  {
   "cell_type": "code",
   "execution_count": 21,
   "metadata": {},
   "outputs": [],
   "source": [
    "def create_range_sliders(w_df, prefix='wr'):\n",
    "    w_dict = {}\n",
    "\n",
    "    for w in w_df.iterrows():\n",
    "\n",
    "        # Make a new variable for each widget\n",
    "        vars()[prefix+'_'+w[1].var_name] = wdg.FloatRangeSlider(value = [w[1].dr_min, w[1].dr_max],\n",
    "                                                                min = w[1].start,\n",
    "                                                                max = w[1].stop,\n",
    "                                                                step = w[1].step,\n",
    "                                                                description = w[1].display_name,\n",
    "                                                                layout=wdg.Layout(width='100%'),\n",
    "                                                                continuous_update=False\n",
    "                                                               )\n",
    "\n",
    "        # Add to a dictionary of original variables and widgets\n",
    "        w_dict[w[1].var_name] = vars()[prefix+'_'+w[1].var_name]\n",
    "    \n",
    "    return w_dict"
   ]
  },
  {
   "cell_type": "code",
   "execution_count": 22,
   "metadata": {},
   "outputs": [
    {
     "data": {
      "text/html": [
       "<div>\n",
       "<style scoped>\n",
       "    .dataframe tbody tr th:only-of-type {\n",
       "        vertical-align: middle;\n",
       "    }\n",
       "\n",
       "    .dataframe tbody tr th {\n",
       "        vertical-align: top;\n",
       "    }\n",
       "\n",
       "    .dataframe thead th {\n",
       "        text-align: right;\n",
       "    }\n",
       "</style>\n",
       "<table border=\"1\" class=\"dataframe\">\n",
       "  <thead>\n",
       "    <tr style=\"text-align: right;\">\n",
       "      <th></th>\n",
       "      <th>var_name</th>\n",
       "      <th>value</th>\n",
       "      <th>start</th>\n",
       "      <th>stop</th>\n",
       "      <th>step</th>\n",
       "      <th>display_name</th>\n",
       "      <th>dr_min</th>\n",
       "      <th>dr_max</th>\n",
       "    </tr>\n",
       "  </thead>\n",
       "  <tbody>\n",
       "    <tr>\n",
       "      <th>0</th>\n",
       "      <td>SO4_0</td>\n",
       "      <td>0.0105</td>\n",
       "      <td>0.001</td>\n",
       "      <td>0.30</td>\n",
       "      <td>0.0010</td>\n",
       "      <td>[SO&lt;sub&gt;4&lt;/sub&gt;]&lt;sub&gt;0&lt;/sub&gt;</td>\n",
       "      <td>0.008</td>\n",
       "      <td>0.013</td>\n",
       "    </tr>\n",
       "    <tr>\n",
       "      <th>1</th>\n",
       "      <td>py_0</td>\n",
       "      <td>0.1600</td>\n",
       "      <td>0.000</td>\n",
       "      <td>1.00</td>\n",
       "      <td>0.0025</td>\n",
       "      <td>[FeS&lt;sub&gt;2&lt;/sub&gt;]&lt;sub&gt;0&lt;/sub&gt;</td>\n",
       "      <td>0.100</td>\n",
       "      <td>0.250</td>\n",
       "    </tr>\n",
       "    <tr>\n",
       "      <th>2</th>\n",
       "      <td>d34S_SO4_0</td>\n",
       "      <td>23.0000</td>\n",
       "      <td>0.000</td>\n",
       "      <td>30.00</td>\n",
       "      <td>0.1000</td>\n",
       "      <td>δ&lt;sup&gt;34&lt;/sup&gt;S&lt;sub&gt;SO4, 0&lt;/sub&gt;</td>\n",
       "      <td>14.000</td>\n",
       "      <td>18.000</td>\n",
       "    </tr>\n",
       "    <tr>\n",
       "      <th>3</th>\n",
       "      <td>epsilon_MSR</td>\n",
       "      <td>54.0000</td>\n",
       "      <td>0.000</td>\n",
       "      <td>100.00</td>\n",
       "      <td>1.0000</td>\n",
       "      <td>ε&lt;sub&gt;MSR&lt;/sub&gt;</td>\n",
       "      <td>40.000</td>\n",
       "      <td>55.000</td>\n",
       "    </tr>\n",
       "    <tr>\n",
       "      <th>4</th>\n",
       "      <td>k_MSR</td>\n",
       "      <td>10.0000</td>\n",
       "      <td>0.000</td>\n",
       "      <td>40.00</td>\n",
       "      <td>0.1000</td>\n",
       "      <td>k&lt;sub&gt;MSR&lt;/sub&gt;</td>\n",
       "      <td>5.000</td>\n",
       "      <td>15.000</td>\n",
       "    </tr>\n",
       "    <tr>\n",
       "      <th>5</th>\n",
       "      <td>v</td>\n",
       "      <td>0.1200</td>\n",
       "      <td>0.001</td>\n",
       "      <td>0.50</td>\n",
       "      <td>0.0010</td>\n",
       "      <td>v&lt;sub&gt;sed&lt;/sub&gt;</td>\n",
       "      <td>0.005</td>\n",
       "      <td>0.200</td>\n",
       "    </tr>\n",
       "    <tr>\n",
       "      <th>6</th>\n",
       "      <td>D_32</td>\n",
       "      <td>0.2000</td>\n",
       "      <td>0.001</td>\n",
       "      <td>0.30</td>\n",
       "      <td>0.0010</td>\n",
       "      <td>D&lt;sub&gt;32&lt;/sub&gt;</td>\n",
       "      <td>0.100</td>\n",
       "      <td>0.300</td>\n",
       "    </tr>\n",
       "    <tr>\n",
       "      <th>7</th>\n",
       "      <td>beta</td>\n",
       "      <td>0.0250</td>\n",
       "      <td>0.000</td>\n",
       "      <td>0.05</td>\n",
       "      <td>0.0010</td>\n",
       "      <td>β</td>\n",
       "      <td>0.000</td>\n",
       "      <td>0.050</td>\n",
       "    </tr>\n",
       "  </tbody>\n",
       "</table>\n",
       "</div>"
      ],
      "text/plain": [
       "      var_name    value  start    stop    step  \\\n",
       "0        SO4_0   0.0105  0.001    0.30  0.0010   \n",
       "1         py_0   0.1600  0.000    1.00  0.0025   \n",
       "2   d34S_SO4_0  23.0000  0.000   30.00  0.1000   \n",
       "3  epsilon_MSR  54.0000  0.000  100.00  1.0000   \n",
       "4        k_MSR  10.0000  0.000   40.00  0.1000   \n",
       "5            v   0.1200  0.001    0.50  0.0010   \n",
       "6         D_32   0.2000  0.001    0.30  0.0010   \n",
       "7         beta   0.0250  0.000    0.05  0.0010   \n",
       "\n",
       "                       display_name  dr_min  dr_max  \n",
       "0      [SO<sub>4</sub>]<sub>0</sub>   0.008   0.013  \n",
       "1     [FeS<sub>2</sub>]<sub>0</sub>   0.100   0.250  \n",
       "2  δ<sup>34</sup>S<sub>SO4, 0</sub>  14.000  18.000  \n",
       "3                   ε<sub>MSR</sub>  40.000  55.000  \n",
       "4                   k<sub>MSR</sub>   5.000  15.000  \n",
       "5                   v<sub>sed</sub>   0.005   0.200  \n",
       "6                    D<sub>32</sub>   0.100   0.300  \n",
       "7                                 β   0.000   0.050  "
      ]
     },
     "execution_count": 22,
     "metadata": {},
     "output_type": "execute_result"
    }
   ],
   "source": [
    "# Dataframe of only parameters we want to vary in Monte-Carlo simulation\n",
    "monte_df = w_df[~w_df.var_name.isin(['max_z', 'dz'])]\n",
    "monte_df"
   ]
  },
  {
   "cell_type": "code",
   "execution_count": 23,
   "metadata": {
    "tags": []
   },
   "outputs": [],
   "source": [
    "def update_monte_plot(plot, SO4_0, py_0, d34S_SO4_0, epsilon_MSR, k_MSR, beta, D_32, v, dz, max_z, n_trials): # , colour_param):\n",
    "    \n",
    "    with plot.batch_update():\n",
    "    \n",
    "        params_list = []\n",
    "\n",
    "#         pys = []\n",
    "#         d34Ss = []\n",
    "#         texts = []\n",
    "#         colours = []\n",
    "        \n",
    "        # Loop for each trial in Monte Carlo\n",
    "        for trial in range(n_trials):\n",
    "            \n",
    "            # Create dictionary for this run's parameters\n",
    "            params = {}\n",
    "            \n",
    "            # Randomise the parameters\n",
    "            for row in monte_df.iterrows():\n",
    "                param_name = row[1].var_name\n",
    "                param_range = locals()[param_name] # locals() returns dictionary of the actual variables put into the function\n",
    "                \n",
    "                param = random.uniform(*param_range) # Picks a random float within the parameter range (inclusive)\n",
    "                \n",
    "                # Update the appropriate parameter in the dictionary\n",
    "                params[param_name] = param\n",
    "\n",
    "            # After randomising all parameters, put them into the function (and add those we didn't randomise)\n",
    "            py, d34S = get_py_d34S(**params, dz=dz, max_z=max_z)\n",
    "            \n",
    "#             params['Trial_No'] = trial\n",
    "            params['py'] = py\n",
    "            params['d34S'] = d34S\n",
    "\n",
    "#             pys.append(py)\n",
    "#             d34Ss.append(d34S)\n",
    "#             texts.append(f'Trial {trial}')\n",
    "#             colours.append(params[colour_param])\n",
    "            \n",
    "            params_list.append(params)\n",
    "\n",
    "        # After iteration, convert the parameter list into a dataframe, stroed in the global variable params_df\n",
    "        global params_df\n",
    "        params_df = pd.DataFrame(params_list)\n",
    "        \n",
    "        \n",
    "        model_tr = sel_trace(plot, 'Trials')\n",
    "\n",
    "        model_tr.x = params_df.py\n",
    "        model_tr.y = params_df.d34S\n",
    "        \n",
    "        # Get the parameter used for colour without forcing it to update this function\n",
    "        model_tr.marker.color = params_df[r_colour.value]\n",
    "        \n",
    "        model_tr.text = params_df.index\n",
    "\n",
    "\n",
    "#         SDP_tr = sel_trace(plot, 'Syn-Depositional Pyrite')\n",
    "#         if plot_SDP:\n",
    "#             SDP_tr.x = [py_0]\n",
    "#             SDP_tr.y = [d34S_SO4_0 - epsilon_MSR]\n",
    "#             SDP_tr.text = ['{:.2f} wt% Fe<sub>py, 0</sub>'.format(M_to_wt(py_0))]\n",
    "#             SDP_tr.visible = True\n",
    "\n",
    "#         else:\n",
    "#             SDP_tr.visible = False\n",
    "\n",
    "\n",
    "#         noSDP_tr = sel_trace(plot, 'Model (no py<sub>0</sub>)')\n",
    "#         if plot_noSDP:\n",
    "#             # recalculate model with no syn-depositional pyrite\n",
    "#             pys_na = []\n",
    "#             d34Ss_na = []\n",
    "#             texts_na = []\n",
    "\n",
    "#             params_na = params\n",
    "#             params_na['py_0'] = 0 # set to no syn-depositional pyrite\n",
    "\n",
    "#             for var in vary_range:\n",
    "\n",
    "#                 # Update the appropriate parameter to its value in the iterations\n",
    "#                 params_na[varying] = var\n",
    "\n",
    "#                 py, d34S = get_py_d34S(**params_na)\n",
    "\n",
    "#                 pys_na.append(py)\n",
    "#                 d34Ss_na.append(d34S)\n",
    "#                 texts_na.append('{}: {:.5f}'.format(varying, var))\n",
    "\n",
    "#     #         plot.update_traces(x=pys_na, y=d34Ss_na, text=texts_na, marker_color=vary_range,\n",
    "#     #                            visible=True, selector=dict(name='Model (no py<sub>0</sub>)'))\n",
    "#             noSDP_tr.x = pys_na\n",
    "#             noSDP_tr.y = d34Ss_na\n",
    "#             noSDP_tr.text = texts_na\n",
    "#             noSDP_tr.marker.color = vary_range\n",
    "#             noSDP_tr.visible = True\n",
    "\n",
    "#         else:\n",
    "#             noSDP_tr.visible = False\n",
    "\n",
    "        # change colour bar title\n",
    "#         plot.layout.coloraxis.colorbar.title = list(monte_df[monte_df.var_name==colour_param].display_name)[0]"
   ]
  },
  {
   "cell_type": "code",
   "execution_count": 24,
   "metadata": {},
   "outputs": [],
   "source": [
    "def tweak_plot(marker_size, marker_opacity, colour_param, trace, plot):\n",
    "    trace.marker.size = marker_size\n",
    "    trace.marker.opacity = marker_opacity\n",
    "    trace.marker.color = params_df[colour_param]\n",
    "    plot.layout.coloraxis.colorbar.title = list(monte_df[monte_df.var_name==colour_param].display_name)[0]"
   ]
  },
  {
   "cell_type": "code",
   "execution_count": 25,
   "metadata": {},
   "outputs": [],
   "source": [
    "r_details = wdg.Output()\n",
    "\n",
    "def monte_hover(trace, points, state):\n",
    "    if points.point_inds: # Makes sure we're hovering over the right trace. The wrong trace will give point_inds = [].\n",
    "        ind = points.point_inds[0]\n",
    "        \n",
    "        details = params_df.iloc[ind].to_frame() # creates summary dataframe\n",
    "        \n",
    "        with r_details:\n",
    "            display(details) # displays dataframe in output widget\n",
    "            \n",
    "        r_details.clear_output(wait=True) # Clears the output when a new point is selected.\n",
    "    else:\n",
    "        pass"
   ]
  },
  {
   "cell_type": "code",
   "execution_count": 28,
   "metadata": {},
   "outputs": [
    {
     "data": {
      "application/vnd.jupyter.widget-view+json": {
       "model_id": "f66e509e943741f487e689f068a119a5",
       "version_major": 2,
       "version_minor": 0
      },
      "text/plain": [
       "VBox(children=(VBox(children=(HBox(children=(FloatRangeSlider(value=(0.008, 0.013), continuous_update=False, d…"
      ]
     },
     "metadata": {},
     "output_type": "display_data"
    },
    {
     "data": {
      "application/vnd.jupyter.widget-view+json": {
       "model_id": "d43c6caf5a64447d93beba8e91923f9d",
       "version_major": 2,
       "version_minor": 0
      },
      "text/plain": [
       "Output()"
      ]
     },
     "metadata": {},
     "output_type": "display_data"
    },
    {
     "data": {
      "application/vnd.jupyter.widget-view+json": {
       "model_id": "17cc6045c8ce4dd4b899ae494bfebbc6",
       "version_major": 2,
       "version_minor": 0
      },
      "text/plain": [
       "Output()"
      ]
     },
     "metadata": {},
     "output_type": "display_data"
    }
   ],
   "source": [
    "# Set up plot\n",
    "monte_plot=go.FigureWidget()\n",
    "\n",
    "monte_plot.update_layout(yaxis=dict(title='δ<sup>34</sup>S<sub>py</sub> (‰)'),\n",
    "                         xaxis=dict(title='[FeS<sub>2</sub>] / mol dm<sup>−3</sup>', rangemode='tozero'),\n",
    "                         legend=dict(yanchor=\"top\", y=1, xanchor=\"left\", x=1.2),\n",
    "                         margin=dict(l=100),\n",
    "                         width=1000, height=600,\n",
    "                         coloraxis=dict(colorscale='viridis_r', colorbar_ticks='outside')\n",
    "                         )\n",
    "\n",
    "# Add the real data\n",
    "for category in categories:\n",
    "    cat_df = log_df[log_df.category == category]\n",
    "    monte_plot.add_scatter(x = cat_df.Fe_py.apply(wt_to_M), y=cat_df.d34S,\n",
    "                           text = cat_df.name,\n",
    "                           mode='markers',\n",
    "                           marker_color='Blue',\n",
    "                           marker_opacity=0.3,\n",
    "                           marker_symbol=cat_symbols[category],\n",
    "                           name=category)\n",
    "\n",
    "monte_plot.add_trace(go.Scatter(name='Trials', mode='markers', marker_coloraxis='coloraxis',\n",
    "                                marker_line={'color': 'Black', 'width': 1}))\n",
    "# monte_plot.add_trace(go.Scatter(name='Model (no py<sub>0</sub>)', mode='lines+markers', marker_coloraxis='coloraxis',\n",
    "#                                 marker_line_color='Orange', marker_line_width=1, line_color='Orange'))\n",
    "# monte_plot.add_trace(go.Scatter(name='Syn-Depositional Pyrite', mode='markers',\n",
    "#                                 marker_color='Purple', marker_symbol='square'))\n",
    "\n",
    "# create widgets\n",
    "field_layout = wdg.Layout(width='200px')\n",
    "\n",
    "r_d = create_range_sliders(monte_df, prefix='r')\n",
    "r_d2 = create_sliders(w_df[w_df.var_name.isin(['max_z', 'dz'])], prefix='r')\n",
    "\n",
    "r_n_trials = wdg.IntSlider(value = 400, min = 1, max = 1000, description = '№ of Trials', layout=wdg.Layout(width='100%'), continuous_update=False)\n",
    "\n",
    "r_colour=wdg.Dropdown(options=monte_df.var_name, description='Colour', layout=field_layout, value='v')\n",
    "r_marker_size = wdg.FloatSlider(value=8, min=0, max=20, step=0.1, description='Marker Size', layout=wdg.Layout(width='100%'))\n",
    "r_opacity = wdg.FloatSlider(value=0.7, min=0, max=1, step=0.01, description='Opacity', layout=wdg.Layout(width='100%'))\n",
    "\n",
    "# v_plot_SDP = wdg.Checkbox(value=True, description='Plot syn-depositional pyrite')\n",
    "# v_plot_noSDP = wdg.Checkbox(value=False, description='Plot curve w/o syn-depositional pyrite')\n",
    "\n",
    "# set up widget layout\n",
    "monte_ui = wdg.VBox([wdg.HBox([r_d['SO4_0'], r_d['d34S_SO4_0']]),\n",
    "                     wdg.HBox([r_d['py_0'], r_d['v']]),\n",
    "                     wdg.HBox([r_d['epsilon_MSR'], r_d['k_MSR']]),\n",
    "                     wdg.HBox([r_d['D_32'], r_d['beta']]),\n",
    "                     wdg.HBox([r_d2['max_z'], r_d2['dz']]),\n",
    "                     wdg.HBox([r_n_trials]),\n",
    "                     wdg.HBox([r_colour, r_marker_size, r_opacity])\n",
    "#                      wdg.HBox([v_plot_SDP, v_plot_noSDP])\n",
    "                    ])\n",
    "\n",
    "monte_args = {**r_d, **r_d2,\n",
    "              'plot': wdg.fixed(monte_plot),\n",
    "              'n_trials': r_n_trials,\n",
    "#              'colour_param': r_colour,\n",
    "#               'plot_SDP': v_plot_SDP,\n",
    "#               'plot_noSDP': v_plot_noSDP\n",
    "             }\n",
    "\n",
    "monte_output = wdg.interactive_output(update_monte_plot, monte_args)\n",
    "\n",
    "tweak_args = {'trace': wdg.fixed(sel_trace(monte_plot, 'Trials')),\n",
    "              'plot': wdg.fixed(monte_plot),\n",
    "              'marker_size': r_marker_size,\n",
    "              'marker_opacity': r_opacity,\n",
    "              'colour_param': r_colour\n",
    "             }\n",
    "tweak_output = wdg.interactive_output(tweak_plot, tweak_args)\n",
    "\n",
    "sel_trace(monte_plot, 'Trials').on_hover(monte_hover)\n",
    "\n",
    "monte_dashboard = wdg.VBox([monte_ui,\n",
    "                            wdg.HBox([monte_plot, r_details])\n",
    "                           ])\n",
    "\n",
    "display(monte_dashboard, monte_output, tweak_output)"
   ]
  },
  {
   "cell_type": "code",
   "execution_count": 29,
   "metadata": {},
   "outputs": [],
   "source": [
    "# monte_plot.write_image('images/monte_plot_test.svg')"
   ]
  },
  {
   "cell_type": "code",
   "execution_count": null,
   "metadata": {},
   "outputs": [],
   "source": []
  }
 ],
 "metadata": {
  "kernelspec": {
   "display_name": "Python 3 (ipykernel)",
   "language": "python",
   "name": "python3"
  },
  "language_info": {
   "codemirror_mode": {
    "name": "ipython",
    "version": 3
   },
   "file_extension": ".py",
   "mimetype": "text/x-python",
   "name": "python",
   "nbconvert_exporter": "python",
   "pygments_lexer": "ipython3",
   "version": "3.9.1"
  },
  "widgets": {
   "application/vnd.jupyter.widget-state+json": {
    "state": {
     "00032c05b46a4a67ab2d29f3cd01a425": {
      "model_module": "@jupyter-widgets/base",
      "model_module_version": "1.2.0",
      "model_name": "LayoutModel",
      "state": {}
     },
     "003c71ef25c4429a9efba4e0f8868682": {
      "model_module": "@jupyter-widgets/controls",
      "model_module_version": "1.5.0",
      "model_name": "FloatSliderModel",
      "state": {
       "description": "δ<sup>34</sup>S<sub>SO4, 0</sub>",
       "layout": "IPY_MODEL_32065d52027b4b3b98cc7b58efeafc7e",
       "max": 30,
       "step": 0.1,
       "style": "IPY_MODEL_7529b8bca84d4b8e8cd277e97dff9873",
       "value": 23
      }
     },
     "00558cc2ddcf454eb6fa547e14804449": {
      "model_module": "@jupyter-widgets/base",
      "model_module_version": "1.2.0",
      "model_name": "LayoutModel",
      "state": {
       "width": "100%"
      }
     },
     "0061a8e2dab54b81acfe9c6becd5ac8c": {
      "model_module": "@jupyter-widgets/controls",
      "model_module_version": "1.5.0",
      "model_name": "SliderStyleModel",
      "state": {
       "description_width": ""
      }
     },
     "0105cf64f6de414fa694e9e54f83265e": {
      "model_module": "@jupyter-widgets/base",
      "model_module_version": "1.2.0",
      "model_name": "LayoutModel",
      "state": {
       "width": "100%"
      }
     },
     "0133d69610664352a4a5ca85dc23fe45": {
      "model_module": "@jupyter-widgets/controls",
      "model_module_version": "1.5.0",
      "model_name": "SliderStyleModel",
      "state": {
       "description_width": ""
      }
     },
     "03fadbe17db649b1a767e0477b00318a": {
      "model_module": "@jupyter-widgets/controls",
      "model_module_version": "1.5.0",
      "model_name": "HBoxModel",
      "state": {
       "children": [
        "IPY_MODEL_82eaa2870748433399c1ba46a2b3ab57",
        "IPY_MODEL_ba2f884e143b49899cb829a8d0f71416"
       ],
       "layout": "IPY_MODEL_c45787292b8b4fd79e61e537d3e748ae"
      }
     },
     "040904df836040d085b423746f7c02e6": {
      "model_module": "@jupyter-widgets/base",
      "model_module_version": "1.2.0",
      "model_name": "LayoutModel",
      "state": {}
     },
     "045fb40f140444aaa6574b6cff6d7a3a": {
      "model_module": "@jupyter-widgets/base",
      "model_module_version": "1.2.0",
      "model_name": "LayoutModel",
      "state": {}
     },
     "0552067c441a4570b4d6d8b73fb985f6": {
      "model_module": "@jupyter-widgets/controls",
      "model_module_version": "1.5.0",
      "model_name": "SliderStyleModel",
      "state": {
       "description_width": ""
      }
     },
     "05bf5994cf60405fa9efd5f0115c0f4a": {
      "model_module": "@jupyter-widgets/controls",
      "model_module_version": "1.5.0",
      "model_name": "HBoxModel",
      "state": {
       "children": [
        "IPY_MODEL_43cbb36b541c4e81acf4b664cc6b86e1",
        "IPY_MODEL_820203eceb5e4d7b96bf79f7ea63781d"
       ],
       "layout": "IPY_MODEL_b94ca8f8a8134bddb8bd2788461a15b6"
      }
     },
     "05e2e0926c9b4a2590f4bf8494d0e074": {
      "model_module": "@jupyter-widgets/controls",
      "model_module_version": "1.5.0",
      "model_name": "FloatRangeSliderModel",
      "state": {
       "_model_name": "FloatRangeSliderModel",
       "_view_name": "FloatRangeSliderView",
       "continuous_update": false,
       "description": "k<sub>MSR</sub>",
       "layout": "IPY_MODEL_65d5372b89f94e26bc368e8af775a7b3",
       "max": 40,
       "step": 0.1,
       "style": "IPY_MODEL_d8166f2d1dcc4ffeb04363f087ebb914",
       "value": [
        5,
        15
       ]
      }
     },
     "060bf0ba8b4b4c60a6033de4989508c6": {
      "model_module": "@jupyter-widgets/base",
      "model_module_version": "1.2.0",
      "model_name": "LayoutModel",
      "state": {}
     },
     "06a3c91c49864030b6a00aaed4870130": {
      "model_module": "@jupyter-widgets/base",
      "model_module_version": "1.2.0",
      "model_name": "LayoutModel",
      "state": {
       "width": "100%"
      }
     },
     "06dcb525994e429cb65298f93fcab304": {
      "model_module": "@jupyter-widgets/controls",
      "model_module_version": "1.5.0",
      "model_name": "SliderStyleModel",
      "state": {
       "description_width": ""
      }
     },
     "077819a3210f40f783f355235a36e18a": {
      "model_module": "@jupyter-widgets/controls",
      "model_module_version": "1.5.0",
      "model_name": "FloatRangeSliderModel",
      "state": {
       "_model_name": "FloatRangeSliderModel",
       "_view_name": "FloatRangeSliderView",
       "continuous_update": false,
       "description": "δ<sup>34</sup>S<sub>SO4, 0</sub>",
       "layout": "IPY_MODEL_5e7e11a4d30c49f6b91e70275f8ee5b6",
       "max": 30,
       "step": 0.1,
       "style": "IPY_MODEL_688f283707d44d69a8b49d4a746eee99",
       "value": [
        16.8,
        20.5
       ]
      }
     },
     "077b1c8aea9d4266b1a326d696e7948a": {
      "model_module": "@jupyter-widgets/base",
      "model_module_version": "1.2.0",
      "model_name": "LayoutModel",
      "state": {
       "width": "100%"
      }
     },
     "082fae6d826844c9b83e1610c9836a96": {
      "model_module": "@jupyter-widgets/controls",
      "model_module_version": "1.5.0",
      "model_name": "SliderStyleModel",
      "state": {
       "description_width": ""
      }
     },
     "08cdb847fb3e4ea885ba73fd94d3d1c1": {
      "model_module": "@jupyter-widgets/base",
      "model_module_version": "1.2.0",
      "model_name": "LayoutModel",
      "state": {
       "width": "200px"
      }
     },
     "08ebb215f9ec4e628a47f897d62ab72e": {
      "model_module": "@jupyter-widgets/controls",
      "model_module_version": "1.5.0",
      "model_name": "FloatSliderModel",
      "state": {
       "description": "z<sub>max</sub>",
       "layout": "IPY_MODEL_207f34a11bf342368bbc933e41a463ea",
       "max": 10,
       "min": 0.01,
       "step": 0.01,
       "style": "IPY_MODEL_dff70b03125045adb7e23cd6e4ef512e",
       "value": 1.5
      }
     },
     "0a1b5e0f94a0455d867614447c5c0762": {
      "model_module": "@jupyter-widgets/controls",
      "model_module_version": "1.5.0",
      "model_name": "FloatRangeSliderModel",
      "state": {
       "_model_name": "FloatRangeSliderModel",
       "_view_name": "FloatRangeSliderView",
       "continuous_update": false,
       "description": "[FeS<sub>2</sub>]<sub>0</sub>",
       "layout": "IPY_MODEL_4e900d89cdee44cb801eba5db698e42d",
       "max": 1,
       "step": 0.0025,
       "style": "IPY_MODEL_7f652d5372de49c7a2ed1bf6d975efd7",
       "value": [
        0.1525,
        0.3025
       ]
      }
     },
     "0a9665ceb8864bc99a2f2645b9c796bd": {
      "model_module": "@jupyter-widgets/base",
      "model_module_version": "1.2.0",
      "model_name": "LayoutModel",
      "state": {
       "width": "100%"
      }
     },
     "0b6faf5d137f4713885fff0aec122d11": {
      "model_module": "@jupyter-widgets/controls",
      "model_module_version": "1.5.0",
      "model_name": "FloatRangeSliderModel",
      "state": {
       "_model_name": "FloatRangeSliderModel",
       "_view_name": "FloatRangeSliderView",
       "continuous_update": false,
       "description": "ε<sub>MSR</sub>",
       "layout": "IPY_MODEL_47142c8a245545c897bbf1b75f1cbe32",
       "style": "IPY_MODEL_8be2aa96f8e8422a809f1b1c84c872f5",
       "value": [
        40,
        47
       ]
      }
     },
     "0bad69de579c49868afcb82737c4e863": {
      "model_module": "@jupyter-widgets/base",
      "model_module_version": "1.2.0",
      "model_name": "LayoutModel",
      "state": {
       "width": "200px"
      }
     },
     "0c1328df0d5c44cc9f46068eb48197f0": {
      "model_module": "@jupyter-widgets/controls",
      "model_module_version": "1.5.0",
      "model_name": "HBoxModel",
      "state": {
       "children": [
        "IPY_MODEL_503d90c70ad74b48998e66b7771a7954",
        "IPY_MODEL_e1e1c707db614e7dba6352e4cd3a8e8b"
       ],
       "layout": "IPY_MODEL_bed2a83064fb43e68290e8ea173169c6"
      }
     },
     "0d3167341231423680de8c5ff57eb5b5": {
      "model_module": "@jupyter-widgets/base",
      "model_module_version": "1.2.0",
      "model_name": "LayoutModel",
      "state": {
       "width": "100%"
      }
     },
     "0d57aeb613d84a98920d16c85cd8c96e": {
      "model_module": "@jupyter-widgets/base",
      "model_module_version": "1.2.0",
      "model_name": "LayoutModel",
      "state": {}
     },
     "0fde57db58544c529efb0c626b3b65d9": {
      "model_module": "@jupyter-widgets/controls",
      "model_module_version": "1.5.0",
      "model_name": "HBoxModel",
      "state": {
       "children": [
        "IPY_MODEL_4df18ca4f2a74e5584746acc680322c8",
        "IPY_MODEL_e8b6a21fdb09464395495d2d633c649d",
        "IPY_MODEL_7837827093194a15b96f9db0153903f6",
        "IPY_MODEL_1f5201e92dc94a4483486fd48c105f1b"
       ],
       "layout": "IPY_MODEL_ed0bf5783f09426b88edd77c85a07ae2"
      }
     },
     "1014dff35493417ea3e34e73c4b03f44": {
      "model_module": "@jupyter-widgets/controls",
      "model_module_version": "1.5.0",
      "model_name": "FloatSliderModel",
      "state": {
       "description": "Marker Size",
       "layout": "IPY_MODEL_ce34019b8ff441bea301408614d91d8b",
       "max": 20,
       "step": 0.1,
       "style": "IPY_MODEL_52c8e385f6f14ddcb6582fb49c5382b4",
       "value": 8
      }
     },
     "1349ed543cfe48b0a8555192e0c5b84f": {
      "buffers": [
       {
        "data": "Gi/dJAaBhT922lqkSBiEP851Drwux4I/PJ6G3SuMgT/zzL52zWWAP1JzY3xypX4/xEf5NlejfD+7m2hV7MJ6P1G1V7H8AXk/JzIWLXhedz9VYlpGcdZ1P3eTtNEaaHQ/zVoN3MURcz9BrrCv39FxPwJukfrvpnA/DSkwJy4fbz/0j+e5GBVtP9ZPDoM5LWs/zStUl1JlaT/GCC+nS7tnP3Rg9IcvLWY/Gl1K5im5ZD9DFDsfhV1jPwXJYT2oGGI/RZbUFxXpYD99IikhzZpfP6QU5+CdiF0/wnMCvSyZWz+wEmTiMspZP2DXH6+PGVg/LQDEMUaFVj8hTaTSegtVPwbAYCRxqlM/dM0V2YlgUj+F+c7ZQCxRP0Uo/X0rDFA/Eiavwe39TT+SCmOlzAZMP1rN38ijMEo/VqbQFkp5SD8VdCC4ut5GPyGl+rMSX0U/8pGjt474Qz8K64sDialCP/uqLnt3cEE/Sulx1elLQD8pVNLWD3U+P+YG90Ygdjw/zK4i7quYOj+RLBkigdo4P+VP1waTOTc/GbQkJfezNT+TU5sp40c0P7wWfsmq8zI/Qh3kyr21MT+FEOgtpowwPyNJY+kM7i4/GXGnEDDnLD8O4zZxUwIrP2i4GKo8PSk/t3/GutaVJz8N8ymQLwomP6gmsbp1mCQ/KO3HSvY+Iz9WWTLRGvwhP8h67oBnziA/KMfV4PJoHz+rwQjwCVodP9GBv1eobRs/HmOp3oqhGT+Xp3lAlPMXPzR8LLHKYRY/U9IFilXqFD+5HI4de4sTP1bc/q+eQxI/08a7kT4RET8PvTqz5OUPP1OD7nnSzg0/ouHOBtHaCz8W+TgplAcKP8gpvjz2Ugg/0QGQovW6Bj9/YExlsj0FP9gLYwRs2QM/CYx8ZH+MAj+tqHXiZFUBP0SSq4auMgA/fov1rAxG/j7lfeyDWUr8PoSC+1fub/o+/wfyFZ20+D7SGzVBXBb3PgBGUI5Ek/U+iPO/pY4p9D72K1MMkdfyPhKIri6+m/E+A7SjjaJ08D7ozW4SxsHuPuemp5B2vuw+aZ+Odvjc6j4l+ZxuFRvpPoJTDVO8duc+UICBv/7t5T6Sco3LDn/kPhV0e+s8KOM+UsnK9PXn4T6M9hNEwbzgPhFOSgR+St8+xOqbDE1A3T4YXOiniVjbPqCGVmP2kNk+fWRMsHvn1z45W+9uJVrWPpZPXaIg59Q+HMzrS7mM0z5ShuhqWEnSPqqQgR6CG9E+isaj59MB0D4mWYcRBvbNPmqIUAO2C8w+0bXgSnhCyj7qnlOSNJjIPh+R3hL3Csc+hhM4S+6YxT6UK37eaEDEPuJ9HZnT/8I+coVombfVwT4dYbiZuMDAPij0MLQmf78+Jm5HTziivT4mdLr/eui7Puno35ztT7o+i66/h7bWuD7gX6qHIXu3PnYCjtOdO7Y+Uv3HRbwWtT7/uma4LQu0Ppkj/ofBF7M+GMhgO2Q7sj5yZLxOHnWxPlyAwyATxLA+e6O3AIAnsD6U+p+4dj2vPg55PxloUq4+aZyLguGMrT7PFKsSH+ysPo9GGvOKb6w+11En37wWrD7GozrkeeGrPqpG81u0z6s+",
        "encoding": "base64",
        "path": [
         "_data",
         0,
         "x",
         "value"
        ]
       },
       {
        "data": "AAAAAAAAAAB7FK5H4XqEP3sUrkfhepQ/uB6F61G4nj97FK5H4XqkP5qZmZmZmak/uB6F61G4rj/sUbgeheuxP3sUrkfherQ/CtejcD0Ktz+amZmZmZm5Pylcj8L1KLw/uB6F61G4vj+kcD0K16PAP+xRuB6F68E/MzMzMzMzwz97FK5H4XrEP8P1KFyPwsU/CtejcD0Kxz9SuB6F61HIP5qZmZmZmck/4XoUrkfhyj8pXI/C9SjMP3E9CtejcM0/uB6F61G4zj8AAAAAAADQP6RwPQrXo9A/SOF6FK5H0T/sUbgehevRP4/C9Shcj9I/MzMzMzMz0z/Xo3A9CtfTP3sUrkfhetQ/H4XrUbge1T/D9Shcj8LVP2dmZmZmZtY/CtejcD0K1z+uR+F6FK7XP1K4HoXrUdg/9ihcj8L12D+amZmZmZnZPz4K16NwPdo/4XoUrkfh2j+F61G4HoXbPylcj8L1KNw/zczMzMzM3D9xPQrXo3DdPxWuR+F6FN4/uB6F61G43j9cj8L1KFzfPwAAAAAAAOA/UrgehetR4D+kcD0K16PgP/YoXI/C9eA/SOF6FK5H4T+amZmZmZnhP+xRuB6F6+E/PgrXo3A94j+PwvUoXI/iP+F6FK5H4eI/MzMzMzMz4z+F61G4HoXjP9ejcD0K1+M/KVyPwvUo5D97FK5H4XrkP83MzMzMzOQ/H4XrUbge5T9xPQrXo3DlP8P1KFyPwuU/Fa5H4XoU5j9nZmZmZmbmP7gehetRuOY/CtejcD0K5z9cj8L1KFznP65H4XoUruc/AAAAAAAA6D9SuB6F61HoP6RwPQrXo+g/9ihcj8L16D9I4XoUrkfpP5qZmZmZmek/7FG4HoXr6T8+CtejcD3qP5DC9Shcj+o/4XoUrkfh6j8zMzMzMzPrP4XrUbgehes/16NwPQrX6z8pXI/C9SjsP3sUrkfheuw/zczMzMzM7D8fhetRuB7tP3E9CtejcO0/w/UoXI/C7T8VrkfhehTuP2dmZmZmZu4/uB6F61G47j8K16NwPQrvP1yPwvUoXO8/rkfhehSu7z8AAAAAAADwPylcj8L1KPA/UrgehetR8D97FK5H4XrwP6RwPQrXo/A/zczMzMzM8D/2KFyPwvXwPx+F61G4HvE/SOF6FK5H8T9xPQrXo3DxP5qZmZmZmfE/w/UoXI/C8T/sUbgehevxPxWuR+F6FPI/PgrXo3A98j9nZmZmZmbyP4/C9Shcj/I/uB6F61G48j/hehSuR+HyPwrXo3A9CvM/MzMzMzMz8z9cj8L1KFzzP4XrUbgehfM/rkfhehSu8z/Xo3A9CtfzPwAAAAAAAPQ/KVyPwvUo9D9SuB6F61H0P3sUrkfhevQ/pHA9Ctej9D/NzMzMzMz0P/YoXI/C9fQ/H4XrUbge9T9I4XoUrkf1P3E9CtejcPU/mpmZmZmZ9T/D9Shcj8L1P+xRuB6F6/U/Fa5H4XoU9j8+CtejcD32P2dmZmZmZvY/j8L1KFyP9j+4HoXrUbj2P+F6FK5H4fY/CtejcD0K9z8zMzMzMzP3P1yPwvUoXPc/hetRuB6F9z+uR+F6FK73P9ejcD0K1/c/",
        "encoding": "base64",
        "path": [
         "_data",
         0,
         "y",
         "value"
        ]
       },
       {
        "data": "exSuR+F6xD8X0sBjfQXFP3gmUkAEh8U/tIyPPA4Axj/eHIq7KXHGP3KKtsvb2sY/Tj5zw6A9xz+HrUzT7JnHP4n9q44s8Mc/a7+Qa8VAyD8jA+w5FozIP64qKZN30sg/57FnQjwUyT+bhuClsVHJP96D6Qkgi8k/UCEC/srAyT8jY02k8fLJPzuJ1vvOIco/X9v3JZpNyj/TNjWnhnbKPxmo1qPEnMo/0FuKGIHAyj+bhVAP5uHKP2t+79AaAcs/OkcqE0Qeyz8xze8jhDnLP2q8tRH7Uss/HVou0cZqyz/EwoVgA4HLP4sAUOjKlcs/7rZO2jWpyz+mljIOW7vLP5dtetxPzMs/NW+PNyjcyz9OPzzD9urLP9VZmurM+Ms/C6OP9LoFzD/TOvQW0BHMP4oZd4gaHcw/2IJWkacnzD/3+f+agzHMP8YYqj66Osw/0nb5UlZDzD9ArcD4YUvMP0h36qbmUsw/WvObNe1ZzD/tHZzofWDMPxjDDHmgZsw/BleAHlxszD8+ZXeXt3HMP4iTTzG5dsw/pI2tz2Z7zD+PkmrzxX/MP5vJDcHbg8w/Cf3YBq2HzD8E2G9CPovMP4ROIKaTjsw/92XSHbGRzD9vLaVTmpTMP49SPrRSl8w/dGXRct2ZzD+7iOOMPZzMP1f7z811nsw/hp8R0oigzD/wXFUKeaLMP+L6WL5IpMw/QdOZD/qlzD/phdb7jqfMP2ufZl8Jqcw/h/Rq92qqzD+eRdljtavMPxCSZSnqrMw/PFtLswquzD/j8PhUGK/MP869nksUsMw/RGqkv/+wzD9YiwXG27HMPzh5l2Gpssw/1cs5hGmzzD8I5PIPHbTMP/bP+dfEtMw/dsOuoWG1zD/XSIMl9LXMPxQ70w99tsw/voivAf22zD81rpuRdLfMP/TFPkzkt8w/Yf8ItUy4zD+qPs5GrrjMP6abVnQJucw/uWnlqF65zD+DZ7dIrrnMP+uqeLH4ucw/FtSyOj66zD8iCTQ2f7rMP5wzb/C7usw/DvHVsPS6zD9loCy6KbvMPwnv2Epbu8w/LUIrnYm7zD+eUqPntLvMP85LMF3du8w/oblsLQO8zD9Yi9aEJrzMP61tA41HvMw/n7nRbGa8zD+RMZZIg7zMP37CRkKevMw/rHuiebe8zD/Q61YMz7zMP7gPIxblvMw/evv3sPm8zD+3ZBf1DL3MP9wxMPkevcw/ADB50i+9zD/dDsqUP73MP0DAslJOvcw/oFaRHVy9zD9qfKYFab3MP1icKBp1vcw/SNFVaYC9zD/IsoQAi73MPyYSNOyUvcw/oroZOJ69zD8aRjDvpr3MP6gWxBuvvcw/ZIR/x7a9zD/dTXb7vb3MP7dYMMDEvcw/O8+zHcu9zD/ipo4b0b3MPyab38DWvcw/RadeFNy9zD8jCWUc4b3MP9HW9N7lvcw/zC/AYeq9zD+mEjCq7r3MP0Lfar3yvcw/h41aoPa9zD8UoLJX+r3MPyLa9ef9vcw/pL97VQG+zD9C5nWkBL7MP+Ed9dgHvsw/83bu9gq+zD/sLEACDr7MP/h6tv4Qvsw/9mAQ8BO+zD/hXgTaFr7MP4csRcAZvsw/",
        "encoding": "base64",
        "path": [
         "_data",
         1,
         "x",
         "value"
        ]
       },
       {
        "data": "AAAAAAAAAAB7FK5H4XqEP3sUrkfhepQ/uB6F61G4nj97FK5H4XqkP5qZmZmZmak/uB6F61G4rj/sUbgeheuxP3sUrkfherQ/CtejcD0Ktz+amZmZmZm5Pylcj8L1KLw/uB6F61G4vj+kcD0K16PAP+xRuB6F68E/MzMzMzMzwz97FK5H4XrEP8P1KFyPwsU/CtejcD0Kxz9SuB6F61HIP5qZmZmZmck/4XoUrkfhyj8pXI/C9SjMP3E9CtejcM0/uB6F61G4zj8AAAAAAADQP6RwPQrXo9A/SOF6FK5H0T/sUbgehevRP4/C9Shcj9I/MzMzMzMz0z/Xo3A9CtfTP3sUrkfhetQ/H4XrUbge1T/D9Shcj8LVP2dmZmZmZtY/CtejcD0K1z+uR+F6FK7XP1K4HoXrUdg/9ihcj8L12D+amZmZmZnZPz4K16NwPdo/4XoUrkfh2j+F61G4HoXbPylcj8L1KNw/zczMzMzM3D9xPQrXo3DdPxWuR+F6FN4/uB6F61G43j9cj8L1KFzfPwAAAAAAAOA/UrgehetR4D+kcD0K16PgP/YoXI/C9eA/SOF6FK5H4T+amZmZmZnhP+xRuB6F6+E/PgrXo3A94j+PwvUoXI/iP+F6FK5H4eI/MzMzMzMz4z+F61G4HoXjP9ejcD0K1+M/KVyPwvUo5D97FK5H4XrkP83MzMzMzOQ/H4XrUbge5T9xPQrXo3DlP8P1KFyPwuU/Fa5H4XoU5j9nZmZmZmbmP7gehetRuOY/CtejcD0K5z9cj8L1KFznP65H4XoUruc/AAAAAAAA6D9SuB6F61HoP6RwPQrXo+g/9ihcj8L16D9I4XoUrkfpP5qZmZmZmek/7FG4HoXr6T8+CtejcD3qP5DC9Shcj+o/4XoUrkfh6j8zMzMzMzPrP4XrUbgehes/16NwPQrX6z8pXI/C9SjsP3sUrkfheuw/zczMzMzM7D8fhetRuB7tP3E9CtejcO0/w/UoXI/C7T8VrkfhehTuP2dmZmZmZu4/uB6F61G47j8K16NwPQrvP1yPwvUoXO8/rkfhehSu7z8AAAAAAADwPylcj8L1KPA/UrgehetR8D97FK5H4XrwP6RwPQrXo/A/zczMzMzM8D/2KFyPwvXwPx+F61G4HvE/SOF6FK5H8T9xPQrXo3DxP5qZmZmZmfE/w/UoXI/C8T/sUbgehevxPxWuR+F6FPI/PgrXo3A98j9nZmZmZmbyP4/C9Shcj/I/uB6F61G48j/hehSuR+HyPwrXo3A9CvM/MzMzMzMz8z9cj8L1KFzzP4XrUbgehfM/rkfhehSu8z/Xo3A9CtfzPwAAAAAAAPQ/KVyPwvUo9D9SuB6F61H0P3sUrkfhevQ/pHA9Ctej9D/NzMzMzMz0P/YoXI/C9fQ/H4XrUbge9T9I4XoUrkf1P3E9CtejcPU/mpmZmZmZ9T/D9Shcj8L1P+xRuB6F6/U/Fa5H4XoU9j8+CtejcD32P2dmZmZmZvY/j8L1KFyP9j+4HoXrUbj2P+F6FK5H4fY/CtejcD0K9z8zMzMzMzP3P1yPwvUoXPc/hetRuB6F9z+uR+F6FK73P9ejcD0K1/c/",
        "encoding": "base64",
        "path": [
         "_data",
         1,
         "y",
         "value"
        ]
       },
       {
        "data": "AAAAAAAAAAB7FK5H4XqEP3sUrkfhepQ/uB6F61G4nj97FK5H4XqkP5qZmZmZmak/uB6F61G4rj/sUbgeheuxP3sUrkfherQ/CtejcD0Ktz+amZmZmZm5Pylcj8L1KLw/uB6F61G4vj+kcD0K16PAP+xRuB6F68E/MzMzMzMzwz97FK5H4XrEP8P1KFyPwsU/CtejcD0Kxz9SuB6F61HIP5qZmZmZmck/4XoUrkfhyj8pXI/C9SjMP3E9CtejcM0/uB6F61G4zj8AAAAAAADQP6RwPQrXo9A/SOF6FK5H0T/sUbgehevRP4/C9Shcj9I/MzMzMzMz0z/Xo3A9CtfTP3sUrkfhetQ/H4XrUbge1T/D9Shcj8LVP2dmZmZmZtY/CtejcD0K1z+uR+F6FK7XP1K4HoXrUdg/9ihcj8L12D+amZmZmZnZPz4K16NwPdo/4XoUrkfh2j+F61G4HoXbPylcj8L1KNw/zczMzMzM3D9xPQrXo3DdPxWuR+F6FN4/uB6F61G43j9cj8L1KFzfPwAAAAAAAOA/UrgehetR4D+kcD0K16PgP/YoXI/C9eA/SOF6FK5H4T+amZmZmZnhP+xRuB6F6+E/PgrXo3A94j+PwvUoXI/iP+F6FK5H4eI/MzMzMzMz4z+F61G4HoXjP9ejcD0K1+M/KVyPwvUo5D97FK5H4XrkP83MzMzMzOQ/H4XrUbge5T9xPQrXo3DlP8P1KFyPwuU/Fa5H4XoU5j9nZmZmZmbmP7gehetRuOY/CtejcD0K5z9cj8L1KFznP65H4XoUruc/AAAAAAAA6D9SuB6F61HoP6RwPQrXo+g/9ihcj8L16D9I4XoUrkfpP5qZmZmZmek/7FG4HoXr6T8+CtejcD3qP5DC9Shcj+o/4XoUrkfh6j8zMzMzMzPrP4XrUbgehes/16NwPQrX6z8pXI/C9SjsP3sUrkfheuw/zczMzMzM7D8fhetRuB7tP3E9CtejcO0/w/UoXI/C7T8VrkfhehTuP2dmZmZmZu4/uB6F61G47j8K16NwPQrvP1yPwvUoXO8/rkfhehSu7z8AAAAAAADwPylcj8L1KPA/UrgehetR8D97FK5H4XrwP6RwPQrXo/A/zczMzMzM8D/2KFyPwvXwPx+F61G4HvE/SOF6FK5H8T9xPQrXo3DxP5qZmZmZmfE/w/UoXI/C8T/sUbgehevxPxWuR+F6FPI/PgrXo3A98j9nZmZmZmbyP4/C9Shcj/I/uB6F61G48j/hehSuR+HyPwrXo3A9CvM/MzMzMzMz8z9cj8L1KFzzP4XrUbgehfM/rkfhehSu8z/Xo3A9CtfzPwAAAAAAAPQ/KVyPwvUo9D9SuB6F61H0P3sUrkfhevQ/pHA9Ctej9D/NzMzMzMz0P/YoXI/C9fQ/H4XrUbge9T9I4XoUrkf1P3E9CtejcPU/mpmZmZmZ9T/D9Shcj8L1P+xRuB6F6/U/Fa5H4XoU9j8+CtejcD32P2dmZmZmZvY/j8L1KFyP9j+4HoXrUbj2P+F6FK5H4fY/CtejcD0K9z8zMzMzMzP3P1yPwvUoXPc/hetRuB6F9z+uR+F6FK73P9ejcD0K1/c/",
        "encoding": "base64",
        "path": [
         "_data",
         2,
         "y",
         "value"
        ]
       },
       {
        "data": "AAAAAAAAAAB7FK5H4XqEP3sUrkfhepQ/uB6F61G4nj97FK5H4XqkP5qZmZmZmak/uB6F61G4rj/sUbgeheuxP3sUrkfherQ/CtejcD0Ktz+amZmZmZm5Pylcj8L1KLw/uB6F61G4vj+kcD0K16PAP+xRuB6F68E/MzMzMzMzwz97FK5H4XrEP8P1KFyPwsU/CtejcD0Kxz9SuB6F61HIP5qZmZmZmck/4XoUrkfhyj8pXI/C9SjMP3E9CtejcM0/uB6F61G4zj8AAAAAAADQP6RwPQrXo9A/SOF6FK5H0T/sUbgehevRP4/C9Shcj9I/MzMzMzMz0z/Xo3A9CtfTP3sUrkfhetQ/H4XrUbge1T/D9Shcj8LVP2dmZmZmZtY/CtejcD0K1z+uR+F6FK7XP1K4HoXrUdg/9ihcj8L12D+amZmZmZnZPz4K16NwPdo/4XoUrkfh2j+F61G4HoXbPylcj8L1KNw/zczMzMzM3D9xPQrXo3DdPxWuR+F6FN4/uB6F61G43j9cj8L1KFzfPwAAAAAAAOA/UrgehetR4D+kcD0K16PgP/YoXI/C9eA/SOF6FK5H4T+amZmZmZnhP+xRuB6F6+E/PgrXo3A94j+PwvUoXI/iP+F6FK5H4eI/MzMzMzMz4z+F61G4HoXjP9ejcD0K1+M/KVyPwvUo5D97FK5H4XrkP83MzMzMzOQ/H4XrUbge5T9xPQrXo3DlP8P1KFyPwuU/Fa5H4XoU5j9nZmZmZmbmP7gehetRuOY/CtejcD0K5z9cj8L1KFznP65H4XoUruc/AAAAAAAA6D9SuB6F61HoP6RwPQrXo+g/9ihcj8L16D9I4XoUrkfpP5qZmZmZmek/7FG4HoXr6T8+CtejcD3qP5DC9Shcj+o/4XoUrkfh6j8zMzMzMzPrP4XrUbgehes/16NwPQrX6z8pXI/C9SjsP3sUrkfheuw/zczMzMzM7D8fhetRuB7tP3E9CtejcO0/w/UoXI/C7T8VrkfhehTuP2dmZmZmZu4/uB6F61G47j8K16NwPQrvP1yPwvUoXO8/rkfhehSu7z8AAAAAAADwPylcj8L1KPA/UrgehetR8D97FK5H4XrwP6RwPQrXo/A/zczMzMzM8D/2KFyPwvXwPx+F61G4HvE/SOF6FK5H8T9xPQrXo3DxP5qZmZmZmfE/w/UoXI/C8T/sUbgehevxPxWuR+F6FPI/PgrXo3A98j9nZmZmZmbyP4/C9Shcj/I/uB6F61G48j/hehSuR+HyPwrXo3A9CvM/MzMzMzMz8z9cj8L1KFzzP4XrUbgehfM/rkfhehSu8z/Xo3A9CtfzPwAAAAAAAPQ/KVyPwvUo9D9SuB6F61H0P3sUrkfhevQ/pHA9Ctej9D/NzMzMzMz0P/YoXI/C9fQ/H4XrUbge9T9I4XoUrkf1P3E9CtejcPU/mpmZmZmZ9T/D9Shcj8L1P+xRuB6F6/U/Fa5H4XoU9j8+CtejcD32P2dmZmZmZvY/j8L1KFyP9j+4HoXrUbj2P+F6FK5H4fY/CtejcD0K9z8zMzMzMzP3P1yPwvUoXPc/hetRuB6F9z+uR+F6FK73P9ejcD0K1/c/",
        "encoding": "base64",
        "path": [
         "_data",
         3,
         "y",
         "value"
        ]
       }
      ],
      "model_module": "jupyterlab-plotly",
      "model_module_version": "^5.1.0",
      "model_name": "FigureModel",
      "state": {
       "_config": {
        "plotlyServerURL": "https://plot.ly"
       },
       "_data": [
        {
         "marker": {
          "color": "RoyalBlue"
         },
         "mode": "lines",
         "name": "[SO<sub>4</sub>]",
         "type": "scatter",
         "uid": "0d13c9b1-cf7d-4b3a-9c5c-e3b6bfa445f9",
         "x": {
          "dtype": "float64",
          "shape": [
           150
          ]
         },
         "xaxis": "x",
         "y": {
          "dtype": "float64",
          "shape": [
           150
          ]
         },
         "yaxis": "y"
        },
        {
         "marker": {
          "color": "MediumSeaGreen"
         },
         "mode": "lines",
         "name": "[FeS<sub>2</sub>]",
         "type": "scatter",
         "uid": "4fc6bb05-75d2-41e4-a6ea-8838b3cd5329",
         "x": {
          "dtype": "float64",
          "shape": [
           150
          ]
         },
         "xaxis": "x",
         "y": {
          "dtype": "float64",
          "shape": [
           150
          ]
         },
         "yaxis": "y"
        },
        {
         "marker": {
          "color": "Navy"
         },
         "mode": "lines",
         "name": "δ<sup>34</sup>S<sub>SO4</sub>",
         "type": "scatter",
         "uid": "c41fd6d0-6aa9-44ea-9260-8737b24a061f",
         "x": [
          23.00000000000013,
          24.923534044210438,
          26.85108477632525,
          28.78268572579845,
          30.71837039660319,
          32.65817226709466,
          34.60212478987823,
          36.55026139167528,
          38.50261547318401,
          40.459220408944674,
          42.42010954720299,
          44.38531620976938,
          46.354873691886624,
          48.32881526209243,
          50.30717416208663,
          52.28998360660175,
          54.27727678327798,
          56.2690868525435,
          58.265446947502355,
          60.26639017383184,
          62.27194960969329,
          64.28215830565564,
          66.29704928463731,
          68.31665554187039,
          70.34101004489268,
          72.37014573356481,
          74.4040955201335,
          76.44289228933032,
          78.48656889852856,
          80.53515817795653,
          82.58869293098581,
          84.64720593450137,
          86.71072993936812,
          88.779297671014,
          90.85294183014203,
          92.93169509359522,
          95.01559011540017,
          97.10465952801117,
          99.19893594379437,
          101.2984519567779,
          null,
          null,
          null,
          null,
          null,
          null,
          null,
          null,
          null,
          null,
          null,
          null,
          null,
          null,
          null,
          null,
          null,
          null,
          null,
          null,
          null,
          null,
          null,
          null,
          null,
          null,
          null,
          null,
          null,
          null,
          null,
          null,
          null,
          null,
          null,
          null,
          null,
          null,
          null,
          null,
          null,
          null,
          null,
          null,
          null,
          null,
          null,
          null,
          null,
          null,
          null,
          null,
          null,
          null,
          null,
          null,
          null,
          null,
          null,
          null,
          null,
          null,
          null,
          null,
          null,
          null,
          null,
          null,
          null,
          null,
          null,
          null,
          null,
          null,
          null,
          null,
          null,
          null,
          null,
          null,
          null,
          null,
          null,
          null,
          null,
          null,
          null,
          null,
          null,
          null,
          null,
          null,
          null,
          null,
          null,
          null,
          null,
          null,
          null,
          null,
          null,
          null,
          null,
          null,
          null,
          null,
          null,
          null,
          null,
          null
         ],
         "xaxis": "x2",
         "y": {
          "dtype": "float64",
          "shape": [
           150
          ]
         },
         "yaxis": "y2"
        },
        {
         "marker": {
          "color": "DarkGreen"
         },
         "mode": "lines",
         "name": "δ<sup>34</sup>S<sub>py</sub>",
         "type": "scatter",
         "uid": "d337580c-9f3f-4164-bd63-3a9c36b90bbc",
         "x": [
          -31.00000000000003,
          -30.976879910796008,
          -30.91360618991068,
          -30.817986029536225,
          -30.69637715960949,
          -30.553996306072364,
          -30.3951519430824,
          -30.22342221399321,
          -30.041792565632775,
          -29.852763390592727,
          -29.658435070003986,
          -29.460575795973497,
          -29.260676135970833,
          -29.059993290946107,
          -28.859587269336906,
          -28.660350666261714,
          -28.463033343867018,
          -28.268263015564177,
          -28.07656251626034,
          -27.888364373195085,
          -27.704023163854675,
          -27.523826048600153,
          -27.34800178887142,
          -27.176728501817514,
          -27.010140354921997,
          -26.84833336679615,
          -26.691370450476203,
          -26.5392858117075,
          -26.392088795447744,
          -26.24976725828376,
          -26.112290531780992,
          -25.979612031461485,
          -25.851671557607816,
          -25.728397327105522,
          -25.609707769735923,
          -25.49551311752396,
          -25.385716811721192,
          -25.28021674864045,
          -25.17890638272324,
          -25.0816757028246,
          -24.988412095674594,
          -24.899001108742326,
          -24.81332712325579,
          -24.731273946861254,
          -24.6527253343114,
          -24.577565443638427,
          -24.505679234435362,
          -24.43695281416747,
          -24.371273737805566,
          -24.308531265531563,
          -24.248616582775217,
          -24.1914229864294,
          -24.136846040701766,
          -24.084783705730306,
          -24.03513644179267,
          -23.98780729166461,
          -23.94270194345527,
          -23.89972877601021,
          -23.858798888803268,
          -23.819826118040787,
          -23.78272704055395,
          -23.747420966907406,
          -23.713829925017805,
          -23.681878635462006,
          -23.651494479540514,
          -23.622607461062593,
          -23.59515016273317,
          -23.56905769793116,
          -23.544267658601626,
          -23.520720059905354,
          -23.49835728221217,
          -23.477124010966467,
          -23.45696717489476,
          -23.437835882979428,
          -23.419681360581592,
          -23.402456885048608,
          -23.38611772110677,
          -23.370621056311492,
          -23.355925936783706,
          -23.341993203446766,
          -23.32878542894101,
          -23.31626685537458,
          -23.304403333050615,
          -23.293162260283108,
          -23.28251252440228,
          -23.272424444035433,
          -23.262869712726065,
          -23.25382134395493,
          -23.245253617598436,
          -23.237142027863644,
          -23.22946323272157,
          -23.222195004852786,
          -23.21531618411543,
          -23.208806631533683,
          -23.202647184804803,
          -23.196819615310392,
          -23.191306586621828,
          -23.186091614475156,
          -23.181159028198284,
          -23.176493933561805,
          -23.1720821770246,
          -23.167910311348017,
          -23.163965562541634,
          -23.160235798110552,
          -23.15670949656745,
          -23.15337571817444,
          -23.15022407687861,
          -23.14724471340357,
          -23.144428269459727,
          -23.141765863037065,
          -23.139249064742074,
          -23.136869875140963,
          -23.134620703074482,
          -23.132494344905275,
          -23.130483964662663,
          -23.12858307504817,
          -23.126785519270054,
          -23.12508545366598,
          -23.123477331086217,
          -23.121955884999657,
          -23.12051611429378,
          -23.119153268731594,
          -23.117862835040135,
          -23.116640523596523,
          -23.115482255681165,
          -23.11438415127276,
          -23.11334251735342,
          -23.112353836697075,
          -23.111414757114645,
          -23.110522081129623,
          -23.10967275605713,
          -23.10886386446409,
          -23.10809261498259,
          -23.1073563334524,
          -23.106652454375155,
          -23.105978512646953,
          -23.105332135554768,
          -23.104711035012883,
          -23.10411300001247,
          -23.103535889270944,
          -23.102977624050002,
          -23.10243618112928,
          -23.10190958591074,
          -23.10139590563276,
          -23.100893242673614,
          -23.100399727923214,
          -23.099913514203706,
          -23.099432769715158,
          -23.098955671488785,
          -23.098480398823117
         ],
         "xaxis": "x2",
         "y": {
          "dtype": "float64",
          "shape": [
           150
          ]
         },
         "yaxis": "y2"
        }
       ],
       "_js2py_pointsCallback": {},
       "_js2py_relayout": {},
       "_js2py_restyle": {},
       "_js2py_update": {},
       "_last_layout_edit_id": 8,
       "_last_trace_edit_id": 8,
       "_layout": {
        "height": 600,
        "hovermode": "y",
        "margin": {
         "t": 60
        },
        "template": {
         "layout": {
          "bargap": 0.05,
          "bargroupgap": 0,
          "font": {
           "color": "black",
           "family": "Segoe UI",
           "size": 17
          },
          "height": 700,
          "hovermode": "closest",
          "margin": {
           "b": 60,
           "l": 90,
           "r": 30,
           "t": 30
          },
          "scene": {
           "xaxis": {
            "color": "black",
            "linewidth": 2,
            "showline": true,
            "ticks": "outside"
           },
           "yaxis": {
            "color": "black",
            "linewidth": 2,
            "showline": true,
            "ticks": "outside"
           },
           "zaxis": {
            "color": "black",
            "linewidth": 2,
            "showline": true,
            "ticks": "outside"
           }
          },
          "xaxis": {
           "color": "black",
           "linewidth": 1.3,
           "mirror": true,
           "showgrid": true,
           "showline": true,
           "ticks": "outside",
           "zeroline": true
          },
          "yaxis": {
           "color": "black",
           "linewidth": 1.3,
           "mirror": true,
           "showgrid": true,
           "showline": true,
           "ticks": "outside",
           "zeroline": true
          }
         }
        },
        "width": 1000,
        "xaxis": {
         "anchor": "y",
         "domain": [
          0,
          0.495
         ],
         "title": {
          "text": "Concentration / mol dm<sup>−3</sup>"
         }
        },
        "xaxis2": {
         "anchor": "y2",
         "domain": [
          0.505,
          1
         ],
         "title": {
          "text": "δ<sup>34</sup>S (‰)"
         }
        },
        "yaxis": {
         "anchor": "x",
         "domain": [
          0,
          1
         ],
         "rangemode": "tozero",
         "title": {
          "text": "Depth, <i>z</i> / m"
         }
        },
        "yaxis2": {
         "anchor": "x2",
         "domain": [
          0,
          1
         ],
         "matches": "y",
         "showticklabels": false
        }
       },
       "_py2js_animate": {},
       "_py2js_deleteTraces": {},
       "_py2js_moveTraces": {},
       "_py2js_relayout": {},
       "_py2js_removeTraceProps": {},
       "_py2js_restyle": {},
       "_view_count": 1
      }
     },
     "134c7e8d67f14ba8ae34ead5a9b2fbc3": {
      "model_module": "@jupyter-widgets/controls",
      "model_module_version": "1.5.0",
      "model_name": "FloatSliderModel",
      "state": {
       "description": "δ<sup>34</sup>S<sub>SO4, 0</sub>",
       "layout": "IPY_MODEL_ea7950820c92424097befc068342aad2",
       "max": 30,
       "step": 0.1,
       "style": "IPY_MODEL_a7db826394dc45feb4e995ff89a07a5a",
       "value": 23
      }
     },
     "148010e7aa3e43f0af8eb1d422b3d09a": {
      "model_module": "@jupyter-widgets/base",
      "model_module_version": "1.2.0",
      "model_name": "LayoutModel",
      "state": {}
     },
     "14a16e2d5eb64b4ba1a009b687416f85": {
      "model_module": "@jupyter-widgets/base",
      "model_module_version": "1.2.0",
      "model_name": "LayoutModel",
      "state": {}
     },
     "14b7c42eb65841369c59dbbc3e2fa6e7": {
      "model_module": "@jupyter-widgets/base",
      "model_module_version": "1.2.0",
      "model_name": "LayoutModel",
      "state": {
       "width": "100%"
      }
     },
     "1530b4e299c146908c707e43492dfc89": {
      "model_module": "@jupyter-widgets/controls",
      "model_module_version": "1.5.0",
      "model_name": "SliderStyleModel",
      "state": {
       "description_width": ""
      }
     },
     "158bc843e4a84bfb8b8e15b2c2a5aa0d": {
      "model_module": "@jupyter-widgets/base",
      "model_module_version": "1.2.0",
      "model_name": "LayoutModel",
      "state": {}
     },
     "1631250af5fd4b0ba57fad0d9492596d": {
      "model_module": "@jupyter-widgets/base",
      "model_module_version": "1.2.0",
      "model_name": "LayoutModel",
      "state": {
       "width": "100%"
      }
     },
     "16e6eca637904ee1acd0bdffc2d52cfa": {
      "model_module": "@jupyter-widgets/controls",
      "model_module_version": "1.5.0",
      "model_name": "DescriptionStyleModel",
      "state": {
       "description_width": ""
      }
     },
     "16f0f336573245129d649f07558f2957": {
      "model_module": "@jupyter-widgets/output",
      "model_module_version": "1.0.0",
      "model_name": "OutputModel",
      "state": {
       "layout": "IPY_MODEL_669f9a84d96e4dfa8cf4b62671f46d7c"
      }
     },
     "17452fc2b6cc44e8beb04647f5a3e322": {
      "model_module": "@jupyter-widgets/controls",
      "model_module_version": "1.5.0",
      "model_name": "SliderStyleModel",
      "state": {
       "description_width": ""
      }
     },
     "17558d7a13f04e80b58cb86e9845c02b": {
      "model_module": "@jupyter-widgets/controls",
      "model_module_version": "1.5.0",
      "model_name": "SliderStyleModel",
      "state": {
       "description_width": ""
      }
     },
     "17b2b37d2b0b440fb73df165be40763c": {
      "model_module": "@jupyter-widgets/base",
      "model_module_version": "1.2.0",
      "model_name": "LayoutModel",
      "state": {
       "width": "100%"
      }
     },
     "17cc6045c8ce4dd4b899ae494bfebbc6": {
      "model_module": "@jupyter-widgets/output",
      "model_module_version": "1.0.0",
      "model_name": "OutputModel",
      "state": {
       "layout": "IPY_MODEL_e656d4bd79384e69a9fde112f79b890c"
      }
     },
     "1b9c330a440146fb934454babc1e63f1": {
      "model_module": "@jupyter-widgets/base",
      "model_module_version": "1.2.0",
      "model_name": "LayoutModel",
      "state": {
       "width": "100%"
      }
     },
     "1c5bb265a5b54cc79e3c2da2124ff263": {
      "model_module": "@jupyter-widgets/controls",
      "model_module_version": "1.5.0",
      "model_name": "SliderStyleModel",
      "state": {
       "description_width": ""
      }
     },
     "1c7d0fb722554c8995e25ea70e7d742d": {
      "model_module": "@jupyter-widgets/controls",
      "model_module_version": "1.5.0",
      "model_name": "SliderStyleModel",
      "state": {
       "description_width": ""
      }
     },
     "1cff568ccf3a42edb68c646dc479da7c": {
      "model_module": "@jupyter-widgets/base",
      "model_module_version": "1.2.0",
      "model_name": "LayoutModel",
      "state": {}
     },
     "1d7dd99c00fd4bcf9e0a8d76aa24b23a": {
      "model_module": "@jupyter-widgets/controls",
      "model_module_version": "1.5.0",
      "model_name": "HBoxModel",
      "state": {
       "children": [
        "IPY_MODEL_97e5362abea641ea8b1bf4cda7f14c2d",
        "IPY_MODEL_735b678dd13546898b3221b1b0b306a1"
       ],
       "layout": "IPY_MODEL_e660b6ea6bb945dbb53ad29bcee7e859"
      }
     },
     "1d8fa49a00794f4ca3c577fb5d0a49eb": {
      "model_module": "@jupyter-widgets/controls",
      "model_module_version": "1.5.0",
      "model_name": "SliderStyleModel",
      "state": {
       "description_width": ""
      }
     },
     "1e0ec2a9350c4a1ab1118bf81a6cd758": {
      "model_module": "@jupyter-widgets/controls",
      "model_module_version": "1.5.0",
      "model_name": "VBoxModel",
      "state": {
       "children": [
        "IPY_MODEL_bb5d4bb98c6441e4bfa227747b84b01e",
        "IPY_MODEL_68ae9fea5f5b4f25835bae5da6ba5131",
        "IPY_MODEL_52e29eea962c4a51a957c1681ff3f9f6",
        "IPY_MODEL_1d7dd99c00fd4bcf9e0a8d76aa24b23a",
        "IPY_MODEL_9dd8ccf55f8340eca876842ee72c6e18",
        "IPY_MODEL_60d0adc4135d4a3ebaa19213827515fa"
       ],
       "layout": "IPY_MODEL_a3c8ff4b2b6744afa5f385db94d1b773"
      }
     },
     "1e648e20d3134de8bbbd7614bc4dc2a8": {
      "model_module": "@jupyter-widgets/output",
      "model_module_version": "1.0.0",
      "model_name": "OutputModel",
      "state": {
       "layout": "IPY_MODEL_53e917377fbc4724a753cf9676d3d4ef"
      }
     },
     "1f5201e92dc94a4483486fd48c105f1b": {
      "model_module": "@jupyter-widgets/controls",
      "model_module_version": "1.5.0",
      "model_name": "FloatTextModel",
      "state": {
       "description": "step",
       "layout": "IPY_MODEL_acddcbb66ac343029809f7106e66d6f4",
       "step": 0.01,
       "style": "IPY_MODEL_d19d44d14ddb43698368d6d800e32190",
       "value": 0.005
      }
     },
     "1f7596d7a68a43c4acb39248f2e7e0cc": {
      "model_module": "@jupyter-widgets/controls",
      "model_module_version": "1.5.0",
      "model_name": "FloatSliderModel",
      "state": {
       "description": "[FeS<sub>2</sub>]<sub>0</sub>",
       "layout": "IPY_MODEL_804e34db9c3b460d9ca890cf7c958ebb",
       "max": 1,
       "step": 0.0025,
       "style": "IPY_MODEL_c1079be021474766ba468c02282ffa54",
       "value": 0.16
      }
     },
     "1f811b9f0f2947a7b4e300537bd44f48": {
      "model_module": "@jupyter-widgets/base",
      "model_module_version": "1.2.0",
      "model_name": "LayoutModel",
      "state": {}
     },
     "204cef3dec724cbe96b644d916eb2f3f": {
      "model_module": "@jupyter-widgets/controls",
      "model_module_version": "1.5.0",
      "model_name": "HBoxModel",
      "state": {
       "children": [
        "IPY_MODEL_a129497b8a4640c797f38b918587b5f9",
        "IPY_MODEL_92418f0b65ac4d8bb35ba19ac0a2e97f",
        "IPY_MODEL_389a97110c854d9989db1fdfa90beb9e"
       ],
       "layout": "IPY_MODEL_c5a1eccd28254ae7b10680175cde15dd"
      }
     },
     "2059630cc0c74bef881d259fa53a8218": {
      "model_module": "@jupyter-widgets/base",
      "model_module_version": "1.2.0",
      "model_name": "LayoutModel",
      "state": {
       "width": "100%"
      }
     },
     "207f34a11bf342368bbc933e41a463ea": {
      "model_module": "@jupyter-widgets/base",
      "model_module_version": "1.2.0",
      "model_name": "LayoutModel",
      "state": {
       "width": "100%"
      }
     },
     "2158ad8e71af4c389d5eb83a33907e17": {
      "model_module": "@jupyter-widgets/controls",
      "model_module_version": "1.5.0",
      "model_name": "HBoxModel",
      "state": {
       "children": [
        "IPY_MODEL_e8780af051e94722b9f4d7439e8a2f02",
        "IPY_MODEL_e20fbc07c3ee4ae2a6f1fce6d0e9e6fa"
       ],
       "layout": "IPY_MODEL_e02b1a6c634a479e9d294237b590e34e"
      }
     },
     "2230e461601e45fb8d31bfc053eee950": {
      "model_module": "@jupyter-widgets/controls",
      "model_module_version": "1.5.0",
      "model_name": "HBoxModel",
      "state": {
       "children": [
        "IPY_MODEL_ffd4e800d6a944bfa90e628178c60287",
        "IPY_MODEL_947a7a728e2543e98da5060908a80cfe"
       ],
       "layout": "IPY_MODEL_f3de6366d38f41dea809c9e74b7f958a"
      }
     },
     "225cd9e1551148fea86470e440872caa": {
      "model_module": "@jupyter-widgets/controls",
      "model_module_version": "1.5.0",
      "model_name": "FloatRangeSliderModel",
      "state": {
       "_model_name": "FloatRangeSliderModel",
       "_view_name": "FloatRangeSliderView",
       "continuous_update": false,
       "description": "v<sub>sed</sub>",
       "layout": "IPY_MODEL_c1da41075a2049f6b2facab9fadf7d33",
       "max": 0.5,
       "min": 0.001,
       "step": 0.001,
       "style": "IPY_MODEL_91a2b7a005a6444b809f3c546549ecd7",
       "value": [
        0.005,
        0.2
       ]
      }
     },
     "23d7ed24fad04a74a027f5c5be94d6e3": {
      "model_module": "@jupyter-widgets/controls",
      "model_module_version": "1.5.0",
      "model_name": "FloatSliderModel",
      "state": {
       "description": "ε<sub>MSR</sub>",
       "layout": "IPY_MODEL_077b1c8aea9d4266b1a326d696e7948a",
       "style": "IPY_MODEL_75d966ef22794ea1ae4ff8c3633d2d0b",
       "value": 54
      }
     },
     "24f3e4bbcc104a43bec09cae3344ffe3": {
      "model_module": "@jupyter-widgets/controls",
      "model_module_version": "1.5.0",
      "model_name": "FloatSliderModel",
      "state": {
       "description": "dz",
       "layout": "IPY_MODEL_e004a4872dcf4aac939374ad93afbbe5",
       "max": 0.1,
       "min": 0.001,
       "step": 0.001,
       "style": "IPY_MODEL_0133d69610664352a4a5ca85dc23fe45",
       "value": 0.01
      }
     },
     "2603e9823861484297a6cc3b06c00eee": {
      "model_module": "@jupyter-widgets/base",
      "model_module_version": "1.2.0",
      "model_name": "LayoutModel",
      "state": {
       "width": "100%"
      }
     },
     "2678dc0340cf4017a0e70e553da07272": {
      "model_module": "@jupyter-widgets/controls",
      "model_module_version": "1.5.0",
      "model_name": "SliderStyleModel",
      "state": {
       "description_width": ""
      }
     },
     "270d2ce52da34acda2dcbacb36c62b4e": {
      "model_module": "@jupyter-widgets/base",
      "model_module_version": "1.2.0",
      "model_name": "LayoutModel",
      "state": {}
     },
     "27ab5bcb283447cc8e68f5f98c29967c": {
      "model_module": "@jupyter-widgets/controls",
      "model_module_version": "1.5.0",
      "model_name": "SliderStyleModel",
      "state": {
       "description_width": ""
      }
     },
     "293ca9ce792e40ae89b142b07d3803ca": {
      "model_module": "@jupyter-widgets/controls",
      "model_module_version": "1.5.0",
      "model_name": "FloatSliderModel",
      "state": {
       "description": "Marker Size",
       "layout": "IPY_MODEL_782a4cdfc2f14a4c9c7859842816c91d",
       "max": 20,
       "step": 0.1,
       "style": "IPY_MODEL_3b992a0088b845a2ad6b83c80e65846e",
       "value": 8
      }
     },
     "2a0cde178d304ae4bf90647579f5fdc3": {
      "model_module": "@jupyter-widgets/controls",
      "model_module_version": "1.5.0",
      "model_name": "SliderStyleModel",
      "state": {
       "description_width": ""
      }
     },
     "2bef99998ed2495a94e145e4f611cb73": {
      "model_module": "@jupyter-widgets/controls",
      "model_module_version": "1.5.0",
      "model_name": "DescriptionStyleModel",
      "state": {
       "description_width": ""
      }
     },
     "2ca88ca29242481480c1aeebc738fc05": {
      "model_module": "@jupyter-widgets/base",
      "model_module_version": "1.2.0",
      "model_name": "LayoutModel",
      "state": {}
     },
     "2e12a367019c4930b1e32a0bbc974c24": {
      "model_module": "@jupyter-widgets/output",
      "model_module_version": "1.0.0",
      "model_name": "OutputModel",
      "state": {
       "layout": "IPY_MODEL_ac528d5d864f481fbf1870d9ce3fcb33"
      }
     },
     "2e49f6d965394ac6a02eacd89218e5fa": {
      "model_module": "@jupyter-widgets/base",
      "model_module_version": "1.2.0",
      "model_name": "LayoutModel",
      "state": {}
     },
     "2f8e9a0502d24f2f9657d769867935f6": {
      "model_module": "@jupyter-widgets/base",
      "model_module_version": "1.2.0",
      "model_name": "LayoutModel",
      "state": {}
     },
     "30600c97f1b649d0ae8d83b681a8705e": {
      "model_module": "@jupyter-widgets/controls",
      "model_module_version": "1.5.0",
      "model_name": "SliderStyleModel",
      "state": {
       "description_width": ""
      }
     },
     "30eb2d4941364079948d7c24ed7725dd": {
      "model_module": "@jupyter-widgets/base",
      "model_module_version": "1.2.0",
      "model_name": "LayoutModel",
      "state": {
       "width": "100%"
      }
     },
     "32065d52027b4b3b98cc7b58efeafc7e": {
      "model_module": "@jupyter-widgets/base",
      "model_module_version": "1.2.0",
      "model_name": "LayoutModel",
      "state": {
       "width": "100%"
      }
     },
     "322cbdad95554372a4feddb653a7296f": {
      "model_module": "@jupyter-widgets/base",
      "model_module_version": "1.2.0",
      "model_name": "LayoutModel",
      "state": {
       "width": "100%"
      }
     },
     "3262b336a7184b7a9867d56735cc58c4": {
      "model_module": "@jupyter-widgets/controls",
      "model_module_version": "1.5.0",
      "model_name": "HBoxModel",
      "state": {
       "children": [
        "IPY_MODEL_c0ee1a7f81bf46c68bc49739122d98fd",
        "IPY_MODEL_a48daae9d2b1433fb052d048f489c8d4"
       ],
       "layout": "IPY_MODEL_2ca88ca29242481480c1aeebc738fc05"
      }
     },
     "3274216ead074ae788749c11942de876": {
      "model_module": "@jupyter-widgets/base",
      "model_module_version": "1.2.0",
      "model_name": "LayoutModel",
      "state": {}
     },
     "3281b6b99dd04cfca693d5a5e242a3bc": {
      "buffers": [
       {
        "data": "W1pQhZJ17D9a/Jw93n7fP+i1AE/bJ+U/CeOO8seB5T9UIVbvVIjlP/MSfp9MYOk/YWEw5OqV4j9vjvTiq5frP34pYmErnOg/JwmWh+si6T86iSG/wLvpP+AZe2LoueQ/oky2XYDC6z8VMB/ILizmP31ENZuxbew/luBQ+fVw4T/VZFmTZU3mP2RCE/0qa+Y/m5fEvhcf3T9GRXYeekHoP3R5XCXJGe0/Iehdp+E33D/Gee6rKInoP5aLiHIAx+A/rkb+MVY86j8TBt9pCuzgPxBDdWroROM/WAljs6Da6z/5psodzi/iP94IkaMLBuc/DepCMlxN4z8a/V1dqE7nPxhaRmnw2ec/NsF4K/sc4j+byUeerbLiP9Jf0a/DSOg/UQ9OXHM75j8=",
        "encoding": "base64",
        "path": [
         "_data",
         0,
         "x",
         "value"
        ]
       },
       {
        "data": "W1pQhZJ17D9a/Jw93n7fP+i1AE/bJ+U/CeOO8seB5T9UIVbvVIjlP/MSfp9MYOk/YWEw5OqV4j9vjvTiq5frP34pYmErnOg/JwmWh+si6T86iSG/wLvpP+AZe2LoueQ/oky2XYDC6z8VMB/ILizmP31ENZuxbew/luBQ+fVw4T/VZFmTZU3mP2RCE/0qa+Y/m5fEvhcf3T9GRXYeekHoP3R5XCXJGe0/Iehdp+E33D/Gee6rKInoP5aLiHIAx+A/rkb+MVY86j8TBt9pCuzgPxBDdWroROM/WAljs6Da6z/5psodzi/iP94IkaMLBuc/DepCMlxN4z8a/V1dqE7nPxhaRmnw2ec/NsF4K/sc4j+byUeerbLiP9Jf0a/DSOg/UQ9OXHM75j8=",
        "encoding": "base64",
        "path": [
         "_data",
         1,
         "x",
         "value"
        ]
       },
       {
        "data": "W1pQhZJ17D9a/Jw93n7fP+i1AE/bJ+U/CeOO8seB5T9UIVbvVIjlP/MSfp9MYOk/YWEw5OqV4j9vjvTiq5frP34pYmErnOg/JwmWh+si6T86iSG/wLvpP+AZe2LoueQ/oky2XYDC6z8VMB/ILizmP31ENZuxbew/luBQ+fVw4T/VZFmTZU3mP2RCE/0qa+Y/m5fEvhcf3T9GRXYeekHoP3R5XCXJGe0/Iehdp+E33D/Gee6rKInoP5aLiHIAx+A/rkb+MVY86j8TBt9pCuzgPxBDdWroROM/WAljs6Da6z/5psodzi/iP94IkaMLBuc/DepCMlxN4z8a/V1dqE7nPxhaRmnw2ec/NsF4K/sc4j+byUeerbLiP9Jf0a/DSOg/UQ9OXHM75j8=",
        "encoding": "base64",
        "path": [
         "_data",
         2,
         "x",
         "value"
        ]
       },
       {
        "data": "AAAAAACAvz///////3/nP+NZRvQB1dE/AAAAAAAA5z/Cbn4LAaPkPxVQARVQAdU/6VCD3ZmM5j+KU7/nljjVP7IVQcNJ3dc/9onqQSPv3D/6j++FCMTMP1HrVwrU+uU/mJIpmZIp2T9e3MVd3MXdP+iiiy666OI/v9wQA9Kx5D8OePzhgMffP4v2m/JcAtk/GHqhF3qh5z/sPtwCCqPaPzP8l0DotdM/MwTraPM+5T8z/iMwPTjLP1VVVVVVVeU/1YGPuYn2zT9IgzRIgzToP3mFV3iFV9g/MQpR/UjY0T+yH/uxH/vhP0Qn7YNkQN0/eXh4eHh46D+/TTFq+NvkP0dY7mmE5c4/nYM1S4xP6T/A/HWW+hnQP0UXXXTRRdc/Ce0ltJfQ4j8=",
        "encoding": "base64",
        "path": [
         "_data",
         2,
         "y",
         "value"
        ]
       },
       {
        "data": "T0KGcHbH7j86EYT0pwfwPw==",
        "encoding": "base64",
        "path": [
         "_data",
         4,
         "x",
         "value"
        ]
       },
       {
        "data": "T0KGcHbH7j86EYT0pwfwPw==",
        "encoding": "base64",
        "path": [
         "_data",
         5,
         "x",
         "value"
        ]
       },
       {
        "data": "T0KGcHbH7j86EYT0pwfwPw==",
        "encoding": "base64",
        "path": [
         "_data",
         6,
         "x",
         "value"
        ]
       },
       {
        "data": "mPMp6AFctz9Gt/CrMZGOPw==",
        "encoding": "base64",
        "path": [
         "_data",
         6,
         "y",
         "value"
        ]
       },
       {
        "data": "5AmIzlf36D9emZpSNBjuPw==",
        "encoding": "base64",
        "path": [
         "_data",
         8,
         "x",
         "value"
        ]
       },
       {
        "data": "5AmIzlf36D9emZpSNBjuPw==",
        "encoding": "base64",
        "path": [
         "_data",
         9,
         "x",
         "value"
        ]
       },
       {
        "data": "5AmIzlf36D9emZpSNBjuPw==",
        "encoding": "base64",
        "path": [
         "_data",
         10,
         "x",
         "value"
        ]
       },
       {
        "data": "rLid02c/4D8e8DVNqh7gPw==",
        "encoding": "base64",
        "path": [
         "_data",
         10,
         "y",
         "value"
        ]
       },
       {
        "data": "+k0Z2ieF6z9n8Jvo6dzuP83MzMzMzOw/iSoyRzZm7j9XXkDVXgfpPx8Fm/+4E+4/kvh/CifL6j8A6oqXvM3kP0+KscuHWuQ/SHgHzFPJ7z8RvCr8pHPiPw==",
        "encoding": "base64",
        "path": [
         "_data",
         12,
         "x",
         "value"
        ]
       },
       {
        "data": "+k0Z2ieF6z9n8Jvo6dzuP83MzMzMzOw/iSoyRzZm7j9XXkDVXgfpPx8Fm/+4E+4/kvh/CifL6j8A6oqXvM3kP0+KscuHWuQ/SHgHzFPJ7z8RvCr8pHPiPw==",
        "encoding": "base64",
        "path": [
         "_data",
         13,
         "x",
         "value"
        ]
       },
       {
        "data": "+k0Z2ieF6z9n8Jvo6dzuP83MzMzMzOw/iSoyRzZm7j9XXkDVXgfpPx8Fm/+4E+4/kvh/CifL6j8A6oqXvM3kP0+KscuHWuQ/SHgHzFPJ7z8RvCr8pHPiPw==",
        "encoding": "base64",
        "path": [
         "_data",
         14,
         "x",
         "value"
        ]
       },
       {
        "data": "Ju+ND7gs4T8UO7ETO7HTP6jeOcE/89g/M8lF7VnLuT/UM5XrjhfbPyguGYJ1tMk/23eiGVIR2j8dz6mkgITfP/SuxWgy79o//P//////zD+BMYmD963hPw==",
        "encoding": "base64",
        "path": [
         "_data",
         14,
         "y",
         "value"
        ]
       },
       {
        "data": "exSuR+F6hD8Yl0Wb0e2eP/kRWkkZz6k/M6yI4qQTsj9pT2QgvT+3P5/yP17Va7w/68oNzvbLwD+HnPvsAmLDPyJu6QsP+MU/vT/XKhuOyD9YEcVJJyTLP/Tismgzus0/R1rQwx8o0D8VQ0fTJXPRP+MrvuIrvtI/sBQ18jEJ1D9+/asBOFTVP0zmIhE+n9Y/Gc+ZIETq1z/ntxAwSjXZP7Sghz9QgNo/gon+TlbL2z9QcnVeXBbdPx1b7G1iYd4/60NjfWis3z9cFm1Gt3vgP8OKKE46IeE/Kv/jVb3G4T+Rc59dQGziP/jnWmXDEeM/XlwWbUa34z/F0NF0yVzkPyxFjXxMAuU/k7lIhM+n5T/6LQSMUk3mP2Civ5PV8uY/xxZ7m1iY5z8uizaj2z3oP5X/8ape4+g//HOtsuGI6T9i6Gi6ZC7qP8lcJMLn0+o/MNHfyWp56z+XRZvR7R7sP/65VtlwxOw/ZS4S4fNp7T/Los3odg/uPzIXifD5tO4/mYtE+Hxa7z8AAAAAAADwPw==",
        "encoding": "base64",
        "path": [
         "_data",
         16,
         "x",
         "value"
        ]
       },
       {
        "data": "yQo2HoR0FkDv1oVR5rz9P5t7H1WT0fE/SlASCcVw6T9V2imC3MfjP10e1CRQLuA/GpiBwBNh2z+fr7Ze57nXP/OTw+vm7tQ/lyjxzIG60j8Y6UHmqvHQP9PLnHGg8M4/fEPMcLh2zD+XIL3qwlrKP927fy1Oicg/cUhYg+3zxj/yqYaws4/FPyxaqAYzVMQ/3reJftA6wz+RoaAITD7CP8j0ZudrWsE/oql4qr+LwD+f2WXg5p6/P9Cs8yhdRr4/hnltEfUJvT8RIN4uX+a7PxY6DwbM2Lo/0jiUx9TeuT9qHvHxaPa4Py4KOrC/Hbg/P6OdGUxTtz8/PhGus5W2P0M6qJTG47U/bAedPXk8tT8Aq90f3560P8lEMlomCrQ/arxVDJR9sz8UPqlFgfiyPwwxTm5YerI/ZwD1FJMCsj/oNfgPuJCxP1GXtuNZJLE/Oy/EYhW9sD+GQaN+kFqwPzA/xYLy+K8/kASt0wlFrz/sc2xK3piuP2hUk8Py860/TPUQbtRVrT+HLEXAGb6sPw==",
        "encoding": "base64",
        "path": [
         "_data",
         16,
         "y",
         "value"
        ]
       }
      ],
      "model_module": "jupyterlab-plotly",
      "model_module_version": "^5.1.0",
      "model_name": "FigureModel",
      "state": {
       "_config": {
        "plotlyServerURL": "https://plot.ly"
       },
       "_data": [
        {
         "legendgroup": "Mudstone",
         "marker": {
          "color": "Purple",
          "opacity": 0.3,
          "symbol": "circle"
         },
         "mode": "markers",
         "name": "Mudstone (pre-diagenesis)",
         "text": [
          "KC-2-1",
          "KC-2-2",
          "KC-2-2.5",
          "KC-2-3",
          "KC-2-3.5",
          "KC-2-4.5",
          "KC-2-5",
          "KC-2-6",
          "KC-2-6.5",
          "KC-2-7",
          "KC-2-8",
          "KC-2-9",
          "KC-2-10",
          "KC-2-11",
          "KC-2-12",
          "KC-2-13",
          "KC-2-14",
          "KC-2-14.5",
          "KC-2-15",
          "KC-2-15.5",
          "KC-2-16",
          "KC-2-17",
          "KC-2-18",
          "KC-2-19",
          "KC-2-20",
          "KC-2-21",
          "KC-2-21.5",
          "KC-2-22",
          "KC-2-23",
          "KC-2-24",
          "KC-2-25",
          "KC-2-25.5",
          "KC-2-26",
          "KC-2-26.5",
          "KC-2-27",
          "KC-2-28",
          "KC-2-29"
         ],
         "type": "scatter",
         "uid": "9ac0b785-71a0-4a4f-a1ee-c323778c2e4f",
         "x": {
          "dtype": "float64",
          "shape": [
           37
          ]
         },
         "y": [
          0.10265624999999999,
          0.41062499999999996,
          0.20061068702290075,
          0.20531249999999998,
          0.21453061224489792,
          0.13476923076923075,
          0.27233160621761654,
          0.1383157894736842,
          0.14847457627118643,
          0.15736526946107784,
          0.06249702734839476,
          0.26545454545454544,
          0.06417582417582417,
          0.19252747252747252,
          0.06636363636363636,
          0.3147305389221557,
          0.1812413793103448,
          0.1617230769230769,
          0.4043076923076923,
          0.14681564245810055,
          0.0975139146567718,
          0.4308196721311475,
          0.09237258347978909,
          0.3504,
          0.10792607802874742,
          0.3369230769230769,
          0.2246153846153846,
          0.110188679245283,
          0.2502857142857143,
          0.16122699386503067,
          0.2576470588235294,
          0.19466666666666663,
          0.13941644562334216,
          0.29694915254237286,
          0.11112050739957714,
          0.11945454545454544,
          0.2433333333333333
         ]
        },
        {
         "legendgroup": "Mudstone",
         "marker": {
          "color": "Green",
          "symbol": "circle"
         },
         "mode": "markers",
         "name": "Mudstone (modelled)",
         "text": [
          "KC-2-1",
          "KC-2-2",
          "KC-2-2.5",
          "KC-2-3",
          "KC-2-3.5",
          "KC-2-4.5",
          "KC-2-5",
          "KC-2-6",
          "KC-2-6.5",
          "KC-2-7",
          "KC-2-8",
          "KC-2-9",
          "KC-2-10",
          "KC-2-11",
          "KC-2-12",
          "KC-2-13",
          "KC-2-14",
          "KC-2-14.5",
          "KC-2-15",
          "KC-2-15.5",
          "KC-2-16",
          "KC-2-17",
          "KC-2-18",
          "KC-2-19",
          "KC-2-20",
          "KC-2-21",
          "KC-2-21.5",
          "KC-2-22",
          "KC-2-23",
          "KC-2-24",
          "KC-2-25",
          "KC-2-25.5",
          "KC-2-26",
          "KC-2-26.5",
          "KC-2-27",
          "KC-2-28",
          "KC-2-29"
         ],
         "type": "scatter",
         "uid": "5f6ae675-8351-46cb-bc19-de1e54bcc0f9",
         "x": {
          "dtype": "float64",
          "shape": [
           37
          ]
         },
         "y": [
          0.14407253526657243,
          0.5762901410662897,
          0.2815463284598667,
          0.28814507053314486,
          0.3010821961489187,
          0.18914137963201302,
          0.38220278785743567,
          0.19411878435917126,
          0.2083760962047601,
          0.22085370675594337,
          0.08771122242150425,
          0.3725512023054802,
          0.0900673236342919,
          0.27020197090287573,
          0.09313780057637006,
          0.44170741351188675,
          0.25436254502236233,
          0.22696965555841564,
          0.5674241388960392,
          0.20604787166615943,
          0.13685554370405395,
          0.6046322791515171,
          0.1296399614349474,
          0.49176758704323387,
          0.15146845596814185,
          0.4728534490800326,
          0.31523563272002175,
          0.1546438952966144,
          0.35126256217373847,
          0.2262734296211199,
          0.36159381400237783,
          0.2732042150240188,
          0.19566349617104795,
          0.4167521924095202,
          0.1559516660813638,
          0.16764804103746608,
          0.3415052687800235
         ]
        },
        {
         "legendgroup": "Mudstone",
         "marker": {
          "color": "Blue",
          "opacity": 0.3,
          "symbol": "circle"
         },
         "mode": "markers",
         "name": "Mudstone (post-diagenesis)",
         "text": [
          "KC-2-1",
          "KC-2-2",
          "KC-2-2.5",
          "KC-2-3",
          "KC-2-3.5",
          "KC-2-4.5",
          "KC-2-5",
          "KC-2-6",
          "KC-2-6.5",
          "KC-2-7",
          "KC-2-8",
          "KC-2-9",
          "KC-2-10",
          "KC-2-11",
          "KC-2-12",
          "KC-2-13",
          "KC-2-14",
          "KC-2-14.5",
          "KC-2-15",
          "KC-2-15.5",
          "KC-2-16",
          "KC-2-17",
          "KC-2-18",
          "KC-2-19",
          "KC-2-20",
          "KC-2-21",
          "KC-2-21.5",
          "KC-2-22",
          "KC-2-23",
          "KC-2-24",
          "KC-2-25",
          "KC-2-25.5",
          "KC-2-26",
          "KC-2-26.5",
          "KC-2-27",
          "KC-2-28",
          "KC-2-29"
         ],
         "type": "scatter",
         "uid": "a6090f19-3691-4c95-93c7-8dc782c641da",
         "x": {
          "dtype": "float64",
          "shape": [
           37
          ]
         },
         "y": {
          "dtype": "float64",
          "shape": [
           37
          ]
         }
        },
        {
         "legendgroup": "Mudstone",
         "marker": {
          "color": "FireBrick",
          "symbol": "circle"
         },
         "mode": "markers",
         "name": "Mudstone (residuals)",
         "text": [
          "KC-2-1",
          "KC-2-2",
          "KC-2-2.5",
          "KC-2-3",
          "KC-2-3.5",
          "KC-2-4.5",
          "KC-2-5",
          "KC-2-6",
          "KC-2-6.5",
          "KC-2-7",
          "KC-2-8",
          "KC-2-9",
          "KC-2-10",
          "KC-2-11",
          "KC-2-12",
          "KC-2-13",
          "KC-2-14",
          "KC-2-14.5",
          "KC-2-15",
          "KC-2-15.5",
          "KC-2-16",
          "KC-2-17",
          "KC-2-18",
          "KC-2-19",
          "KC-2-20",
          "KC-2-21",
          "KC-2-21.5",
          "KC-2-22",
          "KC-2-23",
          "KC-2-24",
          "KC-2-25",
          "KC-2-25.5",
          "KC-2-26",
          "KC-2-26.5",
          "KC-2-27",
          "KC-2-28",
          "KC-2-29"
         ],
         "type": "scatter",
         "uid": "fac47057-e448-4c5e-aae0-d2d361bd4884",
         "visible": false
        },
        {
         "legendgroup": "Carbonate",
         "marker": {
          "color": "Purple",
          "opacity": 0.3,
          "symbol": "star"
         },
         "mode": "markers",
         "name": "Carbonate (pre-diagenesis)",
         "text": [
          "KC-2-0",
          "KC-2-30"
         ],
         "type": "scatter",
         "uid": "afa99a95-41dd-4511-8ec4-785239311834",
         "x": {
          "dtype": "float64",
          "shape": [
           2
          ]
         },
         "y": [
          0.09787709497206704,
          0.1961194029850746
         ]
        },
        {
         "legendgroup": "Carbonate",
         "marker": {
          "color": "Green",
          "symbol": "star"
         },
         "mode": "markers",
         "name": "Carbonate (modelled)",
         "text": [
          "KC-2-0",
          "KC-2-30"
         ],
         "type": "scatter",
         "uid": "62666c9f-61b5-47f8-9527-60be1b0f7196",
         "x": {
          "dtype": "float64",
          "shape": [
           2
          ]
         },
         "y": [
          0.13736524777743964,
          0.2752430524495712
         ]
        },
        {
         "legendgroup": "Carbonate",
         "marker": {
          "color": "Blue",
          "opacity": 0.3,
          "symbol": "star"
         },
         "mode": "markers",
         "name": "Carbonate (post-diagenesis)",
         "text": [
          "KC-2-0",
          "KC-2-30"
         ],
         "type": "scatter",
         "uid": "23852fba-922f-49f6-a93c-d3626635d982",
         "x": {
          "dtype": "float64",
          "shape": [
           2
          ]
         },
         "y": {
          "dtype": "float64",
          "shape": [
           2
          ]
         }
        },
        {
         "legendgroup": "Carbonate",
         "marker": {
          "color": "FireBrick",
          "symbol": "star"
         },
         "mode": "markers",
         "name": "Carbonate (residuals)",
         "text": [
          "KC-2-0",
          "KC-2-30"
         ],
         "type": "scatter",
         "uid": "b8a4460b-ad83-455e-ac91-152c0f1fdec9",
         "visible": false
        },
        {
         "legendgroup": "Pervasively pyritised regions",
         "marker": {
          "color": "Purple",
          "opacity": 0.3,
          "symbol": "square"
         },
         "mode": "markers",
         "name": "Pervasively pyritised regions (pre-diagenesis)",
         "text": [
          "KC-2-6p",
          "KC-2-22p"
         ],
         "type": "scatter",
         "uid": "af8156ce-d0bb-4d1d-8c4c-b7906f50d1e7",
         "x": {
          "dtype": "float64",
          "shape": [
           2
          ]
         },
         "y": [
          0.16272445820433437,
          0.05621390374331551
         ]
        },
        {
         "legendgroup": "Pervasively pyritised regions",
         "marker": {
          "color": "Green",
          "symbol": "square"
         },
         "mode": "markers",
         "name": "Pervasively pyritised regions (modelled)",
         "text": [
          "KC-2-6p",
          "KC-2-22p"
         ],
         "type": "scatter",
         "uid": "a6fbffb0-9c9e-4c7b-afd4-13d14d726f23",
         "x": {
          "dtype": "float64",
          "shape": [
           2
          ]
         },
         "y": [
          0.22837504042255447,
          0.07889319578233699
         ]
        },
        {
         "legendgroup": "Pervasively pyritised regions",
         "marker": {
          "color": "Blue",
          "opacity": 0.3,
          "symbol": "square"
         },
         "mode": "markers",
         "name": "Pervasively pyritised regions (post-diagenesis)",
         "text": [
          "KC-2-6p",
          "KC-2-22p"
         ],
         "type": "scatter",
         "uid": "df8ece54-2500-47a3-880d-d82ac5f957a9",
         "x": {
          "dtype": "float64",
          "shape": [
           2
          ]
         },
         "y": {
          "dtype": "float64",
          "shape": [
           2
          ]
         }
        },
        {
         "legendgroup": "Pervasively pyritised regions",
         "marker": {
          "color": "FireBrick",
          "symbol": "square"
         },
         "mode": "markers",
         "name": "Pervasively pyritised regions (residuals)",
         "text": [
          "KC-2-6p",
          "KC-2-22p"
         ],
         "type": "scatter",
         "uid": "73c767a6-fd63-402b-a3d3-8c2a3798e7c3",
         "visible": false
        },
        {
         "legendgroup": "Bed 22",
         "marker": {
          "color": "Purple",
          "opacity": 0.3,
          "symbol": "diamond"
         },
         "mode": "markers",
         "name": "Bed 22 (pre-diagenesis)",
         "text": [
          "KC-3-A",
          "KC-3-B",
          "KC-3-C",
          "KC-3-D",
          "KC-3-E",
          "KC-3-F",
          "KC-3-G",
          "KC-3-H",
          "KC-3-I",
          "KC-3-J",
          "KC-3-K"
         ],
         "type": "scatter",
         "uid": "92f09124-634d-4f59-bb73-cdc8ec64945f",
         "x": {
          "dtype": "float64",
          "shape": [
           11
          ]
         },
         "y": [
          0.13306329113924048,
          0.10639676113360322,
          0.0503448275862069,
          0.03627329192546583,
          0.16122699386503067,
          0.1077049180327869,
          0.07112313937753721,
          0.26412060301507534,
          0.20293436293436293,
          0.08212499999999999,
          0.2903867403314917
         ]
        },
        {
         "legendgroup": "Bed 22",
         "marker": {
          "color": "Green",
          "symbol": "diamond"
         },
         "mode": "markers",
         "name": "Bed 22 (modelled)",
         "text": [
          "KC-3-A",
          "KC-3-B",
          "KC-3-C",
          "KC-3-D",
          "KC-3-E",
          "KC-3-F",
          "KC-3-G",
          "KC-3-H",
          "KC-3-I",
          "KC-3-J",
          "KC-3-K"
         ],
         "type": "scatter",
         "uid": "723dd1cd-f3c6-416e-b9b6-ca35d3dba30d",
         "x": {
          "dtype": "float64",
          "shape": [
           11
          ]
         },
         "y": [
          0.18674718495312678,
          0.14932214181474712,
          0.07065626250621176,
          0.0509076177063389,
          0.2262734296211199,
          0.1511580697878793,
          0.09981750751892433,
          0.3706790857109803,
          0.28480748284357177,
          0.11525802821325794,
          0.4075421992070999
         ]
        },
        {
         "legendgroup": "Bed 22",
         "marker": {
          "color": "Blue",
          "opacity": 0.3,
          "symbol": "diamond"
         },
         "mode": "markers",
         "name": "Bed 22 (post-diagenesis)",
         "text": [
          "KC-3-A",
          "KC-3-B",
          "KC-3-C",
          "KC-3-D",
          "KC-3-E",
          "KC-3-F",
          "KC-3-G",
          "KC-3-H",
          "KC-3-I",
          "KC-3-J",
          "KC-3-K"
         ],
         "type": "scatter",
         "uid": "7fbe576d-293d-452e-8861-ead0a7409b4e",
         "x": {
          "dtype": "float64",
          "shape": [
           11
          ]
         },
         "y": {
          "dtype": "float64",
          "shape": [
           11
          ]
         }
        },
        {
         "legendgroup": "Bed 22",
         "marker": {
          "color": "FireBrick",
          "symbol": "diamond"
         },
         "mode": "markers",
         "name": "Bed 22 (residuals)",
         "text": [
          "KC-3-A",
          "KC-3-B",
          "KC-3-C",
          "KC-3-D",
          "KC-3-E",
          "KC-3-F",
          "KC-3-G",
          "KC-3-H",
          "KC-3-I",
          "KC-3-J",
          "KC-3-K"
         ],
         "type": "scatter",
         "uid": "9c2e36b4-3032-4d81-822d-8e1389f9f1ff",
         "visible": false
        },
        {
         "line": {
          "color": "LightGreen"
         },
         "name": "model (const. total Fe)",
         "type": "scatter",
         "uid": "9f2c33be-3051-49c8-9842-fa70aa719641",
         "x": {
          "dtype": "float64",
          "shape": [
           50
          ]
         },
         "y": {
          "dtype": "float64",
          "shape": [
           50
          ]
         }
        }
       ],
       "_js2py_pointsCallback": {},
       "_js2py_relayout": {},
       "_js2py_restyle": {},
       "_js2py_update": {},
       "_last_layout_edit_id": 26,
       "_last_trace_edit_id": 22,
       "_layout": {
        "height": 600,
        "legend": {
         "font": {
          "size": 11
         }
        },
        "shapes": [
         {
          "line": {
           "dash": "dash",
           "width": 1
          },
          "type": "line",
          "x0": 0,
          "x1": 1,
          "xref": "x domain",
          "y0": 0.8,
          "y1": 0.8,
          "yref": "y"
         },
         {
          "line": {
           "dash": "dash",
           "width": 1
          },
          "type": "line",
          "x0": 0.38,
          "x1": 0.38,
          "xref": "x",
          "y0": 0,
          "y1": 1,
          "yref": "y domain"
         }
        ],
        "template": {
         "layout": {
          "bargap": 0.05,
          "bargroupgap": 0,
          "font": {
           "color": "black",
           "family": "Segoe UI",
           "size": 17
          },
          "height": 700,
          "hovermode": "closest",
          "margin": {
           "b": 60,
           "l": 90,
           "r": 30,
           "t": 30
          },
          "scene": {
           "xaxis": {
            "color": "black",
            "linewidth": 2,
            "showline": true,
            "ticks": "outside"
           },
           "yaxis": {
            "color": "black",
            "linewidth": 2,
            "showline": true,
            "ticks": "outside"
           },
           "zaxis": {
            "color": "black",
            "linewidth": 2,
            "showline": true,
            "ticks": "outside"
           }
          },
          "xaxis": {
           "color": "black",
           "linewidth": 1.3,
           "mirror": true,
           "showgrid": true,
           "showline": true,
           "ticks": "outside",
           "zeroline": true
          },
          "yaxis": {
           "color": "black",
           "linewidth": 1.3,
           "mirror": true,
           "showgrid": true,
           "showline": true,
           "ticks": "outside",
           "zeroline": true
          }
         }
        },
        "width": 900,
        "xaxis": {
         "range": [
          0,
          1
         ],
         "title": {
          "text": "[Fe<sub>HR</sub>]/[Fe<sub>tot</sub>]"
         }
        },
        "yaxis": {
         "range": [
          0,
          1
         ],
         "title": {
          "text": "[Fe<sub>py</sub>]/[Fe<sub>HR</sub>]"
         }
        }
       },
       "_py2js_animate": {},
       "_py2js_deleteTraces": {},
       "_py2js_moveTraces": {},
       "_py2js_removeLayoutProps": {},
       "_py2js_removeTraceProps": {},
       "_py2js_restyle": {},
       "_view_count": 1
      }
     },
     "32f4d25e1dfa4e78b9e595a8acbc6b1c": {
      "model_module": "@jupyter-widgets/controls",
      "model_module_version": "1.5.0",
      "model_name": "FloatSliderModel",
      "state": {
       "description": "k<sub>MSR</sub>",
       "layout": "IPY_MODEL_bee30cb94fc4495abeb8e31fab8ce76c",
       "max": 40,
       "step": 0.1,
       "style": "IPY_MODEL_8faf05191f8d4a6dbee0d91c97548966",
       "value": 10
      }
     },
     "33aa563529464caba3624ecbe0f0fdd5": {
      "model_module": "@jupyter-widgets/base",
      "model_module_version": "1.2.0",
      "model_name": "LayoutModel",
      "state": {}
     },
     "33ebad1615e94677bf72308e451f549c": {
      "model_module": "@jupyter-widgets/controls",
      "model_module_version": "1.5.0",
      "model_name": "HBoxModel",
      "state": {
       "children": [
        "IPY_MODEL_bc172829a6c84ac281f6f5ab9e78c2af",
        "IPY_MODEL_bce990f5384546278073d57abedaf202"
       ],
       "layout": "IPY_MODEL_5017ec83f620431ead0c6b0caed077ca"
      }
     },
     "349ba48eff5146b796e1330a7090d8ff": {
      "model_module": "@jupyter-widgets/base",
      "model_module_version": "1.2.0",
      "model_name": "LayoutModel",
      "state": {}
     },
     "351c4820da4d48b1911dd0f58647a388": {
      "model_module": "@jupyter-widgets/base",
      "model_module_version": "1.2.0",
      "model_name": "LayoutModel",
      "state": {
       "width": "100%"
      }
     },
     "3528cbb313a0471ab1a89b34b83f6d72": {
      "model_module": "@jupyter-widgets/controls",
      "model_module_version": "1.5.0",
      "model_name": "FloatSliderModel",
      "state": {
       "description": "v<sub>sed</sub>",
       "layout": "IPY_MODEL_fa6be286cb684c148b45e656dd9aaca4",
       "max": 0.5,
       "min": 0.001,
       "step": 0.001,
       "style": "IPY_MODEL_a1ec986b68154264859c3ec3778c763d",
       "value": 0.12
      }
     },
     "3628564776804ce0bc9224e0ae05f2b2": {
      "model_module": "@jupyter-widgets/controls",
      "model_module_version": "1.5.0",
      "model_name": "DescriptionStyleModel",
      "state": {
       "description_width": ""
      }
     },
     "389a97110c854d9989db1fdfa90beb9e": {
      "model_module": "@jupyter-widgets/controls",
      "model_module_version": "1.5.0",
      "model_name": "FloatSliderModel",
      "state": {
       "description": "Opacity",
       "layout": "IPY_MODEL_d1738f9819e7486f9be360da4e102f24",
       "max": 1,
       "step": 0.01,
       "style": "IPY_MODEL_519927fe60ac49d1960b1737a81119cd",
       "value": 0.7
      }
     },
     "38a1f0bf3c714925a890eea082a6324b": {
      "model_module": "@jupyter-widgets/controls",
      "model_module_version": "1.5.0",
      "model_name": "DescriptionStyleModel",
      "state": {
       "description_width": ""
      }
     },
     "38e6a4281c9342e786069bfad6010c3d": {
      "model_module": "@jupyter-widgets/base",
      "model_module_version": "1.2.0",
      "model_name": "LayoutModel",
      "state": {}
     },
     "391e19efc8cb4d2cb5ed14915dd687f3": {
      "model_module": "@jupyter-widgets/controls",
      "model_module_version": "1.5.0",
      "model_name": "SliderStyleModel",
      "state": {
       "description_width": ""
      }
     },
     "3b1f9294ef564eb09d81c1d6dc1e7a27": {
      "model_module": "@jupyter-widgets/base",
      "model_module_version": "1.2.0",
      "model_name": "LayoutModel",
      "state": {
       "width": "100%"
      }
     },
     "3b992a0088b845a2ad6b83c80e65846e": {
      "model_module": "@jupyter-widgets/controls",
      "model_module_version": "1.5.0",
      "model_name": "SliderStyleModel",
      "state": {
       "description_width": ""
      }
     },
     "3cd28565128b4406b584a92486d94805": {
      "model_module": "@jupyter-widgets/controls",
      "model_module_version": "1.5.0",
      "model_name": "HBoxModel",
      "state": {
       "children": [
        "IPY_MODEL_fd0f3328159c439cbec3a0334bf74917",
        "IPY_MODEL_947a7a728e2543e98da5060908a80cfe"
       ],
       "layout": "IPY_MODEL_38e6a4281c9342e786069bfad6010c3d"
      }
     },
     "3e630f7de8d7429f8a53208ba405dfa4": {
      "model_module": "@jupyter-widgets/controls",
      "model_module_version": "1.5.0",
      "model_name": "SliderStyleModel",
      "state": {
       "description_width": ""
      }
     },
     "3facd274374c49ba898dbe89e5bc4570": {
      "model_module": "@jupyter-widgets/base",
      "model_module_version": "1.2.0",
      "model_name": "LayoutModel",
      "state": {}
     },
     "3fc40f6b16ee4402ba2ce9a9f605d58e": {
      "model_module": "@jupyter-widgets/controls",
      "model_module_version": "1.5.0",
      "model_name": "SliderStyleModel",
      "state": {
       "description_width": ""
      }
     },
     "403b5a34a15a47b69d1ed857fff7f412": {
      "model_module": "@jupyter-widgets/controls",
      "model_module_version": "1.5.0",
      "model_name": "SliderStyleModel",
      "state": {
       "description_width": ""
      }
     },
     "4083b4fccc6f417cb9c64e4861a6e506": {
      "model_module": "@jupyter-widgets/controls",
      "model_module_version": "1.5.0",
      "model_name": "FloatSliderModel",
      "state": {
       "description": "[Fe<sub>tot</sub>]",
       "layout": "IPY_MODEL_322cbdad95554372a4feddb653a7296f",
       "max": 15,
       "step": 0.1,
       "style": "IPY_MODEL_4d22d21ccd2a497489a103bcba2a0646",
       "value": 4
      }
     },
     "40980d3dbc494b8cb00e3b5decd67e95": {
      "model_module": "@jupyter-widgets/base",
      "model_module_version": "1.2.0",
      "model_name": "LayoutModel",
      "state": {}
     },
     "4280d701acb146a2826feef4141dcb88": {
      "model_module": "@jupyter-widgets/controls",
      "model_module_version": "1.5.0",
      "model_name": "SliderStyleModel",
      "state": {
       "description_width": ""
      }
     },
     "434d1a630d7b49b9b956bf916d59ea5f": {
      "model_module": "@jupyter-widgets/controls",
      "model_module_version": "1.5.0",
      "model_name": "HBoxModel",
      "state": {
       "children": [
        "IPY_MODEL_d88406c67b28470b81c6cdbeffe3adbf",
        "IPY_MODEL_d27d83d9a6704271b59964ce26b8a71d"
       ],
       "layout": "IPY_MODEL_c999844bcb2d44a4aa4217a59af556b4"
      }
     },
     "43cbb36b541c4e81acf4b664cc6b86e1": {
      "model_module": "@jupyter-widgets/controls",
      "model_module_version": "1.5.0",
      "model_name": "FloatRangeSliderModel",
      "state": {
       "_model_name": "FloatRangeSliderModel",
       "_view_name": "FloatRangeSliderView",
       "continuous_update": false,
       "description": "ε<sub>MSR</sub>",
       "layout": "IPY_MODEL_68f426b6cc8141978d40c2ce418535e3",
       "style": "IPY_MODEL_17452fc2b6cc44e8beb04647f5a3e322",
       "value": [
        40,
        55
       ]
      }
     },
     "45b8ebdea06d4275b17eeadbc37c01ab": {
      "model_module": "@jupyter-widgets/output",
      "model_module_version": "1.0.0",
      "model_name": "OutputModel",
      "state": {
       "layout": "IPY_MODEL_349ba48eff5146b796e1330a7090d8ff"
      }
     },
     "468b33eeed534e98bd1f8f6a368d4fcb": {
      "model_module": "@jupyter-widgets/base",
      "model_module_version": "1.2.0",
      "model_name": "LayoutModel",
      "state": {
       "width": "100%"
      }
     },
     "47142c8a245545c897bbf1b75f1cbe32": {
      "model_module": "@jupyter-widgets/base",
      "model_module_version": "1.2.0",
      "model_name": "LayoutModel",
      "state": {
       "width": "100%"
      }
     },
     "480e54c1f1db4ee8861d7e599a506f36": {
      "model_module": "@jupyter-widgets/controls",
      "model_module_version": "1.5.0",
      "model_name": "FloatRangeSliderModel",
      "state": {
       "_model_name": "FloatRangeSliderModel",
       "_view_name": "FloatRangeSliderView",
       "continuous_update": false,
       "description": "[SO<sub>4</sub>]<sub>0</sub>",
       "layout": "IPY_MODEL_fabaa6deafa947c1bfb7546ecd877863",
       "max": 0.3,
       "min": 0.001,
       "step": 0.001,
       "style": "IPY_MODEL_cbf7dba812404b6fa6c68dba5fde3472",
       "value": [
        0.008,
        0.013
       ]
      }
     },
     "4876067b98bf4af597cb645b98f830d1": {
      "model_module": "@jupyter-widgets/controls",
      "model_module_version": "1.5.0",
      "model_name": "FloatSliderModel",
      "state": {
       "description": "D<sub>32</sub>",
       "layout": "IPY_MODEL_56ea29c8be5c4d8fa084f549a82b3aa4",
       "max": 0.3,
       "min": 0.001,
       "step": 0.001,
       "style": "IPY_MODEL_082fae6d826844c9b83e1610c9836a96",
       "value": 0.2
      }
     },
     "4a568a0c72b741f4909effa18a430176": {
      "model_module": "@jupyter-widgets/controls",
      "model_module_version": "1.5.0",
      "model_name": "SliderStyleModel",
      "state": {
       "description_width": ""
      }
     },
     "4a8571f60db9424f9126918d6d480ef4": {
      "model_module": "@jupyter-widgets/controls",
      "model_module_version": "1.5.0",
      "model_name": "SliderStyleModel",
      "state": {
       "description_width": ""
      }
     },
     "4b3a876018274801a0ceead35246b71b": {
      "model_module": "@jupyter-widgets/base",
      "model_module_version": "1.2.0",
      "model_name": "LayoutModel",
      "state": {
       "width": "100%"
      }
     },
     "4b4cc2acfa294e18bb6178c0f5a5a648": {
      "model_module": "@jupyter-widgets/controls",
      "model_module_version": "1.5.0",
      "model_name": "VBoxModel",
      "state": {
       "children": [
        "IPY_MODEL_f7ebfd9839aa4a4c929fdf4ec6f467f2",
        "IPY_MODEL_3262b336a7184b7a9867d56735cc58c4"
       ],
       "layout": "IPY_MODEL_e32a9b23d2a54c8291d3f9d2aa4d51c8"
      }
     },
     "4cfbe57fb643426cb9f98b186fb43551": {
      "model_module": "@jupyter-widgets/base",
      "model_module_version": "1.2.0",
      "model_name": "LayoutModel",
      "state": {}
     },
     "4d22d21ccd2a497489a103bcba2a0646": {
      "model_module": "@jupyter-widgets/controls",
      "model_module_version": "1.5.0",
      "model_name": "SliderStyleModel",
      "state": {
       "description_width": ""
      }
     },
     "4dd84801d0224cad8850ea2a48239709": {
      "model_module": "@jupyter-widgets/controls",
      "model_module_version": "1.5.0",
      "model_name": "IntSliderModel",
      "state": {
       "description": "№ of Trials",
       "layout": "IPY_MODEL_14b7c42eb65841369c59dbbc3e2fa6e7",
       "max": 1000,
       "min": 1,
       "style": "IPY_MODEL_88a7656adba14e19b6a81c5cce845f4b",
       "value": 400
      }
     },
     "4df18ca4f2a74e5584746acc680322c8": {
      "model_module": "@jupyter-widgets/controls",
      "model_module_version": "1.5.0",
      "model_name": "DropdownModel",
      "state": {
       "_options_labels": [
        "SO4_0",
        "py_0",
        "d34S_SO4_0",
        "epsilon_MSR",
        "k_MSR",
        "v",
        "D_32",
        "beta",
        "max_z",
        "dz"
       ],
       "description": "Vary",
       "index": 5,
       "layout": "IPY_MODEL_acddcbb66ac343029809f7106e66d6f4",
       "style": "IPY_MODEL_fcb1acd299d94cce97a2b80f01328dde"
      }
     },
     "4e46f4135efa4c6ea45fe29c49cf5ff2": {
      "model_module": "@jupyter-widgets/controls",
      "model_module_version": "1.5.0",
      "model_name": "FloatSliderModel",
      "state": {
       "description": "β",
       "layout": "IPY_MODEL_88f92255f89a4d04ad3c016fb07159bf",
       "max": 0.05,
       "step": 0.001,
       "style": "IPY_MODEL_fe0e6f891e9e4332b2d2fce77225c116",
       "value": 0.025
      }
     },
     "4e8cf5bc956148abaa29cb019db11038": {
      "model_module": "@jupyter-widgets/controls",
      "model_module_version": "1.5.0",
      "model_name": "SliderStyleModel",
      "state": {
       "description_width": ""
      }
     },
     "4e900d89cdee44cb801eba5db698e42d": {
      "model_module": "@jupyter-widgets/base",
      "model_module_version": "1.2.0",
      "model_name": "LayoutModel",
      "state": {
       "width": "100%"
      }
     },
     "4f739447fdc34506b4ef34abce62af2b": {
      "model_module": "@jupyter-widgets/controls",
      "model_module_version": "1.5.0",
      "model_name": "DropdownModel",
      "state": {
       "_options_labels": [
        "SO4_0",
        "py_0",
        "d34S_SO4_0",
        "epsilon_MSR",
        "k_MSR",
        "v",
        "D_32",
        "beta"
       ],
       "description": "Colour",
       "index": 5,
       "layout": "IPY_MODEL_ee44379d604049d386f8aefddd07c3c0",
       "style": "IPY_MODEL_16e6eca637904ee1acd0bdffc2d52cfa"
      }
     },
     "5017ec83f620431ead0c6b0caed077ca": {
      "model_module": "@jupyter-widgets/base",
      "model_module_version": "1.2.0",
      "model_name": "LayoutModel",
      "state": {}
     },
     "503d90c70ad74b48998e66b7771a7954": {
      "model_module": "@jupyter-widgets/controls",
      "model_module_version": "1.5.0",
      "model_name": "CheckboxModel",
      "state": {
       "description": "Plot syn-depositional pyrite",
       "disabled": false,
       "layout": "IPY_MODEL_65898d29c52f488d91b28972fc941a74",
       "style": "IPY_MODEL_5d97ab73fee246f692dad8ea9550f60a",
       "value": true
      }
     },
     "51969346e9d84094befa067f7ded5920": {
      "model_module": "@jupyter-widgets/controls",
      "model_module_version": "1.5.0",
      "model_name": "SliderStyleModel",
      "state": {
       "description_width": ""
      }
     },
     "519927fe60ac49d1960b1737a81119cd": {
      "model_module": "@jupyter-widgets/controls",
      "model_module_version": "1.5.0",
      "model_name": "SliderStyleModel",
      "state": {
       "description_width": ""
      }
     },
     "5258e14ec8444819b5e6f655e16710ac": {
      "model_module": "@jupyter-widgets/base",
      "model_module_version": "1.2.0",
      "model_name": "LayoutModel",
      "state": {}
     },
     "52766da4d1ee41678cb355ea4c14d0bc": {
      "model_module": "@jupyter-widgets/controls",
      "model_module_version": "1.5.0",
      "model_name": "HBoxModel",
      "state": {
       "children": [
        "IPY_MODEL_e8a406794caf476da0f081758c0cac70",
        "IPY_MODEL_685380fabd3e4ca0b3149a6c6b5f4750"
       ],
       "layout": "IPY_MODEL_95afaff29e734cb39304bed71a670c06"
      }
     },
     "52c8e385f6f14ddcb6582fb49c5382b4": {
      "model_module": "@jupyter-widgets/controls",
      "model_module_version": "1.5.0",
      "model_name": "SliderStyleModel",
      "state": {
       "description_width": ""
      }
     },
     "52d9e3f3b64b42d1b49c72ed30ae19db": {
      "model_module": "@jupyter-widgets/controls",
      "model_module_version": "1.5.0",
      "model_name": "FloatSliderModel",
      "state": {
       "description": "β",
       "layout": "IPY_MODEL_ca499448f43344e490c7e4573fe46ea9",
       "max": 0.05,
       "step": 0.001,
       "style": "IPY_MODEL_57f3f0cba0d54792b42fdbc64f732116",
       "value": 0.025
      }
     },
     "52e0976a0bf04664861e8cffa3def791": {
      "model_module": "@jupyter-widgets/controls",
      "model_module_version": "1.5.0",
      "model_name": "FloatRangeSliderModel",
      "state": {
       "_model_name": "FloatRangeSliderModel",
       "_view_name": "FloatRangeSliderView",
       "description": "k<sub>MSR</sub>",
       "layout": "IPY_MODEL_1631250af5fd4b0ba57fad0d9492596d",
       "max": 40,
       "step": 0.1,
       "style": "IPY_MODEL_17558d7a13f04e80b58cb86e9845c02b",
       "value": [
        5,
        15
       ]
      }
     },
     "52e29eea962c4a51a957c1681ff3f9f6": {
      "model_module": "@jupyter-widgets/controls",
      "model_module_version": "1.5.0",
      "model_name": "HBoxModel",
      "state": {
       "children": [
        "IPY_MODEL_23d7ed24fad04a74a027f5c5be94d6e3",
        "IPY_MODEL_32f4d25e1dfa4e78b9e595a8acbc6b1c"
       ],
       "layout": "IPY_MODEL_fac3806d2a9d4562a0a9e7a561474e2a"
      }
     },
     "535a4c7360444f33987ea6a8f7e74586": {
      "model_module": "@jupyter-widgets/controls",
      "model_module_version": "1.5.0",
      "model_name": "SliderStyleModel",
      "state": {
       "description_width": ""
      }
     },
     "53e917377fbc4724a753cf9676d3d4ef": {
      "model_module": "@jupyter-widgets/base",
      "model_module_version": "1.2.0",
      "model_name": "LayoutModel",
      "state": {}
     },
     "55be746e2ec144a5b589e2c575e2aab4": {
      "model_module": "@jupyter-widgets/controls",
      "model_module_version": "1.5.0",
      "model_name": "SliderStyleModel",
      "state": {
       "description_width": ""
      }
     },
     "56dd167d8d9545168a2bda83cc73b8f0": {
      "model_module": "@jupyter-widgets/controls",
      "model_module_version": "1.5.0",
      "model_name": "SliderStyleModel",
      "state": {
       "description_width": ""
      }
     },
     "56ea29c8be5c4d8fa084f549a82b3aa4": {
      "model_module": "@jupyter-widgets/base",
      "model_module_version": "1.2.0",
      "model_name": "LayoutModel",
      "state": {
       "width": "100%"
      }
     },
     "570f4dc8d63644408220c4a6b5448cb1": {
      "model_module": "@jupyter-widgets/controls",
      "model_module_version": "1.5.0",
      "model_name": "VBoxModel",
      "state": {
       "children": [
        "IPY_MODEL_b59df69ed43b4d4f8db0f6ab5aaae21f",
        "IPY_MODEL_5d439c777fb741afa043fde9fc771ac1",
        "IPY_MODEL_77c5a427de5a4c6fa8b0006fc5cc68ba",
        "IPY_MODEL_bf4cbd3d0af947dcae72a8d80b418471",
        "IPY_MODEL_d13a9b7617e34f76ba7863fd627aaa78",
        "IPY_MODEL_0fde57db58544c529efb0c626b3b65d9",
        "IPY_MODEL_0c1328df0d5c44cc9f46068eb48197f0"
       ],
       "layout": "IPY_MODEL_7a5c5e65b62d42dd9f341442ffe6cacd"
      }
     },
     "57f3f0cba0d54792b42fdbc64f732116": {
      "model_module": "@jupyter-widgets/controls",
      "model_module_version": "1.5.0",
      "model_name": "SliderStyleModel",
      "state": {
       "description_width": ""
      }
     },
     "58c279d22c4045c39feb29202f2a70b1": {
      "model_module": "@jupyter-widgets/controls",
      "model_module_version": "1.5.0",
      "model_name": "SliderStyleModel",
      "state": {
       "description_width": ""
      }
     },
     "59de8da5bcab406b951d7afc14f3b071": {
      "model_module": "@jupyter-widgets/base",
      "model_module_version": "1.2.0",
      "model_name": "LayoutModel",
      "state": {}
     },
     "5adeb56fb8e9428ab073007c24282782": {
      "model_module": "@jupyter-widgets/output",
      "model_module_version": "1.0.0",
      "model_name": "OutputModel",
      "state": {
       "layout": "IPY_MODEL_ae889783c32c496282cf82c2d28cd427"
      }
     },
     "5b8ae1aff2b542158cdfb121cb780e38": {
      "model_module": "@jupyter-widgets/base",
      "model_module_version": "1.2.0",
      "model_name": "LayoutModel",
      "state": {}
     },
     "5ba891174db64020aea47d8acbf39f57": {
      "model_module": "@jupyter-widgets/base",
      "model_module_version": "1.2.0",
      "model_name": "LayoutModel",
      "state": {
       "width": "100%"
      }
     },
     "5bd31334d784497fa4054c378f4cd669": {
      "model_module": "@jupyter-widgets/controls",
      "model_module_version": "1.5.0",
      "model_name": "SliderStyleModel",
      "state": {
       "description_width": ""
      }
     },
     "5d439c777fb741afa043fde9fc771ac1": {
      "model_module": "@jupyter-widgets/controls",
      "model_module_version": "1.5.0",
      "model_name": "HBoxModel",
      "state": {
       "children": [
        "IPY_MODEL_b727bc8bafb144fdaea3af4ef038595f",
        "IPY_MODEL_c4b4d08892ee49cea80f2bc3f344ea6f"
       ],
       "layout": "IPY_MODEL_33aa563529464caba3624ecbe0f0fdd5"
      }
     },
     "5d5fa3a3c2c54e54a58ce52b782caf0b": {
      "model_module": "@jupyter-widgets/base",
      "model_module_version": "1.2.0",
      "model_name": "LayoutModel",
      "state": {
       "width": "100%"
      }
     },
     "5d6f4416ef1a4e85b74bdd17b33619a8": {
      "model_module": "@jupyter-widgets/controls",
      "model_module_version": "1.5.0",
      "model_name": "FloatRangeSliderModel",
      "state": {
       "_model_name": "FloatRangeSliderModel",
       "_view_name": "FloatRangeSliderView",
       "description": "D<sub>32</sub>",
       "layout": "IPY_MODEL_67e42e3622594c8ba70c52732ae32c56",
       "max": 0.3,
       "min": 0.001,
       "step": 0.001,
       "style": "IPY_MODEL_06dcb525994e429cb65298f93fcab304",
       "value": [
        0.1,
        0.3
       ]
      }
     },
     "5d97ab73fee246f692dad8ea9550f60a": {
      "model_module": "@jupyter-widgets/controls",
      "model_module_version": "1.5.0",
      "model_name": "DescriptionStyleModel",
      "state": {
       "description_width": ""
      }
     },
     "5d9ff45b34644cc6bcb810585de4b16c": {
      "buffers": [
       {
        "data": "xYgRI0aMyD8EJRGURFDSPx3HcRzHccw/yR4he4Ts4T+E7BGyR8jePwGPATwG8Ng/8afBnwZ/2j/FiBEjRozYP3mb4W2Gt9k/s9bJWidr3T+TJk2aNGniP/GnwZ8Gf9o/3/V51+dd7z/ii4kvJr7YP7ds2bJly/Y/qFChQoUK1T/hwIEDBw7cP+KLiS8mvtg/QCsBrQS00j920NlBZwfdP7oC6QqkK+A//vjx48ePzz8vebnk5ZLXP7g34d6Ee9M/XGNxjcU11j/Ub1G/Rf3WP28VuVXkVtE/lp5Zembp2T/Ub1G/Rf3WP3bQ2UFnB90/SeYhmYdk3j9REkFJBCXhP6sbqW6kutE/aLSh0YZG2z/zcsnLJS/XP8LyAcsHLN8/4ouJLya+2D8=",
        "encoding": "base64",
        "path": [
         "_data",
         0,
         "x",
         "value"
        ]
       },
       {
        "data": "Rwd4wKP9NcDE/ACOXgkwwMIuJT+MjyrA/jMJIdu/L8BUmBt0ZCcywDKRuNYj7DLAP1PtOgpRNMB4L4ehp1EuwKu1c0F4mzTAUHW0UVYANsAGJ7EOl7gmwFFBx24I4jPAj9E3cp7+I8CEuSjx9+UywAQFkeNMMhbA2TVfjqU7MMDVZnrukJwywH+jqudgGyzAqPZymVzMNMAJO9kXTeI0wDalBdnBcjXAwoQpRBDLNMBCT3jre2A4wI4TYoJFczPALO/3XeG7NMDgYpUCNDczwOHG4xE5UTTAzsaJukrVLsDwGDRs5AY2wNgFvnI7yTbAGoYfg/CcNcB/hirdR4o1wNmKIT+GOjPAc77WsPMGOcA0gtMIOBQ2wOUGKnLaIzXAGR4S+eZWL8A=",
        "encoding": "base64",
        "path": [
         "_data",
         0,
         "y",
         "value"
        ]
       },
       {
        "data": "fDHxxcQXwz8BjwE8BvCIPw==",
        "encoding": "base64",
        "path": [
         "_data",
         1,
         "x",
         "value"
        ]
       },
       {
        "data": "cLVTVzbTM8AAAAAAAAD4fw==",
        "encoding": "base64",
        "path": [
         "_data",
         1,
         "y",
         "value"
        ]
       },
       {
        "data": "OP/h/Ifz3z8MbzO8zfD2Pw==",
        "encoding": "base64",
        "path": [
         "_data",
         2,
         "x",
         "value"
        ]
       },
       {
        "data": "ovup9wEPLcCl/yfjkHwdwA==",
        "encoding": "base64",
        "path": [
         "_data",
         2,
         "y",
         "value"
        ]
       },
       {
        "data": "bEqxKcWm5D/R2UFnB53dPy09s/TM0vM/HcdxHMdx3D8srrG4xuLaP3wx8cXEF9M/I9WNVDdS7T98MfHFxBfTP8dTGU9lPNU//sP5D+c/3D+4N+HehHvTPw==",
        "encoding": "base64",
        "path": [
         "_data",
         3,
         "x",
         "value"
        ]
       },
       {
        "data": "LXRyTCwKLcCYbbVBaekpwIDQerKveiDAKCD9rhZYI8BeyxW7L38wwNQynejnmCrAhEeFPsdBIsDGEL3bpnUxwJyLhhnAnzTAegDWAACoI8ARyWyzaP8wwA==",
        "encoding": "base64",
        "path": [
         "_data",
         3,
         "y",
         "value"
        ]
       },
       {
        "data": "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",
        "encoding": "base64",
        "path": [
         "_data",
         4,
         "marker",
         "color",
         "value"
        ]
       },
       {
        "data": "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",
        "encoding": "base64",
        "path": [
         "_data",
         4,
         "x",
         "value"
        ]
       },
       {
        "data": "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",
        "encoding": "base64",
        "path": [
         "_data",
         4,
         "y",
         "value"
        ]
       }
      ],
      "model_module": "jupyterlab-plotly",
      "model_module_version": "^5.1.0",
      "model_name": "FigureModel",
      "state": {
       "_config": {
        "plotlyServerURL": "https://plot.ly"
       },
       "_data": [
        {
         "marker": {
          "color": "Blue",
          "opacity": 0.3,
          "symbol": "circle"
         },
         "mode": "markers",
         "name": "Mudstone",
         "text": [
          "KC-2-1",
          "KC-2-2",
          "KC-2-2.5",
          "KC-2-3",
          "KC-2-3.5",
          "KC-2-4.5",
          "KC-2-5",
          "KC-2-6",
          "KC-2-6.5",
          "KC-2-7",
          "KC-2-8",
          "KC-2-9",
          "KC-2-10",
          "KC-2-11",
          "KC-2-12",
          "KC-2-13",
          "KC-2-14",
          "KC-2-14.5",
          "KC-2-15",
          "KC-2-15.5",
          "KC-2-16",
          "KC-2-17",
          "KC-2-18",
          "KC-2-19",
          "KC-2-20",
          "KC-2-21",
          "KC-2-21.5",
          "KC-2-22",
          "KC-2-23",
          "KC-2-24",
          "KC-2-25",
          "KC-2-25.5",
          "KC-2-26",
          "KC-2-26.5",
          "KC-2-27",
          "KC-2-28",
          "KC-2-29"
         ],
         "type": "scatter",
         "uid": "7ced5e60-40b2-4c68-9da5-898950865671",
         "x": {
          "dtype": "float64",
          "shape": [
           37
          ]
         },
         "y": {
          "dtype": "float64",
          "shape": [
           37
          ]
         }
        },
        {
         "marker": {
          "color": "Blue",
          "opacity": 0.3,
          "symbol": "star"
         },
         "mode": "markers",
         "name": "Carbonate",
         "text": [
          "KC-2-0",
          "KC-2-30"
         ],
         "type": "scatter",
         "uid": "d2fea971-86b1-4411-b966-27ef9d14561d",
         "x": {
          "dtype": "float64",
          "shape": [
           2
          ]
         },
         "y": {
          "dtype": "float64",
          "shape": [
           2
          ]
         }
        },
        {
         "marker": {
          "color": "Blue",
          "opacity": 0.3,
          "symbol": "square"
         },
         "mode": "markers",
         "name": "Pervasively pyritised regions",
         "text": [
          "KC-2-6p",
          "KC-2-22p"
         ],
         "type": "scatter",
         "uid": "a31eeaa2-ea2d-40b3-a7b8-2478a46518d3",
         "x": {
          "dtype": "float64",
          "shape": [
           2
          ]
         },
         "y": {
          "dtype": "float64",
          "shape": [
           2
          ]
         }
        },
        {
         "marker": {
          "color": "Blue",
          "opacity": 0.3,
          "symbol": "diamond"
         },
         "mode": "markers",
         "name": "Bed 22",
         "text": [
          "KC-3-A",
          "KC-3-B",
          "KC-3-C",
          "KC-3-D",
          "KC-3-E",
          "KC-3-F",
          "KC-3-G",
          "KC-3-H",
          "KC-3-I",
          "KC-3-J",
          "KC-3-K"
         ],
         "type": "scatter",
         "uid": "7e93b4c5-0bab-4926-bb68-63620d66abbf",
         "x": {
          "dtype": "float64",
          "shape": [
           11
          ]
         },
         "y": {
          "dtype": "float64",
          "shape": [
           11
          ]
         }
        },
        {
         "marker": {
          "color": {
           "dtype": "float64",
           "shape": [
            400
           ]
          },
          "coloraxis": "coloraxis",
          "line": {
           "color": "Black",
           "width": 1
          },
          "opacity": 0.7,
          "size": 8
         },
         "mode": "markers",
         "name": "Trials",
         "text": [
          "0",
          "1",
          "2",
          "3",
          "4",
          "5",
          "6",
          "7",
          "8",
          "9",
          "10",
          "11",
          "12",
          "13",
          "14",
          "15",
          "16",
          "17",
          "18",
          "19",
          "20",
          "21",
          "22",
          "23",
          "24",
          "25",
          "26",
          "27",
          "28",
          "29",
          "30",
          "31",
          "32",
          "33",
          "34",
          "35",
          "36",
          "37",
          "38",
          "39",
          "40",
          "41",
          "42",
          "43",
          "44",
          "45",
          "46",
          "47",
          "48",
          "49",
          "50",
          "51",
          "52",
          "53",
          "54",
          "55",
          "56",
          "57",
          "58",
          "59",
          "60",
          "61",
          "62",
          "63",
          "64",
          "65",
          "66",
          "67",
          "68",
          "69",
          "70",
          "71",
          "72",
          "73",
          "74",
          "75",
          "76",
          "77",
          "78",
          "79",
          "80",
          "81",
          "82",
          "83",
          "84",
          "85",
          "86",
          "87",
          "88",
          "89",
          "90",
          "91",
          "92",
          "93",
          "94",
          "95",
          "96",
          "97",
          "98",
          "99",
          "100",
          "101",
          "102",
          "103",
          "104",
          "105",
          "106",
          "107",
          "108",
          "109",
          "110",
          "111",
          "112",
          "113",
          "114",
          "115",
          "116",
          "117",
          "118",
          "119",
          "120",
          "121",
          "122",
          "123",
          "124",
          "125",
          "126",
          "127",
          "128",
          "129",
          "130",
          "131",
          "132",
          "133",
          "134",
          "135",
          "136",
          "137",
          "138",
          "139",
          "140",
          "141",
          "142",
          "143",
          "144",
          "145",
          "146",
          "147",
          "148",
          "149",
          "150",
          "151",
          "152",
          "153",
          "154",
          "155",
          "156",
          "157",
          "158",
          "159",
          "160",
          "161",
          "162",
          "163",
          "164",
          "165",
          "166",
          "167",
          "168",
          "169",
          "170",
          "171",
          "172",
          "173",
          "174",
          "175",
          "176",
          "177",
          "178",
          "179",
          "180",
          "181",
          "182",
          "183",
          "184",
          "185",
          "186",
          "187",
          "188",
          "189",
          "190",
          "191",
          "192",
          "193",
          "194",
          "195",
          "196",
          "197",
          "198",
          "199",
          "200",
          "201",
          "202",
          "203",
          "204",
          "205",
          "206",
          "207",
          "208",
          "209",
          "210",
          "211",
          "212",
          "213",
          "214",
          "215",
          "216",
          "217",
          "218",
          "219",
          "220",
          "221",
          "222",
          "223",
          "224",
          "225",
          "226",
          "227",
          "228",
          "229",
          "230",
          "231",
          "232",
          "233",
          "234",
          "235",
          "236",
          "237",
          "238",
          "239",
          "240",
          "241",
          "242",
          "243",
          "244",
          "245",
          "246",
          "247",
          "248",
          "249",
          "250",
          "251",
          "252",
          "253",
          "254",
          "255",
          "256",
          "257",
          "258",
          "259",
          "260",
          "261",
          "262",
          "263",
          "264",
          "265",
          "266",
          "267",
          "268",
          "269",
          "270",
          "271",
          "272",
          "273",
          "274",
          "275",
          "276",
          "277",
          "278",
          "279",
          "280",
          "281",
          "282",
          "283",
          "284",
          "285",
          "286",
          "287",
          "288",
          "289",
          "290",
          "291",
          "292",
          "293",
          "294",
          "295",
          "296",
          "297",
          "298",
          "299",
          "300",
          "301",
          "302",
          "303",
          "304",
          "305",
          "306",
          "307",
          "308",
          "309",
          "310",
          "311",
          "312",
          "313",
          "314",
          "315",
          "316",
          "317",
          "318",
          "319",
          "320",
          "321",
          "322",
          "323",
          "324",
          "325",
          "326",
          "327",
          "328",
          "329",
          "330",
          "331",
          "332",
          "333",
          "334",
          "335",
          "336",
          "337",
          "338",
          "339",
          "340",
          "341",
          "342",
          "343",
          "344",
          "345",
          "346",
          "347",
          "348",
          "349",
          "350",
          "351",
          "352",
          "353",
          "354",
          "355",
          "356",
          "357",
          "358",
          "359",
          "360",
          "361",
          "362",
          "363",
          "364",
          "365",
          "366",
          "367",
          "368",
          "369",
          "370",
          "371",
          "372",
          "373",
          "374",
          "375",
          "376",
          "377",
          "378",
          "379",
          "380",
          "381",
          "382",
          "383",
          "384",
          "385",
          "386",
          "387",
          "388",
          "389",
          "390",
          "391",
          "392",
          "393",
          "394",
          "395",
          "396",
          "397",
          "398",
          "399"
         ],
         "type": "scatter",
         "uid": "12ba56da-3785-4763-8619-ac2c404e7ae1",
         "x": {
          "dtype": "float64",
          "shape": [
           400
          ]
         },
         "y": {
          "dtype": "float64",
          "shape": [
           400
          ]
         }
        }
       ],
       "_js2py_pointsCallback": {},
       "_js2py_relayout": {},
       "_js2py_restyle": {},
       "_js2py_update": {},
       "_last_layout_edit_id": 10,
       "_last_trace_edit_id": 9,
       "_layout": {
        "coloraxis": {
         "colorbar": {
          "ticks": "outside",
          "title": {
           "text": "v<sub>sed</sub>"
          }
         },
         "colorscale": [
          [
           0,
           "#fde725"
          ],
          [
           0.1111111111111111,
           "#b5de2b"
          ],
          [
           0.2222222222222222,
           "#6ece58"
          ],
          [
           0.3333333333333333,
           "#35b779"
          ],
          [
           0.4444444444444444,
           "#1f9e89"
          ],
          [
           0.5555555555555556,
           "#26828e"
          ],
          [
           0.6666666666666666,
           "#31688e"
          ],
          [
           0.7777777777777778,
           "#3e4989"
          ],
          [
           0.8888888888888888,
           "#482878"
          ],
          [
           1,
           "#440154"
          ]
         ]
        },
        "height": 600,
        "legend": {
         "x": 1.2,
         "xanchor": "left",
         "y": 1,
         "yanchor": "top"
        },
        "margin": {
         "l": 100
        },
        "template": {
         "layout": {
          "bargap": 0.05,
          "bargroupgap": 0,
          "font": {
           "color": "black",
           "family": "Segoe UI",
           "size": 17
          },
          "height": 700,
          "hovermode": "closest",
          "margin": {
           "b": 60,
           "l": 90,
           "r": 30,
           "t": 30
          },
          "scene": {
           "xaxis": {
            "color": "black",
            "linewidth": 2,
            "showline": true,
            "ticks": "outside"
           },
           "yaxis": {
            "color": "black",
            "linewidth": 2,
            "showline": true,
            "ticks": "outside"
           },
           "zaxis": {
            "color": "black",
            "linewidth": 2,
            "showline": true,
            "ticks": "outside"
           }
          },
          "xaxis": {
           "color": "black",
           "linewidth": 1.3,
           "mirror": true,
           "showgrid": true,
           "showline": true,
           "ticks": "outside",
           "zeroline": true
          },
          "yaxis": {
           "color": "black",
           "linewidth": 1.3,
           "mirror": true,
           "showgrid": true,
           "showline": true,
           "ticks": "outside",
           "zeroline": true
          }
         }
        },
        "width": 1000,
        "xaxis": {
         "rangemode": "tozero",
         "title": {
          "text": "[FeS<sub>2</sub>] / mol dm<sup>−3</sup>"
         }
        },
        "yaxis": {
         "title": {
          "text": "δ<sup>34</sup>S<sub>py</sub> (‰)"
         }
        }
       },
       "_py2js_animate": {},
       "_py2js_deleteTraces": {},
       "_py2js_moveTraces": {},
       "_py2js_removeLayoutProps": {},
       "_py2js_removeTraceProps": {},
       "_view_count": 0
      }
     },
     "5e7e11a4d30c49f6b91e70275f8ee5b6": {
      "model_module": "@jupyter-widgets/base",
      "model_module_version": "1.2.0",
      "model_name": "LayoutModel",
      "state": {
       "width": "100%"
      }
     },
     "5ec5bb5e2313469c86344110b83b4356": {
      "model_module": "@jupyter-widgets/controls",
      "model_module_version": "1.5.0",
      "model_name": "SliderStyleModel",
      "state": {
       "description_width": ""
      }
     },
     "5ee214336ff04c61bdef01cc524507fe": {
      "model_module": "@jupyter-widgets/base",
      "model_module_version": "1.2.0",
      "model_name": "LayoutModel",
      "state": {
       "width": "100%"
      }
     },
     "5efb0d1d0581419aa235e0f6fd49db5b": {
      "model_module": "@jupyter-widgets/controls",
      "model_module_version": "1.5.0",
      "model_name": "HBoxModel",
      "state": {
       "children": [
        "IPY_MODEL_f5576518c3ad44f9afe5c18339b68417",
        "IPY_MODEL_52e0976a0bf04664861e8cffa3def791"
       ],
       "layout": "IPY_MODEL_879bfb0a3ec14a898bae8e97e6ca2010"
      }
     },
     "5f27cec100354ab7877560645817ec84": {
      "model_module": "@jupyter-widgets/base",
      "model_module_version": "1.2.0",
      "model_name": "LayoutModel",
      "state": {}
     },
     "60d0adc4135d4a3ebaa19213827515fa": {
      "model_module": "@jupyter-widgets/controls",
      "model_module_version": "1.5.0",
      "model_name": "CheckboxModel",
      "state": {
       "description": "Plot time on y axis",
       "disabled": false,
       "layout": "IPY_MODEL_2e49f6d965394ac6a02eacd89218e5fa",
       "style": "IPY_MODEL_3628564776804ce0bc9224e0ae05f2b2",
       "value": false
      }
     },
     "61e33a66d5794977863e99ab41a40521": {
      "model_module": "@jupyter-widgets/controls",
      "model_module_version": "1.5.0",
      "model_name": "HBoxModel",
      "state": {
       "children": [
        "IPY_MODEL_0b6faf5d137f4713885fff0aec122d11",
        "IPY_MODEL_05e2e0926c9b4a2590f4bf8494d0e074"
       ],
       "layout": "IPY_MODEL_9104d8b771ec4b08a4d8f0b638206a4c"
      }
     },
     "61f8f2318caf417a90329e7b832f40d1": {
      "model_module": "@jupyter-widgets/controls",
      "model_module_version": "1.5.0",
      "model_name": "FloatSliderModel",
      "state": {
       "description": "z<sub>max</sub>",
       "layout": "IPY_MODEL_898d5eea922a4a838744627b2ec72afb",
       "max": 10,
       "min": 0.01,
       "step": 0.01,
       "style": "IPY_MODEL_1c5bb265a5b54cc79e3c2da2124ff263",
       "value": 1.5
      }
     },
     "62476cd7b703488fae2695683f3ee2cd": {
      "model_module": "@jupyter-widgets/base",
      "model_module_version": "1.2.0",
      "model_name": "LayoutModel",
      "state": {
       "width": "100%"
      }
     },
     "6286b91deab04c5cbc6f5833ccacd475": {
      "model_module": "@jupyter-widgets/base",
      "model_module_version": "1.2.0",
      "model_name": "LayoutModel",
      "state": {
       "width": "100%"
      }
     },
     "62b62a1cc86d46efa1291fa927ed1911": {
      "model_module": "@jupyter-widgets/base",
      "model_module_version": "1.2.0",
      "model_name": "LayoutModel",
      "state": {}
     },
     "63eee0f99a1f4e96a3f50ec93e2997ef": {
      "model_module": "@jupyter-widgets/controls",
      "model_module_version": "1.5.0",
      "model_name": "SliderStyleModel",
      "state": {
       "description_width": ""
      }
     },
     "6437323f199347f6ba862e1ca6bad11b": {
      "model_module": "@jupyter-widgets/controls",
      "model_module_version": "1.5.0",
      "model_name": "FloatSliderModel",
      "state": {
       "description": "ε<sub>MSR</sub>",
       "layout": "IPY_MODEL_468b33eeed534e98bd1f8f6a368d4fcb",
       "style": "IPY_MODEL_51969346e9d84094befa067f7ded5920",
       "value": 55
      }
     },
     "64a18888d88f4b799ee9876dcba07058": {
      "model_module": "@jupyter-widgets/controls",
      "model_module_version": "1.5.0",
      "model_name": "FloatRangeSliderModel",
      "state": {
       "_model_name": "FloatRangeSliderModel",
       "_view_name": "FloatRangeSliderView",
       "continuous_update": false,
       "description": "δ<sup>34</sup>S<sub>SO4, 0</sub>",
       "layout": "IPY_MODEL_4b3a876018274801a0ceead35246b71b",
       "max": 30,
       "step": 0.1,
       "style": "IPY_MODEL_4e8cf5bc956148abaa29cb019db11038",
       "value": [
        15.2,
        18
       ]
      }
     },
     "64e59f1464874b6c9acbfa87a4ec9629": {
      "model_module": "@jupyter-widgets/base",
      "model_module_version": "1.2.0",
      "model_name": "LayoutModel",
      "state": {
       "width": "100%"
      }
     },
     "65898d29c52f488d91b28972fc941a74": {
      "model_module": "@jupyter-widgets/base",
      "model_module_version": "1.2.0",
      "model_name": "LayoutModel",
      "state": {}
     },
     "65b4faa803b0424b83531cf044c353a2": {
      "model_module": "@jupyter-widgets/controls",
      "model_module_version": "1.5.0",
      "model_name": "SliderStyleModel",
      "state": {
       "description_width": ""
      }
     },
     "65d5372b89f94e26bc368e8af775a7b3": {
      "model_module": "@jupyter-widgets/base",
      "model_module_version": "1.2.0",
      "model_name": "LayoutModel",
      "state": {
       "width": "100%"
      }
     },
     "66432ef4614f48879a8d60eacd0fa3a9": {
      "model_module": "@jupyter-widgets/base",
      "model_module_version": "1.2.0",
      "model_name": "LayoutModel",
      "state": {}
     },
     "669f9a84d96e4dfa8cf4b62671f46d7c": {
      "model_module": "@jupyter-widgets/base",
      "model_module_version": "1.2.0",
      "model_name": "LayoutModel",
      "state": {}
     },
     "66d314d3b94c4550a6299624f24e803f": {
      "model_module": "@jupyter-widgets/output",
      "model_module_version": "1.0.0",
      "model_name": "OutputModel",
      "state": {
       "layout": "IPY_MODEL_f76cba79a50347abba77e28d7888eb18"
      }
     },
     "6792e4b05ed4446386303712dd2c370a": {
      "model_module": "@jupyter-widgets/controls",
      "model_module_version": "1.5.0",
      "model_name": "HBoxModel",
      "state": {
       "children": [
        "IPY_MODEL_4dd84801d0224cad8850ea2a48239709"
       ],
       "layout": "IPY_MODEL_e64831c9a5f149d9b58d37fcecd7fcba"
      }
     },
     "67a9242ecc394517a21bb80e2e6b6861": {
      "model_module": "@jupyter-widgets/controls",
      "model_module_version": "1.5.0",
      "model_name": "SliderStyleModel",
      "state": {
       "description_width": ""
      }
     },
     "67e42e3622594c8ba70c52732ae32c56": {
      "model_module": "@jupyter-widgets/base",
      "model_module_version": "1.2.0",
      "model_name": "LayoutModel",
      "state": {
       "width": "100%"
      }
     },
     "685380fabd3e4ca0b3149a6c6b5f4750": {
      "model_module": "@jupyter-widgets/controls",
      "model_module_version": "1.5.0",
      "model_name": "FloatRangeSliderModel",
      "state": {
       "_model_name": "FloatRangeSliderModel",
       "_view_name": "FloatRangeSliderView",
       "description": "δ<sup>34</sup>S<sub>SO4, 0</sub>",
       "layout": "IPY_MODEL_dea86611eaf144bca07e25b9a89df82e",
       "max": 30,
       "step": 0.1,
       "style": "IPY_MODEL_bcc64b4d30404fa495d15a9797d74bb6",
       "value": [
        17,
        18
       ]
      }
     },
     "68739f269ceb482e88e2c864715259f1": {
      "model_module": "@jupyter-widgets/base",
      "model_module_version": "1.2.0",
      "model_name": "LayoutModel",
      "state": {}
     },
     "688f283707d44d69a8b49d4a746eee99": {
      "model_module": "@jupyter-widgets/controls",
      "model_module_version": "1.5.0",
      "model_name": "SliderStyleModel",
      "state": {
       "description_width": ""
      }
     },
     "68ae9fea5f5b4f25835bae5da6ba5131": {
      "model_module": "@jupyter-widgets/controls",
      "model_module_version": "1.5.0",
      "model_name": "HBoxModel",
      "state": {
       "children": [
        "IPY_MODEL_1f7596d7a68a43c4acb39248f2e7e0cc",
        "IPY_MODEL_3528cbb313a0471ab1a89b34b83f6d72"
       ],
       "layout": "IPY_MODEL_c4b79f0cee744fcb954c92214fe5d683"
      }
     },
     "68f426b6cc8141978d40c2ce418535e3": {
      "model_module": "@jupyter-widgets/base",
      "model_module_version": "1.2.0",
      "model_name": "LayoutModel",
      "state": {
       "width": "100%"
      }
     },
     "6b060ac38d2249a098212893249cfc44": {
      "model_module": "@jupyter-widgets/controls",
      "model_module_version": "1.5.0",
      "model_name": "HBoxModel",
      "state": {
       "children": [
        "IPY_MODEL_61f8f2318caf417a90329e7b832f40d1",
        "IPY_MODEL_e8fc1f6b6cfe4ff496be73e779a554de"
       ],
       "layout": "IPY_MODEL_270d2ce52da34acda2dcbacb36c62b4e"
      }
     },
     "6c6e8ad4afd843e4bfb5f9985f4d9725": {
      "model_module": "@jupyter-widgets/base",
      "model_module_version": "1.2.0",
      "model_name": "LayoutModel",
      "state": {}
     },
     "6d55bc27c10a4d418e34a58457312466": {
      "model_module": "@jupyter-widgets/controls",
      "model_module_version": "1.5.0",
      "model_name": "FloatRangeSliderModel",
      "state": {
       "_model_name": "FloatRangeSliderModel",
       "_view_name": "FloatRangeSliderView",
       "continuous_update": false,
       "description": "D<sub>32</sub>",
       "layout": "IPY_MODEL_5ee214336ff04c61bdef01cc524507fe",
       "max": 0.3,
       "min": 0.001,
       "step": 0.001,
       "style": "IPY_MODEL_27ab5bcb283447cc8e68f5f98c29967c",
       "value": [
        0.1,
        0.3
       ]
      }
     },
     "6ee579a6a95c4f809040f6c1ec8273ab": {
      "model_module": "@jupyter-widgets/controls",
      "model_module_version": "1.5.0",
      "model_name": "SliderStyleModel",
      "state": {
       "description_width": ""
      }
     },
     "70e2a8540fa248e8822c397c51023636": {
      "model_module": "@jupyter-widgets/controls",
      "model_module_version": "1.5.0",
      "model_name": "FloatSliderModel",
      "state": {
       "description": "ε<sub>MSR</sub>",
       "layout": "IPY_MODEL_ba6e7b6c4d6246deb3254bf51b8fc48a",
       "style": "IPY_MODEL_4280d701acb146a2826feef4141dcb88",
       "value": 54
      }
     },
     "711020e1ef6e4438b3d490a7182be270": {
      "model_module": "@jupyter-widgets/controls",
      "model_module_version": "1.5.0",
      "model_name": "SliderStyleModel",
      "state": {
       "description_width": ""
      }
     },
     "723f470709524a47ac9ff7a0f8e7159d": {
      "model_module": "@jupyter-widgets/base",
      "model_module_version": "1.2.0",
      "model_name": "LayoutModel",
      "state": {
       "width": "100%"
      }
     },
     "735b678dd13546898b3221b1b0b306a1": {
      "model_module": "@jupyter-widgets/controls",
      "model_module_version": "1.5.0",
      "model_name": "FloatSliderModel",
      "state": {
       "description": "β",
       "layout": "IPY_MODEL_d3898cdda853426884f39b197a10150d",
       "max": 0.05,
       "step": 0.001,
       "style": "IPY_MODEL_9b539c69050447cc86269e356dd7ae9d",
       "value": 0.025
      }
     },
     "736f44c843a640daa9e5b7009a1baafd": {
      "model_module": "@jupyter-widgets/controls",
      "model_module_version": "1.5.0",
      "model_name": "FloatSliderModel",
      "state": {
       "description": "[SO<sub>4</sub>]<sub>0</sub>",
       "layout": "IPY_MODEL_cf62209fc3894548bbde8bbd4b82ba95",
       "max": 0.3,
       "min": 0.001,
       "step": 0.001,
       "style": "IPY_MODEL_403b5a34a15a47b69d1ed857fff7f412",
       "value": 0.0105
      }
     },
     "739cb15913354529b481e1120565e883": {
      "model_module": "@jupyter-widgets/base",
      "model_module_version": "1.2.0",
      "model_name": "LayoutModel",
      "state": {
       "width": "100%"
      }
     },
     "74706c30ff5a4445b440d0773534be5d": {
      "model_module": "@jupyter-widgets/controls",
      "model_module_version": "1.5.0",
      "model_name": "FloatSliderModel",
      "state": {
       "description": "dz",
       "layout": "IPY_MODEL_8516804a046e4bdaa35dcecfb651abc1",
       "max": 0.1,
       "min": 0.001,
       "step": 0.001,
       "style": "IPY_MODEL_ee3694a9e4e44fed8146fd32c91b26b0",
       "value": 0.01
      }
     },
     "74ffbafb802947ecbe99d72e5cf9abe8": {
      "model_module": "@jupyter-widgets/base",
      "model_module_version": "1.2.0",
      "model_name": "LayoutModel",
      "state": {}
     },
     "7529b8bca84d4b8e8cd277e97dff9873": {
      "model_module": "@jupyter-widgets/controls",
      "model_module_version": "1.5.0",
      "model_name": "SliderStyleModel",
      "state": {
       "description_width": ""
      }
     },
     "75d966ef22794ea1ae4ff8c3633d2d0b": {
      "model_module": "@jupyter-widgets/controls",
      "model_module_version": "1.5.0",
      "model_name": "SliderStyleModel",
      "state": {
       "description_width": ""
      }
     },
     "75fb268b32f2457894a9a1e1cbcd0a1b": {
      "model_module": "@jupyter-widgets/base",
      "model_module_version": "1.2.0",
      "model_name": "LayoutModel",
      "state": {}
     },
     "76170b3a332d44569b2dd3db7c80bb6c": {
      "model_module": "@jupyter-widgets/controls",
      "model_module_version": "1.5.0",
      "model_name": "SliderStyleModel",
      "state": {
       "description_width": ""
      }
     },
     "762ee65b2eec4a16af947af2c6f9e3eb": {
      "model_module": "@jupyter-widgets/controls",
      "model_module_version": "1.5.0",
      "model_name": "HBoxModel",
      "state": {
       "children": [
        "IPY_MODEL_ff24b859e11b4f6683ba5571270c7cd9",
        "IPY_MODEL_293ca9ce792e40ae89b142b07d3803ca",
        "IPY_MODEL_d0379d9937584c119af21464f07dd08f"
       ],
       "layout": "IPY_MODEL_1f811b9f0f2947a7b4e300537bd44f48"
      }
     },
     "77c5a427de5a4c6fa8b0006fc5cc68ba": {
      "model_module": "@jupyter-widgets/controls",
      "model_module_version": "1.5.0",
      "model_name": "HBoxModel",
      "state": {
       "children": [
        "IPY_MODEL_6437323f199347f6ba862e1ca6bad11b",
        "IPY_MODEL_e76abaf92207464eaf6ecabe9842bdb2"
       ],
       "layout": "IPY_MODEL_e5b6905f0a1e477ab8b8a08db1469b85"
      }
     },
     "782a4cdfc2f14a4c9c7859842816c91d": {
      "model_module": "@jupyter-widgets/base",
      "model_module_version": "1.2.0",
      "model_name": "LayoutModel",
      "state": {
       "width": "100%"
      }
     },
     "7837827093194a15b96f9db0153903f6": {
      "model_module": "@jupyter-widgets/controls",
      "model_module_version": "1.5.0",
      "model_name": "FloatTextModel",
      "state": {
       "description": "to",
       "layout": "IPY_MODEL_acddcbb66ac343029809f7106e66d6f4",
       "step": 0.1,
       "style": "IPY_MODEL_a36b0511c79841a989f047443e630f74",
       "value": 0.2
      }
     },
     "7a5c5e65b62d42dd9f341442ffe6cacd": {
      "model_module": "@jupyter-widgets/base",
      "model_module_version": "1.2.0",
      "model_name": "LayoutModel",
      "state": {}
     },
     "7b139ab5097648588f7960ac69392aa5": {
      "model_module": "@jupyter-widgets/controls",
      "model_module_version": "1.5.0",
      "model_name": "HBoxModel",
      "state": {
       "children": [
        "IPY_MODEL_be75c176e64e43efa59cb762fd8fe3ac"
       ],
       "layout": "IPY_MODEL_f7d60bcfeede44f1885204cfe57f738e"
      }
     },
     "7bd93be2687c4d5196e2b1c5e4891e40": {
      "model_module": "@jupyter-widgets/controls",
      "model_module_version": "1.5.0",
      "model_name": "SliderStyleModel",
      "state": {
       "description_width": ""
      }
     },
     "7c2a31471c9d48fc9cca380e978dc213": {
      "model_module": "@jupyter-widgets/controls",
      "model_module_version": "1.5.0",
      "model_name": "FloatSliderModel",
      "state": {
       "description": "dz",
       "layout": "IPY_MODEL_351c4820da4d48b1911dd0f58647a388",
       "max": 0.1,
       "min": 0.001,
       "step": 0.001,
       "style": "IPY_MODEL_a7dd4ac54ba94a94998d7627a382da12",
       "value": 0.01
      }
     },
     "7c4afbd27735418587185195bb8612a5": {
      "model_module": "@jupyter-widgets/base",
      "model_module_version": "1.2.0",
      "model_name": "LayoutModel",
      "state": {
       "width": "100%"
      }
     },
     "7eca52f9420b4dfca0dccddcd399ba15": {
      "model_module": "@jupyter-widgets/controls",
      "model_module_version": "1.5.0",
      "model_name": "FloatSliderModel",
      "state": {
       "description": "D<sub>32</sub>",
       "layout": "IPY_MODEL_6286b91deab04c5cbc6f5833ccacd475",
       "max": 0.3,
       "min": 0.001,
       "step": 0.001,
       "style": "IPY_MODEL_98d5f5ea609f4976b9c919fee637f844",
       "value": 0.2
      }
     },
     "7eccdd038add44d0b9be8c5ab7ace7e8": {
      "model_module": "@jupyter-widgets/controls",
      "model_module_version": "1.5.0",
      "model_name": "FloatSliderModel",
      "state": {
       "description": "z<sub>max</sub>",
       "layout": "IPY_MODEL_62476cd7b703488fae2695683f3ee2cd",
       "max": 10,
       "min": 0.01,
       "step": 0.01,
       "style": "IPY_MODEL_3e630f7de8d7429f8a53208ba405dfa4",
       "value": 1.5
      }
     },
     "7f1a15c0580b4d46b8c65f8bb72012e7": {
      "model_module": "@jupyter-widgets/base",
      "model_module_version": "1.2.0",
      "model_name": "LayoutModel",
      "state": {}
     },
     "7f652d5372de49c7a2ed1bf6d975efd7": {
      "model_module": "@jupyter-widgets/controls",
      "model_module_version": "1.5.0",
      "model_name": "SliderStyleModel",
      "state": {
       "description_width": ""
      }
     },
     "804e34db9c3b460d9ca890cf7c958ebb": {
      "model_module": "@jupyter-widgets/base",
      "model_module_version": "1.2.0",
      "model_name": "LayoutModel",
      "state": {
       "width": "100%"
      }
     },
     "806519a2a92f45109c533d4d6ddbc15e": {
      "model_module": "@jupyter-widgets/controls",
      "model_module_version": "1.5.0",
      "model_name": "SliderStyleModel",
      "state": {
       "description_width": ""
      }
     },
     "80cecc227c15459e8d7994903d635044": {
      "model_module": "@jupyter-widgets/controls",
      "model_module_version": "1.5.0",
      "model_name": "VBoxModel",
      "state": {
       "children": [
        "IPY_MODEL_adc7562a442c4ecf837431c52ab65c8d",
        "IPY_MODEL_ffab5834e54f4af68306f618a6b728b8",
        "IPY_MODEL_61e33a66d5794977863e99ab41a40521",
        "IPY_MODEL_d1644203990741268bad5f0b6c2ff79e",
        "IPY_MODEL_8a1f850e26784b218442d24e75c812a8",
        "IPY_MODEL_9020563e01ad412d8b35e54a47ae2915",
        "IPY_MODEL_e696c38a03f24223b724c7f244c166bf"
       ],
       "layout": "IPY_MODEL_b8797e5298464a3693b596bc6acdc4ae"
      }
     },
     "8100abbefe834ff49e5961328cdcd1e5": {
      "model_module": "@jupyter-widgets/base",
      "model_module_version": "1.2.0",
      "model_name": "LayoutModel",
      "state": {}
     },
     "820203eceb5e4d7b96bf79f7ea63781d": {
      "model_module": "@jupyter-widgets/controls",
      "model_module_version": "1.5.0",
      "model_name": "FloatRangeSliderModel",
      "state": {
       "_model_name": "FloatRangeSliderModel",
       "_view_name": "FloatRangeSliderView",
       "continuous_update": false,
       "description": "k<sub>MSR</sub>",
       "layout": "IPY_MODEL_f474336d781c423687ca2c4a9e6d8812",
       "max": 40,
       "step": 0.1,
       "style": "IPY_MODEL_8f9c4a65bf6142739e0689a41aa37731",
       "value": [
        5,
        15
       ]
      }
     },
     "82eaa2870748433399c1ba46a2b3ab57": {
      "model_module": "@jupyter-widgets/controls",
      "model_module_version": "1.5.0",
      "model_name": "FloatRangeSliderModel",
      "state": {
       "_model_name": "FloatRangeSliderModel",
       "_view_name": "FloatRangeSliderView",
       "continuous_update": false,
       "description": "[SO<sub>4</sub>]<sub>0</sub>",
       "layout": "IPY_MODEL_2603e9823861484297a6cc3b06c00eee",
       "max": 0.3,
       "min": 0.001,
       "step": 0.001,
       "style": "IPY_MODEL_b21503f9b6bc42bc9526a3da6bb15c89",
       "value": [
        0.008,
        0.013
       ]
      }
     },
     "831c5f5b6d0748e99706cc0fdc26a44e": {
      "model_module": "@jupyter-widgets/base",
      "model_module_version": "1.2.0",
      "model_name": "LayoutModel",
      "state": {
       "width": "200px"
      }
     },
     "8332ce721d1949e98965716d47c09b2c": {
      "model_module": "@jupyter-widgets/controls",
      "model_module_version": "1.5.0",
      "model_name": "SliderStyleModel",
      "state": {
       "description_width": ""
      }
     },
     "83a07654f0f94c748d6aa841f21fcbf8": {
      "model_module": "@jupyter-widgets/controls",
      "model_module_version": "1.5.0",
      "model_name": "HBoxModel",
      "state": {
       "children": [
        "IPY_MODEL_736f44c843a640daa9e5b7009a1baafd",
        "IPY_MODEL_003c71ef25c4429a9efba4e0f8868682"
       ],
       "layout": "IPY_MODEL_68739f269ceb482e88e2c864715259f1"
      }
     },
     "83c7380e5fe94b35af0b042f63518544": {
      "model_module": "@jupyter-widgets/base",
      "model_module_version": "1.2.0",
      "model_name": "LayoutModel",
      "state": {
       "width": "100%"
      }
     },
     "849d1773e9f34203bf617a2013e4e4e7": {
      "model_module": "@jupyter-widgets/controls",
      "model_module_version": "1.5.0",
      "model_name": "HBoxModel",
      "state": {
       "children": [
        "IPY_MODEL_bdeb5ffda79847a5b33570353847ce19",
        "IPY_MODEL_d14132cebf26435781f6041446461ab8"
       ],
       "layout": "IPY_MODEL_158bc843e4a84bfb8b8e15b2c2a5aa0d"
      }
     },
     "8516804a046e4bdaa35dcecfb651abc1": {
      "model_module": "@jupyter-widgets/base",
      "model_module_version": "1.2.0",
      "model_name": "LayoutModel",
      "state": {
       "width": "100%"
      }
     },
     "875ab3019b6b4410853c0afe6ea539c0": {
      "model_module": "@jupyter-widgets/base",
      "model_module_version": "1.2.0",
      "model_name": "LayoutModel",
      "state": {
       "width": "100%"
      }
     },
     "879bfb0a3ec14a898bae8e97e6ca2010": {
      "model_module": "@jupyter-widgets/base",
      "model_module_version": "1.2.0",
      "model_name": "LayoutModel",
      "state": {}
     },
     "88a7656adba14e19b6a81c5cce845f4b": {
      "model_module": "@jupyter-widgets/controls",
      "model_module_version": "1.5.0",
      "model_name": "SliderStyleModel",
      "state": {
       "description_width": ""
      }
     },
     "88e53b4287fc4b65abf50391b870a609": {
      "model_module": "@jupyter-widgets/base",
      "model_module_version": "1.2.0",
      "model_name": "LayoutModel",
      "state": {}
     },
     "88f92255f89a4d04ad3c016fb07159bf": {
      "model_module": "@jupyter-widgets/base",
      "model_module_version": "1.2.0",
      "model_name": "LayoutModel",
      "state": {
       "width": "100%"
      }
     },
     "89463ee4b1a6469bbbfdb645711ef0aa": {
      "model_module": "@jupyter-widgets/base",
      "model_module_version": "1.2.0",
      "model_name": "LayoutModel",
      "state": {
       "width": "100%"
      }
     },
     "898c9b6119fb4748b4f29f865f05b17e": {
      "model_module": "@jupyter-widgets/controls",
      "model_module_version": "1.5.0",
      "model_name": "FloatSliderModel",
      "state": {
       "description": "δ<sup>34</sup>S<sub>SO4, 0</sub>",
       "layout": "IPY_MODEL_9cd9829306f140b0985a3584a4da374d",
       "max": 30,
       "step": 0.1,
       "style": "IPY_MODEL_ac7429173e384503ad597398880950bf",
       "value": 24
      }
     },
     "898d5eea922a4a838744627b2ec72afb": {
      "model_module": "@jupyter-widgets/base",
      "model_module_version": "1.2.0",
      "model_name": "LayoutModel",
      "state": {
       "width": "100%"
      }
     },
     "89b0c092e7c148e8aba36061ca7694dd": {
      "model_module": "@jupyter-widgets/controls",
      "model_module_version": "1.5.0",
      "model_name": "FloatSliderModel",
      "state": {
       "description": "[SO<sub>4</sub>]<sub>0</sub>",
       "layout": "IPY_MODEL_8b6b46e91b5f44a89e883d96a9e8fd0e",
       "max": 0.3,
       "min": 0.001,
       "step": 0.001,
       "style": "IPY_MODEL_30600c97f1b649d0ae8d83b681a8705e",
       "value": 0.009
      }
     },
     "8a1f850e26784b218442d24e75c812a8": {
      "model_module": "@jupyter-widgets/controls",
      "model_module_version": "1.5.0",
      "model_name": "HBoxModel",
      "state": {
       "children": [
        "IPY_MODEL_8d75b6d2bbe341f98049ea4a308fdaff",
        "IPY_MODEL_24f3e4bbcc104a43bec09cae3344ffe3"
       ],
       "layout": "IPY_MODEL_fd3b3d1afb3845e1bc5437bd58c92529"
      }
     },
     "8a3118bfde3642bf945eec210419df04": {
      "model_module": "@jupyter-widgets/controls",
      "model_module_version": "1.5.0",
      "model_name": "SliderStyleModel",
      "state": {
       "description_width": ""
      }
     },
     "8a3895b8888c4e629ea6b1ac0b8b6ab5": {
      "model_module": "@jupyter-widgets/output",
      "model_module_version": "1.0.0",
      "model_name": "OutputModel",
      "state": {
       "layout": "IPY_MODEL_1cff568ccf3a42edb68c646dc479da7c"
      }
     },
     "8b6b46e91b5f44a89e883d96a9e8fd0e": {
      "model_module": "@jupyter-widgets/base",
      "model_module_version": "1.2.0",
      "model_name": "LayoutModel",
      "state": {
       "width": "100%"
      }
     },
     "8be2aa96f8e8422a809f1b1c84c872f5": {
      "model_module": "@jupyter-widgets/controls",
      "model_module_version": "1.5.0",
      "model_name": "SliderStyleModel",
      "state": {
       "description_width": ""
      }
     },
     "8d75b6d2bbe341f98049ea4a308fdaff": {
      "model_module": "@jupyter-widgets/controls",
      "model_module_version": "1.5.0",
      "model_name": "FloatSliderModel",
      "state": {
       "description": "z<sub>max</sub>",
       "layout": "IPY_MODEL_cb01f6d7663e41e19055e4f056cf456f",
       "max": 10,
       "min": 0.01,
       "step": 0.01,
       "style": "IPY_MODEL_c2948250b51841e5a20f55b97d05c120",
       "value": 1.5
      }
     },
     "8e22e115ffbe4f31836077c40031e1ea": {
      "model_module": "@jupyter-widgets/controls",
      "model_module_version": "1.5.0",
      "model_name": "VBoxModel",
      "state": {
       "children": [
        "IPY_MODEL_03fadbe17db649b1a767e0477b00318a",
        "IPY_MODEL_849d1773e9f34203bf617a2013e4e4e7",
        "IPY_MODEL_05bf5994cf60405fa9efd5f0115c0f4a",
        "IPY_MODEL_e88ebb6cbfd34c6ab8a7348833be3ba5",
        "IPY_MODEL_33ebad1615e94677bf72308e451f549c",
        "IPY_MODEL_6792e4b05ed4446386303712dd2c370a",
        "IPY_MODEL_762ee65b2eec4a16af947af2c6f9e3eb"
       ],
       "layout": "IPY_MODEL_fcfe0aeee11446d4b3e4abdc1ebc4f28"
      }
     },
     "8f73f059a5d74111aa91db0f02ca61ae": {
      "model_module": "@jupyter-widgets/controls",
      "model_module_version": "1.5.0",
      "model_name": "FloatRangeSliderModel",
      "state": {
       "_model_name": "FloatRangeSliderModel",
       "_view_name": "FloatRangeSliderView",
       "continuous_update": false,
       "description": "β",
       "layout": "IPY_MODEL_723f470709524a47ac9ff7a0f8e7159d",
       "max": 0.05,
       "step": 0.001,
       "style": "IPY_MODEL_67a9242ecc394517a21bb80e2e6b6861",
       "value": [
        0,
        0.05
       ]
      }
     },
     "8f9c4a65bf6142739e0689a41aa37731": {
      "model_module": "@jupyter-widgets/controls",
      "model_module_version": "1.5.0",
      "model_name": "SliderStyleModel",
      "state": {
       "description_width": ""
      }
     },
     "8faf05191f8d4a6dbee0d91c97548966": {
      "model_module": "@jupyter-widgets/controls",
      "model_module_version": "1.5.0",
      "model_name": "SliderStyleModel",
      "state": {
       "description_width": ""
      }
     },
     "90196215106543d8a0fb32d89fac5d70": {
      "model_module": "@jupyter-widgets/controls",
      "model_module_version": "1.5.0",
      "model_name": "FloatSliderModel",
      "state": {
       "description": "v<sub>sed</sub>",
       "layout": "IPY_MODEL_febb8bb71cca4926b387194cd4c0bfa5",
       "max": 0.5,
       "min": 0.001,
       "step": 0.001,
       "style": "IPY_MODEL_e470beee0a9d4ce794d4a30cddc3810b",
       "value": 0.12
      }
     },
     "9020563e01ad412d8b35e54a47ae2915": {
      "model_module": "@jupyter-widgets/controls",
      "model_module_version": "1.5.0",
      "model_name": "HBoxModel",
      "state": {
       "children": [
        "IPY_MODEL_cb69ec0e0d7b4231a37c070993eb9f96"
       ],
       "layout": "IPY_MODEL_3274216ead074ae788749c11942de876"
      }
     },
     "9104d8b771ec4b08a4d8f0b638206a4c": {
      "model_module": "@jupyter-widgets/base",
      "model_module_version": "1.2.0",
      "model_name": "LayoutModel",
      "state": {}
     },
     "91a2b7a005a6444b809f3c546549ecd7": {
      "model_module": "@jupyter-widgets/controls",
      "model_module_version": "1.5.0",
      "model_name": "SliderStyleModel",
      "state": {
       "description_width": ""
      }
     },
     "91cece12be7244a791ae43bc11a9293f": {
      "model_module": "@jupyter-widgets/controls",
      "model_module_version": "1.5.0",
      "model_name": "VBoxModel",
      "state": {
       "children": [
        "IPY_MODEL_83a07654f0f94c748d6aa841f21fcbf8",
        "IPY_MODEL_94806238dc8540288a8ea84057d590fd",
        "IPY_MODEL_d290dc2645e646ca84e93605660d816f",
        "IPY_MODEL_dd24e38122924f0e9774a81c59db6673",
        "IPY_MODEL_ec4c5154daf84867864fffd0cc825b6c",
        "IPY_MODEL_fd54092eccee444499b0d1ad145b00cc"
       ],
       "layout": "IPY_MODEL_75fb268b32f2457894a9a1e1cbcd0a1b"
      }
     },
     "9201586b2a4643c0b7ce17d7179e2b3f": {
      "model_module": "@jupyter-widgets/base",
      "model_module_version": "1.2.0",
      "model_name": "LayoutModel",
      "state": {
       "width": "100%"
      }
     },
     "92418f0b65ac4d8bb35ba19ac0a2e97f": {
      "model_module": "@jupyter-widgets/controls",
      "model_module_version": "1.5.0",
      "model_name": "FloatSliderModel",
      "state": {
       "description": "Marker Size",
       "layout": "IPY_MODEL_c6daee6317304b6a87b2e853586cea5f",
       "max": 20,
       "step": 0.1,
       "style": "IPY_MODEL_65b4faa803b0424b83531cf044c353a2",
       "value": 8
      }
     },
     "92a72ad1bbcb4754baccf0f27e3cf485": {
      "model_module": "@jupyter-widgets/base",
      "model_module_version": "1.2.0",
      "model_name": "LayoutModel",
      "state": {
       "width": "100%"
      }
     },
     "947a7a728e2543e98da5060908a80cfe": {
      "model_module": "@jupyter-widgets/output",
      "model_module_version": "1.0.0",
      "model_name": "OutputModel",
      "state": {
       "layout": "IPY_MODEL_4cfbe57fb643426cb9f98b186fb43551",
       "outputs": [
        {
         "data": {
          "text/html": "<div>\n<style scoped>\n    .dataframe tbody tr th:only-of-type {\n        vertical-align: middle;\n    }\n\n    .dataframe tbody tr th {\n        vertical-align: top;\n    }\n\n    .dataframe thead th {\n        text-align: right;\n    }\n</style>\n<table border=\"1\" class=\"dataframe\">\n  <thead>\n    <tr style=\"text-align: right;\">\n      <th></th>\n      <th>56</th>\n    </tr>\n  </thead>\n  <tbody>\n    <tr>\n      <th>SO4_0</th>\n      <td>0.008791</td>\n    </tr>\n    <tr>\n      <th>py_0</th>\n      <td>0.262611</td>\n    </tr>\n    <tr>\n      <th>d34S_SO4_0</th>\n      <td>19.877027</td>\n    </tr>\n    <tr>\n      <th>epsilon_MSR</th>\n      <td>42.632280</td>\n    </tr>\n    <tr>\n      <th>k_MSR</th>\n      <td>12.430472</td>\n    </tr>\n    <tr>\n      <th>v</th>\n      <td>0.007146</td>\n    </tr>\n    <tr>\n      <th>D_32</th>\n      <td>0.258942</td>\n    </tr>\n    <tr>\n      <th>beta</th>\n      <td>0.003432</td>\n    </tr>\n    <tr>\n      <th>py</th>\n      <td>1.368402</td>\n    </tr>\n    <tr>\n      <th>d34S</th>\n      <td>-5.725794</td>\n    </tr>\n  </tbody>\n</table>\n</div>",
          "text/plain": "                    56\nSO4_0         0.008791\npy_0          0.262611\nd34S_SO4_0   19.877027\nepsilon_MSR  42.632280\nk_MSR        12.430472\nv             0.007146\nD_32          0.258942\nbeta          0.003432\npy            1.368402\nd34S         -5.725794"
         },
         "metadata": {},
         "output_type": "display_data"
        }
       ]
      }
     },
     "94806238dc8540288a8ea84057d590fd": {
      "model_module": "@jupyter-widgets/controls",
      "model_module_version": "1.5.0",
      "model_name": "HBoxModel",
      "state": {
       "children": [
        "IPY_MODEL_c643a3b7c7ea449899609188a6b6a4d2",
        "IPY_MODEL_90196215106543d8a0fb32d89fac5d70"
       ],
       "layout": "IPY_MODEL_66432ef4614f48879a8d60eacd0fa3a9"
      }
     },
     "949bf5a3b15d43089fa08ea469d787ee": {
      "model_module": "@jupyter-widgets/base",
      "model_module_version": "1.2.0",
      "model_name": "LayoutModel",
      "state": {}
     },
     "955c320f06ac4afca7a5139dcbe95553": {
      "buffers": [
       {
        "data": "xYgRI0aMyD8EJRGURFDSPx3HcRzHccw/yR4he4Ts4T+E7BGyR8jePwGPATwG8Ng/8afBnwZ/2j/FiBEjRozYP3mb4W2Gt9k/s9bJWidr3T+TJk2aNGniP/GnwZ8Gf9o/3/V51+dd7z/ii4kvJr7YP7ds2bJly/Y/qFChQoUK1T/hwIEDBw7cP+KLiS8mvtg/QCsBrQS00j920NlBZwfdP7oC6QqkK+A//vjx48ePzz8vebnk5ZLXP7g34d6Ee9M/XGNxjcU11j/Ub1G/Rf3WP28VuVXkVtE/lp5Zembp2T/Ub1G/Rf3WP3bQ2UFnB90/SeYhmYdk3j9REkFJBCXhP6sbqW6kutE/aLSh0YZG2z/zcsnLJS/XP8LyAcsHLN8/4ouJLya+2D8=",
        "encoding": "base64",
        "path": [
         "_data",
         0,
         "x",
         "value"
        ]
       },
       {
        "data": "Rwd4wKP9NcDE/ACOXgkwwMIuJT+MjyrA/jMJIdu/L8BUmBt0ZCcywDKRuNYj7DLAP1PtOgpRNMB4L4ehp1EuwKu1c0F4mzTAUHW0UVYANsAGJ7EOl7gmwFFBx24I4jPAj9E3cp7+I8CEuSjx9+UywAQFkeNMMhbA2TVfjqU7MMDVZnrukJwywH+jqudgGyzAqPZymVzMNMAJO9kXTeI0wDalBdnBcjXAwoQpRBDLNMBCT3jre2A4wI4TYoJFczPALO/3XeG7NMDgYpUCNDczwOHG4xE5UTTAzsaJukrVLsDwGDRs5AY2wNgFvnI7yTbAGoYfg/CcNcB/hirdR4o1wNmKIT+GOjPAc77WsPMGOcA0gtMIOBQ2wOUGKnLaIzXAGR4S+eZWL8A=",
        "encoding": "base64",
        "path": [
         "_data",
         0,
         "y",
         "value"
        ]
       },
       {
        "data": "fDHxxcQXwz8BjwE8BvCIPw==",
        "encoding": "base64",
        "path": [
         "_data",
         1,
         "x",
         "value"
        ]
       },
       {
        "data": "cLVTVzbTM8AAAAAAAAD4fw==",
        "encoding": "base64",
        "path": [
         "_data",
         1,
         "y",
         "value"
        ]
       },
       {
        "data": "OP/h/Ifz3z8MbzO8zfD2Pw==",
        "encoding": "base64",
        "path": [
         "_data",
         2,
         "x",
         "value"
        ]
       },
       {
        "data": "ovup9wEPLcCl/yfjkHwdwA==",
        "encoding": "base64",
        "path": [
         "_data",
         2,
         "y",
         "value"
        ]
       },
       {
        "data": "bEqxKcWm5D/R2UFnB53dPy09s/TM0vM/HcdxHMdx3D8srrG4xuLaP3wx8cXEF9M/I9WNVDdS7T98MfHFxBfTP8dTGU9lPNU//sP5D+c/3D+4N+HehHvTPw==",
        "encoding": "base64",
        "path": [
         "_data",
         3,
         "x",
         "value"
        ]
       },
       {
        "data": "LXRyTCwKLcCYbbVBaekpwIDQerKveiDAKCD9rhZYI8BeyxW7L38wwNQynejnmCrAhEeFPsdBIsDGEL3bpnUxwJyLhhnAnzTAegDWAACoI8ARyWyzaP8wwA==",
        "encoding": "base64",
        "path": [
         "_data",
         3,
         "y",
         "value"
        ]
       },
       {
        "data": "exSuR+F6dD97FK5H4XqEP7gehetRuI4/exSuR+F6lD+amZmZmZmZP7kehetRuJ4/61G4HoXroT97FK5H4XqkPwrXo3A9Cqc/mZmZmZmZqT8pXI/C9SisP7gehetRuK4/pHA9CtejsD/sUbgeheuxPzQzMzMzM7M/exSuR+F6tD/D9Shcj8K1PwvXo3A9Crc/UrgehetRuD+amZmZmZm5P+J6FK5H4bo/KVyPwvUovD9xPQrXo3C9P7kehetRuL4/AAAAAAAAwD+kcD0K16PAP0jhehSuR8E/7FG4HoXrwT+QwvUoXI/CPzMzMzMzM8M/16NwPQrXwz97FK5H4XrEPx+F61G4HsU/w/UoXI/CxT9nZmZmZmbGPwvXo3A9Csc/rkfhehSuxz9SuB6F61HIP/YoXI/C9cg/",
        "encoding": "base64",
        "path": [
         "_data",
         4,
         "marker",
         "color",
         "value"
        ]
       }
      ],
      "model_module": "jupyterlab-plotly",
      "model_module_version": "^5.1.0",
      "model_name": "FigureModel",
      "state": {
       "_config": {
        "plotlyServerURL": "https://plot.ly"
       },
       "_data": [
        {
         "marker": {
          "color": "Blue",
          "opacity": 0.3,
          "symbol": "circle"
         },
         "mode": "markers",
         "name": "Mudstone",
         "text": [
          "KC-2-1",
          "KC-2-2",
          "KC-2-2.5",
          "KC-2-3",
          "KC-2-3.5",
          "KC-2-4.5",
          "KC-2-5",
          "KC-2-6",
          "KC-2-6.5",
          "KC-2-7",
          "KC-2-8",
          "KC-2-9",
          "KC-2-10",
          "KC-2-11",
          "KC-2-12",
          "KC-2-13",
          "KC-2-14",
          "KC-2-14.5",
          "KC-2-15",
          "KC-2-15.5",
          "KC-2-16",
          "KC-2-17",
          "KC-2-18",
          "KC-2-19",
          "KC-2-20",
          "KC-2-21",
          "KC-2-21.5",
          "KC-2-22",
          "KC-2-23",
          "KC-2-24",
          "KC-2-25",
          "KC-2-25.5",
          "KC-2-26",
          "KC-2-26.5",
          "KC-2-27",
          "KC-2-28",
          "KC-2-29"
         ],
         "type": "scatter",
         "uid": "d9cb805f-32a0-46c3-935a-de401ff69383",
         "x": {
          "dtype": "float64",
          "shape": [
           37
          ]
         },
         "y": {
          "dtype": "float64",
          "shape": [
           37
          ]
         }
        },
        {
         "marker": {
          "color": "Blue",
          "opacity": 0.3,
          "symbol": "star"
         },
         "mode": "markers",
         "name": "Carbonate",
         "text": [
          "KC-2-0",
          "KC-2-30"
         ],
         "type": "scatter",
         "uid": "a2d25f4d-b074-4225-8361-acd1dd3aeda9",
         "x": {
          "dtype": "float64",
          "shape": [
           2
          ]
         },
         "y": {
          "dtype": "float64",
          "shape": [
           2
          ]
         }
        },
        {
         "marker": {
          "color": "Blue",
          "opacity": 0.3,
          "symbol": "square"
         },
         "mode": "markers",
         "name": "Pervasively pyritised regions",
         "text": [
          "KC-2-6p",
          "KC-2-22p"
         ],
         "type": "scatter",
         "uid": "9563a3c7-0540-41a0-bc74-3505a750f7f6",
         "x": {
          "dtype": "float64",
          "shape": [
           2
          ]
         },
         "y": {
          "dtype": "float64",
          "shape": [
           2
          ]
         }
        },
        {
         "marker": {
          "color": "Blue",
          "opacity": 0.3,
          "symbol": "diamond"
         },
         "mode": "markers",
         "name": "Bed 22",
         "text": [
          "KC-3-A",
          "KC-3-B",
          "KC-3-C",
          "KC-3-D",
          "KC-3-E",
          "KC-3-F",
          "KC-3-G",
          "KC-3-H",
          "KC-3-I",
          "KC-3-J",
          "KC-3-K"
         ],
         "type": "scatter",
         "uid": "4cc9e24c-1dea-4eee-a905-221bd741c453",
         "x": {
          "dtype": "float64",
          "shape": [
           11
          ]
         },
         "y": {
          "dtype": "float64",
          "shape": [
           11
          ]
         }
        },
        {
         "line": {
          "color": "DarkGreen"
         },
         "marker": {
          "color": {
           "dtype": "float64",
           "shape": [
            39
           ]
          },
          "coloraxis": "coloraxis",
          "line": {
           "color": "DarkGreen",
           "width": 1
          }
         },
         "mode": "lines+markers",
         "name": "Model",
         "text": [
          "v: 0.00500",
          "v: 0.01000",
          "v: 0.01500",
          "v: 0.02000",
          "v: 0.02500",
          "v: 0.03000",
          "v: 0.03500",
          "v: 0.04000",
          "v: 0.04500",
          "v: 0.05000",
          "v: 0.05500",
          "v: 0.06000",
          "v: 0.06500",
          "v: 0.07000",
          "v: 0.07500",
          "v: 0.08000",
          "v: 0.08500",
          "v: 0.09000",
          "v: 0.09500",
          "v: 0.10000",
          "v: 0.10500",
          "v: 0.11000",
          "v: 0.11500",
          "v: 0.12000",
          "v: 0.12500",
          "v: 0.13000",
          "v: 0.13500",
          "v: 0.14000",
          "v: 0.14500",
          "v: 0.15000",
          "v: 0.15500",
          "v: 0.16000",
          "v: 0.16500",
          "v: 0.17000",
          "v: 0.17500",
          "v: 0.18000",
          "v: 0.18500",
          "v: 0.19000",
          "v: 0.19500"
         ],
         "type": "scatter",
         "uid": "bd0626ca-483e-4e53-a4ea-0fcb131a6d7f",
         "x": [
          1.455194723661489,
          0.8124752027246835,
          0.5982366726313113,
          0.49111839018242864,
          0.42684820673146384,
          0.3840020727226201,
          0.35339825262675767,
          0.33044587867342273,
          0.31259446876452623,
          0.2983137336366869,
          0.2866298528466287,
          0.2768936127613861,
          0.2686555577867425,
          0.2615946482089534,
          0.2554754549025295,
          0.2501214060207472,
          0.24539747603129497,
          0.24119864507347208,
          0.23744200272918659,
          0.23406122066184973,
          0.23100260450158216,
          0.22822222249008087,
          0.22568378317230103,
          0.22335704366759104,
          0.2212165999554207,
          0.21924095632354879,
          0.21741180160876292,
          0.2157134405268181,
          0.21413234265891934,
          0.21265678164057103,
          0.2112765441855117,
          0.20998269366725925,
          0.20876737668515283,
          0.2076236637669289,
          0.20654541737901685,
          0.20552718193495564,
          0.20456409164026335,
          0.20365179288814034,
          0.2027863785950462
         ],
         "y": [
          -7.2229524824497515,
          -9.632765741584892,
          -11.586197533612562,
          -13.201677548436376,
          -14.55983432512864,
          -15.717605941106715,
          -16.716279440746163,
          -17.586502014277585,
          -18.351535032032462,
          -19.029345697726185,
          -19.63404931929469,
          -20.17683007324478,
          -20.666722697573412,
          -21.11111354751294,
          -21.51602081955628,
          -21.886477735817312,
          -22.22670034659535,
          -22.5402378924533,
          -22.830088997936706,
          -23.0988416989415,
          -23.348720920436385,
          -23.58162464187574,
          -23.799226783625784,
          -24.002981899284293,
          -24.194167451966564,
          -24.37390206969514,
          -24.54317698855246,
          -24.702892169702338,
          -24.853813746792962,
          -24.996646453167457,
          -25.13203051351953,
          -25.26051733924872,
          -25.382624395691277,
          -25.498809817791958,
          -25.60949477149588,
          -25.71505358510928,
          -25.815834260488835,
          -25.91214918110063,
          -26.004287399526426
         ]
        },
        {
         "line": {
          "color": "Orange"
         },
         "marker": {
          "coloraxis": "coloraxis",
          "line": {
           "color": "Orange",
           "width": 1
          }
         },
         "mode": "lines+markers",
         "name": "Model (no py<sub>0</sub>)",
         "type": "scatter",
         "uid": "2df9b7a2-aefa-44d7-a72d-e6dc6b1bf638",
         "visible": false
        },
        {
         "marker": {
          "color": "Purple",
          "symbol": "square"
         },
         "mode": "markers",
         "name": "Syn-Depositional Pyrite",
         "text": [
          "0.55 wt% Fe<sub>py, 0</sub>"
         ],
         "type": "scatter",
         "uid": "2ba71280-8421-4840-9b88-6f98c6993d1b",
         "visible": true,
         "x": [
          0.1675
         ],
         "y": [
          -31
         ]
        }
       ],
       "_js2py_pointsCallback": {},
       "_js2py_relayout": {},
       "_js2py_restyle": {},
       "_js2py_update": {},
       "_last_layout_edit_id": 181,
       "_last_trace_edit_id": 181,
       "_layout": {
        "coloraxis": {
         "colorbar": {
          "ticks": "outside",
          "title": {
           "text": "v<sub>sed</sub>"
          }
         },
         "colorscale": [
          [
           0,
           "#fde725"
          ],
          [
           0.1111111111111111,
           "#b5de2b"
          ],
          [
           0.2222222222222222,
           "#6ece58"
          ],
          [
           0.3333333333333333,
           "#35b779"
          ],
          [
           0.4444444444444444,
           "#1f9e89"
          ],
          [
           0.5555555555555556,
           "#26828e"
          ],
          [
           0.6666666666666666,
           "#31688e"
          ],
          [
           0.7777777777777778,
           "#3e4989"
          ],
          [
           0.8888888888888888,
           "#482878"
          ],
          [
           1,
           "#440154"
          ]
         ]
        },
        "height": 600,
        "legend": {
         "x": 1.2,
         "xanchor": "left",
         "y": 1,
         "yanchor": "top"
        },
        "margin": {
         "l": 100
        },
        "template": {
         "layout": {
          "bargap": 0.05,
          "bargroupgap": 0,
          "font": {
           "color": "black",
           "family": "Segoe UI",
           "size": 17
          },
          "height": 700,
          "hovermode": "closest",
          "margin": {
           "b": 60,
           "l": 90,
           "r": 30,
           "t": 30
          },
          "scene": {
           "xaxis": {
            "color": "black",
            "linewidth": 2,
            "showline": true,
            "ticks": "outside"
           },
           "yaxis": {
            "color": "black",
            "linewidth": 2,
            "showline": true,
            "ticks": "outside"
           },
           "zaxis": {
            "color": "black",
            "linewidth": 2,
            "showline": true,
            "ticks": "outside"
           }
          },
          "xaxis": {
           "color": "black",
           "linewidth": 1.3,
           "mirror": true,
           "showgrid": true,
           "showline": true,
           "ticks": "outside",
           "zeroline": true
          },
          "yaxis": {
           "color": "black",
           "linewidth": 1.3,
           "mirror": true,
           "showgrid": true,
           "showline": true,
           "ticks": "outside",
           "zeroline": true
          }
         }
        },
        "width": 1000,
        "xaxis": {
         "rangemode": "tozero",
         "title": {
          "text": "[FeS<sub>2</sub>] / mol dm<sup>−3</sup>"
         }
        },
        "yaxis": {
         "title": {
          "text": "δ<sup>34</sup>S<sub>py</sub> (‰)"
         }
        }
       },
       "_py2js_animate": {},
       "_py2js_deleteTraces": {},
       "_py2js_moveTraces": {},
       "_py2js_removeLayoutProps": {},
       "_py2js_removeTraceProps": {},
       "_py2js_restyle": {},
       "_view_count": 1
      }
     },
     "956c6da3588c423abf550768413e2f24": {
      "model_module": "@jupyter-widgets/base",
      "model_module_version": "1.2.0",
      "model_name": "LayoutModel",
      "state": {
       "width": "100%"
      }
     },
     "95afaff29e734cb39304bed71a670c06": {
      "model_module": "@jupyter-widgets/base",
      "model_module_version": "1.2.0",
      "model_name": "LayoutModel",
      "state": {}
     },
     "95fb5ab7bd514331b6d2c8f79aaf5554": {
      "model_module": "@jupyter-widgets/base",
      "model_module_version": "1.2.0",
      "model_name": "LayoutModel",
      "state": {
       "width": "100%"
      }
     },
     "96d39cd194d04281a9ad9f956d452749": {
      "model_module": "@jupyter-widgets/controls",
      "model_module_version": "1.5.0",
      "model_name": "HBoxModel",
      "state": {
       "children": [
        "IPY_MODEL_e84089a8df1b4604953d346444f20f81",
        "IPY_MODEL_aa40f408cd7d49329bdb35a4d192c4ea"
       ],
       "layout": "IPY_MODEL_cd839caa9f504d78b0930f595b38c197"
      }
     },
     "96dcc200c0704826840468fb5ddf3905": {
      "model_module": "@jupyter-widgets/controls",
      "model_module_version": "1.5.0",
      "model_name": "DescriptionStyleModel",
      "state": {
       "description_width": ""
      }
     },
     "97d8a40564814ac29d55bee13e84df31": {
      "model_module": "@jupyter-widgets/base",
      "model_module_version": "1.2.0",
      "model_name": "LayoutModel",
      "state": {
       "width": "100%"
      }
     },
     "97e5362abea641ea8b1bf4cda7f14c2d": {
      "model_module": "@jupyter-widgets/controls",
      "model_module_version": "1.5.0",
      "model_name": "FloatSliderModel",
      "state": {
       "description": "D<sub>32</sub>",
       "layout": "IPY_MODEL_c6593b0f5dd54865b7c206a2a45972a4",
       "max": 0.3,
       "min": 0.001,
       "step": 0.001,
       "style": "IPY_MODEL_5bd31334d784497fa4054c378f4cd669",
       "value": 0.2
      }
     },
     "986bfc3d1ee34645a63aac80d83c7f6a": {
      "model_module": "@jupyter-widgets/base",
      "model_module_version": "1.2.0",
      "model_name": "LayoutModel",
      "state": {}
     },
     "98d5f5ea609f4976b9c919fee637f844": {
      "model_module": "@jupyter-widgets/controls",
      "model_module_version": "1.5.0",
      "model_name": "SliderStyleModel",
      "state": {
       "description_width": ""
      }
     },
     "9a3c60ad100c4914b6996cb9c3e9b187": {
      "model_module": "@jupyter-widgets/controls",
      "model_module_version": "1.5.0",
      "model_name": "SliderStyleModel",
      "state": {
       "description_width": ""
      }
     },
     "9b539c69050447cc86269e356dd7ae9d": {
      "model_module": "@jupyter-widgets/controls",
      "model_module_version": "1.5.0",
      "model_name": "SliderStyleModel",
      "state": {
       "description_width": ""
      }
     },
     "9bf67f69bf614f94bf57b2417e625e9a": {
      "model_module": "@jupyter-widgets/controls",
      "model_module_version": "1.5.0",
      "model_name": "SliderStyleModel",
      "state": {
       "description_width": ""
      }
     },
     "9c618db1ff45424eaedbc3d5cb1fad6d": {
      "model_module": "@jupyter-widgets/controls",
      "model_module_version": "1.5.0",
      "model_name": "VBoxModel",
      "state": {
       "children": [
        "IPY_MODEL_d61068d762654f4898364fa1aad1e535",
        "IPY_MODEL_2230e461601e45fb8d31bfc053eee950"
       ],
       "layout": "IPY_MODEL_986bfc3d1ee34645a63aac80d83c7f6a"
      }
     },
     "9cd9829306f140b0985a3584a4da374d": {
      "model_module": "@jupyter-widgets/base",
      "model_module_version": "1.2.0",
      "model_name": "LayoutModel",
      "state": {
       "width": "100%"
      }
     },
     "9ce21d9d52f04950b89f4df2ab83c8a6": {
      "model_module": "@jupyter-widgets/controls",
      "model_module_version": "1.5.0",
      "model_name": "SliderStyleModel",
      "state": {
       "description_width": ""
      }
     },
     "9dd8ccf55f8340eca876842ee72c6e18": {
      "model_module": "@jupyter-widgets/controls",
      "model_module_version": "1.5.0",
      "model_name": "HBoxModel",
      "state": {
       "children": [
        "IPY_MODEL_7eccdd038add44d0b9be8c5ab7ace7e8",
        "IPY_MODEL_c63ba9a76cb34712b042270fe36ab3a6"
       ],
       "layout": "IPY_MODEL_f5d09f2691414132a228cbd89505c083"
      }
     },
     "9ea6cc8209334865af78017945a11528": {
      "model_module": "@jupyter-widgets/controls",
      "model_module_version": "1.5.0",
      "model_name": "FloatSliderModel",
      "state": {
       "description": "[SO<sub>4</sub>]<sub>0</sub>",
       "layout": "IPY_MODEL_d7ab48f2ffc34aa0bba148ba73026f39",
       "max": 0.3,
       "min": 0.001,
       "step": 0.001,
       "style": "IPY_MODEL_2a0cde178d304ae4bf90647579f5fdc3",
       "value": 0.0105
      }
     },
     "9eb5485288974703afb4a318a89d010c": {
      "model_module": "@jupyter-widgets/controls",
      "model_module_version": "1.5.0",
      "model_name": "HBoxModel",
      "state": {
       "children": [
        "IPY_MODEL_ab884924c2934035983830e611bbe156",
        "IPY_MODEL_64a18888d88f4b799ee9876dcba07058"
       ],
       "layout": "IPY_MODEL_8100abbefe834ff49e5961328cdcd1e5"
      }
     },
     "a0533e352ef7448c83bb5ed5a61181d5": {
      "model_module": "@jupyter-widgets/base",
      "model_module_version": "1.2.0",
      "model_name": "LayoutModel",
      "state": {
       "width": "100%"
      }
     },
     "a129497b8a4640c797f38b918587b5f9": {
      "model_module": "@jupyter-widgets/controls",
      "model_module_version": "1.5.0",
      "model_name": "DropdownModel",
      "state": {
       "_options_labels": [
        "SO4_0",
        "py_0",
        "d34S_SO4_0",
        "epsilon_MSR",
        "k_MSR",
        "v",
        "D_32",
        "beta"
       ],
       "description": "Colour",
       "index": 5,
       "layout": "IPY_MODEL_831c5f5b6d0748e99706cc0fdc26a44e",
       "style": "IPY_MODEL_38a1f0bf3c714925a890eea082a6324b"
      }
     },
     "a1ec986b68154264859c3ec3778c763d": {
      "model_module": "@jupyter-widgets/controls",
      "model_module_version": "1.5.0",
      "model_name": "SliderStyleModel",
      "state": {
       "description_width": ""
      }
     },
     "a27aa658abaa4033bb82b80fc0c895a9": {
      "model_module": "@jupyter-widgets/base",
      "model_module_version": "1.2.0",
      "model_name": "LayoutModel",
      "state": {}
     },
     "a36b0511c79841a989f047443e630f74": {
      "model_module": "@jupyter-widgets/controls",
      "model_module_version": "1.5.0",
      "model_name": "DescriptionStyleModel",
      "state": {
       "description_width": ""
      }
     },
     "a3c5ebeabac147d0a2c01a1696268dcf": {
      "model_module": "@jupyter-widgets/controls",
      "model_module_version": "1.5.0",
      "model_name": "FloatRangeSliderModel",
      "state": {
       "_model_name": "FloatRangeSliderModel",
       "_view_name": "FloatRangeSliderView",
       "continuous_update": false,
       "description": "v<sub>sed</sub>",
       "layout": "IPY_MODEL_d9eaa179aa414272971372307b23037e",
       "max": 0.5,
       "min": 0.001,
       "step": 0.001,
       "style": "IPY_MODEL_3fc40f6b16ee4402ba2ce9a9f605d58e",
       "value": [
        0.005,
        0.2
       ]
      }
     },
     "a3c8ff4b2b6744afa5f385db94d1b773": {
      "model_module": "@jupyter-widgets/base",
      "model_module_version": "1.2.0",
      "model_name": "LayoutModel",
      "state": {}
     },
     "a4458843fff44139aa54f1cb2852f1a6": {
      "model_module": "@jupyter-widgets/base",
      "model_module_version": "1.2.0",
      "model_name": "LayoutModel",
      "state": {
       "width": "100%"
      }
     },
     "a4624ada580943998f76cca63baa8b9f": {
      "model_module": "@jupyter-widgets/base",
      "model_module_version": "1.2.0",
      "model_name": "LayoutModel",
      "state": {}
     },
     "a48daae9d2b1433fb052d048f489c8d4": {
      "model_module": "@jupyter-widgets/output",
      "model_module_version": "1.0.0",
      "model_name": "OutputModel",
      "state": {
       "layout": "IPY_MODEL_d9004f80dd8e4e72aaffab69d9f7595a"
      }
     },
     "a624040ff5aa46c09f29fb555b12d14c": {
      "model_module": "@jupyter-widgets/base",
      "model_module_version": "1.2.0",
      "model_name": "LayoutModel",
      "state": {}
     },
     "a7000e74b47b4a5596a31ffa0bbc44e7": {
      "model_module": "@jupyter-widgets/base",
      "model_module_version": "1.2.0",
      "model_name": "LayoutModel",
      "state": {
       "width": "100%"
      }
     },
     "a7db826394dc45feb4e995ff89a07a5a": {
      "model_module": "@jupyter-widgets/controls",
      "model_module_version": "1.5.0",
      "model_name": "SliderStyleModel",
      "state": {
       "description_width": ""
      }
     },
     "a7dd4ac54ba94a94998d7627a382da12": {
      "model_module": "@jupyter-widgets/controls",
      "model_module_version": "1.5.0",
      "model_name": "SliderStyleModel",
      "state": {
       "description_width": ""
      }
     },
     "a912311f9a7342b28e5a6f23dd0b4584": {
      "model_module": "@jupyter-widgets/controls",
      "model_module_version": "1.5.0",
      "model_name": "IntSliderModel",
      "state": {
       "description": "№ of Trials",
       "layout": "IPY_MODEL_7c4afbd27735418587185195bb8612a5",
       "max": 1000,
       "min": 1,
       "style": "IPY_MODEL_391e19efc8cb4d2cb5ed14915dd687f3",
       "value": 94
      }
     },
     "a974a683d3884312ab7fb56538cece9d": {
      "model_module": "@jupyter-widgets/controls",
      "model_module_version": "1.5.0",
      "model_name": "FloatSliderModel",
      "state": {
       "description": "Opacity",
       "layout": "IPY_MODEL_3b1f9294ef564eb09d81c1d6dc1e7a27",
       "max": 1,
       "step": 0.01,
       "style": "IPY_MODEL_711020e1ef6e4438b3d490a7182be270",
       "value": 0.51
      }
     },
     "aa40f408cd7d49329bdb35a4d192c4ea": {
      "model_module": "@jupyter-widgets/controls",
      "model_module_version": "1.5.0",
      "model_name": "FloatRangeSliderModel",
      "state": {
       "_model_name": "FloatRangeSliderModel",
       "_view_name": "FloatRangeSliderView",
       "description": "v<sub>sed</sub>",
       "layout": "IPY_MODEL_b27d065413204a8ba0592df29c66935b",
       "max": 0.5,
       "min": 0.001,
       "step": 0.001,
       "style": "IPY_MODEL_0061a8e2dab54b81acfe9c6becd5ac8c",
       "value": [
        0.005,
        0.2
       ]
      }
     },
     "ab884924c2934035983830e611bbe156": {
      "model_module": "@jupyter-widgets/controls",
      "model_module_version": "1.5.0",
      "model_name": "FloatRangeSliderModel",
      "state": {
       "_model_name": "FloatRangeSliderModel",
       "_view_name": "FloatRangeSliderView",
       "continuous_update": false,
       "description": "[SO<sub>4</sub>]<sub>0</sub>",
       "layout": "IPY_MODEL_b10028cd11d4446697da7ea7164553a3",
       "max": 0.3,
       "min": 0.001,
       "step": 0.001,
       "style": "IPY_MODEL_7bd93be2687c4d5196e2b1c5e4891e40",
       "value": [
        0.008,
        0.013
       ]
      }
     },
     "ac528d5d864f481fbf1870d9ce3fcb33": {
      "model_module": "@jupyter-widgets/base",
      "model_module_version": "1.2.0",
      "model_name": "LayoutModel",
      "state": {}
     },
     "ac7429173e384503ad597398880950bf": {
      "model_module": "@jupyter-widgets/controls",
      "model_module_version": "1.5.0",
      "model_name": "SliderStyleModel",
      "state": {
       "description_width": ""
      }
     },
     "acddcbb66ac343029809f7106e66d6f4": {
      "model_module": "@jupyter-widgets/base",
      "model_module_version": "1.2.0",
      "model_name": "LayoutModel",
      "state": {
       "width": "200px"
      }
     },
     "adc7562a442c4ecf837431c52ab65c8d": {
      "model_module": "@jupyter-widgets/controls",
      "model_module_version": "1.5.0",
      "model_name": "HBoxModel",
      "state": {
       "children": [
        "IPY_MODEL_480e54c1f1db4ee8861d7e599a506f36",
        "IPY_MODEL_077819a3210f40f783f355235a36e18a"
       ],
       "layout": "IPY_MODEL_74ffbafb802947ecbe99d72e5cf9abe8"
      }
     },
     "ae889783c32c496282cf82c2d28cd427": {
      "model_module": "@jupyter-widgets/base",
      "model_module_version": "1.2.0",
      "model_name": "LayoutModel",
      "state": {}
     },
     "b10028cd11d4446697da7ea7164553a3": {
      "model_module": "@jupyter-widgets/base",
      "model_module_version": "1.2.0",
      "model_name": "LayoutModel",
      "state": {
       "width": "100%"
      }
     },
     "b111718beb5a4e809eb862c9972e4a24": {
      "model_module": "@jupyter-widgets/controls",
      "model_module_version": "1.5.0",
      "model_name": "DescriptionStyleModel",
      "state": {
       "description_width": ""
      }
     },
     "b21503f9b6bc42bc9526a3da6bb15c89": {
      "model_module": "@jupyter-widgets/controls",
      "model_module_version": "1.5.0",
      "model_name": "SliderStyleModel",
      "state": {
       "description_width": ""
      }
     },
     "b27d065413204a8ba0592df29c66935b": {
      "model_module": "@jupyter-widgets/base",
      "model_module_version": "1.2.0",
      "model_name": "LayoutModel",
      "state": {
       "width": "100%"
      }
     },
     "b52441e205884dd5b40cd1d97757f2b8": {
      "model_module": "@jupyter-widgets/controls",
      "model_module_version": "1.5.0",
      "model_name": "HBoxModel",
      "state": {
       "children": [
        "IPY_MODEL_5d6f4416ef1a4e85b74bdd17b33619a8",
        "IPY_MODEL_b5f3d25a7b9748d2a22c706311cf772b"
       ],
       "layout": "IPY_MODEL_a27aa658abaa4033bb82b80fc0c895a9"
      }
     },
     "b59df69ed43b4d4f8db0f6ab5aaae21f": {
      "model_module": "@jupyter-widgets/controls",
      "model_module_version": "1.5.0",
      "model_name": "HBoxModel",
      "state": {
       "children": [
        "IPY_MODEL_89b0c092e7c148e8aba36061ca7694dd",
        "IPY_MODEL_898c9b6119fb4748b4f29f865f05b17e"
       ],
       "layout": "IPY_MODEL_949bf5a3b15d43089fa08ea469d787ee"
      }
     },
     "b5e0734b3bcd42549cdeb00fb9c21b39": {
      "model_module": "@jupyter-widgets/controls",
      "model_module_version": "1.5.0",
      "model_name": "DropdownModel",
      "state": {
       "_options_labels": [
        "SO4_0",
        "py_0",
        "d34S_SO4_0",
        "epsilon_MSR",
        "k_MSR",
        "v",
        "D_32",
        "beta"
       ],
       "description": "Colour",
       "index": 5,
       "layout": "IPY_MODEL_0bad69de579c49868afcb82737c4e863",
       "style": "IPY_MODEL_96dcc200c0704826840468fb5ddf3905"
      }
     },
     "b5f3d25a7b9748d2a22c706311cf772b": {
      "model_module": "@jupyter-widgets/controls",
      "model_module_version": "1.5.0",
      "model_name": "FloatRangeSliderModel",
      "state": {
       "_model_name": "FloatRangeSliderModel",
       "_view_name": "FloatRangeSliderView",
       "description": "β",
       "layout": "IPY_MODEL_95fb5ab7bd514331b6d2c8f79aaf5554",
       "max": 0.05,
       "step": 0.001,
       "style": "IPY_MODEL_63eee0f99a1f4e96a3f50ec93e2997ef",
       "value": [
        0,
        0.05
       ]
      }
     },
     "b69cc09d65cf49d5bbed50cbf0dd75fb": {
      "model_module": "@jupyter-widgets/controls",
      "model_module_version": "1.5.0",
      "model_name": "SliderStyleModel",
      "state": {
       "description_width": ""
      }
     },
     "b727bc8bafb144fdaea3af4ef038595f": {
      "model_module": "@jupyter-widgets/controls",
      "model_module_version": "1.5.0",
      "model_name": "FloatSliderModel",
      "state": {
       "description": "[FeS<sub>2</sub>]<sub>0</sub>",
       "layout": "IPY_MODEL_a0533e352ef7448c83bb5ed5a61181d5",
       "max": 1,
       "step": 0.0025,
       "style": "IPY_MODEL_535a4c7360444f33987ea6a8f7e74586",
       "value": 0.1675
      }
     },
     "b85adc1b04ed4d4dae63ac9bd084f82a": {
      "model_module": "@jupyter-widgets/base",
      "model_module_version": "1.2.0",
      "model_name": "LayoutModel",
      "state": {}
     },
     "b8797e5298464a3693b596bc6acdc4ae": {
      "model_module": "@jupyter-widgets/base",
      "model_module_version": "1.2.0",
      "model_name": "LayoutModel",
      "state": {}
     },
     "b8f4940d8f9846a9ae4e7feb37db9f48": {
      "model_module": "@jupyter-widgets/controls",
      "model_module_version": "1.5.0",
      "model_name": "SliderStyleModel",
      "state": {
       "description_width": ""
      }
     },
     "b94ca8f8a8134bddb8bd2788461a15b6": {
      "model_module": "@jupyter-widgets/base",
      "model_module_version": "1.2.0",
      "model_name": "LayoutModel",
      "state": {}
     },
     "ba2f884e143b49899cb829a8d0f71416": {
      "model_module": "@jupyter-widgets/controls",
      "model_module_version": "1.5.0",
      "model_name": "FloatRangeSliderModel",
      "state": {
       "_model_name": "FloatRangeSliderModel",
       "_view_name": "FloatRangeSliderView",
       "continuous_update": false,
       "description": "δ<sup>34</sup>S<sub>SO4, 0</sub>",
       "layout": "IPY_MODEL_d9a34b4914a141d68e3f72c389d18d17",
       "max": 30,
       "step": 0.1,
       "style": "IPY_MODEL_e99f8e2b1e654636aa3ad0acbe869d38",
       "value": [
        14,
        18
       ]
      }
     },
     "ba6e7b6c4d6246deb3254bf51b8fc48a": {
      "model_module": "@jupyter-widgets/base",
      "model_module_version": "1.2.0",
      "model_name": "LayoutModel",
      "state": {
       "width": "100%"
      }
     },
     "bb5d4bb98c6441e4bfa227747b84b01e": {
      "model_module": "@jupyter-widgets/controls",
      "model_module_version": "1.5.0",
      "model_name": "HBoxModel",
      "state": {
       "children": [
        "IPY_MODEL_9ea6cc8209334865af78017945a11528",
        "IPY_MODEL_134c7e8d67f14ba8ae34ead5a9b2fbc3"
       ],
       "layout": "IPY_MODEL_00032c05b46a4a67ab2d29f3cd01a425"
      }
     },
     "bc172829a6c84ac281f6f5ab9e78c2af": {
      "model_module": "@jupyter-widgets/controls",
      "model_module_version": "1.5.0",
      "model_name": "FloatSliderModel",
      "state": {
       "description": "z<sub>max</sub>",
       "layout": "IPY_MODEL_875ab3019b6b4410853c0afe6ea539c0",
       "max": 10,
       "min": 0.01,
       "step": 0.01,
       "style": "IPY_MODEL_4a568a0c72b741f4909effa18a430176",
       "value": 1.5
      }
     },
     "bcc64b4d30404fa495d15a9797d74bb6": {
      "model_module": "@jupyter-widgets/controls",
      "model_module_version": "1.5.0",
      "model_name": "SliderStyleModel",
      "state": {
       "description_width": ""
      }
     },
     "bcc81b390b114ab0afebb653d2c375b4": {
      "model_module": "@jupyter-widgets/controls",
      "model_module_version": "1.5.0",
      "model_name": "FloatRangeSliderModel",
      "state": {
       "_model_name": "FloatRangeSliderModel",
       "_view_name": "FloatRangeSliderView",
       "continuous_update": false,
       "description": "β",
       "layout": "IPY_MODEL_a7000e74b47b4a5596a31ffa0bbc44e7",
       "max": 0.05,
       "step": 0.001,
       "style": "IPY_MODEL_c828fa1345c845218fba949184457311",
       "value": [
        0,
        0.05
       ]
      }
     },
     "bce990f5384546278073d57abedaf202": {
      "model_module": "@jupyter-widgets/controls",
      "model_module_version": "1.5.0",
      "model_name": "FloatSliderModel",
      "state": {
       "description": "dz",
       "layout": "IPY_MODEL_0105cf64f6de414fa694e9e54f83265e",
       "max": 0.1,
       "min": 0.001,
       "step": 0.001,
       "style": "IPY_MODEL_8332ce721d1949e98965716d47c09b2c",
       "value": 0.01
      }
     },
     "bdeb5ffda79847a5b33570353847ce19": {
      "model_module": "@jupyter-widgets/controls",
      "model_module_version": "1.5.0",
      "model_name": "FloatRangeSliderModel",
      "state": {
       "_model_name": "FloatRangeSliderModel",
       "_view_name": "FloatRangeSliderView",
       "continuous_update": false,
       "description": "[FeS<sub>2</sub>]<sub>0</sub>",
       "layout": "IPY_MODEL_64e59f1464874b6c9acbfa87a4ec9629",
       "max": 1,
       "step": 0.0025,
       "style": "IPY_MODEL_1d8fa49a00794f4ca3c577fb5d0a49eb",
       "value": [
        0.1,
        0.25
       ]
      }
     },
     "be75c176e64e43efa59cb762fd8fe3ac": {
      "model_module": "@jupyter-widgets/controls",
      "model_module_version": "1.5.0",
      "model_name": "IntSliderModel",
      "state": {
       "continuous_update": false,
       "description": "№ of Trials",
       "layout": "IPY_MODEL_92a72ad1bbcb4754baccf0f27e3cf485",
       "max": 1000,
       "min": 1,
       "style": "IPY_MODEL_9bf67f69bf614f94bf57b2417e625e9a",
       "value": 400
      }
     },
     "bed2a83064fb43e68290e8ea173169c6": {
      "model_module": "@jupyter-widgets/base",
      "model_module_version": "1.2.0",
      "model_name": "LayoutModel",
      "state": {}
     },
     "bee30cb94fc4495abeb8e31fab8ce76c": {
      "model_module": "@jupyter-widgets/base",
      "model_module_version": "1.2.0",
      "model_name": "LayoutModel",
      "state": {
       "width": "100%"
      }
     },
     "bf4cbd3d0af947dcae72a8d80b418471": {
      "model_module": "@jupyter-widgets/controls",
      "model_module_version": "1.5.0",
      "model_name": "HBoxModel",
      "state": {
       "children": [
        "IPY_MODEL_4876067b98bf4af597cb645b98f830d1",
        "IPY_MODEL_4e46f4135efa4c6ea45fe29c49cf5ff2"
       ],
       "layout": "IPY_MODEL_0d57aeb613d84a98920d16c85cd8c96e"
      }
     },
     "c042bff3cdde45b9b0f97de26c5c0034": {
      "model_module": "@jupyter-widgets/controls",
      "model_module_version": "1.5.0",
      "model_name": "HBoxModel",
      "state": {
       "children": [
        "IPY_MODEL_5d9ff45b34644cc6bcb810585de4b16c",
        "IPY_MODEL_947a7a728e2543e98da5060908a80cfe"
       ],
       "layout": "IPY_MODEL_da66d19ed88d41968a5e31288b6dad86"
      }
     },
     "c0ee1a7f81bf46c68bc49739122d98fd": {
      "buffers": [
       {
        "data": "xYgRI0aMyD8EJRGURFDSPx3HcRzHccw/yR4he4Ts4T+E7BGyR8jePwGPATwG8Ng/8afBnwZ/2j/FiBEjRozYP3mb4W2Gt9k/s9bJWidr3T+TJk2aNGniP/GnwZ8Gf9o/3/V51+dd7z/ii4kvJr7YP7ds2bJly/Y/qFChQoUK1T/hwIEDBw7cP+KLiS8mvtg/QCsBrQS00j920NlBZwfdP7oC6QqkK+A//vjx48ePzz8vebnk5ZLXP7g34d6Ee9M/XGNxjcU11j/Ub1G/Rf3WP28VuVXkVtE/lp5Zembp2T/Ub1G/Rf3WP3bQ2UFnB90/SeYhmYdk3j9REkFJBCXhP6sbqW6kutE/aLSh0YZG2z/zcsnLJS/XP8LyAcsHLN8/4ouJLya+2D8=",
        "encoding": "base64",
        "path": [
         "_data",
         0,
         "x",
         "value"
        ]
       },
       {
        "data": "Rwd4wKP9NcDE/ACOXgkwwMIuJT+MjyrA/jMJIdu/L8BUmBt0ZCcywDKRuNYj7DLAP1PtOgpRNMB4L4ehp1EuwKu1c0F4mzTAUHW0UVYANsAGJ7EOl7gmwFFBx24I4jPAj9E3cp7+I8CEuSjx9+UywAQFkeNMMhbA2TVfjqU7MMDVZnrukJwywH+jqudgGyzAqPZymVzMNMAJO9kXTeI0wDalBdnBcjXAwoQpRBDLNMBCT3jre2A4wI4TYoJFczPALO/3XeG7NMDgYpUCNDczwOHG4xE5UTTAzsaJukrVLsDwGDRs5AY2wNgFvnI7yTbAGoYfg/CcNcB/hirdR4o1wNmKIT+GOjPAc77WsPMGOcA0gtMIOBQ2wOUGKnLaIzXAGR4S+eZWL8A=",
        "encoding": "base64",
        "path": [
         "_data",
         0,
         "y",
         "value"
        ]
       },
       {
        "data": "fDHxxcQXwz8BjwE8BvCIPw==",
        "encoding": "base64",
        "path": [
         "_data",
         1,
         "x",
         "value"
        ]
       },
       {
        "data": "cLVTVzbTM8AAAAAAAAD4fw==",
        "encoding": "base64",
        "path": [
         "_data",
         1,
         "y",
         "value"
        ]
       },
       {
        "data": "OP/h/Ifz3z8MbzO8zfD2Pw==",
        "encoding": "base64",
        "path": [
         "_data",
         2,
         "x",
         "value"
        ]
       },
       {
        "data": "ovup9wEPLcCl/yfjkHwdwA==",
        "encoding": "base64",
        "path": [
         "_data",
         2,
         "y",
         "value"
        ]
       },
       {
        "data": "bEqxKcWm5D/R2UFnB53dPy09s/TM0vM/HcdxHMdx3D8srrG4xuLaP3wx8cXEF9M/I9WNVDdS7T98MfHFxBfTP8dTGU9lPNU//sP5D+c/3D+4N+HehHvTPw==",
        "encoding": "base64",
        "path": [
         "_data",
         3,
         "x",
         "value"
        ]
       },
       {
        "data": "LXRyTCwKLcCYbbVBaekpwIDQerKveiDAKCD9rhZYI8BeyxW7L38wwNQynejnmCrAhEeFPsdBIsDGEL3bpnUxwJyLhhnAnzTAegDWAACoI8ARyWyzaP8wwA==",
        "encoding": "base64",
        "path": [
         "_data",
         3,
         "y",
         "value"
        ]
       },
       {
        "data": "NyaHw8nqpD9D6zgWlpa6P1CnLDVIVrw/gFmLStyLrj+S8GYiWXiuP6wSZRYVrbs/QUq+XpikuD+ftrcbbgHIP3/FgNlAy8c/7TfqMBrexz+AK/5uFVu4P8YXyjzCF8Y/OfVQCNsKxT9rgLGkQWK8PxmNkEMpF6w/lianMVwknT+fjsS2skqvP31avQ0IocA/pE/zWg4AyT9iuHAFBmvDP+o1v75xRqw/LT94p8q6sj9la0tKnI69P2v9T9vuQsY/QoYU+QkzsD+cXidIAxq4PxwmZvAyncI/lKut7ZS3wj/nkazUJQC4P3Yw/+IQ4ME/+K9/L4AmuD8ZpMhBwjbBP/BouqSwBo4/6c/2DUljxT+sMu/5Wpa5P4uUS0bUf5o/7mJAxJyytz9nukYuyROnP/ATPkDm98Y/3wmYKMJWxT9q0S236/G/P5euC+q2cps/6K3SlhwUxj8eyFQhNELDPzIyLO0HcZU/6mi8v0powT+HQ2I4q2e5PyLclmnscrI//gWWHXh/wj8R+hbZe77HP7Dq43ZcX7o/M1A8c21CwT/9xInvOKjAP0Pd7nAKMsc/B++TGMQ2xD+TIJxpgoC5P/Kmb/+3c7Y/qqoyRedFrT8yuGex3fW5P6HM5IbT3KQ/QjCPg7gNkD9Mermnk0+uP8Co5BG47cA/QjjyhvBfpD8yDzoRDAq0PwhJCBmaW8g/LjFRxt7ltz8pixzYxSqQP6CTsp6vF7A/KNr9sKE9wT8CmvZAy9afPwyiNK/XC7g/i/Q3iVZdsD+lTFTAU/e8P6gRAEdtQsQ//p4RTzI+qD+aMpGKM6q2P0g130nNFrk/4v3l3s9pvj/bZ8j71PKoP9x23E6XV8Q/Xudi70SlwT9ApyRtEDqpP814p0oX9cc/2w1Od6LNvz/KUMkaUkPAPxFaBUuTirk/CeaFIyynxz9DxQY2JmbHP1soQ/2hPsA/wLitTLLZyD/Q/9N4hX61P06xJk7z4oc/uyH92jj2wz8=",
        "encoding": "base64",
        "path": [
         "_data",
         4,
         "marker",
         "color",
         "value"
        ]
       },
       {
        "data": "9iHYaiGB3D8EDAA+UwXNPxJVp4IxRdU/V/k/z4Sf0j+vuKSpAwfTP+jFEe6z+dA/gZcakxhOzT+Ci8gSjJzHP8BuZ4dBFss/0aT4u/bdwz8qTZe/j/zRP/o6pflQ9cw/eWgffyphxT9BIZuSm6/QP50gMrKFydI/vHggewbR2z/0FwbnAXjPP6Oh2gj0ksw/1jo+xvCLxT8scl4NQgHPP1m5S6Ltm9U/YMsv+nkU1z/52drIWk3HP1aEFTfnNMc/TCwkkMJt0D/+QiQTyPDQP4PjpGIQpso/tF+w8KbwxD862XLsGSTNP+d5i88gnss/HR12sjqEyT9afCxaCwfJP4EKWgAc/eE/+7fygMSCxz+BvEhbcQ/HP1SR0ocqGdw/47qxOkxr0T+s/w+5yH/RP4Sk2HrOAsw/tFVC4mFQ0z++0FDTVp3RP7uFoXSyU+E/oscQ01GKxj8Si1qMmdnJP/IBFl77gOQ/anNd43MJxT+HaCKXrV3RPwGQZ7XfW9E/AcEg1RQXwz+JaKmGw+PLP9B73mufy80/ycfMePWC0T96ls2vYnvLPxBPpNu3EMk/GTJZuUDkxz8qSvhIMhjRP/V22xTEqdA/8AxRkdJm0j/3jCeZa3XOP3tNQZAONMs/ykJMUurc5T8Fvoze09XWP3t9MgMOiMg/TWGf/1YL3D/cQ3+Q8hjQP/ahx3d3KMM/Rw7Wd2Km1D90JkOGl/zgP2InUYuw1ss/0CQFCRr50T+OdnYW2hffP8jgL78j6tE/eeOkT/wO0T81e4UoMPnFPwdFodscRMY/8CISDCl70j+GQpIftErFP3P236AoU9U/DG0tulBuyD+G1Q9JlmnSPyeI/wBv2NE/FXgci9aV0z+PvAF1o5DWP6Ctb4T9LME/l6l0M/c+0j8fonQIZSvDP+rJ+CQ5/NE/bNJ/Yy2e0T80ZGdYwFbNP7TUeqIw4tA/lTD+hwZGzz+okjiMNsvJP7i9nBZCru0/hHx35R7Syj8=",
        "encoding": "base64",
        "path": [
         "_data",
         4,
         "x",
         "value"
        ]
       },
       {
        "data": "vo6NY/46OMBIHkcilDk0wP4/HpqY1TjAVQIvwQNuOcBUxTAnXVoywCsygfgwqDjALMKr1luSPsAnfBBpuccywEWK68vUuzvA/Z78A4JLPcA2CTX4vBM7wLdm/NxIkDXA3U1r3s6BMcAWubPfb6EzwCXoxxBpWTXAr0IuKvW/MMBAAt1BK5c7wJd+G0VQVzjAYU+vyTbfOcBb5n5ykjs5wMrkWVVKMDLAHDNKssieMsCkKCX2lFE0wHAgYO0gkTnAdT2S6MAuMMAsHtbINcQ2wICDZ+luTj3AeEBCM7i1MMDjTjq25WU1wHB9654vlznAiOevX96kOMBEvqsyZHkwwJIdeoFxLRrA8+S2GtZMNcAqmg/5AxsywP+MrUEJjSbA9FOYf9myOsA0yipEviwwwGkEzQryzTfAqyH6VOOdNsBuETAFuAIzwNbiMq5QfjDAyiwLZDbjMMDRkV4FL4s7wK1OPNJbHS3Aw9NCr867OcDOnAoM7bcxwLGkzJ8CKT3ACpd/Tub1MsAZb4fDhgk5wKziExvmQDrAAJ/2sQZ3OMB1rx3JN4g3wF0mCIClUzXAxovjo/FYNMDCn2cG+DQ5wGOmfpE8FTzABPU8m+MhL8BWMQxbT1ozwA5oGasTfTHARD1uVGu2JMAq8B+EacQzwAg45zCHUDfApOPMb6acK8DGtRUXKbs5wH2Xzbsv+DvAvsHeQhQINsAV0+uWM9oywHhTZyOJiDbAVDeSOqOhOsDIYdvfpgUrwK9mNXkK1zjAq7j5s7OKOsA6x+q+Bww5wHNYYOziFzvADAgF2QhIL8A4EymJHWwywJwGCZOUTzTAiK3IA2jgNcAooqrBF2sxwI4BHvJtMTvADaQWDDMYPcAaKSaijqc4wLBpjjn4MTbAhgIya5DyM8BuE1ILOikzwPn+R7RFJDrAcW4ASF62N8DaBNW5hGs0wE9HvZdYWTbAbkwSsG22PsDYh6u2l9wwwJC3sHfi/SbA9hnr/MlTM8A=",
        "encoding": "base64",
        "path": [
         "_data",
         4,
         "y",
         "value"
        ]
       }
      ],
      "model_module": "jupyterlab-plotly",
      "model_module_version": "^5.1.0",
      "model_name": "FigureModel",
      "state": {
       "_config": {
        "plotlyServerURL": "https://plot.ly"
       },
       "_data": [
        {
         "marker": {
          "color": "Blue",
          "opacity": 0.3,
          "symbol": "circle"
         },
         "mode": "markers",
         "name": "Mudstone",
         "text": [
          "KC-2-1",
          "KC-2-2",
          "KC-2-2.5",
          "KC-2-3",
          "KC-2-3.5",
          "KC-2-4.5",
          "KC-2-5",
          "KC-2-6",
          "KC-2-6.5",
          "KC-2-7",
          "KC-2-8",
          "KC-2-9",
          "KC-2-10",
          "KC-2-11",
          "KC-2-12",
          "KC-2-13",
          "KC-2-14",
          "KC-2-14.5",
          "KC-2-15",
          "KC-2-15.5",
          "KC-2-16",
          "KC-2-17",
          "KC-2-18",
          "KC-2-19",
          "KC-2-20",
          "KC-2-21",
          "KC-2-21.5",
          "KC-2-22",
          "KC-2-23",
          "KC-2-24",
          "KC-2-25",
          "KC-2-25.5",
          "KC-2-26",
          "KC-2-26.5",
          "KC-2-27",
          "KC-2-28",
          "KC-2-29"
         ],
         "type": "scatter",
         "uid": "73ade031-ddcc-4aa0-8ce8-0600775c272a",
         "x": {
          "dtype": "float64",
          "shape": [
           37
          ]
         },
         "y": {
          "dtype": "float64",
          "shape": [
           37
          ]
         }
        },
        {
         "marker": {
          "color": "Blue",
          "opacity": 0.3,
          "symbol": "star"
         },
         "mode": "markers",
         "name": "Carbonate",
         "text": [
          "KC-2-0",
          "KC-2-30"
         ],
         "type": "scatter",
         "uid": "fb119129-c918-4682-af73-b88fcdf8da29",
         "x": {
          "dtype": "float64",
          "shape": [
           2
          ]
         },
         "y": {
          "dtype": "float64",
          "shape": [
           2
          ]
         }
        },
        {
         "marker": {
          "color": "Blue",
          "opacity": 0.3,
          "symbol": "square"
         },
         "mode": "markers",
         "name": "Pervasively pyritised regions",
         "text": [
          "KC-2-6p",
          "KC-2-22p"
         ],
         "type": "scatter",
         "uid": "26d7069d-a99a-4ba1-93f6-1b03923fb99b",
         "x": {
          "dtype": "float64",
          "shape": [
           2
          ]
         },
         "y": {
          "dtype": "float64",
          "shape": [
           2
          ]
         }
        },
        {
         "marker": {
          "color": "Blue",
          "opacity": 0.3,
          "symbol": "diamond"
         },
         "mode": "markers",
         "name": "Bed 22",
         "text": [
          "KC-3-A",
          "KC-3-B",
          "KC-3-C",
          "KC-3-D",
          "KC-3-E",
          "KC-3-F",
          "KC-3-G",
          "KC-3-H",
          "KC-3-I",
          "KC-3-J",
          "KC-3-K"
         ],
         "type": "scatter",
         "uid": "e63859a9-80b3-4893-b73c-e1412b332463",
         "x": {
          "dtype": "float64",
          "shape": [
           11
          ]
         },
         "y": {
          "dtype": "float64",
          "shape": [
           11
          ]
         }
        },
        {
         "marker": {
          "color": {
           "dtype": "float64",
           "shape": [
            94
           ]
          },
          "coloraxis": "coloraxis",
          "line": {
           "color": "Black",
           "width": 1
          },
          "opacity": 0.7,
          "size": 8
         },
         "mode": "markers",
         "name": "Trials",
         "text": [
          "0",
          "1",
          "2",
          "3",
          "4",
          "5",
          "6",
          "7",
          "8",
          "9",
          "10",
          "11",
          "12",
          "13",
          "14",
          "15",
          "16",
          "17",
          "18",
          "19",
          "20",
          "21",
          "22",
          "23",
          "24",
          "25",
          "26",
          "27",
          "28",
          "29",
          "30",
          "31",
          "32",
          "33",
          "34",
          "35",
          "36",
          "37",
          "38",
          "39",
          "40",
          "41",
          "42",
          "43",
          "44",
          "45",
          "46",
          "47",
          "48",
          "49",
          "50",
          "51",
          "52",
          "53",
          "54",
          "55",
          "56",
          "57",
          "58",
          "59",
          "60",
          "61",
          "62",
          "63",
          "64",
          "65",
          "66",
          "67",
          "68",
          "69",
          "70",
          "71",
          "72",
          "73",
          "74",
          "75",
          "76",
          "77",
          "78",
          "79",
          "80",
          "81",
          "82",
          "83",
          "84",
          "85",
          "86",
          "87",
          "88",
          "89",
          "90",
          "91",
          "92",
          "93"
         ],
         "type": "scatter",
         "uid": "78c80eb7-369f-402a-b8b3-4534c571a4e7",
         "x": {
          "dtype": "float64",
          "shape": [
           94
          ]
         },
         "y": {
          "dtype": "float64",
          "shape": [
           94
          ]
         }
        }
       ],
       "_js2py_pointsCallback": {},
       "_js2py_relayout": {},
       "_js2py_restyle": {},
       "_js2py_update": {},
       "_last_layout_edit_id": 18,
       "_last_trace_edit_id": 17,
       "_layout": {
        "coloraxis": {
         "colorbar": {
          "ticks": "outside",
          "title": {
           "text": "v<sub>sed</sub>"
          }
         },
         "colorscale": [
          [
           0,
           "#fde725"
          ],
          [
           0.1111111111111111,
           "#b5de2b"
          ],
          [
           0.2222222222222222,
           "#6ece58"
          ],
          [
           0.3333333333333333,
           "#35b779"
          ],
          [
           0.4444444444444444,
           "#1f9e89"
          ],
          [
           0.5555555555555556,
           "#26828e"
          ],
          [
           0.6666666666666666,
           "#31688e"
          ],
          [
           0.7777777777777778,
           "#3e4989"
          ],
          [
           0.8888888888888888,
           "#482878"
          ],
          [
           1,
           "#440154"
          ]
         ]
        },
        "height": 600,
        "legend": {
         "x": 1.2,
         "xanchor": "left",
         "y": 1,
         "yanchor": "top"
        },
        "margin": {
         "l": 100
        },
        "template": {
         "layout": {
          "bargap": 0.05,
          "bargroupgap": 0,
          "font": {
           "color": "black",
           "family": "Segoe UI",
           "size": 17
          },
          "height": 700,
          "hovermode": "closest",
          "margin": {
           "b": 60,
           "l": 90,
           "r": 30,
           "t": 30
          },
          "scene": {
           "xaxis": {
            "color": "black",
            "linewidth": 2,
            "showline": true,
            "ticks": "outside"
           },
           "yaxis": {
            "color": "black",
            "linewidth": 2,
            "showline": true,
            "ticks": "outside"
           },
           "zaxis": {
            "color": "black",
            "linewidth": 2,
            "showline": true,
            "ticks": "outside"
           }
          },
          "xaxis": {
           "color": "black",
           "linewidth": 1.3,
           "mirror": true,
           "showgrid": true,
           "showline": true,
           "ticks": "outside",
           "zeroline": true
          },
          "yaxis": {
           "color": "black",
           "linewidth": 1.3,
           "mirror": true,
           "showgrid": true,
           "showline": true,
           "ticks": "outside",
           "zeroline": true
          }
         }
        },
        "width": 1000,
        "xaxis": {
         "rangemode": "tozero",
         "title": {
          "text": "[FeS<sub>2</sub>] / mol dm<sup>−3</sup>"
         }
        },
        "yaxis": {
         "title": {
          "text": "δ<sup>34</sup>S<sub>py</sub> (‰)"
         }
        }
       },
       "_py2js_animate": {},
       "_py2js_deleteTraces": {},
       "_py2js_moveTraces": {},
       "_py2js_removeLayoutProps": {},
       "_py2js_removeTraceProps": {},
       "_view_count": 0
      }
     },
     "c1079be021474766ba468c02282ffa54": {
      "model_module": "@jupyter-widgets/controls",
      "model_module_version": "1.5.0",
      "model_name": "SliderStyleModel",
      "state": {
       "description_width": ""
      }
     },
     "c14853e15f0340858d096ca4071b31b1": {
      "model_module": "@jupyter-widgets/controls",
      "model_module_version": "1.5.0",
      "model_name": "DescriptionStyleModel",
      "state": {
       "description_width": ""
      }
     },
     "c1da41075a2049f6b2facab9fadf7d33": {
      "model_module": "@jupyter-widgets/base",
      "model_module_version": "1.2.0",
      "model_name": "LayoutModel",
      "state": {
       "width": "100%"
      }
     },
     "c2948250b51841e5a20f55b97d05c120": {
      "model_module": "@jupyter-widgets/controls",
      "model_module_version": "1.5.0",
      "model_name": "SliderStyleModel",
      "state": {
       "description_width": ""
      }
     },
     "c3962445fe09490d940bc6da076d98bf": {
      "model_module": "@jupyter-widgets/controls",
      "model_module_version": "1.5.0",
      "model_name": "FloatRangeSliderModel",
      "state": {
       "_model_name": "FloatRangeSliderModel",
       "_view_name": "FloatRangeSliderView",
       "continuous_update": false,
       "description": "D<sub>32</sub>",
       "layout": "IPY_MODEL_5ba891174db64020aea47d8acbf39f57",
       "max": 0.3,
       "min": 0.001,
       "step": 0.001,
       "style": "IPY_MODEL_8a3118bfde3642bf945eec210419df04",
       "value": [
        0.1,
        0.3
       ]
      }
     },
     "c45787292b8b4fd79e61e537d3e748ae": {
      "model_module": "@jupyter-widgets/base",
      "model_module_version": "1.2.0",
      "model_name": "LayoutModel",
      "state": {}
     },
     "c4b4d08892ee49cea80f2bc3f344ea6f": {
      "model_module": "@jupyter-widgets/controls",
      "model_module_version": "1.5.0",
      "model_name": "FloatSliderModel",
      "state": {
       "description": "v<sub>sed</sub>",
       "layout": "IPY_MODEL_17b2b37d2b0b440fb73df165be40763c",
       "max": 0.5,
       "min": 0.001,
       "step": 0.001,
       "style": "IPY_MODEL_55be746e2ec144a5b589e2c575e2aab4",
       "value": 0.11
      }
     },
     "c4b79f0cee744fcb954c92214fe5d683": {
      "model_module": "@jupyter-widgets/base",
      "model_module_version": "1.2.0",
      "model_name": "LayoutModel",
      "state": {}
     },
     "c5a1eccd28254ae7b10680175cde15dd": {
      "model_module": "@jupyter-widgets/base",
      "model_module_version": "1.2.0",
      "model_name": "LayoutModel",
      "state": {}
     },
     "c63ba9a76cb34712b042270fe36ab3a6": {
      "model_module": "@jupyter-widgets/controls",
      "model_module_version": "1.5.0",
      "model_name": "FloatSliderModel",
      "state": {
       "description": "dz",
       "layout": "IPY_MODEL_dc588fed514b41f6985c174da1556a75",
       "max": 0.1,
       "min": 0.001,
       "step": 0.001,
       "style": "IPY_MODEL_76170b3a332d44569b2dd3db7c80bb6c",
       "value": 0.01
      }
     },
     "c643a3b7c7ea449899609188a6b6a4d2": {
      "model_module": "@jupyter-widgets/controls",
      "model_module_version": "1.5.0",
      "model_name": "FloatSliderModel",
      "state": {
       "description": "[FeS<sub>2</sub>]<sub>0</sub>",
       "layout": "IPY_MODEL_9201586b2a4643c0b7ce17d7179e2b3f",
       "max": 1,
       "step": 0.0025,
       "style": "IPY_MODEL_b69cc09d65cf49d5bbed50cbf0dd75fb",
       "value": 0.16
      }
     },
     "c6593b0f5dd54865b7c206a2a45972a4": {
      "model_module": "@jupyter-widgets/base",
      "model_module_version": "1.2.0",
      "model_name": "LayoutModel",
      "state": {
       "width": "100%"
      }
     },
     "c6daee6317304b6a87b2e853586cea5f": {
      "model_module": "@jupyter-widgets/base",
      "model_module_version": "1.2.0",
      "model_name": "LayoutModel",
      "state": {
       "width": "100%"
      }
     },
     "c828fa1345c845218fba949184457311": {
      "model_module": "@jupyter-widgets/controls",
      "model_module_version": "1.5.0",
      "model_name": "SliderStyleModel",
      "state": {
       "description_width": ""
      }
     },
     "c999844bcb2d44a4aa4217a59af556b4": {
      "model_module": "@jupyter-widgets/base",
      "model_module_version": "1.2.0",
      "model_name": "LayoutModel",
      "state": {}
     },
     "ca499448f43344e490c7e4573fe46ea9": {
      "model_module": "@jupyter-widgets/base",
      "model_module_version": "1.2.0",
      "model_name": "LayoutModel",
      "state": {
       "width": "100%"
      }
     },
     "cab9eb9770274868ac035878fb5e291a": {
      "model_module": "@jupyter-widgets/controls",
      "model_module_version": "1.5.0",
      "model_name": "SliderStyleModel",
      "state": {
       "description_width": ""
      }
     },
     "cb01f6d7663e41e19055e4f056cf456f": {
      "model_module": "@jupyter-widgets/base",
      "model_module_version": "1.2.0",
      "model_name": "LayoutModel",
      "state": {
       "width": "100%"
      }
     },
     "cb69ec0e0d7b4231a37c070993eb9f96": {
      "model_module": "@jupyter-widgets/controls",
      "model_module_version": "1.5.0",
      "model_name": "IntSliderModel",
      "state": {
       "continuous_update": false,
       "description": "№ of Trials",
       "layout": "IPY_MODEL_ef76ed3b0cc24a1796c53439a2bf55d5",
       "max": 1000,
       "min": 1,
       "style": "IPY_MODEL_d6a7d835c6084ec1913b1eb8b2638334",
       "value": 400
      }
     },
     "cb87cfffe9d74953bd498dbc011a4ea2": {
      "model_module": "@jupyter-widgets/controls",
      "model_module_version": "1.5.0",
      "model_name": "SliderStyleModel",
      "state": {
       "description_width": ""
      }
     },
     "cbf7dba812404b6fa6c68dba5fde3472": {
      "model_module": "@jupyter-widgets/controls",
      "model_module_version": "1.5.0",
      "model_name": "SliderStyleModel",
      "state": {
       "description_width": ""
      }
     },
     "cd839caa9f504d78b0930f595b38c197": {
      "model_module": "@jupyter-widgets/base",
      "model_module_version": "1.2.0",
      "model_name": "LayoutModel",
      "state": {}
     },
     "ce34019b8ff441bea301408614d91d8b": {
      "model_module": "@jupyter-widgets/base",
      "model_module_version": "1.2.0",
      "model_name": "LayoutModel",
      "state": {
       "width": "100%"
      }
     },
     "cf62209fc3894548bbde8bbd4b82ba95": {
      "model_module": "@jupyter-widgets/base",
      "model_module_version": "1.2.0",
      "model_name": "LayoutModel",
      "state": {
       "width": "100%"
      }
     },
     "d035c410311d45108c38da03c93ad257": {
      "model_module": "@jupyter-widgets/base",
      "model_module_version": "1.2.0",
      "model_name": "LayoutModel",
      "state": {}
     },
     "d0379d9937584c119af21464f07dd08f": {
      "model_module": "@jupyter-widgets/controls",
      "model_module_version": "1.5.0",
      "model_name": "FloatSliderModel",
      "state": {
       "description": "Opacity",
       "layout": "IPY_MODEL_d48757098d3047fbb8989aa8879c56e2",
       "max": 1,
       "step": 0.01,
       "style": "IPY_MODEL_b8f4940d8f9846a9ae4e7feb37db9f48",
       "value": 0.7
      }
     },
     "d109d90caae64ee3905f01e3e8a31390": {
      "model_module": "@jupyter-widgets/output",
      "model_module_version": "1.0.0",
      "model_name": "OutputModel",
      "state": {
       "layout": "IPY_MODEL_7f1a15c0580b4d46b8c65f8bb72012e7"
      }
     },
     "d13a9b7617e34f76ba7863fd627aaa78": {
      "model_module": "@jupyter-widgets/controls",
      "model_module_version": "1.5.0",
      "model_name": "HBoxModel",
      "state": {
       "children": [
        "IPY_MODEL_08ebb215f9ec4e628a47f897d62ab72e",
        "IPY_MODEL_74706c30ff5a4445b440d0773534be5d"
       ],
       "layout": "IPY_MODEL_060bf0ba8b4b4c60a6033de4989508c6"
      }
     },
     "d14132cebf26435781f6041446461ab8": {
      "model_module": "@jupyter-widgets/controls",
      "model_module_version": "1.5.0",
      "model_name": "FloatRangeSliderModel",
      "state": {
       "_model_name": "FloatRangeSliderModel",
       "_view_name": "FloatRangeSliderView",
       "continuous_update": false,
       "description": "v<sub>sed</sub>",
       "layout": "IPY_MODEL_2059630cc0c74bef881d259fa53a8218",
       "max": 0.5,
       "min": 0.001,
       "step": 0.001,
       "style": "IPY_MODEL_56dd167d8d9545168a2bda83cc73b8f0",
       "value": [
        0.005,
        0.2
       ]
      }
     },
     "d1644203990741268bad5f0b6c2ff79e": {
      "model_module": "@jupyter-widgets/controls",
      "model_module_version": "1.5.0",
      "model_name": "HBoxModel",
      "state": {
       "children": [
        "IPY_MODEL_d8f57f1139cb4951b1d1916dbdbf2cfc",
        "IPY_MODEL_8f73f059a5d74111aa91db0f02ca61ae"
       ],
       "layout": "IPY_MODEL_2f8e9a0502d24f2f9657d769867935f6"
      }
     },
     "d1738f9819e7486f9be360da4e102f24": {
      "model_module": "@jupyter-widgets/base",
      "model_module_version": "1.2.0",
      "model_name": "LayoutModel",
      "state": {
       "width": "100%"
      }
     },
     "d19d44d14ddb43698368d6d800e32190": {
      "model_module": "@jupyter-widgets/controls",
      "model_module_version": "1.5.0",
      "model_name": "DescriptionStyleModel",
      "state": {
       "description_width": ""
      }
     },
     "d234e46d3dc2417e98dc6828749823b5": {
      "model_module": "@jupyter-widgets/controls",
      "model_module_version": "1.5.0",
      "model_name": "FloatSliderModel",
      "state": {
       "description": "Opacity",
       "layout": "IPY_MODEL_30eb2d4941364079948d7c24ed7725dd",
       "max": 1,
       "step": 0.01,
       "style": "IPY_MODEL_fecdde65e5d14c47b15ab09d46afd198",
       "value": 0.7
      }
     },
     "d27d83d9a6704271b59964ce26b8a71d": {
      "model_module": "@jupyter-widgets/controls",
      "model_module_version": "1.5.0",
      "model_name": "FloatRangeSliderModel",
      "state": {
       "_model_name": "FloatRangeSliderModel",
       "_view_name": "FloatRangeSliderView",
       "continuous_update": false,
       "description": "k<sub>MSR</sub>",
       "layout": "IPY_MODEL_e2c8672208a74a6081424352904685c9",
       "max": 40,
       "step": 0.1,
       "style": "IPY_MODEL_806519a2a92f45109c533d4d6ddbc15e",
       "value": [
        5,
        15
       ]
      }
     },
     "d290dc2645e646ca84e93605660d816f": {
      "model_module": "@jupyter-widgets/controls",
      "model_module_version": "1.5.0",
      "model_name": "HBoxModel",
      "state": {
       "children": [
        "IPY_MODEL_70e2a8540fa248e8822c397c51023636",
        "IPY_MODEL_e5e987913fc84a1d8029b3f5b7685b35"
       ],
       "layout": "IPY_MODEL_f094b48b61d94089a591ba3142e22a20"
      }
     },
     "d3898cdda853426884f39b197a10150d": {
      "model_module": "@jupyter-widgets/base",
      "model_module_version": "1.2.0",
      "model_name": "LayoutModel",
      "state": {
       "width": "100%"
      }
     },
     "d43c6caf5a64447d93beba8e91923f9d": {
      "model_module": "@jupyter-widgets/output",
      "model_module_version": "1.0.0",
      "model_name": "OutputModel",
      "state": {
       "layout": "IPY_MODEL_14a16e2d5eb64b4ba1a009b687416f85"
      }
     },
     "d43ca6035f704cf9913e68d79ee8d793": {
      "model_module": "@jupyter-widgets/base",
      "model_module_version": "1.2.0",
      "model_name": "LayoutModel",
      "state": {
       "width": "100%"
      }
     },
     "d4409f459def4da08ebee3f8ba6200b2": {
      "model_module": "@jupyter-widgets/controls",
      "model_module_version": "1.5.0",
      "model_name": "FloatSliderModel",
      "state": {
       "description": "Marker Size",
       "layout": "IPY_MODEL_0d3167341231423680de8c5ff57eb5b5",
       "max": 20,
       "step": 0.1,
       "style": "IPY_MODEL_1530b4e299c146908c707e43492dfc89",
       "value": 8.9
      }
     },
     "d48757098d3047fbb8989aa8879c56e2": {
      "model_module": "@jupyter-widgets/base",
      "model_module_version": "1.2.0",
      "model_name": "LayoutModel",
      "state": {
       "width": "100%"
      }
     },
     "d4eb261acaba47e19dc214486402f2a7": {
      "model_module": "@jupyter-widgets/controls",
      "model_module_version": "1.5.0",
      "model_name": "VBoxModel",
      "state": {
       "children": [
        "IPY_MODEL_8e22e115ffbe4f31836077c40031e1ea",
        "IPY_MODEL_c042bff3cdde45b9b0f97de26c5c0034"
       ],
       "layout": "IPY_MODEL_d035c410311d45108c38da03c93ad257"
      }
     },
     "d60c07e02e024efa9ce4ab1e8bf9d0e5": {
      "model_module": "@jupyter-widgets/base",
      "model_module_version": "1.2.0",
      "model_name": "LayoutModel",
      "state": {}
     },
     "d61068d762654f4898364fa1aad1e535": {
      "model_module": "@jupyter-widgets/controls",
      "model_module_version": "1.5.0",
      "model_name": "VBoxModel",
      "state": {
       "children": [
        "IPY_MODEL_9eb5485288974703afb4a318a89d010c",
        "IPY_MODEL_fce4a013819f4062bcf1f75be2e459e7",
        "IPY_MODEL_434d1a630d7b49b9b956bf916d59ea5f",
        "IPY_MODEL_dafd0d4f234743a385fe47f82d2b1bde",
        "IPY_MODEL_6b060ac38d2249a098212893249cfc44",
        "IPY_MODEL_7b139ab5097648588f7960ac69392aa5",
        "IPY_MODEL_fc6b855870ec41b9a4557d4fbec3492e"
       ],
       "layout": "IPY_MODEL_5b8ae1aff2b542158cdfb121cb780e38"
      }
     },
     "d6a7d835c6084ec1913b1eb8b2638334": {
      "model_module": "@jupyter-widgets/controls",
      "model_module_version": "1.5.0",
      "model_name": "SliderStyleModel",
      "state": {
       "description_width": ""
      }
     },
     "d7ab48f2ffc34aa0bba148ba73026f39": {
      "model_module": "@jupyter-widgets/base",
      "model_module_version": "1.2.0",
      "model_name": "LayoutModel",
      "state": {
       "width": "100%"
      }
     },
     "d8166f2d1dcc4ffeb04363f087ebb914": {
      "model_module": "@jupyter-widgets/controls",
      "model_module_version": "1.5.0",
      "model_name": "SliderStyleModel",
      "state": {
       "description_width": ""
      }
     },
     "d88406c67b28470b81c6cdbeffe3adbf": {
      "model_module": "@jupyter-widgets/controls",
      "model_module_version": "1.5.0",
      "model_name": "FloatRangeSliderModel",
      "state": {
       "_model_name": "FloatRangeSliderModel",
       "_view_name": "FloatRangeSliderView",
       "continuous_update": false,
       "description": "ε<sub>MSR</sub>",
       "layout": "IPY_MODEL_956c6da3588c423abf550768413e2f24",
       "style": "IPY_MODEL_6ee579a6a95c4f809040f6c1ec8273ab",
       "value": [
        40,
        55
       ]
      }
     },
     "d8f57f1139cb4951b1d1916dbdbf2cfc": {
      "model_module": "@jupyter-widgets/controls",
      "model_module_version": "1.5.0",
      "model_name": "FloatRangeSliderModel",
      "state": {
       "_model_name": "FloatRangeSliderModel",
       "_view_name": "FloatRangeSliderView",
       "continuous_update": false,
       "description": "D<sub>32</sub>",
       "layout": "IPY_MODEL_1b9c330a440146fb934454babc1e63f1",
       "max": 0.3,
       "min": 0.001,
       "step": 0.001,
       "style": "IPY_MODEL_cb87cfffe9d74953bd498dbc011a4ea2",
       "value": [
        0.1,
        0.3
       ]
      }
     },
     "d9004f80dd8e4e72aaffab69d9f7595a": {
      "model_module": "@jupyter-widgets/base",
      "model_module_version": "1.2.0",
      "model_name": "LayoutModel",
      "state": {}
     },
     "d9a34b4914a141d68e3f72c389d18d17": {
      "model_module": "@jupyter-widgets/base",
      "model_module_version": "1.2.0",
      "model_name": "LayoutModel",
      "state": {
       "width": "100%"
      }
     },
     "d9eaa179aa414272971372307b23037e": {
      "model_module": "@jupyter-widgets/base",
      "model_module_version": "1.2.0",
      "model_name": "LayoutModel",
      "state": {
       "width": "100%"
      }
     },
     "d9f0fb112bcf4a83a3840225bc43f136": {
      "model_module": "@jupyter-widgets/controls",
      "model_module_version": "1.5.0",
      "model_name": "SliderStyleModel",
      "state": {
       "description_width": ""
      }
     },
     "da66d19ed88d41968a5e31288b6dad86": {
      "model_module": "@jupyter-widgets/base",
      "model_module_version": "1.2.0",
      "model_name": "LayoutModel",
      "state": {}
     },
     "dafd0d4f234743a385fe47f82d2b1bde": {
      "model_module": "@jupyter-widgets/controls",
      "model_module_version": "1.5.0",
      "model_name": "HBoxModel",
      "state": {
       "children": [
        "IPY_MODEL_c3962445fe09490d940bc6da076d98bf",
        "IPY_MODEL_e35763cb6c92461083928f677da052d4"
       ],
       "layout": "IPY_MODEL_148010e7aa3e43f0af8eb1d422b3d09a"
      }
     },
     "dc588fed514b41f6985c174da1556a75": {
      "model_module": "@jupyter-widgets/base",
      "model_module_version": "1.2.0",
      "model_name": "LayoutModel",
      "state": {
       "width": "100%"
      }
     },
     "dcaec851b95440a587ff122a3ba99763": {
      "model_module": "@jupyter-widgets/controls",
      "model_module_version": "1.5.0",
      "model_name": "SliderStyleModel",
      "state": {
       "description_width": ""
      }
     },
     "dd24e38122924f0e9774a81c59db6673": {
      "model_module": "@jupyter-widgets/controls",
      "model_module_version": "1.5.0",
      "model_name": "HBoxModel",
      "state": {
       "children": [
        "IPY_MODEL_7eca52f9420b4dfca0dccddcd399ba15",
        "IPY_MODEL_52d9e3f3b64b42d1b49c72ed30ae19db"
       ],
       "layout": "IPY_MODEL_3facd274374c49ba898dbe89e5bc4570"
      }
     },
     "dea86611eaf144bca07e25b9a89df82e": {
      "model_module": "@jupyter-widgets/base",
      "model_module_version": "1.2.0",
      "model_name": "LayoutModel",
      "state": {
       "width": "100%"
      }
     },
     "dff70b03125045adb7e23cd6e4ef512e": {
      "model_module": "@jupyter-widgets/controls",
      "model_module_version": "1.5.0",
      "model_name": "SliderStyleModel",
      "state": {
       "description_width": ""
      }
     },
     "e004a4872dcf4aac939374ad93afbbe5": {
      "model_module": "@jupyter-widgets/base",
      "model_module_version": "1.2.0",
      "model_name": "LayoutModel",
      "state": {
       "width": "100%"
      }
     },
     "e02b1a6c634a479e9d294237b590e34e": {
      "model_module": "@jupyter-widgets/base",
      "model_module_version": "1.2.0",
      "model_name": "LayoutModel",
      "state": {}
     },
     "e1e1c707db614e7dba6352e4cd3a8e8b": {
      "model_module": "@jupyter-widgets/controls",
      "model_module_version": "1.5.0",
      "model_name": "CheckboxModel",
      "state": {
       "description": "Plot curve w/o syn-depositional pyrite",
       "disabled": false,
       "layout": "IPY_MODEL_88e53b4287fc4b65abf50391b870a609",
       "style": "IPY_MODEL_2bef99998ed2495a94e145e4f611cb73",
       "value": false
      }
     },
     "e20fbc07c3ee4ae2a6f1fce6d0e9e6fa": {
      "model_module": "@jupyter-widgets/controls",
      "model_module_version": "1.5.0",
      "model_name": "FloatSliderModel",
      "state": {
       "description": "dz",
       "layout": "IPY_MODEL_89463ee4b1a6469bbbfdb645711ef0aa",
       "max": 0.1,
       "min": 0.001,
       "step": 0.001,
       "style": "IPY_MODEL_d9f0fb112bcf4a83a3840225bc43f136",
       "value": 0.01
      }
     },
     "e299beff71c14b2280619651d51b20bb": {
      "model_module": "@jupyter-widgets/controls",
      "model_module_version": "1.5.0",
      "model_name": "HBoxModel",
      "state": {
       "children": [
        "IPY_MODEL_a912311f9a7342b28e5a6f23dd0b4584"
       ],
       "layout": "IPY_MODEL_a624040ff5aa46c09f29fb555b12d14c"
      }
     },
     "e2c8672208a74a6081424352904685c9": {
      "model_module": "@jupyter-widgets/base",
      "model_module_version": "1.2.0",
      "model_name": "LayoutModel",
      "state": {
       "width": "100%"
      }
     },
     "e32a9b23d2a54c8291d3f9d2aa4d51c8": {
      "model_module": "@jupyter-widgets/base",
      "model_module_version": "1.2.0",
      "model_name": "LayoutModel",
      "state": {}
     },
     "e35763cb6c92461083928f677da052d4": {
      "model_module": "@jupyter-widgets/controls",
      "model_module_version": "1.5.0",
      "model_name": "FloatRangeSliderModel",
      "state": {
       "_model_name": "FloatRangeSliderModel",
       "_view_name": "FloatRangeSliderView",
       "continuous_update": false,
       "description": "β",
       "layout": "IPY_MODEL_5d5fa3a3c2c54e54a58ce52b782caf0b",
       "max": 0.05,
       "step": 0.001,
       "style": "IPY_MODEL_5ec5bb5e2313469c86344110b83b4356",
       "value": [
        0,
        0.05
       ]
      }
     },
     "e470beee0a9d4ce794d4a30cddc3810b": {
      "model_module": "@jupyter-widgets/controls",
      "model_module_version": "1.5.0",
      "model_name": "SliderStyleModel",
      "state": {
       "description_width": ""
      }
     },
     "e5b6905f0a1e477ab8b8a08db1469b85": {
      "model_module": "@jupyter-widgets/base",
      "model_module_version": "1.2.0",
      "model_name": "LayoutModel",
      "state": {}
     },
     "e5e987913fc84a1d8029b3f5b7685b35": {
      "model_module": "@jupyter-widgets/controls",
      "model_module_version": "1.5.0",
      "model_name": "FloatSliderModel",
      "state": {
       "description": "k<sub>MSR</sub>",
       "layout": "IPY_MODEL_a4458843fff44139aa54f1cb2852f1a6",
       "max": 40,
       "step": 0.1,
       "style": "IPY_MODEL_9a3c60ad100c4914b6996cb9c3e9b187",
       "value": 10
      }
     },
     "e64831c9a5f149d9b58d37fcecd7fcba": {
      "model_module": "@jupyter-widgets/base",
      "model_module_version": "1.2.0",
      "model_name": "LayoutModel",
      "state": {}
     },
     "e656d4bd79384e69a9fde112f79b890c": {
      "model_module": "@jupyter-widgets/base",
      "model_module_version": "1.2.0",
      "model_name": "LayoutModel",
      "state": {}
     },
     "e660b6ea6bb945dbb53ad29bcee7e859": {
      "model_module": "@jupyter-widgets/base",
      "model_module_version": "1.2.0",
      "model_name": "LayoutModel",
      "state": {}
     },
     "e696c38a03f24223b724c7f244c166bf": {
      "model_module": "@jupyter-widgets/controls",
      "model_module_version": "1.5.0",
      "model_name": "HBoxModel",
      "state": {
       "children": [
        "IPY_MODEL_4f739447fdc34506b4ef34abce62af2b",
        "IPY_MODEL_d4409f459def4da08ebee3f8ba6200b2",
        "IPY_MODEL_a974a683d3884312ab7fb56538cece9d"
       ],
       "layout": "IPY_MODEL_40980d3dbc494b8cb00e3b5decd67e95"
      }
     },
     "e76abaf92207464eaf6ecabe9842bdb2": {
      "model_module": "@jupyter-widgets/controls",
      "model_module_version": "1.5.0",
      "model_name": "FloatSliderModel",
      "state": {
       "description": "k<sub>MSR</sub>",
       "layout": "IPY_MODEL_00558cc2ddcf454eb6fa547e14804449",
       "max": 40,
       "step": 0.1,
       "style": "IPY_MODEL_cab9eb9770274868ac035878fb5e291a",
       "value": 10.2
      }
     },
     "e7fda2143d354782a890c9734c6dd9a0": {
      "model_module": "@jupyter-widgets/base",
      "model_module_version": "1.2.0",
      "model_name": "LayoutModel",
      "state": {
       "width": "100%"
      }
     },
     "e84089a8df1b4604953d346444f20f81": {
      "model_module": "@jupyter-widgets/controls",
      "model_module_version": "1.5.0",
      "model_name": "FloatRangeSliderModel",
      "state": {
       "_model_name": "FloatRangeSliderModel",
       "_view_name": "FloatRangeSliderView",
       "description": "[FeS<sub>2</sub>]<sub>0</sub>",
       "layout": "IPY_MODEL_06a3c91c49864030b6a00aaed4870130",
       "max": 1,
       "step": 0.0025,
       "style": "IPY_MODEL_dcaec851b95440a587ff122a3ba99763",
       "value": [
        0.1,
        0.25
       ]
      }
     },
     "e8780af051e94722b9f4d7439e8a2f02": {
      "model_module": "@jupyter-widgets/controls",
      "model_module_version": "1.5.0",
      "model_name": "FloatSliderModel",
      "state": {
       "description": "z<sub>max</sub>",
       "layout": "IPY_MODEL_e7fda2143d354782a890c9734c6dd9a0",
       "max": 10,
       "min": 0.01,
       "step": 0.01,
       "style": "IPY_MODEL_9ce21d9d52f04950b89f4df2ab83c8a6",
       "value": 1.5
      }
     },
     "e88ebb6cbfd34c6ab8a7348833be3ba5": {
      "model_module": "@jupyter-widgets/controls",
      "model_module_version": "1.5.0",
      "model_name": "HBoxModel",
      "state": {
       "children": [
        "IPY_MODEL_6d55bc27c10a4d418e34a58457312466",
        "IPY_MODEL_bcc81b390b114ab0afebb653d2c375b4"
       ],
       "layout": "IPY_MODEL_040904df836040d085b423746f7c02e6"
      }
     },
     "e8a406794caf476da0f081758c0cac70": {
      "model_module": "@jupyter-widgets/controls",
      "model_module_version": "1.5.0",
      "model_name": "FloatRangeSliderModel",
      "state": {
       "_model_name": "FloatRangeSliderModel",
       "_view_name": "FloatRangeSliderView",
       "description": "[SO<sub>4</sub>]<sub>0</sub>",
       "layout": "IPY_MODEL_0a9665ceb8864bc99a2f2645b9c796bd",
       "max": 0.3,
       "min": 0.001,
       "step": 0.001,
       "style": "IPY_MODEL_0552067c441a4570b4d6d8b73fb985f6",
       "value": [
        0.008,
        0.013
       ]
      }
     },
     "e8b6a21fdb09464395495d2d633c649d": {
      "model_module": "@jupyter-widgets/controls",
      "model_module_version": "1.5.0",
      "model_name": "FloatTextModel",
      "state": {
       "description": "from",
       "layout": "IPY_MODEL_acddcbb66ac343029809f7106e66d6f4",
       "step": 0.01,
       "style": "IPY_MODEL_c14853e15f0340858d096ca4071b31b1",
       "value": 0.005
      }
     },
     "e8fc1f6b6cfe4ff496be73e779a554de": {
      "model_module": "@jupyter-widgets/controls",
      "model_module_version": "1.5.0",
      "model_name": "FloatSliderModel",
      "state": {
       "description": "dz",
       "layout": "IPY_MODEL_739cb15913354529b481e1120565e883",
       "max": 0.1,
       "min": 0.001,
       "step": 0.001,
       "style": "IPY_MODEL_2678dc0340cf4017a0e70e553da07272",
       "value": 0.01
      }
     },
     "e99f8e2b1e654636aa3ad0acbe869d38": {
      "model_module": "@jupyter-widgets/controls",
      "model_module_version": "1.5.0",
      "model_name": "SliderStyleModel",
      "state": {
       "description_width": ""
      }
     },
     "ea7950820c92424097befc068342aad2": {
      "model_module": "@jupyter-widgets/base",
      "model_module_version": "1.2.0",
      "model_name": "LayoutModel",
      "state": {
       "width": "100%"
      }
     },
     "ec4c5154daf84867864fffd0cc825b6c": {
      "model_module": "@jupyter-widgets/controls",
      "model_module_version": "1.5.0",
      "model_name": "HBoxModel",
      "state": {
       "children": [
        "IPY_MODEL_f5ef968da74c4379b63f62053aa29849",
        "IPY_MODEL_7c2a31471c9d48fc9cca380e978dc213"
       ],
       "layout": "IPY_MODEL_a4624ada580943998f76cca63baa8b9f"
      }
     },
     "ecb54d0f482d494097a0f3c5d1994c0b": {
      "model_module": "@jupyter-widgets/controls",
      "model_module_version": "1.5.0",
      "model_name": "CheckboxModel",
      "state": {
       "description": "Plot Residuals",
       "disabled": false,
       "layout": "IPY_MODEL_59de8da5bcab406b951d7afc14f3b071",
       "style": "IPY_MODEL_b111718beb5a4e809eb862c9972e4a24",
       "value": false
      }
     },
     "ed0bf5783f09426b88edd77c85a07ae2": {
      "model_module": "@jupyter-widgets/base",
      "model_module_version": "1.2.0",
      "model_name": "LayoutModel",
      "state": {}
     },
     "ee3694a9e4e44fed8146fd32c91b26b0": {
      "model_module": "@jupyter-widgets/controls",
      "model_module_version": "1.5.0",
      "model_name": "SliderStyleModel",
      "state": {
       "description_width": ""
      }
     },
     "ee44379d604049d386f8aefddd07c3c0": {
      "model_module": "@jupyter-widgets/base",
      "model_module_version": "1.2.0",
      "model_name": "LayoutModel",
      "state": {
       "width": "200px"
      }
     },
     "ee5f6882424d47c3ad42d35f122bf28a": {
      "model_module": "@jupyter-widgets/controls",
      "model_module_version": "1.5.0",
      "model_name": "FloatRangeSliderModel",
      "state": {
       "_model_name": "FloatRangeSliderModel",
       "_view_name": "FloatRangeSliderView",
       "continuous_update": false,
       "description": "[FeS<sub>2</sub>]<sub>0</sub>",
       "layout": "IPY_MODEL_83c7380e5fe94b35af0b042f63518544",
       "max": 1,
       "step": 0.0025,
       "style": "IPY_MODEL_4a8571f60db9424f9126918d6d480ef4",
       "value": [
        0.1,
        0.25
       ]
      }
     },
     "eef7f7db31074d21a999395e05b48120": {
      "model_module": "@jupyter-widgets/controls",
      "model_module_version": "1.5.0",
      "model_name": "DescriptionStyleModel",
      "state": {
       "description_width": ""
      }
     },
     "ef76ed3b0cc24a1796c53439a2bf55d5": {
      "model_module": "@jupyter-widgets/base",
      "model_module_version": "1.2.0",
      "model_name": "LayoutModel",
      "state": {
       "width": "100%"
      }
     },
     "f094b48b61d94089a591ba3142e22a20": {
      "model_module": "@jupyter-widgets/base",
      "model_module_version": "1.2.0",
      "model_name": "LayoutModel",
      "state": {}
     },
     "f10655779947414bb39e99273d0acdd6": {
      "model_module": "@jupyter-widgets/output",
      "model_module_version": "1.0.0",
      "model_name": "OutputModel",
      "state": {
       "layout": "IPY_MODEL_d60c07e02e024efa9ce4ab1e8bf9d0e5",
       "outputs": [
        {
         "name": "stdout",
         "output_type": "stream",
         "text": "Final [py]: 0.2246\nFinal d34S: -23.0985\n"
        }
       ]
      }
     },
     "f3de6366d38f41dea809c9e74b7f958a": {
      "model_module": "@jupyter-widgets/base",
      "model_module_version": "1.2.0",
      "model_name": "LayoutModel",
      "state": {}
     },
     "f474336d781c423687ca2c4a9e6d8812": {
      "model_module": "@jupyter-widgets/base",
      "model_module_version": "1.2.0",
      "model_name": "LayoutModel",
      "state": {
       "width": "100%"
      }
     },
     "f5576518c3ad44f9afe5c18339b68417": {
      "model_module": "@jupyter-widgets/controls",
      "model_module_version": "1.5.0",
      "model_name": "FloatRangeSliderModel",
      "state": {
       "_model_name": "FloatRangeSliderModel",
       "_view_name": "FloatRangeSliderView",
       "description": "ε<sub>MSR</sub>",
       "layout": "IPY_MODEL_97d8a40564814ac29d55bee13e84df31",
       "style": "IPY_MODEL_1c7d0fb722554c8995e25ea70e7d742d",
       "value": [
        40,
        55
       ]
      }
     },
     "f5d09f2691414132a228cbd89505c083": {
      "model_module": "@jupyter-widgets/base",
      "model_module_version": "1.2.0",
      "model_name": "LayoutModel",
      "state": {}
     },
     "f5ef968da74c4379b63f62053aa29849": {
      "model_module": "@jupyter-widgets/controls",
      "model_module_version": "1.5.0",
      "model_name": "FloatSliderModel",
      "state": {
       "description": "z<sub>max</sub>",
       "layout": "IPY_MODEL_d43ca6035f704cf9913e68d79ee8d793",
       "max": 10,
       "min": 0.01,
       "step": 0.01,
       "style": "IPY_MODEL_58c279d22c4045c39feb29202f2a70b1",
       "value": 1.5
      }
     },
     "f66e509e943741f487e689f068a119a5": {
      "model_module": "@jupyter-widgets/controls",
      "model_module_version": "1.5.0",
      "model_name": "VBoxModel",
      "state": {
       "children": [
        "IPY_MODEL_80cecc227c15459e8d7994903d635044",
        "IPY_MODEL_3cd28565128b4406b584a92486d94805"
       ],
       "layout": "IPY_MODEL_b85adc1b04ed4d4dae63ac9bd084f82a"
      }
     },
     "f76cba79a50347abba77e28d7888eb18": {
      "model_module": "@jupyter-widgets/base",
      "model_module_version": "1.2.0",
      "model_name": "LayoutModel",
      "state": {}
     },
     "f7d60bcfeede44f1885204cfe57f738e": {
      "model_module": "@jupyter-widgets/base",
      "model_module_version": "1.2.0",
      "model_name": "LayoutModel",
      "state": {}
     },
     "f7ebfd9839aa4a4c929fdf4ec6f467f2": {
      "model_module": "@jupyter-widgets/controls",
      "model_module_version": "1.5.0",
      "model_name": "VBoxModel",
      "state": {
       "children": [
        "IPY_MODEL_52766da4d1ee41678cb355ea4c14d0bc",
        "IPY_MODEL_96d39cd194d04281a9ad9f956d452749",
        "IPY_MODEL_5efb0d1d0581419aa235e0f6fd49db5b",
        "IPY_MODEL_b52441e205884dd5b40cd1d97757f2b8",
        "IPY_MODEL_2158ad8e71af4c389d5eb83a33907e17",
        "IPY_MODEL_e299beff71c14b2280619651d51b20bb",
        "IPY_MODEL_204cef3dec724cbe96b644d916eb2f3f"
       ],
       "layout": "IPY_MODEL_62b62a1cc86d46efa1291fa927ed1911"
      }
     },
     "fa6be286cb684c148b45e656dd9aaca4": {
      "model_module": "@jupyter-widgets/base",
      "model_module_version": "1.2.0",
      "model_name": "LayoutModel",
      "state": {
       "width": "100%"
      }
     },
     "fabaa6deafa947c1bfb7546ecd877863": {
      "model_module": "@jupyter-widgets/base",
      "model_module_version": "1.2.0",
      "model_name": "LayoutModel",
      "state": {
       "width": "100%"
      }
     },
     "fac3806d2a9d4562a0a9e7a561474e2a": {
      "model_module": "@jupyter-widgets/base",
      "model_module_version": "1.2.0",
      "model_name": "LayoutModel",
      "state": {}
     },
     "fc6b855870ec41b9a4557d4fbec3492e": {
      "model_module": "@jupyter-widgets/controls",
      "model_module_version": "1.5.0",
      "model_name": "HBoxModel",
      "state": {
       "children": [
        "IPY_MODEL_b5e0734b3bcd42549cdeb00fb9c21b39",
        "IPY_MODEL_1014dff35493417ea3e34e73c4b03f44",
        "IPY_MODEL_d234e46d3dc2417e98dc6828749823b5"
       ],
       "layout": "IPY_MODEL_6c6e8ad4afd843e4bfb5f9985f4d9725"
      }
     },
     "fcb1acd299d94cce97a2b80f01328dde": {
      "model_module": "@jupyter-widgets/controls",
      "model_module_version": "1.5.0",
      "model_name": "DescriptionStyleModel",
      "state": {
       "description_width": ""
      }
     },
     "fce4a013819f4062bcf1f75be2e459e7": {
      "model_module": "@jupyter-widgets/controls",
      "model_module_version": "1.5.0",
      "model_name": "HBoxModel",
      "state": {
       "children": [
        "IPY_MODEL_ee5f6882424d47c3ad42d35f122bf28a",
        "IPY_MODEL_a3c5ebeabac147d0a2c01a1696268dcf"
       ],
       "layout": "IPY_MODEL_5258e14ec8444819b5e6f655e16710ac"
      }
     },
     "fcfe0aeee11446d4b3e4abdc1ebc4f28": {
      "model_module": "@jupyter-widgets/base",
      "model_module_version": "1.2.0",
      "model_name": "LayoutModel",
      "state": {}
     },
     "fd0f3328159c439cbec3a0334bf74917": {
      "buffers": [
       {
        "data": "xYgRI0aMyD8EJRGURFDSPx3HcRzHccw/yR4he4Ts4T+E7BGyR8jePwGPATwG8Ng/8afBnwZ/2j/FiBEjRozYP3mb4W2Gt9k/s9bJWidr3T+TJk2aNGniP/GnwZ8Gf9o/3/V51+dd7z/ii4kvJr7YP7ds2bJly/Y/qFChQoUK1T/hwIEDBw7cP+KLiS8mvtg/QCsBrQS00j920NlBZwfdP7oC6QqkK+A//vjx48ePzz8vebnk5ZLXP7g34d6Ee9M/XGNxjcU11j/Ub1G/Rf3WP28VuVXkVtE/lp5Zembp2T/Ub1G/Rf3WP3bQ2UFnB90/SeYhmYdk3j9REkFJBCXhP6sbqW6kutE/aLSh0YZG2z/zcsnLJS/XP8LyAcsHLN8/4ouJLya+2D8=",
        "encoding": "base64",
        "path": [
         "_data",
         0,
         "x",
         "value"
        ]
       },
       {
        "data": "Rwd4wKP9NcDE/ACOXgkwwMIuJT+MjyrA/jMJIdu/L8BUmBt0ZCcywDKRuNYj7DLAP1PtOgpRNMB4L4ehp1EuwKu1c0F4mzTAUHW0UVYANsAGJ7EOl7gmwFFBx24I4jPAj9E3cp7+I8CEuSjx9+UywAQFkeNMMhbA2TVfjqU7MMDVZnrukJwywH+jqudgGyzAqPZymVzMNMAJO9kXTeI0wDalBdnBcjXAwoQpRBDLNMBCT3jre2A4wI4TYoJFczPALO/3XeG7NMDgYpUCNDczwOHG4xE5UTTAzsaJukrVLsDwGDRs5AY2wNgFvnI7yTbAGoYfg/CcNcB/hirdR4o1wNmKIT+GOjPAc77WsPMGOcA0gtMIOBQ2wOUGKnLaIzXAGR4S+eZWL8A=",
        "encoding": "base64",
        "path": [
         "_data",
         0,
         "y",
         "value"
        ]
       },
       {
        "data": "fDHxxcQXwz8BjwE8BvCIPw==",
        "encoding": "base64",
        "path": [
         "_data",
         1,
         "x",
         "value"
        ]
       },
       {
        "data": "cLVTVzbTM8AAAAAAAAD4fw==",
        "encoding": "base64",
        "path": [
         "_data",
         1,
         "y",
         "value"
        ]
       },
       {
        "data": "OP/h/Ifz3z8MbzO8zfD2Pw==",
        "encoding": "base64",
        "path": [
         "_data",
         2,
         "x",
         "value"
        ]
       },
       {
        "data": "ovup9wEPLcCl/yfjkHwdwA==",
        "encoding": "base64",
        "path": [
         "_data",
         2,
         "y",
         "value"
        ]
       },
       {
        "data": "bEqxKcWm5D/R2UFnB53dPy09s/TM0vM/HcdxHMdx3D8srrG4xuLaP3wx8cXEF9M/I9WNVDdS7T98MfHFxBfTP8dTGU9lPNU//sP5D+c/3D+4N+HehHvTPw==",
        "encoding": "base64",
        "path": [
         "_data",
         3,
         "x",
         "value"
        ]
       },
       {
        "data": "LXRyTCwKLcCYbbVBaekpwIDQerKveiDAKCD9rhZYI8BeyxW7L38wwNQynejnmCrAhEeFPsdBIsDGEL3bpnUxwJyLhhnAnzTAegDWAACoI8ARyWyzaP8wwA==",
        "encoding": "base64",
        "path": [
         "_data",
         3,
         "y",
         "value"
        ]
       },
       {
        "data": "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",
        "encoding": "base64",
        "path": [
         "_data",
         4,
         "marker",
         "color",
         "value"
        ]
       },
       {
        "data": "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",
        "encoding": "base64",
        "path": [
         "_data",
         4,
         "x",
         "value"
        ]
       },
       {
        "data": "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",
        "encoding": "base64",
        "path": [
         "_data",
         4,
         "y",
         "value"
        ]
       }
      ],
      "model_module": "jupyterlab-plotly",
      "model_module_version": "^5.1.0",
      "model_name": "FigureModel",
      "state": {
       "_config": {
        "plotlyServerURL": "https://plot.ly"
       },
       "_data": [
        {
         "marker": {
          "color": "Blue",
          "opacity": 0.3,
          "symbol": "circle"
         },
         "mode": "markers",
         "name": "Mudstone",
         "text": [
          "KC-2-1",
          "KC-2-2",
          "KC-2-2.5",
          "KC-2-3",
          "KC-2-3.5",
          "KC-2-4.5",
          "KC-2-5",
          "KC-2-6",
          "KC-2-6.5",
          "KC-2-7",
          "KC-2-8",
          "KC-2-9",
          "KC-2-10",
          "KC-2-11",
          "KC-2-12",
          "KC-2-13",
          "KC-2-14",
          "KC-2-14.5",
          "KC-2-15",
          "KC-2-15.5",
          "KC-2-16",
          "KC-2-17",
          "KC-2-18",
          "KC-2-19",
          "KC-2-20",
          "KC-2-21",
          "KC-2-21.5",
          "KC-2-22",
          "KC-2-23",
          "KC-2-24",
          "KC-2-25",
          "KC-2-25.5",
          "KC-2-26",
          "KC-2-26.5",
          "KC-2-27",
          "KC-2-28",
          "KC-2-29"
         ],
         "type": "scatter",
         "uid": "4eeb2ce1-eea1-45e2-ad45-2262327500b9",
         "x": {
          "dtype": "float64",
          "shape": [
           37
          ]
         },
         "y": {
          "dtype": "float64",
          "shape": [
           37
          ]
         }
        },
        {
         "marker": {
          "color": "Blue",
          "opacity": 0.3,
          "symbol": "star"
         },
         "mode": "markers",
         "name": "Carbonate",
         "text": [
          "KC-2-0",
          "KC-2-30"
         ],
         "type": "scatter",
         "uid": "6819511b-a90e-4308-b935-e4ae8325773b",
         "x": {
          "dtype": "float64",
          "shape": [
           2
          ]
         },
         "y": {
          "dtype": "float64",
          "shape": [
           2
          ]
         }
        },
        {
         "marker": {
          "color": "Blue",
          "opacity": 0.3,
          "symbol": "square"
         },
         "mode": "markers",
         "name": "Pervasively pyritised regions",
         "text": [
          "KC-2-6p",
          "KC-2-22p"
         ],
         "type": "scatter",
         "uid": "b79d8991-1c36-480d-b02d-10ed3f778fa0",
         "x": {
          "dtype": "float64",
          "shape": [
           2
          ]
         },
         "y": {
          "dtype": "float64",
          "shape": [
           2
          ]
         }
        },
        {
         "marker": {
          "color": "Blue",
          "opacity": 0.3,
          "symbol": "diamond"
         },
         "mode": "markers",
         "name": "Bed 22",
         "text": [
          "KC-3-A",
          "KC-3-B",
          "KC-3-C",
          "KC-3-D",
          "KC-3-E",
          "KC-3-F",
          "KC-3-G",
          "KC-3-H",
          "KC-3-I",
          "KC-3-J",
          "KC-3-K"
         ],
         "type": "scatter",
         "uid": "c82a2053-e8a0-4943-9fa8-741498edaeb9",
         "x": {
          "dtype": "float64",
          "shape": [
           11
          ]
         },
         "y": {
          "dtype": "float64",
          "shape": [
           11
          ]
         }
        },
        {
         "marker": {
          "color": {
           "dtype": "float64",
           "shape": [
            400
           ]
          },
          "coloraxis": "coloraxis",
          "line": {
           "color": "Black",
           "width": 1
          },
          "opacity": 0.51,
          "size": 8.9
         },
         "mode": "markers",
         "name": "Trials",
         "text": [
          "0",
          "1",
          "2",
          "3",
          "4",
          "5",
          "6",
          "7",
          "8",
          "9",
          "10",
          "11",
          "12",
          "13",
          "14",
          "15",
          "16",
          "17",
          "18",
          "19",
          "20",
          "21",
          "22",
          "23",
          "24",
          "25",
          "26",
          "27",
          "28",
          "29",
          "30",
          "31",
          "32",
          "33",
          "34",
          "35",
          "36",
          "37",
          "38",
          "39",
          "40",
          "41",
          "42",
          "43",
          "44",
          "45",
          "46",
          "47",
          "48",
          "49",
          "50",
          "51",
          "52",
          "53",
          "54",
          "55",
          "56",
          "57",
          "58",
          "59",
          "60",
          "61",
          "62",
          "63",
          "64",
          "65",
          "66",
          "67",
          "68",
          "69",
          "70",
          "71",
          "72",
          "73",
          "74",
          "75",
          "76",
          "77",
          "78",
          "79",
          "80",
          "81",
          "82",
          "83",
          "84",
          "85",
          "86",
          "87",
          "88",
          "89",
          "90",
          "91",
          "92",
          "93",
          "94",
          "95",
          "96",
          "97",
          "98",
          "99",
          "100",
          "101",
          "102",
          "103",
          "104",
          "105",
          "106",
          "107",
          "108",
          "109",
          "110",
          "111",
          "112",
          "113",
          "114",
          "115",
          "116",
          "117",
          "118",
          "119",
          "120",
          "121",
          "122",
          "123",
          "124",
          "125",
          "126",
          "127",
          "128",
          "129",
          "130",
          "131",
          "132",
          "133",
          "134",
          "135",
          "136",
          "137",
          "138",
          "139",
          "140",
          "141",
          "142",
          "143",
          "144",
          "145",
          "146",
          "147",
          "148",
          "149",
          "150",
          "151",
          "152",
          "153",
          "154",
          "155",
          "156",
          "157",
          "158",
          "159",
          "160",
          "161",
          "162",
          "163",
          "164",
          "165",
          "166",
          "167",
          "168",
          "169",
          "170",
          "171",
          "172",
          "173",
          "174",
          "175",
          "176",
          "177",
          "178",
          "179",
          "180",
          "181",
          "182",
          "183",
          "184",
          "185",
          "186",
          "187",
          "188",
          "189",
          "190",
          "191",
          "192",
          "193",
          "194",
          "195",
          "196",
          "197",
          "198",
          "199",
          "200",
          "201",
          "202",
          "203",
          "204",
          "205",
          "206",
          "207",
          "208",
          "209",
          "210",
          "211",
          "212",
          "213",
          "214",
          "215",
          "216",
          "217",
          "218",
          "219",
          "220",
          "221",
          "222",
          "223",
          "224",
          "225",
          "226",
          "227",
          "228",
          "229",
          "230",
          "231",
          "232",
          "233",
          "234",
          "235",
          "236",
          "237",
          "238",
          "239",
          "240",
          "241",
          "242",
          "243",
          "244",
          "245",
          "246",
          "247",
          "248",
          "249",
          "250",
          "251",
          "252",
          "253",
          "254",
          "255",
          "256",
          "257",
          "258",
          "259",
          "260",
          "261",
          "262",
          "263",
          "264",
          "265",
          "266",
          "267",
          "268",
          "269",
          "270",
          "271",
          "272",
          "273",
          "274",
          "275",
          "276",
          "277",
          "278",
          "279",
          "280",
          "281",
          "282",
          "283",
          "284",
          "285",
          "286",
          "287",
          "288",
          "289",
          "290",
          "291",
          "292",
          "293",
          "294",
          "295",
          "296",
          "297",
          "298",
          "299",
          "300",
          "301",
          "302",
          "303",
          "304",
          "305",
          "306",
          "307",
          "308",
          "309",
          "310",
          "311",
          "312",
          "313",
          "314",
          "315",
          "316",
          "317",
          "318",
          "319",
          "320",
          "321",
          "322",
          "323",
          "324",
          "325",
          "326",
          "327",
          "328",
          "329",
          "330",
          "331",
          "332",
          "333",
          "334",
          "335",
          "336",
          "337",
          "338",
          "339",
          "340",
          "341",
          "342",
          "343",
          "344",
          "345",
          "346",
          "347",
          "348",
          "349",
          "350",
          "351",
          "352",
          "353",
          "354",
          "355",
          "356",
          "357",
          "358",
          "359",
          "360",
          "361",
          "362",
          "363",
          "364",
          "365",
          "366",
          "367",
          "368",
          "369",
          "370",
          "371",
          "372",
          "373",
          "374",
          "375",
          "376",
          "377",
          "378",
          "379",
          "380",
          "381",
          "382",
          "383",
          "384",
          "385",
          "386",
          "387",
          "388",
          "389",
          "390",
          "391",
          "392",
          "393",
          "394",
          "395",
          "396",
          "397",
          "398",
          "399"
         ],
         "type": "scatter",
         "uid": "752022ea-b3ba-4afa-b324-c8c3c19c3114",
         "x": {
          "dtype": "float64",
          "shape": [
           400
          ]
         },
         "y": {
          "dtype": "float64",
          "shape": [
           400
          ]
         }
        }
       ],
       "_js2py_relayout": {},
       "_js2py_restyle": {},
       "_js2py_update": {},
       "_last_layout_edit_id": 95,
       "_last_trace_edit_id": 94,
       "_layout": {
        "coloraxis": {
         "colorbar": {
          "ticks": "outside",
          "title": {
           "text": "v<sub>sed</sub>"
          }
         },
         "colorscale": [
          [
           0,
           "#fde725"
          ],
          [
           0.1111111111111111,
           "#b5de2b"
          ],
          [
           0.2222222222222222,
           "#6ece58"
          ],
          [
           0.3333333333333333,
           "#35b779"
          ],
          [
           0.4444444444444444,
           "#1f9e89"
          ],
          [
           0.5555555555555556,
           "#26828e"
          ],
          [
           0.6666666666666666,
           "#31688e"
          ],
          [
           0.7777777777777778,
           "#3e4989"
          ],
          [
           0.8888888888888888,
           "#482878"
          ],
          [
           1,
           "#440154"
          ]
         ]
        },
        "height": 600,
        "legend": {
         "x": 1.2,
         "xanchor": "left",
         "y": 1,
         "yanchor": "top"
        },
        "margin": {
         "l": 100
        },
        "template": {
         "layout": {
          "bargap": 0.05,
          "bargroupgap": 0,
          "font": {
           "color": "black",
           "family": "Segoe UI",
           "size": 17
          },
          "height": 700,
          "hovermode": "closest",
          "margin": {
           "b": 60,
           "l": 90,
           "r": 30,
           "t": 30
          },
          "scene": {
           "xaxis": {
            "color": "black",
            "linewidth": 2,
            "showline": true,
            "ticks": "outside"
           },
           "yaxis": {
            "color": "black",
            "linewidth": 2,
            "showline": true,
            "ticks": "outside"
           },
           "zaxis": {
            "color": "black",
            "linewidth": 2,
            "showline": true,
            "ticks": "outside"
           }
          },
          "xaxis": {
           "color": "black",
           "linewidth": 1.3,
           "mirror": true,
           "showgrid": true,
           "showline": true,
           "ticks": "outside",
           "zeroline": true
          },
          "yaxis": {
           "color": "black",
           "linewidth": 1.3,
           "mirror": true,
           "showgrid": true,
           "showline": true,
           "ticks": "outside",
           "zeroline": true
          }
         }
        },
        "width": 1000,
        "xaxis": {
         "rangemode": "tozero",
         "title": {
          "text": "[FeS<sub>2</sub>] / mol dm<sup>−3</sup>"
         }
        },
        "yaxis": {
         "title": {
          "text": "δ<sup>34</sup>S<sub>py</sub> (‰)"
         }
        }
       },
       "_py2js_animate": {},
       "_py2js_deleteTraces": {},
       "_py2js_moveTraces": {},
       "_py2js_removeLayoutProps": {},
       "_py2js_removeTraceProps": {},
       "_view_count": 1
      }
     },
     "fd3b3d1afb3845e1bc5437bd58c92529": {
      "model_module": "@jupyter-widgets/base",
      "model_module_version": "1.2.0",
      "model_name": "LayoutModel",
      "state": {}
     },
     "fd54092eccee444499b0d1ad145b00cc": {
      "model_module": "@jupyter-widgets/controls",
      "model_module_version": "1.5.0",
      "model_name": "HBoxModel",
      "state": {
       "children": [
        "IPY_MODEL_4083b4fccc6f417cb9c64e4861a6e506",
        "IPY_MODEL_ecb54d0f482d494097a0f3c5d1994c0b"
       ],
       "layout": "IPY_MODEL_5f27cec100354ab7877560645817ec84"
      }
     },
     "fe0e6f891e9e4332b2d2fce77225c116": {
      "model_module": "@jupyter-widgets/controls",
      "model_module_version": "1.5.0",
      "model_name": "SliderStyleModel",
      "state": {
       "description_width": ""
      }
     },
     "febb8bb71cca4926b387194cd4c0bfa5": {
      "model_module": "@jupyter-widgets/base",
      "model_module_version": "1.2.0",
      "model_name": "LayoutModel",
      "state": {
       "width": "100%"
      }
     },
     "fecdde65e5d14c47b15ab09d46afd198": {
      "model_module": "@jupyter-widgets/controls",
      "model_module_version": "1.5.0",
      "model_name": "SliderStyleModel",
      "state": {
       "description_width": ""
      }
     },
     "ff24b859e11b4f6683ba5571270c7cd9": {
      "model_module": "@jupyter-widgets/controls",
      "model_module_version": "1.5.0",
      "model_name": "DropdownModel",
      "state": {
       "_options_labels": [
        "SO4_0",
        "py_0",
        "d34S_SO4_0",
        "epsilon_MSR",
        "k_MSR",
        "v",
        "D_32",
        "beta"
       ],
       "description": "Colour",
       "index": 5,
       "layout": "IPY_MODEL_08cdb847fb3e4ea885ba73fd94d3d1c1",
       "style": "IPY_MODEL_eef7f7db31074d21a999395e05b48120"
      }
     },
     "ffab5834e54f4af68306f618a6b728b8": {
      "model_module": "@jupyter-widgets/controls",
      "model_module_version": "1.5.0",
      "model_name": "HBoxModel",
      "state": {
       "children": [
        "IPY_MODEL_0a1b5e0f94a0455d867614447c5c0762",
        "IPY_MODEL_225cd9e1551148fea86470e440872caa"
       ],
       "layout": "IPY_MODEL_045fb40f140444aaa6574b6cff6d7a3a"
      }
     },
     "ffd4e800d6a944bfa90e628178c60287": {
      "buffers": [
       {
        "data": "xYgRI0aMyD8EJRGURFDSPx3HcRzHccw/yR4he4Ts4T+E7BGyR8jePwGPATwG8Ng/8afBnwZ/2j/FiBEjRozYP3mb4W2Gt9k/s9bJWidr3T+TJk2aNGniP/GnwZ8Gf9o/3/V51+dd7z/ii4kvJr7YP7ds2bJly/Y/qFChQoUK1T/hwIEDBw7cP+KLiS8mvtg/QCsBrQS00j920NlBZwfdP7oC6QqkK+A//vjx48ePzz8vebnk5ZLXP7g34d6Ee9M/XGNxjcU11j/Ub1G/Rf3WP28VuVXkVtE/lp5Zembp2T/Ub1G/Rf3WP3bQ2UFnB90/SeYhmYdk3j9REkFJBCXhP6sbqW6kutE/aLSh0YZG2z/zcsnLJS/XP8LyAcsHLN8/4ouJLya+2D8=",
        "encoding": "base64",
        "path": [
         "_data",
         0,
         "x",
         "value"
        ]
       },
       {
        "data": "Rwd4wKP9NcDE/ACOXgkwwMIuJT+MjyrA/jMJIdu/L8BUmBt0ZCcywDKRuNYj7DLAP1PtOgpRNMB4L4ehp1EuwKu1c0F4mzTAUHW0UVYANsAGJ7EOl7gmwFFBx24I4jPAj9E3cp7+I8CEuSjx9+UywAQFkeNMMhbA2TVfjqU7MMDVZnrukJwywH+jqudgGyzAqPZymVzMNMAJO9kXTeI0wDalBdnBcjXAwoQpRBDLNMBCT3jre2A4wI4TYoJFczPALO/3XeG7NMDgYpUCNDczwOHG4xE5UTTAzsaJukrVLsDwGDRs5AY2wNgFvnI7yTbAGoYfg/CcNcB/hirdR4o1wNmKIT+GOjPAc77WsPMGOcA0gtMIOBQ2wOUGKnLaIzXAGR4S+eZWL8A=",
        "encoding": "base64",
        "path": [
         "_data",
         0,
         "y",
         "value"
        ]
       },
       {
        "data": "fDHxxcQXwz8BjwE8BvCIPw==",
        "encoding": "base64",
        "path": [
         "_data",
         1,
         "x",
         "value"
        ]
       },
       {
        "data": "cLVTVzbTM8AAAAAAAAD4fw==",
        "encoding": "base64",
        "path": [
         "_data",
         1,
         "y",
         "value"
        ]
       },
       {
        "data": "OP/h/Ifz3z8MbzO8zfD2Pw==",
        "encoding": "base64",
        "path": [
         "_data",
         2,
         "x",
         "value"
        ]
       },
       {
        "data": "ovup9wEPLcCl/yfjkHwdwA==",
        "encoding": "base64",
        "path": [
         "_data",
         2,
         "y",
         "value"
        ]
       },
       {
        "data": "bEqxKcWm5D/R2UFnB53dPy09s/TM0vM/HcdxHMdx3D8srrG4xuLaP3wx8cXEF9M/I9WNVDdS7T98MfHFxBfTP8dTGU9lPNU//sP5D+c/3D+4N+HehHvTPw==",
        "encoding": "base64",
        "path": [
         "_data",
         3,
         "x",
         "value"
        ]
       },
       {
        "data": "LXRyTCwKLcCYbbVBaekpwIDQerKveiDAKCD9rhZYI8BeyxW7L38wwNQynejnmCrAhEeFPsdBIsDGEL3bpnUxwJyLhhnAnzTAegDWAACoI8ARyWyzaP8wwA==",
        "encoding": "base64",
        "path": [
         "_data",
         3,
         "y",
         "value"
        ]
       },
       {
        "data": "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",
        "encoding": "base64",
        "path": [
         "_data",
         4,
         "marker",
         "color",
         "value"
        ]
       },
       {
        "data": "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",
        "encoding": "base64",
        "path": [
         "_data",
         4,
         "x",
         "value"
        ]
       },
       {
        "data": "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",
        "encoding": "base64",
        "path": [
         "_data",
         4,
         "y",
         "value"
        ]
       }
      ],
      "model_module": "jupyterlab-plotly",
      "model_module_version": "^5.1.0",
      "model_name": "FigureModel",
      "state": {
       "_config": {
        "plotlyServerURL": "https://plot.ly"
       },
       "_data": [
        {
         "marker": {
          "color": "Blue",
          "opacity": 0.3,
          "symbol": "circle"
         },
         "mode": "markers",
         "name": "Mudstone",
         "text": [
          "KC-2-1",
          "KC-2-2",
          "KC-2-2.5",
          "KC-2-3",
          "KC-2-3.5",
          "KC-2-4.5",
          "KC-2-5",
          "KC-2-6",
          "KC-2-6.5",
          "KC-2-7",
          "KC-2-8",
          "KC-2-9",
          "KC-2-10",
          "KC-2-11",
          "KC-2-12",
          "KC-2-13",
          "KC-2-14",
          "KC-2-14.5",
          "KC-2-15",
          "KC-2-15.5",
          "KC-2-16",
          "KC-2-17",
          "KC-2-18",
          "KC-2-19",
          "KC-2-20",
          "KC-2-21",
          "KC-2-21.5",
          "KC-2-22",
          "KC-2-23",
          "KC-2-24",
          "KC-2-25",
          "KC-2-25.5",
          "KC-2-26",
          "KC-2-26.5",
          "KC-2-27",
          "KC-2-28",
          "KC-2-29"
         ],
         "type": "scatter",
         "uid": "f6b3db16-4f39-4529-818c-027440862895",
         "x": {
          "dtype": "float64",
          "shape": [
           37
          ]
         },
         "y": {
          "dtype": "float64",
          "shape": [
           37
          ]
         }
        },
        {
         "marker": {
          "color": "Blue",
          "opacity": 0.3,
          "symbol": "star"
         },
         "mode": "markers",
         "name": "Carbonate",
         "text": [
          "KC-2-0",
          "KC-2-30"
         ],
         "type": "scatter",
         "uid": "f5d9fd9a-441a-40b7-996f-8bf20cf7fd52",
         "x": {
          "dtype": "float64",
          "shape": [
           2
          ]
         },
         "y": {
          "dtype": "float64",
          "shape": [
           2
          ]
         }
        },
        {
         "marker": {
          "color": "Blue",
          "opacity": 0.3,
          "symbol": "square"
         },
         "mode": "markers",
         "name": "Pervasively pyritised regions",
         "text": [
          "KC-2-6p",
          "KC-2-22p"
         ],
         "type": "scatter",
         "uid": "98d5f44e-d8a6-4337-9c60-9fcc4f8b7de0",
         "x": {
          "dtype": "float64",
          "shape": [
           2
          ]
         },
         "y": {
          "dtype": "float64",
          "shape": [
           2
          ]
         }
        },
        {
         "marker": {
          "color": "Blue",
          "opacity": 0.3,
          "symbol": "diamond"
         },
         "mode": "markers",
         "name": "Bed 22",
         "text": [
          "KC-3-A",
          "KC-3-B",
          "KC-3-C",
          "KC-3-D",
          "KC-3-E",
          "KC-3-F",
          "KC-3-G",
          "KC-3-H",
          "KC-3-I",
          "KC-3-J",
          "KC-3-K"
         ],
         "type": "scatter",
         "uid": "e685d852-7531-406c-923f-1aeac9f992cd",
         "x": {
          "dtype": "float64",
          "shape": [
           11
          ]
         },
         "y": {
          "dtype": "float64",
          "shape": [
           11
          ]
         }
        },
        {
         "marker": {
          "color": {
           "dtype": "float64",
           "shape": [
            400
           ]
          },
          "coloraxis": "coloraxis",
          "line": {
           "color": "Black",
           "width": 1
          },
          "opacity": 0.7,
          "size": 8
         },
         "mode": "markers",
         "name": "Trials",
         "text": [
          "0",
          "1",
          "2",
          "3",
          "4",
          "5",
          "6",
          "7",
          "8",
          "9",
          "10",
          "11",
          "12",
          "13",
          "14",
          "15",
          "16",
          "17",
          "18",
          "19",
          "20",
          "21",
          "22",
          "23",
          "24",
          "25",
          "26",
          "27",
          "28",
          "29",
          "30",
          "31",
          "32",
          "33",
          "34",
          "35",
          "36",
          "37",
          "38",
          "39",
          "40",
          "41",
          "42",
          "43",
          "44",
          "45",
          "46",
          "47",
          "48",
          "49",
          "50",
          "51",
          "52",
          "53",
          "54",
          "55",
          "56",
          "57",
          "58",
          "59",
          "60",
          "61",
          "62",
          "63",
          "64",
          "65",
          "66",
          "67",
          "68",
          "69",
          "70",
          "71",
          "72",
          "73",
          "74",
          "75",
          "76",
          "77",
          "78",
          "79",
          "80",
          "81",
          "82",
          "83",
          "84",
          "85",
          "86",
          "87",
          "88",
          "89",
          "90",
          "91",
          "92",
          "93",
          "94",
          "95",
          "96",
          "97",
          "98",
          "99",
          "100",
          "101",
          "102",
          "103",
          "104",
          "105",
          "106",
          "107",
          "108",
          "109",
          "110",
          "111",
          "112",
          "113",
          "114",
          "115",
          "116",
          "117",
          "118",
          "119",
          "120",
          "121",
          "122",
          "123",
          "124",
          "125",
          "126",
          "127",
          "128",
          "129",
          "130",
          "131",
          "132",
          "133",
          "134",
          "135",
          "136",
          "137",
          "138",
          "139",
          "140",
          "141",
          "142",
          "143",
          "144",
          "145",
          "146",
          "147",
          "148",
          "149",
          "150",
          "151",
          "152",
          "153",
          "154",
          "155",
          "156",
          "157",
          "158",
          "159",
          "160",
          "161",
          "162",
          "163",
          "164",
          "165",
          "166",
          "167",
          "168",
          "169",
          "170",
          "171",
          "172",
          "173",
          "174",
          "175",
          "176",
          "177",
          "178",
          "179",
          "180",
          "181",
          "182",
          "183",
          "184",
          "185",
          "186",
          "187",
          "188",
          "189",
          "190",
          "191",
          "192",
          "193",
          "194",
          "195",
          "196",
          "197",
          "198",
          "199",
          "200",
          "201",
          "202",
          "203",
          "204",
          "205",
          "206",
          "207",
          "208",
          "209",
          "210",
          "211",
          "212",
          "213",
          "214",
          "215",
          "216",
          "217",
          "218",
          "219",
          "220",
          "221",
          "222",
          "223",
          "224",
          "225",
          "226",
          "227",
          "228",
          "229",
          "230",
          "231",
          "232",
          "233",
          "234",
          "235",
          "236",
          "237",
          "238",
          "239",
          "240",
          "241",
          "242",
          "243",
          "244",
          "245",
          "246",
          "247",
          "248",
          "249",
          "250",
          "251",
          "252",
          "253",
          "254",
          "255",
          "256",
          "257",
          "258",
          "259",
          "260",
          "261",
          "262",
          "263",
          "264",
          "265",
          "266",
          "267",
          "268",
          "269",
          "270",
          "271",
          "272",
          "273",
          "274",
          "275",
          "276",
          "277",
          "278",
          "279",
          "280",
          "281",
          "282",
          "283",
          "284",
          "285",
          "286",
          "287",
          "288",
          "289",
          "290",
          "291",
          "292",
          "293",
          "294",
          "295",
          "296",
          "297",
          "298",
          "299",
          "300",
          "301",
          "302",
          "303",
          "304",
          "305",
          "306",
          "307",
          "308",
          "309",
          "310",
          "311",
          "312",
          "313",
          "314",
          "315",
          "316",
          "317",
          "318",
          "319",
          "320",
          "321",
          "322",
          "323",
          "324",
          "325",
          "326",
          "327",
          "328",
          "329",
          "330",
          "331",
          "332",
          "333",
          "334",
          "335",
          "336",
          "337",
          "338",
          "339",
          "340",
          "341",
          "342",
          "343",
          "344",
          "345",
          "346",
          "347",
          "348",
          "349",
          "350",
          "351",
          "352",
          "353",
          "354",
          "355",
          "356",
          "357",
          "358",
          "359",
          "360",
          "361",
          "362",
          "363",
          "364",
          "365",
          "366",
          "367",
          "368",
          "369",
          "370",
          "371",
          "372",
          "373",
          "374",
          "375",
          "376",
          "377",
          "378",
          "379",
          "380",
          "381",
          "382",
          "383",
          "384",
          "385",
          "386",
          "387",
          "388",
          "389",
          "390",
          "391",
          "392",
          "393",
          "394",
          "395",
          "396",
          "397",
          "398",
          "399"
         ],
         "type": "scatter",
         "uid": "218b4515-3578-4266-8adf-0a12758301de",
         "x": {
          "dtype": "float64",
          "shape": [
           400
          ]
         },
         "y": {
          "dtype": "float64",
          "shape": [
           400
          ]
         }
        }
       ],
       "_js2py_pointsCallback": {},
       "_js2py_relayout": {},
       "_js2py_restyle": {},
       "_js2py_update": {},
       "_last_layout_edit_id": 13,
       "_last_trace_edit_id": 12,
       "_layout": {
        "coloraxis": {
         "colorbar": {
          "ticks": "outside",
          "title": {
           "text": "v<sub>sed</sub>"
          }
         },
         "colorscale": [
          [
           0,
           "#fde725"
          ],
          [
           0.1111111111111111,
           "#b5de2b"
          ],
          [
           0.2222222222222222,
           "#6ece58"
          ],
          [
           0.3333333333333333,
           "#35b779"
          ],
          [
           0.4444444444444444,
           "#1f9e89"
          ],
          [
           0.5555555555555556,
           "#26828e"
          ],
          [
           0.6666666666666666,
           "#31688e"
          ],
          [
           0.7777777777777778,
           "#3e4989"
          ],
          [
           0.8888888888888888,
           "#482878"
          ],
          [
           1,
           "#440154"
          ]
         ]
        },
        "height": 600,
        "legend": {
         "x": 1.2,
         "xanchor": "left",
         "y": 1,
         "yanchor": "top"
        },
        "margin": {
         "l": 100
        },
        "template": {
         "layout": {
          "bargap": 0.05,
          "bargroupgap": 0,
          "font": {
           "color": "black",
           "family": "Segoe UI",
           "size": 17
          },
          "height": 700,
          "hovermode": "closest",
          "margin": {
           "b": 60,
           "l": 90,
           "r": 30,
           "t": 30
          },
          "scene": {
           "xaxis": {
            "color": "black",
            "linewidth": 2,
            "showline": true,
            "ticks": "outside"
           },
           "yaxis": {
            "color": "black",
            "linewidth": 2,
            "showline": true,
            "ticks": "outside"
           },
           "zaxis": {
            "color": "black",
            "linewidth": 2,
            "showline": true,
            "ticks": "outside"
           }
          },
          "xaxis": {
           "color": "black",
           "linewidth": 1.3,
           "mirror": true,
           "showgrid": true,
           "showline": true,
           "ticks": "outside",
           "zeroline": true
          },
          "yaxis": {
           "color": "black",
           "linewidth": 1.3,
           "mirror": true,
           "showgrid": true,
           "showline": true,
           "ticks": "outside",
           "zeroline": true
          }
         }
        },
        "width": 1000,
        "xaxis": {
         "rangemode": "tozero",
         "title": {
          "text": "[FeS<sub>2</sub>] / mol dm<sup>−3</sup>"
         }
        },
        "yaxis": {
         "title": {
          "text": "δ<sup>34</sup>S<sub>py</sub> (‰)"
         }
        }
       },
       "_py2js_animate": {},
       "_py2js_deleteTraces": {},
       "_py2js_moveTraces": {},
       "_py2js_removeLayoutProps": {},
       "_py2js_removeTraceProps": {},
       "_view_count": 0
      }
     }
    },
    "version_major": 2,
    "version_minor": 0
   }
  }
 },
 "nbformat": 4,
 "nbformat_minor": 4
}
