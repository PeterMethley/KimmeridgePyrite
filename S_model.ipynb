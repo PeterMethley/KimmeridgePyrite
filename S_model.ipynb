{
 "cells": [
  {
   "cell_type": "markdown",
   "metadata": {},
   "source": [
    "# Sulphur Isotope Model"
   ]
  },
  {
   "cell_type": "markdown",
   "metadata": {
    "tags": []
   },
   "source": [
    "## General definitions"
   ]
  },
  {
   "cell_type": "code",
   "execution_count": 1,
   "metadata": {},
   "outputs": [],
   "source": [
    "import numpy as np\n",
    "import pandas as pd\n",
    "import ipywidgets as wdg\n",
    "from plotly_default import go, graph_config, sel_trace\n",
    "from plotly.subplots import make_subplots\n",
    "from scipy.integrate import solve_bvp\n",
    "import random\n",
    "# import plotly.io as pio"
   ]
  },
  {
   "cell_type": "code",
   "execution_count": 2,
   "metadata": {},
   "outputs": [],
   "source": [
    "# Conversion between isotope ratios and delta notation\n",
    "\n",
    "VCDT = 0.0441626 # vienna canyon diablo troilite standard 34S/32S ratio\n",
    "\n",
    "def delta_to_R(delta, std=VCDT):\n",
    "    '''Takes in a d34S; outputs a 34S/32S ratio'''\n",
    "    return std * ((delta/1000) + 1)\n",
    "\n",
    "def R_to_delta(R, std=VCDT):\n",
    "    '''Takes in a 34S/32S ratio; outputs the d34S'''\n",
    "    return 1000*((R/std) - 1)\n",
    "\n",
    "def wt_to_M(wt, Mr=55.845, density=1.7):\n",
    "    '''Converts a weight percent of a substance with molar mass Mr (default iron) into a molar concentration\n",
    "    in a sediment of specified density (default 1.7 g/cm³)'''\n",
    "    # g/dm³  = 1000 * g/cm³ = 1000 * density * wt% / 100 = 10 * density * wt%\n",
    "    return 10. * density * wt / Mr\n",
    "\n",
    "def M_to_wt(M, Mr=55.845, density=1.7):\n",
    "    return M * Mr / (10. * density)\n",
    "\n",
    "def ratio_to_concs(R, C):\n",
    "    '''Takes a ratio of two concentrations R = a/b\n",
    "    and a total concentration C = a + b\n",
    "    and returns an (a, b) tuple'''\n",
    "    return (C/(1 + 1/R) , C/(1+R))\n",
    "\n",
    "# The number of seconds in 1 thousand years\n",
    "s_in_ka = 1000 * 365.24 * 24 * 60 * 60"
   ]
  },
  {
   "cell_type": "code",
   "execution_count": 3,
   "metadata": {
    "tags": []
   },
   "outputs": [],
   "source": [
    "# Read in real data\n",
    "log_df=pd.read_csv('./Data/Log_data_combined.csv', index_col=0)\n",
    "\n",
    "cat_symbols = {'Mudstone': 'circle',\n",
    "               'Carbonate': 'star',\n",
    "               'Pervasively pyritised regions': 'square',\n",
    "               'Bed 22': 'diamond'}\n",
    "categories = list(cat_symbols.keys())\n",
    "\n",
    "# log_df"
   ]
  },
  {
   "cell_type": "code",
   "execution_count": 4,
   "metadata": {
    "tags": []
   },
   "outputs": [],
   "source": [
    "# Set up widgets\n",
    "w_df = pd.read_csv('./Data/GDE_parameters_v2.csv')\n",
    "\n",
    "\n",
    "def create_sliders(w_df, prefix='w'):\n",
    "    w_dict = {}\n",
    "\n",
    "    for w in w_df.iterrows():\n",
    "\n",
    "        # Make a new variable for each widget\n",
    "        vars()[prefix+'_'+w[1].var_name] = wdg.FloatSlider(value = w[1].value,\n",
    "                                                     min = w[1].start,\n",
    "                                                     max = w[1].stop,\n",
    "                                                     step = w[1].step,\n",
    "                                                     description = w[1].display_name,\n",
    "                                                     layout=wdg.Layout(width='100%')\n",
    "                                                    )\n",
    "\n",
    "        # Add to a dictionary of original variables and widgets\n",
    "        w_dict[w[1].var_name] = vars()[prefix+'_'+w[1].var_name]\n",
    "    \n",
    "    return w_dict"
   ]
  },
  {
   "cell_type": "markdown",
   "metadata": {},
   "source": [
    "## Solving the steady-state General Diagenetic Equation\n",
    "\n",
    "$y$  | represents   | <div style=\"width:100px\">value at $z=0$</div> | <div style=\"width:100px\"> value at $z=z_\\mathrm{max}$</div>\n",
    "-----|--------------------------------------------------|--------------------------|-----------------------------\n",
    "$y_0$|$[\\mathrm{^{34}SO_4}]$                            |$[\\mathrm{^{34}SO_4}]_0$  |?? $(\\approx 0)$\n",
    "$y_1$|$\\frac{\\partial[\\mathrm{^{34}SO_4}]}{\\partial z}$ |??                        |$0$\n",
    "$y_2$|$[\\mathrm{^{32}SO_4}]$                            |$[\\mathrm{^{32}SO_4}]_0$  |?? $(\\approx 0)$\n",
    "$y_3$|$\\frac{\\partial[\\mathrm{^{32}SO_4}]}{\\partial z}$ |??                        |$0$\n",
    "$y_4$|$[\\mathrm{Fe^{34}S_2}]$                           |$[\\mathrm{Fe^{34}S_2}]_0$ |??\n",
    "$y_5$|$[\\mathrm{Fe^{32}S_2}]$                           |$[\\mathrm{Fe^{32}S_2}]_0$ |??\n",
    "\n",
    "$$\\frac{\\partial y_0}{\\partial z} = y_1$$\n",
    "\n",
    "$$\\frac{\\partial y_1}{\\partial z} = \\left( vy_1 + \\frac{k_\\mathrm{MSR}\\left(y_0 y_2 + y_0^2\\right)}{\\frac{y_2}{\\alpha} + y_0} \\right)/D_{34}$$\n",
    "\n",
    "$$\\frac{\\partial y_2}{\\partial z} = y_3$$\n",
    "\n",
    "$$\\frac{\\partial y_3}{\\partial z} = \\left( vy_3 + \\frac{k_\\mathrm{MSR}\\left(y_2^2 + y_0 y_2\\right)}{\\alpha y_0 + y_2} \\right)/D_{32}$$\n",
    "\n",
    "$$\\frac{\\partial y_4}{\\partial z} = \\frac{k_\\mathrm{MSR}\\left(y_0 y_2 + y_0^2\\right)}{2v\\left(\\frac{y_2}{\\alpha} + y_0\\right)}$$\n",
    "\n",
    "$$\\frac{\\partial y_5}{\\partial z} = \\frac{k_\\mathrm{MSR}\\left(y_2^2 + y_0 y_2\\right)}{2v\\left(\\alpha y_0 + y_2\\right)}$$"
   ]
  },
  {
   "cell_type": "code",
   "execution_count": 5,
   "metadata": {},
   "outputs": [],
   "source": [
    "def solve_GDE(zs, SO4_0, py_0, d34S_SO4_0, epsilon_MSR, k_MSR, beta, D_32, v):\n",
    "    '''Solves the system of general diagenetic equations listed above,\n",
    "    for the array of depths in zs, and returns a 2D array of y values\n",
    "    (rows for each yi; cols are values of yi for each z)'''\n",
    "    \n",
    "    R_SO4_0 = delta_to_R(d34S_SO4_0) \n",
    "    a_MSR = delta_to_R(d34S_SO4_0 - epsilon_MSR)/R_SO4_0 # MSR fractionation factor    \n",
    "    R_py_0 = delta_to_R(d34S_SO4_0)*a_MSR # add ability to tweak in future?\n",
    "    \n",
    "    # weight-dependent diffusion coefficients (Wortmann & Chernyavsky, 2011)\n",
    "    D_34 = D_32 * (98/96)**(-beta)\n",
    "    \n",
    "    SO4_34_0 , SO4_32_0 = ratio_to_concs(R_SO4_0, SO4_0)\n",
    "    py_34_0  , py_32_0  = ratio_to_concs(R_py_0, py_0)\n",
    "    \n",
    "    # Define the ODEs and boundary conditions for the chosen parameters\n",
    "    def SS_ODEs(x,y):\n",
    "        '''The right-hand side of the steady state general diagenetic equations'''\n",
    "        return np.vstack([\n",
    "            y[1,:], # = dy[0,:]/dz\n",
    "            (v*y[1,:] + k_MSR*(y[0,:]*y[2,:] + y[0,:]**2)/((y[2,:]/a_MSR) + y[0,:]))/D_34, # = dy[1,:]/dz\n",
    "            y[3,:], # = dy[2,:]/dz\n",
    "            (v*y[3,:] + k_MSR*(y[2,:]**2 + y[0,:]*y[2,:])/((a_MSR*y[0,:]) + y[2,:]))/D_32, # = dy[3,:]/dz\n",
    "            k_MSR*(y[0,:]*y[2,:] + y[0,:]**2)/(2*v*((y[2,:]/a_MSR) + y[0,:])), # = dy[4,:]/dz\n",
    "            k_MSR*(y[2,:]**2 + y[0,:]*y[2,:])/(2*v*((a_MSR*y[0,:]) + y[2,:])) # = dy[5,:]/dz\n",
    "        ])    \n",
    "    \n",
    "    def SS_bcs(ya, yb):\n",
    "        '''The GDE boundary condition residuals, i.e. all the terms involving ya should be\n",
    "        zero at z=0, and all the terms involving yb should be zero at z=max_z'''\n",
    "        return np.array([\n",
    "            ya[0] - SO4_34_0,\n",
    "            yb[1] - 0,\n",
    "            ya[2] - SO4_32_0,\n",
    "            yb[3] - 0,\n",
    "            ya[4] - py_34_0,\n",
    "            ya[5] - py_32_0\n",
    "        ])\n",
    "    \n",
    "    # Set up initial array of concentrations to iterate the solution from\n",
    "    y0s = np.ones((6,len(zs)))\n",
    "    \n",
    "    # Use SciPy's boundary value problem solver to solve the steady state ODEs\n",
    "    SS_sol = solve_bvp(SS_ODEs, SS_bcs, zs, y0s)\n",
    "    \n",
    "    # Extract the yi from the solution and return it\n",
    "    return SS_sol.y\n",
    "\n",
    "\n",
    "\n",
    "def update_GDE_plot(plot, SO4_0, py_0, d34S_SO4_0, epsilon_MSR, k_MSR, beta, D_32, v, max_z, dz=0.01, plot_time=False):\n",
    "    \n",
    "    with plot.batch_update():\n",
    "\n",
    "        zs = np.arange(0, max_z, dz) # values of z to plot over.\n",
    "\n",
    "        concs = solve_GDE(zs, SO4_0, py_0, d34S_SO4_0, epsilon_MSR, k_MSR, beta, D_32, v)\n",
    "\n",
    "        SO4_34s = concs[0,:]\n",
    "        SO4_32s = concs[2,:]\n",
    "        py_34s  = concs[4,:]\n",
    "        py_32s  = concs[5,:]\n",
    "\n",
    "\n",
    "        # Convert to concentrations and d34S\n",
    "        SO4s = SO4_34s + SO4_32s\n",
    "        pys = py_34s + py_32s\n",
    "\n",
    "        d34S_SO4s = []\n",
    "        d34S_pys = []\n",
    "\n",
    "        isotope_tolerance = 1e-12 # mol/dm^3: if numbers below this point, add none to d34S list\n",
    "        max_SO4_d34S = 100 # don't plot any sulphate isotopes larger than this\n",
    "        # (n.b. this doesn't affect calculations of other quantities)\n",
    "        SO4_d34S_valid = True\n",
    "\n",
    "        for SO4_34, SO4_32, py_34, py_32 in zip(SO4_34s, SO4_32s, py_34s, py_32s):\n",
    "            if (SO4_32 > isotope_tolerance) and SO4_d34S_valid:\n",
    "                d34S_SO4 = R_to_delta(SO4_34/SO4_32)\n",
    "                d34S_SO4s.append(d34S_SO4)\n",
    "                if d34S_SO4 > max_SO4_d34S: # once threshold is exceeded stop plotting d34S_SO4\n",
    "                    SO4_d34S_valid = False\n",
    "            else:\n",
    "                d34S_SO4s.append(None)\n",
    "\n",
    "            if py_32 > isotope_tolerance:\n",
    "                d34S_pys.append(R_to_delta(py_34/py_32))\n",
    "            else:\n",
    "                d34S_pys.append(None)\n",
    "\n",
    "        if plot_time:\n",
    "            zs = zs/v\n",
    "            plot.update_layout(yaxis_title='Time after burial, <i>t</i> / ka')\n",
    "        else:\n",
    "            plot.update_layout(yaxis_title='Depth, <i>z</i> / m')\n",
    "\n",
    "        # Get the traces of the graph we want to modify\n",
    "        traces_list = sel_trace(plot, ['[SO<sub>4</sub>]', '[FeS<sub>2</sub>]', 'δ<sup>34</sup>S<sub>SO4</sub>', 'δ<sup>34</sup>S<sub>py</sub>'])\n",
    "        # Unpack into their own variables\n",
    "        SO4_tr, py_tr, d34S_SO4_tr, d34S_py_tr = traces_list\n",
    "\n",
    "        # Set x coordinates\n",
    "        SO4_tr.x = SO4s\n",
    "        py_tr.x = pys\n",
    "        d34S_SO4_tr.x = d34S_SO4s\n",
    "        d34S_py_tr.x = d34S_pys\n",
    "\n",
    "        # Set y coordinates\n",
    "        for tr in traces_list:\n",
    "            tr.y = zs\n",
    "\n",
    "        # final_py, final_d34S = get_py_d34S(SO4_0, py_0, d34S_SO4_0, epsilon_MSR, k_MSR, beta, D_32, v, dz, max_z)\n",
    "        print('Final [py]: {:.4f}'.format(pys[-1]))\n",
    "        print('Final d34S: {:.4f}'.format(d34S_pys[-1]))"
   ]
  },
  {
   "cell_type": "markdown",
   "metadata": {},
   "source": [
    "#### Parameters\n",
    "\n",
    "Quantity | Name in Code | Value | Unit | Reference\n",
    "----:----|------:-------|------:|:-----|----:-----\n",
    "Sulphate concentration in seawater | `SO4_0` | 0.0105 | mol dm<sup>−3</sup> | Horita *et al.* (2002)\n",
    "Concentration of syn-depositional pyrite in sediment | `py_0` | ?? | mol dm<sup>−3</sup> |\n",
    "Isotopic composition of seawater sulphate | `d34S_SO4_0` | 15 ~ 17 | ‰ | Kampschulte & Strauss (2004)\n",
    "Microbial sulphate reduction fractionation amount at surface |`epsilon_MSR` | 0 ~ 66 | ‰ | Fike *et al.* (2016)\n",
    "Rate constant for sulphate reduction | `k_MSR` | 7 | ka<sup>−1</sup> | Egger *et al.* (2016)\n",
    "Amount of mass dependency for diffusion coefficients | `beta` | 0 ~ 0.05 | (dimensionless) | Wortmann & Chernyavsky (2011)\n",
    "Diffusivity of <sup>32</sup>SO<sub>4</sub> | `D_32` | ≈ 0.126 | m<sup>2 </sup>ka<sup>−1</sup> | Jørgensen (1979)\n",
    "Sedimentation rate | `v` | ≈ 0.08 | m ka<sup>−1</sup> | Gallois (2004)\n",
    "Max depth to run simulation to | `max_z` | (until δ<sup>34</sup>S<sub>py</sub> stabilises)| m |"
   ]
  },
  {
   "cell_type": "code",
   "execution_count": 6,
   "metadata": {},
   "outputs": [
    {
     "data": {
      "application/vnd.jupyter.widget-view+json": {
       "model_id": "3794126dbf484e54a05cbd2e355e33d4",
       "version_major": 2,
       "version_minor": 0
      },
      "text/plain": [
       "VBox(children=(HBox(children=(FloatSlider(value=0.0105, description='[SO<sub>4</sub>]<sub>0</sub>', layout=Lay…"
      ]
     },
     "metadata": {},
     "output_type": "display_data"
    },
    {
     "data": {
      "application/vnd.jupyter.widget-view+json": {
       "model_id": "7e20d54f043a4ecbb59e21650d9ce582",
       "version_major": 2,
       "version_minor": 0
      },
      "text/plain": [
       "Output()"
      ]
     },
     "metadata": {},
     "output_type": "display_data"
    },
    {
     "data": {
      "application/vnd.jupyter.widget-view+json": {
       "model_id": "dc592fa4c03c433d906639cbb5f4cf6a",
       "version_major": 2,
       "version_minor": 0
      },
      "text/plain": [
       "FigureWidget({\n",
       "    'data': [{'marker': {'color': 'RoyalBlue'},\n",
       "              'mode': 'lines',\n",
       "              'n…"
      ]
     },
     "metadata": {},
     "output_type": "display_data"
    }
   ],
   "source": [
    "GDE_plot = go.FigureWidget(make_subplots(rows=1, cols=2, shared_yaxes=True, horizontal_spacing=0.01))\n",
    "GDE_plot.add_trace(go.Scatter(name='[SO<sub>4</sub>]', marker_color='RoyalBlue', mode='lines'), row=1, col=1)\n",
    "GDE_plot.add_trace(go.Scatter(name='[FeS<sub>2</sub>]', marker_color='MediumSeaGreen', mode='lines'), row=1, col=1)\n",
    "GDE_plot.add_trace(go.Scatter(name='δ<sup>34</sup>S<sub>SO4</sub>', marker_color='Navy', mode='lines'), row=1, col=2)\n",
    "GDE_plot.add_trace(go.Scatter(name='δ<sup>34</sup>S<sub>py</sub>', marker_color='DarkGreen', mode='lines'), row=1, col=2)\n",
    "\n",
    "GDE_plot.update_layout(\n",
    "    yaxis=dict(autorange='reversed', rangemode='tozero', title='Depth, <i>z</i> / m'),\n",
    "    hovermode='y',\n",
    "    margin=dict(t=60),\n",
    "    width=1000, height=600\n",
    "    )\n",
    "\n",
    "GDE_plot.update_xaxes(title_text='Concentration / mol dm<sup>−3</sup>', row=1, col=1)\n",
    "GDE_plot.update_xaxes(title_text='δ<sup>34</sup>S (‰)', row=1, col=2)\n",
    "\n",
    "# create widgets\n",
    "w_d = create_sliders(w_df, prefix='w')\n",
    "\n",
    "w_plot_time = wdg.Checkbox(value=False, description='Plot time on y axis')\n",
    "\n",
    "# set up widget layout\n",
    "GDE_ui = wdg.VBox([wdg.HBox([w_d['SO4_0'], w_d['d34S_SO4_0']]),\n",
    "                   wdg.HBox([w_d['py_0'], w_d['v']]),\n",
    "                   wdg.HBox([w_d['epsilon_MSR'], w_d['k_MSR']]),\n",
    "                   wdg.HBox([w_d['D_32'], w_d['beta']]),\n",
    "                   wdg.HBox([w_d['max_z'], w_d['dz']]),\n",
    "                   w_plot_time\n",
    "                  ])\n",
    "\n",
    "GDE_args = {**w_d, \n",
    "            'plot': wdg.fixed(GDE_plot),\n",
    "            'plot_time': w_plot_time}\n",
    "\n",
    "GDE_output = wdg.interactive_output(update_GDE_plot, GDE_args)\n",
    "\n",
    "display(GDE_ui, GDE_output)\n",
    "\n",
    "GDE_plot"
   ]
  },
  {
   "cell_type": "code",
   "execution_count": 7,
   "metadata": {},
   "outputs": [],
   "source": [
    "# GDE_plot.update_xaxes(row=1, col=1, range=[0,0.3])"
   ]
  },
  {
   "cell_type": "code",
   "execution_count": 8,
   "metadata": {
    "tags": []
   },
   "outputs": [],
   "source": [
    "#GDE_plot.write_image('./images/GDE_example.svg')"
   ]
  },
  {
   "cell_type": "code",
   "execution_count": 9,
   "metadata": {
    "tags": []
   },
   "outputs": [],
   "source": [
    "def get_py_d34S(SO4_0, py_0, d34S_SO4_0, epsilon_MSR, k_MSR, beta, D_32, v, dz, max_z):\n",
    "    '''Returns the final pyrite concentration and its d34S given the appropriate initial conditions'''\n",
    "    \n",
    "    zs = np.arange(0, max_z, dz) # values of z to plot over.\n",
    "    \n",
    "    concs = solve_GDE(zs, SO4_0, py_0, d34S_SO4_0, epsilon_MSR, k_MSR, beta, D_32, v)\n",
    "    \n",
    "    # Final amounts of py32 and py34\n",
    "    py_34  = concs[4,-1]\n",
    "    py_32  = concs[5,-1]\n",
    "    \n",
    "    py = py_34 + py_32\n",
    "    d34S = R_to_delta(py_34/py_32)\n",
    "    \n",
    "    return py, d34S\n",
    "\n",
    "\n",
    "def update_var_plot(plot, varying, vstart, vstop, vstep, SO4_0, py_0, d34S_SO4_0, epsilon_MSR, k_MSR, beta, D_32, v, dz, max_z, plot_SDP, plot_noSDP):\n",
    "    \n",
    "    with plot.batch_update():\n",
    "    \n",
    "        # Create dictionary of parameters\n",
    "        params = {}\n",
    "        for w in w_df.iterrows():\n",
    "            param = w[1].var_name\n",
    "            params[param] = locals()[param] # locals() get the actual variables put into the function\n",
    "\n",
    "    #     print(params)\n",
    "\n",
    "        pys = []\n",
    "        d34Ss = []\n",
    "        texts = []\n",
    "\n",
    "        vary_range = np.arange(vstart, vstop, vstep)\n",
    "\n",
    "        for var in vary_range:\n",
    "\n",
    "            # Update the appropriate parameter to its value in the iterations\n",
    "            params[varying] = var\n",
    "\n",
    "            py, d34S = get_py_d34S(**params)\n",
    "\n",
    "            pys.append(py)\n",
    "            d34Ss.append(d34S)\n",
    "            texts.append('{}: {:.5f}'.format(varying, var))\n",
    "\n",
    "    #         print('{}: {:.5f}'.format(varying, vars()[varying]))\n",
    "    #         print('[py]: {:.4f}'.format(py))\n",
    "    #         print('d34S: {:.4f}\\n'.format(d34S))\n",
    "\n",
    "        model_tr = sel_trace(plot, 'Model')\n",
    "\n",
    "        # plot.update_traces(x=pys, y=d34Ss, text=texts, marker_color=vary_range, selector=dict(name='Model'))\n",
    "        model_tr.x = pys\n",
    "        model_tr.y = d34Ss\n",
    "        model_tr.text = texts\n",
    "        model_tr.marker.color = vary_range\n",
    "\n",
    "        SDP_tr = sel_trace(plot, 'Syn-Depositional Pyrite')\n",
    "        if plot_SDP:\n",
    "            SDP_tr.x = [py_0]\n",
    "            SDP_tr.y = [d34S_SO4_0 - epsilon_MSR]\n",
    "            SDP_tr.text = ['{:.2f} wt% Fe<sub>py, 0</sub>'.format(M_to_wt(py_0))]\n",
    "            SDP_tr.visible = True\n",
    "\n",
    "        else:\n",
    "            SDP_tr.visible = False\n",
    "\n",
    "\n",
    "        noSDP_tr = sel_trace(plot, 'Model (no py<sub>0</sub>)')\n",
    "        if plot_noSDP:\n",
    "            # recalculate model with no syn-depositional pyrite\n",
    "            pys_na = []\n",
    "            d34Ss_na = []\n",
    "            texts_na = []\n",
    "\n",
    "            params_na = params\n",
    "            params_na['py_0'] = 0 # set to no syn-depositional pyrite\n",
    "\n",
    "            for var in vary_range:\n",
    "\n",
    "                # Update the appropriate parameter to its value in the iterations\n",
    "                params_na[varying] = var\n",
    "\n",
    "                py, d34S = get_py_d34S(**params_na)\n",
    "\n",
    "                pys_na.append(py)\n",
    "                d34Ss_na.append(d34S)\n",
    "                texts_na.append('{}: {:.5f}'.format(varying, var))\n",
    "\n",
    "    #         plot.update_traces(x=pys_na, y=d34Ss_na, text=texts_na, marker_color=vary_range,\n",
    "    #                            visible=True, selector=dict(name='Model (no py<sub>0</sub>)'))\n",
    "            noSDP_tr.x = pys_na\n",
    "            noSDP_tr.y = d34Ss_na\n",
    "            noSDP_tr.text = texts_na\n",
    "            noSDP_tr.marker.color = vary_range\n",
    "            noSDP_tr.visible = True\n",
    "\n",
    "        else:\n",
    "            noSDP_tr.visible = False\n",
    "\n",
    "        # change colour bar title\n",
    "        plot.layout.coloraxis.colorbar.title = list(w_df[w_df.var_name==varying].display_name)[0]"
   ]
  },
  {
   "cell_type": "code",
   "execution_count": 10,
   "metadata": {},
   "outputs": [
    {
     "data": {
      "application/vnd.jupyter.widget-view+json": {
       "model_id": "22e31dc031d14f6faa65ad2ddb47cd92",
       "version_major": 2,
       "version_minor": 0
      },
      "text/plain": [
       "VBox(children=(HBox(children=(FloatSlider(value=0.0105, description='[SO<sub>4</sub>]<sub>0</sub>', layout=Lay…"
      ]
     },
     "metadata": {},
     "output_type": "display_data"
    },
    {
     "data": {
      "application/vnd.jupyter.widget-view+json": {
       "model_id": "f4cf058f191d47a4b2431bfa4b8df0d1",
       "version_major": 2,
       "version_minor": 0
      },
      "text/plain": [
       "Output()"
      ]
     },
     "metadata": {},
     "output_type": "display_data"
    },
    {
     "data": {
      "application/vnd.jupyter.widget-view+json": {
       "model_id": "ef588672bf0d4e9290af88b92a9ec636",
       "version_major": 2,
       "version_minor": 0
      },
      "text/plain": [
       "FigureWidget({\n",
       "    'data': [{'marker': {'color': 'Blue', 'opacity': 0.3, 'symbol': 'circle'},\n",
       "              'm…"
      ]
     },
     "metadata": {},
     "output_type": "display_data"
    }
   ],
   "source": [
    "# Set up plot\n",
    "var_plot=go.FigureWidget()\n",
    "\n",
    "var_plot.update_layout(\n",
    "    yaxis=dict(title='δ<sup>34</sup>S<sub>py</sub> (‰)'),\n",
    "    xaxis=dict(title='[FeS<sub>2</sub>] / mol dm<sup>−3</sup>', rangemode='tozero'),\n",
    "    legend=dict(yanchor=\"top\", y=1, xanchor=\"left\", x=1.2),\n",
    "    margin=dict(l=100),\n",
    "    width=1000, height=600,\n",
    "    coloraxis=dict(colorscale='viridis_r', colorbar_ticks='outside')\n",
    "    )\n",
    "\n",
    "# Add the real data\n",
    "for category in categories:\n",
    "    cat_df = log_df[log_df.category == category]\n",
    "    var_plot.add_trace(go.Scatter(x = cat_df.Fe_py.apply(wt_to_M), y=cat_df.d34S,\n",
    "                                  text = cat_df.name,\n",
    "                                  mode='markers',\n",
    "                                  marker_color='Blue',\n",
    "                                  marker_opacity=0.3,\n",
    "                                  marker_symbol=cat_symbols[category],\n",
    "                                  name=category))\n",
    "\n",
    "var_plot.add_trace(go.Scatter(name='Model', mode='lines+markers', marker_coloraxis='coloraxis',\n",
    "                              marker_line_color='DarkGreen', marker_line_width=1, line_color='DarkGreen'))\n",
    "var_plot.add_trace(go.Scatter(name='Model (no py<sub>0</sub>)', mode='lines+markers', marker_coloraxis='coloraxis',\n",
    "                              marker_line_color='Orange', marker_line_width=1, line_color='Orange'))\n",
    "var_plot.add_trace(go.Scatter(name='Syn-Depositional Pyrite', mode='markers',\n",
    "                              marker_color='Purple', marker_symbol='square'))\n",
    "\n",
    "# create widgets\n",
    "field_layout = wdg.Layout(width='200px')\n",
    "\n",
    "v_d = create_sliders(w_df, prefix='v')\n",
    "v_varying=wdg.Dropdown(options=w_df.var_name, description='Vary', layout=field_layout, value='v')\n",
    "v_vstart=wdg.FloatText(value=0.005, step=0.01, description='from', layout=field_layout)\n",
    "v_vstop=wdg.FloatText(value=0.2, step=0.1, description='to', layout=field_layout)\n",
    "v_vstep=wdg.FloatText(value=0.005, step=0.01, description='step', layout=field_layout)\n",
    "v_plot_SDP = wdg.Checkbox(value=True, description='Plot syn-depositional pyrite')\n",
    "v_plot_noSDP = wdg.Checkbox(value=False, description='Plot curve w/o syn-depositional pyrite')\n",
    "\n",
    "# set up widget layout\n",
    "var_ui = wdg.VBox([wdg.HBox([v_d['SO4_0'], v_d['d34S_SO4_0']]),\n",
    "                   wdg.HBox([v_d['py_0'], v_d['v']]),\n",
    "                   wdg.HBox([v_d['epsilon_MSR'], v_d['k_MSR']]),\n",
    "                   wdg.HBox([v_d['D_32'], v_d['beta']]),\n",
    "                   wdg.HBox([v_d['max_z'], v_d['dz']]),\n",
    "                   wdg.HBox([v_varying, v_vstart, v_vstop, v_vstep]),\n",
    "                   wdg.HBox([v_plot_SDP, v_plot_noSDP])\n",
    "                  ])\n",
    "\n",
    "var_args = {**v_d, \n",
    "            'plot': wdg.fixed(var_plot),\n",
    "            'varying':v_varying,\n",
    "            'vstart':v_vstart,\n",
    "            'vstop':v_vstop,\n",
    "            'vstep':v_vstep,\n",
    "            'plot_SDP': v_plot_SDP,\n",
    "            'plot_noSDP': v_plot_noSDP\n",
    "           }\n",
    "\n",
    "var_output = wdg.interactive_output(update_var_plot, var_args)\n",
    "\n",
    "display(var_ui, var_output)\n",
    "\n",
    "var_plot"
   ]
  },
  {
   "cell_type": "code",
   "execution_count": 11,
   "metadata": {},
   "outputs": [],
   "source": [
    "# var_plot.write_image('./images/varying_SO4.svg')"
   ]
  },
  {
   "cell_type": "markdown",
   "metadata": {},
   "source": [
    "### Modelling Iron Speciation with the same parameters"
   ]
  },
  {
   "cell_type": "code",
   "execution_count": 12,
   "metadata": {},
   "outputs": [],
   "source": [
    "def update_Fe_spec(plot, SO4_0, py_0, d34S_SO4_0, epsilon_MSR, k_MSR, beta, D_32, v, dz, max_z, Fe_tot, plot_residuals):\n",
    "    \n",
    "    with plot.batch_update():\n",
    "\n",
    "        # Calculate how much pyrite is produced\n",
    "        py, d34S = get_py_d34S(SO4_0, py_0, d34S_SO4_0, epsilon_MSR, k_MSR, beta, D_32, v, dz, max_z)\n",
    "        Fe_py = M_to_wt(py)\n",
    "        Fe_py_0 = M_to_wt(py_0)\n",
    "\n",
    "        # update model line\n",
    "        HR_tot_0 = np.linspace(0.01,1,50) # Increase last number for higher resolution\n",
    "\n",
    "        HR_0 = HR_tot_0 * Fe_tot\n",
    "        py_HR_t = py/HR_0\n",
    "        \n",
    "        model_tr = sel_trace(plot, 'model (const. total Fe)')\n",
    "        model_tr.x = HR_tot_0\n",
    "        model_tr.y = py_HR_t\n",
    "\n",
    "\n",
    "        # update data points\n",
    "        for category in categories:\n",
    "            cat_df = log_df[log_df.category == category]\n",
    "\n",
    "            py_HR_points = list(Fe_py/cat_df['Fe_HR'])\n",
    "\n",
    "            py_0_HR = list(Fe_py_0/cat_df['Fe_HR'])\n",
    "\n",
    "            for i in range(len(py_HR_points)):\n",
    "                if py_HR_points[i] > 1:\n",
    "                    py_HR_points[i] = 1\n",
    "                    \n",
    "            modelled_tr = sel_trace(plot, category+' (modelled)')\n",
    "            modelled_tr.x = cat_df['HR_to_tot']\n",
    "            modelled_tr.y = py_HR_points\n",
    "\n",
    "            plot.update_traces(selector=dict(name=category+' (pre-diagenesis)'),\n",
    "                               x=cat_df['HR_to_tot'], y=py_0_HR)\n",
    "            \n",
    "            pre_dia_tr = sel_trace(plot, category+' (pre-diagenesis)')\n",
    "            pre_dia_tr.x = cat_df['HR_to_tot']\n",
    "            pre_dia_tr.y = py_0_HR\n",
    "            \n",
    "            residuals = sel_trace(plot, category+' (residuals)')\n",
    "            if plot_residuals:\n",
    "                residuals.x = cat_df['HR_to_tot']\n",
    "                residuals.y = cat_df['py_to_HR'] - py_HR_points\n",
    "                residuals.visible = True\n",
    "            else:\n",
    "                residuals.visible = False\n",
    "\n",
    "#         if plot_residuals:\n",
    "#             plot.update_layout(yaxis_range=[-0.5,1])\n",
    "#         else:\n",
    "#             plot.update_layout(yaxis_range=[0,1])\n",
    "    \n",
    "    # plot.show(config=graph_config)"
   ]
  },
  {
   "cell_type": "code",
   "execution_count": 13,
   "metadata": {},
   "outputs": [
    {
     "data": {
      "application/vnd.jupyter.widget-view+json": {
       "model_id": "63125ed44af54108984a2a698badcea1",
       "version_major": 2,
       "version_minor": 0
      },
      "text/plain": [
       "VBox(children=(HBox(children=(FloatSlider(value=0.0105, description='[SO<sub>4</sub>]<sub>0</sub>', layout=Lay…"
      ]
     },
     "metadata": {},
     "output_type": "display_data"
    },
    {
     "data": {
      "application/vnd.jupyter.widget-view+json": {
       "model_id": "b2c4ac7af61e44a69849a28d8ddce214",
       "version_major": 2,
       "version_minor": 0
      },
      "text/plain": [
       "Output()"
      ]
     },
     "metadata": {},
     "output_type": "display_data"
    },
    {
     "data": {
      "application/vnd.jupyter.widget-view+json": {
       "model_id": "9d743d506493408ab6f0f0b0115c242d",
       "version_major": 2,
       "version_minor": 0
      },
      "text/plain": [
       "FigureWidget({\n",
       "    'data': [{'legendgroup': 'Mudstone',\n",
       "              'marker': {'color': 'Purple', 'opacity':…"
      ]
     },
     "metadata": {},
     "output_type": "display_data"
    }
   ],
   "source": [
    "# Modelling pyritisation of real data\n",
    "psn_model=go.FigureWidget()\n",
    "\n",
    "# for HR_to_tot in list(log_df.HR_to_tot):\n",
    "#     psn_model.add_vline(HR_to_tot, line_width=0.5, line_color='Lavender')\n",
    "\n",
    "for category in categories: \n",
    "    \n",
    "    cat_df = log_df[log_df.category == category]\n",
    "\n",
    "    graph_texts = []\n",
    "    for d in cat_df.iterrows():\n",
    "        graph_texts.append(d[1]['name'])\n",
    "    \n",
    "    # Current locations of samples in Fe speciation space\n",
    "    \n",
    "    psn_model.add_trace(go.Scatter(mode='markers',\n",
    "                                   marker_symbol=cat_symbols[category],\n",
    "                                   marker_color='Purple',\n",
    "                                   marker_opacity=0.3,\n",
    "                                   name=category+' (pre-diagenesis)',\n",
    "                                   text=graph_texts,\n",
    "                                   legendgroup=category))\n",
    "    \n",
    "    psn_model.add_trace(go.Scatter(mode='markers',\n",
    "                                   marker_symbol=cat_symbols[category],\n",
    "                                   marker_color='Green',\n",
    "                                   name=category+' (modelled)',\n",
    "                                   text=graph_texts,\n",
    "                                   legendgroup=category))\n",
    "\n",
    "    psn_model.add_trace(go.Scatter(x=cat_df['HR_to_tot'], y=cat_df['py_to_HR'],\n",
    "                                   mode='markers',\n",
    "                                   marker_symbol=cat_symbols[category],\n",
    "                                   marker_color='Blue',\n",
    "                                   marker_opacity=0.3,\n",
    "                                   name=category+' (post-diagenesis)',\n",
    "                                   text=graph_texts,\n",
    "                                   legendgroup=category))    \n",
    "    \n",
    "    psn_model.add_trace(go.Scatter(mode='markers',\n",
    "                                   marker_symbol=cat_symbols[category],\n",
    "                                   marker_color='FireBrick',\n",
    "                                   name=category+' (residuals)',\n",
    "                                   text=graph_texts,\n",
    "                                   legendgroup=category))\n",
    "    \n",
    "    \n",
    "psn_model.add_trace(go.Scatter(name='model (const. total Fe)',\n",
    "                               line_color='LightGreen'))\n",
    "\n",
    "psn_model.update_layout(xaxis_range=[0,1], yaxis_range=[0,1],\n",
    "                        width=900, height=600)\n",
    "psn_model.add_hline(0.8, line_width=1, line_dash='dash')\n",
    "psn_model.add_vline(0.38, line_width=1, line_dash='dash')\n",
    "psn_model.update_layout(xaxis_title='[Fe<sub>HR</sub>]/[Fe<sub>tot</sub>]',\n",
    "                        yaxis_title='[Fe<sub>py</sub>]/[Fe<sub>HR</sub>]',\n",
    "                        legend=dict(#itemsizing='constant',\n",
    "                                    font_size=11))\n",
    "\n",
    "\n",
    "# Create widgets\n",
    "s_d = create_sliders(w_df, prefix='s')\n",
    "s_Fe_tot=wdg.FloatSlider(value=4, min=0, max=15, description='[Fe<sub>tot</sub>]', layout=wdg.Layout(width='100%')) # Total Fe for simple model curve\n",
    "s_plot_residuals=wdg.Checkbox(value=False, description='Plot Residuals')\n",
    "\n",
    "spec_ui = wdg.VBox([wdg.HBox([s_d['SO4_0'], s_d['d34S_SO4_0']]),\n",
    "                   wdg.HBox([s_d['py_0'], s_d['v']]),\n",
    "                   wdg.HBox([s_d['epsilon_MSR'], s_d['k_MSR']]),\n",
    "                   wdg.HBox([s_d['D_32'], s_d['beta']]),\n",
    "                   wdg.HBox([s_d['max_z'], s_d['dz']]),\n",
    "                   wdg.HBox([s_Fe_tot, s_plot_residuals])])\n",
    "\n",
    "spec_args={**s_d, 'Fe_tot': s_Fe_tot, 'plot_residuals': s_plot_residuals, 'plot': wdg.fixed(psn_model)}\n",
    "\n",
    "spec_out = wdg.interactive_output(update_Fe_spec, spec_args)\n",
    "\n",
    "display(spec_ui, spec_out)\n",
    "\n",
    "psn_model"
   ]
  },
  {
   "cell_type": "markdown",
   "metadata": {},
   "source": [
    "## Monte-Carlo Simulation"
   ]
  },
  {
   "cell_type": "code",
   "execution_count": 14,
   "metadata": {},
   "outputs": [],
   "source": [
    "def create_range_sliders(w_df, prefix='wr'):\n",
    "    w_dict = {}\n",
    "\n",
    "    for w in w_df.iterrows():\n",
    "\n",
    "        # Make a new variable for each widget\n",
    "        vars()[prefix+'_'+w[1].var_name] = wdg.FloatRangeSlider(value = [w[1].dr_min, w[1].dr_max],\n",
    "                                                                min = w[1].start,\n",
    "                                                                max = w[1].stop,\n",
    "                                                                step = w[1].step,\n",
    "                                                                description = w[1].display_name,\n",
    "                                                                layout=wdg.Layout(width='100%')\n",
    "                                                               )\n",
    "\n",
    "        # Add to a dictionary of original variables and widgets\n",
    "        w_dict[w[1].var_name] = vars()[prefix+'_'+w[1].var_name]\n",
    "    \n",
    "    return w_dict"
   ]
  },
  {
   "cell_type": "code",
   "execution_count": 15,
   "metadata": {},
   "outputs": [
    {
     "data": {
      "text/html": [
       "<div>\n",
       "<style scoped>\n",
       "    .dataframe tbody tr th:only-of-type {\n",
       "        vertical-align: middle;\n",
       "    }\n",
       "\n",
       "    .dataframe tbody tr th {\n",
       "        vertical-align: top;\n",
       "    }\n",
       "\n",
       "    .dataframe thead th {\n",
       "        text-align: right;\n",
       "    }\n",
       "</style>\n",
       "<table border=\"1\" class=\"dataframe\">\n",
       "  <thead>\n",
       "    <tr style=\"text-align: right;\">\n",
       "      <th></th>\n",
       "      <th>var_name</th>\n",
       "      <th>value</th>\n",
       "      <th>start</th>\n",
       "      <th>stop</th>\n",
       "      <th>step</th>\n",
       "      <th>display_name</th>\n",
       "      <th>dr_min</th>\n",
       "      <th>dr_max</th>\n",
       "    </tr>\n",
       "  </thead>\n",
       "  <tbody>\n",
       "    <tr>\n",
       "      <th>0</th>\n",
       "      <td>SO4_0</td>\n",
       "      <td>0.0105</td>\n",
       "      <td>0.001</td>\n",
       "      <td>0.30</td>\n",
       "      <td>0.0010</td>\n",
       "      <td>[SO&lt;sub&gt;4&lt;/sub&gt;]&lt;sub&gt;0&lt;/sub&gt;</td>\n",
       "      <td>0.008</td>\n",
       "      <td>0.013</td>\n",
       "    </tr>\n",
       "    <tr>\n",
       "      <th>1</th>\n",
       "      <td>py_0</td>\n",
       "      <td>0.1600</td>\n",
       "      <td>0.000</td>\n",
       "      <td>1.00</td>\n",
       "      <td>0.0025</td>\n",
       "      <td>[FeS&lt;sub&gt;2&lt;/sub&gt;]&lt;sub&gt;0&lt;/sub&gt;</td>\n",
       "      <td>0.100</td>\n",
       "      <td>0.250</td>\n",
       "    </tr>\n",
       "    <tr>\n",
       "      <th>2</th>\n",
       "      <td>d34S_SO4_0</td>\n",
       "      <td>23.0000</td>\n",
       "      <td>0.000</td>\n",
       "      <td>30.00</td>\n",
       "      <td>0.1000</td>\n",
       "      <td>δ&lt;sup&gt;34&lt;/sup&gt;S&lt;sub&gt;SO4, 0&lt;/sub&gt;</td>\n",
       "      <td>14.000</td>\n",
       "      <td>18.000</td>\n",
       "    </tr>\n",
       "    <tr>\n",
       "      <th>3</th>\n",
       "      <td>epsilon_MSR</td>\n",
       "      <td>54.0000</td>\n",
       "      <td>0.000</td>\n",
       "      <td>100.00</td>\n",
       "      <td>1.0000</td>\n",
       "      <td>ε&lt;sub&gt;MSR&lt;/sub&gt;</td>\n",
       "      <td>40.000</td>\n",
       "      <td>55.000</td>\n",
       "    </tr>\n",
       "    <tr>\n",
       "      <th>4</th>\n",
       "      <td>k_MSR</td>\n",
       "      <td>10.0000</td>\n",
       "      <td>0.000</td>\n",
       "      <td>40.00</td>\n",
       "      <td>0.1000</td>\n",
       "      <td>k&lt;sub&gt;MSR&lt;/sub&gt;</td>\n",
       "      <td>5.000</td>\n",
       "      <td>15.000</td>\n",
       "    </tr>\n",
       "    <tr>\n",
       "      <th>5</th>\n",
       "      <td>v</td>\n",
       "      <td>0.1200</td>\n",
       "      <td>0.001</td>\n",
       "      <td>0.50</td>\n",
       "      <td>0.0010</td>\n",
       "      <td>v&lt;sub&gt;sed&lt;/sub&gt;</td>\n",
       "      <td>0.005</td>\n",
       "      <td>0.200</td>\n",
       "    </tr>\n",
       "    <tr>\n",
       "      <th>6</th>\n",
       "      <td>D_32</td>\n",
       "      <td>0.2000</td>\n",
       "      <td>0.001</td>\n",
       "      <td>0.30</td>\n",
       "      <td>0.0010</td>\n",
       "      <td>D&lt;sub&gt;32&lt;/sub&gt;</td>\n",
       "      <td>0.100</td>\n",
       "      <td>0.300</td>\n",
       "    </tr>\n",
       "    <tr>\n",
       "      <th>7</th>\n",
       "      <td>beta</td>\n",
       "      <td>0.0250</td>\n",
       "      <td>0.000</td>\n",
       "      <td>0.05</td>\n",
       "      <td>0.0010</td>\n",
       "      <td>β</td>\n",
       "      <td>0.000</td>\n",
       "      <td>0.050</td>\n",
       "    </tr>\n",
       "  </tbody>\n",
       "</table>\n",
       "</div>"
      ],
      "text/plain": [
       "      var_name    value  start    stop    step  \\\n",
       "0        SO4_0   0.0105  0.001    0.30  0.0010   \n",
       "1         py_0   0.1600  0.000    1.00  0.0025   \n",
       "2   d34S_SO4_0  23.0000  0.000   30.00  0.1000   \n",
       "3  epsilon_MSR  54.0000  0.000  100.00  1.0000   \n",
       "4        k_MSR  10.0000  0.000   40.00  0.1000   \n",
       "5            v   0.1200  0.001    0.50  0.0010   \n",
       "6         D_32   0.2000  0.001    0.30  0.0010   \n",
       "7         beta   0.0250  0.000    0.05  0.0010   \n",
       "\n",
       "                       display_name  dr_min  dr_max  \n",
       "0      [SO<sub>4</sub>]<sub>0</sub>   0.008   0.013  \n",
       "1     [FeS<sub>2</sub>]<sub>0</sub>   0.100   0.250  \n",
       "2  δ<sup>34</sup>S<sub>SO4, 0</sub>  14.000  18.000  \n",
       "3                   ε<sub>MSR</sub>  40.000  55.000  \n",
       "4                   k<sub>MSR</sub>   5.000  15.000  \n",
       "5                   v<sub>sed</sub>   0.005   0.200  \n",
       "6                    D<sub>32</sub>   0.100   0.300  \n",
       "7                                 β   0.000   0.050  "
      ]
     },
     "execution_count": 15,
     "metadata": {},
     "output_type": "execute_result"
    }
   ],
   "source": [
    "# Dataframe of only parameters we want to vary in Monte-Carlo simulation\n",
    "monte_df = w_df[~w_df.var_name.isin(['max_z', 'dz'])]\n",
    "monte_df"
   ]
  },
  {
   "cell_type": "code",
   "execution_count": 16,
   "metadata": {
    "tags": []
   },
   "outputs": [],
   "source": [
    "def update_monte_plot(plot, SO4_0, py_0, d34S_SO4_0, epsilon_MSR, k_MSR, beta, D_32, v, dz, max_z, n_trials): # , colour_param):\n",
    "    \n",
    "    with plot.batch_update():\n",
    "    \n",
    "        params_list = []\n",
    "\n",
    "#         pys = []\n",
    "#         d34Ss = []\n",
    "#         texts = []\n",
    "#         colours = []\n",
    "        \n",
    "        # Loop for each trial in Monte Carlo\n",
    "        for trial in range(n_trials):\n",
    "            \n",
    "            # Create dictionary for this run's parameters\n",
    "            params = {}\n",
    "            \n",
    "            # Randomise the parameters\n",
    "            for row in monte_df.iterrows():\n",
    "                param_name = row[1].var_name\n",
    "                param_range = locals()[param_name] # locals() returns dictionary of the actual variables put into the function\n",
    "                \n",
    "                param = random.uniform(*param_range) # Picks a random float within the parameter range (inclusive)\n",
    "                \n",
    "                # Update the appropriate parameter in the dictionary\n",
    "                params[param_name] = param\n",
    "\n",
    "            # After randomising all parameters, put them into the function (and add those we didn't randomise)\n",
    "            py, d34S = get_py_d34S(**params, dz=dz, max_z=max_z)\n",
    "            \n",
    "#             params['Trial_No'] = trial\n",
    "            params['py'] = py\n",
    "            params['d34S'] = d34S\n",
    "\n",
    "#             pys.append(py)\n",
    "#             d34Ss.append(d34S)\n",
    "#             texts.append(f'Trial {trial}')\n",
    "#             colours.append(params[colour_param])\n",
    "            \n",
    "            params_list.append(params)\n",
    "\n",
    "        # After iteration, convert the parameter list into a dataframe, stroed in the global variable params_df\n",
    "        global params_df\n",
    "        params_df = pd.DataFrame(params_list)\n",
    "        \n",
    "        \n",
    "        model_tr = sel_trace(plot, 'Trials')\n",
    "\n",
    "        model_tr.x = params_df.py\n",
    "        model_tr.y = params_df.d34S\n",
    "        \n",
    "        # Get the parameter used for colour without forcing it to update this function\n",
    "        model_tr.marker.color = params_df[r_colour.value]\n",
    "        \n",
    "        model_tr.text = params_df.index\n",
    "\n",
    "\n",
    "#         SDP_tr = sel_trace(plot, 'Syn-Depositional Pyrite')\n",
    "#         if plot_SDP:\n",
    "#             SDP_tr.x = [py_0]\n",
    "#             SDP_tr.y = [d34S_SO4_0 - epsilon_MSR]\n",
    "#             SDP_tr.text = ['{:.2f} wt% Fe<sub>py, 0</sub>'.format(M_to_wt(py_0))]\n",
    "#             SDP_tr.visible = True\n",
    "\n",
    "#         else:\n",
    "#             SDP_tr.visible = False\n",
    "\n",
    "\n",
    "#         noSDP_tr = sel_trace(plot, 'Model (no py<sub>0</sub>)')\n",
    "#         if plot_noSDP:\n",
    "#             # recalculate model with no syn-depositional pyrite\n",
    "#             pys_na = []\n",
    "#             d34Ss_na = []\n",
    "#             texts_na = []\n",
    "\n",
    "#             params_na = params\n",
    "#             params_na['py_0'] = 0 # set to no syn-depositional pyrite\n",
    "\n",
    "#             for var in vary_range:\n",
    "\n",
    "#                 # Update the appropriate parameter to its value in the iterations\n",
    "#                 params_na[varying] = var\n",
    "\n",
    "#                 py, d34S = get_py_d34S(**params_na)\n",
    "\n",
    "#                 pys_na.append(py)\n",
    "#                 d34Ss_na.append(d34S)\n",
    "#                 texts_na.append('{}: {:.5f}'.format(varying, var))\n",
    "\n",
    "#     #         plot.update_traces(x=pys_na, y=d34Ss_na, text=texts_na, marker_color=vary_range,\n",
    "#     #                            visible=True, selector=dict(name='Model (no py<sub>0</sub>)'))\n",
    "#             noSDP_tr.x = pys_na\n",
    "#             noSDP_tr.y = d34Ss_na\n",
    "#             noSDP_tr.text = texts_na\n",
    "#             noSDP_tr.marker.color = vary_range\n",
    "#             noSDP_tr.visible = True\n",
    "\n",
    "#         else:\n",
    "#             noSDP_tr.visible = False\n",
    "\n",
    "        # change colour bar title\n",
    "#         plot.layout.coloraxis.colorbar.title = list(monte_df[monte_df.var_name==colour_param].display_name)[0]"
   ]
  },
  {
   "cell_type": "code",
   "execution_count": 17,
   "metadata": {},
   "outputs": [],
   "source": [
    "def tweak_plot(marker_size, marker_opacity, colour_param, trace, plot):\n",
    "    trace.marker.size = marker_size\n",
    "    trace.marker.opacity = marker_opacity\n",
    "    trace.marker.color = params_df[colour_param]\n",
    "    plot.layout.coloraxis.colorbar.title = list(monte_df[monte_df.var_name==colour_param].display_name)[0]"
   ]
  },
  {
   "cell_type": "code",
   "execution_count": 18,
   "metadata": {},
   "outputs": [],
   "source": [
    "r_details = wdg.Output()\n",
    "\n",
    "def monte_hover(trace, points, state):\n",
    "    if points.point_inds: # Makes sure we're hovering over the right trace. The wrong trace will give point_inds = [].\n",
    "        ind = points.point_inds[0]\n",
    "        \n",
    "        details = params_df.iloc[ind].to_frame() # creates summary dataframe\n",
    "        \n",
    "        with r_details:\n",
    "            display(details) # displays dataframe in output widget\n",
    "            \n",
    "        r_details.clear_output(wait=True) # Clears the output when a new point is selected.\n",
    "    else:\n",
    "        pass"
   ]
  },
  {
   "cell_type": "code",
   "execution_count": 21,
   "metadata": {},
   "outputs": [
    {
     "data": {
      "application/vnd.jupyter.widget-view+json": {
       "model_id": "8ade048f3d9a4e8da32547e0ccd4f968",
       "version_major": 2,
       "version_minor": 0
      },
      "text/plain": [
       "VBox(children=(VBox(children=(HBox(children=(FloatRangeSlider(value=(0.008, 0.013000000000000001), description…"
      ]
     },
     "metadata": {},
     "output_type": "display_data"
    },
    {
     "data": {
      "application/vnd.jupyter.widget-view+json": {
       "model_id": "f12e0f05faeb4f42b0ede39df9e43ec8",
       "version_major": 2,
       "version_minor": 0
      },
      "text/plain": [
       "Output()"
      ]
     },
     "metadata": {},
     "output_type": "display_data"
    },
    {
     "data": {
      "application/vnd.jupyter.widget-view+json": {
       "model_id": "1ec81e095b0b4b4d902c3351a9144c96",
       "version_major": 2,
       "version_minor": 0
      },
      "text/plain": [
       "Output()"
      ]
     },
     "metadata": {},
     "output_type": "display_data"
    }
   ],
   "source": [
    "# Set up plot\n",
    "monte_plot=go.FigureWidget()\n",
    "\n",
    "monte_plot.update_layout(yaxis=dict(title='δ<sup>34</sup>S<sub>py</sub> (‰)'),\n",
    "                         xaxis=dict(title='[FeS<sub>2</sub>] / mol dm<sup>−3</sup>', rangemode='tozero'),\n",
    "                         legend=dict(yanchor=\"top\", y=1, xanchor=\"left\", x=1.2),\n",
    "                         margin=dict(l=100),\n",
    "                         width=1000, height=600,\n",
    "                         coloraxis=dict(colorscale='viridis_r', colorbar_ticks='outside')\n",
    "                         )\n",
    "\n",
    "# Add the real data\n",
    "for category in categories:\n",
    "    cat_df = log_df[log_df.category == category]\n",
    "    monte_plot.add_scatter(x = cat_df.Fe_py.apply(wt_to_M), y=cat_df.d34S,\n",
    "                           text = cat_df.name,\n",
    "                           mode='markers',\n",
    "                           marker_color='Blue',\n",
    "                           marker_opacity=0.3,\n",
    "                           marker_symbol=cat_symbols[category],\n",
    "                           name=category)\n",
    "\n",
    "monte_plot.add_trace(go.Scatter(name='Trials', mode='markers', marker_coloraxis='coloraxis',\n",
    "                                marker_line={'color': 'Black', 'width': 1}))\n",
    "# monte_plot.add_trace(go.Scatter(name='Model (no py<sub>0</sub>)', mode='lines+markers', marker_coloraxis='coloraxis',\n",
    "#                                 marker_line_color='Orange', marker_line_width=1, line_color='Orange'))\n",
    "# monte_plot.add_trace(go.Scatter(name='Syn-Depositional Pyrite', mode='markers',\n",
    "#                                 marker_color='Purple', marker_symbol='square'))\n",
    "\n",
    "# create widgets\n",
    "field_layout = wdg.Layout(width='200px')\n",
    "\n",
    "r_d = create_range_sliders(monte_df, prefix='r')\n",
    "r_d2 = create_sliders(w_df[w_df.var_name.isin(['max_z', 'dz'])], prefix='r')\n",
    "\n",
    "r_n_trials = wdg.IntSlider(value = 400, min = 1, max = 1000, description = '№ of Trials', layout=wdg.Layout(width='100%'))\n",
    "\n",
    "r_colour=wdg.Dropdown(options=monte_df.var_name, description='Colour', layout=field_layout, value='v')\n",
    "r_marker_size = wdg.FloatSlider(value=8, min=0, max=20, step=0.1, description='Marker Size', layout=wdg.Layout(width='100%'))\n",
    "r_opacity = wdg.FloatSlider(value=0.7, min=0, max=1, step=0.01, description='Opacity', layout=wdg.Layout(width='100%'))\n",
    "\n",
    "# v_plot_SDP = wdg.Checkbox(value=True, description='Plot syn-depositional pyrite')\n",
    "# v_plot_noSDP = wdg.Checkbox(value=False, description='Plot curve w/o syn-depositional pyrite')\n",
    "\n",
    "# set up widget layout\n",
    "monte_ui = wdg.VBox([wdg.HBox([r_d['SO4_0'], r_d['d34S_SO4_0']]),\n",
    "                     wdg.HBox([r_d['py_0'], r_d['v']]),\n",
    "                     wdg.HBox([r_d['epsilon_MSR'], r_d['k_MSR']]),\n",
    "                     wdg.HBox([r_d['D_32'], r_d['beta']]),\n",
    "                     wdg.HBox([r_d2['max_z'], r_d2['dz']]),\n",
    "                     wdg.HBox([r_n_trials]),\n",
    "                     wdg.HBox([r_colour, r_marker_size, r_opacity])\n",
    "#                      wdg.HBox([v_plot_SDP, v_plot_noSDP])\n",
    "                    ])\n",
    "\n",
    "monte_args = {**r_d, **r_d2,\n",
    "              'plot': wdg.fixed(monte_plot),\n",
    "              'n_trials': r_n_trials,\n",
    "#              'colour_param': r_colour,\n",
    "#               'plot_SDP': v_plot_SDP,\n",
    "#               'plot_noSDP': v_plot_noSDP\n",
    "             }\n",
    "\n",
    "monte_output = wdg.interactive_output(update_monte_plot, monte_args)\n",
    "\n",
    "tweak_args = {'trace': wdg.fixed(sel_trace(monte_plot, 'Trials')),\n",
    "              'plot': wdg.fixed(monte_plot),\n",
    "              'marker_size': r_marker_size,\n",
    "              'marker_opacity': r_opacity,\n",
    "              'colour_param': r_colour\n",
    "             }\n",
    "tweak_output = wdg.interactive_output(tweak_plot, tweak_args)\n",
    "\n",
    "sel_trace(monte_plot, 'Trials').on_hover(monte_hover)\n",
    "\n",
    "monte_dashboard = wdg.VBox([monte_ui,\n",
    "                            wdg.HBox([monte_plot, r_details])\n",
    "                           ])\n",
    "\n",
    "display(monte_dashboard, monte_output, tweak_output)"
   ]
  },
  {
   "cell_type": "code",
   "execution_count": 20,
   "metadata": {},
   "outputs": [],
   "source": [
    "monte_plot.write_image('images/monte_plot_test.svg')"
   ]
  },
  {
   "cell_type": "code",
   "execution_count": null,
   "metadata": {},
   "outputs": [],
   "source": []
  }
 ],
 "metadata": {
  "kernelspec": {
   "display_name": "Python 3",
   "language": "python",
   "name": "python3"
  },
  "language_info": {
   "codemirror_mode": {
    "name": "ipython",
    "version": 3
   },
   "file_extension": ".py",
   "mimetype": "text/x-python",
   "name": "python",
   "nbconvert_exporter": "python",
   "pygments_lexer": "ipython3",
   "version": "3.8.5"
  },
  "widgets": {
   "application/vnd.jupyter.widget-state+json": {
    "state": {
     "006e11d2adc44973b03dfb85d6b0efef": {
      "model_module": "@jupyter-widgets/controls",
      "model_module_version": "1.5.0",
      "model_name": "HBoxModel",
      "state": {
       "children": [
        "IPY_MODEL_bc0d857b9bee4974b964bc59559d8ba1",
        "IPY_MODEL_c27d46f88a9a466992fd9e46f7125a5a"
       ],
       "layout": "IPY_MODEL_19fc04499c7a4a0dbf4a42a34daf1116"
      }
     },
     "016f1ebf837247c599f04baf3903ac47": {
      "model_module": "@jupyter-widgets/controls",
      "model_module_version": "1.5.0",
      "model_name": "FloatSliderModel",
      "state": {
       "description": "dz",
       "layout": "IPY_MODEL_927db75ce45d420a832795a144b9e383",
       "max": 0.1,
       "min": 0.001,
       "step": 0.001,
       "style": "IPY_MODEL_e7f77a63f6a845bcb9461cec91cefd18",
       "value": 0.01
      }
     },
     "040aec8d56534f9083d204ceca5450a3": {
      "model_module": "@jupyter-widgets/controls",
      "model_module_version": "1.5.0",
      "model_name": "HBoxModel",
      "state": {
       "children": [
        "IPY_MODEL_81c9c97b27a640bdbfcac97512267702",
        "IPY_MODEL_0c68996464f343e2b1d7216860b8bba3"
       ],
       "layout": "IPY_MODEL_05b6a4ca027a44c7a45f003ea286aed8"
      }
     },
     "047d88b5015846a59f8c441749f1723b": {
      "model_module": "@jupyter-widgets/controls",
      "model_module_version": "1.5.0",
      "model_name": "DescriptionStyleModel",
      "state": {
       "description_width": ""
      }
     },
     "04ab1e3847d649a8b4a0c0931f770d03": {
      "model_module": "@jupyter-widgets/controls",
      "model_module_version": "1.5.0",
      "model_name": "FloatSliderModel",
      "state": {
       "description": "k<sub>MSR</sub>",
       "layout": "IPY_MODEL_170a6212f61242689c5dd864f37b6784",
       "max": 40,
       "step": 0.1,
       "style": "IPY_MODEL_182c64814f1f40c694a9043a3b22cb2c",
       "value": 10
      }
     },
     "05b6a4ca027a44c7a45f003ea286aed8": {
      "model_module": "@jupyter-widgets/base",
      "model_module_version": "1.2.0",
      "model_name": "LayoutModel",
      "state": {}
     },
     "0731c7abfee0456284e98677af58f790": {
      "model_module": "@jupyter-widgets/controls",
      "model_module_version": "1.5.0",
      "model_name": "FloatRangeSliderModel",
      "state": {
       "_model_name": "FloatRangeSliderModel",
       "_view_name": "FloatRangeSliderView",
       "description": "[FeS<sub>2</sub>]<sub>0</sub>",
       "layout": "IPY_MODEL_633cfd3f3a30481d9ee5a8129934c696",
       "max": 1,
       "step": 0.0025,
       "style": "IPY_MODEL_cfea889f5d6b442f911fda6d9fd659e8",
       "value": [
        0.1,
        0.25
       ]
      }
     },
     "07410758decc4df385e5acfb17207630": {
      "model_module": "@jupyter-widgets/base",
      "model_module_version": "1.2.0",
      "model_name": "LayoutModel",
      "state": {
       "width": "100%"
      }
     },
     "0a2e0ab1a7a44363a1afe6e5178131f9": {
      "model_module": "@jupyter-widgets/base",
      "model_module_version": "1.2.0",
      "model_name": "LayoutModel",
      "state": {}
     },
     "0a409639d05047cdbaf9224ce46cde07": {
      "model_module": "@jupyter-widgets/controls",
      "model_module_version": "1.5.0",
      "model_name": "HBoxModel",
      "state": {
       "children": [
        "IPY_MODEL_1f8cab033b144e6ab43175d1bc2b64a5",
        "IPY_MODEL_b69b5b87e73740e695a0f993c5220337"
       ],
       "layout": "IPY_MODEL_f2a800907e6f4d46a5706f2d0f958b83"
      }
     },
     "0abb37d24bea4fb6a1a8308d73e199c5": {
      "model_module": "@jupyter-widgets/base",
      "model_module_version": "1.2.0",
      "model_name": "LayoutModel",
      "state": {
       "width": "100%"
      }
     },
     "0af85707cdc9410fb5b7598f90141879": {
      "model_module": "@jupyter-widgets/controls",
      "model_module_version": "1.5.0",
      "model_name": "FloatSliderModel",
      "state": {
       "description": "ε<sub>MSR</sub>",
       "layout": "IPY_MODEL_f696b58d395a40f0af97d3e75cc4961f",
       "style": "IPY_MODEL_b39566bf1e8c48b1a0b63297f49efbca",
       "value": 54
      }
     },
     "0afa8d23d3484ab88e5508a5001b667f": {
      "model_module": "@jupyter-widgets/controls",
      "model_module_version": "1.5.0",
      "model_name": "SliderStyleModel",
      "state": {
       "description_width": ""
      }
     },
     "0b12f16ed02245b7827c469f35a73cbf": {
      "model_module": "@jupyter-widgets/controls",
      "model_module_version": "1.5.0",
      "model_name": "FloatSliderModel",
      "state": {
       "description": "[FeS<sub>2</sub>]<sub>0</sub>",
       "layout": "IPY_MODEL_903c59881fc047e4a1a4e76fbea97551",
       "max": 1,
       "step": 0.0025,
       "style": "IPY_MODEL_ff11facbfe924065924c3b5512944e14",
       "value": 0.16
      }
     },
     "0bb9e589200c40ce832bd063f5cd9a3a": {
      "model_module": "@jupyter-widgets/controls",
      "model_module_version": "1.5.0",
      "model_name": "DescriptionStyleModel",
      "state": {
       "description_width": ""
      }
     },
     "0c25d2f0074e4a038a8541e51acc1b1c": {
      "model_module": "@jupyter-widgets/base",
      "model_module_version": "1.2.0",
      "model_name": "LayoutModel",
      "state": {
       "width": "100%"
      }
     },
     "0c68996464f343e2b1d7216860b8bba3": {
      "model_module": "@jupyter-widgets/controls",
      "model_module_version": "1.5.0",
      "model_name": "FloatSliderModel",
      "state": {
       "description": "k<sub>MSR</sub>",
       "layout": "IPY_MODEL_7da5e49a96f24d1b8f2195cb232c28b9",
       "max": 40,
       "step": 0.1,
       "style": "IPY_MODEL_2c1158eba1e443348579c9582ddf7dfb",
       "value": 10
      }
     },
     "101d8289a3d447e1894c420985e1ed13": {
      "model_module": "@jupyter-widgets/output",
      "model_module_version": "1.0.0",
      "model_name": "OutputModel",
      "state": {
       "layout": "IPY_MODEL_5ed8c29f9aa647fdacfe1e7f48dba63c"
      }
     },
     "110c8587f68842fdbdee6407f408c04c": {
      "model_module": "@jupyter-widgets/controls",
      "model_module_version": "1.5.0",
      "model_name": "DropdownModel",
      "state": {
       "_options_labels": [
        "SO4_0",
        "py_0",
        "d34S_SO4_0",
        "epsilon_MSR",
        "k_MSR",
        "v",
        "D_32",
        "beta"
       ],
       "description": "Colour",
       "index": 5,
       "layout": "IPY_MODEL_d719b7ba989e47d0ab43fb78716b02eb",
       "style": "IPY_MODEL_12439aad2267495faf732a05c23ca446"
      }
     },
     "1122794b58974493a8192a4e262ffcf4": {
      "model_module": "@jupyter-widgets/controls",
      "model_module_version": "1.5.0",
      "model_name": "SliderStyleModel",
      "state": {
       "description_width": ""
      }
     },
     "1239d5c678874d0aaade9d0b1558ad68": {
      "model_module": "@jupyter-widgets/base",
      "model_module_version": "1.2.0",
      "model_name": "LayoutModel",
      "state": {
       "width": "100%"
      }
     },
     "12439aad2267495faf732a05c23ca446": {
      "model_module": "@jupyter-widgets/controls",
      "model_module_version": "1.5.0",
      "model_name": "DescriptionStyleModel",
      "state": {
       "description_width": ""
      }
     },
     "16cc8489a74b406cad2a6c7c37ef5f41": {
      "model_module": "@jupyter-widgets/controls",
      "model_module_version": "1.5.0",
      "model_name": "HBoxModel",
      "state": {
       "children": [
        "IPY_MODEL_2519b70943ac467a9c86e91fc0a7b187",
        "IPY_MODEL_2c9944f639014ca0b9a6b4242cd9580b"
       ],
       "layout": "IPY_MODEL_b4f09ac51e664b19b72a839c03d85adf"
      }
     },
     "170a6212f61242689c5dd864f37b6784": {
      "model_module": "@jupyter-widgets/base",
      "model_module_version": "1.2.0",
      "model_name": "LayoutModel",
      "state": {
       "width": "100%"
      }
     },
     "17b15f3d0fca46f4862edfedd7861f34": {
      "model_module": "@jupyter-widgets/base",
      "model_module_version": "1.2.0",
      "model_name": "LayoutModel",
      "state": {}
     },
     "182c64814f1f40c694a9043a3b22cb2c": {
      "model_module": "@jupyter-widgets/controls",
      "model_module_version": "1.5.0",
      "model_name": "SliderStyleModel",
      "state": {
       "description_width": ""
      }
     },
     "1948f6125d194f38964865ad6e9af419": {
      "model_module": "@jupyter-widgets/controls",
      "model_module_version": "1.5.0",
      "model_name": "FloatRangeSliderModel",
      "state": {
       "_model_name": "FloatRangeSliderModel",
       "_view_name": "FloatRangeSliderView",
       "description": "β",
       "layout": "IPY_MODEL_3f3e96ee8b0c4e0882cd204a650f98d1",
       "max": 0.05,
       "step": 0.001,
       "style": "IPY_MODEL_682bd036e191491ebc202bce6a045bee",
       "value": [
        0,
        0.05
       ]
      }
     },
     "19fc04499c7a4a0dbf4a42a34daf1116": {
      "model_module": "@jupyter-widgets/base",
      "model_module_version": "1.2.0",
      "model_name": "LayoutModel",
      "state": {}
     },
     "1d1296a46c7543f19080f211510208a5": {
      "model_module": "@jupyter-widgets/base",
      "model_module_version": "1.2.0",
      "model_name": "LayoutModel",
      "state": {}
     },
     "1f801147db8049b18850e57ff836f4a0": {
      "model_module": "@jupyter-widgets/controls",
      "model_module_version": "1.5.0",
      "model_name": "FloatTextModel",
      "state": {
       "description": "step",
       "layout": "IPY_MODEL_c287400fe9e3490396d93bac3b1f6190",
       "step": 0.01,
       "style": "IPY_MODEL_4a428f97c8324d90b8bafba03635bb87",
       "value": 0.005
      }
     },
     "1f8cab033b144e6ab43175d1bc2b64a5": {
      "model_module": "@jupyter-widgets/controls",
      "model_module_version": "1.5.0",
      "model_name": "FloatSliderModel",
      "state": {
       "description": "D<sub>32</sub>",
       "layout": "IPY_MODEL_1239d5c678874d0aaade9d0b1558ad68",
       "max": 0.3,
       "min": 0.001,
       "step": 0.001,
       "style": "IPY_MODEL_f2413f00b4db412d9e60c80d7307cb30",
       "value": 0.2
      }
     },
     "20089e52800e4adf9e6b065eaf9dddf7": {
      "model_module": "@jupyter-widgets/controls",
      "model_module_version": "1.5.0",
      "model_name": "SliderStyleModel",
      "state": {
       "description_width": ""
      }
     },
     "203548f537b448a7b127381f44f5b76b": {
      "model_module": "@jupyter-widgets/base",
      "model_module_version": "1.2.0",
      "model_name": "LayoutModel",
      "state": {
       "width": "100%"
      }
     },
     "2225bc54861f4ed78ac9b86d0f3df2cd": {
      "model_module": "@jupyter-widgets/base",
      "model_module_version": "1.2.0",
      "model_name": "LayoutModel",
      "state": {}
     },
     "22e94e16a372425198c25e874728e047": {
      "model_module": "@jupyter-widgets/base",
      "model_module_version": "1.2.0",
      "model_name": "LayoutModel",
      "state": {}
     },
     "2330255a14d244aa920cc15eef768f2a": {
      "model_module": "@jupyter-widgets/base",
      "model_module_version": "1.2.0",
      "model_name": "LayoutModel",
      "state": {}
     },
     "24362867b5f44cb088d796b7cff9907a": {
      "model_module": "@jupyter-widgets/base",
      "model_module_version": "1.2.0",
      "model_name": "LayoutModel",
      "state": {
       "width": "100%"
      }
     },
     "2519b70943ac467a9c86e91fc0a7b187": {
      "model_module": "@jupyter-widgets/controls",
      "model_module_version": "1.5.0",
      "model_name": "FloatRangeSliderModel",
      "state": {
       "_model_name": "FloatRangeSliderModel",
       "_view_name": "FloatRangeSliderView",
       "description": "ε<sub>MSR</sub>",
       "layout": "IPY_MODEL_4f07973575e648b8bd380e6153993866",
       "style": "IPY_MODEL_a0803bc6def7499a8c378fb1a0806cc5",
       "value": [
        40,
        55
       ]
      }
     },
     "25b17396c84d4a64874e5d61eabfcbfa": {
      "model_module": "@jupyter-widgets/base",
      "model_module_version": "1.2.0",
      "model_name": "LayoutModel",
      "state": {
       "width": "100%"
      }
     },
     "26c1eb213b6c41a2bed7770d048dbad8": {
      "model_module": "@jupyter-widgets/controls",
      "model_module_version": "1.5.0",
      "model_name": "VBoxModel",
      "state": {
       "children": [
        "IPY_MODEL_484eeca0bc524009864a1e133cb59be8",
        "IPY_MODEL_006e11d2adc44973b03dfb85d6b0efef"
       ],
       "layout": "IPY_MODEL_a725553a84c44f0fa51da60513c5f6e9"
      }
     },
     "274e0c37da404bb8ac5a6acfbf71bb86": {
      "model_module": "@jupyter-widgets/controls",
      "model_module_version": "1.5.0",
      "model_name": "FloatSliderModel",
      "state": {
       "description": "Opacity",
       "layout": "IPY_MODEL_2e21d58ac1854f6abe5a88692ae9912b",
       "max": 1,
       "step": 0.01,
       "style": "IPY_MODEL_1122794b58974493a8192a4e262ffcf4",
       "value": 0.7
      }
     },
     "2778edfb627a4e5aab4e23475341df1f": {
      "model_module": "@jupyter-widgets/controls",
      "model_module_version": "1.5.0",
      "model_name": "HBoxModel",
      "state": {
       "children": [
        "IPY_MODEL_b002bd1dba42410d8caa03df15bce422"
       ],
       "layout": "IPY_MODEL_320eb54723084cc7b27f7dc140f42c26"
      }
     },
     "27a8cfd272774d81a4bc4405d888db07": {
      "model_module": "@jupyter-widgets/controls",
      "model_module_version": "1.5.0",
      "model_name": "HBoxModel",
      "state": {
       "children": [
        "IPY_MODEL_7b9802ee3c6e4454a39f762aa687cf58",
        "IPY_MODEL_bdb19dc2c6bf46598c636ef46dfb1c39"
       ],
       "layout": "IPY_MODEL_1d1296a46c7543f19080f211510208a5"
      }
     },
     "28585a3a620744b8b8637057e55c83a7": {
      "model_module": "@jupyter-widgets/base",
      "model_module_version": "1.2.0",
      "model_name": "LayoutModel",
      "state": {}
     },
     "2b21fdb958b44d8d86c320815b3c788e": {
      "model_module": "@jupyter-widgets/controls",
      "model_module_version": "1.5.0",
      "model_name": "SliderStyleModel",
      "state": {
       "description_width": ""
      }
     },
     "2b550279ee2f45d5ab7c2a01350552dd": {
      "model_module": "@jupyter-widgets/controls",
      "model_module_version": "1.5.0",
      "model_name": "SliderStyleModel",
      "state": {
       "description_width": ""
      }
     },
     "2bb6176ce64a499ca35cec86766171f7": {
      "model_module": "@jupyter-widgets/controls",
      "model_module_version": "1.5.0",
      "model_name": "SliderStyleModel",
      "state": {
       "description_width": ""
      }
     },
     "2c1158eba1e443348579c9582ddf7dfb": {
      "model_module": "@jupyter-widgets/controls",
      "model_module_version": "1.5.0",
      "model_name": "SliderStyleModel",
      "state": {
       "description_width": ""
      }
     },
     "2c9944f639014ca0b9a6b4242cd9580b": {
      "model_module": "@jupyter-widgets/controls",
      "model_module_version": "1.5.0",
      "model_name": "FloatRangeSliderModel",
      "state": {
       "_model_name": "FloatRangeSliderModel",
       "_view_name": "FloatRangeSliderView",
       "description": "k<sub>MSR</sub>",
       "layout": "IPY_MODEL_684679f330e14621afcf08a1609fd9b9",
       "max": 40,
       "step": 0.1,
       "style": "IPY_MODEL_3d9851c9084b427ca32b7d5d184663e0",
       "value": [
        5,
        15
       ]
      }
     },
     "2cc73b6635144e03a076b4c2451e0000": {
      "model_module": "@jupyter-widgets/controls",
      "model_module_version": "1.5.0",
      "model_name": "FloatRangeSliderModel",
      "state": {
       "_model_name": "FloatRangeSliderModel",
       "_view_name": "FloatRangeSliderView",
       "description": "δ<sup>34</sup>S<sub>SO4, 0</sub>",
       "layout": "IPY_MODEL_6e6339267bcc4eb9b6b50886d94f4685",
       "max": 30,
       "step": 0.1,
       "style": "IPY_MODEL_6a349ae4e77141769f67c07b3c90f7c1",
       "value": [
        14,
        18
       ]
      }
     },
     "2ce9c36e901e4ec3b0f48fe80b18d7ff": {
      "model_module": "@jupyter-widgets/controls",
      "model_module_version": "1.5.0",
      "model_name": "CheckboxModel",
      "state": {
       "description": "Plot time on y axis",
       "disabled": false,
       "layout": "IPY_MODEL_e181bd9456b04acb84545dc5e904510f",
       "style": "IPY_MODEL_50d8fef36595412da07d7db30d5b5cf0",
       "value": false
      }
     },
     "2e21d58ac1854f6abe5a88692ae9912b": {
      "model_module": "@jupyter-widgets/base",
      "model_module_version": "1.2.0",
      "model_name": "LayoutModel",
      "state": {
       "width": "100%"
      }
     },
     "2e84ec10fb034303aa69cd776223ce67": {
      "model_module": "@jupyter-widgets/controls",
      "model_module_version": "1.5.0",
      "model_name": "SliderStyleModel",
      "state": {
       "description_width": ""
      }
     },
     "308923b45aaa4010a75fe4f19d8fc75b": {
      "model_module": "@jupyter-widgets/controls",
      "model_module_version": "1.5.0",
      "model_name": "SliderStyleModel",
      "state": {
       "description_width": ""
      }
     },
     "3158ef59aa5f447089c5944bcbd5f908": {
      "model_module": "@jupyter-widgets/base",
      "model_module_version": "1.2.0",
      "model_name": "LayoutModel",
      "state": {}
     },
     "31a3d4004dc344f086843bb3a3409d8a": {
      "model_module": "@jupyter-widgets/controls",
      "model_module_version": "1.5.0",
      "model_name": "SliderStyleModel",
      "state": {
       "description_width": ""
      }
     },
     "320eb54723084cc7b27f7dc140f42c26": {
      "model_module": "@jupyter-widgets/base",
      "model_module_version": "1.2.0",
      "model_name": "LayoutModel",
      "state": {}
     },
     "32dae8322eaf4afebb931164ca8601a0": {
      "model_module": "@jupyter-widgets/controls",
      "model_module_version": "1.5.0",
      "model_name": "HBoxModel",
      "state": {
       "children": [
        "IPY_MODEL_a30cd83c5cbb449ba0bb7dbe89bc02f1",
        "IPY_MODEL_c02791c93d2f43409a09e2ccdeaf8ec1"
       ],
       "layout": "IPY_MODEL_0a2e0ab1a7a44363a1afe6e5178131f9"
      }
     },
     "342a9a8e0539437d8e6c96a62a3c1bb5": {
      "model_module": "@jupyter-widgets/controls",
      "model_module_version": "1.5.0",
      "model_name": "CheckboxModel",
      "state": {
       "description": "Plot curve w/o syn-depositional pyrite",
       "disabled": false,
       "layout": "IPY_MODEL_768bd7da0998427fbc709bdcc9118ae8",
       "style": "IPY_MODEL_eebb1702556a4e4780806a1381f74284",
       "value": false
      }
     },
     "34eacacb5c454d0597362558cd1d2715": {
      "model_module": "@jupyter-widgets/controls",
      "model_module_version": "1.5.0",
      "model_name": "FloatSliderModel",
      "state": {
       "description": "[FeS<sub>2</sub>]<sub>0</sub>",
       "layout": "IPY_MODEL_7e354d3ad0b84a45a6027adb42ed2876",
       "max": 1,
       "step": 0.0025,
       "style": "IPY_MODEL_4eb2c236670e497891187f1f4dad26ed",
       "value": 0.16
      }
     },
     "35e29b1513d4417caed8e793f5192c83": {
      "model_module": "@jupyter-widgets/controls",
      "model_module_version": "1.5.0",
      "model_name": "HBoxModel",
      "state": {
       "children": [
        "IPY_MODEL_3d6f387aef6741fdb237bbceeabc47a7",
        "IPY_MODEL_4ecc733e77954d948b2d9b44e5f6fac1"
       ],
       "layout": "IPY_MODEL_97491e4fd4ca4ea0992cf85fa5dbe757"
      }
     },
     "37780e8535944a429faf34399c797796": {
      "model_module": "@jupyter-widgets/controls",
      "model_module_version": "1.5.0",
      "model_name": "SliderStyleModel",
      "state": {
       "description_width": ""
      }
     },
     "3863c431eb554981bdbb77944e9eaa9d": {
      "model_module": "@jupyter-widgets/base",
      "model_module_version": "1.2.0",
      "model_name": "LayoutModel",
      "state": {
       "width": "100%"
      }
     },
     "3d3312c247054a1eb7408be17508752d": {
      "model_module": "@jupyter-widgets/controls",
      "model_module_version": "1.5.0",
      "model_name": "HBoxModel",
      "state": {
       "children": [
        "IPY_MODEL_c536779067a042bd91dcc5598693bc90",
        "IPY_MODEL_cb29d421a06a48dc82a686a2a363351d"
       ],
       "layout": "IPY_MODEL_b053a00ca2cb4fb6adfd0a5b75e09386"
      }
     },
     "3d6f387aef6741fdb237bbceeabc47a7": {
      "model_module": "@jupyter-widgets/controls",
      "model_module_version": "1.5.0",
      "model_name": "FloatSliderModel",
      "state": {
       "description": "D<sub>32</sub>",
       "layout": "IPY_MODEL_c55aacc7cf5d41e2a9b20aa2499abd13",
       "max": 0.3,
       "min": 0.001,
       "step": 0.001,
       "style": "IPY_MODEL_4e15cdbdbf8940bab39e315eb1460a6f",
       "value": 0.2
      }
     },
     "3d9851c9084b427ca32b7d5d184663e0": {
      "model_module": "@jupyter-widgets/controls",
      "model_module_version": "1.5.0",
      "model_name": "SliderStyleModel",
      "state": {
       "description_width": ""
      }
     },
     "3f3e96ee8b0c4e0882cd204a650f98d1": {
      "model_module": "@jupyter-widgets/base",
      "model_module_version": "1.2.0",
      "model_name": "LayoutModel",
      "state": {
       "width": "100%"
      }
     },
     "46e9ffae3e1a47b3b92aca01d1fa207d": {
      "model_module": "@jupyter-widgets/base",
      "model_module_version": "1.2.0",
      "model_name": "LayoutModel",
      "state": {}
     },
     "478762ac10b546dcb207f6a1bdbf3a34": {
      "model_module": "@jupyter-widgets/controls",
      "model_module_version": "1.5.0",
      "model_name": "FloatSliderModel",
      "state": {
       "description": "k<sub>MSR</sub>",
       "layout": "IPY_MODEL_24362867b5f44cb088d796b7cff9907a",
       "max": 40,
       "step": 0.1,
       "style": "IPY_MODEL_72c31148219c42dbbf86db709e4232ed",
       "value": 10
      }
     },
     "484eeca0bc524009864a1e133cb59be8": {
      "model_module": "@jupyter-widgets/controls",
      "model_module_version": "1.5.0",
      "model_name": "VBoxModel",
      "state": {
       "children": [
        "IPY_MODEL_5b66b6809a4e47ceb17f086545bf3a6e",
        "IPY_MODEL_94ade71b72e749b3a28be204421d962a",
        "IPY_MODEL_16cc8489a74b406cad2a6c7c37ef5f41",
        "IPY_MODEL_95f9306349b648fea0163d4907170a6a",
        "IPY_MODEL_a65d51b1d5fb41c8bd564dcdf7c14e5d",
        "IPY_MODEL_2778edfb627a4e5aab4e23475341df1f",
        "IPY_MODEL_f9f658d516164547b30e30bf96e294ce"
       ],
       "layout": "IPY_MODEL_d50baf1ad7444d0a8449a8d6d9e2da4a"
      }
     },
     "4873a3a69b5f4a62a39256556420761f": {
      "model_module": "@jupyter-widgets/controls",
      "model_module_version": "1.5.0",
      "model_name": "DescriptionStyleModel",
      "state": {
       "description_width": ""
      }
     },
     "48b0d1c299bd4f73976ccebd958b5f79": {
      "model_module": "@jupyter-widgets/base",
      "model_module_version": "1.2.0",
      "model_name": "LayoutModel",
      "state": {}
     },
     "49e62de49dc94167bd471edd8f5ab76a": {
      "model_module": "@jupyter-widgets/controls",
      "model_module_version": "1.5.0",
      "model_name": "HBoxModel",
      "state": {
       "children": [
        "IPY_MODEL_dfee9438100a460587fdb90ca54eb414",
        "IPY_MODEL_04ab1e3847d649a8b4a0c0931f770d03"
       ],
       "layout": "IPY_MODEL_b7d0fc4e5ab84569a50ec77ae4feca9f"
      }
     },
     "4a2a19abb4cc4660bc4f54d8d83640c8": {
      "model_module": "@jupyter-widgets/controls",
      "model_module_version": "1.5.0",
      "model_name": "SliderStyleModel",
      "state": {
       "description_width": ""
      }
     },
     "4a428f97c8324d90b8bafba03635bb87": {
      "model_module": "@jupyter-widgets/controls",
      "model_module_version": "1.5.0",
      "model_name": "DescriptionStyleModel",
      "state": {
       "description_width": ""
      }
     },
     "4c347fb094f143b38dbd021dcaf0879c": {
      "model_module": "@jupyter-widgets/controls",
      "model_module_version": "1.5.0",
      "model_name": "SliderStyleModel",
      "state": {
       "description_width": ""
      }
     },
     "4c3e972f09404188b50fe52029e277d4": {
      "model_module": "@jupyter-widgets/base",
      "model_module_version": "1.2.0",
      "model_name": "LayoutModel",
      "state": {}
     },
     "4e15cdbdbf8940bab39e315eb1460a6f": {
      "model_module": "@jupyter-widgets/controls",
      "model_module_version": "1.5.0",
      "model_name": "SliderStyleModel",
      "state": {
       "description_width": ""
      }
     },
     "4eb2c236670e497891187f1f4dad26ed": {
      "model_module": "@jupyter-widgets/controls",
      "model_module_version": "1.5.0",
      "model_name": "SliderStyleModel",
      "state": {
       "description_width": ""
      }
     },
     "4ecc733e77954d948b2d9b44e5f6fac1": {
      "model_module": "@jupyter-widgets/controls",
      "model_module_version": "1.5.0",
      "model_name": "FloatSliderModel",
      "state": {
       "description": "β",
       "layout": "IPY_MODEL_e3094260b34643a1b00a23b6049e7c80",
       "max": 0.05,
       "step": 0.001,
       "style": "IPY_MODEL_37780e8535944a429faf34399c797796",
       "value": 0.025
      }
     },
     "4f07973575e648b8bd380e6153993866": {
      "model_module": "@jupyter-widgets/base",
      "model_module_version": "1.2.0",
      "model_name": "LayoutModel",
      "state": {
       "width": "100%"
      }
     },
     "4fa4e40b6de34ebc82f3e02c46979701": {
      "model_module": "@jupyter-widgets/base",
      "model_module_version": "1.2.0",
      "model_name": "LayoutModel",
      "state": {
       "width": "100%"
      }
     },
     "50d8fef36595412da07d7db30d5b5cf0": {
      "model_module": "@jupyter-widgets/controls",
      "model_module_version": "1.5.0",
      "model_name": "DescriptionStyleModel",
      "state": {
       "description_width": ""
      }
     },
     "5231027f2a174ef79535d01a2dbee3b5": {
      "model_module": "@jupyter-widgets/base",
      "model_module_version": "1.2.0",
      "model_name": "LayoutModel",
      "state": {}
     },
     "530aac0f361040308e5379cd00bda346": {
      "model_module": "@jupyter-widgets/controls",
      "model_module_version": "1.5.0",
      "model_name": "FloatSliderModel",
      "state": {
       "description": "β",
       "layout": "IPY_MODEL_a9ab327d806c41e7bde2b6bc5b1d5547",
       "max": 0.05,
       "step": 0.001,
       "style": "IPY_MODEL_c638321179724c478f9ad508c8e02d53",
       "value": 0.025
      }
     },
     "54c375cf0d354cb59d61dd125eb21e8b": {
      "model_module": "@jupyter-widgets/base",
      "model_module_version": "1.2.0",
      "model_name": "LayoutModel",
      "state": {}
     },
     "551ecb032844492bb5e3ab7b0d7c7648": {
      "model_module": "@jupyter-widgets/controls",
      "model_module_version": "1.5.0",
      "model_name": "VBoxModel",
      "state": {
       "children": [
        "IPY_MODEL_7e8c3f15f2cc435c908a3a1239330a71",
        "IPY_MODEL_c8c50b18fa9e4deba16b86bb617812ee",
        "IPY_MODEL_040aec8d56534f9083d204ceca5450a3",
        "IPY_MODEL_cda4825f3cca4c28b6913aa032b42cf9",
        "IPY_MODEL_aa68cb453a4745e8b8e1a7c2855ef7ed",
        "IPY_MODEL_2ce9c36e901e4ec3b0f48fe80b18d7ff"
       ],
       "layout": "IPY_MODEL_4c3e972f09404188b50fe52029e277d4"
      }
     },
     "55bb092dc1094df5a8f7d8836b14154c": {
      "model_module": "@jupyter-widgets/controls",
      "model_module_version": "1.5.0",
      "model_name": "FloatRangeSliderModel",
      "state": {
       "_model_name": "FloatRangeSliderModel",
       "_view_name": "FloatRangeSliderView",
       "description": "[SO<sub>4</sub>]<sub>0</sub>",
       "layout": "IPY_MODEL_0abb37d24bea4fb6a1a8308d73e199c5",
       "max": 0.3,
       "min": 0.001,
       "step": 0.001,
       "style": "IPY_MODEL_d88832e2aca34bdf9ca127a9ead649ee",
       "value": [
        0.008,
        0.013
       ]
      }
     },
     "56ce3751846a427a862097771371b260": {
      "model_module": "@jupyter-widgets/controls",
      "model_module_version": "1.5.0",
      "model_name": "FloatSliderModel",
      "state": {
       "description": "v<sub>sed</sub>",
       "layout": "IPY_MODEL_e388a6377a7348d2a84e37ecb936fb78",
       "max": 0.5,
       "min": 0.001,
       "step": 0.001,
       "style": "IPY_MODEL_8083618d2d9d4bdca6f36e103a41ce91",
       "value": 0.12
      }
     },
     "5b07425e2dcb4283b0cd33dd1522d26a": {
      "buffers": [
       {
        "data": "XFpQhZJ17D9b/Jw93n7fP+i1AE/bJ+U/COOO8seB5T9UIVbvVIjlP/MSfp9MYOk/YWEw5OqV4j9vjvTiq5frP34pYmErnOg/JwmWh+si6T86iSG/wLvpP+AZe2LoueQ/oky2XYDC6z8VMB/ILizmP31ENZuxbew/leBQ+fVw4T/XZFmTZU3mP2NCE/0qa+Y/m5fEvhcf3T9GRXYeekHoP3Z5XCXJGe0/Iehdp+E33D/Gee6rKInoP5aLiHIAx+A/rkb+MVY86j8TBt9pCuzgPxBDdWroROM/WAljs6Da6z/5psodzi/iP98IkaMLBuc/DOpCMlxN4z8a/V1dqE7nPxhaRmnw2ec/NsF4K/sc4j+byUeerbLiP9Bf0a/DSOg/UQ9OXHM75j8=",
        "encoding": "base64",
        "path": [
         "_data",
         0,
         "x",
         "value"
        ]
       },
       {
        "data": "XFpQhZJ17D9b/Jw93n7fP+i1AE/bJ+U/COOO8seB5T9UIVbvVIjlP/MSfp9MYOk/YWEw5OqV4j9vjvTiq5frP34pYmErnOg/JwmWh+si6T86iSG/wLvpP+AZe2LoueQ/oky2XYDC6z8VMB/ILizmP31ENZuxbew/leBQ+fVw4T/XZFmTZU3mP2NCE/0qa+Y/m5fEvhcf3T9GRXYeekHoP3Z5XCXJGe0/Iehdp+E33D/Gee6rKInoP5aLiHIAx+A/rkb+MVY86j8TBt9pCuzgPxBDdWroROM/WAljs6Da6z/5psodzi/iP98IkaMLBuc/DOpCMlxN4z8a/V1dqE7nPxhaRmnw2ec/NsF4K/sc4j+byUeerbLiP9Bf0a/DSOg/UQ9OXHM75j8=",
        "encoding": "base64",
        "path": [
         "_data",
         1,
         "x",
         "value"
        ]
       },
       {
        "data": "XFpQhZJ17D9b/Jw93n7fP+i1AE/bJ+U/COOO8seB5T9UIVbvVIjlP/MSfp9MYOk/YWEw5OqV4j9vjvTiq5frP34pYmErnOg/JwmWh+si6T86iSG/wLvpP+AZe2LoueQ/oky2XYDC6z8VMB/ILizmP31ENZuxbew/leBQ+fVw4T/XZFmTZU3mP2NCE/0qa+Y/m5fEvhcf3T9GRXYeekHoP3Z5XCXJGe0/Iehdp+E33D/Gee6rKInoP5aLiHIAx+A/rkb+MVY86j8TBt9pCuzgPxBDdWroROM/WAljs6Da6z/5psodzi/iP98IkaMLBuc/DOpCMlxN4z8a/V1dqE7nPxhaRmnw2ec/NsF4K/sc4j+byUeerbLiP9Bf0a/DSOg/UQ9OXHM75j8=",
        "encoding": "base64",
        "path": [
         "_data",
         2,
         "x",
         "value"
        ]
       },
       {
        "data": "AAAAAACAvz///////3/nP+NZRvQB1dE/AAAAAAAA5z/Cbn4LAaPkPxVQARVQAdU/6VCD3ZmM5j+KU7/nljjVP7IVQcNJ3dc/9onqQSPv3D/6j++FCMTMP1HrVwrU+uU/mJIpmZIp2T9e3MVd3MXdP+iiiy666OI/v9wQA9Kx5D8OePzhgMffP4v2m/JcAtk/GHqhF3qh5z/sPtwCCqPaPzP8l0DotdM/MwTraPM+5T8z/iMwPTjLP1VVVVVVVeU/1YGPuYn2zT9IgzRIgzToP3mFV3iFV9g/MQpR/UjY0T+yH/uxH/vhP0Qn7YNkQN0/eXh4eHh46D+/TTFq+NvkP0dY7mmE5c4/nYM1S4xP6T/A/HWW+hnQP0UXXXTRRdc/Ce0ltJfQ4j8=",
        "encoding": "base64",
        "path": [
         "_data",
         2,
         "y",
         "value"
        ]
       },
       {
        "data": "T0KGcHbH7j86EYT0pwfwPw==",
        "encoding": "base64",
        "path": [
         "_data",
         4,
         "x",
         "value"
        ]
       },
       {
        "data": "T0KGcHbH7j86EYT0pwfwPw==",
        "encoding": "base64",
        "path": [
         "_data",
         5,
         "x",
         "value"
        ]
       },
       {
        "data": "T0KGcHbH7j86EYT0pwfwPw==",
        "encoding": "base64",
        "path": [
         "_data",
         6,
         "x",
         "value"
        ]
       },
       {
        "data": "mPMp6AFctz9Gt/CrMZGOPw==",
        "encoding": "base64",
        "path": [
         "_data",
         6,
         "y",
         "value"
        ]
       },
       {
        "data": "5AmIzlf36D9emZpSNBjuPw==",
        "encoding": "base64",
        "path": [
         "_data",
         8,
         "x",
         "value"
        ]
       },
       {
        "data": "5AmIzlf36D9emZpSNBjuPw==",
        "encoding": "base64",
        "path": [
         "_data",
         9,
         "x",
         "value"
        ]
       },
       {
        "data": "5AmIzlf36D9emZpSNBjuPw==",
        "encoding": "base64",
        "path": [
         "_data",
         10,
         "x",
         "value"
        ]
       },
       {
        "data": "rLid02c/4D8e8DVNqh7gPw==",
        "encoding": "base64",
        "path": [
         "_data",
         10,
         "y",
         "value"
        ]
       },
       {
        "data": "+k0Z2ieF6z9n8Jvo6dzuP83MzMzMzOw/iSoyRzZm7j9XXkDVXgfpPx8Fm/+4E+4/kvh/CifL6j8B6oqXvM3kP0+KscuHWuQ/SHgHzFPJ7z8RvCr8pHPiPw==",
        "encoding": "base64",
        "path": [
         "_data",
         12,
         "x",
         "value"
        ]
       },
       {
        "data": "+k0Z2ieF6z9n8Jvo6dzuP83MzMzMzOw/iSoyRzZm7j9XXkDVXgfpPx8Fm/+4E+4/kvh/CifL6j8B6oqXvM3kP0+KscuHWuQ/SHgHzFPJ7z8RvCr8pHPiPw==",
        "encoding": "base64",
        "path": [
         "_data",
         13,
         "x",
         "value"
        ]
       },
       {
        "data": "+k0Z2ieF6z9n8Jvo6dzuP83MzMzMzOw/iSoyRzZm7j9XXkDVXgfpPx8Fm/+4E+4/kvh/CifL6j8B6oqXvM3kP0+KscuHWuQ/SHgHzFPJ7z8RvCr8pHPiPw==",
        "encoding": "base64",
        "path": [
         "_data",
         14,
         "x",
         "value"
        ]
       },
       {
        "data": "Ju+ND7gs4T8UO7ETO7HTP6jeOcE/89g/M8lF7VnLuT/UM5XrjhfbPyguGYJ1tMk/23eiGVIR2j8dz6mkgITfP/SuxWgy79o//P//////zD+BMYmD963hPw==",
        "encoding": "base64",
        "path": [
         "_data",
         14,
         "y",
         "value"
        ]
       },
       {
        "data": "exSuR+F6hD8Yl0Wb0e2eP/kRWkkZz6k/M6yI4qQTsj9pT2QgvT+3P5/yP17Va7w/68oNzvbLwD+HnPvsAmLDPyJu6QsP+MU/vT/XKhuOyD9YEcVJJyTLP/Tismgzus0/R1rQwx8o0D8VQ0fTJXPRP+MrvuIrvtI/sBQ18jEJ1D9+/asBOFTVP0zmIhE+n9Y/Gc+ZIETq1z/ntxAwSjXZP7Sghz9QgNo/gon+TlbL2z9QcnVeXBbdPx1b7G1iYd4/60NjfWis3z9cFm1Gt3vgP8OKKE46IeE/Kv/jVb3G4T+Rc59dQGziP/jnWmXDEeM/XlwWbUa34z/F0NF0yVzkPyxFjXxMAuU/k7lIhM+n5T/6LQSMUk3mP2Civ5PV8uY/xxZ7m1iY5z8uizaj2z3oP5X/8ape4+g//HOtsuGI6T9i6Gi6ZC7qP8lcJMLn0+o/MNHfyWp56z+XRZvR7R7sP/65VtlwxOw/ZS4S4fNp7T/Los3odg/uPzIXifD5tO4/mYtE+Hxa7z8AAAAAAADwPw==",
        "encoding": "base64",
        "path": [
         "_data",
         16,
         "x",
         "value"
        ]
       },
       {
        "data": "yQo2HoR0FkDv1oVR5rz9P5t7H1WT0fE/SlASCcVw6T9V2imC3MfjP10e1CRQLuA/GpiBwBNh2z+fr7Ze57nXP/OTw+vm7tQ/lyjxzIG60j8Y6UHmqvHQP9PLnHGg8M4/fEPMcLh2zD+XIL3qwlrKP927fy1Oicg/cUhYg+3zxj/yqYaws4/FPyxaqAYzVMQ/3reJftA6wz+RoaAITD7CP8j0ZudrWsE/oql4qr+LwD+f2WXg5p6/P9Cs8yhdRr4/hnltEfUJvT8RIN4uX+a7PxY6DwbM2Lo/0jiUx9TeuT9qHvHxaPa4Py4KOrC/Hbg/P6OdGUxTtz8/PhGus5W2P0M6qJTG47U/bAedPXk8tT8Aq90f3560P8lEMlomCrQ/arxVDJR9sz8UPqlFgfiyPwwxTm5YerI/ZwD1FJMCsj/oNfgPuJCxP1GXtuNZJLE/Oy/EYhW9sD+GQaN+kFqwPzA/xYLy+K8/kASt0wlFrz/sc2xK3piuP2hUk8Py860/TPUQbtRVrT+HLEXAGb6sPw==",
        "encoding": "base64",
        "path": [
         "_data",
         16,
         "y",
         "value"
        ]
       }
      ],
      "model_module": "jupyterlab-plotly",
      "model_module_version": "^5.1.0",
      "model_name": "FigureModel",
      "state": {
       "_config": {
        "plotlyServerURL": "https://plot.ly"
       },
       "_data": [
        {
         "legendgroup": "Mudstone",
         "marker": {
          "color": "Purple",
          "opacity": 0.3,
          "symbol": "circle"
         },
         "mode": "markers",
         "name": "Mudstone (pre-diagenesis)",
         "text": [
          "KC-2-1",
          "KC-2-2",
          "KC-2-2.5",
          "KC-2-3",
          "KC-2-3.5",
          "KC-2-4.5",
          "KC-2-5",
          "KC-2-6",
          "KC-2-6.5",
          "KC-2-7",
          "KC-2-8",
          "KC-2-9",
          "KC-2-10",
          "KC-2-11",
          "KC-2-12",
          "KC-2-13",
          "KC-2-14",
          "KC-2-14.5",
          "KC-2-15",
          "KC-2-15.5",
          "KC-2-16",
          "KC-2-17",
          "KC-2-18",
          "KC-2-19",
          "KC-2-20",
          "KC-2-21",
          "KC-2-21.5",
          "KC-2-22",
          "KC-2-23",
          "KC-2-24",
          "KC-2-25",
          "KC-2-25.5",
          "KC-2-26",
          "KC-2-26.5",
          "KC-2-27",
          "KC-2-28",
          "KC-2-29"
         ],
         "type": "scatter",
         "uid": "b7273987-67ff-4fa7-aca2-fa6090b96964",
         "x": {
          "dtype": "float64",
          "shape": [
           37
          ]
         },
         "y": [
          0.10265624999999999,
          0.41062499999999996,
          0.20061068702290075,
          0.20531249999999998,
          0.21453061224489792,
          0.13476923076923075,
          0.27233160621761654,
          0.1383157894736842,
          0.14847457627118643,
          0.15736526946107784,
          0.06249702734839476,
          0.26545454545454544,
          0.06417582417582417,
          0.19252747252747252,
          0.06636363636363636,
          0.3147305389221557,
          0.1812413793103448,
          0.1617230769230769,
          0.4043076923076923,
          0.14681564245810055,
          0.0975139146567718,
          0.4308196721311475,
          0.09237258347978909,
          0.3504,
          0.10792607802874742,
          0.3369230769230769,
          0.2246153846153846,
          0.110188679245283,
          0.2502857142857143,
          0.16122699386503067,
          0.2576470588235294,
          0.19466666666666663,
          0.13941644562334216,
          0.29694915254237286,
          0.11112050739957714,
          0.11945454545454544,
          0.2433333333333333
         ]
        },
        {
         "legendgroup": "Mudstone",
         "marker": {
          "color": "Green",
          "symbol": "circle"
         },
         "mode": "markers",
         "name": "Mudstone (modelled)",
         "text": [
          "KC-2-1",
          "KC-2-2",
          "KC-2-2.5",
          "KC-2-3",
          "KC-2-3.5",
          "KC-2-4.5",
          "KC-2-5",
          "KC-2-6",
          "KC-2-6.5",
          "KC-2-7",
          "KC-2-8",
          "KC-2-9",
          "KC-2-10",
          "KC-2-11",
          "KC-2-12",
          "KC-2-13",
          "KC-2-14",
          "KC-2-14.5",
          "KC-2-15",
          "KC-2-15.5",
          "KC-2-16",
          "KC-2-17",
          "KC-2-18",
          "KC-2-19",
          "KC-2-20",
          "KC-2-21",
          "KC-2-21.5",
          "KC-2-22",
          "KC-2-23",
          "KC-2-24",
          "KC-2-25",
          "KC-2-25.5",
          "KC-2-26",
          "KC-2-26.5",
          "KC-2-27",
          "KC-2-28",
          "KC-2-29"
         ],
         "type": "scatter",
         "uid": "e3aa8180-630d-4f70-94a8-f25344de0f3a",
         "x": {
          "dtype": "float64",
          "shape": [
           37
          ]
         },
         "y": [
          0.14407253526657243,
          0.5762901410662897,
          0.2815463284598667,
          0.28814507053314486,
          0.3010821961489187,
          0.18914137963201302,
          0.38220278785743567,
          0.19411878435917126,
          0.2083760962047601,
          0.22085370675594337,
          0.08771122242150425,
          0.3725512023054802,
          0.0900673236342919,
          0.27020197090287573,
          0.09313780057637006,
          0.44170741351188675,
          0.25436254502236233,
          0.22696965555841564,
          0.5674241388960392,
          0.20604787166615943,
          0.13685554370405395,
          0.6046322791515171,
          0.1296399614349474,
          0.49176758704323387,
          0.15146845596814185,
          0.4728534490800326,
          0.31523563272002175,
          0.1546438952966144,
          0.35126256217373847,
          0.2262734296211199,
          0.36159381400237783,
          0.2732042150240188,
          0.19566349617104795,
          0.4167521924095202,
          0.1559516660813638,
          0.16764804103746608,
          0.3415052687800235
         ]
        },
        {
         "legendgroup": "Mudstone",
         "marker": {
          "color": "Blue",
          "opacity": 0.3,
          "symbol": "circle"
         },
         "mode": "markers",
         "name": "Mudstone (post-diagenesis)",
         "text": [
          "KC-2-1",
          "KC-2-2",
          "KC-2-2.5",
          "KC-2-3",
          "KC-2-3.5",
          "KC-2-4.5",
          "KC-2-5",
          "KC-2-6",
          "KC-2-6.5",
          "KC-2-7",
          "KC-2-8",
          "KC-2-9",
          "KC-2-10",
          "KC-2-11",
          "KC-2-12",
          "KC-2-13",
          "KC-2-14",
          "KC-2-14.5",
          "KC-2-15",
          "KC-2-15.5",
          "KC-2-16",
          "KC-2-17",
          "KC-2-18",
          "KC-2-19",
          "KC-2-20",
          "KC-2-21",
          "KC-2-21.5",
          "KC-2-22",
          "KC-2-23",
          "KC-2-24",
          "KC-2-25",
          "KC-2-25.5",
          "KC-2-26",
          "KC-2-26.5",
          "KC-2-27",
          "KC-2-28",
          "KC-2-29"
         ],
         "type": "scatter",
         "uid": "f339d9fb-adea-4220-be7e-a370f5fdd652",
         "x": {
          "dtype": "float64",
          "shape": [
           37
          ]
         },
         "y": {
          "dtype": "float64",
          "shape": [
           37
          ]
         }
        },
        {
         "legendgroup": "Mudstone",
         "marker": {
          "color": "FireBrick",
          "symbol": "circle"
         },
         "mode": "markers",
         "name": "Mudstone (residuals)",
         "text": [
          "KC-2-1",
          "KC-2-2",
          "KC-2-2.5",
          "KC-2-3",
          "KC-2-3.5",
          "KC-2-4.5",
          "KC-2-5",
          "KC-2-6",
          "KC-2-6.5",
          "KC-2-7",
          "KC-2-8",
          "KC-2-9",
          "KC-2-10",
          "KC-2-11",
          "KC-2-12",
          "KC-2-13",
          "KC-2-14",
          "KC-2-14.5",
          "KC-2-15",
          "KC-2-15.5",
          "KC-2-16",
          "KC-2-17",
          "KC-2-18",
          "KC-2-19",
          "KC-2-20",
          "KC-2-21",
          "KC-2-21.5",
          "KC-2-22",
          "KC-2-23",
          "KC-2-24",
          "KC-2-25",
          "KC-2-25.5",
          "KC-2-26",
          "KC-2-26.5",
          "KC-2-27",
          "KC-2-28",
          "KC-2-29"
         ],
         "type": "scatter",
         "uid": "12e980f8-cf34-401a-878b-5b4f024b4f57",
         "visible": false
        },
        {
         "legendgroup": "Carbonate",
         "marker": {
          "color": "Purple",
          "opacity": 0.3,
          "symbol": "star"
         },
         "mode": "markers",
         "name": "Carbonate (pre-diagenesis)",
         "text": [
          "KC-2-0",
          "KC-2-30"
         ],
         "type": "scatter",
         "uid": "1732c235-3684-41cb-b136-4621663dc36b",
         "x": {
          "dtype": "float64",
          "shape": [
           2
          ]
         },
         "y": [
          0.09787709497206704,
          0.1961194029850746
         ]
        },
        {
         "legendgroup": "Carbonate",
         "marker": {
          "color": "Green",
          "symbol": "star"
         },
         "mode": "markers",
         "name": "Carbonate (modelled)",
         "text": [
          "KC-2-0",
          "KC-2-30"
         ],
         "type": "scatter",
         "uid": "fc284f21-2b7d-4273-9cf2-4923eb431ac9",
         "x": {
          "dtype": "float64",
          "shape": [
           2
          ]
         },
         "y": [
          0.13736524777743964,
          0.2752430524495712
         ]
        },
        {
         "legendgroup": "Carbonate",
         "marker": {
          "color": "Blue",
          "opacity": 0.3,
          "symbol": "star"
         },
         "mode": "markers",
         "name": "Carbonate (post-diagenesis)",
         "text": [
          "KC-2-0",
          "KC-2-30"
         ],
         "type": "scatter",
         "uid": "49651422-5447-4c94-87fd-83e503bbfacf",
         "x": {
          "dtype": "float64",
          "shape": [
           2
          ]
         },
         "y": {
          "dtype": "float64",
          "shape": [
           2
          ]
         }
        },
        {
         "legendgroup": "Carbonate",
         "marker": {
          "color": "FireBrick",
          "symbol": "star"
         },
         "mode": "markers",
         "name": "Carbonate (residuals)",
         "text": [
          "KC-2-0",
          "KC-2-30"
         ],
         "type": "scatter",
         "uid": "34ce90c7-9546-4002-bf8f-fd2ca8789cb7",
         "visible": false
        },
        {
         "legendgroup": "Pervasively pyritised regions",
         "marker": {
          "color": "Purple",
          "opacity": 0.3,
          "symbol": "square"
         },
         "mode": "markers",
         "name": "Pervasively pyritised regions (pre-diagenesis)",
         "text": [
          "KC-2-6p",
          "KC-2-22p"
         ],
         "type": "scatter",
         "uid": "11b72ec1-bed2-4baf-913f-c49d1d508aae",
         "x": {
          "dtype": "float64",
          "shape": [
           2
          ]
         },
         "y": [
          0.16272445820433437,
          0.05621390374331551
         ]
        },
        {
         "legendgroup": "Pervasively pyritised regions",
         "marker": {
          "color": "Green",
          "symbol": "square"
         },
         "mode": "markers",
         "name": "Pervasively pyritised regions (modelled)",
         "text": [
          "KC-2-6p",
          "KC-2-22p"
         ],
         "type": "scatter",
         "uid": "ae5209c6-b5ae-4ea7-99bf-d714083eb4b1",
         "x": {
          "dtype": "float64",
          "shape": [
           2
          ]
         },
         "y": [
          0.22837504042255447,
          0.07889319578233699
         ]
        },
        {
         "legendgroup": "Pervasively pyritised regions",
         "marker": {
          "color": "Blue",
          "opacity": 0.3,
          "symbol": "square"
         },
         "mode": "markers",
         "name": "Pervasively pyritised regions (post-diagenesis)",
         "text": [
          "KC-2-6p",
          "KC-2-22p"
         ],
         "type": "scatter",
         "uid": "47a7217e-5e17-4702-8057-a72c372f1b2a",
         "x": {
          "dtype": "float64",
          "shape": [
           2
          ]
         },
         "y": {
          "dtype": "float64",
          "shape": [
           2
          ]
         }
        },
        {
         "legendgroup": "Pervasively pyritised regions",
         "marker": {
          "color": "FireBrick",
          "symbol": "square"
         },
         "mode": "markers",
         "name": "Pervasively pyritised regions (residuals)",
         "text": [
          "KC-2-6p",
          "KC-2-22p"
         ],
         "type": "scatter",
         "uid": "516992ee-9bba-4e7b-b861-70f7dc0b844d",
         "visible": false
        },
        {
         "legendgroup": "Bed 22",
         "marker": {
          "color": "Purple",
          "opacity": 0.3,
          "symbol": "diamond"
         },
         "mode": "markers",
         "name": "Bed 22 (pre-diagenesis)",
         "text": [
          "KC-3-A",
          "KC-3-B",
          "KC-3-C",
          "KC-3-D",
          "KC-3-E",
          "KC-3-F",
          "KC-3-G",
          "KC-3-H",
          "KC-3-I",
          "KC-3-J",
          "KC-3-K"
         ],
         "type": "scatter",
         "uid": "e559ebf0-9c9d-4063-b46c-086ab79d2f7a",
         "x": {
          "dtype": "float64",
          "shape": [
           11
          ]
         },
         "y": [
          0.13306329113924048,
          0.10639676113360322,
          0.0503448275862069,
          0.03627329192546583,
          0.16122699386503067,
          0.1077049180327869,
          0.07112313937753721,
          0.26412060301507534,
          0.20293436293436293,
          0.08212499999999999,
          0.2903867403314917
         ]
        },
        {
         "legendgroup": "Bed 22",
         "marker": {
          "color": "Green",
          "symbol": "diamond"
         },
         "mode": "markers",
         "name": "Bed 22 (modelled)",
         "text": [
          "KC-3-A",
          "KC-3-B",
          "KC-3-C",
          "KC-3-D",
          "KC-3-E",
          "KC-3-F",
          "KC-3-G",
          "KC-3-H",
          "KC-3-I",
          "KC-3-J",
          "KC-3-K"
         ],
         "type": "scatter",
         "uid": "12569816-7e02-46af-9644-5cdca6e9d29c",
         "x": {
          "dtype": "float64",
          "shape": [
           11
          ]
         },
         "y": [
          0.18674718495312678,
          0.14932214181474712,
          0.07065626250621176,
          0.0509076177063389,
          0.2262734296211199,
          0.1511580697878793,
          0.09981750751892433,
          0.3706790857109803,
          0.28480748284357177,
          0.11525802821325794,
          0.4075421992070999
         ]
        },
        {
         "legendgroup": "Bed 22",
         "marker": {
          "color": "Blue",
          "opacity": 0.3,
          "symbol": "diamond"
         },
         "mode": "markers",
         "name": "Bed 22 (post-diagenesis)",
         "text": [
          "KC-3-A",
          "KC-3-B",
          "KC-3-C",
          "KC-3-D",
          "KC-3-E",
          "KC-3-F",
          "KC-3-G",
          "KC-3-H",
          "KC-3-I",
          "KC-3-J",
          "KC-3-K"
         ],
         "type": "scatter",
         "uid": "a31aa784-1a27-4469-aa15-9f2013ad8bd8",
         "x": {
          "dtype": "float64",
          "shape": [
           11
          ]
         },
         "y": {
          "dtype": "float64",
          "shape": [
           11
          ]
         }
        },
        {
         "legendgroup": "Bed 22",
         "marker": {
          "color": "FireBrick",
          "symbol": "diamond"
         },
         "mode": "markers",
         "name": "Bed 22 (residuals)",
         "text": [
          "KC-3-A",
          "KC-3-B",
          "KC-3-C",
          "KC-3-D",
          "KC-3-E",
          "KC-3-F",
          "KC-3-G",
          "KC-3-H",
          "KC-3-I",
          "KC-3-J",
          "KC-3-K"
         ],
         "type": "scatter",
         "uid": "4261014f-d037-467c-acff-2a0389b463d1",
         "visible": false
        },
        {
         "line": {
          "color": "LightGreen"
         },
         "name": "model (const. total Fe)",
         "type": "scatter",
         "uid": "721947e0-c0ef-4e2d-ab32-30620ed53e43",
         "x": {
          "dtype": "float64",
          "shape": [
           50
          ]
         },
         "y": {
          "dtype": "float64",
          "shape": [
           50
          ]
         }
        }
       ],
       "_js2py_pointsCallback": {},
       "_js2py_relayout": {},
       "_js2py_restyle": {},
       "_js2py_update": {},
       "_last_layout_edit_id": 26,
       "_last_trace_edit_id": 22,
       "_layout": {
        "height": 600,
        "legend": {
         "font": {
          "size": 11
         }
        },
        "shapes": [
         {
          "line": {
           "dash": "dash",
           "width": 1
          },
          "type": "line",
          "x0": 0,
          "x1": 1,
          "xref": "x domain",
          "y0": 0.8,
          "y1": 0.8,
          "yref": "y"
         },
         {
          "line": {
           "dash": "dash",
           "width": 1
          },
          "type": "line",
          "x0": 0.38,
          "x1": 0.38,
          "xref": "x",
          "y0": 0,
          "y1": 1,
          "yref": "y domain"
         }
        ],
        "template": {
         "layout": {
          "bargap": 0.05,
          "bargroupgap": 0,
          "font": {
           "color": "black",
           "family": "Segoe UI",
           "size": 17
          },
          "height": 700,
          "hovermode": "closest",
          "margin": {
           "b": 60,
           "l": 60,
           "r": 30,
           "t": 30
          },
          "scene": {
           "xaxis": {
            "color": "black",
            "linewidth": 2,
            "showline": true,
            "ticks": "outside"
           },
           "yaxis": {
            "color": "black",
            "linewidth": 2,
            "showline": true,
            "ticks": "outside"
           },
           "zaxis": {
            "color": "black",
            "linewidth": 2,
            "showline": true,
            "ticks": "outside"
           }
          },
          "xaxis": {
           "color": "black",
           "linewidth": 1.3,
           "mirror": true,
           "showgrid": true,
           "showline": true,
           "ticks": "outside",
           "zeroline": true
          },
          "yaxis": {
           "color": "black",
           "linewidth": 1.3,
           "mirror": true,
           "showgrid": true,
           "showline": true,
           "ticks": "outside",
           "zeroline": true
          }
         }
        },
        "width": 900,
        "xaxis": {
         "range": [
          0,
          1
         ],
         "title": {
          "text": "[Fe<sub>HR</sub>]/[Fe<sub>tot</sub>]"
         }
        },
        "yaxis": {
         "range": [
          0,
          1
         ],
         "title": {
          "text": "[Fe<sub>py</sub>]/[Fe<sub>HR</sub>]"
         }
        }
       },
       "_py2js_animate": {},
       "_py2js_deleteTraces": {},
       "_py2js_moveTraces": {},
       "_py2js_removeLayoutProps": {},
       "_py2js_removeTraceProps": {},
       "_py2js_restyle": {},
       "_view_count": 1
      }
     },
     "5b66b6809a4e47ceb17f086545bf3a6e": {
      "model_module": "@jupyter-widgets/controls",
      "model_module_version": "1.5.0",
      "model_name": "HBoxModel",
      "state": {
       "children": [
        "IPY_MODEL_55bb092dc1094df5a8f7d8836b14154c",
        "IPY_MODEL_2cc73b6635144e03a076b4c2451e0000"
       ],
       "layout": "IPY_MODEL_b5a8bdf6bce5442386bcad570bcda542"
      }
     },
     "5bfbcaf18fe8424e94ce368c9cb9e481": {
      "model_module": "@jupyter-widgets/output",
      "model_module_version": "1.0.0",
      "model_name": "OutputModel",
      "state": {
       "layout": "IPY_MODEL_2330255a14d244aa920cc15eef768f2a"
      }
     },
     "5d9b275cd96540bc8a56b10101782ab2": {
      "model_module": "@jupyter-widgets/base",
      "model_module_version": "1.2.0",
      "model_name": "LayoutModel",
      "state": {}
     },
     "5dc721bc7a40451ea70f7f4e4971cc41": {
      "model_module": "@jupyter-widgets/controls",
      "model_module_version": "1.5.0",
      "model_name": "HBoxModel",
      "state": {
       "children": [
        "IPY_MODEL_ddc494b83dd341e888614eed58c8f0ad",
        "IPY_MODEL_56ce3751846a427a862097771371b260"
       ],
       "layout": "IPY_MODEL_ec02ba5cd50f4a3fa8580c3275470e36"
      }
     },
     "5ed8c29f9aa647fdacfe1e7f48dba63c": {
      "model_module": "@jupyter-widgets/base",
      "model_module_version": "1.2.0",
      "model_name": "LayoutModel",
      "state": {}
     },
     "5efec3661afa4c0796a1dcedfec9305b": {
      "model_module": "@jupyter-widgets/base",
      "model_module_version": "1.2.0",
      "model_name": "LayoutModel",
      "state": {}
     },
     "5fdd4f6f07144ef1a6e5c75204bbc474": {
      "model_module": "@jupyter-widgets/base",
      "model_module_version": "1.2.0",
      "model_name": "LayoutModel",
      "state": {
       "width": "100%"
      }
     },
     "607ae30554c342d9aaebcb06079bef78": {
      "model_module": "@jupyter-widgets/controls",
      "model_module_version": "1.5.0",
      "model_name": "VBoxModel",
      "state": {
       "children": [
        "IPY_MODEL_27a8cfd272774d81a4bc4405d888db07",
        "IPY_MODEL_7bd288c5ea7e432a82506caba496cd1a",
        "IPY_MODEL_fc7e366ad8e1455e9f78096112ce1870",
        "IPY_MODEL_35e29b1513d4417caed8e793f5192c83",
        "IPY_MODEL_32dae8322eaf4afebb931164ca8601a0",
        "IPY_MODEL_3d3312c247054a1eb7408be17508752d"
       ],
       "layout": "IPY_MODEL_967dac2fb91b424b83e06cff5d970ce6"
      }
     },
     "6160e6bf95aa410ab0533fc8982ca8e5": {
      "model_module": "@jupyter-widgets/base",
      "model_module_version": "1.2.0",
      "model_name": "LayoutModel",
      "state": {
       "width": "100%"
      }
     },
     "633cfd3f3a30481d9ee5a8129934c696": {
      "model_module": "@jupyter-widgets/base",
      "model_module_version": "1.2.0",
      "model_name": "LayoutModel",
      "state": {
       "width": "100%"
      }
     },
     "66303ead85ea48629078dcae8fc929f0": {
      "model_module": "@jupyter-widgets/output",
      "model_module_version": "1.0.0",
      "model_name": "OutputModel",
      "state": {
       "layout": "IPY_MODEL_8c2b3feb602e4b48a59f7159a1d3bf80"
      }
     },
     "664a571392a44d908391ecc2d8d757aa": {
      "model_module": "@jupyter-widgets/base",
      "model_module_version": "1.2.0",
      "model_name": "LayoutModel",
      "state": {
       "width": "100%"
      }
     },
     "682bd036e191491ebc202bce6a045bee": {
      "model_module": "@jupyter-widgets/controls",
      "model_module_version": "1.5.0",
      "model_name": "SliderStyleModel",
      "state": {
       "description_width": ""
      }
     },
     "684679f330e14621afcf08a1609fd9b9": {
      "model_module": "@jupyter-widgets/base",
      "model_module_version": "1.2.0",
      "model_name": "LayoutModel",
      "state": {
       "width": "100%"
      }
     },
     "68979e7543b94462b35d69ab6dd5aa00": {
      "model_module": "@jupyter-widgets/base",
      "model_module_version": "1.2.0",
      "model_name": "LayoutModel",
      "state": {
       "width": "100%"
      }
     },
     "6a349ae4e77141769f67c07b3c90f7c1": {
      "model_module": "@jupyter-widgets/controls",
      "model_module_version": "1.5.0",
      "model_name": "SliderStyleModel",
      "state": {
       "description_width": ""
      }
     },
     "6b39f18c59024bd486239bd23f950f3d": {
      "model_module": "@jupyter-widgets/controls",
      "model_module_version": "1.5.0",
      "model_name": "SliderStyleModel",
      "state": {
       "description_width": ""
      }
     },
     "6e6339267bcc4eb9b6b50886d94f4685": {
      "model_module": "@jupyter-widgets/base",
      "model_module_version": "1.2.0",
      "model_name": "LayoutModel",
      "state": {
       "width": "100%"
      }
     },
     "72163fa9d3b942eb978a11c7c5b01b64": {
      "model_module": "@jupyter-widgets/base",
      "model_module_version": "1.2.0",
      "model_name": "LayoutModel",
      "state": {}
     },
     "72c31148219c42dbbf86db709e4232ed": {
      "model_module": "@jupyter-widgets/controls",
      "model_module_version": "1.5.0",
      "model_name": "SliderStyleModel",
      "state": {
       "description_width": ""
      }
     },
     "73a6d087e1934fd2ba42dc693bdd9e04": {
      "model_module": "@jupyter-widgets/controls",
      "model_module_version": "1.5.0",
      "model_name": "FloatSliderModel",
      "state": {
       "description": "[SO<sub>4</sub>]<sub>0</sub>",
       "layout": "IPY_MODEL_0c25d2f0074e4a038a8541e51acc1b1c",
       "max": 0.3,
       "min": 0.001,
       "step": 0.001,
       "style": "IPY_MODEL_4c347fb094f143b38dbd021dcaf0879c",
       "value": 0.0105
      }
     },
     "75b655d348d04f7bb1384b260e7a067b": {
      "model_module": "@jupyter-widgets/controls",
      "model_module_version": "1.5.0",
      "model_name": "FloatSliderModel",
      "state": {
       "description": "δ<sup>34</sup>S<sub>SO4, 0</sub>",
       "layout": "IPY_MODEL_bed5c7b5e2c74dc7a119b514ec1b8fdb",
       "max": 30,
       "step": 0.1,
       "style": "IPY_MODEL_4a2a19abb4cc4660bc4f54d8d83640c8",
       "value": 23
      }
     },
     "768bd7da0998427fbc709bdcc9118ae8": {
      "model_module": "@jupyter-widgets/base",
      "model_module_version": "1.2.0",
      "model_name": "LayoutModel",
      "state": {}
     },
     "7948097a39504e22b1e447448bd7cf0d": {
      "model_module": "@jupyter-widgets/controls",
      "model_module_version": "1.5.0",
      "model_name": "DescriptionStyleModel",
      "state": {
       "description_width": ""
      }
     },
     "7aadc4f62120481c8f356704cfdb623b": {
      "model_module": "@jupyter-widgets/base",
      "model_module_version": "1.2.0",
      "model_name": "LayoutModel",
      "state": {
       "width": "100%"
      }
     },
     "7b9802ee3c6e4454a39f762aa687cf58": {
      "model_module": "@jupyter-widgets/controls",
      "model_module_version": "1.5.0",
      "model_name": "FloatSliderModel",
      "state": {
       "description": "[SO<sub>4</sub>]<sub>0</sub>",
       "layout": "IPY_MODEL_07410758decc4df385e5acfb17207630",
       "max": 0.3,
       "min": 0.001,
       "step": 0.001,
       "style": "IPY_MODEL_6b39f18c59024bd486239bd23f950f3d",
       "value": 0.0105
      }
     },
     "7baeda4f294743869c8290b1db56dc05": {
      "model_module": "@jupyter-widgets/base",
      "model_module_version": "1.2.0",
      "model_name": "LayoutModel",
      "state": {}
     },
     "7bd288c5ea7e432a82506caba496cd1a": {
      "model_module": "@jupyter-widgets/controls",
      "model_module_version": "1.5.0",
      "model_name": "HBoxModel",
      "state": {
       "children": [
        "IPY_MODEL_0b12f16ed02245b7827c469f35a73cbf",
        "IPY_MODEL_899d083c0aec452c8d2c4f23e7aaa5a7"
       ],
       "layout": "IPY_MODEL_5231027f2a174ef79535d01a2dbee3b5"
      }
     },
     "7d02ab2ffd314c91af2779a4537ce2f7": {
      "buffers": [
       {
        "data": "xYgRI0aMyD8EJRGURFDSPx3HcRzHccw/yR4he4Ts4T+E7BGyR8jePwGPATwG8Ng/8afBnwZ/2j/FiBEjRozYP3mb4W2Gt9k/s9bJWidr3T+TJk2aNGniP/GnwZ8Gf9o/3/V51+dd7z/ii4kvJr7YP7ds2bJly/Y/qFChQoUK1T/hwIEDBw7cP+KLiS8mvtg/QCsBrQS00j920NlBZwfdP7oC6QqkK+A//vjx48ePzz8vebnk5ZLXP7g34d6Ee9M/XGNxjcU11j/Ub1G/Rf3WP28VuVXkVtE/lp5Zembp2T/Ub1G/Rf3WP3bQ2UFnB90/SeYhmYdk3j9REkFJBCXhP6sbqW6kutE/aLSh0YZG2z/zcsnLJS/XP8LyAcsHLN8/4ouJLya+2D8=",
        "encoding": "base64",
        "path": [
         "_data",
         0,
         "x",
         "value"
        ]
       },
       {
        "data": "Rwd4wKP9NcDD/ACOXgkwwMEuJT+MjyrA/jMJIdu/L8BTmBt0ZCcywDKRuNYj7DLAQFPtOgpRNMB4L4ehp1EuwKu1c0F4mzTAUHW0UVYANsAFJ7EOl7gmwFFBx24I4jPAj9E3cp7+I8CEuSjx9+UywAQFkeNMMhbA2TVfjqU7MMDVZnrukJwywH6jqudgGyzAp/ZymVzMNMAKO9kXTeI0wDalBdnBcjXAwoQpRBDLNMBBT3jre2A4wI4TYoJFczPALO/3XeG7NMDgYpUCNDczwN/G4xE5UTTAzsaJukrVLsDwGDRs5AY2wNgFvnI7yTbAG4Yfg/CcNcB+hirdR4o1wNmKIT+GOjPAcr7WsPMGOcA0gtMIOBQ2wOYGKnLaIzXAGh4S+eZWL8A=",
        "encoding": "base64",
        "path": [
         "_data",
         0,
         "y",
         "value"
        ]
       },
       {
        "data": "fDHxxcQXwz8BjwE8BvCIPw==",
        "encoding": "base64",
        "path": [
         "_data",
         1,
         "x",
         "value"
        ]
       },
       {
        "data": "cLVTVzbTM8AAAAAAAAD4fw==",
        "encoding": "base64",
        "path": [
         "_data",
         1,
         "y",
         "value"
        ]
       },
       {
        "data": "OP/h/Ifz3z8MbzO8zfD2Pw==",
        "encoding": "base64",
        "path": [
         "_data",
         2,
         "x",
         "value"
        ]
       },
       {
        "data": "ovup9wEPLcCk/yfjkHwdwA==",
        "encoding": "base64",
        "path": [
         "_data",
         2,
         "y",
         "value"
        ]
       },
       {
        "data": "bEqxKcWm5D/R2UFnB53dPy09s/TM0vM/HcdxHMdx3D8srrG4xuLaP3wx8cXEF9M/I9WNVDdS7T98MfHFxBfTP8dTGU9lPNU//sP5D+c/3D+4N+HehHvTPw==",
        "encoding": "base64",
        "path": [
         "_data",
         3,
         "x",
         "value"
        ]
       },
       {
        "data": "LnRyTCwKLcCYbbVBaekpwIDQerKveiDAKCD9rhZYI8BeyxW7L38wwNQynejnmCrAhEeFPsdBIsDGEL3bpnUxwJyLhhnAnzTAegDWAACoI8ASyWyzaP8wwA==",
        "encoding": "base64",
        "path": [
         "_data",
         3,
         "y",
         "value"
        ]
       },
       {
        "data": "exSuR+F6dD97FK5H4XqEP7gehetRuI4/exSuR+F6lD+amZmZmZmZP7kehetRuJ4/61G4HoXroT97FK5H4XqkPwrXo3A9Cqc/mZmZmZmZqT8pXI/C9SisP7gehetRuK4/pHA9CtejsD/sUbgeheuxPzQzMzMzM7M/exSuR+F6tD/D9Shcj8K1PwvXo3A9Crc/UrgehetRuD+amZmZmZm5P+J6FK5H4bo/KVyPwvUovD9xPQrXo3C9P7kehetRuL4/AAAAAAAAwD+kcD0K16PAP0jhehSuR8E/7FG4HoXrwT+QwvUoXI/CPzMzMzMzM8M/16NwPQrXwz97FK5H4XrEPx+F61G4HsU/w/UoXI/CxT9nZmZmZmbGPwvXo3A9Csc/rkfhehSuxz9SuB6F61HIP/YoXI/C9cg/",
        "encoding": "base64",
        "path": [
         "_data",
         4,
         "marker",
         "color",
         "value"
        ]
       }
      ],
      "model_module": "jupyterlab-plotly",
      "model_module_version": "^5.1.0",
      "model_name": "FigureModel",
      "state": {
       "_config": {
        "plotlyServerURL": "https://plot.ly"
       },
       "_data": [
        {
         "marker": {
          "color": "Blue",
          "opacity": 0.3,
          "symbol": "circle"
         },
         "mode": "markers",
         "name": "Mudstone",
         "text": [
          "KC-2-1",
          "KC-2-2",
          "KC-2-2.5",
          "KC-2-3",
          "KC-2-3.5",
          "KC-2-4.5",
          "KC-2-5",
          "KC-2-6",
          "KC-2-6.5",
          "KC-2-7",
          "KC-2-8",
          "KC-2-9",
          "KC-2-10",
          "KC-2-11",
          "KC-2-12",
          "KC-2-13",
          "KC-2-14",
          "KC-2-14.5",
          "KC-2-15",
          "KC-2-15.5",
          "KC-2-16",
          "KC-2-17",
          "KC-2-18",
          "KC-2-19",
          "KC-2-20",
          "KC-2-21",
          "KC-2-21.5",
          "KC-2-22",
          "KC-2-23",
          "KC-2-24",
          "KC-2-25",
          "KC-2-25.5",
          "KC-2-26",
          "KC-2-26.5",
          "KC-2-27",
          "KC-2-28",
          "KC-2-29"
         ],
         "type": "scatter",
         "uid": "1d90543f-eee3-4fe6-9ed1-7d89487666b0",
         "x": {
          "dtype": "float64",
          "shape": [
           37
          ]
         },
         "y": {
          "dtype": "float64",
          "shape": [
           37
          ]
         }
        },
        {
         "marker": {
          "color": "Blue",
          "opacity": 0.3,
          "symbol": "star"
         },
         "mode": "markers",
         "name": "Carbonate",
         "text": [
          "KC-2-0",
          "KC-2-30"
         ],
         "type": "scatter",
         "uid": "40eb023e-0615-4b9d-803a-c3f858c7981e",
         "x": {
          "dtype": "float64",
          "shape": [
           2
          ]
         },
         "y": {
          "dtype": "float64",
          "shape": [
           2
          ]
         }
        },
        {
         "marker": {
          "color": "Blue",
          "opacity": 0.3,
          "symbol": "square"
         },
         "mode": "markers",
         "name": "Pervasively pyritised regions",
         "text": [
          "KC-2-6p",
          "KC-2-22p"
         ],
         "type": "scatter",
         "uid": "730d0fa6-a2bb-4608-bdbd-97639b75abee",
         "x": {
          "dtype": "float64",
          "shape": [
           2
          ]
         },
         "y": {
          "dtype": "float64",
          "shape": [
           2
          ]
         }
        },
        {
         "marker": {
          "color": "Blue",
          "opacity": 0.3,
          "symbol": "diamond"
         },
         "mode": "markers",
         "name": "Bed 22",
         "text": [
          "KC-3-A",
          "KC-3-B",
          "KC-3-C",
          "KC-3-D",
          "KC-3-E",
          "KC-3-F",
          "KC-3-G",
          "KC-3-H",
          "KC-3-I",
          "KC-3-J",
          "KC-3-K"
         ],
         "type": "scatter",
         "uid": "e63f9b1d-6f00-4e3c-a993-24b9d32ad378",
         "x": {
          "dtype": "float64",
          "shape": [
           11
          ]
         },
         "y": {
          "dtype": "float64",
          "shape": [
           11
          ]
         }
        },
        {
         "line": {
          "color": "DarkGreen"
         },
         "marker": {
          "color": {
           "dtype": "float64",
           "shape": [
            39
           ]
          },
          "coloraxis": "coloraxis",
          "line": {
           "color": "DarkGreen",
           "width": 1
          }
         },
         "mode": "lines+markers",
         "name": "Model",
         "text": [
          "v: 0.00500",
          "v: 0.01000",
          "v: 0.01500",
          "v: 0.02000",
          "v: 0.02500",
          "v: 0.03000",
          "v: 0.03500",
          "v: 0.04000",
          "v: 0.04500",
          "v: 0.05000",
          "v: 0.05500",
          "v: 0.06000",
          "v: 0.06500",
          "v: 0.07000",
          "v: 0.07500",
          "v: 0.08000",
          "v: 0.08500",
          "v: 0.09000",
          "v: 0.09500",
          "v: 0.10000",
          "v: 0.10500",
          "v: 0.11000",
          "v: 0.11500",
          "v: 0.12000",
          "v: 0.12500",
          "v: 0.13000",
          "v: 0.13500",
          "v: 0.14000",
          "v: 0.14500",
          "v: 0.15000",
          "v: 0.15500",
          "v: 0.16000",
          "v: 0.16500",
          "v: 0.17000",
          "v: 0.17500",
          "v: 0.18000",
          "v: 0.18500",
          "v: 0.19000",
          "v: 0.19500"
         ],
         "type": "scatter",
         "uid": "889451b9-4ea2-4c2a-884f-68b2b55b0e02",
         "x": [
          1.6475349496151064,
          0.9050833088805128,
          0.6576009721380095,
          0.5338609613137576,
          0.45961788077946286,
          0.410123265319512,
          0.37477062983534304,
          0.34825673177012795,
          0.327635325254538,
          0.3111386627619486,
          0.2976418140445749,
          0.28639482559919993,
          0.2768784988433808,
          0.2687219776426893,
          0.26165330082947175,
          0.2554684975253419,
          0.25001158999546913,
          0.24516126222262366,
          0.24082173840094911,
          0.23691639788264113,
          0.23338321442781834,
          0.23017143929185913,
          0.2272391495967542,
          0.22455140960878256,
          0.2220788733102713,
          0.21979670945302698,
          0.217683765490723,
          0.2157219106679622,
          0.2138955150208344,
          0.21219103257984254,
          0.21059666524055845,
          0.20910208966006677,
          0.20769823380834332,
          0.20637709295179765,
          0.20513157718188282,
          0.20395538435663876,
          0.202842893645153,
          0.20178907588194228,
          0.2007894177119861
         ],
         "y": [
          -7.176703092740988,
          -9.240500444293032,
          -10.963615145375805,
          -12.42395177550426,
          -13.67728039040439,
          -14.76471121578371,
          -15.717099204285656,
          -16.55811243173233,
          -17.306176798352226,
          -17.975882551363508,
          -18.57891810471335,
          -19.12473496211975,
          -19.621101566122846,
          -20.074441604590376,
          -20.490105215693056,
          -20.872574237043583,
          -21.225677070841332,
          -21.55266827422264,
          -21.85630675859407,
          -22.139021775158916,
          -22.402888803899845,
          -22.649727877219526,
          -22.881127096178734,
          -23.09848040680995,
          -23.303030036116002,
          -23.495872846526765,
          -23.677967437458204,
          -23.850192147092166,
          -24.013328702196745,
          -24.168060362454334,
          -24.315023226778365,
          -24.454784355658397,
          -24.5878597172009,
          -24.714704576381475,
          -24.835750990532922,
          -24.95138428831567,
          -25.061953884527256,
          -25.1677793540096,
          -25.26916196854423
         ]
        },
        {
         "line": {
          "color": "Orange"
         },
         "marker": {
          "coloraxis": "coloraxis",
          "line": {
           "color": "Orange",
           "width": 1
          }
         },
         "mode": "lines+markers",
         "name": "Model (no py<sub>0</sub>)",
         "type": "scatter",
         "uid": "dc0cd003-1fe2-4a29-9ca2-20046949b798",
         "visible": false
        },
        {
         "marker": {
          "color": "Purple",
          "symbol": "square"
         },
         "mode": "markers",
         "name": "Syn-Depositional Pyrite",
         "text": [
          "0.53 wt% Fe<sub>py, 0</sub>"
         ],
         "type": "scatter",
         "uid": "cc967d78-c4dd-4d68-a23f-d7de57b4be25",
         "visible": true,
         "x": [
          0.16
         ],
         "y": [
          -31
         ]
        }
       ],
       "_js2py_pointsCallback": {},
       "_js2py_relayout": {},
       "_js2py_restyle": {},
       "_js2py_update": {},
       "_last_layout_edit_id": 9,
       "_last_trace_edit_id": 9,
       "_layout": {
        "coloraxis": {
         "colorbar": {
          "ticks": "outside",
          "title": {
           "text": "v<sub>sed</sub>"
          }
         },
         "colorscale": [
          [
           0,
           "#fde725"
          ],
          [
           0.1111111111111111,
           "#b5de2b"
          ],
          [
           0.2222222222222222,
           "#6ece58"
          ],
          [
           0.3333333333333333,
           "#35b779"
          ],
          [
           0.4444444444444444,
           "#1f9e89"
          ],
          [
           0.5555555555555556,
           "#26828e"
          ],
          [
           0.6666666666666666,
           "#31688e"
          ],
          [
           0.7777777777777778,
           "#3e4989"
          ],
          [
           0.8888888888888888,
           "#482878"
          ],
          [
           1,
           "#440154"
          ]
         ]
        },
        "height": 600,
        "legend": {
         "x": 1.2,
         "xanchor": "left",
         "y": 1,
         "yanchor": "top"
        },
        "margin": {
         "l": 100
        },
        "template": {
         "layout": {
          "bargap": 0.05,
          "bargroupgap": 0,
          "font": {
           "color": "black",
           "family": "Segoe UI",
           "size": 17
          },
          "height": 700,
          "hovermode": "closest",
          "margin": {
           "b": 60,
           "l": 60,
           "r": 30,
           "t": 30
          },
          "scene": {
           "xaxis": {
            "color": "black",
            "linewidth": 2,
            "showline": true,
            "ticks": "outside"
           },
           "yaxis": {
            "color": "black",
            "linewidth": 2,
            "showline": true,
            "ticks": "outside"
           },
           "zaxis": {
            "color": "black",
            "linewidth": 2,
            "showline": true,
            "ticks": "outside"
           }
          },
          "xaxis": {
           "color": "black",
           "linewidth": 1.3,
           "mirror": true,
           "showgrid": true,
           "showline": true,
           "ticks": "outside",
           "zeroline": true
          },
          "yaxis": {
           "color": "black",
           "linewidth": 1.3,
           "mirror": true,
           "showgrid": true,
           "showline": true,
           "ticks": "outside",
           "zeroline": true
          }
         }
        },
        "width": 1000,
        "xaxis": {
         "rangemode": "tozero",
         "title": {
          "text": "[FeS<sub>2</sub>] / mol dm<sup>−3</sup>"
         }
        },
        "yaxis": {
         "title": {
          "text": "δ<sup>34</sup>S<sub>py</sub> (‰)"
         }
        }
       },
       "_py2js_animate": {},
       "_py2js_deleteTraces": {},
       "_py2js_moveTraces": {},
       "_py2js_removeLayoutProps": {},
       "_py2js_removeTraceProps": {},
       "_py2js_restyle": {},
       "_view_count": 1
      }
     },
     "7da5e49a96f24d1b8f2195cb232c28b9": {
      "model_module": "@jupyter-widgets/base",
      "model_module_version": "1.2.0",
      "model_name": "LayoutModel",
      "state": {
       "width": "100%"
      }
     },
     "7e1942273852459c8b2ff985dff1c19b": {
      "model_module": "@jupyter-widgets/controls",
      "model_module_version": "1.5.0",
      "model_name": "FloatSliderModel",
      "state": {
       "description": "dz",
       "layout": "IPY_MODEL_68979e7543b94462b35d69ab6dd5aa00",
       "max": 0.1,
       "min": 0.001,
       "step": 0.001,
       "style": "IPY_MODEL_20089e52800e4adf9e6b065eaf9dddf7",
       "value": 0.01
      }
     },
     "7e354d3ad0b84a45a6027adb42ed2876": {
      "model_module": "@jupyter-widgets/base",
      "model_module_version": "1.2.0",
      "model_name": "LayoutModel",
      "state": {
       "width": "100%"
      }
     },
     "7e8c3f15f2cc435c908a3a1239330a71": {
      "model_module": "@jupyter-widgets/controls",
      "model_module_version": "1.5.0",
      "model_name": "HBoxModel",
      "state": {
       "children": [
        "IPY_MODEL_73a6d087e1934fd2ba42dc693bdd9e04",
        "IPY_MODEL_75b655d348d04f7bb1384b260e7a067b"
       ],
       "layout": "IPY_MODEL_17b15f3d0fca46f4862edfedd7861f34"
      }
     },
     "807f6dfa4c8449f38b577596d1383607": {
      "model_module": "@jupyter-widgets/controls",
      "model_module_version": "1.5.0",
      "model_name": "FloatSliderModel",
      "state": {
       "description": "z<sub>max</sub>",
       "layout": "IPY_MODEL_941ccefae614420882893262c349de83",
       "max": 10,
       "min": 0.01,
       "step": 0.01,
       "style": "IPY_MODEL_c96823e3fcf5480697d44236e0921e08",
       "value": 1.5
      }
     },
     "8083618d2d9d4bdca6f36e103a41ce91": {
      "model_module": "@jupyter-widgets/controls",
      "model_module_version": "1.5.0",
      "model_name": "SliderStyleModel",
      "state": {
       "description_width": ""
      }
     },
     "81c9c97b27a640bdbfcac97512267702": {
      "model_module": "@jupyter-widgets/controls",
      "model_module_version": "1.5.0",
      "model_name": "FloatSliderModel",
      "state": {
       "description": "ε<sub>MSR</sub>",
       "layout": "IPY_MODEL_664a571392a44d908391ecc2d8d757aa",
       "style": "IPY_MODEL_2b21fdb958b44d8d86c320815b3c788e",
       "value": 54
      }
     },
     "842e96f723214041aed1efc6459fbe6b": {
      "model_module": "@jupyter-widgets/controls",
      "model_module_version": "1.5.0",
      "model_name": "SliderStyleModel",
      "state": {
       "description_width": ""
      }
     },
     "862b3a213eec4a44a575d4dcf9fabccf": {
      "model_module": "@jupyter-widgets/base",
      "model_module_version": "1.2.0",
      "model_name": "LayoutModel",
      "state": {
       "width": "100%"
      }
     },
     "86b1759417a34109ae07e74de2013bc4": {
      "model_module": "@jupyter-widgets/base",
      "model_module_version": "1.2.0",
      "model_name": "LayoutModel",
      "state": {
       "width": "100%"
      }
     },
     "88c3381b88c04f94b84b4241a7ddd787": {
      "model_module": "@jupyter-widgets/base",
      "model_module_version": "1.2.0",
      "model_name": "LayoutModel",
      "state": {
       "width": "100%"
      }
     },
     "899d083c0aec452c8d2c4f23e7aaa5a7": {
      "model_module": "@jupyter-widgets/controls",
      "model_module_version": "1.5.0",
      "model_name": "FloatSliderModel",
      "state": {
       "description": "v<sub>sed</sub>",
       "layout": "IPY_MODEL_86b1759417a34109ae07e74de2013bc4",
       "max": 0.5,
       "min": 0.001,
       "step": 0.001,
       "style": "IPY_MODEL_2b550279ee2f45d5ab7c2a01350552dd",
       "value": 0.12
      }
     },
     "8a80c36024004218a79064113d777f6c": {
      "buffers": [
       {
        "data": "Gi/dJAaBhT922lqkSBiEP851Drwux4I/PJ6G3SuMgT/zzL52zWWAP1JzY3xypX4/xEf5NlejfD+7m2hV7MJ6P1G1V7H8AXk/JzIWLXhedz9VYlpGcdZ1P3eTtNEaaHQ/zVoN3MURcz9BrrCv39FxPwJukfrvpnA/DSkwJy4fbz/0j+e5GBVtP9ZPDoM5LWs/zStUl1JlaT/GCC+nS7tnP3Rg9IcvLWY/Gl1K5im5ZD9DFDsfhV1jPwXJYT2oGGI/RZbUFxXpYD99IikhzZpfP6QU5+CdiF0/wnMCvSyZWz+wEmTiMspZP2DXH6+PGVg/LQDEMUaFVj8hTaTSegtVPwbAYCRxqlM/dM0V2YlgUj+F+c7ZQCxRP0Uo/X0rDFA/Eiavwe39TT+SCmOlzAZMP1rN38ijMEo/VqbQFkp5SD8VdCC4ut5GPyGl+rMSX0U/8pGjt474Qz8K64sDialCP/uqLnt3cEE/Sulx1elLQD8pVNLWD3U+P+YG90Ygdjw/zK4i7quYOj+RLBkigdo4P+VP1waTOTc/GbQkJfezNT+TU5sp40c0P7wWfsmq8zI/Qh3kyr21MT+FEOgtpowwPyNJY+kM7i4/GXGnEDDnLD8O4zZxUwIrP2i4GKo8PSk/t3/GutaVJz8N8ymQLwomP6gmsbp1mCQ/KO3HSvY+Iz9WWTLRGvwhP8h67oBnziA/KMfV4PJoHz+rwQjwCVodP9GBv1eobRs/HmOp3oqhGT+Xp3lAlPMXPzR8LLHKYRY/U9IFilXqFD+5HI4de4sTP1bc/q+eQxI/08a7kT4RET8PvTqz5OUPP1OD7nnSzg0/ouHOBtHaCz8W+TgplAcKP8gpvjz2Ugg/0QGQovW6Bj9/YExlsj0FP9gLYwRs2QM/CYx8ZH+MAj+tqHXiZFUBP0SSq4auMgA/fov1rAxG/j7lfeyDWUr8PoSC+1fub/o+/wfyFZ20+D7SGzVBXBb3PgBGUI5Ek/U+iPO/pY4p9D72K1MMkdfyPhKIri6+m/E+A7SjjaJ08D7ozW4SxsHuPuemp5B2vuw+aZ+Odvjc6j4l+ZxuFRvpPoJTDVO8duc+UICBv/7t5T6Sco3LDn/kPhV0e+s8KOM+UsnK9PXn4T6M9hNEwbzgPhFOSgR+St8+xOqbDE1A3T4YXOiniVjbPqCGVmP2kNk+fWRMsHvn1z45W+9uJVrWPpZPXaIg59Q+HMzrS7mM0z5ShuhqWEnSPqqQgR6CG9E+isaj59MB0D4mWYcRBvbNPmqIUAO2C8w+0bXgSnhCyj7qnlOSNJjIPh+R3hL3Csc+hhM4S+6YxT6UK37eaEDEPuJ9HZnT/8I+coVombfVwT4dYbiZuMDAPij0MLQmf78+Jm5HTziivT4mdLr/eui7Puno35ztT7o+i66/h7bWuD7gX6qHIXu3PnYCjtOdO7Y+Uv3HRbwWtT7/uma4LQu0Ppkj/ofBF7M+GMhgO2Q7sj5yZLxOHnWxPlyAwyATxLA+e6O3AIAnsD6U+p+4dj2vPg55PxloUq4+aZyLguGMrT7PFKsSH+ysPo9GGvOKb6w+11En37wWrD7GozrkeeGrPqpG81u0z6s+",
        "encoding": "base64",
        "path": [
         "_data",
         0,
         "x",
         "value"
        ]
       },
       {
        "data": "AAAAAAAAAAB7FK5H4XqEP3sUrkfhepQ/uB6F61G4nj97FK5H4XqkP5qZmZmZmak/uB6F61G4rj/sUbgeheuxP3sUrkfherQ/CtejcD0Ktz+amZmZmZm5Pylcj8L1KLw/uB6F61G4vj+kcD0K16PAP+xRuB6F68E/MzMzMzMzwz97FK5H4XrEP8P1KFyPwsU/CtejcD0Kxz9SuB6F61HIP5qZmZmZmck/4XoUrkfhyj8pXI/C9SjMP3E9CtejcM0/uB6F61G4zj8AAAAAAADQP6RwPQrXo9A/SOF6FK5H0T/sUbgehevRP4/C9Shcj9I/MzMzMzMz0z/Xo3A9CtfTP3sUrkfhetQ/H4XrUbge1T/D9Shcj8LVP2dmZmZmZtY/CtejcD0K1z+uR+F6FK7XP1K4HoXrUdg/9ihcj8L12D+amZmZmZnZPz4K16NwPdo/4XoUrkfh2j+F61G4HoXbPylcj8L1KNw/zczMzMzM3D9xPQrXo3DdPxWuR+F6FN4/uB6F61G43j9cj8L1KFzfPwAAAAAAAOA/UrgehetR4D+kcD0K16PgP/YoXI/C9eA/SOF6FK5H4T+amZmZmZnhP+xRuB6F6+E/PgrXo3A94j+PwvUoXI/iP+F6FK5H4eI/MzMzMzMz4z+F61G4HoXjP9ejcD0K1+M/KVyPwvUo5D97FK5H4XrkP83MzMzMzOQ/H4XrUbge5T9xPQrXo3DlP8P1KFyPwuU/Fa5H4XoU5j9nZmZmZmbmP7gehetRuOY/CtejcD0K5z9cj8L1KFznP65H4XoUruc/AAAAAAAA6D9SuB6F61HoP6RwPQrXo+g/9ihcj8L16D9I4XoUrkfpP5qZmZmZmek/7FG4HoXr6T8+CtejcD3qP5DC9Shcj+o/4XoUrkfh6j8zMzMzMzPrP4XrUbgehes/16NwPQrX6z8pXI/C9SjsP3sUrkfheuw/zczMzMzM7D8fhetRuB7tP3E9CtejcO0/w/UoXI/C7T8VrkfhehTuP2dmZmZmZu4/uB6F61G47j8K16NwPQrvP1yPwvUoXO8/rkfhehSu7z8AAAAAAADwPylcj8L1KPA/UrgehetR8D97FK5H4XrwP6RwPQrXo/A/zczMzMzM8D/2KFyPwvXwPx+F61G4HvE/SOF6FK5H8T9xPQrXo3DxP5qZmZmZmfE/w/UoXI/C8T/sUbgehevxPxWuR+F6FPI/PgrXo3A98j9nZmZmZmbyP4/C9Shcj/I/uB6F61G48j/hehSuR+HyPwrXo3A9CvM/MzMzMzMz8z9cj8L1KFzzP4XrUbgehfM/rkfhehSu8z/Xo3A9CtfzPwAAAAAAAPQ/KVyPwvUo9D9SuB6F61H0P3sUrkfhevQ/pHA9Ctej9D/NzMzMzMz0P/YoXI/C9fQ/H4XrUbge9T9I4XoUrkf1P3E9CtejcPU/mpmZmZmZ9T/D9Shcj8L1P+xRuB6F6/U/Fa5H4XoU9j8+CtejcD32P2dmZmZmZvY/j8L1KFyP9j+4HoXrUbj2P+F6FK5H4fY/CtejcD0K9z8zMzMzMzP3P1yPwvUoXPc/hetRuB6F9z+uR+F6FK73P9ejcD0K1/c/",
        "encoding": "base64",
        "path": [
         "_data",
         0,
         "y",
         "value"
        ]
       },
       {
        "data": "exSuR+F6xD8X0sBjfQXFP3gmUkAEh8U/tIyPPA4Axj/eHIq7KXHGP3KKtsvb2sY/Tj5zw6A9xz+HrUzT7JnHP4n9q44s8Mc/a7+Qa8VAyD8jA+w5FozIP64qKZN30sg/57FnQjwUyT+bhuClsVHJP96D6Qkgi8k/UCEC/srAyT8jY02k8fLJPzuJ1vvOIco/X9v3JZpNyj/TNjWnhnbKPxmo1qPEnMo/0FuKGIHAyj+bhVAP5uHKP2t+79AaAcs/OkcqE0Qeyz8xze8jhDnLP2q8tRH7Uss/HVou0cZqyz/EwoVgA4HLP4sAUOjKlcs/7rZO2jWpyz+mljIOW7vLP5dtetxPzMs/NW+PNyjcyz9OPzzD9urLP9VZmurM+Ms/C6OP9LoFzD/TOvQW0BHMP4oZd4gaHcw/2IJWkacnzD/3+f+agzHMP8YYqj66Osw/0nb5UlZDzD9ArcD4YUvMP0h36qbmUsw/WvObNe1ZzD/tHZzofWDMPxjDDHmgZsw/BleAHlxszD8+ZXeXt3HMP4iTTzG5dsw/pI2tz2Z7zD+PkmrzxX/MP5vJDcHbg8w/Cf3YBq2HzD8E2G9CPovMP4ROIKaTjsw/92XSHbGRzD9vLaVTmpTMP49SPrRSl8w/dGXRct2ZzD+7iOOMPZzMP1f7z811nsw/hp8R0oigzD/wXFUKeaLMP+L6WL5IpMw/QdOZD/qlzD/phdb7jqfMP2ufZl8Jqcw/h/Rq92qqzD+eRdljtavMPxCSZSnqrMw/PFtLswquzD/j8PhUGK/MP869nksUsMw/RGqkv/+wzD9YiwXG27HMPzh5l2Gpssw/1cs5hGmzzD8I5PIPHbTMP/bP+dfEtMw/dsOuoWG1zD/XSIMl9LXMPxQ70w99tsw/voivAf22zD81rpuRdLfMP/TFPkzkt8w/Yf8ItUy4zD+qPs5GrrjMP6abVnQJucw/uWnlqF65zD+DZ7dIrrnMP+uqeLH4ucw/FtSyOj66zD8iCTQ2f7rMP5wzb/C7usw/DvHVsPS6zD9loCy6KbvMPwnv2Epbu8w/LUIrnYm7zD+eUqPntLvMP85LMF3du8w/oblsLQO8zD9Yi9aEJrzMP61tA41HvMw/n7nRbGa8zD+RMZZIg7zMP37CRkKevMw/rHuiebe8zD/Q61YMz7zMP7gPIxblvMw/evv3sPm8zD+3ZBf1DL3MP9wxMPkevcw/ADB50i+9zD/dDsqUP73MP0DAslJOvcw/oFaRHVy9zD9qfKYFab3MP1icKBp1vcw/SNFVaYC9zD/IsoQAi73MPyYSNOyUvcw/oroZOJ69zD8aRjDvpr3MP6gWxBuvvcw/ZIR/x7a9zD/dTXb7vb3MP7dYMMDEvcw/O8+zHcu9zD/ipo4b0b3MPyab38DWvcw/RadeFNy9zD8jCWUc4b3MP9HW9N7lvcw/zC/AYeq9zD+mEjCq7r3MP0Lfar3yvcw/h41aoPa9zD8UoLJX+r3MPyLa9ef9vcw/pL97VQG+zD9C5nWkBL7MP+Ed9dgHvsw/83bu9gq+zD/sLEACDr7MP/h6tv4Qvsw/9mAQ8BO+zD/hXgTaFr7MP4csRcAZvsw/",
        "encoding": "base64",
        "path": [
         "_data",
         1,
         "x",
         "value"
        ]
       },
       {
        "data": "AAAAAAAAAAB7FK5H4XqEP3sUrkfhepQ/uB6F61G4nj97FK5H4XqkP5qZmZmZmak/uB6F61G4rj/sUbgeheuxP3sUrkfherQ/CtejcD0Ktz+amZmZmZm5Pylcj8L1KLw/uB6F61G4vj+kcD0K16PAP+xRuB6F68E/MzMzMzMzwz97FK5H4XrEP8P1KFyPwsU/CtejcD0Kxz9SuB6F61HIP5qZmZmZmck/4XoUrkfhyj8pXI/C9SjMP3E9CtejcM0/uB6F61G4zj8AAAAAAADQP6RwPQrXo9A/SOF6FK5H0T/sUbgehevRP4/C9Shcj9I/MzMzMzMz0z/Xo3A9CtfTP3sUrkfhetQ/H4XrUbge1T/D9Shcj8LVP2dmZmZmZtY/CtejcD0K1z+uR+F6FK7XP1K4HoXrUdg/9ihcj8L12D+amZmZmZnZPz4K16NwPdo/4XoUrkfh2j+F61G4HoXbPylcj8L1KNw/zczMzMzM3D9xPQrXo3DdPxWuR+F6FN4/uB6F61G43j9cj8L1KFzfPwAAAAAAAOA/UrgehetR4D+kcD0K16PgP/YoXI/C9eA/SOF6FK5H4T+amZmZmZnhP+xRuB6F6+E/PgrXo3A94j+PwvUoXI/iP+F6FK5H4eI/MzMzMzMz4z+F61G4HoXjP9ejcD0K1+M/KVyPwvUo5D97FK5H4XrkP83MzMzMzOQ/H4XrUbge5T9xPQrXo3DlP8P1KFyPwuU/Fa5H4XoU5j9nZmZmZmbmP7gehetRuOY/CtejcD0K5z9cj8L1KFznP65H4XoUruc/AAAAAAAA6D9SuB6F61HoP6RwPQrXo+g/9ihcj8L16D9I4XoUrkfpP5qZmZmZmek/7FG4HoXr6T8+CtejcD3qP5DC9Shcj+o/4XoUrkfh6j8zMzMzMzPrP4XrUbgehes/16NwPQrX6z8pXI/C9SjsP3sUrkfheuw/zczMzMzM7D8fhetRuB7tP3E9CtejcO0/w/UoXI/C7T8VrkfhehTuP2dmZmZmZu4/uB6F61G47j8K16NwPQrvP1yPwvUoXO8/rkfhehSu7z8AAAAAAADwPylcj8L1KPA/UrgehetR8D97FK5H4XrwP6RwPQrXo/A/zczMzMzM8D/2KFyPwvXwPx+F61G4HvE/SOF6FK5H8T9xPQrXo3DxP5qZmZmZmfE/w/UoXI/C8T/sUbgehevxPxWuR+F6FPI/PgrXo3A98j9nZmZmZmbyP4/C9Shcj/I/uB6F61G48j/hehSuR+HyPwrXo3A9CvM/MzMzMzMz8z9cj8L1KFzzP4XrUbgehfM/rkfhehSu8z/Xo3A9CtfzPwAAAAAAAPQ/KVyPwvUo9D9SuB6F61H0P3sUrkfhevQ/pHA9Ctej9D/NzMzMzMz0P/YoXI/C9fQ/H4XrUbge9T9I4XoUrkf1P3E9CtejcPU/mpmZmZmZ9T/D9Shcj8L1P+xRuB6F6/U/Fa5H4XoU9j8+CtejcD32P2dmZmZmZvY/j8L1KFyP9j+4HoXrUbj2P+F6FK5H4fY/CtejcD0K9z8zMzMzMzP3P1yPwvUoXPc/hetRuB6F9z+uR+F6FK73P9ejcD0K1/c/",
        "encoding": "base64",
        "path": [
         "_data",
         1,
         "y",
         "value"
        ]
       },
       {
        "data": "AAAAAAAAAAB7FK5H4XqEP3sUrkfhepQ/uB6F61G4nj97FK5H4XqkP5qZmZmZmak/uB6F61G4rj/sUbgeheuxP3sUrkfherQ/CtejcD0Ktz+amZmZmZm5Pylcj8L1KLw/uB6F61G4vj+kcD0K16PAP+xRuB6F68E/MzMzMzMzwz97FK5H4XrEP8P1KFyPwsU/CtejcD0Kxz9SuB6F61HIP5qZmZmZmck/4XoUrkfhyj8pXI/C9SjMP3E9CtejcM0/uB6F61G4zj8AAAAAAADQP6RwPQrXo9A/SOF6FK5H0T/sUbgehevRP4/C9Shcj9I/MzMzMzMz0z/Xo3A9CtfTP3sUrkfhetQ/H4XrUbge1T/D9Shcj8LVP2dmZmZmZtY/CtejcD0K1z+uR+F6FK7XP1K4HoXrUdg/9ihcj8L12D+amZmZmZnZPz4K16NwPdo/4XoUrkfh2j+F61G4HoXbPylcj8L1KNw/zczMzMzM3D9xPQrXo3DdPxWuR+F6FN4/uB6F61G43j9cj8L1KFzfPwAAAAAAAOA/UrgehetR4D+kcD0K16PgP/YoXI/C9eA/SOF6FK5H4T+amZmZmZnhP+xRuB6F6+E/PgrXo3A94j+PwvUoXI/iP+F6FK5H4eI/MzMzMzMz4z+F61G4HoXjP9ejcD0K1+M/KVyPwvUo5D97FK5H4XrkP83MzMzMzOQ/H4XrUbge5T9xPQrXo3DlP8P1KFyPwuU/Fa5H4XoU5j9nZmZmZmbmP7gehetRuOY/CtejcD0K5z9cj8L1KFznP65H4XoUruc/AAAAAAAA6D9SuB6F61HoP6RwPQrXo+g/9ihcj8L16D9I4XoUrkfpP5qZmZmZmek/7FG4HoXr6T8+CtejcD3qP5DC9Shcj+o/4XoUrkfh6j8zMzMzMzPrP4XrUbgehes/16NwPQrX6z8pXI/C9SjsP3sUrkfheuw/zczMzMzM7D8fhetRuB7tP3E9CtejcO0/w/UoXI/C7T8VrkfhehTuP2dmZmZmZu4/uB6F61G47j8K16NwPQrvP1yPwvUoXO8/rkfhehSu7z8AAAAAAADwPylcj8L1KPA/UrgehetR8D97FK5H4XrwP6RwPQrXo/A/zczMzMzM8D/2KFyPwvXwPx+F61G4HvE/SOF6FK5H8T9xPQrXo3DxP5qZmZmZmfE/w/UoXI/C8T/sUbgehevxPxWuR+F6FPI/PgrXo3A98j9nZmZmZmbyP4/C9Shcj/I/uB6F61G48j/hehSuR+HyPwrXo3A9CvM/MzMzMzMz8z9cj8L1KFzzP4XrUbgehfM/rkfhehSu8z/Xo3A9CtfzPwAAAAAAAPQ/KVyPwvUo9D9SuB6F61H0P3sUrkfhevQ/pHA9Ctej9D/NzMzMzMz0P/YoXI/C9fQ/H4XrUbge9T9I4XoUrkf1P3E9CtejcPU/mpmZmZmZ9T/D9Shcj8L1P+xRuB6F6/U/Fa5H4XoU9j8+CtejcD32P2dmZmZmZvY/j8L1KFyP9j+4HoXrUbj2P+F6FK5H4fY/CtejcD0K9z8zMzMzMzP3P1yPwvUoXPc/hetRuB6F9z+uR+F6FK73P9ejcD0K1/c/",
        "encoding": "base64",
        "path": [
         "_data",
         2,
         "y",
         "value"
        ]
       },
       {
        "data": "AAAAAAAAAAB7FK5H4XqEP3sUrkfhepQ/uB6F61G4nj97FK5H4XqkP5qZmZmZmak/uB6F61G4rj/sUbgeheuxP3sUrkfherQ/CtejcD0Ktz+amZmZmZm5Pylcj8L1KLw/uB6F61G4vj+kcD0K16PAP+xRuB6F68E/MzMzMzMzwz97FK5H4XrEP8P1KFyPwsU/CtejcD0Kxz9SuB6F61HIP5qZmZmZmck/4XoUrkfhyj8pXI/C9SjMP3E9CtejcM0/uB6F61G4zj8AAAAAAADQP6RwPQrXo9A/SOF6FK5H0T/sUbgehevRP4/C9Shcj9I/MzMzMzMz0z/Xo3A9CtfTP3sUrkfhetQ/H4XrUbge1T/D9Shcj8LVP2dmZmZmZtY/CtejcD0K1z+uR+F6FK7XP1K4HoXrUdg/9ihcj8L12D+amZmZmZnZPz4K16NwPdo/4XoUrkfh2j+F61G4HoXbPylcj8L1KNw/zczMzMzM3D9xPQrXo3DdPxWuR+F6FN4/uB6F61G43j9cj8L1KFzfPwAAAAAAAOA/UrgehetR4D+kcD0K16PgP/YoXI/C9eA/SOF6FK5H4T+amZmZmZnhP+xRuB6F6+E/PgrXo3A94j+PwvUoXI/iP+F6FK5H4eI/MzMzMzMz4z+F61G4HoXjP9ejcD0K1+M/KVyPwvUo5D97FK5H4XrkP83MzMzMzOQ/H4XrUbge5T9xPQrXo3DlP8P1KFyPwuU/Fa5H4XoU5j9nZmZmZmbmP7gehetRuOY/CtejcD0K5z9cj8L1KFznP65H4XoUruc/AAAAAAAA6D9SuB6F61HoP6RwPQrXo+g/9ihcj8L16D9I4XoUrkfpP5qZmZmZmek/7FG4HoXr6T8+CtejcD3qP5DC9Shcj+o/4XoUrkfh6j8zMzMzMzPrP4XrUbgehes/16NwPQrX6z8pXI/C9SjsP3sUrkfheuw/zczMzMzM7D8fhetRuB7tP3E9CtejcO0/w/UoXI/C7T8VrkfhehTuP2dmZmZmZu4/uB6F61G47j8K16NwPQrvP1yPwvUoXO8/rkfhehSu7z8AAAAAAADwPylcj8L1KPA/UrgehetR8D97FK5H4XrwP6RwPQrXo/A/zczMzMzM8D/2KFyPwvXwPx+F61G4HvE/SOF6FK5H8T9xPQrXo3DxP5qZmZmZmfE/w/UoXI/C8T/sUbgehevxPxWuR+F6FPI/PgrXo3A98j9nZmZmZmbyP4/C9Shcj/I/uB6F61G48j/hehSuR+HyPwrXo3A9CvM/MzMzMzMz8z9cj8L1KFzzP4XrUbgehfM/rkfhehSu8z/Xo3A9CtfzPwAAAAAAAPQ/KVyPwvUo9D9SuB6F61H0P3sUrkfhevQ/pHA9Ctej9D/NzMzMzMz0P/YoXI/C9fQ/H4XrUbge9T9I4XoUrkf1P3E9CtejcPU/mpmZmZmZ9T/D9Shcj8L1P+xRuB6F6/U/Fa5H4XoU9j8+CtejcD32P2dmZmZmZvY/j8L1KFyP9j+4HoXrUbj2P+F6FK5H4fY/CtejcD0K9z8zMzMzMzP3P1yPwvUoXPc/hetRuB6F9z+uR+F6FK73P9ejcD0K1/c/",
        "encoding": "base64",
        "path": [
         "_data",
         3,
         "y",
         "value"
        ]
       }
      ],
      "model_module": "jupyterlab-plotly",
      "model_module_version": "^5.1.0",
      "model_name": "FigureModel",
      "state": {
       "_config": {
        "plotlyServerURL": "https://plot.ly"
       },
       "_data": [
        {
         "marker": {
          "color": "RoyalBlue"
         },
         "mode": "lines",
         "name": "[SO<sub>4</sub>]",
         "type": "scatter",
         "uid": "61af2e51-5adc-4b4f-bdce-30817319f1c2",
         "x": {
          "dtype": "float64",
          "shape": [
           150
          ]
         },
         "xaxis": "x",
         "y": {
          "dtype": "float64",
          "shape": [
           150
          ]
         },
         "yaxis": "y"
        },
        {
         "marker": {
          "color": "MediumSeaGreen"
         },
         "mode": "lines",
         "name": "[FeS<sub>2</sub>]",
         "type": "scatter",
         "uid": "fab80ba1-3738-47b5-a417-91d9aa8460c6",
         "x": {
          "dtype": "float64",
          "shape": [
           150
          ]
         },
         "xaxis": "x",
         "y": {
          "dtype": "float64",
          "shape": [
           150
          ]
         },
         "yaxis": "y"
        },
        {
         "marker": {
          "color": "Navy"
         },
         "mode": "lines",
         "name": "δ<sup>34</sup>S<sub>SO4</sub>",
         "type": "scatter",
         "uid": "df7283d5-36da-43c1-8760-4b841064acea",
         "x": [
          23.00000000000013,
          24.923534044210438,
          26.85108477632525,
          28.78268572579845,
          30.71837039660319,
          32.65817226709466,
          34.60212478987823,
          36.55026139167528,
          38.50261547318401,
          40.459220408944674,
          42.42010954720299,
          44.38531620976938,
          46.354873691886624,
          48.32881526209243,
          50.30717416208663,
          52.28998360660175,
          54.27727678327798,
          56.2690868525435,
          58.265446947502355,
          60.26639017383184,
          62.27194960969329,
          64.28215830565564,
          66.29704928463731,
          68.31665554187039,
          70.34101004489268,
          72.37014573356481,
          74.4040955201335,
          76.44289228933032,
          78.48656889852856,
          80.53515817795653,
          82.58869293098581,
          84.64720593450137,
          86.71072993936812,
          88.779297671014,
          90.85294183014203,
          92.93169509359522,
          95.01559011540017,
          97.10465952801117,
          99.19893594379437,
          101.2984519567779,
          null,
          null,
          null,
          null,
          null,
          null,
          null,
          null,
          null,
          null,
          null,
          null,
          null,
          null,
          null,
          null,
          null,
          null,
          null,
          null,
          null,
          null,
          null,
          null,
          null,
          null,
          null,
          null,
          null,
          null,
          null,
          null,
          null,
          null,
          null,
          null,
          null,
          null,
          null,
          null,
          null,
          null,
          null,
          null,
          null,
          null,
          null,
          null,
          null,
          null,
          null,
          null,
          null,
          null,
          null,
          null,
          null,
          null,
          null,
          null,
          null,
          null,
          null,
          null,
          null,
          null,
          null,
          null,
          null,
          null,
          null,
          null,
          null,
          null,
          null,
          null,
          null,
          null,
          null,
          null,
          null,
          null,
          null,
          null,
          null,
          null,
          null,
          null,
          null,
          null,
          null,
          null,
          null,
          null,
          null,
          null,
          null,
          null,
          null,
          null,
          null,
          null,
          null,
          null,
          null,
          null,
          null,
          null,
          null,
          null
         ],
         "xaxis": "x2",
         "y": {
          "dtype": "float64",
          "shape": [
           150
          ]
         },
         "yaxis": "y2"
        },
        {
         "marker": {
          "color": "DarkGreen"
         },
         "mode": "lines",
         "name": "δ<sup>34</sup>S<sub>py</sub>",
         "type": "scatter",
         "uid": "f6325f39-9d43-4a21-bc85-141099f4591f",
         "x": [
          -31.00000000000003,
          -30.976879910796008,
          -30.91360618991068,
          -30.817986029536225,
          -30.69637715960949,
          -30.553996306072364,
          -30.3951519430824,
          -30.22342221399321,
          -30.041792565632775,
          -29.852763390592727,
          -29.658435070003986,
          -29.460575795973497,
          -29.260676135970833,
          -29.059993290946107,
          -28.859587269336906,
          -28.660350666261714,
          -28.463033343867018,
          -28.268263015564177,
          -28.07656251626034,
          -27.888364373195085,
          -27.704023163854675,
          -27.523826048600153,
          -27.34800178887142,
          -27.176728501817514,
          -27.010140354921997,
          -26.84833336679615,
          -26.691370450476203,
          -26.5392858117075,
          -26.392088795447744,
          -26.24976725828376,
          -26.112290531780992,
          -25.979612031461485,
          -25.851671557607816,
          -25.728397327105522,
          -25.609707769735923,
          -25.49551311752396,
          -25.385716811721192,
          -25.28021674864045,
          -25.17890638272324,
          -25.0816757028246,
          -24.988412095674594,
          -24.899001108742326,
          -24.81332712325579,
          -24.731273946861254,
          -24.6527253343114,
          -24.577565443638427,
          -24.505679234435362,
          -24.43695281416747,
          -24.371273737805566,
          -24.308531265531563,
          -24.248616582775217,
          -24.1914229864294,
          -24.136846040701766,
          -24.084783705730306,
          -24.03513644179267,
          -23.98780729166461,
          -23.94270194345527,
          -23.89972877601021,
          -23.858798888803268,
          -23.819826118040787,
          -23.78272704055395,
          -23.747420966907406,
          -23.713829925017805,
          -23.681878635462006,
          -23.651494479540514,
          -23.622607461062593,
          -23.59515016273317,
          -23.56905769793116,
          -23.544267658601626,
          -23.520720059905354,
          -23.49835728221217,
          -23.477124010966467,
          -23.45696717489476,
          -23.437835882979428,
          -23.419681360581592,
          -23.402456885048608,
          -23.38611772110677,
          -23.370621056311492,
          -23.355925936783706,
          -23.341993203446766,
          -23.32878542894101,
          -23.31626685537458,
          -23.304403333050615,
          -23.293162260283108,
          -23.28251252440228,
          -23.272424444035433,
          -23.262869712726065,
          -23.25382134395493,
          -23.245253617598436,
          -23.237142027863644,
          -23.22946323272157,
          -23.222195004852786,
          -23.21531618411543,
          -23.208806631533683,
          -23.202647184804803,
          -23.196819615310392,
          -23.191306586621828,
          -23.186091614475156,
          -23.181159028198284,
          -23.176493933561805,
          -23.1720821770246,
          -23.167910311348017,
          -23.163965562541634,
          -23.160235798110552,
          -23.15670949656745,
          -23.15337571817444,
          -23.15022407687861,
          -23.14724471340357,
          -23.144428269459727,
          -23.141765863037065,
          -23.139249064742074,
          -23.136869875140963,
          -23.134620703074482,
          -23.132494344905275,
          -23.130483964662663,
          -23.12858307504817,
          -23.126785519270054,
          -23.12508545366598,
          -23.123477331086217,
          -23.121955884999657,
          -23.12051611429378,
          -23.119153268731594,
          -23.117862835040135,
          -23.116640523596523,
          -23.115482255681165,
          -23.11438415127276,
          -23.11334251735342,
          -23.112353836697075,
          -23.111414757114645,
          -23.110522081129623,
          -23.10967275605713,
          -23.10886386446409,
          -23.10809261498259,
          -23.1073563334524,
          -23.106652454375155,
          -23.105978512646953,
          -23.105332135554768,
          -23.104711035012883,
          -23.10411300001247,
          -23.103535889270944,
          -23.102977624050002,
          -23.10243618112928,
          -23.10190958591074,
          -23.10139590563276,
          -23.100893242673614,
          -23.100399727923214,
          -23.099913514203706,
          -23.099432769715158,
          -23.098955671488785,
          -23.098480398823117
         ],
         "xaxis": "x2",
         "y": {
          "dtype": "float64",
          "shape": [
           150
          ]
         },
         "yaxis": "y2"
        }
       ],
       "_js2py_pointsCallback": {},
       "_js2py_relayout": {},
       "_js2py_restyle": {},
       "_js2py_update": {},
       "_last_layout_edit_id": 8,
       "_last_trace_edit_id": 8,
       "_layout": {
        "height": 600,
        "hovermode": "y",
        "margin": {
         "t": 60
        },
        "template": {
         "layout": {
          "bargap": 0.05,
          "bargroupgap": 0,
          "font": {
           "color": "black",
           "family": "Segoe UI",
           "size": 17
          },
          "height": 700,
          "hovermode": "closest",
          "margin": {
           "b": 60,
           "l": 60,
           "r": 30,
           "t": 30
          },
          "scene": {
           "xaxis": {
            "color": "black",
            "linewidth": 2,
            "showline": true,
            "ticks": "outside"
           },
           "yaxis": {
            "color": "black",
            "linewidth": 2,
            "showline": true,
            "ticks": "outside"
           },
           "zaxis": {
            "color": "black",
            "linewidth": 2,
            "showline": true,
            "ticks": "outside"
           }
          },
          "xaxis": {
           "color": "black",
           "linewidth": 1.3,
           "mirror": true,
           "showgrid": true,
           "showline": true,
           "ticks": "outside",
           "zeroline": true
          },
          "yaxis": {
           "color": "black",
           "linewidth": 1.3,
           "mirror": true,
           "showgrid": true,
           "showline": true,
           "ticks": "outside",
           "zeroline": true
          }
         }
        },
        "width": 1000,
        "xaxis": {
         "anchor": "y",
         "domain": [
          0,
          0.495
         ],
         "title": {
          "text": "Concentration / mol dm<sup>−3</sup>"
         }
        },
        "xaxis2": {
         "anchor": "y2",
         "domain": [
          0.505,
          1
         ],
         "title": {
          "text": "δ<sup>34</sup>S (‰)"
         }
        },
        "yaxis": {
         "anchor": "x",
         "domain": [
          0,
          1
         ],
         "rangemode": "tozero",
         "title": {
          "text": "Depth, <i>z</i> / m"
         }
        },
        "yaxis2": {
         "anchor": "x2",
         "domain": [
          0,
          1
         ],
         "matches": "y",
         "showticklabels": false
        }
       },
       "_py2js_animate": {},
       "_py2js_deleteTraces": {},
       "_py2js_moveTraces": {},
       "_py2js_relayout": {},
       "_py2js_removeTraceProps": {},
       "_py2js_restyle": {},
       "_view_count": 1
      }
     },
     "8af31fdb434d474a814ff07f16776673": {
      "model_module": "@jupyter-widgets/controls",
      "model_module_version": "1.5.0",
      "model_name": "SliderStyleModel",
      "state": {
       "description_width": ""
      }
     },
     "8c2b3feb602e4b48a59f7159a1d3bf80": {
      "model_module": "@jupyter-widgets/base",
      "model_module_version": "1.2.0",
      "model_name": "LayoutModel",
      "state": {}
     },
     "8c5db1eb2d5a4bcca9d84bbf1f51ddcc": {
      "model_module": "@jupyter-widgets/controls",
      "model_module_version": "1.5.0",
      "model_name": "FloatSliderModel",
      "state": {
       "description": "δ<sup>34</sup>S<sub>SO4, 0</sub>",
       "layout": "IPY_MODEL_3863c431eb554981bdbb77944e9eaa9d",
       "max": 30,
       "step": 0.1,
       "style": "IPY_MODEL_f1cbf911d595496d8d0ab0ca106ab7b8",
       "value": 23
      }
     },
     "8f95cbe7729e4f078b763b360b66ef35": {
      "model_module": "@jupyter-widgets/controls",
      "model_module_version": "1.5.0",
      "model_name": "FloatSliderModel",
      "state": {
       "description": "[SO<sub>4</sub>]<sub>0</sub>",
       "layout": "IPY_MODEL_979419a01e0e4a3c87a4e0d631c017da",
       "max": 0.3,
       "min": 0.001,
       "step": 0.001,
       "style": "IPY_MODEL_d04cd82042de4eeba2dd35baa9138a48",
       "value": 0.0105
      }
     },
     "903c59881fc047e4a1a4e76fbea97551": {
      "model_module": "@jupyter-widgets/base",
      "model_module_version": "1.2.0",
      "model_name": "LayoutModel",
      "state": {
       "width": "100%"
      }
     },
     "927db75ce45d420a832795a144b9e383": {
      "model_module": "@jupyter-widgets/base",
      "model_module_version": "1.2.0",
      "model_name": "LayoutModel",
      "state": {
       "width": "100%"
      }
     },
     "93ea28565e21413c95378d6090757665": {
      "model_module": "@jupyter-widgets/controls",
      "model_module_version": "1.5.0",
      "model_name": "HBoxModel",
      "state": {
       "children": [
        "IPY_MODEL_f301a3bb5e534414b452a181bec5722e",
        "IPY_MODEL_342a9a8e0539437d8e6c96a62a3c1bb5"
       ],
       "layout": "IPY_MODEL_d4f6d41e6e314e1ebc48f31b5094b602"
      }
     },
     "93f47795e6eb4aa1af08763c1f659d0e": {
      "model_module": "@jupyter-widgets/base",
      "model_module_version": "1.2.0",
      "model_name": "LayoutModel",
      "state": {}
     },
     "941ccefae614420882893262c349de83": {
      "model_module": "@jupyter-widgets/base",
      "model_module_version": "1.2.0",
      "model_name": "LayoutModel",
      "state": {
       "width": "100%"
      }
     },
     "942c4c1e420d483aa9213c8e7a1427e0": {
      "model_module": "@jupyter-widgets/base",
      "model_module_version": "1.2.0",
      "model_name": "LayoutModel",
      "state": {
       "width": "100%"
      }
     },
     "94ade71b72e749b3a28be204421d962a": {
      "model_module": "@jupyter-widgets/controls",
      "model_module_version": "1.5.0",
      "model_name": "HBoxModel",
      "state": {
       "children": [
        "IPY_MODEL_0731c7abfee0456284e98677af58f790",
        "IPY_MODEL_e4292a327602466aa47a2c02b2cc5333"
       ],
       "layout": "IPY_MODEL_3158ef59aa5f447089c5944bcbd5f908"
      }
     },
     "95f9306349b648fea0163d4907170a6a": {
      "model_module": "@jupyter-widgets/controls",
      "model_module_version": "1.5.0",
      "model_name": "HBoxModel",
      "state": {
       "children": [
        "IPY_MODEL_b42d300e26904fc5bc7a4d315c52039b",
        "IPY_MODEL_1948f6125d194f38964865ad6e9af419"
       ],
       "layout": "IPY_MODEL_5d9b275cd96540bc8a56b10101782ab2"
      }
     },
     "967dac2fb91b424b83e06cff5d970ce6": {
      "model_module": "@jupyter-widgets/base",
      "model_module_version": "1.2.0",
      "model_name": "LayoutModel",
      "state": {}
     },
     "97491e4fd4ca4ea0992cf85fa5dbe757": {
      "model_module": "@jupyter-widgets/base",
      "model_module_version": "1.2.0",
      "model_name": "LayoutModel",
      "state": {}
     },
     "979419a01e0e4a3c87a4e0d631c017da": {
      "model_module": "@jupyter-widgets/base",
      "model_module_version": "1.2.0",
      "model_name": "LayoutModel",
      "state": {
       "width": "100%"
      }
     },
     "98319e8fcff2414c8273f74eb7c48b1d": {
      "model_module": "@jupyter-widgets/base",
      "model_module_version": "1.2.0",
      "model_name": "LayoutModel",
      "state": {
       "width": "100%"
      }
     },
     "9fb86749436e44ddb04b49b6bc402dd9": {
      "model_module": "@jupyter-widgets/base",
      "model_module_version": "1.2.0",
      "model_name": "LayoutModel",
      "state": {
       "width": "100%"
      }
     },
     "a04a85c2b5ff4474b53397b58c227d8b": {
      "model_module": "@jupyter-widgets/controls",
      "model_module_version": "1.5.0",
      "model_name": "FloatTextModel",
      "state": {
       "description": "from",
       "layout": "IPY_MODEL_c287400fe9e3490396d93bac3b1f6190",
       "step": 0.01,
       "style": "IPY_MODEL_f738690eab6c483fba6260f53cc7c084",
       "value": 0.005
      }
     },
     "a0803bc6def7499a8c378fb1a0806cc5": {
      "model_module": "@jupyter-widgets/controls",
      "model_module_version": "1.5.0",
      "model_name": "SliderStyleModel",
      "state": {
       "description_width": ""
      }
     },
     "a1c9734d76b44e4abbdd39ab850a02b4": {
      "model_module": "@jupyter-widgets/controls",
      "model_module_version": "1.5.0",
      "model_name": "SliderStyleModel",
      "state": {
       "description_width": ""
      }
     },
     "a30cd83c5cbb449ba0bb7dbe89bc02f1": {
      "model_module": "@jupyter-widgets/controls",
      "model_module_version": "1.5.0",
      "model_name": "FloatSliderModel",
      "state": {
       "description": "z<sub>max</sub>",
       "layout": "IPY_MODEL_203548f537b448a7b127381f44f5b76b",
       "max": 10,
       "min": 0.01,
       "step": 0.01,
       "style": "IPY_MODEL_2bb6176ce64a499ca35cec86766171f7",
       "value": 1.5
      }
     },
     "a321fe08f2674066b381da862c3a12a2": {
      "model_module": "@jupyter-widgets/base",
      "model_module_version": "1.2.0",
      "model_name": "LayoutModel",
      "state": {}
     },
     "a59b74366f9647628bbee5029a5d021e": {
      "model_module": "@jupyter-widgets/controls",
      "model_module_version": "1.5.0",
      "model_name": "HBoxModel",
      "state": {
       "children": [
        "IPY_MODEL_8f95cbe7729e4f078b763b360b66ef35",
        "IPY_MODEL_8c5db1eb2d5a4bcca9d84bbf1f51ddcc"
       ],
       "layout": "IPY_MODEL_48b0d1c299bd4f73976ccebd958b5f79"
      }
     },
     "a5a23eca1dcc4b70b77a3990438ef084": {
      "model_module": "@jupyter-widgets/controls",
      "model_module_version": "1.5.0",
      "model_name": "SliderStyleModel",
      "state": {
       "description_width": ""
      }
     },
     "a65d51b1d5fb41c8bd564dcdf7c14e5d": {
      "model_module": "@jupyter-widgets/controls",
      "model_module_version": "1.5.0",
      "model_name": "HBoxModel",
      "state": {
       "children": [
        "IPY_MODEL_c421622f2ee84a29983dcfbbb91780ec",
        "IPY_MODEL_ea2195f7676d4e7dbabfeddce4500272"
       ],
       "layout": "IPY_MODEL_54c375cf0d354cb59d61dd125eb21e8b"
      }
     },
     "a725553a84c44f0fa51da60513c5f6e9": {
      "model_module": "@jupyter-widgets/base",
      "model_module_version": "1.2.0",
      "model_name": "LayoutModel",
      "state": {}
     },
     "a85740517fe34ef186e84206fc9ee284": {
      "model_module": "@jupyter-widgets/controls",
      "model_module_version": "1.5.0",
      "model_name": "SliderStyleModel",
      "state": {
       "description_width": ""
      }
     },
     "a95db16b850b45508e006e0885af09f2": {
      "model_module": "@jupyter-widgets/controls",
      "model_module_version": "1.5.0",
      "model_name": "SliderStyleModel",
      "state": {
       "description_width": ""
      }
     },
     "a9ab327d806c41e7bde2b6bc5b1d5547": {
      "model_module": "@jupyter-widgets/base",
      "model_module_version": "1.2.0",
      "model_name": "LayoutModel",
      "state": {
       "width": "100%"
      }
     },
     "aa68cb453a4745e8b8e1a7c2855ef7ed": {
      "model_module": "@jupyter-widgets/controls",
      "model_module_version": "1.5.0",
      "model_name": "HBoxModel",
      "state": {
       "children": [
        "IPY_MODEL_807f6dfa4c8449f38b577596d1383607",
        "IPY_MODEL_016f1ebf837247c599f04baf3903ac47"
       ],
       "layout": "IPY_MODEL_fe37b678dcaf4018b1ebb5a6e4375ffb"
      }
     },
     "ae19723f5ff04a439ca4258dca97e12e": {
      "model_module": "@jupyter-widgets/controls",
      "model_module_version": "1.5.0",
      "model_name": "FloatSliderModel",
      "state": {
       "description": "Marker Size",
       "layout": "IPY_MODEL_6160e6bf95aa410ab0533fc8982ca8e5",
       "max": 20,
       "step": 0.1,
       "style": "IPY_MODEL_308923b45aaa4010a75fe4f19d8fc75b",
       "value": 8
      }
     },
     "afd6ef769d044eb7ab8bd89a469df43d": {
      "model_module": "@jupyter-widgets/controls",
      "model_module_version": "1.5.0",
      "model_name": "SliderStyleModel",
      "state": {
       "description_width": ""
      }
     },
     "b002bd1dba42410d8caa03df15bce422": {
      "model_module": "@jupyter-widgets/controls",
      "model_module_version": "1.5.0",
      "model_name": "IntSliderModel",
      "state": {
       "description": "№ of Trials",
       "layout": "IPY_MODEL_4fa4e40b6de34ebc82f3e02c46979701",
       "max": 1000,
       "min": 1,
       "style": "IPY_MODEL_f3ce05baa2bf42f1ab6e140ca7668d67",
       "value": 400
      }
     },
     "b053a00ca2cb4fb6adfd0a5b75e09386": {
      "model_module": "@jupyter-widgets/base",
      "model_module_version": "1.2.0",
      "model_name": "LayoutModel",
      "state": {}
     },
     "b0fa93ca251146dba6fe650ddf99b5c6": {
      "model_module": "@jupyter-widgets/base",
      "model_module_version": "1.2.0",
      "model_name": "LayoutModel",
      "state": {
       "width": "100%"
      }
     },
     "b151687d0d43449784954b638588cabb": {
      "model_module": "@jupyter-widgets/controls",
      "model_module_version": "1.5.0",
      "model_name": "HBoxModel",
      "state": {
       "children": [
        "IPY_MODEL_bf61e3e4ade04c6fbec661654f5716f6",
        "IPY_MODEL_a04a85c2b5ff4474b53397b58c227d8b",
        "IPY_MODEL_e16f86cae7d445e0aea02f93d53adac0",
        "IPY_MODEL_1f801147db8049b18850e57ff836f4a0"
       ],
       "layout": "IPY_MODEL_b51e7dc743be4aa4ae6fc2139d7a53c6"
      }
     },
     "b39566bf1e8c48b1a0b63297f49efbca": {
      "model_module": "@jupyter-widgets/controls",
      "model_module_version": "1.5.0",
      "model_name": "SliderStyleModel",
      "state": {
       "description_width": ""
      }
     },
     "b42d300e26904fc5bc7a4d315c52039b": {
      "model_module": "@jupyter-widgets/controls",
      "model_module_version": "1.5.0",
      "model_name": "FloatRangeSliderModel",
      "state": {
       "_model_name": "FloatRangeSliderModel",
       "_view_name": "FloatRangeSliderView",
       "description": "D<sub>32</sub>",
       "layout": "IPY_MODEL_25b17396c84d4a64874e5d61eabfcbfa",
       "max": 0.3,
       "min": 0.001,
       "step": 0.001,
       "style": "IPY_MODEL_a85740517fe34ef186e84206fc9ee284",
       "value": [
        0.1,
        0.3
       ]
      }
     },
     "b4f09ac51e664b19b72a839c03d85adf": {
      "model_module": "@jupyter-widgets/base",
      "model_module_version": "1.2.0",
      "model_name": "LayoutModel",
      "state": {}
     },
     "b51e7dc743be4aa4ae6fc2139d7a53c6": {
      "model_module": "@jupyter-widgets/base",
      "model_module_version": "1.2.0",
      "model_name": "LayoutModel",
      "state": {}
     },
     "b5a8bdf6bce5442386bcad570bcda542": {
      "model_module": "@jupyter-widgets/base",
      "model_module_version": "1.2.0",
      "model_name": "LayoutModel",
      "state": {}
     },
     "b69b5b87e73740e695a0f993c5220337": {
      "model_module": "@jupyter-widgets/controls",
      "model_module_version": "1.5.0",
      "model_name": "FloatSliderModel",
      "state": {
       "description": "β",
       "layout": "IPY_MODEL_b0fa93ca251146dba6fe650ddf99b5c6",
       "max": 0.05,
       "step": 0.001,
       "style": "IPY_MODEL_842e96f723214041aed1efc6459fbe6b",
       "value": 0.025
      }
     },
     "b7d0fc4e5ab84569a50ec77ae4feca9f": {
      "model_module": "@jupyter-widgets/base",
      "model_module_version": "1.2.0",
      "model_name": "LayoutModel",
      "state": {}
     },
     "b905fc532dd94149b3eb2a4bc4f67326": {
      "model_module": "@jupyter-widgets/controls",
      "model_module_version": "1.5.0",
      "model_name": "FloatSliderModel",
      "state": {
       "description": "D<sub>32</sub>",
       "layout": "IPY_MODEL_9fb86749436e44ddb04b49b6bc402dd9",
       "max": 0.3,
       "min": 0.001,
       "step": 0.001,
       "style": "IPY_MODEL_a95db16b850b45508e006e0885af09f2",
       "value": 0.2
      }
     },
     "bc0d857b9bee4974b964bc59559d8ba1": {
      "buffers": [
       {
        "data": "xYgRI0aMyD8EJRGURFDSPx3HcRzHccw/yR4he4Ts4T+E7BGyR8jePwGPATwG8Ng/8afBnwZ/2j/FiBEjRozYP3mb4W2Gt9k/s9bJWidr3T+TJk2aNGniP/GnwZ8Gf9o/3/V51+dd7z/ii4kvJr7YP7ds2bJly/Y/qFChQoUK1T/hwIEDBw7cP+KLiS8mvtg/QCsBrQS00j920NlBZwfdP7oC6QqkK+A//vjx48ePzz8vebnk5ZLXP7g34d6Ee9M/XGNxjcU11j/Ub1G/Rf3WP28VuVXkVtE/lp5Zembp2T/Ub1G/Rf3WP3bQ2UFnB90/SeYhmYdk3j9REkFJBCXhP6sbqW6kutE/aLSh0YZG2z/zcsnLJS/XP8LyAcsHLN8/4ouJLya+2D8=",
        "encoding": "base64",
        "path": [
         "_data",
         0,
         "x",
         "value"
        ]
       },
       {
        "data": "Rwd4wKP9NcDD/ACOXgkwwMEuJT+MjyrA/jMJIdu/L8BTmBt0ZCcywDKRuNYj7DLAQFPtOgpRNMB4L4ehp1EuwKu1c0F4mzTAUHW0UVYANsAFJ7EOl7gmwFFBx24I4jPAj9E3cp7+I8CEuSjx9+UywAQFkeNMMhbA2TVfjqU7MMDVZnrukJwywH6jqudgGyzAp/ZymVzMNMAKO9kXTeI0wDalBdnBcjXAwoQpRBDLNMBBT3jre2A4wI4TYoJFczPALO/3XeG7NMDgYpUCNDczwN/G4xE5UTTAzsaJukrVLsDwGDRs5AY2wNgFvnI7yTbAG4Yfg/CcNcB+hirdR4o1wNmKIT+GOjPAcr7WsPMGOcA0gtMIOBQ2wOYGKnLaIzXAGh4S+eZWL8A=",
        "encoding": "base64",
        "path": [
         "_data",
         0,
         "y",
         "value"
        ]
       },
       {
        "data": "fDHxxcQXwz8BjwE8BvCIPw==",
        "encoding": "base64",
        "path": [
         "_data",
         1,
         "x",
         "value"
        ]
       },
       {
        "data": "cLVTVzbTM8AAAAAAAAD4fw==",
        "encoding": "base64",
        "path": [
         "_data",
         1,
         "y",
         "value"
        ]
       },
       {
        "data": "OP/h/Ifz3z8MbzO8zfD2Pw==",
        "encoding": "base64",
        "path": [
         "_data",
         2,
         "x",
         "value"
        ]
       },
       {
        "data": "ovup9wEPLcCk/yfjkHwdwA==",
        "encoding": "base64",
        "path": [
         "_data",
         2,
         "y",
         "value"
        ]
       },
       {
        "data": "bEqxKcWm5D/R2UFnB53dPy09s/TM0vM/HcdxHMdx3D8srrG4xuLaP3wx8cXEF9M/I9WNVDdS7T98MfHFxBfTP8dTGU9lPNU//sP5D+c/3D+4N+HehHvTPw==",
        "encoding": "base64",
        "path": [
         "_data",
         3,
         "x",
         "value"
        ]
       },
       {
        "data": "LnRyTCwKLcCYbbVBaekpwIDQerKveiDAKCD9rhZYI8BeyxW7L38wwNQynejnmCrAhEeFPsdBIsDGEL3bpnUxwJyLhhnAnzTAegDWAACoI8ASyWyzaP8wwA==",
        "encoding": "base64",
        "path": [
         "_data",
         3,
         "y",
         "value"
        ]
       },
       {
        "data": "9Srg+9z+xD/kUQpBv0DCPxlMIk8F+Mg/jQvj9aDcgT/u48qDlAioP7KqL3c43b8/NaHq+FX3sT8M1grVR/WsPwmMT0nDGZk/Emhmw9lWwz+FI7fB/yWYP191+fcgULM/zQaVilADxz86d2c/6pTAP5tGxQAukrY/1SuYwwkqpj9r+SJso9eoP9v6hoGfpsg/lPq1ts/PuD8TDcPoOPDIP8PjLVKtD8E//vWtVoU8gD9ndhtdREGrPw6Z5o2DVLU/iTsTRP5hxj9h8bIEZ0KvP71HU1r4kb8/C37rNlYZsT+7zAHczNOlP9slVxjGgsY/AEgzfXzQwD9bUYgiywyaP/Ra/E3BqpM/QkAynkFbwT/0dQvqdhaqP7KIL38uZpU/KJjAxUhIwj9TuCiqNlnDP0gjmLHd07A/NEU7b+Fnxz/6tyoMTavGPzD8YW05MHk/GwwuT0Rqvj+Vx5xhGR7FPxz/BIQ05sM/5/8bCwuosT/rBodhWxK7P927wXHT+74/HF2lWn3Koz9lEYXUDselP7Yt+YkLfKU/KBCim+qctj+5AD4nWMy+P6TY94PMx6A/Eddg6EeUxT8jppAHlXqxP4NRa1LKsLs/H/wfOuofuj8W7EeevVWVP18zy8rl6LI/SCHg27NGuz9Zb94ajcy+P4cNCQVtEcY/HLue0eQ5yD+fHep9PkLGP4r2vNXQg70/JIOCaPQ+oD+kvqz74uaUPwyJaozF4XU/1x62tf1FyT/rxNqpRx2VP2CwLlsZjME/dki29gIVuz9LrN87noPIP+rrBUn396I/LvUOUj9/nD+ZARAEq/V8PyVVJFKuCsA/k9YFUqESxz8RdP1Qg0qmPwRbXW2HMJk/t98HJqw2vj87pLeTMLyxP2qu3khxAME/NucRSOfYpz8InKkPYJzCPzrGZEBu97Y/sLLbQMItuz8LQZLQG4etP9JXimN6JKU/f+BBDkVgrD8sAiBrTDjAP1PGkcqGacI/q1Mh0VoLsj+HfW+MMUDCP6gvN7wCYYw/AO0hhx2jtD9WRrV6VICxP1ZN/3nK8as/FMEB8P/QrT/cPKMnOLW3P29xnv9y9sU/TJVB4aSFuD96Im2ft5K+P7Jy4E4QmbE/ZsuOobQmuD8bdMOVyZrFP6syIUbejL0/ESS7JI1Vsj+QSsYlB7DGP02NhXTXQbM/rTHlAiFqsj/lalUgt2HHPzUN9/+6s8g/+Pk0XPlgtT9GnPdY96KJP8h6WGvMm7g/xtUsS3KFsD/3X1Rtagm9P4mQ3tdxhcQ/Z1ef53iYwD92TP7K6iOrPzHA5ZYFEZU/HJWkAT10pT8GbBf2JlKKP1cahx/jFJk/YdulIX3ApT8tceiRrBHGPw9bP1p0AME/XZ75vaGyvj/6lQiHSly/P9EA8w1Cpbo/Iri/lUDOij8CqPFwDSW7PyEvdx0tLsA/WaKzzRtbnj/OZ4WxUme8PxP1Z04IOqs/tFCJ6Q8Lxz9E9wP1We2cP5OD/Qjhs54/PE1QckJRlj9BA7iynFLIP6SwViUFjqo/k1mr+rjKyD9+1Hds1/bGP+zGwvUiAsU/McV1+cmMxj9C2LwB6SqQPxx4DyNZ3KU/nC0f/u4DxD95fJ/DLl7GPwiP335xi5s/8eTZfgy8wz+uVNjk3x3HP9qJZCEUWMM/rlH2uVqpvj+y9x/NXV7AP2tyvKQEaMU/U/+38L1Fvj9xPlFyLdqmPwAMMnw0rsE/x+1wHJK5pT9fLIT9zPPHPx87pu+viLg/OZjsCYD5qD/PcsSj1rbGP+y718KomLc/pJyYN3U+tz9rbkVntgG8PzzBTcJOBaY/0ENblNs1sD97E5PqFpKtPwirYi46fLw/Pmkqo7YtvD8av8PDTl+1P5w04b1nfMk/Gf5Ko1cUxz8B/TjJXj+9P5jNH2Hz9sc/m5hA+olLsj9KfIH4lFC1Py2P4cmW5MU/cuHYtNL1sj9s+3DneO/GP3z1bVwI4ac/+95P4c/wwj+n9ELuUIyzPzK7qdxvFcI//SK7HtIcwT+VJJcpExLCP5Z4JMMytMc/THFFZZMXxT+DXTLsSyTIP8d11dyxucg/dz+IeJCzwj+FQmQZdvuqP1NBUZltkrw/k/nNF2AdvD/0nnBrSBSJP8bGVvADVrc/zfCL/KVwyD+7DFqzNU3EPyj1iaVwIr4/TEBHj6DntT91O4+367/HP49RX/QV8ao/j50Ii1jWwj/4K4d++JPJP9+e4uXPh8Q/9r+fhT1npD90xj5eBCDJPxPXwIJYz74/RxDWBOXkuj9oeseCHw2xP4mbas/r5Lw/CichojvlwT+C5B6tAl7BP/vr6PNMo8E//s11J19Tnz8o2b0nmcO8P1b8D6soA8k/DYC1L4GyrD/yxEktlqi5P7aUU/5QbsM/WwM5L18hvz+Iix+IpLO3PywrYoV3c7A/EVPm7ap+ez+ZwW4T7jjEP3G/6GnRR6s/5ZIMGaUryT8frTKfv62sP39/J9Xot8c/hp70P+uFxj/cNC8XHx3BP6gLlZFOV5E/InPpGs0cwz8L8ltj3uXAP4dpBejYVKs/sRS/X2cvtj8aLJAYzcyqP6qaRiGa5ro/1M4BTA7/wz8ET3HEEd2WP4Bi8oyP9as/B4cd6Ta/rz8r/vv48AvGPzzcRKwfy7k//VDoYV6zpD/Yl1aTufrDP/wJs/T3asM/066d+G3Llj8YKBPgpYK+Pz0E1QeHPsA/O9cMnPsZtz8sJkrL/C6XP2OrG9/IxbU/kETqLmtfxD9Z/JbkVsKeP4Nl83qCO6A/XzZHqNzksT/daXAONUPEP8Mfyd1tRbk/gUtAZFyXvD+NI/iRSijDP9XUWNtGqsQ/dUCLmVAVsz8IujWzi1HBP+khdztU5MM/At+flZ86tD9luk1bjxrJP8hZDInv0rA/bPTIfVNlxD8jTJLdZNyxP5q5xXevW4A/scujoHsftz+zGs6iS9OsP3l27hfPLqA/F1jKRbb0kj96lXFOL1zFPybv6JVUhMk/7KH3xrzKxz9492UCSMS5P7ij5GwoqLI/Py7WBpGavD/VH6CdRsqmP3mTcZ8g0as/ISHHYymoyD+cAOKt7vXIP4F1lYEwTMU/Nfp8midSpT9l4Q1arJm6P8TDBeimdbM/LK9mhiFvvD8lyyvVwkutP6WWFLUvGrM/WXvTOk33yD9rJrgGgV65P2kC/BNRmLs/qCWHrsfCwj/4eHHteyagP7vDxQ/xyKo/msBjZVV9wz97s4gW2vSCP79Q2D32ZaU/WajDXMaaxD/WlLtRUNrBP6NlDi48QLA/F1GC7ZlSsz+hyDHdWPLIP+lc8gzbZMg/WPvFr/aYuz/91jqtP8vCP3uoHsQnsLQ/Lq0c9ENsxz/Wp3pVwp64P0bo3Ps04oo/MI7OhkbNsD9hmJiXi0S/P45A9VX2EcQ/zi+wFj3FxD/v6SHJUU3CPwhZGTMu7q4/n3OxvmDspj/5Cj/ztI22P2PU7GU2jL4/4U+lVHDKtT/1ckoBAhe/P8CPjE9vi6k/GyDnxsFHuz+0mrHDE1C7P5RG9uqVIr4/MKENVvdOdT8itI2qLP6/P1/x+s5WabI/a1Lhf/dhrD/ggXFb+PLDPy5vX+2s+pw/aX0CEL+BwD+4lSWNVP2DP8SsXPFeG8Q/RL54LL85uj+dNulOam2vP3I5A5zUsMA/HfnsIrMmyT9VrjxrK8/DP9FEogvSW5E/pJTodpnHwz+PS/FpuInFPyf4brcZP7M/JmaMYJspxz8+cvETuH/GPy8Ccsgf+7w/EqKIaGlRxD/xXW9idzOwPyMU8isYF5Y/R76IWSlxtj8ryzVzNcvGP2Rt0+b056U/ZS6jXxS3rj8zaTnxbx3DP87riOSOycE/RvXm4Fwyvj89jA663JTDPylgTDbMF7s/ZQ442E/3xz9q+3lNfx7DP6PKtI6Ox6E/La8evXoDwD9cjGjvjtXGP/n+WHJ7zbE/5WpRzhQutz8ACK7B8uC/P/IebBpgWsA/z31U3iL4rj9Pxvz15VeyP2ZvAh3Qw4s/BJMchdL7qj/pS3DkyQbJPyBwZkzSYZs/p7ni/OuPwj/iIByOTEnIPz1SVt/pnLU/vqErNredxT8QTj6z9arGP59DvoRlNsg/pMkAjzzjvT8jfwAVzYq3P81+JliSVbk/3tMdFVX+uj/Rzwo8S+nBPzbC1nYMq7M/ccTW1Zhktj8hJh7BDkq4P3X0uNqcQ8M/fY5uMBdbuj+u8QIC0FG8P5rYFRJp3ME/CV1UBaouwT8=",
        "encoding": "base64",
        "path": [
         "_data",
         4,
         "marker",
         "color",
         "value"
        ]
       },
       {
        "data": "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",
        "encoding": "base64",
        "path": [
         "_data",
         4,
         "x",
         "value"
        ]
       },
       {
        "data": "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",
        "encoding": "base64",
        "path": [
         "_data",
         4,
         "y",
         "value"
        ]
       }
      ],
      "model_module": "jupyterlab-plotly",
      "model_module_version": "^5.1.0",
      "model_name": "FigureModel",
      "state": {
       "_config": {
        "plotlyServerURL": "https://plot.ly"
       },
       "_data": [
        {
         "marker": {
          "color": "Blue",
          "opacity": 0.3,
          "symbol": "circle"
         },
         "mode": "markers",
         "name": "Mudstone",
         "text": [
          "KC-2-1",
          "KC-2-2",
          "KC-2-2.5",
          "KC-2-3",
          "KC-2-3.5",
          "KC-2-4.5",
          "KC-2-5",
          "KC-2-6",
          "KC-2-6.5",
          "KC-2-7",
          "KC-2-8",
          "KC-2-9",
          "KC-2-10",
          "KC-2-11",
          "KC-2-12",
          "KC-2-13",
          "KC-2-14",
          "KC-2-14.5",
          "KC-2-15",
          "KC-2-15.5",
          "KC-2-16",
          "KC-2-17",
          "KC-2-18",
          "KC-2-19",
          "KC-2-20",
          "KC-2-21",
          "KC-2-21.5",
          "KC-2-22",
          "KC-2-23",
          "KC-2-24",
          "KC-2-25",
          "KC-2-25.5",
          "KC-2-26",
          "KC-2-26.5",
          "KC-2-27",
          "KC-2-28",
          "KC-2-29"
         ],
         "type": "scatter",
         "uid": "1bd3b124-021e-43d2-8c4e-c06f929aa599",
         "x": {
          "dtype": "float64",
          "shape": [
           37
          ]
         },
         "y": {
          "dtype": "float64",
          "shape": [
           37
          ]
         }
        },
        {
         "marker": {
          "color": "Blue",
          "opacity": 0.3,
          "symbol": "star"
         },
         "mode": "markers",
         "name": "Carbonate",
         "text": [
          "KC-2-0",
          "KC-2-30"
         ],
         "type": "scatter",
         "uid": "1a8ea58e-4648-493b-90f0-eef07a747a6f",
         "x": {
          "dtype": "float64",
          "shape": [
           2
          ]
         },
         "y": {
          "dtype": "float64",
          "shape": [
           2
          ]
         }
        },
        {
         "marker": {
          "color": "Blue",
          "opacity": 0.3,
          "symbol": "square"
         },
         "mode": "markers",
         "name": "Pervasively pyritised regions",
         "text": [
          "KC-2-6p",
          "KC-2-22p"
         ],
         "type": "scatter",
         "uid": "71c5fe1a-d49f-4102-b6f7-61ddf7cff3af",
         "x": {
          "dtype": "float64",
          "shape": [
           2
          ]
         },
         "y": {
          "dtype": "float64",
          "shape": [
           2
          ]
         }
        },
        {
         "marker": {
          "color": "Blue",
          "opacity": 0.3,
          "symbol": "diamond"
         },
         "mode": "markers",
         "name": "Bed 22",
         "text": [
          "KC-3-A",
          "KC-3-B",
          "KC-3-C",
          "KC-3-D",
          "KC-3-E",
          "KC-3-F",
          "KC-3-G",
          "KC-3-H",
          "KC-3-I",
          "KC-3-J",
          "KC-3-K"
         ],
         "type": "scatter",
         "uid": "44ee758a-306c-4645-8ce5-b06ecb1ee29c",
         "x": {
          "dtype": "float64",
          "shape": [
           11
          ]
         },
         "y": {
          "dtype": "float64",
          "shape": [
           11
          ]
         }
        },
        {
         "marker": {
          "color": {
           "dtype": "float64",
           "shape": [
            400
           ]
          },
          "coloraxis": "coloraxis",
          "line": {
           "color": "Black",
           "width": 1
          },
          "opacity": 0.7,
          "size": 8
         },
         "mode": "markers",
         "name": "Trials",
         "text": [
          "0",
          "1",
          "2",
          "3",
          "4",
          "5",
          "6",
          "7",
          "8",
          "9",
          "10",
          "11",
          "12",
          "13",
          "14",
          "15",
          "16",
          "17",
          "18",
          "19",
          "20",
          "21",
          "22",
          "23",
          "24",
          "25",
          "26",
          "27",
          "28",
          "29",
          "30",
          "31",
          "32",
          "33",
          "34",
          "35",
          "36",
          "37",
          "38",
          "39",
          "40",
          "41",
          "42",
          "43",
          "44",
          "45",
          "46",
          "47",
          "48",
          "49",
          "50",
          "51",
          "52",
          "53",
          "54",
          "55",
          "56",
          "57",
          "58",
          "59",
          "60",
          "61",
          "62",
          "63",
          "64",
          "65",
          "66",
          "67",
          "68",
          "69",
          "70",
          "71",
          "72",
          "73",
          "74",
          "75",
          "76",
          "77",
          "78",
          "79",
          "80",
          "81",
          "82",
          "83",
          "84",
          "85",
          "86",
          "87",
          "88",
          "89",
          "90",
          "91",
          "92",
          "93",
          "94",
          "95",
          "96",
          "97",
          "98",
          "99",
          "100",
          "101",
          "102",
          "103",
          "104",
          "105",
          "106",
          "107",
          "108",
          "109",
          "110",
          "111",
          "112",
          "113",
          "114",
          "115",
          "116",
          "117",
          "118",
          "119",
          "120",
          "121",
          "122",
          "123",
          "124",
          "125",
          "126",
          "127",
          "128",
          "129",
          "130",
          "131",
          "132",
          "133",
          "134",
          "135",
          "136",
          "137",
          "138",
          "139",
          "140",
          "141",
          "142",
          "143",
          "144",
          "145",
          "146",
          "147",
          "148",
          "149",
          "150",
          "151",
          "152",
          "153",
          "154",
          "155",
          "156",
          "157",
          "158",
          "159",
          "160",
          "161",
          "162",
          "163",
          "164",
          "165",
          "166",
          "167",
          "168",
          "169",
          "170",
          "171",
          "172",
          "173",
          "174",
          "175",
          "176",
          "177",
          "178",
          "179",
          "180",
          "181",
          "182",
          "183",
          "184",
          "185",
          "186",
          "187",
          "188",
          "189",
          "190",
          "191",
          "192",
          "193",
          "194",
          "195",
          "196",
          "197",
          "198",
          "199",
          "200",
          "201",
          "202",
          "203",
          "204",
          "205",
          "206",
          "207",
          "208",
          "209",
          "210",
          "211",
          "212",
          "213",
          "214",
          "215",
          "216",
          "217",
          "218",
          "219",
          "220",
          "221",
          "222",
          "223",
          "224",
          "225",
          "226",
          "227",
          "228",
          "229",
          "230",
          "231",
          "232",
          "233",
          "234",
          "235",
          "236",
          "237",
          "238",
          "239",
          "240",
          "241",
          "242",
          "243",
          "244",
          "245",
          "246",
          "247",
          "248",
          "249",
          "250",
          "251",
          "252",
          "253",
          "254",
          "255",
          "256",
          "257",
          "258",
          "259",
          "260",
          "261",
          "262",
          "263",
          "264",
          "265",
          "266",
          "267",
          "268",
          "269",
          "270",
          "271",
          "272",
          "273",
          "274",
          "275",
          "276",
          "277",
          "278",
          "279",
          "280",
          "281",
          "282",
          "283",
          "284",
          "285",
          "286",
          "287",
          "288",
          "289",
          "290",
          "291",
          "292",
          "293",
          "294",
          "295",
          "296",
          "297",
          "298",
          "299",
          "300",
          "301",
          "302",
          "303",
          "304",
          "305",
          "306",
          "307",
          "308",
          "309",
          "310",
          "311",
          "312",
          "313",
          "314",
          "315",
          "316",
          "317",
          "318",
          "319",
          "320",
          "321",
          "322",
          "323",
          "324",
          "325",
          "326",
          "327",
          "328",
          "329",
          "330",
          "331",
          "332",
          "333",
          "334",
          "335",
          "336",
          "337",
          "338",
          "339",
          "340",
          "341",
          "342",
          "343",
          "344",
          "345",
          "346",
          "347",
          "348",
          "349",
          "350",
          "351",
          "352",
          "353",
          "354",
          "355",
          "356",
          "357",
          "358",
          "359",
          "360",
          "361",
          "362",
          "363",
          "364",
          "365",
          "366",
          "367",
          "368",
          "369",
          "370",
          "371",
          "372",
          "373",
          "374",
          "375",
          "376",
          "377",
          "378",
          "379",
          "380",
          "381",
          "382",
          "383",
          "384",
          "385",
          "386",
          "387",
          "388",
          "389",
          "390",
          "391",
          "392",
          "393",
          "394",
          "395",
          "396",
          "397",
          "398",
          "399"
         ],
         "type": "scatter",
         "uid": "6e9026c3-5981-43b7-8c68-1acdd82ae948",
         "x": {
          "dtype": "float64",
          "shape": [
           400
          ]
         },
         "y": {
          "dtype": "float64",
          "shape": [
           400
          ]
         }
        }
       ],
       "_js2py_pointsCallback": {},
       "_js2py_relayout": {},
       "_js2py_restyle": {},
       "_js2py_update": {},
       "_last_layout_edit_id": 10,
       "_last_trace_edit_id": 9,
       "_layout": {
        "coloraxis": {
         "colorbar": {
          "ticks": "outside",
          "title": {
           "text": "v<sub>sed</sub>"
          }
         },
         "colorscale": [
          [
           0,
           "#fde725"
          ],
          [
           0.1111111111111111,
           "#b5de2b"
          ],
          [
           0.2222222222222222,
           "#6ece58"
          ],
          [
           0.3333333333333333,
           "#35b779"
          ],
          [
           0.4444444444444444,
           "#1f9e89"
          ],
          [
           0.5555555555555556,
           "#26828e"
          ],
          [
           0.6666666666666666,
           "#31688e"
          ],
          [
           0.7777777777777778,
           "#3e4989"
          ],
          [
           0.8888888888888888,
           "#482878"
          ],
          [
           1,
           "#440154"
          ]
         ]
        },
        "height": 600,
        "legend": {
         "x": 1.2,
         "xanchor": "left",
         "y": 1,
         "yanchor": "top"
        },
        "margin": {
         "l": 100
        },
        "template": {
         "layout": {
          "bargap": 0.05,
          "bargroupgap": 0,
          "font": {
           "color": "black",
           "family": "Segoe UI",
           "size": 17
          },
          "height": 700,
          "hovermode": "closest",
          "margin": {
           "b": 60,
           "l": 60,
           "r": 30,
           "t": 30
          },
          "scene": {
           "xaxis": {
            "color": "black",
            "linewidth": 2,
            "showline": true,
            "ticks": "outside"
           },
           "yaxis": {
            "color": "black",
            "linewidth": 2,
            "showline": true,
            "ticks": "outside"
           },
           "zaxis": {
            "color": "black",
            "linewidth": 2,
            "showline": true,
            "ticks": "outside"
           }
          },
          "xaxis": {
           "color": "black",
           "linewidth": 1.3,
           "mirror": true,
           "showgrid": true,
           "showline": true,
           "ticks": "outside",
           "zeroline": true
          },
          "yaxis": {
           "color": "black",
           "linewidth": 1.3,
           "mirror": true,
           "showgrid": true,
           "showline": true,
           "ticks": "outside",
           "zeroline": true
          }
         }
        },
        "width": 1000,
        "xaxis": {
         "rangemode": "tozero",
         "title": {
          "text": "[FeS<sub>2</sub>] / mol dm<sup>−3</sup>"
         }
        },
        "yaxis": {
         "title": {
          "text": "δ<sup>34</sup>S<sub>py</sub> (‰)"
         }
        }
       },
       "_py2js_animate": {},
       "_py2js_deleteTraces": {},
       "_py2js_moveTraces": {},
       "_py2js_removeLayoutProps": {},
       "_py2js_removeTraceProps": {},
       "_view_count": 1
      }
     },
     "bd6bb8e03ca742f9bab82487fa254603": {
      "model_module": "@jupyter-widgets/base",
      "model_module_version": "1.2.0",
      "model_name": "LayoutModel",
      "state": {
       "width": "100%"
      }
     },
     "bdb19dc2c6bf46598c636ef46dfb1c39": {
      "model_module": "@jupyter-widgets/controls",
      "model_module_version": "1.5.0",
      "model_name": "FloatSliderModel",
      "state": {
       "description": "δ<sup>34</sup>S<sub>SO4, 0</sub>",
       "layout": "IPY_MODEL_7aadc4f62120481c8f356704cfdb623b",
       "max": 30,
       "step": 0.1,
       "style": "IPY_MODEL_31a3d4004dc344f086843bb3a3409d8a",
       "value": 23
      }
     },
     "bdbea6b0741048c3b08cd6314ce976a2": {
      "model_module": "@jupyter-widgets/controls",
      "model_module_version": "1.5.0",
      "model_name": "SliderStyleModel",
      "state": {
       "description_width": ""
      }
     },
     "bed5c7b5e2c74dc7a119b514ec1b8fdb": {
      "model_module": "@jupyter-widgets/base",
      "model_module_version": "1.2.0",
      "model_name": "LayoutModel",
      "state": {
       "width": "100%"
      }
     },
     "bf61e3e4ade04c6fbec661654f5716f6": {
      "model_module": "@jupyter-widgets/controls",
      "model_module_version": "1.5.0",
      "model_name": "DropdownModel",
      "state": {
       "_options_labels": [
        "SO4_0",
        "py_0",
        "d34S_SO4_0",
        "epsilon_MSR",
        "k_MSR",
        "v",
        "D_32",
        "beta",
        "max_z",
        "dz"
       ],
       "description": "Vary",
       "index": 5,
       "layout": "IPY_MODEL_c287400fe9e3490396d93bac3b1f6190",
       "style": "IPY_MODEL_047d88b5015846a59f8c441749f1723b"
      }
     },
     "c02791c93d2f43409a09e2ccdeaf8ec1": {
      "model_module": "@jupyter-widgets/controls",
      "model_module_version": "1.5.0",
      "model_name": "FloatSliderModel",
      "state": {
       "description": "dz",
       "layout": "IPY_MODEL_98319e8fcff2414c8273f74eb7c48b1d",
       "max": 0.1,
       "min": 0.001,
       "step": 0.001,
       "style": "IPY_MODEL_0afa8d23d3484ab88e5508a5001b667f",
       "value": 0.01
      }
     },
     "c27d46f88a9a466992fd9e46f7125a5a": {
      "model_module": "@jupyter-widgets/output",
      "model_module_version": "1.0.0",
      "model_name": "OutputModel",
      "state": {
       "layout": "IPY_MODEL_7baeda4f294743869c8290b1db56dc05"
      }
     },
     "c287400fe9e3490396d93bac3b1f6190": {
      "model_module": "@jupyter-widgets/base",
      "model_module_version": "1.2.0",
      "model_name": "LayoutModel",
      "state": {
       "width": "200px"
      }
     },
     "c3d54e420e4648159dad428b25c6e78f": {
      "model_module": "@jupyter-widgets/controls",
      "model_module_version": "1.5.0",
      "model_name": "FloatSliderModel",
      "state": {
       "description": "v<sub>sed</sub>",
       "layout": "IPY_MODEL_bd6bb8e03ca742f9bab82487fa254603",
       "max": 0.5,
       "min": 0.001,
       "step": 0.001,
       "style": "IPY_MODEL_8af31fdb434d474a814ff07f16776673",
       "value": 0.12
      }
     },
     "c421622f2ee84a29983dcfbbb91780ec": {
      "model_module": "@jupyter-widgets/controls",
      "model_module_version": "1.5.0",
      "model_name": "FloatSliderModel",
      "state": {
       "description": "z<sub>max</sub>",
       "layout": "IPY_MODEL_f2d25b74b7a5440d920e671316ec89a5",
       "max": 10,
       "min": 0.01,
       "step": 0.01,
       "style": "IPY_MODEL_fc3643e436594b2381f0a3f1133e50ce",
       "value": 1.5
      }
     },
     "c536779067a042bd91dcc5598693bc90": {
      "model_module": "@jupyter-widgets/controls",
      "model_module_version": "1.5.0",
      "model_name": "FloatSliderModel",
      "state": {
       "description": "[Fe<sub>tot</sub>]",
       "layout": "IPY_MODEL_942c4c1e420d483aa9213c8e7a1427e0",
       "max": 15,
       "step": 0.1,
       "style": "IPY_MODEL_afd6ef769d044eb7ab8bd89a469df43d",
       "value": 4
      }
     },
     "c543ddb5c6c64b0d86f513041f318ab7": {
      "model_module": "@jupyter-widgets/controls",
      "model_module_version": "1.5.0",
      "model_name": "SliderStyleModel",
      "state": {
       "description_width": ""
      }
     },
     "c55aacc7cf5d41e2a9b20aa2499abd13": {
      "model_module": "@jupyter-widgets/base",
      "model_module_version": "1.2.0",
      "model_name": "LayoutModel",
      "state": {
       "width": "100%"
      }
     },
     "c638321179724c478f9ad508c8e02d53": {
      "model_module": "@jupyter-widgets/controls",
      "model_module_version": "1.5.0",
      "model_name": "SliderStyleModel",
      "state": {
       "description_width": ""
      }
     },
     "c8c50b18fa9e4deba16b86bb617812ee": {
      "model_module": "@jupyter-widgets/controls",
      "model_module_version": "1.5.0",
      "model_name": "HBoxModel",
      "state": {
       "children": [
        "IPY_MODEL_34eacacb5c454d0597362558cd1d2715",
        "IPY_MODEL_c3d54e420e4648159dad428b25c6e78f"
       ],
       "layout": "IPY_MODEL_a321fe08f2674066b381da862c3a12a2"
      }
     },
     "c96823e3fcf5480697d44236e0921e08": {
      "model_module": "@jupyter-widgets/controls",
      "model_module_version": "1.5.0",
      "model_name": "SliderStyleModel",
      "state": {
       "description_width": ""
      }
     },
     "cb29d421a06a48dc82a686a2a363351d": {
      "model_module": "@jupyter-widgets/controls",
      "model_module_version": "1.5.0",
      "model_name": "CheckboxModel",
      "state": {
       "description": "Plot Residuals",
       "disabled": false,
       "layout": "IPY_MODEL_5efec3661afa4c0796a1dcedfec9305b",
       "style": "IPY_MODEL_0bb9e589200c40ce832bd063f5cd9a3a",
       "value": false
      }
     },
     "cda4825f3cca4c28b6913aa032b42cf9": {
      "model_module": "@jupyter-widgets/controls",
      "model_module_version": "1.5.0",
      "model_name": "HBoxModel",
      "state": {
       "children": [
        "IPY_MODEL_b905fc532dd94149b3eb2a4bc4f67326",
        "IPY_MODEL_530aac0f361040308e5379cd00bda346"
       ],
       "layout": "IPY_MODEL_2225bc54861f4ed78ac9b86d0f3df2cd"
      }
     },
     "cf1e4229afe04811b4711c2313c6ceb4": {
      "model_module": "@jupyter-widgets/output",
      "model_module_version": "1.0.0",
      "model_name": "OutputModel",
      "state": {
       "layout": "IPY_MODEL_46e9ffae3e1a47b3b92aca01d1fa207d",
       "outputs": [
        {
         "name": "stdout",
         "output_type": "stream",
         "text": "Final [py]: 0.2246\nFinal d34S: -23.0985\n"
        }
       ]
      }
     },
     "cfea889f5d6b442f911fda6d9fd659e8": {
      "model_module": "@jupyter-widgets/controls",
      "model_module_version": "1.5.0",
      "model_name": "SliderStyleModel",
      "state": {
       "description_width": ""
      }
     },
     "d04cd82042de4eeba2dd35baa9138a48": {
      "model_module": "@jupyter-widgets/controls",
      "model_module_version": "1.5.0",
      "model_name": "SliderStyleModel",
      "state": {
       "description_width": ""
      }
     },
     "d0c616598dc94f828c75d69b87bd7efd": {
      "model_module": "@jupyter-widgets/controls",
      "model_module_version": "1.5.0",
      "model_name": "HBoxModel",
      "state": {
       "children": [
        "IPY_MODEL_d40ff764a1084ee799b2cbdf66846490",
        "IPY_MODEL_7e1942273852459c8b2ff985dff1c19b"
       ],
       "layout": "IPY_MODEL_e6831184e087466eaa97e93d447a623f"
      }
     },
     "d40ff764a1084ee799b2cbdf66846490": {
      "model_module": "@jupyter-widgets/controls",
      "model_module_version": "1.5.0",
      "model_name": "FloatSliderModel",
      "state": {
       "description": "z<sub>max</sub>",
       "layout": "IPY_MODEL_e38826e1aac24b339e40aca733afb94e",
       "max": 10,
       "min": 0.01,
       "step": 0.01,
       "style": "IPY_MODEL_c543ddb5c6c64b0d86f513041f318ab7",
       "value": 1.5
      }
     },
     "d4f6d41e6e314e1ebc48f31b5094b602": {
      "model_module": "@jupyter-widgets/base",
      "model_module_version": "1.2.0",
      "model_name": "LayoutModel",
      "state": {}
     },
     "d50baf1ad7444d0a8449a8d6d9e2da4a": {
      "model_module": "@jupyter-widgets/base",
      "model_module_version": "1.2.0",
      "model_name": "LayoutModel",
      "state": {}
     },
     "d50d6b3493dc4168bf40a019749acb35": {
      "model_module": "@jupyter-widgets/base",
      "model_module_version": "1.2.0",
      "model_name": "LayoutModel",
      "state": {
       "width": "100%"
      }
     },
     "d719b7ba989e47d0ab43fb78716b02eb": {
      "model_module": "@jupyter-widgets/base",
      "model_module_version": "1.2.0",
      "model_name": "LayoutModel",
      "state": {
       "width": "200px"
      }
     },
     "d88832e2aca34bdf9ca127a9ead649ee": {
      "model_module": "@jupyter-widgets/controls",
      "model_module_version": "1.5.0",
      "model_name": "SliderStyleModel",
      "state": {
       "description_width": ""
      }
     },
     "ddc494b83dd341e888614eed58c8f0ad": {
      "model_module": "@jupyter-widgets/controls",
      "model_module_version": "1.5.0",
      "model_name": "FloatSliderModel",
      "state": {
       "description": "[FeS<sub>2</sub>]<sub>0</sub>",
       "layout": "IPY_MODEL_862b3a213eec4a44a575d4dcf9fabccf",
       "max": 1,
       "step": 0.0025,
       "style": "IPY_MODEL_a1c9734d76b44e4abbdd39ab850a02b4",
       "value": 0.16
      }
     },
     "dfee9438100a460587fdb90ca54eb414": {
      "model_module": "@jupyter-widgets/controls",
      "model_module_version": "1.5.0",
      "model_name": "FloatSliderModel",
      "state": {
       "description": "ε<sub>MSR</sub>",
       "layout": "IPY_MODEL_d50d6b3493dc4168bf40a019749acb35",
       "style": "IPY_MODEL_a5a23eca1dcc4b70b77a3990438ef084",
       "value": 54
      }
     },
     "e16f86cae7d445e0aea02f93d53adac0": {
      "model_module": "@jupyter-widgets/controls",
      "model_module_version": "1.5.0",
      "model_name": "FloatTextModel",
      "state": {
       "description": "to",
       "layout": "IPY_MODEL_c287400fe9e3490396d93bac3b1f6190",
       "step": 0.1,
       "style": "IPY_MODEL_7948097a39504e22b1e447448bd7cf0d",
       "value": 0.2
      }
     },
     "e181bd9456b04acb84545dc5e904510f": {
      "model_module": "@jupyter-widgets/base",
      "model_module_version": "1.2.0",
      "model_name": "LayoutModel",
      "state": {}
     },
     "e3094260b34643a1b00a23b6049e7c80": {
      "model_module": "@jupyter-widgets/base",
      "model_module_version": "1.2.0",
      "model_name": "LayoutModel",
      "state": {
       "width": "100%"
      }
     },
     "e38826e1aac24b339e40aca733afb94e": {
      "model_module": "@jupyter-widgets/base",
      "model_module_version": "1.2.0",
      "model_name": "LayoutModel",
      "state": {
       "width": "100%"
      }
     },
     "e388a6377a7348d2a84e37ecb936fb78": {
      "model_module": "@jupyter-widgets/base",
      "model_module_version": "1.2.0",
      "model_name": "LayoutModel",
      "state": {
       "width": "100%"
      }
     },
     "e4292a327602466aa47a2c02b2cc5333": {
      "model_module": "@jupyter-widgets/controls",
      "model_module_version": "1.5.0",
      "model_name": "FloatRangeSliderModel",
      "state": {
       "_model_name": "FloatRangeSliderModel",
       "_view_name": "FloatRangeSliderView",
       "description": "v<sub>sed</sub>",
       "layout": "IPY_MODEL_88c3381b88c04f94b84b4241a7ddd787",
       "max": 0.5,
       "min": 0.001,
       "step": 0.001,
       "style": "IPY_MODEL_2e84ec10fb034303aa69cd776223ce67",
       "value": [
        0.005,
        0.2
       ]
      }
     },
     "e6831184e087466eaa97e93d447a623f": {
      "model_module": "@jupyter-widgets/base",
      "model_module_version": "1.2.0",
      "model_name": "LayoutModel",
      "state": {}
     },
     "e7f77a63f6a845bcb9461cec91cefd18": {
      "model_module": "@jupyter-widgets/controls",
      "model_module_version": "1.5.0",
      "model_name": "SliderStyleModel",
      "state": {
       "description_width": ""
      }
     },
     "ea2195f7676d4e7dbabfeddce4500272": {
      "model_module": "@jupyter-widgets/controls",
      "model_module_version": "1.5.0",
      "model_name": "FloatSliderModel",
      "state": {
       "description": "dz",
       "layout": "IPY_MODEL_5fdd4f6f07144ef1a6e5c75204bbc474",
       "max": 0.1,
       "min": 0.001,
       "step": 0.001,
       "style": "IPY_MODEL_bdbea6b0741048c3b08cd6314ce976a2",
       "value": 0.01
      }
     },
     "eaf6daf46f964c9685fa6ec201fce8d2": {
      "model_module": "@jupyter-widgets/base",
      "model_module_version": "1.2.0",
      "model_name": "LayoutModel",
      "state": {}
     },
     "ec02ba5cd50f4a3fa8580c3275470e36": {
      "model_module": "@jupyter-widgets/base",
      "model_module_version": "1.2.0",
      "model_name": "LayoutModel",
      "state": {}
     },
     "eebb1702556a4e4780806a1381f74284": {
      "model_module": "@jupyter-widgets/controls",
      "model_module_version": "1.5.0",
      "model_name": "DescriptionStyleModel",
      "state": {
       "description_width": ""
      }
     },
     "f1cbf911d595496d8d0ab0ca106ab7b8": {
      "model_module": "@jupyter-widgets/controls",
      "model_module_version": "1.5.0",
      "model_name": "SliderStyleModel",
      "state": {
       "description_width": ""
      }
     },
     "f2413f00b4db412d9e60c80d7307cb30": {
      "model_module": "@jupyter-widgets/controls",
      "model_module_version": "1.5.0",
      "model_name": "SliderStyleModel",
      "state": {
       "description_width": ""
      }
     },
     "f2a800907e6f4d46a5706f2d0f958b83": {
      "model_module": "@jupyter-widgets/base",
      "model_module_version": "1.2.0",
      "model_name": "LayoutModel",
      "state": {}
     },
     "f2d25b74b7a5440d920e671316ec89a5": {
      "model_module": "@jupyter-widgets/base",
      "model_module_version": "1.2.0",
      "model_name": "LayoutModel",
      "state": {
       "width": "100%"
      }
     },
     "f301a3bb5e534414b452a181bec5722e": {
      "model_module": "@jupyter-widgets/controls",
      "model_module_version": "1.5.0",
      "model_name": "CheckboxModel",
      "state": {
       "description": "Plot syn-depositional pyrite",
       "disabled": false,
       "layout": "IPY_MODEL_93f47795e6eb4aa1af08763c1f659d0e",
       "style": "IPY_MODEL_4873a3a69b5f4a62a39256556420761f",
       "value": true
      }
     },
     "f3ce05baa2bf42f1ab6e140ca7668d67": {
      "model_module": "@jupyter-widgets/controls",
      "model_module_version": "1.5.0",
      "model_name": "SliderStyleModel",
      "state": {
       "description_width": ""
      }
     },
     "f4c3d52665ae4f75b586e15518fb5724": {
      "model_module": "@jupyter-widgets/controls",
      "model_module_version": "1.5.0",
      "model_name": "VBoxModel",
      "state": {
       "children": [
        "IPY_MODEL_a59b74366f9647628bbee5029a5d021e",
        "IPY_MODEL_5dc721bc7a40451ea70f7f4e4971cc41",
        "IPY_MODEL_49e62de49dc94167bd471edd8f5ab76a",
        "IPY_MODEL_0a409639d05047cdbaf9224ce46cde07",
        "IPY_MODEL_d0c616598dc94f828c75d69b87bd7efd",
        "IPY_MODEL_b151687d0d43449784954b638588cabb",
        "IPY_MODEL_93ea28565e21413c95378d6090757665"
       ],
       "layout": "IPY_MODEL_72163fa9d3b942eb978a11c7c5b01b64"
      }
     },
     "f4ea6b817ec1408b987ce4bd61d4e236": {
      "model_module": "@jupyter-widgets/output",
      "model_module_version": "1.0.0",
      "model_name": "OutputModel",
      "state": {
       "layout": "IPY_MODEL_eaf6daf46f964c9685fa6ec201fce8d2"
      }
     },
     "f696b58d395a40f0af97d3e75cc4961f": {
      "model_module": "@jupyter-widgets/base",
      "model_module_version": "1.2.0",
      "model_name": "LayoutModel",
      "state": {
       "width": "100%"
      }
     },
     "f738690eab6c483fba6260f53cc7c084": {
      "model_module": "@jupyter-widgets/controls",
      "model_module_version": "1.5.0",
      "model_name": "DescriptionStyleModel",
      "state": {
       "description_width": ""
      }
     },
     "f9f658d516164547b30e30bf96e294ce": {
      "model_module": "@jupyter-widgets/controls",
      "model_module_version": "1.5.0",
      "model_name": "HBoxModel",
      "state": {
       "children": [
        "IPY_MODEL_110c8587f68842fdbdee6407f408c04c",
        "IPY_MODEL_ae19723f5ff04a439ca4258dca97e12e",
        "IPY_MODEL_274e0c37da404bb8ac5a6acfbf71bb86"
       ],
       "layout": "IPY_MODEL_22e94e16a372425198c25e874728e047"
      }
     },
     "fc3643e436594b2381f0a3f1133e50ce": {
      "model_module": "@jupyter-widgets/controls",
      "model_module_version": "1.5.0",
      "model_name": "SliderStyleModel",
      "state": {
       "description_width": ""
      }
     },
     "fc7e366ad8e1455e9f78096112ce1870": {
      "model_module": "@jupyter-widgets/controls",
      "model_module_version": "1.5.0",
      "model_name": "HBoxModel",
      "state": {
       "children": [
        "IPY_MODEL_0af85707cdc9410fb5b7598f90141879",
        "IPY_MODEL_478762ac10b546dcb207f6a1bdbf3a34"
       ],
       "layout": "IPY_MODEL_28585a3a620744b8b8637057e55c83a7"
      }
     },
     "fe37b678dcaf4018b1ebb5a6e4375ffb": {
      "model_module": "@jupyter-widgets/base",
      "model_module_version": "1.2.0",
      "model_name": "LayoutModel",
      "state": {}
     },
     "ff11facbfe924065924c3b5512944e14": {
      "model_module": "@jupyter-widgets/controls",
      "model_module_version": "1.5.0",
      "model_name": "SliderStyleModel",
      "state": {
       "description_width": ""
      }
     }
    },
    "version_major": 2,
    "version_minor": 0
   }
  }
 },
 "nbformat": 4,
 "nbformat_minor": 4
}
