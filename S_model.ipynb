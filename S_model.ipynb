{
 "cells": [
  {
   "cell_type": "markdown",
   "metadata": {},
   "source": [
    "# Sulphur Isotope Model"
   ]
  },
  {
   "cell_type": "markdown",
   "metadata": {
    "tags": []
   },
   "source": [
    "## General definitions"
   ]
  },
  {
   "cell_type": "code",
   "execution_count": 1,
   "metadata": {},
   "outputs": [],
   "source": [
    "import numpy as np\n",
    "import pandas as pd\n",
    "import ipywidgets as wdg\n",
    "from plotly_default import go, graph_config, sel_trace\n",
    "from plotly.subplots import make_subplots\n",
    "from scipy.integrate import solve_bvp\n",
    "import random\n",
    "# import plotly.io as pio"
   ]
  },
  {
   "cell_type": "code",
   "execution_count": 2,
   "metadata": {},
   "outputs": [],
   "source": [
    "# Conversion between isotope ratios and delta notation\n",
    "\n",
    "VCDT = 0.0441626 # vienna canyon diablo troilite standard 34S/32S ratio\n",
    "\n",
    "def delta_to_R(delta, std=VCDT):\n",
    "    '''Takes in a d34S; outputs a 34S/32S ratio'''\n",
    "    return std * ((delta/1000) + 1)\n",
    "\n",
    "def R_to_delta(R, std=VCDT):\n",
    "    '''Takes in a 34S/32S ratio; outputs the d34S'''\n",
    "    return 1000*((R/std) - 1)\n",
    "\n",
    "def wt_to_M(wt, Mr=55.845, density=1.7):\n",
    "    '''Converts a weight percent of a substance with molar mass Mr (default iron) into a molar concentration\n",
    "    in a sediment of specified density (default 1.7 g/cm³)'''\n",
    "    # g/dm³  = 1000 * g/cm³ = 1000 * density * wt% / 100 = 10 * density * wt%\n",
    "    return 10. * density * wt / Mr\n",
    "\n",
    "def M_to_wt(M, Mr=55.845, density=1.7):\n",
    "    return M * Mr / (10. * density)\n",
    "\n",
    "def ratio_to_concs(R, C):\n",
    "    '''Takes a ratio of two concentrations R = a/b\n",
    "    and a total concentration C = a + b\n",
    "    and returns an (a, b) tuple'''\n",
    "    return (C/(1 + 1/R) , C/(1+R))\n",
    "\n",
    "# The number of seconds in 1 thousand years\n",
    "s_in_ka = 1000 * 365.24 * 24 * 60 * 60"
   ]
  },
  {
   "cell_type": "code",
   "execution_count": 3,
   "metadata": {
    "tags": []
   },
   "outputs": [],
   "source": [
    "# Read in real data\n",
    "log_df=pd.read_csv('./Data/Log_data_combined.csv', index_col=0)\n",
    "\n",
    "cat_symbols = {'Mudstone': 'circle',\n",
    "               'Carbonate': 'star',\n",
    "               'Pervasively pyritised regions': 'square',\n",
    "               'Bed 22': 'diamond'}\n",
    "categories = list(cat_symbols.keys())\n",
    "\n",
    "# log_df"
   ]
  },
  {
   "cell_type": "code",
   "execution_count": 4,
   "metadata": {
    "tags": []
   },
   "outputs": [],
   "source": [
    "# Set up widgets\n",
    "w_df = pd.read_csv('./Data/GDE_parameters_v2.csv')\n",
    "\n",
    "\n",
    "def create_sliders(w_df, prefix='w'):\n",
    "    w_dict = {}\n",
    "\n",
    "    for w in w_df.iterrows():\n",
    "\n",
    "        # Make a new variable for each widget\n",
    "        vars()[prefix+'_'+w[1].var_name] = wdg.FloatSlider(value = w[1].value,\n",
    "                                                     min = w[1].start,\n",
    "                                                     max = w[1].stop,\n",
    "                                                     step = w[1].step,\n",
    "                                                     description = w[1].display_name,\n",
    "                                                     layout=wdg.Layout(width='100%')\n",
    "                                                    )\n",
    "\n",
    "        # Add to a dictionary of original variables and widgets\n",
    "        w_dict[w[1].var_name] = vars()[prefix+'_'+w[1].var_name]\n",
    "    \n",
    "    return w_dict"
   ]
  },
  {
   "cell_type": "markdown",
   "metadata": {},
   "source": [
    "## Solving the steady-state General Diagenetic Equation\n",
    "\n",
    "$y$  | represents   | <div style=\"width:100px\">value at $z=0$</div> | <div style=\"width:100px\"> value at $z=z_\\mathrm{max}$</div>\n",
    "-----|--------------------------------------------------|--------------------------|-----------------------------\n",
    "$y_0$|$[\\mathrm{^{34}SO_4}]$                            |$[\\mathrm{^{34}SO_4}]_0$  |?? $(\\approx 0)$\n",
    "$y_1$|$\\frac{\\partial[\\mathrm{^{34}SO_4}]}{\\partial z}$ |??                        |$0$\n",
    "$y_2$|$[\\mathrm{^{32}SO_4}]$                            |$[\\mathrm{^{32}SO_4}]_0$  |?? $(\\approx 0)$\n",
    "$y_3$|$\\frac{\\partial[\\mathrm{^{32}SO_4}]}{\\partial z}$ |??                        |$0$\n",
    "$y_4$|$[\\mathrm{Fe^{34}S_2}]$                           |$[\\mathrm{Fe^{34}S_2}]_0$ |??\n",
    "$y_5$|$[\\mathrm{Fe^{32}S_2}]$                           |$[\\mathrm{Fe^{32}S_2}]_0$ |??\n",
    "\n",
    "$$\\frac{\\partial y_0}{\\partial z} = y_1$$\n",
    "\n",
    "$$\\frac{\\partial y_1}{\\partial z} = \\left( vy_1 + \\frac{k_\\mathrm{MSR}\\left(y_0 y_2 + y_0^2\\right)}{\\frac{y_2}{\\alpha} + y_0} \\right)/D_{34}$$\n",
    "\n",
    "$$\\frac{\\partial y_2}{\\partial z} = y_3$$\n",
    "\n",
    "$$\\frac{\\partial y_3}{\\partial z} = \\left( vy_3 + \\frac{k_\\mathrm{MSR}\\left(y_2^2 + y_0 y_2\\right)}{\\alpha y_0 + y_2} \\right)/D_{32}$$\n",
    "\n",
    "$$\\frac{\\partial y_4}{\\partial z} = \\frac{k_\\mathrm{MSR}\\left(y_0 y_2 + y_0^2\\right)}{2v\\left(\\frac{y_2}{\\alpha} + y_0\\right)}$$\n",
    "\n",
    "$$\\frac{\\partial y_5}{\\partial z} = \\frac{k_\\mathrm{MSR}\\left(y_2^2 + y_0 y_2\\right)}{2v\\left(\\alpha y_0 + y_2\\right)}$$"
   ]
  },
  {
   "cell_type": "code",
   "execution_count": 5,
   "metadata": {},
   "outputs": [],
   "source": [
    "def solve_GDE(zs, SO4_0, py_0, d34S_SO4_0, epsilon_MSR, k_MSR, beta, D_32, v):\n",
    "    '''Solves the system of general diagenetic equations listed above,\n",
    "    for the array of depths in zs, and returns a 2D array of y values\n",
    "    (rows for each yi; cols are values of yi for each z)'''\n",
    "    \n",
    "    R_SO4_0 = delta_to_R(d34S_SO4_0) \n",
    "    a_MSR = delta_to_R(d34S_SO4_0 - epsilon_MSR)/R_SO4_0 # MSR fractionation factor    \n",
    "    R_py_0 = delta_to_R(d34S_SO4_0)*a_MSR # add ability to tweak in future?\n",
    "    \n",
    "    # weight-dependent diffusion coefficients (Wortmann & Chernyavsky, 2011)\n",
    "    D_34 = D_32 * (98/96)**(-beta)\n",
    "    \n",
    "    SO4_34_0 , SO4_32_0 = ratio_to_concs(R_SO4_0, SO4_0)\n",
    "    py_34_0  , py_32_0  = ratio_to_concs(R_py_0, py_0)\n",
    "    \n",
    "    # Define the ODEs and boundary conditions for the chosen parameters\n",
    "    def SS_ODEs(x,y):\n",
    "        '''The right-hand side of the steady state general diagenetic equations'''\n",
    "        return np.vstack([\n",
    "            y[1,:], # = dy[0,:]/dz\n",
    "            (v*y[1,:] + k_MSR*(y[0,:]*y[2,:] + y[0,:]**2)/((y[2,:]/a_MSR) + y[0,:]))/D_34, # = dy[1,:]/dz\n",
    "            y[3,:], # = dy[2,:]/dz\n",
    "            (v*y[3,:] + k_MSR*(y[2,:]**2 + y[0,:]*y[2,:])/((a_MSR*y[0,:]) + y[2,:]))/D_32, # = dy[3,:]/dz\n",
    "            k_MSR*(y[0,:]*y[2,:] + y[0,:]**2)/(2*v*((y[2,:]/a_MSR) + y[0,:])), # = dy[4,:]/dz\n",
    "            k_MSR*(y[2,:]**2 + y[0,:]*y[2,:])/(2*v*((a_MSR*y[0,:]) + y[2,:])) # = dy[5,:]/dz\n",
    "        ])    \n",
    "    \n",
    "    def SS_bcs(ya, yb):\n",
    "        '''The GDE boundary condition residuals, i.e. all the terms involving ya should be\n",
    "        zero at z=0, and all the terms involving yb should be zero at z=max_z'''\n",
    "        return np.array([\n",
    "            ya[0] - SO4_34_0,\n",
    "            yb[1] - 0,\n",
    "            ya[2] - SO4_32_0,\n",
    "            yb[3] - 0,\n",
    "            ya[4] - py_34_0,\n",
    "            ya[5] - py_32_0\n",
    "        ])\n",
    "    \n",
    "    # Set up initial array of concentrations to iterate the solution from\n",
    "    y0s = np.ones((6,len(zs)))\n",
    "    \n",
    "    # Use SciPy's boundary value problem solver to solve the steady state ODEs\n",
    "    SS_sol = solve_bvp(SS_ODEs, SS_bcs, zs, y0s)\n",
    "    \n",
    "    # Extract the yi from the solution and return it\n",
    "    return SS_sol.y\n",
    "\n",
    "\n",
    "\n",
    "def update_GDE_plot(plot, SO4_0, py_0, d34S_SO4_0, epsilon_MSR, k_MSR, beta, D_32, v, max_z, dz=0.01, plot_time=False):\n",
    "    \n",
    "    with plot.batch_update():\n",
    "\n",
    "        zs = np.arange(0, max_z, dz) # values of z to plot over.\n",
    "\n",
    "        concs = solve_GDE(zs, SO4_0, py_0, d34S_SO4_0, epsilon_MSR, k_MSR, beta, D_32, v)\n",
    "\n",
    "        SO4_34s = concs[0,:]\n",
    "        SO4_32s = concs[2,:]\n",
    "        py_34s  = concs[4,:]\n",
    "        py_32s  = concs[5,:]\n",
    "\n",
    "\n",
    "        # Convert to concentrations and d34S\n",
    "        SO4s = SO4_34s + SO4_32s\n",
    "        pys = py_34s + py_32s\n",
    "\n",
    "        d34S_SO4s = []\n",
    "        d34S_pys = []\n",
    "\n",
    "        isotope_tolerance = 1e-12 # mol/dm^3: if numbers below this point, add none to d34S list\n",
    "        max_SO4_d34S = 100 # don't plot any sulphate isotopes larger than this\n",
    "        # (n.b. this doesn't affect calculations of other quantities)\n",
    "        SO4_d34S_valid = True\n",
    "\n",
    "        for SO4_34, SO4_32, py_34, py_32 in zip(SO4_34s, SO4_32s, py_34s, py_32s):\n",
    "            if (SO4_32 > isotope_tolerance) and SO4_d34S_valid:\n",
    "                d34S_SO4 = R_to_delta(SO4_34/SO4_32)\n",
    "                d34S_SO4s.append(d34S_SO4)\n",
    "                if d34S_SO4 > max_SO4_d34S: # once threshold is exceeded stop plotting d34S_SO4\n",
    "                    SO4_d34S_valid = False\n",
    "            else:\n",
    "                d34S_SO4s.append(None)\n",
    "\n",
    "            if py_32 > isotope_tolerance:\n",
    "                d34S_pys.append(R_to_delta(py_34/py_32))\n",
    "            else:\n",
    "                d34S_pys.append(None)\n",
    "\n",
    "        if plot_time:\n",
    "            zs = zs/v\n",
    "            plot.update_layout(yaxis_title='Time after burial, <i>t</i> / ka')\n",
    "        else:\n",
    "            plot.update_layout(yaxis_title='Depth, <i>z</i> / m')\n",
    "\n",
    "        # Get the traces of the graph we want to modify\n",
    "        traces_list = sel_trace(plot, ['[SO<sub>4</sub>]', '[FeS<sub>2</sub>]', 'δ<sup>34</sup>S<sub>SO4</sub>', 'δ<sup>34</sup>S<sub>py</sub>'])\n",
    "        # Unpack into their own variables\n",
    "        SO4_tr, py_tr, d34S_SO4_tr, d34S_py_tr = traces_list\n",
    "\n",
    "        # Set x coordinates\n",
    "        SO4_tr.x = SO4s\n",
    "        py_tr.x = pys\n",
    "        d34S_SO4_tr.x = d34S_SO4s\n",
    "        d34S_py_tr.x = d34S_pys\n",
    "\n",
    "        # Set y coordinates\n",
    "        for tr in traces_list:\n",
    "            tr.y = zs\n",
    "\n",
    "        # final_py, final_d34S = get_py_d34S(SO4_0, py_0, d34S_SO4_0, epsilon_MSR, k_MSR, beta, D_32, v, dz, max_z)\n",
    "        print('Final [py]: {:.4f}'.format(pys[-1]))\n",
    "        print('Final d34S: {:.4f}'.format(d34S_pys[-1]))"
   ]
  },
  {
   "cell_type": "markdown",
   "metadata": {},
   "source": [
    "#### Parameters\n",
    "\n",
    "Quantity | Name in Code | Value | Unit | Reference\n",
    "----:----|------:-------|------:|:-----|----:-----\n",
    "Sulphate concentration in seawater | `SO4_0` | 0.0105 | mol dm<sup>−3</sup> | Horita *et al.* (2002)\n",
    "Concentration of syn-depositional pyrite in sediment | `py_0` | ?? | mol dm<sup>−3</sup> |\n",
    "Isotopic composition of seawater sulphate | `d34S_SO4_0` | 15 ~ 17 | ‰ | Kampschulte & Strauss (2004)\n",
    "Microbial sulphate reduction fractionation amount at surface |`epsilon_MSR` | 0 ~ 66 | ‰ | Fike *et al.* (2016)\n",
    "Rate constant for sulphate reduction | `k_MSR` | 7 | ka<sup>−1</sup> | Egger *et al.* (2016)\n",
    "Amount of mass dependency for diffusion coefficients | `beta` | 0 ~ 0.05 | (dimensionless) | Wortmann & Chernyavsky (2011)\n",
    "Diffusivity of <sup>32</sup>SO<sub>4</sub> | `D_32` | ≈ 0.126 | m<sup>2 </sup>ka<sup>−1</sup> | Jørgensen (1979)\n",
    "Sedimentation rate | `v` | ≈ 0.08 | m ka<sup>−1</sup> | Gallois (2004)\n",
    "Max depth to run simulation to | `max_z` | (until δ<sup>34</sup>S<sub>py</sub> stabilises)| m |"
   ]
  },
  {
   "cell_type": "code",
   "execution_count": 6,
   "metadata": {},
   "outputs": [
    {
     "data": {
      "application/vnd.jupyter.widget-view+json": {
       "model_id": "d2380f0687ef45ccb9bfd86488eb3c0d",
       "version_major": 2,
       "version_minor": 0
      },
      "text/plain": [
       "VBox(children=(HBox(children=(FloatSlider(value=0.0105, description='[SO<sub>4</sub>]<sub>0</sub>', layout=Lay…"
      ]
     },
     "metadata": {},
     "output_type": "display_data"
    },
    {
     "data": {
      "application/vnd.jupyter.widget-view+json": {
       "model_id": "dc974abe306144dea95be28e093288fc",
       "version_major": 2,
       "version_minor": 0
      },
      "text/plain": [
       "Output()"
      ]
     },
     "metadata": {},
     "output_type": "display_data"
    },
    {
     "data": {
      "application/vnd.jupyter.widget-view+json": {
       "model_id": "20b332a034204731b27f0187e8c1e30e",
       "version_major": 2,
       "version_minor": 0
      },
      "text/plain": [
       "FigureWidget({\n",
       "    'data': [{'marker': {'color': 'RoyalBlue'},\n",
       "              'mode': 'lines',\n",
       "              'n…"
      ]
     },
     "metadata": {},
     "output_type": "display_data"
    }
   ],
   "source": [
    "GDE_plot = go.FigureWidget(make_subplots(rows=1, cols=2, shared_yaxes=True, horizontal_spacing=0.01))\n",
    "GDE_plot.add_trace(go.Scatter(name='[SO<sub>4</sub>]', marker_color='RoyalBlue', mode='lines'), row=1, col=1)\n",
    "GDE_plot.add_trace(go.Scatter(name='[FeS<sub>2</sub>]', marker_color='MediumSeaGreen', mode='lines'), row=1, col=1)\n",
    "GDE_plot.add_trace(go.Scatter(name='δ<sup>34</sup>S<sub>SO4</sub>', marker_color='Navy', mode='lines'), row=1, col=2)\n",
    "GDE_plot.add_trace(go.Scatter(name='δ<sup>34</sup>S<sub>py</sub>', marker_color='DarkGreen', mode='lines'), row=1, col=2)\n",
    "\n",
    "GDE_plot.update_layout(\n",
    "    yaxis=dict(autorange='reversed', rangemode='tozero', title='Depth, <i>z</i> / m'),\n",
    "    hovermode='y',\n",
    "    margin=dict(t=60),\n",
    "    width=1000, height=600\n",
    "    )\n",
    "\n",
    "GDE_plot.update_xaxes(title_text='Concentration / mol dm<sup>−3</sup>', row=1, col=1)\n",
    "GDE_plot.update_xaxes(title_text='δ<sup>34</sup>S (‰)', row=1, col=2)\n",
    "\n",
    "# create widgets\n",
    "w_d = create_sliders(w_df, prefix='w')\n",
    "\n",
    "w_plot_time = wdg.Checkbox(value=False, description='Plot time on y axis')\n",
    "\n",
    "# set up widget layout\n",
    "GDE_ui = wdg.VBox([wdg.HBox([w_d['SO4_0'], w_d['d34S_SO4_0']]),\n",
    "                   wdg.HBox([w_d['py_0'], w_d['v']]),\n",
    "                   wdg.HBox([w_d['epsilon_MSR'], w_d['k_MSR']]),\n",
    "                   wdg.HBox([w_d['D_32'], w_d['beta']]),\n",
    "                   wdg.HBox([w_d['max_z'], w_d['dz']]),\n",
    "                   w_plot_time\n",
    "                  ])\n",
    "\n",
    "GDE_args = {**w_d, \n",
    "            'plot': wdg.fixed(GDE_plot),\n",
    "            'plot_time': w_plot_time}\n",
    "\n",
    "GDE_output = wdg.interactive_output(update_GDE_plot, GDE_args)\n",
    "\n",
    "display(GDE_ui, GDE_output)\n",
    "\n",
    "GDE_plot"
   ]
  },
  {
   "cell_type": "code",
   "execution_count": 7,
   "metadata": {},
   "outputs": [],
   "source": [
    "# GDE_plot.update_xaxes(row=1, col=1, range=[0,0.3])"
   ]
  },
  {
   "cell_type": "code",
   "execution_count": 8,
   "metadata": {
    "tags": []
   },
   "outputs": [],
   "source": [
    "#GDE_plot.write_image('./images/GDE_example.svg')"
   ]
  },
  {
   "cell_type": "code",
   "execution_count": 9,
   "metadata": {
    "tags": []
   },
   "outputs": [],
   "source": [
    "def get_py_d34S(SO4_0, py_0, d34S_SO4_0, epsilon_MSR, k_MSR, beta, D_32, v, dz, max_z):\n",
    "    '''Returns the final pyrite concentration and its d34S given the appropriate initial conditions'''\n",
    "    \n",
    "    zs = np.arange(0, max_z, dz) # values of z to plot over.\n",
    "    \n",
    "    concs = solve_GDE(zs, SO4_0, py_0, d34S_SO4_0, epsilon_MSR, k_MSR, beta, D_32, v)\n",
    "    \n",
    "    # Final amounts of py32 and py34\n",
    "    py_34  = concs[4,-1]\n",
    "    py_32  = concs[5,-1]\n",
    "    \n",
    "    py = py_34 + py_32\n",
    "    d34S = R_to_delta(py_34/py_32)\n",
    "    \n",
    "    return py, d34S\n",
    "\n",
    "\n",
    "def update_var_plot(plot, varying, vstart, vstop, vstep, SO4_0, py_0, d34S_SO4_0, epsilon_MSR, k_MSR, beta, D_32, v, dz, max_z, plot_SDP, plot_noSDP):\n",
    "    \n",
    "    with plot.batch_update():\n",
    "    \n",
    "        # Create dictionary of parameters\n",
    "        params = {}\n",
    "        for w in w_df.iterrows():\n",
    "            param = w[1].var_name\n",
    "            params[param] = locals()[param] # locals() get the actual variables put into the function\n",
    "\n",
    "    #     print(params)\n",
    "\n",
    "        pys = []\n",
    "        d34Ss = []\n",
    "        texts = []\n",
    "\n",
    "        vary_range = np.arange(vstart, vstop, vstep)\n",
    "\n",
    "        for var in vary_range:\n",
    "\n",
    "            # Update the appropriate parameter to its value in the iterations\n",
    "            params[varying] = var\n",
    "\n",
    "            py, d34S = get_py_d34S(**params)\n",
    "\n",
    "            pys.append(py)\n",
    "            d34Ss.append(d34S)\n",
    "            texts.append('{}: {:.5f}'.format(varying, var))\n",
    "\n",
    "    #         print('{}: {:.5f}'.format(varying, vars()[varying]))\n",
    "    #         print('[py]: {:.4f}'.format(py))\n",
    "    #         print('d34S: {:.4f}\\n'.format(d34S))\n",
    "\n",
    "        model_tr = sel_trace(plot, 'Model')\n",
    "\n",
    "        # plot.update_traces(x=pys, y=d34Ss, text=texts, marker_color=vary_range, selector=dict(name='Model'))\n",
    "        model_tr.x = pys\n",
    "        model_tr.y = d34Ss\n",
    "        model_tr.text = texts\n",
    "        model_tr.marker.color = vary_range\n",
    "\n",
    "        SDP_tr = sel_trace(plot, 'Syn-Depositional Pyrite')\n",
    "        if plot_SDP:\n",
    "            SDP_tr.x = [py_0]\n",
    "            SDP_tr.y = [d34S_SO4_0 - epsilon_MSR]\n",
    "            SDP_tr.text = ['{:.2f} wt% Fe<sub>py, 0</sub>'.format(M_to_wt(py_0))]\n",
    "            SDP_tr.visible = True\n",
    "\n",
    "        else:\n",
    "            SDP_tr.visible = False\n",
    "\n",
    "\n",
    "        noSDP_tr = sel_trace(plot, 'Model (no py<sub>0</sub>)')\n",
    "        if plot_noSDP:\n",
    "            # recalculate model with no syn-depositional pyrite\n",
    "            pys_na = []\n",
    "            d34Ss_na = []\n",
    "            texts_na = []\n",
    "\n",
    "            params_na = params\n",
    "            params_na['py_0'] = 0 # set to no syn-depositional pyrite\n",
    "\n",
    "            for var in vary_range:\n",
    "\n",
    "                # Update the appropriate parameter to its value in the iterations\n",
    "                params_na[varying] = var\n",
    "\n",
    "                py, d34S = get_py_d34S(**params_na)\n",
    "\n",
    "                pys_na.append(py)\n",
    "                d34Ss_na.append(d34S)\n",
    "                texts_na.append('{}: {:.5f}'.format(varying, var))\n",
    "\n",
    "    #         plot.update_traces(x=pys_na, y=d34Ss_na, text=texts_na, marker_color=vary_range,\n",
    "    #                            visible=True, selector=dict(name='Model (no py<sub>0</sub>)'))\n",
    "            noSDP_tr.x = pys_na\n",
    "            noSDP_tr.y = d34Ss_na\n",
    "            noSDP_tr.text = texts_na\n",
    "            noSDP_tr.marker.color = vary_range\n",
    "            noSDP_tr.visible = True\n",
    "\n",
    "        else:\n",
    "            noSDP_tr.visible = False\n",
    "\n",
    "        # change colour bar title\n",
    "        plot.layout.coloraxis.colorbar.title = list(w_df[w_df.var_name==varying].display_name)[0]"
   ]
  },
  {
   "cell_type": "code",
   "execution_count": 10,
   "metadata": {},
   "outputs": [
    {
     "data": {
      "application/vnd.jupyter.widget-view+json": {
       "model_id": "077f5920df654bec980ae36be838a295",
       "version_major": 2,
       "version_minor": 0
      },
      "text/plain": [
       "VBox(children=(HBox(children=(FloatSlider(value=0.0105, description='[SO<sub>4</sub>]<sub>0</sub>', layout=Lay…"
      ]
     },
     "metadata": {},
     "output_type": "display_data"
    },
    {
     "data": {
      "application/vnd.jupyter.widget-view+json": {
       "model_id": "7579be5ae69b4c2c9371cdc85af9e96d",
       "version_major": 2,
       "version_minor": 0
      },
      "text/plain": [
       "Output()"
      ]
     },
     "metadata": {},
     "output_type": "display_data"
    },
    {
     "data": {
      "application/vnd.jupyter.widget-view+json": {
       "model_id": "65d17edf67674484993bea20466e9fe1",
       "version_major": 2,
       "version_minor": 0
      },
      "text/plain": [
       "FigureWidget({\n",
       "    'data': [{'marker': {'color': 'Blue', 'opacity': 0.3, 'symbol': 'circle'},\n",
       "              'm…"
      ]
     },
     "metadata": {},
     "output_type": "display_data"
    }
   ],
   "source": [
    "# Set up plot\n",
    "var_plot=go.FigureWidget()\n",
    "\n",
    "var_plot.update_layout(\n",
    "    yaxis=dict(title='δ<sup>34</sup>S<sub>py</sub> (‰)'),\n",
    "    xaxis=dict(title='[FeS<sub>2</sub>] / mol dm<sup>−3</sup>', rangemode='tozero'),\n",
    "    legend=dict(yanchor=\"top\", y=1, xanchor=\"left\", x=1.2),\n",
    "    margin=dict(l=100),\n",
    "    width=1000, height=600,\n",
    "    coloraxis=dict(colorscale='viridis_r', colorbar_ticks='outside')\n",
    "    )\n",
    "\n",
    "# Add the real data\n",
    "for category in categories:\n",
    "    cat_df = log_df[log_df.category == category]\n",
    "    var_plot.add_trace(go.Scatter(x = cat_df.Fe_py.apply(wt_to_M), y=cat_df.d34S,\n",
    "                                  text = cat_df.name,\n",
    "                                  mode='markers',\n",
    "                                  marker_color='Blue',\n",
    "                                  marker_opacity=0.3,\n",
    "                                  marker_symbol=cat_symbols[category],\n",
    "                                  name=category))\n",
    "\n",
    "var_plot.add_trace(go.Scatter(name='Model', mode='lines+markers', marker_coloraxis='coloraxis',\n",
    "                              marker_line_color='DarkGreen', marker_line_width=1, line_color='DarkGreen'))\n",
    "var_plot.add_trace(go.Scatter(name='Model (no py<sub>0</sub>)', mode='lines+markers', marker_coloraxis='coloraxis',\n",
    "                              marker_line_color='Orange', marker_line_width=1, line_color='Orange'))\n",
    "var_plot.add_trace(go.Scatter(name='Syn-Depositional Pyrite', mode='markers',\n",
    "                              marker_color='Purple', marker_symbol='square'))\n",
    "\n",
    "# create widgets\n",
    "field_layout = wdg.Layout(width='200px')\n",
    "\n",
    "v_d = create_sliders(w_df, prefix='v')\n",
    "v_varying=wdg.Dropdown(options=w_df.var_name, description='Vary', layout=field_layout, value='v')\n",
    "v_vstart=wdg.FloatText(value=0.005, step=0.01, description='from', layout=field_layout)\n",
    "v_vstop=wdg.FloatText(value=0.2, step=0.1, description='to', layout=field_layout)\n",
    "v_vstep=wdg.FloatText(value=0.005, step=0.01, description='step', layout=field_layout)\n",
    "v_plot_SDP = wdg.Checkbox(value=True, description='Plot syn-depositional pyrite')\n",
    "v_plot_noSDP = wdg.Checkbox(value=False, description='Plot curve w/o syn-depositional pyrite')\n",
    "\n",
    "# set up widget layout\n",
    "var_ui = wdg.VBox([wdg.HBox([v_d['SO4_0'], v_d['d34S_SO4_0']]),\n",
    "                   wdg.HBox([v_d['py_0'], v_d['v']]),\n",
    "                   wdg.HBox([v_d['epsilon_MSR'], v_d['k_MSR']]),\n",
    "                   wdg.HBox([v_d['D_32'], v_d['beta']]),\n",
    "                   wdg.HBox([v_d['max_z'], v_d['dz']]),\n",
    "                   wdg.HBox([v_varying, v_vstart, v_vstop, v_vstep]),\n",
    "                   wdg.HBox([v_plot_SDP, v_plot_noSDP])\n",
    "                  ])\n",
    "\n",
    "var_args = {**v_d, \n",
    "            'plot': wdg.fixed(var_plot),\n",
    "            'varying':v_varying,\n",
    "            'vstart':v_vstart,\n",
    "            'vstop':v_vstop,\n",
    "            'vstep':v_vstep,\n",
    "            'plot_SDP': v_plot_SDP,\n",
    "            'plot_noSDP': v_plot_noSDP\n",
    "           }\n",
    "\n",
    "var_output = wdg.interactive_output(update_var_plot, var_args)\n",
    "\n",
    "display(var_ui, var_output)\n",
    "\n",
    "var_plot"
   ]
  },
  {
   "cell_type": "code",
   "execution_count": 11,
   "metadata": {},
   "outputs": [],
   "source": [
    "# var_plot.write_image('./images/varying_SO4.svg')"
   ]
  },
  {
   "cell_type": "markdown",
   "metadata": {},
   "source": [
    "### Modelling Iron Speciation with the same parameters"
   ]
  },
  {
   "cell_type": "code",
   "execution_count": 12,
   "metadata": {},
   "outputs": [],
   "source": [
    "def update_Fe_spec(plot, SO4_0, py_0, d34S_SO4_0, epsilon_MSR, k_MSR, beta, D_32, v, dz, max_z, Fe_tot, plot_residuals):\n",
    "    \n",
    "    with plot.batch_update():\n",
    "\n",
    "        # Calculate how much pyrite is produced\n",
    "        py, d34S = get_py_d34S(SO4_0, py_0, d34S_SO4_0, epsilon_MSR, k_MSR, beta, D_32, v, dz, max_z)\n",
    "        Fe_py = M_to_wt(py)\n",
    "        Fe_py_0 = M_to_wt(py_0)\n",
    "\n",
    "        # update model line\n",
    "        HR_tot_0 = np.linspace(0.01,1,50) # Increase last number for higher resolution\n",
    "\n",
    "        HR_0 = HR_tot_0 * Fe_tot\n",
    "        py_HR_t = py/HR_0\n",
    "        \n",
    "        model_tr = sel_trace(plot, 'model (const. total Fe)')\n",
    "        model_tr.x = HR_tot_0\n",
    "        model_tr.y = py_HR_t\n",
    "\n",
    "\n",
    "        # update data points\n",
    "        for category in categories:\n",
    "            cat_df = log_df[log_df.category == category]\n",
    "\n",
    "            py_HR_points = list(Fe_py/cat_df['Fe_HR'])\n",
    "\n",
    "            py_0_HR = list(Fe_py_0/cat_df['Fe_HR'])\n",
    "\n",
    "            for i in range(len(py_HR_points)):\n",
    "                if py_HR_points[i] > 1:\n",
    "                    py_HR_points[i] = 1\n",
    "                    \n",
    "            modelled_tr = sel_trace(plot, category+' (modelled)')\n",
    "            modelled_tr.x = cat_df['HR_to_tot']\n",
    "            modelled_tr.y = py_HR_points\n",
    "\n",
    "            plot.update_traces(selector=dict(name=category+' (pre-diagenesis)'),\n",
    "                               x=cat_df['HR_to_tot'], y=py_0_HR)\n",
    "            \n",
    "            pre_dia_tr = sel_trace(plot, category+' (pre-diagenesis)')\n",
    "            pre_dia_tr.x = cat_df['HR_to_tot']\n",
    "            pre_dia_tr.y = py_0_HR\n",
    "            \n",
    "            residuals = sel_trace(plot, category+' (residuals)')\n",
    "            if plot_residuals:\n",
    "                residuals.x = cat_df['HR_to_tot']\n",
    "                residuals.y = cat_df['py_to_HR'] - py_HR_points\n",
    "                residuals.visible = True\n",
    "            else:\n",
    "                residuals.visible = False\n",
    "\n",
    "#         if plot_residuals:\n",
    "#             plot.update_layout(yaxis_range=[-0.5,1])\n",
    "#         else:\n",
    "#             plot.update_layout(yaxis_range=[0,1])\n",
    "    \n",
    "    # plot.show(config=graph_config)"
   ]
  },
  {
   "cell_type": "code",
   "execution_count": 13,
   "metadata": {},
   "outputs": [
    {
     "data": {
      "application/vnd.jupyter.widget-view+json": {
       "model_id": "fc472485a15345febab34dd8b86a0fc6",
       "version_major": 2,
       "version_minor": 0
      },
      "text/plain": [
       "VBox(children=(HBox(children=(FloatSlider(value=0.0105, description='[SO<sub>4</sub>]<sub>0</sub>', layout=Lay…"
      ]
     },
     "metadata": {},
     "output_type": "display_data"
    },
    {
     "data": {
      "application/vnd.jupyter.widget-view+json": {
       "model_id": "8ec2655b51fd450a9af26aea33206b6d",
       "version_major": 2,
       "version_minor": 0
      },
      "text/plain": [
       "Output()"
      ]
     },
     "metadata": {},
     "output_type": "display_data"
    },
    {
     "data": {
      "application/vnd.jupyter.widget-view+json": {
       "model_id": "243e87441c714e4bbf6b913f4f8793ae",
       "version_major": 2,
       "version_minor": 0
      },
      "text/plain": [
       "FigureWidget({\n",
       "    'data': [{'legendgroup': 'Mudstone',\n",
       "              'marker': {'color': 'Purple', 'opacity':…"
      ]
     },
     "metadata": {},
     "output_type": "display_data"
    }
   ],
   "source": [
    "# Modelling pyritisation of real data\n",
    "psn_model=go.FigureWidget()\n",
    "\n",
    "# for HR_to_tot in list(log_df.HR_to_tot):\n",
    "#     psn_model.add_vline(HR_to_tot, line_width=0.5, line_color='Lavender')\n",
    "\n",
    "for category in categories: \n",
    "    \n",
    "    cat_df = log_df[log_df.category == category]\n",
    "\n",
    "    graph_texts = []\n",
    "    for d in cat_df.iterrows():\n",
    "        graph_texts.append(d[1]['name'])\n",
    "    \n",
    "    # Current locations of samples in Fe speciation space\n",
    "    \n",
    "    psn_model.add_trace(go.Scatter(mode='markers',\n",
    "                                   marker_symbol=cat_symbols[category],\n",
    "                                   marker_color='Purple',\n",
    "                                   marker_opacity=0.3,\n",
    "                                   name=category+' (pre-diagenesis)',\n",
    "                                   text=graph_texts,\n",
    "                                   legendgroup=category))\n",
    "    \n",
    "    psn_model.add_trace(go.Scatter(mode='markers',\n",
    "                                   marker_symbol=cat_symbols[category],\n",
    "                                   marker_color='Green',\n",
    "                                   name=category+' (modelled)',\n",
    "                                   text=graph_texts,\n",
    "                                   legendgroup=category))\n",
    "\n",
    "    psn_model.add_trace(go.Scatter(x=cat_df['HR_to_tot'], y=cat_df['py_to_HR'],\n",
    "                                   mode='markers',\n",
    "                                   marker_symbol=cat_symbols[category],\n",
    "                                   marker_color='Blue',\n",
    "                                   marker_opacity=0.3,\n",
    "                                   name=category+' (post-diagenesis)',\n",
    "                                   text=graph_texts,\n",
    "                                   legendgroup=category))    \n",
    "    \n",
    "    psn_model.add_trace(go.Scatter(mode='markers',\n",
    "                                   marker_symbol=cat_symbols[category],\n",
    "                                   marker_color='FireBrick',\n",
    "                                   name=category+' (residuals)',\n",
    "                                   text=graph_texts,\n",
    "                                   legendgroup=category))\n",
    "    \n",
    "    \n",
    "psn_model.add_trace(go.Scatter(name='model (const. total Fe)',\n",
    "                               line_color='LightGreen'))\n",
    "\n",
    "psn_model.update_layout(xaxis_range=[0,1], yaxis_range=[0,1],\n",
    "                        width=900, height=600)\n",
    "psn_model.add_hline(0.8, line_width=1, line_dash='dash')\n",
    "psn_model.add_vline(0.38, line_width=1, line_dash='dash')\n",
    "psn_model.update_layout(xaxis_title='[Fe<sub>HR</sub>]/[Fe<sub>tot</sub>]',\n",
    "                        yaxis_title='[Fe<sub>py</sub>]/[Fe<sub>HR</sub>]',\n",
    "                        legend=dict(#itemsizing='constant',\n",
    "                                    font_size=11))\n",
    "\n",
    "\n",
    "# Create widgets\n",
    "s_d = create_sliders(w_df, prefix='s')\n",
    "s_Fe_tot=wdg.FloatSlider(value=4, min=0, max=15, description='[Fe<sub>tot</sub>]', layout=wdg.Layout(width='100%')) # Total Fe for simple model curve\n",
    "s_plot_residuals=wdg.Checkbox(value=False, description='Plot Residuals')\n",
    "\n",
    "spec_ui = wdg.VBox([wdg.HBox([s_d['SO4_0'], s_d['d34S_SO4_0']]),\n",
    "                   wdg.HBox([s_d['py_0'], s_d['v']]),\n",
    "                   wdg.HBox([s_d['epsilon_MSR'], s_d['k_MSR']]),\n",
    "                   wdg.HBox([s_d['D_32'], s_d['beta']]),\n",
    "                   wdg.HBox([s_d['max_z'], s_d['dz']]),\n",
    "                   wdg.HBox([s_Fe_tot, s_plot_residuals])])\n",
    "\n",
    "spec_args={**s_d, 'Fe_tot': s_Fe_tot, 'plot_residuals': s_plot_residuals, 'plot': wdg.fixed(psn_model)}\n",
    "\n",
    "spec_out = wdg.interactive_output(update_Fe_spec, spec_args)\n",
    "\n",
    "display(spec_ui, spec_out)\n",
    "\n",
    "psn_model"
   ]
  },
  {
   "cell_type": "markdown",
   "metadata": {},
   "source": [
    "## Monte-Carlo Simulation"
   ]
  },
  {
   "cell_type": "code",
   "execution_count": 14,
   "metadata": {},
   "outputs": [],
   "source": [
    "def create_range_sliders(w_df, prefix='wr'):\n",
    "    w_dict = {}\n",
    "\n",
    "    for w in w_df.iterrows():\n",
    "\n",
    "        # Make a new variable for each widget\n",
    "        vars()[prefix+'_'+w[1].var_name] = wdg.FloatRangeSlider(value = [w[1].value, w[1].value],\n",
    "                                                                min = w[1].start,\n",
    "                                                                max = w[1].stop,\n",
    "                                                                step = w[1].step,\n",
    "                                                                description = w[1].display_name,\n",
    "                                                                layout=wdg.Layout(width='100%')\n",
    "                                                               )\n",
    "\n",
    "        # Add to a dictionary of original variables and widgets\n",
    "        w_dict[w[1].var_name] = vars()[prefix+'_'+w[1].var_name]\n",
    "    \n",
    "    return w_dict"
   ]
  },
  {
   "cell_type": "code",
   "execution_count": 15,
   "metadata": {},
   "outputs": [
    {
     "data": {
      "text/html": [
       "<div>\n",
       "<style scoped>\n",
       "    .dataframe tbody tr th:only-of-type {\n",
       "        vertical-align: middle;\n",
       "    }\n",
       "\n",
       "    .dataframe tbody tr th {\n",
       "        vertical-align: top;\n",
       "    }\n",
       "\n",
       "    .dataframe thead th {\n",
       "        text-align: right;\n",
       "    }\n",
       "</style>\n",
       "<table border=\"1\" class=\"dataframe\">\n",
       "  <thead>\n",
       "    <tr style=\"text-align: right;\">\n",
       "      <th></th>\n",
       "      <th>var_name</th>\n",
       "      <th>value</th>\n",
       "      <th>start</th>\n",
       "      <th>stop</th>\n",
       "      <th>step</th>\n",
       "      <th>display_name</th>\n",
       "    </tr>\n",
       "  </thead>\n",
       "  <tbody>\n",
       "    <tr>\n",
       "      <th>0</th>\n",
       "      <td>SO4_0</td>\n",
       "      <td>0.0105</td>\n",
       "      <td>0.001</td>\n",
       "      <td>0.30</td>\n",
       "      <td>0.0010</td>\n",
       "      <td>[SO&lt;sub&gt;4&lt;/sub&gt;]&lt;sub&gt;0&lt;/sub&gt;</td>\n",
       "    </tr>\n",
       "    <tr>\n",
       "      <th>1</th>\n",
       "      <td>py_0</td>\n",
       "      <td>0.1600</td>\n",
       "      <td>0.000</td>\n",
       "      <td>1.00</td>\n",
       "      <td>0.0025</td>\n",
       "      <td>[FeS&lt;sub&gt;2&lt;/sub&gt;]&lt;sub&gt;0&lt;/sub&gt;</td>\n",
       "    </tr>\n",
       "    <tr>\n",
       "      <th>2</th>\n",
       "      <td>d34S_SO4_0</td>\n",
       "      <td>23.0000</td>\n",
       "      <td>0.000</td>\n",
       "      <td>30.00</td>\n",
       "      <td>0.1000</td>\n",
       "      <td>δ&lt;sup&gt;34&lt;/sup&gt;S&lt;sub&gt;SO4, 0&lt;/sub&gt;</td>\n",
       "    </tr>\n",
       "    <tr>\n",
       "      <th>3</th>\n",
       "      <td>epsilon_MSR</td>\n",
       "      <td>54.0000</td>\n",
       "      <td>0.000</td>\n",
       "      <td>100.00</td>\n",
       "      <td>1.0000</td>\n",
       "      <td>ε&lt;sub&gt;MSR&lt;/sub&gt;</td>\n",
       "    </tr>\n",
       "    <tr>\n",
       "      <th>4</th>\n",
       "      <td>k_MSR</td>\n",
       "      <td>10.0000</td>\n",
       "      <td>0.000</td>\n",
       "      <td>40.00</td>\n",
       "      <td>0.1000</td>\n",
       "      <td>k&lt;sub&gt;MSR&lt;/sub&gt;</td>\n",
       "    </tr>\n",
       "    <tr>\n",
       "      <th>5</th>\n",
       "      <td>v</td>\n",
       "      <td>0.1200</td>\n",
       "      <td>0.001</td>\n",
       "      <td>0.50</td>\n",
       "      <td>0.0010</td>\n",
       "      <td>v&lt;sub&gt;sed&lt;/sub&gt;</td>\n",
       "    </tr>\n",
       "    <tr>\n",
       "      <th>6</th>\n",
       "      <td>D_32</td>\n",
       "      <td>0.2000</td>\n",
       "      <td>0.001</td>\n",
       "      <td>0.30</td>\n",
       "      <td>0.0010</td>\n",
       "      <td>D&lt;sub&gt;32&lt;/sub&gt;</td>\n",
       "    </tr>\n",
       "    <tr>\n",
       "      <th>7</th>\n",
       "      <td>beta</td>\n",
       "      <td>0.0250</td>\n",
       "      <td>0.000</td>\n",
       "      <td>0.05</td>\n",
       "      <td>0.0010</td>\n",
       "      <td>β</td>\n",
       "    </tr>\n",
       "  </tbody>\n",
       "</table>\n",
       "</div>"
      ],
      "text/plain": [
       "      var_name    value  start    stop    step  \\\n",
       "0        SO4_0   0.0105  0.001    0.30  0.0010   \n",
       "1         py_0   0.1600  0.000    1.00  0.0025   \n",
       "2   d34S_SO4_0  23.0000  0.000   30.00  0.1000   \n",
       "3  epsilon_MSR  54.0000  0.000  100.00  1.0000   \n",
       "4        k_MSR  10.0000  0.000   40.00  0.1000   \n",
       "5            v   0.1200  0.001    0.50  0.0010   \n",
       "6         D_32   0.2000  0.001    0.30  0.0010   \n",
       "7         beta   0.0250  0.000    0.05  0.0010   \n",
       "\n",
       "                       display_name  \n",
       "0      [SO<sub>4</sub>]<sub>0</sub>  \n",
       "1     [FeS<sub>2</sub>]<sub>0</sub>  \n",
       "2  δ<sup>34</sup>S<sub>SO4, 0</sub>  \n",
       "3                   ε<sub>MSR</sub>  \n",
       "4                   k<sub>MSR</sub>  \n",
       "5                   v<sub>sed</sub>  \n",
       "6                    D<sub>32</sub>  \n",
       "7                                 β  "
      ]
     },
     "execution_count": 15,
     "metadata": {},
     "output_type": "execute_result"
    }
   ],
   "source": [
    "# Dataframe of only parameters we want to vary in Monte-Carlo simulation\n",
    "monte_df = w_df[~w_df.var_name.isin(['max_z', 'dz'])]\n",
    "monte_df"
   ]
  },
  {
   "cell_type": "code",
   "execution_count": 26,
   "metadata": {
    "tags": []
   },
   "outputs": [],
   "source": [
    "def update_monte_plot(plot, SO4_0, py_0, d34S_SO4_0, epsilon_MSR, k_MSR, beta, D_32, v, dz, max_z, n_trials): # , colour_param):\n",
    "    \n",
    "    with plot.batch_update():\n",
    "    \n",
    "        params_list = []\n",
    "\n",
    "#         pys = []\n",
    "#         d34Ss = []\n",
    "#         texts = []\n",
    "#         colours = []\n",
    "        \n",
    "        # Loop for each trial in Monte Carlo\n",
    "        for trial in range(n_trials):\n",
    "            \n",
    "            # Create dictionary for this run's parameters\n",
    "            params = {}\n",
    "            \n",
    "            # Randomise the parameters\n",
    "            for row in monte_df.iterrows():\n",
    "                param_name = row[1].var_name\n",
    "                param_range = locals()[param_name] # locals() returns dictionary of the actual variables put into the function\n",
    "                \n",
    "                param = random.uniform(*param_range) # Picks a random float within the parameter range (inclusive)\n",
    "                \n",
    "                # Update the appropriate parameter in the dictionary\n",
    "                params[param_name] = param\n",
    "\n",
    "            # After randomising all parameters, put them into the function (and add those we didn't randomise)\n",
    "            py, d34S = get_py_d34S(**params, dz=dz, max_z=max_z)\n",
    "            \n",
    "#             params['Trial_No'] = trial\n",
    "            params['py'] = py\n",
    "            params['d34S'] = d34S\n",
    "\n",
    "#             pys.append(py)\n",
    "#             d34Ss.append(d34S)\n",
    "#             texts.append(f'Trial {trial}')\n",
    "#             colours.append(params[colour_param])\n",
    "            \n",
    "            params_list.append(params)\n",
    "\n",
    "        # After iteration, convert the parameter list into a dataframe, stroed in the global variable params_df\n",
    "        global params_df\n",
    "        params_df = pd.DataFrame(params_list)\n",
    "        \n",
    "        \n",
    "        model_tr = sel_trace(plot, 'Trials')\n",
    "\n",
    "        model_tr.x = params_df.py\n",
    "        model_tr.y = params_df.d34S\n",
    "        \n",
    "        # Get the parameter used for colour without forcing it to update this function\n",
    "        model_tr.marker.color = params_df[r_colour.value]\n",
    "        \n",
    "        model_tr.text = params_df.index\n",
    "\n",
    "\n",
    "#         SDP_tr = sel_trace(plot, 'Syn-Depositional Pyrite')\n",
    "#         if plot_SDP:\n",
    "#             SDP_tr.x = [py_0]\n",
    "#             SDP_tr.y = [d34S_SO4_0 - epsilon_MSR]\n",
    "#             SDP_tr.text = ['{:.2f} wt% Fe<sub>py, 0</sub>'.format(M_to_wt(py_0))]\n",
    "#             SDP_tr.visible = True\n",
    "\n",
    "#         else:\n",
    "#             SDP_tr.visible = False\n",
    "\n",
    "\n",
    "#         noSDP_tr = sel_trace(plot, 'Model (no py<sub>0</sub>)')\n",
    "#         if plot_noSDP:\n",
    "#             # recalculate model with no syn-depositional pyrite\n",
    "#             pys_na = []\n",
    "#             d34Ss_na = []\n",
    "#             texts_na = []\n",
    "\n",
    "#             params_na = params\n",
    "#             params_na['py_0'] = 0 # set to no syn-depositional pyrite\n",
    "\n",
    "#             for var in vary_range:\n",
    "\n",
    "#                 # Update the appropriate parameter to its value in the iterations\n",
    "#                 params_na[varying] = var\n",
    "\n",
    "#                 py, d34S = get_py_d34S(**params_na)\n",
    "\n",
    "#                 pys_na.append(py)\n",
    "#                 d34Ss_na.append(d34S)\n",
    "#                 texts_na.append('{}: {:.5f}'.format(varying, var))\n",
    "\n",
    "#     #         plot.update_traces(x=pys_na, y=d34Ss_na, text=texts_na, marker_color=vary_range,\n",
    "#     #                            visible=True, selector=dict(name='Model (no py<sub>0</sub>)'))\n",
    "#             noSDP_tr.x = pys_na\n",
    "#             noSDP_tr.y = d34Ss_na\n",
    "#             noSDP_tr.text = texts_na\n",
    "#             noSDP_tr.marker.color = vary_range\n",
    "#             noSDP_tr.visible = True\n",
    "\n",
    "#         else:\n",
    "#             noSDP_tr.visible = False\n",
    "\n",
    "        # change colour bar title\n",
    "#         plot.layout.coloraxis.colorbar.title = list(monte_df[monte_df.var_name==colour_param].display_name)[0]"
   ]
  },
  {
   "cell_type": "code",
   "execution_count": 27,
   "metadata": {},
   "outputs": [],
   "source": [
    "def tweak_plot(marker_size, marker_opacity, colour_param, trace):\n",
    "    trace.marker.size = marker_size\n",
    "    trace.marker.opacity = marker_opacity\n",
    "    trace.marker.color = params_df[colour_param]"
   ]
  },
  {
   "cell_type": "code",
   "execution_count": 28,
   "metadata": {},
   "outputs": [],
   "source": [
    "r_details = wdg.Output()\n",
    "\n",
    "def monte_hover(trace, points, state):\n",
    "    if points.point_inds: # Makes sure we're hovering over the right trace. The wrong trace will give point_inds = [].\n",
    "        ind = points.point_inds[0]\n",
    "        \n",
    "        details = params_df.iloc[ind].to_frame() # creates summary dataframe\n",
    "        \n",
    "        with r_details:\n",
    "            display(details) # displays dataframe in output widget\n",
    "            \n",
    "        r_details.clear_output(wait=True) # Clears the output when a new point is selected.\n",
    "    else:\n",
    "        pass"
   ]
  },
  {
   "cell_type": "code",
   "execution_count": 29,
   "metadata": {},
   "outputs": [
    {
     "data": {
      "application/vnd.jupyter.widget-view+json": {
       "model_id": "df8d6c3a2be5446da97877ea07991d55",
       "version_major": 2,
       "version_minor": 0
      },
      "text/plain": [
       "VBox(children=(VBox(children=(HBox(children=(FloatRangeSlider(value=(0.0105, 0.0105), description='[SO<sub>4</…"
      ]
     },
     "metadata": {},
     "output_type": "display_data"
    },
    {
     "data": {
      "application/vnd.jupyter.widget-view+json": {
       "model_id": "5a1310de9e374d46801c37e6efe39655",
       "version_major": 2,
       "version_minor": 0
      },
      "text/plain": [
       "Output()"
      ]
     },
     "metadata": {},
     "output_type": "display_data"
    },
    {
     "data": {
      "application/vnd.jupyter.widget-view+json": {
       "model_id": "72559d4b42a3444f8fbbaa18682a3e41",
       "version_major": 2,
       "version_minor": 0
      },
      "text/plain": [
       "Output()"
      ]
     },
     "metadata": {},
     "output_type": "display_data"
    }
   ],
   "source": [
    "# Set up plot\n",
    "monte_plot=go.FigureWidget()\n",
    "\n",
    "monte_plot.update_layout(yaxis=dict(title='δ<sup>34</sup>S<sub>py</sub> (‰)'),\n",
    "                         xaxis=dict(title='[FeS<sub>2</sub>] / mol dm<sup>−3</sup>', rangemode='tozero'),\n",
    "                         legend=dict(yanchor=\"top\", y=1, xanchor=\"left\", x=1.2),\n",
    "                         margin=dict(l=100),\n",
    "                         width=1000, height=600,\n",
    "                         coloraxis=dict(colorscale='viridis_r', colorbar_ticks='outside')\n",
    "                         )\n",
    "\n",
    "# Add the real data\n",
    "for category in categories:\n",
    "    cat_df = log_df[log_df.category == category]\n",
    "    monte_plot.add_scatter(x = cat_df.Fe_py.apply(wt_to_M), y=cat_df.d34S,\n",
    "                           text = cat_df.name,\n",
    "                           mode='markers',\n",
    "                           marker_color='Blue',\n",
    "                           marker_opacity=0.3,\n",
    "                           marker_symbol=cat_symbols[category],\n",
    "                           name=category)\n",
    "\n",
    "monte_plot.add_trace(go.Scatter(name='Trials', mode='markers', marker_coloraxis='coloraxis',\n",
    "                                marker_line={'color': 'Black', 'width': 1}))\n",
    "# monte_plot.add_trace(go.Scatter(name='Model (no py<sub>0</sub>)', mode='lines+markers', marker_coloraxis='coloraxis',\n",
    "#                                 marker_line_color='Orange', marker_line_width=1, line_color='Orange'))\n",
    "# monte_plot.add_trace(go.Scatter(name='Syn-Depositional Pyrite', mode='markers',\n",
    "#                                 marker_color='Purple', marker_symbol='square'))\n",
    "\n",
    "# create widgets\n",
    "field_layout = wdg.Layout(width='200px')\n",
    "\n",
    "r_d = create_range_sliders(monte_df, prefix='r')\n",
    "r_d2 = create_sliders(w_df[w_df.var_name.isin(['max_z', 'dz'])], prefix='r')\n",
    "\n",
    "r_n_trials = wdg.IntSlider(value = 20, min = 1, max = 1000, description = '№ of Trials', layout=wdg.Layout(width='100%'))\n",
    "\n",
    "r_colour=wdg.Dropdown(options=monte_df.var_name, description='Colour', layout=field_layout, value='v')\n",
    "r_marker_size = wdg.FloatSlider(value=6, min=0, max=20, step=0.1, description='Marker Size', layout=wdg.Layout(width='100%'))\n",
    "r_opacity = wdg.FloatSlider(value=1, min=0, max=1, step=0.01, description='Opacity', layout=wdg.Layout(width='100%'))\n",
    "\n",
    "# v_plot_SDP = wdg.Checkbox(value=True, description='Plot syn-depositional pyrite')\n",
    "# v_plot_noSDP = wdg.Checkbox(value=False, description='Plot curve w/o syn-depositional pyrite')\n",
    "\n",
    "# set up widget layout\n",
    "monte_ui = wdg.VBox([wdg.HBox([r_d['SO4_0'], r_d['d34S_SO4_0']]),\n",
    "                     wdg.HBox([r_d['py_0'], r_d['v']]),\n",
    "                     wdg.HBox([r_d['epsilon_MSR'], r_d['k_MSR']]),\n",
    "                     wdg.HBox([r_d['D_32'], r_d['beta']]),\n",
    "                     wdg.HBox([r_d2['max_z'], r_d2['dz']]),\n",
    "                     wdg.HBox([r_n_trials]),\n",
    "                     wdg.HBox([r_colour, r_marker_size, r_opacity])\n",
    "#                      wdg.HBox([v_plot_SDP, v_plot_noSDP])\n",
    "                    ])\n",
    "\n",
    "monte_args = {**r_d, **r_d2,\n",
    "              'plot': wdg.fixed(monte_plot),\n",
    "              'n_trials': r_n_trials,\n",
    "#              'colour_param': r_colour,\n",
    "#               'plot_SDP': v_plot_SDP,\n",
    "#               'plot_noSDP': v_plot_noSDP\n",
    "             }\n",
    "\n",
    "monte_output = wdg.interactive_output(update_monte_plot, monte_args)\n",
    "\n",
    "tweak_args = {'trace': wdg.fixed(sel_trace(monte_plot, 'Trials')),\n",
    "              'marker_size': r_marker_size,\n",
    "              'marker_opacity': r_opacity,\n",
    "              'colour_param': r_colour\n",
    "             }\n",
    "tweak_output = wdg.interactive_output(tweak_plot, tweak_args)\n",
    "\n",
    "sel_trace(monte_plot, 'Trials').on_hover(monte_hover)\n",
    "\n",
    "monte_dashboard = wdg.VBox([monte_ui,\n",
    "                            wdg.HBox([monte_plot, r_details])\n",
    "                           ])\n",
    "\n",
    "display(monte_dashboard, monte_output, tweak_output)"
   ]
  },
  {
   "cell_type": "code",
   "execution_count": null,
   "metadata": {},
   "outputs": [],
   "source": []
  }
 ],
 "metadata": {
  "kernelspec": {
   "display_name": "Python 3 (ipykernel)",
   "language": "python",
   "name": "python3"
  },
  "language_info": {
   "codemirror_mode": {
    "name": "ipython",
    "version": 3
   },
   "file_extension": ".py",
   "mimetype": "text/x-python",
   "name": "python",
   "nbconvert_exporter": "python",
   "pygments_lexer": "ipython3",
   "version": "3.9.1"
  },
  "widgets": {
   "application/vnd.jupyter.widget-state+json": {
    "state": {
     "004088ecd59544e887d6248fff19aa22": {
      "model_module": "@jupyter-widgets/base",
      "model_module_version": "1.2.0",
      "model_name": "LayoutModel",
      "state": {
       "width": "100%"
      }
     },
     "00f4146be6f9487d8781b674a8475ed4": {
      "model_module": "@jupyter-widgets/base",
      "model_module_version": "1.2.0",
      "model_name": "LayoutModel",
      "state": {
       "width": "100%"
      }
     },
     "017c17375a2e4f42b96cfb9b829b8436": {
      "model_module": "@jupyter-widgets/base",
      "model_module_version": "1.2.0",
      "model_name": "LayoutModel",
      "state": {
       "width": "100%"
      }
     },
     "0213b447d10347e38e4a9fc2b281c4b7": {
      "model_module": "@jupyter-widgets/controls",
      "model_module_version": "1.5.0",
      "model_name": "FloatSliderModel",
      "state": {
       "description": "β",
       "layout": "IPY_MODEL_19ce681be41244b0b44fae1c2c75f308",
       "max": 0.05,
       "step": 0.001,
       "style": "IPY_MODEL_57a4151ebada4b97999877d654965d62",
       "value": 0.025
      }
     },
     "02308525e6db4cb483fe1d56a6884507": {
      "model_module": "@jupyter-widgets/base",
      "model_module_version": "1.2.0",
      "model_name": "LayoutModel",
      "state": {}
     },
     "02b8f5c63d26400a91564b224ecbda2c": {
      "model_module": "@jupyter-widgets/base",
      "model_module_version": "1.2.0",
      "model_name": "LayoutModel",
      "state": {
       "width": "100%"
      }
     },
     "02c6d2bbd7f84e5ab74b0cfbab8e8f0b": {
      "model_module": "@jupyter-widgets/controls",
      "model_module_version": "1.5.0",
      "model_name": "SliderStyleModel",
      "state": {
       "description_width": ""
      }
     },
     "0405243f148546df85c8fbac8c2536f4": {
      "model_module": "@jupyter-widgets/controls",
      "model_module_version": "1.5.0",
      "model_name": "FloatSliderModel",
      "state": {
       "description": "z<sub>max</sub>",
       "layout": "IPY_MODEL_148d5fc52e2e4448a808091c6e9b84c9",
       "max": 10,
       "min": 0.01,
       "step": 0.01,
       "style": "IPY_MODEL_59169b8c2a8244fdb93a6ae9e03cdbcb",
       "value": 1.5
      }
     },
     "044ad8b59f2a43888d1e84aae9013384": {
      "model_module": "@jupyter-widgets/controls",
      "model_module_version": "1.5.0",
      "model_name": "SliderStyleModel",
      "state": {
       "description_width": ""
      }
     },
     "04b5bf44d28f410aabcf765621258915": {
      "model_module": "@jupyter-widgets/controls",
      "model_module_version": "1.5.0",
      "model_name": "DescriptionStyleModel",
      "state": {
       "description_width": ""
      }
     },
     "0695b11999014ab1bb52711cbfae5c10": {
      "model_module": "@jupyter-widgets/controls",
      "model_module_version": "1.5.0",
      "model_name": "HBoxModel",
      "state": {
       "children": [
        "IPY_MODEL_1eb72328308340ee9bf61c5104610624"
       ],
       "layout": "IPY_MODEL_797a608e888545a9a7f5115464a051d5"
      }
     },
     "06fefea60c3d4ee7a41daf14f6fac14c": {
      "model_module": "@jupyter-widgets/controls",
      "model_module_version": "1.5.0",
      "model_name": "FloatSliderModel",
      "state": {
       "description": "β",
       "layout": "IPY_MODEL_a3289eddce244088bfc3a9bbaf301d62",
       "max": 0.05,
       "step": 0.001,
       "style": "IPY_MODEL_2986b0387a974eb58baa56040d768d4e",
       "value": 0.025
      }
     },
     "0700b65ed8cb43258384885eec9d5c94": {
      "model_module": "@jupyter-widgets/controls",
      "model_module_version": "1.5.0",
      "model_name": "SliderStyleModel",
      "state": {
       "description_width": ""
      }
     },
     "076946a24fe84b438a0d85ed0850ca2c": {
      "model_module": "@jupyter-widgets/base",
      "model_module_version": "1.2.0",
      "model_name": "LayoutModel",
      "state": {}
     },
     "077f5920df654bec980ae36be838a295": {
      "model_module": "@jupyter-widgets/controls",
      "model_module_version": "1.5.0",
      "model_name": "VBoxModel",
      "state": {
       "children": [
        "IPY_MODEL_cfa67f013da241b89aee72a7f2488424",
        "IPY_MODEL_e77b5680168d4025bc7963c36d233cbd",
        "IPY_MODEL_70a5a87409d04c96a10ef74095034d0d",
        "IPY_MODEL_29c4fa31d1dd477cb32637431cca9216",
        "IPY_MODEL_dc8532c8df97455facb68f23ca9997c0",
        "IPY_MODEL_7e5ab8a451f84ac5a28c585efd97fc29",
        "IPY_MODEL_6fc487c58d804122ab5a009b4148a8b4"
       ],
       "layout": "IPY_MODEL_2e4f162f6d9a4107b058221096d1fe75"
      }
     },
     "0799e61fa1cd4b82863f2a7040bd4eed": {
      "model_module": "@jupyter-widgets/controls",
      "model_module_version": "1.5.0",
      "model_name": "HBoxModel",
      "state": {
       "children": [
        "IPY_MODEL_71b0be1ac1a64292a6056abda9ba8572",
        "IPY_MODEL_47b4b2634da743bb97364264c691fbf6"
       ],
       "layout": "IPY_MODEL_84a4c0cc5b664b14b8a5596a38a8040c"
      }
     },
     "07b5caaf1ab54e898d98c4c3cd35d074": {
      "model_module": "@jupyter-widgets/base",
      "model_module_version": "1.2.0",
      "model_name": "LayoutModel",
      "state": {
       "width": "100%"
      }
     },
     "0838bb7d61ce4291940dc00955551143": {
      "model_module": "@jupyter-widgets/controls",
      "model_module_version": "1.5.0",
      "model_name": "FloatSliderModel",
      "state": {
       "description": "dz",
       "layout": "IPY_MODEL_6ad3e9936dca4584b2afb5835b0cf893",
       "max": 0.1,
       "min": 0.001,
       "step": 0.001,
       "style": "IPY_MODEL_72869f1f11ad4d199fb320862efd647f",
       "value": 0.01
      }
     },
     "08591e1b0c0747589534a4a299590219": {
      "model_module": "@jupyter-widgets/base",
      "model_module_version": "1.2.0",
      "model_name": "LayoutModel",
      "state": {
       "width": "100%"
      }
     },
     "0985e173a82d4c17ad090556208bf2ce": {
      "model_module": "@jupyter-widgets/controls",
      "model_module_version": "1.5.0",
      "model_name": "HBoxModel",
      "state": {
       "children": [
        "IPY_MODEL_381e11789e1f4deeab9a361b04fc9400",
        "IPY_MODEL_842d98d21358401b877d01ba201b2f5f"
       ],
       "layout": "IPY_MODEL_514aaab113cb407b8e3af35bd429ce9e"
      }
     },
     "0a126baed8554a8da8918a0dc3ceb5f4": {
      "model_module": "@jupyter-widgets/base",
      "model_module_version": "1.2.0",
      "model_name": "LayoutModel",
      "state": {
       "width": "100%"
      }
     },
     "0a3dad82ab874fe5ad2a40ff491c914f": {
      "model_module": "@jupyter-widgets/controls",
      "model_module_version": "1.5.0",
      "model_name": "VBoxModel",
      "state": {
       "children": [
        "IPY_MODEL_0b61cd61b0d549cb8d891a30e7868c99",
        "IPY_MODEL_f92d016516a64ef59efb3e50e84ed2a0"
       ],
       "layout": "IPY_MODEL_d41e725b44ae4af393ddaf1921196a8e"
      }
     },
     "0a41d2ed14e34890b6fb2db7bda88f25": {
      "model_module": "@jupyter-widgets/base",
      "model_module_version": "1.2.0",
      "model_name": "LayoutModel",
      "state": {
       "width": "100%"
      }
     },
     "0adaf58ff11e41fa8d453913ec05dde2": {
      "model_module": "@jupyter-widgets/base",
      "model_module_version": "1.2.0",
      "model_name": "LayoutModel",
      "state": {}
     },
     "0b344454436e401ebfc2012a39a54328": {
      "model_module": "@jupyter-widgets/controls",
      "model_module_version": "1.5.0",
      "model_name": "SliderStyleModel",
      "state": {
       "description_width": ""
      }
     },
     "0b61cd61b0d549cb8d891a30e7868c99": {
      "model_module": "@jupyter-widgets/controls",
      "model_module_version": "1.5.0",
      "model_name": "VBoxModel",
      "state": {
       "children": [
        "IPY_MODEL_f5e7ac4572b44ba88b18fd0582418d49",
        "IPY_MODEL_0985e173a82d4c17ad090556208bf2ce",
        "IPY_MODEL_a0d8b7f3fcaf47a6a31fa5dec8f1f86d",
        "IPY_MODEL_b87d65ca22ae4ad8a84ad452a6b62ca4",
        "IPY_MODEL_8cb53c389d1e4e2f89412ff33fa10583",
        "IPY_MODEL_f1755e05fa204a378e78a1d39db650aa",
        "IPY_MODEL_9dfca62d5a604a73bd94a8ba3c71c822"
       ],
       "layout": "IPY_MODEL_906f99f02aed45a0976fdd68b6890051"
      }
     },
     "0d27948cd53d4be3b167939db027e96d": {
      "model_module": "@jupyter-widgets/base",
      "model_module_version": "1.2.0",
      "model_name": "LayoutModel",
      "state": {}
     },
     "0d41bf9e40ef4c74bda8132db13a82bf": {
      "model_module": "@jupyter-widgets/controls",
      "model_module_version": "1.5.0",
      "model_name": "SliderStyleModel",
      "state": {
       "description_width": ""
      }
     },
     "0ec6d5aff9484d599a01b609c0c765b1": {
      "model_module": "@jupyter-widgets/controls",
      "model_module_version": "1.5.0",
      "model_name": "SliderStyleModel",
      "state": {
       "description_width": ""
      }
     },
     "0ee845241afc4d44a794bbf162dbed8d": {
      "model_module": "@jupyter-widgets/controls",
      "model_module_version": "1.5.0",
      "model_name": "SliderStyleModel",
      "state": {
       "description_width": ""
      }
     },
     "0f93110134114ca4b7ed41b8a42ada7a": {
      "model_module": "@jupyter-widgets/controls",
      "model_module_version": "1.5.0",
      "model_name": "FloatSliderModel",
      "state": {
       "description": "dz",
       "layout": "IPY_MODEL_8cadbd7ee84343319f6e054b83533118",
       "max": 0.1,
       "min": 0.001,
       "step": 0.001,
       "style": "IPY_MODEL_6f02b2534e604c349563d542768d7a34",
       "value": 0.01
      }
     },
     "10f8e6f685604f1da708a7308af3fbe3": {
      "model_module": "@jupyter-widgets/base",
      "model_module_version": "1.2.0",
      "model_name": "LayoutModel",
      "state": {
       "width": "100%"
      }
     },
     "11641f255fae427faf02951f89337c2a": {
      "model_module": "@jupyter-widgets/base",
      "model_module_version": "1.2.0",
      "model_name": "LayoutModel",
      "state": {
       "width": "100%"
      }
     },
     "116deaac7dc64ebd8d6bc7c8872f43e5": {
      "model_module": "@jupyter-widgets/controls",
      "model_module_version": "1.5.0",
      "model_name": "FloatTextModel",
      "state": {
       "description": "step",
       "layout": "IPY_MODEL_7b677a385b2245f5b015186e07a273d4",
       "step": 0.01,
       "style": "IPY_MODEL_7c26efc3bc3e428aacfa1300cae1817d",
       "value": 0.005
      }
     },
     "11c87e3836794a90984020634d95ee80": {
      "model_module": "@jupyter-widgets/controls",
      "model_module_version": "1.5.0",
      "model_name": "DropdownModel",
      "state": {
       "_options_labels": [
        "SO4_0",
        "py_0",
        "d34S_SO4_0",
        "epsilon_MSR",
        "k_MSR",
        "v",
        "D_32",
        "beta"
       ],
       "description": "Colour",
       "index": 5,
       "layout": "IPY_MODEL_c482c3e5fba146199c4396190c229a81",
       "style": "IPY_MODEL_47a56c4300ad45ad945b983705d6198d"
      }
     },
     "1372e147bac04e2fb6192225f20bac51": {
      "model_module": "@jupyter-widgets/base",
      "model_module_version": "1.2.0",
      "model_name": "LayoutModel",
      "state": {}
     },
     "142651e143b64a6ca3a59bdd982e3135": {
      "model_module": "@jupyter-widgets/base",
      "model_module_version": "1.2.0",
      "model_name": "LayoutModel",
      "state": {
       "width": "100%"
      }
     },
     "148d5fc52e2e4448a808091c6e9b84c9": {
      "model_module": "@jupyter-widgets/base",
      "model_module_version": "1.2.0",
      "model_name": "LayoutModel",
      "state": {
       "width": "100%"
      }
     },
     "14b9c2d16eeb4e69b12757a767dcf76b": {
      "model_module": "@jupyter-widgets/controls",
      "model_module_version": "1.5.0",
      "model_name": "FloatSliderModel",
      "state": {
       "description": "k<sub>MSR</sub>",
       "layout": "IPY_MODEL_9a79e338bd7b430780fd049a5d9cfc33",
       "max": 40,
       "step": 0.1,
       "style": "IPY_MODEL_3638c9841fb647c49918196138202378",
       "value": 10
      }
     },
     "14c6173689a742899ff83f5a56c6a675": {
      "model_module": "@jupyter-widgets/controls",
      "model_module_version": "1.5.0",
      "model_name": "SliderStyleModel",
      "state": {
       "description_width": ""
      }
     },
     "15118d672f3e45959611425032436c78": {
      "model_module": "@jupyter-widgets/base",
      "model_module_version": "1.2.0",
      "model_name": "LayoutModel",
      "state": {
       "width": "100%"
      }
     },
     "15b3941cd22e4ea292f1329843631ff3": {
      "model_module": "@jupyter-widgets/base",
      "model_module_version": "1.2.0",
      "model_name": "LayoutModel",
      "state": {}
     },
     "163618dc1fdf48a8aa5d8ad61197407b": {
      "model_module": "@jupyter-widgets/base",
      "model_module_version": "1.2.0",
      "model_name": "LayoutModel",
      "state": {
       "width": "100%"
      }
     },
     "1677ea29b3b44556809cb93859bae746": {
      "model_module": "@jupyter-widgets/controls",
      "model_module_version": "1.5.0",
      "model_name": "SliderStyleModel",
      "state": {
       "description_width": ""
      }
     },
     "1678d32cd5ae4517bf2cac221846c5db": {
      "model_module": "@jupyter-widgets/base",
      "model_module_version": "1.2.0",
      "model_name": "LayoutModel",
      "state": {
       "width": "100%"
      }
     },
     "16de86e931bc4180bb01682ef046040f": {
      "model_module": "@jupyter-widgets/base",
      "model_module_version": "1.2.0",
      "model_name": "LayoutModel",
      "state": {
       "width": "200px"
      }
     },
     "17ca6688219e4547920e95d4f32db6ed": {
      "model_module": "@jupyter-widgets/controls",
      "model_module_version": "1.5.0",
      "model_name": "CheckboxModel",
      "state": {
       "description": "Plot Residuals",
       "disabled": false,
       "layout": "IPY_MODEL_fa614ce025e247f5827d1c425cf8bb33",
       "style": "IPY_MODEL_293e618eed0941c8a546b1562d004eff",
       "value": false
      }
     },
     "195c3f2cfffa4e939634b2ae00dca7d3": {
      "model_module": "@jupyter-widgets/base",
      "model_module_version": "1.2.0",
      "model_name": "LayoutModel",
      "state": {
       "width": "100%"
      }
     },
     "19ce681be41244b0b44fae1c2c75f308": {
      "model_module": "@jupyter-widgets/base",
      "model_module_version": "1.2.0",
      "model_name": "LayoutModel",
      "state": {
       "width": "100%"
      }
     },
     "1ae9bc9bc66646b3a4684e4188652716": {
      "model_module": "@jupyter-widgets/controls",
      "model_module_version": "1.5.0",
      "model_name": "SliderStyleModel",
      "state": {
       "description_width": ""
      }
     },
     "1affbdb7e937450193abc31646948f18": {
      "model_module": "@jupyter-widgets/controls",
      "model_module_version": "1.5.0",
      "model_name": "SliderStyleModel",
      "state": {
       "description_width": ""
      }
     },
     "1b45324fddbe4039816ebbbe9eff98ce": {
      "model_module": "@jupyter-widgets/base",
      "model_module_version": "1.2.0",
      "model_name": "LayoutModel",
      "state": {
       "width": "100%"
      }
     },
     "1b7e977a072e4992aa685e8c6e7d59f4": {
      "model_module": "@jupyter-widgets/base",
      "model_module_version": "1.2.0",
      "model_name": "LayoutModel",
      "state": {}
     },
     "1c1ba24f802744299f7f596808a3f649": {
      "model_module": "@jupyter-widgets/base",
      "model_module_version": "1.2.0",
      "model_name": "LayoutModel",
      "state": {}
     },
     "1c66e3558a0542f8a8506363f183a8c1": {
      "model_module": "@jupyter-widgets/controls",
      "model_module_version": "1.5.0",
      "model_name": "HBoxModel",
      "state": {
       "children": [
        "IPY_MODEL_68e9d5f99e0747b59e2dc4fa966e04f6"
       ],
       "layout": "IPY_MODEL_2a896d4de4754ebfad15730e1c0033c0"
      }
     },
     "1d1154a9be94443ea03882688953a141": {
      "model_module": "@jupyter-widgets/controls",
      "model_module_version": "1.5.0",
      "model_name": "DescriptionStyleModel",
      "state": {
       "description_width": ""
      }
     },
     "1d11651976d646ca831627f5a788bd81": {
      "model_module": "@jupyter-widgets/controls",
      "model_module_version": "1.5.0",
      "model_name": "SliderStyleModel",
      "state": {
       "description_width": ""
      }
     },
     "1d4de54195384deab5d08f687525ac55": {
      "model_module": "@jupyter-widgets/controls",
      "model_module_version": "1.5.0",
      "model_name": "SliderStyleModel",
      "state": {
       "description_width": ""
      }
     },
     "1ddeff5e3db7429eae5e88064997df94": {
      "model_module": "@jupyter-widgets/base",
      "model_module_version": "1.2.0",
      "model_name": "LayoutModel",
      "state": {
       "width": "100%"
      }
     },
     "1e84850c1e8a4b339ec702de25533d28": {
      "model_module": "@jupyter-widgets/base",
      "model_module_version": "1.2.0",
      "model_name": "LayoutModel",
      "state": {
       "width": "100%"
      }
     },
     "1eb72328308340ee9bf61c5104610624": {
      "model_module": "@jupyter-widgets/controls",
      "model_module_version": "1.5.0",
      "model_name": "IntSliderModel",
      "state": {
       "description": "№ of Trials",
       "layout": "IPY_MODEL_10f8e6f685604f1da708a7308af3fbe3",
       "max": 1000,
       "min": 1,
       "style": "IPY_MODEL_0b344454436e401ebfc2012a39a54328",
       "value": 20
      }
     },
     "1f37a7eec723414ba693308c21566976": {
      "model_module": "@jupyter-widgets/controls",
      "model_module_version": "1.5.0",
      "model_name": "SliderStyleModel",
      "state": {
       "description_width": ""
      }
     },
     "1f9453f751cd4373a1d8687310901865": {
      "model_module": "@jupyter-widgets/controls",
      "model_module_version": "1.5.0",
      "model_name": "SliderStyleModel",
      "state": {
       "description_width": ""
      }
     },
     "2020c128a8a9422fb1321b6d89cf665a": {
      "model_module": "@jupyter-widgets/controls",
      "model_module_version": "1.5.0",
      "model_name": "FloatRangeSliderModel",
      "state": {
       "_model_name": "FloatRangeSliderModel",
       "_view_name": "FloatRangeSliderView",
       "description": "D<sub>32</sub>",
       "layout": "IPY_MODEL_89e4436a8ef2490482f3953934bd4cb4",
       "max": 0.3,
       "min": 0.001,
       "step": 0.001,
       "style": "IPY_MODEL_a4d2221bd0f64f4f996390539d7c72ca",
       "value": [
        0.2,
        0.2
       ]
      }
     },
     "203ccfabf2594957be62b5a945173fcc": {
      "model_module": "@jupyter-widgets/controls",
      "model_module_version": "1.5.0",
      "model_name": "FloatSliderModel",
      "state": {
       "description": "z<sub>max</sub>",
       "layout": "IPY_MODEL_e73eaeb83fbc458ea68c87137cc543bc",
       "max": 10,
       "min": 0.01,
       "step": 0.01,
       "style": "IPY_MODEL_988854aaa0804fcba16e0be6e7f6fe0e",
       "value": 1.5
      }
     },
     "209d953d466947cab927de08e936c8d0": {
      "model_module": "@jupyter-widgets/controls",
      "model_module_version": "1.5.0",
      "model_name": "FloatSliderModel",
      "state": {
       "description": "[FeS<sub>2</sub>]<sub>0</sub>",
       "layout": "IPY_MODEL_93696a5d7ef146618d0606fcb036339c",
       "max": 1,
       "step": 0.0025,
       "style": "IPY_MODEL_90e7915b156f4f79b36ceabb3ceb2858",
       "value": 0.16
      }
     },
     "20b332a034204731b27f0187e8c1e30e": {
      "buffers": [
       {
        "data": "Gi/dJAaBhT922lqkSBiEP851Drwux4I/PJ6G3SuMgT/zzL52zWWAP1JzY3xypX4/xEf5NlejfD+7m2hV7MJ6P1G1V7H8AXk/JzIWLXhedz9VYlpGcdZ1P3eTtNEaaHQ/zVoN3MURcz9BrrCv39FxPwJukfrvpnA/DSkwJy4fbz/0j+e5GBVtP9ZPDoM5LWs/zStUl1JlaT/GCC+nS7tnP3Rg9IcvLWY/Gl1K5im5ZD9DFDsfhV1jPwXJYT2oGGI/RZbUFxXpYD99IikhzZpfP6QU5+CdiF0/wnMCvSyZWz+wEmTiMspZP2DXH6+PGVg/LQDEMUaFVj8hTaTSegtVPwbAYCRxqlM/dM0V2YlgUj+F+c7ZQCxRP0Uo/X0rDFA/Eiavwe39TT+SCmOlzAZMP1rN38ijMEo/VqbQFkp5SD8VdCC4ut5GPyGl+rMSX0U/8pGjt474Qz8K64sDialCP/uqLnt3cEE/Sulx1elLQD8pVNLWD3U+P+YG90Ygdjw/zK4i7quYOj+RLBkigdo4P+VP1waTOTc/GbQkJfezNT+TU5sp40c0P7wWfsmq8zI/Qh3kyr21MT+FEOgtpowwPyNJY+kM7i4/GXGnEDDnLD8O4zZxUwIrP2i4GKo8PSk/t3/GutaVJz8N8ymQLwomP6gmsbp1mCQ/KO3HSvY+Iz9WWTLRGvwhP8h67oBnziA/KMfV4PJoHz+rwQjwCVodP9GBv1eobRs/HmOp3oqhGT+Xp3lAlPMXPzR8LLHKYRY/U9IFilXqFD+5HI4de4sTP1bc/q+eQxI/08a7kT4RET8PvTqz5OUPP1OD7nnSzg0/ouHOBtHaCz8W+TgplAcKP8gpvjz2Ugg/0QGQovW6Bj9/YExlsj0FP9gLYwRs2QM/CYx8ZH+MAj+tqHXiZFUBP0SSq4auMgA/fov1rAxG/j7lfeyDWUr8PoSC+1fub/o+/wfyFZ20+D7SGzVBXBb3PgBGUI5Ek/U+iPO/pY4p9D72K1MMkdfyPhKIri6+m/E+A7SjjaJ08D7ozW4SxsHuPuemp5B2vuw+aZ+Odvjc6j4l+ZxuFRvpPoJTDVO8duc+UICBv/7t5T6Sco3LDn/kPhV0e+s8KOM+UsnK9PXn4T6M9hNEwbzgPhFOSgR+St8+xOqbDE1A3T4YXOiniVjbPqCGVmP2kNk+fWRMsHvn1z45W+9uJVrWPpZPXaIg59Q+HMzrS7mM0z5ShuhqWEnSPqqQgR6CG9E+isaj59MB0D4mWYcRBvbNPmqIUAO2C8w+0bXgSnhCyj7qnlOSNJjIPh+R3hL3Csc+hhM4S+6YxT6UK37eaEDEPuJ9HZnT/8I+coVombfVwT4dYbiZuMDAPij0MLQmf78+Jm5HTziivT4mdLr/eui7Puno35ztT7o+i66/h7bWuD7gX6qHIXu3PnYCjtOdO7Y+Uv3HRbwWtT7/uma4LQu0Ppkj/ofBF7M+GMhgO2Q7sj5yZLxOHnWxPlyAwyATxLA+e6O3AIAnsD6U+p+4dj2vPg55PxloUq4+aZyLguGMrT7PFKsSH+ysPo9GGvOKb6w+11En37wWrD7GozrkeeGrPqpG81u0z6s+",
        "encoding": "base64",
        "path": [
         "_data",
         0,
         "x",
         "value"
        ]
       },
       {
        "data": "AAAAAAAAAAB7FK5H4XqEP3sUrkfhepQ/uB6F61G4nj97FK5H4XqkP5qZmZmZmak/uB6F61G4rj/sUbgeheuxP3sUrkfherQ/CtejcD0Ktz+amZmZmZm5Pylcj8L1KLw/uB6F61G4vj+kcD0K16PAP+xRuB6F68E/MzMzMzMzwz97FK5H4XrEP8P1KFyPwsU/CtejcD0Kxz9SuB6F61HIP5qZmZmZmck/4XoUrkfhyj8pXI/C9SjMP3E9CtejcM0/uB6F61G4zj8AAAAAAADQP6RwPQrXo9A/SOF6FK5H0T/sUbgehevRP4/C9Shcj9I/MzMzMzMz0z/Xo3A9CtfTP3sUrkfhetQ/H4XrUbge1T/D9Shcj8LVP2dmZmZmZtY/CtejcD0K1z+uR+F6FK7XP1K4HoXrUdg/9ihcj8L12D+amZmZmZnZPz4K16NwPdo/4XoUrkfh2j+F61G4HoXbPylcj8L1KNw/zczMzMzM3D9xPQrXo3DdPxWuR+F6FN4/uB6F61G43j9cj8L1KFzfPwAAAAAAAOA/UrgehetR4D+kcD0K16PgP/YoXI/C9eA/SOF6FK5H4T+amZmZmZnhP+xRuB6F6+E/PgrXo3A94j+PwvUoXI/iP+F6FK5H4eI/MzMzMzMz4z+F61G4HoXjP9ejcD0K1+M/KVyPwvUo5D97FK5H4XrkP83MzMzMzOQ/H4XrUbge5T9xPQrXo3DlP8P1KFyPwuU/Fa5H4XoU5j9nZmZmZmbmP7gehetRuOY/CtejcD0K5z9cj8L1KFznP65H4XoUruc/AAAAAAAA6D9SuB6F61HoP6RwPQrXo+g/9ihcj8L16D9I4XoUrkfpP5qZmZmZmek/7FG4HoXr6T8+CtejcD3qP5DC9Shcj+o/4XoUrkfh6j8zMzMzMzPrP4XrUbgehes/16NwPQrX6z8pXI/C9SjsP3sUrkfheuw/zczMzMzM7D8fhetRuB7tP3E9CtejcO0/w/UoXI/C7T8VrkfhehTuP2dmZmZmZu4/uB6F61G47j8K16NwPQrvP1yPwvUoXO8/rkfhehSu7z8AAAAAAADwPylcj8L1KPA/UrgehetR8D97FK5H4XrwP6RwPQrXo/A/zczMzMzM8D/2KFyPwvXwPx+F61G4HvE/SOF6FK5H8T9xPQrXo3DxP5qZmZmZmfE/w/UoXI/C8T/sUbgehevxPxWuR+F6FPI/PgrXo3A98j9nZmZmZmbyP4/C9Shcj/I/uB6F61G48j/hehSuR+HyPwrXo3A9CvM/MzMzMzMz8z9cj8L1KFzzP4XrUbgehfM/rkfhehSu8z/Xo3A9CtfzPwAAAAAAAPQ/KVyPwvUo9D9SuB6F61H0P3sUrkfhevQ/pHA9Ctej9D/NzMzMzMz0P/YoXI/C9fQ/H4XrUbge9T9I4XoUrkf1P3E9CtejcPU/mpmZmZmZ9T/D9Shcj8L1P+xRuB6F6/U/Fa5H4XoU9j8+CtejcD32P2dmZmZmZvY/j8L1KFyP9j+4HoXrUbj2P+F6FK5H4fY/CtejcD0K9z8zMzMzMzP3P1yPwvUoXPc/hetRuB6F9z+uR+F6FK73P9ejcD0K1/c/",
        "encoding": "base64",
        "path": [
         "_data",
         0,
         "y",
         "value"
        ]
       },
       {
        "data": "exSuR+F6xD8X0sBjfQXFP3gmUkAEh8U/tIyPPA4Axj/eHIq7KXHGP3KKtsvb2sY/Tj5zw6A9xz+HrUzT7JnHP4n9q44s8Mc/a7+Qa8VAyD8jA+w5FozIP64qKZN30sg/57FnQjwUyT+bhuClsVHJP96D6Qkgi8k/UCEC/srAyT8jY02k8fLJPzuJ1vvOIco/X9v3JZpNyj/TNjWnhnbKPxmo1qPEnMo/0FuKGIHAyj+bhVAP5uHKP2t+79AaAcs/OkcqE0Qeyz8xze8jhDnLP2q8tRH7Uss/HVou0cZqyz/EwoVgA4HLP4sAUOjKlcs/7rZO2jWpyz+mljIOW7vLP5dtetxPzMs/NW+PNyjcyz9OPzzD9urLP9VZmurM+Ms/C6OP9LoFzD/TOvQW0BHMP4oZd4gaHcw/2IJWkacnzD/3+f+agzHMP8YYqj66Osw/0nb5UlZDzD9ArcD4YUvMP0h36qbmUsw/WvObNe1ZzD/tHZzofWDMPxjDDHmgZsw/BleAHlxszD8+ZXeXt3HMP4iTTzG5dsw/pI2tz2Z7zD+PkmrzxX/MP5vJDcHbg8w/Cf3YBq2HzD8E2G9CPovMP4ROIKaTjsw/92XSHbGRzD9vLaVTmpTMP49SPrRSl8w/dGXRct2ZzD+7iOOMPZzMP1f7z811nsw/hp8R0oigzD/wXFUKeaLMP+L6WL5IpMw/QdOZD/qlzD/phdb7jqfMP2ufZl8Jqcw/h/Rq92qqzD+eRdljtavMPxCSZSnqrMw/PFtLswquzD/j8PhUGK/MP869nksUsMw/RGqkv/+wzD9YiwXG27HMPzh5l2Gpssw/1cs5hGmzzD8I5PIPHbTMP/bP+dfEtMw/dsOuoWG1zD/XSIMl9LXMPxQ70w99tsw/voivAf22zD81rpuRdLfMP/TFPkzkt8w/Yf8ItUy4zD+qPs5GrrjMP6abVnQJucw/uWnlqF65zD+DZ7dIrrnMP+uqeLH4ucw/FtSyOj66zD8iCTQ2f7rMP5wzb/C7usw/DvHVsPS6zD9loCy6KbvMPwnv2Epbu8w/LUIrnYm7zD+eUqPntLvMP85LMF3du8w/oblsLQO8zD9Yi9aEJrzMP61tA41HvMw/n7nRbGa8zD+RMZZIg7zMP37CRkKevMw/rHuiebe8zD/Q61YMz7zMP7gPIxblvMw/evv3sPm8zD+3ZBf1DL3MP9wxMPkevcw/ADB50i+9zD/dDsqUP73MP0DAslJOvcw/oFaRHVy9zD9qfKYFab3MP1icKBp1vcw/SNFVaYC9zD/IsoQAi73MPyYSNOyUvcw/oroZOJ69zD8aRjDvpr3MP6gWxBuvvcw/ZIR/x7a9zD/dTXb7vb3MP7dYMMDEvcw/O8+zHcu9zD/ipo4b0b3MPyab38DWvcw/RadeFNy9zD8jCWUc4b3MP9HW9N7lvcw/zC/AYeq9zD+mEjCq7r3MP0Lfar3yvcw/h41aoPa9zD8UoLJX+r3MPyLa9ef9vcw/pL97VQG+zD9C5nWkBL7MP+Ed9dgHvsw/83bu9gq+zD/sLEACDr7MP/h6tv4Qvsw/9mAQ8BO+zD/hXgTaFr7MP4csRcAZvsw/",
        "encoding": "base64",
        "path": [
         "_data",
         1,
         "x",
         "value"
        ]
       },
       {
        "data": "AAAAAAAAAAB7FK5H4XqEP3sUrkfhepQ/uB6F61G4nj97FK5H4XqkP5qZmZmZmak/uB6F61G4rj/sUbgeheuxP3sUrkfherQ/CtejcD0Ktz+amZmZmZm5Pylcj8L1KLw/uB6F61G4vj+kcD0K16PAP+xRuB6F68E/MzMzMzMzwz97FK5H4XrEP8P1KFyPwsU/CtejcD0Kxz9SuB6F61HIP5qZmZmZmck/4XoUrkfhyj8pXI/C9SjMP3E9CtejcM0/uB6F61G4zj8AAAAAAADQP6RwPQrXo9A/SOF6FK5H0T/sUbgehevRP4/C9Shcj9I/MzMzMzMz0z/Xo3A9CtfTP3sUrkfhetQ/H4XrUbge1T/D9Shcj8LVP2dmZmZmZtY/CtejcD0K1z+uR+F6FK7XP1K4HoXrUdg/9ihcj8L12D+amZmZmZnZPz4K16NwPdo/4XoUrkfh2j+F61G4HoXbPylcj8L1KNw/zczMzMzM3D9xPQrXo3DdPxWuR+F6FN4/uB6F61G43j9cj8L1KFzfPwAAAAAAAOA/UrgehetR4D+kcD0K16PgP/YoXI/C9eA/SOF6FK5H4T+amZmZmZnhP+xRuB6F6+E/PgrXo3A94j+PwvUoXI/iP+F6FK5H4eI/MzMzMzMz4z+F61G4HoXjP9ejcD0K1+M/KVyPwvUo5D97FK5H4XrkP83MzMzMzOQ/H4XrUbge5T9xPQrXo3DlP8P1KFyPwuU/Fa5H4XoU5j9nZmZmZmbmP7gehetRuOY/CtejcD0K5z9cj8L1KFznP65H4XoUruc/AAAAAAAA6D9SuB6F61HoP6RwPQrXo+g/9ihcj8L16D9I4XoUrkfpP5qZmZmZmek/7FG4HoXr6T8+CtejcD3qP5DC9Shcj+o/4XoUrkfh6j8zMzMzMzPrP4XrUbgehes/16NwPQrX6z8pXI/C9SjsP3sUrkfheuw/zczMzMzM7D8fhetRuB7tP3E9CtejcO0/w/UoXI/C7T8VrkfhehTuP2dmZmZmZu4/uB6F61G47j8K16NwPQrvP1yPwvUoXO8/rkfhehSu7z8AAAAAAADwPylcj8L1KPA/UrgehetR8D97FK5H4XrwP6RwPQrXo/A/zczMzMzM8D/2KFyPwvXwPx+F61G4HvE/SOF6FK5H8T9xPQrXo3DxP5qZmZmZmfE/w/UoXI/C8T/sUbgehevxPxWuR+F6FPI/PgrXo3A98j9nZmZmZmbyP4/C9Shcj/I/uB6F61G48j/hehSuR+HyPwrXo3A9CvM/MzMzMzMz8z9cj8L1KFzzP4XrUbgehfM/rkfhehSu8z/Xo3A9CtfzPwAAAAAAAPQ/KVyPwvUo9D9SuB6F61H0P3sUrkfhevQ/pHA9Ctej9D/NzMzMzMz0P/YoXI/C9fQ/H4XrUbge9T9I4XoUrkf1P3E9CtejcPU/mpmZmZmZ9T/D9Shcj8L1P+xRuB6F6/U/Fa5H4XoU9j8+CtejcD32P2dmZmZmZvY/j8L1KFyP9j+4HoXrUbj2P+F6FK5H4fY/CtejcD0K9z8zMzMzMzP3P1yPwvUoXPc/hetRuB6F9z+uR+F6FK73P9ejcD0K1/c/",
        "encoding": "base64",
        "path": [
         "_data",
         1,
         "y",
         "value"
        ]
       },
       {
        "data": "AAAAAAAAAAB7FK5H4XqEP3sUrkfhepQ/uB6F61G4nj97FK5H4XqkP5qZmZmZmak/uB6F61G4rj/sUbgeheuxP3sUrkfherQ/CtejcD0Ktz+amZmZmZm5Pylcj8L1KLw/uB6F61G4vj+kcD0K16PAP+xRuB6F68E/MzMzMzMzwz97FK5H4XrEP8P1KFyPwsU/CtejcD0Kxz9SuB6F61HIP5qZmZmZmck/4XoUrkfhyj8pXI/C9SjMP3E9CtejcM0/uB6F61G4zj8AAAAAAADQP6RwPQrXo9A/SOF6FK5H0T/sUbgehevRP4/C9Shcj9I/MzMzMzMz0z/Xo3A9CtfTP3sUrkfhetQ/H4XrUbge1T/D9Shcj8LVP2dmZmZmZtY/CtejcD0K1z+uR+F6FK7XP1K4HoXrUdg/9ihcj8L12D+amZmZmZnZPz4K16NwPdo/4XoUrkfh2j+F61G4HoXbPylcj8L1KNw/zczMzMzM3D9xPQrXo3DdPxWuR+F6FN4/uB6F61G43j9cj8L1KFzfPwAAAAAAAOA/UrgehetR4D+kcD0K16PgP/YoXI/C9eA/SOF6FK5H4T+amZmZmZnhP+xRuB6F6+E/PgrXo3A94j+PwvUoXI/iP+F6FK5H4eI/MzMzMzMz4z+F61G4HoXjP9ejcD0K1+M/KVyPwvUo5D97FK5H4XrkP83MzMzMzOQ/H4XrUbge5T9xPQrXo3DlP8P1KFyPwuU/Fa5H4XoU5j9nZmZmZmbmP7gehetRuOY/CtejcD0K5z9cj8L1KFznP65H4XoUruc/AAAAAAAA6D9SuB6F61HoP6RwPQrXo+g/9ihcj8L16D9I4XoUrkfpP5qZmZmZmek/7FG4HoXr6T8+CtejcD3qP5DC9Shcj+o/4XoUrkfh6j8zMzMzMzPrP4XrUbgehes/16NwPQrX6z8pXI/C9SjsP3sUrkfheuw/zczMzMzM7D8fhetRuB7tP3E9CtejcO0/w/UoXI/C7T8VrkfhehTuP2dmZmZmZu4/uB6F61G47j8K16NwPQrvP1yPwvUoXO8/rkfhehSu7z8AAAAAAADwPylcj8L1KPA/UrgehetR8D97FK5H4XrwP6RwPQrXo/A/zczMzMzM8D/2KFyPwvXwPx+F61G4HvE/SOF6FK5H8T9xPQrXo3DxP5qZmZmZmfE/w/UoXI/C8T/sUbgehevxPxWuR+F6FPI/PgrXo3A98j9nZmZmZmbyP4/C9Shcj/I/uB6F61G48j/hehSuR+HyPwrXo3A9CvM/MzMzMzMz8z9cj8L1KFzzP4XrUbgehfM/rkfhehSu8z/Xo3A9CtfzPwAAAAAAAPQ/KVyPwvUo9D9SuB6F61H0P3sUrkfhevQ/pHA9Ctej9D/NzMzMzMz0P/YoXI/C9fQ/H4XrUbge9T9I4XoUrkf1P3E9CtejcPU/mpmZmZmZ9T/D9Shcj8L1P+xRuB6F6/U/Fa5H4XoU9j8+CtejcD32P2dmZmZmZvY/j8L1KFyP9j+4HoXrUbj2P+F6FK5H4fY/CtejcD0K9z8zMzMzMzP3P1yPwvUoXPc/hetRuB6F9z+uR+F6FK73P9ejcD0K1/c/",
        "encoding": "base64",
        "path": [
         "_data",
         2,
         "y",
         "value"
        ]
       },
       {
        "data": "AAAAAAAAAAB7FK5H4XqEP3sUrkfhepQ/uB6F61G4nj97FK5H4XqkP5qZmZmZmak/uB6F61G4rj/sUbgeheuxP3sUrkfherQ/CtejcD0Ktz+amZmZmZm5Pylcj8L1KLw/uB6F61G4vj+kcD0K16PAP+xRuB6F68E/MzMzMzMzwz97FK5H4XrEP8P1KFyPwsU/CtejcD0Kxz9SuB6F61HIP5qZmZmZmck/4XoUrkfhyj8pXI/C9SjMP3E9CtejcM0/uB6F61G4zj8AAAAAAADQP6RwPQrXo9A/SOF6FK5H0T/sUbgehevRP4/C9Shcj9I/MzMzMzMz0z/Xo3A9CtfTP3sUrkfhetQ/H4XrUbge1T/D9Shcj8LVP2dmZmZmZtY/CtejcD0K1z+uR+F6FK7XP1K4HoXrUdg/9ihcj8L12D+amZmZmZnZPz4K16NwPdo/4XoUrkfh2j+F61G4HoXbPylcj8L1KNw/zczMzMzM3D9xPQrXo3DdPxWuR+F6FN4/uB6F61G43j9cj8L1KFzfPwAAAAAAAOA/UrgehetR4D+kcD0K16PgP/YoXI/C9eA/SOF6FK5H4T+amZmZmZnhP+xRuB6F6+E/PgrXo3A94j+PwvUoXI/iP+F6FK5H4eI/MzMzMzMz4z+F61G4HoXjP9ejcD0K1+M/KVyPwvUo5D97FK5H4XrkP83MzMzMzOQ/H4XrUbge5T9xPQrXo3DlP8P1KFyPwuU/Fa5H4XoU5j9nZmZmZmbmP7gehetRuOY/CtejcD0K5z9cj8L1KFznP65H4XoUruc/AAAAAAAA6D9SuB6F61HoP6RwPQrXo+g/9ihcj8L16D9I4XoUrkfpP5qZmZmZmek/7FG4HoXr6T8+CtejcD3qP5DC9Shcj+o/4XoUrkfh6j8zMzMzMzPrP4XrUbgehes/16NwPQrX6z8pXI/C9SjsP3sUrkfheuw/zczMzMzM7D8fhetRuB7tP3E9CtejcO0/w/UoXI/C7T8VrkfhehTuP2dmZmZmZu4/uB6F61G47j8K16NwPQrvP1yPwvUoXO8/rkfhehSu7z8AAAAAAADwPylcj8L1KPA/UrgehetR8D97FK5H4XrwP6RwPQrXo/A/zczMzMzM8D/2KFyPwvXwPx+F61G4HvE/SOF6FK5H8T9xPQrXo3DxP5qZmZmZmfE/w/UoXI/C8T/sUbgehevxPxWuR+F6FPI/PgrXo3A98j9nZmZmZmbyP4/C9Shcj/I/uB6F61G48j/hehSuR+HyPwrXo3A9CvM/MzMzMzMz8z9cj8L1KFzzP4XrUbgehfM/rkfhehSu8z/Xo3A9CtfzPwAAAAAAAPQ/KVyPwvUo9D9SuB6F61H0P3sUrkfhevQ/pHA9Ctej9D/NzMzMzMz0P/YoXI/C9fQ/H4XrUbge9T9I4XoUrkf1P3E9CtejcPU/mpmZmZmZ9T/D9Shcj8L1P+xRuB6F6/U/Fa5H4XoU9j8+CtejcD32P2dmZmZmZvY/j8L1KFyP9j+4HoXrUbj2P+F6FK5H4fY/CtejcD0K9z8zMzMzMzP3P1yPwvUoXPc/hetRuB6F9z+uR+F6FK73P9ejcD0K1/c/",
        "encoding": "base64",
        "path": [
         "_data",
         3,
         "y",
         "value"
        ]
       }
      ],
      "model_module": "jupyterlab-plotly",
      "model_module_version": "^5.1.0",
      "model_name": "FigureModel",
      "state": {
       "_config": {
        "plotlyServerURL": "https://plot.ly"
       },
       "_data": [
        {
         "marker": {
          "color": "RoyalBlue"
         },
         "mode": "lines",
         "name": "[SO<sub>4</sub>]",
         "type": "scatter",
         "uid": "ffd7a424-8616-4d34-828b-a19ea0001b27",
         "x": {
          "dtype": "float64",
          "shape": [
           150
          ]
         },
         "xaxis": "x",
         "y": {
          "dtype": "float64",
          "shape": [
           150
          ]
         },
         "yaxis": "y"
        },
        {
         "marker": {
          "color": "MediumSeaGreen"
         },
         "mode": "lines",
         "name": "[FeS<sub>2</sub>]",
         "type": "scatter",
         "uid": "c71df864-8e21-42f0-a876-ff480b1385de",
         "x": {
          "dtype": "float64",
          "shape": [
           150
          ]
         },
         "xaxis": "x",
         "y": {
          "dtype": "float64",
          "shape": [
           150
          ]
         },
         "yaxis": "y"
        },
        {
         "marker": {
          "color": "Navy"
         },
         "mode": "lines",
         "name": "δ<sup>34</sup>S<sub>SO4</sub>",
         "type": "scatter",
         "uid": "8f0721a4-e2d3-4082-b4fa-00d56d3ea4b9",
         "x": [
          23.00000000000013,
          24.923534044210438,
          26.85108477632525,
          28.78268572579845,
          30.71837039660319,
          32.65817226709466,
          34.60212478987823,
          36.55026139167528,
          38.50261547318401,
          40.459220408944674,
          42.42010954720299,
          44.38531620976938,
          46.354873691886624,
          48.32881526209243,
          50.30717416208663,
          52.28998360660175,
          54.27727678327798,
          56.2690868525435,
          58.265446947502355,
          60.26639017383184,
          62.27194960969329,
          64.28215830565564,
          66.29704928463731,
          68.31665554187039,
          70.34101004489268,
          72.37014573356481,
          74.4040955201335,
          76.44289228933032,
          78.48656889852856,
          80.53515817795653,
          82.58869293098581,
          84.64720593450137,
          86.71072993936812,
          88.779297671014,
          90.85294183014203,
          92.93169509359522,
          95.01559011540017,
          97.10465952801117,
          99.19893594379437,
          101.2984519567779,
          null,
          null,
          null,
          null,
          null,
          null,
          null,
          null,
          null,
          null,
          null,
          null,
          null,
          null,
          null,
          null,
          null,
          null,
          null,
          null,
          null,
          null,
          null,
          null,
          null,
          null,
          null,
          null,
          null,
          null,
          null,
          null,
          null,
          null,
          null,
          null,
          null,
          null,
          null,
          null,
          null,
          null,
          null,
          null,
          null,
          null,
          null,
          null,
          null,
          null,
          null,
          null,
          null,
          null,
          null,
          null,
          null,
          null,
          null,
          null,
          null,
          null,
          null,
          null,
          null,
          null,
          null,
          null,
          null,
          null,
          null,
          null,
          null,
          null,
          null,
          null,
          null,
          null,
          null,
          null,
          null,
          null,
          null,
          null,
          null,
          null,
          null,
          null,
          null,
          null,
          null,
          null,
          null,
          null,
          null,
          null,
          null,
          null,
          null,
          null,
          null,
          null,
          null,
          null,
          null,
          null,
          null,
          null,
          null,
          null
         ],
         "xaxis": "x2",
         "y": {
          "dtype": "float64",
          "shape": [
           150
          ]
         },
         "yaxis": "y2"
        },
        {
         "marker": {
          "color": "DarkGreen"
         },
         "mode": "lines",
         "name": "δ<sup>34</sup>S<sub>py</sub>",
         "type": "scatter",
         "uid": "24e429ac-6783-4220-94e3-610aff8c860f",
         "x": [
          -31.00000000000003,
          -30.976879910796008,
          -30.91360618991068,
          -30.817986029536225,
          -30.69637715960949,
          -30.553996306072364,
          -30.3951519430824,
          -30.22342221399321,
          -30.041792565632775,
          -29.852763390592727,
          -29.658435070003986,
          -29.460575795973497,
          -29.260676135970833,
          -29.059993290946107,
          -28.859587269336906,
          -28.660350666261714,
          -28.463033343867018,
          -28.268263015564177,
          -28.07656251626034,
          -27.888364373195085,
          -27.704023163854675,
          -27.523826048600153,
          -27.34800178887142,
          -27.176728501817514,
          -27.010140354921997,
          -26.84833336679615,
          -26.691370450476203,
          -26.5392858117075,
          -26.392088795447744,
          -26.24976725828376,
          -26.112290531780992,
          -25.979612031461485,
          -25.851671557607816,
          -25.728397327105522,
          -25.609707769735923,
          -25.49551311752396,
          -25.385716811721192,
          -25.28021674864045,
          -25.17890638272324,
          -25.0816757028246,
          -24.988412095674594,
          -24.899001108742326,
          -24.81332712325579,
          -24.731273946861254,
          -24.6527253343114,
          -24.577565443638427,
          -24.505679234435362,
          -24.43695281416747,
          -24.371273737805566,
          -24.308531265531563,
          -24.248616582775217,
          -24.1914229864294,
          -24.136846040701766,
          -24.084783705730306,
          -24.03513644179267,
          -23.98780729166461,
          -23.94270194345527,
          -23.89972877601021,
          -23.858798888803268,
          -23.819826118040787,
          -23.78272704055395,
          -23.747420966907406,
          -23.713829925017805,
          -23.681878635462006,
          -23.651494479540514,
          -23.622607461062593,
          -23.59515016273317,
          -23.56905769793116,
          -23.544267658601626,
          -23.520720059905354,
          -23.49835728221217,
          -23.477124010966467,
          -23.45696717489476,
          -23.437835882979428,
          -23.419681360581592,
          -23.402456885048608,
          -23.38611772110677,
          -23.370621056311492,
          -23.355925936783706,
          -23.341993203446766,
          -23.32878542894101,
          -23.31626685537458,
          -23.304403333050615,
          -23.293162260283108,
          -23.28251252440228,
          -23.272424444035433,
          -23.262869712726065,
          -23.25382134395493,
          -23.245253617598436,
          -23.237142027863644,
          -23.22946323272157,
          -23.222195004852786,
          -23.21531618411543,
          -23.208806631533683,
          -23.202647184804803,
          -23.196819615310392,
          -23.191306586621828,
          -23.186091614475156,
          -23.181159028198284,
          -23.176493933561805,
          -23.1720821770246,
          -23.167910311348017,
          -23.163965562541634,
          -23.160235798110552,
          -23.15670949656745,
          -23.15337571817444,
          -23.15022407687861,
          -23.14724471340357,
          -23.144428269459727,
          -23.141765863037065,
          -23.139249064742074,
          -23.136869875140963,
          -23.134620703074482,
          -23.132494344905275,
          -23.130483964662663,
          -23.12858307504817,
          -23.126785519270054,
          -23.12508545366598,
          -23.123477331086217,
          -23.121955884999657,
          -23.12051611429378,
          -23.119153268731594,
          -23.117862835040135,
          -23.116640523596523,
          -23.115482255681165,
          -23.11438415127276,
          -23.11334251735342,
          -23.112353836697075,
          -23.111414757114645,
          -23.110522081129623,
          -23.10967275605713,
          -23.10886386446409,
          -23.10809261498259,
          -23.1073563334524,
          -23.106652454375155,
          -23.105978512646953,
          -23.105332135554768,
          -23.104711035012883,
          -23.10411300001247,
          -23.103535889270944,
          -23.102977624050002,
          -23.10243618112928,
          -23.10190958591074,
          -23.10139590563276,
          -23.100893242673614,
          -23.100399727923214,
          -23.099913514203706,
          -23.099432769715158,
          -23.098955671488785,
          -23.098480398823117
         ],
         "xaxis": "x2",
         "y": {
          "dtype": "float64",
          "shape": [
           150
          ]
         },
         "yaxis": "y2"
        }
       ],
       "_js2py_pointsCallback": {},
       "_js2py_relayout": {},
       "_js2py_restyle": {},
       "_js2py_update": {},
       "_last_layout_edit_id": 8,
       "_last_trace_edit_id": 8,
       "_layout": {
        "height": 600,
        "hovermode": "y",
        "margin": {
         "t": 60
        },
        "template": {
         "layout": {
          "bargap": 0.05,
          "bargroupgap": 0,
          "font": {
           "color": "black",
           "family": "Arial",
           "size": 16
          },
          "height": 700,
          "hovermode": "closest",
          "margin": {
           "b": 60,
           "l": 60,
           "r": 30,
           "t": 30
          },
          "scene": {
           "xaxis": {
            "color": "black",
            "linewidth": 2,
            "showline": true,
            "ticks": "outside"
           },
           "yaxis": {
            "color": "black",
            "linewidth": 2,
            "showline": true,
            "ticks": "outside"
           },
           "zaxis": {
            "color": "black",
            "linewidth": 2,
            "showline": true,
            "ticks": "outside"
           }
          },
          "xaxis": {
           "color": "black",
           "linewidth": 1.3,
           "mirror": true,
           "showgrid": true,
           "showline": true,
           "ticks": "outside",
           "zeroline": true
          },
          "yaxis": {
           "color": "black",
           "linewidth": 1.3,
           "mirror": true,
           "showgrid": true,
           "showline": true,
           "ticks": "outside",
           "zeroline": true
          }
         }
        },
        "width": 1000,
        "xaxis": {
         "anchor": "y",
         "domain": [
          0,
          0.495
         ],
         "title": {
          "text": "Concentration / mol dm<sup>−3</sup>"
         }
        },
        "xaxis2": {
         "anchor": "y2",
         "domain": [
          0.505,
          1
         ],
         "title": {
          "text": "δ<sup>34</sup>S (‰)"
         }
        },
        "yaxis": {
         "anchor": "x",
         "domain": [
          0,
          1
         ],
         "rangemode": "tozero",
         "title": {
          "text": "Depth, <i>z</i> / m"
         }
        },
        "yaxis2": {
         "anchor": "x2",
         "domain": [
          0,
          1
         ],
         "matches": "y",
         "showticklabels": false
        }
       },
       "_py2js_animate": {},
       "_py2js_deleteTraces": {},
       "_py2js_moveTraces": {},
       "_py2js_relayout": {},
       "_py2js_removeTraceProps": {},
       "_py2js_restyle": {},
       "_view_count": 1
      }
     },
     "20d600180b174c25ad94fdf02ac4f204": {
      "model_module": "@jupyter-widgets/controls",
      "model_module_version": "1.5.0",
      "model_name": "FloatSliderModel",
      "state": {
       "description": "dz",
       "layout": "IPY_MODEL_bb133553975841fb9179eb106d278e26",
       "max": 0.1,
       "min": 0.001,
       "step": 0.001,
       "style": "IPY_MODEL_5a69563593d34864bda0a471be366842",
       "value": 0.01
      }
     },
     "20f3e87e99184b6386aa68d13fc189e1": {
      "model_module": "@jupyter-widgets/controls",
      "model_module_version": "1.5.0",
      "model_name": "FloatTextModel",
      "state": {
       "description": "from",
       "layout": "IPY_MODEL_7b677a385b2245f5b015186e07a273d4",
       "step": 0.01,
       "style": "IPY_MODEL_ae0aa5ab388b4fb18af55ba13e7ae536",
       "value": 0.005
      }
     },
     "212cfa0342934965ad44c3cb305bb28d": {
      "model_module": "@jupyter-widgets/controls",
      "model_module_version": "1.5.0",
      "model_name": "FloatRangeSliderModel",
      "state": {
       "_model_name": "FloatRangeSliderModel",
       "_view_name": "FloatRangeSliderView",
       "description": "[FeS<sub>2</sub>]<sub>0</sub>",
       "layout": "IPY_MODEL_d2d34e6afe174c04b2e58940a9eb2e26",
       "max": 1,
       "step": 0.0025,
       "style": "IPY_MODEL_c31d3e2dc2b444b898bb046f87ec452b",
       "value": [
        0.16,
        0.16
       ]
      }
     },
     "215a4160204a410b8e3f55ce8e4c90a2": {
      "model_module": "@jupyter-widgets/base",
      "model_module_version": "1.2.0",
      "model_name": "LayoutModel",
      "state": {
       "width": "100%"
      }
     },
     "21c56ead3a484ee3bc01820bf4628890": {
      "model_module": "@jupyter-widgets/base",
      "model_module_version": "1.2.0",
      "model_name": "LayoutModel",
      "state": {}
     },
     "2203a5be39fc4fbaa311d3f9266a33a6": {
      "model_module": "@jupyter-widgets/base",
      "model_module_version": "1.2.0",
      "model_name": "LayoutModel",
      "state": {}
     },
     "220e26ef06714bdca230c308a45f76d1": {
      "model_module": "@jupyter-widgets/base",
      "model_module_version": "1.2.0",
      "model_name": "LayoutModel",
      "state": {}
     },
     "2213e0dd26834643a67a437b5df2c1a8": {
      "model_module": "@jupyter-widgets/controls",
      "model_module_version": "1.5.0",
      "model_name": "FloatSliderModel",
      "state": {
       "description": "Opacity",
       "layout": "IPY_MODEL_c2b6e11a612a46de817fb1d6e6c53235",
       "max": 1,
       "step": 0.01,
       "style": "IPY_MODEL_3829b21ab4884b0391ce439e025625be",
       "value": 1
      }
     },
     "2214929f8df14808a7490b6af01d7e5d": {
      "model_module": "@jupyter-widgets/controls",
      "model_module_version": "1.5.0",
      "model_name": "HBoxModel",
      "state": {
       "children": [
        "IPY_MODEL_482ec8ba9b764afab8318ec347d052ba",
        "IPY_MODEL_0213b447d10347e38e4a9fc2b281c4b7"
       ],
       "layout": "IPY_MODEL_7236d410ab364e1ab0525b7cadecf4c5"
      }
     },
     "228d8e629fa74de0a03086e623368920": {
      "model_module": "@jupyter-widgets/base",
      "model_module_version": "1.2.0",
      "model_name": "LayoutModel",
      "state": {}
     },
     "22e1f8e610aa4f389312f4e343b180aa": {
      "model_module": "@jupyter-widgets/controls",
      "model_module_version": "1.5.0",
      "model_name": "HBoxModel",
      "state": {
       "children": [
        "IPY_MODEL_0405243f148546df85c8fbac8c2536f4",
        "IPY_MODEL_0f93110134114ca4b7ed41b8a42ada7a"
       ],
       "layout": "IPY_MODEL_b89ed98931e1441e98a9f213c9484d71"
      }
     },
     "23330f0e7c5c49789d977b4174185d4d": {
      "model_module": "@jupyter-widgets/controls",
      "model_module_version": "1.5.0",
      "model_name": "DescriptionStyleModel",
      "state": {
       "description_width": ""
      }
     },
     "2373679b67a5400daf12d648706710a1": {
      "model_module": "@jupyter-widgets/base",
      "model_module_version": "1.2.0",
      "model_name": "LayoutModel",
      "state": {
       "width": "100%"
      }
     },
     "2428e8d95bb849088019fb90659541ef": {
      "model_module": "@jupyter-widgets/output",
      "model_module_version": "1.0.0",
      "model_name": "OutputModel",
      "state": {
       "layout": "IPY_MODEL_47ea576d3db242ab8b3b667437209d2a"
      }
     },
     "243e87441c714e4bbf6b913f4f8793ae": {
      "buffers": [
       {
        "data": "XFpQhZJ17D9b/Jw93n7fP+i1AE/bJ+U/COOO8seB5T9UIVbvVIjlP/MSfp9MYOk/YWEw5OqV4j9vjvTiq5frP34pYmErnOg/JwmWh+si6T86iSG/wLvpP+AZe2LoueQ/oky2XYDC6z8VMB/ILizmP31ENZuxbew/leBQ+fVw4T/XZFmTZU3mP2NCE/0qa+Y/m5fEvhcf3T9GRXYeekHoP3Z5XCXJGe0/Iehdp+E33D/Gee6rKInoP5aLiHIAx+A/rkb+MVY86j8TBt9pCuzgPxBDdWroROM/WAljs6Da6z/5psodzi/iP98IkaMLBuc/DOpCMlxN4z8a/V1dqE7nPxhaRmnw2ec/NsF4K/sc4j+byUeerbLiP9Bf0a/DSOg/UQ9OXHM75j8=",
        "encoding": "base64",
        "path": [
         "_data",
         0,
         "x",
         "value"
        ]
       },
       {
        "data": "XFpQhZJ17D9b/Jw93n7fP+i1AE/bJ+U/COOO8seB5T9UIVbvVIjlP/MSfp9MYOk/YWEw5OqV4j9vjvTiq5frP34pYmErnOg/JwmWh+si6T86iSG/wLvpP+AZe2LoueQ/oky2XYDC6z8VMB/ILizmP31ENZuxbew/leBQ+fVw4T/XZFmTZU3mP2NCE/0qa+Y/m5fEvhcf3T9GRXYeekHoP3Z5XCXJGe0/Iehdp+E33D/Gee6rKInoP5aLiHIAx+A/rkb+MVY86j8TBt9pCuzgPxBDdWroROM/WAljs6Da6z/5psodzi/iP98IkaMLBuc/DOpCMlxN4z8a/V1dqE7nPxhaRmnw2ec/NsF4K/sc4j+byUeerbLiP9Bf0a/DSOg/UQ9OXHM75j8=",
        "encoding": "base64",
        "path": [
         "_data",
         1,
         "x",
         "value"
        ]
       },
       {
        "data": "XFpQhZJ17D9b/Jw93n7fP+i1AE/bJ+U/COOO8seB5T9UIVbvVIjlP/MSfp9MYOk/YWEw5OqV4j9vjvTiq5frP34pYmErnOg/JwmWh+si6T86iSG/wLvpP+AZe2LoueQ/oky2XYDC6z8VMB/ILizmP31ENZuxbew/leBQ+fVw4T/XZFmTZU3mP2NCE/0qa+Y/m5fEvhcf3T9GRXYeekHoP3Z5XCXJGe0/Iehdp+E33D/Gee6rKInoP5aLiHIAx+A/rkb+MVY86j8TBt9pCuzgPxBDdWroROM/WAljs6Da6z/5psodzi/iP98IkaMLBuc/DOpCMlxN4z8a/V1dqE7nPxhaRmnw2ec/NsF4K/sc4j+byUeerbLiP9Bf0a/DSOg/UQ9OXHM75j8=",
        "encoding": "base64",
        "path": [
         "_data",
         2,
         "x",
         "value"
        ]
       },
       {
        "data": "AAAAAACAvz///////3/nP+NZRvQB1dE/AAAAAAAA5z/Cbn4LAaPkPxVQARVQAdU/6VCD3ZmM5j+KU7/nljjVP7IVQcNJ3dc/9onqQSPv3D/6j++FCMTMP1HrVwrU+uU/mJIpmZIp2T9e3MVd3MXdP+iiiy666OI/v9wQA9Kx5D8OePzhgMffP4v2m/JcAtk/GHqhF3qh5z/sPtwCCqPaPzP8l0DotdM/MwTraPM+5T8z/iMwPTjLP1VVVVVVVeU/1YGPuYn2zT9IgzRIgzToP3mFV3iFV9g/MQpR/UjY0T+yH/uxH/vhP0Qn7YNkQN0/eXh4eHh46D+/TTFq+NvkP0dY7mmE5c4/nYM1S4xP6T/A/HWW+hnQP0UXXXTRRdc/Ce0ltJfQ4j8=",
        "encoding": "base64",
        "path": [
         "_data",
         2,
         "y",
         "value"
        ]
       },
       {
        "data": "T0KGcHbH7j86EYT0pwfwPw==",
        "encoding": "base64",
        "path": [
         "_data",
         4,
         "x",
         "value"
        ]
       },
       {
        "data": "T0KGcHbH7j86EYT0pwfwPw==",
        "encoding": "base64",
        "path": [
         "_data",
         5,
         "x",
         "value"
        ]
       },
       {
        "data": "T0KGcHbH7j86EYT0pwfwPw==",
        "encoding": "base64",
        "path": [
         "_data",
         6,
         "x",
         "value"
        ]
       },
       {
        "data": "mPMp6AFctz9Gt/CrMZGOPw==",
        "encoding": "base64",
        "path": [
         "_data",
         6,
         "y",
         "value"
        ]
       },
       {
        "data": "5AmIzlf36D9emZpSNBjuPw==",
        "encoding": "base64",
        "path": [
         "_data",
         8,
         "x",
         "value"
        ]
       },
       {
        "data": "5AmIzlf36D9emZpSNBjuPw==",
        "encoding": "base64",
        "path": [
         "_data",
         9,
         "x",
         "value"
        ]
       },
       {
        "data": "5AmIzlf36D9emZpSNBjuPw==",
        "encoding": "base64",
        "path": [
         "_data",
         10,
         "x",
         "value"
        ]
       },
       {
        "data": "rLid02c/4D8e8DVNqh7gPw==",
        "encoding": "base64",
        "path": [
         "_data",
         10,
         "y",
         "value"
        ]
       },
       {
        "data": "+k0Z2ieF6z9n8Jvo6dzuP83MzMzMzOw/iSoyRzZm7j9XXkDVXgfpPx8Fm/+4E+4/kvh/CifL6j8B6oqXvM3kP0+KscuHWuQ/SHgHzFPJ7z8RvCr8pHPiPw==",
        "encoding": "base64",
        "path": [
         "_data",
         12,
         "x",
         "value"
        ]
       },
       {
        "data": "+k0Z2ieF6z9n8Jvo6dzuP83MzMzMzOw/iSoyRzZm7j9XXkDVXgfpPx8Fm/+4E+4/kvh/CifL6j8B6oqXvM3kP0+KscuHWuQ/SHgHzFPJ7z8RvCr8pHPiPw==",
        "encoding": "base64",
        "path": [
         "_data",
         13,
         "x",
         "value"
        ]
       },
       {
        "data": "+k0Z2ieF6z9n8Jvo6dzuP83MzMzMzOw/iSoyRzZm7j9XXkDVXgfpPx8Fm/+4E+4/kvh/CifL6j8B6oqXvM3kP0+KscuHWuQ/SHgHzFPJ7z8RvCr8pHPiPw==",
        "encoding": "base64",
        "path": [
         "_data",
         14,
         "x",
         "value"
        ]
       },
       {
        "data": "Ju+ND7gs4T8UO7ETO7HTP6jeOcE/89g/M8lF7VnLuT/UM5XrjhfbPyguGYJ1tMk/23eiGVIR2j8dz6mkgITfP/SuxWgy79o//P//////zD+BMYmD963hPw==",
        "encoding": "base64",
        "path": [
         "_data",
         14,
         "y",
         "value"
        ]
       },
       {
        "data": "exSuR+F6hD8Yl0Wb0e2eP/kRWkkZz6k/M6yI4qQTsj9pT2QgvT+3P5/yP17Va7w/68oNzvbLwD+HnPvsAmLDPyJu6QsP+MU/vT/XKhuOyD9YEcVJJyTLP/Tismgzus0/R1rQwx8o0D8VQ0fTJXPRP+MrvuIrvtI/sBQ18jEJ1D9+/asBOFTVP0zmIhE+n9Y/Gc+ZIETq1z/ntxAwSjXZP7Sghz9QgNo/gon+TlbL2z9QcnVeXBbdPx1b7G1iYd4/60NjfWis3z9cFm1Gt3vgP8OKKE46IeE/Kv/jVb3G4T+Rc59dQGziP/jnWmXDEeM/XlwWbUa34z/F0NF0yVzkPyxFjXxMAuU/k7lIhM+n5T/6LQSMUk3mP2Civ5PV8uY/xxZ7m1iY5z8uizaj2z3oP5X/8ape4+g//HOtsuGI6T9i6Gi6ZC7qP8lcJMLn0+o/MNHfyWp56z+XRZvR7R7sP/65VtlwxOw/ZS4S4fNp7T/Los3odg/uPzIXifD5tO4/mYtE+Hxa7z8AAAAAAADwPw==",
        "encoding": "base64",
        "path": [
         "_data",
         16,
         "x",
         "value"
        ]
       },
       {
        "data": "yQo2HoR0FkDv1oVR5rz9P5t7H1WT0fE/SlASCcVw6T9V2imC3MfjP10e1CRQLuA/GpiBwBNh2z+fr7Ze57nXP/OTw+vm7tQ/lyjxzIG60j8Y6UHmqvHQP9PLnHGg8M4/fEPMcLh2zD+XIL3qwlrKP927fy1Oicg/cUhYg+3zxj/yqYaws4/FPyxaqAYzVMQ/3reJftA6wz+RoaAITD7CP8j0ZudrWsE/oql4qr+LwD+f2WXg5p6/P9Cs8yhdRr4/hnltEfUJvT8RIN4uX+a7PxY6DwbM2Lo/0jiUx9TeuT9qHvHxaPa4Py4KOrC/Hbg/P6OdGUxTtz8/PhGus5W2P0M6qJTG47U/bAedPXk8tT8Aq90f3560P8lEMlomCrQ/arxVDJR9sz8UPqlFgfiyPwwxTm5YerI/ZwD1FJMCsj/oNfgPuJCxP1GXtuNZJLE/Oy/EYhW9sD+GQaN+kFqwPzA/xYLy+K8/kASt0wlFrz/sc2xK3piuP2hUk8Py860/TPUQbtRVrT+HLEXAGb6sPw==",
        "encoding": "base64",
        "path": [
         "_data",
         16,
         "y",
         "value"
        ]
       }
      ],
      "model_module": "jupyterlab-plotly",
      "model_module_version": "^5.1.0",
      "model_name": "FigureModel",
      "state": {
       "_config": {
        "plotlyServerURL": "https://plot.ly"
       },
       "_data": [
        {
         "legendgroup": "Mudstone",
         "marker": {
          "color": "Purple",
          "opacity": 0.3,
          "symbol": "circle"
         },
         "mode": "markers",
         "name": "Mudstone (pre-diagenesis)",
         "text": [
          "KC-2-1",
          "KC-2-2",
          "KC-2-2.5",
          "KC-2-3",
          "KC-2-3.5",
          "KC-2-4.5",
          "KC-2-5",
          "KC-2-6",
          "KC-2-6.5",
          "KC-2-7",
          "KC-2-8",
          "KC-2-9",
          "KC-2-10",
          "KC-2-11",
          "KC-2-12",
          "KC-2-13",
          "KC-2-14",
          "KC-2-14.5",
          "KC-2-15",
          "KC-2-15.5",
          "KC-2-16",
          "KC-2-17",
          "KC-2-18",
          "KC-2-19",
          "KC-2-20",
          "KC-2-21",
          "KC-2-21.5",
          "KC-2-22",
          "KC-2-23",
          "KC-2-24",
          "KC-2-25",
          "KC-2-25.5",
          "KC-2-26",
          "KC-2-26.5",
          "KC-2-27",
          "KC-2-28",
          "KC-2-29"
         ],
         "type": "scatter",
         "uid": "9204fcc0-3933-4120-a1b9-96cb3fea8e5a",
         "x": {
          "dtype": "float64",
          "shape": [
           37
          ]
         },
         "y": [
          0.10265624999999999,
          0.41062499999999996,
          0.20061068702290075,
          0.20531249999999998,
          0.21453061224489792,
          0.13476923076923075,
          0.27233160621761654,
          0.1383157894736842,
          0.14847457627118643,
          0.15736526946107784,
          0.06249702734839476,
          0.26545454545454544,
          0.06417582417582417,
          0.19252747252747252,
          0.06636363636363636,
          0.3147305389221557,
          0.1812413793103448,
          0.1617230769230769,
          0.4043076923076923,
          0.14681564245810055,
          0.0975139146567718,
          0.4308196721311475,
          0.09237258347978909,
          0.3504,
          0.10792607802874742,
          0.3369230769230769,
          0.2246153846153846,
          0.110188679245283,
          0.2502857142857143,
          0.16122699386503067,
          0.2576470588235294,
          0.19466666666666663,
          0.13941644562334216,
          0.29694915254237286,
          0.11112050739957714,
          0.11945454545454544,
          0.2433333333333333
         ]
        },
        {
         "legendgroup": "Mudstone",
         "marker": {
          "color": "Green",
          "symbol": "circle"
         },
         "mode": "markers",
         "name": "Mudstone (modelled)",
         "text": [
          "KC-2-1",
          "KC-2-2",
          "KC-2-2.5",
          "KC-2-3",
          "KC-2-3.5",
          "KC-2-4.5",
          "KC-2-5",
          "KC-2-6",
          "KC-2-6.5",
          "KC-2-7",
          "KC-2-8",
          "KC-2-9",
          "KC-2-10",
          "KC-2-11",
          "KC-2-12",
          "KC-2-13",
          "KC-2-14",
          "KC-2-14.5",
          "KC-2-15",
          "KC-2-15.5",
          "KC-2-16",
          "KC-2-17",
          "KC-2-18",
          "KC-2-19",
          "KC-2-20",
          "KC-2-21",
          "KC-2-21.5",
          "KC-2-22",
          "KC-2-23",
          "KC-2-24",
          "KC-2-25",
          "KC-2-25.5",
          "KC-2-26",
          "KC-2-26.5",
          "KC-2-27",
          "KC-2-28",
          "KC-2-29"
         ],
         "type": "scatter",
         "uid": "3100dbdc-08e6-4156-a917-2f3bdba98d24",
         "x": {
          "dtype": "float64",
          "shape": [
           37
          ]
         },
         "y": [
          0.14407253526657243,
          0.5762901410662897,
          0.2815463284598667,
          0.28814507053314486,
          0.3010821961489187,
          0.18914137963201302,
          0.38220278785743567,
          0.19411878435917126,
          0.2083760962047601,
          0.22085370675594337,
          0.08771122242150425,
          0.3725512023054802,
          0.0900673236342919,
          0.27020197090287573,
          0.09313780057637006,
          0.44170741351188675,
          0.25436254502236233,
          0.22696965555841564,
          0.5674241388960392,
          0.20604787166615943,
          0.13685554370405395,
          0.6046322791515171,
          0.1296399614349474,
          0.49176758704323387,
          0.15146845596814185,
          0.4728534490800326,
          0.31523563272002175,
          0.1546438952966144,
          0.35126256217373847,
          0.2262734296211199,
          0.36159381400237783,
          0.2732042150240188,
          0.19566349617104795,
          0.4167521924095202,
          0.1559516660813638,
          0.16764804103746608,
          0.3415052687800235
         ]
        },
        {
         "legendgroup": "Mudstone",
         "marker": {
          "color": "Blue",
          "opacity": 0.3,
          "symbol": "circle"
         },
         "mode": "markers",
         "name": "Mudstone (post-diagenesis)",
         "text": [
          "KC-2-1",
          "KC-2-2",
          "KC-2-2.5",
          "KC-2-3",
          "KC-2-3.5",
          "KC-2-4.5",
          "KC-2-5",
          "KC-2-6",
          "KC-2-6.5",
          "KC-2-7",
          "KC-2-8",
          "KC-2-9",
          "KC-2-10",
          "KC-2-11",
          "KC-2-12",
          "KC-2-13",
          "KC-2-14",
          "KC-2-14.5",
          "KC-2-15",
          "KC-2-15.5",
          "KC-2-16",
          "KC-2-17",
          "KC-2-18",
          "KC-2-19",
          "KC-2-20",
          "KC-2-21",
          "KC-2-21.5",
          "KC-2-22",
          "KC-2-23",
          "KC-2-24",
          "KC-2-25",
          "KC-2-25.5",
          "KC-2-26",
          "KC-2-26.5",
          "KC-2-27",
          "KC-2-28",
          "KC-2-29"
         ],
         "type": "scatter",
         "uid": "8c0b7722-9acc-4135-acab-7708fe801107",
         "x": {
          "dtype": "float64",
          "shape": [
           37
          ]
         },
         "y": {
          "dtype": "float64",
          "shape": [
           37
          ]
         }
        },
        {
         "legendgroup": "Mudstone",
         "marker": {
          "color": "FireBrick",
          "symbol": "circle"
         },
         "mode": "markers",
         "name": "Mudstone (residuals)",
         "text": [
          "KC-2-1",
          "KC-2-2",
          "KC-2-2.5",
          "KC-2-3",
          "KC-2-3.5",
          "KC-2-4.5",
          "KC-2-5",
          "KC-2-6",
          "KC-2-6.5",
          "KC-2-7",
          "KC-2-8",
          "KC-2-9",
          "KC-2-10",
          "KC-2-11",
          "KC-2-12",
          "KC-2-13",
          "KC-2-14",
          "KC-2-14.5",
          "KC-2-15",
          "KC-2-15.5",
          "KC-2-16",
          "KC-2-17",
          "KC-2-18",
          "KC-2-19",
          "KC-2-20",
          "KC-2-21",
          "KC-2-21.5",
          "KC-2-22",
          "KC-2-23",
          "KC-2-24",
          "KC-2-25",
          "KC-2-25.5",
          "KC-2-26",
          "KC-2-26.5",
          "KC-2-27",
          "KC-2-28",
          "KC-2-29"
         ],
         "type": "scatter",
         "uid": "509e246c-ea0d-40c7-9fbb-3789f5690c54",
         "visible": false
        },
        {
         "legendgroup": "Carbonate",
         "marker": {
          "color": "Purple",
          "opacity": 0.3,
          "symbol": "star"
         },
         "mode": "markers",
         "name": "Carbonate (pre-diagenesis)",
         "text": [
          "KC-2-0",
          "KC-2-30"
         ],
         "type": "scatter",
         "uid": "e1071981-2ed8-4b74-98fc-229adbc7d630",
         "x": {
          "dtype": "float64",
          "shape": [
           2
          ]
         },
         "y": [
          0.09787709497206704,
          0.1961194029850746
         ]
        },
        {
         "legendgroup": "Carbonate",
         "marker": {
          "color": "Green",
          "symbol": "star"
         },
         "mode": "markers",
         "name": "Carbonate (modelled)",
         "text": [
          "KC-2-0",
          "KC-2-30"
         ],
         "type": "scatter",
         "uid": "16a5ffbe-3843-437d-9d82-9770add89cb6",
         "x": {
          "dtype": "float64",
          "shape": [
           2
          ]
         },
         "y": [
          0.13736524777743964,
          0.2752430524495712
         ]
        },
        {
         "legendgroup": "Carbonate",
         "marker": {
          "color": "Blue",
          "opacity": 0.3,
          "symbol": "star"
         },
         "mode": "markers",
         "name": "Carbonate (post-diagenesis)",
         "text": [
          "KC-2-0",
          "KC-2-30"
         ],
         "type": "scatter",
         "uid": "e86f12df-fea3-4b48-b457-96e552535f50",
         "x": {
          "dtype": "float64",
          "shape": [
           2
          ]
         },
         "y": {
          "dtype": "float64",
          "shape": [
           2
          ]
         }
        },
        {
         "legendgroup": "Carbonate",
         "marker": {
          "color": "FireBrick",
          "symbol": "star"
         },
         "mode": "markers",
         "name": "Carbonate (residuals)",
         "text": [
          "KC-2-0",
          "KC-2-30"
         ],
         "type": "scatter",
         "uid": "99024707-9a8f-4211-bdd1-b37a7609b3e6",
         "visible": false
        },
        {
         "legendgroup": "Pervasively pyritised regions",
         "marker": {
          "color": "Purple",
          "opacity": 0.3,
          "symbol": "square"
         },
         "mode": "markers",
         "name": "Pervasively pyritised regions (pre-diagenesis)",
         "text": [
          "KC-2-6p",
          "KC-2-22p"
         ],
         "type": "scatter",
         "uid": "f32d8605-3449-48ff-8abb-62983865644f",
         "x": {
          "dtype": "float64",
          "shape": [
           2
          ]
         },
         "y": [
          0.16272445820433437,
          0.05621390374331551
         ]
        },
        {
         "legendgroup": "Pervasively pyritised regions",
         "marker": {
          "color": "Green",
          "symbol": "square"
         },
         "mode": "markers",
         "name": "Pervasively pyritised regions (modelled)",
         "text": [
          "KC-2-6p",
          "KC-2-22p"
         ],
         "type": "scatter",
         "uid": "7d13ac7c-aaab-4879-bf69-a26b5033c176",
         "x": {
          "dtype": "float64",
          "shape": [
           2
          ]
         },
         "y": [
          0.22837504042255447,
          0.07889319578233699
         ]
        },
        {
         "legendgroup": "Pervasively pyritised regions",
         "marker": {
          "color": "Blue",
          "opacity": 0.3,
          "symbol": "square"
         },
         "mode": "markers",
         "name": "Pervasively pyritised regions (post-diagenesis)",
         "text": [
          "KC-2-6p",
          "KC-2-22p"
         ],
         "type": "scatter",
         "uid": "fe5a1c20-1f45-46a3-a422-1e133c8b775b",
         "x": {
          "dtype": "float64",
          "shape": [
           2
          ]
         },
         "y": {
          "dtype": "float64",
          "shape": [
           2
          ]
         }
        },
        {
         "legendgroup": "Pervasively pyritised regions",
         "marker": {
          "color": "FireBrick",
          "symbol": "square"
         },
         "mode": "markers",
         "name": "Pervasively pyritised regions (residuals)",
         "text": [
          "KC-2-6p",
          "KC-2-22p"
         ],
         "type": "scatter",
         "uid": "559a6ea9-dd4c-450a-b278-44abead85607",
         "visible": false
        },
        {
         "legendgroup": "Bed 22",
         "marker": {
          "color": "Purple",
          "opacity": 0.3,
          "symbol": "diamond"
         },
         "mode": "markers",
         "name": "Bed 22 (pre-diagenesis)",
         "text": [
          "KC-3-A",
          "KC-3-B",
          "KC-3-C",
          "KC-3-D",
          "KC-3-E",
          "KC-3-F",
          "KC-3-G",
          "KC-3-H",
          "KC-3-I",
          "KC-3-J",
          "KC-3-K"
         ],
         "type": "scatter",
         "uid": "01369cf7-750a-4d7d-8095-3ef1e94e0995",
         "x": {
          "dtype": "float64",
          "shape": [
           11
          ]
         },
         "y": [
          0.13306329113924048,
          0.10639676113360322,
          0.0503448275862069,
          0.03627329192546583,
          0.16122699386503067,
          0.1077049180327869,
          0.07112313937753721,
          0.26412060301507534,
          0.20293436293436293,
          0.08212499999999999,
          0.2903867403314917
         ]
        },
        {
         "legendgroup": "Bed 22",
         "marker": {
          "color": "Green",
          "symbol": "diamond"
         },
         "mode": "markers",
         "name": "Bed 22 (modelled)",
         "text": [
          "KC-3-A",
          "KC-3-B",
          "KC-3-C",
          "KC-3-D",
          "KC-3-E",
          "KC-3-F",
          "KC-3-G",
          "KC-3-H",
          "KC-3-I",
          "KC-3-J",
          "KC-3-K"
         ],
         "type": "scatter",
         "uid": "3925677c-cca7-4c99-ae27-80c9453b7cd3",
         "x": {
          "dtype": "float64",
          "shape": [
           11
          ]
         },
         "y": [
          0.18674718495312678,
          0.14932214181474712,
          0.07065626250621176,
          0.0509076177063389,
          0.2262734296211199,
          0.1511580697878793,
          0.09981750751892433,
          0.3706790857109803,
          0.28480748284357177,
          0.11525802821325794,
          0.4075421992070999
         ]
        },
        {
         "legendgroup": "Bed 22",
         "marker": {
          "color": "Blue",
          "opacity": 0.3,
          "symbol": "diamond"
         },
         "mode": "markers",
         "name": "Bed 22 (post-diagenesis)",
         "text": [
          "KC-3-A",
          "KC-3-B",
          "KC-3-C",
          "KC-3-D",
          "KC-3-E",
          "KC-3-F",
          "KC-3-G",
          "KC-3-H",
          "KC-3-I",
          "KC-3-J",
          "KC-3-K"
         ],
         "type": "scatter",
         "uid": "e4f0ae15-cc70-4916-a1e9-4b38f94e5042",
         "x": {
          "dtype": "float64",
          "shape": [
           11
          ]
         },
         "y": {
          "dtype": "float64",
          "shape": [
           11
          ]
         }
        },
        {
         "legendgroup": "Bed 22",
         "marker": {
          "color": "FireBrick",
          "symbol": "diamond"
         },
         "mode": "markers",
         "name": "Bed 22 (residuals)",
         "text": [
          "KC-3-A",
          "KC-3-B",
          "KC-3-C",
          "KC-3-D",
          "KC-3-E",
          "KC-3-F",
          "KC-3-G",
          "KC-3-H",
          "KC-3-I",
          "KC-3-J",
          "KC-3-K"
         ],
         "type": "scatter",
         "uid": "762488d2-59b2-4e23-89f4-c83c6f8b629f",
         "visible": false
        },
        {
         "line": {
          "color": "LightGreen"
         },
         "name": "model (const. total Fe)",
         "type": "scatter",
         "uid": "b2ea64a8-935d-454c-8a27-14bb5d17ce12",
         "x": {
          "dtype": "float64",
          "shape": [
           50
          ]
         },
         "y": {
          "dtype": "float64",
          "shape": [
           50
          ]
         }
        }
       ],
       "_js2py_pointsCallback": {},
       "_js2py_relayout": {},
       "_js2py_restyle": {},
       "_js2py_update": {},
       "_last_layout_edit_id": 26,
       "_last_trace_edit_id": 22,
       "_layout": {
        "height": 600,
        "legend": {
         "font": {
          "size": 11
         }
        },
        "shapes": [
         {
          "line": {
           "dash": "dash",
           "width": 1
          },
          "type": "line",
          "x0": 0,
          "x1": 1,
          "xref": "x domain",
          "y0": 0.8,
          "y1": 0.8,
          "yref": "y"
         },
         {
          "line": {
           "dash": "dash",
           "width": 1
          },
          "type": "line",
          "x0": 0.38,
          "x1": 0.38,
          "xref": "x",
          "y0": 0,
          "y1": 1,
          "yref": "y domain"
         }
        ],
        "template": {
         "layout": {
          "bargap": 0.05,
          "bargroupgap": 0,
          "font": {
           "color": "black",
           "family": "Arial",
           "size": 16
          },
          "height": 700,
          "hovermode": "closest",
          "margin": {
           "b": 60,
           "l": 60,
           "r": 30,
           "t": 30
          },
          "scene": {
           "xaxis": {
            "color": "black",
            "linewidth": 2,
            "showline": true,
            "ticks": "outside"
           },
           "yaxis": {
            "color": "black",
            "linewidth": 2,
            "showline": true,
            "ticks": "outside"
           },
           "zaxis": {
            "color": "black",
            "linewidth": 2,
            "showline": true,
            "ticks": "outside"
           }
          },
          "xaxis": {
           "color": "black",
           "linewidth": 1.3,
           "mirror": true,
           "showgrid": true,
           "showline": true,
           "ticks": "outside",
           "zeroline": true
          },
          "yaxis": {
           "color": "black",
           "linewidth": 1.3,
           "mirror": true,
           "showgrid": true,
           "showline": true,
           "ticks": "outside",
           "zeroline": true
          }
         }
        },
        "width": 900,
        "xaxis": {
         "range": [
          0,
          1
         ],
         "title": {
          "text": "[Fe<sub>HR</sub>]/[Fe<sub>tot</sub>]"
         }
        },
        "yaxis": {
         "range": [
          0,
          1
         ],
         "title": {
          "text": "[Fe<sub>py</sub>]/[Fe<sub>HR</sub>]"
         }
        }
       },
       "_py2js_animate": {},
       "_py2js_deleteTraces": {},
       "_py2js_moveTraces": {},
       "_py2js_removeLayoutProps": {},
       "_py2js_removeTraceProps": {},
       "_py2js_restyle": {},
       "_view_count": 1
      }
     },
     "24ae9dd65406491f92b48f84551ab389": {
      "model_module": "@jupyter-widgets/controls",
      "model_module_version": "1.5.0",
      "model_name": "FloatSliderModel",
      "state": {
       "description": "Opacity",
       "layout": "IPY_MODEL_0a41d2ed14e34890b6fb2db7bda88f25",
       "max": 1,
       "step": 0.01,
       "style": "IPY_MODEL_64edd43b854d484290a1d690c78616f8",
       "value": 1
      }
     },
     "25361a71fe814090b405322e513931a1": {
      "model_module": "@jupyter-widgets/controls",
      "model_module_version": "1.5.0",
      "model_name": "FloatRangeSliderModel",
      "state": {
       "_model_name": "FloatRangeSliderModel",
       "_view_name": "FloatRangeSliderView",
       "description": "k<sub>MSR</sub>",
       "layout": "IPY_MODEL_c3ecb6d0a7fc4d1aa91aece3c6f8b13a",
       "max": 40,
       "step": 0.1,
       "style": "IPY_MODEL_b7137e0be85a488a918146b11c86d809",
       "value": [
        10,
        10
       ]
      }
     },
     "25a58baf87654f379b3998254979300f": {
      "model_module": "@jupyter-widgets/controls",
      "model_module_version": "1.5.0",
      "model_name": "SliderStyleModel",
      "state": {
       "description_width": ""
      }
     },
     "263e12f71e0f47ed93320bd46ec96fd8": {
      "model_module": "@jupyter-widgets/controls",
      "model_module_version": "1.5.0",
      "model_name": "HBoxModel",
      "state": {
       "children": [
        "IPY_MODEL_ab6f954d7ea94894971c2cad2b4776da",
        "IPY_MODEL_d24d82f40ff041ac989b4d7f0791fa1a"
       ],
       "layout": "IPY_MODEL_ce200ee1aef34c9aa6439a58eeb4b5e6"
      }
     },
     "264c323cf6694679b3831211568cf19a": {
      "model_module": "@jupyter-widgets/base",
      "model_module_version": "1.2.0",
      "model_name": "LayoutModel",
      "state": {}
     },
     "26a7349ec3694a91a967005a114082b8": {
      "model_module": "@jupyter-widgets/base",
      "model_module_version": "1.2.0",
      "model_name": "LayoutModel",
      "state": {
       "width": "100%"
      }
     },
     "26cc7fd7a0904a7b97182ddb95062cde": {
      "model_module": "@jupyter-widgets/base",
      "model_module_version": "1.2.0",
      "model_name": "LayoutModel",
      "state": {
       "width": "100%"
      }
     },
     "2714777ec1aa4d1bbc47af80594ca3be": {
      "model_module": "@jupyter-widgets/controls",
      "model_module_version": "1.5.0",
      "model_name": "SliderStyleModel",
      "state": {
       "description_width": ""
      }
     },
     "27203223a1d84ea39006792356c80efa": {
      "model_module": "@jupyter-widgets/controls",
      "model_module_version": "1.5.0",
      "model_name": "FloatRangeSliderModel",
      "state": {
       "_model_name": "FloatRangeSliderModel",
       "_view_name": "FloatRangeSliderView",
       "description": "δ<sup>34</sup>S<sub>SO4, 0</sub>",
       "layout": "IPY_MODEL_9b173f2aef124168a21da3cc70653b9b",
       "max": 30,
       "step": 0.1,
       "style": "IPY_MODEL_3a3910b3794a45efa31f6c4e54eb1428",
       "value": [
        23,
        23
       ]
      }
     },
     "28414fa7996e42b8beeb41c761921442": {
      "model_module": "@jupyter-widgets/base",
      "model_module_version": "1.2.0",
      "model_name": "LayoutModel",
      "state": {
       "width": "100%"
      }
     },
     "2859d9b3fd1c4619811c70f9452cb1ce": {
      "model_module": "@jupyter-widgets/controls",
      "model_module_version": "1.5.0",
      "model_name": "FloatSliderModel",
      "state": {
       "description": "k<sub>MSR</sub>",
       "layout": "IPY_MODEL_6747185dd2f64837ac1ad8b5d318887d",
       "max": 40,
       "step": 0.1,
       "style": "IPY_MODEL_94a8f11b2e4d4d309627876a50cd7327",
       "value": 10
      }
     },
     "28be57b822634957b344a67b9ec690e9": {
      "model_module": "@jupyter-widgets/controls",
      "model_module_version": "1.5.0",
      "model_name": "FloatSliderModel",
      "state": {
       "description": "β",
       "layout": "IPY_MODEL_00f4146be6f9487d8781b674a8475ed4",
       "max": 0.05,
       "step": 0.001,
       "style": "IPY_MODEL_6476668bcc4e4db8b0caa8fbccad5630",
       "value": 0.025
      }
     },
     "293e618eed0941c8a546b1562d004eff": {
      "model_module": "@jupyter-widgets/controls",
      "model_module_version": "1.5.0",
      "model_name": "DescriptionStyleModel",
      "state": {
       "description_width": ""
      }
     },
     "2971f37fb9ff4b9cb08124ac5c76cf3d": {
      "model_module": "@jupyter-widgets/base",
      "model_module_version": "1.2.0",
      "model_name": "LayoutModel",
      "state": {}
     },
     "2986b0387a974eb58baa56040d768d4e": {
      "model_module": "@jupyter-widgets/controls",
      "model_module_version": "1.5.0",
      "model_name": "SliderStyleModel",
      "state": {
       "description_width": ""
      }
     },
     "29c4fa31d1dd477cb32637431cca9216": {
      "model_module": "@jupyter-widgets/controls",
      "model_module_version": "1.5.0",
      "model_name": "HBoxModel",
      "state": {
       "children": [
        "IPY_MODEL_eddc7a28b0f549aba5dca9c621e48771",
        "IPY_MODEL_06fefea60c3d4ee7a41daf14f6fac14c"
       ],
       "layout": "IPY_MODEL_57dc6a89527546f1a787f1e4e55d8af2"
      }
     },
     "2a09ec73271c47afb8c79995b78c8e95": {
      "model_module": "@jupyter-widgets/base",
      "model_module_version": "1.2.0",
      "model_name": "LayoutModel",
      "state": {}
     },
     "2a896d4de4754ebfad15730e1c0033c0": {
      "model_module": "@jupyter-widgets/base",
      "model_module_version": "1.2.0",
      "model_name": "LayoutModel",
      "state": {}
     },
     "2acd5363037a439abd2aa4722e72fef3": {
      "model_module": "@jupyter-widgets/base",
      "model_module_version": "1.2.0",
      "model_name": "LayoutModel",
      "state": {}
     },
     "2bdce9ef987049d985c211419af919fd": {
      "model_module": "@jupyter-widgets/base",
      "model_module_version": "1.2.0",
      "model_name": "LayoutModel",
      "state": {}
     },
     "2c2e189d6ec145a196cec9f071bb3552": {
      "model_module": "@jupyter-widgets/base",
      "model_module_version": "1.2.0",
      "model_name": "LayoutModel",
      "state": {}
     },
     "2cab4bea568243e49a99aaad17344464": {
      "model_module": "@jupyter-widgets/controls",
      "model_module_version": "1.5.0",
      "model_name": "SliderStyleModel",
      "state": {
       "description_width": ""
      }
     },
     "2cfa5b2d1d0d4f139e2ce37ccad37da1": {
      "model_module": "@jupyter-widgets/controls",
      "model_module_version": "1.5.0",
      "model_name": "FloatRangeSliderModel",
      "state": {
       "_model_name": "FloatRangeSliderModel",
       "_view_name": "FloatRangeSliderView",
       "description": "v<sub>sed</sub>",
       "layout": "IPY_MODEL_28414fa7996e42b8beeb41c761921442",
       "max": 0.5,
       "min": 0.001,
       "step": 0.001,
       "style": "IPY_MODEL_0700b65ed8cb43258384885eec9d5c94",
       "value": [
        0.034,
        0.12
       ]
      }
     },
     "2d36565a6976480fa17ce301781df501": {
      "model_module": "@jupyter-widgets/controls",
      "model_module_version": "1.5.0",
      "model_name": "HBoxModel",
      "state": {
       "children": [
        "IPY_MODEL_212cfa0342934965ad44c3cb305bb28d",
        "IPY_MODEL_46978b663fc64a00ba25a823fee938f1"
       ],
       "layout": "IPY_MODEL_1c1ba24f802744299f7f596808a3f649"
      }
     },
     "2d551ae4702248afa131e48511a5b6eb": {
      "model_module": "@jupyter-widgets/base",
      "model_module_version": "1.2.0",
      "model_name": "LayoutModel",
      "state": {
       "width": "100%"
      }
     },
     "2d79ac152bf74eb396bdb38ca730d5b9": {
      "model_module": "@jupyter-widgets/base",
      "model_module_version": "1.2.0",
      "model_name": "LayoutModel",
      "state": {}
     },
     "2dcc98ef781741b3a94da53e9e13c26e": {
      "model_module": "@jupyter-widgets/base",
      "model_module_version": "1.2.0",
      "model_name": "LayoutModel",
      "state": {}
     },
     "2df5796cf1a2450bacbdb31fae79a659": {
      "model_module": "@jupyter-widgets/controls",
      "model_module_version": "1.5.0",
      "model_name": "HTMLModel",
      "state": {
       "layout": "IPY_MODEL_53c4a1703ade4b048ab809414119af4e",
       "style": "IPY_MODEL_23330f0e7c5c49789d977b4174185d4d",
       "value": "<table border=\"1\" class=\"dataframe\">\n  <thead>\n    <tr style=\"text-align: right;\">\n      <th></th>\n      <th>49</th>\n    </tr>\n  </thead>\n  <tbody>\n    <tr>\n      <th>SO4_0</th>\n      <td>0.043820</td>\n    </tr>\n    <tr>\n      <th>py_0</th>\n      <td>0.161452</td>\n    </tr>\n    <tr>\n      <th>d34S_SO4_0</th>\n      <td>19.354121</td>\n    </tr>\n    <tr>\n      <th>epsilon_MSR</th>\n      <td>50.972416</td>\n    </tr>\n    <tr>\n      <th>k_MSR</th>\n      <td>8.241874</td>\n    </tr>\n    <tr>\n      <th>v</th>\n      <td>0.073246</td>\n    </tr>\n    <tr>\n      <th>D_32</th>\n      <td>0.194011</td>\n    </tr>\n    <tr>\n      <th>beta</th>\n      <td>0.024417</td>\n    </tr>\n    <tr>\n      <th>py</th>\n      <td>0.550811</td>\n    </tr>\n    <tr>\n      <th>d34S</th>\n      <td>-13.507015</td>\n    </tr>\n  </tbody>\n</table>"
      }
     },
     "2e0b9752d2194fc8811e55597a1ec042": {
      "model_module": "@jupyter-widgets/controls",
      "model_module_version": "1.5.0",
      "model_name": "FloatRangeSliderModel",
      "state": {
       "_model_name": "FloatRangeSliderModel",
       "_view_name": "FloatRangeSliderView",
       "description": "ε<sub>MSR</sub>",
       "layout": "IPY_MODEL_e8df37a56af9435f9e739091ac124567",
       "style": "IPY_MODEL_0ec6d5aff9484d599a01b609c0c765b1",
       "value": [
        47,
        54
       ]
      }
     },
     "2e4f162f6d9a4107b058221096d1fe75": {
      "model_module": "@jupyter-widgets/base",
      "model_module_version": "1.2.0",
      "model_name": "LayoutModel",
      "state": {}
     },
     "2e5de08a432346d7a1ac2c28d2c1c163": {
      "model_module": "@jupyter-widgets/controls",
      "model_module_version": "1.5.0",
      "model_name": "HBoxModel",
      "state": {
       "children": [
        "IPY_MODEL_fc3b7a05c5774593a9e5e6959a03d7c2",
        "IPY_MODEL_4bfdc98ed41542e999232eeb85d19a20"
       ],
       "layout": "IPY_MODEL_b5252c1f2bf34d64a85c5b67d9e0667c"
      }
     },
     "300f594a1a2b4e09b9f3bafab55c59f6": {
      "model_module": "@jupyter-widgets/controls",
      "model_module_version": "1.5.0",
      "model_name": "FloatRangeSliderModel",
      "state": {
       "_model_name": "FloatRangeSliderModel",
       "_view_name": "FloatRangeSliderView",
       "description": "δ<sup>34</sup>S<sub>SO4, 0</sub>",
       "layout": "IPY_MODEL_142651e143b64a6ca3a59bdd982e3135",
       "max": 30,
       "step": 0.1,
       "style": "IPY_MODEL_872f1dcc9161442c9f35aa7b5b5599a4",
       "value": [
        23,
        23
       ]
      }
     },
     "3061ffdd7a034a509b34e7c442377f1f": {
      "model_module": "@jupyter-widgets/controls",
      "model_module_version": "1.5.0",
      "model_name": "SliderStyleModel",
      "state": {
       "description_width": ""
      }
     },
     "3066471e58ad48df9d1494c9ee5c1f13": {
      "model_module": "@jupyter-widgets/base",
      "model_module_version": "1.2.0",
      "model_name": "LayoutModel",
      "state": {
       "width": "100%"
      }
     },
     "30ac88aa0cc84196b8ebe3909b797ec1": {
      "model_module": "@jupyter-widgets/controls",
      "model_module_version": "1.5.0",
      "model_name": "HBoxModel",
      "state": {
       "children": [
        "IPY_MODEL_fbd2f2ca2e394170a7499ff16648b570",
        "IPY_MODEL_65e853133a7c466b971f08c9ecbbe7c2"
       ],
       "layout": "IPY_MODEL_4149ebd346ea4c19abd3b616a5cbfc36"
      }
     },
     "3144c09d54ce4e1087c9efde255dcc09": {
      "model_module": "@jupyter-widgets/controls",
      "model_module_version": "1.5.0",
      "model_name": "SliderStyleModel",
      "state": {
       "description_width": ""
      }
     },
     "31839675a3534ca1b471f6f04abd6483": {
      "model_module": "@jupyter-widgets/controls",
      "model_module_version": "1.5.0",
      "model_name": "SliderStyleModel",
      "state": {
       "description_width": ""
      }
     },
     "3382e224bd6a4291827c68f8150f8b75": {
      "model_module": "@jupyter-widgets/base",
      "model_module_version": "1.2.0",
      "model_name": "LayoutModel",
      "state": {}
     },
     "339dc4707f0348589448533552a45fb9": {
      "model_module": "@jupyter-widgets/base",
      "model_module_version": "1.2.0",
      "model_name": "LayoutModel",
      "state": {
       "width": "100%"
      }
     },
     "33a6df4e99c44342ad0b3735536877ae": {
      "model_module": "@jupyter-widgets/controls",
      "model_module_version": "1.5.0",
      "model_name": "HBoxModel",
      "state": {
       "children": [
        "IPY_MODEL_4515e91ede90429885e4a92d0104b5b2",
        "IPY_MODEL_fbcec682305541d2bb0e034759e12921",
        "IPY_MODEL_2213e0dd26834643a67a437b5df2c1a8"
       ],
       "layout": "IPY_MODEL_889d44323f5f4927b92d10a61b8274d8"
      }
     },
     "33d206a5759b4fdf9e6b5e07ad642c17": {
      "model_module": "@jupyter-widgets/base",
      "model_module_version": "1.2.0",
      "model_name": "LayoutModel",
      "state": {
       "width": "100%"
      }
     },
     "33ff3b59e7cd42eb86d892638a848212": {
      "model_module": "@jupyter-widgets/base",
      "model_module_version": "1.2.0",
      "model_name": "LayoutModel",
      "state": {
       "width": "100%"
      }
     },
     "34844838778b499c8b09fdf8cc040bc6": {
      "model_module": "@jupyter-widgets/controls",
      "model_module_version": "1.5.0",
      "model_name": "FloatSliderModel",
      "state": {
       "description": "z<sub>max</sub>",
       "layout": "IPY_MODEL_fde2b27481764f69a69d55d85c01ca85",
       "max": 10,
       "min": 0.01,
       "step": 0.01,
       "style": "IPY_MODEL_96ceee1df218420186a3ee4990502935",
       "value": 1.5
      }
     },
     "35de7c2b028047bdae9266e0541a976a": {
      "model_module": "@jupyter-widgets/controls",
      "model_module_version": "1.5.0",
      "model_name": "SliderStyleModel",
      "state": {
       "description_width": ""
      }
     },
     "362db7b2fb494d1bb9f722d8c98a085c": {
      "model_module": "@jupyter-widgets/controls",
      "model_module_version": "1.5.0",
      "model_name": "FloatSliderModel",
      "state": {
       "description": "D<sub>32</sub>",
       "layout": "IPY_MODEL_6322b660a80f4cb68377d11f08a5404f",
       "max": 0.3,
       "min": 0.001,
       "step": 0.001,
       "style": "IPY_MODEL_14c6173689a742899ff83f5a56c6a675",
       "value": 0.2
      }
     },
     "3638c9841fb647c49918196138202378": {
      "model_module": "@jupyter-widgets/controls",
      "model_module_version": "1.5.0",
      "model_name": "SliderStyleModel",
      "state": {
       "description_width": ""
      }
     },
     "375a025407bd472a905e209f220e2a77": {
      "model_module": "@jupyter-widgets/base",
      "model_module_version": "1.2.0",
      "model_name": "LayoutModel",
      "state": {
       "width": "100%"
      }
     },
     "37fb9fc03f22471497b72e48192f0345": {
      "model_module": "@jupyter-widgets/controls",
      "model_module_version": "1.5.0",
      "model_name": "HBoxModel",
      "state": {
       "children": [
        "IPY_MODEL_65f22c901d0a41868d7d9a47acfdf1a3",
        "IPY_MODEL_25361a71fe814090b405322e513931a1"
       ],
       "layout": "IPY_MODEL_d03f26c59da741cfba5f4ef8cfc6486a"
      }
     },
     "380ddf9f454b477bbc56ff843f5b9d45": {
      "model_module": "@jupyter-widgets/controls",
      "model_module_version": "1.5.0",
      "model_name": "FloatSliderModel",
      "state": {
       "description": "z<sub>max</sub>",
       "layout": "IPY_MODEL_33ff3b59e7cd42eb86d892638a848212",
       "max": 10,
       "min": 0.01,
       "step": 0.01,
       "style": "IPY_MODEL_7306757920c148bcb8f410d5a7a25168",
       "value": 1.5
      }
     },
     "381e11789e1f4deeab9a361b04fc9400": {
      "model_module": "@jupyter-widgets/controls",
      "model_module_version": "1.5.0",
      "model_name": "FloatRangeSliderModel",
      "state": {
       "_model_name": "FloatRangeSliderModel",
       "_view_name": "FloatRangeSliderView",
       "description": "[FeS<sub>2</sub>]<sub>0</sub>",
       "layout": "IPY_MODEL_b5a16cb25ca84ec494b70cd28f1bb8fb",
       "max": 1,
       "step": 0.0025,
       "style": "IPY_MODEL_958dbc8d043d4aaba5b1fb8c2857ee1f",
       "value": [
        0.16,
        0.16
       ]
      }
     },
     "3829b21ab4884b0391ce439e025625be": {
      "model_module": "@jupyter-widgets/controls",
      "model_module_version": "1.5.0",
      "model_name": "SliderStyleModel",
      "state": {
       "description_width": ""
      }
     },
     "3a3910b3794a45efa31f6c4e54eb1428": {
      "model_module": "@jupyter-widgets/controls",
      "model_module_version": "1.5.0",
      "model_name": "SliderStyleModel",
      "state": {
       "description_width": ""
      }
     },
     "3a5d91ce3e854b64bf6494fa35fa0351": {
      "model_module": "@jupyter-widgets/controls",
      "model_module_version": "1.5.0",
      "model_name": "FloatSliderModel",
      "state": {
       "description": "δ<sup>34</sup>S<sub>SO4, 0</sub>",
       "layout": "IPY_MODEL_ab625659c7bb46138c747bea2deab67c",
       "max": 30,
       "step": 0.1,
       "style": "IPY_MODEL_f309e72b5cd74d91ae4b0155b4492527",
       "value": 23
      }
     },
     "3b31393515a84a8cab102a293969eeff": {
      "model_module": "@jupyter-widgets/controls",
      "model_module_version": "1.5.0",
      "model_name": "IntSliderModel",
      "state": {
       "description": "№ of Trials",
       "layout": "IPY_MODEL_c7d925d64b53465b925c8857f5031e1e",
       "max": 1000,
       "min": 1,
       "style": "IPY_MODEL_928ae473064d4645bb48bb4691342494",
       "value": 20
      }
     },
     "3b9548f261e3447bb844dad4a785c7a5": {
      "model_module": "@jupyter-widgets/controls",
      "model_module_version": "1.5.0",
      "model_name": "FloatSliderModel",
      "state": {
       "description": "dz",
       "layout": "IPY_MODEL_1ddeff5e3db7429eae5e88064997df94",
       "max": 0.1,
       "min": 0.001,
       "step": 0.001,
       "style": "IPY_MODEL_9f648b1ec98e435ebc4cf90a6b5ae06a",
       "value": 0.01
      }
     },
     "3cc16eab456647b2aa1f6ed02ea83745": {
      "model_module": "@jupyter-widgets/base",
      "model_module_version": "1.2.0",
      "model_name": "LayoutModel",
      "state": {}
     },
     "3cd124e38491430c83509fcbc566daf8": {
      "model_module": "@jupyter-widgets/controls",
      "model_module_version": "1.5.0",
      "model_name": "FloatRangeSliderModel",
      "state": {
       "_model_name": "FloatRangeSliderModel",
       "_view_name": "FloatRangeSliderView",
       "description": "D<sub>32</sub>",
       "layout": "IPY_MODEL_a522dbdbfef7401a9f3af29a906007d3",
       "max": 0.3,
       "min": 0.001,
       "step": 0.001,
       "style": "IPY_MODEL_02c6d2bbd7f84e5ab74b0cfbab8e8f0b",
       "value": [
        0.2,
        0.2
       ]
      }
     },
     "3d2a4575765042e8ae4704e467bd7197": {
      "model_module": "@jupyter-widgets/base",
      "model_module_version": "1.2.0",
      "model_name": "LayoutModel",
      "state": {}
     },
     "3d918b8df821463fb445a4c4f84382fc": {
      "model_module": "@jupyter-widgets/base",
      "model_module_version": "1.2.0",
      "model_name": "LayoutModel",
      "state": {}
     },
     "3da44654ee6747278351257a5a35e5a7": {
      "model_module": "@jupyter-widgets/base",
      "model_module_version": "1.2.0",
      "model_name": "LayoutModel",
      "state": {
       "width": "100%"
      }
     },
     "3dce4868804d4e46bba3c7c93c9786d9": {
      "model_module": "@jupyter-widgets/controls",
      "model_module_version": "1.5.0",
      "model_name": "FloatTextModel",
      "state": {
       "description": "to",
       "layout": "IPY_MODEL_7b677a385b2245f5b015186e07a273d4",
       "step": 0.1,
       "style": "IPY_MODEL_1d1154a9be94443ea03882688953a141",
       "value": 0.2
      }
     },
     "3deb601b9d76430c8b25597c95222a20": {
      "model_module": "@jupyter-widgets/base",
      "model_module_version": "1.2.0",
      "model_name": "LayoutModel",
      "state": {}
     },
     "3e1b27bf6dc745378d4c857e09960e23": {
      "model_module": "@jupyter-widgets/base",
      "model_module_version": "1.2.0",
      "model_name": "LayoutModel",
      "state": {}
     },
     "3ec1e395f8664c5abf7547b83e575a48": {
      "model_module": "@jupyter-widgets/controls",
      "model_module_version": "1.5.0",
      "model_name": "HBoxModel",
      "state": {
       "children": [
        "IPY_MODEL_b2ac8c716ee54b4d9ee5670a714653b6",
        "IPY_MODEL_d7a19eb1c2a747faaade586cbb2928ff"
       ],
       "layout": "IPY_MODEL_a473020c14a74bab870f4f259477b4fb"
      }
     },
     "3f046fcebbb24a3ca903020f04f47386": {
      "model_module": "@jupyter-widgets/controls",
      "model_module_version": "1.5.0",
      "model_name": "SliderStyleModel",
      "state": {
       "description_width": ""
      }
     },
     "3f2782b89c6a4d2588cdcb0ee178b0a6": {
      "model_module": "@jupyter-widgets/controls",
      "model_module_version": "1.5.0",
      "model_name": "SliderStyleModel",
      "state": {
       "description_width": ""
      }
     },
     "3f9b659a9c2b40f2bd2cdacebadde6a9": {
      "model_module": "@jupyter-widgets/controls",
      "model_module_version": "1.5.0",
      "model_name": "SliderStyleModel",
      "state": {
       "description_width": ""
      }
     },
     "40ad408c61804f8c9ee48469155a6f5f": {
      "model_module": "@jupyter-widgets/controls",
      "model_module_version": "1.5.0",
      "model_name": "SliderStyleModel",
      "state": {
       "description_width": ""
      }
     },
     "4149ebd346ea4c19abd3b616a5cbfc36": {
      "model_module": "@jupyter-widgets/base",
      "model_module_version": "1.2.0",
      "model_name": "LayoutModel",
      "state": {}
     },
     "41b0ee3418db419dba19ad1addb2187c": {
      "model_module": "@jupyter-widgets/controls",
      "model_module_version": "1.5.0",
      "model_name": "DescriptionStyleModel",
      "state": {
       "description_width": ""
      }
     },
     "42a499bbba4b4db696ceb60f8e379fca": {
      "model_module": "@jupyter-widgets/base",
      "model_module_version": "1.2.0",
      "model_name": "LayoutModel",
      "state": {}
     },
     "42e60f3c2a1240aab78df9887e77ac4c": {
      "model_module": "@jupyter-widgets/controls",
      "model_module_version": "1.5.0",
      "model_name": "FloatSliderModel",
      "state": {
       "description": "Marker Size",
       "layout": "IPY_MODEL_375a025407bd472a905e209f220e2a77",
       "max": 20,
       "step": 0.1,
       "style": "IPY_MODEL_e957250bdc1e4ae8838f1b4aa805d151",
       "value": 6
      }
     },
     "435c8df3248046ac98ca425764352a49": {
      "model_module": "@jupyter-widgets/base",
      "model_module_version": "1.2.0",
      "model_name": "LayoutModel",
      "state": {
       "width": "100%"
      }
     },
     "4515e91ede90429885e4a92d0104b5b2": {
      "model_module": "@jupyter-widgets/controls",
      "model_module_version": "1.5.0",
      "model_name": "DropdownModel",
      "state": {
       "_options_labels": [
        "SO4_0",
        "py_0",
        "d34S_SO4_0",
        "epsilon_MSR",
        "k_MSR",
        "v",
        "D_32",
        "beta"
       ],
       "description": "Colour",
       "index": 5,
       "layout": "IPY_MODEL_5758516c5e9a4fd39ebbfe7001474d59",
       "style": "IPY_MODEL_b6627cf0fa70412aa9921049fd1cd317"
      }
     },
     "46978b663fc64a00ba25a823fee938f1": {
      "model_module": "@jupyter-widgets/controls",
      "model_module_version": "1.5.0",
      "model_name": "FloatRangeSliderModel",
      "state": {
       "_model_name": "FloatRangeSliderModel",
       "_view_name": "FloatRangeSliderView",
       "description": "v<sub>sed</sub>",
       "layout": "IPY_MODEL_08591e1b0c0747589534a4a299590219",
       "max": 0.5,
       "min": 0.001,
       "step": 0.001,
       "style": "IPY_MODEL_d52f3747dd9942ff9412370375869176",
       "value": [
        0.036,
        0.12
       ]
      }
     },
     "47a56c4300ad45ad945b983705d6198d": {
      "model_module": "@jupyter-widgets/controls",
      "model_module_version": "1.5.0",
      "model_name": "DescriptionStyleModel",
      "state": {
       "description_width": ""
      }
     },
     "47a82b39d7e5463ba9c20b764067e688": {
      "model_module": "@jupyter-widgets/base",
      "model_module_version": "1.2.0",
      "model_name": "LayoutModel",
      "state": {}
     },
     "47b4b2634da743bb97364264c691fbf6": {
      "model_module": "@jupyter-widgets/controls",
      "model_module_version": "1.5.0",
      "model_name": "FloatSliderModel",
      "state": {
       "description": "dz",
       "layout": "IPY_MODEL_0a126baed8554a8da8918a0dc3ceb5f4",
       "max": 0.1,
       "min": 0.001,
       "step": 0.001,
       "style": "IPY_MODEL_3061ffdd7a034a509b34e7c442377f1f",
       "value": 0.01
      }
     },
     "47ea576d3db242ab8b3b667437209d2a": {
      "model_module": "@jupyter-widgets/base",
      "model_module_version": "1.2.0",
      "model_name": "LayoutModel",
      "state": {}
     },
     "482ec8ba9b764afab8318ec347d052ba": {
      "model_module": "@jupyter-widgets/controls",
      "model_module_version": "1.5.0",
      "model_name": "FloatSliderModel",
      "state": {
       "description": "D<sub>32</sub>",
       "layout": "IPY_MODEL_3da44654ee6747278351257a5a35e5a7",
       "max": 0.3,
       "min": 0.001,
       "step": 0.001,
       "style": "IPY_MODEL_a038b0ff6fff4bfd970cef1269999a18",
       "value": 0.2
      }
     },
     "484f50ba4915491e9a9c634aaa3c30c5": {
      "model_module": "@jupyter-widgets/controls",
      "model_module_version": "1.5.0",
      "model_name": "FloatRangeSliderModel",
      "state": {
       "_model_name": "FloatRangeSliderModel",
       "_view_name": "FloatRangeSliderView",
       "description": "β",
       "layout": "IPY_MODEL_1e84850c1e8a4b339ec702de25533d28",
       "max": 0.05,
       "step": 0.001,
       "style": "IPY_MODEL_dd792a4d411849fd81dba973db8f406d",
       "value": [
        0.022,
        0.025
       ]
      }
     },
     "491237a021b246308bdd2b1ccda6747e": {
      "model_module": "@jupyter-widgets/controls",
      "model_module_version": "1.5.0",
      "model_name": "FloatSliderModel",
      "state": {
       "description": "z<sub>max</sub>",
       "layout": "IPY_MODEL_e51f1699583e4ec0a8e23f0952f52ead",
       "max": 10,
       "min": 0.01,
       "step": 0.01,
       "style": "IPY_MODEL_3f9b659a9c2b40f2bd2cdacebadde6a9",
       "value": 1.5
      }
     },
     "4978208c5a8b447b800afde649c55c9b": {
      "model_module": "@jupyter-widgets/controls",
      "model_module_version": "1.5.0",
      "model_name": "SliderStyleModel",
      "state": {
       "description_width": ""
      }
     },
     "4a6a02a6add84298922e21b30033991e": {
      "model_module": "@jupyter-widgets/base",
      "model_module_version": "1.2.0",
      "model_name": "LayoutModel",
      "state": {}
     },
     "4a8159d289d14273819cd0eef71e9d25": {
      "model_module": "@jupyter-widgets/controls",
      "model_module_version": "1.5.0",
      "model_name": "SliderStyleModel",
      "state": {
       "description_width": ""
      }
     },
     "4b143a8493e04ba6aa0de6673a0faaa6": {
      "model_module": "@jupyter-widgets/controls",
      "model_module_version": "1.5.0",
      "model_name": "HBoxModel",
      "state": {
       "children": [
        "IPY_MODEL_34844838778b499c8b09fdf8cc040bc6",
        "IPY_MODEL_3b9548f261e3447bb844dad4a785c7a5"
       ],
       "layout": "IPY_MODEL_8c23ec90dd7940e9bda685ffdc238971"
      }
     },
     "4ba1eeba2918489c92352683493619a2": {
      "model_module": "@jupyter-widgets/controls",
      "model_module_version": "1.5.0",
      "model_name": "FloatRangeSliderModel",
      "state": {
       "_model_name": "FloatRangeSliderModel",
       "_view_name": "FloatRangeSliderView",
       "description": "[SO<sub>4</sub>]<sub>0</sub>",
       "layout": "IPY_MODEL_339dc4707f0348589448533552a45fb9",
       "max": 0.3,
       "min": 0.001,
       "step": 0.001,
       "style": "IPY_MODEL_ba07c9e7e51b40ae8cc82a89a5fce3b2",
       "value": [
        0.0105,
        0.0105
       ]
      }
     },
     "4bfdc98ed41542e999232eeb85d19a20": {
      "model_module": "@jupyter-widgets/controls",
      "model_module_version": "1.5.0",
      "model_name": "FloatRangeSliderModel",
      "state": {
       "_model_name": "FloatRangeSliderModel",
       "_view_name": "FloatRangeSliderView",
       "description": "k<sub>MSR</sub>",
       "layout": "IPY_MODEL_c8eba376e11b43958a0551aa9e24d8f4",
       "max": 40,
       "step": 0.1,
       "style": "IPY_MODEL_f9da8f75d1254b48901315de7d6f062b",
       "value": [
        10,
        10
       ]
      }
     },
     "4ce38257999643e688748b86d5a7c161": {
      "model_module": "@jupyter-widgets/controls",
      "model_module_version": "1.5.0",
      "model_name": "SliderStyleModel",
      "state": {
       "description_width": ""
      }
     },
     "4e15eac778f24d258b1500dbfdc0bc6a": {
      "model_module": "@jupyter-widgets/base",
      "model_module_version": "1.2.0",
      "model_name": "LayoutModel",
      "state": {
       "width": "100%"
      }
     },
     "4e7e21c21eea41feab06fde7606b4f92": {
      "model_module": "@jupyter-widgets/output",
      "model_module_version": "1.0.0",
      "model_name": "OutputModel",
      "state": {
       "layout": "IPY_MODEL_5679781e5cd34817b7c1939cfed195ec"
      }
     },
     "4f044a49ef244bdba4bf7e106d1964e1": {
      "model_module": "@jupyter-widgets/controls",
      "model_module_version": "1.5.0",
      "model_name": "HBoxModel",
      "state": {
       "children": [
        "IPY_MODEL_78adbfc762c14e36a4d0ca5f4603942b",
        "IPY_MODEL_484f50ba4915491e9a9c634aaa3c30c5"
       ],
       "layout": "IPY_MODEL_15b3941cd22e4ea292f1329843631ff3"
      }
     },
     "4f7d70e40ebd4ed0a78eeb3fb79690af": {
      "model_module": "@jupyter-widgets/base",
      "model_module_version": "1.2.0",
      "model_name": "LayoutModel",
      "state": {
       "width": "100%"
      }
     },
     "4fc1fc8dfc7a4f0f8be61e22cf260122": {
      "model_module": "@jupyter-widgets/base",
      "model_module_version": "1.2.0",
      "model_name": "LayoutModel",
      "state": {}
     },
     "5062104b71ff4a6cb50436c8bdb40d6c": {
      "model_module": "@jupyter-widgets/base",
      "model_module_version": "1.2.0",
      "model_name": "LayoutModel",
      "state": {}
     },
     "50b29c809d9c4870bdf1e0e82b9b6b67": {
      "model_module": "@jupyter-widgets/base",
      "model_module_version": "1.2.0",
      "model_name": "LayoutModel",
      "state": {
       "width": "100%"
      }
     },
     "51015483d0b7497997bef38e1c33bb46": {
      "model_module": "@jupyter-widgets/base",
      "model_module_version": "1.2.0",
      "model_name": "LayoutModel",
      "state": {}
     },
     "514aaab113cb407b8e3af35bd429ce9e": {
      "model_module": "@jupyter-widgets/base",
      "model_module_version": "1.2.0",
      "model_name": "LayoutModel",
      "state": {}
     },
     "51e890c1417b4dc4aa8dfd68ad401726": {
      "model_module": "@jupyter-widgets/controls",
      "model_module_version": "1.5.0",
      "model_name": "VBoxModel",
      "state": {
       "children": [
        "IPY_MODEL_ca1f5e0736154688ae595bc009b6c755",
        "IPY_MODEL_5f78aa6e45ed43e8b0b17256ad506b4d",
        "IPY_MODEL_263e12f71e0f47ed93320bd46ec96fd8",
        "IPY_MODEL_7d3ebe4d7f9741c492085745a718e671",
        "IPY_MODEL_59ca0fd085364fb1aa99fd4c7a986617",
        "IPY_MODEL_5779b9c0273540008a32d51c4016f648",
        "IPY_MODEL_6fc97ddb7443454fa079356e3f9f93ca"
       ],
       "layout": "IPY_MODEL_ebe3a1e53714436aaa9ceae30f15858a"
      }
     },
     "528d8b5403c44005bce7f4885bf1d416": {
      "model_module": "@jupyter-widgets/base",
      "model_module_version": "1.2.0",
      "model_name": "LayoutModel",
      "state": {
       "width": "100%"
      }
     },
     "528f3e4a94464cb5a76f38e215818f69": {
      "model_module": "@jupyter-widgets/controls",
      "model_module_version": "1.5.0",
      "model_name": "SliderStyleModel",
      "state": {
       "description_width": ""
      }
     },
     "53b89f065dda477d90991a9e5db00b27": {
      "model_module": "@jupyter-widgets/controls",
      "model_module_version": "1.5.0",
      "model_name": "FloatRangeSliderModel",
      "state": {
       "_model_name": "FloatRangeSliderModel",
       "_view_name": "FloatRangeSliderView",
       "description": "[FeS<sub>2</sub>]<sub>0</sub>",
       "layout": "IPY_MODEL_26a7349ec3694a91a967005a114082b8",
       "max": 1,
       "step": 0.0025,
       "style": "IPY_MODEL_affbc0026ccb4846976fd9282f40e261",
       "value": [
        0.065,
        0.235
       ]
      }
     },
     "53c4a1703ade4b048ab809414119af4e": {
      "model_module": "@jupyter-widgets/base",
      "model_module_version": "1.2.0",
      "model_name": "LayoutModel",
      "state": {}
     },
     "54591c9f09c24abd995a4fda25247540": {
      "model_module": "@jupyter-widgets/controls",
      "model_module_version": "1.5.0",
      "model_name": "HBoxModel",
      "state": {
       "children": [
        "IPY_MODEL_4ba1eeba2918489c92352683493619a2",
        "IPY_MODEL_27203223a1d84ea39006792356c80efa"
       ],
       "layout": "IPY_MODEL_47a82b39d7e5463ba9c20b764067e688"
      }
     },
     "54b1f74f590e4a71975c0fea6c244d82": {
      "model_module": "@jupyter-widgets/controls",
      "model_module_version": "1.5.0",
      "model_name": "VBoxModel",
      "state": {
       "children": [
        "IPY_MODEL_d3c23a8146a64052b64e8f6bf271d12a",
        "IPY_MODEL_5788f0e4a10a4892a9b1fbe610d5c327"
       ],
       "layout": "IPY_MODEL_264c323cf6694679b3831211568cf19a"
      }
     },
     "55232c8a1a4c47969687b39c177f6e74": {
      "model_module": "@jupyter-widgets/controls",
      "model_module_version": "1.5.0",
      "model_name": "HBoxModel",
      "state": {
       "children": [
        "IPY_MODEL_580ef3442d3b42a3a70cf3d0a6b16a48",
        "IPY_MODEL_f6d61b6f072f4e5fbcd257815bbd2766"
       ],
       "layout": "IPY_MODEL_df62770b83af47d081f97f027d78b042"
      }
     },
     "5679781e5cd34817b7c1939cfed195ec": {
      "model_module": "@jupyter-widgets/base",
      "model_module_version": "1.2.0",
      "model_name": "LayoutModel",
      "state": {}
     },
     "56aced4df9294818bd5b515e4c72e3cf": {
      "model_module": "@jupyter-widgets/base",
      "model_module_version": "1.2.0",
      "model_name": "LayoutModel",
      "state": {
       "width": "100%"
      }
     },
     "5758516c5e9a4fd39ebbfe7001474d59": {
      "model_module": "@jupyter-widgets/base",
      "model_module_version": "1.2.0",
      "model_name": "LayoutModel",
      "state": {
       "width": "200px"
      }
     },
     "5779b9c0273540008a32d51c4016f648": {
      "model_module": "@jupyter-widgets/controls",
      "model_module_version": "1.5.0",
      "model_name": "HBoxModel",
      "state": {
       "children": [
        "IPY_MODEL_ea07c6c1594c4664ba5e97b439de62f1"
       ],
       "layout": "IPY_MODEL_2dcc98ef781741b3a94da53e9e13c26e"
      }
     },
     "5788f0e4a10a4892a9b1fbe610d5c327": {
      "model_module": "@jupyter-widgets/controls",
      "model_module_version": "1.5.0",
      "model_name": "HBoxModel",
      "state": {
       "children": [
        "IPY_MODEL_dd6247b53fde45d790c1737a01dbcce9",
        "IPY_MODEL_e503b45d5f7d42669932e8c5d9948cc2"
       ],
       "layout": "IPY_MODEL_71fcd5c811e547afb3a5a9667737d483"
      }
     },
     "57a4151ebada4b97999877d654965d62": {
      "model_module": "@jupyter-widgets/controls",
      "model_module_version": "1.5.0",
      "model_name": "SliderStyleModel",
      "state": {
       "description_width": ""
      }
     },
     "57dc6a89527546f1a787f1e4e55d8af2": {
      "model_module": "@jupyter-widgets/base",
      "model_module_version": "1.2.0",
      "model_name": "LayoutModel",
      "state": {}
     },
     "580ef3442d3b42a3a70cf3d0a6b16a48": {
      "model_module": "@jupyter-widgets/controls",
      "model_module_version": "1.5.0",
      "model_name": "FloatRangeSliderModel",
      "state": {
       "_model_name": "FloatRangeSliderModel",
       "_view_name": "FloatRangeSliderView",
       "description": "ε<sub>MSR</sub>",
       "layout": "IPY_MODEL_15118d672f3e45959611425032436c78",
       "style": "IPY_MODEL_c932ff091b4f4f0c836dfa3fa0d396f7",
       "value": [
        49,
        57
       ]
      }
     },
     "5816748949054aa1a2d5eade732aac43": {
      "model_module": "@jupyter-widgets/base",
      "model_module_version": "1.2.0",
      "model_name": "LayoutModel",
      "state": {
       "width": "100%"
      }
     },
     "5829b3bb89eb44d8b4e679bb4b568591": {
      "model_module": "@jupyter-widgets/output",
      "model_module_version": "1.0.0",
      "model_name": "OutputModel",
      "state": {
       "layout": "IPY_MODEL_2a09ec73271c47afb8c79995b78c8e95"
      }
     },
     "59169b8c2a8244fdb93a6ae9e03cdbcb": {
      "model_module": "@jupyter-widgets/controls",
      "model_module_version": "1.5.0",
      "model_name": "SliderStyleModel",
      "state": {
       "description_width": ""
      }
     },
     "5934bf8e999246e495b41205a9386542": {
      "model_module": "@jupyter-widgets/controls",
      "model_module_version": "1.5.0",
      "model_name": "FloatSliderModel",
      "state": {
       "description": "Opacity",
       "layout": "IPY_MODEL_8bffd45e75af4411924afd658ef556a8",
       "max": 1,
       "step": 0.01,
       "style": "IPY_MODEL_99299ee1d051478e997e2fd4f1a4800d",
       "value": 1
      }
     },
     "59381abc6a5d4df3a1607a9df14941aa": {
      "model_module": "@jupyter-widgets/controls",
      "model_module_version": "1.5.0",
      "model_name": "FloatSliderModel",
      "state": {
       "description": "dz",
       "layout": "IPY_MODEL_f29b9fdd667240888188472a1cbc3d84",
       "max": 0.1,
       "min": 0.001,
       "step": 0.001,
       "style": "IPY_MODEL_1d4de54195384deab5d08f687525ac55",
       "value": 0.01
      }
     },
     "5952a965c1c24e4b88896b7adc7efc37": {
      "model_module": "@jupyter-widgets/base",
      "model_module_version": "1.2.0",
      "model_name": "LayoutModel",
      "state": {}
     },
     "59ca0fd085364fb1aa99fd4c7a986617": {
      "model_module": "@jupyter-widgets/controls",
      "model_module_version": "1.5.0",
      "model_name": "HBoxModel",
      "state": {
       "children": [
        "IPY_MODEL_203ccfabf2594957be62b5a945173fcc",
        "IPY_MODEL_59381abc6a5d4df3a1607a9df14941aa"
       ],
       "layout": "IPY_MODEL_51015483d0b7497997bef38e1c33bb46"
      }
     },
     "59cda4af83904b1bad697262b233ceaf": {
      "model_module": "@jupyter-widgets/controls",
      "model_module_version": "1.5.0",
      "model_name": "FloatRangeSliderModel",
      "state": {
       "_model_name": "FloatRangeSliderModel",
       "_view_name": "FloatRangeSliderView",
       "description": "δ<sup>34</sup>S<sub>SO4, 0</sub>",
       "layout": "IPY_MODEL_2373679b67a5400daf12d648706710a1",
       "max": 30,
       "step": 0.1,
       "style": "IPY_MODEL_90320df793644f22836f301fada3a8ef",
       "value": [
        19.9,
        23
       ]
      }
     },
     "5a0d672ce6f04099b2eec7a7a86d70b8": {
      "model_module": "@jupyter-widgets/base",
      "model_module_version": "1.2.0",
      "model_name": "LayoutModel",
      "state": {}
     },
     "5a1310de9e374d46801c37e6efe39655": {
      "model_module": "@jupyter-widgets/output",
      "model_module_version": "1.0.0",
      "model_name": "OutputModel",
      "state": {
       "layout": "IPY_MODEL_8d4c5152866c440f975f1c15a35c38bc"
      }
     },
     "5a69563593d34864bda0a471be366842": {
      "model_module": "@jupyter-widgets/controls",
      "model_module_version": "1.5.0",
      "model_name": "SliderStyleModel",
      "state": {
       "description_width": ""
      }
     },
     "5b572b81553441759a5d7457ab1403dc": {
      "model_module": "@jupyter-widgets/controls",
      "model_module_version": "1.5.0",
      "model_name": "DescriptionStyleModel",
      "state": {
       "description_width": ""
      }
     },
     "5c2930e8b0df4071bfdb0e153fcf3f30": {
      "model_module": "@jupyter-widgets/base",
      "model_module_version": "1.2.0",
      "model_name": "LayoutModel",
      "state": {}
     },
     "5cc06d529aa1458da0e58bc0540d93af": {
      "model_module": "@jupyter-widgets/controls",
      "model_module_version": "1.5.0",
      "model_name": "SliderStyleModel",
      "state": {
       "description_width": ""
      }
     },
     "5d52ee9a8acd4695915c664e3b40c706": {
      "buffers": [
       {
        "data": "xYgRI0aMyD8EJRGURFDSPx3HcRzHccw/yR4he4Ts4T+E7BGyR8jePwGPATwG8Ng/8afBnwZ/2j/FiBEjRozYP3mb4W2Gt9k/s9bJWidr3T+TJk2aNGniP/GnwZ8Gf9o/3/V51+dd7z/ii4kvJr7YP7ds2bJly/Y/qFChQoUK1T/hwIEDBw7cP+KLiS8mvtg/QCsBrQS00j920NlBZwfdP7oC6QqkK+A//vjx48ePzz8vebnk5ZLXP7g34d6Ee9M/XGNxjcU11j/Ub1G/Rf3WP28VuVXkVtE/lp5Zembp2T/Ub1G/Rf3WP3bQ2UFnB90/SeYhmYdk3j9REkFJBCXhP6sbqW6kutE/aLSh0YZG2z/zcsnLJS/XP8LyAcsHLN8/4ouJLya+2D8=",
        "encoding": "base64",
        "path": [
         "_data",
         0,
         "x",
         "value"
        ]
       },
       {
        "data": "Rwd4wKP9NcDD/ACOXgkwwMEuJT+MjyrA/jMJIdu/L8BTmBt0ZCcywDKRuNYj7DLAQFPtOgpRNMB4L4ehp1EuwKu1c0F4mzTAUHW0UVYANsAFJ7EOl7gmwFFBx24I4jPAj9E3cp7+I8CEuSjx9+UywAQFkeNMMhbA2TVfjqU7MMDVZnrukJwywH6jqudgGyzAp/ZymVzMNMAKO9kXTeI0wDalBdnBcjXAwoQpRBDLNMBBT3jre2A4wI4TYoJFczPALO/3XeG7NMDgYpUCNDczwN/G4xE5UTTAzsaJukrVLsDwGDRs5AY2wNgFvnI7yTbAG4Yfg/CcNcB+hirdR4o1wNmKIT+GOjPAcr7WsPMGOcA0gtMIOBQ2wOYGKnLaIzXAGh4S+eZWL8A=",
        "encoding": "base64",
        "path": [
         "_data",
         0,
         "y",
         "value"
        ]
       },
       {
        "data": "fDHxxcQXwz8BjwE8BvCIPw==",
        "encoding": "base64",
        "path": [
         "_data",
         1,
         "x",
         "value"
        ]
       },
       {
        "data": "cLVTVzbTM8AAAAAAAAD4fw==",
        "encoding": "base64",
        "path": [
         "_data",
         1,
         "y",
         "value"
        ]
       },
       {
        "data": "OP/h/Ifz3z8MbzO8zfD2Pw==",
        "encoding": "base64",
        "path": [
         "_data",
         2,
         "x",
         "value"
        ]
       },
       {
        "data": "ovup9wEPLcCk/yfjkHwdwA==",
        "encoding": "base64",
        "path": [
         "_data",
         2,
         "y",
         "value"
        ]
       },
       {
        "data": "bEqxKcWm5D/R2UFnB53dPy09s/TM0vM/HcdxHMdx3D8srrG4xuLaP3wx8cXEF9M/I9WNVDdS7T98MfHFxBfTP8dTGU9lPNU//sP5D+c/3D+4N+HehHvTPw==",
        "encoding": "base64",
        "path": [
         "_data",
         3,
         "x",
         "value"
        ]
       },
       {
        "data": "LnRyTCwKLcCYbbVBaekpwIDQerKveiDAKCD9rhZYI8BeyxW7L38wwNQynejnmCrAhEeFPsdBIsDGEL3bpnUxwJyLhhnAnzTAegDWAACoI8ASyWyzaP8wwA==",
        "encoding": "base64",
        "path": [
         "_data",
         3,
         "y",
         "value"
        ]
       },
       {
        "data": "3ueqJVWHrT8EsiiBiDWaP2y6UTHYJZo/jACYrWeQtT8e3xnH0E6rPyTz8XZ9ork/FMj1XLltnD/pirX6326wP/Ql5Il5CZg/8ug9FyUCuD8IwkZGcea2PxYVTVxaQ5k/HIAXJxJtuj8K5t8qQQG4P7YlmVTFErA/OJN9Ymadoj90MyPkqcK0P3RwIzcGyrA/DL3V4PENuT+qsUQsHNujP0hFGB0pM7A/TmeJuoPYvT9fDxHWBcCaP9bjQEmRp7o/Jyj7ad79pD/vkVPWs16wP2LcaSK1ra4/j7OkorC/oj+WzpKBmOm1P9xhWFGnPr4/Fyk8/HUJmT+YR3EMHkKnP3H0A01zMKk/ynu2rydJuT9lQPC3bXycP6jUH9l8F7Y/gmHcXypSrT9RYpofqZSuP+xqkkadC7w/hvcFyQZumz9PWnvx9hOZPzxBIalUarU/KhNJ9/gLqz9UZ4Uzcga4PwzbvZ1fKao/sk8X4KPvtz9AYsjhCxClP3YDnS2birU//cm6YRQVmj9wKtVkRsCyPwbI8guEzKI/ordUCmdkpT+Mw6E61AO0P8+81IERJqo//b9tqsDorj/M28talBWyPwoJewFrlK8/+ABk2i6xtj+mib6LsjO+P0AvnHoCcrc/xmWPtFMFqT8evgEFyK6oPxOGeY4KbqA/qI/aJ9A5tz/2EtZrGyOgP24sic0F97c/SthHfNMzvT/O8Pw+QP+9P4CxpLWdRrs/GX26DCi4rT88+Po5WvO6P4fDXXIPIZo/gP0tEO/Erj/wyU/S+gesP4SJ5CfZaKQ/+tjUzFFWtD981/sOkq6mP6z/kIYJ3aY/ts6pZ6cwuj8UFYgUAVugPzwMv6eQiaE/ELSocuivpz/A5RsohVWtP1x6eDegqbc/HllbGrvGuz8YrCssRYGwPz2n9JGPP7M/IkRtBbEMsz9gstt8bF+kP/CcPchk6bY/Jt9fql4jvj/+0wdJEs2eP2L0PCcX47I/3gXSIC8vuT82Vitw81OlP6DbBhfTZLI/ZP7NEdGPuz90iJMIRFqlP96tBBGhArE/jqDZNyp8vT+K5i15hE65PxYqjk7Kg7g/lr8uxrWUsz86+GDAmzyzP8yHA/zCvqw/0il43V6Ztz+f5gssYASyP3hJMUVx2LU/ADjho9AyuT9in3fLzSOoPz6e13tLcag/H6wpSRwLoT8rwitjJF+0PzbPGDnHfbM/bh/fGThjoj8u9fMUqdqbP1ybpsK3Aqo/JEqS/IIztz8wVqXTlQK9P9qnAlxb8bY/UB8o9PRbvj8e4mQZ6Zi9P5asgYzXL7s/VE5+BRoXuj/PdvUzuaedP+1rerXHEqE/dqLdVqUPuj/gzL/2RQi8P7w6XH0/4L0/CufPAY5uuT9OwD62z3OcP5Ioq6dT4bw/rhz0BaJSsD96rKs+Zj6lPwiTbcWnu6A/1TBTy62arT8+qibkQfSxP4wflKseX7Q/LG+UkoyAuj8AreEXURitPwaIe1C7b7U/bj8t+G9IqT/QndYxXPC1P5ZGdfNhILk/3HiSvwbrpz8lQu41KX+dP65VQWj3v6U/mYE9T9KLqz/WVfHCzIu+P0SMeUV8GLU/PJdAo15xvT8Sw0kR7MmYPwozpoIf5rI/x7Dq9+vDsD+4MyicY2K7P35JSZAxUrg/Nod5/Sxfoz+e9nNDaY+8P264UXSP5rk/X/b2+aZIoj/aJJVe+qq5P/oTLprjH7g/Vg7eLP7Zmj+051w5uOu5Pz43FJX17rI/fk7YrlIevT8EfAxgj927P8Dm/CbYxac/kmXdfE3Bpz9u1/L7aEC+P+BFjTixeLg/0mkAUQjsvD/5z+OvyHGuP+yn/Jm+760/1CbBpeGQnj/4kOf8EhS2P94BOXRnaqs/oEsMLB2Zqj/6Iahro+e6Pz3YNH285a0/4JbPNe2stj8AUHM5kde5P+A9xBN+HbE/avj57yWssj8+ZuQZvfuqP24xZlToELM/wH3ODVT8oj/kFDPYiqawP73ljosI1rU/XHnd3MFgsj+fCghyNS2tP1h9v1JbUbE/t5KxQHN0mz/OoIWXq0WyP6AULKhOPL4/ZJivxNuqrj9MUFd98ce1P3Z2Sb3yp7A/EByT4DVjvD9XogetHK+hP4RInyXBqrE/8MtWJVuLuj86llSORC6iP6QfA+uPYbQ/WhomKrqZtD9Ui8rCwRuoP1JhtFogZ7g/HEv7m5K0vj98KH3YOVOwP4TotnSTeac/GK2BWxNXoj9aWjMlyOWePwb11SK466E/AgK0y4RRqD9Hosl3bjqfP0oB2z8/RJ0/i8vYuVCmmD9ABHQ8AaCwP+QRvG8wbL0/X9fG37GNsj+ceBeJWCO+PxjVhUipWr4/ZPMFjzU0vD8/GwkrwbmlP+4L1zmfEb0/er/CmSFUoz9qTo1RZNG3PxwqS5XfH60/jBNqVopapj88GPKwCaeYP9WSWFIJQaQ/6pBfG9/Crz9ZGY11hweYP9KtIysup7k/+IXDRVQ2pj8UJP5jJyO4P4V4hUC6vrM/AoW3Cgk4qz8=",
        "encoding": "base64",
        "path": [
         "_data",
         4,
         "marker",
         "color",
         "value"
        ]
       },
       {
        "data": "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",
        "encoding": "base64",
        "path": [
         "_data",
         4,
         "x",
         "value"
        ]
       },
       {
        "data": "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",
        "encoding": "base64",
        "path": [
         "_data",
         4,
         "y",
         "value"
        ]
       }
      ],
      "model_module": "jupyterlab-plotly",
      "model_module_version": "^5.1.0",
      "model_name": "FigureModel",
      "state": {
       "_config": {
        "plotlyServerURL": "https://plot.ly"
       },
       "_data": [
        {
         "marker": {
          "color": "Blue",
          "opacity": 0.3,
          "symbol": "circle"
         },
         "mode": "markers",
         "name": "Mudstone",
         "text": [
          "KC-2-1",
          "KC-2-2",
          "KC-2-2.5",
          "KC-2-3",
          "KC-2-3.5",
          "KC-2-4.5",
          "KC-2-5",
          "KC-2-6",
          "KC-2-6.5",
          "KC-2-7",
          "KC-2-8",
          "KC-2-9",
          "KC-2-10",
          "KC-2-11",
          "KC-2-12",
          "KC-2-13",
          "KC-2-14",
          "KC-2-14.5",
          "KC-2-15",
          "KC-2-15.5",
          "KC-2-16",
          "KC-2-17",
          "KC-2-18",
          "KC-2-19",
          "KC-2-20",
          "KC-2-21",
          "KC-2-21.5",
          "KC-2-22",
          "KC-2-23",
          "KC-2-24",
          "KC-2-25",
          "KC-2-25.5",
          "KC-2-26",
          "KC-2-26.5",
          "KC-2-27",
          "KC-2-28",
          "KC-2-29"
         ],
         "type": "scatter",
         "uid": "1522336b-065b-4785-b669-7304fd54afab",
         "x": {
          "dtype": "float64",
          "shape": [
           37
          ]
         },
         "y": {
          "dtype": "float64",
          "shape": [
           37
          ]
         }
        },
        {
         "marker": {
          "color": "Blue",
          "opacity": 0.3,
          "symbol": "star"
         },
         "mode": "markers",
         "name": "Carbonate",
         "text": [
          "KC-2-0",
          "KC-2-30"
         ],
         "type": "scatter",
         "uid": "7e555411-330c-4a81-8418-9090cb5d80d3",
         "x": {
          "dtype": "float64",
          "shape": [
           2
          ]
         },
         "y": {
          "dtype": "float64",
          "shape": [
           2
          ]
         }
        },
        {
         "marker": {
          "color": "Blue",
          "opacity": 0.3,
          "symbol": "square"
         },
         "mode": "markers",
         "name": "Pervasively pyritised regions",
         "text": [
          "KC-2-6p",
          "KC-2-22p"
         ],
         "type": "scatter",
         "uid": "389fc9fe-7a56-4cf8-bcb3-8e940aecea93",
         "x": {
          "dtype": "float64",
          "shape": [
           2
          ]
         },
         "y": {
          "dtype": "float64",
          "shape": [
           2
          ]
         }
        },
        {
         "marker": {
          "color": "Blue",
          "opacity": 0.3,
          "symbol": "diamond"
         },
         "mode": "markers",
         "name": "Bed 22",
         "text": [
          "KC-3-A",
          "KC-3-B",
          "KC-3-C",
          "KC-3-D",
          "KC-3-E",
          "KC-3-F",
          "KC-3-G",
          "KC-3-H",
          "KC-3-I",
          "KC-3-J",
          "KC-3-K"
         ],
         "type": "scatter",
         "uid": "8e604bb2-3b69-4d08-a158-bfcbbb6beea5",
         "x": {
          "dtype": "float64",
          "shape": [
           11
          ]
         },
         "y": {
          "dtype": "float64",
          "shape": [
           11
          ]
         }
        },
        {
         "marker": {
          "color": {
           "dtype": "float64",
           "shape": [
            238
           ]
          },
          "coloraxis": "coloraxis",
          "line": {
           "color": "Black",
           "width": 1
          },
          "opacity": 1,
          "size": 6
         },
         "mode": "markers",
         "name": "Trials",
         "type": "scatter",
         "uid": "73c70ee3-fdf0-4036-a351-3b51d3304e5a",
         "x": {
          "dtype": "float64",
          "shape": [
           238
          ]
         },
         "y": {
          "dtype": "float64",
          "shape": [
           238
          ]
         }
        }
       ],
       "_js2py_relayout": {},
       "_js2py_restyle": {},
       "_js2py_update": {},
       "_last_layout_edit_id": 44,
       "_last_trace_edit_id": 44,
       "_layout": {
        "coloraxis": {
         "colorbar": {
          "ticks": "outside"
         },
         "colorscale": [
          [
           0,
           "#fde725"
          ],
          [
           0.1111111111111111,
           "#b5de2b"
          ],
          [
           0.2222222222222222,
           "#6ece58"
          ],
          [
           0.3333333333333333,
           "#35b779"
          ],
          [
           0.4444444444444444,
           "#1f9e89"
          ],
          [
           0.5555555555555556,
           "#26828e"
          ],
          [
           0.6666666666666666,
           "#31688e"
          ],
          [
           0.7777777777777778,
           "#3e4989"
          ],
          [
           0.8888888888888888,
           "#482878"
          ],
          [
           1,
           "#440154"
          ]
         ]
        },
        "height": 600,
        "legend": {
         "x": 1.2,
         "xanchor": "left",
         "y": 1,
         "yanchor": "top"
        },
        "margin": {
         "l": 100
        },
        "template": {
         "layout": {
          "bargap": 0.05,
          "bargroupgap": 0,
          "font": {
           "color": "black",
           "family": "Arial",
           "size": 16
          },
          "height": 700,
          "hovermode": "closest",
          "margin": {
           "b": 60,
           "l": 60,
           "r": 30,
           "t": 30
          },
          "scene": {
           "xaxis": {
            "color": "black",
            "linewidth": 2,
            "showline": true,
            "ticks": "outside"
           },
           "yaxis": {
            "color": "black",
            "linewidth": 2,
            "showline": true,
            "ticks": "outside"
           },
           "zaxis": {
            "color": "black",
            "linewidth": 2,
            "showline": true,
            "ticks": "outside"
           }
          },
          "xaxis": {
           "color": "black",
           "linewidth": 1.3,
           "mirror": true,
           "showgrid": true,
           "showline": true,
           "ticks": "outside",
           "zeroline": true
          },
          "yaxis": {
           "color": "black",
           "linewidth": 1.3,
           "mirror": true,
           "showgrid": true,
           "showline": true,
           "ticks": "outside",
           "zeroline": true
          }
         }
        },
        "width": 1000,
        "xaxis": {
         "rangemode": "tozero",
         "title": {
          "text": "[FeS<sub>2</sub>] / mol dm<sup>−3</sup>"
         }
        },
        "yaxis": {
         "title": {
          "text": "δ<sup>34</sup>S<sub>py</sub> (‰)"
         }
        }
       },
       "_py2js_animate": {},
       "_py2js_deleteTraces": {},
       "_py2js_moveTraces": {},
       "_py2js_removeLayoutProps": {},
       "_py2js_removeTraceProps": {},
       "_view_count": 0
      }
     },
     "5da08f4447b041f0862e8d70c6cfc0d3": {
      "model_module": "@jupyter-widgets/base",
      "model_module_version": "1.2.0",
      "model_name": "LayoutModel",
      "state": {}
     },
     "5e28c08152ce47029e3d0c97fc8fb12f": {
      "model_module": "@jupyter-widgets/controls",
      "model_module_version": "1.5.0",
      "model_name": "FloatSliderModel",
      "state": {
       "description": "[SO<sub>4</sub>]<sub>0</sub>",
       "layout": "IPY_MODEL_c78f2417726b4939b12b5fe482379422",
       "max": 0.3,
       "min": 0.001,
       "step": 0.001,
       "style": "IPY_MODEL_7b2d246249f44062bf2019a8a26ba69e",
       "value": 0.0105
      }
     },
     "5e35da454c0b44468132f6f990705a1d": {
      "model_module": "@jupyter-widgets/controls",
      "model_module_version": "1.5.0",
      "model_name": "HBoxModel",
      "state": {
       "children": [
        "IPY_MODEL_e7a487d351e34980b826720ce61b5020",
        "IPY_MODEL_300f594a1a2b4e09b9f3bafab55c59f6"
       ],
       "layout": "IPY_MODEL_a1f5641fe65742e0b92ca04da0c026f0"
      }
     },
     "5eef1072bb3747b0be8aadd8f1f80a63": {
      "model_module": "@jupyter-widgets/controls",
      "model_module_version": "1.5.0",
      "model_name": "DropdownModel",
      "state": {
       "_options_labels": [
        "SO4_0",
        "py_0",
        "d34S_SO4_0",
        "epsilon_MSR",
        "k_MSR",
        "v",
        "D_32",
        "beta"
       ],
       "description": "Colour",
       "index": 5,
       "layout": "IPY_MODEL_743ca65ed55d471e8d73d1e17d940df9",
       "style": "IPY_MODEL_04b5bf44d28f410aabcf765621258915"
      }
     },
     "5f78aa6e45ed43e8b0b17256ad506b4d": {
      "model_module": "@jupyter-widgets/controls",
      "model_module_version": "1.5.0",
      "model_name": "HBoxModel",
      "state": {
       "children": [
        "IPY_MODEL_9644d1626a5a43c8bac46dba48a8b6ca",
        "IPY_MODEL_67b3f81c3df34816a9eb427e90169b6b"
       ],
       "layout": "IPY_MODEL_5da08f4447b041f0862e8d70c6cfc0d3"
      }
     },
     "5fb7041678fd419a889392e3acc81cd6": {
      "model_module": "@jupyter-widgets/controls",
      "model_module_version": "1.5.0",
      "model_name": "HBoxModel",
      "state": {
       "children": [
        "IPY_MODEL_a6c67f66abde4451a0b4f7c05e8ca62d",
        "IPY_MODEL_20d600180b174c25ad94fdf02ac4f204"
       ],
       "layout": "IPY_MODEL_b71a5a27efca4aa1816432a2e95c1f8d"
      }
     },
     "6032788ddf4d4a409e5622e1e6689d5f": {
      "model_module": "@jupyter-widgets/base",
      "model_module_version": "1.2.0",
      "model_name": "LayoutModel",
      "state": {}
     },
     "6114dbceac1f41cf886cd7e57ef300c6": {
      "model_module": "@jupyter-widgets/base",
      "model_module_version": "1.2.0",
      "model_name": "LayoutModel",
      "state": {}
     },
     "616f941436964cc49de1e783af2b9dda": {
      "model_module": "@jupyter-widgets/controls",
      "model_module_version": "1.5.0",
      "model_name": "SliderStyleModel",
      "state": {
       "description_width": ""
      }
     },
     "627552afe84c40be9969dd2dfa1af68f": {
      "model_module": "@jupyter-widgets/controls",
      "model_module_version": "1.5.0",
      "model_name": "DropdownModel",
      "state": {
       "_options_labels": [
        "SO4_0",
        "py_0",
        "d34S_SO4_0",
        "epsilon_MSR",
        "k_MSR",
        "v",
        "D_32",
        "beta",
        "max_z",
        "dz"
       ],
       "description": "Vary",
       "index": 5,
       "layout": "IPY_MODEL_7b677a385b2245f5b015186e07a273d4",
       "style": "IPY_MODEL_dfe2d718cef448809388b71daf14384d"
      }
     },
     "6322b660a80f4cb68377d11f08a5404f": {
      "model_module": "@jupyter-widgets/base",
      "model_module_version": "1.2.0",
      "model_name": "LayoutModel",
      "state": {
       "width": "100%"
      }
     },
     "6343d6fc2f6d423a86b2d87da988b446": {
      "model_module": "@jupyter-widgets/output",
      "model_module_version": "1.0.0",
      "model_name": "OutputModel",
      "state": {
       "layout": "IPY_MODEL_6114dbceac1f41cf886cd7e57ef300c6"
      }
     },
     "644e96c7fae24b919e8cca911dbda9fc": {
      "model_module": "@jupyter-widgets/controls",
      "model_module_version": "1.5.0",
      "model_name": "FloatRangeSliderModel",
      "state": {
       "_model_name": "FloatRangeSliderModel",
       "_view_name": "FloatRangeSliderView",
       "description": "δ<sup>34</sup>S<sub>SO4, 0</sub>",
       "layout": "IPY_MODEL_02b8f5c63d26400a91564b224ecbda2c",
       "max": 30,
       "step": 0.1,
       "style": "IPY_MODEL_0d41bf9e40ef4c74bda8132db13a82bf",
       "value": [
        23,
        23
       ]
      }
     },
     "6476668bcc4e4db8b0caa8fbccad5630": {
      "model_module": "@jupyter-widgets/controls",
      "model_module_version": "1.5.0",
      "model_name": "SliderStyleModel",
      "state": {
       "description_width": ""
      }
     },
     "64edd43b854d484290a1d690c78616f8": {
      "model_module": "@jupyter-widgets/controls",
      "model_module_version": "1.5.0",
      "model_name": "SliderStyleModel",
      "state": {
       "description_width": ""
      }
     },
     "65689058a0754004b22929e34f1eecb7": {
      "model_module": "@jupyter-widgets/base",
      "model_module_version": "1.2.0",
      "model_name": "LayoutModel",
      "state": {
       "width": "200px"
      }
     },
     "65d17edf67674484993bea20466e9fe1": {
      "buffers": [
       {
        "data": "xYgRI0aMyD8EJRGURFDSPx3HcRzHccw/yR4he4Ts4T+E7BGyR8jePwGPATwG8Ng/8afBnwZ/2j/FiBEjRozYP3mb4W2Gt9k/s9bJWidr3T+TJk2aNGniP/GnwZ8Gf9o/3/V51+dd7z/ii4kvJr7YP7ds2bJly/Y/qFChQoUK1T/hwIEDBw7cP+KLiS8mvtg/QCsBrQS00j920NlBZwfdP7oC6QqkK+A//vjx48ePzz8vebnk5ZLXP7g34d6Ee9M/XGNxjcU11j/Ub1G/Rf3WP28VuVXkVtE/lp5Zembp2T/Ub1G/Rf3WP3bQ2UFnB90/SeYhmYdk3j9REkFJBCXhP6sbqW6kutE/aLSh0YZG2z/zcsnLJS/XP8LyAcsHLN8/4ouJLya+2D8=",
        "encoding": "base64",
        "path": [
         "_data",
         0,
         "x",
         "value"
        ]
       },
       {
        "data": "Rwd4wKP9NcDD/ACOXgkwwMEuJT+MjyrA/jMJIdu/L8BTmBt0ZCcywDKRuNYj7DLAQFPtOgpRNMB4L4ehp1EuwKu1c0F4mzTAUHW0UVYANsAFJ7EOl7gmwFFBx24I4jPAj9E3cp7+I8CEuSjx9+UywAQFkeNMMhbA2TVfjqU7MMDVZnrukJwywH6jqudgGyzAp/ZymVzMNMAKO9kXTeI0wDalBdnBcjXAwoQpRBDLNMBBT3jre2A4wI4TYoJFczPALO/3XeG7NMDgYpUCNDczwN/G4xE5UTTAzsaJukrVLsDwGDRs5AY2wNgFvnI7yTbAG4Yfg/CcNcB+hirdR4o1wNmKIT+GOjPAcr7WsPMGOcA0gtMIOBQ2wOYGKnLaIzXAGh4S+eZWL8A=",
        "encoding": "base64",
        "path": [
         "_data",
         0,
         "y",
         "value"
        ]
       },
       {
        "data": "fDHxxcQXwz8BjwE8BvCIPw==",
        "encoding": "base64",
        "path": [
         "_data",
         1,
         "x",
         "value"
        ]
       },
       {
        "data": "cLVTVzbTM8AAAAAAAAD4fw==",
        "encoding": "base64",
        "path": [
         "_data",
         1,
         "y",
         "value"
        ]
       },
       {
        "data": "OP/h/Ifz3z8MbzO8zfD2Pw==",
        "encoding": "base64",
        "path": [
         "_data",
         2,
         "x",
         "value"
        ]
       },
       {
        "data": "ovup9wEPLcCk/yfjkHwdwA==",
        "encoding": "base64",
        "path": [
         "_data",
         2,
         "y",
         "value"
        ]
       },
       {
        "data": "bEqxKcWm5D/R2UFnB53dPy09s/TM0vM/HcdxHMdx3D8srrG4xuLaP3wx8cXEF9M/I9WNVDdS7T98MfHFxBfTP8dTGU9lPNU//sP5D+c/3D+4N+HehHvTPw==",
        "encoding": "base64",
        "path": [
         "_data",
         3,
         "x",
         "value"
        ]
       },
       {
        "data": "LnRyTCwKLcCYbbVBaekpwIDQerKveiDAKCD9rhZYI8BeyxW7L38wwNQynejnmCrAhEeFPsdBIsDGEL3bpnUxwJyLhhnAnzTAegDWAACoI8ASyWyzaP8wwA==",
        "encoding": "base64",
        "path": [
         "_data",
         3,
         "y",
         "value"
        ]
       },
       {
        "data": "exSuR+F6dD97FK5H4XqEP7gehetRuI4/exSuR+F6lD+amZmZmZmZP7kehetRuJ4/61G4HoXroT97FK5H4XqkPwrXo3A9Cqc/mZmZmZmZqT8pXI/C9SisP7gehetRuK4/pHA9CtejsD/sUbgeheuxPzQzMzMzM7M/exSuR+F6tD/D9Shcj8K1PwvXo3A9Crc/UrgehetRuD+amZmZmZm5P+J6FK5H4bo/KVyPwvUovD9xPQrXo3C9P7kehetRuL4/AAAAAAAAwD+kcD0K16PAP0jhehSuR8E/7FG4HoXrwT+QwvUoXI/CPzMzMzMzM8M/16NwPQrXwz97FK5H4XrEPx+F61G4HsU/w/UoXI/CxT9nZmZmZmbGPwvXo3A9Csc/rkfhehSuxz9SuB6F61HIP/YoXI/C9cg/",
        "encoding": "base64",
        "path": [
         "_data",
         4,
         "marker",
         "color",
         "value"
        ]
       }
      ],
      "model_module": "jupyterlab-plotly",
      "model_module_version": "^5.1.0",
      "model_name": "FigureModel",
      "state": {
       "_config": {
        "plotlyServerURL": "https://plot.ly"
       },
       "_data": [
        {
         "marker": {
          "color": "Blue",
          "opacity": 0.3,
          "symbol": "circle"
         },
         "mode": "markers",
         "name": "Mudstone",
         "text": [
          "KC-2-1",
          "KC-2-2",
          "KC-2-2.5",
          "KC-2-3",
          "KC-2-3.5",
          "KC-2-4.5",
          "KC-2-5",
          "KC-2-6",
          "KC-2-6.5",
          "KC-2-7",
          "KC-2-8",
          "KC-2-9",
          "KC-2-10",
          "KC-2-11",
          "KC-2-12",
          "KC-2-13",
          "KC-2-14",
          "KC-2-14.5",
          "KC-2-15",
          "KC-2-15.5",
          "KC-2-16",
          "KC-2-17",
          "KC-2-18",
          "KC-2-19",
          "KC-2-20",
          "KC-2-21",
          "KC-2-21.5",
          "KC-2-22",
          "KC-2-23",
          "KC-2-24",
          "KC-2-25",
          "KC-2-25.5",
          "KC-2-26",
          "KC-2-26.5",
          "KC-2-27",
          "KC-2-28",
          "KC-2-29"
         ],
         "type": "scatter",
         "uid": "c61afb15-d662-4655-839a-66089e8e5af8",
         "x": {
          "dtype": "float64",
          "shape": [
           37
          ]
         },
         "y": {
          "dtype": "float64",
          "shape": [
           37
          ]
         }
        },
        {
         "marker": {
          "color": "Blue",
          "opacity": 0.3,
          "symbol": "star"
         },
         "mode": "markers",
         "name": "Carbonate",
         "text": [
          "KC-2-0",
          "KC-2-30"
         ],
         "type": "scatter",
         "uid": "1af229cf-c2ce-4474-bb93-711418c39f4e",
         "x": {
          "dtype": "float64",
          "shape": [
           2
          ]
         },
         "y": {
          "dtype": "float64",
          "shape": [
           2
          ]
         }
        },
        {
         "marker": {
          "color": "Blue",
          "opacity": 0.3,
          "symbol": "square"
         },
         "mode": "markers",
         "name": "Pervasively pyritised regions",
         "text": [
          "KC-2-6p",
          "KC-2-22p"
         ],
         "type": "scatter",
         "uid": "11d74840-8f36-419a-b1c8-9b12367a8da3",
         "x": {
          "dtype": "float64",
          "shape": [
           2
          ]
         },
         "y": {
          "dtype": "float64",
          "shape": [
           2
          ]
         }
        },
        {
         "marker": {
          "color": "Blue",
          "opacity": 0.3,
          "symbol": "diamond"
         },
         "mode": "markers",
         "name": "Bed 22",
         "text": [
          "KC-3-A",
          "KC-3-B",
          "KC-3-C",
          "KC-3-D",
          "KC-3-E",
          "KC-3-F",
          "KC-3-G",
          "KC-3-H",
          "KC-3-I",
          "KC-3-J",
          "KC-3-K"
         ],
         "type": "scatter",
         "uid": "7badc5e5-83ee-4b04-bef6-a15ed5fcc7e0",
         "x": {
          "dtype": "float64",
          "shape": [
           11
          ]
         },
         "y": {
          "dtype": "float64",
          "shape": [
           11
          ]
         }
        },
        {
         "line": {
          "color": "DarkGreen"
         },
         "marker": {
          "color": {
           "dtype": "float64",
           "shape": [
            39
           ]
          },
          "coloraxis": "coloraxis",
          "line": {
           "color": "DarkGreen",
           "width": 1
          }
         },
         "mode": "lines+markers",
         "name": "Model",
         "text": [
          "v: 0.00500",
          "v: 0.01000",
          "v: 0.01500",
          "v: 0.02000",
          "v: 0.02500",
          "v: 0.03000",
          "v: 0.03500",
          "v: 0.04000",
          "v: 0.04500",
          "v: 0.05000",
          "v: 0.05500",
          "v: 0.06000",
          "v: 0.06500",
          "v: 0.07000",
          "v: 0.07500",
          "v: 0.08000",
          "v: 0.08500",
          "v: 0.09000",
          "v: 0.09500",
          "v: 0.10000",
          "v: 0.10500",
          "v: 0.11000",
          "v: 0.11500",
          "v: 0.12000",
          "v: 0.12500",
          "v: 0.13000",
          "v: 0.13500",
          "v: 0.14000",
          "v: 0.14500",
          "v: 0.15000",
          "v: 0.15500",
          "v: 0.16000",
          "v: 0.16500",
          "v: 0.17000",
          "v: 0.17500",
          "v: 0.18000",
          "v: 0.18500",
          "v: 0.19000",
          "v: 0.19500"
         ],
         "type": "scatter",
         "uid": "f5596215-1dd3-468c-9136-f81aa60494d2",
         "x": [
          1.6475349496151064,
          0.9050833088805128,
          0.6576009721380095,
          0.5338609613137576,
          0.45961788077946286,
          0.410123265319512,
          0.37477062983534304,
          0.34825673177012795,
          0.327635325254538,
          0.3111386627619486,
          0.2976418140445749,
          0.28639482559919993,
          0.2768784988433808,
          0.2687219776426893,
          0.26165330082947175,
          0.2554684975253419,
          0.25001158999546913,
          0.24516126222262366,
          0.24082173840094911,
          0.23691639788264113,
          0.23338321442781834,
          0.23017143929185913,
          0.2272391495967542,
          0.22455140960878256,
          0.2220788733102713,
          0.21979670945302698,
          0.217683765490723,
          0.2157219106679622,
          0.2138955150208344,
          0.21219103257984254,
          0.21059666524055845,
          0.20910208966006677,
          0.20769823380834332,
          0.20637709295179765,
          0.20513157718188282,
          0.20395538435663876,
          0.202842893645153,
          0.20178907588194228,
          0.2007894177119861
         ],
         "y": [
          -7.176703092740988,
          -9.240500444293032,
          -10.963615145375805,
          -12.42395177550426,
          -13.67728039040439,
          -14.76471121578371,
          -15.717099204285656,
          -16.55811243173233,
          -17.306176798352226,
          -17.975882551363508,
          -18.57891810471335,
          -19.12473496211975,
          -19.621101566122846,
          -20.074441604590376,
          -20.490105215693056,
          -20.872574237043583,
          -21.225677070841332,
          -21.55266827422264,
          -21.85630675859407,
          -22.139021775158916,
          -22.402888803899845,
          -22.649727877219526,
          -22.881127096178734,
          -23.09848040680995,
          -23.303030036116002,
          -23.495872846526765,
          -23.677967437458204,
          -23.850192147092166,
          -24.013328702196745,
          -24.168060362454334,
          -24.315023226778365,
          -24.454784355658397,
          -24.5878597172009,
          -24.714704576381475,
          -24.835750990532922,
          -24.95138428831567,
          -25.061953884527256,
          -25.1677793540096,
          -25.26916196854423
         ]
        },
        {
         "line": {
          "color": "Orange"
         },
         "marker": {
          "coloraxis": "coloraxis",
          "line": {
           "color": "Orange",
           "width": 1
          }
         },
         "mode": "lines+markers",
         "name": "Model (no py<sub>0</sub>)",
         "type": "scatter",
         "uid": "95c1d948-3e35-4667-8e08-0e49718bb79b",
         "visible": false
        },
        {
         "marker": {
          "color": "Purple",
          "symbol": "square"
         },
         "mode": "markers",
         "name": "Syn-Depositional Pyrite",
         "text": [
          "0.53 wt% Fe<sub>py, 0</sub>"
         ],
         "type": "scatter",
         "uid": "e7f1f1ad-f231-41e3-a223-2f9c23fbc512",
         "visible": true,
         "x": [
          0.16
         ],
         "y": [
          -31
         ]
        }
       ],
       "_js2py_pointsCallback": {},
       "_js2py_relayout": {},
       "_js2py_restyle": {},
       "_js2py_update": {},
       "_last_layout_edit_id": 9,
       "_last_trace_edit_id": 9,
       "_layout": {
        "coloraxis": {
         "colorbar": {
          "ticks": "outside",
          "title": {
           "text": "v<sub>sed</sub>"
          }
         },
         "colorscale": [
          [
           0,
           "#fde725"
          ],
          [
           0.1111111111111111,
           "#b5de2b"
          ],
          [
           0.2222222222222222,
           "#6ece58"
          ],
          [
           0.3333333333333333,
           "#35b779"
          ],
          [
           0.4444444444444444,
           "#1f9e89"
          ],
          [
           0.5555555555555556,
           "#26828e"
          ],
          [
           0.6666666666666666,
           "#31688e"
          ],
          [
           0.7777777777777778,
           "#3e4989"
          ],
          [
           0.8888888888888888,
           "#482878"
          ],
          [
           1,
           "#440154"
          ]
         ]
        },
        "height": 600,
        "legend": {
         "x": 1.2,
         "xanchor": "left",
         "y": 1,
         "yanchor": "top"
        },
        "margin": {
         "l": 100
        },
        "template": {
         "layout": {
          "bargap": 0.05,
          "bargroupgap": 0,
          "font": {
           "color": "black",
           "family": "Arial",
           "size": 16
          },
          "height": 700,
          "hovermode": "closest",
          "margin": {
           "b": 60,
           "l": 60,
           "r": 30,
           "t": 30
          },
          "scene": {
           "xaxis": {
            "color": "black",
            "linewidth": 2,
            "showline": true,
            "ticks": "outside"
           },
           "yaxis": {
            "color": "black",
            "linewidth": 2,
            "showline": true,
            "ticks": "outside"
           },
           "zaxis": {
            "color": "black",
            "linewidth": 2,
            "showline": true,
            "ticks": "outside"
           }
          },
          "xaxis": {
           "color": "black",
           "linewidth": 1.3,
           "mirror": true,
           "showgrid": true,
           "showline": true,
           "ticks": "outside",
           "zeroline": true
          },
          "yaxis": {
           "color": "black",
           "linewidth": 1.3,
           "mirror": true,
           "showgrid": true,
           "showline": true,
           "ticks": "outside",
           "zeroline": true
          }
         }
        },
        "width": 1000,
        "xaxis": {
         "rangemode": "tozero",
         "title": {
          "text": "[FeS<sub>2</sub>] / mol dm<sup>−3</sup>"
         }
        },
        "yaxis": {
         "title": {
          "text": "δ<sup>34</sup>S<sub>py</sub> (‰)"
         }
        }
       },
       "_py2js_animate": {},
       "_py2js_deleteTraces": {},
       "_py2js_moveTraces": {},
       "_py2js_removeLayoutProps": {},
       "_py2js_removeTraceProps": {},
       "_py2js_restyle": {},
       "_view_count": 1
      }
     },
     "65e853133a7c466b971f08c9ecbbe7c2": {
      "model_module": "@jupyter-widgets/controls",
      "model_module_version": "1.5.0",
      "model_name": "FloatSliderModel",
      "state": {
       "description": "v<sub>sed</sub>",
       "layout": "IPY_MODEL_a1f1bdcefd6c49f7918891ed9ec12d02",
       "max": 0.5,
       "min": 0.001,
       "step": 0.001,
       "style": "IPY_MODEL_dfc32c5247514b1da4c15e81fb089457",
       "value": 0.12
      }
     },
     "65f22c901d0a41868d7d9a47acfdf1a3": {
      "model_module": "@jupyter-widgets/controls",
      "model_module_version": "1.5.0",
      "model_name": "FloatRangeSliderModel",
      "state": {
       "_model_name": "FloatRangeSliderModel",
       "_view_name": "FloatRangeSliderView",
       "description": "ε<sub>MSR</sub>",
       "layout": "IPY_MODEL_a1bfa2999fe6446d8d8f6b738d90f1ed",
       "style": "IPY_MODEL_f8fd6a06d45245cc9f0c1815c8afa2b6",
       "value": [
        54,
        54
       ]
      }
     },
     "65f72fa256fb48d3861fd277ffa67cd5": {
      "model_module": "@jupyter-widgets/controls",
      "model_module_version": "1.5.0",
      "model_name": "FloatSliderModel",
      "state": {
       "description": "k<sub>MSR</sub>",
       "layout": "IPY_MODEL_efb3e54d6dad438c99ca475a461d2819",
       "max": 40,
       "step": 0.1,
       "style": "IPY_MODEL_e0f42448101842a7ae60c053e37fd8fd",
       "value": 10
      }
     },
     "6747185dd2f64837ac1ad8b5d318887d": {
      "model_module": "@jupyter-widgets/base",
      "model_module_version": "1.2.0",
      "model_name": "LayoutModel",
      "state": {
       "width": "100%"
      }
     },
     "67b3f81c3df34816a9eb427e90169b6b": {
      "model_module": "@jupyter-widgets/controls",
      "model_module_version": "1.5.0",
      "model_name": "FloatRangeSliderModel",
      "state": {
       "_model_name": "FloatRangeSliderModel",
       "_view_name": "FloatRangeSliderView",
       "description": "v<sub>sed</sub>",
       "layout": "IPY_MODEL_883f33ee95694a8fba779b4c5a7bb7e4",
       "max": 0.5,
       "min": 0.001,
       "step": 0.001,
       "style": "IPY_MODEL_5cc06d529aa1458da0e58bc0540d93af",
       "value": [
        0.018,
        0.12
       ]
      }
     },
     "67fe71b5802c45858b602ebb67c46de0": {
      "model_module": "@jupyter-widgets/base",
      "model_module_version": "1.2.0",
      "model_name": "LayoutModel",
      "state": {
       "width": "100%"
      }
     },
     "68e9d5f99e0747b59e2dc4fa966e04f6": {
      "model_module": "@jupyter-widgets/controls",
      "model_module_version": "1.5.0",
      "model_name": "IntSliderModel",
      "state": {
       "description": "№ of Trials",
       "layout": "IPY_MODEL_ee1f1773741e4852813da29a58bd2796",
       "max": 1000,
       "min": 1,
       "style": "IPY_MODEL_1f9453f751cd4373a1d8687310901865",
       "value": 238
      }
     },
     "68ef337a191a46e3be81e97956288da2": {
      "model_module": "@jupyter-widgets/controls",
      "model_module_version": "1.5.0",
      "model_name": "SliderStyleModel",
      "state": {
       "description_width": ""
      }
     },
     "6936c88b46ca4931a2b201d0ba9c669f": {
      "model_module": "@jupyter-widgets/controls",
      "model_module_version": "1.5.0",
      "model_name": "SliderStyleModel",
      "state": {
       "description_width": ""
      }
     },
     "695e41621ce741d0bb57832c18e73707": {
      "model_module": "@jupyter-widgets/base",
      "model_module_version": "1.2.0",
      "model_name": "LayoutModel",
      "state": {
       "width": "100%"
      }
     },
     "69852de3f03642d0b4120f0b3a226676": {
      "model_module": "@jupyter-widgets/controls",
      "model_module_version": "1.5.0",
      "model_name": "HBoxModel",
      "state": {
       "children": [
        "IPY_MODEL_7158feb68f654bd283ad9633b380176b",
        "IPY_MODEL_2cfa5b2d1d0d4f139e2ce37ccad37da1"
       ],
       "layout": "IPY_MODEL_4fc1fc8dfc7a4f0f8be61e22cf260122"
      }
     },
     "6ad3e9936dca4584b2afb5835b0cf893": {
      "model_module": "@jupyter-widgets/base",
      "model_module_version": "1.2.0",
      "model_name": "LayoutModel",
      "state": {
       "width": "100%"
      }
     },
     "6ad599425400441cabc53d2a4cd80644": {
      "model_module": "@jupyter-widgets/base",
      "model_module_version": "1.2.0",
      "model_name": "LayoutModel",
      "state": {}
     },
     "6dd64b8c3a5c45a0868cbee5d104ff70": {
      "model_module": "@jupyter-widgets/controls",
      "model_module_version": "1.5.0",
      "model_name": "SliderStyleModel",
      "state": {
       "description_width": ""
      }
     },
     "6f02b2534e604c349563d542768d7a34": {
      "model_module": "@jupyter-widgets/controls",
      "model_module_version": "1.5.0",
      "model_name": "SliderStyleModel",
      "state": {
       "description_width": ""
      }
     },
     "6f53fd3cc5d54377ad7f8e0d1ec2e655": {
      "model_module": "@jupyter-widgets/controls",
      "model_module_version": "1.5.0",
      "model_name": "SliderStyleModel",
      "state": {
       "description_width": ""
      }
     },
     "6fc104501b4a44e38139977d048210b4": {
      "model_module": "@jupyter-widgets/controls",
      "model_module_version": "1.5.0",
      "model_name": "FloatSliderModel",
      "state": {
       "description": "[Fe<sub>tot</sub>]",
       "layout": "IPY_MODEL_a2bebb672eb649c0a52b89361eba4487",
       "max": 15,
       "step": 0.1,
       "style": "IPY_MODEL_1d11651976d646ca831627f5a788bd81",
       "value": 4
      }
     },
     "6fc487c58d804122ab5a009b4148a8b4": {
      "model_module": "@jupyter-widgets/controls",
      "model_module_version": "1.5.0",
      "model_name": "HBoxModel",
      "state": {
       "children": [
        "IPY_MODEL_75e58f8448d14a17b1ceb944d2f83615",
        "IPY_MODEL_8a76c317677d462bbfae624da59df3a1"
       ],
       "layout": "IPY_MODEL_1b7e977a072e4992aa685e8c6e7d59f4"
      }
     },
     "6fc97ddb7443454fa079356e3f9f93ca": {
      "model_module": "@jupyter-widgets/controls",
      "model_module_version": "1.5.0",
      "model_name": "HBoxModel",
      "state": {
       "children": [
        "IPY_MODEL_d3fb45c228044bcb8a7863cff6d4a507",
        "IPY_MODEL_78cfc08e470c49fc9a14a3df158b51f8",
        "IPY_MODEL_9a5fc9391ac447b7a180fbd3cc41b07d"
       ],
       "layout": "IPY_MODEL_e067a59460f04c5783401685105d2463"
      }
     },
     "70a5a87409d04c96a10ef74095034d0d": {
      "model_module": "@jupyter-widgets/controls",
      "model_module_version": "1.5.0",
      "model_name": "HBoxModel",
      "state": {
       "children": [
        "IPY_MODEL_f9d58d3082af41c299e2ac7217c1f226",
        "IPY_MODEL_2859d9b3fd1c4619811c70f9452cb1ce"
       ],
       "layout": "IPY_MODEL_2d79ac152bf74eb396bdb38ca730d5b9"
      }
     },
     "70d0d9acf2614ab89813d8fc3ac83646": {
      "model_module": "@jupyter-widgets/base",
      "model_module_version": "1.2.0",
      "model_name": "LayoutModel",
      "state": {
       "width": "100%"
      }
     },
     "70e9371591df4578ba7b11370a0b4342": {
      "model_module": "@jupyter-widgets/controls",
      "model_module_version": "1.5.0",
      "model_name": "SliderStyleModel",
      "state": {
       "description_width": ""
      }
     },
     "7158feb68f654bd283ad9633b380176b": {
      "model_module": "@jupyter-widgets/controls",
      "model_module_version": "1.5.0",
      "model_name": "FloatRangeSliderModel",
      "state": {
       "_model_name": "FloatRangeSliderModel",
       "_view_name": "FloatRangeSliderView",
       "description": "[FeS<sub>2</sub>]<sub>0</sub>",
       "layout": "IPY_MODEL_f31ffbfd163b4292b1824edeee11a610",
       "max": 1,
       "step": 0.0025,
       "style": "IPY_MODEL_0ee845241afc4d44a794bbf162dbed8d",
       "value": [
        0.16,
        0.16
       ]
      }
     },
     "71a5c2b3e6dd454aa68b189b4d91c424": {
      "model_module": "@jupyter-widgets/controls",
      "model_module_version": "1.5.0",
      "model_name": "FloatRangeSliderModel",
      "state": {
       "_model_name": "FloatRangeSliderModel",
       "_view_name": "FloatRangeSliderView",
       "description": "D<sub>32</sub>",
       "layout": "IPY_MODEL_1678d32cd5ae4517bf2cac221846c5db",
       "max": 0.3,
       "min": 0.001,
       "step": 0.001,
       "style": "IPY_MODEL_31839675a3534ca1b471f6f04abd6483",
       "value": [
        0.2,
        0.2
       ]
      }
     },
     "71b0be1ac1a64292a6056abda9ba8572": {
      "model_module": "@jupyter-widgets/controls",
      "model_module_version": "1.5.0",
      "model_name": "FloatSliderModel",
      "state": {
       "description": "z<sub>max</sub>",
       "layout": "IPY_MODEL_e47c5dd6c0a240a1aa685d935f292cae",
       "max": 10,
       "min": 0.01,
       "step": 0.01,
       "style": "IPY_MODEL_6936c88b46ca4931a2b201d0ba9c669f",
       "value": 1.5
      }
     },
     "71fcd5c811e547afb3a5a9667737d483": {
      "model_module": "@jupyter-widgets/base",
      "model_module_version": "1.2.0",
      "model_name": "LayoutModel",
      "state": {}
     },
     "7236d410ab364e1ab0525b7cadecf4c5": {
      "model_module": "@jupyter-widgets/base",
      "model_module_version": "1.2.0",
      "model_name": "LayoutModel",
      "state": {}
     },
     "72559d4b42a3444f8fbbaa18682a3e41": {
      "model_module": "@jupyter-widgets/output",
      "model_module_version": "1.0.0",
      "model_name": "OutputModel",
      "state": {
       "layout": "IPY_MODEL_ff3958d16a6d4e22b4191dfb6abaa03b"
      }
     },
     "72605881191c4ea8b67f0c3b9792f446": {
      "model_module": "@jupyter-widgets/controls",
      "model_module_version": "1.5.0",
      "model_name": "SliderStyleModel",
      "state": {
       "description_width": ""
      }
     },
     "72869f1f11ad4d199fb320862efd647f": {
      "model_module": "@jupyter-widgets/controls",
      "model_module_version": "1.5.0",
      "model_name": "SliderStyleModel",
      "state": {
       "description_width": ""
      }
     },
     "7306757920c148bcb8f410d5a7a25168": {
      "model_module": "@jupyter-widgets/controls",
      "model_module_version": "1.5.0",
      "model_name": "SliderStyleModel",
      "state": {
       "description_width": ""
      }
     },
     "732d4877fd694712a805d66c3dcf9d83": {
      "model_module": "@jupyter-widgets/controls",
      "model_module_version": "1.5.0",
      "model_name": "HBoxModel",
      "state": {
       "children": [
        "IPY_MODEL_53b89f065dda477d90991a9e5db00b27",
        "IPY_MODEL_ae6d4972bf3043848e635c0dc04be478"
       ],
       "layout": "IPY_MODEL_5062104b71ff4a6cb50436c8bdb40d6c"
      }
     },
     "740894b5fef94f26afb6e6989bb495f1": {
      "model_module": "@jupyter-widgets/controls",
      "model_module_version": "1.5.0",
      "model_name": "CheckboxModel",
      "state": {
       "description": "Plot time on y axis",
       "disabled": false,
       "layout": "IPY_MODEL_076946a24fe84b438a0d85ed0850ca2c",
       "style": "IPY_MODEL_5b572b81553441759a5d7457ab1403dc",
       "value": false
      }
     },
     "743ca65ed55d471e8d73d1e17d940df9": {
      "model_module": "@jupyter-widgets/base",
      "model_module_version": "1.2.0",
      "model_name": "LayoutModel",
      "state": {
       "width": "200px"
      }
     },
     "7579be5ae69b4c2c9371cdc85af9e96d": {
      "model_module": "@jupyter-widgets/output",
      "model_module_version": "1.0.0",
      "model_name": "OutputModel",
      "state": {
       "layout": "IPY_MODEL_ed5b4d53135e4d74bc30b2ddfffe623f"
      }
     },
     "75ac6b85be5740a5bddddf6db23d41e6": {
      "model_module": "@jupyter-widgets/base",
      "model_module_version": "1.2.0",
      "model_name": "LayoutModel",
      "state": {}
     },
     "75e58f8448d14a17b1ceb944d2f83615": {
      "model_module": "@jupyter-widgets/controls",
      "model_module_version": "1.5.0",
      "model_name": "CheckboxModel",
      "state": {
       "description": "Plot syn-depositional pyrite",
       "disabled": false,
       "layout": "IPY_MODEL_e06eedae07f440eeb69b187e39d7eaab",
       "style": "IPY_MODEL_f9b2408833034d2d9069c3a4b6a61a8a",
       "value": true
      }
     },
     "7671965c3bfa45959e77d36a7f5d7208": {
      "model_module": "@jupyter-widgets/controls",
      "model_module_version": "1.5.0",
      "model_name": "HBoxModel",
      "state": {
       "children": [
        "IPY_MODEL_d6fb3c40100f468fab05ffb8a13d3426",
        "IPY_MODEL_14b9c2d16eeb4e69b12757a767dcf76b"
       ],
       "layout": "IPY_MODEL_95554e4dcfbc49afba965f140cad8d61"
      }
     },
     "78adbfc762c14e36a4d0ca5f4603942b": {
      "model_module": "@jupyter-widgets/controls",
      "model_module_version": "1.5.0",
      "model_name": "FloatRangeSliderModel",
      "state": {
       "_model_name": "FloatRangeSliderModel",
       "_view_name": "FloatRangeSliderView",
       "description": "D<sub>32</sub>",
       "layout": "IPY_MODEL_8bf16bcdd7af48c1b1adba7e81ecc06f",
       "max": 0.3,
       "min": 0.001,
       "step": 0.001,
       "style": "IPY_MODEL_1677ea29b3b44556809cb93859bae746",
       "value": [
        0.186,
        0.2
       ]
      }
     },
     "78cfc08e470c49fc9a14a3df158b51f8": {
      "model_module": "@jupyter-widgets/controls",
      "model_module_version": "1.5.0",
      "model_name": "FloatSliderModel",
      "state": {
       "description": "Marker Size",
       "layout": "IPY_MODEL_9151a37e1ab94f409a55a2b4f13778e7",
       "max": 20,
       "step": 0.1,
       "style": "IPY_MODEL_bb1158316442428fb7f0703cd82e9e93",
       "value": 6
      }
     },
     "7909cd4953a94c8a98fb799301ca5729": {
      "model_module": "@jupyter-widgets/controls",
      "model_module_version": "1.5.0",
      "model_name": "SliderStyleModel",
      "state": {
       "description_width": ""
      }
     },
     "797a608e888545a9a7f5115464a051d5": {
      "model_module": "@jupyter-widgets/base",
      "model_module_version": "1.2.0",
      "model_name": "LayoutModel",
      "state": {}
     },
     "79a51b32e6f04c3385d73da7293f16b0": {
      "model_module": "@jupyter-widgets/base",
      "model_module_version": "1.2.0",
      "model_name": "LayoutModel",
      "state": {}
     },
     "79e789ea48cd4198a422b04eef005780": {
      "model_module": "@jupyter-widgets/base",
      "model_module_version": "1.2.0",
      "model_name": "LayoutModel",
      "state": {}
     },
     "7a633d8ce4874e7d96c7b98fdfda18f2": {
      "model_module": "@jupyter-widgets/controls",
      "model_module_version": "1.5.0",
      "model_name": "VBoxModel",
      "state": {
       "children": [
        "IPY_MODEL_fb059a61ebb542ba8a9670ac34356b6f",
        "IPY_MODEL_82e21e4773fd434daa54732a2050ece6"
       ],
       "layout": "IPY_MODEL_3d918b8df821463fb445a4c4f84382fc"
      }
     },
     "7b27314cc6564377b5b8cb4b02da8b6c": {
      "model_module": "@jupyter-widgets/controls",
      "model_module_version": "1.5.0",
      "model_name": "SliderStyleModel",
      "state": {
       "description_width": ""
      }
     },
     "7b2d246249f44062bf2019a8a26ba69e": {
      "model_module": "@jupyter-widgets/controls",
      "model_module_version": "1.5.0",
      "model_name": "SliderStyleModel",
      "state": {
       "description_width": ""
      }
     },
     "7b677a385b2245f5b015186e07a273d4": {
      "model_module": "@jupyter-widgets/base",
      "model_module_version": "1.2.0",
      "model_name": "LayoutModel",
      "state": {
       "width": "200px"
      }
     },
     "7b8afc261cb44c2d9a0b987b1adca574": {
      "model_module": "@jupyter-widgets/output",
      "model_module_version": "1.0.0",
      "model_name": "OutputModel",
      "state": {
       "layout": "IPY_MODEL_2acd5363037a439abd2aa4722e72fef3"
      }
     },
     "7c26efc3bc3e428aacfa1300cae1817d": {
      "model_module": "@jupyter-widgets/controls",
      "model_module_version": "1.5.0",
      "model_name": "DescriptionStyleModel",
      "state": {
       "description_width": ""
      }
     },
     "7d3ebe4d7f9741c492085745a718e671": {
      "model_module": "@jupyter-widgets/controls",
      "model_module_version": "1.5.0",
      "model_name": "HBoxModel",
      "state": {
       "children": [
        "IPY_MODEL_3cd124e38491430c83509fcbc566daf8",
        "IPY_MODEL_ec5a69599f09427896b3c4c07c255c02"
       ],
       "layout": "IPY_MODEL_d62bafbc33494647b8075c74fd4f0899"
      }
     },
     "7e1d0ee08afc4e2d8dde9cce0a99a9f5": {
      "model_module": "@jupyter-widgets/base",
      "model_module_version": "1.2.0",
      "model_name": "LayoutModel",
      "state": {}
     },
     "7e5ab8a451f84ac5a28c585efd97fc29": {
      "model_module": "@jupyter-widgets/controls",
      "model_module_version": "1.5.0",
      "model_name": "HBoxModel",
      "state": {
       "children": [
        "IPY_MODEL_627552afe84c40be9969dd2dfa1af68f",
        "IPY_MODEL_20f3e87e99184b6386aa68d13fc189e1",
        "IPY_MODEL_3dce4868804d4e46bba3c7c93c9786d9",
        "IPY_MODEL_116deaac7dc64ebd8d6bc7c8872f43e5"
       ],
       "layout": "IPY_MODEL_6032788ddf4d4a409e5622e1e6689d5f"
      }
     },
     "7ebb51b74dda4151bede9a1d5503b52b": {
      "model_module": "@jupyter-widgets/controls",
      "model_module_version": "1.5.0",
      "model_name": "FloatSliderModel",
      "state": {
       "description": "Marker Size",
       "layout": "IPY_MODEL_a0459b39698a445394afde34bf252b03",
       "max": 20,
       "step": 0.1,
       "style": "IPY_MODEL_68ef337a191a46e3be81e97956288da2",
       "value": 6
      }
     },
     "7fe393a16f674b5b877518a56a5dbe1d": {
      "model_module": "@jupyter-widgets/controls",
      "model_module_version": "1.5.0",
      "model_name": "HBoxModel",
      "state": {
       "children": [
        "IPY_MODEL_e9aae6da3f694735910de8b487e61b7f",
        "IPY_MODEL_d2f33eed3a3c42a1b2a86d895781551d"
       ],
       "layout": "IPY_MODEL_b2bd8d5baa424cc187dafc32e6825db1"
      }
     },
     "82e21e4773fd434daa54732a2050ece6": {
      "model_module": "@jupyter-widgets/controls",
      "model_module_version": "1.5.0",
      "model_name": "HBoxModel",
      "state": {
       "children": [
        "IPY_MODEL_5d52ee9a8acd4695915c664e3b40c706",
        "IPY_MODEL_2df5796cf1a2450bacbdb31fae79a659"
       ],
       "layout": "IPY_MODEL_aa4ced88565e4faab468644871b25806"
      }
     },
     "842d98d21358401b877d01ba201b2f5f": {
      "model_module": "@jupyter-widgets/controls",
      "model_module_version": "1.5.0",
      "model_name": "FloatRangeSliderModel",
      "state": {
       "_model_name": "FloatRangeSliderModel",
       "_view_name": "FloatRangeSliderView",
       "description": "v<sub>sed</sub>",
       "layout": "IPY_MODEL_215a4160204a410b8e3f55ce8e4c90a2",
       "max": 0.5,
       "min": 0.001,
       "step": 0.001,
       "style": "IPY_MODEL_f205d0432be64899b3a337466649dd98",
       "value": [
        0.047,
        0.12
       ]
      }
     },
     "84a4c0cc5b664b14b8a5596a38a8040c": {
      "model_module": "@jupyter-widgets/base",
      "model_module_version": "1.2.0",
      "model_name": "LayoutModel",
      "state": {}
     },
     "855a68a41a5a4d4dad1e815d5c630c1a": {
      "model_module": "@jupyter-widgets/controls",
      "model_module_version": "1.5.0",
      "model_name": "FloatSliderModel",
      "state": {
       "description": "[SO<sub>4</sub>]<sub>0</sub>",
       "layout": "IPY_MODEL_9ef538662b5b4d40941895820c98c65f",
       "max": 0.3,
       "min": 0.001,
       "step": 0.001,
       "style": "IPY_MODEL_616f941436964cc49de1e783af2b9dda",
       "value": 0.0105
      }
     },
     "872f1dcc9161442c9f35aa7b5b5599a4": {
      "model_module": "@jupyter-widgets/controls",
      "model_module_version": "1.5.0",
      "model_name": "SliderStyleModel",
      "state": {
       "description_width": ""
      }
     },
     "883f33ee95694a8fba779b4c5a7bb7e4": {
      "model_module": "@jupyter-widgets/base",
      "model_module_version": "1.2.0",
      "model_name": "LayoutModel",
      "state": {
       "width": "100%"
      }
     },
     "889d44323f5f4927b92d10a61b8274d8": {
      "model_module": "@jupyter-widgets/base",
      "model_module_version": "1.2.0",
      "model_name": "LayoutModel",
      "state": {}
     },
     "8902fa650a574b5a9fd68c2b1db76b26": {
      "model_module": "@jupyter-widgets/controls",
      "model_module_version": "1.5.0",
      "model_name": "HBoxModel",
      "state": {
       "children": [
        "IPY_MODEL_362db7b2fb494d1bb9f722d8c98a085c",
        "IPY_MODEL_28be57b822634957b344a67b9ec690e9"
       ],
       "layout": "IPY_MODEL_94281c4623864a52a2b9ce17e5ce654d"
      }
     },
     "8961c9c9539b49cab455e48159c40d45": {
      "model_module": "@jupyter-widgets/controls",
      "model_module_version": "1.5.0",
      "model_name": "FloatRangeSliderModel",
      "state": {
       "_model_name": "FloatRangeSliderModel",
       "_view_name": "FloatRangeSliderView",
       "description": "β",
       "layout": "IPY_MODEL_a790c9d494b1480d9e6f8e74e9b2ce91",
       "max": 0.05,
       "step": 0.001,
       "style": "IPY_MODEL_4ce38257999643e688748b86d5a7c161",
       "value": [
        0.025,
        0.025
       ]
      }
     },
     "89e4436a8ef2490482f3953934bd4cb4": {
      "model_module": "@jupyter-widgets/base",
      "model_module_version": "1.2.0",
      "model_name": "LayoutModel",
      "state": {
       "width": "100%"
      }
     },
     "89f061318c2a4e3aaf5249fccc8b6850": {
      "model_module": "@jupyter-widgets/base",
      "model_module_version": "1.2.0",
      "model_name": "LayoutModel",
      "state": {}
     },
     "8a68a36a49f04c66b43b7cf71edd653c": {
      "model_module": "@jupyter-widgets/controls",
      "model_module_version": "1.5.0",
      "model_name": "FloatRangeSliderModel",
      "state": {
       "_model_name": "FloatRangeSliderModel",
       "_view_name": "FloatRangeSliderView",
       "description": "β",
       "layout": "IPY_MODEL_3066471e58ad48df9d1494c9ee5c1f13",
       "max": 0.05,
       "step": 0.001,
       "style": "IPY_MODEL_7909cd4953a94c8a98fb799301ca5729",
       "value": [
        0.025,
        0.025
       ]
      }
     },
     "8a76c317677d462bbfae624da59df3a1": {
      "model_module": "@jupyter-widgets/controls",
      "model_module_version": "1.5.0",
      "model_name": "CheckboxModel",
      "state": {
       "description": "Plot curve w/o syn-depositional pyrite",
       "disabled": false,
       "layout": "IPY_MODEL_7e1d0ee08afc4e2d8dde9cce0a99a9f5",
       "style": "IPY_MODEL_41b0ee3418db419dba19ad1addb2187c",
       "value": false
      }
     },
     "8af753f749294fa283a24afd8a234015": {
      "model_module": "@jupyter-widgets/controls",
      "model_module_version": "1.5.0",
      "model_name": "FloatSliderModel",
      "state": {
       "description": "Marker Size",
       "layout": "IPY_MODEL_695e41621ce741d0bb57832c18e73707",
       "max": 20,
       "step": 0.1,
       "style": "IPY_MODEL_3f2782b89c6a4d2588cdcb0ee178b0a6",
       "value": 6
      }
     },
     "8b03f2f823a0439f9391d938a8b32f36": {
      "model_module": "@jupyter-widgets/base",
      "model_module_version": "1.2.0",
      "model_name": "LayoutModel",
      "state": {}
     },
     "8b3c9f2c4b8c40e798b2d8dc4daad78b": {
      "model_module": "@jupyter-widgets/base",
      "model_module_version": "1.2.0",
      "model_name": "LayoutModel",
      "state": {
       "width": "100%"
      }
     },
     "8bf16bcdd7af48c1b1adba7e81ecc06f": {
      "model_module": "@jupyter-widgets/base",
      "model_module_version": "1.2.0",
      "model_name": "LayoutModel",
      "state": {
       "width": "100%"
      }
     },
     "8bffd45e75af4411924afd658ef556a8": {
      "model_module": "@jupyter-widgets/base",
      "model_module_version": "1.2.0",
      "model_name": "LayoutModel",
      "state": {
       "width": "100%"
      }
     },
     "8c23ec90dd7940e9bda685ffdc238971": {
      "model_module": "@jupyter-widgets/base",
      "model_module_version": "1.2.0",
      "model_name": "LayoutModel",
      "state": {}
     },
     "8cadbd7ee84343319f6e054b83533118": {
      "model_module": "@jupyter-widgets/base",
      "model_module_version": "1.2.0",
      "model_name": "LayoutModel",
      "state": {
       "width": "100%"
      }
     },
     "8cb53c389d1e4e2f89412ff33fa10583": {
      "model_module": "@jupyter-widgets/controls",
      "model_module_version": "1.5.0",
      "model_name": "HBoxModel",
      "state": {
       "children": [
        "IPY_MODEL_491237a021b246308bdd2b1ccda6747e",
        "IPY_MODEL_96bc13730e6843818a87d7abdfb3447f"
       ],
       "layout": "IPY_MODEL_ef68bdf379894355b832f4771d6e1b60"
      }
     },
     "8d4c5152866c440f975f1c15a35c38bc": {
      "model_module": "@jupyter-widgets/base",
      "model_module_version": "1.2.0",
      "model_name": "LayoutModel",
      "state": {}
     },
     "8e5e51e8bdb24def892f5bfcf163ee5a": {
      "model_module": "@jupyter-widgets/controls",
      "model_module_version": "1.5.0",
      "model_name": "SliderStyleModel",
      "state": {
       "description_width": ""
      }
     },
     "8ec2655b51fd450a9af26aea33206b6d": {
      "model_module": "@jupyter-widgets/output",
      "model_module_version": "1.0.0",
      "model_name": "OutputModel",
      "state": {
       "layout": "IPY_MODEL_5c2930e8b0df4071bfdb0e153fcf3f30"
      }
     },
     "90320df793644f22836f301fada3a8ef": {
      "model_module": "@jupyter-widgets/controls",
      "model_module_version": "1.5.0",
      "model_name": "SliderStyleModel",
      "state": {
       "description_width": ""
      }
     },
     "9068b7a974834fcc8515c86d1159c8be": {
      "buffers": [
       {
        "data": "xYgRI0aMyD8EJRGURFDSPx3HcRzHccw/yR4he4Ts4T+E7BGyR8jePwGPATwG8Ng/8afBnwZ/2j/FiBEjRozYP3mb4W2Gt9k/s9bJWidr3T+TJk2aNGniP/GnwZ8Gf9o/3/V51+dd7z/ii4kvJr7YP7ds2bJly/Y/qFChQoUK1T/hwIEDBw7cP+KLiS8mvtg/QCsBrQS00j920NlBZwfdP7oC6QqkK+A//vjx48ePzz8vebnk5ZLXP7g34d6Ee9M/XGNxjcU11j/Ub1G/Rf3WP28VuVXkVtE/lp5Zembp2T/Ub1G/Rf3WP3bQ2UFnB90/SeYhmYdk3j9REkFJBCXhP6sbqW6kutE/aLSh0YZG2z/zcsnLJS/XP8LyAcsHLN8/4ouJLya+2D8=",
        "encoding": "base64",
        "path": [
         "_data",
         0,
         "x",
         "value"
        ]
       },
       {
        "data": "Rwd4wKP9NcDD/ACOXgkwwMEuJT+MjyrA/jMJIdu/L8BTmBt0ZCcywDKRuNYj7DLAQFPtOgpRNMB4L4ehp1EuwKu1c0F4mzTAUHW0UVYANsAFJ7EOl7gmwFFBx24I4jPAj9E3cp7+I8CEuSjx9+UywAQFkeNMMhbA2TVfjqU7MMDVZnrukJwywH6jqudgGyzAp/ZymVzMNMAKO9kXTeI0wDalBdnBcjXAwoQpRBDLNMBBT3jre2A4wI4TYoJFczPALO/3XeG7NMDgYpUCNDczwN/G4xE5UTTAzsaJukrVLsDwGDRs5AY2wNgFvnI7yTbAG4Yfg/CcNcB+hirdR4o1wNmKIT+GOjPAcr7WsPMGOcA0gtMIOBQ2wOYGKnLaIzXAGh4S+eZWL8A=",
        "encoding": "base64",
        "path": [
         "_data",
         0,
         "y",
         "value"
        ]
       },
       {
        "data": "fDHxxcQXwz8BjwE8BvCIPw==",
        "encoding": "base64",
        "path": [
         "_data",
         1,
         "x",
         "value"
        ]
       },
       {
        "data": "cLVTVzbTM8AAAAAAAAD4fw==",
        "encoding": "base64",
        "path": [
         "_data",
         1,
         "y",
         "value"
        ]
       },
       {
        "data": "OP/h/Ifz3z8MbzO8zfD2Pw==",
        "encoding": "base64",
        "path": [
         "_data",
         2,
         "x",
         "value"
        ]
       },
       {
        "data": "ovup9wEPLcCk/yfjkHwdwA==",
        "encoding": "base64",
        "path": [
         "_data",
         2,
         "y",
         "value"
        ]
       },
       {
        "data": "bEqxKcWm5D/R2UFnB53dPy09s/TM0vM/HcdxHMdx3D8srrG4xuLaP3wx8cXEF9M/I9WNVDdS7T98MfHFxBfTP8dTGU9lPNU//sP5D+c/3D+4N+HehHvTPw==",
        "encoding": "base64",
        "path": [
         "_data",
         3,
         "x",
         "value"
        ]
       },
       {
        "data": "LnRyTCwKLcCYbbVBaekpwIDQerKveiDAKCD9rhZYI8BeyxW7L38wwNQynejnmCrAhEeFPsdBIsDGEL3bpnUxwJyLhhnAnzTAegDWAACoI8ASyWyzaP8wwA==",
        "encoding": "base64",
        "path": [
         "_data",
         3,
         "y",
         "value"
        ]
       },
       {
        "data": "mK4dYKeuuj8X4Y6E/++7PySN/ePb0rg/IJd9Nodwsj8W9n+n8021PwHTvCL2L7s/dGo38cUstD/AIo61gSepP68fQhtHeqs/cfXDbfiMrD/EM5BCt/y5PzYx2VmPTLY/CPvS7Ubstj//sZWztQGtP9DWlaeoJ70/cZFEoCkbtD+k9q91YGW2P2GyN0cN17E/s6wfkIbRtD+O87ncAA6yPw==",
        "encoding": "base64",
        "path": [
         "_data",
         4,
         "marker",
         "color",
         "value"
        ]
       },
       {
        "data": "wpilzR/6yz9SuZimP8jMP+DrPbb+/sw/ZlYs/znz0D/hvxHjb9HOPwlYC3+/CMw/g2D5TfCXzj/65wK78qPSP+6y+XNZQdM/+Ongu4D30D/KsAXung/NP1bbdAyoOM8/iIImsg94zj/pkCaQGsbSP4BkFzner8w/jgUO4MMS0D/UHiaf8i3NP7AvV0gNgdA/WC6vyzg50D/iGG8SLMXQPw==",
        "encoding": "base64",
        "path": [
         "_data",
         4,
         "x",
         "value"
        ]
       },
       {
        "data": "lwZHaE7AOMC8FsTt3d44wGuauHQfHzXAXTm6xxOAM8D+I2nDdMA0wMPvOy4HeDfARRbSWs19N8A9RLxofsMxwDJO35MYEDXAByQ/+t98MsCzBovp9s02wDRGRIi+EjLAQIeblqrZMMANIqh+f5wwwKE4Mj1GjzLAZK6+Ds2ONcAMxwDVwHMzwBWmfCNaXTTAQJ57/qrtM8Df8gkEuj00wA==",
        "encoding": "base64",
        "path": [
         "_data",
         4,
         "y",
         "value"
        ]
       }
      ],
      "model_module": "jupyterlab-plotly",
      "model_module_version": "^5.1.0",
      "model_name": "FigureModel",
      "state": {
       "_config": {
        "plotlyServerURL": "https://plot.ly"
       },
       "_data": [
        {
         "marker": {
          "color": "Blue",
          "opacity": 0.3,
          "symbol": "circle"
         },
         "mode": "markers",
         "name": "Mudstone",
         "text": [
          "KC-2-1",
          "KC-2-2",
          "KC-2-2.5",
          "KC-2-3",
          "KC-2-3.5",
          "KC-2-4.5",
          "KC-2-5",
          "KC-2-6",
          "KC-2-6.5",
          "KC-2-7",
          "KC-2-8",
          "KC-2-9",
          "KC-2-10",
          "KC-2-11",
          "KC-2-12",
          "KC-2-13",
          "KC-2-14",
          "KC-2-14.5",
          "KC-2-15",
          "KC-2-15.5",
          "KC-2-16",
          "KC-2-17",
          "KC-2-18",
          "KC-2-19",
          "KC-2-20",
          "KC-2-21",
          "KC-2-21.5",
          "KC-2-22",
          "KC-2-23",
          "KC-2-24",
          "KC-2-25",
          "KC-2-25.5",
          "KC-2-26",
          "KC-2-26.5",
          "KC-2-27",
          "KC-2-28",
          "KC-2-29"
         ],
         "type": "scatter",
         "uid": "1b61f0b4-15d4-4e42-a7dd-19a1361ce183",
         "x": {
          "dtype": "float64",
          "shape": [
           37
          ]
         },
         "y": {
          "dtype": "float64",
          "shape": [
           37
          ]
         }
        },
        {
         "marker": {
          "color": "Blue",
          "opacity": 0.3,
          "symbol": "star"
         },
         "mode": "markers",
         "name": "Carbonate",
         "text": [
          "KC-2-0",
          "KC-2-30"
         ],
         "type": "scatter",
         "uid": "2f96ad3e-fa88-4e65-a43f-c0ac09e5d52e",
         "x": {
          "dtype": "float64",
          "shape": [
           2
          ]
         },
         "y": {
          "dtype": "float64",
          "shape": [
           2
          ]
         }
        },
        {
         "marker": {
          "color": "Blue",
          "opacity": 0.3,
          "symbol": "square"
         },
         "mode": "markers",
         "name": "Pervasively pyritised regions",
         "text": [
          "KC-2-6p",
          "KC-2-22p"
         ],
         "type": "scatter",
         "uid": "13b7c830-0519-4038-b9a6-cb141f136257",
         "x": {
          "dtype": "float64",
          "shape": [
           2
          ]
         },
         "y": {
          "dtype": "float64",
          "shape": [
           2
          ]
         }
        },
        {
         "marker": {
          "color": "Blue",
          "opacity": 0.3,
          "symbol": "diamond"
         },
         "mode": "markers",
         "name": "Bed 22",
         "text": [
          "KC-3-A",
          "KC-3-B",
          "KC-3-C",
          "KC-3-D",
          "KC-3-E",
          "KC-3-F",
          "KC-3-G",
          "KC-3-H",
          "KC-3-I",
          "KC-3-J",
          "KC-3-K"
         ],
         "type": "scatter",
         "uid": "190d5c83-bbac-46ca-8e80-49cb5c4a7cc4",
         "x": {
          "dtype": "float64",
          "shape": [
           11
          ]
         },
         "y": {
          "dtype": "float64",
          "shape": [
           11
          ]
         }
        },
        {
         "marker": {
          "color": {
           "dtype": "float64",
           "shape": [
            20
           ]
          },
          "coloraxis": "coloraxis",
          "line": {
           "color": "Black",
           "width": 1
          },
          "opacity": 1,
          "size": 6
         },
         "mode": "markers",
         "name": "Trials",
         "type": "scatter",
         "uid": "45d02cda-b0ce-48af-b0c1-a711f55dab82",
         "x": {
          "dtype": "float64",
          "shape": [
           20
          ]
         },
         "y": {
          "dtype": "float64",
          "shape": [
           20
          ]
         }
        }
       ],
       "_js2py_relayout": {},
       "_js2py_restyle": {},
       "_js2py_update": {},
       "_last_layout_edit_id": 19,
       "_last_trace_edit_id": 19,
       "_layout": {
        "coloraxis": {
         "colorbar": {
          "ticks": "outside"
         },
         "colorscale": [
          [
           0,
           "#fde725"
          ],
          [
           0.1111111111111111,
           "#b5de2b"
          ],
          [
           0.2222222222222222,
           "#6ece58"
          ],
          [
           0.3333333333333333,
           "#35b779"
          ],
          [
           0.4444444444444444,
           "#1f9e89"
          ],
          [
           0.5555555555555556,
           "#26828e"
          ],
          [
           0.6666666666666666,
           "#31688e"
          ],
          [
           0.7777777777777778,
           "#3e4989"
          ],
          [
           0.8888888888888888,
           "#482878"
          ],
          [
           1,
           "#440154"
          ]
         ]
        },
        "height": 600,
        "legend": {
         "x": 1.2,
         "xanchor": "left",
         "y": 1,
         "yanchor": "top"
        },
        "margin": {
         "l": 100
        },
        "template": {
         "layout": {
          "bargap": 0.05,
          "bargroupgap": 0,
          "font": {
           "color": "black",
           "family": "Arial",
           "size": 16
          },
          "height": 700,
          "hovermode": "closest",
          "margin": {
           "b": 60,
           "l": 60,
           "r": 30,
           "t": 30
          },
          "scene": {
           "xaxis": {
            "color": "black",
            "linewidth": 2,
            "showline": true,
            "ticks": "outside"
           },
           "yaxis": {
            "color": "black",
            "linewidth": 2,
            "showline": true,
            "ticks": "outside"
           },
           "zaxis": {
            "color": "black",
            "linewidth": 2,
            "showline": true,
            "ticks": "outside"
           }
          },
          "xaxis": {
           "color": "black",
           "linewidth": 1.3,
           "mirror": true,
           "showgrid": true,
           "showline": true,
           "ticks": "outside",
           "zeroline": true
          },
          "yaxis": {
           "color": "black",
           "linewidth": 1.3,
           "mirror": true,
           "showgrid": true,
           "showline": true,
           "ticks": "outside",
           "zeroline": true
          }
         }
        },
        "width": 1000,
        "xaxis": {
         "rangemode": "tozero",
         "title": {
          "text": "[FeS<sub>2</sub>] / mol dm<sup>−3</sup>"
         }
        },
        "yaxis": {
         "title": {
          "text": "δ<sup>34</sup>S<sub>py</sub> (‰)"
         }
        }
       },
       "_py2js_animate": {},
       "_py2js_deleteTraces": {},
       "_py2js_moveTraces": {},
       "_py2js_removeLayoutProps": {},
       "_py2js_removeTraceProps": {},
       "_view_count": 0
      }
     },
     "906f99f02aed45a0976fdd68b6890051": {
      "model_module": "@jupyter-widgets/base",
      "model_module_version": "1.2.0",
      "model_name": "LayoutModel",
      "state": {}
     },
     "909d1bf21ab04e0da9581a552e97d369": {
      "model_module": "@jupyter-widgets/controls",
      "model_module_version": "1.5.0",
      "model_name": "HBoxModel",
      "state": {
       "children": [
        "IPY_MODEL_b26a32e64040499a94ee5d38d625bb03",
        "IPY_MODEL_d04b83f56e61496886ae1234a8560ab7"
       ],
       "layout": "IPY_MODEL_2c2e189d6ec145a196cec9f071bb3552"
      }
     },
     "90e7915b156f4f79b36ceabb3ceb2858": {
      "model_module": "@jupyter-widgets/controls",
      "model_module_version": "1.5.0",
      "model_name": "SliderStyleModel",
      "state": {
       "description_width": ""
      }
     },
     "9151a37e1ab94f409a55a2b4f13778e7": {
      "model_module": "@jupyter-widgets/base",
      "model_module_version": "1.2.0",
      "model_name": "LayoutModel",
      "state": {
       "width": "100%"
      }
     },
     "920f8624b43946b1b3409d00518aeb1a": {
      "model_module": "@jupyter-widgets/controls",
      "model_module_version": "1.5.0",
      "model_name": "HBoxModel",
      "state": {
       "children": [
        "IPY_MODEL_b4ee666d95174d2da5bfcacdb1fb4a65",
        "IPY_MODEL_65f72fa256fb48d3861fd277ffa67cd5"
       ],
       "layout": "IPY_MODEL_0d27948cd53d4be3b167939db027e96d"
      }
     },
     "92485ea6b9f942de9ba5a016d426414b": {
      "model_module": "@jupyter-widgets/controls",
      "model_module_version": "1.5.0",
      "model_name": "FloatSliderModel",
      "state": {
       "description": "Opacity",
       "layout": "IPY_MODEL_5816748949054aa1a2d5eade732aac43",
       "max": 1,
       "step": 0.01,
       "style": "IPY_MODEL_bb54e8c2e0a644dc8734f515675463d7",
       "value": 1
      }
     },
     "928ae473064d4645bb48bb4691342494": {
      "model_module": "@jupyter-widgets/controls",
      "model_module_version": "1.5.0",
      "model_name": "SliderStyleModel",
      "state": {
       "description_width": ""
      }
     },
     "93132e6a651c4e84acf3bb0e379960f5": {
      "model_module": "@jupyter-widgets/controls",
      "model_module_version": "1.5.0",
      "model_name": "SliderStyleModel",
      "state": {
       "description_width": ""
      }
     },
     "933ac3168f1d44b1aeea5855a5ca292c": {
      "model_module": "@jupyter-widgets/base",
      "model_module_version": "1.2.0",
      "model_name": "LayoutModel",
      "state": {}
     },
     "93696a5d7ef146618d0606fcb036339c": {
      "model_module": "@jupyter-widgets/base",
      "model_module_version": "1.2.0",
      "model_name": "LayoutModel",
      "state": {
       "width": "100%"
      }
     },
     "94281c4623864a52a2b9ce17e5ce654d": {
      "model_module": "@jupyter-widgets/base",
      "model_module_version": "1.2.0",
      "model_name": "LayoutModel",
      "state": {}
     },
     "94a8f11b2e4d4d309627876a50cd7327": {
      "model_module": "@jupyter-widgets/controls",
      "model_module_version": "1.5.0",
      "model_name": "SliderStyleModel",
      "state": {
       "description_width": ""
      }
     },
     "95554e4dcfbc49afba965f140cad8d61": {
      "model_module": "@jupyter-widgets/base",
      "model_module_version": "1.2.0",
      "model_name": "LayoutModel",
      "state": {}
     },
     "958dbc8d043d4aaba5b1fb8c2857ee1f": {
      "model_module": "@jupyter-widgets/controls",
      "model_module_version": "1.5.0",
      "model_name": "SliderStyleModel",
      "state": {
       "description_width": ""
      }
     },
     "9644d1626a5a43c8bac46dba48a8b6ca": {
      "model_module": "@jupyter-widgets/controls",
      "model_module_version": "1.5.0",
      "model_name": "FloatRangeSliderModel",
      "state": {
       "_model_name": "FloatRangeSliderModel",
       "_view_name": "FloatRangeSliderView",
       "description": "[FeS<sub>2</sub>]<sub>0</sub>",
       "layout": "IPY_MODEL_b0ea8cc315934e139d4b882304b2cba7",
       "max": 1,
       "step": 0.0025,
       "style": "IPY_MODEL_acd30e69eb014b10a8f45f0dd2280097",
       "value": [
        0.16,
        0.16
       ]
      }
     },
     "96bc13730e6843818a87d7abdfb3447f": {
      "model_module": "@jupyter-widgets/controls",
      "model_module_version": "1.5.0",
      "model_name": "FloatSliderModel",
      "state": {
       "description": "dz",
       "layout": "IPY_MODEL_ebafbdd104ac4698bb5c75b7c204d9d9",
       "max": 0.1,
       "min": 0.001,
       "step": 0.001,
       "style": "IPY_MODEL_6dd64b8c3a5c45a0868cbee5d104ff70",
       "value": 0.01
      }
     },
     "96ceee1df218420186a3ee4990502935": {
      "model_module": "@jupyter-widgets/controls",
      "model_module_version": "1.5.0",
      "model_name": "SliderStyleModel",
      "state": {
       "description_width": ""
      }
     },
     "988854aaa0804fcba16e0be6e7f6fe0e": {
      "model_module": "@jupyter-widgets/controls",
      "model_module_version": "1.5.0",
      "model_name": "SliderStyleModel",
      "state": {
       "description_width": ""
      }
     },
     "98d6c29557d140acae33198d8cb8b01b": {
      "model_module": "@jupyter-widgets/base",
      "model_module_version": "1.2.0",
      "model_name": "LayoutModel",
      "state": {
       "width": "100%"
      }
     },
     "99299ee1d051478e997e2fd4f1a4800d": {
      "model_module": "@jupyter-widgets/controls",
      "model_module_version": "1.5.0",
      "model_name": "SliderStyleModel",
      "state": {
       "description_width": ""
      }
     },
     "9a0a022952414505a2f35558cf927c63": {
      "model_module": "@jupyter-widgets/controls",
      "model_module_version": "1.5.0",
      "model_name": "HBoxModel",
      "state": {
       "children": [
        "IPY_MODEL_e1c4df1e2ffb44eeb51abff365b57f08",
        "IPY_MODEL_8a68a36a49f04c66b43b7cf71edd653c"
       ],
       "layout": "IPY_MODEL_6ad599425400441cabc53d2a4cd80644"
      }
     },
     "9a5fc9391ac447b7a180fbd3cc41b07d": {
      "model_module": "@jupyter-widgets/controls",
      "model_module_version": "1.5.0",
      "model_name": "FloatSliderModel",
      "state": {
       "description": "Opacity",
       "layout": "IPY_MODEL_67fe71b5802c45858b602ebb67c46de0",
       "max": 1,
       "step": 0.01,
       "style": "IPY_MODEL_da4892ff539247748ef35a363dd11b87",
       "value": 1
      }
     },
     "9a79e338bd7b430780fd049a5d9cfc33": {
      "model_module": "@jupyter-widgets/base",
      "model_module_version": "1.2.0",
      "model_name": "LayoutModel",
      "state": {
       "width": "100%"
      }
     },
     "9b173f2aef124168a21da3cc70653b9b": {
      "model_module": "@jupyter-widgets/base",
      "model_module_version": "1.2.0",
      "model_name": "LayoutModel",
      "state": {
       "width": "100%"
      }
     },
     "9b8763bcdcab4cf1b09d3652658540ad": {
      "model_module": "@jupyter-widgets/controls",
      "model_module_version": "1.5.0",
      "model_name": "FloatSliderModel",
      "state": {
       "description": "[SO<sub>4</sub>]<sub>0</sub>",
       "layout": "IPY_MODEL_26cc7fd7a0904a7b97182ddb95062cde",
       "max": 0.3,
       "min": 0.001,
       "step": 0.001,
       "style": "IPY_MODEL_d510978503d94533833212630ec7d0ed",
       "value": 0.0105
      }
     },
     "9be5bd869e174db6bd6c52e32cef1fd0": {
      "model_module": "@jupyter-widgets/controls",
      "model_module_version": "1.5.0",
      "model_name": "SliderStyleModel",
      "state": {
       "description_width": ""
      }
     },
     "9dfca62d5a604a73bd94a8ba3c71c822": {
      "model_module": "@jupyter-widgets/controls",
      "model_module_version": "1.5.0",
      "model_name": "HBoxModel",
      "state": {
       "children": [
        "IPY_MODEL_ee76028ef6a84dc19af1453a39ef33fb",
        "IPY_MODEL_7ebb51b74dda4151bede9a1d5503b52b",
        "IPY_MODEL_24ae9dd65406491f92b48f84551ab389"
       ],
       "layout": "IPY_MODEL_228d8e629fa74de0a03086e623368920"
      }
     },
     "9ef538662b5b4d40941895820c98c65f": {
      "model_module": "@jupyter-widgets/base",
      "model_module_version": "1.2.0",
      "model_name": "LayoutModel",
      "state": {
       "width": "100%"
      }
     },
     "9f648b1ec98e435ebc4cf90a6b5ae06a": {
      "model_module": "@jupyter-widgets/controls",
      "model_module_version": "1.5.0",
      "model_name": "SliderStyleModel",
      "state": {
       "description_width": ""
      }
     },
     "a038b0ff6fff4bfd970cef1269999a18": {
      "model_module": "@jupyter-widgets/controls",
      "model_module_version": "1.5.0",
      "model_name": "SliderStyleModel",
      "state": {
       "description_width": ""
      }
     },
     "a0459b39698a445394afde34bf252b03": {
      "model_module": "@jupyter-widgets/base",
      "model_module_version": "1.2.0",
      "model_name": "LayoutModel",
      "state": {
       "width": "100%"
      }
     },
     "a08ff2f262f443309893f6915ad5ed3c": {
      "model_module": "@jupyter-widgets/base",
      "model_module_version": "1.2.0",
      "model_name": "LayoutModel",
      "state": {}
     },
     "a0d8b7f3fcaf47a6a31fa5dec8f1f86d": {
      "model_module": "@jupyter-widgets/controls",
      "model_module_version": "1.5.0",
      "model_name": "HBoxModel",
      "state": {
       "children": [
        "IPY_MODEL_2e0b9752d2194fc8811e55597a1ec042",
        "IPY_MODEL_ec0ef5052b88473b9cdef132e0f4b512"
       ],
       "layout": "IPY_MODEL_89f061318c2a4e3aaf5249fccc8b6850"
      }
     },
     "a1bfa2999fe6446d8d8f6b738d90f1ed": {
      "model_module": "@jupyter-widgets/base",
      "model_module_version": "1.2.0",
      "model_name": "LayoutModel",
      "state": {
       "width": "100%"
      }
     },
     "a1f1bdcefd6c49f7918891ed9ec12d02": {
      "model_module": "@jupyter-widgets/base",
      "model_module_version": "1.2.0",
      "model_name": "LayoutModel",
      "state": {
       "width": "100%"
      }
     },
     "a1f5641fe65742e0b92ca04da0c026f0": {
      "model_module": "@jupyter-widgets/base",
      "model_module_version": "1.2.0",
      "model_name": "LayoutModel",
      "state": {}
     },
     "a284e520df3f43e6a0010eca5d517532": {
      "model_module": "@jupyter-widgets/controls",
      "model_module_version": "1.5.0",
      "model_name": "SliderStyleModel",
      "state": {
       "description_width": ""
      }
     },
     "a2bebb672eb649c0a52b89361eba4487": {
      "model_module": "@jupyter-widgets/base",
      "model_module_version": "1.2.0",
      "model_name": "LayoutModel",
      "state": {
       "width": "100%"
      }
     },
     "a3289eddce244088bfc3a9bbaf301d62": {
      "model_module": "@jupyter-widgets/base",
      "model_module_version": "1.2.0",
      "model_name": "LayoutModel",
      "state": {
       "width": "100%"
      }
     },
     "a337ee66f1ed4b5d8f5392264d263aee": {
      "model_module": "@jupyter-widgets/controls",
      "model_module_version": "1.5.0",
      "model_name": "HBoxModel",
      "state": {
       "children": [
        "IPY_MODEL_5e28c08152ce47029e3d0c97fc8fb12f",
        "IPY_MODEL_fb451ae628424b3b9938e75723268e6c"
       ],
       "layout": "IPY_MODEL_a08ff2f262f443309893f6915ad5ed3c"
      }
     },
     "a3710e296c414995925281ef36cd15ad": {
      "model_module": "@jupyter-widgets/base",
      "model_module_version": "1.2.0",
      "model_name": "LayoutModel",
      "state": {
       "width": "100%"
      }
     },
     "a3c66d7980ff411bb0d7d69d778720d2": {
      "model_module": "@jupyter-widgets/controls",
      "model_module_version": "1.5.0",
      "model_name": "HBoxModel",
      "state": {
       "children": [
        "IPY_MODEL_9b8763bcdcab4cf1b09d3652658540ad",
        "IPY_MODEL_3a5d91ce3e854b64bf6494fa35fa0351"
       ],
       "layout": "IPY_MODEL_0adaf58ff11e41fa8d453913ec05dde2"
      }
     },
     "a473020c14a74bab870f4f259477b4fb": {
      "model_module": "@jupyter-widgets/base",
      "model_module_version": "1.2.0",
      "model_name": "LayoutModel",
      "state": {}
     },
     "a4d2221bd0f64f4f996390539d7c72ca": {
      "model_module": "@jupyter-widgets/controls",
      "model_module_version": "1.5.0",
      "model_name": "SliderStyleModel",
      "state": {
       "description_width": ""
      }
     },
     "a4f695027c084436bfec8fe3f8c7ee8f": {
      "model_module": "@jupyter-widgets/base",
      "model_module_version": "1.2.0",
      "model_name": "LayoutModel",
      "state": {}
     },
     "a522dbdbfef7401a9f3af29a906007d3": {
      "model_module": "@jupyter-widgets/base",
      "model_module_version": "1.2.0",
      "model_name": "LayoutModel",
      "state": {
       "width": "100%"
      }
     },
     "a6a2f89406774b16ad79ab11bebe2d92": {
      "model_module": "@jupyter-widgets/base",
      "model_module_version": "1.2.0",
      "model_name": "LayoutModel",
      "state": {
       "width": "100%"
      }
     },
     "a6c67f66abde4451a0b4f7c05e8ca62d": {
      "model_module": "@jupyter-widgets/controls",
      "model_module_version": "1.5.0",
      "model_name": "FloatSliderModel",
      "state": {
       "description": "z<sub>max</sub>",
       "layout": "IPY_MODEL_bb279d3664a348e79eff68bce1b91aab",
       "max": 10,
       "min": 0.01,
       "step": 0.01,
       "style": "IPY_MODEL_70e9371591df4578ba7b11370a0b4342",
       "value": 1.5
      }
     },
     "a6f9f2355a6d4726ac222d74b140e983": {
      "model_module": "@jupyter-widgets/base",
      "model_module_version": "1.2.0",
      "model_name": "LayoutModel",
      "state": {
       "width": "100%"
      }
     },
     "a790c9d494b1480d9e6f8e74e9b2ce91": {
      "model_module": "@jupyter-widgets/base",
      "model_module_version": "1.2.0",
      "model_name": "LayoutModel",
      "state": {
       "width": "100%"
      }
     },
     "a88f1cd8563b4aaeaefd944470812c30": {
      "model_module": "@jupyter-widgets/base",
      "model_module_version": "1.2.0",
      "model_name": "LayoutModel",
      "state": {}
     },
     "aa4ced88565e4faab468644871b25806": {
      "model_module": "@jupyter-widgets/base",
      "model_module_version": "1.2.0",
      "model_name": "LayoutModel",
      "state": {}
     },
     "ab625659c7bb46138c747bea2deab67c": {
      "model_module": "@jupyter-widgets/base",
      "model_module_version": "1.2.0",
      "model_name": "LayoutModel",
      "state": {
       "width": "100%"
      }
     },
     "ab6f954d7ea94894971c2cad2b4776da": {
      "model_module": "@jupyter-widgets/controls",
      "model_module_version": "1.5.0",
      "model_name": "FloatRangeSliderModel",
      "state": {
       "_model_name": "FloatRangeSliderModel",
       "_view_name": "FloatRangeSliderView",
       "description": "ε<sub>MSR</sub>",
       "layout": "IPY_MODEL_2d551ae4702248afa131e48511a5b6eb",
       "style": "IPY_MODEL_7b27314cc6564377b5b8cb4b02da8b6c",
       "value": [
        54,
        54
       ]
      }
     },
     "acd30e69eb014b10a8f45f0dd2280097": {
      "model_module": "@jupyter-widgets/controls",
      "model_module_version": "1.5.0",
      "model_name": "SliderStyleModel",
      "state": {
       "description_width": ""
      }
     },
     "ae0aa5ab388b4fb18af55ba13e7ae536": {
      "model_module": "@jupyter-widgets/controls",
      "model_module_version": "1.5.0",
      "model_name": "DescriptionStyleModel",
      "state": {
       "description_width": ""
      }
     },
     "ae6d4972bf3043848e635c0dc04be478": {
      "model_module": "@jupyter-widgets/controls",
      "model_module_version": "1.5.0",
      "model_name": "FloatRangeSliderModel",
      "state": {
       "_model_name": "FloatRangeSliderModel",
       "_view_name": "FloatRangeSliderView",
       "description": "v<sub>sed</sub>",
       "layout": "IPY_MODEL_a6a2f89406774b16ad79ab11bebe2d92",
       "max": 0.5,
       "min": 0.001,
       "step": 0.001,
       "style": "IPY_MODEL_4978208c5a8b447b800afde649c55c9b",
       "value": [
        0.023,
        0.12
       ]
      }
     },
     "aef735eb2ed6495288f4443866c5d3a6": {
      "model_module": "@jupyter-widgets/controls",
      "model_module_version": "1.5.0",
      "model_name": "VBoxModel",
      "state": {
       "children": [
        "IPY_MODEL_fe54d510b4c54d3298c5cdbad3a88b90",
        "IPY_MODEL_909d1bf21ab04e0da9581a552e97d369"
       ],
       "layout": "IPY_MODEL_3d2a4575765042e8ae4704e467bd7197"
      }
     },
     "af62928976d04bab9aead4be95e09446": {
      "model_module": "@jupyter-widgets/controls",
      "model_module_version": "1.5.0",
      "model_name": "DescriptionStyleModel",
      "state": {
       "description_width": ""
      }
     },
     "af694f751b5e46cbb9d858a9c3b6a08a": {
      "buffers": [
       {
        "data": "xYgRI0aMyD8EJRGURFDSPx3HcRzHccw/yR4he4Ts4T+E7BGyR8jePwGPATwG8Ng/8afBnwZ/2j/FiBEjRozYP3mb4W2Gt9k/s9bJWidr3T+TJk2aNGniP/GnwZ8Gf9o/3/V51+dd7z/ii4kvJr7YP7ds2bJly/Y/qFChQoUK1T/hwIEDBw7cP+KLiS8mvtg/QCsBrQS00j920NlBZwfdP7oC6QqkK+A//vjx48ePzz8vebnk5ZLXP7g34d6Ee9M/XGNxjcU11j/Ub1G/Rf3WP28VuVXkVtE/lp5Zembp2T/Ub1G/Rf3WP3bQ2UFnB90/SeYhmYdk3j9REkFJBCXhP6sbqW6kutE/aLSh0YZG2z/zcsnLJS/XP8LyAcsHLN8/4ouJLya+2D8=",
        "encoding": "base64",
        "path": [
         "_data",
         0,
         "x",
         "value"
        ]
       },
       {
        "data": "Rwd4wKP9NcDD/ACOXgkwwMEuJT+MjyrA/jMJIdu/L8BTmBt0ZCcywDKRuNYj7DLAQFPtOgpRNMB4L4ehp1EuwKu1c0F4mzTAUHW0UVYANsAFJ7EOl7gmwFFBx24I4jPAj9E3cp7+I8CEuSjx9+UywAQFkeNMMhbA2TVfjqU7MMDVZnrukJwywH6jqudgGyzAp/ZymVzMNMAKO9kXTeI0wDalBdnBcjXAwoQpRBDLNMBBT3jre2A4wI4TYoJFczPALO/3XeG7NMDgYpUCNDczwN/G4xE5UTTAzsaJukrVLsDwGDRs5AY2wNgFvnI7yTbAG4Yfg/CcNcB+hirdR4o1wNmKIT+GOjPAcr7WsPMGOcA0gtMIOBQ2wOYGKnLaIzXAGh4S+eZWL8A=",
        "encoding": "base64",
        "path": [
         "_data",
         0,
         "y",
         "value"
        ]
       },
       {
        "data": "fDHxxcQXwz8BjwE8BvCIPw==",
        "encoding": "base64",
        "path": [
         "_data",
         1,
         "x",
         "value"
        ]
       },
       {
        "data": "cLVTVzbTM8AAAAAAAAD4fw==",
        "encoding": "base64",
        "path": [
         "_data",
         1,
         "y",
         "value"
        ]
       },
       {
        "data": "OP/h/Ifz3z8MbzO8zfD2Pw==",
        "encoding": "base64",
        "path": [
         "_data",
         2,
         "x",
         "value"
        ]
       },
       {
        "data": "ovup9wEPLcCk/yfjkHwdwA==",
        "encoding": "base64",
        "path": [
         "_data",
         2,
         "y",
         "value"
        ]
       },
       {
        "data": "bEqxKcWm5D/R2UFnB53dPy09s/TM0vM/HcdxHMdx3D8srrG4xuLaP3wx8cXEF9M/I9WNVDdS7T98MfHFxBfTP8dTGU9lPNU//sP5D+c/3D+4N+HehHvTPw==",
        "encoding": "base64",
        "path": [
         "_data",
         3,
         "x",
         "value"
        ]
       },
       {
        "data": "LnRyTCwKLcCYbbVBaekpwIDQerKveiDAKCD9rhZYI8BeyxW7L38wwNQynejnmCrAhEeFPsdBIsDGEL3bpnUxwJyLhhnAnzTAegDWAACoI8ASyWyzaP8wwA==",
        "encoding": "base64",
        "path": [
         "_data",
         3,
         "y",
         "value"
        ]
       },
       {
        "data": "6K2xCZpruD92Bv/Jh5quP37+uWMJtJo/ntdlaLSasj9TmqopVkaYP7YO2R/BN7Q/UCDFJEpKqz8S4A0jobe6P66mL33LYrg/f9Nd94c3uz9H/ICV6Wu3P6hgz2taOKU/xuoc2ZzYtT/Z6LPzSXazP0DYboCEBKs/lpo2acXzuj+IQajlx6+mPxIiZQHGabY/ij6XHFh5rT9MZfRCO/GyPw==",
        "encoding": "base64",
        "path": [
         "_data",
         4,
         "marker",
         "color",
         "value"
        ]
       },
       {
        "data": "C4B0e7vIzj8v7538/1vSP2CImOZaodw/2boNcNfy0D9beXMrAnTeP9gZ7/RObdA/gniXBQtT0z/gWW/sme3NPw17yAVUzM4/dp1Ts9bCzT93NLOobjXPPxJRAbLH39U/7jTdQxn1zz+s+hJ4GKnQP/zgpasPatM/fQy3wEvZzT9d2FVWEyLVP08sx6gBrc8/yL4jQ/up0j/mXW8E/NTQPw==",
        "encoding": "base64",
        "path": [
         "_data",
         4,
         "x",
         "value"
        ]
       },
       {
        "data": "pClHuxLhNcBI8jZU3hkzwCffGkBP2SvAcFbQVxFNNMCqAkl3j70qwMwmFZL2yzTAzk8eFIFhMsAo9bMJzl42wA0kbXUR3zXAwqbZTy14NsDzD4RWP6U1wF9Qg1WByDDA9q4W75s/NcAjtYLEK5I0wHX9qn5BUTLAEeksQNFqNsAIXeopNzUxwE6eollHZTXAzYM5TJ7dMsAiWVjSwmg0wA==",
        "encoding": "base64",
        "path": [
         "_data",
         4,
         "y",
         "value"
        ]
       }
      ],
      "model_module": "jupyterlab-plotly",
      "model_module_version": "^5.1.0",
      "model_name": "FigureModel",
      "state": {
       "_config": {
        "plotlyServerURL": "https://plot.ly"
       },
       "_data": [
        {
         "marker": {
          "color": "Blue",
          "opacity": 0.3,
          "symbol": "circle"
         },
         "mode": "markers",
         "name": "Mudstone",
         "text": [
          "KC-2-1",
          "KC-2-2",
          "KC-2-2.5",
          "KC-2-3",
          "KC-2-3.5",
          "KC-2-4.5",
          "KC-2-5",
          "KC-2-6",
          "KC-2-6.5",
          "KC-2-7",
          "KC-2-8",
          "KC-2-9",
          "KC-2-10",
          "KC-2-11",
          "KC-2-12",
          "KC-2-13",
          "KC-2-14",
          "KC-2-14.5",
          "KC-2-15",
          "KC-2-15.5",
          "KC-2-16",
          "KC-2-17",
          "KC-2-18",
          "KC-2-19",
          "KC-2-20",
          "KC-2-21",
          "KC-2-21.5",
          "KC-2-22",
          "KC-2-23",
          "KC-2-24",
          "KC-2-25",
          "KC-2-25.5",
          "KC-2-26",
          "KC-2-26.5",
          "KC-2-27",
          "KC-2-28",
          "KC-2-29"
         ],
         "type": "scatter",
         "uid": "526ca9db-da93-41a2-a025-bf2339823458",
         "x": {
          "dtype": "float64",
          "shape": [
           37
          ]
         },
         "y": {
          "dtype": "float64",
          "shape": [
           37
          ]
         }
        },
        {
         "marker": {
          "color": "Blue",
          "opacity": 0.3,
          "symbol": "star"
         },
         "mode": "markers",
         "name": "Carbonate",
         "text": [
          "KC-2-0",
          "KC-2-30"
         ],
         "type": "scatter",
         "uid": "2054e382-7a58-4500-a7e1-ddf000b993de",
         "x": {
          "dtype": "float64",
          "shape": [
           2
          ]
         },
         "y": {
          "dtype": "float64",
          "shape": [
           2
          ]
         }
        },
        {
         "marker": {
          "color": "Blue",
          "opacity": 0.3,
          "symbol": "square"
         },
         "mode": "markers",
         "name": "Pervasively pyritised regions",
         "text": [
          "KC-2-6p",
          "KC-2-22p"
         ],
         "type": "scatter",
         "uid": "27412e4b-f540-4e78-bd95-15fffccb0c46",
         "x": {
          "dtype": "float64",
          "shape": [
           2
          ]
         },
         "y": {
          "dtype": "float64",
          "shape": [
           2
          ]
         }
        },
        {
         "marker": {
          "color": "Blue",
          "opacity": 0.3,
          "symbol": "diamond"
         },
         "mode": "markers",
         "name": "Bed 22",
         "text": [
          "KC-3-A",
          "KC-3-B",
          "KC-3-C",
          "KC-3-D",
          "KC-3-E",
          "KC-3-F",
          "KC-3-G",
          "KC-3-H",
          "KC-3-I",
          "KC-3-J",
          "KC-3-K"
         ],
         "type": "scatter",
         "uid": "90e4ebbc-7eb3-4c28-a4b7-fe6b69a6f48f",
         "x": {
          "dtype": "float64",
          "shape": [
           11
          ]
         },
         "y": {
          "dtype": "float64",
          "shape": [
           11
          ]
         }
        },
        {
         "marker": {
          "color": {
           "dtype": "float64",
           "shape": [
            20
           ]
          },
          "coloraxis": "coloraxis",
          "line": {
           "color": "Black",
           "width": 1
          },
          "opacity": 1,
          "size": 6
         },
         "mode": "markers",
         "name": "Trials",
         "text": [
          "0",
          "1",
          "2",
          "3",
          "4",
          "5",
          "6",
          "7",
          "8",
          "9",
          "10",
          "11",
          "12",
          "13",
          "14",
          "15",
          "16",
          "17",
          "18",
          "19"
         ],
         "type": "scatter",
         "uid": "f72fcd69-06b5-48ec-83a1-4e7c7ff36189",
         "x": {
          "dtype": "float64",
          "shape": [
           20
          ]
         },
         "y": {
          "dtype": "float64",
          "shape": [
           20
          ]
         }
        }
       ],
       "_js2py_pointsCallback": {
        "device_state": {
         "alt": false,
         "button": 0,
         "buttons": 0,
         "ctrl": false,
         "meta": false,
         "shift": false
        },
        "event_type": "plotly_hover",
        "points": {
         "point_indexes": [
          24
         ],
         "trace_indexes": [
          0
         ],
         "xs": [
          0.3470319634703196
         ],
         "ys": [
          -20.73390757849772
         ]
        },
        "selector": null
       },
       "_js2py_relayout": {},
       "_js2py_restyle": {},
       "_js2py_update": {},
       "_last_layout_edit_id": 11,
       "_last_trace_edit_id": 11,
       "_layout": {
        "coloraxis": {
         "colorbar": {
          "ticks": "outside"
         },
         "colorscale": [
          [
           0,
           "#fde725"
          ],
          [
           0.1111111111111111,
           "#b5de2b"
          ],
          [
           0.2222222222222222,
           "#6ece58"
          ],
          [
           0.3333333333333333,
           "#35b779"
          ],
          [
           0.4444444444444444,
           "#1f9e89"
          ],
          [
           0.5555555555555556,
           "#26828e"
          ],
          [
           0.6666666666666666,
           "#31688e"
          ],
          [
           0.7777777777777778,
           "#3e4989"
          ],
          [
           0.8888888888888888,
           "#482878"
          ],
          [
           1,
           "#440154"
          ]
         ]
        },
        "height": 600,
        "legend": {
         "x": 1.2,
         "xanchor": "left",
         "y": 1,
         "yanchor": "top"
        },
        "margin": {
         "l": 100
        },
        "template": {
         "layout": {
          "bargap": 0.05,
          "bargroupgap": 0,
          "font": {
           "color": "black",
           "family": "Arial",
           "size": 16
          },
          "height": 700,
          "hovermode": "closest",
          "margin": {
           "b": 60,
           "l": 60,
           "r": 30,
           "t": 30
          },
          "scene": {
           "xaxis": {
            "color": "black",
            "linewidth": 2,
            "showline": true,
            "ticks": "outside"
           },
           "yaxis": {
            "color": "black",
            "linewidth": 2,
            "showline": true,
            "ticks": "outside"
           },
           "zaxis": {
            "color": "black",
            "linewidth": 2,
            "showline": true,
            "ticks": "outside"
           }
          },
          "xaxis": {
           "color": "black",
           "linewidth": 1.3,
           "mirror": true,
           "showgrid": true,
           "showline": true,
           "ticks": "outside",
           "zeroline": true
          },
          "yaxis": {
           "color": "black",
           "linewidth": 1.3,
           "mirror": true,
           "showgrid": true,
           "showline": true,
           "ticks": "outside",
           "zeroline": true
          }
         }
        },
        "width": 1000,
        "xaxis": {
         "rangemode": "tozero",
         "title": {
          "text": "[FeS<sub>2</sub>] / mol dm<sup>−3</sup>"
         }
        },
        "yaxis": {
         "title": {
          "text": "δ<sup>34</sup>S<sub>py</sub> (‰)"
         }
        }
       },
       "_py2js_animate": {},
       "_py2js_deleteTraces": {},
       "_py2js_moveTraces": {},
       "_py2js_removeLayoutProps": {},
       "_py2js_removeTraceProps": {},
       "_view_count": 1
      }
     },
     "affbc0026ccb4846976fd9282f40e261": {
      "model_module": "@jupyter-widgets/controls",
      "model_module_version": "1.5.0",
      "model_name": "SliderStyleModel",
      "state": {
       "description_width": ""
      }
     },
     "b05d1f8c2586437a8b79a6b0efb0e0df": {
      "model_module": "@jupyter-widgets/base",
      "model_module_version": "1.2.0",
      "model_name": "LayoutModel",
      "state": {
       "width": "100%"
      }
     },
     "b0879f5e1b6447fa9eaf2c50aa752ad8": {
      "model_module": "@jupyter-widgets/output",
      "model_module_version": "1.0.0",
      "model_name": "OutputModel",
      "state": {
       "layout": "IPY_MODEL_2203a5be39fc4fbaa311d3f9266a33a6"
      }
     },
     "b0ea8cc315934e139d4b882304b2cba7": {
      "model_module": "@jupyter-widgets/base",
      "model_module_version": "1.2.0",
      "model_name": "LayoutModel",
      "state": {
       "width": "100%"
      }
     },
     "b1cc94305aa847079cd87e8aef015369": {
      "model_module": "@jupyter-widgets/base",
      "model_module_version": "1.2.0",
      "model_name": "LayoutModel",
      "state": {}
     },
     "b26a32e64040499a94ee5d38d625bb03": {
      "buffers": [
       {
        "data": "xYgRI0aMyD8EJRGURFDSPx3HcRzHccw/yR4he4Ts4T+E7BGyR8jePwGPATwG8Ng/8afBnwZ/2j/FiBEjRozYP3mb4W2Gt9k/s9bJWidr3T+TJk2aNGniP/GnwZ8Gf9o/3/V51+dd7z/ii4kvJr7YP7ds2bJly/Y/qFChQoUK1T/hwIEDBw7cP+KLiS8mvtg/QCsBrQS00j920NlBZwfdP7oC6QqkK+A//vjx48ePzz8vebnk5ZLXP7g34d6Ee9M/XGNxjcU11j/Ub1G/Rf3WP28VuVXkVtE/lp5Zembp2T/Ub1G/Rf3WP3bQ2UFnB90/SeYhmYdk3j9REkFJBCXhP6sbqW6kutE/aLSh0YZG2z/zcsnLJS/XP8LyAcsHLN8/4ouJLya+2D8=",
        "encoding": "base64",
        "path": [
         "_data",
         0,
         "x",
         "value"
        ]
       },
       {
        "data": "Rwd4wKP9NcDD/ACOXgkwwMEuJT+MjyrA/jMJIdu/L8BTmBt0ZCcywDKRuNYj7DLAQFPtOgpRNMB4L4ehp1EuwKu1c0F4mzTAUHW0UVYANsAFJ7EOl7gmwFFBx24I4jPAj9E3cp7+I8CEuSjx9+UywAQFkeNMMhbA2TVfjqU7MMDVZnrukJwywH6jqudgGyzAp/ZymVzMNMAKO9kXTeI0wDalBdnBcjXAwoQpRBDLNMBBT3jre2A4wI4TYoJFczPALO/3XeG7NMDgYpUCNDczwN/G4xE5UTTAzsaJukrVLsDwGDRs5AY2wNgFvnI7yTbAG4Yfg/CcNcB+hirdR4o1wNmKIT+GOjPAcr7WsPMGOcA0gtMIOBQ2wOYGKnLaIzXAGh4S+eZWL8A=",
        "encoding": "base64",
        "path": [
         "_data",
         0,
         "y",
         "value"
        ]
       },
       {
        "data": "fDHxxcQXwz8BjwE8BvCIPw==",
        "encoding": "base64",
        "path": [
         "_data",
         1,
         "x",
         "value"
        ]
       },
       {
        "data": "cLVTVzbTM8AAAAAAAAD4fw==",
        "encoding": "base64",
        "path": [
         "_data",
         1,
         "y",
         "value"
        ]
       },
       {
        "data": "OP/h/Ifz3z8MbzO8zfD2Pw==",
        "encoding": "base64",
        "path": [
         "_data",
         2,
         "x",
         "value"
        ]
       },
       {
        "data": "ovup9wEPLcCk/yfjkHwdwA==",
        "encoding": "base64",
        "path": [
         "_data",
         2,
         "y",
         "value"
        ]
       },
       {
        "data": "bEqxKcWm5D/R2UFnB53dPy09s/TM0vM/HcdxHMdx3D8srrG4xuLaP3wx8cXEF9M/I9WNVDdS7T98MfHFxBfTP8dTGU9lPNU//sP5D+c/3D+4N+HehHvTPw==",
        "encoding": "base64",
        "path": [
         "_data",
         3,
         "x",
         "value"
        ]
       },
       {
        "data": "LnRyTCwKLcCYbbVBaekpwIDQerKveiDAKCD9rhZYI8BeyxW7L38wwNQynejnmCrAhEeFPsdBIsDGEL3bpnUxwJyLhhnAnzTAegDWAACoI8ASyWyzaP8wwA==",
        "encoding": "base64",
        "path": [
         "_data",
         3,
         "y",
         "value"
        ]
       },
       {
        "data": "UPT8d66pvD/aHw//p/+hP+ydnm5BMLM/OSN+iJzhuT9JOW8KiDWlP/Z9hhPwvrU/5qPlmtLRtz94PHD5R7+6P6YD2WM02bM/1Vib6emNuD/E4oMgoXK3P6axCDPC+ao/Wpz0ZthtsT/jeHgK6la0P2A+Y8x8zqI/UWSdwfy1sT9mmrCwVMm4PyqiXB+ivKg/HOSUjY16oj+IsDxSaAavPw==",
        "encoding": "base64",
        "path": [
         "_data",
         4,
         "marker",
         "color",
         "value"
        ]
       },
       {
        "data": "9KX1FH1PzT8FnZrzDe3XP4cts0bmv9A/AvlE49k4zj/Z8eglTuHVP1xfEuIeAdA/DqNdtQMJzz/HLlF//+rNP/yBQ1f1idA/SbhTnNG6zj/uDhFNdTLPP4thY+2mbdM/r1UjVqxj0T93b9c2GGTQP4rMUtFoWNc/GCbPoEBH0T/wyp7IFKPOP65oGfqSPtQ/VdCMAiqT1z9vxZ1UXUDSPw==",
        "encoding": "base64",
        "path": [
         "_data",
         4,
         "x",
         "value"
        ]
       },
       {
        "data": "7ia7+Qy+NsDcEaPCLX0vwJKkmpuMfDTAYq6/BtUyNsDYBzKrqccwwCB54lLQODXAEAbvW3+9NcCoQlseV2A2wG4fMMgQsDTAKetFuNnoNcC63zkT3aY1wPmGK5y8TjLAylBPzMHnM8AX1aZkBNU0wA1/6i8bBTDAchBzVMoANMAGkTLcLfY1wHDL25AQwjHAzkzQWqLRL8BtwrF+sy8zwA==",
        "encoding": "base64",
        "path": [
         "_data",
         4,
         "y",
         "value"
        ]
       }
      ],
      "model_module": "jupyterlab-plotly",
      "model_module_version": "^5.1.0",
      "model_name": "FigureModel",
      "state": {
       "_config": {
        "plotlyServerURL": "https://plot.ly"
       },
       "_data": [
        {
         "marker": {
          "color": "Blue",
          "opacity": 0.3,
          "symbol": "circle"
         },
         "mode": "markers",
         "name": "Mudstone",
         "text": [
          "KC-2-1",
          "KC-2-2",
          "KC-2-2.5",
          "KC-2-3",
          "KC-2-3.5",
          "KC-2-4.5",
          "KC-2-5",
          "KC-2-6",
          "KC-2-6.5",
          "KC-2-7",
          "KC-2-8",
          "KC-2-9",
          "KC-2-10",
          "KC-2-11",
          "KC-2-12",
          "KC-2-13",
          "KC-2-14",
          "KC-2-14.5",
          "KC-2-15",
          "KC-2-15.5",
          "KC-2-16",
          "KC-2-17",
          "KC-2-18",
          "KC-2-19",
          "KC-2-20",
          "KC-2-21",
          "KC-2-21.5",
          "KC-2-22",
          "KC-2-23",
          "KC-2-24",
          "KC-2-25",
          "KC-2-25.5",
          "KC-2-26",
          "KC-2-26.5",
          "KC-2-27",
          "KC-2-28",
          "KC-2-29"
         ],
         "type": "scatter",
         "uid": "dd18d551-d2e9-4626-9d79-6d31d5708fea",
         "x": {
          "dtype": "float64",
          "shape": [
           37
          ]
         },
         "y": {
          "dtype": "float64",
          "shape": [
           37
          ]
         }
        },
        {
         "marker": {
          "color": "Blue",
          "opacity": 0.3,
          "symbol": "star"
         },
         "mode": "markers",
         "name": "Carbonate",
         "text": [
          "KC-2-0",
          "KC-2-30"
         ],
         "type": "scatter",
         "uid": "af25cbb7-1717-428f-8ada-afe879b1edba",
         "x": {
          "dtype": "float64",
          "shape": [
           2
          ]
         },
         "y": {
          "dtype": "float64",
          "shape": [
           2
          ]
         }
        },
        {
         "marker": {
          "color": "Blue",
          "opacity": 0.3,
          "symbol": "square"
         },
         "mode": "markers",
         "name": "Pervasively pyritised regions",
         "text": [
          "KC-2-6p",
          "KC-2-22p"
         ],
         "type": "scatter",
         "uid": "df4268d3-c38b-48bd-a204-9766e3f38b87",
         "x": {
          "dtype": "float64",
          "shape": [
           2
          ]
         },
         "y": {
          "dtype": "float64",
          "shape": [
           2
          ]
         }
        },
        {
         "marker": {
          "color": "Blue",
          "opacity": 0.3,
          "symbol": "diamond"
         },
         "mode": "markers",
         "name": "Bed 22",
         "text": [
          "KC-3-A",
          "KC-3-B",
          "KC-3-C",
          "KC-3-D",
          "KC-3-E",
          "KC-3-F",
          "KC-3-G",
          "KC-3-H",
          "KC-3-I",
          "KC-3-J",
          "KC-3-K"
         ],
         "type": "scatter",
         "uid": "0dc77168-5ffb-4cac-9944-ec57e4d1f4d8",
         "x": {
          "dtype": "float64",
          "shape": [
           11
          ]
         },
         "y": {
          "dtype": "float64",
          "shape": [
           11
          ]
         }
        },
        {
         "marker": {
          "color": {
           "dtype": "float64",
           "shape": [
            20
           ]
          },
          "coloraxis": "coloraxis",
          "line": {
           "color": "Black",
           "width": 1
          },
          "opacity": 1,
          "size": 6
         },
         "mode": "markers",
         "name": "Trials",
         "type": "scatter",
         "uid": "abbd8cac-d19b-4689-8618-263dff892cdf",
         "x": {
          "dtype": "float64",
          "shape": [
           20
          ]
         },
         "y": {
          "dtype": "float64",
          "shape": [
           20
          ]
         }
        }
       ],
       "_js2py_relayout": {},
       "_js2py_restyle": {},
       "_js2py_update": {},
       "_last_layout_edit_id": 11,
       "_last_trace_edit_id": 11,
       "_layout": {
        "coloraxis": {
         "colorbar": {
          "ticks": "outside"
         },
         "colorscale": [
          [
           0,
           "#fde725"
          ],
          [
           0.1111111111111111,
           "#b5de2b"
          ],
          [
           0.2222222222222222,
           "#6ece58"
          ],
          [
           0.3333333333333333,
           "#35b779"
          ],
          [
           0.4444444444444444,
           "#1f9e89"
          ],
          [
           0.5555555555555556,
           "#26828e"
          ],
          [
           0.6666666666666666,
           "#31688e"
          ],
          [
           0.7777777777777778,
           "#3e4989"
          ],
          [
           0.8888888888888888,
           "#482878"
          ],
          [
           1,
           "#440154"
          ]
         ]
        },
        "height": 600,
        "legend": {
         "x": 1.2,
         "xanchor": "left",
         "y": 1,
         "yanchor": "top"
        },
        "margin": {
         "l": 100
        },
        "template": {
         "layout": {
          "bargap": 0.05,
          "bargroupgap": 0,
          "font": {
           "color": "black",
           "family": "Arial",
           "size": 16
          },
          "height": 700,
          "hovermode": "closest",
          "margin": {
           "b": 60,
           "l": 60,
           "r": 30,
           "t": 30
          },
          "scene": {
           "xaxis": {
            "color": "black",
            "linewidth": 2,
            "showline": true,
            "ticks": "outside"
           },
           "yaxis": {
            "color": "black",
            "linewidth": 2,
            "showline": true,
            "ticks": "outside"
           },
           "zaxis": {
            "color": "black",
            "linewidth": 2,
            "showline": true,
            "ticks": "outside"
           }
          },
          "xaxis": {
           "color": "black",
           "linewidth": 1.3,
           "mirror": true,
           "showgrid": true,
           "showline": true,
           "ticks": "outside",
           "zeroline": true
          },
          "yaxis": {
           "color": "black",
           "linewidth": 1.3,
           "mirror": true,
           "showgrid": true,
           "showline": true,
           "ticks": "outside",
           "zeroline": true
          }
         }
        },
        "width": 1000,
        "xaxis": {
         "rangemode": "tozero",
         "title": {
          "text": "[FeS<sub>2</sub>] / mol dm<sup>−3</sup>"
         }
        },
        "yaxis": {
         "title": {
          "text": "δ<sup>34</sup>S<sub>py</sub> (‰)"
         }
        }
       },
       "_py2js_animate": {},
       "_py2js_deleteTraces": {},
       "_py2js_moveTraces": {},
       "_py2js_removeLayoutProps": {},
       "_py2js_removeTraceProps": {},
       "_view_count": 0
      }
     },
     "b2ac8c716ee54b4d9ee5670a714653b6": {
      "model_module": "@jupyter-widgets/controls",
      "model_module_version": "1.5.0",
      "model_name": "FloatSliderModel",
      "state": {
       "description": "[FeS<sub>2</sub>]<sub>0</sub>",
       "layout": "IPY_MODEL_07b5caaf1ab54e898d98c4c3cd35d074",
       "max": 1,
       "step": 0.0025,
       "style": "IPY_MODEL_528f3e4a94464cb5a76f38e215818f69",
       "value": 0.16
      }
     },
     "b2bd8d5baa424cc187dafc32e6825db1": {
      "model_module": "@jupyter-widgets/base",
      "model_module_version": "1.2.0",
      "model_name": "LayoutModel",
      "state": {}
     },
     "b3ecf791b8d24448a9b30b117da290fb": {
      "model_module": "@jupyter-widgets/output",
      "model_module_version": "1.0.0",
      "model_name": "OutputModel",
      "state": {
       "layout": "IPY_MODEL_cfe1ceed27f741b5a5cc7e0c7a5bdb11"
      }
     },
     "b4ee666d95174d2da5bfcacdb1fb4a65": {
      "model_module": "@jupyter-widgets/controls",
      "model_module_version": "1.5.0",
      "model_name": "FloatSliderModel",
      "state": {
       "description": "ε<sub>MSR</sub>",
       "layout": "IPY_MODEL_98d6c29557d140acae33198d8cb8b01b",
       "style": "IPY_MODEL_93132e6a651c4e84acf3bb0e379960f5",
       "value": 54
      }
     },
     "b5252c1f2bf34d64a85c5b67d9e0667c": {
      "model_module": "@jupyter-widgets/base",
      "model_module_version": "1.2.0",
      "model_name": "LayoutModel",
      "state": {}
     },
     "b5a16cb25ca84ec494b70cd28f1bb8fb": {
      "model_module": "@jupyter-widgets/base",
      "model_module_version": "1.2.0",
      "model_name": "LayoutModel",
      "state": {
       "width": "100%"
      }
     },
     "b6627cf0fa70412aa9921049fd1cd317": {
      "model_module": "@jupyter-widgets/controls",
      "model_module_version": "1.5.0",
      "model_name": "DescriptionStyleModel",
      "state": {
       "description_width": ""
      }
     },
     "b7137e0be85a488a918146b11c86d809": {
      "model_module": "@jupyter-widgets/controls",
      "model_module_version": "1.5.0",
      "model_name": "SliderStyleModel",
      "state": {
       "description_width": ""
      }
     },
     "b71a5a27efca4aa1816432a2e95c1f8d": {
      "model_module": "@jupyter-widgets/base",
      "model_module_version": "1.2.0",
      "model_name": "LayoutModel",
      "state": {}
     },
     "b87d65ca22ae4ad8a84ad452a6b62ca4": {
      "model_module": "@jupyter-widgets/controls",
      "model_module_version": "1.5.0",
      "model_name": "HBoxModel",
      "state": {
       "children": [
        "IPY_MODEL_2020c128a8a9422fb1321b6d89cf665a",
        "IPY_MODEL_c50dbad2f93d488db0417b198d809523"
       ],
       "layout": "IPY_MODEL_b9cb75518e2f41369936bd9b840313f7"
      }
     },
     "b89ed98931e1441e98a9f213c9484d71": {
      "model_module": "@jupyter-widgets/base",
      "model_module_version": "1.2.0",
      "model_name": "LayoutModel",
      "state": {}
     },
     "b960bdab97884f09971aeea7bd3f060f": {
      "model_module": "@jupyter-widgets/controls",
      "model_module_version": "1.5.0",
      "model_name": "FloatRangeSliderModel",
      "state": {
       "_model_name": "FloatRangeSliderModel",
       "_view_name": "FloatRangeSliderView",
       "description": "[SO<sub>4</sub>]<sub>0</sub>",
       "layout": "IPY_MODEL_cbcdd55b136d48cc8ff78a9ca377b668",
       "max": 0.3,
       "min": 0.001,
       "step": 0.001,
       "style": "IPY_MODEL_9be5bd869e174db6bd6c52e32cef1fd0",
       "value": [
        0.0105,
        0.0105
       ]
      }
     },
     "b9cb75518e2f41369936bd9b840313f7": {
      "model_module": "@jupyter-widgets/base",
      "model_module_version": "1.2.0",
      "model_name": "LayoutModel",
      "state": {}
     },
     "ba07c9e7e51b40ae8cc82a89a5fce3b2": {
      "model_module": "@jupyter-widgets/controls",
      "model_module_version": "1.5.0",
      "model_name": "SliderStyleModel",
      "state": {
       "description_width": ""
      }
     },
     "bb1158316442428fb7f0703cd82e9e93": {
      "model_module": "@jupyter-widgets/controls",
      "model_module_version": "1.5.0",
      "model_name": "SliderStyleModel",
      "state": {
       "description_width": ""
      }
     },
     "bb133553975841fb9179eb106d278e26": {
      "model_module": "@jupyter-widgets/base",
      "model_module_version": "1.2.0",
      "model_name": "LayoutModel",
      "state": {
       "width": "100%"
      }
     },
     "bb279d3664a348e79eff68bce1b91aab": {
      "model_module": "@jupyter-widgets/base",
      "model_module_version": "1.2.0",
      "model_name": "LayoutModel",
      "state": {
       "width": "100%"
      }
     },
     "bb54e8c2e0a644dc8734f515675463d7": {
      "model_module": "@jupyter-widgets/controls",
      "model_module_version": "1.5.0",
      "model_name": "SliderStyleModel",
      "state": {
       "description_width": ""
      }
     },
     "bb97ad8165954e4ebe328323f211699c": {
      "model_module": "@jupyter-widgets/controls",
      "model_module_version": "1.5.0",
      "model_name": "SliderStyleModel",
      "state": {
       "description_width": ""
      }
     },
     "bbd3d79ef6f64fd280aa6854e38185a5": {
      "model_module": "@jupyter-widgets/controls",
      "model_module_version": "1.5.0",
      "model_name": "FloatSliderModel",
      "state": {
       "description": "z<sub>max</sub>",
       "layout": "IPY_MODEL_cfe4599d9a024095bf0b102e2927b2ca",
       "max": 10,
       "min": 0.01,
       "step": 0.01,
       "style": "IPY_MODEL_1f37a7eec723414ba693308c21566976",
       "value": 1.5
      }
     },
     "c10ad655b1f2446697e4a1910088ac94": {
      "model_module": "@jupyter-widgets/base",
      "model_module_version": "1.2.0",
      "model_name": "LayoutModel",
      "state": {
       "width": "100%"
      }
     },
     "c241978f6bf04244be8929aa1bb30e2e": {
      "model_module": "@jupyter-widgets/base",
      "model_module_version": "1.2.0",
      "model_name": "LayoutModel",
      "state": {
       "width": "100%"
      }
     },
     "c2a940669eec4992a930db63b6482d13": {
      "model_module": "@jupyter-widgets/controls",
      "model_module_version": "1.5.0",
      "model_name": "SliderStyleModel",
      "state": {
       "description_width": ""
      }
     },
     "c2b6e11a612a46de817fb1d6e6c53235": {
      "model_module": "@jupyter-widgets/base",
      "model_module_version": "1.2.0",
      "model_name": "LayoutModel",
      "state": {
       "width": "100%"
      }
     },
     "c31d3e2dc2b444b898bb046f87ec452b": {
      "model_module": "@jupyter-widgets/controls",
      "model_module_version": "1.5.0",
      "model_name": "SliderStyleModel",
      "state": {
       "description_width": ""
      }
     },
     "c3ecb6d0a7fc4d1aa91aece3c6f8b13a": {
      "model_module": "@jupyter-widgets/base",
      "model_module_version": "1.2.0",
      "model_name": "LayoutModel",
      "state": {
       "width": "100%"
      }
     },
     "c482c3e5fba146199c4396190c229a81": {
      "model_module": "@jupyter-widgets/base",
      "model_module_version": "1.2.0",
      "model_name": "LayoutModel",
      "state": {
       "width": "200px"
      }
     },
     "c50dbad2f93d488db0417b198d809523": {
      "model_module": "@jupyter-widgets/controls",
      "model_module_version": "1.5.0",
      "model_name": "FloatRangeSliderModel",
      "state": {
       "_model_name": "FloatRangeSliderModel",
       "_view_name": "FloatRangeSliderView",
       "description": "β",
       "layout": "IPY_MODEL_4e15eac778f24d258b1500dbfdc0bc6a",
       "max": 0.05,
       "step": 0.001,
       "style": "IPY_MODEL_bb97ad8165954e4ebe328323f211699c",
       "value": [
        0.025,
        0.025
       ]
      }
     },
     "c6009ff418524fc2a643ae72d4333397": {
      "model_module": "@jupyter-widgets/controls",
      "model_module_version": "1.5.0",
      "model_name": "SliderStyleModel",
      "state": {
       "description_width": ""
      }
     },
     "c78f2417726b4939b12b5fe482379422": {
      "model_module": "@jupyter-widgets/base",
      "model_module_version": "1.2.0",
      "model_name": "LayoutModel",
      "state": {
       "width": "100%"
      }
     },
     "c7d925d64b53465b925c8857f5031e1e": {
      "model_module": "@jupyter-widgets/base",
      "model_module_version": "1.2.0",
      "model_name": "LayoutModel",
      "state": {
       "width": "100%"
      }
     },
     "c81bc2146cf04737bcb4af2c23e5da53": {
      "model_module": "@jupyter-widgets/output",
      "model_module_version": "1.0.0",
      "model_name": "OutputModel",
      "state": {
       "layout": "IPY_MODEL_79e789ea48cd4198a422b04eef005780"
      }
     },
     "c8224a4257bd4ea58b7b3e40575eb0a4": {
      "model_module": "@jupyter-widgets/controls",
      "model_module_version": "1.5.0",
      "model_name": "FloatRangeSliderModel",
      "state": {
       "_model_name": "FloatRangeSliderModel",
       "_view_name": "FloatRangeSliderView",
       "description": "[SO<sub>4</sub>]<sub>0</sub>",
       "layout": "IPY_MODEL_c241978f6bf04244be8929aa1bb30e2e",
       "max": 0.3,
       "min": 0.001,
       "step": 0.001,
       "style": "IPY_MODEL_1affbdb7e937450193abc31646948f18",
       "value": [
        0.0105,
        0.0105
       ]
      }
     },
     "c85ea4a95d8a40a8b1de6d233ef21b6b": {
      "model_module": "@jupyter-widgets/base",
      "model_module_version": "1.2.0",
      "model_name": "LayoutModel",
      "state": {}
     },
     "c8eba376e11b43958a0551aa9e24d8f4": {
      "model_module": "@jupyter-widgets/base",
      "model_module_version": "1.2.0",
      "model_name": "LayoutModel",
      "state": {
       "width": "100%"
      }
     },
     "c932ff091b4f4f0c836dfa3fa0d396f7": {
      "model_module": "@jupyter-widgets/controls",
      "model_module_version": "1.5.0",
      "model_name": "SliderStyleModel",
      "state": {
       "description_width": ""
      }
     },
     "ca1f5e0736154688ae595bc009b6c755": {
      "model_module": "@jupyter-widgets/controls",
      "model_module_version": "1.5.0",
      "model_name": "HBoxModel",
      "state": {
       "children": [
        "IPY_MODEL_c8224a4257bd4ea58b7b3e40575eb0a4",
        "IPY_MODEL_644e96c7fae24b919e8cca911dbda9fc"
       ],
       "layout": "IPY_MODEL_220e26ef06714bdca230c308a45f76d1"
      }
     },
     "cbcdd55b136d48cc8ff78a9ca377b668": {
      "model_module": "@jupyter-widgets/base",
      "model_module_version": "1.2.0",
      "model_name": "LayoutModel",
      "state": {
       "width": "100%"
      }
     },
     "ce200ee1aef34c9aa6439a58eeb4b5e6": {
      "model_module": "@jupyter-widgets/base",
      "model_module_version": "1.2.0",
      "model_name": "LayoutModel",
      "state": {}
     },
     "cfa67f013da241b89aee72a7f2488424": {
      "model_module": "@jupyter-widgets/controls",
      "model_module_version": "1.5.0",
      "model_name": "HBoxModel",
      "state": {
       "children": [
        "IPY_MODEL_855a68a41a5a4d4dad1e815d5c630c1a",
        "IPY_MODEL_f47c4c5e0794430b861bf99eb73a5bd8"
       ],
       "layout": "IPY_MODEL_2971f37fb9ff4b9cb08124ac5c76cf3d"
      }
     },
     "cfe1ceed27f741b5a5cc7e0c7a5bdb11": {
      "model_module": "@jupyter-widgets/base",
      "model_module_version": "1.2.0",
      "model_name": "LayoutModel",
      "state": {}
     },
     "cfe4599d9a024095bf0b102e2927b2ca": {
      "model_module": "@jupyter-widgets/base",
      "model_module_version": "1.2.0",
      "model_name": "LayoutModel",
      "state": {
       "width": "100%"
      }
     },
     "d03f26c59da741cfba5f4ef8cfc6486a": {
      "model_module": "@jupyter-widgets/base",
      "model_module_version": "1.2.0",
      "model_name": "LayoutModel",
      "state": {}
     },
     "d04b83f56e61496886ae1234a8560ab7": {
      "model_module": "@jupyter-widgets/output",
      "model_module_version": "1.0.0",
      "model_name": "OutputModel",
      "state": {
       "layout": "IPY_MODEL_b1cc94305aa847079cd87e8aef015369",
       "outputs": [
        {
         "data": {
          "text/html": "<div>\n<style scoped>\n    .dataframe tbody tr th:only-of-type {\n        vertical-align: middle;\n    }\n\n    .dataframe tbody tr th {\n        vertical-align: top;\n    }\n\n    .dataframe thead th {\n        text-align: right;\n    }\n</style>\n<table border=\"1\" class=\"dataframe\">\n  <thead>\n    <tr style=\"text-align: right;\">\n      <th></th>\n      <th>11</th>\n    </tr>\n  </thead>\n  <tbody>\n    <tr>\n      <th>SO4_0</th>\n      <td>0.010500</td>\n    </tr>\n    <tr>\n      <th>py_0</th>\n      <td>0.160000</td>\n    </tr>\n    <tr>\n      <th>d34S_SO4_0</th>\n      <td>23.000000</td>\n    </tr>\n    <tr>\n      <th>epsilon_MSR</th>\n      <td>54.000000</td>\n    </tr>\n    <tr>\n      <th>k_MSR</th>\n      <td>10.000000</td>\n    </tr>\n    <tr>\n      <th>v</th>\n      <td>0.052687</td>\n    </tr>\n    <tr>\n      <th>D_32</th>\n      <td>0.200000</td>\n    </tr>\n    <tr>\n      <th>beta</th>\n      <td>0.025000</td>\n    </tr>\n    <tr>\n      <th>py</th>\n      <td>0.303568</td>\n    </tr>\n    <tr>\n      <th>d34S</th>\n      <td>-18.307565</td>\n    </tr>\n  </tbody>\n</table>\n</div>",
          "text/plain": "                    11\nSO4_0         0.010500\npy_0          0.160000\nd34S_SO4_0   23.000000\nepsilon_MSR  54.000000\nk_MSR        10.000000\nv             0.052687\nD_32          0.200000\nbeta          0.025000\npy            0.303568\nd34S        -18.307565"
         },
         "metadata": {},
         "output_type": "display_data"
        }
       ]
      }
     },
     "d2380f0687ef45ccb9bfd86488eb3c0d": {
      "model_module": "@jupyter-widgets/controls",
      "model_module_version": "1.5.0",
      "model_name": "VBoxModel",
      "state": {
       "children": [
        "IPY_MODEL_a337ee66f1ed4b5d8f5392264d263aee",
        "IPY_MODEL_3ec1e395f8664c5abf7547b83e575a48",
        "IPY_MODEL_920f8624b43946b1b3409d00518aeb1a",
        "IPY_MODEL_2214929f8df14808a7490b6af01d7e5d",
        "IPY_MODEL_5fb7041678fd419a889392e3acc81cd6",
        "IPY_MODEL_740894b5fef94f26afb6e6989bb495f1"
       ],
       "layout": "IPY_MODEL_f7efa3008b254d089374e3cb36711b30"
      }
     },
     "d24d82f40ff041ac989b4d7f0791fa1a": {
      "model_module": "@jupyter-widgets/controls",
      "model_module_version": "1.5.0",
      "model_name": "FloatRangeSliderModel",
      "state": {
       "_model_name": "FloatRangeSliderModel",
       "_view_name": "FloatRangeSliderView",
       "description": "k<sub>MSR</sub>",
       "layout": "IPY_MODEL_d3e18f3400db4b6eb5aab0ad3a9782b9",
       "max": 40,
       "step": 0.1,
       "style": "IPY_MODEL_c6009ff418524fc2a643ae72d4333397",
       "value": [
        10,
        10
       ]
      }
     },
     "d2d34e6afe174c04b2e58940a9eb2e26": {
      "model_module": "@jupyter-widgets/base",
      "model_module_version": "1.2.0",
      "model_name": "LayoutModel",
      "state": {
       "width": "100%"
      }
     },
     "d2d960e51f5a40c6abc3e02d75341749": {
      "model_module": "@jupyter-widgets/controls",
      "model_module_version": "1.5.0",
      "model_name": "SliderStyleModel",
      "state": {
       "description_width": ""
      }
     },
     "d2f33eed3a3c42a1b2a86d895781551d": {
      "model_module": "@jupyter-widgets/controls",
      "model_module_version": "1.5.0",
      "model_name": "FloatRangeSliderModel",
      "state": {
       "_model_name": "FloatRangeSliderModel",
       "_view_name": "FloatRangeSliderView",
       "description": "δ<sup>34</sup>S<sub>SO4, 0</sub>",
       "layout": "IPY_MODEL_ed533d679e714ac288c337af82c0bbbd",
       "max": 30,
       "step": 0.1,
       "style": "IPY_MODEL_3f046fcebbb24a3ca903020f04f47386",
       "value": [
        19,
        23
       ]
      }
     },
     "d3c23a8146a64052b64e8f6bf271d12a": {
      "model_module": "@jupyter-widgets/controls",
      "model_module_version": "1.5.0",
      "model_name": "VBoxModel",
      "state": {
       "children": [
        "IPY_MODEL_54591c9f09c24abd995a4fda25247540",
        "IPY_MODEL_2d36565a6976480fa17ce301781df501",
        "IPY_MODEL_37fb9fc03f22471497b72e48192f0345",
        "IPY_MODEL_f2b4a951b6514939aec6ebdc69ed5bd7",
        "IPY_MODEL_0799e61fa1cd4b82863f2a7040bd4eed",
        "IPY_MODEL_e79febcc21294bd3bb7e4eda7895d980",
        "IPY_MODEL_33a6df4e99c44342ad0b3735536877ae"
       ],
       "layout": "IPY_MODEL_21c56ead3a484ee3bc01820bf4628890"
      }
     },
     "d3e18f3400db4b6eb5aab0ad3a9782b9": {
      "model_module": "@jupyter-widgets/base",
      "model_module_version": "1.2.0",
      "model_name": "LayoutModel",
      "state": {
       "width": "100%"
      }
     },
     "d3fb45c228044bcb8a7863cff6d4a507": {
      "model_module": "@jupyter-widgets/controls",
      "model_module_version": "1.5.0",
      "model_name": "DropdownModel",
      "state": {
       "_options_labels": [
        "SO4_0",
        "py_0",
        "d34S_SO4_0",
        "epsilon_MSR",
        "k_MSR",
        "v",
        "D_32",
        "beta"
       ],
       "description": "Colour",
       "index": 5,
       "layout": "IPY_MODEL_16de86e931bc4180bb01682ef046040f",
       "style": "IPY_MODEL_ff89d625d0404cd8b3e78120dab23d10"
      }
     },
     "d41e725b44ae4af393ddaf1921196a8e": {
      "model_module": "@jupyter-widgets/base",
      "model_module_version": "1.2.0",
      "model_name": "LayoutModel",
      "state": {}
     },
     "d4a4212bc9f04c3aaa19d362779e006a": {
      "model_module": "@jupyter-widgets/controls",
      "model_module_version": "1.5.0",
      "model_name": "HBoxModel",
      "state": {
       "children": [
        "IPY_MODEL_5eef1072bb3747b0be8aadd8f1f80a63",
        "IPY_MODEL_8af753f749294fa283a24afd8a234015",
        "IPY_MODEL_5934bf8e999246e495b41205a9386542"
       ],
       "layout": "IPY_MODEL_4a6a02a6add84298922e21b30033991e"
      }
     },
     "d510978503d94533833212630ec7d0ed": {
      "model_module": "@jupyter-widgets/controls",
      "model_module_version": "1.5.0",
      "model_name": "SliderStyleModel",
      "state": {
       "description_width": ""
      }
     },
     "d52f3747dd9942ff9412370375869176": {
      "model_module": "@jupyter-widgets/controls",
      "model_module_version": "1.5.0",
      "model_name": "SliderStyleModel",
      "state": {
       "description_width": ""
      }
     },
     "d59b4484f54d42fe86e7ae0ca92ff1ea": {
      "model_module": "@jupyter-widgets/controls",
      "model_module_version": "1.5.0",
      "model_name": "HBoxModel",
      "state": {
       "children": [
        "IPY_MODEL_6fc104501b4a44e38139977d048210b4",
        "IPY_MODEL_17ca6688219e4547920e95d4f32db6ed"
       ],
       "layout": "IPY_MODEL_3382e224bd6a4291827c68f8150f8b75"
      }
     },
     "d626f2256c3942c3a634851d50cad78e": {
      "model_module": "@jupyter-widgets/controls",
      "model_module_version": "1.5.0",
      "model_name": "FloatSliderModel",
      "state": {
       "description": "dz",
       "layout": "IPY_MODEL_435c8df3248046ac98ca425764352a49",
       "max": 0.1,
       "min": 0.001,
       "step": 0.001,
       "style": "IPY_MODEL_2cab4bea568243e49a99aaad17344464",
       "value": 0.01
      }
     },
     "d62bafbc33494647b8075c74fd4f0899": {
      "model_module": "@jupyter-widgets/base",
      "model_module_version": "1.2.0",
      "model_name": "LayoutModel",
      "state": {}
     },
     "d6fb3c40100f468fab05ffb8a13d3426": {
      "model_module": "@jupyter-widgets/controls",
      "model_module_version": "1.5.0",
      "model_name": "FloatSliderModel",
      "state": {
       "description": "ε<sub>MSR</sub>",
       "layout": "IPY_MODEL_b05d1f8c2586437a8b79a6b0efb0e0df",
       "style": "IPY_MODEL_3144c09d54ce4e1087c9efde255dcc09",
       "value": 54
      }
     },
     "d7a19eb1c2a747faaade586cbb2928ff": {
      "model_module": "@jupyter-widgets/controls",
      "model_module_version": "1.5.0",
      "model_name": "FloatSliderModel",
      "state": {
       "description": "v<sub>sed</sub>",
       "layout": "IPY_MODEL_33d206a5759b4fdf9e6b5e07ad642c17",
       "max": 0.5,
       "min": 0.001,
       "step": 0.001,
       "style": "IPY_MODEL_f02a3e21ebe64116bf96475b2b56f771",
       "value": 0.12
      }
     },
     "da4892ff539247748ef35a363dd11b87": {
      "model_module": "@jupyter-widgets/controls",
      "model_module_version": "1.5.0",
      "model_name": "SliderStyleModel",
      "state": {
       "description_width": ""
      }
     },
     "db5a8eeb0b5f4d838182f54053b77cb5": {
      "model_module": "@jupyter-widgets/controls",
      "model_module_version": "1.5.0",
      "model_name": "HBoxModel",
      "state": {
       "children": [
        "IPY_MODEL_af694f751b5e46cbb9d858a9c3b6a08a",
        "IPY_MODEL_ffd6dfdef7844831a42ec4fac0a0cbb8"
       ],
       "layout": "IPY_MODEL_eff14fb76414448587ce9ffc263ca3f8"
      }
     },
     "dc8532c8df97455facb68f23ca9997c0": {
      "model_module": "@jupyter-widgets/controls",
      "model_module_version": "1.5.0",
      "model_name": "HBoxModel",
      "state": {
       "children": [
        "IPY_MODEL_380ddf9f454b477bbc56ff843f5b9d45",
        "IPY_MODEL_d626f2256c3942c3a634851d50cad78e"
       ],
       "layout": "IPY_MODEL_c85ea4a95d8a40a8b1de6d233ef21b6b"
      }
     },
     "dc974abe306144dea95be28e093288fc": {
      "model_module": "@jupyter-widgets/output",
      "model_module_version": "1.0.0",
      "model_name": "OutputModel",
      "state": {
       "layout": "IPY_MODEL_42a499bbba4b4db696ceb60f8e379fca",
       "outputs": [
        {
         "name": "stdout",
         "output_type": "stream",
         "text": "Final [py]: 0.2246\nFinal d34S: -23.0985\n"
        }
       ]
      }
     },
     "dd6247b53fde45d790c1737a01dbcce9": {
      "buffers": [
       {
        "data": "xYgRI0aMyD8EJRGURFDSPx3HcRzHccw/yR4he4Ts4T+E7BGyR8jePwGPATwG8Ng/8afBnwZ/2j/FiBEjRozYP3mb4W2Gt9k/s9bJWidr3T+TJk2aNGniP/GnwZ8Gf9o/3/V51+dd7z/ii4kvJr7YP7ds2bJly/Y/qFChQoUK1T/hwIEDBw7cP+KLiS8mvtg/QCsBrQS00j920NlBZwfdP7oC6QqkK+A//vjx48ePzz8vebnk5ZLXP7g34d6Ee9M/XGNxjcU11j/Ub1G/Rf3WP28VuVXkVtE/lp5Zembp2T/Ub1G/Rf3WP3bQ2UFnB90/SeYhmYdk3j9REkFJBCXhP6sbqW6kutE/aLSh0YZG2z/zcsnLJS/XP8LyAcsHLN8/4ouJLya+2D8=",
        "encoding": "base64",
        "path": [
         "_data",
         0,
         "x",
         "value"
        ]
       },
       {
        "data": "Rwd4wKP9NcDD/ACOXgkwwMEuJT+MjyrA/jMJIdu/L8BTmBt0ZCcywDKRuNYj7DLAQFPtOgpRNMB4L4ehp1EuwKu1c0F4mzTAUHW0UVYANsAFJ7EOl7gmwFFBx24I4jPAj9E3cp7+I8CEuSjx9+UywAQFkeNMMhbA2TVfjqU7MMDVZnrukJwywH6jqudgGyzAp/ZymVzMNMAKO9kXTeI0wDalBdnBcjXAwoQpRBDLNMBBT3jre2A4wI4TYoJFczPALO/3XeG7NMDgYpUCNDczwN/G4xE5UTTAzsaJukrVLsDwGDRs5AY2wNgFvnI7yTbAG4Yfg/CcNcB+hirdR4o1wNmKIT+GOjPAcr7WsPMGOcA0gtMIOBQ2wOYGKnLaIzXAGh4S+eZWL8A=",
        "encoding": "base64",
        "path": [
         "_data",
         0,
         "y",
         "value"
        ]
       },
       {
        "data": "fDHxxcQXwz8BjwE8BvCIPw==",
        "encoding": "base64",
        "path": [
         "_data",
         1,
         "x",
         "value"
        ]
       },
       {
        "data": "cLVTVzbTM8AAAAAAAAD4fw==",
        "encoding": "base64",
        "path": [
         "_data",
         1,
         "y",
         "value"
        ]
       },
       {
        "data": "OP/h/Ifz3z8MbzO8zfD2Pw==",
        "encoding": "base64",
        "path": [
         "_data",
         2,
         "x",
         "value"
        ]
       },
       {
        "data": "ovup9wEPLcCk/yfjkHwdwA==",
        "encoding": "base64",
        "path": [
         "_data",
         2,
         "y",
         "value"
        ]
       },
       {
        "data": "bEqxKcWm5D/R2UFnB53dPy09s/TM0vM/HcdxHMdx3D8srrG4xuLaP3wx8cXEF9M/I9WNVDdS7T98MfHFxBfTP8dTGU9lPNU//sP5D+c/3D+4N+HehHvTPw==",
        "encoding": "base64",
        "path": [
         "_data",
         3,
         "x",
         "value"
        ]
       },
       {
        "data": "LnRyTCwKLcCYbbVBaekpwIDQerKveiDAKCD9rhZYI8BeyxW7L38wwNQynejnmCrAhEeFPsdBIsDGEL3bpnUxwJyLhhnAnzTAegDWAACoI8ASyWyzaP8wwA==",
        "encoding": "base64",
        "path": [
         "_data",
         3,
         "y",
         "value"
        ]
       },
       {
        "data": "Qqizr6dSsj8+MdraWP22PyiZYAYNA6g/AiCVqBXzqj/zv/uhnACjP+Z20q7jyrY/BxWkVRuKtD8tXeTt8lSkP67c/ciDJrw/wnKCG9Ehvj8Y9dkJ49yzP9T+KZ7Q0Lk/Yocbl6fRsj8JN0hpg8exP2BV+UgFI7o/ryYrKHQaqT+iHHuVAay5PyhDwl+/grg/cLLNvlcvvD80usXwOESvPw==",
        "encoding": "base64",
        "path": [
         "_data",
         4,
         "marker",
         "color",
         "value"
        ]
       },
       {
        "data": "EkU1QIsM0T8mEVXzXGfPP8skHW6TitQ/+IFhmeJv0z+VcokESjbXP7gj8FnHfs8/7BhovzFV0D+xCAqA/1/WP/LZMfIBd80/oVFnPJ/lzD/THDaZ0ojQPx0ZG5n2Ps4/4SVZj8Hf0D8x8Arre0DRPyDMqH5XIc4/mxX1jNIZ1D/TkjiQd0zOP5S5I3lUv84/aB8nfk10zT/L4Sht3TDSPw==",
        "encoding": "base64",
        "path": [
         "_data",
         4,
         "x",
         "value"
        ]
       },
       {
        "data": "wL2dEIg1NMAkQFcNToo1wAdUEDSokTHAsDiqYCtNMsA0uQhiyRUwwAoiD7rIfTXAFA9cxr3jNMD+Dsp5GoMwwNRab5ffpTbAIj3WbRQAN8A01sQcKrE0wDf+VhBMLzbAcACX4rleNMASUfrEzAY0wJuzzhp6QDbAUOmVWfvZMcCUjk7vgSc2wISnBEdT5jXAyHH7ZIWnNsBl17GADzwzwA==",
        "encoding": "base64",
        "path": [
         "_data",
         4,
         "y",
         "value"
        ]
       }
      ],
      "model_module": "jupyterlab-plotly",
      "model_module_version": "^5.1.0",
      "model_name": "FigureModel",
      "state": {
       "_config": {
        "plotlyServerURL": "https://plot.ly"
       },
       "_data": [
        {
         "marker": {
          "color": "Blue",
          "opacity": 0.3,
          "symbol": "circle"
         },
         "mode": "markers",
         "name": "Mudstone",
         "text": [
          "KC-2-1",
          "KC-2-2",
          "KC-2-2.5",
          "KC-2-3",
          "KC-2-3.5",
          "KC-2-4.5",
          "KC-2-5",
          "KC-2-6",
          "KC-2-6.5",
          "KC-2-7",
          "KC-2-8",
          "KC-2-9",
          "KC-2-10",
          "KC-2-11",
          "KC-2-12",
          "KC-2-13",
          "KC-2-14",
          "KC-2-14.5",
          "KC-2-15",
          "KC-2-15.5",
          "KC-2-16",
          "KC-2-17",
          "KC-2-18",
          "KC-2-19",
          "KC-2-20",
          "KC-2-21",
          "KC-2-21.5",
          "KC-2-22",
          "KC-2-23",
          "KC-2-24",
          "KC-2-25",
          "KC-2-25.5",
          "KC-2-26",
          "KC-2-26.5",
          "KC-2-27",
          "KC-2-28",
          "KC-2-29"
         ],
         "type": "scatter",
         "uid": "94f94a70-8277-4b9f-888f-76b2c66f79d3",
         "x": {
          "dtype": "float64",
          "shape": [
           37
          ]
         },
         "y": {
          "dtype": "float64",
          "shape": [
           37
          ]
         }
        },
        {
         "marker": {
          "color": "Blue",
          "opacity": 0.3,
          "symbol": "star"
         },
         "mode": "markers",
         "name": "Carbonate",
         "text": [
          "KC-2-0",
          "KC-2-30"
         ],
         "type": "scatter",
         "uid": "ca289a68-7dd9-422f-9038-ed3f4e1d6c03",
         "x": {
          "dtype": "float64",
          "shape": [
           2
          ]
         },
         "y": {
          "dtype": "float64",
          "shape": [
           2
          ]
         }
        },
        {
         "marker": {
          "color": "Blue",
          "opacity": 0.3,
          "symbol": "square"
         },
         "mode": "markers",
         "name": "Pervasively pyritised regions",
         "text": [
          "KC-2-6p",
          "KC-2-22p"
         ],
         "type": "scatter",
         "uid": "8cf20c0b-fb03-4955-8fc6-721901614ff5",
         "x": {
          "dtype": "float64",
          "shape": [
           2
          ]
         },
         "y": {
          "dtype": "float64",
          "shape": [
           2
          ]
         }
        },
        {
         "marker": {
          "color": "Blue",
          "opacity": 0.3,
          "symbol": "diamond"
         },
         "mode": "markers",
         "name": "Bed 22",
         "text": [
          "KC-3-A",
          "KC-3-B",
          "KC-3-C",
          "KC-3-D",
          "KC-3-E",
          "KC-3-F",
          "KC-3-G",
          "KC-3-H",
          "KC-3-I",
          "KC-3-J",
          "KC-3-K"
         ],
         "type": "scatter",
         "uid": "81e4a15b-d849-427c-90ba-1e2ddbc8c75a",
         "x": {
          "dtype": "float64",
          "shape": [
           11
          ]
         },
         "y": {
          "dtype": "float64",
          "shape": [
           11
          ]
         }
        },
        {
         "marker": {
          "color": {
           "dtype": "float64",
           "shape": [
            20
           ]
          },
          "coloraxis": "coloraxis",
          "line": {
           "color": "Black",
           "width": 1
          },
          "opacity": 1,
          "size": 6
         },
         "mode": "markers",
         "name": "Trials",
         "type": "scatter",
         "uid": "5e4f6820-0055-49f3-83a1-dd2b1e95d654",
         "x": {
          "dtype": "float64",
          "shape": [
           20
          ]
         },
         "y": {
          "dtype": "float64",
          "shape": [
           20
          ]
         }
        }
       ],
       "_js2py_relayout": {},
       "_js2py_restyle": {},
       "_js2py_update": {},
       "_last_layout_edit_id": 11,
       "_last_trace_edit_id": 11,
       "_layout": {
        "coloraxis": {
         "colorbar": {
          "ticks": "outside"
         },
         "colorscale": [
          [
           0,
           "#fde725"
          ],
          [
           0.1111111111111111,
           "#b5de2b"
          ],
          [
           0.2222222222222222,
           "#6ece58"
          ],
          [
           0.3333333333333333,
           "#35b779"
          ],
          [
           0.4444444444444444,
           "#1f9e89"
          ],
          [
           0.5555555555555556,
           "#26828e"
          ],
          [
           0.6666666666666666,
           "#31688e"
          ],
          [
           0.7777777777777778,
           "#3e4989"
          ],
          [
           0.8888888888888888,
           "#482878"
          ],
          [
           1,
           "#440154"
          ]
         ]
        },
        "height": 600,
        "legend": {
         "x": 1.2,
         "xanchor": "left",
         "y": 1,
         "yanchor": "top"
        },
        "margin": {
         "l": 100
        },
        "template": {
         "layout": {
          "bargap": 0.05,
          "bargroupgap": 0,
          "font": {
           "color": "black",
           "family": "Arial",
           "size": 16
          },
          "height": 700,
          "hovermode": "closest",
          "margin": {
           "b": 60,
           "l": 60,
           "r": 30,
           "t": 30
          },
          "scene": {
           "xaxis": {
            "color": "black",
            "linewidth": 2,
            "showline": true,
            "ticks": "outside"
           },
           "yaxis": {
            "color": "black",
            "linewidth": 2,
            "showline": true,
            "ticks": "outside"
           },
           "zaxis": {
            "color": "black",
            "linewidth": 2,
            "showline": true,
            "ticks": "outside"
           }
          },
          "xaxis": {
           "color": "black",
           "linewidth": 1.3,
           "mirror": true,
           "showgrid": true,
           "showline": true,
           "ticks": "outside",
           "zeroline": true
          },
          "yaxis": {
           "color": "black",
           "linewidth": 1.3,
           "mirror": true,
           "showgrid": true,
           "showline": true,
           "ticks": "outside",
           "zeroline": true
          }
         }
        },
        "width": 1000,
        "xaxis": {
         "rangemode": "tozero",
         "title": {
          "text": "[FeS<sub>2</sub>] / mol dm<sup>−3</sup>"
         }
        },
        "yaxis": {
         "title": {
          "text": "δ<sup>34</sup>S<sub>py</sub> (‰)"
         }
        }
       },
       "_py2js_animate": {},
       "_py2js_deleteTraces": {},
       "_py2js_moveTraces": {},
       "_py2js_removeLayoutProps": {},
       "_py2js_removeTraceProps": {},
       "_view_count": 0
      }
     },
     "dd792a4d411849fd81dba973db8f406d": {
      "model_module": "@jupyter-widgets/controls",
      "model_module_version": "1.5.0",
      "model_name": "SliderStyleModel",
      "state": {
       "description_width": ""
      }
     },
     "ddca4db303f545a2a33677da09d83c80": {
      "model_module": "@jupyter-widgets/controls",
      "model_module_version": "1.5.0",
      "model_name": "IntSliderModel",
      "state": {
       "description": "№ of Trials",
       "layout": "IPY_MODEL_163618dc1fdf48a8aa5d8ad61197407b",
       "max": 1000,
       "min": 1,
       "style": "IPY_MODEL_f767b97e54984620aeabd992472a23b9",
       "value": 20
      }
     },
     "df62770b83af47d081f97f027d78b042": {
      "model_module": "@jupyter-widgets/base",
      "model_module_version": "1.2.0",
      "model_name": "LayoutModel",
      "state": {}
     },
     "df8d6c3a2be5446da97877ea07991d55": {
      "model_module": "@jupyter-widgets/controls",
      "model_module_version": "1.5.0",
      "model_name": "VBoxModel",
      "state": {
       "children": [
        "IPY_MODEL_51e890c1417b4dc4aa8dfd68ad401726",
        "IPY_MODEL_db5a8eeb0b5f4d838182f54053b77cb5"
       ],
       "layout": "IPY_MODEL_3e1b27bf6dc745378d4c857e09960e23"
      }
     },
     "dfc32c5247514b1da4c15e81fb089457": {
      "model_module": "@jupyter-widgets/controls",
      "model_module_version": "1.5.0",
      "model_name": "SliderStyleModel",
      "state": {
       "description_width": ""
      }
     },
     "dfe2d718cef448809388b71daf14384d": {
      "model_module": "@jupyter-widgets/controls",
      "model_module_version": "1.5.0",
      "model_name": "DescriptionStyleModel",
      "state": {
       "description_width": ""
      }
     },
     "e067a59460f04c5783401685105d2463": {
      "model_module": "@jupyter-widgets/base",
      "model_module_version": "1.2.0",
      "model_name": "LayoutModel",
      "state": {}
     },
     "e06eedae07f440eeb69b187e39d7eaab": {
      "model_module": "@jupyter-widgets/base",
      "model_module_version": "1.2.0",
      "model_name": "LayoutModel",
      "state": {}
     },
     "e0f42448101842a7ae60c053e37fd8fd": {
      "model_module": "@jupyter-widgets/controls",
      "model_module_version": "1.5.0",
      "model_name": "SliderStyleModel",
      "state": {
       "description_width": ""
      }
     },
     "e1c4df1e2ffb44eeb51abff365b57f08": {
      "model_module": "@jupyter-widgets/controls",
      "model_module_version": "1.5.0",
      "model_name": "FloatRangeSliderModel",
      "state": {
       "_model_name": "FloatRangeSliderModel",
       "_view_name": "FloatRangeSliderView",
       "description": "D<sub>32</sub>",
       "layout": "IPY_MODEL_a6f9f2355a6d4726ac222d74b140e983",
       "max": 0.3,
       "min": 0.001,
       "step": 0.001,
       "style": "IPY_MODEL_40ad408c61804f8c9ee48469155a6f5f",
       "value": [
        0.2,
        0.2
       ]
      }
     },
     "e3657abd21104e4f96a028b070486986": {
      "model_module": "@jupyter-widgets/output",
      "model_module_version": "1.0.0",
      "model_name": "OutputModel",
      "state": {
       "layout": "IPY_MODEL_3cc16eab456647b2aa1f6ed02ea83745",
       "outputs": [
        {
         "data": {
          "text/html": "<div>\n<style scoped>\n    .dataframe tbody tr th:only-of-type {\n        vertical-align: middle;\n    }\n\n    .dataframe tbody tr th {\n        vertical-align: top;\n    }\n\n    .dataframe thead th {\n        text-align: right;\n    }\n</style>\n<table border=\"1\" class=\"dataframe\">\n  <thead>\n    <tr style=\"text-align: right;\">\n      <th></th>\n      <th>9</th>\n    </tr>\n  </thead>\n  <tbody>\n    <tr>\n      <th>SO4_0</th>\n      <td>0.010500</td>\n    </tr>\n    <tr>\n      <th>py_0</th>\n      <td>0.160000</td>\n    </tr>\n    <tr>\n      <th>d34S_SO4_0</th>\n      <td>20.185380</td>\n    </tr>\n    <tr>\n      <th>epsilon_MSR</th>\n      <td>48.251064</td>\n    </tr>\n    <tr>\n      <th>k_MSR</th>\n      <td>5.920939</td>\n    </tr>\n    <tr>\n      <th>v</th>\n      <td>0.055763</td>\n    </tr>\n    <tr>\n      <th>D_32</th>\n      <td>0.200000</td>\n    </tr>\n    <tr>\n      <th>beta</th>\n      <td>0.025000</td>\n    </tr>\n    <tr>\n      <th>py</th>\n      <td>0.265106</td>\n    </tr>\n    <tr>\n      <th>d34S</th>\n      <td>-18.487793</td>\n    </tr>\n  </tbody>\n</table>\n</div>",
          "text/plain": "                     9\nSO4_0         0.010500\npy_0          0.160000\nd34S_SO4_0   20.185380\nepsilon_MSR  48.251064\nk_MSR         5.920939\nv             0.055763\nD_32          0.200000\nbeta          0.025000\npy            0.265106\nd34S        -18.487793"
         },
         "metadata": {},
         "output_type": "display_data"
        }
       ]
      }
     },
     "e47c5dd6c0a240a1aa685d935f292cae": {
      "model_module": "@jupyter-widgets/base",
      "model_module_version": "1.2.0",
      "model_name": "LayoutModel",
      "state": {
       "width": "100%"
      }
     },
     "e503b45d5f7d42669932e8c5d9948cc2": {
      "model_module": "@jupyter-widgets/output",
      "model_module_version": "1.0.0",
      "model_name": "OutputModel",
      "state": {
       "layout": "IPY_MODEL_933ac3168f1d44b1aeea5855a5ca292c",
       "outputs": [
        {
         "data": {
          "text/html": "<div>\n<style scoped>\n    .dataframe tbody tr th:only-of-type {\n        vertical-align: middle;\n    }\n\n    .dataframe tbody tr th {\n        vertical-align: top;\n    }\n\n    .dataframe thead th {\n        text-align: right;\n    }\n</style>\n<table border=\"1\" class=\"dataframe\">\n  <thead>\n    <tr style=\"text-align: right;\">\n      <th></th>\n      <th>19</th>\n    </tr>\n  </thead>\n  <tbody>\n    <tr>\n      <th>SO4_0</th>\n      <td>0.010500</td>\n    </tr>\n    <tr>\n      <th>py_0</th>\n      <td>0.160000</td>\n    </tr>\n    <tr>\n      <th>d34S_SO4_0</th>\n      <td>23.000000</td>\n    </tr>\n    <tr>\n      <th>epsilon_MSR</th>\n      <td>54.000000</td>\n    </tr>\n    <tr>\n      <th>k_MSR</th>\n      <td>10.000000</td>\n    </tr>\n    <tr>\n      <th>v</th>\n      <td>0.120000</td>\n    </tr>\n    <tr>\n      <th>D_32</th>\n      <td>0.200000</td>\n    </tr>\n    <tr>\n      <th>beta</th>\n      <td>0.025000</td>\n    </tr>\n    <tr>\n      <th>py</th>\n      <td>0.224551</td>\n    </tr>\n    <tr>\n      <th>d34S</th>\n      <td>-23.098480</td>\n    </tr>\n  </tbody>\n</table>\n</div>",
          "text/plain": "                    19\nSO4_0         0.010500\npy_0          0.160000\nd34S_SO4_0   23.000000\nepsilon_MSR  54.000000\nk_MSR        10.000000\nv             0.120000\nD_32          0.200000\nbeta          0.025000\npy            0.224551\nd34S        -23.098480"
         },
         "metadata": {},
         "output_type": "display_data"
        },
        {
         "data": {
          "text/html": "<div>\n<style scoped>\n    .dataframe tbody tr th:only-of-type {\n        vertical-align: middle;\n    }\n\n    .dataframe tbody tr th {\n        vertical-align: top;\n    }\n\n    .dataframe thead th {\n        text-align: right;\n    }\n</style>\n<table border=\"1\" class=\"dataframe\">\n  <thead>\n    <tr style=\"text-align: right;\">\n      <th></th>\n      <th>3</th>\n    </tr>\n  </thead>\n  <tbody>\n    <tr>\n      <th>SO4_0</th>\n      <td>0.010500</td>\n    </tr>\n    <tr>\n      <th>py_0</th>\n      <td>0.160000</td>\n    </tr>\n    <tr>\n      <th>d34S_SO4_0</th>\n      <td>23.000000</td>\n    </tr>\n    <tr>\n      <th>epsilon_MSR</th>\n      <td>54.000000</td>\n    </tr>\n    <tr>\n      <th>k_MSR</th>\n      <td>10.000000</td>\n    </tr>\n    <tr>\n      <th>v</th>\n      <td>0.052636</td>\n    </tr>\n    <tr>\n      <th>D_32</th>\n      <td>0.200000</td>\n    </tr>\n    <tr>\n      <th>beta</th>\n      <td>0.025000</td>\n    </tr>\n    <tr>\n      <th>py</th>\n      <td>0.303704</td>\n    </tr>\n    <tr>\n      <th>d34S</th>\n      <td>-18.301443</td>\n    </tr>\n  </tbody>\n</table>\n</div>",
          "text/plain": "                     3\nSO4_0         0.010500\npy_0          0.160000\nd34S_SO4_0   23.000000\nepsilon_MSR  54.000000\nk_MSR        10.000000\nv             0.052636\nD_32          0.200000\nbeta          0.025000\npy            0.303704\nd34S        -18.301443"
         },
         "metadata": {},
         "output_type": "display_data"
        },
        {
         "data": {
          "text/html": "<div>\n<style scoped>\n    .dataframe tbody tr th:only-of-type {\n        vertical-align: middle;\n    }\n\n    .dataframe tbody tr th {\n        vertical-align: top;\n    }\n\n    .dataframe thead th {\n        text-align: right;\n    }\n</style>\n<table border=\"1\" class=\"dataframe\">\n  <thead>\n    <tr style=\"text-align: right;\">\n      <th></th>\n      <th>7</th>\n    </tr>\n  </thead>\n  <tbody>\n    <tr>\n      <th>SO4_0</th>\n      <td>0.010500</td>\n    </tr>\n    <tr>\n      <th>py_0</th>\n      <td>0.160000</td>\n    </tr>\n    <tr>\n      <th>d34S_SO4_0</th>\n      <td>23.000000</td>\n    </tr>\n    <tr>\n      <th>epsilon_MSR</th>\n      <td>54.000000</td>\n    </tr>\n    <tr>\n      <th>k_MSR</th>\n      <td>10.000000</td>\n    </tr>\n    <tr>\n      <th>v</th>\n      <td>0.039711</td>\n    </tr>\n    <tr>\n      <th>D_32</th>\n      <td>0.200000</td>\n    </tr>\n    <tr>\n      <th>beta</th>\n      <td>0.025000</td>\n    </tr>\n    <tr>\n      <th>py</th>\n      <td>0.349609</td>\n    </tr>\n    <tr>\n      <th>d34S</th>\n      <td>-16.512123</td>\n    </tr>\n  </tbody>\n</table>\n</div>",
          "text/plain": "                     7\nSO4_0         0.010500\npy_0          0.160000\nd34S_SO4_0   23.000000\nepsilon_MSR  54.000000\nk_MSR        10.000000\nv             0.039711\nD_32          0.200000\nbeta          0.025000\npy            0.349609\nd34S        -16.512123"
         },
         "metadata": {},
         "output_type": "display_data"
        },
        {
         "data": {
          "text/html": "<div>\n<style scoped>\n    .dataframe tbody tr th:only-of-type {\n        vertical-align: middle;\n    }\n\n    .dataframe tbody tr th {\n        vertical-align: top;\n    }\n\n    .dataframe thead th {\n        text-align: right;\n    }\n</style>\n<table border=\"1\" class=\"dataframe\">\n  <thead>\n    <tr style=\"text-align: right;\">\n      <th></th>\n      <th>7</th>\n    </tr>\n  </thead>\n  <tbody>\n    <tr>\n      <th>SO4_0</th>\n      <td>0.010500</td>\n    </tr>\n    <tr>\n      <th>py_0</th>\n      <td>0.160000</td>\n    </tr>\n    <tr>\n      <th>d34S_SO4_0</th>\n      <td>23.000000</td>\n    </tr>\n    <tr>\n      <th>epsilon_MSR</th>\n      <td>54.000000</td>\n    </tr>\n    <tr>\n      <th>k_MSR</th>\n      <td>10.000000</td>\n    </tr>\n    <tr>\n      <th>v</th>\n      <td>0.039711</td>\n    </tr>\n    <tr>\n      <th>D_32</th>\n      <td>0.200000</td>\n    </tr>\n    <tr>\n      <th>beta</th>\n      <td>0.025000</td>\n    </tr>\n    <tr>\n      <th>py</th>\n      <td>0.349609</td>\n    </tr>\n    <tr>\n      <th>d34S</th>\n      <td>-16.512123</td>\n    </tr>\n  </tbody>\n</table>\n</div>",
          "text/plain": "                     7\nSO4_0         0.010500\npy_0          0.160000\nd34S_SO4_0   23.000000\nepsilon_MSR  54.000000\nk_MSR        10.000000\nv             0.039711\nD_32          0.200000\nbeta          0.025000\npy            0.349609\nd34S        -16.512123"
         },
         "metadata": {},
         "output_type": "display_data"
        },
        {
         "data": {
          "text/html": "<div>\n<style scoped>\n    .dataframe tbody tr th:only-of-type {\n        vertical-align: middle;\n    }\n\n    .dataframe tbody tr th {\n        vertical-align: top;\n    }\n\n    .dataframe thead th {\n        text-align: right;\n    }\n</style>\n<table border=\"1\" class=\"dataframe\">\n  <thead>\n    <tr style=\"text-align: right;\">\n      <th></th>\n      <th>2</th>\n    </tr>\n  </thead>\n  <tbody>\n    <tr>\n      <th>SO4_0</th>\n      <td>0.010500</td>\n    </tr>\n    <tr>\n      <th>py_0</th>\n      <td>0.160000</td>\n    </tr>\n    <tr>\n      <th>d34S_SO4_0</th>\n      <td>23.000000</td>\n    </tr>\n    <tr>\n      <th>epsilon_MSR</th>\n      <td>54.000000</td>\n    </tr>\n    <tr>\n      <th>k_MSR</th>\n      <td>10.000000</td>\n    </tr>\n    <tr>\n      <th>v</th>\n      <td>0.046898</td>\n    </tr>\n    <tr>\n      <th>D_32</th>\n      <td>0.200000</td>\n    </tr>\n    <tr>\n      <th>beta</th>\n      <td>0.025000</td>\n    </tr>\n    <tr>\n      <th>py</th>\n      <td>0.320958</td>\n    </tr>\n    <tr>\n      <th>d34S</th>\n      <td>-17.568973</td>\n    </tr>\n  </tbody>\n</table>\n</div>",
          "text/plain": "                     2\nSO4_0         0.010500\npy_0          0.160000\nd34S_SO4_0   23.000000\nepsilon_MSR  54.000000\nk_MSR        10.000000\nv             0.046898\nD_32          0.200000\nbeta          0.025000\npy            0.320958\nd34S        -17.568973"
         },
         "metadata": {},
         "output_type": "display_data"
        },
        {
         "data": {
          "text/html": "<div>\n<style scoped>\n    .dataframe tbody tr th:only-of-type {\n        vertical-align: middle;\n    }\n\n    .dataframe tbody tr th {\n        vertical-align: top;\n    }\n\n    .dataframe thead th {\n        text-align: right;\n    }\n</style>\n<table border=\"1\" class=\"dataframe\">\n  <thead>\n    <tr style=\"text-align: right;\">\n      <th></th>\n      <th>15</th>\n    </tr>\n  </thead>\n  <tbody>\n    <tr>\n      <th>SO4_0</th>\n      <td>0.010500</td>\n    </tr>\n    <tr>\n      <th>py_0</th>\n      <td>0.160000</td>\n    </tr>\n    <tr>\n      <th>d34S_SO4_0</th>\n      <td>23.000000</td>\n    </tr>\n    <tr>\n      <th>epsilon_MSR</th>\n      <td>54.000000</td>\n    </tr>\n    <tr>\n      <th>k_MSR</th>\n      <td>10.000000</td>\n    </tr>\n    <tr>\n      <th>v</th>\n      <td>0.049030</td>\n    </tr>\n    <tr>\n      <th>D_32</th>\n      <td>0.200000</td>\n    </tr>\n    <tr>\n      <th>beta</th>\n      <td>0.025000</td>\n    </tr>\n    <tr>\n      <th>py</th>\n      <td>0.314076</td>\n    </tr>\n    <tr>\n      <th>d34S</th>\n      <td>-17.851492</td>\n    </tr>\n  </tbody>\n</table>\n</div>",
          "text/plain": "                    15\nSO4_0         0.010500\npy_0          0.160000\nd34S_SO4_0   23.000000\nepsilon_MSR  54.000000\nk_MSR        10.000000\nv             0.049030\nD_32          0.200000\nbeta          0.025000\npy            0.314076\nd34S        -17.851492"
         },
         "metadata": {},
         "output_type": "display_data"
        },
        {
         "data": {
          "text/html": "<div>\n<style scoped>\n    .dataframe tbody tr th:only-of-type {\n        vertical-align: middle;\n    }\n\n    .dataframe tbody tr th {\n        vertical-align: top;\n    }\n\n    .dataframe thead th {\n        text-align: right;\n    }\n</style>\n<table border=\"1\" class=\"dataframe\">\n  <thead>\n    <tr style=\"text-align: right;\">\n      <th></th>\n      <th>19</th>\n    </tr>\n  </thead>\n  <tbody>\n    <tr>\n      <th>SO4_0</th>\n      <td>0.010500</td>\n    </tr>\n    <tr>\n      <th>py_0</th>\n      <td>0.160000</td>\n    </tr>\n    <tr>\n      <th>d34S_SO4_0</th>\n      <td>23.000000</td>\n    </tr>\n    <tr>\n      <th>epsilon_MSR</th>\n      <td>54.000000</td>\n    </tr>\n    <tr>\n      <th>k_MSR</th>\n      <td>10.000000</td>\n    </tr>\n    <tr>\n      <th>v</th>\n      <td>0.061067</td>\n    </tr>\n    <tr>\n      <th>D_32</th>\n      <td>0.200000</td>\n    </tr>\n    <tr>\n      <th>beta</th>\n      <td>0.025000</td>\n    </tr>\n    <tr>\n      <th>py</th>\n      <td>0.284232</td>\n    </tr>\n    <tr>\n      <th>d34S</th>\n      <td>-19.234612</td>\n    </tr>\n  </tbody>\n</table>\n</div>",
          "text/plain": "                    19\nSO4_0         0.010500\npy_0          0.160000\nd34S_SO4_0   23.000000\nepsilon_MSR  54.000000\nk_MSR        10.000000\nv             0.061067\nD_32          0.200000\nbeta          0.025000\npy            0.284232\nd34S        -19.234612"
         },
         "metadata": {},
         "output_type": "display_data"
        }
       ]
      }
     },
     "e51f1699583e4ec0a8e23f0952f52ead": {
      "model_module": "@jupyter-widgets/base",
      "model_module_version": "1.2.0",
      "model_name": "LayoutModel",
      "state": {
       "width": "100%"
      }
     },
     "e5cf8aa5aa0749f79fe91bc9195d8ecc": {
      "model_module": "@jupyter-widgets/controls",
      "model_module_version": "1.5.0",
      "model_name": "SliderStyleModel",
      "state": {
       "description_width": ""
      }
     },
     "e73eaeb83fbc458ea68c87137cc543bc": {
      "model_module": "@jupyter-widgets/base",
      "model_module_version": "1.2.0",
      "model_name": "LayoutModel",
      "state": {
       "width": "100%"
      }
     },
     "e77b5680168d4025bc7963c36d233cbd": {
      "model_module": "@jupyter-widgets/controls",
      "model_module_version": "1.5.0",
      "model_name": "HBoxModel",
      "state": {
       "children": [
        "IPY_MODEL_209d953d466947cab927de08e936c8d0",
        "IPY_MODEL_eb60c4efe03e4842ad44b3e0ce732a93"
       ],
       "layout": "IPY_MODEL_a4f695027c084436bfec8fe3f8c7ee8f"
      }
     },
     "e79febcc21294bd3bb7e4eda7895d980": {
      "model_module": "@jupyter-widgets/controls",
      "model_module_version": "1.5.0",
      "model_name": "HBoxModel",
      "state": {
       "children": [
        "IPY_MODEL_ddca4db303f545a2a33677da09d83c80"
       ],
       "layout": "IPY_MODEL_8b03f2f823a0439f9391d938a8b32f36"
      }
     },
     "e7a487d351e34980b826720ce61b5020": {
      "model_module": "@jupyter-widgets/controls",
      "model_module_version": "1.5.0",
      "model_name": "FloatRangeSliderModel",
      "state": {
       "_model_name": "FloatRangeSliderModel",
       "_view_name": "FloatRangeSliderView",
       "description": "[SO<sub>4</sub>]<sub>0</sub>",
       "layout": "IPY_MODEL_50b29c809d9c4870bdf1e0e82b9b6b67",
       "max": 0.3,
       "min": 0.001,
       "step": 0.001,
       "style": "IPY_MODEL_a284e520df3f43e6a0010eca5d517532",
       "value": [
        0.0105,
        0.0105
       ]
      }
     },
     "e8df37a56af9435f9e739091ac124567": {
      "model_module": "@jupyter-widgets/base",
      "model_module_version": "1.2.0",
      "model_name": "LayoutModel",
      "state": {
       "width": "100%"
      }
     },
     "e957250bdc1e4ae8838f1b4aa805d151": {
      "model_module": "@jupyter-widgets/controls",
      "model_module_version": "1.5.0",
      "model_name": "SliderStyleModel",
      "state": {
       "description_width": ""
      }
     },
     "e9aae6da3f694735910de8b487e61b7f": {
      "model_module": "@jupyter-widgets/controls",
      "model_module_version": "1.5.0",
      "model_name": "FloatRangeSliderModel",
      "state": {
       "_model_name": "FloatRangeSliderModel",
       "_view_name": "FloatRangeSliderView",
       "description": "[SO<sub>4</sub>]<sub>0</sub>",
       "layout": "IPY_MODEL_70d0d9acf2614ab89813d8fc3ac83646",
       "max": 0.3,
       "min": 0.001,
       "step": 0.001,
       "style": "IPY_MODEL_fcbc57e2aa5649d2a23338f7300850a5",
       "value": [
        0.018,
        0.047
       ]
      }
     },
     "ea07c6c1594c4664ba5e97b439de62f1": {
      "model_module": "@jupyter-widgets/controls",
      "model_module_version": "1.5.0",
      "model_name": "IntSliderModel",
      "state": {
       "description": "№ of Trials",
       "layout": "IPY_MODEL_8b3c9f2c4b8c40e798b2d8dc4daad78b",
       "max": 1000,
       "min": 1,
       "style": "IPY_MODEL_25a58baf87654f379b3998254979300f",
       "value": 20
      }
     },
     "eb60c4efe03e4842ad44b3e0ce732a93": {
      "model_module": "@jupyter-widgets/controls",
      "model_module_version": "1.5.0",
      "model_name": "FloatSliderModel",
      "state": {
       "description": "v<sub>sed</sub>",
       "layout": "IPY_MODEL_195c3f2cfffa4e939634b2ae00dca7d3",
       "max": 0.5,
       "min": 0.001,
       "step": 0.001,
       "style": "IPY_MODEL_1ae9bc9bc66646b3a4684e4188652716",
       "value": 0.12
      }
     },
     "ebafbdd104ac4698bb5c75b7c204d9d9": {
      "model_module": "@jupyter-widgets/base",
      "model_module_version": "1.2.0",
      "model_name": "LayoutModel",
      "state": {
       "width": "100%"
      }
     },
     "ebe3a1e53714436aaa9ceae30f15858a": {
      "model_module": "@jupyter-widgets/base",
      "model_module_version": "1.2.0",
      "model_name": "LayoutModel",
      "state": {}
     },
     "ec0ef5052b88473b9cdef132e0f4b512": {
      "model_module": "@jupyter-widgets/controls",
      "model_module_version": "1.5.0",
      "model_name": "FloatRangeSliderModel",
      "state": {
       "_model_name": "FloatRangeSliderModel",
       "_view_name": "FloatRangeSliderView",
       "description": "k<sub>MSR</sub>",
       "layout": "IPY_MODEL_11641f255fae427faf02951f89337c2a",
       "max": 40,
       "step": 0.1,
       "style": "IPY_MODEL_8e5e51e8bdb24def892f5bfcf163ee5a",
       "value": [
        5.9,
        10
       ]
      }
     },
     "ec5a69599f09427896b3c4c07c255c02": {
      "model_module": "@jupyter-widgets/controls",
      "model_module_version": "1.5.0",
      "model_name": "FloatRangeSliderModel",
      "state": {
       "_model_name": "FloatRangeSliderModel",
       "_view_name": "FloatRangeSliderView",
       "description": "β",
       "layout": "IPY_MODEL_c10ad655b1f2446697e4a1910088ac94",
       "max": 0.05,
       "step": 0.001,
       "style": "IPY_MODEL_6f53fd3cc5d54377ad7f8e0d1ec2e655",
       "value": [
        0.025,
        0.025
       ]
      }
     },
     "ed533d679e714ac288c337af82c0bbbd": {
      "model_module": "@jupyter-widgets/base",
      "model_module_version": "1.2.0",
      "model_name": "LayoutModel",
      "state": {
       "width": "100%"
      }
     },
     "ed5b4d53135e4d74bc30b2ddfffe623f": {
      "model_module": "@jupyter-widgets/base",
      "model_module_version": "1.2.0",
      "model_name": "LayoutModel",
      "state": {}
     },
     "eddc7a28b0f549aba5dca9c621e48771": {
      "model_module": "@jupyter-widgets/controls",
      "model_module_version": "1.5.0",
      "model_name": "FloatSliderModel",
      "state": {
       "description": "D<sub>32</sub>",
       "layout": "IPY_MODEL_4f7d70e40ebd4ed0a78eeb3fb79690af",
       "max": 0.3,
       "min": 0.001,
       "step": 0.001,
       "style": "IPY_MODEL_72605881191c4ea8b67f0c3b9792f446",
       "value": 0.2
      }
     },
     "ee1f1773741e4852813da29a58bd2796": {
      "model_module": "@jupyter-widgets/base",
      "model_module_version": "1.2.0",
      "model_name": "LayoutModel",
      "state": {
       "width": "100%"
      }
     },
     "ee76028ef6a84dc19af1453a39ef33fb": {
      "model_module": "@jupyter-widgets/controls",
      "model_module_version": "1.5.0",
      "model_name": "DropdownModel",
      "state": {
       "_options_labels": [
        "SO4_0",
        "py_0",
        "d34S_SO4_0",
        "epsilon_MSR",
        "k_MSR",
        "v",
        "D_32",
        "beta"
       ],
       "description": "Colour",
       "index": 5,
       "layout": "IPY_MODEL_65689058a0754004b22929e34f1eecb7",
       "style": "IPY_MODEL_af62928976d04bab9aead4be95e09446"
      }
     },
     "ef68bdf379894355b832f4771d6e1b60": {
      "model_module": "@jupyter-widgets/base",
      "model_module_version": "1.2.0",
      "model_name": "LayoutModel",
      "state": {}
     },
     "efb3e54d6dad438c99ca475a461d2819": {
      "model_module": "@jupyter-widgets/base",
      "model_module_version": "1.2.0",
      "model_name": "LayoutModel",
      "state": {
       "width": "100%"
      }
     },
     "eff14fb76414448587ce9ffc263ca3f8": {
      "model_module": "@jupyter-widgets/base",
      "model_module_version": "1.2.0",
      "model_name": "LayoutModel",
      "state": {}
     },
     "f02a3e21ebe64116bf96475b2b56f771": {
      "model_module": "@jupyter-widgets/controls",
      "model_module_version": "1.5.0",
      "model_name": "SliderStyleModel",
      "state": {
       "description_width": ""
      }
     },
     "f1755e05fa204a378e78a1d39db650aa": {
      "model_module": "@jupyter-widgets/controls",
      "model_module_version": "1.5.0",
      "model_name": "HBoxModel",
      "state": {
       "children": [
        "IPY_MODEL_3b31393515a84a8cab102a293969eeff"
       ],
       "layout": "IPY_MODEL_02308525e6db4cb483fe1d56a6884507"
      }
     },
     "f205d0432be64899b3a337466649dd98": {
      "model_module": "@jupyter-widgets/controls",
      "model_module_version": "1.5.0",
      "model_name": "SliderStyleModel",
      "state": {
       "description_width": ""
      }
     },
     "f29b9fdd667240888188472a1cbc3d84": {
      "model_module": "@jupyter-widgets/base",
      "model_module_version": "1.2.0",
      "model_name": "LayoutModel",
      "state": {
       "width": "100%"
      }
     },
     "f2b4a951b6514939aec6ebdc69ed5bd7": {
      "model_module": "@jupyter-widgets/controls",
      "model_module_version": "1.5.0",
      "model_name": "HBoxModel",
      "state": {
       "children": [
        "IPY_MODEL_71a5c2b3e6dd454aa68b189b4d91c424",
        "IPY_MODEL_8961c9c9539b49cab455e48159c40d45"
       ],
       "layout": "IPY_MODEL_75ac6b85be5740a5bddddf6db23d41e6"
      }
     },
     "f309e72b5cd74d91ae4b0155b4492527": {
      "model_module": "@jupyter-widgets/controls",
      "model_module_version": "1.5.0",
      "model_name": "SliderStyleModel",
      "state": {
       "description_width": ""
      }
     },
     "f31ffbfd163b4292b1824edeee11a610": {
      "model_module": "@jupyter-widgets/base",
      "model_module_version": "1.2.0",
      "model_name": "LayoutModel",
      "state": {
       "width": "100%"
      }
     },
     "f36c1749ea5b495d9f4834ad9d37fba8": {
      "model_module": "@jupyter-widgets/controls",
      "model_module_version": "1.5.0",
      "model_name": "HBoxModel",
      "state": {
       "children": [
        "IPY_MODEL_bbd3d79ef6f64fd280aa6854e38185a5",
        "IPY_MODEL_0838bb7d61ce4291940dc00955551143"
       ],
       "layout": "IPY_MODEL_f536292e3b9f4a15bac396f2c754adef"
      }
     },
     "f47c4c5e0794430b861bf99eb73a5bd8": {
      "model_module": "@jupyter-widgets/controls",
      "model_module_version": "1.5.0",
      "model_name": "FloatSliderModel",
      "state": {
       "description": "δ<sup>34</sup>S<sub>SO4, 0</sub>",
       "layout": "IPY_MODEL_1b45324fddbe4039816ebbbe9eff98ce",
       "max": 30,
       "step": 0.1,
       "style": "IPY_MODEL_d2d960e51f5a40c6abc3e02d75341749",
       "value": 23
      }
     },
     "f536292e3b9f4a15bac396f2c754adef": {
      "model_module": "@jupyter-widgets/base",
      "model_module_version": "1.2.0",
      "model_name": "LayoutModel",
      "state": {}
     },
     "f5e7ac4572b44ba88b18fd0582418d49": {
      "model_module": "@jupyter-widgets/controls",
      "model_module_version": "1.5.0",
      "model_name": "HBoxModel",
      "state": {
       "children": [
        "IPY_MODEL_b960bdab97884f09971aeea7bd3f060f",
        "IPY_MODEL_59cda4af83904b1bad697262b233ceaf"
       ],
       "layout": "IPY_MODEL_1372e147bac04e2fb6192225f20bac51"
      }
     },
     "f5ebafd8c63d44cb9f251d0ebcf06969": {
      "model_module": "@jupyter-widgets/base",
      "model_module_version": "1.2.0",
      "model_name": "LayoutModel",
      "state": {
       "width": "100%"
      }
     },
     "f6d61b6f072f4e5fbcd257815bbd2766": {
      "model_module": "@jupyter-widgets/controls",
      "model_module_version": "1.5.0",
      "model_name": "FloatRangeSliderModel",
      "state": {
       "_model_name": "FloatRangeSliderModel",
       "_view_name": "FloatRangeSliderView",
       "description": "k<sub>MSR</sub>",
       "layout": "IPY_MODEL_a3710e296c414995925281ef36cd15ad",
       "max": 40,
       "step": 0.1,
       "style": "IPY_MODEL_4a8159d289d14273819cd0eef71e9d25",
       "value": [
        8,
        10
       ]
      }
     },
     "f71aade40e034aa2b78e80d24de23615": {
      "model_module": "@jupyter-widgets/controls",
      "model_module_version": "1.5.0",
      "model_name": "HBoxModel",
      "state": {
       "children": [
        "IPY_MODEL_11c87e3836794a90984020634d95ee80",
        "IPY_MODEL_42e60f3c2a1240aab78df9887e77ac4c",
        "IPY_MODEL_92485ea6b9f942de9ba5a016d426414b"
       ],
       "layout": "IPY_MODEL_5a0d672ce6f04099b2eec7a7a86d70b8"
      }
     },
     "f767b97e54984620aeabd992472a23b9": {
      "model_module": "@jupyter-widgets/controls",
      "model_module_version": "1.5.0",
      "model_name": "SliderStyleModel",
      "state": {
       "description_width": ""
      }
     },
     "f7efa3008b254d089374e3cb36711b30": {
      "model_module": "@jupyter-widgets/base",
      "model_module_version": "1.2.0",
      "model_name": "LayoutModel",
      "state": {}
     },
     "f8fd6a06d45245cc9f0c1815c8afa2b6": {
      "model_module": "@jupyter-widgets/controls",
      "model_module_version": "1.5.0",
      "model_name": "SliderStyleModel",
      "state": {
       "description_width": ""
      }
     },
     "f92d016516a64ef59efb3e50e84ed2a0": {
      "model_module": "@jupyter-widgets/controls",
      "model_module_version": "1.5.0",
      "model_name": "HBoxModel",
      "state": {
       "children": [
        "IPY_MODEL_9068b7a974834fcc8515c86d1159c8be",
        "IPY_MODEL_e3657abd21104e4f96a028b070486986"
       ],
       "layout": "IPY_MODEL_79a51b32e6f04c3385d73da7293f16b0"
      }
     },
     "f9b2408833034d2d9069c3a4b6a61a8a": {
      "model_module": "@jupyter-widgets/controls",
      "model_module_version": "1.5.0",
      "model_name": "DescriptionStyleModel",
      "state": {
       "description_width": ""
      }
     },
     "f9d58d3082af41c299e2ac7217c1f226": {
      "model_module": "@jupyter-widgets/controls",
      "model_module_version": "1.5.0",
      "model_name": "FloatSliderModel",
      "state": {
       "description": "ε<sub>MSR</sub>",
       "layout": "IPY_MODEL_528d8b5403c44005bce7f4885bf1d416",
       "style": "IPY_MODEL_e5cf8aa5aa0749f79fe91bc9195d8ecc",
       "value": 54
      }
     },
     "f9da8f75d1254b48901315de7d6f062b": {
      "model_module": "@jupyter-widgets/controls",
      "model_module_version": "1.5.0",
      "model_name": "SliderStyleModel",
      "state": {
       "description_width": ""
      }
     },
     "fa614ce025e247f5827d1c425cf8bb33": {
      "model_module": "@jupyter-widgets/base",
      "model_module_version": "1.2.0",
      "model_name": "LayoutModel",
      "state": {}
     },
     "fb059a61ebb542ba8a9670ac34356b6f": {
      "model_module": "@jupyter-widgets/controls",
      "model_module_version": "1.5.0",
      "model_name": "VBoxModel",
      "state": {
       "children": [
        "IPY_MODEL_7fe393a16f674b5b877518a56a5dbe1d",
        "IPY_MODEL_732d4877fd694712a805d66c3dcf9d83",
        "IPY_MODEL_55232c8a1a4c47969687b39c177f6e74",
        "IPY_MODEL_4f044a49ef244bdba4bf7e106d1964e1",
        "IPY_MODEL_4b143a8493e04ba6aa0de6673a0faaa6",
        "IPY_MODEL_1c66e3558a0542f8a8506363f183a8c1",
        "IPY_MODEL_d4a4212bc9f04c3aaa19d362779e006a"
       ],
       "layout": "IPY_MODEL_a88f1cd8563b4aaeaefd944470812c30"
      }
     },
     "fb451ae628424b3b9938e75723268e6c": {
      "model_module": "@jupyter-widgets/controls",
      "model_module_version": "1.5.0",
      "model_name": "FloatSliderModel",
      "state": {
       "description": "δ<sup>34</sup>S<sub>SO4, 0</sub>",
       "layout": "IPY_MODEL_f5ebafd8c63d44cb9f251d0ebcf06969",
       "max": 30,
       "step": 0.1,
       "style": "IPY_MODEL_044ad8b59f2a43888d1e84aae9013384",
       "value": 23
      }
     },
     "fbcec682305541d2bb0e034759e12921": {
      "model_module": "@jupyter-widgets/controls",
      "model_module_version": "1.5.0",
      "model_name": "FloatSliderModel",
      "state": {
       "description": "Marker Size",
       "layout": "IPY_MODEL_017c17375a2e4f42b96cfb9b829b8436",
       "max": 20,
       "step": 0.1,
       "style": "IPY_MODEL_c2a940669eec4992a930db63b6482d13",
       "value": 6
      }
     },
     "fbd2f2ca2e394170a7499ff16648b570": {
      "model_module": "@jupyter-widgets/controls",
      "model_module_version": "1.5.0",
      "model_name": "FloatSliderModel",
      "state": {
       "description": "[FeS<sub>2</sub>]<sub>0</sub>",
       "layout": "IPY_MODEL_56aced4df9294818bd5b515e4c72e3cf",
       "max": 1,
       "step": 0.0025,
       "style": "IPY_MODEL_35de7c2b028047bdae9266e0541a976a",
       "value": 0.16
      }
     },
     "fc3b7a05c5774593a9e5e6959a03d7c2": {
      "model_module": "@jupyter-widgets/controls",
      "model_module_version": "1.5.0",
      "model_name": "FloatRangeSliderModel",
      "state": {
       "_model_name": "FloatRangeSliderModel",
       "_view_name": "FloatRangeSliderView",
       "description": "ε<sub>MSR</sub>",
       "layout": "IPY_MODEL_004088ecd59544e887d6248fff19aa22",
       "style": "IPY_MODEL_2714777ec1aa4d1bbc47af80594ca3be",
       "value": [
        54,
        54
       ]
      }
     },
     "fc472485a15345febab34dd8b86a0fc6": {
      "model_module": "@jupyter-widgets/controls",
      "model_module_version": "1.5.0",
      "model_name": "VBoxModel",
      "state": {
       "children": [
        "IPY_MODEL_a3c66d7980ff411bb0d7d69d778720d2",
        "IPY_MODEL_30ac88aa0cc84196b8ebe3909b797ec1",
        "IPY_MODEL_7671965c3bfa45959e77d36a7f5d7208",
        "IPY_MODEL_8902fa650a574b5a9fd68c2b1db76b26",
        "IPY_MODEL_f36c1749ea5b495d9f4834ad9d37fba8",
        "IPY_MODEL_d59b4484f54d42fe86e7ae0ca92ff1ea"
       ],
       "layout": "IPY_MODEL_3deb601b9d76430c8b25597c95222a20"
      }
     },
     "fcbc57e2aa5649d2a23338f7300850a5": {
      "model_module": "@jupyter-widgets/controls",
      "model_module_version": "1.5.0",
      "model_name": "SliderStyleModel",
      "state": {
       "description_width": ""
      }
     },
     "fde2b27481764f69a69d55d85c01ca85": {
      "model_module": "@jupyter-widgets/base",
      "model_module_version": "1.2.0",
      "model_name": "LayoutModel",
      "state": {
       "width": "100%"
      }
     },
     "fe54d510b4c54d3298c5cdbad3a88b90": {
      "model_module": "@jupyter-widgets/controls",
      "model_module_version": "1.5.0",
      "model_name": "VBoxModel",
      "state": {
       "children": [
        "IPY_MODEL_5e35da454c0b44468132f6f990705a1d",
        "IPY_MODEL_69852de3f03642d0b4120f0b3a226676",
        "IPY_MODEL_2e5de08a432346d7a1ac2c28d2c1c163",
        "IPY_MODEL_9a0a022952414505a2f35558cf927c63",
        "IPY_MODEL_22e1f8e610aa4f389312f4e343b180aa",
        "IPY_MODEL_0695b11999014ab1bb52711cbfae5c10",
        "IPY_MODEL_f71aade40e034aa2b78e80d24de23615"
       ],
       "layout": "IPY_MODEL_2bdce9ef987049d985c211419af919fd"
      }
     },
     "ff3958d16a6d4e22b4191dfb6abaa03b": {
      "model_module": "@jupyter-widgets/base",
      "model_module_version": "1.2.0",
      "model_name": "LayoutModel",
      "state": {}
     },
     "ff89d625d0404cd8b3e78120dab23d10": {
      "model_module": "@jupyter-widgets/controls",
      "model_module_version": "1.5.0",
      "model_name": "DescriptionStyleModel",
      "state": {
       "description_width": ""
      }
     },
     "ffd6dfdef7844831a42ec4fac0a0cbb8": {
      "model_module": "@jupyter-widgets/output",
      "model_module_version": "1.0.0",
      "model_name": "OutputModel",
      "state": {
       "layout": "IPY_MODEL_5952a965c1c24e4b88896b7adc7efc37",
       "outputs": [
        {
         "data": {
          "text/html": "<div>\n<style scoped>\n    .dataframe tbody tr th:only-of-type {\n        vertical-align: middle;\n    }\n\n    .dataframe tbody tr th {\n        vertical-align: top;\n    }\n\n    .dataframe thead th {\n        text-align: right;\n    }\n</style>\n<table border=\"1\" class=\"dataframe\">\n  <thead>\n    <tr style=\"text-align: right;\">\n      <th></th>\n      <th>10</th>\n    </tr>\n  </thead>\n  <tbody>\n    <tr>\n      <th>SO4_0</th>\n      <td>0.010500</td>\n    </tr>\n    <tr>\n      <th>py_0</th>\n      <td>0.160000</td>\n    </tr>\n    <tr>\n      <th>d34S_SO4_0</th>\n      <td>23.000000</td>\n    </tr>\n    <tr>\n      <th>epsilon_MSR</th>\n      <td>54.000000</td>\n    </tr>\n    <tr>\n      <th>k_MSR</th>\n      <td>10.000000</td>\n    </tr>\n    <tr>\n      <th>v</th>\n      <td>0.091490</td>\n    </tr>\n    <tr>\n      <th>D_32</th>\n      <td>0.200000</td>\n    </tr>\n    <tr>\n      <th>beta</th>\n      <td>0.025000</td>\n    </tr>\n    <tr>\n      <th>py</th>\n      <td>0.243818</td>\n    </tr>\n    <tr>\n      <th>d34S</th>\n      <td>-21.645498</td>\n    </tr>\n  </tbody>\n</table>\n</div>",
          "text/plain": "                    10\nSO4_0         0.010500\npy_0          0.160000\nd34S_SO4_0   23.000000\nepsilon_MSR  54.000000\nk_MSR        10.000000\nv             0.091490\nD_32          0.200000\nbeta          0.025000\npy            0.243818\nd34S        -21.645498"
         },
         "metadata": {},
         "output_type": "display_data"
        }
       ]
      }
     }
    },
    "version_major": 2,
    "version_minor": 0
   }
  }
 },
 "nbformat": 4,
 "nbformat_minor": 4
}
