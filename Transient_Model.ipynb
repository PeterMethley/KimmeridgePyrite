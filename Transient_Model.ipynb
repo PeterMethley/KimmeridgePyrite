{
 "cells": [
  {
   "cell_type": "markdown",
   "metadata": {},
   "source": [
    "# Transient Model\n",
    "This model aims to simulate the sulphate and pyrite concentrations and isotopic compositions in the sediment after a long period of stasis, after which a large pile of sediment is dumped on top and the evolution is monitored. Requires the `py-pde` package."
   ]
  },
  {
   "cell_type": "markdown",
   "metadata": {},
   "source": [
    "### Imports and Definitions"
   ]
  },
  {
   "cell_type": "code",
   "execution_count": 1,
   "metadata": {},
   "outputs": [],
   "source": [
    "import numpy as np\n",
    "import pandas as pd\n",
    "import ipywidgets as wdg\n",
    "from IPython.display import display\n",
    "from plotly_default import go, graph_config, sel_trace\n",
    "from plotly.subplots import make_subplots\n",
    "import pde"
   ]
  },
  {
   "cell_type": "markdown",
   "metadata": {},
   "source": [
    "### Modelling Pyrite Formation as a Function of Depth and Time\n",
    "\n",
    "$$\n",
    "\\frac{\\partial [\\mathrm{SO}_4]}{\\partial t} = D \\nabla^2 [\\mathrm{SO}_4] - k_{MSR} [\\mathrm{SO}_4]\n",
    "$$\n",
    "$$\n",
    "\\frac{\\partial [\\mathrm{FeS}_2]}{\\partial t} = k_{MSR} [\\mathrm{SO}_4]\n",
    "$$"
   ]
  },
  {
   "cell_type": "code",
   "execution_count": 2,
   "metadata": {},
   "outputs": [],
   "source": [
    "# Create a 1D grid\n",
    "n_points = 60\n",
    "grid = pde.CartesianGrid([[-1.5,0]], [n_points], periodic=[False])\n",
    "\n",
    "# Set up memory to store PDE results\n",
    "state_storage = pde.MemoryStorage()"
   ]
  },
  {
   "cell_type": "code",
   "execution_count": 3,
   "metadata": {},
   "outputs": [],
   "source": [
    "# Define the PDEs for the general diagenetic equation\n",
    "\n",
    "class DiageneticEqs(pde.PDEBase):\n",
    "    \"\"\"General Diagenetic Equations modelling sulphate to pyrite conversion\"\"\"\n",
    "    \n",
    "    def __init__(self, SO4_0=0.0105, d34S_SO4_0=23, epsilon_MSR=54, D_SO4=0.2, k_MSR=10):\n",
    "        self.SO4_0 = SO4_0\n",
    "        self.d34S_SO4_0 = d34S_SO4_0\n",
    "        self.epsilon_MSR = epsilon_MSR\n",
    "        self.D_SO4 = D_SO4\n",
    "        self.k_MSR = k_MSR\n",
    "\n",
    "        # Define boundary conditions: [lower, upper]\n",
    "        self.SO4_bcs = [[{'derivative': 0}, {'value': self.SO4_0}]]\n",
    "        \n",
    "    def evolution_rate(self, state, t=0):\n",
    "        SO4, py = state\n",
    "\n",
    "        SO4_t = self.D_SO4 * SO4.laplace(self.SO4_bcs) - self.k_MSR * SO4\n",
    "        py_t = 0.5 * self.k_MSR * SO4\n",
    "        \n",
    "        return pde.FieldCollection([SO4_t, py_t])\n",
    "        \n",
    "        \n",
    "    # (BROKEN) Precompiled functions to improve performance\n",
    "    # def _make_pde_rhs_numba(self, state):\n",
    "    #     D_SO4 = self.D_SO4\n",
    "    #     k_MSR = self.k_MSR\n",
    "\n",
    "    #     # create custom operators\n",
    "    #     laplace_SO4 = state.grid.make_operator(\"laplace\", bc=self.SO4_bcs)\n",
    "        \n",
    "    #     @pde.tools.numba.jit\n",
    "    #     def pde_rhs(state_data, t=0):\n",
    "    #         SO4, py = state_data\n",
    "            \n",
    "    #         SO4_t = D_SO4 * laplace_SO4(SO4) - k_MSR * SO4\n",
    "    #         py_t = 0.5 * k_MSR * SO4\n",
    "\n",
    "    #         return pde.FieldCollection([SO4_t, py_t])\n",
    "        \n",
    "    #     return pde_rhs\n",
    "        "
   ]
  },
  {
   "cell_type": "code",
   "execution_count": 4,
   "metadata": {},
   "outputs": [],
   "source": [
    "def set_up_pdes(SO4_0, d34S_SO4_0, epsilon_MSR, D_SO4, k_MSR):\n",
    "\n",
    "    # Set initial field values and boundary conditions for sulphate\n",
    "    # bcs = [{'derivative': 0}, {'value': SO4_0}]\n",
    "    SO4_field = pde.ScalarField(grid, [SO4_0]*n_points)\n",
    "\n",
    "    # For pyrite conc.\n",
    "    py_field = pde.ScalarField(grid, [0]*n_points)\n",
    "    \n",
    "    fields = pde.FieldCollection([SO4_field, py_field])\n",
    "    eqs = DiageneticEqs(SO4_0, d34S_SO4_0, epsilon_MSR, D_SO4, k_MSR)\n",
    "\n",
    "    # # Specify the equation\n",
    "    # consts = {'D_SO4': D_SO4,\n",
    "    #         'k_MSR': k_MSR}\n",
    "\n",
    "    # eq = pde.PDE({'SO4': 'D_SO4*laplace(SO4) - k_MSR*SO4',\n",
    "    #             'py': 'k_MSR*SO4'},\n",
    "    #             bc=bcs, consts=consts)\n",
    "    \n",
    "    return fields, eqs"
   ]
  },
  {
   "cell_type": "code",
   "execution_count": 5,
   "metadata": {},
   "outputs": [],
   "source": [
    "def solve_pdes(SO4_0=0.0105, d34S_SO4_0=23, epsilon_MSR=54, D_SO4=0.2, k_MSR=10):\n",
    "    \n",
    "    # print(f'Solving with: {SO4_0=}, {D_SO4=}, {k_MSR=}', end='')\n",
    "\n",
    "    fields, eqs = set_up_pdes(SO4_0, d34S_SO4_0, epsilon_MSR, D_SO4, k_MSR)\n",
    "    \n",
    "    # Reset the storage\n",
    "    state_storage = pde.MemoryStorage()\n",
    "\n",
    "    eqs.solve(fields, t_range=1, dt=1e-3, tracker=state_storage.tracker(1e-2))\n",
    "    \n",
    "    return state_storage "
   ]
  },
  {
   "cell_type": "code",
   "execution_count": 6,
   "metadata": {},
   "outputs": [],
   "source": [
    "def create_sliders(file='./Controls/Transient_params_v1.csv', prefix='w', n_cols=2):\n",
    "    w_df = pd.read_csv(file)\n",
    "    w_dict = {}\n",
    "\n",
    "    for w in w_df.iterrows():\n",
    "\n",
    "        # Make a new variable for each widget\n",
    "        vars()[prefix+'_'+w[1].var_name] = wdg.FloatSlider(value = w[1].value,\n",
    "                                                     min = w[1].start,\n",
    "                                                     max = w[1].stop,\n",
    "                                                     step = w[1].step,\n",
    "                                                     description = w[1].display_name,\n",
    "                                                     layout=wdg.Layout(width='100%')\n",
    "                                                    )\n",
    "\n",
    "        # Add to a dictionary of original variables and widgets\n",
    "        w_dict[w[1].var_name] = vars()[prefix+'_'+w[1].var_name]\n",
    "        \n",
    "    # Arrange widgets into HBoxes and VBoxes\n",
    "    box_list = []\n",
    "    w_list = list(w_dict.values())\n",
    "    \n",
    "    for i in range(0, len(w_dict), n_cols):\n",
    "        box_list.append(wdg.HBox(w_list[i:i+n_cols]))\n",
    "    \n",
    "    return w_dict, wdg.VBox(box_list)"
   ]
  },
  {
   "cell_type": "code",
   "execution_count": 7,
   "metadata": {},
   "outputs": [],
   "source": [
    "def create_depth_plot():\n",
    "    zs = grid.coordinate_arrays[0]\n",
    "\n",
    "    plot = go.FigureWidget(make_subplots(rows=1, cols=2, shared_yaxes=True, horizontal_spacing=0.01))\n",
    "    plot.add_trace(go.Scatter(y=zs, name='[SO<sub>4</sub>]', marker_color='RoyalBlue', mode='lines'), row=1, col=1)\n",
    "    plot.add_trace(go.Scatter(y=zs, name='[FeS<sub>2</sub>]', marker_color='MediumSeaGreen', mode='lines'), row=1, col=1)\n",
    "    # plot.add_trace(go.Scatter(y=zs, name='δ<sup>34</sup>S<sub>SO4</sub>', marker_color='Navy', mode='lines'), row=1, col=2)\n",
    "    # plot.add_trace(go.Scatter(y=zs, name='δ<sup>34</sup>S<sub>py</sub>', marker_color='DarkGreen', mode='lines'), row=1, col=2)\n",
    "\n",
    "    plot.update_layout(\n",
    "        yaxis=dict(title='Depth, <i>z</i> / m'),\n",
    "        xaxis_rangemode = 'tozero',\n",
    "        hovermode='y',\n",
    "        margin=dict(t=60),\n",
    "        width=1000, height=600\n",
    "        )\n",
    "\n",
    "    plot.update_xaxes(title_text='Concentration / mol dm<sup>−3</sup>', row=1, col=1)\n",
    "    plot.update_xaxes(title_text='δ<sup>34</sup>S (‰)', row=1, col=2)\n",
    "\n",
    "    return plot\n",
    "\n",
    "def pde_plot(time):\n",
    "    with depth_plot.batch_update():\n",
    "        \n",
    "        t_slice = state_storage[time]\n",
    "        \n",
    "        SO4_tr = depth_plot.select_traces({'name': '[SO<sub>4</sub>]'}).__next__()\n",
    "        SO4_tr.x = t_slice[0].data\n",
    "        \n",
    "        py_tr = depth_plot.select_traces({'name': '[FeS<sub>2</sub>]'}).__next__()\n",
    "        py_tr.x = t_slice[1].data"
   ]
  },
  {
   "cell_type": "code",
   "execution_count": 10,
   "metadata": {},
   "outputs": [],
   "source": [
    "w_dict, sliders = create_sliders()\n",
    "\n",
    "depth_plot = create_depth_plot()\n",
    "\n",
    "play = wdg.Play(value=0, min=0, max=100, step=1, interval=200)\n",
    "time_slider = wdg.IntSlider(value=0, min=0, max=100, step=1, layout=wdg.Layout(width='100%'))\n",
    "wdg.jslink((play, 'value'), (time_slider, 'value'))\n",
    "\n",
    "\n",
    "run_button = wdg.Button(description='Run Model')\n",
    "out = wdg.Output()\n",
    "\n",
    "def button_click(b):\n",
    "    out.clear_output()\n",
    "    with out:\n",
    "        print('Processing...  ', end='')\n",
    "        pde_args = {par: slider.value for par, slider in w_dict.items()}\n",
    "        globals()['state_storage'] = solve_pdes(**pde_args)\n",
    "        \n",
    "        # Refresh the graph\n",
    "        pde_plot(time_slider.value)\n",
    "        print('Done!', end='')\n",
    "        \n",
    "run_button.on_click(button_click)"
   ]
  },
  {
   "cell_type": "code",
   "execution_count": 11,
   "metadata": {},
   "outputs": [
    {
     "data": {
      "application/vnd.jupyter.widget-view+json": {
       "model_id": "789e53be966b44e6baa49f0b37e398d8",
       "version_major": 2,
       "version_minor": 0
      },
      "text/plain": [
       "VBox(children=(VBox(children=(HBox(children=(FloatSlider(value=0.0105, description='[SO<sub>4</sub>]<sub>0</su…"
      ]
     },
     "metadata": {},
     "output_type": "display_data"
    }
   ],
   "source": [
    "wdg.interactive(pde_plot, time=time_slider)\n",
    "\n",
    "wdg.VBox([\n",
    "    sliders, \n",
    "    wdg.HBox([run_button, out]),\n",
    "    wdg.HBox([play, time_slider]),\n",
    "    depth_plot\n",
    "])"
   ]
  },
  {
   "cell_type": "code",
   "execution_count": null,
   "metadata": {},
   "outputs": [],
   "source": []
  }
 ],
 "metadata": {
  "interpreter": {
   "hash": "69d7d40400c191ad75d8561ec1d96d7e1fb1c7390f537b7838a90b280324d30d"
  },
  "kernelspec": {
   "display_name": "Python 3.9.7 ('CarbChem')",
   "language": "python",
   "name": "python3"
  },
  "language_info": {
   "codemirror_mode": {
    "name": "ipython",
    "version": 3
   },
   "file_extension": ".py",
   "mimetype": "text/x-python",
   "name": "python",
   "nbconvert_exporter": "python",
   "pygments_lexer": "ipython3",
   "version": "3.9.7"
  },
  "orig_nbformat": 4
 },
 "nbformat": 4,
 "nbformat_minor": 2
}
