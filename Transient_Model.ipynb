{
 "cells": [
  {
   "cell_type": "markdown",
   "metadata": {},
   "source": [
    "# Transient Model\n",
    "This model aims to simulate the sulphate and pyrite concentrations and isotopic compositions in the sediment after a long period of stasis, after which a large pile of sediment is dumped on top and the evolution is monitored. Requires the `py-pde` package."
   ]
  },
  {
   "cell_type": "markdown",
   "metadata": {},
   "source": [
    "### Imports and Definitions"
   ]
  },
  {
   "cell_type": "code",
   "execution_count": 1,
   "metadata": {},
   "outputs": [],
   "source": [
    "import numpy as np\n",
    "import pandas as pd\n",
    "import ipywidgets as wdg\n",
    "from IPython.display import display\n",
    "from plotly_default import go, graph_config, sel_trace\n",
    "from plotly.subplots import make_subplots\n",
    "import pde"
   ]
  },
  {
   "cell_type": "code",
   "execution_count": 2,
   "metadata": {},
   "outputs": [],
   "source": [
    "# Conversion between isotope ratios and delta notation\n",
    "\n",
    "VCDT = 0.0441626 # vienna canyon diablo troilite standard 34S/32S ratio\n",
    "\n",
    "def delta_to_R(delta, std=VCDT):\n",
    "    '''Takes in a d34S; outputs a 34S/32S ratio'''\n",
    "    return std * ((delta/1000) + 1)\n",
    "\n",
    "def R_to_delta(R, std=VCDT):\n",
    "    '''Takes in a 34S/32S ratio; outputs the d34S'''\n",
    "    return 1000*((R/std) - 1)\n",
    "\n",
    "def wt_to_M(wt, Mr=55.845, density=1.7):\n",
    "    '''Converts a weight percent of a substance with molar mass Mr (default iron) into a molar concentration\n",
    "    in a sediment of specified density (default 1.7 g/cm³)'''\n",
    "    # g/dm³  = 1000 * g/cm³ = 1000 * density * wt% / 100 = 10 * density * wt%\n",
    "    return 10. * density * wt / Mr\n",
    "\n",
    "def M_to_wt(M, Mr=55.845, density=1.7):\n",
    "    return M * Mr / (10. * density)\n",
    "\n",
    "def ratio_to_concs(R, C):\n",
    "    '''Takes a ratio of two concentrations R = a/b\n",
    "    and a total concentration C = a + b\n",
    "    and returns an (a, b) tuple'''\n",
    "    return (C/(1 + 1/R) , C/(1+R))\n",
    "\n",
    "# The number of seconds in 1 thousand years\n",
    "s_in_ka = 1000 * 365.24 * 24 * 60 * 60"
   ]
  },
  {
   "cell_type": "markdown",
   "metadata": {},
   "source": [
    "### Modelling Pyrite Formation as a Function of Depth and Time\n",
    "\n",
    "$$\n",
    "\\frac{\\partial [\\mathrm{SO}_4]}{\\partial t} = D \\nabla^2 [\\mathrm{SO}_4] - k_{MSR} [\\mathrm{SO}_4]\n",
    "$$\n",
    "$$\n",
    "\\frac{\\partial [\\mathrm{FeS}_2]}{\\partial t} = k_{MSR} [\\mathrm{SO}_4]\n",
    "$$"
   ]
  },
  {
   "cell_type": "code",
   "execution_count": 3,
   "metadata": {},
   "outputs": [],
   "source": [
    "# Create a 1D grid\n",
    "n_points = 60\n",
    "grid = pde.CartesianGrid([[-1.5,0]], [n_points], periodic=[False])\n",
    "\n",
    "# Set up memory to store PDE results\n",
    "state_storage = pde.MemoryStorage()"
   ]
  },
  {
   "cell_type": "code",
   "execution_count": 4,
   "metadata": {},
   "outputs": [],
   "source": [
    "# Define the PDEs for the general diagenetic equation\n",
    "\n",
    "class DiageneticEqs(pde.PDEBase):\n",
    "    \"\"\"General Diagenetic Equations modelling sulphate to pyrite conversion\"\"\"\n",
    "    \n",
    "    def __init__(self, SO4_0=0.0105, d34S_SO4_0=23, epsilon_MSR=54, D_SO4=0.2, k_MSR=10):\n",
    "        # self.SO4_0 = SO4_0\n",
    "        # self.d34S_SO4_0 = d34S_SO4_0\n",
    "        # self.epsilon_MSR = epsilon_MSR\n",
    "        self.D_SO4 = D_SO4\n",
    "        self.k_MSR = k_MSR\n",
    "        \n",
    "        R_SO4_0 = delta_to_R(d34S_SO4_0)\n",
    "        self.SO4_34_0 , self.SO4_32_0 = ratio_to_concs(R_SO4_0, SO4_0)\n",
    "        # py_34_0  , py_32_0  = ratio_to_concs(R_py_0, py_0)\n",
    "        \n",
    "        self.a_MSR = delta_to_R(d34S_SO4_0 - epsilon_MSR)/R_SO4_0 # MSR fractionation factor\n",
    "\n",
    "        # Define boundary conditions: [lower, upper]\n",
    "        self.SO4_32_bcs = [[{'derivative': 0}, {'value': self.SO4_32_0}]]\n",
    "        self.SO4_34_bcs = [[{'derivative': 0}, {'value': self.SO4_34_0}]]\n",
    "        \n",
    "    def evolution_rate(self, state, t=0):\n",
    "        SO4_34, SO4_32, py_34, py_32 = state\n",
    "        \n",
    "        py_34_t = 0.5 * self.k_MSR * (SO4_34**2 + SO4_32*SO4_34)/((1/self.a_MSR)*SO4_32 + SO4_34)\n",
    "        py_32_t = 0.5 * self.k_MSR * (SO4_32**2 + SO4_32*SO4_34)/(self.a_MSR*SO4_32 + SO4_34)\n",
    "\n",
    "        SO4_34_t = self.D_SO4 * SO4_34.laplace(self.SO4_34_bcs) - 2 * py_34_t\n",
    "        SO4_32_t = self.D_SO4 * SO4_32.laplace(self.SO4_32_bcs) - 2 * py_32_t\n",
    "        \n",
    "        return pde.FieldCollection([SO4_34_t, SO4_32_t, py_34_t, py_32_t])\n",
    "        \n",
    "        "
   ]
  },
  {
   "cell_type": "code",
   "execution_count": 5,
   "metadata": {},
   "outputs": [],
   "source": [
    "def set_up_pdes(SO4_0, d34S_SO4_0, epsilon_MSR, D_SO4, k_MSR):\n",
    "\n",
    "    eqs = DiageneticEqs(SO4_0, d34S_SO4_0, epsilon_MSR, D_SO4, k_MSR)\n",
    "    \n",
    "    # Set initial field values for sulphate\n",
    "    # bcs = [{'derivative': 0}, {'value': SO4_0}]\n",
    "    SO4_34_field = pde.ScalarField(grid, [eqs.SO4_34_0]*n_points)\n",
    "    SO4_32_field = pde.ScalarField(grid, [eqs.SO4_32_0]*n_points)\n",
    "\n",
    "    # For pyrite conc.\n",
    "    py_34_field = pde.ScalarField(grid, [0]*n_points)\n",
    "    py_32_field = pde.ScalarField(grid, [0]*n_points)\n",
    "    \n",
    "    fields = pde.FieldCollection([SO4_34_field, SO4_32_field, py_34_field, py_32_field])\n",
    "    \n",
    "    return fields, eqs"
   ]
  },
  {
   "cell_type": "code",
   "execution_count": 6,
   "metadata": {},
   "outputs": [],
   "source": [
    "def solve_pdes(SO4_0=0.0105, d34S_SO4_0=23, epsilon_MSR=54, D_SO4=0.2, k_MSR=10):\n",
    "    \n",
    "    # print(f'Solving with: {SO4_0=}, {D_SO4=}, {k_MSR=}', end='')\n",
    "\n",
    "    fields, eqs = set_up_pdes(SO4_0, d34S_SO4_0, epsilon_MSR, D_SO4, k_MSR)\n",
    "    \n",
    "    # Reset the storage\n",
    "    state_storage = pde.MemoryStorage()\n",
    "\n",
    "    eqs.solve(fields, t_range=1, dt=1e-3, tracker=state_storage.tracker(1e-2))\n",
    "    \n",
    "    return state_storage "
   ]
  },
  {
   "cell_type": "code",
   "execution_count": 7,
   "metadata": {},
   "outputs": [],
   "source": [
    "def create_sliders(file='./Controls/Transient_params_v1.csv', prefix='w', n_cols=2):\n",
    "    w_df = pd.read_csv(file)\n",
    "    w_dict = {}\n",
    "\n",
    "    for w in w_df.iterrows():\n",
    "\n",
    "        # Make a new variable for each widget\n",
    "        vars()[prefix+'_'+w[1].var_name] = wdg.FloatSlider(value = w[1].value,\n",
    "                                                     min = w[1].start,\n",
    "                                                     max = w[1].stop,\n",
    "                                                     step = w[1].step,\n",
    "                                                     description = w[1].display_name,\n",
    "                                                     layout=wdg.Layout(width='100%')\n",
    "                                                    )\n",
    "\n",
    "        # Add to a dictionary of original variables and widgets\n",
    "        w_dict[w[1].var_name] = vars()[prefix+'_'+w[1].var_name]\n",
    "        \n",
    "    # Arrange widgets into HBoxes and VBoxes\n",
    "    box_list = []\n",
    "    w_list = list(w_dict.values())\n",
    "    \n",
    "    for i in range(0, len(w_dict), n_cols):\n",
    "        box_list.append(wdg.HBox(w_list[i:i+n_cols]))\n",
    "    \n",
    "    return w_dict, wdg.VBox(box_list)"
   ]
  },
  {
   "cell_type": "code",
   "execution_count": 62,
   "metadata": {},
   "outputs": [],
   "source": [
    "def calculate_delta(storage):\n",
    "    n_times = len(storage)\n",
    "    n_spaces = len(storage[0][0].data)\n",
    "    \n",
    "    # Initialise arrays for outputs\n",
    "    SO4 = np.empty((n_times, n_spaces))\n",
    "    py = np.empty((n_times, n_spaces))\n",
    "    d34S_SO4 = np.empty((n_times, n_spaces))\n",
    "    d34S_py = np.empty((n_times, n_spaces))\n",
    "    \n",
    "    # Array of nans for failed maths\n",
    "    fail_array = np.empty(n_spaces)\n",
    "    fail_array.fill(np.nan)\n",
    "    \n",
    "    for t, fieldcol in enumerate(storage):\n",
    "        SO4[t] = fieldcol[0].data + fieldcol[1].data\n",
    "        py[t] = fieldcol[2].data + fieldcol[3].data\n",
    "        \n",
    "        try:\n",
    "            d34S_SO4[t] = R_to_delta(fieldcol[0].data/fieldcol[1].data)\n",
    "        except FloatingPointError:\n",
    "            d34S_SO4[t] = fail_array\n",
    "\n",
    "        try:\n",
    "            d34S_py[t] = R_to_delta(fieldcol[2].data/fieldcol[3].data)\n",
    "        except FloatingPointError:\n",
    "            d34S_py[t] = fail_array\n",
    "        \n",
    "    return {'SO4': SO4, 'py': py, 'd34S_SO4': d34S_SO4, 'd34S_py': d34S_py}"
   ]
  },
  {
   "cell_type": "code",
   "execution_count": 71,
   "metadata": {},
   "outputs": [],
   "source": [
    "def create_depth_plot():\n",
    "    zs = grid.coordinate_arrays[0]\n",
    "\n",
    "    plot = go.FigureWidget(make_subplots(rows=1, cols=2, shared_yaxes=True, horizontal_spacing=0.01))\n",
    "    plot.add_trace(go.Scatter(y=zs, name='[SO<sub>4</sub>]', marker_color='RoyalBlue', mode='lines'), row=1, col=1)\n",
    "    plot.add_trace(go.Scatter(y=zs, name='[FeS<sub>2</sub>]', marker_color='MediumSeaGreen', mode='lines'), row=1, col=1)\n",
    "    plot.add_trace(go.Scatter(y=zs, name='δ<sup>34</sup>S<sub>SO4</sub>', marker_color='Navy', mode='lines'), row=1, col=2)\n",
    "    plot.add_trace(go.Scatter(y=zs, name='δ<sup>34</sup>S<sub>py</sub>', marker_color='DarkGreen', mode='lines'), row=1, col=2)\n",
    "\n",
    "    plot.update_layout(\n",
    "        yaxis=dict(title='Depth, <i>z</i> / m'),\n",
    "        xaxis_rangemode = 'tozero',\n",
    "        hovermode='y',\n",
    "        margin=dict(t=60),\n",
    "        width=1000, height=600\n",
    "        )\n",
    "\n",
    "    plot.update_xaxes(title_text='Concentration / mol dm<sup>−3</sup>', row=1, col=1)\n",
    "    plot.update_xaxes(title_text='δ<sup>34</sup>S (‰ VCDT)', row=1, col=2)\n",
    "\n",
    "    return plot\n",
    "\n",
    "def pde_plot(time):\n",
    "    with depth_plot.batch_update():\n",
    "        \n",
    "        SO4_tr = depth_plot.select_traces({'name': '[SO<sub>4</sub>]'}).__next__()\n",
    "        SO4_tr.x = processed_results['SO4'][time]\n",
    "        \n",
    "        py_tr = depth_plot.select_traces({'name': '[FeS<sub>2</sub>]'}).__next__()\n",
    "        py_tr.x = processed_results['py'][time]\n",
    "        \n",
    "        d_SO4_tr = depth_plot.select_traces({'name': 'δ<sup>34</sup>S<sub>SO4</sub>'}).__next__()\n",
    "        d_SO4_tr.x = processed_results['d34S_SO4'][time]\n",
    "        \n",
    "        d_py_tr = depth_plot.select_traces({'name': 'δ<sup>34</sup>S<sub>py</sub>'}).__next__()\n",
    "        d_py_tr.x = processed_results['d34S_py'][time]"
   ]
  },
  {
   "cell_type": "code",
   "execution_count": 72,
   "metadata": {},
   "outputs": [],
   "source": [
    "w_dict, sliders = create_sliders()\n",
    "\n",
    "depth_plot = create_depth_plot()\n",
    "\n",
    "play = wdg.Play(value=0, min=0, max=100, step=1, interval=200)\n",
    "time_slider = wdg.IntSlider(value=0, min=0, max=100, step=1, layout=wdg.Layout(width='100%'))\n",
    "wdg.jslink((play, 'value'), (time_slider, 'value'))\n",
    "\n",
    "\n",
    "run_button = wdg.Button(description='Run Model')\n",
    "out = wdg.Output()\n",
    "\n",
    "processed_results = {}\n",
    "\n",
    "def button_click(b):\n",
    "    out.clear_output()\n",
    "    with out:\n",
    "        print('Processing...  ', end='')\n",
    "        pde_args = {par: slider.value for par, slider in w_dict.items()}\n",
    "        globals()['state_storage'] = solve_pdes(**pde_args)\n",
    "        \n",
    "        # calculate total concentrations and d34S\n",
    "        globals()['processed_results'] = calculate_delta(state_storage)\n",
    "        \n",
    "        # Refresh the graph\n",
    "        pde_plot(time_slider.value)\n",
    "        print('Done!', end='')\n",
    "        \n",
    "run_button.on_click(button_click)"
   ]
  },
  {
   "cell_type": "code",
   "execution_count": 73,
   "metadata": {},
   "outputs": [
    {
     "data": {
      "application/vnd.jupyter.widget-view+json": {
       "model_id": "dde3672b503a4e18a11973898aebf67e",
       "version_major": 2,
       "version_minor": 0
      },
      "text/plain": [
       "VBox(children=(VBox(children=(HBox(children=(FloatSlider(value=0.0105, description='[SO<sub>4</sub>]<sub>0</su…"
      ]
     },
     "metadata": {},
     "output_type": "display_data"
    }
   ],
   "source": [
    "wdg.interactive(pde_plot, time=time_slider)\n",
    "\n",
    "wdg.VBox([\n",
    "    sliders, \n",
    "    wdg.HBox([run_button, out]),\n",
    "    wdg.HBox([play, time_slider]),\n",
    "    depth_plot\n",
    "])"
   ]
  }
 ],
 "metadata": {
  "interpreter": {
   "hash": "69d7d40400c191ad75d8561ec1d96d7e1fb1c7390f537b7838a90b280324d30d"
  },
  "kernelspec": {
   "display_name": "Python 3.9.7 ('CarbChem')",
   "language": "python",
   "name": "python3"
  },
  "language_info": {
   "codemirror_mode": {
    "name": "ipython",
    "version": 3
   },
   "file_extension": ".py",
   "mimetype": "text/x-python",
   "name": "python",
   "nbconvert_exporter": "python",
   "pygments_lexer": "ipython3",
   "version": "3.9.7"
  },
  "orig_nbformat": 4
 },
 "nbformat": 4,
 "nbformat_minor": 2
}
